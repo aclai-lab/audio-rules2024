{
 "cells": [
  {
   "cell_type": "code",
   "execution_count": 1,
   "metadata": {},
   "outputs": [],
   "source": [
    "using MLJ\n",
    "using MLJDecisionTreeInterface\n",
    "using Sole, SoleDecisionTreeInterface\n",
    "using CategoricalArrays\n",
    "using DataFrames, JLD2, CSV\n",
    "using StatsBase, Statistics\n",
    "using Catch22, Audio911"
   ]
  },
  {
   "cell_type": "markdown",
   "metadata": {},
   "source": [
    "### Open .jld2 file\n",
    "the file contains 504 samples of respiratory sound, labeled with 2 classes: healty and pneumonia"
   ]
  },
  {
   "cell_type": "code",
   "execution_count": 2,
   "metadata": {},
   "outputs": [],
   "source": [
    "ds_path = \"/home/paso/Documents/Aclai/audio-rules2024/datasets/respiratory_Healthy_Pneumonia\"\n",
    "\n",
    "d = jldopen(string(ds_path, \".jld2\"))\n",
    "x, y = d[\"dataframe_validated\"]\n",
    "@assert x isa DataFrame\n",
    "close(d)"
   ]
  },
  {
   "cell_type": "markdown",
   "metadata": {},
   "source": [
    "### Audio features extraction function\n",
    "This function is called for every audio sample and extract 51 features:\n",
    "26 bands of the mel spectrogram,\n",
    "13 coefficients of the mfcc\n",
    "12 spectral features: centroid, crest, entropy, f0, flatness, flux, kurtosis, rolloff, skewness, decrease, slope, spread"
   ]
  },
  {
   "cell_type": "code",
   "execution_count": 3,
   "metadata": {},
   "outputs": [
    {
     "data": {
      "text/plain": [
       "afe (generic function with 1 method)"
      ]
     },
     "metadata": {},
     "output_type": "display_data"
    }
   ],
   "source": [
    "nan_replacer!(x::AbstractArray{Float64}) = replace!(x, NaN => 0.0)\n",
    "\n",
    "function afe(x::AbstractVector{Float64})\n",
    "    # -------------------------------- parameters -------------------------------- #\n",
    "    # audio module\n",
    "    sr = 8000\n",
    "    norm = true\n",
    "    speech_detection = false\n",
    "    # stft module\n",
    "    stft_length = 256\n",
    "    win_type = (:hann, :periodic)\n",
    "    win_length = 256\n",
    "    overlap_length = 128\n",
    "    stft_norm = :power                      # :power, :magnitude, :pow2mag\n",
    "    # mel filterbank module\n",
    "    nbands = 26\n",
    "    scale = :mel_htk                        # :mel_htk, :mel_slaney, :erb, :bark\n",
    "    melfb_norm = :bandwidth                 # :bandwidth, :area, :none\n",
    "    freq_range = (300, round(Int, sr / 2))\n",
    "    # mel spectrogram module\n",
    "    db_scale = false\n",
    "    # mfcc module\n",
    "    ncoeffs = 13\n",
    "    rectification = :log                    # :log, :cubic_root\n",
    "    dither = true\n",
    "    # f0 module\n",
    "    method = :nfc\n",
    "    f0_range = (50, 400)\n",
    "\n",
    "    # --------------------------------- functions -------------------------------- #\n",
    "    # audio module\n",
    "    audio = load_audio(\n",
    "        file=x, \n",
    "        sr=sr, \n",
    "        norm=norm,\n",
    "    );\n",
    "\n",
    "    stftspec = get_stft(\n",
    "        audio=audio, \n",
    "        stft_length=stft_length,\n",
    "        win_type=win_type,\n",
    "        win_length=win_length,\n",
    "        overlap_length=overlap_length,\n",
    "        norm=stft_norm\n",
    "    );\n",
    "\n",
    "    # mel filterbank module\n",
    "    melfb = get_melfb(\n",
    "        stft=stftspec,\n",
    "        nbands=nbands,\n",
    "        scale=scale,\n",
    "        norm=melfb_norm,\n",
    "        freq_range=freq_range\n",
    "    );\n",
    "\n",
    "    # mel spectrogram module\n",
    "    melspec =  get_melspec(\n",
    "        stft=stftspec, \n",
    "        fbank=melfb,\n",
    "        db_scale=db_scale\n",
    "    );\n",
    "\n",
    "    # mfcc module\n",
    "    mfcc = get_mfcc(\n",
    "        source=melspec,\n",
    "        ncoeffs=ncoeffs,\n",
    "        rectification=rectification,\n",
    "        dither=dither,\n",
    "    );\n",
    "\n",
    "    # f0 module\n",
    "    f0 = get_f0(\n",
    "        source=stftspec,\n",
    "        method=method,\n",
    "        freq_range=f0_range\n",
    "    );\n",
    "\n",
    "    # spectral features module\n",
    "    spect = get_spectrals(\n",
    "        source=stftspec,\n",
    "        freq_range=freq_range\n",
    "    );\n",
    "\n",
    "    x_features = hcat(\n",
    "        melspec.spec',\n",
    "        mfcc.mfcc',\n",
    "        f0.f0,\n",
    "        spect.centroid,\n",
    "        spect.crest,\n",
    "        spect.entropy,\n",
    "        spect.flatness,\n",
    "        spect.flux,\n",
    "        spect.kurtosis,\n",
    "        spect.rolloff,\n",
    "        spect.skewness,\n",
    "        spect.decrease,\n",
    "        spect.slope,\n",
    "        spect.spread\n",
    "    );\n",
    "\n",
    "    nan_replacer!(x_features)\n",
    "\n",
    "    return x_features\n",
    "end"
   ]
  },
  {
   "cell_type": "markdown",
   "metadata": {},
   "source": [
    "### Compute DataFrame of features"
   ]
  },
  {
   "cell_type": "code",
   "execution_count": 11,
   "metadata": {},
   "outputs": [],
   "source": [
    "colnames = [\n",
    "    [\"mel$i\" for i in 1:26]...,\n",
    "    [\"mfcc$i\" for i in 1:13]...,\n",
    "    \"f0\", \"cntrd\", \"crest\", \"entrp\", \"flatn\", \"flux\", \"kurts\", \"rllff\", \"skwns\", \"decrs\", \"slope\", \"sprd\"\n",
    "]\n",
    "\n",
    "X = DataFrame([name => Vector{Float64}[] for name in colnames])\n",
    "\n",
    "for i in 1:nrow(x)\n",
    "    push!(X, collect(eachcol(afe(x[i, :audio]))))\n",
    "end"
   ]
  },
  {
   "cell_type": "markdown",
   "metadata": {},
   "source": [
    "### Data compression for propositional analysis"
   ]
  },
  {
   "cell_type": "code",
   "execution_count": 12,
   "metadata": {},
   "outputs": [],
   "source": [
    "catch9 = [\n",
    "    maximum,\n",
    "    minimum,\n",
    "    StatsBase.mean,\n",
    "    median,\n",
    "    std,\n",
    "    Catch22.SB_BinaryStats_mean_longstretch1,\n",
    "    Catch22.SB_BinaryStats_diff_longstretch0,\n",
    "    Catch22.SB_MotifThree_quantile_hh,\n",
    "    Catch22.SB_TransitionMatrix_3ac_sumdiagcov,\n",
    "]\n",
    "\n",
    "t = zeros(size(X, 1))\n",
    "for i in eachcol(X)\n",
    "    feature = map(x -> catch9[4](x...), eachrow(i))\n",
    "    global t = hcat(t, feature)\n",
    "end\n",
    "Xc = DataFrame(t[:, 2:end], names(X));\n",
    "\n",
    "yc = CategoricalArray(y);"
   ]
  },
  {
   "cell_type": "code",
   "execution_count": 13,
   "metadata": {},
   "outputs": [
    {
     "name": "stdout",
     "output_type": "stream",
     "text": [
      "Training set size: (403, 51) - 403\n",
      "Test set size: (101, 51) - 101\n"
     ]
    }
   ],
   "source": [
    "train_ratio = 0.8\n",
    "\n",
    "train, test = partition(eachindex(y), train_ratio, shuffle=true)\n",
    "X_train, y_train = Xc[train, :], yc[train]\n",
    "X_test, y_test = Xc[test, :], yc[test]\n",
    "\n",
    "println(\"Training set size: \", size(X_train), \" - \", length(y_train))\n",
    "println(\"Test set size: \", size(X_test), \" - \", length(y_test))"
   ]
  },
  {
   "cell_type": "markdown",
   "metadata": {},
   "source": [
    "### Train a model"
   ]
  },
  {
   "cell_type": "code",
   "execution_count": 14,
   "metadata": {},
   "outputs": [
    {
     "name": "stdout",
     "output_type": "stream",
     "text": [
      "import MLJDecisionTreeInterface ✔\n"
     ]
    },
    {
     "name": "stderr",
     "output_type": "stream",
     "text": [
      "┌ Info: For silent loading, specify `verbosity=0`. \n",
      "└ @ Main /home/paso/.julia/packages/MLJModels/jKlfT/src/loading.jl:159\n",
      "┌ Info: Training machine(DecisionTreeClassifier(max_depth = -1, …), …).\n",
      "└ @ MLJBase /home/paso/.julia/packages/MLJBase/7nGJF/src/machines.jl:499\n"
     ]
    },
    {
     "data": {
      "text/plain": [
       "a29 < 0.4999\n",
       "├─ a49 < -1.063\n",
       "│  ├─ a28 < 4.565\n",
       "│  │  ├─ Pneumonia (16/16)\n",
       "│  │  └─ Healthy (4/4)\n",
       "│  └─ a31 < 0.08705\n",
       "│     ├─ a34 < 0.2875\n",
       "│     │  ├─ a43 < 0.7714\n",
       "│     │  │  ├─ a34 < -0.0256\n",
       "│     │  │  │  ⋮\n",
       "│     │  │  │  \n",
       "│     │  │  └─ Healthy (3/3)\n",
       "│     │  └─ Healthy (7/7)\n",
       "│     └─ a29 < -0.5518\n",
       "│        ├─ a51 < 435.1\n",
       "│        │  ├─ Healthy (27/27)\n",
       "│        │  └─ a38 < 0.1336\n",
       "│        │     ⋮\n",
       "│        │     \n",
       "│        └─ a30 < 0.45\n",
       "│           ├─ a5 < 1.038e-6\n",
       "│           │  ⋮\n",
       "│           │  \n",
       "│           └─ a31 < 0.1821\n",
       "│              ⋮\n",
       "│              \n",
       "└─ a24 < 1.419e-8\n",
       "   ├─ Healthy (12/12)\n",
       "   └─ a30 < 0.6907\n",
       "      ├─ a31 < 0.3639\n",
       "      │  ├─ a38 < 0.139\n",
       "      │  │  ├─ a41 < 648.4\n",
       "      │  │  │  ⋮\n",
       "      │  │  │  \n",
       "      │  │  └─ a32 < -0.04129\n",
       "      │  │     ⋮\n",
       "      │  │     \n",
       "      │  └─ Healthy (7/7)\n",
       "      └─ Pneumonia (66/66)\n"
      ]
     },
     "metadata": {},
     "output_type": "display_data"
    }
   ],
   "source": [
    "learned_dt_tree = begin\n",
    "    Tree = MLJ.@load DecisionTreeClassifier pkg=DecisionTree\n",
    "    model = Tree(max_depth=-1, )\n",
    "    mach = machine(model, X_train, y_train)\n",
    "    fit!(mach)\n",
    "    fitted_params(mach).tree\n",
    "end"
   ]
  },
  {
   "cell_type": "markdown",
   "metadata": {},
   "source": [
    "### Convert to Sole model\n"
   ]
  },
  {
   "cell_type": "code",
   "execution_count": 15,
   "metadata": {},
   "outputs": [
    {
     "data": {
      "text/plain": [
       "▣ a29 < 0.49994379966299807\n",
       "├✔ a49 < -1.0634279559400643\n",
       "│├✔ a28 < 4.565094388756867\n",
       "││├✔ Pneumonia\n",
       "││└✘ Healthy\n",
       "│└✘ a31 < 0.08705196308151007\n",
       "│ ├✔ a34 < 0.2874586422195802\n",
       "│ │├✔ a43 < 0.7713892442949303\n",
       "│ ││├✔ a34 < -0.025600915581680234\n",
       "│ │││├✔ Healthy\n",
       "│ │││└✘ Pneumonia\n",
       "│ ││└✘ Healthy\n",
       "│ │└✘ Healthy\n",
       "│ └✘ a29 < -0.5517645980120216\n",
       "│  ├✔ a51 < 435.1042245447893\n",
       "│  │├✔ Healthy\n",
       "│  │└✘ a38 < 0.13355575106403889\n",
       "│  │ ├✔ a33 < -0.285050658562475\n",
       "│  │ │├✔ Healthy\n",
       "│  │ │└✘ a43 < 0.627488672274678\n",
       "│  │ │ ├✔ Healthy\n",
       "│  │ │ └✘ Pneumonia\n",
       "│  │ └✘ Pneumonia\n",
       "│  └✘ a30 < 0.4499577415821601\n",
       "│   ├✔ a5 < 1.037799461931649e-6\n",
       "│   │├✔ Pneumonia\n",
       "│   │└✘ Healthy\n",
       "│   └✘ a31 < 0.1821043922028262\n",
       "│    ├✔ a37 < 0.15118073771035784\n",
       "│    │├✔ Pneumonia\n",
       "│    │└✘ Healthy\n",
       "│    └✘ a37 < 0.010630296835023388\n",
       "│     ├✔ Healthy\n",
       "│     └✘ a36 < 0.027685621343476227\n",
       "│      ├✔ Pneumonia\n",
       "│      └✘ Healthy\n",
       "└✘ a24 < 1.418545024653986e-8\n",
       " ├✔ Healthy\n",
       " └✘ a30 < 0.6906847999463177\n",
       "  ├✔ a31 < 0.3639340311977496\n",
       "  │├✔ a38 < 0.13901173859483007\n",
       "  ││├✔ a41 < 648.4115006262336\n",
       "  │││├✔ Pneumonia\n",
       "  │││└✘ a35 < -0.0743030015893492\n",
       "  │││ ├✔ a24 < 4.4716629797499555e-7\n",
       "  │││ │├✔ Pneumonia\n",
       "  │││ │└✘ Healthy\n",
       "  │││ └✘ a33 < 0.2160892988407373\n",
       "  │││  ├✔ Pneumonia\n",
       "  │││  └✘ a38 < 0.07547616543654255\n",
       "  │││   ├✔ Healthy\n",
       "  │││   └✘ Pneumonia\n",
       "  ││└✘ a32 < -0.0412909931084431\n",
       "  ││ ├✔ Pneumonia\n",
       "  ││ └✘ a51 < 651.6205638309168\n",
       "  ││  ├✔ Healthy\n",
       "  ││  └✘ Pneumonia\n",
       "  │└✘ Healthy\n",
       "  └✘ Pneumonia\n"
      ]
     },
     "metadata": {},
     "output_type": "display_data"
    }
   ],
   "source": [
    "sole_dt = solemodel(learned_dt_tree)"
   ]
  },
  {
   "cell_type": "markdown",
   "metadata": {},
   "source": [
    "### Model inspection & rule study\n",
    "\n",
    "# GIO!!! se metto show_metrics = true mi da errore!"
   ]
  },
  {
   "cell_type": "code",
   "execution_count": 16,
   "metadata": {},
   "outputs": [
    {
     "name": "stdout",
     "output_type": "stream",
     "text": [
      "▣ a29 < 0.49994379966299807\n",
      "├✔ a49 < -1.0634279559400643\n",
      "│├✔ a28 < 4.565094388756867\n",
      "││├✔ Pneumonia\n",
      "││└✘ Healthy\n",
      "│└✘ a31 < 0.08705196308151007\n",
      "│ ├✔ a34 < 0.2874586422195802\n",
      "│ │├✔ a43 < 0.7713892442949303\n",
      "│ ││├✔ a34 < -0.025600915581680234\n",
      "│ │││├✔ Healthy\n",
      "│ │││└✘ Pneumonia\n",
      "│ ││└✘ Healthy\n",
      "│ │└✘ Healthy\n",
      "│ └✘ a29 < -0.5517645980120216\n",
      "│  ├✔ a51 < 435.1042245447893\n",
      "│  │├✔ Healthy\n",
      "│  │└✘ a38 < 0.13355575106403889\n",
      "│  │ ├✔ a33 < -0.285050658562475\n",
      "│  │ │├✔ Healthy\n",
      "│  │ │└✘ a43 < 0.627488672274678\n",
      "│  │ │ ├✔ Healthy\n",
      "│  │ │ └✘ Pneumonia\n",
      "│  │ └✘ Pneumonia\n",
      "│  └✘ a30 < 0.4499577415821601\n",
      "│   ├✔ a5 < 1.037799461931649e-6\n",
      "│   │├✔ Pneumonia\n",
      "│   │└✘ Healthy\n",
      "│   └✘ a31 < 0.1821043922028262\n",
      "│    ├✔ a37 < 0.15118073771035784\n",
      "│    │├✔ Pneumonia\n",
      "│    │└✘ Healthy\n",
      "│    └✘ a37 < 0.010630296835023388\n",
      "│     ├✔ Healthy\n",
      "│     └✘ a36 < 0.027685621343476227\n",
      "│      ├✔ Pneumonia\n",
      "│      └✘ Healthy\n",
      "└✘ a24 < 1.418545024653986e-8\n",
      " ├✔ Healthy\n",
      " └✘ a30 < 0.6906847999463177\n",
      "  ├✔ a31 < 0.3639340311977496\n",
      "  │├✔ a38 < 0.13901173859483007\n",
      "  ││├✔ a41 < 648.4115006262336\n",
      "  │││├✔ Pneumonia\n",
      "  │││└✘ a35 < -0.0743030015893492\n",
      "  │││ ├✔ a24 < 4.4716629797499555e-7\n",
      "  │││ │├✔ Pneumonia\n",
      "  │││ │└✘ Healthy\n",
      "  │││ └✘ a33 < 0.2160892988407373\n",
      "  │││  ├✔ Pneumonia\n",
      "  │││  └✘ a38 < 0.07547616543654255\n",
      "  │││   ├✔ Healthy\n",
      "  │││   └✘ Pneumonia\n",
      "  ││└✘ a32 < -0.0412909931084431\n",
      "  ││ ├✔ Pneumonia\n",
      "  ││ └✘ a51 < 651.6205638309168\n",
      "  ││  ├✔ Healthy\n",
      "  ││  └✘ Pneumonia\n",
      "  │└✘ Healthy\n",
      "  └✘ Pneumonia\n"
     ]
    }
   ],
   "source": [
    "# Make test instances flow into the model, so that test metrics can, then, be computed.\n",
    "apply!(sole_dt, X_test, y_test);\n",
    "# Print Sole model\n",
    "printmodel(sole_dt; show_metrics = false);"
   ]
  },
  {
   "cell_type": "markdown",
   "metadata": {},
   "source": [
    "### Extract rules"
   ]
  },
  {
   "cell_type": "code",
   "execution_count": 17,
   "metadata": {},
   "outputs": [
    {
     "ename": "MethodError",
     "evalue": "MethodError: no method matching readmetrics(::Rule{String15})\n\nClosest candidates are:\n  readmetrics(!Matched::Rule{L}; round_digits, class_share_map, additional_metrics, kwargs...) where L<:Union{AbstractFloat, Integer, String, CategoricalValue}\n   @ SoleModels ~/.julia/packages/SoleModels/kTdJO/src/evaluate.jl:118\n  readmetrics(!Matched::SoleModels.LeafModel{L}; class_share_map, round_digits, additional_metrics) where L<:Union{AbstractFloat, Integer, String, CategoricalValue}\n   @ SoleModels ~/.julia/packages/SoleModels/kTdJO/src/evaluate.jl:67\n",
     "output_type": "error",
     "traceback": [
      "MethodError: no method matching readmetrics(::Rule{String15})\n",
      "\n",
      "Closest candidates are:\n",
      "  readmetrics(!Matched::Rule{L}; round_digits, class_share_map, additional_metrics, kwargs...) where L<:Union{AbstractFloat, Integer, String, CategoricalValue}\n",
      "   @ SoleModels ~/.julia/packages/SoleModels/kTdJO/src/evaluate.jl:118\n",
      "  readmetrics(!Matched::SoleModels.LeafModel{L}; class_share_map, round_digits, additional_metrics) where L<:Union{AbstractFloat, Integer, String, CategoricalValue}\n",
      "   @ SoleModels ~/.julia/packages/SoleModels/kTdJO/src/evaluate.jl:67\n",
      "\n",
      "\n",
      "Stacktrace:\n",
      " [1] (::SoleModels.var\"#82#83\"{Bool, @NamedTuple{}, Nothing, Nothing, Int64, Nothing, Float64, Nothing})(r::Rule{String15})\n",
      "   @ SoleModels ~/.julia/packages/SoleModels/kTdJO/src/symbolic-utils.jl:406\n",
      " [2] filter(f::SoleModels.var\"#82#83\"{Bool, @NamedTuple{}, Nothing, Nothing, Int64, Nothing, Float64, Nothing}, a::Vector{Rule{String15}})\n",
      "   @ Base ./array.jl:2675\n",
      " [3] listrules(m::DecisionTree{String15}; compute_metrics::Bool, metrics_kwargs::@NamedTuple{}, use_shortforms::Bool, use_leftmostlinearform::Nothing, normalize::Bool, normalize_kwargs::@NamedTuple{allow_atom_flipping::Bool, rotate_commutatives::Bool}, scalar_simplification::Bool, force_syntaxtree::Bool, min_coverage::Nothing, min_ncovered::Nothing, min_ninstances::Int64, min_confidence::Nothing, min_lift::Float64, metric_filter_callback::Nothing, kwargs::@Kwargs{})\n",
      "   @ SoleModels ~/.julia/packages/SoleModels/kTdJO/src/symbolic-utils.jl:405\n",
      " [4] top-level scope\n",
      "   @ ~/Documents/Aclai/audio-rules2024/src/jl_notebook_cell_df34fa98e69747e1a8f8a730347b8e2f_X23sZmlsZQ==.jl:1"
     ]
    }
   ],
   "source": [
    "interesting_rules = listrules(sole_dt, min_lift = 1.0, min_ninstances = 0);"
   ]
  }
 ],
 "metadata": {
  "kernelspec": {
   "display_name": "Julia 1.10.4",
   "language": "julia",
   "name": "julia-1.10"
  },
  "language_info": {
   "file_extension": ".jl",
   "mimetype": "application/julia",
   "name": "julia",
   "version": "1.10.4"
  }
 },
 "nbformat": 4,
 "nbformat_minor": 2
}
