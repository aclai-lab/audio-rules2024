{
 "cells": [
  {
   "cell_type": "code",
   "execution_count": 1,
   "metadata": {},
   "outputs": [],
   "source": [
    "using MLJ\n",
    "using MLJDecisionTreeInterface\n",
    "using Sole, SoleDecisionTreeInterface\n",
    "using CategoricalArrays\n",
    "using DataFrames, JLD2, CSV\n",
    "using StatsBase, Statistics\n",
    "using Catch22, Audio911"
   ]
  },
  {
   "cell_type": "markdown",
   "metadata": {},
   "source": [
    "### Open .jld2 file\n",
    "the file contains 504 samples of respiratory sound, labeled with 2 classes: healty and pneumonia"
   ]
  },
  {
   "cell_type": "code",
   "execution_count": 2,
   "metadata": {},
   "outputs": [],
   "source": [
    "ds_path = \"/home/paso/Documents/Aclai/audio-rules2024/datasets/respiratory_Healthy_Pneumonia\"\n",
    "\n",
    "d = jldopen(string(ds_path, \".jld2\"))\n",
    "x, y = d[\"dataframe_validated\"]\n",
    "@assert x isa DataFrame\n",
    "close(d)"
   ]
  },
  {
   "cell_type": "markdown",
   "metadata": {},
   "source": [
    "### Audio features extraction function\n",
    "This function is called for every audio sample and extract 51 features:\n",
    "26 bands of the mel spectrogram,\n",
    "13 coefficients of the mfcc\n",
    "12 spectral features: centroid, crest, entropy, f0, flatness, flux, kurtosis, rolloff, skewness, decrease, slope, spread"
   ]
  },
  {
   "cell_type": "code",
   "execution_count": 3,
   "metadata": {},
   "outputs": [
    {
     "data": {
      "text/plain": [
       "afe (generic function with 1 method)"
      ]
     },
     "metadata": {},
     "output_type": "display_data"
    }
   ],
   "source": [
    "nan_replacer!(x::AbstractArray{Float64}) = replace!(x, NaN => 0.0)\n",
    "\n",
    "function afe(x::AbstractVector{Float64})\n",
    "    # -------------------------------- parameters -------------------------------- #\n",
    "    # audio module\n",
    "    sr = 8000\n",
    "    norm = true\n",
    "    speech_detection = false\n",
    "    # stft module\n",
    "    stft_length = 256\n",
    "    win_type = (:hann, :periodic)\n",
    "    win_length = 256\n",
    "    overlap_length = 128\n",
    "    stft_norm = :power                      # :power, :magnitude, :pow2mag\n",
    "    # mel filterbank module\n",
    "    nbands = 26\n",
    "    scale = :mel_htk                        # :mel_htk, :mel_slaney, :erb, :bark\n",
    "    melfb_norm = :bandwidth                 # :bandwidth, :area, :none\n",
    "    freq_range = (300, round(Int, sr / 2))\n",
    "    # mel spectrogram module\n",
    "    db_scale = false\n",
    "    # mfcc module\n",
    "    ncoeffs = 13\n",
    "    rectification = :log                    # :log, :cubic_root\n",
    "    dither = true\n",
    "    # f0 module\n",
    "    method = :nfc\n",
    "    f0_range = (50, 400)\n",
    "\n",
    "    # --------------------------------- functions -------------------------------- #\n",
    "    # audio module\n",
    "    audio = load_audio(\n",
    "        file=x, \n",
    "        sr=sr, \n",
    "        norm=norm,\n",
    "    );\n",
    "\n",
    "    stftspec = get_stft(\n",
    "        audio=audio, \n",
    "        stft_length=stft_length,\n",
    "        win_type=win_type,\n",
    "        win_length=win_length,\n",
    "        overlap_length=overlap_length,\n",
    "        norm=stft_norm\n",
    "    );\n",
    "\n",
    "    # mel filterbank module\n",
    "    melfb = get_melfb(\n",
    "        stft=stftspec,\n",
    "        nbands=nbands,\n",
    "        scale=scale,\n",
    "        norm=melfb_norm,\n",
    "        freq_range=freq_range\n",
    "    );\n",
    "\n",
    "    # mel spectrogram module\n",
    "    melspec =  get_melspec(\n",
    "        stft=stftspec, \n",
    "        fbank=melfb,\n",
    "        db_scale=db_scale\n",
    "    );\n",
    "\n",
    "    # mfcc module\n",
    "    mfcc = get_mfcc(\n",
    "        source=melspec,\n",
    "        ncoeffs=ncoeffs,\n",
    "        rectification=rectification,\n",
    "        dither=dither,\n",
    "    );\n",
    "\n",
    "    # f0 module\n",
    "    f0 = get_f0(\n",
    "        source=stftspec,\n",
    "        method=method,\n",
    "        freq_range=f0_range\n",
    "    );\n",
    "\n",
    "    # spectral features module\n",
    "    spect = get_spectrals(\n",
    "        source=stftspec,\n",
    "        freq_range=freq_range\n",
    "    );\n",
    "\n",
    "    x_features = hcat(\n",
    "        melspec.spec',\n",
    "        mfcc.mfcc',\n",
    "        f0.f0,\n",
    "        spect.centroid,\n",
    "        spect.crest,\n",
    "        spect.entropy,\n",
    "        spect.flatness,\n",
    "        spect.flux,\n",
    "        spect.kurtosis,\n",
    "        spect.rolloff,\n",
    "        spect.skewness,\n",
    "        spect.decrease,\n",
    "        spect.slope,\n",
    "        spect.spread\n",
    "    );\n",
    "\n",
    "    nan_replacer!(x_features)\n",
    "\n",
    "    return x_features\n",
    "end"
   ]
  },
  {
   "cell_type": "markdown",
   "metadata": {},
   "source": [
    "### Compute DataFrame of features"
   ]
  },
  {
   "cell_type": "code",
   "execution_count": 4,
   "metadata": {},
   "outputs": [],
   "source": [
    "colnames = [\n",
    "    [\"mel$i\" for i in 1:26]...,\n",
    "    [\"mfcc$i\" for i in 1:13]...,\n",
    "    \"f0\", \"cntrd\", \"crest\", \"entrp\", \"flatn\", \"flux\", \"kurts\", \"rllff\", \"skwns\", \"decrs\", \"slope\", \"sprd\"\n",
    "]\n",
    "\n",
    "X = DataFrame([name => Vector{Float64}[] for name in colnames])\n",
    "\n",
    "for i in 1:nrow(x)\n",
    "    push!(X, collect(eachcol(afe(x[i, :audio]))))\n",
    "end"
   ]
  },
  {
   "cell_type": "markdown",
   "metadata": {},
   "source": [
    "### Data compression for propositional analysis"
   ]
  },
  {
   "cell_type": "code",
   "execution_count": 5,
   "metadata": {},
   "outputs": [],
   "source": [
    "catch9 = [\n",
    "    maximum,\n",
    "    minimum,\n",
    "    StatsBase.mean,\n",
    "    median,\n",
    "    std,\n",
    "    Catch22.SB_BinaryStats_mean_longstretch1,\n",
    "    Catch22.SB_BinaryStats_diff_longstretch0,\n",
    "    Catch22.SB_MotifThree_quantile_hh,\n",
    "    Catch22.SB_TransitionMatrix_3ac_sumdiagcov,\n",
    "]\n",
    "\n",
    "t = zeros(size(X, 1))\n",
    "for i in eachcol(X)\n",
    "    feature = map(x -> catch9[4](x...), eachrow(i))\n",
    "    global t = hcat(t, feature)\n",
    "end\n",
    "Xc = DataFrame(t[:, 2:end], names(X));\n",
    "\n",
    "yc = CategoricalArray{String,1,UInt32}(y);"
   ]
  },
  {
   "cell_type": "code",
   "execution_count": 6,
   "metadata": {},
   "outputs": [
    {
     "name": "stdout",
     "output_type": "stream",
     "text": [
      "Training set size: (403, 51) - 403\n",
      "Test set size: (101, 51) - 101\n"
     ]
    }
   ],
   "source": [
    "train_ratio = 0.8\n",
    "\n",
    "train, test = partition(eachindex(y), train_ratio, shuffle=true)\n",
    "X_train, y_train = Xc[train, :], yc[train]\n",
    "X_test, y_test = Xc[test, :], yc[test]\n",
    "\n",
    "println(\"Training set size: \", size(X_train), \" - \", length(y_train))\n",
    "println(\"Test set size: \", size(X_test), \" - \", length(y_test))"
   ]
  },
  {
   "cell_type": "markdown",
   "metadata": {},
   "source": [
    "### Train a model"
   ]
  },
  {
   "cell_type": "code",
   "execution_count": 7,
   "metadata": {},
   "outputs": [
    {
     "name": "stderr",
     "output_type": "stream",
     "text": [
      "┌ Info: For silent loading, specify `verbosity=0`. \n",
      "└ @ Main /home/paso/.julia/packages/MLJModels/jKlfT/src/loading.jl:159\n"
     ]
    },
    {
     "name": "stdout",
     "output_type": "stream",
     "text": [
      "import MLJDecisionTreeInterface ✔\n"
     ]
    },
    {
     "name": "stderr",
     "output_type": "stream",
     "text": [
      "┌ Info: Training machine(DecisionTreeClassifier(max_depth = -1, …), …).\n",
      "└ @ MLJBase /home/paso/.julia/packages/MLJBase/7nGJF/src/machines.jl:499\n"
     ]
    },
    {
     "data": {
      "text/plain": [
       "mfcc3 < 0.5027\n",
       "├─ decrs < -0.9409\n",
       "│  ├─ mfcc2 < 4.553\n",
       "│  │  ├─ mel8 < 8.095e-7\n",
       "│  │  │  ├─ Healthy (1/1)\n",
       "│  │  │  └─ Pneumonia (15/15)\n",
       "│  │  └─ mel6 < 8.727e-5\n",
       "│  │     ├─ Healthy (4/4)\n",
       "│  │     └─ Pneumonia (1/1)\n",
       "│  └─ mfcc5 < 0.112\n",
       "│     ├─ mel12 < 2.954e-6\n",
       "│     │  ├─ Healthy (10/10)\n",
       "│     │  └─ crest < 16.94\n",
       "│     │     ├─ mel3 < 9.497e-5\n",
       "│     │     │  ⋮\n",
       "│     │     │  \n",
       "│     │     └─ Pneumonia (12/12)\n",
       "│     └─ mfcc3 < -0.584\n",
       "│        ├─ sprd < 435.1\n",
       "│        │  ├─ Healthy (24/24)\n",
       "│        │  └─ cntrd < 1027.0\n",
       "│        │     ⋮\n",
       "│        │     \n",
       "│        └─ mfcc4 < 0.4992\n",
       "│           ├─ Healthy (97/97)\n",
       "│           └─ mfcc5 < 0.1821\n",
       "│              ⋮\n",
       "│              \n",
       "└─ mel21 < 1.593e-8\n",
       "   ├─ Healthy (10/10)\n",
       "   └─ cntrd < 723.2\n",
       "      ├─ mel10 < 2.102e-6\n",
       "      │  ├─ Pneumonia (67/67)\n",
       "      │  └─ mfcc6 < 0.136\n",
       "      │     ├─ Pneumonia (43/43)\n",
       "      │     └─ mel23 < 2.655e-7\n",
       "      │        ⋮\n",
       "      │        \n",
       "      └─ flatn < 0.1328\n",
       "         ├─ mfcc12 < 0.05214\n",
       "         │  ├─ Pneumonia (2/2)\n",
       "         │  └─ Healthy (8/8)\n",
       "         └─ skwns < 1.998\n",
       "            ├─ Healthy (2/2)\n",
       "            └─ Pneumonia (13/13)\n"
      ]
     },
     "metadata": {},
     "output_type": "display_data"
    }
   ],
   "source": [
    "learned_dt_tree = begin\n",
    "    Tree = MLJ.@load DecisionTreeClassifier pkg=DecisionTree\n",
    "    model = Tree(max_depth=-1, )\n",
    "    mach = machine(model, X_train, y_train)\n",
    "    fit!(mach)\n",
    "    fitted_params(mach).tree\n",
    "end"
   ]
  },
  {
   "cell_type": "markdown",
   "metadata": {},
   "source": [
    "### Convert to Sole model\n"
   ]
  },
  {
   "cell_type": "code",
   "execution_count": 8,
   "metadata": {},
   "outputs": [
    {
     "data": {
      "text/plain": [
       "▣ mfcc3 < 0.5026614031627068\n",
       "├✔ decrs < -0.9409334853269118\n",
       "│├✔ mfcc2 < 4.552895635419956\n",
       "││├✔ mel8 < 8.095081277207338e-7\n",
       "│││├✔ Healthy\n",
       "│││└✘ Pneumonia\n",
       "││└✘ mel6 < 8.726964519086241e-5\n",
       "││ ├✔ Healthy\n",
       "││ └✘ Pneumonia\n",
       "│└✘ mfcc5 < 0.11196263858700894\n",
       "│ ├✔ mel12 < 2.954392079872265e-6\n",
       "│ │├✔ Healthy\n",
       "│ │└✘ crest < 16.942226922108134\n",
       "│ │ ├✔ mel3 < 9.496756752633945e-5\n",
       "│ │ │├✔ Healthy\n",
       "│ │ │└✘ Pneumonia\n",
       "│ │ └✘ Pneumonia\n",
       "│ └✘ mfcc3 < -0.5839648238986663\n",
       "│  ├✔ sprd < 435.1042245447893\n",
       "│  │├✔ Healthy\n",
       "│  │└✘ cntrd < 1026.5265262669163\n",
       "│  │ ├✔ mfcc13 < 0.15869459770719566\n",
       "│  │ │├✔ mfcc13 < -0.10350259557720298\n",
       "│  │ ││├✔ Healthy\n",
       "│  │ ││└✘ Pneumonia\n",
       "│  │ │└✘ Healthy\n",
       "│  │ └✘ Healthy\n",
       "│  └✘ mfcc4 < 0.4992252192245208\n",
       "│   ├✔ Healthy\n",
       "│   └✘ mfcc5 < 0.1821043922028262\n",
       "│    ├✔ Pneumonia\n",
       "│    └✘ mfcc8 < 0.4864465707982981\n",
       "│     ├✔ Healthy\n",
       "│     └✘ Pneumonia\n",
       "└✘ mel21 < 1.5931912012283505e-8\n",
       " ├✔ Healthy\n",
       " └✘ cntrd < 723.180680404329\n",
       "  ├✔ mel10 < 2.1023903663400553e-6\n",
       "  │├✔ Pneumonia\n",
       "  │└✘ mfcc6 < 0.13596275841557584\n",
       "  │ ├✔ Pneumonia\n",
       "  │ └✘ mel23 < 2.6545215997561814e-7\n",
       "  │  ├✔ mel5 < 0.00012195653260828894\n",
       "  │  │├✔ Healthy\n",
       "  │  │└✘ Pneumonia\n",
       "  │  └✘ mfcc11 < 0.012547893186449199\n",
       "  │   ├✔ Pneumonia\n",
       "  │   └✘ mfcc10 < 0.1210970277091889\n",
       "  │    ├✔ entrp < 0.4158781997206361\n",
       "  │    │├✔ Pneumonia\n",
       "  │    │└✘ Healthy\n",
       "  │    └✘ Pneumonia\n",
       "  └✘ flatn < 0.1328006391419062\n",
       "   ├✔ mfcc12 < 0.05213733130877506\n",
       "   │├✔ Pneumonia\n",
       "   │└✘ Healthy\n",
       "   └✘ skwns < 1.998199447678463\n",
       "    ├✔ Healthy\n",
       "    └✘ Pneumonia\n"
      ]
     },
     "metadata": {},
     "output_type": "display_data"
    }
   ],
   "source": [
    "sole_dt = solemodel(learned_dt_tree)"
   ]
  },
  {
   "cell_type": "markdown",
   "metadata": {},
   "source": [
    "### Model inspection & rule study"
   ]
  },
  {
   "cell_type": "code",
   "execution_count": 9,
   "metadata": {},
   "outputs": [
    {
     "name": "stdout",
     "output_type": "stream",
     "text": [
      "▣ mfcc3 < 0.5026614031627068\n",
      "├✔ decrs < -0.9409334853269118\n",
      "│├✔ mfcc2 < 4.552895635419956\n",
      "││├✔ mel8 < 8.095081277207338e-7\n",
      "│││├✔ Healthy : (ninstances = 0, ncovered = 0, confidence = NaN, lift = NaN)\n",
      "│││└✘ Pneumonia : (ninstances = 4, ncovered = 4, confidence = 0.75, lift = 1.0)\n",
      "││└✘ mel6 < 8.726964519086241e-5\n",
      "││ ├✔ Healthy : (ninstances = 1, ncovered = 1, confidence = 1.0, lift = 1.0)\n",
      "││ └✘ Pneumonia : (ninstances = 0, ncovered = 0, confidence = NaN, lift = NaN)\n",
      "│└✘ mfcc5 < 0.11196263858700894\n",
      "│ ├✔ mel12 < 2.954392079872265e-6\n",
      "│ │├✔ Healthy : (ninstances = 3, ncovered = 3, confidence = 1.0, lift = 1.0)\n",
      "│ │└✘ crest < 16.942226922108134\n",
      "│ │ ├✔ mel3 < 9.496756752633945e-5\n",
      "│ │ │├✔ Healthy : (ninstances = 1, ncovered = 1, confidence = 1.0, lift = 1.0)\n",
      "│ │ │└✘ Pneumonia : (ninstances = 0, ncovered = 0, confidence = NaN, lift = NaN)\n",
      "│ │ └✘ Pneumonia : (ninstances = 6, ncovered = 6, confidence = 0.67, lift = 1.0)\n",
      "│ └✘ mfcc3 < -0.5839648238986663\n",
      "│  ├✔ sprd < 435.1042245447893\n",
      "│  │├✔ Healthy : (ninstances = 7, ncovered = 7, confidence = 1.0, lift = 1.0)\n",
      "│  │└✘ cntrd < 1026.5265262669163\n",
      "│  │ ├✔ mfcc13 < 0.15869459770719566\n",
      "│  │ │├✔ mfcc13 < -0.10350259557720298\n",
      "│  │ ││├✔ Healthy : (ninstances = 1, ncovered = 1, confidence = 1.0, lift = 1.0)\n",
      "│  │ ││└✘ Pneumonia : (ninstances = 4, ncovered = 4, confidence = 1.0, lift = 1.0)\n",
      "│  │ │└✘ Healthy : (ninstances = 1, ncovered = 1, confidence = 1.0, lift = 1.0)\n",
      "│  │ └✘ Healthy : (ninstances = 1, ncovered = 1, confidence = 1.0, lift = 1.0)\n",
      "│  └✘ mfcc4 < 0.4992252192245208\n",
      "│   ├✔ Healthy : (ninstances = 28, ncovered = 28, confidence = 1.0, lift = 1.0)\n",
      "│   └✘ mfcc5 < 0.1821043922028262\n",
      "│    ├✔ Pneumonia : (ninstances = 0, ncovered = 0, confidence = NaN, lift = NaN)\n",
      "│    └✘ mfcc8 < 0.4864465707982981\n",
      "│     ├✔ Healthy : (ninstances = 2, ncovered = 2, confidence = 1.0, lift = 1.0)\n",
      "│     └✘ Pneumonia : (ninstances = 0, ncovered = 0, confidence = NaN, lift = NaN)\n",
      "└✘ mel21 < 1.5931912012283505e-8\n",
      " ├✔ Healthy : (ninstances = 3, ncovered = 3, confidence = 1.0, lift = 1.0)\n",
      " └✘ cntrd < 723.180680404329\n",
      "  ├✔ mel10 < 2.1023903663400553e-6\n",
      "  │├✔ Pneumonia : (ninstances = 10, ncovered = 10, confidence = 0.8, lift = 1.0)\n",
      "  │└✘ mfcc6 < 0.13596275841557584\n",
      "  │ ├✔ Pneumonia : (ninstances = 12, ncovered = 12, confidence = 1.0, lift = 1.0)\n",
      "  │ └✘ mel23 < 2.6545215997561814e-7\n",
      "  │  ├✔ mel5 < 0.00012195653260828894\n",
      "  │  │├✔ Healthy : (ninstances = 0, ncovered = 0, confidence = NaN, lift = NaN)\n",
      "  │  │└✘ Pneumonia : (ninstances = 0, ncovered = 0, confidence = NaN, lift = NaN)\n",
      "  │  └✘ mfcc11 < 0.012547893186449199\n",
      "  │   ├✔ Pneumonia : (ninstances = 9, ncovered = 9, confidence = 0.89, lift = 1.0)\n",
      "  │   └✘ mfcc10 < 0.1210970277091889\n",
      "  │    ├✔ entrp < 0.4158781997206361\n",
      "  │    │├✔ Pneumonia : (ninstances = 0, ncovered = 0, confidence = NaN, lift = NaN)\n",
      "  │    │└✘ Healthy : (ninstances = 0, ncovered = 0, confidence = NaN, lift = NaN)\n",
      "  │    └✘ Pneumonia : (ninstances = 4, ncovered = 4, confidence = 0.5, lift = 1.0)\n",
      "  └✘ flatn < 0.1328006391419062\n",
      "   ├✔ mfcc12 < 0.05213733130877506\n",
      "   │├✔ Pneumonia : (ninstances = 2, ncovered = 2, confidence = 1.0, lift = 1.0)\n",
      "   │└✘ Healthy : (ninstances = 2, ncovered = 2, confidence = 0.0, lift = NaN)\n",
      "   └✘ skwns < 1.998199447678463\n",
      "    ├✔ Healthy : (ninstances = 0, ncovered = 0, confidence = NaN, lift = NaN)\n",
      "    └✘ Pneumonia : (ninstances = 0, ncovered = 0, confidence = NaN, lift = NaN)\n"
     ]
    }
   ],
   "source": [
    "# Make test instances flow into the model, so that test metrics can, then, be computed.\n",
    "apply!(sole_dt, X_test, y_test);\n",
    "# Print Sole model\n",
    "printmodel(sole_dt; show_metrics = true);"
   ]
  },
  {
   "cell_type": "markdown",
   "metadata": {},
   "source": [
    "### Extract rules that are at least as good as a random baseline model"
   ]
  },
  {
   "cell_type": "code",
   "execution_count": 10,
   "metadata": {},
   "outputs": [
    {
     "name": "stdout",
     "output_type": "stream",
     "text": [
      "▣ (mfcc3 < 0.5026614031627068) ∧ (decrs < -0.9409334853269118) ∧ (mfcc2 < 4.552895635419956) ∧ (¬(mel8 < 8.095081277207338e-7))  ↣  Pneumonia : (ninstances = 101, ncovered = 4, coverage = 0.04, confidence = 0.75, lift = 1.68, natoms = 4)\n",
      "▣ (mfcc3 < 0.5026614031627068) ∧ (decrs < -0.9409334853269118) ∧ (¬(mfcc2 < 4.552895635419956)) ∧ (mel6 < 8.726964519086241e-5)  ↣  Healthy : (ninstances = 101, ncovered = 1, coverage = 0.01, confidence = 1.0, lift = 1.8, natoms = 4)\n",
      "▣ (mfcc3 < 0.5026614031627068) ∧ (¬(decrs < -0.9409334853269118)) ∧ (mfcc5 < 0.11196263858700894) ∧ (mel12 < 2.954392079872265e-6)  ↣  Healthy : (ninstances = 101, ncovered = 3, coverage = 0.03, confidence = 1.0, lift = 1.8, natoms = 4)\n",
      "▣ (mfcc3 < 0.5026614031627068) ∧ (¬(decrs < -0.9409334853269118)) ∧ (mfcc5 < 0.11196263858700894) ∧ (¬(mel12 < 2.954392079872265e-6)) ∧ (crest < 16.942226922108134) ∧ (mel3 < 9.496756752633945e-5)  ↣  Healthy : (ninstances = 101, ncovered = 1, coverage = 0.01, confidence = 1.0, lift = 1.8, natoms = 6)\n",
      "▣ (mfcc3 < 0.5026614031627068) ∧ (¬(decrs < -0.9409334853269118)) ∧ (mfcc5 < 0.11196263858700894) ∧ (¬(mel12 < 2.954392079872265e-6)) ∧ (¬(crest < 16.942226922108134))  ↣  Pneumonia : (ninstances = 101, ncovered = 6, coverage = 0.06, confidence = 0.67, lift = 1.5, natoms = 5)\n",
      "▣ (mfcc3 < 0.5026614031627068) ∧ (¬(decrs < -0.9409334853269118)) ∧ (¬(mfcc5 < 0.11196263858700894)) ∧ (mfcc3 < -0.5839648238986663) ∧ (sprd < 435.1042245447893)  ↣  Healthy : (ninstances = 101, ncovered = 7, coverage = 0.07, confidence = 1.0, lift = 1.8, natoms = 5)\n",
      "▣ (mfcc3 < 0.5026614031627068) ∧ (¬(decrs < -0.9409334853269118)) ∧ (¬(mfcc5 < 0.11196263858700894)) ∧ (mfcc3 < -0.5839648238986663) ∧ (¬(sprd < 435.1042245447893)) ∧ (cntrd < 1026.5265262669163) ∧ (mfcc13 < 0.15869459770719566) ∧ (mfcc13 < -0.10350259557720298)  ↣  Healthy : (ninstances = 101, ncovered = 1, coverage = 0.01, confidence = 1.0, lift = 1.8, natoms = 8)\n",
      "▣ (mfcc3 < 0.5026614031627068) ∧ (¬(decrs < -0.9409334853269118)) ∧ (¬(mfcc5 < 0.11196263858700894)) ∧ (mfcc3 < -0.5839648238986663) ∧ (¬(sprd < 435.1042245447893)) ∧ (cntrd < 1026.5265262669163) ∧ (mfcc13 < 0.15869459770719566) ∧ (¬(mfcc13 < -0.10350259557720298))  ↣  Pneumonia : (ninstances = 101, ncovered = 4, coverage = 0.04, confidence = 1.0, lift = 2.24, natoms = 8)\n",
      "▣ (mfcc3 < 0.5026614031627068) ∧ (¬(decrs < -0.9409334853269118)) ∧ (¬(mfcc5 < 0.11196263858700894)) ∧ (mfcc3 < -0.5839648238986663) ∧ (¬(sprd < 435.1042245447893)) ∧ (cntrd < 1026.5265262669163) ∧ (¬(mfcc13 < 0.15869459770719566))  ↣  Healthy : (ninstances = 101, ncovered = 1, coverage = 0.01, confidence = 1.0, lift = 1.8, natoms = 7)\n",
      "▣ (mfcc3 < 0.5026614031627068) ∧ (¬(decrs < -0.9409334853269118)) ∧ (¬(mfcc5 < 0.11196263858700894)) ∧ (mfcc3 < -0.5839648238986663) ∧ (¬(sprd < 435.1042245447893)) ∧ (¬(cntrd < 1026.5265262669163))  ↣  Healthy : (ninstances = 101, ncovered = 1, coverage = 0.01, confidence = 1.0, lift = 1.8, natoms = 6)\n",
      "▣ (mfcc3 < 0.5026614031627068) ∧ (¬(decrs < -0.9409334853269118)) ∧ (¬(mfcc5 < 0.11196263858700894)) ∧ (¬(mfcc3 < -0.5839648238986663)) ∧ (mfcc4 < 0.4992252192245208)  ↣  Healthy : (ninstances = 101, ncovered = 28, coverage = 0.28, confidence = 1.0, lift = 1.8, natoms = 5)\n",
      "▣ (mfcc3 < 0.5026614031627068) ∧ (¬(decrs < -0.9409334853269118)) ∧ (¬(mfcc5 < 0.11196263858700894)) ∧ (¬(mfcc3 < -0.5839648238986663)) ∧ (¬(mfcc4 < 0.4992252192245208)) ∧ (¬(mfcc5 < 0.1821043922028262)) ∧ (mfcc8 < 0.4864465707982981)  ↣  Healthy : (ninstances = 101, ncovered = 2, coverage = 0.02, confidence = 1.0, lift = 1.8, natoms = 7)\n",
      "▣ (¬(mfcc3 < 0.5026614031627068)) ∧ (mel21 < 1.5931912012283505e-8)  ↣  Healthy : (ninstances = 101, ncovered = 3, coverage = 0.03, confidence = 1.0, lift = 1.8, natoms = 2)\n",
      "▣ (¬(mfcc3 < 0.5026614031627068)) ∧ (¬(mel21 < 1.5931912012283505e-8)) ∧ (cntrd < 723.180680404329) ∧ (mel10 < 2.1023903663400553e-6)  ↣  Pneumonia : (ninstances = 101, ncovered = 10, coverage = 0.1, confidence = 0.8, lift = 1.8, natoms = 4)\n",
      "▣ (¬(mfcc3 < 0.5026614031627068)) ∧ (¬(mel21 < 1.5931912012283505e-8)) ∧ (cntrd < 723.180680404329) ∧ (¬(mel10 < 2.1023903663400553e-6)) ∧ (mfcc6 < 0.13596275841557584)  ↣  Pneumonia : (ninstances = 101, ncovered = 12, coverage = 0.12, confidence = 1.0, lift = 2.24, natoms = 5)\n",
      "▣ (¬(mfcc3 < 0.5026614031627068)) ∧ (¬(mel21 < 1.5931912012283505e-8)) ∧ (cntrd < 723.180680404329) ∧ (¬(mel10 < 2.1023903663400553e-6)) ∧ (¬(mfcc6 < 0.13596275841557584)) ∧ (¬(mel23 < 2.6545215997561814e-7)) ∧ (mfcc11 < 0.012547893186449199)  ↣  Pneumonia : (ninstances = 101, ncovered = 9, coverage = 0.09, confidence = 0.89, lift = 2.0, natoms = 7)\n",
      "▣ (¬(mfcc3 < 0.5026614031627068)) ∧ (¬(mel21 < 1.5931912012283505e-8)) ∧ (cntrd < 723.180680404329) ∧ (¬(mel10 < 2.1023903663400553e-6)) ∧ (¬(mfcc6 < 0.13596275841557584)) ∧ (¬(mel23 < 2.6545215997561814e-7)) ∧ (¬(mfcc11 < 0.012547893186449199)) ∧ (¬(mfcc10 < 0.1210970277091889))  ↣  Pneumonia : (ninstances = 101, ncovered = 4, coverage = 0.04, confidence = 0.5, lift = 1.12, natoms = 8)\n",
      "▣ (¬(mfcc3 < 0.5026614031627068)) ∧ (¬(mel21 < 1.5931912012283505e-8)) ∧ (¬(cntrd < 723.180680404329)) ∧ (flatn < 0.1328006391419062) ∧ (mfcc12 < 0.05213733130877506)  ↣  Pneumonia : (ninstances = 101, ncovered = 2, coverage = 0.02, confidence = 1.0, lift = 2.24, natoms = 5)\n"
     ]
    }
   ],
   "source": [
    "interesting_rules = listrules(sole_dt, min_lift = 1.0, min_ninstances = 0);\n",
    "printmodel.(interesting_rules; show_metrics = true);"
   ]
  },
  {
   "cell_type": "markdown",
   "metadata": {},
   "source": [
    "### Simplify rules while extracting and prettify result"
   ]
  },
  {
   "cell_type": "code",
   "execution_count": 11,
   "metadata": {},
   "outputs": [
    {
     "name": "stdout",
     "output_type": "stream",
     "text": [
      "▣ (mfcc3 < 0.5) ∧ (decrs < -0.94) ∧ (mfcc2 < 4.55) ∧ (mel8 ≥ 0.0)  ↣  Pneumonia : (ninstances = 101, ncovered = 4, coverage = 0.04, confidence = 0.75, lift = 1.68, natoms = 4)\n",
      "▣ (mfcc3 < 0.5) ∧ (decrs < -0.94) ∧ (mfcc2 ≥ 4.55) ∧ (mel6 < 0.0)  ↣  Healthy : (ninstances = 101, ncovered = 1, coverage = 0.01, confidence = 1.0, lift = 1.8, natoms = 4)\n",
      "▣ (mfcc3 < 0.5) ∧ (decrs ≥ -0.94) ∧ (mfcc5 < 0.11) ∧ (mel12 < 0.0)  ↣  Healthy : (ninstances = 101, ncovered = 3, coverage = 0.03, confidence = 1.0, lift = 1.8, natoms = 4)\n",
      "▣ (mfcc3 < 0.5) ∧ (decrs ≥ -0.94) ∧ (mfcc5 < 0.11) ∧ (mel12 ≥ 0.0) ∧ (crest < 16.94) ∧ (mel3 < 0.0)  ↣  Healthy : (ninstances = 101, ncovered = 1, coverage = 0.01, confidence = 1.0, lift = 1.8, natoms = 6)\n",
      "▣ (mfcc3 < 0.5) ∧ (decrs ≥ -0.94) ∧ (mfcc5 < 0.11) ∧ (mel12 ≥ 0.0) ∧ (crest ≥ 16.94)  ↣  Pneumonia : (ninstances = 101, ncovered = 6, coverage = 0.06, confidence = 0.67, lift = 1.5, natoms = 5)\n",
      "▣ (mfcc3 < -0.58) ∧ (decrs ≥ -0.94) ∧ (mfcc5 ≥ 0.11) ∧ (sprd < 435.1)  ↣  Healthy : (ninstances = 101, ncovered = 7, coverage = 0.07, confidence = 1.0, lift = 1.8, natoms = 4)\n",
      "▣ (mfcc3 < -0.58) ∧ (decrs ≥ -0.94) ∧ (mfcc5 ≥ 0.11) ∧ (sprd ≥ 435.1) ∧ (cntrd < 1026.53) ∧ (mfcc13 < -0.1)  ↣  Healthy : (ninstances = 101, ncovered = 1, coverage = 0.01, confidence = 1.0, lift = 1.8, natoms = 6)\n",
      "▣ (mfcc3 < -0.58) ∧ (decrs ≥ -0.94) ∧ (mfcc5 ≥ 0.11) ∧ (sprd ≥ 435.1) ∧ (cntrd < 1026.53) ∧ (mfcc13 ∈ [-0.1,0.16))  ↣  Pneumonia : (ninstances = 101, ncovered = 4, coverage = 0.04, confidence = 1.0, lift = 2.24, natoms = 6)\n",
      "▣ (mfcc3 < -0.58) ∧ (decrs ≥ -0.94) ∧ (mfcc5 ≥ 0.11) ∧ (sprd ≥ 435.1) ∧ (cntrd < 1026.53) ∧ (mfcc13 ≥ 0.16)  ↣  Healthy : (ninstances = 101, ncovered = 1, coverage = 0.01, confidence = 1.0, lift = 1.8, natoms = 6)\n",
      "▣ (mfcc3 < -0.58) ∧ (decrs ≥ -0.94) ∧ (mfcc5 ≥ 0.11) ∧ (sprd ≥ 435.1) ∧ (cntrd ≥ 1026.53)  ↣  Healthy : (ninstances = 101, ncovered = 1, coverage = 0.01, confidence = 1.0, lift = 1.8, natoms = 5)\n",
      "▣ (mfcc3 ∈ [-0.58,0.5)) ∧ (decrs ≥ -0.94) ∧ (mfcc5 ≥ 0.11) ∧ (mfcc4 < 0.5)  ↣  Healthy : (ninstances = 101, ncovered = 28, coverage = 0.28, confidence = 1.0, lift = 1.8, natoms = 4)\n",
      "▣ (mfcc3 ∈ [-0.58,0.5)) ∧ (decrs ≥ -0.94) ∧ (mfcc5 ≥ 0.18) ∧ (mfcc4 ≥ 0.5) ∧ (mfcc8 < 0.49)  ↣  Healthy : (ninstances = 101, ncovered = 2, coverage = 0.02, confidence = 1.0, lift = 1.8, natoms = 5)\n",
      "▣ (mfcc3 ≥ 0.5) ∧ (mel21 < 0.0)  ↣  Healthy : (ninstances = 101, ncovered = 3, coverage = 0.03, confidence = 1.0, lift = 1.8, natoms = 2)\n",
      "▣ (mfcc3 ≥ 0.5) ∧ (mel21 ≥ 0.0) ∧ (cntrd < 723.18) ∧ (mel10 < 0.0)  ↣  Pneumonia : (ninstances = 101, ncovered = 10, coverage = 0.1, confidence = 0.8, lift = 1.8, natoms = 4)\n",
      "▣ (mfcc3 ≥ 0.5) ∧ (mel21 ≥ 0.0) ∧ (cntrd < 723.18) ∧ (mel10 ≥ 0.0) ∧ (mfcc6 < 0.14)  ↣  Pneumonia : (ninstances = 101, ncovered = 12, coverage = 0.12, confidence = 1.0, lift = 2.24, natoms = 5)\n",
      "▣ (mfcc3 ≥ 0.5) ∧ (mel21 ≥ 0.0) ∧ (cntrd < 723.18) ∧ (mel10 ≥ 0.0) ∧ (mfcc6 ≥ 0.14) ∧ (mel23 ≥ 0.0) ∧ (mfcc11 < 0.01)  ↣  Pneumonia : (ninstances = 101, ncovered = 9, coverage = 0.09, confidence = 0.89, lift = 2.0, natoms = 7)\n",
      "▣ (mfcc3 ≥ 0.5) ∧ (mel21 ≥ 0.0) ∧ (cntrd < 723.18) ∧ (mel10 ≥ 0.0) ∧ (mfcc6 ≥ 0.14) ∧ (mel23 ≥ 0.0) ∧ (mfcc11 ≥ 0.01) ∧ (mfcc10 ≥ 0.12)  ↣  Pneumonia : (ninstances = 101, ncovered = 4, coverage = 0.04, confidence = 0.5, lift = 1.12, natoms = 8)\n",
      "▣ (mfcc3 ≥ 0.5) ∧ (mel21 ≥ 0.0) ∧ (cntrd ≥ 723.18) ∧ (flatn < 0.13) ∧ (mfcc12 < 0.05)  ↣  Pneumonia : (ninstances = 101, ncovered = 2, coverage = 0.02, confidence = 1.0, lift = 2.24, natoms = 5)\n"
     ]
    }
   ],
   "source": [
    "interesting_rules = listrules(sole_dt, min_lift = 1.0, min_ninstances = 0, normalize = true);\n",
    "printmodel.(interesting_rules; show_metrics = true, syntaxstring_kwargs = (; threshold_digits = 2));"
   ]
  },
  {
   "cell_type": "markdown",
   "metadata": {},
   "source": [
    "### Directly access rule metrics"
   ]
  },
  {
   "cell_type": "code",
   "execution_count": 12,
   "metadata": {},
   "outputs": [
    {
     "data": {
      "text/plain": [
       "18-element Vector{@NamedTuple{ninstances::Int64, ncovered::Int64, coverage::Float64, confidence::Float64, lift::Float64, natoms::Int64}}:\n",
       " (ninstances = 101, ncovered = 4, coverage = 0.039603960396039604, confidence = 0.75, lift = 1.6833333333333333, natoms = 4)\n",
       " (ninstances = 101, ncovered = 1, coverage = 0.009900990099009901, confidence = 1.0, lift = 1.8035714285714284, natoms = 4)\n",
       " (ninstances = 101, ncovered = 3, coverage = 0.0297029702970297, confidence = 1.0, lift = 1.8035714285714284, natoms = 4)\n",
       " (ninstances = 101, ncovered = 1, coverage = 0.009900990099009901, confidence = 1.0, lift = 1.8035714285714284, natoms = 6)\n",
       " (ninstances = 101, ncovered = 6, coverage = 0.0594059405940594, confidence = 0.6666666666666666, lift = 1.4962962962962962, natoms = 5)\n",
       " (ninstances = 101, ncovered = 7, coverage = 0.06930693069306931, confidence = 1.0, lift = 1.8035714285714284, natoms = 5)\n",
       " (ninstances = 101, ncovered = 1, coverage = 0.009900990099009901, confidence = 1.0, lift = 1.8035714285714284, natoms = 8)\n",
       " (ninstances = 101, ncovered = 4, coverage = 0.039603960396039604, confidence = 1.0, lift = 2.2444444444444445, natoms = 8)\n",
       " (ninstances = 101, ncovered = 1, coverage = 0.009900990099009901, confidence = 1.0, lift = 1.8035714285714284, natoms = 7)\n",
       " (ninstances = 101, ncovered = 1, coverage = 0.009900990099009901, confidence = 1.0, lift = 1.8035714285714284, natoms = 6)\n",
       " (ninstances = 101, ncovered = 28, coverage = 0.27722772277227725, confidence = 1.0, lift = 1.8035714285714284, natoms = 5)\n",
       " (ninstances = 101, ncovered = 2, coverage = 0.019801980198019802, confidence = 1.0, lift = 1.8035714285714284, natoms = 7)\n",
       " (ninstances = 101, ncovered = 3, coverage = 0.0297029702970297, confidence = 1.0, lift = 1.8035714285714284, natoms = 2)\n",
       " (ninstances = 101, ncovered = 10, coverage = 0.09900990099009901, confidence = 0.8, lift = 1.7955555555555556, natoms = 4)\n",
       " (ninstances = 101, ncovered = 12, coverage = 0.1188118811881188, confidence = 1.0, lift = 2.2444444444444445, natoms = 5)\n",
       " (ninstances = 101, ncovered = 9, coverage = 0.0891089108910891, confidence = 0.8888888888888888, lift = 1.9950617283950616, natoms = 7)\n",
       " (ninstances = 101, ncovered = 4, coverage = 0.039603960396039604, confidence = 0.5, lift = 1.1222222222222222, natoms = 8)\n",
       " (ninstances = 101, ncovered = 2, coverage = 0.019801980198019802, confidence = 1.0, lift = 2.2444444444444445, natoms = 5)"
      ]
     },
     "metadata": {},
     "output_type": "display_data"
    }
   ],
   "source": [
    "readmetrics.(listrules(sole_dt; min_lift=1.0, min_ninstances = 0))"
   ]
  },
  {
   "cell_type": "markdown",
   "metadata": {},
   "source": [
    "### Show rules with an additional metric (syntax height of the rule's antecedent)"
   ]
  },
  {
   "cell_type": "code",
   "execution_count": 13,
   "metadata": {},
   "outputs": [
    {
     "name": "stdout",
     "output_type": "stream",
     "text": [
      "▣ (mfcc3 < 0.5026614031627068) ∧ (decrs < -0.9409334853269118) ∧ (mfcc2 ≥ 4.552895635419956) ∧ (mel6 < 8.726964519086241e-5)  ↣  Healthy : (ninstances = 101, ncovered = 1, coverage = 0.009900990099009901, confidence = 1.0, lift = 1.8035714285714284, natoms = 4, height = 3)\n",
      "▣ (mfcc3 < -0.5839648238986663) ∧ (decrs ≥ -0.9409334853269118) ∧ (mfcc5 ≥ 0.11196263858700894) ∧ (sprd ≥ 435.1042245447893) ∧ (cntrd ≥ 1026.5265262669163)  ↣  Healthy : (ninstances = 101, ncovered = 1, coverage = 0.009900990099009901, confidence = 1.0, lift = 1.8035714285714284, natoms = 5, height = 4)\n",
      "▣ (mfcc3 < 0.5026614031627068) ∧ (decrs ≥ -0.9409334853269118) ∧ (mfcc5 < 0.11196263858700894) ∧ (mel12 ≥ 2.954392079872265e-6) ∧ (crest < 16.942226922108134) ∧ (mel3 < 9.496756752633945e-5)  ↣  Healthy : (ninstances = 101, ncovered = 1, coverage = 0.009900990099009901, confidence = 1.0, lift = 1.8035714285714284, natoms = 6, height = 5)\n",
      "▣ (mfcc3 < -0.5839648238986663) ∧ (decrs ≥ -0.9409334853269118) ∧ (mfcc5 ≥ 0.11196263858700894) ∧ (sprd ≥ 435.1042245447893) ∧ (cntrd < 1026.5265262669163) ∧ (mfcc13 < -0.10350259557720298)  ↣  Healthy : (ninstances = 101, ncovered = 1, coverage = 0.009900990099009901, confidence = 1.0, lift = 1.8035714285714284, natoms = 6, height = 5)\n",
      "▣ (mfcc3 < -0.5839648238986663) ∧ (decrs ≥ -0.9409334853269118) ∧ (mfcc5 ≥ 0.11196263858700894) ∧ (sprd ≥ 435.1042245447893) ∧ (cntrd < 1026.5265262669163) ∧ (mfcc13 ≥ 0.15869459770719566)  ↣  Healthy : (ninstances = 101, ncovered = 1, coverage = 0.009900990099009901, confidence = 1.0, lift = 1.8035714285714284, natoms = 6, height = 5)\n",
      "▣ (mfcc3 ∈ [-0.5839648238986663,0.5026614031627068)) ∧ (decrs ≥ -0.9409334853269118) ∧ (mfcc5 ≥ 0.1821043922028262) ∧ (mfcc4 ≥ 0.4992252192245208) ∧ (mfcc8 < 0.4864465707982981)  ↣  Healthy : (ninstances = 101, ncovered = 2, coverage = 0.019801980198019802, confidence = 1.0, lift = 1.8035714285714284, natoms = 5, height = 4)\n",
      "▣ (mfcc3 ≥ 0.5026614031627068) ∧ (mel21 ≥ 1.5931912012283505e-8) ∧ (cntrd ≥ 723.180680404329) ∧ (flatn < 0.1328006391419062) ∧ (mfcc12 < 0.05213733130877506)  ↣  Pneumonia : (ninstances = 101, ncovered = 2, coverage = 0.019801980198019802, confidence = 1.0, lift = 2.2444444444444445, natoms = 5, height = 4)\n",
      "▣ (mfcc3 ≥ 0.5026614031627068) ∧ (mel21 < 1.5931912012283505e-8)  ↣  Healthy : (ninstances = 101, ncovered = 3, coverage = 0.0297029702970297, confidence = 1.0, lift = 1.8035714285714284, natoms = 2, height = 1)\n",
      "▣ (mfcc3 < 0.5026614031627068) ∧ (decrs ≥ -0.9409334853269118) ∧ (mfcc5 < 0.11196263858700894) ∧ (mel12 < 2.954392079872265e-6)  ↣  Healthy : (ninstances = 101, ncovered = 3, coverage = 0.0297029702970297, confidence = 1.0, lift = 1.8035714285714284, natoms = 4, height = 3)\n",
      "▣ (mfcc3 ≥ 0.5026614031627068) ∧ (mel21 ≥ 1.5931912012283505e-8) ∧ (cntrd < 723.180680404329) ∧ (mel10 ≥ 2.1023903663400553e-6) ∧ (mfcc6 ≥ 0.13596275841557584) ∧ (mel23 ≥ 2.6545215997561814e-7) ∧ (mfcc11 ≥ 0.012547893186449199) ∧ (mfcc10 ≥ 0.1210970277091889)  ↣  Pneumonia : (ninstances = 101, ncovered = 4, coverage = 0.039603960396039604, confidence = 0.5, lift = 1.1222222222222222, natoms = 8, height = 7)\n",
      "▣ (mfcc3 < 0.5026614031627068) ∧ (decrs < -0.9409334853269118) ∧ (mfcc2 < 4.552895635419956) ∧ (mel8 ≥ 8.095081277207338e-7)  ↣  Pneumonia : (ninstances = 101, ncovered = 4, coverage = 0.039603960396039604, confidence = 0.75, lift = 1.6833333333333333, natoms = 4, height = 3)\n",
      "▣ (mfcc3 < -0.5839648238986663) ∧ (decrs ≥ -0.9409334853269118) ∧ (mfcc5 ≥ 0.11196263858700894) ∧ (sprd ≥ 435.1042245447893) ∧ (cntrd < 1026.5265262669163) ∧ (mfcc13 ∈ [-0.10350259557720298,0.15869459770719566))  ↣  Pneumonia : (ninstances = 101, ncovered = 4, coverage = 0.039603960396039604, confidence = 1.0, lift = 2.2444444444444445, natoms = 6, height = 5)\n",
      "▣ (mfcc3 < 0.5026614031627068) ∧ (decrs ≥ -0.9409334853269118) ∧ (mfcc5 < 0.11196263858700894) ∧ (mel12 ≥ 2.954392079872265e-6) ∧ (crest ≥ 16.942226922108134)  ↣  Pneumonia : (ninstances = 101, ncovered = 6, coverage = 0.0594059405940594, confidence = 0.6666666666666666, lift = 1.4962962962962962, natoms = 5, height = 4)\n",
      "▣ (mfcc3 < -0.5839648238986663) ∧ (decrs ≥ -0.9409334853269118) ∧ (mfcc5 ≥ 0.11196263858700894) ∧ (sprd < 435.1042245447893)  ↣  Healthy : (ninstances = 101, ncovered = 7, coverage = 0.06930693069306931, confidence = 1.0, lift = 1.8035714285714284, natoms = 4, height = 3)\n",
      "▣ (mfcc3 ≥ 0.5026614031627068) ∧ (mel21 ≥ 1.5931912012283505e-8) ∧ (cntrd < 723.180680404329) ∧ (mel10 ≥ 2.1023903663400553e-6) ∧ (mfcc6 ≥ 0.13596275841557584) ∧ (mel23 ≥ 2.6545215997561814e-7) ∧ (mfcc11 < 0.012547893186449199)  ↣  Pneumonia : (ninstances = 101, ncovered = 9, coverage = 0.0891089108910891, confidence = 0.8888888888888888, lift = 1.9950617283950616, natoms = 7, height = 6)\n",
      "▣ (mfcc3 ≥ 0.5026614031627068) ∧ (mel21 ≥ 1.5931912012283505e-8) ∧ (cntrd < 723.180680404329) ∧ (mel10 < 2.1023903663400553e-6)  ↣  Pneumonia : (ninstances = 101, ncovered = 10, coverage = 0.09900990099009901, confidence = 0.8, lift = 1.7955555555555556, natoms = 4, height = 3)\n",
      "▣ (mfcc3 ≥ 0.5026614031627068) ∧ (mel21 ≥ 1.5931912012283505e-8) ∧ (cntrd < 723.180680404329) ∧ (mel10 ≥ 2.1023903663400553e-6) ∧ (mfcc6 < 0.13596275841557584)  ↣  Pneumonia : (ninstances = 101, ncovered = 12, coverage = 0.1188118811881188, confidence = 1.0, lift = 2.2444444444444445, natoms = 5, height = 4)\n",
      "▣ (mfcc3 ∈ [-0.5839648238986663,0.5026614031627068)) ∧ (decrs ≥ -0.9409334853269118) ∧ (mfcc5 ≥ 0.11196263858700894) ∧ (mfcc4 < 0.4992252192245208)  ↣  Healthy : (ninstances = 101, ncovered = 28, coverage = 0.27722772277227725, confidence = 1.0, lift = 1.8035714285714284, natoms = 4, height = 3)\n"
     ]
    }
   ],
   "source": [
    "printmodel.(sort(interesting_rules, by = readmetrics); show_metrics = (; round_digits = nothing, additional_metrics = (; height = r->SoleLogics.height(antecedent(r)))));"
   ]
  },
  {
   "cell_type": "markdown",
   "metadata": {},
   "source": [
    "### Pretty table of rules and their metrics"
   ]
  },
  {
   "cell_type": "code",
   "execution_count": 14,
   "metadata": {},
   "outputs": [
    {
     "name": "stdout",
     "output_type": "stream",
     "text": [
      "┌───────────────────────────────────────────────────────────────────────────────────────────────────────────────────────────────────────────────────────────────────────────────────────────────────────────────────────────────────────────────────────────────────┬────────────┬────────────┬──────────┬────────────┬────────────┬─────────┬────────┬────────┐\n",
      "│\u001b[33;1m                                                                                                                                                                                                                                                        Antecedent \u001b[0m│\u001b[33;1m Consequent \u001b[0m│\u001b[33;1m ninstances \u001b[0m│\u001b[33;1m ncovered \u001b[0m│\u001b[33;1m   coverage \u001b[0m│\u001b[33;1m confidence \u001b[0m│\u001b[33;1m    lift \u001b[0m│\u001b[33;1m natoms \u001b[0m│\u001b[33;1m height \u001b[0m│\n",
      "├───────────────────────────────────────────────────────────────────────────────────────────────────────────────────────────────────────────────────────────────────────────────────────────────────────────────────────────────────────────────────────────────────┼────────────┼────────────┼──────────┼────────────┼────────────┼─────────┼────────┼────────┤\n",
      "│                                                                                                                                        (mfcc3 < 0.5026614031627068) ∧ (decrs < -0.9409334853269118) ∧ (mfcc2 < 4.552895635419956) ∧ (mel8 ≥ 8.095081277207338e-7) │  Pneumonia │        101 │        4 │   0.039604 │       0.75 │ 1.68333 │      4 │      3 │\n",
      "│                                                                                                                                        (mfcc3 < 0.5026614031627068) ∧ (decrs < -0.9409334853269118) ∧ (mfcc2 ≥ 4.552895635419956) ∧ (mel6 < 8.726964519086241e-5) │    Healthy │        101 │        1 │ 0.00990099 │        1.0 │ 1.80357 │      4 │      3 │\n",
      "│                                                                                                                                     (mfcc3 < 0.5026614031627068) ∧ (decrs ≥ -0.9409334853269118) ∧ (mfcc5 < 0.11196263858700894) ∧ (mel12 < 2.954392079872265e-6) │    Healthy │        101 │        3 │   0.029703 │        1.0 │ 1.80357 │      4 │      3 │\n",
      "│                                                                      (mfcc3 < 0.5026614031627068) ∧ (decrs ≥ -0.9409334853269118) ∧ (mfcc5 < 0.11196263858700894) ∧ (mel12 ≥ 2.954392079872265e-6) ∧ (crest < 16.942226922108134) ∧ (mel3 < 9.496756752633945e-5) │    Healthy │        101 │        1 │ 0.00990099 │        1.0 │ 1.80357 │      6 │      5 │\n",
      "│                                                                                                      (mfcc3 < 0.5026614031627068) ∧ (decrs ≥ -0.9409334853269118) ∧ (mfcc5 < 0.11196263858700894) ∧ (mel12 ≥ 2.954392079872265e-6) ∧ (crest ≥ 16.942226922108134) │  Pneumonia │        101 │        6 │  0.0594059 │   0.666667 │  1.4963 │      5 │      4 │\n",
      "│                                                                                                                                        (mfcc3 < -0.5839648238986663) ∧ (decrs ≥ -0.9409334853269118) ∧ (mfcc5 ≥ 0.11196263858700894) ∧ (sprd < 435.1042245447893) │    Healthy │        101 │        7 │  0.0693069 │        1.0 │ 1.80357 │      4 │      3 │\n",
      "│                                                                       (mfcc3 < -0.5839648238986663) ∧ (decrs ≥ -0.9409334853269118) ∧ (mfcc5 ≥ 0.11196263858700894) ∧ (sprd ≥ 435.1042245447893) ∧ (cntrd < 1026.5265262669163) ∧ (mfcc13 < -0.10350259557720298) │    Healthy │        101 │        1 │ 0.00990099 │        1.0 │ 1.80357 │      6 │      5 │\n",
      "│                                                 (mfcc3 < -0.5839648238986663) ∧ (decrs ≥ -0.9409334853269118) ∧ (mfcc5 ≥ 0.11196263858700894) ∧ (sprd ≥ 435.1042245447893) ∧ (cntrd < 1026.5265262669163) ∧ (mfcc13 ∈ [-0.10350259557720298,0.15869459770719566)) │  Pneumonia │        101 │        4 │   0.039604 │        1.0 │ 2.24444 │      6 │      5 │\n",
      "│                                                                        (mfcc3 < -0.5839648238986663) ∧ (decrs ≥ -0.9409334853269118) ∧ (mfcc5 ≥ 0.11196263858700894) ∧ (sprd ≥ 435.1042245447893) ∧ (cntrd < 1026.5265262669163) ∧ (mfcc13 ≥ 0.15869459770719566) │    Healthy │        101 │        1 │ 0.00990099 │        1.0 │ 1.80357 │      6 │      5 │\n",
      "│                                                                                                         (mfcc3 < -0.5839648238986663) ∧ (decrs ≥ -0.9409334853269118) ∧ (mfcc5 ≥ 0.11196263858700894) ∧ (sprd ≥ 435.1042245447893) ∧ (cntrd ≥ 1026.5265262669163) │    Healthy │        101 │        1 │ 0.00990099 │        1.0 │ 1.80357 │      5 │      4 │\n",
      "│                                                                                                                 (mfcc3 ∈ [-0.5839648238986663,0.5026614031627068)) ∧ (decrs ≥ -0.9409334853269118) ∧ (mfcc5 ≥ 0.11196263858700894) ∧ (mfcc4 < 0.4992252192245208) │    Healthy │        101 │       28 │   0.277228 │        1.0 │ 1.80357 │      4 │      3 │\n",
      "│                                                                                   (mfcc3 ∈ [-0.5839648238986663,0.5026614031627068)) ∧ (decrs ≥ -0.9409334853269118) ∧ (mfcc5 ≥ 0.1821043922028262) ∧ (mfcc4 ≥ 0.4992252192245208) ∧ (mfcc8 < 0.4864465707982981) │    Healthy │        101 │        2 │   0.019802 │        1.0 │ 1.80357 │      5 │      4 │\n",
      "│                                                                                                                                                                                                    (mfcc3 ≥ 0.5026614031627068) ∧ (mel21 < 1.5931912012283505e-8) │    Healthy │        101 │        3 │   0.029703 │        1.0 │ 1.80357 │      2 │      1 │\n",
      "│                                                                                                                                     (mfcc3 ≥ 0.5026614031627068) ∧ (mel21 ≥ 1.5931912012283505e-8) ∧ (cntrd < 723.180680404329) ∧ (mel10 < 2.1023903663400553e-6) │  Pneumonia │        101 │       10 │  0.0990099 │        0.8 │ 1.79556 │      4 │      3 │\n",
      "│                                                                                                     (mfcc3 ≥ 0.5026614031627068) ∧ (mel21 ≥ 1.5931912012283505e-8) ∧ (cntrd < 723.180680404329) ∧ (mel10 ≥ 2.1023903663400553e-6) ∧ (mfcc6 < 0.13596275841557584) │  Pneumonia │        101 │       12 │   0.118812 │        1.0 │ 2.24444 │      5 │      4 │\n",
      "│                                 (mfcc3 ≥ 0.5026614031627068) ∧ (mel21 ≥ 1.5931912012283505e-8) ∧ (cntrd < 723.180680404329) ∧ (mel10 ≥ 2.1023903663400553e-6) ∧ (mfcc6 ≥ 0.13596275841557584) ∧ (mel23 ≥ 2.6545215997561814e-7) ∧ (mfcc11 < 0.012547893186449199) │  Pneumonia │        101 │        9 │  0.0891089 │   0.888889 │ 1.99506 │      7 │      6 │\n",
      "│ (mfcc3 ≥ 0.5026614031627068) ∧ (mel21 ≥ 1.5931912012283505e-8) ∧ (cntrd < 723.180680404329) ∧ (mel10 ≥ 2.1023903663400553e-6) ∧ (mfcc6 ≥ 0.13596275841557584) ∧ (mel23 ≥ 2.6545215997561814e-7) ∧ (mfcc11 ≥ 0.012547893186449199) ∧ (mfcc10 ≥ 0.1210970277091889) │  Pneumonia │        101 │        4 │   0.039604 │        0.5 │ 1.12222 │      8 │      7 │\n",
      "│                                                                                                       (mfcc3 ≥ 0.5026614031627068) ∧ (mel21 ≥ 1.5931912012283505e-8) ∧ (cntrd ≥ 723.180680404329) ∧ (flatn < 0.1328006391419062) ∧ (mfcc12 < 0.05213733130877506) │  Pneumonia │        101 │        2 │   0.019802 │        1.0 │ 2.24444 │      5 │      4 │\n",
      "└───────────────────────────────────────────────────────────────────────────────────────────────────────────────────────────────────────────────────────────────────────────────────────────────────────────────────────────────────────────────────────────────────┴────────────┴────────────┴──────────┴────────────┴────────────┴─────────┴────────┴────────┘\n"
     ]
    }
   ],
   "source": [
    "metricstable(interesting_rules; metrics_kwargs = (; round_digits = nothing, additional_metrics = (; height = r->SoleLogics.height(antecedent(r)))))"
   ]
  }
 ],
 "metadata": {
  "kernelspec": {
   "display_name": "Julia 1.10.4",
   "language": "julia",
   "name": "julia-1.10"
  },
  "language_info": {
   "file_extension": ".jl",
   "mimetype": "application/julia",
   "name": "julia",
   "version": "1.10.4"
  }
 },
 "nbformat": 4,
 "nbformat_minor": 2
}
