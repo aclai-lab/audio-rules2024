{
 "cells": [
  {
   "cell_type": "markdown",
   "metadata": {},
   "source": [
    "# ItaData2024\n",
    "\n",
    "## Pneumonia\n",
    "\n",
    "propositional analysis"
   ]
  },
  {
   "cell_type": "code",
   "execution_count": 28,
   "metadata": {},
   "outputs": [
    {
     "name": "stderr",
     "output_type": "stream",
     "text": [
      "\u001b[32m\u001b[1m  Activating\u001b[22m\u001b[39m project at `~/Documents/Aclai/audio-rules2024`\n"
     ]
    }
   ],
   "source": [
    "using Pkg\n",
    "Pkg.activate(\".\")\n",
    "using MLJ, ModalDecisionTrees\n",
    "using SoleDecisionTreeInterface, Sole, SoleData\n",
    "using CategoricalArrays\n",
    "using DataFrames, JLD2, CSV\n",
    "using Audio911\n",
    "using Random\n",
    "using StatsBase, Catch22\n",
    "using Test\n",
    "using Plots"
   ]
  },
  {
   "cell_type": "markdown",
   "metadata": {},
   "source": [
    "### Settings"
   ]
  },
  {
   "cell_type": "code",
   "execution_count": 29,
   "metadata": {},
   "outputs": [],
   "source": [
    "experiment = :Pneumonia\n",
    "# experiment = :Bronchiectasis\n",
    "# experiment = :COPD\n",
    "# experiment = :URTI\n",
    "# experiment = :Bronchiolitis\n",
    "\n",
    "features = :catch9\n",
    "# features = :minmax\n",
    "# features = :custom\n",
    "\n",
    "loadset = false\n",
    "# loadset = true\n",
    "\n",
    "scale = :semitones\n",
    "# scale = :mel_htk\n",
    "\n",
    "usemfcc = false\n",
    "# usemfcc = true\n",
    "usef0 = false\n",
    "# usef0 = true\n",
    "\n",
    "sr = 8000\n",
    "audioparams = (\n",
    "    usemfcc = usemfcc,\n",
    "    usef0 = usef0,\n",
    "    sr = sr,\n",
    "    nfft = 512,\n",
    "    scale = scale, # :mel_htk, :mel_slaney, :erb, :bark, :semitones, :tuned_semitones\n",
    "    nbands = scale == :semitones ? 14 : 26,\n",
    "    ncoeffs = scale == :semitones ? 7 : 13,\n",
    "    freq_range = (300, round(Int, sr / 2)),\n",
    "    db_scale = usemfcc ? false : true,\n",
    ")\n",
    "\n",
    "memguard = false;\n",
    "# memguard = true;\n",
    "n_elems = 15;\n",
    "\n",
    "avail_exp = [:Pneumonia, :Bronchiectasis, :COPD, :URTI, :Bronchiolitis]\n",
    "\n",
    "@assert experiment in avail_exp \"Unknown type of experiment: $experiment.\"\n",
    "\n",
    "findhealthy = y -> findall(x -> x == \"Healthy\", y)\n",
    "ds_path = \"/datasets/respiratory_Healthy_\" * String(experiment)\n",
    "findsick = y -> findall(x -> x == String(experiment), y)\n",
    "filename = \"/datasets/itadata2024_\" * String(experiment) * \"_files\"\n",
    "memguard && begin filename *= string(\"_memguard\") end\n",
    "\n",
    "destpath = \"results/propositional\"\n",
    "jld2file = destpath * \"/itadata2024_\" * String(experiment) * \"_\" * String(scale) * \".jld2\"\n",
    "\n",
    "color_code = Dict(:red => 31, :green => 32, :yellow => 33, :blue => 34, :magenta => 35, :cyan => 36);\n",
    "r_select = r\"\\e\\[\\d+m(.*?)\\e\\[0m\";"
   ]
  },
  {
   "cell_type": "markdown",
   "metadata": {},
   "source": [
    "### Audio features extraction function\n",
    "This function is called for every audio sample and extract 25 features:\n",
    "14 bands of the mel spectrogram,\n",
    "11 spectral features: centroid, crest, entropy, flatness, flux, kurtosis, rolloff, skewness, decrease, slope, spread"
   ]
  },
  {
   "cell_type": "code",
   "execution_count": 30,
   "metadata": {},
   "outputs": [
    {
     "data": {
      "text/plain": [
       "afe (generic function with 2 methods)"
      ]
     },
     "metadata": {},
     "output_type": "display_data"
    }
   ],
   "source": [
    "function afe(x::AbstractVector{Float64}, audioparams::NamedTuple; get_only_melfreq=false)\n",
    "    # -------------------------------- parameters -------------------------------- #\n",
    "    # audio module\n",
    "    sr = audioparams.sr\n",
    "    norm = true\n",
    "    speech_detection = false\n",
    "    # stft module\n",
    "    nfft = audioparams.nfft\n",
    "    win_type = (:hann, :periodic)\n",
    "    win_length = audioparams.nfft\n",
    "    overlap_length = round(Int, audioparams.nfft / 2)\n",
    "    stft_norm = :power                      # :power, :magnitude, :pow2mag\n",
    "    # mel filterbank module\n",
    "    nbands = audioparams.nbands\n",
    "    scale = audioparams.scale               # :mel_htk, :mel_slaney, :erb, :bark, :semitones, :tuned_semitones\n",
    "    melfb_norm = :bandwidth                 # :bandwidth, :area, :none\n",
    "    freq_range = audioparams.freq_range\n",
    "    # mel spectrogram module\n",
    "    db_scale = audioparams.db_scale\n",
    "\n",
    "    # --------------------------------- functions -------------------------------- #\n",
    "    # audio module\n",
    "    audio = load_audio(\n",
    "        file=x,\n",
    "        sr=sr,\n",
    "        norm=norm,\n",
    "    );\n",
    "\n",
    "    stftspec = get_stft(\n",
    "        audio=audio,\n",
    "        nfft=nfft,\n",
    "        win_type=win_type,\n",
    "        win_length=win_length,\n",
    "        overlap_length=overlap_length,\n",
    "        norm=stft_norm\n",
    "    );\n",
    "\n",
    "    # mel filterbank module\n",
    "    melfb = get_melfb(\n",
    "        stft=stftspec,\n",
    "        nbands=nbands,\n",
    "        scale=scale,\n",
    "        norm=melfb_norm,\n",
    "        freq_range=freq_range\n",
    "    );\n",
    "\n",
    "    if get_only_melfreq\n",
    "        return melfb.data.freq\n",
    "    end\n",
    "\n",
    "    # mel spectrogram module\n",
    "    melspec =  get_melspec(\n",
    "        stft=stftspec,\n",
    "        fbank=melfb,\n",
    "        db_scale=db_scale\n",
    "    );\n",
    "\n",
    "    if audioparams.usemfcc\n",
    "        # mfcc module\n",
    "        ncoeffs = audioparams.ncoeffs\n",
    "        rectification = :log                    # :log, :cubic_root\n",
    "        dither = true\n",
    "\n",
    "        mfcc = get_mfcc(\n",
    "            source=melspec,\n",
    "            ncoeffs=ncoeffs,\n",
    "            rectification=rectification,\n",
    "            dither=dither,\n",
    "        );\n",
    "    end\n",
    "\n",
    "    if audioparams.usef0\n",
    "        # f0 module\n",
    "        method = :nfc\n",
    "        f0_range = (50, 400)\n",
    "\n",
    "        f0 = get_f0(\n",
    "            source=stftspec,\n",
    "            method=method,\n",
    "            freq_range=f0_range\n",
    "        );\n",
    "    end\n",
    "\n",
    "    # spectral features module\n",
    "    spect = get_spectrals(\n",
    "        source=stftspec,\n",
    "        freq_range=freq_range\n",
    "    );\n",
    "\n",
    "    hcat(\n",
    "        filter(!isnothing, [\n",
    "            melspec.spec',\n",
    "            audioparams.usemfcc ? mfcc.mfcc' : nothing,\n",
    "            audioparams.usef0 ? f0.f0 : nothing,\n",
    "            spect.centroid,\n",
    "            spect.crest,\n",
    "            spect.entropy,\n",
    "            spect.flatness,\n",
    "            spect.flux,\n",
    "            spect.kurtosis,\n",
    "            spect.rolloff,\n",
    "            spect.skewness,\n",
    "            spect.decrease,\n",
    "            spect.slope,\n",
    "            spect.spread\n",
    "        ])...\n",
    "    )    \n",
    "end"
   ]
  },
  {
   "cell_type": "markdown",
   "metadata": {},
   "source": [
    "### Prepare dataset for analysis"
   ]
  },
  {
   "cell_type": "code",
   "execution_count": 31,
   "metadata": {},
   "outputs": [
    {
     "name": "stderr",
     "output_type": "stream",
     "text": [
      "┌ Info: Build dataset...\n",
      "└ @ Main /home/paso/Documents/Aclai/audio-rules2024/jl_notebook_cell_df34fa98e69747e1a8f8a730347b8e2f_X10sZmlsZQ==.jl:42\n"
     ]
    },
    {
     "name": "stdout",
     "output_type": "stream",
     "text": [
      "Training set size: (403, 225) - 403\n",
      "Test set size: (101, 225) - 101\n"
     ]
    }
   ],
   "source": [
    "d = jldopen(string((@__DIR__), ds_path, \".jld2\"))\n",
    "x, y = d[\"dataframe_validated\"]\n",
    "@assert x isa DataFrame\n",
    "close(d)\n",
    "\n",
    "memguard && begin\n",
    "    cat2 = round(Int, length(y)/2)\n",
    "    indices = [1:n_elems; cat2:cat2+n_elems-1]\n",
    "    x = x[indices, :]\n",
    "    y = y[indices]\n",
    "end\n",
    "\n",
    "freq = round.(Int, afe(x[1, :audio], audioparams; get_only_melfreq=true))\n",
    "\n",
    "catch9_f = [\"max\", \"min\", \"mean\", \"med\", \"std\", \"bsm\", \"bsd\", \"qnt\", \"3ac\"]\n",
    "variable_names = vcat([\n",
    "    vcat(\n",
    "        [\"\\e[$(color_code[:yellow])m$j(mel$i=$(freq[i])Hz)\\e[0m\" for i in 1:audioparams.nbands],\n",
    "        audioparams.usemfcc ? [\"\\e[$(color_code[:red])m$j(mfcc$i)\\e[0m\" for i in 1:audioparams.ncoeffs] : String[],\n",
    "        audioparams.usef0 ? [\"\\e[$(color_code[:green])m$j(f0)\\e[0m\"] : String[],\n",
    "        \"\\e[$(color_code[:cyan])m$j(cntrd)\\e[0m\", \"\\e[$(color_code[:cyan])m$j(crest)\\e[0m\",\n",
    "        \"\\e[$(color_code[:cyan])m$j(entrp)\\e[0m\", \"\\e[$(color_code[:cyan])m$j(flatn)\\e[0m\", \"\\e[$(color_code[:cyan])m$j(flux)\\e[0m\",\n",
    "        \"\\e[$(color_code[:cyan])m$j(kurts)\\e[0m\", \"\\e[$(color_code[:cyan])m$j(rllff)\\e[0m\", \"\\e[$(color_code[:cyan])m$j(skwns)\\e[0m\",\n",
    "        \"\\e[$(color_code[:cyan])m$j(decrs)\\e[0m\", \"\\e[$(color_code[:cyan])m$j(slope)\\e[0m\", \"\\e[$(color_code[:cyan])m$j(sprd)\\e[0m\"\n",
    "    )\n",
    "    for j in catch9_f\n",
    "]...)\n",
    "    \n",
    "catch9 = [\n",
    "    maximum,\n",
    "    minimum,\n",
    "    StatsBase.mean,\n",
    "    median,\n",
    "    std,\n",
    "    Catch22.SB_BinaryStats_mean_longstretch1,\n",
    "    Catch22.SB_BinaryStats_diff_longstretch0,\n",
    "    Catch22.SB_MotifThree_quantile_hh,\n",
    "    Catch22.SB_TransitionMatrix_3ac_sumdiagcov,\n",
    "]\n",
    "\n",
    "if !loadset\n",
    "    @info(\"Build dataset...\")\n",
    "\n",
    "    X = DataFrame([name => Float64[] for name in [match(r_select, v)[1] for v in variable_names]])\n",
    "    audiofeats = [afe(row[:audio], audioparams) for row in eachrow(x)]\n",
    "    push!(X, vcat([vcat([map(func, eachcol(row)) for func in catch9]...) for row in audiofeats])...)\n",
    "\n",
    "    yc = CategoricalArray(y);\n",
    "\n",
    "    train_ratio = 0.8\n",
    "\n",
    "    train, test = partition(eachindex(yc), train_ratio, shuffle=true)\n",
    "    X_train, y_train = X[train, :], yc[train]\n",
    "    X_test, y_test = X[test, :], yc[test]\n",
    "\n",
    "    println(\"Training set size: \", size(X_train), \" - \", length(y_train))\n",
    "    println(\"Test set size: \", size(X_test), \" - \", length(y_test))\n",
    "end"
   ]
  },
  {
   "cell_type": "markdown",
   "metadata": {},
   "source": [
    "### Train a model"
   ]
  },
  {
   "cell_type": "code",
   "execution_count": 32,
   "metadata": {},
   "outputs": [
    {
     "name": "stderr",
     "output_type": "stream",
     "text": [
      "┌ Info: For silent loading, specify `verbosity=0`. \n",
      "└ @ Main /home/paso/.julia/packages/MLJModels/8W54X/src/loading.jl:159\n"
     ]
    },
    {
     "name": "stdout",
     "output_type": "stream",
     "text": [
      "import MLJDecisionTreeInterface ✔\n"
     ]
    },
    {
     "name": "stderr",
     "output_type": "stream",
     "text": [
      "┌ Info: Training machine(DecisionTreeClassifier(max_depth = -1, …), …).\n",
      "└ @ MLJBase /home/paso/.julia/packages/MLJBase/7nGJF/src/machines.jl:499\n"
     ]
    },
    {
     "data": {
      "text/plain": [
       "max(cntrd) < 1175.0\n",
       "├─ min(mel8=1194Hz) < -4.23\n",
       "│  ├─ std(mel13=2832Hz) < 0.1287\n",
       "│  │  ├─ std(mel9=1419Hz) < 0.2263\n",
       "│  │  │  ├─ Pneumonia (103/103)\n",
       "│  │  │  └─ med(cntrd) < 695.1\n",
       "│  │  │     ├─ min(crest) < 31.03\n",
       "│  │  │     │  ⋮\n",
       "│  │  │     │  \n",
       "│  │  │     └─ qnt(skwns) < 2.01\n",
       "│  │  │        ⋮\n",
       "│  │  │        \n",
       "│  │  └─ min(mel14=3366Hz) < -7.396\n",
       "│  │     ├─ Healthy (12/12)\n",
       "│  │     └─ min(kurts) < 5.44\n",
       "│  │        ├─ med(mel6=845Hz) < -4.571\n",
       "│  │        │  ⋮\n",
       "│  │        │  \n",
       "│  │        └─ 3ac(mel13=2832Hz) < 0.005859\n",
       "│  │           ⋮\n",
       "│  │           \n",
       "│  └─ min(sprd) < 318.6\n",
       "│     ├─ Healthy (22/22)\n",
       "│     └─ Pneumonia (3/3)\n",
       "└─ std(flatn) < 0.03835\n",
       "   ├─ mean(mel9=1419Hz) < -4.414\n",
       "   │  ├─ Pneumonia (8/8)\n",
       "   │  └─ qnt(mel9=1419Hz) < 1.76\n",
       "   │     ├─ Pneumonia (1/1)\n",
       "   │     └─ Healthy (8/8)\n",
       "   └─ med(sprd) < 204.4\n",
       "      ├─ Pneumonia (2/2)\n",
       "      └─ bsm(mel8=1194Hz) < 3.5\n",
       "         ├─ 3ac(crest) < 0.01251\n",
       "         │  ├─ Healthy (1/1)\n",
       "         │  └─ Pneumonia (2/2)\n",
       "         └─ bsm(mel14=3366Hz) < 3.5\n",
       "            ├─ std(mel8=1194Hz) < 0.4115\n",
       "            │  ⋮\n",
       "            │  \n",
       "            └─ Healthy (120/120)\n"
      ]
     },
     "metadata": {},
     "output_type": "display_data"
    }
   ],
   "source": [
    "if !loadset\n",
    "    learned_dt_tree = begin\n",
    "        Tree = MLJ.@load DecisionTreeClassifier pkg=DecisionTree\n",
    "        model = Tree(max_depth=-1, )\n",
    "        mach = machine(model, X_train, y_train)\n",
    "        fit!(mach)\n",
    "        fitted_params(mach).tree\n",
    "    end\n",
    "end"
   ]
  },
  {
   "cell_type": "markdown",
   "metadata": {},
   "source": [
    "### Model inspection & rule study"
   ]
  },
  {
   "cell_type": "code",
   "execution_count": 33,
   "metadata": {},
   "outputs": [
    {
     "name": "stdout",
     "output_type": "stream",
     "text": [
      "\u001b[34m▣\u001b[0m \u001b[1m\u001b[36mmax(cntrd)\u001b[0m \u001b[1m<\u001b[0m\u001b[0m 1175.142326739371\n",
      "├✔ \u001b[1m\u001b[33mmin(mel8=1194Hz)\u001b[0m \u001b[1m<\u001b[0m\u001b[0m -4.230496791684855\n",
      "│├✔ \u001b[1m\u001b[33mstd(mel13=2832Hz)\u001b[0m \u001b[1m<\u001b[0m\u001b[0m 0.12871913235095664\n",
      "││├✔ \u001b[1m\u001b[33mstd(mel9=1419Hz)\u001b[0m \u001b[1m<\u001b[0m\u001b[0m 0.22633671315471646\n",
      "│││├✔ Pneumonia : (ninstances = 27, ncovered = 27, confidence = 1.0, lift = 1.0)\n",
      "│││└✘ \u001b[1m\u001b[36mmed(cntrd)\u001b[0m \u001b[1m<\u001b[0m\u001b[0m 695.0784158201961\n",
      "│││ ├✔ \u001b[1m\u001b[36mmin(crest)\u001b[0m \u001b[1m<\u001b[0m\u001b[0m 31.03081642487632\n",
      "│││ │├✔ Pneumonia : (ninstances = 4, ncovered = 4, confidence = 1.0, lift = 1.0)\n",
      "│││ │└✘ \u001b[1m\u001b[36mmean(decrs)\u001b[0m \u001b[1m<\u001b[0m\u001b[0m -2.316178109209957\n",
      "│││ │ ├✔ Pneumonia : (ninstances = 0, ncovered = 0, confidence = NaN, lift = NaN)\n",
      "│││ │ └✘ Healthy : (ninstances = 1, ncovered = 1, confidence = 0.0, lift = NaN)\n",
      "│││ └✘ \u001b[1m\u001b[36mqnt(skwns)\u001b[0m \u001b[1m<\u001b[0m\u001b[0m 2.0096343428350045\n",
      "│││  ├✔ Pneumonia : (ninstances = 0, ncovered = 0, confidence = NaN, lift = NaN)\n",
      "│││  └✘ Healthy : (ninstances = 3, ncovered = 3, confidence = 1.0, lift = 1.0)\n",
      "││└✘ \u001b[1m\u001b[33mmin(mel14=3366Hz)\u001b[0m \u001b[1m<\u001b[0m\u001b[0m -7.396015851085238\n",
      "││ ├✔ Healthy : (ninstances = 6, ncovered = 6, confidence = 1.0, lift = 1.0)\n",
      "││ └✘ \u001b[1m\u001b[36mmin(kurts)\u001b[0m \u001b[1m<\u001b[0m\u001b[0m 5.440264768459491\n",
      "││  ├✔ \u001b[1m\u001b[33mmed(mel6=845Hz)\u001b[0m \u001b[1m<\u001b[0m\u001b[0m -4.571104292488293\n",
      "││  │├✔ \u001b[1m\u001b[33mmax(mel3=504Hz)\u001b[0m \u001b[1m<\u001b[0m\u001b[0m -3.2631597021121945\n",
      "││  ││├✔ Healthy : (ninstances = 1, ncovered = 1, confidence = 1.0, lift = 1.0)\n",
      "││  ││└✘ Pneumonia : (ninstances = 1, ncovered = 1, confidence = 0.0, lift = NaN)\n",
      "││  │└✘ \u001b[1m\u001b[36mmax(kurts)\u001b[0m \u001b[1m<\u001b[0m\u001b[0m 12.927201651607955\n",
      "││  │ ├✔ Pneumonia : (ninstances = 1, ncovered = 1, confidence = 1.0, lift = 1.0)\n",
      "││  │ └✘ \u001b[1m\u001b[36mmed(skwns)\u001b[0m \u001b[1m<\u001b[0m\u001b[0m 2.5095129734258736\n",
      "││  │  ├✔ Healthy : (ninstances = 1, ncovered = 1, confidence = 0.0, lift = NaN)\n",
      "││  │  └✘ \u001b[1m\u001b[33mmed(mel4=599Hz)\u001b[0m \u001b[1m<\u001b[0m\u001b[0m -3.5534762398499367\n",
      "││  │   ├✔ Healthy : (ninstances = 1, ncovered = 1, confidence = 0.0, lift = NaN)\n",
      "││  │   └✘ Pneumonia : (ninstances = 2, ncovered = 2, confidence = 0.0, lift = NaN)\n",
      "││  └✘ \u001b[1m\u001b[33m3ac(mel13=2832Hz)\u001b[0m \u001b[1m<\u001b[0m\u001b[0m 0.005859375\n",
      "││   ├✔ \u001b[1m\u001b[36mmed(flatn)\u001b[0m \u001b[1m<\u001b[0m\u001b[0m 0.01854361999044176\n",
      "││   │├✔ Pneumonia : (ninstances = 0, ncovered = 0, confidence = NaN, lift = NaN)\n",
      "││   │└✘ Healthy : (ninstances = 0, ncovered = 0, confidence = NaN, lift = NaN)\n",
      "││   └✘ Pneumonia : (ninstances = 4, ncovered = 4, confidence = 0.75, lift = 1.0)\n",
      "│└✘ \u001b[1m\u001b[36mmin(sprd)\u001b[0m \u001b[1m<\u001b[0m\u001b[0m 318.63517531591276\n",
      "│ ├✔ Healthy : (ninstances = 9, ncovered = 9, confidence = 0.89, lift = 1.0)\n",
      "│ └✘ Pneumonia : (ninstances = 0, ncovered = 0, confidence = NaN, lift = NaN)\n",
      "└✘ \u001b[1m\u001b[36mstd(flatn)\u001b[0m \u001b[1m<\u001b[0m\u001b[0m 0.038350928797190896\n",
      " ├✔ \u001b[1m\u001b[33mmean(mel9=1419Hz)\u001b[0m \u001b[1m<\u001b[0m\u001b[0m -4.413854005770021\n",
      " │├✔ Pneumonia : (ninstances = 2, ncovered = 2, confidence = 0.5, lift = 1.0)\n",
      " │└✘ \u001b[1m\u001b[33mqnt(mel9=1419Hz)\u001b[0m \u001b[1m<\u001b[0m\u001b[0m 1.7601494184965498\n",
      " │ ├✔ Pneumonia : (ninstances = 1, ncovered = 1, confidence = 0.0, lift = NaN)\n",
      " │ └✘ Healthy : (ninstances = 3, ncovered = 3, confidence = 1.0, lift = 1.0)\n",
      " └✘ \u001b[1m\u001b[36mmed(sprd)\u001b[0m \u001b[1m<\u001b[0m\u001b[0m 204.42607375765675\n",
      "  ├✔ Pneumonia : (ninstances = 3, ncovered = 3, confidence = 0.67, lift = 1.0)\n",
      "  └✘ \u001b[1m\u001b[33mbsm(mel8=1194Hz)\u001b[0m \u001b[1m<\u001b[0m\u001b[0m 3.5\n",
      "   ├✔ \u001b[1m\u001b[36m3ac(crest)\u001b[0m \u001b[1m<\u001b[0m\u001b[0m 0.012514467592592591\n",
      "   │├✔ Healthy : (ninstances = 0, ncovered = 0, confidence = NaN, lift = NaN)\n",
      "   │└✘ Pneumonia : (ninstances = 0, ncovered = 0, confidence = NaN, lift = NaN)\n",
      "   └✘ \u001b[1m\u001b[33mbsm(mel14=3366Hz)\u001b[0m \u001b[1m<\u001b[0m\u001b[0m 3.5\n",
      "    ├✔ \u001b[1m\u001b[33mstd(mel8=1194Hz)\u001b[0m \u001b[1m<\u001b[0m\u001b[0m 0.41148554840175433\n",
      "    │├✔ Pneumonia : (ninstances = 2, ncovered = 2, confidence = 0.0, lift = NaN)\n",
      "    │└✘ Healthy : (ninstances = 0, ncovered = 0, confidence = NaN, lift = NaN)\n",
      "    └✘ Healthy : (ninstances = 29, ncovered = 29, confidence = 0.86, lift = 1.0)\n"
     ]
    }
   ],
   "source": [
    "if !loadset\n",
    "    sole_dt = solemodel(learned_dt_tree)\n",
    "    # Make test instances flow into the model, so that test metrics can, then, be computed.\n",
    "    apply!(sole_dt, X_test, y_test);\n",
    "    # Save solemodel to disk\n",
    "    jldsave(jld2file, true; sole_dt)\n",
    "else\n",
    "    @info(\"Load dataset...\")\n",
    "    d = jldopen(jld2file)\n",
    "    sole_dt = d[\"sole_dt\"]\n",
    "    close(d)\n",
    "end\n",
    "# Print Sole model\n",
    "printmodel(sole_dt; show_metrics = true, variable_names_map = variable_names);"
   ]
  },
  {
   "cell_type": "markdown",
   "metadata": {},
   "source": [
    "### Extract rules that are at least as good as a random baseline model"
   ]
  },
  {
   "cell_type": "code",
   "execution_count": 34,
   "metadata": {},
   "outputs": [
    {
     "name": "stdout",
     "output_type": "stream",
     "text": [
      "\u001b[34m▣\u001b[0m (\u001b[1m\u001b[36mmax(cntrd)\u001b[0m \u001b[1m<\u001b[0m\u001b[0m 1175.142326739371) ∧ (\u001b[1m\u001b[33mmin(mel8=1194Hz)\u001b[0m \u001b[1m<\u001b[0m\u001b[0m -4.230496791684855) ∧ (\u001b[1m\u001b[33mstd(mel13=2832Hz)\u001b[0m \u001b[1m<\u001b[0m\u001b[0m 0.12871913235095664) ∧ (\u001b[1m\u001b[33mstd(mel9=1419Hz)\u001b[0m \u001b[1m<\u001b[0m\u001b[0m 0.22633671315471646)  ↣  Pneumonia : (ninstances = 101, ncovered = 27, coverage = 0.27, confidence = 1.0, lift = 2.2, natoms = 4)\n",
      "\u001b[34m▣\u001b[0m (\u001b[1m\u001b[36mmax(cntrd)\u001b[0m \u001b[1m<\u001b[0m\u001b[0m 1175.142326739371) ∧ (\u001b[1m\u001b[33mmin(mel8=1194Hz)\u001b[0m \u001b[1m<\u001b[0m\u001b[0m -4.230496791684855) ∧ (\u001b[1m\u001b[33mstd(mel13=2832Hz)\u001b[0m \u001b[1m<\u001b[0m\u001b[0m 0.12871913235095664) ∧ (¬(\u001b[1m\u001b[33mstd(mel9=1419Hz)\u001b[0m \u001b[1m<\u001b[0m\u001b[0m 0.22633671315471646)) ∧ (\u001b[1m\u001b[36mmed(cntrd)\u001b[0m \u001b[1m<\u001b[0m\u001b[0m 695.0784158201961) ∧ (\u001b[1m\u001b[36mmin(crest)\u001b[0m \u001b[1m<\u001b[0m\u001b[0m 31.03081642487632)  ↣  Pneumonia : (ninstances = 101, ncovered = 4, coverage = 0.04, confidence = 1.0, lift = 2.2, natoms = 6)\n",
      "\u001b[34m▣\u001b[0m (\u001b[1m\u001b[36mmax(cntrd)\u001b[0m \u001b[1m<\u001b[0m\u001b[0m 1175.142326739371) ∧ (\u001b[1m\u001b[33mmin(mel8=1194Hz)\u001b[0m \u001b[1m<\u001b[0m\u001b[0m -4.230496791684855) ∧ (\u001b[1m\u001b[33mstd(mel13=2832Hz)\u001b[0m \u001b[1m<\u001b[0m\u001b[0m 0.12871913235095664) ∧ (¬(\u001b[1m\u001b[33mstd(mel9=1419Hz)\u001b[0m \u001b[1m<\u001b[0m\u001b[0m 0.22633671315471646)) ∧ (¬(\u001b[1m\u001b[36mmed(cntrd)\u001b[0m \u001b[1m<\u001b[0m\u001b[0m 695.0784158201961)) ∧ (¬(\u001b[1m\u001b[36mqnt(skwns)\u001b[0m \u001b[1m<\u001b[0m\u001b[0m 2.0096343428350045))  ↣  Healthy : (ninstances = 101, ncovered = 3, coverage = 0.03, confidence = 1.0, lift = 1.84, natoms = 6)\n",
      "\u001b[34m▣\u001b[0m (\u001b[1m\u001b[36mmax(cntrd)\u001b[0m \u001b[1m<\u001b[0m\u001b[0m 1175.142326739371) ∧ (\u001b[1m\u001b[33mmin(mel8=1194Hz)\u001b[0m \u001b[1m<\u001b[0m\u001b[0m -4.230496791684855) ∧ (¬(\u001b[1m\u001b[33mstd(mel13=2832Hz)\u001b[0m \u001b[1m<\u001b[0m\u001b[0m 0.12871913235095664)) ∧ (\u001b[1m\u001b[33mmin(mel14=3366Hz)\u001b[0m \u001b[1m<\u001b[0m\u001b[0m -7.396015851085238)  ↣  Healthy : (ninstances = 101, ncovered = 6, coverage = 0.06, confidence = 1.0, lift = 1.84, natoms = 4)\n",
      "\u001b[34m▣\u001b[0m (\u001b[1m\u001b[36mmax(cntrd)\u001b[0m \u001b[1m<\u001b[0m\u001b[0m 1175.142326739371) ∧ (\u001b[1m\u001b[33mmin(mel8=1194Hz)\u001b[0m \u001b[1m<\u001b[0m\u001b[0m -4.230496791684855) ∧ (¬(\u001b[1m\u001b[33mstd(mel13=2832Hz)\u001b[0m \u001b[1m<\u001b[0m\u001b[0m 0.12871913235095664)) ∧ (¬(\u001b[1m\u001b[33mmin(mel14=3366Hz)\u001b[0m \u001b[1m<\u001b[0m\u001b[0m -7.396015851085238)) ∧ (\u001b[1m\u001b[36mmin(kurts)\u001b[0m \u001b[1m<\u001b[0m\u001b[0m 5.440264768459491) ∧ (\u001b[1m\u001b[33mmed(mel6=845Hz)\u001b[0m \u001b[1m<\u001b[0m\u001b[0m -4.571104292488293) ∧ (\u001b[1m\u001b[33mmax(mel3=504Hz)\u001b[0m \u001b[1m<\u001b[0m\u001b[0m -3.2631597021121945)  ↣  Healthy : (ninstances = 101, ncovered = 1, coverage = 0.01, confidence = 1.0, lift = 1.84, natoms = 7)\n",
      "\u001b[34m▣\u001b[0m (\u001b[1m\u001b[36mmax(cntrd)\u001b[0m \u001b[1m<\u001b[0m\u001b[0m 1175.142326739371) ∧ (\u001b[1m\u001b[33mmin(mel8=1194Hz)\u001b[0m \u001b[1m<\u001b[0m\u001b[0m -4.230496791684855) ∧ (¬(\u001b[1m\u001b[33mstd(mel13=2832Hz)\u001b[0m \u001b[1m<\u001b[0m\u001b[0m 0.12871913235095664)) ∧ (¬(\u001b[1m\u001b[33mmin(mel14=3366Hz)\u001b[0m \u001b[1m<\u001b[0m\u001b[0m -7.396015851085238)) ∧ (\u001b[1m\u001b[36mmin(kurts)\u001b[0m \u001b[1m<\u001b[0m\u001b[0m 5.440264768459491) ∧ (¬(\u001b[1m\u001b[33mmed(mel6=845Hz)\u001b[0m \u001b[1m<\u001b[0m\u001b[0m -4.571104292488293)) ∧ (\u001b[1m\u001b[36mmax(kurts)\u001b[0m \u001b[1m<\u001b[0m\u001b[0m 12.927201651607955)  ↣  Pneumonia : (ninstances = 101, ncovered = 1, coverage = 0.01, confidence = 1.0, lift = 2.2, natoms = 7)\n",
      "\u001b[34m▣\u001b[0m (\u001b[1m\u001b[36mmax(cntrd)\u001b[0m \u001b[1m<\u001b[0m\u001b[0m 1175.142326739371) ∧ (\u001b[1m\u001b[33mmin(mel8=1194Hz)\u001b[0m \u001b[1m<\u001b[0m\u001b[0m -4.230496791684855) ∧ (¬(\u001b[1m\u001b[33mstd(mel13=2832Hz)\u001b[0m \u001b[1m<\u001b[0m\u001b[0m 0.12871913235095664)) ∧ (¬(\u001b[1m\u001b[33mmin(mel14=3366Hz)\u001b[0m \u001b[1m<\u001b[0m\u001b[0m -7.396015851085238)) ∧ (¬(\u001b[1m\u001b[36mmin(kurts)\u001b[0m \u001b[1m<\u001b[0m\u001b[0m 5.440264768459491)) ∧ (¬(\u001b[1m\u001b[33m3ac(mel13=2832Hz)\u001b[0m \u001b[1m<\u001b[0m\u001b[0m 0.005859375))  ↣  Pneumonia : (ninstances = 101, ncovered = 4, coverage = 0.04, confidence = 0.75, lift = 1.65, natoms = 6)\n",
      "\u001b[34m▣\u001b[0m (\u001b[1m\u001b[36mmax(cntrd)\u001b[0m \u001b[1m<\u001b[0m\u001b[0m 1175.142326739371) ∧ (¬(\u001b[1m\u001b[33mmin(mel8=1194Hz)\u001b[0m \u001b[1m<\u001b[0m\u001b[0m -4.230496791684855)) ∧ (\u001b[1m\u001b[36mmin(sprd)\u001b[0m \u001b[1m<\u001b[0m\u001b[0m 318.63517531591276)  ↣  Healthy : (ninstances = 101, ncovered = 9, coverage = 0.09, confidence = 0.89, lift = 1.63, natoms = 3)\n",
      "\u001b[34m▣\u001b[0m (¬(\u001b[1m\u001b[36mmax(cntrd)\u001b[0m \u001b[1m<\u001b[0m\u001b[0m 1175.142326739371)) ∧ (\u001b[1m\u001b[36mstd(flatn)\u001b[0m \u001b[1m<\u001b[0m\u001b[0m 0.038350928797190896) ∧ (\u001b[1m\u001b[33mmean(mel9=1419Hz)\u001b[0m \u001b[1m<\u001b[0m\u001b[0m -4.413854005770021)  ↣  Pneumonia : (ninstances = 101, ncovered = 2, coverage = 0.02, confidence = 0.5, lift = 1.1, natoms = 3)\n",
      "\u001b[34m▣\u001b[0m (¬(\u001b[1m\u001b[36mmax(cntrd)\u001b[0m \u001b[1m<\u001b[0m\u001b[0m 1175.142326739371)) ∧ (\u001b[1m\u001b[36mstd(flatn)\u001b[0m \u001b[1m<\u001b[0m\u001b[0m 0.038350928797190896) ∧ (¬(\u001b[1m\u001b[33mmean(mel9=1419Hz)\u001b[0m \u001b[1m<\u001b[0m\u001b[0m -4.413854005770021)) ∧ (¬(\u001b[1m\u001b[33mqnt(mel9=1419Hz)\u001b[0m \u001b[1m<\u001b[0m\u001b[0m 1.7601494184965498))  ↣  Healthy : (ninstances = 101, ncovered = 3, coverage = 0.03, confidence = 1.0, lift = 1.84, natoms = 4)\n",
      "\u001b[34m▣\u001b[0m (¬(\u001b[1m\u001b[36mmax(cntrd)\u001b[0m \u001b[1m<\u001b[0m\u001b[0m 1175.142326739371)) ∧ (¬(\u001b[1m\u001b[36mstd(flatn)\u001b[0m \u001b[1m<\u001b[0m\u001b[0m 0.038350928797190896)) ∧ (\u001b[1m\u001b[36mmed(sprd)\u001b[0m \u001b[1m<\u001b[0m\u001b[0m 204.42607375765675)  ↣  Pneumonia : (ninstances = 101, ncovered = 3, coverage = 0.03, confidence = 0.67, lift = 1.46, natoms = 3)\n",
      "\u001b[34m▣\u001b[0m (¬(\u001b[1m\u001b[36mmax(cntrd)\u001b[0m \u001b[1m<\u001b[0m\u001b[0m 1175.142326739371)) ∧ (¬(\u001b[1m\u001b[36mstd(flatn)\u001b[0m \u001b[1m<\u001b[0m\u001b[0m 0.038350928797190896)) ∧ (¬(\u001b[1m\u001b[36mmed(sprd)\u001b[0m \u001b[1m<\u001b[0m\u001b[0m 204.42607375765675)) ∧ (¬(\u001b[1m\u001b[33mbsm(mel8=1194Hz)\u001b[0m \u001b[1m<\u001b[0m\u001b[0m 3.5)) ∧ (¬(\u001b[1m\u001b[33mbsm(mel14=3366Hz)\u001b[0m \u001b[1m<\u001b[0m\u001b[0m 3.5))  ↣  Healthy : (ninstances = 101, ncovered = 29, coverage = 0.29, confidence = 0.86, lift = 1.58, natoms = 5)\n"
     ]
    }
   ],
   "source": [
    "interesting_rules = listrules(sole_dt, min_lift = 1.0, min_ninstances = 0);\n",
    "printmodel.(interesting_rules; show_metrics = true, variable_names_map = variable_names);"
   ]
  },
  {
   "cell_type": "markdown",
   "metadata": {},
   "source": [
    "### Simplify rules while extracting and prettify result"
   ]
  },
  {
   "cell_type": "code",
   "execution_count": 35,
   "metadata": {},
   "outputs": [
    {
     "name": "stdout",
     "output_type": "stream",
     "text": [
      "\u001b[34m▣\u001b[0m (\u001b[1m\u001b[36mmax(cntrd)\u001b[0m \u001b[1m<\u001b[0m\u001b[0m 1175.14) ∧ (\u001b[1m\u001b[33mmin(mel8=1194Hz)\u001b[0m \u001b[1m<\u001b[0m\u001b[0m -4.23) ∧ (\u001b[1m\u001b[33mstd(mel13=2832Hz)\u001b[0m \u001b[1m<\u001b[0m\u001b[0m 0.13) ∧ (\u001b[1m\u001b[33mstd(mel9=1419Hz)\u001b[0m \u001b[1m<\u001b[0m\u001b[0m 0.23)  ↣  Pneumonia : (ninstances = 101, ncovered = 27, coverage = 0.27, confidence = 1.0, lift = 2.2, natoms = 4)\n",
      "\u001b[34m▣\u001b[0m (\u001b[1m\u001b[36mmax(cntrd)\u001b[0m \u001b[1m<\u001b[0m\u001b[0m 1175.14) ∧ (\u001b[1m\u001b[33mmin(mel8=1194Hz)\u001b[0m \u001b[1m<\u001b[0m\u001b[0m -4.23) ∧ (\u001b[1m\u001b[33mstd(mel13=2832Hz)\u001b[0m \u001b[1m<\u001b[0m\u001b[0m 0.13) ∧ (\u001b[1m\u001b[33mstd(mel9=1419Hz)\u001b[0m \u001b[1m≥\u001b[0m\u001b[0m 0.23) ∧ (\u001b[1m\u001b[36mmed(cntrd)\u001b[0m \u001b[1m<\u001b[0m\u001b[0m 695.08) ∧ (\u001b[1m\u001b[36mmin(crest)\u001b[0m \u001b[1m<\u001b[0m\u001b[0m 31.03)  ↣  Pneumonia : (ninstances = 101, ncovered = 4, coverage = 0.04, confidence = 1.0, lift = 2.2, natoms = 6)\n",
      "\u001b[34m▣\u001b[0m (\u001b[1m\u001b[36mmax(cntrd)\u001b[0m \u001b[1m<\u001b[0m\u001b[0m 1175.14) ∧ (\u001b[1m\u001b[33mmin(mel8=1194Hz)\u001b[0m \u001b[1m<\u001b[0m\u001b[0m -4.23) ∧ (\u001b[1m\u001b[33mstd(mel13=2832Hz)\u001b[0m \u001b[1m<\u001b[0m\u001b[0m 0.13) ∧ (\u001b[1m\u001b[33mstd(mel9=1419Hz)\u001b[0m \u001b[1m≥\u001b[0m\u001b[0m 0.23) ∧ (\u001b[1m\u001b[36mmed(cntrd)\u001b[0m \u001b[1m≥\u001b[0m\u001b[0m 695.08) ∧ (\u001b[1m\u001b[36mqnt(skwns)\u001b[0m \u001b[1m≥\u001b[0m\u001b[0m 2.01)  ↣  Healthy : (ninstances = 101, ncovered = 3, coverage = 0.03, confidence = 1.0, lift = 1.84, natoms = 6)\n",
      "\u001b[34m▣\u001b[0m (\u001b[1m\u001b[36mmax(cntrd)\u001b[0m \u001b[1m<\u001b[0m\u001b[0m 1175.14) ∧ (\u001b[1m\u001b[33mmin(mel8=1194Hz)\u001b[0m \u001b[1m<\u001b[0m\u001b[0m -4.23) ∧ (\u001b[1m\u001b[33mstd(mel13=2832Hz)\u001b[0m \u001b[1m≥\u001b[0m\u001b[0m 0.13) ∧ (\u001b[1m\u001b[33mmin(mel14=3366Hz)\u001b[0m \u001b[1m<\u001b[0m\u001b[0m -7.4)  ↣  Healthy : (ninstances = 101, ncovered = 6, coverage = 0.06, confidence = 1.0, lift = 1.84, natoms = 4)\n",
      "\u001b[34m▣\u001b[0m (\u001b[1m\u001b[36mmax(cntrd)\u001b[0m \u001b[1m<\u001b[0m\u001b[0m 1175.14) ∧ (\u001b[1m\u001b[33mmin(mel8=1194Hz)\u001b[0m \u001b[1m<\u001b[0m\u001b[0m -4.23) ∧ (\u001b[1m\u001b[33mstd(mel13=2832Hz)\u001b[0m \u001b[1m≥\u001b[0m\u001b[0m 0.13) ∧ (\u001b[1m\u001b[33mmin(mel14=3366Hz)\u001b[0m \u001b[1m≥\u001b[0m\u001b[0m -7.4) ∧ (\u001b[1m\u001b[36mmin(kurts)\u001b[0m \u001b[1m<\u001b[0m\u001b[0m 5.44) ∧ (\u001b[1m\u001b[33mmed(mel6=845Hz)\u001b[0m \u001b[1m<\u001b[0m\u001b[0m -4.57) ∧ (\u001b[1m\u001b[33mmax(mel3=504Hz)\u001b[0m \u001b[1m<\u001b[0m\u001b[0m -3.26)  ↣  Healthy : (ninstances = 101, ncovered = 1, coverage = 0.01, confidence = 1.0, lift = 1.84, natoms = 7)\n",
      "\u001b[34m▣\u001b[0m (\u001b[1m\u001b[36mmax(cntrd)\u001b[0m \u001b[1m<\u001b[0m\u001b[0m 1175.14) ∧ (\u001b[1m\u001b[33mmin(mel8=1194Hz)\u001b[0m \u001b[1m<\u001b[0m\u001b[0m -4.23) ∧ (\u001b[1m\u001b[33mstd(mel13=2832Hz)\u001b[0m \u001b[1m≥\u001b[0m\u001b[0m 0.13) ∧ (\u001b[1m\u001b[33mmin(mel14=3366Hz)\u001b[0m \u001b[1m≥\u001b[0m\u001b[0m -7.4) ∧ (\u001b[1m\u001b[36mmin(kurts)\u001b[0m \u001b[1m<\u001b[0m\u001b[0m 5.44) ∧ (\u001b[1m\u001b[33mmed(mel6=845Hz)\u001b[0m \u001b[1m≥\u001b[0m\u001b[0m -4.57) ∧ (\u001b[1m\u001b[36mmax(kurts)\u001b[0m \u001b[1m<\u001b[0m\u001b[0m 12.93)  ↣  Pneumonia : (ninstances = 101, ncovered = 1, coverage = 0.01, confidence = 1.0, lift = 2.2, natoms = 7)\n",
      "\u001b[34m▣\u001b[0m (\u001b[1m\u001b[36mmax(cntrd)\u001b[0m \u001b[1m<\u001b[0m\u001b[0m 1175.14) ∧ (\u001b[1m\u001b[33mmin(mel8=1194Hz)\u001b[0m \u001b[1m<\u001b[0m\u001b[0m -4.23) ∧ (\u001b[1m\u001b[33mstd(mel13=2832Hz)\u001b[0m \u001b[1m≥\u001b[0m\u001b[0m 0.13) ∧ (\u001b[1m\u001b[33mmin(mel14=3366Hz)\u001b[0m \u001b[1m≥\u001b[0m\u001b[0m -7.4) ∧ (\u001b[1m\u001b[36mmin(kurts)\u001b[0m \u001b[1m≥\u001b[0m\u001b[0m 5.44) ∧ (\u001b[1m\u001b[33m3ac(mel13=2832Hz)\u001b[0m \u001b[1m≥\u001b[0m\u001b[0m 0.01)  ↣  Pneumonia : (ninstances = 101, ncovered = 4, coverage = 0.04, confidence = 0.75, lift = 1.65, natoms = 6)\n",
      "\u001b[34m▣\u001b[0m (\u001b[1m\u001b[36mmax(cntrd)\u001b[0m \u001b[1m<\u001b[0m\u001b[0m 1175.14) ∧ (\u001b[1m\u001b[33mmin(mel8=1194Hz)\u001b[0m \u001b[1m≥\u001b[0m\u001b[0m -4.23) ∧ (\u001b[1m\u001b[36mmin(sprd)\u001b[0m \u001b[1m<\u001b[0m\u001b[0m 318.64)  ↣  Healthy : (ninstances = 101, ncovered = 9, coverage = 0.09, confidence = 0.89, lift = 1.63, natoms = 3)\n",
      "\u001b[34m▣\u001b[0m (\u001b[1m\u001b[36mmax(cntrd)\u001b[0m \u001b[1m≥\u001b[0m\u001b[0m 1175.14) ∧ (\u001b[1m\u001b[36mstd(flatn)\u001b[0m \u001b[1m<\u001b[0m\u001b[0m 0.04) ∧ (\u001b[1m\u001b[33mmean(mel9=1419Hz)\u001b[0m \u001b[1m<\u001b[0m\u001b[0m -4.41)  ↣  Pneumonia : (ninstances = 101, ncovered = 2, coverage = 0.02, confidence = 0.5, lift = 1.1, natoms = 3)\n",
      "\u001b[34m▣\u001b[0m (\u001b[1m\u001b[36mmax(cntrd)\u001b[0m \u001b[1m≥\u001b[0m\u001b[0m 1175.14) ∧ (\u001b[1m\u001b[36mstd(flatn)\u001b[0m \u001b[1m<\u001b[0m\u001b[0m 0.04) ∧ (\u001b[1m\u001b[33mmean(mel9=1419Hz)\u001b[0m \u001b[1m≥\u001b[0m\u001b[0m -4.41) ∧ (\u001b[1m\u001b[33mqnt(mel9=1419Hz)\u001b[0m \u001b[1m≥\u001b[0m\u001b[0m 1.76)  ↣  Healthy : (ninstances = 101, ncovered = 3, coverage = 0.03, confidence = 1.0, lift = 1.84, natoms = 4)\n",
      "\u001b[34m▣\u001b[0m (\u001b[1m\u001b[36mmax(cntrd)\u001b[0m \u001b[1m≥\u001b[0m\u001b[0m 1175.14) ∧ (\u001b[1m\u001b[36mstd(flatn)\u001b[0m \u001b[1m≥\u001b[0m\u001b[0m 0.04) ∧ (\u001b[1m\u001b[36mmed(sprd)\u001b[0m \u001b[1m<\u001b[0m\u001b[0m 204.43)  ↣  Pneumonia : (ninstances = 101, ncovered = 3, coverage = 0.03, confidence = 0.67, lift = 1.46, natoms = 3)\n",
      "\u001b[34m▣\u001b[0m (\u001b[1m\u001b[36mmax(cntrd)\u001b[0m \u001b[1m≥\u001b[0m\u001b[0m 1175.14) ∧ (\u001b[1m\u001b[36mstd(flatn)\u001b[0m \u001b[1m≥\u001b[0m\u001b[0m 0.04) ∧ (\u001b[1m\u001b[36mmed(sprd)\u001b[0m \u001b[1m≥\u001b[0m\u001b[0m 204.43) ∧ (\u001b[1m\u001b[33mbsm(mel8=1194Hz)\u001b[0m \u001b[1m≥\u001b[0m\u001b[0m 3.5) ∧ (\u001b[1m\u001b[33mbsm(mel14=3366Hz)\u001b[0m \u001b[1m≥\u001b[0m\u001b[0m 3.5)  ↣  Healthy : (ninstances = 101, ncovered = 29, coverage = 0.29, confidence = 0.86, lift = 1.58, natoms = 5)\n"
     ]
    }
   ],
   "source": [
    "interesting_rules = listrules(sole_dt, min_lift = 1.0, min_ninstances = 0, normalize = true);\n",
    "printmodel.(interesting_rules; show_metrics = true, syntaxstring_kwargs = (; threshold_digits = 2), variable_names_map = variable_names);"
   ]
  },
  {
   "cell_type": "markdown",
   "metadata": {},
   "source": [
    "### Directly access rule metrics"
   ]
  },
  {
   "cell_type": "code",
   "execution_count": 36,
   "metadata": {},
   "outputs": [
    {
     "data": {
      "text/plain": [
       "12-element Vector{@NamedTuple{ninstances::Int64, ncovered::Int64, coverage::Float64, confidence::Float64, lift::Float64, natoms::Int64}}:\n",
       " (ninstances = 101, ncovered = 27, coverage = 0.26732673267326734, confidence = 1.0, lift = 2.1956521739130435, natoms = 4)\n",
       " (ninstances = 101, ncovered = 4, coverage = 0.039603960396039604, confidence = 1.0, lift = 2.1956521739130435, natoms = 6)\n",
       " (ninstances = 101, ncovered = 3, coverage = 0.0297029702970297, confidence = 1.0, lift = 1.8363636363636362, natoms = 6)\n",
       " (ninstances = 101, ncovered = 6, coverage = 0.0594059405940594, confidence = 1.0, lift = 1.8363636363636362, natoms = 4)\n",
       " (ninstances = 101, ncovered = 1, coverage = 0.009900990099009901, confidence = 1.0, lift = 1.8363636363636362, natoms = 7)\n",
       " (ninstances = 101, ncovered = 1, coverage = 0.009900990099009901, confidence = 1.0, lift = 2.1956521739130435, natoms = 7)\n",
       " (ninstances = 101, ncovered = 4, coverage = 0.039603960396039604, confidence = 0.75, lift = 1.6467391304347825, natoms = 6)\n",
       " (ninstances = 101, ncovered = 9, coverage = 0.0891089108910891, confidence = 0.8888888888888888, lift = 1.6323232323232322, natoms = 3)\n",
       " (ninstances = 101, ncovered = 2, coverage = 0.019801980198019802, confidence = 0.5, lift = 1.0978260869565217, natoms = 3)\n",
       " (ninstances = 101, ncovered = 3, coverage = 0.0297029702970297, confidence = 1.0, lift = 1.8363636363636362, natoms = 4)\n",
       " (ninstances = 101, ncovered = 3, coverage = 0.0297029702970297, confidence = 0.6666666666666666, lift = 1.4637681159420288, natoms = 3)\n",
       " (ninstances = 101, ncovered = 29, coverage = 0.2871287128712871, confidence = 0.8620689655172413, lift = 1.5830721003134793, natoms = 5)"
      ]
     },
     "metadata": {},
     "output_type": "display_data"
    }
   ],
   "source": [
    "readmetrics.(listrules(sole_dt; min_lift=1.0, min_ninstances = 0))"
   ]
  },
  {
   "cell_type": "markdown",
   "metadata": {},
   "source": [
    "### Show rules with an additional metric (syntax height of the rule's antecedent)"
   ]
  },
  {
   "cell_type": "code",
   "execution_count": 37,
   "metadata": {},
   "outputs": [
    {
     "name": "stdout",
     "output_type": "stream",
     "text": [
      "\u001b[34m▣\u001b[0m (\u001b[1m\u001b[36mmax(cntrd)\u001b[0m \u001b[1m<\u001b[0m\u001b[0m 1175.142326739371) ∧ (\u001b[1m\u001b[33mmin(mel8=1194Hz)\u001b[0m \u001b[1m<\u001b[0m\u001b[0m -4.230496791684855) ∧ (\u001b[1m\u001b[33mstd(mel13=2832Hz)\u001b[0m \u001b[1m≥\u001b[0m\u001b[0m 0.12871913235095664) ∧ (\u001b[1m\u001b[33mmin(mel14=3366Hz)\u001b[0m \u001b[1m≥\u001b[0m\u001b[0m -7.396015851085238) ∧ (\u001b[1m\u001b[36mmin(kurts)\u001b[0m \u001b[1m<\u001b[0m\u001b[0m 5.440264768459491) ∧ (\u001b[1m\u001b[33mmed(mel6=845Hz)\u001b[0m \u001b[1m<\u001b[0m\u001b[0m -4.571104292488293) ∧ (\u001b[1m\u001b[33mmax(mel3=504Hz)\u001b[0m \u001b[1m<\u001b[0m\u001b[0m -3.2631597021121945)  ↣  Healthy : (ninstances = 101, ncovered = 1, coverage = 0.009900990099009901, confidence = 1.0, lift = 1.8363636363636362, natoms = 7, height = 6)\n",
      "\u001b[34m▣\u001b[0m (\u001b[1m\u001b[36mmax(cntrd)\u001b[0m \u001b[1m<\u001b[0m\u001b[0m 1175.142326739371) ∧ (\u001b[1m\u001b[33mmin(mel8=1194Hz)\u001b[0m \u001b[1m<\u001b[0m\u001b[0m -4.230496791684855) ∧ (\u001b[1m\u001b[33mstd(mel13=2832Hz)\u001b[0m \u001b[1m≥\u001b[0m\u001b[0m 0.12871913235095664) ∧ (\u001b[1m\u001b[33mmin(mel14=3366Hz)\u001b[0m \u001b[1m≥\u001b[0m\u001b[0m -7.396015851085238) ∧ (\u001b[1m\u001b[36mmin(kurts)\u001b[0m \u001b[1m<\u001b[0m\u001b[0m 5.440264768459491) ∧ (\u001b[1m\u001b[33mmed(mel6=845Hz)\u001b[0m \u001b[1m≥\u001b[0m\u001b[0m -4.571104292488293) ∧ (\u001b[1m\u001b[36mmax(kurts)\u001b[0m \u001b[1m<\u001b[0m\u001b[0m 12.927201651607955)  ↣  Pneumonia : (ninstances = 101, ncovered = 1, coverage = 0.009900990099009901, confidence = 1.0, lift = 2.1956521739130435, natoms = 7, height = 6)\n",
      "\u001b[34m▣\u001b[0m (\u001b[1m\u001b[36mmax(cntrd)\u001b[0m \u001b[1m≥\u001b[0m\u001b[0m 1175.142326739371) ∧ (\u001b[1m\u001b[36mstd(flatn)\u001b[0m \u001b[1m<\u001b[0m\u001b[0m 0.038350928797190896) ∧ (\u001b[1m\u001b[33mmean(mel9=1419Hz)\u001b[0m \u001b[1m<\u001b[0m\u001b[0m -4.413854005770021)  ↣  Pneumonia : (ninstances = 101, ncovered = 2, coverage = 0.019801980198019802, confidence = 0.5, lift = 1.0978260869565217, natoms = 3, height = 2)\n",
      "\u001b[34m▣\u001b[0m (\u001b[1m\u001b[36mmax(cntrd)\u001b[0m \u001b[1m≥\u001b[0m\u001b[0m 1175.142326739371) ∧ (\u001b[1m\u001b[36mstd(flatn)\u001b[0m \u001b[1m≥\u001b[0m\u001b[0m 0.038350928797190896) ∧ (\u001b[1m\u001b[36mmed(sprd)\u001b[0m \u001b[1m<\u001b[0m\u001b[0m 204.42607375765675)  ↣  Pneumonia : (ninstances = 101, ncovered = 3, coverage = 0.0297029702970297, confidence = 0.6666666666666666, lift = 1.4637681159420288, natoms = 3, height = 2)\n",
      "\u001b[34m▣\u001b[0m (\u001b[1m\u001b[36mmax(cntrd)\u001b[0m \u001b[1m≥\u001b[0m\u001b[0m 1175.142326739371) ∧ (\u001b[1m\u001b[36mstd(flatn)\u001b[0m \u001b[1m<\u001b[0m\u001b[0m 0.038350928797190896) ∧ (\u001b[1m\u001b[33mmean(mel9=1419Hz)\u001b[0m \u001b[1m≥\u001b[0m\u001b[0m -4.413854005770021) ∧ (\u001b[1m\u001b[33mqnt(mel9=1419Hz)\u001b[0m \u001b[1m≥\u001b[0m\u001b[0m 1.7601494184965498)  ↣  Healthy : (ninstances = 101, ncovered = 3, coverage = 0.0297029702970297, confidence = 1.0, lift = 1.8363636363636362, natoms = 4, height = 3)\n",
      "\u001b[34m▣\u001b[0m (\u001b[1m\u001b[36mmax(cntrd)\u001b[0m \u001b[1m<\u001b[0m\u001b[0m 1175.142326739371) ∧ (\u001b[1m\u001b[33mmin(mel8=1194Hz)\u001b[0m \u001b[1m<\u001b[0m\u001b[0m -4.230496791684855) ∧ (\u001b[1m\u001b[33mstd(mel13=2832Hz)\u001b[0m \u001b[1m<\u001b[0m\u001b[0m 0.12871913235095664) ∧ (\u001b[1m\u001b[33mstd(mel9=1419Hz)\u001b[0m \u001b[1m≥\u001b[0m\u001b[0m 0.22633671315471646) ∧ (\u001b[1m\u001b[36mmed(cntrd)\u001b[0m \u001b[1m≥\u001b[0m\u001b[0m 695.0784158201961) ∧ (\u001b[1m\u001b[36mqnt(skwns)\u001b[0m \u001b[1m≥\u001b[0m\u001b[0m 2.0096343428350045)  ↣  Healthy : (ninstances = 101, ncovered = 3, coverage = 0.0297029702970297, confidence = 1.0, lift = 1.8363636363636362, natoms = 6, height = 5)\n",
      "\u001b[34m▣\u001b[0m (\u001b[1m\u001b[36mmax(cntrd)\u001b[0m \u001b[1m<\u001b[0m\u001b[0m 1175.142326739371) ∧ (\u001b[1m\u001b[33mmin(mel8=1194Hz)\u001b[0m \u001b[1m<\u001b[0m\u001b[0m -4.230496791684855) ∧ (\u001b[1m\u001b[33mstd(mel13=2832Hz)\u001b[0m \u001b[1m≥\u001b[0m\u001b[0m 0.12871913235095664) ∧ (\u001b[1m\u001b[33mmin(mel14=3366Hz)\u001b[0m \u001b[1m≥\u001b[0m\u001b[0m -7.396015851085238) ∧ (\u001b[1m\u001b[36mmin(kurts)\u001b[0m \u001b[1m≥\u001b[0m\u001b[0m 5.440264768459491) ∧ (\u001b[1m\u001b[33m3ac(mel13=2832Hz)\u001b[0m \u001b[1m≥\u001b[0m\u001b[0m 0.005859375)  ↣  Pneumonia : (ninstances = 101, ncovered = 4, coverage = 0.039603960396039604, confidence = 0.75, lift = 1.6467391304347825, natoms = 6, height = 5)\n",
      "\u001b[34m▣\u001b[0m (\u001b[1m\u001b[36mmax(cntrd)\u001b[0m \u001b[1m<\u001b[0m\u001b[0m 1175.142326739371) ∧ (\u001b[1m\u001b[33mmin(mel8=1194Hz)\u001b[0m \u001b[1m<\u001b[0m\u001b[0m -4.230496791684855) ∧ (\u001b[1m\u001b[33mstd(mel13=2832Hz)\u001b[0m \u001b[1m<\u001b[0m\u001b[0m 0.12871913235095664) ∧ (\u001b[1m\u001b[33mstd(mel9=1419Hz)\u001b[0m \u001b[1m≥\u001b[0m\u001b[0m 0.22633671315471646) ∧ (\u001b[1m\u001b[36mmed(cntrd)\u001b[0m \u001b[1m<\u001b[0m\u001b[0m 695.0784158201961) ∧ (\u001b[1m\u001b[36mmin(crest)\u001b[0m \u001b[1m<\u001b[0m\u001b[0m 31.03081642487632)  ↣  Pneumonia : (ninstances = 101, ncovered = 4, coverage = 0.039603960396039604, confidence = 1.0, lift = 2.1956521739130435, natoms = 6, height = 5)\n",
      "\u001b[34m▣\u001b[0m (\u001b[1m\u001b[36mmax(cntrd)\u001b[0m \u001b[1m<\u001b[0m\u001b[0m 1175.142326739371) ∧ (\u001b[1m\u001b[33mmin(mel8=1194Hz)\u001b[0m \u001b[1m<\u001b[0m\u001b[0m -4.230496791684855) ∧ (\u001b[1m\u001b[33mstd(mel13=2832Hz)\u001b[0m \u001b[1m≥\u001b[0m\u001b[0m 0.12871913235095664) ∧ (\u001b[1m\u001b[33mmin(mel14=3366Hz)\u001b[0m \u001b[1m<\u001b[0m\u001b[0m -7.396015851085238)  ↣  Healthy : (ninstances = 101, ncovered = 6, coverage = 0.0594059405940594, confidence = 1.0, lift = 1.8363636363636362, natoms = 4, height = 3)\n",
      "\u001b[34m▣\u001b[0m (\u001b[1m\u001b[36mmax(cntrd)\u001b[0m \u001b[1m<\u001b[0m\u001b[0m 1175.142326739371) ∧ (\u001b[1m\u001b[33mmin(mel8=1194Hz)\u001b[0m \u001b[1m≥\u001b[0m\u001b[0m -4.230496791684855) ∧ (\u001b[1m\u001b[36mmin(sprd)\u001b[0m \u001b[1m<\u001b[0m\u001b[0m 318.63517531591276)  ↣  Healthy : (ninstances = 101, ncovered = 9, coverage = 0.0891089108910891, confidence = 0.8888888888888888, lift = 1.6323232323232322, natoms = 3, height = 2)\n",
      "\u001b[34m▣\u001b[0m (\u001b[1m\u001b[36mmax(cntrd)\u001b[0m \u001b[1m<\u001b[0m\u001b[0m 1175.142326739371) ∧ (\u001b[1m\u001b[33mmin(mel8=1194Hz)\u001b[0m \u001b[1m<\u001b[0m\u001b[0m -4.230496791684855) ∧ (\u001b[1m\u001b[33mstd(mel13=2832Hz)\u001b[0m \u001b[1m<\u001b[0m\u001b[0m 0.12871913235095664) ∧ (\u001b[1m\u001b[33mstd(mel9=1419Hz)\u001b[0m \u001b[1m<\u001b[0m\u001b[0m 0.22633671315471646)  ↣  Pneumonia : (ninstances = 101, ncovered = 27, coverage = 0.26732673267326734, confidence = 1.0, lift = 2.1956521739130435, natoms = 4, height = 3)\n",
      "\u001b[34m▣\u001b[0m (\u001b[1m\u001b[36mmax(cntrd)\u001b[0m \u001b[1m≥\u001b[0m\u001b[0m 1175.142326739371) ∧ (\u001b[1m\u001b[36mstd(flatn)\u001b[0m \u001b[1m≥\u001b[0m\u001b[0m 0.038350928797190896) ∧ (\u001b[1m\u001b[36mmed(sprd)\u001b[0m \u001b[1m≥\u001b[0m\u001b[0m 204.42607375765675) ∧ (\u001b[1m\u001b[33mbsm(mel8=1194Hz)\u001b[0m \u001b[1m≥\u001b[0m\u001b[0m 3.5) ∧ (\u001b[1m\u001b[33mbsm(mel14=3366Hz)\u001b[0m \u001b[1m≥\u001b[0m\u001b[0m 3.5)  ↣  Healthy : (ninstances = 101, ncovered = 29, coverage = 0.2871287128712871, confidence = 0.8620689655172413, lift = 1.5830721003134793, natoms = 5, height = 4)\n"
     ]
    }
   ],
   "source": [
    "printmodel.(sort(interesting_rules, by = readmetrics); show_metrics = (; round_digits = nothing, additional_metrics = (; height = r->SoleLogics.height(antecedent(r)))), variable_names_map = variable_names);"
   ]
  },
  {
   "cell_type": "markdown",
   "metadata": {},
   "source": [
    "### Pretty table of rules and their metrics"
   ]
  },
  {
   "cell_type": "code",
   "execution_count": 38,
   "metadata": {},
   "outputs": [
    {
     "name": "stdout",
     "output_type": "stream",
     "text": [
      "┌─────────────────────────────────────────────────────────────────────────────────────────────────────────────────────────────────────────────────────────────────────────────────────────────────────────────────────────────────────────────────────────────────────────────────────────┬────────────┬────────────┬──────────┬────────────┬────────────┬─────────┬────────┬────────┐\n",
      "│\u001b[33;1m                                                                                                                                                                                                                                                                              Antecedent \u001b[0m│\u001b[33;1m Consequent \u001b[0m│\u001b[33;1m ninstances \u001b[0m│\u001b[33;1m ncovered \u001b[0m│\u001b[33;1m   coverage \u001b[0m│\u001b[33;1m confidence \u001b[0m│\u001b[33;1m    lift \u001b[0m│\u001b[33;1m natoms \u001b[0m│\u001b[33;1m height \u001b[0m│\n",
      "├─────────────────────────────────────────────────────────────────────────────────────────────────────────────────────────────────────────────────────────────────────────────────────────────────────────────────────────────────────────────────────────────────────────────────────────┼────────────┼────────────┼──────────┼────────────┼────────────┼─────────┼────────┼────────┤\n",
      "│                                                                                                                       (\u001b[1m\u001b[36mmax(cntrd)\u001b[0m \u001b[1m<\u001b[0m\u001b[0m 1175.142326739371) ∧ (\u001b[1m\u001b[33mmin(mel8=1194Hz)\u001b[0m \u001b[1m<\u001b[0m\u001b[0m -4.230496791684855) ∧ (\u001b[1m\u001b[33mstd(mel13=2832Hz)\u001b[0m \u001b[1m<\u001b[0m\u001b[0m 0.12871913235095664) ∧ (\u001b[1m\u001b[33mstd(mel9=1419Hz)\u001b[0m \u001b[1m<\u001b[0m\u001b[0m 0.22633671315471646)\u001b[0m │  Pneumonia │        101 │       27 │   0.267327 │        1.0 │ 2.19565 │      4 │      3 │\n",
      "│                                                 (\u001b[1m\u001b[36mmax(cntrd)\u001b[0m \u001b[1m<\u001b[0m\u001b[0m 1175.142326739371) ∧ (\u001b[1m\u001b[33mmin(mel8=1194Hz)\u001b[0m \u001b[1m<\u001b[0m\u001b[0m -4.230496791684855) ∧ (\u001b[1m\u001b[33mstd(mel13=2832Hz)\u001b[0m \u001b[1m<\u001b[0m\u001b[0m 0.12871913235095664) ∧ (\u001b[1m\u001b[33mstd(mel9=1419Hz)\u001b[0m \u001b[1m≥\u001b[0m\u001b[0m 0.22633671315471646) ∧ (\u001b[1m\u001b[36mmed(cntrd)\u001b[0m \u001b[1m<\u001b[0m\u001b[0m 695.0784158201961) ∧ (\u001b[1m\u001b[36mmin(crest)\u001b[0m \u001b[1m<\u001b[0m\u001b[0m 31.03081642487632)\u001b[0m │  Pneumonia │        101 │        4 │   0.039604 │        1.0 │ 2.19565 │      6 │      5 │\n",
      "│                                                (\u001b[1m\u001b[36mmax(cntrd)\u001b[0m \u001b[1m<\u001b[0m\u001b[0m 1175.142326739371) ∧ (\u001b[1m\u001b[33mmin(mel8=1194Hz)\u001b[0m \u001b[1m<\u001b[0m\u001b[0m -4.230496791684855) ∧ (\u001b[1m\u001b[33mstd(mel13=2832Hz)\u001b[0m \u001b[1m<\u001b[0m\u001b[0m 0.12871913235095664) ∧ (\u001b[1m\u001b[33mstd(mel9=1419Hz)\u001b[0m \u001b[1m≥\u001b[0m\u001b[0m 0.22633671315471646) ∧ (\u001b[1m\u001b[36mmed(cntrd)\u001b[0m \u001b[1m≥\u001b[0m\u001b[0m 695.0784158201961) ∧ (\u001b[1m\u001b[36mqnt(skwns)\u001b[0m \u001b[1m≥\u001b[0m\u001b[0m 2.0096343428350045)\u001b[0m │    Healthy │        101 │        3 │   0.029703 │        1.0 │ 1.83636 │      6 │      5 │\n",
      "│                                                                                                                       (\u001b[1m\u001b[36mmax(cntrd)\u001b[0m \u001b[1m<\u001b[0m\u001b[0m 1175.142326739371) ∧ (\u001b[1m\u001b[33mmin(mel8=1194Hz)\u001b[0m \u001b[1m<\u001b[0m\u001b[0m -4.230496791684855) ∧ (\u001b[1m\u001b[33mstd(mel13=2832Hz)\u001b[0m \u001b[1m≥\u001b[0m\u001b[0m 0.12871913235095664) ∧ (\u001b[1m\u001b[33mmin(mel14=3366Hz)\u001b[0m \u001b[1m<\u001b[0m\u001b[0m -7.396015851085238)\u001b[0m │    Healthy │        101 │        6 │  0.0594059 │        1.0 │ 1.83636 │      4 │      3 │\n",
      "│ (\u001b[1m\u001b[36mmax(cntrd)\u001b[0m \u001b[1m<\u001b[0m\u001b[0m 1175.142326739371) ∧ (\u001b[1m\u001b[33mmin(mel8=1194Hz)\u001b[0m \u001b[1m<\u001b[0m\u001b[0m -4.230496791684855) ∧ (\u001b[1m\u001b[33mstd(mel13=2832Hz)\u001b[0m \u001b[1m≥\u001b[0m\u001b[0m 0.12871913235095664) ∧ (\u001b[1m\u001b[33mmin(mel14=3366Hz)\u001b[0m \u001b[1m≥\u001b[0m\u001b[0m -7.396015851085238) ∧ (\u001b[1m\u001b[36mmin(kurts)\u001b[0m \u001b[1m<\u001b[0m\u001b[0m 5.440264768459491) ∧ (\u001b[1m\u001b[33mmed(mel6=845Hz)\u001b[0m \u001b[1m<\u001b[0m\u001b[0m -4.571104292488293) ∧ (\u001b[1m\u001b[33mmax(mel3=504Hz)\u001b[0m \u001b[1m<\u001b[0m\u001b[0m -3.2631597021121945)\u001b[0m │    Healthy │        101 │        1 │ 0.00990099 │        1.0 │ 1.83636 │      7 │      6 │\n",
      "│       (\u001b[1m\u001b[36mmax(cntrd)\u001b[0m \u001b[1m<\u001b[0m\u001b[0m 1175.142326739371) ∧ (\u001b[1m\u001b[33mmin(mel8=1194Hz)\u001b[0m \u001b[1m<\u001b[0m\u001b[0m -4.230496791684855) ∧ (\u001b[1m\u001b[33mstd(mel13=2832Hz)\u001b[0m \u001b[1m≥\u001b[0m\u001b[0m 0.12871913235095664) ∧ (\u001b[1m\u001b[33mmin(mel14=3366Hz)\u001b[0m \u001b[1m≥\u001b[0m\u001b[0m -7.396015851085238) ∧ (\u001b[1m\u001b[36mmin(kurts)\u001b[0m \u001b[1m<\u001b[0m\u001b[0m 5.440264768459491) ∧ (\u001b[1m\u001b[33mmed(mel6=845Hz)\u001b[0m \u001b[1m≥\u001b[0m\u001b[0m -4.571104292488293) ∧ (\u001b[1m\u001b[36mmax(kurts)\u001b[0m \u001b[1m<\u001b[0m\u001b[0m 12.927201651607955)\u001b[0m │  Pneumonia │        101 │        1 │ 0.00990099 │        1.0 │ 2.19565 │      7 │      6 │\n",
      "│                                                (\u001b[1m\u001b[36mmax(cntrd)\u001b[0m \u001b[1m<\u001b[0m\u001b[0m 1175.142326739371) ∧ (\u001b[1m\u001b[33mmin(mel8=1194Hz)\u001b[0m \u001b[1m<\u001b[0m\u001b[0m -4.230496791684855) ∧ (\u001b[1m\u001b[33mstd(mel13=2832Hz)\u001b[0m \u001b[1m≥\u001b[0m\u001b[0m 0.12871913235095664) ∧ (\u001b[1m\u001b[33mmin(mel14=3366Hz)\u001b[0m \u001b[1m≥\u001b[0m\u001b[0m -7.396015851085238) ∧ (\u001b[1m\u001b[36mmin(kurts)\u001b[0m \u001b[1m≥\u001b[0m\u001b[0m 5.440264768459491) ∧ (\u001b[1m\u001b[33m3ac(mel13=2832Hz)\u001b[0m \u001b[1m≥\u001b[0m\u001b[0m 0.005859375)\u001b[0m │  Pneumonia │        101 │        4 │   0.039604 │       0.75 │ 1.64674 │      6 │      5 │\n",
      "│                                                                                                                                                                           (\u001b[1m\u001b[36mmax(cntrd)\u001b[0m \u001b[1m<\u001b[0m\u001b[0m 1175.142326739371) ∧ (\u001b[1m\u001b[33mmin(mel8=1194Hz)\u001b[0m \u001b[1m≥\u001b[0m\u001b[0m -4.230496791684855) ∧ (\u001b[1m\u001b[36mmin(sprd)\u001b[0m \u001b[1m<\u001b[0m\u001b[0m 318.63517531591276)\u001b[0m │    Healthy │        101 │        9 │  0.0891089 │   0.888889 │ 1.63232 │      3 │      2 │\n",
      "│                                                                                                                                                                       (\u001b[1m\u001b[36mmax(cntrd)\u001b[0m \u001b[1m≥\u001b[0m\u001b[0m 1175.142326739371) ∧ (\u001b[1m\u001b[36mstd(flatn)\u001b[0m \u001b[1m<\u001b[0m\u001b[0m 0.038350928797190896) ∧ (\u001b[1m\u001b[33mmean(mel9=1419Hz)\u001b[0m \u001b[1m<\u001b[0m\u001b[0m -4.413854005770021)\u001b[0m │  Pneumonia │        101 │        2 │   0.019802 │        0.5 │ 1.09783 │      3 │      2 │\n",
      "│                                                                                                                             (\u001b[1m\u001b[36mmax(cntrd)\u001b[0m \u001b[1m≥\u001b[0m\u001b[0m 1175.142326739371) ∧ (\u001b[1m\u001b[36mstd(flatn)\u001b[0m \u001b[1m<\u001b[0m\u001b[0m 0.038350928797190896) ∧ (\u001b[1m\u001b[33mmean(mel9=1419Hz)\u001b[0m \u001b[1m≥\u001b[0m\u001b[0m -4.413854005770021) ∧ (\u001b[1m\u001b[33mqnt(mel9=1419Hz)\u001b[0m \u001b[1m≥\u001b[0m\u001b[0m 1.7601494184965498)\u001b[0m │    Healthy │        101 │        3 │   0.029703 │        1.0 │ 1.83636 │      4 │      3 │\n",
      "│                                                                                                                                                                               (\u001b[1m\u001b[36mmax(cntrd)\u001b[0m \u001b[1m≥\u001b[0m\u001b[0m 1175.142326739371) ∧ (\u001b[1m\u001b[36mstd(flatn)\u001b[0m \u001b[1m≥\u001b[0m\u001b[0m 0.038350928797190896) ∧ (\u001b[1m\u001b[36mmed(sprd)\u001b[0m \u001b[1m<\u001b[0m\u001b[0m 204.42607375765675)\u001b[0m │  Pneumonia │        101 │        3 │   0.029703 │   0.666667 │ 1.46377 │      3 │      2 │\n",
      "│                                                                                                                        (\u001b[1m\u001b[36mmax(cntrd)\u001b[0m \u001b[1m≥\u001b[0m\u001b[0m 1175.142326739371) ∧ (\u001b[1m\u001b[36mstd(flatn)\u001b[0m \u001b[1m≥\u001b[0m\u001b[0m 0.038350928797190896) ∧ (\u001b[1m\u001b[36mmed(sprd)\u001b[0m \u001b[1m≥\u001b[0m\u001b[0m 204.42607375765675) ∧ (\u001b[1m\u001b[33mbsm(mel8=1194Hz)\u001b[0m \u001b[1m≥\u001b[0m\u001b[0m 3.5) ∧ (\u001b[1m\u001b[33mbsm(mel14=3366Hz)\u001b[0m \u001b[1m≥\u001b[0m\u001b[0m 3.5)\u001b[0m │    Healthy │        101 │       29 │   0.287129 │   0.862069 │ 1.58307 │      5 │      4 │\n",
      "└─────────────────────────────────────────────────────────────────────────────────────────────────────────────────────────────────────────────────────────────────────────────────────────────────────────────────────────────────────────────────────────────────────────────────────────┴────────────┴────────────┴──────────┴────────────┴────────────┴─────────┴────────┴────────┘\n"
     ]
    }
   ],
   "source": [
    "metricstable(interesting_rules; variable_names_map = variable_names, metrics_kwargs = (; round_digits = nothing, additional_metrics = (; height = r->SoleLogics.height(antecedent(r)))))"
   ]
  },
  {
   "cell_type": "markdown",
   "metadata": {},
   "source": [
    "# Inspect features"
   ]
  },
  {
   "cell_type": "code",
   "execution_count": 39,
   "metadata": {},
   "outputs": [
    {
     "name": "stdout",
     "output_type": "stream",
     "text": [
      "\u001b[34m▣\u001b[0m (\u001b[1m\u001b[36mmax(cntrd)\u001b[0m \u001b[1m<\u001b[0m\u001b[0m 1175.14) ∧ (\u001b[1m\u001b[33mmin(mel8=1194Hz)\u001b[0m \u001b[1m<\u001b[0m\u001b[0m -4.23) ∧ (\u001b[1m\u001b[33mstd(mel13=2832Hz)\u001b[0m \u001b[1m<\u001b[0m\u001b[0m 0.13) ∧ (\u001b[1m\u001b[33mstd(mel9=1419Hz)\u001b[0m \u001b[1m<\u001b[0m\u001b[0m 0.23)  ↣  Pneumonia : (ninstances = 101, ncovered = 27, coverage = 0.27, confidence = 1.0, lift = 2.2, natoms = 4)\n",
      "\u001b[34m▣\u001b[0m (\u001b[1m\u001b[36mmax(cntrd)\u001b[0m \u001b[1m≥\u001b[0m\u001b[0m 1175.14) ∧ (\u001b[1m\u001b[36mstd(flatn)\u001b[0m \u001b[1m≥\u001b[0m\u001b[0m 0.04) ∧ (\u001b[1m\u001b[36mmed(sprd)\u001b[0m \u001b[1m≥\u001b[0m\u001b[0m 204.43) ∧ (\u001b[1m\u001b[33mbsm(mel8=1194Hz)\u001b[0m \u001b[1m≥\u001b[0m\u001b[0m 3.5) ∧ (\u001b[1m\u001b[33mbsm(mel14=3366Hz)\u001b[0m \u001b[1m≥\u001b[0m\u001b[0m 3.5)  ↣  Healthy : (ninstances = 101, ncovered = 29, coverage = 0.29, confidence = 0.86, lift = 1.58, natoms = 5)\n"
     ]
    }
   ],
   "source": [
    "interesting_rules = listrules(sole_dt,\n",
    "\tmin_lift = 1.0,\n",
    "\t# min_lift = 2.0,\n",
    "\tmin_ninstances = 0,\n",
    "\tmin_coverage = 0.10,\n",
    "\tnormalize = true,\n",
    ");\n",
    "map(r->(consequent(r), readmetrics(r)), interesting_rules)\n",
    "printmodel.(interesting_rules; show_metrics = true, syntaxstring_kwargs = (; threshold_digits = 2), variable_names_map=variable_names);"
   ]
  },
  {
   "cell_type": "code",
   "execution_count": 40,
   "metadata": {},
   "outputs": [
    {
     "data": {
      "text/plain": [
       "8-element Vector{Symbol}:\n",
       " Symbol(\"bsm(mel14=3366Hz)\")\n",
       " Symbol(\"bsm(mel8=1194Hz)\")\n",
       " Symbol(\"max(cntrd)\")\n",
       " Symbol(\"med(sprd)\")\n",
       " Symbol(\"min(mel8=1194Hz)\")\n",
       " Symbol(\"std(flatn)\")\n",
       " Symbol(\"std(mel13=2832Hz)\")\n",
       " Symbol(\"std(mel9=1419Hz)\")"
      ]
     },
     "metadata": {},
     "output_type": "display_data"
    }
   ],
   "source": [
    "interesting_features = unique(SoleData.feature.(SoleLogics.value.(vcat(SoleLogics.atoms.(i.antecedent for i in interesting_rules)...))))\n",
    "interesting_variables = sort(SoleData.i_variable.(interesting_features))"
   ]
  }
 ],
 "metadata": {
  "kernelspec": {
   "display_name": "Julia 1.10.5",
   "language": "julia",
   "name": "julia-1.10"
  },
  "language_info": {
   "file_extension": ".jl",
   "mimetype": "application/julia",
   "name": "julia",
   "version": "1.10.5"
  }
 },
 "nbformat": 4,
 "nbformat_minor": 2
}
