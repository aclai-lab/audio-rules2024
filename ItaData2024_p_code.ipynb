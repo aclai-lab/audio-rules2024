{
 "cells": [
  {
   "cell_type": "markdown",
   "metadata": {},
   "source": [
    "# ItaData2024\n",
    "propositional example"
   ]
  },
  {
   "cell_type": "code",
   "execution_count": 1,
   "metadata": {},
   "outputs": [],
   "source": [
    "using MLJ, Sole\n",
    "using MLJDecisionTreeInterface\n",
    "using SoleDecisionTreeInterface\n",
    "using CategoricalArrays\n",
    "using DataFrames, JLD2, CSV\n",
    "using StatsBase, Statistics\n",
    "using Catch22, Audio911"
   ]
  },
  {
   "cell_type": "markdown",
   "metadata": {},
   "source": [
    "### Open .jld2 file\n",
    "the file contains 504 samples of respiratory sound, labeled with 2 classes: healty and pneumonia"
   ]
  },
  {
   "cell_type": "code",
   "execution_count": 2,
   "metadata": {},
   "outputs": [],
   "source": [
    "ds_path = \"/datasets/respiratory_Healthy_Pneumonia\"\n",
    "\n",
    "d = jldopen(string((@__DIR__), ds_path, \".jld2\"))\n",
    "x, y = d[\"dataframe_validated\"]\n",
    "@assert x isa DataFrame\n",
    "close(d)"
   ]
  },
  {
   "cell_type": "markdown",
   "metadata": {},
   "source": [
    "### Audio features extraction function\n",
    "This function is called for every audio sample and extract 51 features:\n",
    "26 bands of the mel spectrogram,\n",
    "13 coefficients of the mfcc\n",
    "12 spectral features: centroid, crest, entropy, f0, flatness, flux, kurtosis, rolloff, skewness, decrease, slope, spread"
   ]
  },
  {
   "cell_type": "code",
   "execution_count": 3,
   "metadata": {},
   "outputs": [
    {
     "data": {
      "text/plain": [
       "afe (generic function with 1 method)"
      ]
     },
     "metadata": {},
     "output_type": "display_data"
    }
   ],
   "source": [
    "nan_replacer!(x::AbstractArray{<:AbstractFloat}) = replace!(x, NaN => 0.0)\n",
    "nan_replacer!(x::Vector{Vector{Float64}}) = map!(v -> replace!(v, NaN => 0.0), x, x)\n",
    "\n",
    "function afe(x::AbstractVector{Float64}; get_only_melfreq=false)\n",
    "    # -------------------------------- parameters -------------------------------- #\n",
    "    # audio module\n",
    "    sr = 8000\n",
    "    norm = true\n",
    "    speech_detection = false\n",
    "    # stft module\n",
    "    stft_length = 256\n",
    "    win_type = (:hann, :periodic)\n",
    "    win_length = 256\n",
    "    overlap_length = 128\n",
    "    stft_norm = :power                      # :power, :magnitude, :pow2mag\n",
    "    # mel filterbank module\n",
    "    nbands = 26\n",
    "    scale = :mel_htk                        # :mel_htk, :mel_slaney, :erb, :bark\n",
    "    melfb_norm = :bandwidth                 # :bandwidth, :area, :none\n",
    "    freq_range = (300, round(Int, sr / 2))\n",
    "    # mel spectrogram module\n",
    "    db_scale = false\n",
    "    # mfcc module\n",
    "    ncoeffs = 13\n",
    "    rectification = :log                    # :log, :cubic_root\n",
    "    dither = true\n",
    "    # f0 module\n",
    "    method = :nfc\n",
    "    f0_range = (50, 400)\n",
    "\n",
    "    # --------------------------------- functions -------------------------------- #\n",
    "    # audio module\n",
    "    audio = load_audio(\n",
    "        file=x,\n",
    "        sr=sr,\n",
    "        norm=norm,\n",
    "    );\n",
    "\n",
    "    stftspec = get_stft(\n",
    "        audio=audio,\n",
    "        stft_length=stft_length,\n",
    "        win_type=win_type,\n",
    "        win_length=win_length,\n",
    "        overlap_length=overlap_length,\n",
    "        norm=stft_norm\n",
    "    );\n",
    "\n",
    "    # mel filterbank module\n",
    "    melfb = get_melfb(\n",
    "        stft=stftspec,\n",
    "        nbands=nbands,\n",
    "        scale=scale,\n",
    "        norm=melfb_norm,\n",
    "        freq_range=freq_range\n",
    "    );\n",
    "\n",
    "    if get_only_melfreq\n",
    "        return melfb.freq\n",
    "    end\n",
    "\n",
    "    # mel spectrogram module\n",
    "    melspec =  get_melspec(\n",
    "        stft=stftspec,\n",
    "        fbank=melfb,\n",
    "        db_scale=db_scale\n",
    "    );\n",
    "\n",
    "    # mfcc module\n",
    "    mfcc = get_mfcc(\n",
    "        source=melspec,\n",
    "        ncoeffs=ncoeffs,\n",
    "        rectification=rectification,\n",
    "        dither=dither,\n",
    "    );\n",
    "\n",
    "    # f0 module\n",
    "    f0 = get_f0(\n",
    "        source=stftspec,\n",
    "        method=method,\n",
    "        freq_range=f0_range\n",
    "    );\n",
    "\n",
    "    # spectral features module\n",
    "    spect = get_spectrals(\n",
    "        source=stftspec,\n",
    "        freq_range=freq_range\n",
    "    );\n",
    "\n",
    "    x_features = hcat(\n",
    "        melspec.spec',\n",
    "        mfcc.mfcc',\n",
    "        f0.f0,\n",
    "        spect.centroid,\n",
    "        spect.crest,\n",
    "        spect.entropy,\n",
    "        spect.flatness,\n",
    "        spect.flux,\n",
    "        spect.kurtosis,\n",
    "        spect.rolloff,\n",
    "        spect.skewness,\n",
    "        spect.decrease,\n",
    "        spect.slope,\n",
    "        spect.spread\n",
    "    );\n",
    "\n",
    "    nan_replacer!(x_features)\n",
    "\n",
    "    return x_features\n",
    "end"
   ]
  },
  {
   "cell_type": "markdown",
   "metadata": {},
   "source": [
    "### Compute DataFrame of features"
   ]
  },
  {
   "cell_type": "code",
   "execution_count": 4,
   "metadata": {},
   "outputs": [],
   "source": [
    "color_code = Dict(:red => 31, :green => 32, :yellow => 33, :blue => 34, :magenta => 35, :cyan => 36)\n",
    "freq = round.(Int, afe(x[1, :audio]; get_only_melfreq=true))\n",
    "r_select = r\"\\e\\[\\d+m(.*?)\\e\\[0m\"\n",
    "\n",
    "catch9_f = [\"max\", \"min\", \"mean\", \"med\", \"std\", \"bsm\", \"bsd\", \"qnt\", \"3ac\"]\n",
    "variable_names = []\n",
    "for j in catch9_f\n",
    "    global variable_names = vcat(variable_names...,\n",
    "        [\"\\e[$(color_code[:yellow])mmel$i=$(freq[i])Hz->$j\\e[0m\" for i in 1:26]...,\n",
    "        [\"\\e[$(color_code[:red])mmfcc$i->$j\\e[0m\" for i in 1:13]...,\n",
    "        \"\\e[$(color_code[:green])mf0->$j\\e[0m\", \"\\e[$(color_code[:cyan])mcntrd->$j\\e[0m\", \"\\e[$(color_code[:cyan])mcrest->$j\\e[0m\",\n",
    "        \"\\e[$(color_code[:cyan])mentrp->$j\\e[0m\", \"\\e[$(color_code[:cyan])mflatn->$j\\e[0m\", \"\\e[$(color_code[:cyan])mflux->$j\\e[0m\",\n",
    "        \"\\e[$(color_code[:cyan])mkurts->$j\\e[0m\", \"\\e[$(color_code[:cyan])mrllff->$j\\e[0m\", \"\\e[$(color_code[:cyan])mskwns->$j\\e[0m\",\n",
    "        \"\\e[$(color_code[:cyan])mdecrs->$j\\e[0m\", \"\\e[$(color_code[:cyan])mslope->$j\\e[0m\", \"\\e[$(color_code[:cyan])msprd->$j\\e[0m\"\n",
    "    )\n",
    "end"
   ]
  },
  {
   "cell_type": "markdown",
   "metadata": {},
   "source": [
    "### Data compression for propositional analysis"
   ]
  },
  {
   "cell_type": "code",
   "execution_count": 5,
   "metadata": {},
   "outputs": [
    {
     "name": "stdout",
     "output_type": "stream",
     "text": [
      "Training set size: (403, 459) - 403\n",
      "Test set size: (101, 459) - 101\n"
     ]
    }
   ],
   "source": [
    "catch9 = [\n",
    "    maximum,\n",
    "    minimum,\n",
    "    StatsBase.mean,\n",
    "    median,\n",
    "    std,\n",
    "    Catch22.SB_BinaryStats_mean_longstretch1,\n",
    "    Catch22.SB_BinaryStats_diff_longstretch0,\n",
    "    Catch22.SB_MotifThree_quantile_hh,\n",
    "    Catch22.SB_TransitionMatrix_3ac_sumdiagcov,\n",
    "]\n",
    "\n",
    "X = DataFrame([name => Float64[] for name in [match(r_select, v)[1] for v in variable_names]])\n",
    "audio_feats = [afe(row[:audio]) for row in eachrow(x)]\n",
    "push!(X, nan_replacer!(vcat([vcat([map(func, eachcol(row)) for func in catch9]...) for row in audio_feats]))...)\n",
    "\n",
    "yc = CategoricalArray(y);\n",
    "\n",
    "train_ratio = 0.8\n",
    "\n",
    "train, test = partition(eachindex(yc), train_ratio, shuffle=true)\n",
    "# train, test = partition(eachindex(yc), train_ratio, shuffle=false) ### Debug\n",
    "X_train, y_train = X[train, :], yc[train]\n",
    "X_test, y_test = X[test, :], yc[test]\n",
    "\n",
    "println(\"Training set size: \", size(X_train), \" - \", length(y_train))\n",
    "println(\"Test set size: \", size(X_test), \" - \", length(y_test))"
   ]
  },
  {
   "cell_type": "markdown",
   "metadata": {},
   "source": [
    "### Train a model"
   ]
  },
  {
   "cell_type": "code",
   "execution_count": 6,
   "metadata": {},
   "outputs": [
    {
     "name": "stderr",
     "output_type": "stream",
     "text": [
      "┌ Info: For silent loading, specify `verbosity=0`. \n",
      "└ @ Main /home/paso/.julia/packages/MLJModels/8W54X/src/loading.jl:159\n"
     ]
    },
    {
     "name": "stdout",
     "output_type": "stream",
     "text": [
      "import MLJDecisionTreeInterface ✔\n"
     ]
    },
    {
     "name": "stderr",
     "output_type": "stream",
     "text": [
      "┌ Info: Training machine(DecisionTreeClassifier(max_depth = -1, …), …).\n",
      "└ @ MLJBase /home/paso/.julia/packages/MLJBase/7nGJF/src/machines.jl:499\n"
     ]
    },
    {
     "data": {
      "text/plain": [
       "mfcc3->min < -0.4241\n",
       "├─ mfcc2->min < 1.449\n",
       "│  ├─ mfcc3->med < -1.12\n",
       "│  │  ├─ Pneumonia (1/1)\n",
       "│  │  └─ Healthy (81/81)\n",
       "│  └─ mfcc9->max < 0.7461\n",
       "│     ├─ mel11=1179Hz->min < 8.438e-6\n",
       "│     │  ├─ decrs->med < -0.1705\n",
       "│     │  │  ├─ mfcc11->qnt < 2.1\n",
       "│     │  │  │  ⋮\n",
       "│     │  │  │  \n",
       "│     │  │  └─ mel13=1407Hz->med < 1.292e-5\n",
       "│     │  │     ⋮\n",
       "│     │  │     \n",
       "│     │  └─ mel17=1950Hz->std < 3.321e-5\n",
       "│     │     ├─ Healthy (12/12)\n",
       "│     │     └─ Pneumonia (1/1)\n",
       "│     └─ mel24=3257Hz->qnt < 2.136\n",
       "│        ├─ Healthy (49/49)\n",
       "│        └─ mfcc10->3ac < 0.007805\n",
       "│           ├─ flatn->std < 0.06577\n",
       "│           │  ⋮\n",
       "│           │  \n",
       "│           └─ mfcc3->mean < 0.7573\n",
       "│              ⋮\n",
       "│              \n",
       "└─ sprd->max < 953.4\n",
       "   ├─ mel25=3491Hz->med < 2.256e-6\n",
       "   │  ├─ Pneumonia (138/138)\n",
       "   │  └─ mel23=3037Hz->3ac < 0.01224\n",
       "   │     ├─ Pneumonia (8/8)\n",
       "   │     └─ Healthy (2/2)\n",
       "   └─ cntrd->min < 368.1\n",
       "      ├─ Pneumonia (3/3)\n",
       "      └─ Healthy (8/8)\n"
      ]
     },
     "metadata": {},
     "output_type": "display_data"
    }
   ],
   "source": [
    "learned_dt_tree = begin\n",
    "    Tree = MLJ.@load DecisionTreeClassifier pkg=DecisionTree\n",
    "    model = Tree(max_depth=-1, )\n",
    "    mach = machine(model, X_train, y_train)\n",
    "    fit!(mach)\n",
    "    fitted_params(mach).tree\n",
    "end"
   ]
  },
  {
   "cell_type": "markdown",
   "metadata": {},
   "source": [
    "### Model inspection & rule study"
   ]
  },
  {
   "cell_type": "code",
   "execution_count": 7,
   "metadata": {},
   "outputs": [
    {
     "name": "stdout",
     "output_type": "stream",
     "text": [
      "\u001b[34m▣\u001b[0m \u001b[1m\u001b[31mmfcc3->min\u001b[0m \u001b[1m<\u001b[0m\u001b[0m -0.4240806889009767\n",
      "├✔ \u001b[1m\u001b[31mmfcc2->min\u001b[0m \u001b[1m<\u001b[0m\u001b[0m 1.4486317561728843\n",
      "│├✔ \u001b[1m\u001b[31mmfcc3->med\u001b[0m \u001b[1m<\u001b[0m\u001b[0m -1.1204737653523038\n",
      "││├✔ Pneumonia : (ninstances = 0, ncovered = 0, confidence = NaN, lift = NaN)\n",
      "││└✘ Healthy : (ninstances = 23, ncovered = 23, confidence = 0.91, lift = 1.0)\n",
      "│└✘ \u001b[1m\u001b[31mmfcc9->max\u001b[0m \u001b[1m<\u001b[0m\u001b[0m 0.746071105620268\n",
      "│ ├✔ \u001b[1m\u001b[33mmel11=1179Hz->min\u001b[0m \u001b[1m<\u001b[0m\u001b[0m 8.438420212132094e-6\n",
      "│ │├✔ \u001b[1m\u001b[36mdecrs->med\u001b[0m \u001b[1m<\u001b[0m\u001b[0m -0.170498600054933\n",
      "│ ││├✔ \u001b[1m\u001b[31mmfcc11->qnt\u001b[0m \u001b[1m<\u001b[0m\u001b[0m 2.100057267209923\n",
      "│ │││├✔ \u001b[1m\u001b[33mmel9=975Hz->3ac\u001b[0m \u001b[1m<\u001b[0m\u001b[0m 0.009761300970092177\n",
      "│ ││││├✔ Healthy : (ninstances = 0, ncovered = 0, confidence = NaN, lift = NaN)\n",
      "│ ││││└✘ Pneumonia : (ninstances = 0, ncovered = 0, confidence = NaN, lift = NaN)\n",
      "│ │││└✘ Pneumonia : (ninstances = 8, ncovered = 8, confidence = 0.88, lift = 1.0)\n",
      "│ ││└✘ \u001b[1m\u001b[33mmel13=1407Hz->med\u001b[0m \u001b[1m<\u001b[0m\u001b[0m 1.291901452177436e-5\n",
      "│ ││ ├✔ Healthy : (ninstances = 2, ncovered = 2, confidence = 0.5, lift = 1.0)\n",
      "│ ││ └✘ Pneumonia : (ninstances = 0, ncovered = 0, confidence = NaN, lift = NaN)\n",
      "│ │└✘ \u001b[1m\u001b[33mmel17=1950Hz->std\u001b[0m \u001b[1m<\u001b[0m\u001b[0m 3.320789077212966e-5\n",
      "│ │ ├✔ Healthy : (ninstances = 3, ncovered = 3, confidence = 1.0, lift = 1.0)\n",
      "│ │ └✘ Pneumonia : (ninstances = 1, ncovered = 1, confidence = 1.0, lift = 1.0)\n",
      "│ └✘ \u001b[1m\u001b[33mmel24=3257Hz->qnt\u001b[0m \u001b[1m<\u001b[0m\u001b[0m 2.1355321877484625\n",
      "│  ├✔ Healthy : (ninstances = 14, ncovered = 14, confidence = 0.93, lift = 1.0)\n",
      "│  └✘ \u001b[1m\u001b[31mmfcc10->3ac\u001b[0m \u001b[1m<\u001b[0m\u001b[0m 0.0078053259871441695\n",
      "│   ├✔ \u001b[1m\u001b[36mflatn->std\u001b[0m \u001b[1m<\u001b[0m\u001b[0m 0.06576898424905844\n",
      "│   │├✔ \u001b[1m\u001b[31mmfcc4->mean\u001b[0m \u001b[1m<\u001b[0m\u001b[0m -0.027273459477797232\n",
      "│   ││├✔ \u001b[1m\u001b[36mkurts->min\u001b[0m \u001b[1m<\u001b[0m\u001b[0m 5.8199855433949015\n",
      "│   │││├✔ Healthy : (ninstances = 1, ncovered = 1, confidence = 1.0, lift = 1.0)\n",
      "│   │││└✘ Pneumonia : (ninstances = 1, ncovered = 1, confidence = 0.0, lift = NaN)\n",
      "│   ││└✘ \u001b[1m\u001b[36mflatn->med\u001b[0m \u001b[1m<\u001b[0m\u001b[0m 0.001833003185689512\n",
      "│   ││ ├✔ Healthy : (ninstances = 0, ncovered = 0, confidence = NaN, lift = NaN)\n",
      "│   ││ └✘ Pneumonia : (ninstances = 2, ncovered = 2, confidence = 1.0, lift = 1.0)\n",
      "│   │└✘ Healthy : (ninstances = 3, ncovered = 3, confidence = 1.0, lift = 1.0)\n",
      "│   └✘ \u001b[1m\u001b[31mmfcc3->mean\u001b[0m \u001b[1m<\u001b[0m\u001b[0m 0.7573128600129597\n",
      "│    ├✔ Healthy : (ninstances = 7, ncovered = 7, confidence = 1.0, lift = 1.0)\n",
      "│    └✘ Pneumonia : (ninstances = 0, ncovered = 0, confidence = NaN, lift = NaN)\n",
      "└✘ \u001b[1m\u001b[36msprd->max\u001b[0m \u001b[1m<\u001b[0m\u001b[0m 953.4487813406679\n",
      " ├✔ \u001b[1m\u001b[33mmel25=3491Hz->med\u001b[0m \u001b[1m<\u001b[0m\u001b[0m 2.256190038408491e-6\n",
      " │├✔ Pneumonia : (ninstances = 30, ncovered = 30, confidence = 0.93, lift = 1.0)\n",
      " │└✘ \u001b[1m\u001b[33mmel23=3037Hz->3ac\u001b[0m \u001b[1m<\u001b[0m\u001b[0m 0.01224364860728497\n",
      " │ ├✔ Pneumonia : (ninstances = 1, ncovered = 1, confidence = 1.0, lift = 1.0)\n",
      " │ └✘ Healthy : (ninstances = 0, ncovered = 0, confidence = NaN, lift = NaN)\n",
      " └✘ \u001b[1m\u001b[36mcntrd->min\u001b[0m \u001b[1m<\u001b[0m\u001b[0m 368.1315592426538\n",
      "  ├✔ Pneumonia : (ninstances = 1, ncovered = 1, confidence = 1.0, lift = 1.0)\n",
      "  └✘ Healthy : (ninstances = 4, ncovered = 4, confidence = 0.75, lift = 1.0)\n"
     ]
    }
   ],
   "source": [
    "sole_dt = solemodel(learned_dt_tree)\n",
    "# Make test instances flow into the model, so that test metrics can, then, be computed.\n",
    "apply!(sole_dt, X_test, y_test);\n",
    "# Print Sole model\n",
    "printmodel(sole_dt; show_metrics = true, variable_names_map = variable_names);"
   ]
  },
  {
   "cell_type": "markdown",
   "metadata": {},
   "source": [
    "### Extract rules that are at least as good as a random baseline model"
   ]
  },
  {
   "cell_type": "code",
   "execution_count": 8,
   "metadata": {},
   "outputs": [
    {
     "name": "stdout",
     "output_type": "stream",
     "text": [
      "\u001b[34m▣\u001b[0m (\u001b[1m\u001b[31mmfcc3->min\u001b[0m \u001b[1m<\u001b[0m\u001b[0m -0.4240806889009767) ∧ (\u001b[1m\u001b[31mmfcc2->min\u001b[0m \u001b[1m<\u001b[0m\u001b[0m 1.4486317561728843) ∧ (¬(\u001b[1m\u001b[31mmfcc3->med\u001b[0m \u001b[1m<\u001b[0m\u001b[0m -1.1204737653523038))  ↣  Healthy : (ninstances = 101, ncovered = 23, coverage = 0.23, confidence = 0.91, lift = 1.65, natoms = 3)\n",
      "\u001b[34m▣\u001b[0m (\u001b[1m\u001b[31mmfcc3->min\u001b[0m \u001b[1m<\u001b[0m\u001b[0m -0.4240806889009767) ∧ (¬(\u001b[1m\u001b[31mmfcc2->min\u001b[0m \u001b[1m<\u001b[0m\u001b[0m 1.4486317561728843)) ∧ (\u001b[1m\u001b[31mmfcc9->max\u001b[0m \u001b[1m<\u001b[0m\u001b[0m 0.746071105620268) ∧ (\u001b[1m\u001b[33mmel11=1179Hz->min\u001b[0m \u001b[1m<\u001b[0m\u001b[0m 8.438420212132094e-6) ∧ (\u001b[1m\u001b[36mdecrs->med\u001b[0m \u001b[1m<\u001b[0m\u001b[0m -0.170498600054933) ∧ (¬(\u001b[1m\u001b[31mmfcc11->qnt\u001b[0m \u001b[1m<\u001b[0m\u001b[0m 2.100057267209923))  ↣  Pneumonia : (ninstances = 101, ncovered = 8, coverage = 0.08, confidence = 0.88, lift = 1.96, natoms = 6)\n",
      "\u001b[34m▣\u001b[0m (\u001b[1m\u001b[31mmfcc3->min\u001b[0m \u001b[1m<\u001b[0m\u001b[0m -0.4240806889009767) ∧ (¬(\u001b[1m\u001b[31mmfcc2->min\u001b[0m \u001b[1m<\u001b[0m\u001b[0m 1.4486317561728843)) ∧ (\u001b[1m\u001b[31mmfcc9->max\u001b[0m \u001b[1m<\u001b[0m\u001b[0m 0.746071105620268) ∧ (¬(\u001b[1m\u001b[33mmel11=1179Hz->min\u001b[0m \u001b[1m<\u001b[0m\u001b[0m 8.438420212132094e-6)) ∧ (\u001b[1m\u001b[33mmel17=1950Hz->std\u001b[0m \u001b[1m<\u001b[0m\u001b[0m 3.320789077212966e-5)  ↣  Healthy : (ninstances = 101, ncovered = 3, coverage = 0.03, confidence = 1.0, lift = 1.8, natoms = 5)\n",
      "\u001b[34m▣\u001b[0m (\u001b[1m\u001b[31mmfcc3->min\u001b[0m \u001b[1m<\u001b[0m\u001b[0m -0.4240806889009767) ∧ (¬(\u001b[1m\u001b[31mmfcc2->min\u001b[0m \u001b[1m<\u001b[0m\u001b[0m 1.4486317561728843)) ∧ (\u001b[1m\u001b[31mmfcc9->max\u001b[0m \u001b[1m<\u001b[0m\u001b[0m 0.746071105620268) ∧ (¬(\u001b[1m\u001b[33mmel11=1179Hz->min\u001b[0m \u001b[1m<\u001b[0m\u001b[0m 8.438420212132094e-6)) ∧ (¬(\u001b[1m\u001b[33mmel17=1950Hz->std\u001b[0m \u001b[1m<\u001b[0m\u001b[0m 3.320789077212966e-5))  ↣  Pneumonia : (ninstances = 101, ncovered = 1, coverage = 0.01, confidence = 1.0, lift = 2.24, natoms = 5)\n",
      "\u001b[34m▣\u001b[0m (\u001b[1m\u001b[31mmfcc3->min\u001b[0m \u001b[1m<\u001b[0m\u001b[0m -0.4240806889009767) ∧ (¬(\u001b[1m\u001b[31mmfcc2->min\u001b[0m \u001b[1m<\u001b[0m\u001b[0m 1.4486317561728843)) ∧ (¬(\u001b[1m\u001b[31mmfcc9->max\u001b[0m \u001b[1m<\u001b[0m\u001b[0m 0.746071105620268)) ∧ (\u001b[1m\u001b[33mmel24=3257Hz->qnt\u001b[0m \u001b[1m<\u001b[0m\u001b[0m 2.1355321877484625)  ↣  Healthy : (ninstances = 101, ncovered = 14, coverage = 0.14, confidence = 0.93, lift = 1.67, natoms = 4)\n",
      "\u001b[34m▣\u001b[0m (\u001b[1m\u001b[31mmfcc3->min\u001b[0m \u001b[1m<\u001b[0m\u001b[0m -0.4240806889009767) ∧ (¬(\u001b[1m\u001b[31mmfcc2->min\u001b[0m \u001b[1m<\u001b[0m\u001b[0m 1.4486317561728843)) ∧ (¬(\u001b[1m\u001b[31mmfcc9->max\u001b[0m \u001b[1m<\u001b[0m\u001b[0m 0.746071105620268)) ∧ (¬(\u001b[1m\u001b[33mmel24=3257Hz->qnt\u001b[0m \u001b[1m<\u001b[0m\u001b[0m 2.1355321877484625)) ∧ (\u001b[1m\u001b[31mmfcc10->3ac\u001b[0m \u001b[1m<\u001b[0m\u001b[0m 0.0078053259871441695) ∧ (\u001b[1m\u001b[36mflatn->std\u001b[0m \u001b[1m<\u001b[0m\u001b[0m 0.06576898424905844) ∧ (\u001b[1m\u001b[31mmfcc4->mean\u001b[0m \u001b[1m<\u001b[0m\u001b[0m -0.027273459477797232) ∧ (\u001b[1m\u001b[36mkurts->min\u001b[0m \u001b[1m<\u001b[0m\u001b[0m 5.8199855433949015)  ↣  Healthy : (ninstances = 101, ncovered = 1, coverage = 0.01, confidence = 1.0, lift = 1.8, natoms = 8)\n",
      "\u001b[34m▣\u001b[0m (\u001b[1m\u001b[31mmfcc3->min\u001b[0m \u001b[1m<\u001b[0m\u001b[0m -0.4240806889009767) ∧ (¬(\u001b[1m\u001b[31mmfcc2->min\u001b[0m \u001b[1m<\u001b[0m\u001b[0m 1.4486317561728843)) ∧ (¬(\u001b[1m\u001b[31mmfcc9->max\u001b[0m \u001b[1m<\u001b[0m\u001b[0m 0.746071105620268)) ∧ (¬(\u001b[1m\u001b[33mmel24=3257Hz->qnt\u001b[0m \u001b[1m<\u001b[0m\u001b[0m 2.1355321877484625)) ∧ (\u001b[1m\u001b[31mmfcc10->3ac\u001b[0m \u001b[1m<\u001b[0m\u001b[0m 0.0078053259871441695) ∧ (\u001b[1m\u001b[36mflatn->std\u001b[0m \u001b[1m<\u001b[0m\u001b[0m 0.06576898424905844) ∧ (¬(\u001b[1m\u001b[31mmfcc4->mean\u001b[0m \u001b[1m<\u001b[0m\u001b[0m -0.027273459477797232)) ∧ (¬(\u001b[1m\u001b[36mflatn->med\u001b[0m \u001b[1m<\u001b[0m\u001b[0m 0.001833003185689512))  ↣  Pneumonia : (ninstances = 101, ncovered = 2, coverage = 0.02, confidence = 1.0, lift = 2.24, natoms = 8)\n",
      "\u001b[34m▣\u001b[0m (\u001b[1m\u001b[31mmfcc3->min\u001b[0m \u001b[1m<\u001b[0m\u001b[0m -0.4240806889009767) ∧ (¬(\u001b[1m\u001b[31mmfcc2->min\u001b[0m \u001b[1m<\u001b[0m\u001b[0m 1.4486317561728843)) ∧ (¬(\u001b[1m\u001b[31mmfcc9->max\u001b[0m \u001b[1m<\u001b[0m\u001b[0m 0.746071105620268)) ∧ (¬(\u001b[1m\u001b[33mmel24=3257Hz->qnt\u001b[0m \u001b[1m<\u001b[0m\u001b[0m 2.1355321877484625)) ∧ (\u001b[1m\u001b[31mmfcc10->3ac\u001b[0m \u001b[1m<\u001b[0m\u001b[0m 0.0078053259871441695) ∧ (¬(\u001b[1m\u001b[36mflatn->std\u001b[0m \u001b[1m<\u001b[0m\u001b[0m 0.06576898424905844))  ↣  Healthy : (ninstances = 101, ncovered = 3, coverage = 0.03, confidence = 1.0, lift = 1.8, natoms = 6)\n",
      "\u001b[34m▣\u001b[0m (\u001b[1m\u001b[31mmfcc3->min\u001b[0m \u001b[1m<\u001b[0m\u001b[0m -0.4240806889009767) ∧ (¬(\u001b[1m\u001b[31mmfcc2->min\u001b[0m \u001b[1m<\u001b[0m\u001b[0m 1.4486317561728843)) ∧ (¬(\u001b[1m\u001b[31mmfcc9->max\u001b[0m \u001b[1m<\u001b[0m\u001b[0m 0.746071105620268)) ∧ (¬(\u001b[1m\u001b[33mmel24=3257Hz->qnt\u001b[0m \u001b[1m<\u001b[0m\u001b[0m 2.1355321877484625)) ∧ (¬(\u001b[1m\u001b[31mmfcc10->3ac\u001b[0m \u001b[1m<\u001b[0m\u001b[0m 0.0078053259871441695)) ∧ (\u001b[1m\u001b[31mmfcc3->mean\u001b[0m \u001b[1m<\u001b[0m\u001b[0m 0.7573128600129597)  ↣  Healthy : (ninstances = 101, ncovered = 7, coverage = 0.07, confidence = 1.0, lift = 1.8, natoms = 6)\n",
      "\u001b[34m▣\u001b[0m (¬(\u001b[1m\u001b[31mmfcc3->min\u001b[0m \u001b[1m<\u001b[0m\u001b[0m -0.4240806889009767)) ∧ (\u001b[1m\u001b[36msprd->max\u001b[0m \u001b[1m<\u001b[0m\u001b[0m 953.4487813406679) ∧ (\u001b[1m\u001b[33mmel25=3491Hz->med\u001b[0m \u001b[1m<\u001b[0m\u001b[0m 2.256190038408491e-6)  ↣  Pneumonia : (ninstances = 101, ncovered = 30, coverage = 0.3, confidence = 0.93, lift = 2.09, natoms = 3)\n",
      "\u001b[34m▣\u001b[0m (¬(\u001b[1m\u001b[31mmfcc3->min\u001b[0m \u001b[1m<\u001b[0m\u001b[0m -0.4240806889009767)) ∧ (\u001b[1m\u001b[36msprd->max\u001b[0m \u001b[1m<\u001b[0m\u001b[0m 953.4487813406679) ∧ (¬(\u001b[1m\u001b[33mmel25=3491Hz->med\u001b[0m \u001b[1m<\u001b[0m\u001b[0m 2.256190038408491e-6)) ∧ (\u001b[1m\u001b[33mmel23=3037Hz->3ac\u001b[0m \u001b[1m<\u001b[0m\u001b[0m 0.01224364860728497)  ↣  Pneumonia : (ninstances = 101, ncovered = 1, coverage = 0.01, confidence = 1.0, lift = 2.24, natoms = 4)\n",
      "\u001b[34m▣\u001b[0m (¬(\u001b[1m\u001b[31mmfcc3->min\u001b[0m \u001b[1m<\u001b[0m\u001b[0m -0.4240806889009767)) ∧ (¬(\u001b[1m\u001b[36msprd->max\u001b[0m \u001b[1m<\u001b[0m\u001b[0m 953.4487813406679)) ∧ (\u001b[1m\u001b[36mcntrd->min\u001b[0m \u001b[1m<\u001b[0m\u001b[0m 368.1315592426538)  ↣  Pneumonia : (ninstances = 101, ncovered = 1, coverage = 0.01, confidence = 1.0, lift = 2.24, natoms = 3)\n",
      "\u001b[34m▣\u001b[0m (¬(\u001b[1m\u001b[31mmfcc3->min\u001b[0m \u001b[1m<\u001b[0m\u001b[0m -0.4240806889009767)) ∧ (¬(\u001b[1m\u001b[36msprd->max\u001b[0m \u001b[1m<\u001b[0m\u001b[0m 953.4487813406679)) ∧ (¬(\u001b[1m\u001b[36mcntrd->min\u001b[0m \u001b[1m<\u001b[0m\u001b[0m 368.1315592426538))  ↣  Healthy : (ninstances = 101, ncovered = 4, coverage = 0.04, confidence = 0.75, lift = 1.35, natoms = 3)\n"
     ]
    }
   ],
   "source": [
    "interesting_rules = listrules(sole_dt, min_lift = 1.0, min_ninstances = 0);\n",
    "printmodel.(interesting_rules; show_metrics = true, variable_names_map = variable_names);"
   ]
  },
  {
   "cell_type": "markdown",
   "metadata": {},
   "source": [
    "### Simplify rules while extracting and prettify result"
   ]
  },
  {
   "cell_type": "code",
   "execution_count": 9,
   "metadata": {},
   "outputs": [
    {
     "name": "stdout",
     "output_type": "stream",
     "text": [
      "\u001b[34m▣\u001b[0m (\u001b[1m\u001b[31mmfcc3->min\u001b[0m \u001b[1m<\u001b[0m\u001b[0m -0.42) ∧ (\u001b[1m\u001b[31mmfcc2->min\u001b[0m \u001b[1m<\u001b[0m\u001b[0m 1.45) ∧ (\u001b[1m\u001b[31mmfcc3->med\u001b[0m \u001b[1m≥\u001b[0m\u001b[0m -1.12)  ↣  Healthy : (ninstances = 101, ncovered = 23, coverage = 0.23, confidence = 0.91, lift = 1.65, natoms = 3)\n",
      "\u001b[34m▣\u001b[0m (\u001b[1m\u001b[31mmfcc3->min\u001b[0m \u001b[1m<\u001b[0m\u001b[0m -0.42) ∧ (\u001b[1m\u001b[31mmfcc2->min\u001b[0m \u001b[1m≥\u001b[0m\u001b[0m 1.45) ∧ (\u001b[1m\u001b[31mmfcc9->max\u001b[0m \u001b[1m<\u001b[0m\u001b[0m 0.75) ∧ (\u001b[1m\u001b[33mmel11=1179Hz->min\u001b[0m \u001b[1m<\u001b[0m\u001b[0m 0.0) ∧ (\u001b[1m\u001b[36mdecrs->med\u001b[0m \u001b[1m<\u001b[0m\u001b[0m -0.17) ∧ (\u001b[1m\u001b[31mmfcc11->qnt\u001b[0m \u001b[1m≥\u001b[0m\u001b[0m 2.1)  ↣  Pneumonia : (ninstances = 101, ncovered = 8, coverage = 0.08, confidence = 0.88, lift = 1.96, natoms = 6)\n",
      "\u001b[34m▣\u001b[0m (\u001b[1m\u001b[31mmfcc3->min\u001b[0m \u001b[1m<\u001b[0m\u001b[0m -0.42) ∧ (\u001b[1m\u001b[31mmfcc2->min\u001b[0m \u001b[1m≥\u001b[0m\u001b[0m 1.45) ∧ (\u001b[1m\u001b[31mmfcc9->max\u001b[0m \u001b[1m<\u001b[0m\u001b[0m 0.75) ∧ (\u001b[1m\u001b[33mmel11=1179Hz->min\u001b[0m \u001b[1m≥\u001b[0m\u001b[0m 0.0) ∧ (\u001b[1m\u001b[33mmel17=1950Hz->std\u001b[0m \u001b[1m<\u001b[0m\u001b[0m 0.0)  ↣  Healthy : (ninstances = 101, ncovered = 3, coverage = 0.03, confidence = 1.0, lift = 1.8, natoms = 5)\n",
      "\u001b[34m▣\u001b[0m (\u001b[1m\u001b[31mmfcc3->min\u001b[0m \u001b[1m<\u001b[0m\u001b[0m -0.42) ∧ (\u001b[1m\u001b[31mmfcc2->min\u001b[0m \u001b[1m≥\u001b[0m\u001b[0m 1.45) ∧ (\u001b[1m\u001b[31mmfcc9->max\u001b[0m \u001b[1m<\u001b[0m\u001b[0m 0.75) ∧ (\u001b[1m\u001b[33mmel11=1179Hz->min\u001b[0m \u001b[1m≥\u001b[0m\u001b[0m 0.0) ∧ (\u001b[1m\u001b[33mmel17=1950Hz->std\u001b[0m \u001b[1m≥\u001b[0m\u001b[0m 0.0)  ↣  Pneumonia : (ninstances = 101, ncovered = 1, coverage = 0.01, confidence = 1.0, lift = 2.24, natoms = 5)\n",
      "\u001b[34m▣\u001b[0m (\u001b[1m\u001b[31mmfcc3->min\u001b[0m \u001b[1m<\u001b[0m\u001b[0m -0.42) ∧ (\u001b[1m\u001b[31mmfcc2->min\u001b[0m \u001b[1m≥\u001b[0m\u001b[0m 1.45) ∧ (\u001b[1m\u001b[31mmfcc9->max\u001b[0m \u001b[1m≥\u001b[0m\u001b[0m 0.75) ∧ (\u001b[1m\u001b[33mmel24=3257Hz->qnt\u001b[0m \u001b[1m<\u001b[0m\u001b[0m 2.14)  ↣  Healthy : (ninstances = 101, ncovered = 14, coverage = 0.14, confidence = 0.93, lift = 1.67, natoms = 4)\n",
      "\u001b[34m▣\u001b[0m (\u001b[1m\u001b[31mmfcc3->min\u001b[0m \u001b[1m<\u001b[0m\u001b[0m -0.42) ∧ (\u001b[1m\u001b[31mmfcc2->min\u001b[0m \u001b[1m≥\u001b[0m\u001b[0m 1.45) ∧ (\u001b[1m\u001b[31mmfcc9->max\u001b[0m \u001b[1m≥\u001b[0m\u001b[0m 0.75) ∧ (\u001b[1m\u001b[33mmel24=3257Hz->qnt\u001b[0m \u001b[1m≥\u001b[0m\u001b[0m 2.14) ∧ (\u001b[1m\u001b[31mmfcc10->3ac\u001b[0m \u001b[1m<\u001b[0m\u001b[0m 0.01) ∧ (\u001b[1m\u001b[36mflatn->std\u001b[0m \u001b[1m<\u001b[0m\u001b[0m 0.07) ∧ (\u001b[1m\u001b[31mmfcc4->mean\u001b[0m \u001b[1m<\u001b[0m\u001b[0m -0.03) ∧ (\u001b[1m\u001b[36mkurts->min\u001b[0m \u001b[1m<\u001b[0m\u001b[0m 5.82)  ↣  Healthy : (ninstances = 101, ncovered = 1, coverage = 0.01, confidence = 1.0, lift = 1.8, natoms = 8)\n",
      "\u001b[34m▣\u001b[0m (\u001b[1m\u001b[31mmfcc3->min\u001b[0m \u001b[1m<\u001b[0m\u001b[0m -0.42) ∧ (\u001b[1m\u001b[31mmfcc2->min\u001b[0m \u001b[1m≥\u001b[0m\u001b[0m 1.45) ∧ (\u001b[1m\u001b[31mmfcc9->max\u001b[0m \u001b[1m≥\u001b[0m\u001b[0m 0.75) ∧ (\u001b[1m\u001b[33mmel24=3257Hz->qnt\u001b[0m \u001b[1m≥\u001b[0m\u001b[0m 2.14) ∧ (\u001b[1m\u001b[31mmfcc10->3ac\u001b[0m \u001b[1m<\u001b[0m\u001b[0m 0.01) ∧ (\u001b[1m\u001b[36mflatn->std\u001b[0m \u001b[1m<\u001b[0m\u001b[0m 0.07) ∧ (\u001b[1m\u001b[31mmfcc4->mean\u001b[0m \u001b[1m≥\u001b[0m\u001b[0m -0.03) ∧ (\u001b[1m\u001b[36mflatn->med\u001b[0m \u001b[1m≥\u001b[0m\u001b[0m 0.0)  ↣  Pneumonia : (ninstances = 101, ncovered = 2, coverage = 0.02, confidence = 1.0, lift = 2.24, natoms = 8)\n",
      "\u001b[34m▣\u001b[0m (\u001b[1m\u001b[31mmfcc3->min\u001b[0m \u001b[1m<\u001b[0m\u001b[0m -0.42) ∧ (\u001b[1m\u001b[31mmfcc2->min\u001b[0m \u001b[1m≥\u001b[0m\u001b[0m 1.45) ∧ (\u001b[1m\u001b[31mmfcc9->max\u001b[0m \u001b[1m≥\u001b[0m\u001b[0m 0.75) ∧ (\u001b[1m\u001b[33mmel24=3257Hz->qnt\u001b[0m \u001b[1m≥\u001b[0m\u001b[0m 2.14) ∧ (\u001b[1m\u001b[31mmfcc10->3ac\u001b[0m \u001b[1m<\u001b[0m\u001b[0m 0.01) ∧ (\u001b[1m\u001b[36mflatn->std\u001b[0m \u001b[1m≥\u001b[0m\u001b[0m 0.07)  ↣  Healthy : (ninstances = 101, ncovered = 3, coverage = 0.03, confidence = 1.0, lift = 1.8, natoms = 6)\n",
      "\u001b[34m▣\u001b[0m (\u001b[1m\u001b[31mmfcc3->min\u001b[0m \u001b[1m<\u001b[0m\u001b[0m -0.42) ∧ (\u001b[1m\u001b[31mmfcc2->min\u001b[0m \u001b[1m≥\u001b[0m\u001b[0m 1.45) ∧ (\u001b[1m\u001b[31mmfcc9->max\u001b[0m \u001b[1m≥\u001b[0m\u001b[0m 0.75) ∧ (\u001b[1m\u001b[33mmel24=3257Hz->qnt\u001b[0m \u001b[1m≥\u001b[0m\u001b[0m 2.14) ∧ (\u001b[1m\u001b[31mmfcc10->3ac\u001b[0m \u001b[1m≥\u001b[0m\u001b[0m 0.01) ∧ (\u001b[1m\u001b[31mmfcc3->mean\u001b[0m \u001b[1m<\u001b[0m\u001b[0m 0.76)  ↣  Healthy : (ninstances = 101, ncovered = 7, coverage = 0.07, confidence = 1.0, lift = 1.8, natoms = 6)\n",
      "\u001b[34m▣\u001b[0m (\u001b[1m\u001b[31mmfcc3->min\u001b[0m \u001b[1m≥\u001b[0m\u001b[0m -0.42) ∧ (\u001b[1m\u001b[36msprd->max\u001b[0m \u001b[1m<\u001b[0m\u001b[0m 953.45) ∧ (\u001b[1m\u001b[33mmel25=3491Hz->med\u001b[0m \u001b[1m<\u001b[0m\u001b[0m 0.0)  ↣  Pneumonia : (ninstances = 101, ncovered = 30, coverage = 0.3, confidence = 0.93, lift = 2.09, natoms = 3)\n",
      "\u001b[34m▣\u001b[0m (\u001b[1m\u001b[31mmfcc3->min\u001b[0m \u001b[1m≥\u001b[0m\u001b[0m -0.42) ∧ (\u001b[1m\u001b[36msprd->max\u001b[0m \u001b[1m<\u001b[0m\u001b[0m 953.45) ∧ (\u001b[1m\u001b[33mmel25=3491Hz->med\u001b[0m \u001b[1m≥\u001b[0m\u001b[0m 0.0) ∧ (\u001b[1m\u001b[33mmel23=3037Hz->3ac\u001b[0m \u001b[1m<\u001b[0m\u001b[0m 0.01)  ↣  Pneumonia : (ninstances = 101, ncovered = 1, coverage = 0.01, confidence = 1.0, lift = 2.24, natoms = 4)\n",
      "\u001b[34m▣\u001b[0m (\u001b[1m\u001b[31mmfcc3->min\u001b[0m \u001b[1m≥\u001b[0m\u001b[0m -0.42) ∧ (\u001b[1m\u001b[36msprd->max\u001b[0m \u001b[1m≥\u001b[0m\u001b[0m 953.45) ∧ (\u001b[1m\u001b[36mcntrd->min\u001b[0m \u001b[1m<\u001b[0m\u001b[0m 368.13)  ↣  Pneumonia : (ninstances = 101, ncovered = 1, coverage = 0.01, confidence = 1.0, lift = 2.24, natoms = 3)\n",
      "\u001b[34m▣\u001b[0m (\u001b[1m\u001b[31mmfcc3->min\u001b[0m \u001b[1m≥\u001b[0m\u001b[0m -0.42) ∧ (\u001b[1m\u001b[36msprd->max\u001b[0m \u001b[1m≥\u001b[0m\u001b[0m 953.45) ∧ (\u001b[1m\u001b[36mcntrd->min\u001b[0m \u001b[1m≥\u001b[0m\u001b[0m 368.13)  ↣  Healthy : (ninstances = 101, ncovered = 4, coverage = 0.04, confidence = 0.75, lift = 1.35, natoms = 3)\n"
     ]
    }
   ],
   "source": [
    "interesting_rules = listrules(sole_dt, min_lift = 1.0, min_ninstances = 0, normalize = true);\n",
    "printmodel.(interesting_rules; show_metrics = true, syntaxstring_kwargs = (; threshold_digits = 2), variable_names_map = variable_names);"
   ]
  },
  {
   "cell_type": "markdown",
   "metadata": {},
   "source": [
    "### Directly access rule metrics"
   ]
  },
  {
   "cell_type": "code",
   "execution_count": 10,
   "metadata": {},
   "outputs": [
    {
     "data": {
      "text/plain": [
       "13-element Vector{@NamedTuple{ninstances::Int64, ncovered::Int64, coverage::Float64, confidence::Float64, lift::Float64, natoms::Int64}}:\n",
       " (ninstances = 101, ncovered = 23, coverage = 0.22772277227722773, confidence = 0.9130434782608695, lift = 1.6467391304347823, natoms = 3)\n",
       " (ninstances = 101, ncovered = 8, coverage = 0.07920792079207921, confidence = 0.875, lift = 1.9638888888888888, natoms = 6)\n",
       " (ninstances = 101, ncovered = 3, coverage = 0.0297029702970297, confidence = 1.0, lift = 1.8035714285714284, natoms = 5)\n",
       " (ninstances = 101, ncovered = 1, coverage = 0.009900990099009901, confidence = 1.0, lift = 2.2444444444444445, natoms = 5)\n",
       " (ninstances = 101, ncovered = 14, coverage = 0.13861386138613863, confidence = 0.9285714285714286, lift = 1.6747448979591837, natoms = 4)\n",
       " (ninstances = 101, ncovered = 1, coverage = 0.009900990099009901, confidence = 1.0, lift = 1.8035714285714284, natoms = 8)\n",
       " (ninstances = 101, ncovered = 2, coverage = 0.019801980198019802, confidence = 1.0, lift = 2.2444444444444445, natoms = 8)\n",
       " (ninstances = 101, ncovered = 3, coverage = 0.0297029702970297, confidence = 1.0, lift = 1.8035714285714284, natoms = 6)\n",
       " (ninstances = 101, ncovered = 7, coverage = 0.06930693069306931, confidence = 1.0, lift = 1.8035714285714284, natoms = 6)\n",
       " (ninstances = 101, ncovered = 30, coverage = 0.297029702970297, confidence = 0.9333333333333333, lift = 2.0948148148148147, natoms = 3)\n",
       " (ninstances = 101, ncovered = 1, coverage = 0.009900990099009901, confidence = 1.0, lift = 2.2444444444444445, natoms = 4)\n",
       " (ninstances = 101, ncovered = 1, coverage = 0.009900990099009901, confidence = 1.0, lift = 2.2444444444444445, natoms = 3)\n",
       " (ninstances = 101, ncovered = 4, coverage = 0.039603960396039604, confidence = 0.75, lift = 1.3526785714285714, natoms = 3)"
      ]
     },
     "metadata": {},
     "output_type": "display_data"
    }
   ],
   "source": [
    "readmetrics.(listrules(sole_dt; min_lift=1.0, min_ninstances = 0))"
   ]
  },
  {
   "cell_type": "markdown",
   "metadata": {},
   "source": [
    "### Show rules with an additional metric (syntax height of the rule's antecedent)"
   ]
  },
  {
   "cell_type": "code",
   "execution_count": 11,
   "metadata": {},
   "outputs": [
    {
     "name": "stdout",
     "output_type": "stream",
     "text": [
      "\u001b[34m▣\u001b[0m (\u001b[1m\u001b[31mmfcc3->min\u001b[0m \u001b[1m<\u001b[0m\u001b[0m -0.4240806889009767) ∧ (\u001b[1m\u001b[31mmfcc2->min\u001b[0m \u001b[1m≥\u001b[0m\u001b[0m 1.4486317561728843) ∧ (\u001b[1m\u001b[31mmfcc9->max\u001b[0m \u001b[1m≥\u001b[0m\u001b[0m 0.746071105620268) ∧ (\u001b[1m\u001b[33mmel24=3257Hz->qnt\u001b[0m \u001b[1m≥\u001b[0m\u001b[0m 2.1355321877484625) ∧ (\u001b[1m\u001b[31mmfcc10->3ac\u001b[0m \u001b[1m<\u001b[0m\u001b[0m 0.0078053259871441695) ∧ (\u001b[1m\u001b[36mflatn->std\u001b[0m \u001b[1m<\u001b[0m\u001b[0m 0.06576898424905844) ∧ (\u001b[1m\u001b[31mmfcc4->mean\u001b[0m \u001b[1m<\u001b[0m\u001b[0m -0.027273459477797232) ∧ (\u001b[1m\u001b[36mkurts->min\u001b[0m \u001b[1m<\u001b[0m\u001b[0m 5.8199855433949015)  ↣  Healthy : (ninstances = 101, ncovered = 1, coverage = 0.009900990099009901, confidence = 1.0, lift = 1.8035714285714284, natoms = 8, height = 7)\n",
      "\u001b[34m▣\u001b[0m (\u001b[1m\u001b[31mmfcc3->min\u001b[0m \u001b[1m≥\u001b[0m\u001b[0m -0.4240806889009767) ∧ (\u001b[1m\u001b[36msprd->max\u001b[0m \u001b[1m≥\u001b[0m\u001b[0m 953.4487813406679) ∧ (\u001b[1m\u001b[36mcntrd->min\u001b[0m \u001b[1m<\u001b[0m\u001b[0m 368.1315592426538)  ↣  Pneumonia : (ninstances = 101, ncovered = 1, coverage = 0.009900990099009901, confidence = 1.0, lift = 2.2444444444444445, natoms = 3, height = 2)\n",
      "\u001b[34m▣\u001b[0m (\u001b[1m\u001b[31mmfcc3->min\u001b[0m \u001b[1m≥\u001b[0m\u001b[0m -0.4240806889009767) ∧ (\u001b[1m\u001b[36msprd->max\u001b[0m \u001b[1m<\u001b[0m\u001b[0m 953.4487813406679) ∧ (\u001b[1m\u001b[33mmel25=3491Hz->med\u001b[0m \u001b[1m≥\u001b[0m\u001b[0m 2.256190038408491e-6) ∧ (\u001b[1m\u001b[33mmel23=3037Hz->3ac\u001b[0m \u001b[1m<\u001b[0m\u001b[0m 0.01224364860728497)  ↣  Pneumonia : (ninstances = 101, ncovered = 1, coverage = 0.009900990099009901, confidence = 1.0, lift = 2.2444444444444445, natoms = 4, height = 3)\n",
      "\u001b[34m▣\u001b[0m (\u001b[1m\u001b[31mmfcc3->min\u001b[0m \u001b[1m<\u001b[0m\u001b[0m -0.4240806889009767) ∧ (\u001b[1m\u001b[31mmfcc2->min\u001b[0m \u001b[1m≥\u001b[0m\u001b[0m 1.4486317561728843) ∧ (\u001b[1m\u001b[31mmfcc9->max\u001b[0m \u001b[1m<\u001b[0m\u001b[0m 0.746071105620268) ∧ (\u001b[1m\u001b[33mmel11=1179Hz->min\u001b[0m \u001b[1m≥\u001b[0m\u001b[0m 8.438420212132094e-6) ∧ (\u001b[1m\u001b[33mmel17=1950Hz->std\u001b[0m \u001b[1m≥\u001b[0m\u001b[0m 3.320789077212966e-5)  ↣  Pneumonia : (ninstances = 101, ncovered = 1, coverage = 0.009900990099009901, confidence = 1.0, lift = 2.2444444444444445, natoms = 5, height = 4)\n",
      "\u001b[34m▣\u001b[0m (\u001b[1m\u001b[31mmfcc3->min\u001b[0m \u001b[1m<\u001b[0m\u001b[0m -0.4240806889009767) ∧ (\u001b[1m\u001b[31mmfcc2->min\u001b[0m \u001b[1m≥\u001b[0m\u001b[0m 1.4486317561728843) ∧ (\u001b[1m\u001b[31mmfcc9->max\u001b[0m \u001b[1m≥\u001b[0m\u001b[0m 0.746071105620268) ∧ (\u001b[1m\u001b[33mmel24=3257Hz->qnt\u001b[0m \u001b[1m≥\u001b[0m\u001b[0m 2.1355321877484625) ∧ (\u001b[1m\u001b[31mmfcc10->3ac\u001b[0m \u001b[1m<\u001b[0m\u001b[0m 0.0078053259871441695) ∧ (\u001b[1m\u001b[36mflatn->std\u001b[0m \u001b[1m<\u001b[0m\u001b[0m 0.06576898424905844) ∧ (\u001b[1m\u001b[31mmfcc4->mean\u001b[0m \u001b[1m≥\u001b[0m\u001b[0m -0.027273459477797232) ∧ (\u001b[1m\u001b[36mflatn->med\u001b[0m \u001b[1m≥\u001b[0m\u001b[0m 0.001833003185689512)  ↣  Pneumonia : (ninstances = 101, ncovered = 2, coverage = 0.019801980198019802, confidence = 1.0, lift = 2.2444444444444445, natoms = 8, height = 7)\n",
      "\u001b[34m▣\u001b[0m (\u001b[1m\u001b[31mmfcc3->min\u001b[0m \u001b[1m<\u001b[0m\u001b[0m -0.4240806889009767) ∧ (\u001b[1m\u001b[31mmfcc2->min\u001b[0m \u001b[1m≥\u001b[0m\u001b[0m 1.4486317561728843) ∧ (\u001b[1m\u001b[31mmfcc9->max\u001b[0m \u001b[1m<\u001b[0m\u001b[0m 0.746071105620268) ∧ (\u001b[1m\u001b[33mmel11=1179Hz->min\u001b[0m \u001b[1m≥\u001b[0m\u001b[0m 8.438420212132094e-6) ∧ (\u001b[1m\u001b[33mmel17=1950Hz->std\u001b[0m \u001b[1m<\u001b[0m\u001b[0m 3.320789077212966e-5)  ↣  Healthy : (ninstances = 101, ncovered = 3, coverage = 0.0297029702970297, confidence = 1.0, lift = 1.8035714285714284, natoms = 5, height = 4)\n",
      "\u001b[34m▣\u001b[0m (\u001b[1m\u001b[31mmfcc3->min\u001b[0m \u001b[1m<\u001b[0m\u001b[0m -0.4240806889009767) ∧ (\u001b[1m\u001b[31mmfcc2->min\u001b[0m \u001b[1m≥\u001b[0m\u001b[0m 1.4486317561728843) ∧ (\u001b[1m\u001b[31mmfcc9->max\u001b[0m \u001b[1m≥\u001b[0m\u001b[0m 0.746071105620268) ∧ (\u001b[1m\u001b[33mmel24=3257Hz->qnt\u001b[0m \u001b[1m≥\u001b[0m\u001b[0m 2.1355321877484625) ∧ (\u001b[1m\u001b[31mmfcc10->3ac\u001b[0m \u001b[1m<\u001b[0m\u001b[0m 0.0078053259871441695) ∧ (\u001b[1m\u001b[36mflatn->std\u001b[0m \u001b[1m≥\u001b[0m\u001b[0m 0.06576898424905844)  ↣  Healthy : (ninstances = 101, ncovered = 3, coverage = 0.0297029702970297, confidence = 1.0, lift = 1.8035714285714284, natoms = 6, height = 5)\n",
      "\u001b[34m▣\u001b[0m (\u001b[1m\u001b[31mmfcc3->min\u001b[0m \u001b[1m≥\u001b[0m\u001b[0m -0.4240806889009767) ∧ (\u001b[1m\u001b[36msprd->max\u001b[0m \u001b[1m≥\u001b[0m\u001b[0m 953.4487813406679) ∧ (\u001b[1m\u001b[36mcntrd->min\u001b[0m \u001b[1m≥\u001b[0m\u001b[0m 368.1315592426538)  ↣  Healthy : (ninstances = 101, ncovered = 4, coverage = 0.039603960396039604, confidence = 0.75, lift = 1.3526785714285714, natoms = 3, height = 2)\n",
      "\u001b[34m▣\u001b[0m (\u001b[1m\u001b[31mmfcc3->min\u001b[0m \u001b[1m<\u001b[0m\u001b[0m -0.4240806889009767) ∧ (\u001b[1m\u001b[31mmfcc2->min\u001b[0m \u001b[1m≥\u001b[0m\u001b[0m 1.4486317561728843) ∧ (\u001b[1m\u001b[31mmfcc9->max\u001b[0m \u001b[1m≥\u001b[0m\u001b[0m 0.746071105620268) ∧ (\u001b[1m\u001b[33mmel24=3257Hz->qnt\u001b[0m \u001b[1m≥\u001b[0m\u001b[0m 2.1355321877484625) ∧ (\u001b[1m\u001b[31mmfcc10->3ac\u001b[0m \u001b[1m≥\u001b[0m\u001b[0m 0.0078053259871441695) ∧ (\u001b[1m\u001b[31mmfcc3->mean\u001b[0m \u001b[1m<\u001b[0m\u001b[0m 0.7573128600129597)  ↣  Healthy : (ninstances = 101, ncovered = 7, coverage = 0.06930693069306931, confidence = 1.0, lift = 1.8035714285714284, natoms = 6, height = 5)\n",
      "\u001b[34m▣\u001b[0m (\u001b[1m\u001b[31mmfcc3->min\u001b[0m \u001b[1m<\u001b[0m\u001b[0m -0.4240806889009767) ∧ (\u001b[1m\u001b[31mmfcc2->min\u001b[0m \u001b[1m≥\u001b[0m\u001b[0m 1.4486317561728843) ∧ (\u001b[1m\u001b[31mmfcc9->max\u001b[0m \u001b[1m<\u001b[0m\u001b[0m 0.746071105620268) ∧ (\u001b[1m\u001b[33mmel11=1179Hz->min\u001b[0m \u001b[1m<\u001b[0m\u001b[0m 8.438420212132094e-6) ∧ (\u001b[1m\u001b[36mdecrs->med\u001b[0m \u001b[1m<\u001b[0m\u001b[0m -0.170498600054933) ∧ (\u001b[1m\u001b[31mmfcc11->qnt\u001b[0m \u001b[1m≥\u001b[0m\u001b[0m 2.100057267209923)  ↣  Pneumonia : (ninstances = 101, ncovered = 8, coverage = 0.07920792079207921, confidence = 0.875, lift = 1.9638888888888888, natoms = 6, height = 5)\n",
      "\u001b[34m▣\u001b[0m (\u001b[1m\u001b[31mmfcc3->min\u001b[0m \u001b[1m<\u001b[0m\u001b[0m -0.4240806889009767) ∧ (\u001b[1m\u001b[31mmfcc2->min\u001b[0m \u001b[1m≥\u001b[0m\u001b[0m 1.4486317561728843) ∧ (\u001b[1m\u001b[31mmfcc9->max\u001b[0m \u001b[1m≥\u001b[0m\u001b[0m 0.746071105620268) ∧ (\u001b[1m\u001b[33mmel24=3257Hz->qnt\u001b[0m \u001b[1m<\u001b[0m\u001b[0m 2.1355321877484625)  ↣  Healthy : (ninstances = 101, ncovered = 14, coverage = 0.13861386138613863, confidence = 0.9285714285714286, lift = 1.6747448979591837, natoms = 4, height = 3)\n",
      "\u001b[34m▣\u001b[0m (\u001b[1m\u001b[31mmfcc3->min\u001b[0m \u001b[1m<\u001b[0m\u001b[0m -0.4240806889009767) ∧ (\u001b[1m\u001b[31mmfcc2->min\u001b[0m \u001b[1m<\u001b[0m\u001b[0m 1.4486317561728843) ∧ (\u001b[1m\u001b[31mmfcc3->med\u001b[0m \u001b[1m≥\u001b[0m\u001b[0m -1.1204737653523038)  ↣  Healthy : (ninstances = 101, ncovered = 23, coverage = 0.22772277227722773, confidence = 0.9130434782608695, lift = 1.6467391304347823, natoms = 3, height = 2)\n",
      "\u001b[34m▣\u001b[0m (\u001b[1m\u001b[31mmfcc3->min\u001b[0m \u001b[1m≥\u001b[0m\u001b[0m -0.4240806889009767) ∧ (\u001b[1m\u001b[36msprd->max\u001b[0m \u001b[1m<\u001b[0m\u001b[0m 953.4487813406679) ∧ (\u001b[1m\u001b[33mmel25=3491Hz->med\u001b[0m \u001b[1m<\u001b[0m\u001b[0m 2.256190038408491e-6)  ↣  Pneumonia : (ninstances = 101, ncovered = 30, coverage = 0.297029702970297, confidence = 0.9333333333333333, lift = 2.0948148148148147, natoms = 3, height = 2)\n"
     ]
    }
   ],
   "source": [
    "printmodel.(sort(interesting_rules, by = readmetrics); show_metrics = (; round_digits = nothing, additional_metrics = (; height = r->SoleLogics.height(antecedent(r)))), variable_names_map = variable_names);"
   ]
  },
  {
   "cell_type": "markdown",
   "metadata": {},
   "source": [
    "### Pretty table of rules and their metrics"
   ]
  },
  {
   "cell_type": "code",
   "execution_count": 12,
   "metadata": {},
   "outputs": [
    {
     "name": "stdout",
     "output_type": "stream",
     "text": [
      "┌─────────────────────────────────────────────────────────────────────────────────────────────────────────────────────────────────────────────────────────────────────────────────────────────────────────────────────────────────────────────────────────────────────────────────────────────────────────────────┬────────────┬────────────┬──────────┬────────────┬────────────┬─────────┬────────┬────────┐\n",
      "│\u001b[33;1m                                                                                                                                                                                                                                                                                                      Antecedent \u001b[0m│\u001b[33;1m Consequent \u001b[0m│\u001b[33;1m ninstances \u001b[0m│\u001b[33;1m ncovered \u001b[0m│\u001b[33;1m   coverage \u001b[0m│\u001b[33;1m confidence \u001b[0m│\u001b[33;1m    lift \u001b[0m│\u001b[33;1m natoms \u001b[0m│\u001b[33;1m height \u001b[0m│\n",
      "├─────────────────────────────────────────────────────────────────────────────────────────────────────────────────────────────────────────────────────────────────────────────────────────────────────────────────────────────────────────────────────────────────────────────────────────────────────────────────┼────────────┼────────────┼──────────┼────────────┼────────────┼─────────┼────────┼────────┤\n",
      "│                                                                                                                                                                                                     (\u001b[1m\u001b[31mmfcc3->min\u001b[0m \u001b[1m<\u001b[0m\u001b[0m -0.4240806889009767) ∧ (\u001b[1m\u001b[31mmfcc2->min\u001b[0m \u001b[1m<\u001b[0m\u001b[0m 1.4486317561728843) ∧ (\u001b[1m\u001b[31mmfcc3->med\u001b[0m \u001b[1m≥\u001b[0m\u001b[0m -1.1204737653523038)\u001b[0m │    Healthy │        101 │       23 │   0.227723 │   0.913043 │ 1.64674 │      3 │      2 │\n",
      "│                                                                                  (\u001b[1m\u001b[31mmfcc3->min\u001b[0m \u001b[1m<\u001b[0m\u001b[0m -0.4240806889009767) ∧ (\u001b[1m\u001b[31mmfcc2->min\u001b[0m \u001b[1m≥\u001b[0m\u001b[0m 1.4486317561728843) ∧ (\u001b[1m\u001b[31mmfcc9->max\u001b[0m \u001b[1m<\u001b[0m\u001b[0m 0.746071105620268) ∧ (\u001b[1m\u001b[33mmel11=1179Hz->min\u001b[0m \u001b[1m<\u001b[0m\u001b[0m 8.438420212132094e-6) ∧ (\u001b[1m\u001b[36mdecrs->med\u001b[0m \u001b[1m<\u001b[0m\u001b[0m -0.170498600054933) ∧ (\u001b[1m\u001b[31mmfcc11->qnt\u001b[0m \u001b[1m≥\u001b[0m\u001b[0m 2.100057267209923)\u001b[0m │  Pneumonia │        101 │        8 │  0.0792079 │      0.875 │ 1.96389 │      6 │      5 │\n",
      "│                                                                                                             (\u001b[1m\u001b[31mmfcc3->min\u001b[0m \u001b[1m<\u001b[0m\u001b[0m -0.4240806889009767) ∧ (\u001b[1m\u001b[31mmfcc2->min\u001b[0m \u001b[1m≥\u001b[0m\u001b[0m 1.4486317561728843) ∧ (\u001b[1m\u001b[31mmfcc9->max\u001b[0m \u001b[1m<\u001b[0m\u001b[0m 0.746071105620268) ∧ (\u001b[1m\u001b[33mmel11=1179Hz->min\u001b[0m \u001b[1m≥\u001b[0m\u001b[0m 8.438420212132094e-6) ∧ (\u001b[1m\u001b[33mmel17=1950Hz->std\u001b[0m \u001b[1m<\u001b[0m\u001b[0m 3.320789077212966e-5)\u001b[0m │    Healthy │        101 │        3 │   0.029703 │        1.0 │ 1.80357 │      5 │      4 │\n",
      "│                                                                                                             (\u001b[1m\u001b[31mmfcc3->min\u001b[0m \u001b[1m<\u001b[0m\u001b[0m -0.4240806889009767) ∧ (\u001b[1m\u001b[31mmfcc2->min\u001b[0m \u001b[1m≥\u001b[0m\u001b[0m 1.4486317561728843) ∧ (\u001b[1m\u001b[31mmfcc9->max\u001b[0m \u001b[1m<\u001b[0m\u001b[0m 0.746071105620268) ∧ (\u001b[1m\u001b[33mmel11=1179Hz->min\u001b[0m \u001b[1m≥\u001b[0m\u001b[0m 8.438420212132094e-6) ∧ (\u001b[1m\u001b[33mmel17=1950Hz->std\u001b[0m \u001b[1m≥\u001b[0m\u001b[0m 3.320789077212966e-5)\u001b[0m │  Pneumonia │        101 │        1 │ 0.00990099 │        1.0 │ 2.24444 │      5 │      4 │\n",
      "│                                                                                                                                                            (\u001b[1m\u001b[31mmfcc3->min\u001b[0m \u001b[1m<\u001b[0m\u001b[0m -0.4240806889009767) ∧ (\u001b[1m\u001b[31mmfcc2->min\u001b[0m \u001b[1m≥\u001b[0m\u001b[0m 1.4486317561728843) ∧ (\u001b[1m\u001b[31mmfcc9->max\u001b[0m \u001b[1m≥\u001b[0m\u001b[0m 0.746071105620268) ∧ (\u001b[1m\u001b[33mmel24=3257Hz->qnt\u001b[0m \u001b[1m<\u001b[0m\u001b[0m 2.1355321877484625)\u001b[0m │    Healthy │        101 │       14 │   0.138614 │   0.928571 │ 1.67474 │      4 │      3 │\n",
      "│   (\u001b[1m\u001b[31mmfcc3->min\u001b[0m \u001b[1m<\u001b[0m\u001b[0m -0.4240806889009767) ∧ (\u001b[1m\u001b[31mmfcc2->min\u001b[0m \u001b[1m≥\u001b[0m\u001b[0m 1.4486317561728843) ∧ (\u001b[1m\u001b[31mmfcc9->max\u001b[0m \u001b[1m≥\u001b[0m\u001b[0m 0.746071105620268) ∧ (\u001b[1m\u001b[33mmel24=3257Hz->qnt\u001b[0m \u001b[1m≥\u001b[0m\u001b[0m 2.1355321877484625) ∧ (\u001b[1m\u001b[31mmfcc10->3ac\u001b[0m \u001b[1m<\u001b[0m\u001b[0m 0.0078053259871441695) ∧ (\u001b[1m\u001b[36mflatn->std\u001b[0m \u001b[1m<\u001b[0m\u001b[0m 0.06576898424905844) ∧ (\u001b[1m\u001b[31mmfcc4->mean\u001b[0m \u001b[1m<\u001b[0m\u001b[0m -0.027273459477797232) ∧ (\u001b[1m\u001b[36mkurts->min\u001b[0m \u001b[1m<\u001b[0m\u001b[0m 5.8199855433949015)\u001b[0m │    Healthy │        101 │        1 │ 0.00990099 │        1.0 │ 1.80357 │      8 │      7 │\n",
      "│ (\u001b[1m\u001b[31mmfcc3->min\u001b[0m \u001b[1m<\u001b[0m\u001b[0m -0.4240806889009767) ∧ (\u001b[1m\u001b[31mmfcc2->min\u001b[0m \u001b[1m≥\u001b[0m\u001b[0m 1.4486317561728843) ∧ (\u001b[1m\u001b[31mmfcc9->max\u001b[0m \u001b[1m≥\u001b[0m\u001b[0m 0.746071105620268) ∧ (\u001b[1m\u001b[33mmel24=3257Hz->qnt\u001b[0m \u001b[1m≥\u001b[0m\u001b[0m 2.1355321877484625) ∧ (\u001b[1m\u001b[31mmfcc10->3ac\u001b[0m \u001b[1m<\u001b[0m\u001b[0m 0.0078053259871441695) ∧ (\u001b[1m\u001b[36mflatn->std\u001b[0m \u001b[1m<\u001b[0m\u001b[0m 0.06576898424905844) ∧ (\u001b[1m\u001b[31mmfcc4->mean\u001b[0m \u001b[1m≥\u001b[0m\u001b[0m -0.027273459477797232) ∧ (\u001b[1m\u001b[36mflatn->med\u001b[0m \u001b[1m≥\u001b[0m\u001b[0m 0.001833003185689512)\u001b[0m │  Pneumonia │        101 │        2 │   0.019802 │        1.0 │ 2.24444 │      8 │      7 │\n",
      "│                                                                               (\u001b[1m\u001b[31mmfcc3->min\u001b[0m \u001b[1m<\u001b[0m\u001b[0m -0.4240806889009767) ∧ (\u001b[1m\u001b[31mmfcc2->min\u001b[0m \u001b[1m≥\u001b[0m\u001b[0m 1.4486317561728843) ∧ (\u001b[1m\u001b[31mmfcc9->max\u001b[0m \u001b[1m≥\u001b[0m\u001b[0m 0.746071105620268) ∧ (\u001b[1m\u001b[33mmel24=3257Hz->qnt\u001b[0m \u001b[1m≥\u001b[0m\u001b[0m 2.1355321877484625) ∧ (\u001b[1m\u001b[31mmfcc10->3ac\u001b[0m \u001b[1m<\u001b[0m\u001b[0m 0.0078053259871441695) ∧ (\u001b[1m\u001b[36mflatn->std\u001b[0m \u001b[1m≥\u001b[0m\u001b[0m 0.06576898424905844)\u001b[0m │    Healthy │        101 │        3 │   0.029703 │        1.0 │ 1.80357 │      6 │      5 │\n",
      "│                                                                               (\u001b[1m\u001b[31mmfcc3->min\u001b[0m \u001b[1m<\u001b[0m\u001b[0m -0.4240806889009767) ∧ (\u001b[1m\u001b[31mmfcc2->min\u001b[0m \u001b[1m≥\u001b[0m\u001b[0m 1.4486317561728843) ∧ (\u001b[1m\u001b[31mmfcc9->max\u001b[0m \u001b[1m≥\u001b[0m\u001b[0m 0.746071105620268) ∧ (\u001b[1m\u001b[33mmel24=3257Hz->qnt\u001b[0m \u001b[1m≥\u001b[0m\u001b[0m 2.1355321877484625) ∧ (\u001b[1m\u001b[31mmfcc10->3ac\u001b[0m \u001b[1m≥\u001b[0m\u001b[0m 0.0078053259871441695) ∧ (\u001b[1m\u001b[31mmfcc3->mean\u001b[0m \u001b[1m<\u001b[0m\u001b[0m 0.7573128600129597)\u001b[0m │    Healthy │        101 │        7 │  0.0693069 │        1.0 │ 1.80357 │      6 │      5 │\n",
      "│                                                                                                                                                                                               (\u001b[1m\u001b[31mmfcc3->min\u001b[0m \u001b[1m≥\u001b[0m\u001b[0m -0.4240806889009767) ∧ (\u001b[1m\u001b[36msprd->max\u001b[0m \u001b[1m<\u001b[0m\u001b[0m 953.4487813406679) ∧ (\u001b[1m\u001b[33mmel25=3491Hz->med\u001b[0m \u001b[1m<\u001b[0m\u001b[0m 2.256190038408491e-6)\u001b[0m │  Pneumonia │        101 │       30 │    0.29703 │   0.933333 │ 2.09481 │      3 │      2 │\n",
      "│                                                                                                                                                   (\u001b[1m\u001b[31mmfcc3->min\u001b[0m \u001b[1m≥\u001b[0m\u001b[0m -0.4240806889009767) ∧ (\u001b[1m\u001b[36msprd->max\u001b[0m \u001b[1m<\u001b[0m\u001b[0m 953.4487813406679) ∧ (\u001b[1m\u001b[33mmel25=3491Hz->med\u001b[0m \u001b[1m≥\u001b[0m\u001b[0m 2.256190038408491e-6) ∧ (\u001b[1m\u001b[33mmel23=3037Hz->3ac\u001b[0m \u001b[1m<\u001b[0m\u001b[0m 0.01224364860728497)\u001b[0m │  Pneumonia │        101 │        1 │ 0.00990099 │        1.0 │ 2.24444 │      4 │      3 │\n",
      "│                                                                                                                                                                                                         (\u001b[1m\u001b[31mmfcc3->min\u001b[0m \u001b[1m≥\u001b[0m\u001b[0m -0.4240806889009767) ∧ (\u001b[1m\u001b[36msprd->max\u001b[0m \u001b[1m≥\u001b[0m\u001b[0m 953.4487813406679) ∧ (\u001b[1m\u001b[36mcntrd->min\u001b[0m \u001b[1m<\u001b[0m\u001b[0m 368.1315592426538)\u001b[0m │  Pneumonia │        101 │        1 │ 0.00990099 │        1.0 │ 2.24444 │      3 │      2 │\n",
      "│                                                                                                                                                                                                         (\u001b[1m\u001b[31mmfcc3->min\u001b[0m \u001b[1m≥\u001b[0m\u001b[0m -0.4240806889009767) ∧ (\u001b[1m\u001b[36msprd->max\u001b[0m \u001b[1m≥\u001b[0m\u001b[0m 953.4487813406679) ∧ (\u001b[1m\u001b[36mcntrd->min\u001b[0m \u001b[1m≥\u001b[0m\u001b[0m 368.1315592426538)\u001b[0m │    Healthy │        101 │        4 │   0.039604 │       0.75 │ 1.35268 │      3 │      2 │\n",
      "└─────────────────────────────────────────────────────────────────────────────────────────────────────────────────────────────────────────────────────────────────────────────────────────────────────────────────────────────────────────────────────────────────────────────────────────────────────────────────┴────────────┴────────────┴──────────┴────────────┴────────────┴─────────┴────────┴────────┘\n"
     ]
    }
   ],
   "source": [
    "metricstable(interesting_rules; variable_names_map = variable_names, metrics_kwargs = (; round_digits = nothing, additional_metrics = (; height = r->SoleLogics.height(antecedent(r)))))"
   ]
  }
 ],
 "metadata": {
  "kernelspec": {
   "display_name": "Julia 1.10.4",
   "language": "julia",
   "name": "julia-1.10"
  },
  "language_info": {
   "file_extension": ".jl",
   "mimetype": "application/julia",
   "name": "julia",
   "version": "1.10.4"
  }
 },
 "nbformat": 4,
 "nbformat_minor": 2
}
