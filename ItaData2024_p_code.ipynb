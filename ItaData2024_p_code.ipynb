{
 "cells": [
  {
   "cell_type": "markdown",
   "metadata": {},
   "source": [
    "# ItaData2024\n",
    "propositional example"
   ]
  },
  {
   "cell_type": "code",
   "execution_count": 1,
   "metadata": {},
   "outputs": [],
   "source": [
    "using MLJ\n",
    "using MLJDecisionTreeInterface\n",
    "using Sole, SoleDecisionTreeInterface\n",
    "using CategoricalArrays\n",
    "using DataFrames, JLD2, CSV\n",
    "using StatsBase, Statistics\n",
    "using Catch22, Audio911"
   ]
  },
  {
   "cell_type": "markdown",
   "metadata": {},
   "source": [
    "### Open .jld2 file\n",
    "the file contains 504 samples of respiratory sound, labeled with 2 classes: healty and pneumonia"
   ]
  },
  {
   "cell_type": "code",
   "execution_count": 2,
   "metadata": {},
   "outputs": [],
   "source": [
    "ds_path = \"/datasets/respiratory_Healthy_Pneumonia\"\n",
    "\n",
    "d = jldopen(string((@__DIR__), ds_path, \".jld2\"))\n",
    "x, y = d[\"dataframe_validated\"]\n",
    "@assert x isa DataFrame\n",
    "close(d)"
   ]
  },
  {
   "cell_type": "markdown",
   "metadata": {},
   "source": [
    "### Audio features extraction function\n",
    "This function is called for every audio sample and extract 51 features:\n",
    "26 bands of the mel spectrogram,\n",
    "13 coefficients of the mfcc\n",
    "12 spectral features: centroid, crest, entropy, f0, flatness, flux, kurtosis, rolloff, skewness, decrease, slope, spread"
   ]
  },
  {
   "cell_type": "code",
   "execution_count": null,
   "metadata": {},
   "outputs": [],
   "source": [
    "nan_replacer!(x::AbstractArray{Float64}) = replace!(x, NaN => 0.0)\n",
    "\n",
    "function afe(x::AbstractVector{Float64}; get_only_melfreq=false)\n",
    "    # -------------------------------- parameters -------------------------------- #\n",
    "    # audio module\n",
    "    sr = 8000\n",
    "    norm = true\n",
    "    speech_detection = false\n",
    "    # stft module\n",
    "    stft_length = 256\n",
    "    win_type = (:hann, :periodic)\n",
    "    win_length = 256\n",
    "    overlap_length = 128\n",
    "    stft_norm = :power                      # :power, :magnitude, :pow2mag\n",
    "    # mel filterbank module\n",
    "    nbands = 26\n",
    "    scale = :mel_htk                        # :mel_htk, :mel_slaney, :erb, :bark\n",
    "    melfb_norm = :bandwidth                 # :bandwidth, :area, :none\n",
    "    freq_range = (300, round(Int, sr / 2))\n",
    "    # mel spectrogram module\n",
    "    db_scale = false\n",
    "    # mfcc module\n",
    "    ncoeffs = 13\n",
    "    rectification = :log                    # :log, :cubic_root\n",
    "    dither = true\n",
    "    # f0 module\n",
    "    method = :nfc\n",
    "    f0_range = (50, 400)\n",
    "\n",
    "    # --------------------------------- functions -------------------------------- #\n",
    "    # audio module\n",
    "    audio = load_audio(\n",
    "        file=x,\n",
    "        sr=sr,\n",
    "        norm=norm,\n",
    "    );\n",
    "\n",
    "    stftspec = get_stft(\n",
    "        audio=audio,\n",
    "        stft_length=stft_length,\n",
    "        win_type=win_type,\n",
    "        win_length=win_length,\n",
    "        overlap_length=overlap_length,\n",
    "        norm=stft_norm\n",
    "    );\n",
    "\n",
    "    # mel filterbank module\n",
    "    melfb = get_melfb(\n",
    "        stft=stftspec,\n",
    "        nbands=nbands,\n",
    "        scale=scale,\n",
    "        norm=melfb_norm,\n",
    "        freq_range=freq_range\n",
    "    );\n",
    "\n",
    "    if get_only_melfreq\n",
    "        return melfb.freq\n",
    "    end\n",
    "\n",
    "    # mel spectrogram module\n",
    "    melspec =  get_melspec(\n",
    "        stft=stftspec,\n",
    "        fbank=melfb,\n",
    "        db_scale=db_scale\n",
    "    );\n",
    "\n",
    "    # mfcc module\n",
    "    mfcc = get_mfcc(\n",
    "        source=melspec,\n",
    "        ncoeffs=ncoeffs,\n",
    "        rectification=rectification,\n",
    "        dither=dither,\n",
    "    );\n",
    "\n",
    "    # f0 module\n",
    "    f0 = get_f0(\n",
    "        source=stftspec,\n",
    "        method=method,\n",
    "        freq_range=f0_range\n",
    "    );\n",
    "\n",
    "    # spectral features module\n",
    "    spect = get_spectrals(\n",
    "        source=stftspec,\n",
    "        freq_range=freq_range\n",
    "    );\n",
    "\n",
    "    x_features = hcat(\n",
    "        melspec.spec',\n",
    "        mfcc.mfcc',\n",
    "        f0.f0,\n",
    "        spect.centroid,\n",
    "        spect.crest,\n",
    "        spect.entropy,\n",
    "        spect.flatness,\n",
    "        spect.flux,\n",
    "        spect.kurtosis,\n",
    "        spect.rolloff,\n",
    "        spect.skewness,\n",
    "        spect.decrease,\n",
    "        spect.slope,\n",
    "        spect.spread\n",
    "    );\n",
    "\n",
    "    nan_replacer!(x_features)\n",
    "\n",
    "    return x_features\n",
    "end"
   ]
  },
  {
   "cell_type": "markdown",
   "metadata": {},
   "source": [
    "### Compute DataFrame of features"
   ]
  },
  {
   "cell_type": "code",
   "execution_count": 4,
   "metadata": {},
   "outputs": [],
   "source": [
    "color_code = Dict(:red => 31, :green => 32, :yellow => 33, :blue => 34, :magenta => 35, :cyan => 36)\n",
    "freq = round.(Int, afe(x[1, :audio]; get_only_melfreq=true))\n",
    "r_select = r\"\\e\\[\\d+m(.*?)\\e\\[0m\"\n",
    "variable_names = [\n",
    "    [\"\\e[$(color_code[:yellow])mmel$i=$(freq[i])Hz\\e[0m\" for i in 1:26]...,\n",
    "    [\"\\e[$(color_code[:red])mmfcc$i\\e[0m\" for i in 1:13]...,\n",
    "    \"\\e[$(color_code[:green])mf0\\e[0m\", \"\\e[$(color_code[:cyan])mcntrd\\e[0m\", \"\\e[$(color_code[:cyan])mcrest\\e[0m\",\n",
    "    \"\\e[$(color_code[:cyan])mentrp\\e[0m\", \"\\e[$(color_code[:cyan])mflatn\\e[0m\", \"\\e[$(color_code[:cyan])mflux\\e[0m\",\n",
    "    \"\\e[$(color_code[:cyan])mkurts\\e[0m\", \"\\e[$(color_code[:cyan])mrllff\\e[0m\", \"\\e[$(color_code[:cyan])mskwns\\e[0m\",\n",
    "    \"\\e[$(color_code[:cyan])mdecrs\\e[0m\", \"\\e[$(color_code[:cyan])mslope\\e[0m\", \"\\e[$(color_code[:cyan])msprd\\e[0m\"\n",
    "]\n",
    "\n",
    "X = DataFrame([name => Vector{Float64}[] for name in [match(r_select, v)[1] for v in variable_names]])\n",
    "\n",
    "for i in 1:nrow(x)\n",
    "    push!(X, collect(eachcol(afe(x[i, :audio]))))\n",
    "end"
   ]
  },
  {
   "cell_type": "markdown",
   "metadata": {},
   "source": [
    "### Data compression for propositional analysis"
   ]
  },
  {
   "cell_type": "code",
   "execution_count": 5,
   "metadata": {},
   "outputs": [
    {
     "name": "stdout",
     "output_type": "stream",
     "text": [
      "Training set size: (403, 51) - 403\n",
      "Test set size: (101, 51) - 101\n"
     ]
    }
   ],
   "source": [
    "catch9 = [\n",
    "    maximum,\n",
    "    minimum,\n",
    "    StatsBase.mean,\n",
    "    median,\n",
    "    std,\n",
    "    Catch22.SB_BinaryStats_mean_longstretch1,\n",
    "    Catch22.SB_BinaryStats_diff_longstretch0,\n",
    "    Catch22.SB_MotifThree_quantile_hh,\n",
    "    Catch22.SB_TransitionMatrix_3ac_sumdiagcov,\n",
    "]\n",
    "\n",
    "t = zeros(size(X, 1))\n",
    "for i in eachcol(X)\n",
    "    feature = map(x -> catch9[4](x...), eachrow(i))\n",
    "    global t = hcat(t, feature)\n",
    "end\n",
    "Xc = DataFrame(t[:, 2:end], names(X));\n",
    "\n",
    "yc = CategoricalArray{String,1,UInt32}(y);\n",
    "\n",
    "train_ratio = 0.8\n",
    "\n",
    "train, test = partition(eachindex(y), train_ratio, shuffle=true)\n",
    "# train, test = partition(eachindex(yc), train_ratio, shuffle=false) ### Debug\n",
    "X_train, y_train = Xc[train, :], yc[train]\n",
    "X_test, y_test = Xc[test, :], yc[test]\n",
    "\n",
    "println(\"Training set size: \", size(X_train), \" - \", length(y_train))\n",
    "println(\"Test set size: \", size(X_test), \" - \", length(y_test))"
   ]
  },
  {
   "cell_type": "markdown",
   "metadata": {},
   "source": [
    "### Train a model"
   ]
  },
  {
   "cell_type": "code",
   "execution_count": 6,
   "metadata": {},
   "outputs": [
    {
     "name": "stderr",
     "output_type": "stream",
     "text": [
      "┌ Info: For silent loading, specify `verbosity=0`. \n",
      "└ @ Main /home/paso/.julia/packages/MLJModels/8W54X/src/loading.jl:159\n"
     ]
    },
    {
     "name": "stdout",
     "output_type": "stream",
     "text": [
      "import MLJDecisionTreeInterface ✔\n"
     ]
    },
    {
     "name": "stderr",
     "output_type": "stream",
     "text": [
      "┌ Info: Training machine(DecisionTreeClassifier(max_depth = -1, …), …).\n",
      "└ @ MLJBase /home/paso/.julia/packages/MLJBase/7nGJF/src/machines.jl:499\n"
     ]
    },
    {
     "data": {
      "text/plain": [
       "mfcc3 < 0.5497\n",
       "├─ mfcc2 < 2.331\n",
       "│  ├─ Healthy (45/45)\n",
       "│  └─ mfcc9 < 0.2035\n",
       "│     ├─ mfcc8 < 0.09316\n",
       "│     │  ├─ mfcc6 < -0.04626\n",
       "│     │  │  ├─ Pneumonia (1/1)\n",
       "│     │  │  └─ Healthy (27/27)\n",
       "│     │  └─ mel26=3738Hz < 1.921e-6\n",
       "│     │     ├─ mfcc7 < -0.01596\n",
       "│     │     │  ⋮\n",
       "│     │     │  \n",
       "│     │     └─ Healthy (14/14)\n",
       "│     └─ mfcc12 < 0.3\n",
       "│        ├─ Healthy (43/43)\n",
       "│        └─ Pneumonia (1/1)\n",
       "└─ mel25=3491Hz < 1.13e-8\n",
       "   ├─ Healthy (11/11)\n",
       "   └─ mfcc3 < 0.9517\n",
       "      ├─ mel1=359Hz < 0.0002043\n",
       "      │  ├─ mfcc5 < -0.09931\n",
       "      │  │  ├─ mel6=710Hz < 1.841e-5\n",
       "      │  │  │  ⋮\n",
       "      │  │  │  \n",
       "      │  │  └─ mfcc7 < -0.08553\n",
       "      │  │     ⋮\n",
       "      │  │     \n",
       "      │  └─ mfcc5 < 0.3077\n",
       "      │     ├─ mel12=1289Hz < 6.603e-6\n",
       "      │     │  ⋮\n",
       "      │     │  \n",
       "      │     └─ Healthy (7/7)\n",
       "      └─ mfcc12 < 0.1039\n",
       "         ├─ Pneumonia (72/72)\n",
       "         └─ mfcc10 < 0.08356\n",
       "            ├─ mel1=359Hz < 0.0009976\n",
       "            │  ⋮\n",
       "            │  \n",
       "            └─ Pneumonia (23/23)\n"
      ]
     },
     "metadata": {},
     "output_type": "display_data"
    }
   ],
   "source": [
    "learned_dt_tree = begin\n",
    "    Tree = MLJ.@load DecisionTreeClassifier pkg=DecisionTree\n",
    "    model = Tree(max_depth=-1, )\n",
    "    mach = machine(model, X_train, y_train)\n",
    "    fit!(mach)\n",
    "    fitted_params(mach).tree\n",
    "end"
   ]
  },
  {
   "cell_type": "markdown",
   "metadata": {},
   "source": [
    "### Model inspection & rule study"
   ]
  },
  {
   "cell_type": "code",
   "execution_count": 7,
   "metadata": {},
   "outputs": [
    {
     "name": "stdout",
     "output_type": "stream",
     "text": [
      "\u001b[34m▣\u001b[0m \u001b[1m\u001b[31mmfcc3\u001b[0m \u001b[1m<\u001b[0m\u001b[0m 0.5496694323834052\n",
      "├✔ \u001b[1m\u001b[31mmfcc2\u001b[0m \u001b[1m<\u001b[0m\u001b[0m 2.330758535389905\n",
      "│├✔ Healthy : (ninstances = 10, ncovered = 10, confidence = 1.0, lift = 1.0)\n",
      "│└✘ \u001b[1m\u001b[31mmfcc9\u001b[0m \u001b[1m<\u001b[0m\u001b[0m 0.20354855851824852\n",
      "│ ├✔ \u001b[1m\u001b[31mmfcc8\u001b[0m \u001b[1m<\u001b[0m\u001b[0m 0.09315706434102256\n",
      "│ │├✔ \u001b[1m\u001b[31mmfcc6\u001b[0m \u001b[1m<\u001b[0m\u001b[0m -0.046255002023545475\n",
      "│ ││├✔ Pneumonia : (ninstances = 0, ncovered = 0, confidence = NaN, lift = NaN)\n",
      "│ ││└✘ Healthy : (ninstances = 9, ncovered = 9, confidence = 0.78, lift = 1.0)\n",
      "│ │└✘ \u001b[1m\u001b[33mmel26=3738Hz\u001b[0m \u001b[1m<\u001b[0m\u001b[0m 1.921368089902453e-6\n",
      "│ │ ├✔ \u001b[1m\u001b[31mmfcc7\u001b[0m \u001b[1m<\u001b[0m\u001b[0m -0.015962461569718516\n",
      "│ │ │├✔ \u001b[1m\u001b[33mmel18=2106Hz\u001b[0m \u001b[1m<\u001b[0m\u001b[0m 3.305510299482089e-6\n",
      "│ │ ││├✔ \u001b[1m\u001b[31mmfcc5\u001b[0m \u001b[1m<\u001b[0m\u001b[0m 1.1141034082276149\n",
      "│ │ │││├✔ \u001b[1m\u001b[36mcrest\u001b[0m \u001b[1m<\u001b[0m\u001b[0m 16.08596821857623\n",
      "│ │ ││││├✔ \u001b[1m\u001b[31mmfcc9\u001b[0m \u001b[1m<\u001b[0m\u001b[0m 0.13824315599479117\n",
      "│ │ │││││├✔ Pneumonia : (ninstances = 1, ncovered = 1, confidence = 0.0, lift = NaN)\n",
      "│ │ │││││└✘ Healthy : (ninstances = 0, ncovered = 0, confidence = NaN, lift = NaN)\n",
      "│ │ ││││└✘ Healthy : (ninstances = 12, ncovered = 12, confidence = 0.92, lift = 1.0)\n",
      "│ │ │││└✘ Pneumonia : (ninstances = 2, ncovered = 2, confidence = 0.5, lift = 1.0)\n",
      "│ │ ││└✘ \u001b[1m\u001b[31mmfcc9\u001b[0m \u001b[1m<\u001b[0m\u001b[0m 0.08630403429612474\n",
      "│ │ ││ ├✔ \u001b[1m\u001b[33mmel26=3738Hz\u001b[0m \u001b[1m<\u001b[0m\u001b[0m 1.3876455014298657e-6\n",
      "│ │ ││ │├✔ Healthy : (ninstances = 1, ncovered = 1, confidence = 1.0, lift = 1.0)\n",
      "│ │ ││ │└✘ Pneumonia : (ninstances = 0, ncovered = 0, confidence = NaN, lift = NaN)\n",
      "│ │ ││ └✘ Pneumonia : (ninstances = 0, ncovered = 0, confidence = NaN, lift = NaN)\n",
      "│ │ │└✘ \u001b[1m\u001b[33mmel8=882Hz\u001b[0m \u001b[1m<\u001b[0m\u001b[0m 7.953893065538049e-6\n",
      "│ │ │ ├✔ Pneumonia : (ninstances = 8, ncovered = 8, confidence = 0.62, lift = 1.0)\n",
      "│ │ │ └✘ \u001b[1m\u001b[31mmfcc5\u001b[0m \u001b[1m<\u001b[0m\u001b[0m 0.17385867101688907\n",
      "│ │ │  ├✔ Pneumonia : (ninstances = 0, ncovered = 0, confidence = NaN, lift = NaN)\n",
      "│ │ │  └✘ Healthy : (ninstances = 1, ncovered = 1, confidence = 1.0, lift = 1.0)\n",
      "│ │ └✘ Healthy : (ninstances = 4, ncovered = 4, confidence = 1.0, lift = 1.0)\n",
      "│ └✘ \u001b[1m\u001b[31mmfcc12\u001b[0m \u001b[1m<\u001b[0m\u001b[0m 0.2999871790462082\n",
      "│  ├✔ Healthy : (ninstances = 9, ncovered = 9, confidence = 1.0, lift = 1.0)\n",
      "│  └✘ Pneumonia : (ninstances = 1, ncovered = 1, confidence = 0.0, lift = NaN)\n",
      "└✘ \u001b[1m\u001b[33mmel25=3491Hz\u001b[0m \u001b[1m<\u001b[0m\u001b[0m 1.1301846692747932e-8\n",
      " ├✔ Healthy : (ninstances = 3, ncovered = 3, confidence = 1.0, lift = 1.0)\n",
      " └✘ \u001b[1m\u001b[31mmfcc3\u001b[0m \u001b[1m<\u001b[0m\u001b[0m 0.951699595249857\n",
      "  ├✔ \u001b[1m\u001b[33mmel1=359Hz\u001b[0m \u001b[1m<\u001b[0m\u001b[0m 0.00020426911077869796\n",
      "  │├✔ \u001b[1m\u001b[31mmfcc5\u001b[0m \u001b[1m<\u001b[0m\u001b[0m -0.0993068738544915\n",
      "  ││├✔ \u001b[1m\u001b[33mmel6=710Hz\u001b[0m \u001b[1m<\u001b[0m\u001b[0m 1.840719010222852e-5\n",
      "  │││├✔ Healthy : (ninstances = 0, ncovered = 0, confidence = NaN, lift = NaN)\n",
      "  │││└✘ Pneumonia : (ninstances = 0, ncovered = 0, confidence = NaN, lift = NaN)\n",
      "  ││└✘ \u001b[1m\u001b[31mmfcc7\u001b[0m \u001b[1m<\u001b[0m\u001b[0m -0.08553336842669973\n",
      "  ││ ├✔ Healthy : (ninstances = 4, ncovered = 4, confidence = 0.5, lift = 1.0)\n",
      "  ││ └✘ \u001b[1m\u001b[31mmfcc12\u001b[0m \u001b[1m<\u001b[0m\u001b[0m 0.15390044342266546\n",
      "  ││  ├✔ Pneumonia : (ninstances = 8, ncovered = 8, confidence = 1.0, lift = 1.0)\n",
      "  ││  └✘ \u001b[1m\u001b[31mmfcc12\u001b[0m \u001b[1m<\u001b[0m\u001b[0m 0.15747684201500028\n",
      "  ││   ├✔ Healthy : (ninstances = 1, ncovered = 1, confidence = 1.0, lift = 1.0)\n",
      "  ││   └✘ Pneumonia : (ninstances = 2, ncovered = 2, confidence = 1.0, lift = 1.0)\n",
      "  │└✘ \u001b[1m\u001b[31mmfcc5\u001b[0m \u001b[1m<\u001b[0m\u001b[0m 0.30774514577209977\n",
      "  │ ├✔ \u001b[1m\u001b[33mmel12=1289Hz\u001b[0m \u001b[1m<\u001b[0m\u001b[0m 6.60280714164944e-6\n",
      "  │ │├✔ Healthy : (ninstances = 0, ncovered = 0, confidence = NaN, lift = NaN)\n",
      "  │ │└✘ Pneumonia : (ninstances = 3, ncovered = 3, confidence = 1.0, lift = 1.0)\n",
      "  │ └✘ Healthy : (ninstances = 0, ncovered = 0, confidence = NaN, lift = NaN)\n",
      "  └✘ \u001b[1m\u001b[31mmfcc12\u001b[0m \u001b[1m<\u001b[0m\u001b[0m 0.10385678620453008\n",
      "   ├✔ Pneumonia : (ninstances = 15, ncovered = 15, confidence = 1.0, lift = 1.0)\n",
      "   └✘ \u001b[1m\u001b[31mmfcc10\u001b[0m \u001b[1m<\u001b[0m\u001b[0m 0.08356171558168948\n",
      "    ├✔ \u001b[1m\u001b[33mmel1=359Hz\u001b[0m \u001b[1m<\u001b[0m\u001b[0m 0.0009976151319852629\n",
      "    │├✔ Pneumonia : (ninstances = 2, ncovered = 2, confidence = 0.5, lift = 1.0)\n",
      "    │└✘ Healthy : (ninstances = 0, ncovered = 0, confidence = NaN, lift = NaN)\n",
      "    └✘ Pneumonia : (ninstances = 5, ncovered = 5, confidence = 1.0, lift = 1.0)\n"
     ]
    }
   ],
   "source": [
    "sole_dt = solemodel(learned_dt_tree)\n",
    "# Make test instances flow into the model, so that test metrics can, then, be computed.\n",
    "apply!(sole_dt, X_test, y_test);\n",
    "# Print Sole model\n",
    "printmodel(sole_dt; show_metrics = true, variable_names_map = variable_names);"
   ]
  },
  {
   "cell_type": "markdown",
   "metadata": {},
   "source": [
    "### Extract rules that are at least as good as a random baseline model"
   ]
  },
  {
   "cell_type": "code",
   "execution_count": 8,
   "metadata": {},
   "outputs": [
    {
     "name": "stdout",
     "output_type": "stream",
     "text": [
      "\u001b[34m▣\u001b[0m (\u001b[1m\u001b[31mmfcc3\u001b[0m \u001b[1m<\u001b[0m\u001b[0m 0.5496694323834052) ∧ (\u001b[1m\u001b[31mmfcc2\u001b[0m \u001b[1m<\u001b[0m\u001b[0m 2.330758535389905)  ↣  Healthy : (ninstances = 101, ncovered = 10, coverage = 0.1, confidence = 1.0, lift = 1.8, natoms = 2)\n",
      "\u001b[34m▣\u001b[0m (\u001b[1m\u001b[31mmfcc3\u001b[0m \u001b[1m<\u001b[0m\u001b[0m 0.5496694323834052) ∧ (¬(\u001b[1m\u001b[31mmfcc2\u001b[0m \u001b[1m<\u001b[0m\u001b[0m 2.330758535389905)) ∧ (\u001b[1m\u001b[31mmfcc9\u001b[0m \u001b[1m<\u001b[0m\u001b[0m 0.20354855851824852) ∧ (\u001b[1m\u001b[31mmfcc8\u001b[0m \u001b[1m<\u001b[0m\u001b[0m 0.09315706434102256) ∧ (¬(\u001b[1m\u001b[31mmfcc6\u001b[0m \u001b[1m<\u001b[0m\u001b[0m -0.046255002023545475))  ↣  Healthy : (ninstances = 101, ncovered = 9, coverage = 0.09, confidence = 0.78, lift = 1.4, natoms = 5)\n",
      "\u001b[34m▣\u001b[0m (\u001b[1m\u001b[31mmfcc3\u001b[0m \u001b[1m<\u001b[0m\u001b[0m 0.5496694323834052) ∧ (¬(\u001b[1m\u001b[31mmfcc2\u001b[0m \u001b[1m<\u001b[0m\u001b[0m 2.330758535389905)) ∧ (\u001b[1m\u001b[31mmfcc9\u001b[0m \u001b[1m<\u001b[0m\u001b[0m 0.20354855851824852) ∧ (¬(\u001b[1m\u001b[31mmfcc8\u001b[0m \u001b[1m<\u001b[0m\u001b[0m 0.09315706434102256)) ∧ (\u001b[1m\u001b[33mmel26=3738Hz\u001b[0m \u001b[1m<\u001b[0m\u001b[0m 1.921368089902453e-6) ∧ (\u001b[1m\u001b[31mmfcc7\u001b[0m \u001b[1m<\u001b[0m\u001b[0m -0.015962461569718516) ∧ (\u001b[1m\u001b[33mmel18=2106Hz\u001b[0m \u001b[1m<\u001b[0m\u001b[0m 3.305510299482089e-6) ∧ (\u001b[1m\u001b[31mmfcc5\u001b[0m \u001b[1m<\u001b[0m\u001b[0m 1.1141034082276149) ∧ (¬(\u001b[1m\u001b[36mcrest\u001b[0m \u001b[1m<\u001b[0m\u001b[0m 16.08596821857623))  ↣  Healthy : (ninstances = 101, ncovered = 12, coverage = 0.12, confidence = 0.92, lift = 1.65, natoms = 9)\n",
      "\u001b[34m▣\u001b[0m (\u001b[1m\u001b[31mmfcc3\u001b[0m \u001b[1m<\u001b[0m\u001b[0m 0.5496694323834052) ∧ (¬(\u001b[1m\u001b[31mmfcc2\u001b[0m \u001b[1m<\u001b[0m\u001b[0m 2.330758535389905)) ∧ (\u001b[1m\u001b[31mmfcc9\u001b[0m \u001b[1m<\u001b[0m\u001b[0m 0.20354855851824852) ∧ (¬(\u001b[1m\u001b[31mmfcc8\u001b[0m \u001b[1m<\u001b[0m\u001b[0m 0.09315706434102256)) ∧ (\u001b[1m\u001b[33mmel26=3738Hz\u001b[0m \u001b[1m<\u001b[0m\u001b[0m 1.921368089902453e-6) ∧ (\u001b[1m\u001b[31mmfcc7\u001b[0m \u001b[1m<\u001b[0m\u001b[0m -0.015962461569718516) ∧ (\u001b[1m\u001b[33mmel18=2106Hz\u001b[0m \u001b[1m<\u001b[0m\u001b[0m 3.305510299482089e-6) ∧ (¬(\u001b[1m\u001b[31mmfcc5\u001b[0m \u001b[1m<\u001b[0m\u001b[0m 1.1141034082276149))  ↣  Pneumonia : (ninstances = 101, ncovered = 2, coverage = 0.02, confidence = 0.5, lift = 1.12, natoms = 8)\n",
      "\u001b[34m▣\u001b[0m (\u001b[1m\u001b[31mmfcc3\u001b[0m \u001b[1m<\u001b[0m\u001b[0m 0.5496694323834052) ∧ (¬(\u001b[1m\u001b[31mmfcc2\u001b[0m \u001b[1m<\u001b[0m\u001b[0m 2.330758535389905)) ∧ (\u001b[1m\u001b[31mmfcc9\u001b[0m \u001b[1m<\u001b[0m\u001b[0m 0.20354855851824852) ∧ (¬(\u001b[1m\u001b[31mmfcc8\u001b[0m \u001b[1m<\u001b[0m\u001b[0m 0.09315706434102256)) ∧ (\u001b[1m\u001b[33mmel26=3738Hz\u001b[0m \u001b[1m<\u001b[0m\u001b[0m 1.921368089902453e-6) ∧ (\u001b[1m\u001b[31mmfcc7\u001b[0m \u001b[1m<\u001b[0m\u001b[0m -0.015962461569718516) ∧ (¬(\u001b[1m\u001b[33mmel18=2106Hz\u001b[0m \u001b[1m<\u001b[0m\u001b[0m 3.305510299482089e-6)) ∧ (\u001b[1m\u001b[31mmfcc9\u001b[0m \u001b[1m<\u001b[0m\u001b[0m 0.08630403429612474) ∧ (\u001b[1m\u001b[33mmel26=3738Hz\u001b[0m \u001b[1m<\u001b[0m\u001b[0m 1.3876455014298657e-6)  ↣  Healthy : (ninstances = 101, ncovered = 1, coverage = 0.01, confidence = 1.0, lift = 1.8, natoms = 9)\n",
      "\u001b[34m▣\u001b[0m (\u001b[1m\u001b[31mmfcc3\u001b[0m \u001b[1m<\u001b[0m\u001b[0m 0.5496694323834052) ∧ (¬(\u001b[1m\u001b[31mmfcc2\u001b[0m \u001b[1m<\u001b[0m\u001b[0m 2.330758535389905)) ∧ (\u001b[1m\u001b[31mmfcc9\u001b[0m \u001b[1m<\u001b[0m\u001b[0m 0.20354855851824852) ∧ (¬(\u001b[1m\u001b[31mmfcc8\u001b[0m \u001b[1m<\u001b[0m\u001b[0m 0.09315706434102256)) ∧ (\u001b[1m\u001b[33mmel26=3738Hz\u001b[0m \u001b[1m<\u001b[0m\u001b[0m 1.921368089902453e-6) ∧ (¬(\u001b[1m\u001b[31mmfcc7\u001b[0m \u001b[1m<\u001b[0m\u001b[0m -0.015962461569718516)) ∧ (\u001b[1m\u001b[33mmel8=882Hz\u001b[0m \u001b[1m<\u001b[0m\u001b[0m 7.953893065538049e-6)  ↣  Pneumonia : (ninstances = 101, ncovered = 8, coverage = 0.08, confidence = 0.62, lift = 1.4, natoms = 7)\n",
      "\u001b[34m▣\u001b[0m (\u001b[1m\u001b[31mmfcc3\u001b[0m \u001b[1m<\u001b[0m\u001b[0m 0.5496694323834052) ∧ (¬(\u001b[1m\u001b[31mmfcc2\u001b[0m \u001b[1m<\u001b[0m\u001b[0m 2.330758535389905)) ∧ (\u001b[1m\u001b[31mmfcc9\u001b[0m \u001b[1m<\u001b[0m\u001b[0m 0.20354855851824852) ∧ (¬(\u001b[1m\u001b[31mmfcc8\u001b[0m \u001b[1m<\u001b[0m\u001b[0m 0.09315706434102256)) ∧ (\u001b[1m\u001b[33mmel26=3738Hz\u001b[0m \u001b[1m<\u001b[0m\u001b[0m 1.921368089902453e-6) ∧ (¬(\u001b[1m\u001b[31mmfcc7\u001b[0m \u001b[1m<\u001b[0m\u001b[0m -0.015962461569718516)) ∧ (¬(\u001b[1m\u001b[33mmel8=882Hz\u001b[0m \u001b[1m<\u001b[0m\u001b[0m 7.953893065538049e-6)) ∧ (¬(\u001b[1m\u001b[31mmfcc5\u001b[0m \u001b[1m<\u001b[0m\u001b[0m 0.17385867101688907))  ↣  Healthy : (ninstances = 101, ncovered = 1, coverage = 0.01, confidence = 1.0, lift = 1.8, natoms = 8)\n",
      "\u001b[34m▣\u001b[0m (\u001b[1m\u001b[31mmfcc3\u001b[0m \u001b[1m<\u001b[0m\u001b[0m 0.5496694323834052) ∧ (¬(\u001b[1m\u001b[31mmfcc2\u001b[0m \u001b[1m<\u001b[0m\u001b[0m 2.330758535389905)) ∧ (\u001b[1m\u001b[31mmfcc9\u001b[0m \u001b[1m<\u001b[0m\u001b[0m 0.20354855851824852) ∧ (¬(\u001b[1m\u001b[31mmfcc8\u001b[0m \u001b[1m<\u001b[0m\u001b[0m 0.09315706434102256)) ∧ (¬(\u001b[1m\u001b[33mmel26=3738Hz\u001b[0m \u001b[1m<\u001b[0m\u001b[0m 1.921368089902453e-6))  ↣  Healthy : (ninstances = 101, ncovered = 4, coverage = 0.04, confidence = 1.0, lift = 1.8, natoms = 5)\n",
      "\u001b[34m▣\u001b[0m (\u001b[1m\u001b[31mmfcc3\u001b[0m \u001b[1m<\u001b[0m\u001b[0m 0.5496694323834052) ∧ (¬(\u001b[1m\u001b[31mmfcc2\u001b[0m \u001b[1m<\u001b[0m\u001b[0m 2.330758535389905)) ∧ (¬(\u001b[1m\u001b[31mmfcc9\u001b[0m \u001b[1m<\u001b[0m\u001b[0m 0.20354855851824852)) ∧ (\u001b[1m\u001b[31mmfcc12\u001b[0m \u001b[1m<\u001b[0m\u001b[0m 0.2999871790462082)  ↣  Healthy : (ninstances = 101, ncovered = 9, coverage = 0.09, confidence = 1.0, lift = 1.8, natoms = 4)\n",
      "\u001b[34m▣\u001b[0m (¬(\u001b[1m\u001b[31mmfcc3\u001b[0m \u001b[1m<\u001b[0m\u001b[0m 0.5496694323834052)) ∧ (\u001b[1m\u001b[33mmel25=3491Hz\u001b[0m \u001b[1m<\u001b[0m\u001b[0m 1.1301846692747932e-8)  ↣  Healthy : (ninstances = 101, ncovered = 3, coverage = 0.03, confidence = 1.0, lift = 1.8, natoms = 2)\n",
      "\u001b[34m▣\u001b[0m (¬(\u001b[1m\u001b[31mmfcc3\u001b[0m \u001b[1m<\u001b[0m\u001b[0m 0.5496694323834052)) ∧ (¬(\u001b[1m\u001b[33mmel25=3491Hz\u001b[0m \u001b[1m<\u001b[0m\u001b[0m 1.1301846692747932e-8)) ∧ (\u001b[1m\u001b[31mmfcc3\u001b[0m \u001b[1m<\u001b[0m\u001b[0m 0.951699595249857) ∧ (\u001b[1m\u001b[33mmel1=359Hz\u001b[0m \u001b[1m<\u001b[0m\u001b[0m 0.00020426911077869796) ∧ (¬(\u001b[1m\u001b[31mmfcc5\u001b[0m \u001b[1m<\u001b[0m\u001b[0m -0.0993068738544915)) ∧ (¬(\u001b[1m\u001b[31mmfcc7\u001b[0m \u001b[1m<\u001b[0m\u001b[0m -0.08553336842669973)) ∧ (\u001b[1m\u001b[31mmfcc12\u001b[0m \u001b[1m<\u001b[0m\u001b[0m 0.15390044342266546)  ↣  Pneumonia : (ninstances = 101, ncovered = 8, coverage = 0.08, confidence = 1.0, lift = 2.24, natoms = 7)\n",
      "\u001b[34m▣\u001b[0m (¬(\u001b[1m\u001b[31mmfcc3\u001b[0m \u001b[1m<\u001b[0m\u001b[0m 0.5496694323834052)) ∧ (¬(\u001b[1m\u001b[33mmel25=3491Hz\u001b[0m \u001b[1m<\u001b[0m\u001b[0m 1.1301846692747932e-8)) ∧ (\u001b[1m\u001b[31mmfcc3\u001b[0m \u001b[1m<\u001b[0m\u001b[0m 0.951699595249857) ∧ (\u001b[1m\u001b[33mmel1=359Hz\u001b[0m \u001b[1m<\u001b[0m\u001b[0m 0.00020426911077869796) ∧ (¬(\u001b[1m\u001b[31mmfcc5\u001b[0m \u001b[1m<\u001b[0m\u001b[0m -0.0993068738544915)) ∧ (¬(\u001b[1m\u001b[31mmfcc7\u001b[0m \u001b[1m<\u001b[0m\u001b[0m -0.08553336842669973)) ∧ (¬(\u001b[1m\u001b[31mmfcc12\u001b[0m \u001b[1m<\u001b[0m\u001b[0m 0.15390044342266546)) ∧ (\u001b[1m\u001b[31mmfcc12\u001b[0m \u001b[1m<\u001b[0m\u001b[0m 0.15747684201500028)  ↣  Healthy : (ninstances = 101, ncovered = 1, coverage = 0.01, confidence = 1.0, lift = 1.8, natoms = 8)\n",
      "\u001b[34m▣\u001b[0m (¬(\u001b[1m\u001b[31mmfcc3\u001b[0m \u001b[1m<\u001b[0m\u001b[0m 0.5496694323834052)) ∧ (¬(\u001b[1m\u001b[33mmel25=3491Hz\u001b[0m \u001b[1m<\u001b[0m\u001b[0m 1.1301846692747932e-8)) ∧ (\u001b[1m\u001b[31mmfcc3\u001b[0m \u001b[1m<\u001b[0m\u001b[0m 0.951699595249857) ∧ (\u001b[1m\u001b[33mmel1=359Hz\u001b[0m \u001b[1m<\u001b[0m\u001b[0m 0.00020426911077869796) ∧ (¬(\u001b[1m\u001b[31mmfcc5\u001b[0m \u001b[1m<\u001b[0m\u001b[0m -0.0993068738544915)) ∧ (¬(\u001b[1m\u001b[31mmfcc7\u001b[0m \u001b[1m<\u001b[0m\u001b[0m -0.08553336842669973)) ∧ (¬(\u001b[1m\u001b[31mmfcc12\u001b[0m \u001b[1m<\u001b[0m\u001b[0m 0.15390044342266546)) ∧ (¬(\u001b[1m\u001b[31mmfcc12\u001b[0m \u001b[1m<\u001b[0m\u001b[0m 0.15747684201500028))  ↣  Pneumonia : (ninstances = 101, ncovered = 2, coverage = 0.02, confidence = 1.0, lift = 2.24, natoms = 8)\n",
      "\u001b[34m▣\u001b[0m (¬(\u001b[1m\u001b[31mmfcc3\u001b[0m \u001b[1m<\u001b[0m\u001b[0m 0.5496694323834052)) ∧ (¬(\u001b[1m\u001b[33mmel25=3491Hz\u001b[0m \u001b[1m<\u001b[0m\u001b[0m 1.1301846692747932e-8)) ∧ (\u001b[1m\u001b[31mmfcc3\u001b[0m \u001b[1m<\u001b[0m\u001b[0m 0.951699595249857) ∧ (¬(\u001b[1m\u001b[33mmel1=359Hz\u001b[0m \u001b[1m<\u001b[0m\u001b[0m 0.00020426911077869796)) ∧ (\u001b[1m\u001b[31mmfcc5\u001b[0m \u001b[1m<\u001b[0m\u001b[0m 0.30774514577209977) ∧ (¬(\u001b[1m\u001b[33mmel12=1289Hz\u001b[0m \u001b[1m<\u001b[0m\u001b[0m 6.60280714164944e-6))  ↣  Pneumonia : (ninstances = 101, ncovered = 3, coverage = 0.03, confidence = 1.0, lift = 2.24, natoms = 6)\n",
      "\u001b[34m▣\u001b[0m (¬(\u001b[1m\u001b[31mmfcc3\u001b[0m \u001b[1m<\u001b[0m\u001b[0m 0.5496694323834052)) ∧ (¬(\u001b[1m\u001b[33mmel25=3491Hz\u001b[0m \u001b[1m<\u001b[0m\u001b[0m 1.1301846692747932e-8)) ∧ (¬(\u001b[1m\u001b[31mmfcc3\u001b[0m \u001b[1m<\u001b[0m\u001b[0m 0.951699595249857)) ∧ (\u001b[1m\u001b[31mmfcc12\u001b[0m \u001b[1m<\u001b[0m\u001b[0m 0.10385678620453008)  ↣  Pneumonia : (ninstances = 101, ncovered = 15, coverage = 0.15, confidence = 1.0, lift = 2.24, natoms = 4)\n",
      "\u001b[34m▣\u001b[0m (¬(\u001b[1m\u001b[31mmfcc3\u001b[0m \u001b[1m<\u001b[0m\u001b[0m 0.5496694323834052)) ∧ (¬(\u001b[1m\u001b[33mmel25=3491Hz\u001b[0m \u001b[1m<\u001b[0m\u001b[0m 1.1301846692747932e-8)) ∧ (¬(\u001b[1m\u001b[31mmfcc3\u001b[0m \u001b[1m<\u001b[0m\u001b[0m 0.951699595249857)) ∧ (¬(\u001b[1m\u001b[31mmfcc12\u001b[0m \u001b[1m<\u001b[0m\u001b[0m 0.10385678620453008)) ∧ (\u001b[1m\u001b[31mmfcc10\u001b[0m \u001b[1m<\u001b[0m\u001b[0m 0.08356171558168948) ∧ (\u001b[1m\u001b[33mmel1=359Hz\u001b[0m \u001b[1m<\u001b[0m\u001b[0m 0.0009976151319852629)  ↣  Pneumonia : (ninstances = 101, ncovered = 2, coverage = 0.02, confidence = 0.5, lift = 1.12, natoms = 6)\n",
      "\u001b[34m▣\u001b[0m (¬(\u001b[1m\u001b[31mmfcc3\u001b[0m \u001b[1m<\u001b[0m\u001b[0m 0.5496694323834052)) ∧ (¬(\u001b[1m\u001b[33mmel25=3491Hz\u001b[0m \u001b[1m<\u001b[0m\u001b[0m 1.1301846692747932e-8)) ∧ (¬(\u001b[1m\u001b[31mmfcc3\u001b[0m \u001b[1m<\u001b[0m\u001b[0m 0.951699595249857)) ∧ (¬(\u001b[1m\u001b[31mmfcc12\u001b[0m \u001b[1m<\u001b[0m\u001b[0m 0.10385678620453008)) ∧ (¬(\u001b[1m\u001b[31mmfcc10\u001b[0m \u001b[1m<\u001b[0m\u001b[0m 0.08356171558168948))  ↣  Pneumonia : (ninstances = 101, ncovered = 5, coverage = 0.05, confidence = 1.0, lift = 2.24, natoms = 5)\n"
     ]
    }
   ],
   "source": [
    "interesting_rules = listrules(sole_dt, min_lift = 1.0, min_ninstances = 0);\n",
    "printmodel.(interesting_rules; show_metrics = true, variable_names_map = variable_names);"
   ]
  },
  {
   "cell_type": "markdown",
   "metadata": {},
   "source": [
    "### Simplify rules while extracting and prettify result"
   ]
  },
  {
   "cell_type": "code",
   "execution_count": 9,
   "metadata": {},
   "outputs": [
    {
     "name": "stdout",
     "output_type": "stream",
     "text": [
      "\u001b[34m▣\u001b[0m (\u001b[1m\u001b[31mmfcc3\u001b[0m \u001b[1m<\u001b[0m\u001b[0m 0.55) ∧ (\u001b[1m\u001b[31mmfcc2\u001b[0m \u001b[1m<\u001b[0m\u001b[0m 2.33)  ↣  Healthy : (ninstances = 101, ncovered = 10, coverage = 0.1, confidence = 1.0, lift = 1.8, natoms = 2)\n",
      "\u001b[34m▣\u001b[0m (\u001b[1m\u001b[31mmfcc3\u001b[0m \u001b[1m<\u001b[0m\u001b[0m 0.55) ∧ (\u001b[1m\u001b[31mmfcc2\u001b[0m \u001b[1m≥\u001b[0m\u001b[0m 2.33) ∧ (\u001b[1m\u001b[31mmfcc9\u001b[0m \u001b[1m<\u001b[0m\u001b[0m 0.2) ∧ (\u001b[1m\u001b[31mmfcc8\u001b[0m \u001b[1m<\u001b[0m\u001b[0m 0.09) ∧ (\u001b[1m\u001b[31mmfcc6\u001b[0m \u001b[1m≥\u001b[0m\u001b[0m -0.05)  ↣  Healthy : (ninstances = 101, ncovered = 9, coverage = 0.09, confidence = 0.78, lift = 1.4, natoms = 5)\n",
      "\u001b[34m▣\u001b[0m (\u001b[1m\u001b[31mmfcc3\u001b[0m \u001b[1m<\u001b[0m\u001b[0m 0.55) ∧ (\u001b[1m\u001b[31mmfcc2\u001b[0m \u001b[1m≥\u001b[0m\u001b[0m 2.33) ∧ (\u001b[1m\u001b[31mmfcc9\u001b[0m \u001b[1m<\u001b[0m\u001b[0m 0.2) ∧ (\u001b[1m\u001b[31mmfcc8\u001b[0m \u001b[1m≥\u001b[0m\u001b[0m 0.09) ∧ (\u001b[1m\u001b[33mmel26=3738Hz\u001b[0m \u001b[1m<\u001b[0m\u001b[0m 0.0) ∧ (\u001b[1m\u001b[31mmfcc7\u001b[0m \u001b[1m<\u001b[0m\u001b[0m -0.02) ∧ (\u001b[1m\u001b[33mmel18=2106Hz\u001b[0m \u001b[1m<\u001b[0m\u001b[0m 0.0) ∧ (\u001b[1m\u001b[31mmfcc5\u001b[0m \u001b[1m<\u001b[0m\u001b[0m 1.11) ∧ (\u001b[1m\u001b[36mcrest\u001b[0m \u001b[1m≥\u001b[0m\u001b[0m 16.09)  ↣  Healthy : (ninstances = 101, ncovered = 12, coverage = 0.12, confidence = 0.92, lift = 1.65, natoms = 9)\n",
      "\u001b[34m▣\u001b[0m (\u001b[1m\u001b[31mmfcc3\u001b[0m \u001b[1m<\u001b[0m\u001b[0m 0.55) ∧ (\u001b[1m\u001b[31mmfcc2\u001b[0m \u001b[1m≥\u001b[0m\u001b[0m 2.33) ∧ (\u001b[1m\u001b[31mmfcc9\u001b[0m \u001b[1m<\u001b[0m\u001b[0m 0.2) ∧ (\u001b[1m\u001b[31mmfcc8\u001b[0m \u001b[1m≥\u001b[0m\u001b[0m 0.09) ∧ (\u001b[1m\u001b[33mmel26=3738Hz\u001b[0m \u001b[1m<\u001b[0m\u001b[0m 0.0) ∧ (\u001b[1m\u001b[31mmfcc7\u001b[0m \u001b[1m<\u001b[0m\u001b[0m -0.02) ∧ (\u001b[1m\u001b[33mmel18=2106Hz\u001b[0m \u001b[1m<\u001b[0m\u001b[0m 0.0) ∧ (\u001b[1m\u001b[31mmfcc5\u001b[0m \u001b[1m≥\u001b[0m\u001b[0m 1.11)  ↣  Pneumonia : (ninstances = 101, ncovered = 2, coverage = 0.02, confidence = 0.5, lift = 1.12, natoms = 8)\n",
      "\u001b[34m▣\u001b[0m (\u001b[1m\u001b[31mmfcc3\u001b[0m \u001b[1m<\u001b[0m\u001b[0m 0.55) ∧ (\u001b[1m\u001b[31mmfcc2\u001b[0m \u001b[1m≥\u001b[0m\u001b[0m 2.33) ∧ (\u001b[1m\u001b[31mmfcc9\u001b[0m \u001b[1m<\u001b[0m\u001b[0m 0.09) ∧ (\u001b[1m\u001b[31mmfcc8\u001b[0m \u001b[1m≥\u001b[0m\u001b[0m 0.09) ∧ (\u001b[1m\u001b[33mmel26=3738Hz\u001b[0m \u001b[1m<\u001b[0m\u001b[0m 0.0) ∧ (\u001b[1m\u001b[31mmfcc7\u001b[0m \u001b[1m<\u001b[0m\u001b[0m -0.02) ∧ (\u001b[1m\u001b[33mmel18=2106Hz\u001b[0m \u001b[1m≥\u001b[0m\u001b[0m 0.0)  ↣  Healthy : (ninstances = 101, ncovered = 1, coverage = 0.01, confidence = 1.0, lift = 1.8, natoms = 7)\n",
      "\u001b[34m▣\u001b[0m (\u001b[1m\u001b[31mmfcc3\u001b[0m \u001b[1m<\u001b[0m\u001b[0m 0.55) ∧ (\u001b[1m\u001b[31mmfcc2\u001b[0m \u001b[1m≥\u001b[0m\u001b[0m 2.33) ∧ (\u001b[1m\u001b[31mmfcc9\u001b[0m \u001b[1m<\u001b[0m\u001b[0m 0.2) ∧ (\u001b[1m\u001b[31mmfcc8\u001b[0m \u001b[1m≥\u001b[0m\u001b[0m 0.09) ∧ (\u001b[1m\u001b[33mmel26=3738Hz\u001b[0m \u001b[1m<\u001b[0m\u001b[0m 0.0) ∧ (\u001b[1m\u001b[31mmfcc7\u001b[0m \u001b[1m≥\u001b[0m\u001b[0m -0.02) ∧ (\u001b[1m\u001b[33mmel8=882Hz\u001b[0m \u001b[1m<\u001b[0m\u001b[0m 0.0)  ↣  Pneumonia : (ninstances = 101, ncovered = 8, coverage = 0.08, confidence = 0.62, lift = 1.4, natoms = 7)\n",
      "\u001b[34m▣\u001b[0m (\u001b[1m\u001b[31mmfcc3\u001b[0m \u001b[1m<\u001b[0m\u001b[0m 0.55) ∧ (\u001b[1m\u001b[31mmfcc2\u001b[0m \u001b[1m≥\u001b[0m\u001b[0m 2.33) ∧ (\u001b[1m\u001b[31mmfcc9\u001b[0m \u001b[1m<\u001b[0m\u001b[0m 0.2) ∧ (\u001b[1m\u001b[31mmfcc8\u001b[0m \u001b[1m≥\u001b[0m\u001b[0m 0.09) ∧ (\u001b[1m\u001b[33mmel26=3738Hz\u001b[0m \u001b[1m<\u001b[0m\u001b[0m 0.0) ∧ (\u001b[1m\u001b[31mmfcc7\u001b[0m \u001b[1m≥\u001b[0m\u001b[0m -0.02) ∧ (\u001b[1m\u001b[33mmel8=882Hz\u001b[0m \u001b[1m≥\u001b[0m\u001b[0m 0.0) ∧ (\u001b[1m\u001b[31mmfcc5\u001b[0m \u001b[1m≥\u001b[0m\u001b[0m 0.17)  ↣  Healthy : (ninstances = 101, ncovered = 1, coverage = 0.01, confidence = 1.0, lift = 1.8, natoms = 8)\n",
      "\u001b[34m▣\u001b[0m (\u001b[1m\u001b[31mmfcc3\u001b[0m \u001b[1m<\u001b[0m\u001b[0m 0.55) ∧ (\u001b[1m\u001b[31mmfcc2\u001b[0m \u001b[1m≥\u001b[0m\u001b[0m 2.33) ∧ (\u001b[1m\u001b[31mmfcc9\u001b[0m \u001b[1m<\u001b[0m\u001b[0m 0.2) ∧ (\u001b[1m\u001b[31mmfcc8\u001b[0m \u001b[1m≥\u001b[0m\u001b[0m 0.09) ∧ (\u001b[1m\u001b[33mmel26=3738Hz\u001b[0m \u001b[1m≥\u001b[0m\u001b[0m 0.0)  ↣  Healthy : (ninstances = 101, ncovered = 4, coverage = 0.04, confidence = 1.0, lift = 1.8, natoms = 5)\n",
      "\u001b[34m▣\u001b[0m (\u001b[1m\u001b[31mmfcc3\u001b[0m \u001b[1m<\u001b[0m\u001b[0m 0.55) ∧ (\u001b[1m\u001b[31mmfcc2\u001b[0m \u001b[1m≥\u001b[0m\u001b[0m 2.33) ∧ (\u001b[1m\u001b[31mmfcc9\u001b[0m \u001b[1m≥\u001b[0m\u001b[0m 0.2) ∧ (\u001b[1m\u001b[31mmfcc12\u001b[0m \u001b[1m<\u001b[0m\u001b[0m 0.3)  ↣  Healthy : (ninstances = 101, ncovered = 9, coverage = 0.09, confidence = 1.0, lift = 1.8, natoms = 4)\n",
      "\u001b[34m▣\u001b[0m (\u001b[1m\u001b[31mmfcc3\u001b[0m \u001b[1m≥\u001b[0m\u001b[0m 0.55) ∧ (\u001b[1m\u001b[33mmel25=3491Hz\u001b[0m \u001b[1m<\u001b[0m\u001b[0m 0.0)  ↣  Healthy : (ninstances = 101, ncovered = 3, coverage = 0.03, confidence = 1.0, lift = 1.8, natoms = 2)\n",
      "\u001b[34m▣\u001b[0m (\u001b[31mmfcc3\u001b[0m ∈ [0.55,0.95)) ∧ (\u001b[1m\u001b[33mmel25=3491Hz\u001b[0m \u001b[1m≥\u001b[0m\u001b[0m 0.0) ∧ (\u001b[1m\u001b[33mmel1=359Hz\u001b[0m \u001b[1m<\u001b[0m\u001b[0m 0.0) ∧ (\u001b[1m\u001b[31mmfcc5\u001b[0m \u001b[1m≥\u001b[0m\u001b[0m -0.1) ∧ (\u001b[1m\u001b[31mmfcc7\u001b[0m \u001b[1m≥\u001b[0m\u001b[0m -0.09) ∧ (\u001b[1m\u001b[31mmfcc12\u001b[0m \u001b[1m<\u001b[0m\u001b[0m 0.15)  ↣  Pneumonia : (ninstances = 101, ncovered = 8, coverage = 0.08, confidence = 1.0, lift = 2.24, natoms = 6)\n",
      "\u001b[34m▣\u001b[0m (\u001b[31mmfcc3\u001b[0m ∈ [0.55,0.95)) ∧ (\u001b[1m\u001b[33mmel25=3491Hz\u001b[0m \u001b[1m≥\u001b[0m\u001b[0m 0.0) ∧ (\u001b[1m\u001b[33mmel1=359Hz\u001b[0m \u001b[1m<\u001b[0m\u001b[0m 0.0) ∧ (\u001b[1m\u001b[31mmfcc5\u001b[0m \u001b[1m≥\u001b[0m\u001b[0m -0.1) ∧ (\u001b[1m\u001b[31mmfcc7\u001b[0m \u001b[1m≥\u001b[0m\u001b[0m -0.09) ∧ (\u001b[31mmfcc12\u001b[0m ∈ [0.15,0.16))  ↣  Healthy : (ninstances = 101, ncovered = 1, coverage = 0.01, confidence = 1.0, lift = 1.8, natoms = 6)\n",
      "\u001b[34m▣\u001b[0m (\u001b[31mmfcc3\u001b[0m ∈ [0.55,0.95)) ∧ (\u001b[1m\u001b[33mmel25=3491Hz\u001b[0m \u001b[1m≥\u001b[0m\u001b[0m 0.0) ∧ (\u001b[1m\u001b[33mmel1=359Hz\u001b[0m \u001b[1m<\u001b[0m\u001b[0m 0.0) ∧ (\u001b[1m\u001b[31mmfcc5\u001b[0m \u001b[1m≥\u001b[0m\u001b[0m -0.1) ∧ (\u001b[1m\u001b[31mmfcc7\u001b[0m \u001b[1m≥\u001b[0m\u001b[0m -0.09) ∧ (\u001b[1m\u001b[31mmfcc12\u001b[0m \u001b[1m≥\u001b[0m\u001b[0m 0.16)  ↣  Pneumonia : (ninstances = 101, ncovered = 2, coverage = 0.02, confidence = 1.0, lift = 2.24, natoms = 6)\n",
      "\u001b[34m▣\u001b[0m (\u001b[31mmfcc3\u001b[0m ∈ [0.55,0.95)) ∧ (\u001b[1m\u001b[33mmel25=3491Hz\u001b[0m \u001b[1m≥\u001b[0m\u001b[0m 0.0) ∧ (\u001b[1m\u001b[33mmel1=359Hz\u001b[0m \u001b[1m≥\u001b[0m\u001b[0m 0.0) ∧ (\u001b[1m\u001b[31mmfcc5\u001b[0m \u001b[1m<\u001b[0m\u001b[0m 0.31) ∧ (\u001b[1m\u001b[33mmel12=1289Hz\u001b[0m \u001b[1m≥\u001b[0m\u001b[0m 0.0)  ↣  Pneumonia : (ninstances = 101, ncovered = 3, coverage = 0.03, confidence = 1.0, lift = 2.24, natoms = 5)\n",
      "\u001b[34m▣\u001b[0m (\u001b[1m\u001b[31mmfcc3\u001b[0m \u001b[1m≥\u001b[0m\u001b[0m 0.95) ∧ (\u001b[1m\u001b[33mmel25=3491Hz\u001b[0m \u001b[1m≥\u001b[0m\u001b[0m 0.0) ∧ (\u001b[1m\u001b[31mmfcc12\u001b[0m \u001b[1m<\u001b[0m\u001b[0m 0.1)  ↣  Pneumonia : (ninstances = 101, ncovered = 15, coverage = 0.15, confidence = 1.0, lift = 2.24, natoms = 3)\n",
      "\u001b[34m▣\u001b[0m (\u001b[1m\u001b[31mmfcc3\u001b[0m \u001b[1m≥\u001b[0m\u001b[0m 0.95) ∧ (\u001b[1m\u001b[33mmel25=3491Hz\u001b[0m \u001b[1m≥\u001b[0m\u001b[0m 0.0) ∧ (\u001b[1m\u001b[31mmfcc12\u001b[0m \u001b[1m≥\u001b[0m\u001b[0m 0.1) ∧ (\u001b[1m\u001b[31mmfcc10\u001b[0m \u001b[1m<\u001b[0m\u001b[0m 0.08) ∧ (\u001b[1m\u001b[33mmel1=359Hz\u001b[0m \u001b[1m<\u001b[0m\u001b[0m 0.0)  ↣  Pneumonia : (ninstances = 101, ncovered = 2, coverage = 0.02, confidence = 0.5, lift = 1.12, natoms = 5)\n",
      "\u001b[34m▣\u001b[0m (\u001b[1m\u001b[31mmfcc3\u001b[0m \u001b[1m≥\u001b[0m\u001b[0m 0.95) ∧ (\u001b[1m\u001b[33mmel25=3491Hz\u001b[0m \u001b[1m≥\u001b[0m\u001b[0m 0.0) ∧ (\u001b[1m\u001b[31mmfcc12\u001b[0m \u001b[1m≥\u001b[0m\u001b[0m 0.1) ∧ (\u001b[1m\u001b[31mmfcc10\u001b[0m \u001b[1m≥\u001b[0m\u001b[0m 0.08)  ↣  Pneumonia : (ninstances = 101, ncovered = 5, coverage = 0.05, confidence = 1.0, lift = 2.24, natoms = 4)\n"
     ]
    }
   ],
   "source": [
    "interesting_rules = listrules(sole_dt, min_lift = 1.0, min_ninstances = 0, normalize = true);\n",
    "printmodel.(interesting_rules; show_metrics = true, syntaxstring_kwargs = (; threshold_digits = 2), variable_names_map = variable_names);"
   ]
  },
  {
   "cell_type": "markdown",
   "metadata": {},
   "source": [
    "### Directly access rule metrics"
   ]
  },
  {
   "cell_type": "code",
   "execution_count": 10,
   "metadata": {},
   "outputs": [
    {
     "data": {
      "text/plain": [
       "17-element Vector{@NamedTuple{ninstances::Int64, ncovered::Int64, coverage::Float64, confidence::Float64, lift::Float64, natoms::Int64}}:\n",
       " (ninstances = 101, ncovered = 10, coverage = 0.09900990099009901, confidence = 1.0, lift = 1.8035714285714284, natoms = 2)\n",
       " (ninstances = 101, ncovered = 9, coverage = 0.0891089108910891, confidence = 0.7777777777777778, lift = 1.4027777777777777, natoms = 5)\n",
       " (ninstances = 101, ncovered = 12, coverage = 0.1188118811881188, confidence = 0.9166666666666666, lift = 1.6532738095238093, natoms = 9)\n",
       " (ninstances = 101, ncovered = 2, coverage = 0.019801980198019802, confidence = 0.5, lift = 1.1222222222222222, natoms = 8)\n",
       " (ninstances = 101, ncovered = 1, coverage = 0.009900990099009901, confidence = 1.0, lift = 1.8035714285714284, natoms = 9)\n",
       " (ninstances = 101, ncovered = 8, coverage = 0.07920792079207921, confidence = 0.625, lift = 1.4027777777777777, natoms = 7)\n",
       " (ninstances = 101, ncovered = 1, coverage = 0.009900990099009901, confidence = 1.0, lift = 1.8035714285714284, natoms = 8)\n",
       " (ninstances = 101, ncovered = 4, coverage = 0.039603960396039604, confidence = 1.0, lift = 1.8035714285714284, natoms = 5)\n",
       " (ninstances = 101, ncovered = 9, coverage = 0.0891089108910891, confidence = 1.0, lift = 1.8035714285714284, natoms = 4)\n",
       " (ninstances = 101, ncovered = 3, coverage = 0.0297029702970297, confidence = 1.0, lift = 1.8035714285714284, natoms = 2)\n",
       " (ninstances = 101, ncovered = 8, coverage = 0.07920792079207921, confidence = 1.0, lift = 2.2444444444444445, natoms = 7)\n",
       " (ninstances = 101, ncovered = 1, coverage = 0.009900990099009901, confidence = 1.0, lift = 1.8035714285714284, natoms = 8)\n",
       " (ninstances = 101, ncovered = 2, coverage = 0.019801980198019802, confidence = 1.0, lift = 2.2444444444444445, natoms = 8)\n",
       " (ninstances = 101, ncovered = 3, coverage = 0.0297029702970297, confidence = 1.0, lift = 2.2444444444444445, natoms = 6)\n",
       " (ninstances = 101, ncovered = 15, coverage = 0.1485148514851485, confidence = 1.0, lift = 2.2444444444444445, natoms = 4)\n",
       " (ninstances = 101, ncovered = 2, coverage = 0.019801980198019802, confidence = 0.5, lift = 1.1222222222222222, natoms = 6)\n",
       " (ninstances = 101, ncovered = 5, coverage = 0.04950495049504951, confidence = 1.0, lift = 2.2444444444444445, natoms = 5)"
      ]
     },
     "metadata": {},
     "output_type": "display_data"
    }
   ],
   "source": [
    "readmetrics.(listrules(sole_dt; min_lift=1.0, min_ninstances = 0))"
   ]
  },
  {
   "cell_type": "markdown",
   "metadata": {},
   "source": [
    "### Show rules with an additional metric (syntax height of the rule's antecedent)"
   ]
  },
  {
   "cell_type": "code",
   "execution_count": 11,
   "metadata": {},
   "outputs": [
    {
     "name": "stdout",
     "output_type": "stream",
     "text": [
      "\u001b[34m▣\u001b[0m (\u001b[31mmfcc3\u001b[0m ∈ [0.5496694323834052,0.951699595249857)) ∧ (\u001b[1m\u001b[33mmel25=3491Hz\u001b[0m \u001b[1m≥\u001b[0m\u001b[0m 1.1301846692747932e-8) ∧ (\u001b[1m\u001b[33mmel1=359Hz\u001b[0m \u001b[1m<\u001b[0m\u001b[0m 0.00020426911077869796) ∧ (\u001b[1m\u001b[31mmfcc5\u001b[0m \u001b[1m≥\u001b[0m\u001b[0m -0.0993068738544915) ∧ (\u001b[1m\u001b[31mmfcc7\u001b[0m \u001b[1m≥\u001b[0m\u001b[0m -0.08553336842669973) ∧ (\u001b[31mmfcc12\u001b[0m ∈ [0.15390044342266546,0.15747684201500028))  ↣  Healthy : (ninstances = 101, ncovered = 1, coverage = 0.009900990099009901, confidence = 1.0, lift = 1.8035714285714284, natoms = 6, height = 5)\n",
      "\u001b[34m▣\u001b[0m (\u001b[1m\u001b[31mmfcc3\u001b[0m \u001b[1m<\u001b[0m\u001b[0m 0.5496694323834052) ∧ (\u001b[1m\u001b[31mmfcc2\u001b[0m \u001b[1m≥\u001b[0m\u001b[0m 2.330758535389905) ∧ (\u001b[1m\u001b[31mmfcc9\u001b[0m \u001b[1m<\u001b[0m\u001b[0m 0.08630403429612474) ∧ (\u001b[1m\u001b[31mmfcc8\u001b[0m \u001b[1m≥\u001b[0m\u001b[0m 0.09315706434102256) ∧ (\u001b[1m\u001b[33mmel26=3738Hz\u001b[0m \u001b[1m<\u001b[0m\u001b[0m 1.3876455014298657e-6) ∧ (\u001b[1m\u001b[31mmfcc7\u001b[0m \u001b[1m<\u001b[0m\u001b[0m -0.015962461569718516) ∧ (\u001b[1m\u001b[33mmel18=2106Hz\u001b[0m \u001b[1m≥\u001b[0m\u001b[0m 3.305510299482089e-6)  ↣  Healthy : (ninstances = 101, ncovered = 1, coverage = 0.009900990099009901, confidence = 1.0, lift = 1.8035714285714284, natoms = 7, height = 6)\n",
      "\u001b[34m▣\u001b[0m (\u001b[1m\u001b[31mmfcc3\u001b[0m \u001b[1m<\u001b[0m\u001b[0m 0.5496694323834052) ∧ (\u001b[1m\u001b[31mmfcc2\u001b[0m \u001b[1m≥\u001b[0m\u001b[0m 2.330758535389905) ∧ (\u001b[1m\u001b[31mmfcc9\u001b[0m \u001b[1m<\u001b[0m\u001b[0m 0.20354855851824852) ∧ (\u001b[1m\u001b[31mmfcc8\u001b[0m \u001b[1m≥\u001b[0m\u001b[0m 0.09315706434102256) ∧ (\u001b[1m\u001b[33mmel26=3738Hz\u001b[0m \u001b[1m<\u001b[0m\u001b[0m 1.921368089902453e-6) ∧ (\u001b[1m\u001b[31mmfcc7\u001b[0m \u001b[1m≥\u001b[0m\u001b[0m -0.015962461569718516) ∧ (\u001b[1m\u001b[33mmel8=882Hz\u001b[0m \u001b[1m≥\u001b[0m\u001b[0m 7.953893065538049e-6) ∧ (\u001b[1m\u001b[31mmfcc5\u001b[0m \u001b[1m≥\u001b[0m\u001b[0m 0.17385867101688907)  ↣  Healthy : (ninstances = 101, ncovered = 1, coverage = 0.009900990099009901, confidence = 1.0, lift = 1.8035714285714284, natoms = 8, height = 7)\n",
      "\u001b[34m▣\u001b[0m (\u001b[1m\u001b[31mmfcc3\u001b[0m \u001b[1m≥\u001b[0m\u001b[0m 0.951699595249857) ∧ (\u001b[1m\u001b[33mmel25=3491Hz\u001b[0m \u001b[1m≥\u001b[0m\u001b[0m 1.1301846692747932e-8) ∧ (\u001b[1m\u001b[31mmfcc12\u001b[0m \u001b[1m≥\u001b[0m\u001b[0m 0.10385678620453008) ∧ (\u001b[1m\u001b[31mmfcc10\u001b[0m \u001b[1m<\u001b[0m\u001b[0m 0.08356171558168948) ∧ (\u001b[1m\u001b[33mmel1=359Hz\u001b[0m \u001b[1m<\u001b[0m\u001b[0m 0.0009976151319852629)  ↣  Pneumonia : (ninstances = 101, ncovered = 2, coverage = 0.019801980198019802, confidence = 0.5, lift = 1.1222222222222222, natoms = 5, height = 4)\n",
      "\u001b[34m▣\u001b[0m (\u001b[1m\u001b[31mmfcc3\u001b[0m \u001b[1m<\u001b[0m\u001b[0m 0.5496694323834052) ∧ (\u001b[1m\u001b[31mmfcc2\u001b[0m \u001b[1m≥\u001b[0m\u001b[0m 2.330758535389905) ∧ (\u001b[1m\u001b[31mmfcc9\u001b[0m \u001b[1m<\u001b[0m\u001b[0m 0.20354855851824852) ∧ (\u001b[1m\u001b[31mmfcc8\u001b[0m \u001b[1m≥\u001b[0m\u001b[0m 0.09315706434102256) ∧ (\u001b[1m\u001b[33mmel26=3738Hz\u001b[0m \u001b[1m<\u001b[0m\u001b[0m 1.921368089902453e-6) ∧ (\u001b[1m\u001b[31mmfcc7\u001b[0m \u001b[1m<\u001b[0m\u001b[0m -0.015962461569718516) ∧ (\u001b[1m\u001b[33mmel18=2106Hz\u001b[0m \u001b[1m<\u001b[0m\u001b[0m 3.305510299482089e-6) ∧ (\u001b[1m\u001b[31mmfcc5\u001b[0m \u001b[1m≥\u001b[0m\u001b[0m 1.1141034082276149)  ↣  Pneumonia : (ninstances = 101, ncovered = 2, coverage = 0.019801980198019802, confidence = 0.5, lift = 1.1222222222222222, natoms = 8, height = 7)\n",
      "\u001b[34m▣\u001b[0m (\u001b[31mmfcc3\u001b[0m ∈ [0.5496694323834052,0.951699595249857)) ∧ (\u001b[1m\u001b[33mmel25=3491Hz\u001b[0m \u001b[1m≥\u001b[0m\u001b[0m 1.1301846692747932e-8) ∧ (\u001b[1m\u001b[33mmel1=359Hz\u001b[0m \u001b[1m<\u001b[0m\u001b[0m 0.00020426911077869796) ∧ (\u001b[1m\u001b[31mmfcc5\u001b[0m \u001b[1m≥\u001b[0m\u001b[0m -0.0993068738544915) ∧ (\u001b[1m\u001b[31mmfcc7\u001b[0m \u001b[1m≥\u001b[0m\u001b[0m -0.08553336842669973) ∧ (\u001b[1m\u001b[31mmfcc12\u001b[0m \u001b[1m≥\u001b[0m\u001b[0m 0.15747684201500028)  ↣  Pneumonia : (ninstances = 101, ncovered = 2, coverage = 0.019801980198019802, confidence = 1.0, lift = 2.2444444444444445, natoms = 6, height = 5)\n",
      "\u001b[34m▣\u001b[0m (\u001b[1m\u001b[31mmfcc3\u001b[0m \u001b[1m≥\u001b[0m\u001b[0m 0.5496694323834052) ∧ (\u001b[1m\u001b[33mmel25=3491Hz\u001b[0m \u001b[1m<\u001b[0m\u001b[0m 1.1301846692747932e-8)  ↣  Healthy : (ninstances = 101, ncovered = 3, coverage = 0.0297029702970297, confidence = 1.0, lift = 1.8035714285714284, natoms = 2, height = 1)\n",
      "\u001b[34m▣\u001b[0m (\u001b[31mmfcc3\u001b[0m ∈ [0.5496694323834052,0.951699595249857)) ∧ (\u001b[1m\u001b[33mmel25=3491Hz\u001b[0m \u001b[1m≥\u001b[0m\u001b[0m 1.1301846692747932e-8) ∧ (\u001b[1m\u001b[33mmel1=359Hz\u001b[0m \u001b[1m≥\u001b[0m\u001b[0m 0.00020426911077869796) ∧ (\u001b[1m\u001b[31mmfcc5\u001b[0m \u001b[1m<\u001b[0m\u001b[0m 0.30774514577209977) ∧ (\u001b[1m\u001b[33mmel12=1289Hz\u001b[0m \u001b[1m≥\u001b[0m\u001b[0m 6.60280714164944e-6)  ↣  Pneumonia : (ninstances = 101, ncovered = 3, coverage = 0.0297029702970297, confidence = 1.0, lift = 2.2444444444444445, natoms = 5, height = 4)\n",
      "\u001b[34m▣\u001b[0m (\u001b[1m\u001b[31mmfcc3\u001b[0m \u001b[1m<\u001b[0m\u001b[0m 0.5496694323834052) ∧ (\u001b[1m\u001b[31mmfcc2\u001b[0m \u001b[1m≥\u001b[0m\u001b[0m 2.330758535389905) ∧ (\u001b[1m\u001b[31mmfcc9\u001b[0m \u001b[1m<\u001b[0m\u001b[0m 0.20354855851824852) ∧ (\u001b[1m\u001b[31mmfcc8\u001b[0m \u001b[1m≥\u001b[0m\u001b[0m 0.09315706434102256) ∧ (\u001b[1m\u001b[33mmel26=3738Hz\u001b[0m \u001b[1m≥\u001b[0m\u001b[0m 1.921368089902453e-6)  ↣  Healthy : (ninstances = 101, ncovered = 4, coverage = 0.039603960396039604, confidence = 1.0, lift = 1.8035714285714284, natoms = 5, height = 4)\n",
      "\u001b[34m▣\u001b[0m (\u001b[1m\u001b[31mmfcc3\u001b[0m \u001b[1m≥\u001b[0m\u001b[0m 0.951699595249857) ∧ (\u001b[1m\u001b[33mmel25=3491Hz\u001b[0m \u001b[1m≥\u001b[0m\u001b[0m 1.1301846692747932e-8) ∧ (\u001b[1m\u001b[31mmfcc12\u001b[0m \u001b[1m≥\u001b[0m\u001b[0m 0.10385678620453008) ∧ (\u001b[1m\u001b[31mmfcc10\u001b[0m \u001b[1m≥\u001b[0m\u001b[0m 0.08356171558168948)  ↣  Pneumonia : (ninstances = 101, ncovered = 5, coverage = 0.04950495049504951, confidence = 1.0, lift = 2.2444444444444445, natoms = 4, height = 3)\n",
      "\u001b[34m▣\u001b[0m (\u001b[1m\u001b[31mmfcc3\u001b[0m \u001b[1m<\u001b[0m\u001b[0m 0.5496694323834052) ∧ (\u001b[1m\u001b[31mmfcc2\u001b[0m \u001b[1m≥\u001b[0m\u001b[0m 2.330758535389905) ∧ (\u001b[1m\u001b[31mmfcc9\u001b[0m \u001b[1m<\u001b[0m\u001b[0m 0.20354855851824852) ∧ (\u001b[1m\u001b[31mmfcc8\u001b[0m \u001b[1m≥\u001b[0m\u001b[0m 0.09315706434102256) ∧ (\u001b[1m\u001b[33mmel26=3738Hz\u001b[0m \u001b[1m<\u001b[0m\u001b[0m 1.921368089902453e-6) ∧ (\u001b[1m\u001b[31mmfcc7\u001b[0m \u001b[1m≥\u001b[0m\u001b[0m -0.015962461569718516) ∧ (\u001b[1m\u001b[33mmel8=882Hz\u001b[0m \u001b[1m<\u001b[0m\u001b[0m 7.953893065538049e-6)  ↣  Pneumonia : (ninstances = 101, ncovered = 8, coverage = 0.07920792079207921, confidence = 0.625, lift = 1.4027777777777777, natoms = 7, height = 6)\n",
      "\u001b[34m▣\u001b[0m (\u001b[31mmfcc3\u001b[0m ∈ [0.5496694323834052,0.951699595249857)) ∧ (\u001b[1m\u001b[33mmel25=3491Hz\u001b[0m \u001b[1m≥\u001b[0m\u001b[0m 1.1301846692747932e-8) ∧ (\u001b[1m\u001b[33mmel1=359Hz\u001b[0m \u001b[1m<\u001b[0m\u001b[0m 0.00020426911077869796) ∧ (\u001b[1m\u001b[31mmfcc5\u001b[0m \u001b[1m≥\u001b[0m\u001b[0m -0.0993068738544915) ∧ (\u001b[1m\u001b[31mmfcc7\u001b[0m \u001b[1m≥\u001b[0m\u001b[0m -0.08553336842669973) ∧ (\u001b[1m\u001b[31mmfcc12\u001b[0m \u001b[1m<\u001b[0m\u001b[0m 0.15390044342266546)  ↣  Pneumonia : (ninstances = 101, ncovered = 8, coverage = 0.07920792079207921, confidence = 1.0, lift = 2.2444444444444445, natoms = 6, height = 5)\n",
      "\u001b[34m▣\u001b[0m (\u001b[1m\u001b[31mmfcc3\u001b[0m \u001b[1m<\u001b[0m\u001b[0m 0.5496694323834052) ∧ (\u001b[1m\u001b[31mmfcc2\u001b[0m \u001b[1m≥\u001b[0m\u001b[0m 2.330758535389905) ∧ (\u001b[1m\u001b[31mmfcc9\u001b[0m \u001b[1m<\u001b[0m\u001b[0m 0.20354855851824852) ∧ (\u001b[1m\u001b[31mmfcc8\u001b[0m \u001b[1m<\u001b[0m\u001b[0m 0.09315706434102256) ∧ (\u001b[1m\u001b[31mmfcc6\u001b[0m \u001b[1m≥\u001b[0m\u001b[0m -0.046255002023545475)  ↣  Healthy : (ninstances = 101, ncovered = 9, coverage = 0.0891089108910891, confidence = 0.7777777777777778, lift = 1.4027777777777777, natoms = 5, height = 4)\n",
      "\u001b[34m▣\u001b[0m (\u001b[1m\u001b[31mmfcc3\u001b[0m \u001b[1m<\u001b[0m\u001b[0m 0.5496694323834052) ∧ (\u001b[1m\u001b[31mmfcc2\u001b[0m \u001b[1m≥\u001b[0m\u001b[0m 2.330758535389905) ∧ (\u001b[1m\u001b[31mmfcc9\u001b[0m \u001b[1m≥\u001b[0m\u001b[0m 0.20354855851824852) ∧ (\u001b[1m\u001b[31mmfcc12\u001b[0m \u001b[1m<\u001b[0m\u001b[0m 0.2999871790462082)  ↣  Healthy : (ninstances = 101, ncovered = 9, coverage = 0.0891089108910891, confidence = 1.0, lift = 1.8035714285714284, natoms = 4, height = 3)\n",
      "\u001b[34m▣\u001b[0m (\u001b[1m\u001b[31mmfcc3\u001b[0m \u001b[1m<\u001b[0m\u001b[0m 0.5496694323834052) ∧ (\u001b[1m\u001b[31mmfcc2\u001b[0m \u001b[1m<\u001b[0m\u001b[0m 2.330758535389905)  ↣  Healthy : (ninstances = 101, ncovered = 10, coverage = 0.09900990099009901, confidence = 1.0, lift = 1.8035714285714284, natoms = 2, height = 1)\n",
      "\u001b[34m▣\u001b[0m (\u001b[1m\u001b[31mmfcc3\u001b[0m \u001b[1m<\u001b[0m\u001b[0m 0.5496694323834052) ∧ (\u001b[1m\u001b[31mmfcc2\u001b[0m \u001b[1m≥\u001b[0m\u001b[0m 2.330758535389905) ∧ (\u001b[1m\u001b[31mmfcc9\u001b[0m \u001b[1m<\u001b[0m\u001b[0m 0.20354855851824852) ∧ (\u001b[1m\u001b[31mmfcc8\u001b[0m \u001b[1m≥\u001b[0m\u001b[0m 0.09315706434102256) ∧ (\u001b[1m\u001b[33mmel26=3738Hz\u001b[0m \u001b[1m<\u001b[0m\u001b[0m 1.921368089902453e-6) ∧ (\u001b[1m\u001b[31mmfcc7\u001b[0m \u001b[1m<\u001b[0m\u001b[0m -0.015962461569718516) ∧ (\u001b[1m\u001b[33mmel18=2106Hz\u001b[0m \u001b[1m<\u001b[0m\u001b[0m 3.305510299482089e-6) ∧ (\u001b[1m\u001b[31mmfcc5\u001b[0m \u001b[1m<\u001b[0m\u001b[0m 1.1141034082276149) ∧ (\u001b[1m\u001b[36mcrest\u001b[0m \u001b[1m≥\u001b[0m\u001b[0m 16.08596821857623)  ↣  Healthy : (ninstances = 101, ncovered = 12, coverage = 0.1188118811881188, confidence = 0.9166666666666666, lift = 1.6532738095238093, natoms = 9, height = 8)\n",
      "\u001b[34m▣\u001b[0m (\u001b[1m\u001b[31mmfcc3\u001b[0m \u001b[1m≥\u001b[0m\u001b[0m 0.951699595249857) ∧ (\u001b[1m\u001b[33mmel25=3491Hz\u001b[0m \u001b[1m≥\u001b[0m\u001b[0m 1.1301846692747932e-8) ∧ (\u001b[1m\u001b[31mmfcc12\u001b[0m \u001b[1m<\u001b[0m\u001b[0m 0.10385678620453008)  ↣  Pneumonia : (ninstances = 101, ncovered = 15, coverage = 0.1485148514851485, confidence = 1.0, lift = 2.2444444444444445, natoms = 3, height = 2)\n"
     ]
    }
   ],
   "source": [
    "printmodel.(sort(interesting_rules, by = readmetrics); show_metrics = (; round_digits = nothing, additional_metrics = (; height = r->SoleLogics.height(antecedent(r)))), variable_names_map = variable_names);"
   ]
  },
  {
   "cell_type": "markdown",
   "metadata": {},
   "source": [
    "### Pretty table of rules and their metrics"
   ]
  },
  {
   "cell_type": "code",
   "execution_count": 12,
   "metadata": {},
   "outputs": [
    {
     "name": "stdout",
     "output_type": "stream",
     "text": [
      "┌───────────────────────────────────────────────────────────────────────────────────────────────────────────────────────────────────────────────────────────────────────────────────────────────────────────────────────────────────────────────────────────────────────────────────────────────────────────┬────────────┬────────────┬──────────┬────────────┬────────────┬─────────┬────────┬────────┐\n",
      "│\u001b[33;1m                                                                                                                                                                                                                                                                                                Antecedent \u001b[0m│\u001b[33;1m Consequent \u001b[0m│\u001b[33;1m ninstances \u001b[0m│\u001b[33;1m ncovered \u001b[0m│\u001b[33;1m   coverage \u001b[0m│\u001b[33;1m confidence \u001b[0m│\u001b[33;1m    lift \u001b[0m│\u001b[33;1m natoms \u001b[0m│\u001b[33;1m height \u001b[0m│\n",
      "├───────────────────────────────────────────────────────────────────────────────────────────────────────────────────────────────────────────────────────────────────────────────────────────────────────────────────────────────────────────────────────────────────────────────────────────────────────────┼────────────┼────────────┼──────────┼────────────┼────────────┼─────────┼────────┼────────┤\n",
      "│                                                                                                                                                                                                                                                (\u001b[1m\u001b[31mmfcc3\u001b[0m \u001b[1m<\u001b[0m\u001b[0m 0.5496694323834052) ∧ (\u001b[1m\u001b[31mmfcc2\u001b[0m \u001b[1m<\u001b[0m\u001b[0m 2.330758535389905)\u001b[0m │    Healthy │        101 │       10 │  0.0990099 │        1.0 │ 1.80357 │      2 │      1 │\n",
      "│                                                                                                                                              (\u001b[1m\u001b[31mmfcc3\u001b[0m \u001b[1m<\u001b[0m\u001b[0m 0.5496694323834052) ∧ (\u001b[1m\u001b[31mmfcc2\u001b[0m \u001b[1m≥\u001b[0m\u001b[0m 2.330758535389905) ∧ (\u001b[1m\u001b[31mmfcc9\u001b[0m \u001b[1m<\u001b[0m\u001b[0m 0.20354855851824852) ∧ (\u001b[1m\u001b[31mmfcc8\u001b[0m \u001b[1m<\u001b[0m\u001b[0m 0.09315706434102256) ∧ (\u001b[1m\u001b[31mmfcc6\u001b[0m \u001b[1m≥\u001b[0m\u001b[0m -0.046255002023545475)\u001b[0m │    Healthy │        101 │        9 │  0.0891089 │   0.777778 │ 1.40278 │      5 │      4 │\n",
      "│ (\u001b[1m\u001b[31mmfcc3\u001b[0m \u001b[1m<\u001b[0m\u001b[0m 0.5496694323834052) ∧ (\u001b[1m\u001b[31mmfcc2\u001b[0m \u001b[1m≥\u001b[0m\u001b[0m 2.330758535389905) ∧ (\u001b[1m\u001b[31mmfcc9\u001b[0m \u001b[1m<\u001b[0m\u001b[0m 0.20354855851824852) ∧ (\u001b[1m\u001b[31mmfcc8\u001b[0m \u001b[1m≥\u001b[0m\u001b[0m 0.09315706434102256) ∧ (\u001b[1m\u001b[33mmel26=3738Hz\u001b[0m \u001b[1m<\u001b[0m\u001b[0m 1.921368089902453e-6) ∧ (\u001b[1m\u001b[31mmfcc7\u001b[0m \u001b[1m<\u001b[0m\u001b[0m -0.015962461569718516) ∧ (\u001b[1m\u001b[33mmel18=2106Hz\u001b[0m \u001b[1m<\u001b[0m\u001b[0m 3.305510299482089e-6) ∧ (\u001b[1m\u001b[31mmfcc5\u001b[0m \u001b[1m<\u001b[0m\u001b[0m 1.1141034082276149) ∧ (\u001b[1m\u001b[36mcrest\u001b[0m \u001b[1m≥\u001b[0m\u001b[0m 16.08596821857623)\u001b[0m │    Healthy │        101 │       12 │   0.118812 │   0.916667 │ 1.65327 │      9 │      8 │\n",
      "│                               (\u001b[1m\u001b[31mmfcc3\u001b[0m \u001b[1m<\u001b[0m\u001b[0m 0.5496694323834052) ∧ (\u001b[1m\u001b[31mmfcc2\u001b[0m \u001b[1m≥\u001b[0m\u001b[0m 2.330758535389905) ∧ (\u001b[1m\u001b[31mmfcc9\u001b[0m \u001b[1m<\u001b[0m\u001b[0m 0.20354855851824852) ∧ (\u001b[1m\u001b[31mmfcc8\u001b[0m \u001b[1m≥\u001b[0m\u001b[0m 0.09315706434102256) ∧ (\u001b[1m\u001b[33mmel26=3738Hz\u001b[0m \u001b[1m<\u001b[0m\u001b[0m 1.921368089902453e-6) ∧ (\u001b[1m\u001b[31mmfcc7\u001b[0m \u001b[1m<\u001b[0m\u001b[0m -0.015962461569718516) ∧ (\u001b[1m\u001b[33mmel18=2106Hz\u001b[0m \u001b[1m<\u001b[0m\u001b[0m 3.305510299482089e-6) ∧ (\u001b[1m\u001b[31mmfcc5\u001b[0m \u001b[1m≥\u001b[0m\u001b[0m 1.1141034082276149)\u001b[0m │  Pneumonia │        101 │        2 │   0.019802 │        0.5 │ 1.12222 │      8 │      7 │\n",
      "│                                                             (\u001b[1m\u001b[31mmfcc3\u001b[0m \u001b[1m<\u001b[0m\u001b[0m 0.5496694323834052) ∧ (\u001b[1m\u001b[31mmfcc2\u001b[0m \u001b[1m≥\u001b[0m\u001b[0m 2.330758535389905) ∧ (\u001b[1m\u001b[31mmfcc9\u001b[0m \u001b[1m<\u001b[0m\u001b[0m 0.08630403429612474) ∧ (\u001b[1m\u001b[31mmfcc8\u001b[0m \u001b[1m≥\u001b[0m\u001b[0m 0.09315706434102256) ∧ (\u001b[1m\u001b[33mmel26=3738Hz\u001b[0m \u001b[1m<\u001b[0m\u001b[0m 1.3876455014298657e-6) ∧ (\u001b[1m\u001b[31mmfcc7\u001b[0m \u001b[1m<\u001b[0m\u001b[0m -0.015962461569718516) ∧ (\u001b[1m\u001b[33mmel18=2106Hz\u001b[0m \u001b[1m≥\u001b[0m\u001b[0m 3.305510299482089e-6)\u001b[0m │    Healthy │        101 │        1 │ 0.00990099 │        1.0 │ 1.80357 │      7 │      6 │\n",
      "│                                                                (\u001b[1m\u001b[31mmfcc3\u001b[0m \u001b[1m<\u001b[0m\u001b[0m 0.5496694323834052) ∧ (\u001b[1m\u001b[31mmfcc2\u001b[0m \u001b[1m≥\u001b[0m\u001b[0m 2.330758535389905) ∧ (\u001b[1m\u001b[31mmfcc9\u001b[0m \u001b[1m<\u001b[0m\u001b[0m 0.20354855851824852) ∧ (\u001b[1m\u001b[31mmfcc8\u001b[0m \u001b[1m≥\u001b[0m\u001b[0m 0.09315706434102256) ∧ (\u001b[1m\u001b[33mmel26=3738Hz\u001b[0m \u001b[1m<\u001b[0m\u001b[0m 1.921368089902453e-6) ∧ (\u001b[1m\u001b[31mmfcc7\u001b[0m \u001b[1m≥\u001b[0m\u001b[0m -0.015962461569718516) ∧ (\u001b[1m\u001b[33mmel8=882Hz\u001b[0m \u001b[1m<\u001b[0m\u001b[0m 7.953893065538049e-6)\u001b[0m │  Pneumonia │        101 │        8 │  0.0792079 │      0.625 │ 1.40278 │      7 │      6 │\n",
      "│                                (\u001b[1m\u001b[31mmfcc3\u001b[0m \u001b[1m<\u001b[0m\u001b[0m 0.5496694323834052) ∧ (\u001b[1m\u001b[31mmfcc2\u001b[0m \u001b[1m≥\u001b[0m\u001b[0m 2.330758535389905) ∧ (\u001b[1m\u001b[31mmfcc9\u001b[0m \u001b[1m<\u001b[0m\u001b[0m 0.20354855851824852) ∧ (\u001b[1m\u001b[31mmfcc8\u001b[0m \u001b[1m≥\u001b[0m\u001b[0m 0.09315706434102256) ∧ (\u001b[1m\u001b[33mmel26=3738Hz\u001b[0m \u001b[1m<\u001b[0m\u001b[0m 1.921368089902453e-6) ∧ (\u001b[1m\u001b[31mmfcc7\u001b[0m \u001b[1m≥\u001b[0m\u001b[0m -0.015962461569718516) ∧ (\u001b[1m\u001b[33mmel8=882Hz\u001b[0m \u001b[1m≥\u001b[0m\u001b[0m 7.953893065538049e-6) ∧ (\u001b[1m\u001b[31mmfcc5\u001b[0m \u001b[1m≥\u001b[0m\u001b[0m 0.17385867101688907)\u001b[0m │    Healthy │        101 │        1 │ 0.00990099 │        1.0 │ 1.80357 │      8 │      7 │\n",
      "│                                                                                                                                        (\u001b[1m\u001b[31mmfcc3\u001b[0m \u001b[1m<\u001b[0m\u001b[0m 0.5496694323834052) ∧ (\u001b[1m\u001b[31mmfcc2\u001b[0m \u001b[1m≥\u001b[0m\u001b[0m 2.330758535389905) ∧ (\u001b[1m\u001b[31mmfcc9\u001b[0m \u001b[1m<\u001b[0m\u001b[0m 0.20354855851824852) ∧ (\u001b[1m\u001b[31mmfcc8\u001b[0m \u001b[1m≥\u001b[0m\u001b[0m 0.09315706434102256) ∧ (\u001b[1m\u001b[33mmel26=3738Hz\u001b[0m \u001b[1m≥\u001b[0m\u001b[0m 1.921368089902453e-6)\u001b[0m │    Healthy │        101 │        4 │   0.039604 │        1.0 │ 1.80357 │      5 │      4 │\n",
      "│                                                                                                                                                                                (\u001b[1m\u001b[31mmfcc3\u001b[0m \u001b[1m<\u001b[0m\u001b[0m 0.5496694323834052) ∧ (\u001b[1m\u001b[31mmfcc2\u001b[0m \u001b[1m≥\u001b[0m\u001b[0m 2.330758535389905) ∧ (\u001b[1m\u001b[31mmfcc9\u001b[0m \u001b[1m≥\u001b[0m\u001b[0m 0.20354855851824852) ∧ (\u001b[1m\u001b[31mmfcc12\u001b[0m \u001b[1m<\u001b[0m\u001b[0m 0.2999871790462082)\u001b[0m │    Healthy │        101 │        9 │  0.0891089 │        1.0 │ 1.80357 │      4 │      3 │\n",
      "│                                                                                                                                                                                                                                     (\u001b[1m\u001b[31mmfcc3\u001b[0m \u001b[1m≥\u001b[0m\u001b[0m 0.5496694323834052) ∧ (\u001b[1m\u001b[33mmel25=3491Hz\u001b[0m \u001b[1m<\u001b[0m\u001b[0m 1.1301846692747932e-8)\u001b[0m │    Healthy │        101 │        3 │   0.029703 │        1.0 │ 1.80357 │      2 │      1 │\n",
      "│                                                                       (\u001b[31mmfcc3\u001b[0m ∈ [0.5496694323834052,0.951699595249857)) ∧ (\u001b[1m\u001b[33mmel25=3491Hz\u001b[0m \u001b[1m≥\u001b[0m\u001b[0m 1.1301846692747932e-8) ∧ (\u001b[1m\u001b[33mmel1=359Hz\u001b[0m \u001b[1m<\u001b[0m\u001b[0m 0.00020426911077869796) ∧ (\u001b[1m\u001b[31mmfcc5\u001b[0m \u001b[1m≥\u001b[0m\u001b[0m -0.0993068738544915) ∧ (\u001b[1m\u001b[31mmfcc7\u001b[0m \u001b[1m≥\u001b[0m\u001b[0m -0.08553336842669973) ∧ (\u001b[1m\u001b[31mmfcc12\u001b[0m \u001b[1m<\u001b[0m\u001b[0m 0.15390044342266546)\u001b[0m │  Pneumonia │        101 │        8 │  0.0792079 │        1.0 │ 2.24444 │      6 │      5 │\n",
      "│                                                 (\u001b[31mmfcc3\u001b[0m ∈ [0.5496694323834052,0.951699595249857)) ∧ (\u001b[1m\u001b[33mmel25=3491Hz\u001b[0m \u001b[1m≥\u001b[0m\u001b[0m 1.1301846692747932e-8) ∧ (\u001b[1m\u001b[33mmel1=359Hz\u001b[0m \u001b[1m<\u001b[0m\u001b[0m 0.00020426911077869796) ∧ (\u001b[1m\u001b[31mmfcc5\u001b[0m \u001b[1m≥\u001b[0m\u001b[0m -0.0993068738544915) ∧ (\u001b[1m\u001b[31mmfcc7\u001b[0m \u001b[1m≥\u001b[0m\u001b[0m -0.08553336842669973) ∧ (\u001b[31mmfcc12\u001b[0m ∈ [0.15390044342266546,0.15747684201500028))\u001b[0m │    Healthy │        101 │        1 │ 0.00990099 │        1.0 │ 1.80357 │      6 │      5 │\n",
      "│                                                                       (\u001b[31mmfcc3\u001b[0m ∈ [0.5496694323834052,0.951699595249857)) ∧ (\u001b[1m\u001b[33mmel25=3491Hz\u001b[0m \u001b[1m≥\u001b[0m\u001b[0m 1.1301846692747932e-8) ∧ (\u001b[1m\u001b[33mmel1=359Hz\u001b[0m \u001b[1m<\u001b[0m\u001b[0m 0.00020426911077869796) ∧ (\u001b[1m\u001b[31mmfcc5\u001b[0m \u001b[1m≥\u001b[0m\u001b[0m -0.0993068738544915) ∧ (\u001b[1m\u001b[31mmfcc7\u001b[0m \u001b[1m≥\u001b[0m\u001b[0m -0.08553336842669973) ∧ (\u001b[1m\u001b[31mmfcc12\u001b[0m \u001b[1m≥\u001b[0m\u001b[0m 0.15747684201500028)\u001b[0m │  Pneumonia │        101 │        2 │   0.019802 │        1.0 │ 2.24444 │      6 │      5 │\n",
      "│                                                                                                  (\u001b[31mmfcc3\u001b[0m ∈ [0.5496694323834052,0.951699595249857)) ∧ (\u001b[1m\u001b[33mmel25=3491Hz\u001b[0m \u001b[1m≥\u001b[0m\u001b[0m 1.1301846692747932e-8) ∧ (\u001b[1m\u001b[33mmel1=359Hz\u001b[0m \u001b[1m≥\u001b[0m\u001b[0m 0.00020426911077869796) ∧ (\u001b[1m\u001b[31mmfcc5\u001b[0m \u001b[1m<\u001b[0m\u001b[0m 0.30774514577209977) ∧ (\u001b[1m\u001b[33mmel12=1289Hz\u001b[0m \u001b[1m≥\u001b[0m\u001b[0m 6.60280714164944e-6)\u001b[0m │  Pneumonia │        101 │        3 │   0.029703 │        1.0 │ 2.24444 │      5 │      4 │\n",
      "│                                                                                                                                                                                                     (\u001b[1m\u001b[31mmfcc3\u001b[0m \u001b[1m≥\u001b[0m\u001b[0m 0.951699595249857) ∧ (\u001b[1m\u001b[33mmel25=3491Hz\u001b[0m \u001b[1m≥\u001b[0m\u001b[0m 1.1301846692747932e-8) ∧ (\u001b[1m\u001b[31mmfcc12\u001b[0m \u001b[1m<\u001b[0m\u001b[0m 0.10385678620453008)\u001b[0m │  Pneumonia │        101 │       15 │   0.148515 │        1.0 │ 2.24444 │      3 │      2 │\n",
      "│                                                                                                                             (\u001b[1m\u001b[31mmfcc3\u001b[0m \u001b[1m≥\u001b[0m\u001b[0m 0.951699595249857) ∧ (\u001b[1m\u001b[33mmel25=3491Hz\u001b[0m \u001b[1m≥\u001b[0m\u001b[0m 1.1301846692747932e-8) ∧ (\u001b[1m\u001b[31mmfcc12\u001b[0m \u001b[1m≥\u001b[0m\u001b[0m 0.10385678620453008) ∧ (\u001b[1m\u001b[31mmfcc10\u001b[0m \u001b[1m<\u001b[0m\u001b[0m 0.08356171558168948) ∧ (\u001b[1m\u001b[33mmel1=359Hz\u001b[0m \u001b[1m<\u001b[0m\u001b[0m 0.0009976151319852629)\u001b[0m │  Pneumonia │        101 │        2 │   0.019802 │        0.5 │ 1.12222 │      5 │      4 │\n",
      "│                                                                                                                                                                    (\u001b[1m\u001b[31mmfcc3\u001b[0m \u001b[1m≥\u001b[0m\u001b[0m 0.951699595249857) ∧ (\u001b[1m\u001b[33mmel25=3491Hz\u001b[0m \u001b[1m≥\u001b[0m\u001b[0m 1.1301846692747932e-8) ∧ (\u001b[1m\u001b[31mmfcc12\u001b[0m \u001b[1m≥\u001b[0m\u001b[0m 0.10385678620453008) ∧ (\u001b[1m\u001b[31mmfcc10\u001b[0m \u001b[1m≥\u001b[0m\u001b[0m 0.08356171558168948)\u001b[0m │  Pneumonia │        101 │        5 │   0.049505 │        1.0 │ 2.24444 │      4 │      3 │\n",
      "└───────────────────────────────────────────────────────────────────────────────────────────────────────────────────────────────────────────────────────────────────────────────────────────────────────────────────────────────────────────────────────────────────────────────────────────────────────────┴────────────┴────────────┴──────────┴────────────┴────────────┴─────────┴────────┴────────┘\n"
     ]
    }
   ],
   "source": [
    "metricstable(interesting_rules; variable_names_map = variable_names, metrics_kwargs = (; round_digits = nothing, additional_metrics = (; height = r->SoleLogics.height(antecedent(r)))))"
   ]
  }
 ],
 "metadata": {
  "kernelspec": {
   "display_name": "Julia 1.10.4",
   "language": "julia",
   "name": "julia-1.10"
  },
  "language_info": {
   "file_extension": ".jl",
   "mimetype": "application/julia",
   "name": "julia",
   "version": "1.10.4"
  }
 },
 "nbformat": 4,
 "nbformat_minor": 2
}
