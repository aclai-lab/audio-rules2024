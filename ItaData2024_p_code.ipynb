{
 "cells": [
  {
   "cell_type": "markdown",
   "metadata": {},
   "source": [
    "# ItaData2024\n",
    "propositional example"
   ]
  },
  {
   "cell_type": "code",
   "execution_count": 1,
   "metadata": {},
   "outputs": [],
   "source": [
    "using MLJ\n",
    "using MLJDecisionTreeInterface\n",
    "using Sole, SoleDecisionTreeInterface\n",
    "using CategoricalArrays\n",
    "using DataFrames, JLD2, CSV\n",
    "using StatsBase, Statistics\n",
    "using Catch22, Audio911"
   ]
  },
  {
   "cell_type": "markdown",
   "metadata": {},
   "source": [
    "### Open .jld2 file\n",
    "the file contains 504 samples of respiratory sound, labeled with 2 classes: healty and pneumonia"
   ]
  },
  {
   "cell_type": "code",
   "execution_count": 2,
   "metadata": {},
   "outputs": [],
   "source": [
    "ds_path = \"/datasets/respiratory_Healthy_Pneumonia\"\n",
    "\n",
    "d = jldopen(string((@__DIR__), ds_path, \".jld2\"))\n",
    "x, y = d[\"dataframe_validated\"]\n",
    "@assert x isa DataFrame\n",
    "close(d)"
   ]
  },
  {
   "cell_type": "markdown",
   "metadata": {},
   "source": [
    "### Audio features extraction function\n",
    "This function is called for every audio sample and extract 51 features:\n",
    "26 bands of the mel spectrogram,\n",
    "13 coefficients of the mfcc\n",
    "12 spectral features: centroid, crest, entropy, f0, flatness, flux, kurtosis, rolloff, skewness, decrease, slope, spread"
   ]
  },
  {
   "cell_type": "code",
   "execution_count": 3,
   "metadata": {},
   "outputs": [
    {
     "data": {
      "text/plain": [
       "afe (generic function with 1 method)"
      ]
     },
     "metadata": {},
     "output_type": "display_data"
    }
   ],
   "source": [
    "nan_replacer!(x::AbstractArray{Float64}) = replace!(x, NaN => 0.0)\n",
    "\n",
    "function afe(x::AbstractVector{Float64}; get_only_melfreq=false)\n",
    "    # -------------------------------- parameters -------------------------------- #\n",
    "    # audio module\n",
    "    sr = 8000\n",
    "    norm = true\n",
    "    speech_detection = false\n",
    "    # stft module\n",
    "    stft_length = 256\n",
    "    win_type = (:hann, :periodic)\n",
    "    win_length = 256\n",
    "    overlap_length = 128\n",
    "    stft_norm = :power                      # :power, :magnitude, :pow2mag\n",
    "    # mel filterbank module\n",
    "    nbands = 26\n",
    "    scale = :mel_htk                        # :mel_htk, :mel_slaney, :erb, :bark\n",
    "    melfb_norm = :bandwidth                 # :bandwidth, :area, :none\n",
    "    freq_range = (300, round(Int, sr / 2))\n",
    "    # mel spectrogram module\n",
    "    db_scale = false\n",
    "    # mfcc module\n",
    "    ncoeffs = 13\n",
    "    rectification = :log                    # :log, :cubic_root\n",
    "    dither = true\n",
    "    # f0 module\n",
    "    method = :nfc\n",
    "    f0_range = (50, 400)\n",
    "\n",
    "    # --------------------------------- functions -------------------------------- #\n",
    "    # audio module\n",
    "    audio = load_audio(\n",
    "        file=x,\n",
    "        sr=sr,\n",
    "        norm=norm,\n",
    "    );\n",
    "\n",
    "    stftspec = get_stft(\n",
    "        audio=audio,\n",
    "        stft_length=stft_length,\n",
    "        win_type=win_type,\n",
    "        win_length=win_length,\n",
    "        overlap_length=overlap_length,\n",
    "        norm=stft_norm\n",
    "    );\n",
    "\n",
    "    # mel filterbank module\n",
    "    melfb = get_melfb(\n",
    "        stft=stftspec,\n",
    "        nbands=nbands,\n",
    "        scale=scale,\n",
    "        norm=melfb_norm,\n",
    "        freq_range=freq_range\n",
    "    );\n",
    "\n",
    "    if get_only_melfreq\n",
    "        return melfb.freq\n",
    "    end\n",
    "\n",
    "    # mel spectrogram module\n",
    "    melspec =  get_melspec(\n",
    "        stft=stftspec,\n",
    "        fbank=melfb,\n",
    "        db_scale=db_scale\n",
    "    );\n",
    "\n",
    "    # mfcc module\n",
    "    mfcc = get_mfcc(\n",
    "        source=melspec,\n",
    "        ncoeffs=ncoeffs,\n",
    "        rectification=rectification,\n",
    "        dither=dither,\n",
    "    );\n",
    "\n",
    "    # f0 module\n",
    "    f0 = get_f0(\n",
    "        source=stftspec,\n",
    "        method=method,\n",
    "        freq_range=f0_range\n",
    "    );\n",
    "\n",
    "    # spectral features module\n",
    "    spect = get_spectrals(\n",
    "        source=stftspec,\n",
    "        freq_range=freq_range\n",
    "    );\n",
    "\n",
    "    x_features = hcat(\n",
    "        melspec.spec',\n",
    "        mfcc.mfcc',\n",
    "        f0.f0,\n",
    "        spect.centroid,\n",
    "        spect.crest,\n",
    "        spect.entropy,\n",
    "        spect.flatness,\n",
    "        spect.flux,\n",
    "        spect.kurtosis,\n",
    "        spect.rolloff,\n",
    "        spect.skewness,\n",
    "        spect.decrease,\n",
    "        spect.slope,\n",
    "        spect.spread\n",
    "    );\n",
    "\n",
    "    nan_replacer!(x_features)\n",
    "\n",
    "    return x_features\n",
    "end"
   ]
  },
  {
   "cell_type": "markdown",
   "metadata": {},
   "source": [
    "### Compute DataFrame of features"
   ]
  },
  {
   "cell_type": "code",
   "execution_count": 4,
   "metadata": {},
   "outputs": [],
   "source": [
    "freq = round.(Int, afe(x[1, :audio]; get_only_melfreq=true))\n",
    "\n",
    "col_names = [\n",
    "    [\"mel$i=$(freq[i])Hz\" for i in 1:26]...,\n",
    "    [\"mfcc$i\" for i in 1:13]...,\n",
    "    \"f0\", \"cntrd\", \"crest\", \"entrp\", \"flatn\", \"flux\", \"kurts\", \"rllff\", \"skwns\", \"decrs\", \"slope\", \"sprd\"\n",
    "]\n",
    "X = DataFrame([name => Vector{Float64}[] for name in col_names])\n",
    "\n",
    "features = [minimum, maximum]\n",
    "\n",
    "for i in 1:nrow(x)\n",
    "    push!(X, collect(eachcol(afe(x[i, :audio]))))\n",
    "end"
   ]
  },
  {
   "cell_type": "markdown",
   "metadata": {},
   "source": [
    "### Data compression for propositional analysis"
   ]
  },
  {
   "cell_type": "code",
   "execution_count": 5,
   "metadata": {},
   "outputs": [
    {
     "name": "stdout",
     "output_type": "stream",
     "text": [
      "Training set size: (403, 51) - 403\n",
      "Test set size: (101, 51) - 101\n"
     ]
    }
   ],
   "source": [
    "catch9 = [\n",
    "    maximum,\n",
    "    minimum,\n",
    "    StatsBase.mean,\n",
    "    median,\n",
    "    std,\n",
    "    Catch22.SB_BinaryStats_mean_longstretch1,\n",
    "    Catch22.SB_BinaryStats_diff_longstretch0,\n",
    "    Catch22.SB_MotifThree_quantile_hh,\n",
    "    Catch22.SB_TransitionMatrix_3ac_sumdiagcov,\n",
    "]\n",
    "\n",
    "t = zeros(size(X, 1))\n",
    "for i in eachcol(X)\n",
    "    feature = map(x -> catch9[4](x...), eachrow(i))\n",
    "    global t = hcat(t, feature)\n",
    "end\n",
    "Xc = DataFrame(t[:, 2:end], names(X));\n",
    "\n",
    "yc = CategoricalArray{String,1,UInt32}(y);\n",
    "\n",
    "train_ratio = 0.8\n",
    "\n",
    "train, test = partition(eachindex(y), train_ratio, shuffle=true)\n",
    "# train, test = partition(eachindex(yc), train_ratio, shuffle=false) ### Debug\n",
    "X_train, y_train = Xc[train, :], yc[train]\n",
    "X_test, y_test = Xc[test, :], yc[test]\n",
    "\n",
    "println(\"Training set size: \", size(X_train), \" - \", length(y_train))\n",
    "println(\"Test set size: \", size(X_test), \" - \", length(y_test))"
   ]
  },
  {
   "cell_type": "markdown",
   "metadata": {},
   "source": [
    "### Train a model"
   ]
  },
  {
   "cell_type": "code",
   "execution_count": 6,
   "metadata": {},
   "outputs": [
    {
     "name": "stderr",
     "output_type": "stream",
     "text": [
      "┌ Info: For silent loading, specify `verbosity=0`. \n",
      "└ @ Main /home/paso/.julia/packages/MLJModels/8W54X/src/loading.jl:159\n"
     ]
    },
    {
     "name": "stdout",
     "output_type": "stream",
     "text": [
      "import MLJDecisionTreeInterface ✔\n"
     ]
    },
    {
     "name": "stderr",
     "output_type": "stream",
     "text": [
      "┌ Info: Training machine(DecisionTreeClassifier(max_depth = -1, …), …).\n",
      "└ @ MLJBase /home/paso/.julia/packages/MLJBase/7nGJF/src/machines.jl:499\n"
     ]
    },
    {
     "data": {
      "text/plain": [
       "mfcc3 < 0.4613\n",
       "├─ decrs < -1.063\n",
       "│  ├─ mfcc2 < 4.63\n",
       "│  │  ├─ Pneumonia (15/15)\n",
       "│  │  └─ Healthy (3/3)\n",
       "│  └─ mfcc12 < 0.1095\n",
       "│     ├─ mfcc3 < 0.3804\n",
       "│     │  ├─ Healthy (88/88)\n",
       "│     │  └─ mfcc5 < 0.2311\n",
       "│     │     ├─ Pneumonia (5/5)\n",
       "│     │     └─ Healthy (7/7)\n",
       "│     └─ mfcc3 < 0.06346\n",
       "│        ├─ mfcc7 < -0.4175\n",
       "│        │  ├─ Healthy (16/16)\n",
       "│        │  └─ rllff < 1953.0\n",
       "│        │     ⋮\n",
       "│        │     \n",
       "│        └─ mfcc5 < 0.03963\n",
       "│           ├─ Pneumonia (1/1)\n",
       "│           └─ Healthy (34/34)\n",
       "└─ mel24=3257Hz < 1.472e-8\n",
       "   ├─ Healthy (13/13)\n",
       "   └─ mfcc4 < 0.6907\n",
       "      ├─ mfcc5 < 0.332\n",
       "      │  ├─ mfcc4 < 0.485\n",
       "      │  │  ├─ slope < -2.982e-7\n",
       "      │  │  │  ⋮\n",
       "      │  │  │  \n",
       "      │  │  └─ Pneumonia (49/49)\n",
       "      │  └─ entrp < 0.4341\n",
       "      │     ├─ Pneumonia (1/1)\n",
       "      │     └─ Healthy (8/8)\n",
       "      └─ Pneumonia (66/66)\n"
      ]
     },
     "metadata": {},
     "output_type": "display_data"
    }
   ],
   "source": [
    "learned_dt_tree = begin\n",
    "    Tree = MLJ.@load DecisionTreeClassifier pkg=DecisionTree\n",
    "    model = Tree(max_depth=-1, )\n",
    "    mach = machine(model, X_train, y_train)\n",
    "    fit!(mach)\n",
    "    fitted_params(mach).tree\n",
    "end"
   ]
  },
  {
   "cell_type": "markdown",
   "metadata": {},
   "source": [
    "### Model inspection & rule study"
   ]
  },
  {
   "cell_type": "code",
   "execution_count": 7,
   "metadata": {},
   "outputs": [
    {
     "name": "stdout",
     "output_type": "stream",
     "text": [
      "▣ mfcc3 < 0.4612770678225398\n",
      "├✔ decrs < -1.0634279559400643\n",
      "│├✔ mfcc2 < 4.6296118691487536\n",
      "││├✔ Pneumonia : (ninstances = 1, ncovered = 1, confidence = 1.0, lift = 1.0)\n",
      "││└✘ Healthy : (ninstances = 1, ncovered = 1, confidence = 1.0, lift = 1.0)\n",
      "│└✘ mfcc12 < 0.10953755873124793\n",
      "│ ├✔ mfcc3 < 0.3804128595447388\n",
      "│ │├✔ Healthy : (ninstances = 24, ncovered = 24, confidence = 0.96, lift = 1.0)\n",
      "│ │└✘ mfcc5 < 0.23105512737108047\n",
      "│ │ ├✔ Pneumonia : (ninstances = 3, ncovered = 3, confidence = 0.67, lift = 1.0)\n",
      "│ │ └✘ Healthy : (ninstances = 2, ncovered = 2, confidence = 1.0, lift = 1.0)\n",
      "│ └✘ mfcc3 < 0.0634642779198335\n",
      "│  ├✔ mfcc7 < -0.41747629090722443\n",
      "│  │├✔ Healthy : (ninstances = 5, ncovered = 5, confidence = 1.0, lift = 1.0)\n",
      "│  │└✘ rllff < 1953.125\n",
      "│  │ ├✔ mfcc8 < 0.08466379378597842\n",
      "│  │ │├✔ Healthy : (ninstances = 2, ncovered = 2, confidence = 1.0, lift = 1.0)\n",
      "│  │ │└✘ mel16=1802Hz < 7.687627070720451e-7\n",
      "│  │ │ ├✔ mfcc13 < 0.010784983094397974\n",
      "│  │ │ │├✔ Pneumonia : (ninstances = 0, ncovered = 0, confidence = NaN, lift = NaN)\n",
      "│  │ │ │└✘ Healthy : (ninstances = 1, ncovered = 1, confidence = 1.0, lift = 1.0)\n",
      "│  │ │ └✘ mfcc13 < -0.10613207088920368\n",
      "│  │ │  ├✔ Healthy : (ninstances = 0, ncovered = 0, confidence = NaN, lift = NaN)\n",
      "│  │ │  └✘ Pneumonia : (ninstances = 4, ncovered = 4, confidence = 1.0, lift = 1.0)\n",
      "│  │ └✘ Healthy : (ninstances = 2, ncovered = 2, confidence = 1.0, lift = 1.0)\n",
      "│  └✘ mfcc5 < 0.039632058146286904\n",
      "│   ├✔ Pneumonia : (ninstances = 2, ncovered = 2, confidence = 0.5, lift = 1.0)\n",
      "│   └✘ Healthy : (ninstances = 9, ncovered = 9, confidence = 0.89, lift = 1.0)\n",
      "└✘ mel24=3257Hz < 1.4723735892287153e-8\n",
      " ├✔ Healthy : (ninstances = 2, ncovered = 2, confidence = 1.0, lift = 1.0)\n",
      " └✘ mfcc4 < 0.6906847999463177\n",
      "  ├✔ mfcc5 < 0.3319802609139099\n",
      "  │├✔ mfcc4 < 0.48497734735408404\n",
      "  ││├✔ slope < -2.9820084312269087e-7\n",
      "  │││├✔ mfcc6 < 0.2516103601854612\n",
      "  ││││├✔ Pneumonia : (ninstances = 4, ncovered = 4, confidence = 1.0, lift = 1.0)\n",
      "  ││││└✘ decrs < -0.5729482626617032\n",
      "  ││││ ├✔ Healthy : (ninstances = 3, ncovered = 3, confidence = 1.0, lift = 1.0)\n",
      "  ││││ └✘ Pneumonia : (ninstances = 3, ncovered = 3, confidence = 1.0, lift = 1.0)\n",
      "  │││└✘ mfcc13 < -0.019170561907189933\n",
      "  │││ ├✔ Pneumonia : (ninstances = 0, ncovered = 0, confidence = NaN, lift = NaN)\n",
      "  │││ └✘ Healthy : (ninstances = 2, ncovered = 2, confidence = 0.5, lift = 1.0)\n",
      "  ││└✘ Pneumonia : (ninstances = 12, ncovered = 12, confidence = 0.67, lift = 1.0)\n",
      "  │└✘ entrp < 0.4340940347690523\n",
      "  │ ├✔ Pneumonia : (ninstances = 0, ncovered = 0, confidence = NaN, lift = NaN)\n",
      "  │ └✘ Healthy : (ninstances = 2, ncovered = 2, confidence = 0.5, lift = 1.0)\n",
      "  └✘ Pneumonia : (ninstances = 17, ncovered = 17, confidence = 0.94, lift = 1.0)\n"
     ]
    }
   ],
   "source": [
    "sole_dt = solemodel(learned_dt_tree)\n",
    "# Make test instances flow into the model, so that test metrics can, then, be computed.\n",
    "apply!(sole_dt, X_test, y_test);\n",
    "# Print Sole model\n",
    "printmodel(sole_dt; show_metrics = true);"
   ]
  },
  {
   "cell_type": "markdown",
   "metadata": {},
   "source": [
    "### Extract rules that are at least as good as a random baseline model"
   ]
  },
  {
   "cell_type": "code",
   "execution_count": 8,
   "metadata": {},
   "outputs": [
    {
     "name": "stdout",
     "output_type": "stream",
     "text": [
      "▣ (mfcc3 < 0.4612770678225398) ∧ (decrs < -1.0634279559400643) ∧ (mfcc2 < 4.6296118691487536)  ↣  Pneumonia : (ninstances = 101, ncovered = 1, coverage = 0.01, confidence = 1.0, lift = 2.35, natoms = 3)\n",
      "▣ (mfcc3 < 0.4612770678225398) ∧ (decrs < -1.0634279559400643) ∧ (¬(mfcc2 < 4.6296118691487536))  ↣  Healthy : (ninstances = 101, ncovered = 1, coverage = 0.01, confidence = 1.0, lift = 1.74, natoms = 3)\n",
      "▣ (mfcc3 < 0.4612770678225398) ∧ (¬(decrs < -1.0634279559400643)) ∧ (mfcc12 < 0.10953755873124793) ∧ (mfcc3 < 0.3804128595447388)  ↣  Healthy : (ninstances = 101, ncovered = 24, coverage = 0.24, confidence = 0.96, lift = 1.67, natoms = 4)\n",
      "▣ (mfcc3 < 0.4612770678225398) ∧ (¬(decrs < -1.0634279559400643)) ∧ (mfcc12 < 0.10953755873124793) ∧ (¬(mfcc3 < 0.3804128595447388)) ∧ (mfcc5 < 0.23105512737108047)  ↣  Pneumonia : (ninstances = 101, ncovered = 3, coverage = 0.03, confidence = 0.67, lift = 1.57, natoms = 5)\n",
      "▣ (mfcc3 < 0.4612770678225398) ∧ (¬(decrs < -1.0634279559400643)) ∧ (mfcc12 < 0.10953755873124793) ∧ (¬(mfcc3 < 0.3804128595447388)) ∧ (¬(mfcc5 < 0.23105512737108047))  ↣  Healthy : (ninstances = 101, ncovered = 2, coverage = 0.02, confidence = 1.0, lift = 1.74, natoms = 5)\n",
      "▣ (mfcc3 < 0.4612770678225398) ∧ (¬(decrs < -1.0634279559400643)) ∧ (¬(mfcc12 < 0.10953755873124793)) ∧ (mfcc3 < 0.0634642779198335) ∧ (mfcc7 < -0.41747629090722443)  ↣  Healthy : (ninstances = 101, ncovered = 5, coverage = 0.05, confidence = 1.0, lift = 1.74, natoms = 5)\n",
      "▣ (mfcc3 < 0.4612770678225398) ∧ (¬(decrs < -1.0634279559400643)) ∧ (¬(mfcc12 < 0.10953755873124793)) ∧ (mfcc3 < 0.0634642779198335) ∧ (¬(mfcc7 < -0.41747629090722443)) ∧ (rllff < 1953.125) ∧ (mfcc8 < 0.08466379378597842)  ↣  Healthy : (ninstances = 101, ncovered = 2, coverage = 0.02, confidence = 1.0, lift = 1.74, natoms = 7)\n",
      "▣ (mfcc3 < 0.4612770678225398) ∧ (¬(decrs < -1.0634279559400643)) ∧ (¬(mfcc12 < 0.10953755873124793)) ∧ (mfcc3 < 0.0634642779198335) ∧ (¬(mfcc7 < -0.41747629090722443)) ∧ (rllff < 1953.125) ∧ (¬(mfcc8 < 0.08466379378597842)) ∧ (mel16=1802Hz < 7.687627070720451e-7) ∧ (¬(mfcc13 < 0.010784983094397974))  ↣  Healthy : (ninstances = 101, ncovered = 1, coverage = 0.01, confidence = 1.0, lift = 1.74, natoms = 9)\n",
      "▣ (mfcc3 < 0.4612770678225398) ∧ (¬(decrs < -1.0634279559400643)) ∧ (¬(mfcc12 < 0.10953755873124793)) ∧ (mfcc3 < 0.0634642779198335) ∧ (¬(mfcc7 < -0.41747629090722443)) ∧ (rllff < 1953.125) ∧ (¬(mfcc8 < 0.08466379378597842)) ∧ (¬(mel16=1802Hz < 7.687627070720451e-7)) ∧ (¬(mfcc13 < -0.10613207088920368))  ↣  Pneumonia : (ninstances = 101, ncovered = 4, coverage = 0.04, confidence = 1.0, lift = 2.35, natoms = 9)\n",
      "▣ (mfcc3 < 0.4612770678225398) ∧ (¬(decrs < -1.0634279559400643)) ∧ (¬(mfcc12 < 0.10953755873124793)) ∧ (mfcc3 < 0.0634642779198335) ∧ (¬(mfcc7 < -0.41747629090722443)) ∧ (¬(rllff < 1953.125))  ↣  Healthy : (ninstances = 101, ncovered = 2, coverage = 0.02, confidence = 1.0, lift = 1.74, natoms = 6)\n",
      "▣ (mfcc3 < 0.4612770678225398) ∧ (¬(decrs < -1.0634279559400643)) ∧ (¬(mfcc12 < 0.10953755873124793)) ∧ (¬(mfcc3 < 0.0634642779198335)) ∧ (mfcc5 < 0.039632058146286904)  ↣  Pneumonia : (ninstances = 101, ncovered = 2, coverage = 0.02, confidence = 0.5, lift = 1.17, natoms = 5)\n",
      "▣ (mfcc3 < 0.4612770678225398) ∧ (¬(decrs < -1.0634279559400643)) ∧ (¬(mfcc12 < 0.10953755873124793)) ∧ (¬(mfcc3 < 0.0634642779198335)) ∧ (¬(mfcc5 < 0.039632058146286904))  ↣  Healthy : (ninstances = 101, ncovered = 9, coverage = 0.09, confidence = 0.89, lift = 1.55, natoms = 5)\n",
      "▣ (¬(mfcc3 < 0.4612770678225398)) ∧ (mel24=3257Hz < 1.4723735892287153e-8)  ↣  Healthy : (ninstances = 101, ncovered = 2, coverage = 0.02, confidence = 1.0, lift = 1.74, natoms = 2)\n",
      "▣ (¬(mfcc3 < 0.4612770678225398)) ∧ (¬(mel24=3257Hz < 1.4723735892287153e-8)) ∧ (mfcc4 < 0.6906847999463177) ∧ (mfcc5 < 0.3319802609139099) ∧ (mfcc4 < 0.48497734735408404) ∧ (slope < -2.9820084312269087e-7) ∧ (mfcc6 < 0.2516103601854612)  ↣  Pneumonia : (ninstances = 101, ncovered = 4, coverage = 0.04, confidence = 1.0, lift = 2.35, natoms = 7)\n",
      "▣ (¬(mfcc3 < 0.4612770678225398)) ∧ (¬(mel24=3257Hz < 1.4723735892287153e-8)) ∧ (mfcc4 < 0.6906847999463177) ∧ (mfcc5 < 0.3319802609139099) ∧ (mfcc4 < 0.48497734735408404) ∧ (slope < -2.9820084312269087e-7) ∧ (¬(mfcc6 < 0.2516103601854612)) ∧ (decrs < -0.5729482626617032)  ↣  Healthy : (ninstances = 101, ncovered = 3, coverage = 0.03, confidence = 1.0, lift = 1.74, natoms = 8)\n",
      "▣ (¬(mfcc3 < 0.4612770678225398)) ∧ (¬(mel24=3257Hz < 1.4723735892287153e-8)) ∧ (mfcc4 < 0.6906847999463177) ∧ (mfcc5 < 0.3319802609139099) ∧ (mfcc4 < 0.48497734735408404) ∧ (slope < -2.9820084312269087e-7) ∧ (¬(mfcc6 < 0.2516103601854612)) ∧ (¬(decrs < -0.5729482626617032))  ↣  Pneumonia : (ninstances = 101, ncovered = 3, coverage = 0.03, confidence = 1.0, lift = 2.35, natoms = 8)\n",
      "▣ (¬(mfcc3 < 0.4612770678225398)) ∧ (¬(mel24=3257Hz < 1.4723735892287153e-8)) ∧ (mfcc4 < 0.6906847999463177) ∧ (mfcc5 < 0.3319802609139099) ∧ (¬(mfcc4 < 0.48497734735408404))  ↣  Pneumonia : (ninstances = 101, ncovered = 12, coverage = 0.12, confidence = 0.67, lift = 1.57, natoms = 5)\n",
      "▣ (¬(mfcc3 < 0.4612770678225398)) ∧ (¬(mel24=3257Hz < 1.4723735892287153e-8)) ∧ (¬(mfcc4 < 0.6906847999463177))  ↣  Pneumonia : (ninstances = 101, ncovered = 17, coverage = 0.17, confidence = 0.94, lift = 2.21, natoms = 3)\n"
     ]
    }
   ],
   "source": [
    "interesting_rules = listrules(sole_dt, min_lift = 1.0, min_ninstances = 0);\n",
    "printmodel.(interesting_rules; show_metrics = true);"
   ]
  },
  {
   "cell_type": "markdown",
   "metadata": {},
   "source": [
    "### Simplify rules while extracting and prettify result"
   ]
  },
  {
   "cell_type": "code",
   "execution_count": 9,
   "metadata": {},
   "outputs": [
    {
     "name": "stdout",
     "output_type": "stream",
     "text": [
      "▣ (mfcc3 < 0.46) ∧ (decrs < -1.06) ∧ (mfcc2 < 4.63)  ↣  Pneumonia : (ninstances = 101, ncovered = 1, coverage = 0.01, confidence = 1.0, lift = 2.35, natoms = 3)\n",
      "▣ (mfcc3 < 0.46) ∧ (decrs < -1.06) ∧ (mfcc2 ≥ 4.63)  ↣  Healthy : (ninstances = 101, ncovered = 1, coverage = 0.01, confidence = 1.0, lift = 1.74, natoms = 3)\n",
      "▣ (mfcc3 < 0.38) ∧ (decrs ≥ -1.06) ∧ (mfcc12 < 0.11)  ↣  Healthy : (ninstances = 101, ncovered = 24, coverage = 0.24, confidence = 0.96, lift = 1.67, natoms = 3)\n",
      "▣ (mfcc3 ∈ [0.38,0.46)) ∧ (decrs ≥ -1.06) ∧ (mfcc12 < 0.11) ∧ (mfcc5 < 0.23)  ↣  Pneumonia : (ninstances = 101, ncovered = 3, coverage = 0.03, confidence = 0.67, lift = 1.57, natoms = 4)\n",
      "▣ (mfcc3 ∈ [0.38,0.46)) ∧ (decrs ≥ -1.06) ∧ (mfcc12 < 0.11) ∧ (mfcc5 ≥ 0.23)  ↣  Healthy : (ninstances = 101, ncovered = 2, coverage = 0.02, confidence = 1.0, lift = 1.74, natoms = 4)\n",
      "▣ (mfcc3 < 0.06) ∧ (decrs ≥ -1.06) ∧ (mfcc12 ≥ 0.11) ∧ (mfcc7 < -0.42)  ↣  Healthy : (ninstances = 101, ncovered = 5, coverage = 0.05, confidence = 1.0, lift = 1.74, natoms = 4)\n",
      "▣ (mfcc3 < 0.06) ∧ (decrs ≥ -1.06) ∧ (mfcc12 ≥ 0.11) ∧ (mfcc7 ≥ -0.42) ∧ (rllff < 1953.12) ∧ (mfcc8 < 0.08)  ↣  Healthy : (ninstances = 101, ncovered = 2, coverage = 0.02, confidence = 1.0, lift = 1.74, natoms = 6)\n",
      "▣ (mfcc3 < 0.06) ∧ (decrs ≥ -1.06) ∧ (mfcc12 ≥ 0.11) ∧ (mfcc7 ≥ -0.42) ∧ (rllff < 1953.12) ∧ (mfcc8 ≥ 0.08) ∧ (mel16=1802Hz < 0.0) ∧ (mfcc13 ≥ 0.01)  ↣  Healthy : (ninstances = 101, ncovered = 1, coverage = 0.01, confidence = 1.0, lift = 1.74, natoms = 8)\n",
      "▣ (mfcc3 < 0.06) ∧ (decrs ≥ -1.06) ∧ (mfcc12 ≥ 0.11) ∧ (mfcc7 ≥ -0.42) ∧ (rllff < 1953.12) ∧ (mfcc8 ≥ 0.08) ∧ (mel16=1802Hz ≥ 0.0) ∧ (mfcc13 ≥ -0.11)  ↣  Pneumonia : (ninstances = 101, ncovered = 4, coverage = 0.04, confidence = 1.0, lift = 2.35, natoms = 8)\n",
      "▣ (mfcc3 < 0.06) ∧ (decrs ≥ -1.06) ∧ (mfcc12 ≥ 0.11) ∧ (mfcc7 ≥ -0.42) ∧ (rllff ≥ 1953.12)  ↣  Healthy : (ninstances = 101, ncovered = 2, coverage = 0.02, confidence = 1.0, lift = 1.74, natoms = 5)\n",
      "▣ (mfcc3 ∈ [0.06,0.46)) ∧ (decrs ≥ -1.06) ∧ (mfcc12 ≥ 0.11) ∧ (mfcc5 < 0.04)  ↣  Pneumonia : (ninstances = 101, ncovered = 2, coverage = 0.02, confidence = 0.5, lift = 1.17, natoms = 4)\n",
      "▣ (mfcc3 ∈ [0.06,0.46)) ∧ (decrs ≥ -1.06) ∧ (mfcc12 ≥ 0.11) ∧ (mfcc5 ≥ 0.04)  ↣  Healthy : (ninstances = 101, ncovered = 9, coverage = 0.09, confidence = 0.89, lift = 1.55, natoms = 4)\n",
      "▣ (mfcc3 ≥ 0.46) ∧ (mel24=3257Hz < 0.0)  ↣  Healthy : (ninstances = 101, ncovered = 2, coverage = 0.02, confidence = 1.0, lift = 1.74, natoms = 2)\n",
      "▣ (mfcc3 ≥ 0.46) ∧ (mel24=3257Hz ≥ 0.0) ∧ (mfcc4 < 0.48) ∧ (mfcc5 < 0.33) ∧ (slope < -0.0) ∧ (mfcc6 < 0.25)  ↣  Pneumonia : (ninstances = 101, ncovered = 4, coverage = 0.04, confidence = 1.0, lift = 2.35, natoms = 6)\n",
      "▣ (mfcc3 ≥ 0.46) ∧ (mel24=3257Hz ≥ 0.0) ∧ (mfcc4 < 0.48) ∧ (mfcc5 < 0.33) ∧ (slope < -0.0) ∧ (mfcc6 ≥ 0.25) ∧ (decrs < -0.57)  ↣  Healthy : (ninstances = 101, ncovered = 3, coverage = 0.03, confidence = 1.0, lift = 1.74, natoms = 7)\n",
      "▣ (mfcc3 ≥ 0.46) ∧ (mel24=3257Hz ≥ 0.0) ∧ (mfcc4 < 0.48) ∧ (mfcc5 < 0.33) ∧ (slope < -0.0) ∧ (mfcc6 ≥ 0.25) ∧ (decrs ≥ -0.57)  ↣  Pneumonia : (ninstances = 101, ncovered = 3, coverage = 0.03, confidence = 1.0, lift = 2.35, natoms = 7)\n",
      "▣ (mfcc3 ≥ 0.46) ∧ (mel24=3257Hz ≥ 0.0) ∧ (mfcc4 ∈ [0.48,0.69)) ∧ (mfcc5 < 0.33)  ↣  Pneumonia : (ninstances = 101, ncovered = 12, coverage = 0.12, confidence = 0.67, lift = 1.57, natoms = 4)\n",
      "▣ (mfcc3 ≥ 0.46) ∧ (mel24=3257Hz ≥ 0.0) ∧ (mfcc4 ≥ 0.69)  ↣  Pneumonia : (ninstances = 101, ncovered = 17, coverage = 0.17, confidence = 0.94, lift = 2.21, natoms = 3)\n"
     ]
    }
   ],
   "source": [
    "interesting_rules = listrules(sole_dt, min_lift = 1.0, min_ninstances = 0, normalize = true);\n",
    "printmodel.(interesting_rules; show_metrics = true, syntaxstring_kwargs = (; threshold_digits = 2));"
   ]
  },
  {
   "cell_type": "markdown",
   "metadata": {},
   "source": [
    "### Directly access rule metrics"
   ]
  },
  {
   "cell_type": "code",
   "execution_count": 10,
   "metadata": {},
   "outputs": [
    {
     "data": {
      "text/plain": [
       "18-element Vector{@NamedTuple{ninstances::Int64, ncovered::Int64, coverage::Float64, confidence::Float64, lift::Float64, natoms::Int64}}:\n",
       " (ninstances = 101, ncovered = 1, coverage = 0.009900990099009901, confidence = 1.0, lift = 2.3488372093023258, natoms = 3)\n",
       " (ninstances = 101, ncovered = 1, coverage = 0.009900990099009901, confidence = 1.0, lift = 1.7413793103448276, natoms = 3)\n",
       " (ninstances = 101, ncovered = 24, coverage = 0.2376237623762376, confidence = 0.9583333333333334, lift = 1.66882183908046, natoms = 4)\n",
       " (ninstances = 101, ncovered = 3, coverage = 0.0297029702970297, confidence = 0.6666666666666666, lift = 1.565891472868217, natoms = 5)\n",
       " (ninstances = 101, ncovered = 2, coverage = 0.019801980198019802, confidence = 1.0, lift = 1.7413793103448276, natoms = 5)\n",
       " (ninstances = 101, ncovered = 5, coverage = 0.04950495049504951, confidence = 1.0, lift = 1.7413793103448276, natoms = 5)\n",
       " (ninstances = 101, ncovered = 2, coverage = 0.019801980198019802, confidence = 1.0, lift = 1.7413793103448276, natoms = 7)\n",
       " (ninstances = 101, ncovered = 1, coverage = 0.009900990099009901, confidence = 1.0, lift = 1.7413793103448276, natoms = 9)\n",
       " (ninstances = 101, ncovered = 4, coverage = 0.039603960396039604, confidence = 1.0, lift = 2.3488372093023258, natoms = 9)\n",
       " (ninstances = 101, ncovered = 2, coverage = 0.019801980198019802, confidence = 1.0, lift = 1.7413793103448276, natoms = 6)\n",
       " (ninstances = 101, ncovered = 2, coverage = 0.019801980198019802, confidence = 0.5, lift = 1.1744186046511629, natoms = 5)\n",
       " (ninstances = 101, ncovered = 9, coverage = 0.0891089108910891, confidence = 0.8888888888888888, lift = 1.5478927203065134, natoms = 5)\n",
       " (ninstances = 101, ncovered = 2, coverage = 0.019801980198019802, confidence = 1.0, lift = 1.7413793103448276, natoms = 2)\n",
       " (ninstances = 101, ncovered = 4, coverage = 0.039603960396039604, confidence = 1.0, lift = 2.3488372093023258, natoms = 7)\n",
       " (ninstances = 101, ncovered = 3, coverage = 0.0297029702970297, confidence = 1.0, lift = 1.7413793103448276, natoms = 8)\n",
       " (ninstances = 101, ncovered = 3, coverage = 0.0297029702970297, confidence = 1.0, lift = 2.3488372093023258, natoms = 8)\n",
       " (ninstances = 101, ncovered = 12, coverage = 0.1188118811881188, confidence = 0.6666666666666666, lift = 1.565891472868217, natoms = 5)\n",
       " (ninstances = 101, ncovered = 17, coverage = 0.16831683168316833, confidence = 0.9411764705882353, lift = 2.210670314637483, natoms = 3)"
      ]
     },
     "metadata": {},
     "output_type": "display_data"
    }
   ],
   "source": [
    "readmetrics.(listrules(sole_dt; min_lift=1.0, min_ninstances = 0))"
   ]
  },
  {
   "cell_type": "markdown",
   "metadata": {},
   "source": [
    "### Show rules with an additional metric (syntax height of the rule's antecedent)"
   ]
  },
  {
   "cell_type": "code",
   "execution_count": 11,
   "metadata": {},
   "outputs": [
    {
     "name": "stdout",
     "output_type": "stream",
     "text": [
      "▣ (mfcc3 < 0.4612770678225398) ∧ (decrs < -1.0634279559400643) ∧ (mfcc2 ≥ 4.6296118691487536)  ↣  Healthy : (ninstances = 101, ncovered = 1, coverage = 0.009900990099009901, confidence = 1.0, lift = 1.7413793103448276, natoms = 3, height = 2)\n",
      "▣ (mfcc3 < 0.0634642779198335) ∧ (decrs ≥ -1.0634279559400643) ∧ (mfcc12 ≥ 0.10953755873124793) ∧ (mfcc7 ≥ -0.41747629090722443) ∧ (rllff < 1953.125) ∧ (mfcc8 ≥ 0.08466379378597842) ∧ (mel16=1802Hz < 7.687627070720451e-7) ∧ (mfcc13 ≥ 0.010784983094397974)  ↣  Healthy : (ninstances = 101, ncovered = 1, coverage = 0.009900990099009901, confidence = 1.0, lift = 1.7413793103448276, natoms = 8, height = 7)\n",
      "▣ (mfcc3 < 0.4612770678225398) ∧ (decrs < -1.0634279559400643) ∧ (mfcc2 < 4.6296118691487536)  ↣  Pneumonia : (ninstances = 101, ncovered = 1, coverage = 0.009900990099009901, confidence = 1.0, lift = 2.3488372093023258, natoms = 3, height = 2)\n",
      "▣ (mfcc3 ∈ [0.0634642779198335,0.4612770678225398)) ∧ (decrs ≥ -1.0634279559400643) ∧ (mfcc12 ≥ 0.10953755873124793) ∧ (mfcc5 < 0.039632058146286904)  ↣  Pneumonia : (ninstances = 101, ncovered = 2, coverage = 0.019801980198019802, confidence = 0.5, lift = 1.1744186046511629, natoms = 4, height = 3)\n",
      "▣ (mfcc3 ≥ 0.4612770678225398) ∧ (mel24=3257Hz < 1.4723735892287153e-8)  ↣  Healthy : (ninstances = 101, ncovered = 2, coverage = 0.019801980198019802, confidence = 1.0, lift = 1.7413793103448276, natoms = 2, height = 1)\n",
      "▣ (mfcc3 ∈ [0.3804128595447388,0.4612770678225398)) ∧ (decrs ≥ -1.0634279559400643) ∧ (mfcc12 < 0.10953755873124793) ∧ (mfcc5 ≥ 0.23105512737108047)  ↣  Healthy : (ninstances = 101, ncovered = 2, coverage = 0.019801980198019802, confidence = 1.0, lift = 1.7413793103448276, natoms = 4, height = 3)\n",
      "▣ (mfcc3 < 0.0634642779198335) ∧ (decrs ≥ -1.0634279559400643) ∧ (mfcc12 ≥ 0.10953755873124793) ∧ (mfcc7 ≥ -0.41747629090722443) ∧ (rllff ≥ 1953.125)  ↣  Healthy : (ninstances = 101, ncovered = 2, coverage = 0.019801980198019802, confidence = 1.0, lift = 1.7413793103448276, natoms = 5, height = 4)\n",
      "▣ (mfcc3 < 0.0634642779198335) ∧ (decrs ≥ -1.0634279559400643) ∧ (mfcc12 ≥ 0.10953755873124793) ∧ (mfcc7 ≥ -0.41747629090722443) ∧ (rllff < 1953.125) ∧ (mfcc8 < 0.08466379378597842)  ↣  Healthy : (ninstances = 101, ncovered = 2, coverage = 0.019801980198019802, confidence = 1.0, lift = 1.7413793103448276, natoms = 6, height = 5)\n",
      "▣ (mfcc3 ∈ [0.3804128595447388,0.4612770678225398)) ∧ (decrs ≥ -1.0634279559400643) ∧ (mfcc12 < 0.10953755873124793) ∧ (mfcc5 < 0.23105512737108047)  ↣  Pneumonia : (ninstances = 101, ncovered = 3, coverage = 0.0297029702970297, confidence = 0.6666666666666666, lift = 1.565891472868217, natoms = 4, height = 3)\n",
      "▣ (mfcc3 ≥ 0.4612770678225398) ∧ (mel24=3257Hz ≥ 1.4723735892287153e-8) ∧ (mfcc4 < 0.48497734735408404) ∧ (mfcc5 < 0.3319802609139099) ∧ (slope < -2.9820084312269087e-7) ∧ (mfcc6 ≥ 0.2516103601854612) ∧ (decrs < -0.5729482626617032)  ↣  Healthy : (ninstances = 101, ncovered = 3, coverage = 0.0297029702970297, confidence = 1.0, lift = 1.7413793103448276, natoms = 7, height = 6)\n",
      "▣ (mfcc3 ≥ 0.4612770678225398) ∧ (mel24=3257Hz ≥ 1.4723735892287153e-8) ∧ (mfcc4 < 0.48497734735408404) ∧ (mfcc5 < 0.3319802609139099) ∧ (slope < -2.9820084312269087e-7) ∧ (mfcc6 ≥ 0.2516103601854612) ∧ (decrs ≥ -0.5729482626617032)  ↣  Pneumonia : (ninstances = 101, ncovered = 3, coverage = 0.0297029702970297, confidence = 1.0, lift = 2.3488372093023258, natoms = 7, height = 6)\n",
      "▣ (mfcc3 ≥ 0.4612770678225398) ∧ (mel24=3257Hz ≥ 1.4723735892287153e-8) ∧ (mfcc4 < 0.48497734735408404) ∧ (mfcc5 < 0.3319802609139099) ∧ (slope < -2.9820084312269087e-7) ∧ (mfcc6 < 0.2516103601854612)  ↣  Pneumonia : (ninstances = 101, ncovered = 4, coverage = 0.039603960396039604, confidence = 1.0, lift = 2.3488372093023258, natoms = 6, height = 5)\n",
      "▣ (mfcc3 < 0.0634642779198335) ∧ (decrs ≥ -1.0634279559400643) ∧ (mfcc12 ≥ 0.10953755873124793) ∧ (mfcc7 ≥ -0.41747629090722443) ∧ (rllff < 1953.125) ∧ (mfcc8 ≥ 0.08466379378597842) ∧ (mel16=1802Hz ≥ 7.687627070720451e-7) ∧ (mfcc13 ≥ -0.10613207088920368)  ↣  Pneumonia : (ninstances = 101, ncovered = 4, coverage = 0.039603960396039604, confidence = 1.0, lift = 2.3488372093023258, natoms = 8, height = 7)\n",
      "▣ (mfcc3 < 0.0634642779198335) ∧ (decrs ≥ -1.0634279559400643) ∧ (mfcc12 ≥ 0.10953755873124793) ∧ (mfcc7 < -0.41747629090722443)  ↣  Healthy : (ninstances = 101, ncovered = 5, coverage = 0.04950495049504951, confidence = 1.0, lift = 1.7413793103448276, natoms = 4, height = 3)\n",
      "▣ (mfcc3 ∈ [0.0634642779198335,0.4612770678225398)) ∧ (decrs ≥ -1.0634279559400643) ∧ (mfcc12 ≥ 0.10953755873124793) ∧ (mfcc5 ≥ 0.039632058146286904)  ↣  Healthy : (ninstances = 101, ncovered = 9, coverage = 0.0891089108910891, confidence = 0.8888888888888888, lift = 1.5478927203065134, natoms = 4, height = 3)\n",
      "▣ (mfcc3 ≥ 0.4612770678225398) ∧ (mel24=3257Hz ≥ 1.4723735892287153e-8) ∧ (mfcc4 ∈ [0.48497734735408404,0.6906847999463177)) ∧ (mfcc5 < 0.3319802609139099)  ↣  Pneumonia : (ninstances = 101, ncovered = 12, coverage = 0.1188118811881188, confidence = 0.6666666666666666, lift = 1.565891472868217, natoms = 4, height = 3)\n",
      "▣ (mfcc3 ≥ 0.4612770678225398) ∧ (mel24=3257Hz ≥ 1.4723735892287153e-8) ∧ (mfcc4 ≥ 0.6906847999463177)  ↣  Pneumonia : (ninstances = 101, ncovered = 17, coverage = 0.16831683168316833, confidence = 0.9411764705882353, lift = 2.210670314637483, natoms = 3, height = 2)\n",
      "▣ (mfcc3 < 0.3804128595447388) ∧ (decrs ≥ -1.0634279559400643) ∧ (mfcc12 < 0.10953755873124793)  ↣  Healthy : (ninstances = 101, ncovered = 24, coverage = 0.2376237623762376, confidence = 0.9583333333333334, lift = 1.66882183908046, natoms = 3, height = 2)\n"
     ]
    }
   ],
   "source": [
    "printmodel.(sort(interesting_rules, by = readmetrics); show_metrics = (; round_digits = nothing, additional_metrics = (; height = r->SoleLogics.height(antecedent(r)))));"
   ]
  },
  {
   "cell_type": "markdown",
   "metadata": {},
   "source": [
    "### Pretty table of rules and their metrics"
   ]
  },
  {
   "cell_type": "code",
   "execution_count": 12,
   "metadata": {},
   "outputs": [
    {
     "name": "stdout",
     "output_type": "stream",
     "text": [
      "┌───────────────────────────────────────────────────────────────────────────────────────────────────────────────────────────────────────────────────────────────────────────────────────────────────────────────────────────────────────────────────────────────┬────────────┬────────────┬──────────┬────────────┬────────────┬─────────┬────────┬────────┐\n",
      "│\u001b[33;1m                                                                                                                                                                                                                                                    Antecedent \u001b[0m│\u001b[33;1m Consequent \u001b[0m│\u001b[33;1m ninstances \u001b[0m│\u001b[33;1m ncovered \u001b[0m│\u001b[33;1m   coverage \u001b[0m│\u001b[33;1m confidence \u001b[0m│\u001b[33;1m    lift \u001b[0m│\u001b[33;1m natoms \u001b[0m│\u001b[33;1m height \u001b[0m│\n",
      "├───────────────────────────────────────────────────────────────────────────────────────────────────────────────────────────────────────────────────────────────────────────────────────────────────────────────────────────────────────────────────────────────┼────────────┼────────────┼──────────┼────────────┼────────────┼─────────┼────────┼────────┤\n",
      "│                                                                                                                                                                   (mfcc3 < 0.4612770678225398) ∧ (decrs < -1.0634279559400643) ∧ (mfcc2 < 4.6296118691487536) │  Pneumonia │        101 │        1 │ 0.00990099 │        1.0 │ 2.34884 │      3 │      2 │\n",
      "│                                                                                                                                                                   (mfcc3 < 0.4612770678225398) ∧ (decrs < -1.0634279559400643) ∧ (mfcc2 ≥ 4.6296118691487536) │    Healthy │        101 │        1 │ 0.00990099 │        1.0 │ 1.74138 │      3 │      2 │\n",
      "│                                                                                                                                                                 (mfcc3 < 0.3804128595447388) ∧ (decrs ≥ -1.0634279559400643) ∧ (mfcc12 < 0.10953755873124793) │    Healthy │        101 │       24 │   0.237624 │   0.958333 │ 1.66882 │      3 │      2 │\n",
      "│                                                                                                            (mfcc3 ∈ [0.3804128595447388,0.4612770678225398)) ∧ (decrs ≥ -1.0634279559400643) ∧ (mfcc12 < 0.10953755873124793) ∧ (mfcc5 < 0.23105512737108047) │  Pneumonia │        101 │        3 │   0.029703 │   0.666667 │ 1.56589 │      4 │      3 │\n",
      "│                                                                                                            (mfcc3 ∈ [0.3804128595447388,0.4612770678225398)) ∧ (decrs ≥ -1.0634279559400643) ∧ (mfcc12 < 0.10953755873124793) ∧ (mfcc5 ≥ 0.23105512737108047) │    Healthy │        101 │        2 │   0.019802 │        1.0 │ 1.74138 │      4 │      3 │\n",
      "│                                                                                                                                (mfcc3 < 0.0634642779198335) ∧ (decrs ≥ -1.0634279559400643) ∧ (mfcc12 ≥ 0.10953755873124793) ∧ (mfcc7 < -0.41747629090722443) │    Healthy │        101 │        5 │   0.049505 │        1.0 │ 1.74138 │      4 │      3 │\n",
      "│                                                                           (mfcc3 < 0.0634642779198335) ∧ (decrs ≥ -1.0634279559400643) ∧ (mfcc12 ≥ 0.10953755873124793) ∧ (mfcc7 ≥ -0.41747629090722443) ∧ (rllff < 1953.125) ∧ (mfcc8 < 0.08466379378597842) │    Healthy │        101 │        2 │   0.019802 │        1.0 │ 1.74138 │      6 │      5 │\n",
      "│ (mfcc3 < 0.0634642779198335) ∧ (decrs ≥ -1.0634279559400643) ∧ (mfcc12 ≥ 0.10953755873124793) ∧ (mfcc7 ≥ -0.41747629090722443) ∧ (rllff < 1953.125) ∧ (mfcc8 ≥ 0.08466379378597842) ∧ (mel16=1802Hz < 7.687627070720451e-7) ∧ (mfcc13 ≥ 0.010784983094397974) │    Healthy │        101 │        1 │ 0.00990099 │        1.0 │ 1.74138 │      8 │      7 │\n",
      "│ (mfcc3 < 0.0634642779198335) ∧ (decrs ≥ -1.0634279559400643) ∧ (mfcc12 ≥ 0.10953755873124793) ∧ (mfcc7 ≥ -0.41747629090722443) ∧ (rllff < 1953.125) ∧ (mfcc8 ≥ 0.08466379378597842) ∧ (mel16=1802Hz ≥ 7.687627070720451e-7) ∧ (mfcc13 ≥ -0.10613207088920368) │  Pneumonia │        101 │        4 │   0.039604 │        1.0 │ 2.34884 │      8 │      7 │\n",
      "│                                                                                                           (mfcc3 < 0.0634642779198335) ∧ (decrs ≥ -1.0634279559400643) ∧ (mfcc12 ≥ 0.10953755873124793) ∧ (mfcc7 ≥ -0.41747629090722443) ∧ (rllff ≥ 1953.125) │    Healthy │        101 │        2 │   0.019802 │        1.0 │ 1.74138 │      5 │      4 │\n",
      "│                                                                                                           (mfcc3 ∈ [0.0634642779198335,0.4612770678225398)) ∧ (decrs ≥ -1.0634279559400643) ∧ (mfcc12 ≥ 0.10953755873124793) ∧ (mfcc5 < 0.039632058146286904) │  Pneumonia │        101 │        2 │   0.019802 │        0.5 │ 1.17442 │      4 │      3 │\n",
      "│                                                                                                           (mfcc3 ∈ [0.0634642779198335,0.4612770678225398)) ∧ (decrs ≥ -1.0634279559400643) ∧ (mfcc12 ≥ 0.10953755873124793) ∧ (mfcc5 ≥ 0.039632058146286904) │    Healthy │        101 │        9 │  0.0891089 │   0.888889 │ 1.54789 │      4 │      3 │\n",
      "│                                                                                                                                                                                         (mfcc3 ≥ 0.4612770678225398) ∧ (mel24=3257Hz < 1.4723735892287153e-8) │    Healthy │        101 │        2 │   0.019802 │        1.0 │ 1.74138 │      2 │      1 │\n",
      "│                                                        (mfcc3 ≥ 0.4612770678225398) ∧ (mel24=3257Hz ≥ 1.4723735892287153e-8) ∧ (mfcc4 < 0.48497734735408404) ∧ (mfcc5 < 0.3319802609139099) ∧ (slope < -2.9820084312269087e-7) ∧ (mfcc6 < 0.2516103601854612) │  Pneumonia │        101 │        4 │   0.039604 │        1.0 │ 2.34884 │      6 │      5 │\n",
      "│                        (mfcc3 ≥ 0.4612770678225398) ∧ (mel24=3257Hz ≥ 1.4723735892287153e-8) ∧ (mfcc4 < 0.48497734735408404) ∧ (mfcc5 < 0.3319802609139099) ∧ (slope < -2.9820084312269087e-7) ∧ (mfcc6 ≥ 0.2516103601854612) ∧ (decrs < -0.5729482626617032) │    Healthy │        101 │        3 │   0.029703 │        1.0 │ 1.74138 │      7 │      6 │\n",
      "│                        (mfcc3 ≥ 0.4612770678225398) ∧ (mel24=3257Hz ≥ 1.4723735892287153e-8) ∧ (mfcc4 < 0.48497734735408404) ∧ (mfcc5 < 0.3319802609139099) ∧ (slope < -2.9820084312269087e-7) ∧ (mfcc6 ≥ 0.2516103601854612) ∧ (decrs ≥ -0.5729482626617032) │  Pneumonia │        101 │        3 │   0.029703 │        1.0 │ 2.34884 │      7 │      6 │\n",
      "│                                                                                                     (mfcc3 ≥ 0.4612770678225398) ∧ (mel24=3257Hz ≥ 1.4723735892287153e-8) ∧ (mfcc4 ∈ [0.48497734735408404,0.6906847999463177)) ∧ (mfcc5 < 0.3319802609139099) │  Pneumonia │        101 │       12 │   0.118812 │   0.666667 │ 1.56589 │      4 │      3 │\n",
      "│                                                                                                                                                          (mfcc3 ≥ 0.4612770678225398) ∧ (mel24=3257Hz ≥ 1.4723735892287153e-8) ∧ (mfcc4 ≥ 0.6906847999463177) │  Pneumonia │        101 │       17 │   0.168317 │   0.941176 │ 2.21067 │      3 │      2 │\n",
      "└───────────────────────────────────────────────────────────────────────────────────────────────────────────────────────────────────────────────────────────────────────────────────────────────────────────────────────────────────────────────────────────────┴────────────┴────────────┴──────────┴────────────┴────────────┴─────────┴────────┴────────┘\n"
     ]
    }
   ],
   "source": [
    "metricstable(interesting_rules; metrics_kwargs = (; round_digits = nothing, additional_metrics = (; height = r->SoleLogics.height(antecedent(r)))))"
   ]
  }
 ],
 "metadata": {
  "kernelspec": {
   "display_name": "Julia 1.10.3",
   "language": "julia",
   "name": "julia-1.10"
  },
  "language_info": {
   "file_extension": ".jl",
   "mimetype": "application/julia",
   "name": "julia",
   "version": "1.10.3"
  }
 },
 "nbformat": 4,
 "nbformat_minor": 2
}
