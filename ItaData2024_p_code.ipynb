{
 "cells": [
  {
   "cell_type": "markdown",
   "metadata": {},
   "source": [
    "# ItaData2024\n",
    "propositional example"
   ]
  },
  {
   "cell_type": "code",
   "execution_count": null,
   "metadata": {},
   "outputs": [],
   "source": [
    "using MLJ\n",
    "using MLJDecisionTreeInterface\n",
    "using Sole, SoleDecisionTreeInterface\n",
    "using CategoricalArrays\n",
    "using DataFrames, JLD2, CSV\n",
    "using StatsBase, Statistics\n",
    "using Catch22, Audio911"
   ]
  },
  {
   "cell_type": "markdown",
   "metadata": {},
   "source": [
    "### Open .jld2 file\n",
    "the file contains 504 samples of respiratory sound, labeled with 2 classes: healty and pneumonia"
   ]
  },
  {
   "cell_type": "code",
   "execution_count": null,
   "metadata": {},
   "outputs": [],
   "source": [
    "ds_path = \"/datasets/respiratory_Healthy_Pneumonia\"\n",
    "\n",
    "d = jldopen(string((@__DIR__), ds_path, \".jld2\"))\n",
    "x, y = d[\"dataframe_validated\"]\n",
    "@assert x isa DataFrame\n",
    "close(d)"
   ]
  },
  {
   "cell_type": "markdown",
   "metadata": {},
   "source": [
    "### Audio features extraction function\n",
    "This function is called for every audio sample and extract 51 features:\n",
    "26 bands of the mel spectrogram,\n",
    "13 coefficients of the mfcc\n",
    "12 spectral features: centroid, crest, entropy, f0, flatness, flux, kurtosis, rolloff, skewness, decrease, slope, spread"
   ]
  },
  {
   "cell_type": "code",
   "execution_count": null,
   "metadata": {},
   "outputs": [],
   "source": [
    "nan_replacer!(x::AbstractArray{Float64}) = replace!(x, NaN => 0.0)\n",
    "\n",
    "function afe(x::AbstractVector{Float64}; get_only_melfreq=false)\n",
    "    # -------------------------------- parameters -------------------------------- #\n",
    "    # audio module\n",
    "    sr = 8000\n",
    "    norm = true\n",
    "    speech_detection = false\n",
    "    # stft module\n",
    "    stft_length = 256\n",
    "    win_type = (:hann, :periodic)\n",
    "    win_length = 256\n",
    "    overlap_length = 128\n",
    "    stft_norm = :power                      # :power, :magnitude, :pow2mag\n",
    "    # mel filterbank module\n",
    "    nbands = 26\n",
    "    scale = :mel_htk                        # :mel_htk, :mel_slaney, :erb, :bark\n",
    "    melfb_norm = :bandwidth                 # :bandwidth, :area, :none\n",
    "    freq_range = (300, round(Int, sr / 2))\n",
    "    # mel spectrogram module\n",
    "    db_scale = false\n",
    "    # mfcc module\n",
    "    ncoeffs = 13\n",
    "    rectification = :log                    # :log, :cubic_root\n",
    "    dither = true\n",
    "    # f0 module\n",
    "    method = :nfc\n",
    "    f0_range = (50, 400)\n",
    "\n",
    "    # --------------------------------- functions -------------------------------- #\n",
    "    # audio module\n",
    "    audio = load_audio(\n",
    "        file=x,\n",
    "        sr=sr,\n",
    "        norm=norm,\n",
    "    );\n",
    "\n",
    "    stftspec = get_stft(\n",
    "        audio=audio,\n",
    "        stft_length=stft_length,\n",
    "        win_type=win_type,\n",
    "        win_length=win_length,\n",
    "        overlap_length=overlap_length,\n",
    "        norm=stft_norm\n",
    "    );\n",
    "\n",
    "    # mel filterbank module\n",
    "    melfb = get_melfb(\n",
    "        stft=stftspec,\n",
    "        nbands=nbands,\n",
    "        scale=scale,\n",
    "        norm=melfb_norm,\n",
    "        freq_range=freq_range\n",
    "    );\n",
    "\n",
    "    if get_only_melfreq\n",
    "        return melfb.freq\n",
    "    end\n",
    "\n",
    "    # mel spectrogram module\n",
    "    melspec =  get_melspec(\n",
    "        stft=stftspec,\n",
    "        fbank=melfb,\n",
    "        db_scale=db_scale\n",
    "    );\n",
    "\n",
    "    # mfcc module\n",
    "    mfcc = get_mfcc(\n",
    "        source=melspec,\n",
    "        ncoeffs=ncoeffs,\n",
    "        rectification=rectification,\n",
    "        dither=dither,\n",
    "    );\n",
    "\n",
    "    # f0 module\n",
    "    f0 = get_f0(\n",
    "        source=stftspec,\n",
    "        method=method,\n",
    "        freq_range=f0_range\n",
    "    );\n",
    "\n",
    "    # spectral features module\n",
    "    spect = get_spectrals(\n",
    "        source=stftspec,\n",
    "        freq_range=freq_range\n",
    "    );\n",
    "\n",
    "    x_features = hcat(\n",
    "        melspec.spec',\n",
    "        mfcc.mfcc',\n",
    "        f0.f0,\n",
    "        spect.centroid,\n",
    "        spect.crest,\n",
    "        spect.entropy,\n",
    "        spect.flatness,\n",
    "        spect.flux,\n",
    "        spect.kurtosis,\n",
    "        spect.rolloff,\n",
    "        spect.skewness,\n",
    "        spect.decrease,\n",
    "        spect.slope,\n",
    "        spect.spread\n",
    "    );\n",
    "\n",
    "    nan_replacer!(x_features)\n",
    "\n",
    "    return x_features\n",
    "end"
   ]
  },
  {
   "cell_type": "markdown",
   "metadata": {},
   "source": [
    "### Compute DataFrame of features"
   ]
  },
  {
   "cell_type": "code",
   "execution_count": null,
   "metadata": {},
   "outputs": [],
   "source": [
    "freq = round.(Int, afe(x[1, :audio]; get_only_melfreq=true))\n",
    "\n",
    "col_names = [\n",
    "    [\"mel$i=$(freq[i])Hz\" for i in 1:26]...,\n",
    "    [\"mfcc$i\" for i in 1:13]...,\n",
    "    \"f0\", \"cntrd\", \"crest\", \"entrp\", \"flatn\", \"flux\", \"kurts\", \"rllff\", \"skwns\", \"decrs\", \"slope\", \"sprd\"\n",
    "]\n",
    "X = DataFrame([name => Vector{Float64}[] for name in col_names])\n",
    "\n",
    "features = [minimum, maximum]\n",
    "\n",
    "for i in 1:nrow(x)\n",
    "    push!(X, collect(eachcol(afe(x[i, :audio]))))\n",
    "end"
   ]
  },
  {
   "cell_type": "markdown",
   "metadata": {},
   "source": [
    "### Data compression for propositional analysis"
   ]
  },
  {
   "cell_type": "code",
   "execution_count": null,
   "metadata": {},
   "outputs": [],
   "source": [
    "catch9 = [\n",
    "    maximum,\n",
    "    minimum,\n",
    "    StatsBase.mean,\n",
    "    median,\n",
    "    std,\n",
    "    Catch22.SB_BinaryStats_mean_longstretch1,\n",
    "    Catch22.SB_BinaryStats_diff_longstretch0,\n",
    "    Catch22.SB_MotifThree_quantile_hh,\n",
    "    Catch22.SB_TransitionMatrix_3ac_sumdiagcov,\n",
    "]\n",
    "\n",
    "t = zeros(size(X, 1))\n",
    "for i in eachcol(X)\n",
    "    feature = map(x -> catch9[4](x...), eachrow(i))\n",
    "    global t = hcat(t, feature)\n",
    "end\n",
    "Xc = DataFrame(t[:, 2:end], names(X));\n",
    "\n",
    "yc = CategoricalArray{String,1,UInt32}(y);\n",
    "\n",
    "train_ratio = 0.8\n",
    "\n",
    "train, test = partition(eachindex(y), train_ratio, shuffle=true)\n",
    "# train, test = partition(eachindex(yc), train_ratio, shuffle=false) ### Debug\n",
    "X_train, y_train = Xc[train, :], yc[train]\n",
    "X_test, y_test = Xc[test, :], yc[test]\n",
    "\n",
    "println(\"Training set size: \", size(X_train), \" - \", length(y_train))\n",
    "println(\"Test set size: \", size(X_test), \" - \", length(y_test))"
   ]
  },
  {
   "cell_type": "markdown",
   "metadata": {},
   "source": [
    "### Train a model"
   ]
  },
  {
   "cell_type": "code",
   "execution_count": null,
   "metadata": {},
   "outputs": [],
   "source": [
    "learned_dt_tree = begin\n",
    "    Tree = MLJ.@load DecisionTreeClassifier pkg=DecisionTree\n",
    "    model = Tree(max_depth=-1, )\n",
    "    mach = machine(model, X_train, y_train)\n",
    "    fit!(mach)\n",
    "    fitted_params(mach).tree\n",
    "end"
   ]
  },
  {
   "cell_type": "markdown",
   "metadata": {},
   "source": [
    "### Model inspection & rule study"
   ]
  },
  {
   "cell_type": "code",
   "execution_count": null,
   "metadata": {},
   "outputs": [],
   "source": [
    "sole_dt = solemodel(learned_dt_tree)\n",
    "# Make test instances flow into the model, so that test metrics can, then, be computed.\n",
    "apply!(sole_dt, X_test, y_test);\n",
    "# Print Sole model\n",
    "printmodel(sole_dt; show_metrics = true);"
   ]
  },
  {
   "cell_type": "markdown",
   "metadata": {},
   "source": [
    "### Extract rules that are at least as good as a random baseline model"
   ]
  },
  {
   "cell_type": "code",
   "execution_count": null,
   "metadata": {},
   "outputs": [],
   "source": [
    "interesting_rules = listrules(sole_dt, min_lift = 1.0, min_ninstances = 0);\n",
    "printmodel.(interesting_rules; show_metrics = true);"
   ]
  },
  {
   "cell_type": "markdown",
   "metadata": {},
   "source": [
    "### Simplify rules while extracting and prettify result"
   ]
  },
  {
   "cell_type": "code",
   "execution_count": null,
   "metadata": {},
   "outputs": [],
   "source": [
    "interesting_rules = listrules(sole_dt, min_lift = 1.0, min_ninstances = 0, normalize = true);\n",
    "printmodel.(interesting_rules; show_metrics = true, syntaxstring_kwargs = (; threshold_digits = 2));"
   ]
  },
  {
   "cell_type": "markdown",
   "metadata": {},
   "source": [
    "### Directly access rule metrics"
   ]
  },
  {
   "cell_type": "code",
   "execution_count": null,
   "metadata": {},
   "outputs": [],
   "source": [
    "readmetrics.(listrules(sole_dt; min_lift=1.0, min_ninstances = 0))"
   ]
  },
  {
   "cell_type": "markdown",
   "metadata": {},
   "source": [
    "### Show rules with an additional metric (syntax height of the rule's antecedent)"
   ]
  },
  {
   "cell_type": "code",
   "execution_count": null,
   "metadata": {},
   "outputs": [],
   "source": [
    "printmodel.(sort(interesting_rules, by = readmetrics); show_metrics = (; round_digits = nothing, additional_metrics = (; height = r->SoleLogics.height(antecedent(r)))));"
   ]
  },
  {
   "cell_type": "markdown",
   "metadata": {},
   "source": [
    "### Pretty table of rules and their metrics"
   ]
  },
  {
   "cell_type": "code",
   "execution_count": null,
   "metadata": {},
   "outputs": [],
   "source": [
    "metricstable(interesting_rules; metrics_kwargs = (; round_digits = nothing, additional_metrics = (; height = r->SoleLogics.height(antecedent(r)))))"
   ]
  }
 ],
 "metadata": {
  "kernelspec": {
   "display_name": "Julia 1.10.4",
   "language": "julia",
   "name": "julia-1.10"
  },
  "language_info": {
   "file_extension": ".jl",
   "mimetype": "application/julia",
   "name": "julia",
   "version": "1.10.4"
  }
 },
 "nbformat": 4,
 "nbformat_minor": 2
}
