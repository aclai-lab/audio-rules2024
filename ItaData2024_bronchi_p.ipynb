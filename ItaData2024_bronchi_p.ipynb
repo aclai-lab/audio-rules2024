{
 "cells": [
  {
   "cell_type": "markdown",
   "metadata": {},
   "source": [
    "# ItaData2024\n",
    "propositional example"
   ]
  },
  {
   "cell_type": "code",
   "execution_count": 7,
   "metadata": {},
   "outputs": [
    {
     "name": "stderr",
     "output_type": "stream",
     "text": [
      "\u001b[32m\u001b[1m  Activating\u001b[22m\u001b[39m project at `~/Documents/Aclai/audio-rules2024`\n"
     ]
    }
   ],
   "source": [
    "using Pkg\n",
    "Pkg.activate(\".\")\n",
    "using MLJ, ModalDecisionTrees\n",
    "using SoleDecisionTreeInterface, Sole, SoleData\n",
    "using CategoricalArrays\n",
    "using DataFrames, JLD2, CSV\n",
    "using Audio911\n",
    "using Random\n",
    "using StatsBase, Catch22\n",
    "using Test\n",
    "using Plots"
   ]
  },
  {
   "cell_type": "markdown",
   "metadata": {},
   "source": [
    "### Open .jld2 file\n",
    "the file contains 504 samples of respiratory sound, labeled with 2 classes: healty and pneumonia"
   ]
  },
  {
   "cell_type": "code",
   "execution_count": 8,
   "metadata": {},
   "outputs": [],
   "source": [
    "# ds_path = \"/datasets/respiratory_Healthy_Pneumonia\"\n",
    "ds_path = \"/datasets/respiratory_Healthy_Bronchiectasis\"\n",
    "\n",
    "d = jldopen(string((@__DIR__), ds_path, \".jld2\"))\n",
    "x, y = d[\"dataframe_validated\"]\n",
    "@assert x isa DataFrame\n",
    "close(d)"
   ]
  },
  {
   "cell_type": "markdown",
   "metadata": {},
   "source": [
    "### Audio features extraction function\n",
    "This function is called for every audio sample and extract 51 features:\n",
    "26 bands of the mel spectrogram,\n",
    "13 coefficients of the mfcc\n",
    "12 spectral features: centroid, crest, entropy, f0, flatness, flux, kurtosis, rolloff, skewness, decrease, slope, spread"
   ]
  },
  {
   "cell_type": "code",
   "execution_count": 9,
   "metadata": {},
   "outputs": [
    {
     "data": {
      "text/plain": [
       "afe (generic function with 1 method)"
      ]
     },
     "metadata": {},
     "output_type": "display_data"
    }
   ],
   "source": [
    "sr = 8000\n",
    "audioparams = (\n",
    "    sr = sr,\n",
    "    nfft = 256,\n",
    "    nbands = 14,\n",
    "    freq_range = (300, round(Int, sr / 2)),\n",
    "    db_scale = true,\n",
    ")\n",
    "\n",
    "function afe(x::AbstractVector{Float64}; sr::Int64, nfft::Int64, nbands::Int64, freq_range::Tuple{Int64, Int64}, db_scale::Bool, get_only_melfreq=false)\n",
    "    # -------------------------------- parameters -------------------------------- #\n",
    "    # audio module\n",
    "    sr = sr\n",
    "    norm = true\n",
    "    speech_detection = false\n",
    "    # stft module\n",
    "    nfft = nfft\n",
    "    win_type = (:hann, :periodic)\n",
    "    win_length = nfft\n",
    "    overlap_length = round(Int, nfft / 2)\n",
    "    stft_norm = :power                      # :power, :magnitude, :pow2mag\n",
    "    # mel filterbank module\n",
    "    nbands = nbands\n",
    "    scale = :mel_htk                        # :mel_htk, :mel_slaney, :erb, :bark\n",
    "    melfb_norm = :bandwidth                 # :bandwidth, :area, :none\n",
    "    freq_range = freq_range\n",
    "    # mel spectrogram module\n",
    "    db_scale = db_scale\n",
    "\n",
    "    # --------------------------------- functions -------------------------------- #\n",
    "    # audio module\n",
    "    audio = load_audio(\n",
    "        file=x,\n",
    "        sr=sr,\n",
    "        norm=norm,\n",
    "    );\n",
    "\n",
    "    stftspec = get_stft(\n",
    "        audio=audio,\n",
    "        nfft=nfft,\n",
    "        win_type=win_type,\n",
    "        win_length=win_length,\n",
    "        overlap_length=overlap_length,\n",
    "        norm=stft_norm\n",
    "    );\n",
    "\n",
    "    # mel filterbank module\n",
    "    melfb = get_melfb(\n",
    "        stft=stftspec,\n",
    "        nbands=nbands,\n",
    "        scale=scale,\n",
    "        norm=melfb_norm,\n",
    "        freq_range=freq_range\n",
    "    );\n",
    "\n",
    "    if get_only_melfreq\n",
    "        return melfb.data.freq\n",
    "    end\n",
    "\n",
    "    # mel spectrogram module\n",
    "    melspec =  get_melspec(\n",
    "        stft=stftspec,\n",
    "        fbank=melfb,\n",
    "        db_scale=db_scale\n",
    "    );\n",
    "\n",
    "    # spectral features module\n",
    "    spect = get_spectrals(\n",
    "        source=stftspec,\n",
    "        freq_range=freq_range\n",
    "    );\n",
    "\n",
    "    hcat(\n",
    "        melspec.spec',\n",
    "        spect.centroid,\n",
    "        spect.crest,\n",
    "        spect.entropy,\n",
    "        spect.flatness,\n",
    "        spect.flux,\n",
    "        spect.kurtosis,\n",
    "        spect.rolloff,\n",
    "        spect.skewness,\n",
    "        spect.decrease,\n",
    "        spect.slope,\n",
    "        spect.spread\n",
    "    );\n",
    "end"
   ]
  },
  {
   "cell_type": "markdown",
   "metadata": {},
   "source": [
    "### Compute DataFrame of features"
   ]
  },
  {
   "cell_type": "code",
   "execution_count": 10,
   "metadata": {},
   "outputs": [],
   "source": [
    "color_code = Dict(:red => 31, :green => 32, :yellow => 33, :blue => 34, :magenta => 35, :cyan => 36)\n",
    "freq = round.(Int, afe(x[1, :audio]; audioparams..., get_only_melfreq=true))\n",
    "r_select = r\"\\e\\[\\d+m(.*?)\\e\\[0m\"\n",
    "\n",
    "catch9_f = [\"max\", \"min\", \"mean\", \"med\", \"std\", \"bsm\", \"bsd\", \"qnt\", \"3ac\"]\n",
    "variable_names = vcat([\n",
    "    vcat(\n",
    "        [\"\\e[$(color_code[:yellow])mmel$i=$(freq[i])Hz->$j\\e[0m\" for i in 1:audioparams.nbands]...,\n",
    "        \"\\e[$(color_code[:cyan])mcntrd->$j\\e[0m\", \"\\e[$(color_code[:cyan])mcrest->$j\\e[0m\",\n",
    "        \"\\e[$(color_code[:cyan])mentrp->$j\\e[0m\", \"\\e[$(color_code[:cyan])mflatn->$j\\e[0m\", \"\\e[$(color_code[:cyan])mflux->$j\\e[0m\",\n",
    "        \"\\e[$(color_code[:cyan])mkurts->$j\\e[0m\", \"\\e[$(color_code[:cyan])mrllff->$j\\e[0m\", \"\\e[$(color_code[:cyan])mskwns->$j\\e[0m\",\n",
    "        \"\\e[$(color_code[:cyan])mdecrs->$j\\e[0m\", \"\\e[$(color_code[:cyan])mslope->$j\\e[0m\", \"\\e[$(color_code[:cyan])msprd->$j\\e[0m\"\n",
    "    )\n",
    "    for j in catch9_f\n",
    "]...)\n",
    "\n",
    "# cell 5 - Data compression for propositional analysis\n",
    "catch9 = [\n",
    "    maximum,\n",
    "    minimum,\n",
    "    StatsBase.mean,\n",
    "    median,\n",
    "    std,\n",
    "    Catch22.SB_BinaryStats_mean_longstretch1,\n",
    "    Catch22.SB_BinaryStats_diff_longstretch0,\n",
    "    Catch22.SB_MotifThree_quantile_hh,\n",
    "    Catch22.SB_TransitionMatrix_3ac_sumdiagcov,\n",
    "]\n",
    "\n",
    "X = DataFrame([name => Float64[] for name in [match(r_select, v)[1] for v in variable_names]])\n",
    "\n",
    "audio_feats = [afe(row[:audio]; audioparams...) for row in eachrow(x)]\n",
    "push!(X, vcat([vcat([map(func, eachcol(row)) for func in catch9]...) for row in audio_feats])...)\n",
    "\n",
    "yc = CategoricalArray(y);"
   ]
  },
  {
   "cell_type": "markdown",
   "metadata": {},
   "source": [
    "### Compute train and test sets"
   ]
  },
  {
   "cell_type": "code",
   "execution_count": 11,
   "metadata": {},
   "outputs": [
    {
     "name": "stdout",
     "output_type": "stream",
     "text": [
      "Training set size: (144, 225) - 144\n",
      "Test set size: (36, 225) - 36\n"
     ]
    }
   ],
   "source": [
    "train_ratio = 0.8\n",
    "\n",
    "train, test = partition(eachindex(yc), train_ratio, shuffle=true)\n",
    "X_train, y_train = X[train, :], yc[train]\n",
    "X_test, y_test = X[test, :], yc[test]\n",
    "\n",
    "println(\"Training set size: \", size(X_train), \" - \", length(y_train))\n",
    "println(\"Test set size: \", size(X_test), \" - \", length(y_test))"
   ]
  },
  {
   "cell_type": "markdown",
   "metadata": {},
   "source": [
    "### Train a model"
   ]
  },
  {
   "cell_type": "code",
   "execution_count": 12,
   "metadata": {},
   "outputs": [
    {
     "name": "stderr",
     "output_type": "stream",
     "text": [
      "┌ Info: For silent loading, specify `verbosity=0`. \n",
      "└ @ Main /home/paso/.julia/packages/MLJModels/8W54X/src/loading.jl:159\n"
     ]
    },
    {
     "name": "stdout",
     "output_type": "stream",
     "text": [
      "import MLJDecisionTreeInterface ✔\n"
     ]
    },
    {
     "name": "stderr",
     "output_type": "stream",
     "text": [
      "┌ Info: Training machine(DecisionTreeClassifier(max_depth = -1, …), …).\n",
      "└ @ MLJBase /home/paso/.julia/packages/MLJBase/7nGJF/src/machines.jl:499\n"
     ]
    },
    {
     "data": {
      "text/plain": [
       "flux->max < 7.489\n",
       "├─ sprd->std < 155.0\n",
       "│  ├─ mel14=3539Hz->std < 0.1605\n",
       "│  │  ├─ cntrd->std < 213.8\n",
       "│  │  │  ├─ mel11=2411Hz->qnt < 1.878\n",
       "│  │  │  │  ├─ Healthy (1/1)\n",
       "│  │  │  │  └─ Bronchiectasis (23/23)\n",
       "│  │  │  └─ mel1=409Hz->std < 0.4318\n",
       "│  │  │     ├─ Bronchiectasis (1/1)\n",
       "│  │  │     └─ Healthy (4/4)\n",
       "│  │  └─ mel11=2411Hz->3ac < 0.006044\n",
       "│  │     ├─ cntrd->bsd < 4.5\n",
       "│  │     │  ├─ Bronchiectasis (3/3)\n",
       "│  │     │  └─ Healthy (1/1)\n",
       "│  │     └─ Healthy (21/21)\n",
       "│  └─ Healthy (45/45)\n",
       "└─ mel13=3124Hz->std < 0.4548\n",
       "   ├─ Bronchiectasis (43/43)\n",
       "   └─ Healthy (2/2)\n"
      ]
     },
     "metadata": {},
     "output_type": "display_data"
    }
   ],
   "source": [
    "learned_dt_tree = begin\n",
    "    Tree = MLJ.@load DecisionTreeClassifier pkg=DecisionTree\n",
    "    model = Tree(max_depth=-1, )\n",
    "    mach = machine(model, X_train, y_train)\n",
    "    fit!(mach)\n",
    "    fitted_params(mach).tree\n",
    "end"
   ]
  },
  {
   "cell_type": "markdown",
   "metadata": {},
   "source": [
    "### Model inspection & rule study"
   ]
  },
  {
   "cell_type": "code",
   "execution_count": 13,
   "metadata": {},
   "outputs": [
    {
     "name": "stdout",
     "output_type": "stream",
     "text": [
      "\u001b[34m▣\u001b[0m \u001b[1m\u001b[36mflux->max\u001b[0m \u001b[1m<\u001b[0m\u001b[0m 7.489194711642208\n",
      "├✔ \u001b[1m\u001b[36msprd->std\u001b[0m \u001b[1m<\u001b[0m\u001b[0m 155.0391286023021\n",
      "│├✔ \u001b[1m\u001b[33mmel14=3539Hz->std\u001b[0m \u001b[1m<\u001b[0m\u001b[0m 0.16051373796176915\n",
      "││├✔ \u001b[1m\u001b[36mcntrd->std\u001b[0m \u001b[1m<\u001b[0m\u001b[0m 213.75397278771902\n",
      "│││├✔ \u001b[1m\u001b[33mmel11=2411Hz->qnt\u001b[0m \u001b[1m<\u001b[0m\u001b[0m 1.8781197176888846\n",
      "││││├✔ Healthy : (ninstances = 0, ncovered = 0, confidence = NaN, lift = NaN)\n",
      "││││└✘ Bronchiectasis : (ninstances = 3, ncovered = 3, confidence = 1.0, lift = 1.0)\n",
      "│││└✘ \u001b[1m\u001b[33mmel1=409Hz->std\u001b[0m \u001b[1m<\u001b[0m\u001b[0m 0.431783542045977\n",
      "│││ ├✔ Bronchiectasis : (ninstances = 0, ncovered = 0, confidence = NaN, lift = NaN)\n",
      "│││ └✘ Healthy : (ninstances = 2, ncovered = 2, confidence = 1.0, lift = 1.0)\n",
      "││└✘ \u001b[1m\u001b[33mmel11=2411Hz->3ac\u001b[0m \u001b[1m<\u001b[0m\u001b[0m 0.006044238683127572\n",
      "││ ├✔ \u001b[1m\u001b[36mcntrd->bsd\u001b[0m \u001b[1m<\u001b[0m\u001b[0m 4.5\n",
      "││ │├✔ Bronchiectasis : (ninstances = 3, ncovered = 3, confidence = 0.67, lift = 1.0)\n",
      "││ │└✘ Healthy : (ninstances = 2, ncovered = 2, confidence = 1.0, lift = 1.0)\n",
      "││ └✘ Healthy : (ninstances = 3, ncovered = 3, confidence = 1.0, lift = 1.0)\n",
      "│└✘ Healthy : (ninstances = 8, ncovered = 8, confidence = 0.75, lift = 1.0)\n",
      "└✘ \u001b[1m\u001b[33mmel13=3124Hz->std\u001b[0m \u001b[1m<\u001b[0m\u001b[0m 0.4547766847788547\n",
      " ├✔ Bronchiectasis : (ninstances = 11, ncovered = 11, confidence = 0.91, lift = 1.0)\n",
      " └✘ Healthy : (ninstances = 4, ncovered = 4, confidence = 0.25, lift = 1.0)\n"
     ]
    }
   ],
   "source": [
    "sole_dt = solemodel(learned_dt_tree)\n",
    "# Make test instances flow into the model, so that test metrics can, then, be computed.\n",
    "apply!(sole_dt, X_test, y_test);\n",
    "# Print Sole model\n",
    "printmodel(sole_dt; show_metrics = true, variable_names_map = variable_names);"
   ]
  },
  {
   "cell_type": "markdown",
   "metadata": {},
   "source": [
    "### Extract rules that are at least as good as a random baseline model"
   ]
  },
  {
   "cell_type": "code",
   "execution_count": 14,
   "metadata": {},
   "outputs": [
    {
     "name": "stdout",
     "output_type": "stream",
     "text": [
      "\u001b[34m▣\u001b[0m (\u001b[1m\u001b[36mflux->max\u001b[0m \u001b[1m<\u001b[0m\u001b[0m 7.489194711642208) ∧ (\u001b[1m\u001b[36msprd->std\u001b[0m \u001b[1m<\u001b[0m\u001b[0m 155.0391286023021) ∧ (\u001b[1m\u001b[33mmel14=3539Hz->std\u001b[0m \u001b[1m<\u001b[0m\u001b[0m 0.16051373796176915) ∧ (\u001b[1m\u001b[36mcntrd->std\u001b[0m \u001b[1m<\u001b[0m\u001b[0m 213.75397278771902) ∧ (¬(\u001b[1m\u001b[33mmel11=2411Hz->qnt\u001b[0m \u001b[1m<\u001b[0m\u001b[0m 1.8781197176888846))  ↣  Bronchiectasis : (ninstances = 36, ncovered = 3, coverage = 0.08, confidence = 1.0, lift = 1.8, natoms = 5)\n",
      "\u001b[34m▣\u001b[0m (\u001b[1m\u001b[36mflux->max\u001b[0m \u001b[1m<\u001b[0m\u001b[0m 7.489194711642208) ∧ (\u001b[1m\u001b[36msprd->std\u001b[0m \u001b[1m<\u001b[0m\u001b[0m 155.0391286023021) ∧ (\u001b[1m\u001b[33mmel14=3539Hz->std\u001b[0m \u001b[1m<\u001b[0m\u001b[0m 0.16051373796176915) ∧ (¬(\u001b[1m\u001b[36mcntrd->std\u001b[0m \u001b[1m<\u001b[0m\u001b[0m 213.75397278771902)) ∧ (¬(\u001b[1m\u001b[33mmel1=409Hz->std\u001b[0m \u001b[1m<\u001b[0m\u001b[0m 0.431783542045977))  ↣  Healthy : (ninstances = 36, ncovered = 2, coverage = 0.06, confidence = 1.0, lift = 2.25, natoms = 5)\n",
      "\u001b[34m▣\u001b[0m (\u001b[1m\u001b[36mflux->max\u001b[0m \u001b[1m<\u001b[0m\u001b[0m 7.489194711642208) ∧ (\u001b[1m\u001b[36msprd->std\u001b[0m \u001b[1m<\u001b[0m\u001b[0m 155.0391286023021) ∧ (¬(\u001b[1m\u001b[33mmel14=3539Hz->std\u001b[0m \u001b[1m<\u001b[0m\u001b[0m 0.16051373796176915)) ∧ (\u001b[1m\u001b[33mmel11=2411Hz->3ac\u001b[0m \u001b[1m<\u001b[0m\u001b[0m 0.006044238683127572) ∧ (\u001b[1m\u001b[36mcntrd->bsd\u001b[0m \u001b[1m<\u001b[0m\u001b[0m 4.5)  ↣  Bronchiectasis : (ninstances = 36, ncovered = 3, coverage = 0.08, confidence = 0.67, lift = 1.2, natoms = 5)\n",
      "\u001b[34m▣\u001b[0m (\u001b[1m\u001b[36mflux->max\u001b[0m \u001b[1m<\u001b[0m\u001b[0m 7.489194711642208) ∧ (\u001b[1m\u001b[36msprd->std\u001b[0m \u001b[1m<\u001b[0m\u001b[0m 155.0391286023021) ∧ (¬(\u001b[1m\u001b[33mmel14=3539Hz->std\u001b[0m \u001b[1m<\u001b[0m\u001b[0m 0.16051373796176915)) ∧ (\u001b[1m\u001b[33mmel11=2411Hz->3ac\u001b[0m \u001b[1m<\u001b[0m\u001b[0m 0.006044238683127572) ∧ (¬(\u001b[1m\u001b[36mcntrd->bsd\u001b[0m \u001b[1m<\u001b[0m\u001b[0m 4.5))  ↣  Healthy : (ninstances = 36, ncovered = 2, coverage = 0.06, confidence = 1.0, lift = 2.25, natoms = 5)\n",
      "\u001b[34m▣\u001b[0m (\u001b[1m\u001b[36mflux->max\u001b[0m \u001b[1m<\u001b[0m\u001b[0m 7.489194711642208) ∧ (\u001b[1m\u001b[36msprd->std\u001b[0m \u001b[1m<\u001b[0m\u001b[0m 155.0391286023021) ∧ (¬(\u001b[1m\u001b[33mmel14=3539Hz->std\u001b[0m \u001b[1m<\u001b[0m\u001b[0m 0.16051373796176915)) ∧ (¬(\u001b[1m\u001b[33mmel11=2411Hz->3ac\u001b[0m \u001b[1m<\u001b[0m\u001b[0m 0.006044238683127572))  ↣  Healthy : (ninstances = 36, ncovered = 3, coverage = 0.08, confidence = 1.0, lift = 2.25, natoms = 4)\n",
      "\u001b[34m▣\u001b[0m (\u001b[1m\u001b[36mflux->max\u001b[0m \u001b[1m<\u001b[0m\u001b[0m 7.489194711642208) ∧ (¬(\u001b[1m\u001b[36msprd->std\u001b[0m \u001b[1m<\u001b[0m\u001b[0m 155.0391286023021))  ↣  Healthy : (ninstances = 36, ncovered = 8, coverage = 0.22, confidence = 0.75, lift = 1.69, natoms = 2)\n",
      "\u001b[34m▣\u001b[0m (¬(\u001b[1m\u001b[36mflux->max\u001b[0m \u001b[1m<\u001b[0m\u001b[0m 7.489194711642208)) ∧ (\u001b[1m\u001b[33mmel13=3124Hz->std\u001b[0m \u001b[1m<\u001b[0m\u001b[0m 0.4547766847788547)  ↣  Bronchiectasis : (ninstances = 36, ncovered = 11, coverage = 0.31, confidence = 0.91, lift = 1.64, natoms = 2)\n"
     ]
    }
   ],
   "source": [
    "interesting_rules = listrules(sole_dt, min_lift = 1.0, min_ninstances = 0);\n",
    "printmodel.(interesting_rules; show_metrics = true, variable_names_map = variable_names);"
   ]
  },
  {
   "cell_type": "markdown",
   "metadata": {},
   "source": [
    "### Simplify rules while extracting and prettify result"
   ]
  },
  {
   "cell_type": "code",
   "execution_count": 15,
   "metadata": {},
   "outputs": [
    {
     "name": "stdout",
     "output_type": "stream",
     "text": [
      "\u001b[34m▣\u001b[0m (\u001b[1m\u001b[36mflux->max\u001b[0m \u001b[1m<\u001b[0m\u001b[0m 7.49) ∧ (\u001b[1m\u001b[36msprd->std\u001b[0m \u001b[1m<\u001b[0m\u001b[0m 155.04) ∧ (\u001b[1m\u001b[33mmel14=3539Hz->std\u001b[0m \u001b[1m<\u001b[0m\u001b[0m 0.16) ∧ (\u001b[1m\u001b[36mcntrd->std\u001b[0m \u001b[1m<\u001b[0m\u001b[0m 213.75) ∧ (\u001b[1m\u001b[33mmel11=2411Hz->qnt\u001b[0m \u001b[1m≥\u001b[0m\u001b[0m 1.88)  ↣  Bronchiectasis : (ninstances = 36, ncovered = 3, coverage = 0.08, confidence = 1.0, lift = 1.8, natoms = 5)\n",
      "\u001b[34m▣\u001b[0m (\u001b[1m\u001b[36mflux->max\u001b[0m \u001b[1m<\u001b[0m\u001b[0m 7.49) ∧ (\u001b[1m\u001b[36msprd->std\u001b[0m \u001b[1m<\u001b[0m\u001b[0m 155.04) ∧ (\u001b[1m\u001b[33mmel14=3539Hz->std\u001b[0m \u001b[1m<\u001b[0m\u001b[0m 0.16) ∧ (\u001b[1m\u001b[36mcntrd->std\u001b[0m \u001b[1m≥\u001b[0m\u001b[0m 213.75) ∧ (\u001b[1m\u001b[33mmel1=409Hz->std\u001b[0m \u001b[1m≥\u001b[0m\u001b[0m 0.43)  ↣  Healthy : (ninstances = 36, ncovered = 2, coverage = 0.06, confidence = 1.0, lift = 2.25, natoms = 5)\n",
      "\u001b[34m▣\u001b[0m (\u001b[1m\u001b[36mflux->max\u001b[0m \u001b[1m<\u001b[0m\u001b[0m 7.49) ∧ (\u001b[1m\u001b[36msprd->std\u001b[0m \u001b[1m<\u001b[0m\u001b[0m 155.04) ∧ (\u001b[1m\u001b[33mmel14=3539Hz->std\u001b[0m \u001b[1m≥\u001b[0m\u001b[0m 0.16) ∧ (\u001b[1m\u001b[33mmel11=2411Hz->3ac\u001b[0m \u001b[1m<\u001b[0m\u001b[0m 0.01) ∧ (\u001b[1m\u001b[36mcntrd->bsd\u001b[0m \u001b[1m<\u001b[0m\u001b[0m 4.5)  ↣  Bronchiectasis : (ninstances = 36, ncovered = 3, coverage = 0.08, confidence = 0.67, lift = 1.2, natoms = 5)\n",
      "\u001b[34m▣\u001b[0m (\u001b[1m\u001b[36mflux->max\u001b[0m \u001b[1m<\u001b[0m\u001b[0m 7.49) ∧ (\u001b[1m\u001b[36msprd->std\u001b[0m \u001b[1m<\u001b[0m\u001b[0m 155.04) ∧ (\u001b[1m\u001b[33mmel14=3539Hz->std\u001b[0m \u001b[1m≥\u001b[0m\u001b[0m 0.16) ∧ (\u001b[1m\u001b[33mmel11=2411Hz->3ac\u001b[0m \u001b[1m<\u001b[0m\u001b[0m 0.01) ∧ (\u001b[1m\u001b[36mcntrd->bsd\u001b[0m \u001b[1m≥\u001b[0m\u001b[0m 4.5)  ↣  Healthy : (ninstances = 36, ncovered = 2, coverage = 0.06, confidence = 1.0, lift = 2.25, natoms = 5)\n",
      "\u001b[34m▣\u001b[0m (\u001b[1m\u001b[36mflux->max\u001b[0m \u001b[1m<\u001b[0m\u001b[0m 7.49) ∧ (\u001b[1m\u001b[36msprd->std\u001b[0m \u001b[1m<\u001b[0m\u001b[0m 155.04) ∧ (\u001b[1m\u001b[33mmel14=3539Hz->std\u001b[0m \u001b[1m≥\u001b[0m\u001b[0m 0.16) ∧ (\u001b[1m\u001b[33mmel11=2411Hz->3ac\u001b[0m \u001b[1m≥\u001b[0m\u001b[0m 0.01)  ↣  Healthy : (ninstances = 36, ncovered = 3, coverage = 0.08, confidence = 1.0, lift = 2.25, natoms = 4)\n",
      "\u001b[34m▣\u001b[0m (\u001b[1m\u001b[36mflux->max\u001b[0m \u001b[1m<\u001b[0m\u001b[0m 7.49) ∧ (\u001b[1m\u001b[36msprd->std\u001b[0m \u001b[1m≥\u001b[0m\u001b[0m 155.04)  ↣  Healthy : (ninstances = 36, ncovered = 8, coverage = 0.22, confidence = 0.75, lift = 1.69, natoms = 2)\n",
      "\u001b[34m▣\u001b[0m (\u001b[1m\u001b[36mflux->max\u001b[0m \u001b[1m≥\u001b[0m\u001b[0m 7.49) ∧ (\u001b[1m\u001b[33mmel13=3124Hz->std\u001b[0m \u001b[1m<\u001b[0m\u001b[0m 0.45)  ↣  Bronchiectasis : (ninstances = 36, ncovered = 11, coverage = 0.31, confidence = 0.91, lift = 1.64, natoms = 2)\n"
     ]
    }
   ],
   "source": [
    "interesting_rules = listrules(sole_dt, min_lift = 1.0, min_ninstances = 0, normalize = true);\n",
    "printmodel.(interesting_rules; show_metrics = true, syntaxstring_kwargs = (; threshold_digits = 2), variable_names_map = variable_names);"
   ]
  },
  {
   "cell_type": "markdown",
   "metadata": {},
   "source": [
    "### Directly access rule metrics"
   ]
  },
  {
   "cell_type": "code",
   "execution_count": 16,
   "metadata": {},
   "outputs": [
    {
     "data": {
      "text/plain": [
       "7-element Vector{@NamedTuple{ninstances::Int64, ncovered::Int64, coverage::Float64, confidence::Float64, lift::Float64, natoms::Int64}}:\n",
       " (ninstances = 36, ncovered = 3, coverage = 0.08333333333333333, confidence = 1.0, lift = 1.7999999999999998, natoms = 5)\n",
       " (ninstances = 36, ncovered = 2, coverage = 0.05555555555555555, confidence = 1.0, lift = 2.25, natoms = 5)\n",
       " (ninstances = 36, ncovered = 3, coverage = 0.08333333333333333, confidence = 0.6666666666666666, lift = 1.2, natoms = 5)\n",
       " (ninstances = 36, ncovered = 2, coverage = 0.05555555555555555, confidence = 1.0, lift = 2.25, natoms = 5)\n",
       " (ninstances = 36, ncovered = 3, coverage = 0.08333333333333333, confidence = 1.0, lift = 2.25, natoms = 4)\n",
       " (ninstances = 36, ncovered = 8, coverage = 0.2222222222222222, confidence = 0.75, lift = 1.6875, natoms = 2)\n",
       " (ninstances = 36, ncovered = 11, coverage = 0.3055555555555556, confidence = 0.9090909090909091, lift = 1.6363636363636362, natoms = 2)"
      ]
     },
     "metadata": {},
     "output_type": "display_data"
    }
   ],
   "source": [
    "readmetrics.(listrules(sole_dt; min_lift=1.0, min_ninstances = 0))"
   ]
  },
  {
   "cell_type": "markdown",
   "metadata": {},
   "source": [
    "### Show rules with an additional metric (syntax height of the rule's antecedent)"
   ]
  },
  {
   "cell_type": "code",
   "execution_count": 17,
   "metadata": {},
   "outputs": [
    {
     "name": "stdout",
     "output_type": "stream",
     "text": [
      "\u001b[34m▣\u001b[0m (\u001b[1m\u001b[36mflux->max\u001b[0m \u001b[1m<\u001b[0m\u001b[0m 7.489194711642208) ∧ (\u001b[1m\u001b[36msprd->std\u001b[0m \u001b[1m<\u001b[0m\u001b[0m 155.0391286023021) ∧ (\u001b[1m\u001b[33mmel14=3539Hz->std\u001b[0m \u001b[1m<\u001b[0m\u001b[0m 0.16051373796176915) ∧ (\u001b[1m\u001b[36mcntrd->std\u001b[0m \u001b[1m≥\u001b[0m\u001b[0m 213.75397278771902) ∧ (\u001b[1m\u001b[33mmel1=409Hz->std\u001b[0m \u001b[1m≥\u001b[0m\u001b[0m 0.431783542045977)  ↣  Healthy : (ninstances = 36, ncovered = 2, coverage = 0.05555555555555555, confidence = 1.0, lift = 2.25, natoms = 5, height = 4)\n",
      "\u001b[34m▣\u001b[0m (\u001b[1m\u001b[36mflux->max\u001b[0m \u001b[1m<\u001b[0m\u001b[0m 7.489194711642208) ∧ (\u001b[1m\u001b[36msprd->std\u001b[0m \u001b[1m<\u001b[0m\u001b[0m 155.0391286023021) ∧ (\u001b[1m\u001b[33mmel14=3539Hz->std\u001b[0m \u001b[1m≥\u001b[0m\u001b[0m 0.16051373796176915) ∧ (\u001b[1m\u001b[33mmel11=2411Hz->3ac\u001b[0m \u001b[1m<\u001b[0m\u001b[0m 0.006044238683127572) ∧ (\u001b[1m\u001b[36mcntrd->bsd\u001b[0m \u001b[1m≥\u001b[0m\u001b[0m 4.5)  ↣  Healthy : (ninstances = 36, ncovered = 2, coverage = 0.05555555555555555, confidence = 1.0, lift = 2.25, natoms = 5, height = 4)\n",
      "\u001b[34m▣\u001b[0m (\u001b[1m\u001b[36mflux->max\u001b[0m \u001b[1m<\u001b[0m\u001b[0m 7.489194711642208) ∧ (\u001b[1m\u001b[36msprd->std\u001b[0m \u001b[1m<\u001b[0m\u001b[0m 155.0391286023021) ∧ (\u001b[1m\u001b[33mmel14=3539Hz->std\u001b[0m \u001b[1m≥\u001b[0m\u001b[0m 0.16051373796176915) ∧ (\u001b[1m\u001b[33mmel11=2411Hz->3ac\u001b[0m \u001b[1m<\u001b[0m\u001b[0m 0.006044238683127572) ∧ (\u001b[1m\u001b[36mcntrd->bsd\u001b[0m \u001b[1m<\u001b[0m\u001b[0m 4.5)  ↣  Bronchiectasis : (ninstances = 36, ncovered = 3, coverage = 0.08333333333333333, confidence = 0.6666666666666666, lift = 1.2, natoms = 5, height = 4)\n",
      "\u001b[34m▣\u001b[0m (\u001b[1m\u001b[36mflux->max\u001b[0m \u001b[1m<\u001b[0m\u001b[0m 7.489194711642208) ∧ (\u001b[1m\u001b[36msprd->std\u001b[0m \u001b[1m<\u001b[0m\u001b[0m 155.0391286023021) ∧ (\u001b[1m\u001b[33mmel14=3539Hz->std\u001b[0m \u001b[1m<\u001b[0m\u001b[0m 0.16051373796176915) ∧ (\u001b[1m\u001b[36mcntrd->std\u001b[0m \u001b[1m<\u001b[0m\u001b[0m 213.75397278771902) ∧ (\u001b[1m\u001b[33mmel11=2411Hz->qnt\u001b[0m \u001b[1m≥\u001b[0m\u001b[0m 1.8781197176888846)  ↣  Bronchiectasis : (ninstances = 36, ncovered = 3, coverage = 0.08333333333333333, confidence = 1.0, lift = 1.7999999999999998, natoms = 5, height = 4)\n",
      "\u001b[34m▣\u001b[0m (\u001b[1m\u001b[36mflux->max\u001b[0m \u001b[1m<\u001b[0m\u001b[0m 7.489194711642208) ∧ (\u001b[1m\u001b[36msprd->std\u001b[0m \u001b[1m<\u001b[0m\u001b[0m 155.0391286023021) ∧ (\u001b[1m\u001b[33mmel14=3539Hz->std\u001b[0m \u001b[1m≥\u001b[0m\u001b[0m 0.16051373796176915) ∧ (\u001b[1m\u001b[33mmel11=2411Hz->3ac\u001b[0m \u001b[1m≥\u001b[0m\u001b[0m 0.006044238683127572)  ↣  Healthy : (ninstances = 36, ncovered = 3, coverage = 0.08333333333333333, confidence = 1.0, lift = 2.25, natoms = 4, height = 3)\n",
      "\u001b[34m▣\u001b[0m (\u001b[1m\u001b[36mflux->max\u001b[0m \u001b[1m<\u001b[0m\u001b[0m 7.489194711642208) ∧ (\u001b[1m\u001b[36msprd->std\u001b[0m \u001b[1m≥\u001b[0m\u001b[0m 155.0391286023021)  ↣  Healthy : (ninstances = 36, ncovered = 8, coverage = 0.2222222222222222, confidence = 0.75, lift = 1.6875, natoms = 2, height = 1)\n",
      "\u001b[34m▣\u001b[0m (\u001b[1m\u001b[36mflux->max\u001b[0m \u001b[1m≥\u001b[0m\u001b[0m 7.489194711642208) ∧ (\u001b[1m\u001b[33mmel13=3124Hz->std\u001b[0m \u001b[1m<\u001b[0m\u001b[0m 0.4547766847788547)  ↣  Bronchiectasis : (ninstances = 36, ncovered = 11, coverage = 0.3055555555555556, confidence = 0.9090909090909091, lift = 1.6363636363636362, natoms = 2, height = 1)\n"
     ]
    }
   ],
   "source": [
    "printmodel.(sort(interesting_rules, by = readmetrics); show_metrics = (; round_digits = nothing, additional_metrics = (; height = r->SoleLogics.height(antecedent(r)))), variable_names_map = variable_names);"
   ]
  },
  {
   "cell_type": "markdown",
   "metadata": {},
   "source": [
    "### Pretty table of rules and their metrics"
   ]
  },
  {
   "cell_type": "code",
   "execution_count": 18,
   "metadata": {},
   "outputs": [
    {
     "name": "stdout",
     "output_type": "stream",
     "text": [
      "┌──────────────────────────────────────────────────────────────────────────────────────────────────────────────────────────────────────────────────────────────────────────────────────────────┬────────────────┬────────────┬──────────┬───────────┬────────────┬─────────┬────────┬────────┐\n",
      "│\u001b[33;1m                                                                                                                                                                                   Antecedent \u001b[0m│\u001b[33;1m     Consequent \u001b[0m│\u001b[33;1m ninstances \u001b[0m│\u001b[33;1m ncovered \u001b[0m│\u001b[33;1m  coverage \u001b[0m│\u001b[33;1m confidence \u001b[0m│\u001b[33;1m    lift \u001b[0m│\u001b[33;1m natoms \u001b[0m│\u001b[33;1m height \u001b[0m│\n",
      "├──────────────────────────────────────────────────────────────────────────────────────────────────────────────────────────────────────────────────────────────────────────────────────────────┼────────────────┼────────────┼──────────┼───────────┼────────────┼─────────┼────────┼────────┤\n",
      "│ (\u001b[1m\u001b[36mflux->max\u001b[0m \u001b[1m<\u001b[0m\u001b[0m 7.489194711642208) ∧ (\u001b[1m\u001b[36msprd->std\u001b[0m \u001b[1m<\u001b[0m\u001b[0m 155.0391286023021) ∧ (\u001b[1m\u001b[33mmel14=3539Hz->std\u001b[0m \u001b[1m<\u001b[0m\u001b[0m 0.16051373796176915) ∧ (\u001b[1m\u001b[36mcntrd->std\u001b[0m \u001b[1m<\u001b[0m\u001b[0m 213.75397278771902) ∧ (\u001b[1m\u001b[33mmel11=2411Hz->qnt\u001b[0m \u001b[1m≥\u001b[0m\u001b[0m 1.8781197176888846)\u001b[0m │ Bronchiectasis │         36 │        3 │ 0.0833333 │        1.0 │     1.8 │      5 │      4 │\n",
      "│    (\u001b[1m\u001b[36mflux->max\u001b[0m \u001b[1m<\u001b[0m\u001b[0m 7.489194711642208) ∧ (\u001b[1m\u001b[36msprd->std\u001b[0m \u001b[1m<\u001b[0m\u001b[0m 155.0391286023021) ∧ (\u001b[1m\u001b[33mmel14=3539Hz->std\u001b[0m \u001b[1m<\u001b[0m\u001b[0m 0.16051373796176915) ∧ (\u001b[1m\u001b[36mcntrd->std\u001b[0m \u001b[1m≥\u001b[0m\u001b[0m 213.75397278771902) ∧ (\u001b[1m\u001b[33mmel1=409Hz->std\u001b[0m \u001b[1m≥\u001b[0m\u001b[0m 0.431783542045977)\u001b[0m │        Healthy │         36 │        2 │ 0.0555556 │        1.0 │    2.25 │      5 │      4 │\n",
      "│              (\u001b[1m\u001b[36mflux->max\u001b[0m \u001b[1m<\u001b[0m\u001b[0m 7.489194711642208) ∧ (\u001b[1m\u001b[36msprd->std\u001b[0m \u001b[1m<\u001b[0m\u001b[0m 155.0391286023021) ∧ (\u001b[1m\u001b[33mmel14=3539Hz->std\u001b[0m \u001b[1m≥\u001b[0m\u001b[0m 0.16051373796176915) ∧ (\u001b[1m\u001b[33mmel11=2411Hz->3ac\u001b[0m \u001b[1m<\u001b[0m\u001b[0m 0.006044238683127572) ∧ (\u001b[1m\u001b[36mcntrd->bsd\u001b[0m \u001b[1m<\u001b[0m\u001b[0m 4.5)\u001b[0m │ Bronchiectasis │         36 │        3 │ 0.0833333 │   0.666667 │     1.2 │      5 │      4 │\n",
      "│              (\u001b[1m\u001b[36mflux->max\u001b[0m \u001b[1m<\u001b[0m\u001b[0m 7.489194711642208) ∧ (\u001b[1m\u001b[36msprd->std\u001b[0m \u001b[1m<\u001b[0m\u001b[0m 155.0391286023021) ∧ (\u001b[1m\u001b[33mmel14=3539Hz->std\u001b[0m \u001b[1m≥\u001b[0m\u001b[0m 0.16051373796176915) ∧ (\u001b[1m\u001b[33mmel11=2411Hz->3ac\u001b[0m \u001b[1m<\u001b[0m\u001b[0m 0.006044238683127572) ∧ (\u001b[1m\u001b[36mcntrd->bsd\u001b[0m \u001b[1m≥\u001b[0m\u001b[0m 4.5)\u001b[0m │        Healthy │         36 │        2 │ 0.0555556 │        1.0 │    2.25 │      5 │      4 │\n",
      "│                                   (\u001b[1m\u001b[36mflux->max\u001b[0m \u001b[1m<\u001b[0m\u001b[0m 7.489194711642208) ∧ (\u001b[1m\u001b[36msprd->std\u001b[0m \u001b[1m<\u001b[0m\u001b[0m 155.0391286023021) ∧ (\u001b[1m\u001b[33mmel14=3539Hz->std\u001b[0m \u001b[1m≥\u001b[0m\u001b[0m 0.16051373796176915) ∧ (\u001b[1m\u001b[33mmel11=2411Hz->3ac\u001b[0m \u001b[1m≥\u001b[0m\u001b[0m 0.006044238683127572)\u001b[0m │        Healthy │         36 │        3 │ 0.0833333 │        1.0 │    2.25 │      4 │      3 │\n",
      "│                                                                                                                            (\u001b[1m\u001b[36mflux->max\u001b[0m \u001b[1m<\u001b[0m\u001b[0m 7.489194711642208) ∧ (\u001b[1m\u001b[36msprd->std\u001b[0m \u001b[1m≥\u001b[0m\u001b[0m 155.0391286023021)\u001b[0m │        Healthy │         36 │        8 │  0.222222 │       0.75 │  1.6875 │      2 │      1 │\n",
      "│                                                                                                                   (\u001b[1m\u001b[36mflux->max\u001b[0m \u001b[1m≥\u001b[0m\u001b[0m 7.489194711642208) ∧ (\u001b[1m\u001b[33mmel13=3124Hz->std\u001b[0m \u001b[1m<\u001b[0m\u001b[0m 0.4547766847788547)\u001b[0m │ Bronchiectasis │         36 │       11 │  0.305556 │   0.909091 │ 1.63636 │      2 │      1 │\n",
      "└──────────────────────────────────────────────────────────────────────────────────────────────────────────────────────────────────────────────────────────────────────────────────────────────┴────────────────┴────────────┴──────────┴───────────┴────────────┴─────────┴────────┴────────┘\n"
     ]
    }
   ],
   "source": [
    "metricstable(interesting_rules; variable_names_map = variable_names, metrics_kwargs = (; round_digits = nothing, additional_metrics = (; height = r->SoleLogics.height(antecedent(r)))))"
   ]
  }
 ],
 "metadata": {
  "kernelspec": {
   "display_name": "Julia 1.10.4",
   "language": "julia",
   "name": "julia-1.10"
  },
  "language_info": {
   "file_extension": ".jl",
   "mimetype": "application/julia",
   "name": "julia",
   "version": "1.10.4"
  }
 },
 "nbformat": 4,
 "nbformat_minor": 2
}
