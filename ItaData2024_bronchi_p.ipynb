{
 "cells": [
  {
   "cell_type": "markdown",
   "metadata": {},
   "source": [
    "# ItaData2024\n",
    "propositional example"
   ]
  },
  {
   "cell_type": "code",
   "execution_count": null,
   "metadata": {},
   "outputs": [],
   "source": [
    "using Pkg\n",
    "Pkg.activate(\".\")\n",
    "using MLJ, ModalDecisionTrees\n",
    "using SoleDecisionTreeInterface, Sole, SoleData\n",
    "using CategoricalArrays\n",
    "using DataFrames, JLD2, CSV\n",
    "using Audio911\n",
    "using Random\n",
    "using StatsBase, Catch22\n",
    "using Test\n",
    "using Plots"
   ]
  },
  {
   "cell_type": "markdown",
   "metadata": {},
   "source": [
    "### Settings"
   ]
  },
  {
   "cell_type": "code",
   "execution_count": 5,
   "metadata": {},
   "outputs": [],
   "source": [
    "sr = 8000\n",
    "audioparams = (\n",
    "    sr = sr,\n",
    "    nfft = 256,\n",
    "    nbands = 14,\n",
    "    freq_range = (300, round(Int, sr / 2)),\n",
    "    db_scale = true,\n",
    ")\n",
    "\n",
    "# experiment = :pneumonia\n",
    "experiment = :bronchiectasis\n",
    "\n",
    "findhealthy = y -> findall(x -> x == \"Healthy\", y)\n",
    "if experiment == :pneumonia\n",
    "    ds_path = \"/datasets/respiratory_Healthy_Pneumonia\"\n",
    "    findsick = y -> findall(x -> x == \"Pneumonia\", y)\n",
    "elseif experiment == :bronchiectasis\n",
    "    ds_path = \"/datasets/respiratory_Healthy_Bronchiectasis\"\n",
    "    findsick = y -> findall(x -> x == \"Bronchiectasis\", y)\n",
    "else\n",
    "    error(\"Unknown type of experiment: $experiment.\")\n",
    "end\n",
    "\n",
    "d = jldopen(string((@__DIR__), ds_path, \".jld2\"))\n",
    "x, y = d[\"dataframe_validated\"]\n",
    "@assert x isa DataFrame\n",
    "close(d)"
   ]
  },
  {
   "cell_type": "markdown",
   "metadata": {},
   "source": [
    "### Audio features extraction function\n",
    "This function is called for every audio sample and extract 25 features:\n",
    "14 bands of the mel spectrogram,\n",
    "11 spectral features: centroid, crest, entropy, flatness, flux, kurtosis, rolloff, skewness, decrease, slope, spread"
   ]
  },
  {
   "cell_type": "code",
   "execution_count": 4,
   "metadata": {},
   "outputs": [
    {
     "data": {
      "text/plain": [
       "afe (generic function with 1 method)"
      ]
     },
     "metadata": {},
     "output_type": "display_data"
    }
   ],
   "source": [
    "function afe(x::AbstractVector{Float64}; sr::Int64, nfft::Int64, nbands::Int64, freq_range::Tuple{Int64, Int64}, db_scale::Bool, get_only_melfreq=false)\n",
    "    # -------------------------------- parameters -------------------------------- #\n",
    "    # audio module\n",
    "    sr = sr\n",
    "    norm = true\n",
    "    speech_detection = false\n",
    "    # stft module\n",
    "    nfft = nfft\n",
    "    win_type = (:hann, :periodic)\n",
    "    win_length = nfft\n",
    "    overlap_length = round(Int, nfft / 2)\n",
    "    stft_norm = :power                      # :power, :magnitude, :pow2mag\n",
    "    # mel filterbank module\n",
    "    nbands = nbands\n",
    "    scale = :mel_htk                        # :mel_htk, :mel_slaney, :erb, :bark\n",
    "    melfb_norm = :bandwidth                 # :bandwidth, :area, :none\n",
    "    freq_range = freq_range\n",
    "    # mel spectrogram module\n",
    "    db_scale = db_scale\n",
    "\n",
    "    # --------------------------------- functions -------------------------------- #\n",
    "    # audio module\n",
    "    audio = load_audio(\n",
    "        file=x,\n",
    "        sr=sr,\n",
    "        norm=norm,\n",
    "    );\n",
    "\n",
    "    stftspec = get_stft(\n",
    "        audio=audio,\n",
    "        nfft=nfft,\n",
    "        win_type=win_type,\n",
    "        win_length=win_length,\n",
    "        overlap_length=overlap_length,\n",
    "        norm=stft_norm\n",
    "    );\n",
    "\n",
    "    # mel filterbank module\n",
    "    melfb = get_melfb(\n",
    "        stft=stftspec,\n",
    "        nbands=nbands,\n",
    "        scale=scale,\n",
    "        norm=melfb_norm,\n",
    "        freq_range=freq_range\n",
    "    );\n",
    "\n",
    "    if get_only_melfreq\n",
    "        return melfb.data.freq\n",
    "    end\n",
    "\n",
    "    # mel spectrogram module\n",
    "    melspec =  get_melspec(\n",
    "        stft=stftspec,\n",
    "        fbank=melfb,\n",
    "        db_scale=db_scale\n",
    "    );\n",
    "\n",
    "    # spectral features module\n",
    "    spect = get_spectrals(\n",
    "        source=stftspec,\n",
    "        freq_range=freq_range\n",
    "    );\n",
    "\n",
    "    hcat(\n",
    "        melspec.spec',\n",
    "        spect.centroid,\n",
    "        spect.crest,\n",
    "        spect.entropy,\n",
    "        spect.flatness,\n",
    "        spect.flux,\n",
    "        spect.kurtosis,\n",
    "        spect.rolloff,\n",
    "        spect.skewness,\n",
    "        spect.decrease,\n",
    "        spect.slope,\n",
    "        spect.spread\n",
    "    );\n",
    "end"
   ]
  },
  {
   "cell_type": "markdown",
   "metadata": {},
   "source": [
    "### Prepare dataset for analysis"
   ]
  },
  {
   "cell_type": "code",
   "execution_count": 6,
   "metadata": {},
   "outputs": [
    {
     "name": "stdout",
     "output_type": "stream",
     "text": [
      "Training set size: (144, 225) - 144\n",
      "Test set size: (36, 225) - 36\n"
     ]
    }
   ],
   "source": [
    "color_code = Dict(:red => 31, :green => 32, :yellow => 33, :blue => 34, :magenta => 35, :cyan => 36)\n",
    "freq = round.(Int, afe(x[1, :audio]; audioparams..., get_only_melfreq=true))\n",
    "r_select = r\"\\e\\[\\d+m(.*?)\\e\\[0m\"\n",
    "\n",
    "catch9_f = [\"max\", \"min\", \"mean\", \"med\", \"std\", \"bsm\", \"bsd\", \"qnt\", \"3ac\"]\n",
    "variable_names = vcat([\n",
    "    vcat(\n",
    "        [\"\\e[$(color_code[:yellow])mmel$i=$(freq[i])Hz->$j\\e[0m\" for i in 1:audioparams.nbands]...,\n",
    "        \"\\e[$(color_code[:cyan])mcntrd->$j\\e[0m\", \"\\e[$(color_code[:cyan])mcrest->$j\\e[0m\",\n",
    "        \"\\e[$(color_code[:cyan])mentrp->$j\\e[0m\", \"\\e[$(color_code[:cyan])mflatn->$j\\e[0m\", \"\\e[$(color_code[:cyan])mflux->$j\\e[0m\",\n",
    "        \"\\e[$(color_code[:cyan])mkurts->$j\\e[0m\", \"\\e[$(color_code[:cyan])mrllff->$j\\e[0m\", \"\\e[$(color_code[:cyan])mskwns->$j\\e[0m\",\n",
    "        \"\\e[$(color_code[:cyan])mdecrs->$j\\e[0m\", \"\\e[$(color_code[:cyan])mslope->$j\\e[0m\", \"\\e[$(color_code[:cyan])msprd->$j\\e[0m\"\n",
    "    )\n",
    "    for j in catch9_f\n",
    "]...)\n",
    "\n",
    "catch9 = [\n",
    "    maximum,\n",
    "    minimum,\n",
    "    StatsBase.mean,\n",
    "    median,\n",
    "    std,\n",
    "    Catch22.SB_BinaryStats_mean_longstretch1,\n",
    "    Catch22.SB_BinaryStats_diff_longstretch0,\n",
    "    Catch22.SB_MotifThree_quantile_hh,\n",
    "    Catch22.SB_TransitionMatrix_3ac_sumdiagcov,\n",
    "]\n",
    "\n",
    "X = DataFrame([name => Float64[] for name in [match(r_select, v)[1] for v in variable_names]])\n",
    "\n",
    "audio_feats = [afe(row[:audio]; audioparams...) for row in eachrow(x)]\n",
    "push!(X, vcat([vcat([map(func, eachcol(row)) for func in catch9]...) for row in audio_feats])...)\n",
    "\n",
    "yc = CategoricalArray(y)\n",
    "\n",
    "train_ratio = 0.8\n",
    "\n",
    "train, test = partition(eachindex(yc), train_ratio, shuffle=true)\n",
    "X_train, y_train = X[train, :], yc[train]\n",
    "X_test, y_test = X[test, :], yc[test]\n",
    "\n",
    "println(\"Training set size: \", size(X_train), \" - \", length(y_train))\n",
    "println(\"Test set size: \", size(X_test), \" - \", length(y_test))"
   ]
  },
  {
   "cell_type": "markdown",
   "metadata": {},
   "source": [
    "### Train a model"
   ]
  },
  {
   "cell_type": "code",
   "execution_count": 7,
   "metadata": {},
   "outputs": [
    {
     "name": "stderr",
     "output_type": "stream",
     "text": [
      "┌ Info: For silent loading, specify `verbosity=0`. \n",
      "└ @ Main /home/paso/.julia/packages/MLJModels/8W54X/src/loading.jl:159\n"
     ]
    },
    {
     "name": "stdout",
     "output_type": "stream",
     "text": [
      "import MLJDecisionTreeInterface ✔\n"
     ]
    },
    {
     "name": "stderr",
     "output_type": "stream",
     "text": [
      "┌ Info: Training machine(DecisionTreeClassifier(max_depth = -1, …), …).\n",
      "└ @ MLJBase /home/paso/.julia/packages/MLJBase/7nGJF/src/machines.jl:499\n"
     ]
    },
    {
     "data": {
      "text/plain": [
       "cntrd->std < 205.2\n",
       "├─ mel14=3539Hz->std < 0.1596\n",
       "│  ├─ sprd->bsd < 3.5\n",
       "│  │  ├─ mel3=663Hz->mean < -4.721\n",
       "│  │  │  ├─ Bronchiectasis (1/1)\n",
       "│  │  │  └─ Healthy (2/2)\n",
       "│  │  └─ Bronchiectasis (53/53)\n",
       "│  └─ flux->std < 2.189\n",
       "│     ├─ mel10=2106Hz->bsm < 5.5\n",
       "│     │  ├─ Bronchiectasis (3/3)\n",
       "│     │  └─ mel12=2749Hz->qnt < 2.153\n",
       "│     │     ├─ Healthy (20/20)\n",
       "│     │     └─ mel1=409Hz->bsd < 4.5\n",
       "│     │        ⋮\n",
       "│     │        \n",
       "│     └─ Bronchiectasis (10/10)\n",
       "└─ crest->3ac < 0.001894\n",
       "   ├─ Bronchiectasis (2/2)\n",
       "   └─ Healthy (47/47)\n"
      ]
     },
     "metadata": {},
     "output_type": "display_data"
    }
   ],
   "source": [
    "learned_dt_tree = begin\n",
    "    Tree = MLJ.@load DecisionTreeClassifier pkg=DecisionTree\n",
    "    model = Tree(max_depth=-1, )\n",
    "    mach = machine(model, X_train, y_train)\n",
    "    fit!(mach)\n",
    "    fitted_params(mach).tree\n",
    "end"
   ]
  },
  {
   "cell_type": "markdown",
   "metadata": {},
   "source": [
    "### Model inspection & rule study"
   ]
  },
  {
   "cell_type": "code",
   "execution_count": 9,
   "metadata": {},
   "outputs": [
    {
     "name": "stdout",
     "output_type": "stream",
     "text": [
      "\u001b[34m▣\u001b[0m \u001b[1m\u001b[36mcntrd->std\u001b[0m \u001b[1m<\u001b[0m\u001b[0m 205.24230138276204\n",
      "├✔ \u001b[1m\u001b[33mmel14=3539Hz->std\u001b[0m \u001b[1m<\u001b[0m\u001b[0m 0.15958429401866944\n",
      "│├✔ \u001b[1m\u001b[36msprd->bsd\u001b[0m \u001b[1m<\u001b[0m\u001b[0m 3.5\n",
      "││├✔ \u001b[1m\u001b[33mmel3=663Hz->mean\u001b[0m \u001b[1m<\u001b[0m\u001b[0m -4.720543021588663\n",
      "│││├✔ Bronchiectasis : (ninstances = 0, ncovered = 0, confidence = NaN, lift = NaN)\n",
      "│││└✘ Healthy : (ninstances = 1, ncovered = 1, confidence = 1.0, lift = 1.0)\n",
      "││└✘ Bronchiectasis : (ninstances = 14, ncovered = 14, confidence = 1.0, lift = 1.0)\n",
      "│└✘ \u001b[1m\u001b[36mflux->std\u001b[0m \u001b[1m<\u001b[0m\u001b[0m 2.1888435089149336\n",
      "│ ├✔ \u001b[1m\u001b[33mmel10=2106Hz->bsm\u001b[0m \u001b[1m<\u001b[0m\u001b[0m 5.5\n",
      "│ │├✔ Bronchiectasis : (ninstances = 1, ncovered = 1, confidence = 1.0, lift = 1.0)\n",
      "│ │└✘ \u001b[1m\u001b[33mmel12=2749Hz->qnt\u001b[0m \u001b[1m<\u001b[0m\u001b[0m 2.153065633845543\n",
      "│ │ ├✔ Healthy : (ninstances = 5, ncovered = 5, confidence = 1.0, lift = 1.0)\n",
      "│ │ └✘ \u001b[1m\u001b[33mmel1=409Hz->bsd\u001b[0m \u001b[1m<\u001b[0m\u001b[0m 4.5\n",
      "│ │  ├✔ Healthy : (ninstances = 1, ncovered = 1, confidence = 1.0, lift = 1.0)\n",
      "│ │  └✘ Bronchiectasis : (ninstances = 4, ncovered = 4, confidence = 0.5, lift = 1.0)\n",
      "│ └✘ Bronchiectasis : (ninstances = 1, ncovered = 1, confidence = 1.0, lift = 1.0)\n",
      "└✘ \u001b[1m\u001b[36mcrest->3ac\u001b[0m \u001b[1m<\u001b[0m\u001b[0m 0.0018940205660926664\n",
      " ├✔ Bronchiectasis : (ninstances = 0, ncovered = 0, confidence = NaN, lift = NaN)\n",
      " └✘ Healthy : (ninstances = 9, ncovered = 9, confidence = 0.89, lift = 1.0)\n"
     ]
    }
   ],
   "source": [
    "sole_dt = solemodel(learned_dt_tree)\n",
    "# Make test instances flow into the model, so that test metrics can, then, be computed.\n",
    "apply!(sole_dt, X_test, y_test);\n",
    "# Print Sole model\n",
    "printmodel(sole_dt; show_metrics = true, variable_names_map = variable_names);"
   ]
  },
  {
   "cell_type": "markdown",
   "metadata": {},
   "source": [
    "### Extract rules that are at least as good as a random baseline model"
   ]
  },
  {
   "cell_type": "code",
   "execution_count": 10,
   "metadata": {},
   "outputs": [
    {
     "name": "stdout",
     "output_type": "stream",
     "text": [
      "\u001b[34m▣\u001b[0m (\u001b[1m\u001b[36mcntrd->std\u001b[0m \u001b[1m<\u001b[0m\u001b[0m 205.24230138276204) ∧ (\u001b[1m\u001b[33mmel14=3539Hz->std\u001b[0m \u001b[1m<\u001b[0m\u001b[0m 0.15958429401866944) ∧ (\u001b[1m\u001b[36msprd->bsd\u001b[0m \u001b[1m<\u001b[0m\u001b[0m 3.5) ∧ (¬(\u001b[1m\u001b[33mmel3=663Hz->mean\u001b[0m \u001b[1m<\u001b[0m\u001b[0m -4.720543021588663))  ↣  Healthy : (ninstances = 36, ncovered = 1, coverage = 0.03, confidence = 1.0, lift = 2.12, natoms = 4)\n",
      "\u001b[34m▣\u001b[0m (\u001b[1m\u001b[36mcntrd->std\u001b[0m \u001b[1m<\u001b[0m\u001b[0m 205.24230138276204) ∧ (\u001b[1m\u001b[33mmel14=3539Hz->std\u001b[0m \u001b[1m<\u001b[0m\u001b[0m 0.15958429401866944) ∧ (¬(\u001b[1m\u001b[36msprd->bsd\u001b[0m \u001b[1m<\u001b[0m\u001b[0m 3.5))  ↣  Bronchiectasis : (ninstances = 36, ncovered = 14, coverage = 0.39, confidence = 1.0, lift = 1.89, natoms = 3)\n",
      "\u001b[34m▣\u001b[0m (\u001b[1m\u001b[36mcntrd->std\u001b[0m \u001b[1m<\u001b[0m\u001b[0m 205.24230138276204) ∧ (¬(\u001b[1m\u001b[33mmel14=3539Hz->std\u001b[0m \u001b[1m<\u001b[0m\u001b[0m 0.15958429401866944)) ∧ (\u001b[1m\u001b[36mflux->std\u001b[0m \u001b[1m<\u001b[0m\u001b[0m 2.1888435089149336) ∧ (\u001b[1m\u001b[33mmel10=2106Hz->bsm\u001b[0m \u001b[1m<\u001b[0m\u001b[0m 5.5)  ↣  Bronchiectasis : (ninstances = 36, ncovered = 1, coverage = 0.03, confidence = 1.0, lift = 1.89, natoms = 4)\n",
      "\u001b[34m▣\u001b[0m (\u001b[1m\u001b[36mcntrd->std\u001b[0m \u001b[1m<\u001b[0m\u001b[0m 205.24230138276204) ∧ (¬(\u001b[1m\u001b[33mmel14=3539Hz->std\u001b[0m \u001b[1m<\u001b[0m\u001b[0m 0.15958429401866944)) ∧ (\u001b[1m\u001b[36mflux->std\u001b[0m \u001b[1m<\u001b[0m\u001b[0m 2.1888435089149336) ∧ (¬(\u001b[1m\u001b[33mmel10=2106Hz->bsm\u001b[0m \u001b[1m<\u001b[0m\u001b[0m 5.5)) ∧ (\u001b[1m\u001b[33mmel12=2749Hz->qnt\u001b[0m \u001b[1m<\u001b[0m\u001b[0m 2.153065633845543)  ↣  Healthy : (ninstances = 36, ncovered = 5, coverage = 0.14, confidence = 1.0, lift = 2.12, natoms = 5)\n",
      "\u001b[34m▣\u001b[0m (\u001b[1m\u001b[36mcntrd->std\u001b[0m \u001b[1m<\u001b[0m\u001b[0m 205.24230138276204) ∧ (¬(\u001b[1m\u001b[33mmel14=3539Hz->std\u001b[0m \u001b[1m<\u001b[0m\u001b[0m 0.15958429401866944)) ∧ (\u001b[1m\u001b[36mflux->std\u001b[0m \u001b[1m<\u001b[0m\u001b[0m 2.1888435089149336) ∧ (¬(\u001b[1m\u001b[33mmel10=2106Hz->bsm\u001b[0m \u001b[1m<\u001b[0m\u001b[0m 5.5)) ∧ (¬(\u001b[1m\u001b[33mmel12=2749Hz->qnt\u001b[0m \u001b[1m<\u001b[0m\u001b[0m 2.153065633845543)) ∧ (\u001b[1m\u001b[33mmel1=409Hz->bsd\u001b[0m \u001b[1m<\u001b[0m\u001b[0m 4.5)  ↣  Healthy : (ninstances = 36, ncovered = 1, coverage = 0.03, confidence = 1.0, lift = 2.12, natoms = 6)\n",
      "\u001b[34m▣\u001b[0m (\u001b[1m\u001b[36mcntrd->std\u001b[0m \u001b[1m<\u001b[0m\u001b[0m 205.24230138276204) ∧ (¬(\u001b[1m\u001b[33mmel14=3539Hz->std\u001b[0m \u001b[1m<\u001b[0m\u001b[0m 0.15958429401866944)) ∧ (¬(\u001b[1m\u001b[36mflux->std\u001b[0m \u001b[1m<\u001b[0m\u001b[0m 2.1888435089149336))  ↣  Bronchiectasis : (ninstances = 36, ncovered = 1, coverage = 0.03, confidence = 1.0, lift = 1.89, natoms = 3)\n",
      "\u001b[34m▣\u001b[0m (¬(\u001b[1m\u001b[36mcntrd->std\u001b[0m \u001b[1m<\u001b[0m\u001b[0m 205.24230138276204)) ∧ (¬(\u001b[1m\u001b[36mcrest->3ac\u001b[0m \u001b[1m<\u001b[0m\u001b[0m 0.0018940205660926664))  ↣  Healthy : (ninstances = 36, ncovered = 9, coverage = 0.25, confidence = 0.89, lift = 1.88, natoms = 2)\n"
     ]
    }
   ],
   "source": [
    "interesting_rules = listrules(sole_dt, min_lift = 1.0, min_ninstances = 0);\n",
    "printmodel.(interesting_rules; show_metrics = true, variable_names_map = variable_names);"
   ]
  },
  {
   "cell_type": "markdown",
   "metadata": {},
   "source": [
    "### Simplify rules while extracting and prettify result"
   ]
  },
  {
   "cell_type": "code",
   "execution_count": 11,
   "metadata": {},
   "outputs": [
    {
     "name": "stdout",
     "output_type": "stream",
     "text": [
      "\u001b[34m▣\u001b[0m (\u001b[1m\u001b[36mcntrd->std\u001b[0m \u001b[1m<\u001b[0m\u001b[0m 205.24) ∧ (\u001b[1m\u001b[33mmel14=3539Hz->std\u001b[0m \u001b[1m<\u001b[0m\u001b[0m 0.16) ∧ (\u001b[1m\u001b[36msprd->bsd\u001b[0m \u001b[1m<\u001b[0m\u001b[0m 3.5) ∧ (\u001b[1m\u001b[33mmel3=663Hz->mean\u001b[0m \u001b[1m≥\u001b[0m\u001b[0m -4.72)  ↣  Healthy : (ninstances = 36, ncovered = 1, coverage = 0.03, confidence = 1.0, lift = 2.12, natoms = 4)\n",
      "\u001b[34m▣\u001b[0m (\u001b[1m\u001b[36mcntrd->std\u001b[0m \u001b[1m<\u001b[0m\u001b[0m 205.24) ∧ (\u001b[1m\u001b[33mmel14=3539Hz->std\u001b[0m \u001b[1m<\u001b[0m\u001b[0m 0.16) ∧ (\u001b[1m\u001b[36msprd->bsd\u001b[0m \u001b[1m≥\u001b[0m\u001b[0m 3.5)  ↣  Bronchiectasis : (ninstances = 36, ncovered = 14, coverage = 0.39, confidence = 1.0, lift = 1.89, natoms = 3)\n",
      "\u001b[34m▣\u001b[0m (\u001b[1m\u001b[36mcntrd->std\u001b[0m \u001b[1m<\u001b[0m\u001b[0m 205.24) ∧ (\u001b[1m\u001b[33mmel14=3539Hz->std\u001b[0m \u001b[1m≥\u001b[0m\u001b[0m 0.16) ∧ (\u001b[1m\u001b[36mflux->std\u001b[0m \u001b[1m<\u001b[0m\u001b[0m 2.19) ∧ (\u001b[1m\u001b[33mmel10=2106Hz->bsm\u001b[0m \u001b[1m<\u001b[0m\u001b[0m 5.5)  ↣  Bronchiectasis : (ninstances = 36, ncovered = 1, coverage = 0.03, confidence = 1.0, lift = 1.89, natoms = 4)\n",
      "\u001b[34m▣\u001b[0m (\u001b[1m\u001b[36mcntrd->std\u001b[0m \u001b[1m<\u001b[0m\u001b[0m 205.24) ∧ (\u001b[1m\u001b[33mmel14=3539Hz->std\u001b[0m \u001b[1m≥\u001b[0m\u001b[0m 0.16) ∧ (\u001b[1m\u001b[36mflux->std\u001b[0m \u001b[1m<\u001b[0m\u001b[0m 2.19) ∧ (\u001b[1m\u001b[33mmel10=2106Hz->bsm\u001b[0m \u001b[1m≥\u001b[0m\u001b[0m 5.5) ∧ (\u001b[1m\u001b[33mmel12=2749Hz->qnt\u001b[0m \u001b[1m<\u001b[0m\u001b[0m 2.15)  ↣  Healthy : (ninstances = 36, ncovered = 5, coverage = 0.14, confidence = 1.0, lift = 2.12, natoms = 5)\n",
      "\u001b[34m▣\u001b[0m (\u001b[1m\u001b[36mcntrd->std\u001b[0m \u001b[1m<\u001b[0m\u001b[0m 205.24) ∧ (\u001b[1m\u001b[33mmel14=3539Hz->std\u001b[0m \u001b[1m≥\u001b[0m\u001b[0m 0.16) ∧ (\u001b[1m\u001b[36mflux->std\u001b[0m \u001b[1m<\u001b[0m\u001b[0m 2.19) ∧ (\u001b[1m\u001b[33mmel10=2106Hz->bsm\u001b[0m \u001b[1m≥\u001b[0m\u001b[0m 5.5) ∧ (\u001b[1m\u001b[33mmel12=2749Hz->qnt\u001b[0m \u001b[1m≥\u001b[0m\u001b[0m 2.15) ∧ (\u001b[1m\u001b[33mmel1=409Hz->bsd\u001b[0m \u001b[1m<\u001b[0m\u001b[0m 4.5)  ↣  Healthy : (ninstances = 36, ncovered = 1, coverage = 0.03, confidence = 1.0, lift = 2.12, natoms = 6)\n",
      "\u001b[34m▣\u001b[0m (\u001b[1m\u001b[36mcntrd->std\u001b[0m \u001b[1m<\u001b[0m\u001b[0m 205.24) ∧ (\u001b[1m\u001b[33mmel14=3539Hz->std\u001b[0m \u001b[1m≥\u001b[0m\u001b[0m 0.16) ∧ (\u001b[1m\u001b[36mflux->std\u001b[0m \u001b[1m≥\u001b[0m\u001b[0m 2.19)  ↣  Bronchiectasis : (ninstances = 36, ncovered = 1, coverage = 0.03, confidence = 1.0, lift = 1.89, natoms = 3)\n",
      "\u001b[34m▣\u001b[0m (\u001b[1m\u001b[36mcntrd->std\u001b[0m \u001b[1m≥\u001b[0m\u001b[0m 205.24) ∧ (\u001b[1m\u001b[36mcrest->3ac\u001b[0m \u001b[1m≥\u001b[0m\u001b[0m 0.0)  ↣  Healthy : (ninstances = 36, ncovered = 9, coverage = 0.25, confidence = 0.89, lift = 1.88, natoms = 2)\n"
     ]
    }
   ],
   "source": [
    "interesting_rules = listrules(sole_dt, min_lift = 1.0, min_ninstances = 0, normalize = true);\n",
    "printmodel.(interesting_rules; show_metrics = true, syntaxstring_kwargs = (; threshold_digits = 2), variable_names_map = variable_names);"
   ]
  },
  {
   "cell_type": "markdown",
   "metadata": {},
   "source": [
    "### Directly access rule metrics"
   ]
  },
  {
   "cell_type": "code",
   "execution_count": 12,
   "metadata": {},
   "outputs": [
    {
     "data": {
      "text/plain": [
       "7-element Vector{@NamedTuple{ninstances::Int64, ncovered::Int64, coverage::Float64, confidence::Float64, lift::Float64, natoms::Int64}}:\n",
       " (ninstances = 36, ncovered = 1, coverage = 0.027777777777777776, confidence = 1.0, lift = 2.1176470588235294, natoms = 4)\n",
       " (ninstances = 36, ncovered = 14, coverage = 0.3888888888888889, confidence = 1.0, lift = 1.894736842105263, natoms = 3)\n",
       " (ninstances = 36, ncovered = 1, coverage = 0.027777777777777776, confidence = 1.0, lift = 1.894736842105263, natoms = 4)\n",
       " (ninstances = 36, ncovered = 5, coverage = 0.1388888888888889, confidence = 1.0, lift = 2.1176470588235294, natoms = 5)\n",
       " (ninstances = 36, ncovered = 1, coverage = 0.027777777777777776, confidence = 1.0, lift = 2.1176470588235294, natoms = 6)\n",
       " (ninstances = 36, ncovered = 1, coverage = 0.027777777777777776, confidence = 1.0, lift = 1.894736842105263, natoms = 3)\n",
       " (ninstances = 36, ncovered = 9, coverage = 0.25, confidence = 0.8888888888888888, lift = 1.8823529411764706, natoms = 2)"
      ]
     },
     "metadata": {},
     "output_type": "display_data"
    }
   ],
   "source": [
    "readmetrics.(listrules(sole_dt; min_lift=1.0, min_ninstances = 0))"
   ]
  },
  {
   "cell_type": "markdown",
   "metadata": {},
   "source": [
    "### Show rules with an additional metric (syntax height of the rule's antecedent)"
   ]
  },
  {
   "cell_type": "code",
   "execution_count": 13,
   "metadata": {},
   "outputs": [
    {
     "name": "stdout",
     "output_type": "stream",
     "text": [
      "\u001b[34m▣\u001b[0m (\u001b[1m\u001b[36mcntrd->std\u001b[0m \u001b[1m<\u001b[0m\u001b[0m 205.24230138276204) ∧ (\u001b[1m\u001b[33mmel14=3539Hz->std\u001b[0m \u001b[1m≥\u001b[0m\u001b[0m 0.15958429401866944) ∧ (\u001b[1m\u001b[36mflux->std\u001b[0m \u001b[1m≥\u001b[0m\u001b[0m 2.1888435089149336)  ↣  Bronchiectasis : (ninstances = 36, ncovered = 1, coverage = 0.027777777777777776, confidence = 1.0, lift = 1.894736842105263, natoms = 3, height = 2)\n",
      "\u001b[34m▣\u001b[0m (\u001b[1m\u001b[36mcntrd->std\u001b[0m \u001b[1m<\u001b[0m\u001b[0m 205.24230138276204) ∧ (\u001b[1m\u001b[33mmel14=3539Hz->std\u001b[0m \u001b[1m≥\u001b[0m\u001b[0m 0.15958429401866944) ∧ (\u001b[1m\u001b[36mflux->std\u001b[0m \u001b[1m<\u001b[0m\u001b[0m 2.1888435089149336) ∧ (\u001b[1m\u001b[33mmel10=2106Hz->bsm\u001b[0m \u001b[1m<\u001b[0m\u001b[0m 5.5)  ↣  Bronchiectasis : (ninstances = 36, ncovered = 1, coverage = 0.027777777777777776, confidence = 1.0, lift = 1.894736842105263, natoms = 4, height = 3)\n",
      "\u001b[34m▣\u001b[0m (\u001b[1m\u001b[36mcntrd->std\u001b[0m \u001b[1m<\u001b[0m\u001b[0m 205.24230138276204) ∧ (\u001b[1m\u001b[33mmel14=3539Hz->std\u001b[0m \u001b[1m<\u001b[0m\u001b[0m 0.15958429401866944) ∧ (\u001b[1m\u001b[36msprd->bsd\u001b[0m \u001b[1m<\u001b[0m\u001b[0m 3.5) ∧ (\u001b[1m\u001b[33mmel3=663Hz->mean\u001b[0m \u001b[1m≥\u001b[0m\u001b[0m -4.720543021588663)  ↣  Healthy : (ninstances = 36, ncovered = 1, coverage = 0.027777777777777776, confidence = 1.0, lift = 2.1176470588235294, natoms = 4, height = 3)\n",
      "\u001b[34m▣\u001b[0m (\u001b[1m\u001b[36mcntrd->std\u001b[0m \u001b[1m<\u001b[0m\u001b[0m 205.24230138276204) ∧ (\u001b[1m\u001b[33mmel14=3539Hz->std\u001b[0m \u001b[1m≥\u001b[0m\u001b[0m 0.15958429401866944) ∧ (\u001b[1m\u001b[36mflux->std\u001b[0m \u001b[1m<\u001b[0m\u001b[0m 2.1888435089149336) ∧ (\u001b[1m\u001b[33mmel10=2106Hz->bsm\u001b[0m \u001b[1m≥\u001b[0m\u001b[0m 5.5) ∧ (\u001b[1m\u001b[33mmel12=2749Hz->qnt\u001b[0m \u001b[1m≥\u001b[0m\u001b[0m 2.153065633845543) ∧ (\u001b[1m\u001b[33mmel1=409Hz->bsd\u001b[0m \u001b[1m<\u001b[0m\u001b[0m 4.5)  ↣  Healthy : (ninstances = 36, ncovered = 1, coverage = 0.027777777777777776, confidence = 1.0, lift = 2.1176470588235294, natoms = 6, height = 5)\n",
      "\u001b[34m▣\u001b[0m (\u001b[1m\u001b[36mcntrd->std\u001b[0m \u001b[1m<\u001b[0m\u001b[0m 205.24230138276204) ∧ (\u001b[1m\u001b[33mmel14=3539Hz->std\u001b[0m \u001b[1m≥\u001b[0m\u001b[0m 0.15958429401866944) ∧ (\u001b[1m\u001b[36mflux->std\u001b[0m \u001b[1m<\u001b[0m\u001b[0m 2.1888435089149336) ∧ (\u001b[1m\u001b[33mmel10=2106Hz->bsm\u001b[0m \u001b[1m≥\u001b[0m\u001b[0m 5.5) ∧ (\u001b[1m\u001b[33mmel12=2749Hz->qnt\u001b[0m \u001b[1m<\u001b[0m\u001b[0m 2.153065633845543)  ↣  Healthy : (ninstances = 36, ncovered = 5, coverage = 0.1388888888888889, confidence = 1.0, lift = 2.1176470588235294, natoms = 5, height = 4)\n",
      "\u001b[34m▣\u001b[0m (\u001b[1m\u001b[36mcntrd->std\u001b[0m \u001b[1m≥\u001b[0m\u001b[0m 205.24230138276204) ∧ (\u001b[1m\u001b[36mcrest->3ac\u001b[0m \u001b[1m≥\u001b[0m\u001b[0m 0.0018940205660926664)  ↣  Healthy : (ninstances = 36, ncovered = 9, coverage = 0.25, confidence = 0.8888888888888888, lift = 1.8823529411764706, natoms = 2, height = 1)\n",
      "\u001b[34m▣\u001b[0m (\u001b[1m\u001b[36mcntrd->std\u001b[0m \u001b[1m<\u001b[0m\u001b[0m 205.24230138276204) ∧ (\u001b[1m\u001b[33mmel14=3539Hz->std\u001b[0m \u001b[1m<\u001b[0m\u001b[0m 0.15958429401866944) ∧ (\u001b[1m\u001b[36msprd->bsd\u001b[0m \u001b[1m≥\u001b[0m\u001b[0m 3.5)  ↣  Bronchiectasis : (ninstances = 36, ncovered = 14, coverage = 0.3888888888888889, confidence = 1.0, lift = 1.894736842105263, natoms = 3, height = 2)\n"
     ]
    }
   ],
   "source": [
    "printmodel.(sort(interesting_rules, by = readmetrics); show_metrics = (; round_digits = nothing, additional_metrics = (; height = r->SoleLogics.height(antecedent(r)))), variable_names_map = variable_names);"
   ]
  },
  {
   "cell_type": "markdown",
   "metadata": {},
   "source": [
    "### Pretty table of rules and their metrics"
   ]
  },
  {
   "cell_type": "code",
   "execution_count": 14,
   "metadata": {},
   "outputs": [
    {
     "name": "stdout",
     "output_type": "stream",
     "text": [
      "┌──────────────────────────────────────────────────────────────────────────────────────────────────────────────────────────────────────────────────────────────────────────────────────────────────────────────────┬────────────────┬────────────┬──────────┬───────────┬────────────┬─────────┬────────┬────────┐\n",
      "│\u001b[33;1m                                                                                                                                                                                                       Antecedent \u001b[0m│\u001b[33;1m     Consequent \u001b[0m│\u001b[33;1m ninstances \u001b[0m│\u001b[33;1m ncovered \u001b[0m│\u001b[33;1m  coverage \u001b[0m│\u001b[33;1m confidence \u001b[0m│\u001b[33;1m    lift \u001b[0m│\u001b[33;1m natoms \u001b[0m│\u001b[33;1m height \u001b[0m│\n",
      "├──────────────────────────────────────────────────────────────────────────────────────────────────────────────────────────────────────────────────────────────────────────────────────────────────────────────────┼────────────────┼────────────┼──────────┼───────────┼────────────┼─────────┼────────┼────────┤\n",
      "│                                                                      (\u001b[1m\u001b[36mcntrd->std\u001b[0m \u001b[1m<\u001b[0m\u001b[0m 205.24230138276204) ∧ (\u001b[1m\u001b[33mmel14=3539Hz->std\u001b[0m \u001b[1m<\u001b[0m\u001b[0m 0.15958429401866944) ∧ (\u001b[1m\u001b[36msprd->bsd\u001b[0m \u001b[1m<\u001b[0m\u001b[0m 3.5) ∧ (\u001b[1m\u001b[33mmel3=663Hz->mean\u001b[0m \u001b[1m≥\u001b[0m\u001b[0m -4.720543021588663)\u001b[0m │        Healthy │         36 │        1 │ 0.0277778 │        1.0 │ 2.11765 │      4 │      3 │\n",
      "│                                                                                                                (\u001b[1m\u001b[36mcntrd->std\u001b[0m \u001b[1m<\u001b[0m\u001b[0m 205.24230138276204) ∧ (\u001b[1m\u001b[33mmel14=3539Hz->std\u001b[0m \u001b[1m<\u001b[0m\u001b[0m 0.15958429401866944) ∧ (\u001b[1m\u001b[36msprd->bsd\u001b[0m \u001b[1m≥\u001b[0m\u001b[0m 3.5)\u001b[0m │ Bronchiectasis │         36 │       14 │  0.388889 │        1.0 │ 1.89474 │      3 │      2 │\n",
      "│                                                                     (\u001b[1m\u001b[36mcntrd->std\u001b[0m \u001b[1m<\u001b[0m\u001b[0m 205.24230138276204) ∧ (\u001b[1m\u001b[33mmel14=3539Hz->std\u001b[0m \u001b[1m≥\u001b[0m\u001b[0m 0.15958429401866944) ∧ (\u001b[1m\u001b[36mflux->std\u001b[0m \u001b[1m<\u001b[0m\u001b[0m 2.1888435089149336) ∧ (\u001b[1m\u001b[33mmel10=2106Hz->bsm\u001b[0m \u001b[1m<\u001b[0m\u001b[0m 5.5)\u001b[0m │ Bronchiectasis │         36 │        1 │ 0.0277778 │        1.0 │ 1.89474 │      4 │      3 │\n",
      "│                           (\u001b[1m\u001b[36mcntrd->std\u001b[0m \u001b[1m<\u001b[0m\u001b[0m 205.24230138276204) ∧ (\u001b[1m\u001b[33mmel14=3539Hz->std\u001b[0m \u001b[1m≥\u001b[0m\u001b[0m 0.15958429401866944) ∧ (\u001b[1m\u001b[36mflux->std\u001b[0m \u001b[1m<\u001b[0m\u001b[0m 2.1888435089149336) ∧ (\u001b[1m\u001b[33mmel10=2106Hz->bsm\u001b[0m \u001b[1m≥\u001b[0m\u001b[0m 5.5) ∧ (\u001b[1m\u001b[33mmel12=2749Hz->qnt\u001b[0m \u001b[1m<\u001b[0m\u001b[0m 2.153065633845543)\u001b[0m │        Healthy │         36 │        5 │  0.138889 │        1.0 │ 2.11765 │      5 │      4 │\n",
      "│ (\u001b[1m\u001b[36mcntrd->std\u001b[0m \u001b[1m<\u001b[0m\u001b[0m 205.24230138276204) ∧ (\u001b[1m\u001b[33mmel14=3539Hz->std\u001b[0m \u001b[1m≥\u001b[0m\u001b[0m 0.15958429401866944) ∧ (\u001b[1m\u001b[36mflux->std\u001b[0m \u001b[1m<\u001b[0m\u001b[0m 2.1888435089149336) ∧ (\u001b[1m\u001b[33mmel10=2106Hz->bsm\u001b[0m \u001b[1m≥\u001b[0m\u001b[0m 5.5) ∧ (\u001b[1m\u001b[33mmel12=2749Hz->qnt\u001b[0m \u001b[1m≥\u001b[0m\u001b[0m 2.153065633845543) ∧ (\u001b[1m\u001b[33mmel1=409Hz->bsd\u001b[0m \u001b[1m<\u001b[0m\u001b[0m 4.5)\u001b[0m │        Healthy │         36 │        1 │ 0.0277778 │        1.0 │ 2.11765 │      6 │      5 │\n",
      "│                                                                                                 (\u001b[1m\u001b[36mcntrd->std\u001b[0m \u001b[1m<\u001b[0m\u001b[0m 205.24230138276204) ∧ (\u001b[1m\u001b[33mmel14=3539Hz->std\u001b[0m \u001b[1m≥\u001b[0m\u001b[0m 0.15958429401866944) ∧ (\u001b[1m\u001b[36mflux->std\u001b[0m \u001b[1m≥\u001b[0m\u001b[0m 2.1888435089149336)\u001b[0m │ Bronchiectasis │         36 │        1 │ 0.0277778 │        1.0 │ 1.89474 │      3 │      2 │\n",
      "│                                                                                                                                         (\u001b[1m\u001b[36mcntrd->std\u001b[0m \u001b[1m≥\u001b[0m\u001b[0m 205.24230138276204) ∧ (\u001b[1m\u001b[36mcrest->3ac\u001b[0m \u001b[1m≥\u001b[0m\u001b[0m 0.0018940205660926664)\u001b[0m │        Healthy │         36 │        9 │      0.25 │   0.888889 │ 1.88235 │      2 │      1 │\n",
      "└──────────────────────────────────────────────────────────────────────────────────────────────────────────────────────────────────────────────────────────────────────────────────────────────────────────────────┴────────────────┴────────────┴──────────┴───────────┴────────────┴─────────┴────────┴────────┘\n"
     ]
    }
   ],
   "source": [
    "metricstable(interesting_rules; variable_names_map = variable_names, metrics_kwargs = (; round_digits = nothing, additional_metrics = (; height = r->SoleLogics.height(antecedent(r)))))"
   ]
  },
  {
   "cell_type": "markdown",
   "metadata": {},
   "source": [
    "# Inspect features"
   ]
  },
  {
   "cell_type": "code",
   "execution_count": 15,
   "metadata": {},
   "outputs": [
    {
     "name": "stdout",
     "output_type": "stream",
     "text": [
      "\u001b[34m▣\u001b[0m (\u001b[1m\u001b[36mcntrd->std\u001b[0m \u001b[1m<\u001b[0m\u001b[0m 205.24) ∧ (\u001b[1m\u001b[33mmel14=3539Hz->std\u001b[0m \u001b[1m<\u001b[0m\u001b[0m 0.16) ∧ (\u001b[1m\u001b[36msprd->bsd\u001b[0m \u001b[1m≥\u001b[0m\u001b[0m 3.5)  ↣  Bronchiectasis : (ninstances = 36, ncovered = 14, coverage = 0.39, confidence = 1.0, lift = 1.89, natoms = 3)\n",
      "\u001b[34m▣\u001b[0m (\u001b[1m\u001b[36mcntrd->std\u001b[0m \u001b[1m<\u001b[0m\u001b[0m 205.24) ∧ (\u001b[1m\u001b[33mmel14=3539Hz->std\u001b[0m \u001b[1m≥\u001b[0m\u001b[0m 0.16) ∧ (\u001b[1m\u001b[36mflux->std\u001b[0m \u001b[1m<\u001b[0m\u001b[0m 2.19) ∧ (\u001b[1m\u001b[33mmel10=2106Hz->bsm\u001b[0m \u001b[1m≥\u001b[0m\u001b[0m 5.5) ∧ (\u001b[1m\u001b[33mmel12=2749Hz->qnt\u001b[0m \u001b[1m<\u001b[0m\u001b[0m 2.15)  ↣  Healthy : (ninstances = 36, ncovered = 5, coverage = 0.14, confidence = 1.0, lift = 2.12, natoms = 5)\n",
      "\u001b[34m▣\u001b[0m (\u001b[1m\u001b[36mcntrd->std\u001b[0m \u001b[1m≥\u001b[0m\u001b[0m 205.24) ∧ (\u001b[1m\u001b[36mcrest->3ac\u001b[0m \u001b[1m≥\u001b[0m\u001b[0m 0.0)  ↣  Healthy : (ninstances = 36, ncovered = 9, coverage = 0.25, confidence = 0.89, lift = 1.88, natoms = 2)\n"
     ]
    }
   ],
   "source": [
    "interesting_rules = listrules(sole_dt,\n",
    "\tmin_lift = 1.0,\n",
    "\t# min_lift = 2.0,\n",
    "\tmin_ninstances = 0,\n",
    "\tmin_coverage = 0.10,\n",
    "\tnormalize = true,\n",
    ");\n",
    "map(r->(consequent(r), readmetrics(r)), interesting_rules)\n",
    "printmodel.(interesting_rules; show_metrics = true, syntaxstring_kwargs = (; threshold_digits = 2), variable_names_map=variable_names);"
   ]
  },
  {
   "cell_type": "code",
   "execution_count": 16,
   "metadata": {},
   "outputs": [
    {
     "data": {
      "text/plain": [
       "7-element Vector{Symbol}:\n",
       " Symbol(\"cntrd->std\")\n",
       " Symbol(\"crest->3ac\")\n",
       " Symbol(\"flux->std\")\n",
       " Symbol(\"mel10=2106Hz->bsm\")\n",
       " Symbol(\"mel12=2749Hz->qnt\")\n",
       " Symbol(\"mel14=3539Hz->std\")\n",
       " Symbol(\"sprd->bsd\")"
      ]
     },
     "metadata": {},
     "output_type": "display_data"
    }
   ],
   "source": [
    "interesting_features = unique(SoleData.feature.(SoleLogics.value.(vcat(SoleLogics.atoms.(i.antecedent for i in interesting_rules)...))))\n",
    "interesting_variables = sort(SoleData.i_variable.(interesting_features))"
   ]
  }
 ],
 "metadata": {
  "kernelspec": {
   "display_name": "Julia 1.10.3",
   "language": "julia",
   "name": "julia-1.10"
  },
  "language_info": {
   "file_extension": ".jl",
   "mimetype": "application/julia",
   "name": "julia",
   "version": "1.10.3"
  }
 },
 "nbformat": 4,
 "nbformat_minor": 2
}
