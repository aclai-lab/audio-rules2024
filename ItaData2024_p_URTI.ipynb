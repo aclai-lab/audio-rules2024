{
 "cells": [
  {
   "cell_type": "markdown",
   "metadata": {},
   "source": [
    "# ItaData2024\n",
    "\n",
    "## URTI\n",
    "\n",
    "propositional analysis"
   ]
  },
  {
   "cell_type": "code",
   "execution_count": 27,
   "metadata": {},
   "outputs": [
    {
     "name": "stderr",
     "output_type": "stream",
     "text": [
      "\u001b[32m\u001b[1m  Activating\u001b[22m\u001b[39m project at `~/Documents/Aclai/audio-rules2024`\n"
     ]
    }
   ],
   "source": [
    "using Pkg\n",
    "Pkg.activate(\".\")\n",
    "using MLJ, ModalDecisionTrees\n",
    "using SoleDecisionTreeInterface, Sole, SoleData\n",
    "using CategoricalArrays\n",
    "using DataFrames, JLD2, CSV\n",
    "using Audio911\n",
    "using Random\n",
    "using StatsBase, Catch22\n",
    "using Test\n",
    "using Plots"
   ]
  },
  {
   "cell_type": "markdown",
   "metadata": {},
   "source": [
    "### Settings"
   ]
  },
  {
   "cell_type": "code",
   "execution_count": 28,
   "metadata": {},
   "outputs": [],
   "source": [
    "# experiment = :Pneumonia\n",
    "# experiment = :Bronchiectasis\n",
    "# experiment = :COPD\n",
    "experiment = :URTI\n",
    "# experiment = :Bronchiolitis\n",
    "\n",
    "features = :catch9\n",
    "# features = :minmax\n",
    "# features = :custom\n",
    "\n",
    "loadset = false\n",
    "# loadset = true\n",
    "\n",
    "scale = :semitones\n",
    "# scale = :mel_htk\n",
    "\n",
    "usemfcc = false\n",
    "# usemfcc = true\n",
    "usef0 = false\n",
    "# usef0 = true\n",
    "\n",
    "sr = 8000\n",
    "audioparams = (\n",
    "    usemfcc = usemfcc,\n",
    "    usef0 = usef0,\n",
    "    sr = sr,\n",
    "    nfft = 512,\n",
    "    scale = scale, # :mel_htk, :mel_slaney, :erb, :bark, :semitones, :tuned_semitones\n",
    "    nbands = scale == :semitones ? 14 : 26,\n",
    "    ncoeffs = scale == :semitones ? 7 : 13,\n",
    "    freq_range = (300, round(Int, sr / 2)),\n",
    "    db_scale = usemfcc ? false : true,\n",
    ")\n",
    "\n",
    "memguard = false;\n",
    "# memguard = true;\n",
    "n_elems = 15;\n",
    "\n",
    "avail_exp = [:Pneumonia, :Bronchiectasis, :COPD, :URTI, :Bronchiolitis]\n",
    "\n",
    "@assert experiment in avail_exp \"Unknown type of experiment: $experiment.\"\n",
    "\n",
    "findhealthy = y -> findall(x -> x == \"Healthy\", y)\n",
    "ds_path = \"/datasets/respiratory_Healthy_\" * String(experiment)\n",
    "findsick = y -> findall(x -> x == String(experiment), y)\n",
    "filename = \"/datasets/itadata2024_\" * String(experiment) * \"_files\"\n",
    "memguard && begin filename *= string(\"_memguard\") end\n",
    "\n",
    "destpath = \"results/propositional\"\n",
    "jld2file = destpath * \"/itadata2024_\" * String(experiment) * \"_\" * String(scale) * \".jld2\"\n",
    "\n",
    "color_code = Dict(:red => 31, :green => 32, :yellow => 33, :blue => 34, :magenta => 35, :cyan => 36);\n",
    "r_select = r\"\\e\\[\\d+m(.*?)\\e\\[0m\";"
   ]
  },
  {
   "cell_type": "markdown",
   "metadata": {},
   "source": [
    "### Audio features extraction function\n",
    "This function is called for every audio sample and extract 25 features:\n",
    "14 bands of the mel spectrogram,\n",
    "11 spectral features: centroid, crest, entropy, flatness, flux, kurtosis, rolloff, skewness, decrease, slope, spread"
   ]
  },
  {
   "cell_type": "code",
   "execution_count": 29,
   "metadata": {},
   "outputs": [
    {
     "data": {
      "text/plain": [
       "afe (generic function with 2 methods)"
      ]
     },
     "metadata": {},
     "output_type": "display_data"
    }
   ],
   "source": [
    "function afe(x::AbstractVector{Float64}, audioparams::NamedTuple; get_only_melfreq=false)\n",
    "    # -------------------------------- parameters -------------------------------- #\n",
    "    # audio module\n",
    "    sr = audioparams.sr\n",
    "    norm = true\n",
    "    speech_detection = false\n",
    "    # stft module\n",
    "    nfft = audioparams.nfft\n",
    "    win_type = (:hann, :periodic)\n",
    "    win_length = audioparams.nfft\n",
    "    overlap_length = round(Int, audioparams.nfft / 2)\n",
    "    stft_norm = :power                      # :power, :magnitude, :pow2mag\n",
    "    # mel filterbank module\n",
    "    nbands = audioparams.nbands\n",
    "    scale = audioparams.scale               # :mel_htk, :mel_slaney, :erb, :bark, :semitones, :tuned_semitones\n",
    "    melfb_norm = :bandwidth                 # :bandwidth, :area, :none\n",
    "    freq_range = audioparams.freq_range\n",
    "    # mel spectrogram module\n",
    "    db_scale = audioparams.db_scale\n",
    "\n",
    "    # --------------------------------- functions -------------------------------- #\n",
    "    # audio module\n",
    "    audio = load_audio(\n",
    "        file=x,\n",
    "        sr=sr,\n",
    "        norm=norm,\n",
    "    );\n",
    "\n",
    "    stftspec = get_stft(\n",
    "        audio=audio,\n",
    "        nfft=nfft,\n",
    "        win_type=win_type,\n",
    "        win_length=win_length,\n",
    "        overlap_length=overlap_length,\n",
    "        norm=stft_norm\n",
    "    );\n",
    "\n",
    "    # mel filterbank module\n",
    "    melfb = get_melfb(\n",
    "        stft=stftspec,\n",
    "        nbands=nbands,\n",
    "        scale=scale,\n",
    "        norm=melfb_norm,\n",
    "        freq_range=freq_range\n",
    "    );\n",
    "\n",
    "    if get_only_melfreq\n",
    "        return melfb.data.freq\n",
    "    end\n",
    "\n",
    "    # mel spectrogram module\n",
    "    melspec =  get_melspec(\n",
    "        stft=stftspec,\n",
    "        fbank=melfb,\n",
    "        db_scale=db_scale\n",
    "    );\n",
    "\n",
    "    if audioparams.usemfcc\n",
    "        # mfcc module\n",
    "        ncoeffs = audioparams.ncoeffs\n",
    "        rectification = :log                    # :log, :cubic_root\n",
    "        dither = true\n",
    "\n",
    "        mfcc = get_mfcc(\n",
    "            source=melspec,\n",
    "            ncoeffs=ncoeffs,\n",
    "            rectification=rectification,\n",
    "            dither=dither,\n",
    "        );\n",
    "    end\n",
    "\n",
    "    if audioparams.usef0\n",
    "        # f0 module\n",
    "        method = :nfc\n",
    "        f0_range = (50, 400)\n",
    "\n",
    "        f0 = get_f0(\n",
    "            source=stftspec,\n",
    "            method=method,\n",
    "            freq_range=f0_range\n",
    "        );\n",
    "    end\n",
    "\n",
    "    # spectral features module\n",
    "    spect = get_spectrals(\n",
    "        source=stftspec,\n",
    "        freq_range=freq_range\n",
    "    );\n",
    "\n",
    "    hcat(\n",
    "        filter(!isnothing, [\n",
    "            melspec.spec',\n",
    "            audioparams.usemfcc ? mfcc.mfcc' : nothing,\n",
    "            audioparams.usef0 ? f0.f0 : nothing,\n",
    "            spect.centroid,\n",
    "            spect.crest,\n",
    "            spect.entropy,\n",
    "            spect.flatness,\n",
    "            spect.flux,\n",
    "            spect.kurtosis,\n",
    "            spect.rolloff,\n",
    "            spect.skewness,\n",
    "            spect.decrease,\n",
    "            spect.slope,\n",
    "            spect.spread\n",
    "        ])...\n",
    "    )    \n",
    "end"
   ]
  },
  {
   "cell_type": "markdown",
   "metadata": {},
   "source": [
    "### Prepare dataset for analysis"
   ]
  },
  {
   "cell_type": "code",
   "execution_count": 30,
   "metadata": {},
   "outputs": [
    {
     "name": "stderr",
     "output_type": "stream",
     "text": [
      "┌ Info: Build dataset...\n",
      "└ @ Main /home/paso/Documents/Aclai/audio-rules2024/jl_notebook_cell_df34fa98e69747e1a8f8a730347b8e2f_X10sZmlsZQ==.jl:42\n"
     ]
    },
    {
     "name": "stdout",
     "output_type": "stream",
     "text": [
      "Training set size: (342, 225) - 342\n",
      "Test set size: (86, 225) - 86\n"
     ]
    }
   ],
   "source": [
    "d = jldopen(string((@__DIR__), ds_path, \".jld2\"))\n",
    "x, y = d[\"dataframe_validated\"]\n",
    "@assert x isa DataFrame\n",
    "close(d)\n",
    "\n",
    "memguard && begin\n",
    "    cat2 = round(Int, length(y)/2)\n",
    "    indices = [1:n_elems; cat2:cat2+n_elems-1]\n",
    "    x = x[indices, :]\n",
    "    y = y[indices]\n",
    "end\n",
    "\n",
    "freq = round.(Int, afe(x[1, :audio], audioparams; get_only_melfreq=true))\n",
    "\n",
    "catch9_f = [\"max\", \"min\", \"mean\", \"med\", \"std\", \"bsm\", \"bsd\", \"qnt\", \"3ac\"]\n",
    "variable_names = vcat([\n",
    "    vcat(\n",
    "        [\"\\e[$(color_code[:yellow])m$j(mel$i=$(freq[i])Hz)\\e[0m\" for i in 1:audioparams.nbands],\n",
    "        audioparams.usemfcc ? [\"\\e[$(color_code[:red])m$j(mfcc$i)\\e[0m\" for i in 1:audioparams.ncoeffs] : String[],\n",
    "        audioparams.usef0 ? [\"\\e[$(color_code[:green])m$j(f0)\\e[0m\"] : String[],\n",
    "        \"\\e[$(color_code[:cyan])m$j(cntrd)\\e[0m\", \"\\e[$(color_code[:cyan])m$j(crest)\\e[0m\",\n",
    "        \"\\e[$(color_code[:cyan])m$j(entrp)\\e[0m\", \"\\e[$(color_code[:cyan])m$j(flatn)\\e[0m\", \"\\e[$(color_code[:cyan])m$j(flux)\\e[0m\",\n",
    "        \"\\e[$(color_code[:cyan])m$j(kurts)\\e[0m\", \"\\e[$(color_code[:cyan])m$j(rllff)\\e[0m\", \"\\e[$(color_code[:cyan])m$j(skwns)\\e[0m\",\n",
    "        \"\\e[$(color_code[:cyan])m$j(decrs)\\e[0m\", \"\\e[$(color_code[:cyan])m$j(slope)\\e[0m\", \"\\e[$(color_code[:cyan])m$j(sprd)\\e[0m\"\n",
    "    )\n",
    "    for j in catch9_f\n",
    "]...)\n",
    "    \n",
    "catch9 = [\n",
    "    maximum,\n",
    "    minimum,\n",
    "    StatsBase.mean,\n",
    "    median,\n",
    "    std,\n",
    "    Catch22.SB_BinaryStats_mean_longstretch1,\n",
    "    Catch22.SB_BinaryStats_diff_longstretch0,\n",
    "    Catch22.SB_MotifThree_quantile_hh,\n",
    "    Catch22.SB_TransitionMatrix_3ac_sumdiagcov,\n",
    "]\n",
    "\n",
    "if !loadset\n",
    "    @info(\"Build dataset...\")\n",
    "\n",
    "    X = DataFrame([name => Float64[] for name in [match(r_select, v)[1] for v in variable_names]])\n",
    "    audiofeats = [afe(row[:audio], audioparams) for row in eachrow(x)]\n",
    "    push!(X, vcat([vcat([map(func, eachcol(row)) for func in catch9]...) for row in audiofeats])...)\n",
    "\n",
    "    yc = CategoricalArray(y);\n",
    "\n",
    "    train_ratio = 0.8\n",
    "\n",
    "    train, test = partition(eachindex(yc), train_ratio, shuffle=true)\n",
    "    X_train, y_train = X[train, :], yc[train]\n",
    "    X_test, y_test = X[test, :], yc[test]\n",
    "\n",
    "    println(\"Training set size: \", size(X_train), \" - \", length(y_train))\n",
    "    println(\"Test set size: \", size(X_test), \" - \", length(y_test))\n",
    "end"
   ]
  },
  {
   "cell_type": "markdown",
   "metadata": {},
   "source": [
    "### Train a model"
   ]
  },
  {
   "cell_type": "code",
   "execution_count": 31,
   "metadata": {},
   "outputs": [
    {
     "name": "stderr",
     "output_type": "stream",
     "text": [
      "┌ Info: For silent loading, specify `verbosity=0`. \n",
      "└ @ Main /home/paso/.julia/packages/MLJModels/8W54X/src/loading.jl:159\n"
     ]
    },
    {
     "name": "stdout",
     "output_type": "stream",
     "text": [
      "import MLJDecisionTreeInterface ✔\n"
     ]
    },
    {
     "name": "stderr",
     "output_type": "stream",
     "text": [
      "┌ Info: Training machine(DecisionTreeClassifier(max_depth = -1, …), …).\n",
      "└ @ MLJBase /home/paso/.julia/packages/MLJBase/7nGJF/src/machines.jl:499\n"
     ]
    },
    {
     "data": {
      "text/plain": [
       "max(sprd) < 664.1\n",
       "├─ min(mel8=1194Hz) < -4.028\n",
       "│  ├─ 3ac(mel2=424Hz) < 0.1156\n",
       "│  │  ├─ bsm(mel3=504Hz) < 17.5\n",
       "│  │  │  ├─ qnt(mel8=1194Hz) < 1.949\n",
       "│  │  │  │  ├─ URTI (63/63)\n",
       "│  │  │  │  └─ mean(mel9=1419Hz) < -5.349\n",
       "│  │  │  │     ⋮\n",
       "│  │  │  │     \n",
       "│  │  │  └─ Healthy (4/4)\n",
       "│  │  └─ 3ac(mel10=1687Hz) < 0.0485\n",
       "│  │     ├─ URTI (5/5)\n",
       "│  │     └─ qnt(mel8=1194Hz) < 1.713\n",
       "│  │        ├─ med(mel7=1005Hz) < -2.878\n",
       "│  │        │  ⋮\n",
       "│  │        │  \n",
       "│  │        └─ Healthy (11/11)\n",
       "│  └─ mean(mel13=2832Hz) < -5.051\n",
       "│     ├─ Healthy (15/15)\n",
       "│     └─ qnt(mel6=845Hz) < 1.809\n",
       "│        ├─ Healthy (3/3)\n",
       "│        └─ URTI (6/6)\n",
       "└─ mean(mel1=357Hz) < -4.168\n",
       "   ├─ mean(mel8=1194Hz) < -4.845\n",
       "   │  ├─ Healthy (28/28)\n",
       "   │  └─ URTI (1/1)\n",
       "   └─ max(mel1=357Hz) < -0.1154\n",
       "      ├─ qnt(mel5=711Hz) < 1.673\n",
       "      │  ├─ Healthy (16/16)\n",
       "      │  └─ max(sprd) < 909.0\n",
       "      │     ├─ max(skwns) < 10.61\n",
       "      │     │  ⋮\n",
       "      │     │  \n",
       "      │     └─ 3ac(sprd) < 0.04644\n",
       "      │        ⋮\n",
       "      │        \n",
       "      └─ URTI (8/8)\n"
      ]
     },
     "metadata": {},
     "output_type": "display_data"
    }
   ],
   "source": [
    "if !loadset\n",
    "    learned_dt_tree = begin\n",
    "        Tree = MLJ.@load DecisionTreeClassifier pkg=DecisionTree\n",
    "        model = Tree(max_depth=-1, )\n",
    "        mach = machine(model, X_train, y_train)\n",
    "        fit!(mach)\n",
    "        fitted_params(mach).tree\n",
    "    end\n",
    "end"
   ]
  },
  {
   "cell_type": "markdown",
   "metadata": {},
   "source": [
    "### Model inspection & rule study"
   ]
  },
  {
   "cell_type": "code",
   "execution_count": 32,
   "metadata": {},
   "outputs": [
    {
     "name": "stdout",
     "output_type": "stream",
     "text": [
      "\u001b[34m▣\u001b[0m \u001b[1m\u001b[36mmax(sprd)\u001b[0m \u001b[1m<\u001b[0m\u001b[0m 664.0535057427451\n",
      "├✔ \u001b[1m\u001b[33mmin(mel8=1194Hz)\u001b[0m \u001b[1m<\u001b[0m\u001b[0m -4.028207814322176\n",
      "│├✔ \u001b[1m\u001b[33m3ac(mel2=424Hz)\u001b[0m \u001b[1m<\u001b[0m\u001b[0m 0.11555555555555556\n",
      "││├✔ \u001b[1m\u001b[33mbsm(mel3=504Hz)\u001b[0m \u001b[1m<\u001b[0m\u001b[0m 17.5\n",
      "│││├✔ \u001b[1m\u001b[33mqnt(mel8=1194Hz)\u001b[0m \u001b[1m<\u001b[0m\u001b[0m 1.948503881769832\n",
      "││││├✔ URTI : (ninstances = 16, ncovered = 16, confidence = 0.81, lift = 1.0)\n",
      "││││└✘ \u001b[1m\u001b[33mmean(mel9=1419Hz)\u001b[0m \u001b[1m<\u001b[0m\u001b[0m -5.349004118322046\n",
      "││││ ├✔ Healthy : (ninstances = 2, ncovered = 2, confidence = 0.5, lift = 1.0)\n",
      "││││ └✘ \u001b[1m\u001b[36mmax(flatn)\u001b[0m \u001b[1m<\u001b[0m\u001b[0m 0.1489664724582898\n",
      "││││  ├✔ \u001b[1m\u001b[33mmin(mel4=599Hz)\u001b[0m \u001b[1m<\u001b[0m\u001b[0m -5.670229356292184\n",
      "││││  │├✔ Healthy : (ninstances = 1, ncovered = 1, confidence = 1.0, lift = 1.0)\n",
      "││││  │└✘ URTI : (ninstances = 9, ncovered = 9, confidence = 1.0, lift = 1.0)\n",
      "││││  └✘ Healthy : (ninstances = 1, ncovered = 1, confidence = 1.0, lift = 1.0)\n",
      "│││└✘ Healthy : (ninstances = 0, ncovered = 0, confidence = NaN, lift = NaN)\n",
      "││└✘ \u001b[1m\u001b[33m3ac(mel10=1687Hz)\u001b[0m \u001b[1m<\u001b[0m\u001b[0m 0.048500881834215165\n",
      "││ ├✔ URTI : (ninstances = 1, ncovered = 1, confidence = 0.0, lift = NaN)\n",
      "││ └✘ \u001b[1m\u001b[33mqnt(mel8=1194Hz)\u001b[0m \u001b[1m<\u001b[0m\u001b[0m 1.7126029972917245\n",
      "││  ├✔ \u001b[1m\u001b[33mmed(mel7=1005Hz)\u001b[0m \u001b[1m<\u001b[0m\u001b[0m -2.8777118272418427\n",
      "││  │├✔ URTI : (ninstances = 0, ncovered = 0, confidence = NaN, lift = NaN)\n",
      "││  │└✘ Healthy : (ninstances = 0, ncovered = 0, confidence = NaN, lift = NaN)\n",
      "││  └✘ Healthy : (ninstances = 1, ncovered = 1, confidence = 1.0, lift = 1.0)\n",
      "│└✘ \u001b[1m\u001b[33mmean(mel13=2832Hz)\u001b[0m \u001b[1m<\u001b[0m\u001b[0m -5.051449874154914\n",
      "│ ├✔ Healthy : (ninstances = 3, ncovered = 3, confidence = 1.0, lift = 1.0)\n",
      "│ └✘ \u001b[1m\u001b[33mqnt(mel6=845Hz)\u001b[0m \u001b[1m<\u001b[0m\u001b[0m 1.8093160599313536\n",
      "│  ├✔ Healthy : (ninstances = 1, ncovered = 1, confidence = 1.0, lift = 1.0)\n",
      "│  └✘ URTI : (ninstances = 2, ncovered = 2, confidence = 1.0, lift = 1.0)\n",
      "└✘ \u001b[1m\u001b[33mmean(mel1=357Hz)\u001b[0m \u001b[1m<\u001b[0m\u001b[0m -4.1684365386848885\n",
      " ├✔ \u001b[1m\u001b[33mmean(mel8=1194Hz)\u001b[0m \u001b[1m<\u001b[0m\u001b[0m -4.84472544529558\n",
      " │├✔ Healthy : (ninstances = 4, ncovered = 4, confidence = 1.0, lift = 1.0)\n",
      " │└✘ URTI : (ninstances = 0, ncovered = 0, confidence = NaN, lift = NaN)\n",
      " └✘ \u001b[1m\u001b[33mmax(mel1=357Hz)\u001b[0m \u001b[1m<\u001b[0m\u001b[0m -0.11544222361904846\n",
      "  ├✔ \u001b[1m\u001b[33mqnt(mel5=711Hz)\u001b[0m \u001b[1m<\u001b[0m\u001b[0m 1.6729201667253222\n",
      "  │├✔ Healthy : (ninstances = 3, ncovered = 3, confidence = 0.67, lift = 1.0)\n",
      "  │└✘ \u001b[1m\u001b[36mmax(sprd)\u001b[0m \u001b[1m<\u001b[0m\u001b[0m 908.9659831322302\n",
      "  │ ├✔ \u001b[1m\u001b[36mmax(skwns)\u001b[0m \u001b[1m<\u001b[0m\u001b[0m 10.610955524117045\n",
      "  │ │├✔ \u001b[1m\u001b[33mmax(mel6=845Hz)\u001b[0m \u001b[1m<\u001b[0m\u001b[0m -2.200798828340653\n",
      "  │ ││├✔ \u001b[1m\u001b[36mmax(entrp)\u001b[0m \u001b[1m<\u001b[0m\u001b[0m 0.8329603484717418\n",
      "  │ │││├✔ \u001b[1m\u001b[33mmean(mel1=357Hz)\u001b[0m \u001b[1m<\u001b[0m\u001b[0m -2.6595759607820195\n",
      "  │ ││││├✔ \u001b[1m\u001b[33mbsm(mel12=2383Hz)\u001b[0m \u001b[1m<\u001b[0m\u001b[0m 7.5\n",
      "  │ │││││├✔ \u001b[1m\u001b[36mbsm(decrs)\u001b[0m \u001b[1m<\u001b[0m\u001b[0m 12.5\n",
      "  │ ││││││├✔ Healthy : (ninstances = 8, ncovered = 8, confidence = 0.25, lift = 1.0)\n",
      "  │ ││││││└✘ URTI : (ninstances = 0, ncovered = 0, confidence = NaN, lift = NaN)\n",
      "  │ │││││└✘ URTI : (ninstances = 6, ncovered = 6, confidence = 0.33, lift = 1.0)\n",
      "  │ ││││└✘ \u001b[1m\u001b[36mmax(decrs)\u001b[0m \u001b[1m<\u001b[0m\u001b[0m 0.3330471235180842\n",
      "  │ ││││ ├✔ URTI : (ninstances = 3, ncovered = 3, confidence = 0.67, lift = 1.0)\n",
      "  │ ││││ └✘ Healthy : (ninstances = 0, ncovered = 0, confidence = NaN, lift = NaN)\n",
      "  │ │││└✘ \u001b[1m\u001b[36mmax(decrs)\u001b[0m \u001b[1m<\u001b[0m\u001b[0m 0.26293159354306916\n",
      "  │ │││ ├✔ URTI : (ninstances = 2, ncovered = 2, confidence = 0.5, lift = 1.0)\n",
      "  │ │││ └✘ Healthy : (ninstances = 2, ncovered = 2, confidence = 1.0, lift = 1.0)\n",
      "  │ ││└✘ Healthy : (ninstances = 1, ncovered = 1, confidence = 1.0, lift = 1.0)\n",
      "  │ │└✘ \u001b[1m\u001b[33mmax(mel13=2832Hz)\u001b[0m \u001b[1m<\u001b[0m\u001b[0m -7.113306400930482\n",
      "  │ │ ├✔ URTI : (ninstances = 0, ncovered = 0, confidence = NaN, lift = NaN)\n",
      "  │ │ └✘ Healthy : (ninstances = 3, ncovered = 3, confidence = 1.0, lift = 1.0)\n",
      "  │ └✘ \u001b[1m\u001b[36m3ac(sprd)\u001b[0m \u001b[1m<\u001b[0m\u001b[0m 0.04644326866549088\n",
      "  │  ├✔ \u001b[1m\u001b[36mstd(rllff)\u001b[0m \u001b[1m<\u001b[0m\u001b[0m 585.005009833498\n",
      "  │  │├✔ \u001b[1m\u001b[33mqnt(mel2=424Hz)\u001b[0m \u001b[1m<\u001b[0m\u001b[0m 2.1283764288799594\n",
      "  │  ││├✔ Healthy : (ninstances = 1, ncovered = 1, confidence = 1.0, lift = 1.0)\n",
      "  │  ││└✘ \u001b[1m\u001b[36mmed(kurts)\u001b[0m \u001b[1m<\u001b[0m\u001b[0m 3.5726833398943887\n",
      "  │  ││ ├✔ Healthy : (ninstances = 2, ncovered = 2, confidence = 1.0, lift = 1.0)\n",
      "  │  ││ └✘ URTI : (ninstances = 2, ncovered = 2, confidence = 0.0, lift = NaN)\n",
      "  │  │└✘ \u001b[1m\u001b[33mbsm(mel8=1194Hz)\u001b[0m \u001b[1m<\u001b[0m\u001b[0m 6.5\n",
      "  │  │ ├✔ URTI : (ninstances = 2, ncovered = 2, confidence = 0.5, lift = 1.0)\n",
      "  │  │ └✘ \u001b[1m\u001b[33mmax(mel10=1687Hz)\u001b[0m \u001b[1m<\u001b[0m\u001b[0m -1.915945028918941\n",
      "  │  │  ├✔ Healthy : (ninstances = 0, ncovered = 0, confidence = NaN, lift = NaN)\n",
      "  │  │  └✘ URTI : (ninstances = 0, ncovered = 0, confidence = NaN, lift = NaN)\n",
      "  │  └✘ Healthy : (ninstances = 10, ncovered = 10, confidence = 0.8, lift = 1.0)\n",
      "  └✘ URTI : (ninstances = 0, ncovered = 0, confidence = NaN, lift = NaN)\n"
     ]
    }
   ],
   "source": [
    "if !loadset\n",
    "    sole_dt = solemodel(learned_dt_tree)\n",
    "    # Make test instances flow into the model, so that test metrics can, then, be computed.\n",
    "    apply!(sole_dt, X_test, y_test);\n",
    "    # Save solemodel to disk\n",
    "    jldsave(jld2file, true; sole_dt)\n",
    "else\n",
    "    @info(\"Load dataset...\")\n",
    "    d = jldopen(jld2file)\n",
    "    sole_dt = d[\"sole_dt\"]\n",
    "    close(d)\n",
    "end\n",
    "# Print Sole model\n",
    "printmodel(sole_dt; show_metrics = true, variable_names_map = variable_names);"
   ]
  },
  {
   "cell_type": "markdown",
   "metadata": {},
   "source": [
    "### Extract rules that are at least as good as a random baseline model"
   ]
  },
  {
   "cell_type": "code",
   "execution_count": 33,
   "metadata": {},
   "outputs": [
    {
     "name": "stdout",
     "output_type": "stream",
     "text": [
      "\u001b[34m▣\u001b[0m (\u001b[1m\u001b[36mmax(sprd)\u001b[0m \u001b[1m<\u001b[0m\u001b[0m 664.0535057427451) ∧ (\u001b[1m\u001b[33mmin(mel8=1194Hz)\u001b[0m \u001b[1m<\u001b[0m\u001b[0m -4.028207814322176) ∧ (\u001b[1m\u001b[33m3ac(mel2=424Hz)\u001b[0m \u001b[1m<\u001b[0m\u001b[0m 0.11555555555555556) ∧ (\u001b[1m\u001b[33mbsm(mel3=504Hz)\u001b[0m \u001b[1m<\u001b[0m\u001b[0m 17.5) ∧ (\u001b[1m\u001b[33mqnt(mel8=1194Hz)\u001b[0m \u001b[1m<\u001b[0m\u001b[0m 1.948503881769832)  ↣  URTI : (ninstances = 86, ncovered = 16, coverage = 0.19, confidence = 0.81, lift = 1.75, natoms = 5)\n",
      "\u001b[34m▣\u001b[0m (\u001b[1m\u001b[36mmax(sprd)\u001b[0m \u001b[1m<\u001b[0m\u001b[0m 664.0535057427451) ∧ (\u001b[1m\u001b[33mmin(mel8=1194Hz)\u001b[0m \u001b[1m<\u001b[0m\u001b[0m -4.028207814322176) ∧ (\u001b[1m\u001b[33m3ac(mel2=424Hz)\u001b[0m \u001b[1m<\u001b[0m\u001b[0m 0.11555555555555556) ∧ (\u001b[1m\u001b[33mbsm(mel3=504Hz)\u001b[0m \u001b[1m<\u001b[0m\u001b[0m 17.5) ∧ (¬(\u001b[1m\u001b[33mqnt(mel8=1194Hz)\u001b[0m \u001b[1m<\u001b[0m\u001b[0m 1.948503881769832)) ∧ (¬(\u001b[1m\u001b[33mmean(mel9=1419Hz)\u001b[0m \u001b[1m<\u001b[0m\u001b[0m -5.349004118322046)) ∧ (\u001b[1m\u001b[36mmax(flatn)\u001b[0m \u001b[1m<\u001b[0m\u001b[0m 0.1489664724582898) ∧ (\u001b[1m\u001b[33mmin(mel4=599Hz)\u001b[0m \u001b[1m<\u001b[0m\u001b[0m -5.670229356292184)  ↣  Healthy : (ninstances = 86, ncovered = 1, coverage = 0.01, confidence = 1.0, lift = 1.87, natoms = 8)\n",
      "\u001b[34m▣\u001b[0m (\u001b[1m\u001b[36mmax(sprd)\u001b[0m \u001b[1m<\u001b[0m\u001b[0m 664.0535057427451) ∧ (\u001b[1m\u001b[33mmin(mel8=1194Hz)\u001b[0m \u001b[1m<\u001b[0m\u001b[0m -4.028207814322176) ∧ (\u001b[1m\u001b[33m3ac(mel2=424Hz)\u001b[0m \u001b[1m<\u001b[0m\u001b[0m 0.11555555555555556) ∧ (\u001b[1m\u001b[33mbsm(mel3=504Hz)\u001b[0m \u001b[1m<\u001b[0m\u001b[0m 17.5) ∧ (¬(\u001b[1m\u001b[33mqnt(mel8=1194Hz)\u001b[0m \u001b[1m<\u001b[0m\u001b[0m 1.948503881769832)) ∧ (¬(\u001b[1m\u001b[33mmean(mel9=1419Hz)\u001b[0m \u001b[1m<\u001b[0m\u001b[0m -5.349004118322046)) ∧ (\u001b[1m\u001b[36mmax(flatn)\u001b[0m \u001b[1m<\u001b[0m\u001b[0m 0.1489664724582898) ∧ (¬(\u001b[1m\u001b[33mmin(mel4=599Hz)\u001b[0m \u001b[1m<\u001b[0m\u001b[0m -5.670229356292184))  ↣  URTI : (ninstances = 86, ncovered = 9, coverage = 0.1, confidence = 1.0, lift = 2.15, natoms = 8)\n",
      "\u001b[34m▣\u001b[0m (\u001b[1m\u001b[36mmax(sprd)\u001b[0m \u001b[1m<\u001b[0m\u001b[0m 664.0535057427451) ∧ (\u001b[1m\u001b[33mmin(mel8=1194Hz)\u001b[0m \u001b[1m<\u001b[0m\u001b[0m -4.028207814322176) ∧ (\u001b[1m\u001b[33m3ac(mel2=424Hz)\u001b[0m \u001b[1m<\u001b[0m\u001b[0m 0.11555555555555556) ∧ (\u001b[1m\u001b[33mbsm(mel3=504Hz)\u001b[0m \u001b[1m<\u001b[0m\u001b[0m 17.5) ∧ (¬(\u001b[1m\u001b[33mqnt(mel8=1194Hz)\u001b[0m \u001b[1m<\u001b[0m\u001b[0m 1.948503881769832)) ∧ (¬(\u001b[1m\u001b[33mmean(mel9=1419Hz)\u001b[0m \u001b[1m<\u001b[0m\u001b[0m -5.349004118322046)) ∧ (¬(\u001b[1m\u001b[36mmax(flatn)\u001b[0m \u001b[1m<\u001b[0m\u001b[0m 0.1489664724582898))  ↣  Healthy : (ninstances = 86, ncovered = 1, coverage = 0.01, confidence = 1.0, lift = 1.87, natoms = 7)\n",
      "\u001b[34m▣\u001b[0m (\u001b[1m\u001b[36mmax(sprd)\u001b[0m \u001b[1m<\u001b[0m\u001b[0m 664.0535057427451) ∧ (\u001b[1m\u001b[33mmin(mel8=1194Hz)\u001b[0m \u001b[1m<\u001b[0m\u001b[0m -4.028207814322176) ∧ (¬(\u001b[1m\u001b[33m3ac(mel2=424Hz)\u001b[0m \u001b[1m<\u001b[0m\u001b[0m 0.11555555555555556)) ∧ (¬(\u001b[1m\u001b[33m3ac(mel10=1687Hz)\u001b[0m \u001b[1m<\u001b[0m\u001b[0m 0.048500881834215165)) ∧ (¬(\u001b[1m\u001b[33mqnt(mel8=1194Hz)\u001b[0m \u001b[1m<\u001b[0m\u001b[0m 1.7126029972917245))  ↣  Healthy : (ninstances = 86, ncovered = 1, coverage = 0.01, confidence = 1.0, lift = 1.87, natoms = 5)\n",
      "\u001b[34m▣\u001b[0m (\u001b[1m\u001b[36mmax(sprd)\u001b[0m \u001b[1m<\u001b[0m\u001b[0m 664.0535057427451) ∧ (¬(\u001b[1m\u001b[33mmin(mel8=1194Hz)\u001b[0m \u001b[1m<\u001b[0m\u001b[0m -4.028207814322176)) ∧ (\u001b[1m\u001b[33mmean(mel13=2832Hz)\u001b[0m \u001b[1m<\u001b[0m\u001b[0m -5.051449874154914)  ↣  Healthy : (ninstances = 86, ncovered = 3, coverage = 0.03, confidence = 1.0, lift = 1.87, natoms = 3)\n",
      "\u001b[34m▣\u001b[0m (\u001b[1m\u001b[36mmax(sprd)\u001b[0m \u001b[1m<\u001b[0m\u001b[0m 664.0535057427451) ∧ (¬(\u001b[1m\u001b[33mmin(mel8=1194Hz)\u001b[0m \u001b[1m<\u001b[0m\u001b[0m -4.028207814322176)) ∧ (¬(\u001b[1m\u001b[33mmean(mel13=2832Hz)\u001b[0m \u001b[1m<\u001b[0m\u001b[0m -5.051449874154914)) ∧ (\u001b[1m\u001b[33mqnt(mel6=845Hz)\u001b[0m \u001b[1m<\u001b[0m\u001b[0m 1.8093160599313536)  ↣  Healthy : (ninstances = 86, ncovered = 1, coverage = 0.01, confidence = 1.0, lift = 1.87, natoms = 4)\n",
      "\u001b[34m▣\u001b[0m (\u001b[1m\u001b[36mmax(sprd)\u001b[0m \u001b[1m<\u001b[0m\u001b[0m 664.0535057427451) ∧ (¬(\u001b[1m\u001b[33mmin(mel8=1194Hz)\u001b[0m \u001b[1m<\u001b[0m\u001b[0m -4.028207814322176)) ∧ (¬(\u001b[1m\u001b[33mmean(mel13=2832Hz)\u001b[0m \u001b[1m<\u001b[0m\u001b[0m -5.051449874154914)) ∧ (¬(\u001b[1m\u001b[33mqnt(mel6=845Hz)\u001b[0m \u001b[1m<\u001b[0m\u001b[0m 1.8093160599313536))  ↣  URTI : (ninstances = 86, ncovered = 2, coverage = 0.02, confidence = 1.0, lift = 2.15, natoms = 4)\n",
      "\u001b[34m▣\u001b[0m (¬(\u001b[1m\u001b[36mmax(sprd)\u001b[0m \u001b[1m<\u001b[0m\u001b[0m 664.0535057427451)) ∧ (\u001b[1m\u001b[33mmean(mel1=357Hz)\u001b[0m \u001b[1m<\u001b[0m\u001b[0m -4.1684365386848885) ∧ (\u001b[1m\u001b[33mmean(mel8=1194Hz)\u001b[0m \u001b[1m<\u001b[0m\u001b[0m -4.84472544529558)  ↣  Healthy : (ninstances = 86, ncovered = 4, coverage = 0.05, confidence = 1.0, lift = 1.87, natoms = 3)\n",
      "\u001b[34m▣\u001b[0m (¬(\u001b[1m\u001b[36mmax(sprd)\u001b[0m \u001b[1m<\u001b[0m\u001b[0m 664.0535057427451)) ∧ (¬(\u001b[1m\u001b[33mmean(mel1=357Hz)\u001b[0m \u001b[1m<\u001b[0m\u001b[0m -4.1684365386848885)) ∧ (\u001b[1m\u001b[33mmax(mel1=357Hz)\u001b[0m \u001b[1m<\u001b[0m\u001b[0m -0.11544222361904846) ∧ (\u001b[1m\u001b[33mqnt(mel5=711Hz)\u001b[0m \u001b[1m<\u001b[0m\u001b[0m 1.6729201667253222)  ↣  Healthy : (ninstances = 86, ncovered = 3, coverage = 0.03, confidence = 0.67, lift = 1.25, natoms = 4)\n",
      "\u001b[34m▣\u001b[0m (¬(\u001b[1m\u001b[36mmax(sprd)\u001b[0m \u001b[1m<\u001b[0m\u001b[0m 664.0535057427451)) ∧ (¬(\u001b[1m\u001b[33mmean(mel1=357Hz)\u001b[0m \u001b[1m<\u001b[0m\u001b[0m -4.1684365386848885)) ∧ (\u001b[1m\u001b[33mmax(mel1=357Hz)\u001b[0m \u001b[1m<\u001b[0m\u001b[0m -0.11544222361904846) ∧ (¬(\u001b[1m\u001b[33mqnt(mel5=711Hz)\u001b[0m \u001b[1m<\u001b[0m\u001b[0m 1.6729201667253222)) ∧ (\u001b[1m\u001b[36mmax(sprd)\u001b[0m \u001b[1m<\u001b[0m\u001b[0m 908.9659831322302) ∧ (\u001b[1m\u001b[36mmax(skwns)\u001b[0m \u001b[1m<\u001b[0m\u001b[0m 10.610955524117045) ∧ (\u001b[1m\u001b[33mmax(mel6=845Hz)\u001b[0m \u001b[1m<\u001b[0m\u001b[0m -2.200798828340653) ∧ (\u001b[1m\u001b[36mmax(entrp)\u001b[0m \u001b[1m<\u001b[0m\u001b[0m 0.8329603484717418) ∧ (¬(\u001b[1m\u001b[33mmean(mel1=357Hz)\u001b[0m \u001b[1m<\u001b[0m\u001b[0m -2.6595759607820195)) ∧ (\u001b[1m\u001b[36mmax(decrs)\u001b[0m \u001b[1m<\u001b[0m\u001b[0m 0.3330471235180842)  ↣  URTI : (ninstances = 86, ncovered = 3, coverage = 0.03, confidence = 0.67, lift = 1.43, natoms = 10)\n",
      "\u001b[34m▣\u001b[0m (¬(\u001b[1m\u001b[36mmax(sprd)\u001b[0m \u001b[1m<\u001b[0m\u001b[0m 664.0535057427451)) ∧ (¬(\u001b[1m\u001b[33mmean(mel1=357Hz)\u001b[0m \u001b[1m<\u001b[0m\u001b[0m -4.1684365386848885)) ∧ (\u001b[1m\u001b[33mmax(mel1=357Hz)\u001b[0m \u001b[1m<\u001b[0m\u001b[0m -0.11544222361904846) ∧ (¬(\u001b[1m\u001b[33mqnt(mel5=711Hz)\u001b[0m \u001b[1m<\u001b[0m\u001b[0m 1.6729201667253222)) ∧ (\u001b[1m\u001b[36mmax(sprd)\u001b[0m \u001b[1m<\u001b[0m\u001b[0m 908.9659831322302) ∧ (\u001b[1m\u001b[36mmax(skwns)\u001b[0m \u001b[1m<\u001b[0m\u001b[0m 10.610955524117045) ∧ (\u001b[1m\u001b[33mmax(mel6=845Hz)\u001b[0m \u001b[1m<\u001b[0m\u001b[0m -2.200798828340653) ∧ (¬(\u001b[1m\u001b[36mmax(entrp)\u001b[0m \u001b[1m<\u001b[0m\u001b[0m 0.8329603484717418)) ∧ (\u001b[1m\u001b[36mmax(decrs)\u001b[0m \u001b[1m<\u001b[0m\u001b[0m 0.26293159354306916)  ↣  URTI : (ninstances = 86, ncovered = 2, coverage = 0.02, confidence = 0.5, lift = 1.08, natoms = 9)\n",
      "\u001b[34m▣\u001b[0m (¬(\u001b[1m\u001b[36mmax(sprd)\u001b[0m \u001b[1m<\u001b[0m\u001b[0m 664.0535057427451)) ∧ (¬(\u001b[1m\u001b[33mmean(mel1=357Hz)\u001b[0m \u001b[1m<\u001b[0m\u001b[0m -4.1684365386848885)) ∧ (\u001b[1m\u001b[33mmax(mel1=357Hz)\u001b[0m \u001b[1m<\u001b[0m\u001b[0m -0.11544222361904846) ∧ (¬(\u001b[1m\u001b[33mqnt(mel5=711Hz)\u001b[0m \u001b[1m<\u001b[0m\u001b[0m 1.6729201667253222)) ∧ (\u001b[1m\u001b[36mmax(sprd)\u001b[0m \u001b[1m<\u001b[0m\u001b[0m 908.9659831322302) ∧ (\u001b[1m\u001b[36mmax(skwns)\u001b[0m \u001b[1m<\u001b[0m\u001b[0m 10.610955524117045) ∧ (\u001b[1m\u001b[33mmax(mel6=845Hz)\u001b[0m \u001b[1m<\u001b[0m\u001b[0m -2.200798828340653) ∧ (¬(\u001b[1m\u001b[36mmax(entrp)\u001b[0m \u001b[1m<\u001b[0m\u001b[0m 0.8329603484717418)) ∧ (¬(\u001b[1m\u001b[36mmax(decrs)\u001b[0m \u001b[1m<\u001b[0m\u001b[0m 0.26293159354306916))  ↣  Healthy : (ninstances = 86, ncovered = 2, coverage = 0.02, confidence = 1.0, lift = 1.87, natoms = 9)\n",
      "\u001b[34m▣\u001b[0m (¬(\u001b[1m\u001b[36mmax(sprd)\u001b[0m \u001b[1m<\u001b[0m\u001b[0m 664.0535057427451)) ∧ (¬(\u001b[1m\u001b[33mmean(mel1=357Hz)\u001b[0m \u001b[1m<\u001b[0m\u001b[0m -4.1684365386848885)) ∧ (\u001b[1m\u001b[33mmax(mel1=357Hz)\u001b[0m \u001b[1m<\u001b[0m\u001b[0m -0.11544222361904846) ∧ (¬(\u001b[1m\u001b[33mqnt(mel5=711Hz)\u001b[0m \u001b[1m<\u001b[0m\u001b[0m 1.6729201667253222)) ∧ (\u001b[1m\u001b[36mmax(sprd)\u001b[0m \u001b[1m<\u001b[0m\u001b[0m 908.9659831322302) ∧ (\u001b[1m\u001b[36mmax(skwns)\u001b[0m \u001b[1m<\u001b[0m\u001b[0m 10.610955524117045) ∧ (¬(\u001b[1m\u001b[33mmax(mel6=845Hz)\u001b[0m \u001b[1m<\u001b[0m\u001b[0m -2.200798828340653))  ↣  Healthy : (ninstances = 86, ncovered = 1, coverage = 0.01, confidence = 1.0, lift = 1.87, natoms = 7)\n",
      "\u001b[34m▣\u001b[0m (¬(\u001b[1m\u001b[36mmax(sprd)\u001b[0m \u001b[1m<\u001b[0m\u001b[0m 664.0535057427451)) ∧ (¬(\u001b[1m\u001b[33mmean(mel1=357Hz)\u001b[0m \u001b[1m<\u001b[0m\u001b[0m -4.1684365386848885)) ∧ (\u001b[1m\u001b[33mmax(mel1=357Hz)\u001b[0m \u001b[1m<\u001b[0m\u001b[0m -0.11544222361904846) ∧ (¬(\u001b[1m\u001b[33mqnt(mel5=711Hz)\u001b[0m \u001b[1m<\u001b[0m\u001b[0m 1.6729201667253222)) ∧ (\u001b[1m\u001b[36mmax(sprd)\u001b[0m \u001b[1m<\u001b[0m\u001b[0m 908.9659831322302) ∧ (¬(\u001b[1m\u001b[36mmax(skwns)\u001b[0m \u001b[1m<\u001b[0m\u001b[0m 10.610955524117045)) ∧ (¬(\u001b[1m\u001b[33mmax(mel13=2832Hz)\u001b[0m \u001b[1m<\u001b[0m\u001b[0m -7.113306400930482))  ↣  Healthy : (ninstances = 86, ncovered = 3, coverage = 0.03, confidence = 1.0, lift = 1.87, natoms = 7)\n",
      "\u001b[34m▣\u001b[0m (¬(\u001b[1m\u001b[36mmax(sprd)\u001b[0m \u001b[1m<\u001b[0m\u001b[0m 664.0535057427451)) ∧ (¬(\u001b[1m\u001b[33mmean(mel1=357Hz)\u001b[0m \u001b[1m<\u001b[0m\u001b[0m -4.1684365386848885)) ∧ (\u001b[1m\u001b[33mmax(mel1=357Hz)\u001b[0m \u001b[1m<\u001b[0m\u001b[0m -0.11544222361904846) ∧ (¬(\u001b[1m\u001b[33mqnt(mel5=711Hz)\u001b[0m \u001b[1m<\u001b[0m\u001b[0m 1.6729201667253222)) ∧ (¬(\u001b[1m\u001b[36mmax(sprd)\u001b[0m \u001b[1m<\u001b[0m\u001b[0m 908.9659831322302)) ∧ (\u001b[1m\u001b[36m3ac(sprd)\u001b[0m \u001b[1m<\u001b[0m\u001b[0m 0.04644326866549088) ∧ (\u001b[1m\u001b[36mstd(rllff)\u001b[0m \u001b[1m<\u001b[0m\u001b[0m 585.005009833498) ∧ (\u001b[1m\u001b[33mqnt(mel2=424Hz)\u001b[0m \u001b[1m<\u001b[0m\u001b[0m 2.1283764288799594)  ↣  Healthy : (ninstances = 86, ncovered = 1, coverage = 0.01, confidence = 1.0, lift = 1.87, natoms = 8)\n",
      "\u001b[34m▣\u001b[0m (¬(\u001b[1m\u001b[36mmax(sprd)\u001b[0m \u001b[1m<\u001b[0m\u001b[0m 664.0535057427451)) ∧ (¬(\u001b[1m\u001b[33mmean(mel1=357Hz)\u001b[0m \u001b[1m<\u001b[0m\u001b[0m -4.1684365386848885)) ∧ (\u001b[1m\u001b[33mmax(mel1=357Hz)\u001b[0m \u001b[1m<\u001b[0m\u001b[0m -0.11544222361904846) ∧ (¬(\u001b[1m\u001b[33mqnt(mel5=711Hz)\u001b[0m \u001b[1m<\u001b[0m\u001b[0m 1.6729201667253222)) ∧ (¬(\u001b[1m\u001b[36mmax(sprd)\u001b[0m \u001b[1m<\u001b[0m\u001b[0m 908.9659831322302)) ∧ (\u001b[1m\u001b[36m3ac(sprd)\u001b[0m \u001b[1m<\u001b[0m\u001b[0m 0.04644326866549088) ∧ (\u001b[1m\u001b[36mstd(rllff)\u001b[0m \u001b[1m<\u001b[0m\u001b[0m 585.005009833498) ∧ (¬(\u001b[1m\u001b[33mqnt(mel2=424Hz)\u001b[0m \u001b[1m<\u001b[0m\u001b[0m 2.1283764288799594)) ∧ (\u001b[1m\u001b[36mmed(kurts)\u001b[0m \u001b[1m<\u001b[0m\u001b[0m 3.5726833398943887)  ↣  Healthy : (ninstances = 86, ncovered = 2, coverage = 0.02, confidence = 1.0, lift = 1.87, natoms = 9)\n",
      "\u001b[34m▣\u001b[0m (¬(\u001b[1m\u001b[36mmax(sprd)\u001b[0m \u001b[1m<\u001b[0m\u001b[0m 664.0535057427451)) ∧ (¬(\u001b[1m\u001b[33mmean(mel1=357Hz)\u001b[0m \u001b[1m<\u001b[0m\u001b[0m -4.1684365386848885)) ∧ (\u001b[1m\u001b[33mmax(mel1=357Hz)\u001b[0m \u001b[1m<\u001b[0m\u001b[0m -0.11544222361904846) ∧ (¬(\u001b[1m\u001b[33mqnt(mel5=711Hz)\u001b[0m \u001b[1m<\u001b[0m\u001b[0m 1.6729201667253222)) ∧ (¬(\u001b[1m\u001b[36mmax(sprd)\u001b[0m \u001b[1m<\u001b[0m\u001b[0m 908.9659831322302)) ∧ (\u001b[1m\u001b[36m3ac(sprd)\u001b[0m \u001b[1m<\u001b[0m\u001b[0m 0.04644326866549088) ∧ (¬(\u001b[1m\u001b[36mstd(rllff)\u001b[0m \u001b[1m<\u001b[0m\u001b[0m 585.005009833498)) ∧ (\u001b[1m\u001b[33mbsm(mel8=1194Hz)\u001b[0m \u001b[1m<\u001b[0m\u001b[0m 6.5)  ↣  URTI : (ninstances = 86, ncovered = 2, coverage = 0.02, confidence = 0.5, lift = 1.08, natoms = 8)\n",
      "\u001b[34m▣\u001b[0m (¬(\u001b[1m\u001b[36mmax(sprd)\u001b[0m \u001b[1m<\u001b[0m\u001b[0m 664.0535057427451)) ∧ (¬(\u001b[1m\u001b[33mmean(mel1=357Hz)\u001b[0m \u001b[1m<\u001b[0m\u001b[0m -4.1684365386848885)) ∧ (\u001b[1m\u001b[33mmax(mel1=357Hz)\u001b[0m \u001b[1m<\u001b[0m\u001b[0m -0.11544222361904846) ∧ (¬(\u001b[1m\u001b[33mqnt(mel5=711Hz)\u001b[0m \u001b[1m<\u001b[0m\u001b[0m 1.6729201667253222)) ∧ (¬(\u001b[1m\u001b[36mmax(sprd)\u001b[0m \u001b[1m<\u001b[0m\u001b[0m 908.9659831322302)) ∧ (¬(\u001b[1m\u001b[36m3ac(sprd)\u001b[0m \u001b[1m<\u001b[0m\u001b[0m 0.04644326866549088))  ↣  Healthy : (ninstances = 86, ncovered = 10, coverage = 0.12, confidence = 0.8, lift = 1.5, natoms = 6)\n"
     ]
    }
   ],
   "source": [
    "interesting_rules = listrules(sole_dt, min_lift = 1.0, min_ninstances = 0);\n",
    "printmodel.(interesting_rules; show_metrics = true, variable_names_map = variable_names);"
   ]
  },
  {
   "cell_type": "markdown",
   "metadata": {},
   "source": [
    "### Simplify rules while extracting and prettify result"
   ]
  },
  {
   "cell_type": "code",
   "execution_count": 34,
   "metadata": {},
   "outputs": [
    {
     "name": "stdout",
     "output_type": "stream",
     "text": [
      "\u001b[34m▣\u001b[0m (\u001b[1m\u001b[36mmax(sprd)\u001b[0m \u001b[1m<\u001b[0m\u001b[0m 664.05) ∧ (\u001b[1m\u001b[33mmin(mel8=1194Hz)\u001b[0m \u001b[1m<\u001b[0m\u001b[0m -4.03) ∧ (\u001b[1m\u001b[33m3ac(mel2=424Hz)\u001b[0m \u001b[1m<\u001b[0m\u001b[0m 0.12) ∧ (\u001b[1m\u001b[33mbsm(mel3=504Hz)\u001b[0m \u001b[1m<\u001b[0m\u001b[0m 17.5) ∧ (\u001b[1m\u001b[33mqnt(mel8=1194Hz)\u001b[0m \u001b[1m<\u001b[0m\u001b[0m 1.95)  ↣  URTI : (ninstances = 86, ncovered = 16, coverage = 0.19, confidence = 0.81, lift = 1.75, natoms = 5)\n",
      "\u001b[34m▣\u001b[0m (\u001b[1m\u001b[36mmax(sprd)\u001b[0m \u001b[1m<\u001b[0m\u001b[0m 664.05) ∧ (\u001b[1m\u001b[33mmin(mel8=1194Hz)\u001b[0m \u001b[1m<\u001b[0m\u001b[0m -4.03) ∧ (\u001b[1m\u001b[33m3ac(mel2=424Hz)\u001b[0m \u001b[1m<\u001b[0m\u001b[0m 0.12) ∧ (\u001b[1m\u001b[33mbsm(mel3=504Hz)\u001b[0m \u001b[1m<\u001b[0m\u001b[0m 17.5) ∧ (\u001b[1m\u001b[33mqnt(mel8=1194Hz)\u001b[0m \u001b[1m≥\u001b[0m\u001b[0m 1.95) ∧ (\u001b[1m\u001b[33mmean(mel9=1419Hz)\u001b[0m \u001b[1m≥\u001b[0m\u001b[0m -5.35) ∧ (\u001b[1m\u001b[36mmax(flatn)\u001b[0m \u001b[1m<\u001b[0m\u001b[0m 0.15) ∧ (\u001b[1m\u001b[33mmin(mel4=599Hz)\u001b[0m \u001b[1m<\u001b[0m\u001b[0m -5.67)  ↣  Healthy : (ninstances = 86, ncovered = 1, coverage = 0.01, confidence = 1.0, lift = 1.87, natoms = 8)\n",
      "\u001b[34m▣\u001b[0m (\u001b[1m\u001b[36mmax(sprd)\u001b[0m \u001b[1m<\u001b[0m\u001b[0m 664.05) ∧ (\u001b[1m\u001b[33mmin(mel8=1194Hz)\u001b[0m \u001b[1m<\u001b[0m\u001b[0m -4.03) ∧ (\u001b[1m\u001b[33m3ac(mel2=424Hz)\u001b[0m \u001b[1m<\u001b[0m\u001b[0m 0.12) ∧ (\u001b[1m\u001b[33mbsm(mel3=504Hz)\u001b[0m \u001b[1m<\u001b[0m\u001b[0m 17.5) ∧ (\u001b[1m\u001b[33mqnt(mel8=1194Hz)\u001b[0m \u001b[1m≥\u001b[0m\u001b[0m 1.95) ∧ (\u001b[1m\u001b[33mmean(mel9=1419Hz)\u001b[0m \u001b[1m≥\u001b[0m\u001b[0m -5.35) ∧ (\u001b[1m\u001b[36mmax(flatn)\u001b[0m \u001b[1m<\u001b[0m\u001b[0m 0.15) ∧ (\u001b[1m\u001b[33mmin(mel4=599Hz)\u001b[0m \u001b[1m≥\u001b[0m\u001b[0m -5.67)  ↣  URTI : (ninstances = 86, ncovered = 9, coverage = 0.1, confidence = 1.0, lift = 2.15, natoms = 8)\n",
      "\u001b[34m▣\u001b[0m (\u001b[1m\u001b[36mmax(sprd)\u001b[0m \u001b[1m<\u001b[0m\u001b[0m 664.05) ∧ (\u001b[1m\u001b[33mmin(mel8=1194Hz)\u001b[0m \u001b[1m<\u001b[0m\u001b[0m -4.03) ∧ (\u001b[1m\u001b[33m3ac(mel2=424Hz)\u001b[0m \u001b[1m<\u001b[0m\u001b[0m 0.12) ∧ (\u001b[1m\u001b[33mbsm(mel3=504Hz)\u001b[0m \u001b[1m<\u001b[0m\u001b[0m 17.5) ∧ (\u001b[1m\u001b[33mqnt(mel8=1194Hz)\u001b[0m \u001b[1m≥\u001b[0m\u001b[0m 1.95) ∧ (\u001b[1m\u001b[33mmean(mel9=1419Hz)\u001b[0m \u001b[1m≥\u001b[0m\u001b[0m -5.35) ∧ (\u001b[1m\u001b[36mmax(flatn)\u001b[0m \u001b[1m≥\u001b[0m\u001b[0m 0.15)  ↣  Healthy : (ninstances = 86, ncovered = 1, coverage = 0.01, confidence = 1.0, lift = 1.87, natoms = 7)\n",
      "\u001b[34m▣\u001b[0m (\u001b[1m\u001b[36mmax(sprd)\u001b[0m \u001b[1m<\u001b[0m\u001b[0m 664.05) ∧ (\u001b[1m\u001b[33mmin(mel8=1194Hz)\u001b[0m \u001b[1m<\u001b[0m\u001b[0m -4.03) ∧ (\u001b[1m\u001b[33m3ac(mel2=424Hz)\u001b[0m \u001b[1m≥\u001b[0m\u001b[0m 0.12) ∧ (\u001b[1m\u001b[33m3ac(mel10=1687Hz)\u001b[0m \u001b[1m≥\u001b[0m\u001b[0m 0.05) ∧ (\u001b[1m\u001b[33mqnt(mel8=1194Hz)\u001b[0m \u001b[1m≥\u001b[0m\u001b[0m 1.71)  ↣  Healthy : (ninstances = 86, ncovered = 1, coverage = 0.01, confidence = 1.0, lift = 1.87, natoms = 5)\n",
      "\u001b[34m▣\u001b[0m (\u001b[1m\u001b[36mmax(sprd)\u001b[0m \u001b[1m<\u001b[0m\u001b[0m 664.05) ∧ (\u001b[1m\u001b[33mmin(mel8=1194Hz)\u001b[0m \u001b[1m≥\u001b[0m\u001b[0m -4.03) ∧ (\u001b[1m\u001b[33mmean(mel13=2832Hz)\u001b[0m \u001b[1m<\u001b[0m\u001b[0m -5.05)  ↣  Healthy : (ninstances = 86, ncovered = 3, coverage = 0.03, confidence = 1.0, lift = 1.87, natoms = 3)\n",
      "\u001b[34m▣\u001b[0m (\u001b[1m\u001b[36mmax(sprd)\u001b[0m \u001b[1m<\u001b[0m\u001b[0m 664.05) ∧ (\u001b[1m\u001b[33mmin(mel8=1194Hz)\u001b[0m \u001b[1m≥\u001b[0m\u001b[0m -4.03) ∧ (\u001b[1m\u001b[33mmean(mel13=2832Hz)\u001b[0m \u001b[1m≥\u001b[0m\u001b[0m -5.05) ∧ (\u001b[1m\u001b[33mqnt(mel6=845Hz)\u001b[0m \u001b[1m<\u001b[0m\u001b[0m 1.81)  ↣  Healthy : (ninstances = 86, ncovered = 1, coverage = 0.01, confidence = 1.0, lift = 1.87, natoms = 4)\n",
      "\u001b[34m▣\u001b[0m (\u001b[1m\u001b[36mmax(sprd)\u001b[0m \u001b[1m<\u001b[0m\u001b[0m 664.05) ∧ (\u001b[1m\u001b[33mmin(mel8=1194Hz)\u001b[0m \u001b[1m≥\u001b[0m\u001b[0m -4.03) ∧ (\u001b[1m\u001b[33mmean(mel13=2832Hz)\u001b[0m \u001b[1m≥\u001b[0m\u001b[0m -5.05) ∧ (\u001b[1m\u001b[33mqnt(mel6=845Hz)\u001b[0m \u001b[1m≥\u001b[0m\u001b[0m 1.81)  ↣  URTI : (ninstances = 86, ncovered = 2, coverage = 0.02, confidence = 1.0, lift = 2.15, natoms = 4)\n",
      "\u001b[34m▣\u001b[0m (\u001b[1m\u001b[36mmax(sprd)\u001b[0m \u001b[1m≥\u001b[0m\u001b[0m 664.05) ∧ (\u001b[1m\u001b[33mmean(mel1=357Hz)\u001b[0m \u001b[1m<\u001b[0m\u001b[0m -4.17) ∧ (\u001b[1m\u001b[33mmean(mel8=1194Hz)\u001b[0m \u001b[1m<\u001b[0m\u001b[0m -4.84)  ↣  Healthy : (ninstances = 86, ncovered = 4, coverage = 0.05, confidence = 1.0, lift = 1.87, natoms = 3)\n",
      "\u001b[34m▣\u001b[0m (\u001b[1m\u001b[36mmax(sprd)\u001b[0m \u001b[1m≥\u001b[0m\u001b[0m 664.05) ∧ (\u001b[1m\u001b[33mmean(mel1=357Hz)\u001b[0m \u001b[1m≥\u001b[0m\u001b[0m -4.17) ∧ (\u001b[1m\u001b[33mmax(mel1=357Hz)\u001b[0m \u001b[1m<\u001b[0m\u001b[0m -0.12) ∧ (\u001b[1m\u001b[33mqnt(mel5=711Hz)\u001b[0m \u001b[1m<\u001b[0m\u001b[0m 1.67)  ↣  Healthy : (ninstances = 86, ncovered = 3, coverage = 0.03, confidence = 0.67, lift = 1.25, natoms = 4)\n",
      "\u001b[34m▣\u001b[0m (\u001b[36mmax(sprd)\u001b[0m ∈ [664.05,908.97)) ∧ (\u001b[1m\u001b[33mmean(mel1=357Hz)\u001b[0m \u001b[1m≥\u001b[0m\u001b[0m -2.66) ∧ (\u001b[1m\u001b[33mmax(mel1=357Hz)\u001b[0m \u001b[1m<\u001b[0m\u001b[0m -0.12) ∧ (\u001b[1m\u001b[33mqnt(mel5=711Hz)\u001b[0m \u001b[1m≥\u001b[0m\u001b[0m 1.67) ∧ (\u001b[1m\u001b[36mmax(skwns)\u001b[0m \u001b[1m<\u001b[0m\u001b[0m 10.61) ∧ (\u001b[1m\u001b[33mmax(mel6=845Hz)\u001b[0m \u001b[1m<\u001b[0m\u001b[0m -2.2) ∧ (\u001b[1m\u001b[36mmax(entrp)\u001b[0m \u001b[1m<\u001b[0m\u001b[0m 0.83) ∧ (\u001b[1m\u001b[36mmax(decrs)\u001b[0m \u001b[1m<\u001b[0m\u001b[0m 0.33)  ↣  URTI : (ninstances = 86, ncovered = 3, coverage = 0.03, confidence = 0.67, lift = 1.43, natoms = 8)\n",
      "\u001b[34m▣\u001b[0m (\u001b[36mmax(sprd)\u001b[0m ∈ [664.05,908.97)) ∧ (\u001b[1m\u001b[33mmean(mel1=357Hz)\u001b[0m \u001b[1m≥\u001b[0m\u001b[0m -4.17) ∧ (\u001b[1m\u001b[33mmax(mel1=357Hz)\u001b[0m \u001b[1m<\u001b[0m\u001b[0m -0.12) ∧ (\u001b[1m\u001b[33mqnt(mel5=711Hz)\u001b[0m \u001b[1m≥\u001b[0m\u001b[0m 1.67) ∧ (\u001b[1m\u001b[36mmax(skwns)\u001b[0m \u001b[1m<\u001b[0m\u001b[0m 10.61) ∧ (\u001b[1m\u001b[33mmax(mel6=845Hz)\u001b[0m \u001b[1m<\u001b[0m\u001b[0m -2.2) ∧ (\u001b[1m\u001b[36mmax(entrp)\u001b[0m \u001b[1m≥\u001b[0m\u001b[0m 0.83) ∧ (\u001b[1m\u001b[36mmax(decrs)\u001b[0m \u001b[1m<\u001b[0m\u001b[0m 0.26)  ↣  URTI : (ninstances = 86, ncovered = 2, coverage = 0.02, confidence = 0.5, lift = 1.08, natoms = 8)\n",
      "\u001b[34m▣\u001b[0m (\u001b[36mmax(sprd)\u001b[0m ∈ [664.05,908.97)) ∧ (\u001b[1m\u001b[33mmean(mel1=357Hz)\u001b[0m \u001b[1m≥\u001b[0m\u001b[0m -4.17) ∧ (\u001b[1m\u001b[33mmax(mel1=357Hz)\u001b[0m \u001b[1m<\u001b[0m\u001b[0m -0.12) ∧ (\u001b[1m\u001b[33mqnt(mel5=711Hz)\u001b[0m \u001b[1m≥\u001b[0m\u001b[0m 1.67) ∧ (\u001b[1m\u001b[36mmax(skwns)\u001b[0m \u001b[1m<\u001b[0m\u001b[0m 10.61) ∧ (\u001b[1m\u001b[33mmax(mel6=845Hz)\u001b[0m \u001b[1m<\u001b[0m\u001b[0m -2.2) ∧ (\u001b[1m\u001b[36mmax(entrp)\u001b[0m \u001b[1m≥\u001b[0m\u001b[0m 0.83) ∧ (\u001b[1m\u001b[36mmax(decrs)\u001b[0m \u001b[1m≥\u001b[0m\u001b[0m 0.26)  ↣  Healthy : (ninstances = 86, ncovered = 2, coverage = 0.02, confidence = 1.0, lift = 1.87, natoms = 8)\n",
      "\u001b[34m▣\u001b[0m (\u001b[36mmax(sprd)\u001b[0m ∈ [664.05,908.97)) ∧ (\u001b[1m\u001b[33mmean(mel1=357Hz)\u001b[0m \u001b[1m≥\u001b[0m\u001b[0m -4.17) ∧ (\u001b[1m\u001b[33mmax(mel1=357Hz)\u001b[0m \u001b[1m<\u001b[0m\u001b[0m -0.12) ∧ (\u001b[1m\u001b[33mqnt(mel5=711Hz)\u001b[0m \u001b[1m≥\u001b[0m\u001b[0m 1.67) ∧ (\u001b[1m\u001b[36mmax(skwns)\u001b[0m \u001b[1m<\u001b[0m\u001b[0m 10.61) ∧ (\u001b[1m\u001b[33mmax(mel6=845Hz)\u001b[0m \u001b[1m≥\u001b[0m\u001b[0m -2.2)  ↣  Healthy : (ninstances = 86, ncovered = 1, coverage = 0.01, confidence = 1.0, lift = 1.87, natoms = 6)\n",
      "\u001b[34m▣\u001b[0m (\u001b[36mmax(sprd)\u001b[0m ∈ [664.05,908.97)) ∧ (\u001b[1m\u001b[33mmean(mel1=357Hz)\u001b[0m \u001b[1m≥\u001b[0m\u001b[0m -4.17) ∧ (\u001b[1m\u001b[33mmax(mel1=357Hz)\u001b[0m \u001b[1m<\u001b[0m\u001b[0m -0.12) ∧ (\u001b[1m\u001b[33mqnt(mel5=711Hz)\u001b[0m \u001b[1m≥\u001b[0m\u001b[0m 1.67) ∧ (\u001b[1m\u001b[36mmax(skwns)\u001b[0m \u001b[1m≥\u001b[0m\u001b[0m 10.61) ∧ (\u001b[1m\u001b[33mmax(mel13=2832Hz)\u001b[0m \u001b[1m≥\u001b[0m\u001b[0m -7.11)  ↣  Healthy : (ninstances = 86, ncovered = 3, coverage = 0.03, confidence = 1.0, lift = 1.87, natoms = 6)\n",
      "\u001b[34m▣\u001b[0m (\u001b[1m\u001b[36mmax(sprd)\u001b[0m \u001b[1m≥\u001b[0m\u001b[0m 908.97) ∧ (\u001b[1m\u001b[33mmean(mel1=357Hz)\u001b[0m \u001b[1m≥\u001b[0m\u001b[0m -4.17) ∧ (\u001b[1m\u001b[33mmax(mel1=357Hz)\u001b[0m \u001b[1m<\u001b[0m\u001b[0m -0.12) ∧ (\u001b[1m\u001b[33mqnt(mel5=711Hz)\u001b[0m \u001b[1m≥\u001b[0m\u001b[0m 1.67) ∧ (\u001b[1m\u001b[36m3ac(sprd)\u001b[0m \u001b[1m<\u001b[0m\u001b[0m 0.05) ∧ (\u001b[1m\u001b[36mstd(rllff)\u001b[0m \u001b[1m<\u001b[0m\u001b[0m 585.01) ∧ (\u001b[1m\u001b[33mqnt(mel2=424Hz)\u001b[0m \u001b[1m<\u001b[0m\u001b[0m 2.13)  ↣  Healthy : (ninstances = 86, ncovered = 1, coverage = 0.01, confidence = 1.0, lift = 1.87, natoms = 7)\n",
      "\u001b[34m▣\u001b[0m (\u001b[1m\u001b[36mmax(sprd)\u001b[0m \u001b[1m≥\u001b[0m\u001b[0m 908.97) ∧ (\u001b[1m\u001b[33mmean(mel1=357Hz)\u001b[0m \u001b[1m≥\u001b[0m\u001b[0m -4.17) ∧ (\u001b[1m\u001b[33mmax(mel1=357Hz)\u001b[0m \u001b[1m<\u001b[0m\u001b[0m -0.12) ∧ (\u001b[1m\u001b[33mqnt(mel5=711Hz)\u001b[0m \u001b[1m≥\u001b[0m\u001b[0m 1.67) ∧ (\u001b[1m\u001b[36m3ac(sprd)\u001b[0m \u001b[1m<\u001b[0m\u001b[0m 0.05) ∧ (\u001b[1m\u001b[36mstd(rllff)\u001b[0m \u001b[1m<\u001b[0m\u001b[0m 585.01) ∧ (\u001b[1m\u001b[33mqnt(mel2=424Hz)\u001b[0m \u001b[1m≥\u001b[0m\u001b[0m 2.13) ∧ (\u001b[1m\u001b[36mmed(kurts)\u001b[0m \u001b[1m<\u001b[0m\u001b[0m 3.57)  ↣  Healthy : (ninstances = 86, ncovered = 2, coverage = 0.02, confidence = 1.0, lift = 1.87, natoms = 8)\n",
      "\u001b[34m▣\u001b[0m (\u001b[1m\u001b[36mmax(sprd)\u001b[0m \u001b[1m≥\u001b[0m\u001b[0m 908.97) ∧ (\u001b[1m\u001b[33mmean(mel1=357Hz)\u001b[0m \u001b[1m≥\u001b[0m\u001b[0m -4.17) ∧ (\u001b[1m\u001b[33mmax(mel1=357Hz)\u001b[0m \u001b[1m<\u001b[0m\u001b[0m -0.12) ∧ (\u001b[1m\u001b[33mqnt(mel5=711Hz)\u001b[0m \u001b[1m≥\u001b[0m\u001b[0m 1.67) ∧ (\u001b[1m\u001b[36m3ac(sprd)\u001b[0m \u001b[1m<\u001b[0m\u001b[0m 0.05) ∧ (\u001b[1m\u001b[36mstd(rllff)\u001b[0m \u001b[1m≥\u001b[0m\u001b[0m 585.01) ∧ (\u001b[1m\u001b[33mbsm(mel8=1194Hz)\u001b[0m \u001b[1m<\u001b[0m\u001b[0m 6.5)  ↣  URTI : (ninstances = 86, ncovered = 2, coverage = 0.02, confidence = 0.5, lift = 1.08, natoms = 7)\n",
      "\u001b[34m▣\u001b[0m (\u001b[1m\u001b[36mmax(sprd)\u001b[0m \u001b[1m≥\u001b[0m\u001b[0m 908.97) ∧ (\u001b[1m\u001b[33mmean(mel1=357Hz)\u001b[0m \u001b[1m≥\u001b[0m\u001b[0m -4.17) ∧ (\u001b[1m\u001b[33mmax(mel1=357Hz)\u001b[0m \u001b[1m<\u001b[0m\u001b[0m -0.12) ∧ (\u001b[1m\u001b[33mqnt(mel5=711Hz)\u001b[0m \u001b[1m≥\u001b[0m\u001b[0m 1.67) ∧ (\u001b[1m\u001b[36m3ac(sprd)\u001b[0m \u001b[1m≥\u001b[0m\u001b[0m 0.05)  ↣  Healthy : (ninstances = 86, ncovered = 10, coverage = 0.12, confidence = 0.8, lift = 1.5, natoms = 5)\n"
     ]
    }
   ],
   "source": [
    "interesting_rules = listrules(sole_dt, min_lift = 1.0, min_ninstances = 0, normalize = true);\n",
    "printmodel.(interesting_rules; show_metrics = true, syntaxstring_kwargs = (; threshold_digits = 2), variable_names_map = variable_names);"
   ]
  },
  {
   "cell_type": "markdown",
   "metadata": {},
   "source": [
    "### Directly access rule metrics"
   ]
  },
  {
   "cell_type": "code",
   "execution_count": 35,
   "metadata": {},
   "outputs": [
    {
     "data": {
      "text/plain": [
       "19-element Vector{@NamedTuple{ninstances::Int64, ncovered::Int64, coverage::Float64, confidence::Float64, lift::Float64, natoms::Int64}}:\n",
       " (ninstances = 86, ncovered = 16, coverage = 0.18604651162790697, confidence = 0.8125, lift = 1.746875, natoms = 5)\n",
       " (ninstances = 86, ncovered = 1, coverage = 0.011627906976744186, confidence = 1.0, lift = 1.8695652173913044, natoms = 8)\n",
       " (ninstances = 86, ncovered = 9, coverage = 0.10465116279069768, confidence = 1.0, lift = 2.15, natoms = 8)\n",
       " (ninstances = 86, ncovered = 1, coverage = 0.011627906976744186, confidence = 1.0, lift = 1.8695652173913044, natoms = 7)\n",
       " (ninstances = 86, ncovered = 1, coverage = 0.011627906976744186, confidence = 1.0, lift = 1.8695652173913044, natoms = 5)\n",
       " (ninstances = 86, ncovered = 3, coverage = 0.03488372093023256, confidence = 1.0, lift = 1.8695652173913044, natoms = 3)\n",
       " (ninstances = 86, ncovered = 1, coverage = 0.011627906976744186, confidence = 1.0, lift = 1.8695652173913044, natoms = 4)\n",
       " (ninstances = 86, ncovered = 2, coverage = 0.023255813953488372, confidence = 1.0, lift = 2.15, natoms = 4)\n",
       " (ninstances = 86, ncovered = 4, coverage = 0.046511627906976744, confidence = 1.0, lift = 1.8695652173913044, natoms = 3)\n",
       " (ninstances = 86, ncovered = 3, coverage = 0.03488372093023256, confidence = 0.6666666666666666, lift = 1.2463768115942029, natoms = 4)\n",
       " (ninstances = 86, ncovered = 3, coverage = 0.03488372093023256, confidence = 0.6666666666666666, lift = 1.4333333333333333, natoms = 10)\n",
       " (ninstances = 86, ncovered = 2, coverage = 0.023255813953488372, confidence = 0.5, lift = 1.075, natoms = 9)\n",
       " (ninstances = 86, ncovered = 2, coverage = 0.023255813953488372, confidence = 1.0, lift = 1.8695652173913044, natoms = 9)\n",
       " (ninstances = 86, ncovered = 1, coverage = 0.011627906976744186, confidence = 1.0, lift = 1.8695652173913044, natoms = 7)\n",
       " (ninstances = 86, ncovered = 3, coverage = 0.03488372093023256, confidence = 1.0, lift = 1.8695652173913044, natoms = 7)\n",
       " (ninstances = 86, ncovered = 1, coverage = 0.011627906976744186, confidence = 1.0, lift = 1.8695652173913044, natoms = 8)\n",
       " (ninstances = 86, ncovered = 2, coverage = 0.023255813953488372, confidence = 1.0, lift = 1.8695652173913044, natoms = 9)\n",
       " (ninstances = 86, ncovered = 2, coverage = 0.023255813953488372, confidence = 0.5, lift = 1.075, natoms = 8)\n",
       " (ninstances = 86, ncovered = 10, coverage = 0.11627906976744186, confidence = 0.8, lift = 1.4956521739130437, natoms = 6)"
      ]
     },
     "metadata": {},
     "output_type": "display_data"
    }
   ],
   "source": [
    "readmetrics.(listrules(sole_dt; min_lift=1.0, min_ninstances = 0))"
   ]
  },
  {
   "cell_type": "markdown",
   "metadata": {},
   "source": [
    "### Show rules with an additional metric (syntax height of the rule's antecedent)"
   ]
  },
  {
   "cell_type": "code",
   "execution_count": 36,
   "metadata": {},
   "outputs": [
    {
     "name": "stdout",
     "output_type": "stream",
     "text": [
      "\u001b[34m▣\u001b[0m (\u001b[1m\u001b[36mmax(sprd)\u001b[0m \u001b[1m<\u001b[0m\u001b[0m 664.0535057427451) ∧ (\u001b[1m\u001b[33mmin(mel8=1194Hz)\u001b[0m \u001b[1m≥\u001b[0m\u001b[0m -4.028207814322176) ∧ (\u001b[1m\u001b[33mmean(mel13=2832Hz)\u001b[0m \u001b[1m≥\u001b[0m\u001b[0m -5.051449874154914) ∧ (\u001b[1m\u001b[33mqnt(mel6=845Hz)\u001b[0m \u001b[1m<\u001b[0m\u001b[0m 1.8093160599313536)  ↣  Healthy : (ninstances = 86, ncovered = 1, coverage = 0.011627906976744186, confidence = 1.0, lift = 1.8695652173913044, natoms = 4, height = 3)\n",
      "\u001b[34m▣\u001b[0m (\u001b[1m\u001b[36mmax(sprd)\u001b[0m \u001b[1m<\u001b[0m\u001b[0m 664.0535057427451) ∧ (\u001b[1m\u001b[33mmin(mel8=1194Hz)\u001b[0m \u001b[1m<\u001b[0m\u001b[0m -4.028207814322176) ∧ (\u001b[1m\u001b[33m3ac(mel2=424Hz)\u001b[0m \u001b[1m≥\u001b[0m\u001b[0m 0.11555555555555556) ∧ (\u001b[1m\u001b[33m3ac(mel10=1687Hz)\u001b[0m \u001b[1m≥\u001b[0m\u001b[0m 0.048500881834215165) ∧ (\u001b[1m\u001b[33mqnt(mel8=1194Hz)\u001b[0m \u001b[1m≥\u001b[0m\u001b[0m 1.7126029972917245)  ↣  Healthy : (ninstances = 86, ncovered = 1, coverage = 0.011627906976744186, confidence = 1.0, lift = 1.8695652173913044, natoms = 5, height = 4)\n",
      "\u001b[34m▣\u001b[0m (\u001b[36mmax(sprd)\u001b[0m ∈ [664.0535057427451,908.9659831322302)) ∧ (\u001b[1m\u001b[33mmean(mel1=357Hz)\u001b[0m \u001b[1m≥\u001b[0m\u001b[0m -4.1684365386848885) ∧ (\u001b[1m\u001b[33mmax(mel1=357Hz)\u001b[0m \u001b[1m<\u001b[0m\u001b[0m -0.11544222361904846) ∧ (\u001b[1m\u001b[33mqnt(mel5=711Hz)\u001b[0m \u001b[1m≥\u001b[0m\u001b[0m 1.6729201667253222) ∧ (\u001b[1m\u001b[36mmax(skwns)\u001b[0m \u001b[1m<\u001b[0m\u001b[0m 10.610955524117045) ∧ (\u001b[1m\u001b[33mmax(mel6=845Hz)\u001b[0m \u001b[1m≥\u001b[0m\u001b[0m -2.200798828340653)  ↣  Healthy : (ninstances = 86, ncovered = 1, coverage = 0.011627906976744186, confidence = 1.0, lift = 1.8695652173913044, natoms = 6, height = 5)\n",
      "\u001b[34m▣\u001b[0m (\u001b[1m\u001b[36mmax(sprd)\u001b[0m \u001b[1m<\u001b[0m\u001b[0m 664.0535057427451) ∧ (\u001b[1m\u001b[33mmin(mel8=1194Hz)\u001b[0m \u001b[1m<\u001b[0m\u001b[0m -4.028207814322176) ∧ (\u001b[1m\u001b[33m3ac(mel2=424Hz)\u001b[0m \u001b[1m<\u001b[0m\u001b[0m 0.11555555555555556) ∧ (\u001b[1m\u001b[33mbsm(mel3=504Hz)\u001b[0m \u001b[1m<\u001b[0m\u001b[0m 17.5) ∧ (\u001b[1m\u001b[33mqnt(mel8=1194Hz)\u001b[0m \u001b[1m≥\u001b[0m\u001b[0m 1.948503881769832) ∧ (\u001b[1m\u001b[33mmean(mel9=1419Hz)\u001b[0m \u001b[1m≥\u001b[0m\u001b[0m -5.349004118322046) ∧ (\u001b[1m\u001b[36mmax(flatn)\u001b[0m \u001b[1m≥\u001b[0m\u001b[0m 0.1489664724582898)  ↣  Healthy : (ninstances = 86, ncovered = 1, coverage = 0.011627906976744186, confidence = 1.0, lift = 1.8695652173913044, natoms = 7, height = 6)\n",
      "\u001b[34m▣\u001b[0m (\u001b[1m\u001b[36mmax(sprd)\u001b[0m \u001b[1m≥\u001b[0m\u001b[0m 908.9659831322302) ∧ (\u001b[1m\u001b[33mmean(mel1=357Hz)\u001b[0m \u001b[1m≥\u001b[0m\u001b[0m -4.1684365386848885) ∧ (\u001b[1m\u001b[33mmax(mel1=357Hz)\u001b[0m \u001b[1m<\u001b[0m\u001b[0m -0.11544222361904846) ∧ (\u001b[1m\u001b[33mqnt(mel5=711Hz)\u001b[0m \u001b[1m≥\u001b[0m\u001b[0m 1.6729201667253222) ∧ (\u001b[1m\u001b[36m3ac(sprd)\u001b[0m \u001b[1m<\u001b[0m\u001b[0m 0.04644326866549088) ∧ (\u001b[1m\u001b[36mstd(rllff)\u001b[0m \u001b[1m<\u001b[0m\u001b[0m 585.005009833498) ∧ (\u001b[1m\u001b[33mqnt(mel2=424Hz)\u001b[0m \u001b[1m<\u001b[0m\u001b[0m 2.1283764288799594)  ↣  Healthy : (ninstances = 86, ncovered = 1, coverage = 0.011627906976744186, confidence = 1.0, lift = 1.8695652173913044, natoms = 7, height = 6)\n",
      "\u001b[34m▣\u001b[0m (\u001b[1m\u001b[36mmax(sprd)\u001b[0m \u001b[1m<\u001b[0m\u001b[0m 664.0535057427451) ∧ (\u001b[1m\u001b[33mmin(mel8=1194Hz)\u001b[0m \u001b[1m<\u001b[0m\u001b[0m -4.028207814322176) ∧ (\u001b[1m\u001b[33m3ac(mel2=424Hz)\u001b[0m \u001b[1m<\u001b[0m\u001b[0m 0.11555555555555556) ∧ (\u001b[1m\u001b[33mbsm(mel3=504Hz)\u001b[0m \u001b[1m<\u001b[0m\u001b[0m 17.5) ∧ (\u001b[1m\u001b[33mqnt(mel8=1194Hz)\u001b[0m \u001b[1m≥\u001b[0m\u001b[0m 1.948503881769832) ∧ (\u001b[1m\u001b[33mmean(mel9=1419Hz)\u001b[0m \u001b[1m≥\u001b[0m\u001b[0m -5.349004118322046) ∧ (\u001b[1m\u001b[36mmax(flatn)\u001b[0m \u001b[1m<\u001b[0m\u001b[0m 0.1489664724582898) ∧ (\u001b[1m\u001b[33mmin(mel4=599Hz)\u001b[0m \u001b[1m<\u001b[0m\u001b[0m -5.670229356292184)  ↣  Healthy : (ninstances = 86, ncovered = 1, coverage = 0.011627906976744186, confidence = 1.0, lift = 1.8695652173913044, natoms = 8, height = 7)\n",
      "\u001b[34m▣\u001b[0m (\u001b[1m\u001b[36mmax(sprd)\u001b[0m \u001b[1m≥\u001b[0m\u001b[0m 908.9659831322302) ∧ (\u001b[1m\u001b[33mmean(mel1=357Hz)\u001b[0m \u001b[1m≥\u001b[0m\u001b[0m -4.1684365386848885) ∧ (\u001b[1m\u001b[33mmax(mel1=357Hz)\u001b[0m \u001b[1m<\u001b[0m\u001b[0m -0.11544222361904846) ∧ (\u001b[1m\u001b[33mqnt(mel5=711Hz)\u001b[0m \u001b[1m≥\u001b[0m\u001b[0m 1.6729201667253222) ∧ (\u001b[1m\u001b[36m3ac(sprd)\u001b[0m \u001b[1m<\u001b[0m\u001b[0m 0.04644326866549088) ∧ (\u001b[1m\u001b[36mstd(rllff)\u001b[0m \u001b[1m≥\u001b[0m\u001b[0m 585.005009833498) ∧ (\u001b[1m\u001b[33mbsm(mel8=1194Hz)\u001b[0m \u001b[1m<\u001b[0m\u001b[0m 6.5)  ↣  URTI : (ninstances = 86, ncovered = 2, coverage = 0.023255813953488372, confidence = 0.5, lift = 1.075, natoms = 7, height = 6)\n",
      "\u001b[34m▣\u001b[0m (\u001b[36mmax(sprd)\u001b[0m ∈ [664.0535057427451,908.9659831322302)) ∧ (\u001b[1m\u001b[33mmean(mel1=357Hz)\u001b[0m \u001b[1m≥\u001b[0m\u001b[0m -4.1684365386848885) ∧ (\u001b[1m\u001b[33mmax(mel1=357Hz)\u001b[0m \u001b[1m<\u001b[0m\u001b[0m -0.11544222361904846) ∧ (\u001b[1m\u001b[33mqnt(mel5=711Hz)\u001b[0m \u001b[1m≥\u001b[0m\u001b[0m 1.6729201667253222) ∧ (\u001b[1m\u001b[36mmax(skwns)\u001b[0m \u001b[1m<\u001b[0m\u001b[0m 10.610955524117045) ∧ (\u001b[1m\u001b[33mmax(mel6=845Hz)\u001b[0m \u001b[1m<\u001b[0m\u001b[0m -2.200798828340653) ∧ (\u001b[1m\u001b[36mmax(entrp)\u001b[0m \u001b[1m≥\u001b[0m\u001b[0m 0.8329603484717418) ∧ (\u001b[1m\u001b[36mmax(decrs)\u001b[0m \u001b[1m<\u001b[0m\u001b[0m 0.26293159354306916)  ↣  URTI : (ninstances = 86, ncovered = 2, coverage = 0.023255813953488372, confidence = 0.5, lift = 1.075, natoms = 8, height = 7)\n",
      "\u001b[34m▣\u001b[0m (\u001b[36mmax(sprd)\u001b[0m ∈ [664.0535057427451,908.9659831322302)) ∧ (\u001b[1m\u001b[33mmean(mel1=357Hz)\u001b[0m \u001b[1m≥\u001b[0m\u001b[0m -4.1684365386848885) ∧ (\u001b[1m\u001b[33mmax(mel1=357Hz)\u001b[0m \u001b[1m<\u001b[0m\u001b[0m -0.11544222361904846) ∧ (\u001b[1m\u001b[33mqnt(mel5=711Hz)\u001b[0m \u001b[1m≥\u001b[0m\u001b[0m 1.6729201667253222) ∧ (\u001b[1m\u001b[36mmax(skwns)\u001b[0m \u001b[1m<\u001b[0m\u001b[0m 10.610955524117045) ∧ (\u001b[1m\u001b[33mmax(mel6=845Hz)\u001b[0m \u001b[1m<\u001b[0m\u001b[0m -2.200798828340653) ∧ (\u001b[1m\u001b[36mmax(entrp)\u001b[0m \u001b[1m≥\u001b[0m\u001b[0m 0.8329603484717418) ∧ (\u001b[1m\u001b[36mmax(decrs)\u001b[0m \u001b[1m≥\u001b[0m\u001b[0m 0.26293159354306916)  ↣  Healthy : (ninstances = 86, ncovered = 2, coverage = 0.023255813953488372, confidence = 1.0, lift = 1.8695652173913044, natoms = 8, height = 7)\n",
      "\u001b[34m▣\u001b[0m (\u001b[1m\u001b[36mmax(sprd)\u001b[0m \u001b[1m≥\u001b[0m\u001b[0m 908.9659831322302) ∧ (\u001b[1m\u001b[33mmean(mel1=357Hz)\u001b[0m \u001b[1m≥\u001b[0m\u001b[0m -4.1684365386848885) ∧ (\u001b[1m\u001b[33mmax(mel1=357Hz)\u001b[0m \u001b[1m<\u001b[0m\u001b[0m -0.11544222361904846) ∧ (\u001b[1m\u001b[33mqnt(mel5=711Hz)\u001b[0m \u001b[1m≥\u001b[0m\u001b[0m 1.6729201667253222) ∧ (\u001b[1m\u001b[36m3ac(sprd)\u001b[0m \u001b[1m<\u001b[0m\u001b[0m 0.04644326866549088) ∧ (\u001b[1m\u001b[36mstd(rllff)\u001b[0m \u001b[1m<\u001b[0m\u001b[0m 585.005009833498) ∧ (\u001b[1m\u001b[33mqnt(mel2=424Hz)\u001b[0m \u001b[1m≥\u001b[0m\u001b[0m 2.1283764288799594) ∧ (\u001b[1m\u001b[36mmed(kurts)\u001b[0m \u001b[1m<\u001b[0m\u001b[0m 3.5726833398943887)  ↣  Healthy : (ninstances = 86, ncovered = 2, coverage = 0.023255813953488372, confidence = 1.0, lift = 1.8695652173913044, natoms = 8, height = 7)\n",
      "\u001b[34m▣\u001b[0m (\u001b[1m\u001b[36mmax(sprd)\u001b[0m \u001b[1m<\u001b[0m\u001b[0m 664.0535057427451) ∧ (\u001b[1m\u001b[33mmin(mel8=1194Hz)\u001b[0m \u001b[1m≥\u001b[0m\u001b[0m -4.028207814322176) ∧ (\u001b[1m\u001b[33mmean(mel13=2832Hz)\u001b[0m \u001b[1m≥\u001b[0m\u001b[0m -5.051449874154914) ∧ (\u001b[1m\u001b[33mqnt(mel6=845Hz)\u001b[0m \u001b[1m≥\u001b[0m\u001b[0m 1.8093160599313536)  ↣  URTI : (ninstances = 86, ncovered = 2, coverage = 0.023255813953488372, confidence = 1.0, lift = 2.15, natoms = 4, height = 3)\n",
      "\u001b[34m▣\u001b[0m (\u001b[1m\u001b[36mmax(sprd)\u001b[0m \u001b[1m≥\u001b[0m\u001b[0m 664.0535057427451) ∧ (\u001b[1m\u001b[33mmean(mel1=357Hz)\u001b[0m \u001b[1m≥\u001b[0m\u001b[0m -4.1684365386848885) ∧ (\u001b[1m\u001b[33mmax(mel1=357Hz)\u001b[0m \u001b[1m<\u001b[0m\u001b[0m -0.11544222361904846) ∧ (\u001b[1m\u001b[33mqnt(mel5=711Hz)\u001b[0m \u001b[1m<\u001b[0m\u001b[0m 1.6729201667253222)  ↣  Healthy : (ninstances = 86, ncovered = 3, coverage = 0.03488372093023256, confidence = 0.6666666666666666, lift = 1.2463768115942029, natoms = 4, height = 3)\n",
      "\u001b[34m▣\u001b[0m (\u001b[36mmax(sprd)\u001b[0m ∈ [664.0535057427451,908.9659831322302)) ∧ (\u001b[1m\u001b[33mmean(mel1=357Hz)\u001b[0m \u001b[1m≥\u001b[0m\u001b[0m -2.6595759607820195) ∧ (\u001b[1m\u001b[33mmax(mel1=357Hz)\u001b[0m \u001b[1m<\u001b[0m\u001b[0m -0.11544222361904846) ∧ (\u001b[1m\u001b[33mqnt(mel5=711Hz)\u001b[0m \u001b[1m≥\u001b[0m\u001b[0m 1.6729201667253222) ∧ (\u001b[1m\u001b[36mmax(skwns)\u001b[0m \u001b[1m<\u001b[0m\u001b[0m 10.610955524117045) ∧ (\u001b[1m\u001b[33mmax(mel6=845Hz)\u001b[0m \u001b[1m<\u001b[0m\u001b[0m -2.200798828340653) ∧ (\u001b[1m\u001b[36mmax(entrp)\u001b[0m \u001b[1m<\u001b[0m\u001b[0m 0.8329603484717418) ∧ (\u001b[1m\u001b[36mmax(decrs)\u001b[0m \u001b[1m<\u001b[0m\u001b[0m 0.3330471235180842)  ↣  URTI : (ninstances = 86, ncovered = 3, coverage = 0.03488372093023256, confidence = 0.6666666666666666, lift = 1.4333333333333333, natoms = 8, height = 7)\n",
      "\u001b[34m▣\u001b[0m (\u001b[1m\u001b[36mmax(sprd)\u001b[0m \u001b[1m<\u001b[0m\u001b[0m 664.0535057427451) ∧ (\u001b[1m\u001b[33mmin(mel8=1194Hz)\u001b[0m \u001b[1m≥\u001b[0m\u001b[0m -4.028207814322176) ∧ (\u001b[1m\u001b[33mmean(mel13=2832Hz)\u001b[0m \u001b[1m<\u001b[0m\u001b[0m -5.051449874154914)  ↣  Healthy : (ninstances = 86, ncovered = 3, coverage = 0.03488372093023256, confidence = 1.0, lift = 1.8695652173913044, natoms = 3, height = 2)\n",
      "\u001b[34m▣\u001b[0m (\u001b[36mmax(sprd)\u001b[0m ∈ [664.0535057427451,908.9659831322302)) ∧ (\u001b[1m\u001b[33mmean(mel1=357Hz)\u001b[0m \u001b[1m≥\u001b[0m\u001b[0m -4.1684365386848885) ∧ (\u001b[1m\u001b[33mmax(mel1=357Hz)\u001b[0m \u001b[1m<\u001b[0m\u001b[0m -0.11544222361904846) ∧ (\u001b[1m\u001b[33mqnt(mel5=711Hz)\u001b[0m \u001b[1m≥\u001b[0m\u001b[0m 1.6729201667253222) ∧ (\u001b[1m\u001b[36mmax(skwns)\u001b[0m \u001b[1m≥\u001b[0m\u001b[0m 10.610955524117045) ∧ (\u001b[1m\u001b[33mmax(mel13=2832Hz)\u001b[0m \u001b[1m≥\u001b[0m\u001b[0m -7.113306400930482)  ↣  Healthy : (ninstances = 86, ncovered = 3, coverage = 0.03488372093023256, confidence = 1.0, lift = 1.8695652173913044, natoms = 6, height = 5)\n",
      "\u001b[34m▣\u001b[0m (\u001b[1m\u001b[36mmax(sprd)\u001b[0m \u001b[1m≥\u001b[0m\u001b[0m 664.0535057427451) ∧ (\u001b[1m\u001b[33mmean(mel1=357Hz)\u001b[0m \u001b[1m<\u001b[0m\u001b[0m -4.1684365386848885) ∧ (\u001b[1m\u001b[33mmean(mel8=1194Hz)\u001b[0m \u001b[1m<\u001b[0m\u001b[0m -4.84472544529558)  ↣  Healthy : (ninstances = 86, ncovered = 4, coverage = 0.046511627906976744, confidence = 1.0, lift = 1.8695652173913044, natoms = 3, height = 2)\n",
      "\u001b[34m▣\u001b[0m (\u001b[1m\u001b[36mmax(sprd)\u001b[0m \u001b[1m<\u001b[0m\u001b[0m 664.0535057427451) ∧ (\u001b[1m\u001b[33mmin(mel8=1194Hz)\u001b[0m \u001b[1m<\u001b[0m\u001b[0m -4.028207814322176) ∧ (\u001b[1m\u001b[33m3ac(mel2=424Hz)\u001b[0m \u001b[1m<\u001b[0m\u001b[0m 0.11555555555555556) ∧ (\u001b[1m\u001b[33mbsm(mel3=504Hz)\u001b[0m \u001b[1m<\u001b[0m\u001b[0m 17.5) ∧ (\u001b[1m\u001b[33mqnt(mel8=1194Hz)\u001b[0m \u001b[1m≥\u001b[0m\u001b[0m 1.948503881769832) ∧ (\u001b[1m\u001b[33mmean(mel9=1419Hz)\u001b[0m \u001b[1m≥\u001b[0m\u001b[0m -5.349004118322046) ∧ (\u001b[1m\u001b[36mmax(flatn)\u001b[0m \u001b[1m<\u001b[0m\u001b[0m 0.1489664724582898) ∧ (\u001b[1m\u001b[33mmin(mel4=599Hz)\u001b[0m \u001b[1m≥\u001b[0m\u001b[0m -5.670229356292184)  ↣  URTI : (ninstances = 86, ncovered = 9, coverage = 0.10465116279069768, confidence = 1.0, lift = 2.15, natoms = 8, height = 7)\n",
      "\u001b[34m▣\u001b[0m (\u001b[1m\u001b[36mmax(sprd)\u001b[0m \u001b[1m≥\u001b[0m\u001b[0m 908.9659831322302) ∧ (\u001b[1m\u001b[33mmean(mel1=357Hz)\u001b[0m \u001b[1m≥\u001b[0m\u001b[0m -4.1684365386848885) ∧ (\u001b[1m\u001b[33mmax(mel1=357Hz)\u001b[0m \u001b[1m<\u001b[0m\u001b[0m -0.11544222361904846) ∧ (\u001b[1m\u001b[33mqnt(mel5=711Hz)\u001b[0m \u001b[1m≥\u001b[0m\u001b[0m 1.6729201667253222) ∧ (\u001b[1m\u001b[36m3ac(sprd)\u001b[0m \u001b[1m≥\u001b[0m\u001b[0m 0.04644326866549088)  ↣  Healthy : (ninstances = 86, ncovered = 10, coverage = 0.11627906976744186, confidence = 0.8, lift = 1.4956521739130437, natoms = 5, height = 4)\n",
      "\u001b[34m▣\u001b[0m (\u001b[1m\u001b[36mmax(sprd)\u001b[0m \u001b[1m<\u001b[0m\u001b[0m 664.0535057427451) ∧ (\u001b[1m\u001b[33mmin(mel8=1194Hz)\u001b[0m \u001b[1m<\u001b[0m\u001b[0m -4.028207814322176) ∧ (\u001b[1m\u001b[33m3ac(mel2=424Hz)\u001b[0m \u001b[1m<\u001b[0m\u001b[0m 0.11555555555555556) ∧ (\u001b[1m\u001b[33mbsm(mel3=504Hz)\u001b[0m \u001b[1m<\u001b[0m\u001b[0m 17.5) ∧ (\u001b[1m\u001b[33mqnt(mel8=1194Hz)\u001b[0m \u001b[1m<\u001b[0m\u001b[0m 1.948503881769832)  ↣  URTI : (ninstances = 86, ncovered = 16, coverage = 0.18604651162790697, confidence = 0.8125, lift = 1.746875, natoms = 5, height = 4)\n"
     ]
    }
   ],
   "source": [
    "printmodel.(sort(interesting_rules, by = readmetrics); show_metrics = (; round_digits = nothing, additional_metrics = (; height = r->SoleLogics.height(antecedent(r)))), variable_names_map = variable_names);"
   ]
  },
  {
   "cell_type": "markdown",
   "metadata": {},
   "source": [
    "### Pretty table of rules and their metrics"
   ]
  },
  {
   "cell_type": "code",
   "execution_count": 37,
   "metadata": {},
   "outputs": [
    {
     "name": "stdout",
     "output_type": "stream",
     "text": [
      "┌──────────────────────────────────────────────────────────────────────────────────────────────────────────────────────────────────────────────────────────────────────────────────────────────────────────────────────────────────────────────────────────────────────────────────────────────────────────────────────────────────────────┬────────────┬────────────┬──────────┬───────────┬────────────┬─────────┬────────┬────────┐\n",
      "│\u001b[33;1m                                                                                                                                                                                                                                                                                                                               Antecedent \u001b[0m│\u001b[33;1m Consequent \u001b[0m│\u001b[33;1m ninstances \u001b[0m│\u001b[33;1m ncovered \u001b[0m│\u001b[33;1m  coverage \u001b[0m│\u001b[33;1m confidence \u001b[0m│\u001b[33;1m    lift \u001b[0m│\u001b[33;1m natoms \u001b[0m│\u001b[33;1m height \u001b[0m│\n",
      "├──────────────────────────────────────────────────────────────────────────────────────────────────────────────────────────────────────────────────────────────────────────────────────────────────────────────────────────────────────────────────────────────────────────────────────────────────────────────────────────────────────────┼────────────┼────────────┼──────────┼───────────┼────────────┼─────────┼────────┼────────┤\n",
      "│                                                                                                                                                  (\u001b[1m\u001b[36mmax(sprd)\u001b[0m \u001b[1m<\u001b[0m\u001b[0m 664.0535057427451) ∧ (\u001b[1m\u001b[33mmin(mel8=1194Hz)\u001b[0m \u001b[1m<\u001b[0m\u001b[0m -4.028207814322176) ∧ (\u001b[1m\u001b[33m3ac(mel2=424Hz)\u001b[0m \u001b[1m<\u001b[0m\u001b[0m 0.11555555555555556) ∧ (\u001b[1m\u001b[33mbsm(mel3=504Hz)\u001b[0m \u001b[1m<\u001b[0m\u001b[0m 17.5) ∧ (\u001b[1m\u001b[33mqnt(mel8=1194Hz)\u001b[0m \u001b[1m<\u001b[0m\u001b[0m 1.948503881769832)\u001b[0m │       URTI │         86 │       16 │  0.186047 │     0.8125 │ 1.74687 │      5 │      4 │\n",
      "│                          (\u001b[1m\u001b[36mmax(sprd)\u001b[0m \u001b[1m<\u001b[0m\u001b[0m 664.0535057427451) ∧ (\u001b[1m\u001b[33mmin(mel8=1194Hz)\u001b[0m \u001b[1m<\u001b[0m\u001b[0m -4.028207814322176) ∧ (\u001b[1m\u001b[33m3ac(mel2=424Hz)\u001b[0m \u001b[1m<\u001b[0m\u001b[0m 0.11555555555555556) ∧ (\u001b[1m\u001b[33mbsm(mel3=504Hz)\u001b[0m \u001b[1m<\u001b[0m\u001b[0m 17.5) ∧ (\u001b[1m\u001b[33mqnt(mel8=1194Hz)\u001b[0m \u001b[1m≥\u001b[0m\u001b[0m 1.948503881769832) ∧ (\u001b[1m\u001b[33mmean(mel9=1419Hz)\u001b[0m \u001b[1m≥\u001b[0m\u001b[0m -5.349004118322046) ∧ (\u001b[1m\u001b[36mmax(flatn)\u001b[0m \u001b[1m<\u001b[0m\u001b[0m 0.1489664724582898) ∧ (\u001b[1m\u001b[33mmin(mel4=599Hz)\u001b[0m \u001b[1m<\u001b[0m\u001b[0m -5.670229356292184)\u001b[0m │    Healthy │         86 │        1 │ 0.0116279 │        1.0 │ 1.86957 │      8 │      7 │\n",
      "│                          (\u001b[1m\u001b[36mmax(sprd)\u001b[0m \u001b[1m<\u001b[0m\u001b[0m 664.0535057427451) ∧ (\u001b[1m\u001b[33mmin(mel8=1194Hz)\u001b[0m \u001b[1m<\u001b[0m\u001b[0m -4.028207814322176) ∧ (\u001b[1m\u001b[33m3ac(mel2=424Hz)\u001b[0m \u001b[1m<\u001b[0m\u001b[0m 0.11555555555555556) ∧ (\u001b[1m\u001b[33mbsm(mel3=504Hz)\u001b[0m \u001b[1m<\u001b[0m\u001b[0m 17.5) ∧ (\u001b[1m\u001b[33mqnt(mel8=1194Hz)\u001b[0m \u001b[1m≥\u001b[0m\u001b[0m 1.948503881769832) ∧ (\u001b[1m\u001b[33mmean(mel9=1419Hz)\u001b[0m \u001b[1m≥\u001b[0m\u001b[0m -5.349004118322046) ∧ (\u001b[1m\u001b[36mmax(flatn)\u001b[0m \u001b[1m<\u001b[0m\u001b[0m 0.1489664724582898) ∧ (\u001b[1m\u001b[33mmin(mel4=599Hz)\u001b[0m \u001b[1m≥\u001b[0m\u001b[0m -5.670229356292184)\u001b[0m │       URTI │         86 │        9 │  0.104651 │        1.0 │    2.15 │      8 │      7 │\n",
      "│                                                                   (\u001b[1m\u001b[36mmax(sprd)\u001b[0m \u001b[1m<\u001b[0m\u001b[0m 664.0535057427451) ∧ (\u001b[1m\u001b[33mmin(mel8=1194Hz)\u001b[0m \u001b[1m<\u001b[0m\u001b[0m -4.028207814322176) ∧ (\u001b[1m\u001b[33m3ac(mel2=424Hz)\u001b[0m \u001b[1m<\u001b[0m\u001b[0m 0.11555555555555556) ∧ (\u001b[1m\u001b[33mbsm(mel3=504Hz)\u001b[0m \u001b[1m<\u001b[0m\u001b[0m 17.5) ∧ (\u001b[1m\u001b[33mqnt(mel8=1194Hz)\u001b[0m \u001b[1m≥\u001b[0m\u001b[0m 1.948503881769832) ∧ (\u001b[1m\u001b[33mmean(mel9=1419Hz)\u001b[0m \u001b[1m≥\u001b[0m\u001b[0m -5.349004118322046) ∧ (\u001b[1m\u001b[36mmax(flatn)\u001b[0m \u001b[1m≥\u001b[0m\u001b[0m 0.1489664724582898)\u001b[0m │    Healthy │         86 │        1 │ 0.0116279 │        1.0 │ 1.86957 │      7 │      6 │\n",
      "│                                                                                                                               (\u001b[1m\u001b[36mmax(sprd)\u001b[0m \u001b[1m<\u001b[0m\u001b[0m 664.0535057427451) ∧ (\u001b[1m\u001b[33mmin(mel8=1194Hz)\u001b[0m \u001b[1m<\u001b[0m\u001b[0m -4.028207814322176) ∧ (\u001b[1m\u001b[33m3ac(mel2=424Hz)\u001b[0m \u001b[1m≥\u001b[0m\u001b[0m 0.11555555555555556) ∧ (\u001b[1m\u001b[33m3ac(mel10=1687Hz)\u001b[0m \u001b[1m≥\u001b[0m\u001b[0m 0.048500881834215165) ∧ (\u001b[1m\u001b[33mqnt(mel8=1194Hz)\u001b[0m \u001b[1m≥\u001b[0m\u001b[0m 1.7126029972917245)\u001b[0m │    Healthy │         86 │        1 │ 0.0116279 │        1.0 │ 1.86957 │      5 │      4 │\n",
      "│                                                                                                                                                                                                                    (\u001b[1m\u001b[36mmax(sprd)\u001b[0m \u001b[1m<\u001b[0m\u001b[0m 664.0535057427451) ∧ (\u001b[1m\u001b[33mmin(mel8=1194Hz)\u001b[0m \u001b[1m≥\u001b[0m\u001b[0m -4.028207814322176) ∧ (\u001b[1m\u001b[33mmean(mel13=2832Hz)\u001b[0m \u001b[1m<\u001b[0m\u001b[0m -5.051449874154914)\u001b[0m │    Healthy │         86 │        3 │ 0.0348837 │        1.0 │ 1.86957 │      3 │      2 │\n",
      "│                                                                                                                                                                           (\u001b[1m\u001b[36mmax(sprd)\u001b[0m \u001b[1m<\u001b[0m\u001b[0m 664.0535057427451) ∧ (\u001b[1m\u001b[33mmin(mel8=1194Hz)\u001b[0m \u001b[1m≥\u001b[0m\u001b[0m -4.028207814322176) ∧ (\u001b[1m\u001b[33mmean(mel13=2832Hz)\u001b[0m \u001b[1m≥\u001b[0m\u001b[0m -5.051449874154914) ∧ (\u001b[1m\u001b[33mqnt(mel6=845Hz)\u001b[0m \u001b[1m<\u001b[0m\u001b[0m 1.8093160599313536)\u001b[0m │    Healthy │         86 │        1 │ 0.0116279 │        1.0 │ 1.86957 │      4 │      3 │\n",
      "│                                                                                                                                                                           (\u001b[1m\u001b[36mmax(sprd)\u001b[0m \u001b[1m<\u001b[0m\u001b[0m 664.0535057427451) ∧ (\u001b[1m\u001b[33mmin(mel8=1194Hz)\u001b[0m \u001b[1m≥\u001b[0m\u001b[0m -4.028207814322176) ∧ (\u001b[1m\u001b[33mmean(mel13=2832Hz)\u001b[0m \u001b[1m≥\u001b[0m\u001b[0m -5.051449874154914) ∧ (\u001b[1m\u001b[33mqnt(mel6=845Hz)\u001b[0m \u001b[1m≥\u001b[0m\u001b[0m 1.8093160599313536)\u001b[0m │       URTI │         86 │        2 │ 0.0232558 │        1.0 │    2.15 │      4 │      3 │\n",
      "│                                                                                                                                                                                                                     (\u001b[1m\u001b[36mmax(sprd)\u001b[0m \u001b[1m≥\u001b[0m\u001b[0m 664.0535057427451) ∧ (\u001b[1m\u001b[33mmean(mel1=357Hz)\u001b[0m \u001b[1m<\u001b[0m\u001b[0m -4.1684365386848885) ∧ (\u001b[1m\u001b[33mmean(mel8=1194Hz)\u001b[0m \u001b[1m<\u001b[0m\u001b[0m -4.84472544529558)\u001b[0m │    Healthy │         86 │        4 │ 0.0465116 │        1.0 │ 1.86957 │      3 │      2 │\n",
      "│                                                                                                                                                                           (\u001b[1m\u001b[36mmax(sprd)\u001b[0m \u001b[1m≥\u001b[0m\u001b[0m 664.0535057427451) ∧ (\u001b[1m\u001b[33mmean(mel1=357Hz)\u001b[0m \u001b[1m≥\u001b[0m\u001b[0m -4.1684365386848885) ∧ (\u001b[1m\u001b[33mmax(mel1=357Hz)\u001b[0m \u001b[1m<\u001b[0m\u001b[0m -0.11544222361904846) ∧ (\u001b[1m\u001b[33mqnt(mel5=711Hz)\u001b[0m \u001b[1m<\u001b[0m\u001b[0m 1.6729201667253222)\u001b[0m │    Healthy │         86 │        3 │ 0.0348837 │   0.666667 │ 1.24638 │      4 │      3 │\n",
      "│  (\u001b[36mmax(sprd)\u001b[0m ∈ [664.0535057427451,908.9659831322302)) ∧ (\u001b[1m\u001b[33mmean(mel1=357Hz)\u001b[0m \u001b[1m≥\u001b[0m\u001b[0m -2.6595759607820195) ∧ (\u001b[1m\u001b[33mmax(mel1=357Hz)\u001b[0m \u001b[1m<\u001b[0m\u001b[0m -0.11544222361904846) ∧ (\u001b[1m\u001b[33mqnt(mel5=711Hz)\u001b[0m \u001b[1m≥\u001b[0m\u001b[0m 1.6729201667253222) ∧ (\u001b[1m\u001b[36mmax(skwns)\u001b[0m \u001b[1m<\u001b[0m\u001b[0m 10.610955524117045) ∧ (\u001b[1m\u001b[33mmax(mel6=845Hz)\u001b[0m \u001b[1m<\u001b[0m\u001b[0m -2.200798828340653) ∧ (\u001b[1m\u001b[36mmax(entrp)\u001b[0m \u001b[1m<\u001b[0m\u001b[0m 0.8329603484717418) ∧ (\u001b[1m\u001b[36mmax(decrs)\u001b[0m \u001b[1m<\u001b[0m\u001b[0m 0.3330471235180842)\u001b[0m │       URTI │         86 │        3 │ 0.0348837 │   0.666667 │ 1.43333 │      8 │      7 │\n",
      "│ (\u001b[36mmax(sprd)\u001b[0m ∈ [664.0535057427451,908.9659831322302)) ∧ (\u001b[1m\u001b[33mmean(mel1=357Hz)\u001b[0m \u001b[1m≥\u001b[0m\u001b[0m -4.1684365386848885) ∧ (\u001b[1m\u001b[33mmax(mel1=357Hz)\u001b[0m \u001b[1m<\u001b[0m\u001b[0m -0.11544222361904846) ∧ (\u001b[1m\u001b[33mqnt(mel5=711Hz)\u001b[0m \u001b[1m≥\u001b[0m\u001b[0m 1.6729201667253222) ∧ (\u001b[1m\u001b[36mmax(skwns)\u001b[0m \u001b[1m<\u001b[0m\u001b[0m 10.610955524117045) ∧ (\u001b[1m\u001b[33mmax(mel6=845Hz)\u001b[0m \u001b[1m<\u001b[0m\u001b[0m -2.200798828340653) ∧ (\u001b[1m\u001b[36mmax(entrp)\u001b[0m \u001b[1m≥\u001b[0m\u001b[0m 0.8329603484717418) ∧ (\u001b[1m\u001b[36mmax(decrs)\u001b[0m \u001b[1m<\u001b[0m\u001b[0m 0.26293159354306916)\u001b[0m │       URTI │         86 │        2 │ 0.0232558 │        0.5 │   1.075 │      8 │      7 │\n",
      "│ (\u001b[36mmax(sprd)\u001b[0m ∈ [664.0535057427451,908.9659831322302)) ∧ (\u001b[1m\u001b[33mmean(mel1=357Hz)\u001b[0m \u001b[1m≥\u001b[0m\u001b[0m -4.1684365386848885) ∧ (\u001b[1m\u001b[33mmax(mel1=357Hz)\u001b[0m \u001b[1m<\u001b[0m\u001b[0m -0.11544222361904846) ∧ (\u001b[1m\u001b[33mqnt(mel5=711Hz)\u001b[0m \u001b[1m≥\u001b[0m\u001b[0m 1.6729201667253222) ∧ (\u001b[1m\u001b[36mmax(skwns)\u001b[0m \u001b[1m<\u001b[0m\u001b[0m 10.610955524117045) ∧ (\u001b[1m\u001b[33mmax(mel6=845Hz)\u001b[0m \u001b[1m<\u001b[0m\u001b[0m -2.200798828340653) ∧ (\u001b[1m\u001b[36mmax(entrp)\u001b[0m \u001b[1m≥\u001b[0m\u001b[0m 0.8329603484717418) ∧ (\u001b[1m\u001b[36mmax(decrs)\u001b[0m \u001b[1m≥\u001b[0m\u001b[0m 0.26293159354306916)\u001b[0m │    Healthy │         86 │        2 │ 0.0232558 │        1.0 │ 1.86957 │      8 │      7 │\n",
      "│                                                                          (\u001b[36mmax(sprd)\u001b[0m ∈ [664.0535057427451,908.9659831322302)) ∧ (\u001b[1m\u001b[33mmean(mel1=357Hz)\u001b[0m \u001b[1m≥\u001b[0m\u001b[0m -4.1684365386848885) ∧ (\u001b[1m\u001b[33mmax(mel1=357Hz)\u001b[0m \u001b[1m<\u001b[0m\u001b[0m -0.11544222361904846) ∧ (\u001b[1m\u001b[33mqnt(mel5=711Hz)\u001b[0m \u001b[1m≥\u001b[0m\u001b[0m 1.6729201667253222) ∧ (\u001b[1m\u001b[36mmax(skwns)\u001b[0m \u001b[1m<\u001b[0m\u001b[0m 10.610955524117045) ∧ (\u001b[1m\u001b[33mmax(mel6=845Hz)\u001b[0m \u001b[1m≥\u001b[0m\u001b[0m -2.200798828340653)\u001b[0m │    Healthy │         86 │        1 │ 0.0116279 │        1.0 │ 1.86957 │      6 │      5 │\n",
      "│                                                                        (\u001b[36mmax(sprd)\u001b[0m ∈ [664.0535057427451,908.9659831322302)) ∧ (\u001b[1m\u001b[33mmean(mel1=357Hz)\u001b[0m \u001b[1m≥\u001b[0m\u001b[0m -4.1684365386848885) ∧ (\u001b[1m\u001b[33mmax(mel1=357Hz)\u001b[0m \u001b[1m<\u001b[0m\u001b[0m -0.11544222361904846) ∧ (\u001b[1m\u001b[33mqnt(mel5=711Hz)\u001b[0m \u001b[1m≥\u001b[0m\u001b[0m 1.6729201667253222) ∧ (\u001b[1m\u001b[36mmax(skwns)\u001b[0m \u001b[1m≥\u001b[0m\u001b[0m 10.610955524117045) ∧ (\u001b[1m\u001b[33mmax(mel13=2832Hz)\u001b[0m \u001b[1m≥\u001b[0m\u001b[0m -7.113306400930482)\u001b[0m │    Healthy │         86 │        3 │ 0.0348837 │        1.0 │ 1.86957 │      6 │      5 │\n",
      "│                                                            (\u001b[1m\u001b[36mmax(sprd)\u001b[0m \u001b[1m≥\u001b[0m\u001b[0m 908.9659831322302) ∧ (\u001b[1m\u001b[33mmean(mel1=357Hz)\u001b[0m \u001b[1m≥\u001b[0m\u001b[0m -4.1684365386848885) ∧ (\u001b[1m\u001b[33mmax(mel1=357Hz)\u001b[0m \u001b[1m<\u001b[0m\u001b[0m -0.11544222361904846) ∧ (\u001b[1m\u001b[33mqnt(mel5=711Hz)\u001b[0m \u001b[1m≥\u001b[0m\u001b[0m 1.6729201667253222) ∧ (\u001b[1m\u001b[36m3ac(sprd)\u001b[0m \u001b[1m<\u001b[0m\u001b[0m 0.04644326866549088) ∧ (\u001b[1m\u001b[36mstd(rllff)\u001b[0m \u001b[1m<\u001b[0m\u001b[0m 585.005009833498) ∧ (\u001b[1m\u001b[33mqnt(mel2=424Hz)\u001b[0m \u001b[1m<\u001b[0m\u001b[0m 2.1283764288799594)\u001b[0m │    Healthy │         86 │        1 │ 0.0116279 │        1.0 │ 1.86957 │      7 │      6 │\n",
      "│                        (\u001b[1m\u001b[36mmax(sprd)\u001b[0m \u001b[1m≥\u001b[0m\u001b[0m 908.9659831322302) ∧ (\u001b[1m\u001b[33mmean(mel1=357Hz)\u001b[0m \u001b[1m≥\u001b[0m\u001b[0m -4.1684365386848885) ∧ (\u001b[1m\u001b[33mmax(mel1=357Hz)\u001b[0m \u001b[1m<\u001b[0m\u001b[0m -0.11544222361904846) ∧ (\u001b[1m\u001b[33mqnt(mel5=711Hz)\u001b[0m \u001b[1m≥\u001b[0m\u001b[0m 1.6729201667253222) ∧ (\u001b[1m\u001b[36m3ac(sprd)\u001b[0m \u001b[1m<\u001b[0m\u001b[0m 0.04644326866549088) ∧ (\u001b[1m\u001b[36mstd(rllff)\u001b[0m \u001b[1m<\u001b[0m\u001b[0m 585.005009833498) ∧ (\u001b[1m\u001b[33mqnt(mel2=424Hz)\u001b[0m \u001b[1m≥\u001b[0m\u001b[0m 2.1283764288799594) ∧ (\u001b[1m\u001b[36mmed(kurts)\u001b[0m \u001b[1m<\u001b[0m\u001b[0m 3.5726833398943887)\u001b[0m │    Healthy │         86 │        2 │ 0.0232558 │        1.0 │ 1.86957 │      8 │      7 │\n",
      "│                                                                          (\u001b[1m\u001b[36mmax(sprd)\u001b[0m \u001b[1m≥\u001b[0m\u001b[0m 908.9659831322302) ∧ (\u001b[1m\u001b[33mmean(mel1=357Hz)\u001b[0m \u001b[1m≥\u001b[0m\u001b[0m -4.1684365386848885) ∧ (\u001b[1m\u001b[33mmax(mel1=357Hz)\u001b[0m \u001b[1m<\u001b[0m\u001b[0m -0.11544222361904846) ∧ (\u001b[1m\u001b[33mqnt(mel5=711Hz)\u001b[0m \u001b[1m≥\u001b[0m\u001b[0m 1.6729201667253222) ∧ (\u001b[1m\u001b[36m3ac(sprd)\u001b[0m \u001b[1m<\u001b[0m\u001b[0m 0.04644326866549088) ∧ (\u001b[1m\u001b[36mstd(rllff)\u001b[0m \u001b[1m≥\u001b[0m\u001b[0m 585.005009833498) ∧ (\u001b[1m\u001b[33mbsm(mel8=1194Hz)\u001b[0m \u001b[1m<\u001b[0m\u001b[0m 6.5)\u001b[0m │       URTI │         86 │        2 │ 0.0232558 │        0.5 │   1.075 │      7 │      6 │\n",
      "│                                                                                                                                       (\u001b[1m\u001b[36mmax(sprd)\u001b[0m \u001b[1m≥\u001b[0m\u001b[0m 908.9659831322302) ∧ (\u001b[1m\u001b[33mmean(mel1=357Hz)\u001b[0m \u001b[1m≥\u001b[0m\u001b[0m -4.1684365386848885) ∧ (\u001b[1m\u001b[33mmax(mel1=357Hz)\u001b[0m \u001b[1m<\u001b[0m\u001b[0m -0.11544222361904846) ∧ (\u001b[1m\u001b[33mqnt(mel5=711Hz)\u001b[0m \u001b[1m≥\u001b[0m\u001b[0m 1.6729201667253222) ∧ (\u001b[1m\u001b[36m3ac(sprd)\u001b[0m \u001b[1m≥\u001b[0m\u001b[0m 0.04644326866549088)\u001b[0m │    Healthy │         86 │       10 │  0.116279 │        0.8 │ 1.49565 │      5 │      4 │\n",
      "└──────────────────────────────────────────────────────────────────────────────────────────────────────────────────────────────────────────────────────────────────────────────────────────────────────────────────────────────────────────────────────────────────────────────────────────────────────────────────────────────────────────┴────────────┴────────────┴──────────┴───────────┴────────────┴─────────┴────────┴────────┘\n"
     ]
    }
   ],
   "source": [
    "metricstable(interesting_rules; variable_names_map = variable_names, metrics_kwargs = (; round_digits = nothing, additional_metrics = (; height = r->SoleLogics.height(antecedent(r)))))"
   ]
  },
  {
   "cell_type": "markdown",
   "metadata": {},
   "source": [
    "# Inspect features"
   ]
  },
  {
   "cell_type": "code",
   "execution_count": 38,
   "metadata": {},
   "outputs": [
    {
     "name": "stdout",
     "output_type": "stream",
     "text": [
      "\u001b[34m▣\u001b[0m (\u001b[1m\u001b[36mmax(sprd)\u001b[0m \u001b[1m<\u001b[0m\u001b[0m 664.05) ∧ (\u001b[1m\u001b[33mmin(mel8=1194Hz)\u001b[0m \u001b[1m<\u001b[0m\u001b[0m -4.03) ∧ (\u001b[1m\u001b[33m3ac(mel2=424Hz)\u001b[0m \u001b[1m<\u001b[0m\u001b[0m 0.12) ∧ (\u001b[1m\u001b[33mbsm(mel3=504Hz)\u001b[0m \u001b[1m<\u001b[0m\u001b[0m 17.5) ∧ (\u001b[1m\u001b[33mqnt(mel8=1194Hz)\u001b[0m \u001b[1m<\u001b[0m\u001b[0m 1.95)  ↣  URTI : (ninstances = 86, ncovered = 16, coverage = 0.19, confidence = 0.81, lift = 1.75, natoms = 5)\n",
      "\u001b[34m▣\u001b[0m (\u001b[1m\u001b[36mmax(sprd)\u001b[0m \u001b[1m<\u001b[0m\u001b[0m 664.05) ∧ (\u001b[1m\u001b[33mmin(mel8=1194Hz)\u001b[0m \u001b[1m<\u001b[0m\u001b[0m -4.03) ∧ (\u001b[1m\u001b[33m3ac(mel2=424Hz)\u001b[0m \u001b[1m<\u001b[0m\u001b[0m 0.12) ∧ (\u001b[1m\u001b[33mbsm(mel3=504Hz)\u001b[0m \u001b[1m<\u001b[0m\u001b[0m 17.5) ∧ (\u001b[1m\u001b[33mqnt(mel8=1194Hz)\u001b[0m \u001b[1m≥\u001b[0m\u001b[0m 1.95) ∧ (\u001b[1m\u001b[33mmean(mel9=1419Hz)\u001b[0m \u001b[1m≥\u001b[0m\u001b[0m -5.35) ∧ (\u001b[1m\u001b[36mmax(flatn)\u001b[0m \u001b[1m<\u001b[0m\u001b[0m 0.15) ∧ (\u001b[1m\u001b[33mmin(mel4=599Hz)\u001b[0m \u001b[1m≥\u001b[0m\u001b[0m -5.67)  ↣  URTI : (ninstances = 86, ncovered = 9, coverage = 0.1, confidence = 1.0, lift = 2.15, natoms = 8)\n",
      "\u001b[34m▣\u001b[0m (\u001b[1m\u001b[36mmax(sprd)\u001b[0m \u001b[1m≥\u001b[0m\u001b[0m 908.97) ∧ (\u001b[1m\u001b[33mmean(mel1=357Hz)\u001b[0m \u001b[1m≥\u001b[0m\u001b[0m -4.17) ∧ (\u001b[1m\u001b[33mmax(mel1=357Hz)\u001b[0m \u001b[1m<\u001b[0m\u001b[0m -0.12) ∧ (\u001b[1m\u001b[33mqnt(mel5=711Hz)\u001b[0m \u001b[1m≥\u001b[0m\u001b[0m 1.67) ∧ (\u001b[1m\u001b[36m3ac(sprd)\u001b[0m \u001b[1m≥\u001b[0m\u001b[0m 0.05)  ↣  Healthy : (ninstances = 86, ncovered = 10, coverage = 0.12, confidence = 0.8, lift = 1.5, natoms = 5)\n"
     ]
    }
   ],
   "source": [
    "interesting_rules = listrules(sole_dt,\n",
    "\tmin_lift = 1.0,\n",
    "\t# min_lift = 2.0,\n",
    "\tmin_ninstances = 0,\n",
    "\tmin_coverage = 0.10,\n",
    "\tnormalize = true,\n",
    ");\n",
    "map(r->(consequent(r), readmetrics(r)), interesting_rules)\n",
    "printmodel.(interesting_rules; show_metrics = true, syntaxstring_kwargs = (; threshold_digits = 2), variable_names_map=variable_names);"
   ]
  },
  {
   "cell_type": "code",
   "execution_count": 39,
   "metadata": {},
   "outputs": [
    {
     "data": {
      "text/plain": [
       "12-element Vector{Symbol}:\n",
       " Symbol(\"3ac(mel2=424Hz)\")\n",
       " Symbol(\"3ac(sprd)\")\n",
       " Symbol(\"bsm(mel3=504Hz)\")\n",
       " Symbol(\"max(flatn)\")\n",
       " Symbol(\"max(mel1=357Hz)\")\n",
       " Symbol(\"max(sprd)\")\n",
       " Symbol(\"mean(mel1=357Hz)\")\n",
       " Symbol(\"mean(mel9=1419Hz)\")\n",
       " Symbol(\"min(mel4=599Hz)\")\n",
       " Symbol(\"min(mel8=1194Hz)\")\n",
       " Symbol(\"qnt(mel5=711Hz)\")\n",
       " Symbol(\"qnt(mel8=1194Hz)\")"
      ]
     },
     "metadata": {},
     "output_type": "display_data"
    }
   ],
   "source": [
    "interesting_features = unique(SoleData.feature.(SoleLogics.value.(vcat(SoleLogics.atoms.(i.antecedent for i in interesting_rules)...))))\n",
    "interesting_variables = sort(SoleData.i_variable.(interesting_features))"
   ]
  }
 ],
 "metadata": {
  "kernelspec": {
   "display_name": "Julia 1.10.5",
   "language": "julia",
   "name": "julia-1.10"
  },
  "language_info": {
   "file_extension": ".jl",
   "mimetype": "application/julia",
   "name": "julia",
   "version": "1.10.5"
  }
 },
 "nbformat": 4,
 "nbformat_minor": 2
}
