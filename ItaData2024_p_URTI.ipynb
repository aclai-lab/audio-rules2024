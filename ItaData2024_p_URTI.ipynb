{
 "cells": [
  {
   "cell_type": "markdown",
   "metadata": {},
   "source": [
    "# ItaData2024\n",
    "\n",
    "## URTI\n",
    "\n",
    "propositional analysis"
   ]
  },
  {
   "cell_type": "code",
   "execution_count": 1,
   "metadata": {},
   "outputs": [
    {
     "name": "stderr",
     "output_type": "stream",
     "text": [
      "\u001b[32m\u001b[1m  Activating\u001b[22m\u001b[39m project at `~/Documents/Aclai/audio-rules2024`\n"
     ]
    }
   ],
   "source": [
    "using Pkg\n",
    "Pkg.activate(\".\")\n",
    "using MLJ, ModalDecisionTrees\n",
    "using SoleDecisionTreeInterface, Sole, SoleData\n",
    "using CategoricalArrays\n",
    "using DataFrames, JLD2, CSV\n",
    "using Audio911\n",
    "using Random\n",
    "using StatsBase, Catch22\n",
    "using Test\n",
    "using Plots"
   ]
  },
  {
   "cell_type": "markdown",
   "metadata": {},
   "source": [
    "### Settings"
   ]
  },
  {
   "cell_type": "code",
   "execution_count": 2,
   "metadata": {},
   "outputs": [],
   "source": [
    "# experiment = :Pneumonia\n",
    "# experiment = :Bronchiectasis\n",
    "# experiment = :COPD\n",
    "experiment = :URTI\n",
    "# experiment = :Bronchiolitis\n",
    "\n",
    "features = :catch9\n",
    "# features = :minmax\n",
    "# features = :custom\n",
    "\n",
    "# loadset = false\n",
    "loadset = true\n",
    "\n",
    "scale = :semitones\n",
    "# scale = :mel_htk\n",
    "\n",
    "sr = 8000\n",
    "\n",
    "featset = ()\n",
    "# featset = (:mfcc,)\n",
    "# featset = (:f0,)\n",
    "# featset = (:mfcc, :f0)\n",
    "\n",
    "audioparams = (\n",
    "    sr = sr,\n",
    "    nfft = 512,\n",
    "    mel_scale = scale, # :mel_htk, :mel_slaney, :erb, :bark, :semitones, :tuned_semitones\n",
    "    mel_nbands = scale == :semitones ? 14 : 26,\n",
    "    mfcc_ncoeffs = scale == :semitones ? 7 : 13,\n",
    "    mel_freqrange = (300, round(Int, sr / 2)),\n",
    "    mel_dbscale = :mfcc in featset ? false : true,\n",
    "    audio_norm = true,\n",
    ")\n",
    "\n",
    "memguard = false;\n",
    "# memguard = true;\n",
    "n_elems = 15;\n",
    "\n",
    "avail_exp = [:Pneumonia, :Bronchiectasis, :COPD, :URTI, :Bronchiolitis]\n",
    "\n",
    "@assert experiment in avail_exp \"Unknown type of experiment: $experiment.\"\n",
    "\n",
    "findhealthy = y -> findall(x -> x == \"Healthy\", y)\n",
    "ds_path = \"/datasets/respiratory_Healthy_\" * String(experiment)\n",
    "findsick = y -> findall(x -> x == String(experiment), y)\n",
    "filename = \"/datasets/itadata2024_\" * String(experiment) * \"_files\"\n",
    "memguard && begin filename *= string(\"_memguard\") end\n",
    "\n",
    "destpath = \"results/propositional\"\n",
    "jld2file = destpath * \"/itadata2024_\" * String(experiment) * \"_\" * String(scale) * \".jld2\"\n",
    "dsfile = destpath * \"/ds_test_\" * String(experiment) * \"_\" * String(scale) * \".jld2\"\n",
    "\n",
    "color_code = Dict(:red => 31, :green => 32, :yellow => 33, :blue => 34, :magenta => 35, :cyan => 36);\n",
    "r_select = r\"\\e\\[\\d+m(.*?)\\e\\[0m\";"
   ]
  },
  {
   "cell_type": "markdown",
   "metadata": {},
   "source": [
    "### Prepare dataset for analysis"
   ]
  },
  {
   "cell_type": "code",
   "execution_count": 4,
   "metadata": {},
   "outputs": [
    {
     "name": "stderr",
     "output_type": "stream",
     "text": [
      "┌ Info: Build dataset...\n",
      "└ @ Main /home/paso/Documents/Aclai/audio-rules2024/jl_notebook_cell_df34fa98e69747e1a8f8a730347b8e2f_X10sZmlsZQ==.jl:42\n"
     ]
    },
    {
     "name": "stdout",
     "output_type": "stream",
     "text": [
      "Training set size: (342, 225) - 342\n",
      "Test set size: (86, 225) - 86\n"
     ]
    }
   ],
   "source": [
    "d = jldopen(string((@__DIR__), ds_path, \".jld2\"))\n",
    "x, y = d[\"dataframe_validated\"]\n",
    "@assert x isa DataFrame\n",
    "close(d)\n",
    "\n",
    "memguard && begin\n",
    "    cat2 = round(Int, length(y)/2)\n",
    "    indices = [1:n_elems; cat2:cat2+n_elems-1]\n",
    "    x = x[indices, :]\n",
    "    y = y[indices]\n",
    "end\n",
    "\n",
    "freq = round.(Int, afe(x[1, :audio]; featset=(:get_only_freqs), audioparams...))\n",
    "\n",
    "catch9_f = [\"max\", \"min\", \"mean\", \"med\", \"std\", \"bsm\", \"bsd\", \"qnt\", \"3ac\"]\n",
    "variable_names = vcat([\n",
    "    vcat(\n",
    "        [\"\\e[$(color_code[:yellow])m$j(mel$i=$(freq[i])Hz)\\e[0m\" for i in 1:audioparams.mel_nbands],\n",
    "        :mfcc in featset ? [\"\\e[$(color_code[:red])m$j(mfcc$i)\\e[0m\" for i in 1:audioparams.mfcc_ncoeffs] : String[],\n",
    "        :f0 in featset ? [\"\\e[$(color_code[:green])m$j(f0)\\e[0m\"] : String[],\n",
    "        \"\\e[$(color_code[:cyan])m$j(cntrd)\\e[0m\", \"\\e[$(color_code[:cyan])m$j(crest)\\e[0m\",\n",
    "        \"\\e[$(color_code[:cyan])m$j(entrp)\\e[0m\", \"\\e[$(color_code[:cyan])m$j(flatn)\\e[0m\", \"\\e[$(color_code[:cyan])m$j(flux)\\e[0m\",\n",
    "        \"\\e[$(color_code[:cyan])m$j(kurts)\\e[0m\", \"\\e[$(color_code[:cyan])m$j(rllff)\\e[0m\", \"\\e[$(color_code[:cyan])m$j(skwns)\\e[0m\",\n",
    "        \"\\e[$(color_code[:cyan])m$j(decrs)\\e[0m\", \"\\e[$(color_code[:cyan])m$j(slope)\\e[0m\", \"\\e[$(color_code[:cyan])m$j(sprd)\\e[0m\"\n",
    "    )\n",
    "    for j in catch9_f\n",
    "]...)\n",
    "    \n",
    "catch9 = [\n",
    "    maximum,\n",
    "    minimum,\n",
    "    StatsBase.mean,\n",
    "    median,\n",
    "    std,\n",
    "    Catch22.SB_BinaryStats_mean_longstretch1,\n",
    "    Catch22.SB_BinaryStats_diff_longstretch0,\n",
    "    Catch22.SB_MotifThree_quantile_hh,\n",
    "    Catch22.SB_TransitionMatrix_3ac_sumdiagcov,\n",
    "]\n",
    "\n",
    "if !loadset\n",
    "    @info(\"Build dataset...\")\n",
    "\n",
    "    X = DataFrame([name => Float64[] for name in [match(r_select, v)[1] for v in variable_names]])\n",
    "    audiofeats = [afe(row[:audio]; featset=featset, audioparams...) for row in eachrow(x)]\n",
    "    push!(X, vcat([vcat([map(func, eachcol(row)) for func in catch9]...) for row in audiofeats])...)\n",
    "\n",
    "    yc = CategoricalArray(y);\n",
    "\n",
    "    train_ratio = 0.8\n",
    "\n",
    "    train, test = partition(eachindex(yc), train_ratio, shuffle=true)\n",
    "    X_train, y_train = X[train, :], yc[train]\n",
    "    X_test, y_test = X[test, :], yc[test]\n",
    "    save(dsfile, Dict(\"X_test\" => X_test, \"y_test\" => y_test))\n",
    "\n",
    "    println(\"Training set size: \", size(X_train), \" - \", length(y_train))\n",
    "    println(\"Test set size: \", size(X_test), \" - \", length(y_test))\n",
    "end"
   ]
  },
  {
   "cell_type": "markdown",
   "metadata": {},
   "source": [
    "### Train a model"
   ]
  },
  {
   "cell_type": "code",
   "execution_count": 5,
   "metadata": {},
   "outputs": [
    {
     "name": "stderr",
     "output_type": "stream",
     "text": [
      "┌ Info: For silent loading, specify `verbosity=0`. \n",
      "└ @ Main /home/paso/.julia/packages/MLJModels/8W54X/src/loading.jl:159\n"
     ]
    },
    {
     "name": "stdout",
     "output_type": "stream",
     "text": [
      "import MLJDecisionTreeInterface ✔\n"
     ]
    },
    {
     "name": "stderr",
     "output_type": "stream",
     "text": [
      "┌ Info: Training machine(DecisionTreeClassifier(max_depth = -1, …), …).\n",
      "└ @ MLJBase /home/paso/.julia/packages/MLJBase/7nGJF/src/machines.jl:499\n"
     ]
    },
    {
     "data": {
      "text/plain": [
       "mean(sprd) < 336.6\n",
       "├─ min(mel9=1419Hz) < -6.463\n",
       "│  ├─ min(mel2=424Hz) < -5.698\n",
       "│  │  ├─ URTI (3/3)\n",
       "│  │  └─ Healthy (9/9)\n",
       "│  └─ 3ac(mel3=504Hz) < 0.1458\n",
       "│     ├─ qnt(mel10=1687Hz) < 2.147\n",
       "│     │  ├─ URTI (64/64)\n",
       "│     │  └─ bsm(mel1=357Hz) < 13.0\n",
       "│     │     ├─ Healthy (2/2)\n",
       "│     │     └─ URTI (2/2)\n",
       "│     └─ std(mel4=599Hz) < 0.7608\n",
       "│        ├─ URTI (3/3)\n",
       "│        └─ Healthy (5/5)\n",
       "└─ med(cntrd) < 1169.0\n",
       "   ├─ max(kurts) < 309.5\n",
       "   │  ├─ bsm(mel3=504Hz) < 9.5\n",
       "   │  │  ├─ min(mel8=1194Hz) < -5.629\n",
       "   │  │  │  ├─ max(mel6=845Hz) < -3.627\n",
       "   │  │  │  │  ⋮\n",
       "   │  │  │  │  \n",
       "   │  │  │  └─ min(skwns) < 0.06045\n",
       "   │  │  │     ⋮\n",
       "   │  │  │     \n",
       "   │  │  └─ mean(mel14=3366Hz) < -4.572\n",
       "   │  │     ├─ mean(rllff) < 1694.0\n",
       "   │  │     │  ⋮\n",
       "   │  │     │  \n",
       "   │  │     └─ URTI (6/6)\n",
       "   │  └─ Healthy (16/16)\n",
       "   └─ Healthy (26/26)\n"
      ]
     },
     "metadata": {},
     "output_type": "display_data"
    }
   ],
   "source": [
    "if !loadset\n",
    "    learned_dt_tree = begin\n",
    "        Tree = MLJ.@load DecisionTreeClassifier pkg=DecisionTree\n",
    "        model = Tree(max_depth=-1, )\n",
    "        mach = machine(model, X_train, y_train)\n",
    "        fit!(mach)\n",
    "        fitted_params(mach).tree\n",
    "    end\n",
    "end"
   ]
  },
  {
   "cell_type": "markdown",
   "metadata": {},
   "source": [
    "### Model inspection & rule study"
   ]
  },
  {
   "cell_type": "code",
   "execution_count": 6,
   "metadata": {},
   "outputs": [
    {
     "name": "stdout",
     "output_type": "stream",
     "text": [
      "\u001b[34m▣\u001b[0m \u001b[1m\u001b[36mmean(sprd)\u001b[0m \u001b[1m<\u001b[0m\u001b[0m 336.63940662391843\n",
      "├✔ \u001b[1m\u001b[33mmin(mel9=1419Hz)\u001b[0m \u001b[1m<\u001b[0m\u001b[0m -6.463391337513174\n",
      "│├✔ \u001b[1m\u001b[33mmin(mel2=424Hz)\u001b[0m \u001b[1m<\u001b[0m\u001b[0m -5.698344532462192\n",
      "││├✔ URTI : (ninstances = 0, ncovered = 0, confidence = NaN, lift = NaN)\n",
      "││└✘ Healthy : (ninstances = 0, ncovered = 0, confidence = NaN, lift = NaN)\n",
      "│└✘ \u001b[1m\u001b[33m3ac(mel3=504Hz)\u001b[0m \u001b[1m<\u001b[0m\u001b[0m 0.14583333333333337\n",
      "│ ├✔ \u001b[1m\u001b[33mqnt(mel10=1687Hz)\u001b[0m \u001b[1m<\u001b[0m\u001b[0m 2.1470638625858367\n",
      "│ │├✔ URTI : (ninstances = 22, ncovered = 22, confidence = 0.73, lift = 1.0)\n",
      "│ │└✘ \u001b[1m\u001b[33mbsm(mel1=357Hz)\u001b[0m \u001b[1m<\u001b[0m\u001b[0m 13.0\n",
      "│ │ ├✔ Healthy : (ninstances = 0, ncovered = 0, confidence = NaN, lift = NaN)\n",
      "│ │ └✘ URTI : (ninstances = 0, ncovered = 0, confidence = NaN, lift = NaN)\n",
      "│ └✘ \u001b[1m\u001b[33mstd(mel4=599Hz)\u001b[0m \u001b[1m<\u001b[0m\u001b[0m 0.7608194009407704\n",
      "│  ├✔ URTI : (ninstances = 1, ncovered = 1, confidence = 1.0, lift = 1.0)\n",
      "│  └✘ Healthy : (ninstances = 0, ncovered = 0, confidence = NaN, lift = NaN)\n",
      "└✘ \u001b[1m\u001b[36mmed(cntrd)\u001b[0m \u001b[1m<\u001b[0m\u001b[0m 1169.0875935533527\n",
      " ├✔ \u001b[1m\u001b[36mmax(kurts)\u001b[0m \u001b[1m<\u001b[0m\u001b[0m 309.54313425171983\n",
      " │├✔ \u001b[1m\u001b[33mbsm(mel3=504Hz)\u001b[0m \u001b[1m<\u001b[0m\u001b[0m 9.5\n",
      " ││├✔ \u001b[1m\u001b[33mmin(mel8=1194Hz)\u001b[0m \u001b[1m<\u001b[0m\u001b[0m -5.6292906888019525\n",
      " │││├✔ \u001b[1m\u001b[33mmax(mel6=845Hz)\u001b[0m \u001b[1m<\u001b[0m\u001b[0m -3.626637871376908\n",
      " ││││├✔ Healthy : (ninstances = 5, ncovered = 5, confidence = 1.0, lift = 1.0)\n",
      " ││││└✘ \u001b[1m\u001b[36m3ac(decrs)\u001b[0m \u001b[1m<\u001b[0m\u001b[0m 0.008503401360544217\n",
      " ││││ ├✔ Healthy : (ninstances = 1, ncovered = 1, confidence = 1.0, lift = 1.0)\n",
      " ││││ └✘ URTI : (ninstances = 3, ncovered = 3, confidence = 1.0, lift = 1.0)\n",
      " │││└✘ \u001b[1m\u001b[36mmin(skwns)\u001b[0m \u001b[1m<\u001b[0m\u001b[0m 0.060454056192696226\n",
      " │││ ├✔ URTI : (ninstances = 7, ncovered = 7, confidence = 0.71, lift = 1.0)\n",
      " │││ └✘ \u001b[1m\u001b[33mmed(mel1=357Hz)\u001b[0m \u001b[1m<\u001b[0m\u001b[0m -2.3892659624167787\n",
      " │││  ├✔ \u001b[1m\u001b[36mmax(cntrd)\u001b[0m \u001b[1m<\u001b[0m\u001b[0m 1068.6700214056882\n",
      " │││  │├✔ URTI : (ninstances = 1, ncovered = 1, confidence = 1.0, lift = 1.0)\n",
      " │││  │└✘ \u001b[1m\u001b[36mmin(rllff)\u001b[0m \u001b[1m<\u001b[0m\u001b[0m 476.5625\n",
      " │││  │ ├✔ Healthy : (ninstances = 2, ncovered = 2, confidence = 0.5, lift = 1.0)\n",
      " │││  │ └✘ \u001b[1m\u001b[36mmed(crest)\u001b[0m \u001b[1m<\u001b[0m\u001b[0m 23.781863210533647\n",
      " │││  │  ├✔ \u001b[1m\u001b[36mmax(entrp)\u001b[0m \u001b[1m<\u001b[0m\u001b[0m 0.867344207019275\n",
      " │││  │  │├✔ URTI : (ninstances = 5, ncovered = 5, confidence = 0.6, lift = 1.0)\n",
      " │││  │  │└✘ \u001b[1m\u001b[36m3ac(crest)\u001b[0m \u001b[1m<\u001b[0m\u001b[0m 0.02976190476190476\n",
      " │││  │  │ ├✔ Healthy : (ninstances = 1, ncovered = 1, confidence = 0.0, lift = NaN)\n",
      " │││  │  │ └✘ URTI : (ninstances = 0, ncovered = 0, confidence = NaN, lift = NaN)\n",
      " │││  │  └✘ \u001b[1m\u001b[36mmax(kurts)\u001b[0m \u001b[1m<\u001b[0m\u001b[0m 107.4784664590872\n",
      " │││  │   ├✔ \u001b[1m\u001b[36mqnt(entrp)\u001b[0m \u001b[1m<\u001b[0m\u001b[0m 2.0821418100930664\n",
      " │││  │   │├✔ \u001b[1m\u001b[33mqnt(mel1=357Hz)\u001b[0m \u001b[1m<\u001b[0m\u001b[0m 1.703941441834513\n",
      " │││  │   ││├✔ URTI : (ninstances = 0, ncovered = 0, confidence = NaN, lift = NaN)\n",
      " │││  │   ││└✘ Healthy : (ninstances = 1, ncovered = 1, confidence = 0.0, lift = NaN)\n",
      " │││  │   │└✘ \u001b[1m\u001b[33mbsm(mel7=1005Hz)\u001b[0m \u001b[1m<\u001b[0m\u001b[0m 6.5\n",
      " │││  │   │ ├✔ \u001b[1m\u001b[36m3ac(slope)\u001b[0m \u001b[1m<\u001b[0m\u001b[0m 0.11555555555555556\n",
      " │││  │   │ │├✔ URTI : (ninstances = 1, ncovered = 1, confidence = 0.0, lift = NaN)\n",
      " │││  │   │ │└✘ Healthy : (ninstances = 0, ncovered = 0, confidence = NaN, lift = NaN)\n",
      " │││  │   │ └✘ Healthy : (ninstances = 1, ncovered = 1, confidence = 0.0, lift = NaN)\n",
      " │││  │   └✘ \u001b[1m\u001b[36mmin(skwns)\u001b[0m \u001b[1m<\u001b[0m\u001b[0m 1.3487521620944927\n",
      " │││  │    ├✔ URTI : (ninstances = 6, ncovered = 6, confidence = 0.5, lift = 1.0)\n",
      " │││  │    └✘ Healthy : (ninstances = 0, ncovered = 0, confidence = NaN, lift = NaN)\n",
      " │││  └✘ Healthy : (ninstances = 2, ncovered = 2, confidence = 0.5, lift = 1.0)\n",
      " ││└✘ \u001b[1m\u001b[33mmean(mel14=3366Hz)\u001b[0m \u001b[1m<\u001b[0m\u001b[0m -4.572196069237991\n",
      " ││ ├✔ \u001b[1m\u001b[36mmean(rllff)\u001b[0m \u001b[1m<\u001b[0m\u001b[0m 1693.9655172413793\n",
      " ││ │├✔ \u001b[1m\u001b[33mmean(mel11=2005Hz)\u001b[0m \u001b[1m<\u001b[0m\u001b[0m -4.590914162522772\n",
      " ││ ││├✔ \u001b[1m\u001b[33mmed(mel10=1687Hz)\u001b[0m \u001b[1m<\u001b[0m\u001b[0m -4.396318936018734\n",
      " ││ │││├✔ \u001b[1m\u001b[36m3ac(slope)\u001b[0m \u001b[1m<\u001b[0m\u001b[0m 0.02304316788443772\n",
      " ││ ││││├✔ URTI : (ninstances = 1, ncovered = 1, confidence = 1.0, lift = 1.0)\n",
      " ││ ││││└✘ \u001b[1m\u001b[36mstd(flatn)\u001b[0m \u001b[1m<\u001b[0m\u001b[0m 0.07986660389500219\n",
      " ││ ││││ ├✔ Healthy : (ninstances = 5, ncovered = 5, confidence = 0.4, lift = 1.0)\n",
      " ││ ││││ └✘ URTI : (ninstances = 0, ncovered = 0, confidence = NaN, lift = NaN)\n",
      " ││ │││└✘ URTI : (ninstances = 3, ncovered = 3, confidence = 0.67, lift = 1.0)\n",
      " ││ ││└✘ Healthy : (ninstances = 3, ncovered = 3, confidence = 1.0, lift = 1.0)\n",
      " ││ │└✘ Healthy : (ninstances = 8, ncovered = 8, confidence = 0.75, lift = 1.0)\n",
      " ││ └✘ URTI : (ninstances = 0, ncovered = 0, confidence = NaN, lift = NaN)\n",
      " │└✘ Healthy : (ninstances = 3, ncovered = 3, confidence = 0.67, lift = 1.0)\n",
      " └✘ Healthy : (ninstances = 4, ncovered = 4, confidence = 0.75, lift = 1.0)\n"
     ]
    }
   ],
   "source": [
    "if !loadset\n",
    "    sole_dt = solemodel(learned_dt_tree)\n",
    "    # Make test instances flow into the model, so that test metrics can, then, be computed.\n",
    "    apply!(sole_dt, X_test, y_test);\n",
    "    # Save solemodel to disk\n",
    "    save(jld2file, Dict(\"sole_dt\" => sole_dt))\n",
    "else\n",
    "    @info(\"Load dataset...\")\n",
    "    d = jldopen(dsfile)\n",
    "    X_test = d[\"X_test\"]\n",
    "    y_test = d[\"y_test\"]\n",
    "    close(d)\n",
    "    d = jldopen(jld2file)\n",
    "    sole_dt = d[\"sole_dt\"]\n",
    "    close(d)\n",
    "end\n",
    "# Print Sole model\n",
    "printmodel(sole_dt; show_metrics = true, variable_names_map = variable_names);"
   ]
  },
  {
   "cell_type": "markdown",
   "metadata": {},
   "source": [
    "### Extract rules that are at least as good as a random baseline model"
   ]
  },
  {
   "cell_type": "code",
   "execution_count": 7,
   "metadata": {},
   "outputs": [
    {
     "name": "stdout",
     "output_type": "stream",
     "text": [
      "\u001b[34m▣\u001b[0m (\u001b[1m\u001b[36mmean(sprd)\u001b[0m \u001b[1m<\u001b[0m\u001b[0m 336.63940662391843) ∧ (¬(\u001b[1m\u001b[33mmin(mel9=1419Hz)\u001b[0m \u001b[1m<\u001b[0m\u001b[0m -6.463391337513174)) ∧ (\u001b[1m\u001b[33m3ac(mel3=504Hz)\u001b[0m \u001b[1m<\u001b[0m\u001b[0m 0.14583333333333337) ∧ (\u001b[1m\u001b[33mqnt(mel10=1687Hz)\u001b[0m \u001b[1m<\u001b[0m\u001b[0m 2.1470638625858367)  ↣  URTI : (ninstances = 86, ncovered = 22, coverage = 0.26, confidence = 0.73, lift = 1.33, natoms = 4)\n",
      "\u001b[34m▣\u001b[0m (\u001b[1m\u001b[36mmean(sprd)\u001b[0m \u001b[1m<\u001b[0m\u001b[0m 336.63940662391843) ∧ (¬(\u001b[1m\u001b[33mmin(mel9=1419Hz)\u001b[0m \u001b[1m<\u001b[0m\u001b[0m -6.463391337513174)) ∧ (¬(\u001b[1m\u001b[33m3ac(mel3=504Hz)\u001b[0m \u001b[1m<\u001b[0m\u001b[0m 0.14583333333333337)) ∧ (\u001b[1m\u001b[33mstd(mel4=599Hz)\u001b[0m \u001b[1m<\u001b[0m\u001b[0m 0.7608194009407704)  ↣  URTI : (ninstances = 86, ncovered = 1, coverage = 0.01, confidence = 1.0, lift = 1.83, natoms = 4)\n",
      "\u001b[34m▣\u001b[0m (¬(\u001b[1m\u001b[36mmean(sprd)\u001b[0m \u001b[1m<\u001b[0m\u001b[0m 336.63940662391843)) ∧ (\u001b[1m\u001b[36mmed(cntrd)\u001b[0m \u001b[1m<\u001b[0m\u001b[0m 1169.0875935533527) ∧ (\u001b[1m\u001b[36mmax(kurts)\u001b[0m \u001b[1m<\u001b[0m\u001b[0m 309.54313425171983) ∧ (\u001b[1m\u001b[33mbsm(mel3=504Hz)\u001b[0m \u001b[1m<\u001b[0m\u001b[0m 9.5) ∧ (\u001b[1m\u001b[33mmin(mel8=1194Hz)\u001b[0m \u001b[1m<\u001b[0m\u001b[0m -5.6292906888019525) ∧ (\u001b[1m\u001b[33mmax(mel6=845Hz)\u001b[0m \u001b[1m<\u001b[0m\u001b[0m -3.626637871376908)  ↣  Healthy : (ninstances = 86, ncovered = 5, coverage = 0.06, confidence = 1.0, lift = 2.21, natoms = 6)\n",
      "\u001b[34m▣\u001b[0m (¬(\u001b[1m\u001b[36mmean(sprd)\u001b[0m \u001b[1m<\u001b[0m\u001b[0m 336.63940662391843)) ∧ (\u001b[1m\u001b[36mmed(cntrd)\u001b[0m \u001b[1m<\u001b[0m\u001b[0m 1169.0875935533527) ∧ (\u001b[1m\u001b[36mmax(kurts)\u001b[0m \u001b[1m<\u001b[0m\u001b[0m 309.54313425171983) ∧ (\u001b[1m\u001b[33mbsm(mel3=504Hz)\u001b[0m \u001b[1m<\u001b[0m\u001b[0m 9.5) ∧ (\u001b[1m\u001b[33mmin(mel8=1194Hz)\u001b[0m \u001b[1m<\u001b[0m\u001b[0m -5.6292906888019525) ∧ (¬(\u001b[1m\u001b[33mmax(mel6=845Hz)\u001b[0m \u001b[1m<\u001b[0m\u001b[0m -3.626637871376908)) ∧ (\u001b[1m\u001b[36m3ac(decrs)\u001b[0m \u001b[1m<\u001b[0m\u001b[0m 0.008503401360544217)  ↣  Healthy : (ninstances = 86, ncovered = 1, coverage = 0.01, confidence = 1.0, lift = 2.21, natoms = 7)\n",
      "\u001b[34m▣\u001b[0m (¬(\u001b[1m\u001b[36mmean(sprd)\u001b[0m \u001b[1m<\u001b[0m\u001b[0m 336.63940662391843)) ∧ (\u001b[1m\u001b[36mmed(cntrd)\u001b[0m \u001b[1m<\u001b[0m\u001b[0m 1169.0875935533527) ∧ (\u001b[1m\u001b[36mmax(kurts)\u001b[0m \u001b[1m<\u001b[0m\u001b[0m 309.54313425171983) ∧ (\u001b[1m\u001b[33mbsm(mel3=504Hz)\u001b[0m \u001b[1m<\u001b[0m\u001b[0m 9.5) ∧ (\u001b[1m\u001b[33mmin(mel8=1194Hz)\u001b[0m \u001b[1m<\u001b[0m\u001b[0m -5.6292906888019525) ∧ (¬(\u001b[1m\u001b[33mmax(mel6=845Hz)\u001b[0m \u001b[1m<\u001b[0m\u001b[0m -3.626637871376908)) ∧ (¬(\u001b[1m\u001b[36m3ac(decrs)\u001b[0m \u001b[1m<\u001b[0m\u001b[0m 0.008503401360544217))  ↣  URTI : (ninstances = 86, ncovered = 3, coverage = 0.03, confidence = 1.0, lift = 1.83, natoms = 7)\n",
      "\u001b[34m▣\u001b[0m (¬(\u001b[1m\u001b[36mmean(sprd)\u001b[0m \u001b[1m<\u001b[0m\u001b[0m 336.63940662391843)) ∧ (\u001b[1m\u001b[36mmed(cntrd)\u001b[0m \u001b[1m<\u001b[0m\u001b[0m 1169.0875935533527) ∧ (\u001b[1m\u001b[36mmax(kurts)\u001b[0m \u001b[1m<\u001b[0m\u001b[0m 309.54313425171983) ∧ (\u001b[1m\u001b[33mbsm(mel3=504Hz)\u001b[0m \u001b[1m<\u001b[0m\u001b[0m 9.5) ∧ (¬(\u001b[1m\u001b[33mmin(mel8=1194Hz)\u001b[0m \u001b[1m<\u001b[0m\u001b[0m -5.6292906888019525)) ∧ (\u001b[1m\u001b[36mmin(skwns)\u001b[0m \u001b[1m<\u001b[0m\u001b[0m 0.060454056192696226)  ↣  URTI : (ninstances = 86, ncovered = 7, coverage = 0.08, confidence = 0.71, lift = 1.31, natoms = 6)\n",
      "\u001b[34m▣\u001b[0m (¬(\u001b[1m\u001b[36mmean(sprd)\u001b[0m \u001b[1m<\u001b[0m\u001b[0m 336.63940662391843)) ∧ (\u001b[1m\u001b[36mmed(cntrd)\u001b[0m \u001b[1m<\u001b[0m\u001b[0m 1169.0875935533527) ∧ (\u001b[1m\u001b[36mmax(kurts)\u001b[0m \u001b[1m<\u001b[0m\u001b[0m 309.54313425171983) ∧ (\u001b[1m\u001b[33mbsm(mel3=504Hz)\u001b[0m \u001b[1m<\u001b[0m\u001b[0m 9.5) ∧ (¬(\u001b[1m\u001b[33mmin(mel8=1194Hz)\u001b[0m \u001b[1m<\u001b[0m\u001b[0m -5.6292906888019525)) ∧ (¬(\u001b[1m\u001b[36mmin(skwns)\u001b[0m \u001b[1m<\u001b[0m\u001b[0m 0.060454056192696226)) ∧ (\u001b[1m\u001b[33mmed(mel1=357Hz)\u001b[0m \u001b[1m<\u001b[0m\u001b[0m -2.3892659624167787) ∧ (\u001b[1m\u001b[36mmax(cntrd)\u001b[0m \u001b[1m<\u001b[0m\u001b[0m 1068.6700214056882)  ↣  URTI : (ninstances = 86, ncovered = 1, coverage = 0.01, confidence = 1.0, lift = 1.83, natoms = 8)\n",
      "\u001b[34m▣\u001b[0m (¬(\u001b[1m\u001b[36mmean(sprd)\u001b[0m \u001b[1m<\u001b[0m\u001b[0m 336.63940662391843)) ∧ (\u001b[1m\u001b[36mmed(cntrd)\u001b[0m \u001b[1m<\u001b[0m\u001b[0m 1169.0875935533527) ∧ (\u001b[1m\u001b[36mmax(kurts)\u001b[0m \u001b[1m<\u001b[0m\u001b[0m 309.54313425171983) ∧ (\u001b[1m\u001b[33mbsm(mel3=504Hz)\u001b[0m \u001b[1m<\u001b[0m\u001b[0m 9.5) ∧ (¬(\u001b[1m\u001b[33mmin(mel8=1194Hz)\u001b[0m \u001b[1m<\u001b[0m\u001b[0m -5.6292906888019525)) ∧ (¬(\u001b[1m\u001b[36mmin(skwns)\u001b[0m \u001b[1m<\u001b[0m\u001b[0m 0.060454056192696226)) ∧ (\u001b[1m\u001b[33mmed(mel1=357Hz)\u001b[0m \u001b[1m<\u001b[0m\u001b[0m -2.3892659624167787) ∧ (¬(\u001b[1m\u001b[36mmax(cntrd)\u001b[0m \u001b[1m<\u001b[0m\u001b[0m 1068.6700214056882)) ∧ (\u001b[1m\u001b[36mmin(rllff)\u001b[0m \u001b[1m<\u001b[0m\u001b[0m 476.5625)  ↣  Healthy : (ninstances = 86, ncovered = 2, coverage = 0.02, confidence = 0.5, lift = 1.1, natoms = 9)\n",
      "\u001b[34m▣\u001b[0m (¬(\u001b[1m\u001b[36mmean(sprd)\u001b[0m \u001b[1m<\u001b[0m\u001b[0m 336.63940662391843)) ∧ (\u001b[1m\u001b[36mmed(cntrd)\u001b[0m \u001b[1m<\u001b[0m\u001b[0m 1169.0875935533527) ∧ (\u001b[1m\u001b[36mmax(kurts)\u001b[0m \u001b[1m<\u001b[0m\u001b[0m 309.54313425171983) ∧ (\u001b[1m\u001b[33mbsm(mel3=504Hz)\u001b[0m \u001b[1m<\u001b[0m\u001b[0m 9.5) ∧ (¬(\u001b[1m\u001b[33mmin(mel8=1194Hz)\u001b[0m \u001b[1m<\u001b[0m\u001b[0m -5.6292906888019525)) ∧ (¬(\u001b[1m\u001b[36mmin(skwns)\u001b[0m \u001b[1m<\u001b[0m\u001b[0m 0.060454056192696226)) ∧ (\u001b[1m\u001b[33mmed(mel1=357Hz)\u001b[0m \u001b[1m<\u001b[0m\u001b[0m -2.3892659624167787) ∧ (¬(\u001b[1m\u001b[36mmax(cntrd)\u001b[0m \u001b[1m<\u001b[0m\u001b[0m 1068.6700214056882)) ∧ (¬(\u001b[1m\u001b[36mmin(rllff)\u001b[0m \u001b[1m<\u001b[0m\u001b[0m 476.5625)) ∧ (\u001b[1m\u001b[36mmed(crest)\u001b[0m \u001b[1m<\u001b[0m\u001b[0m 23.781863210533647) ∧ (\u001b[1m\u001b[36mmax(entrp)\u001b[0m \u001b[1m<\u001b[0m\u001b[0m 0.867344207019275)  ↣  URTI : (ninstances = 86, ncovered = 5, coverage = 0.06, confidence = 0.6, lift = 1.1, natoms = 11)\n",
      "\u001b[34m▣\u001b[0m (¬(\u001b[1m\u001b[36mmean(sprd)\u001b[0m \u001b[1m<\u001b[0m\u001b[0m 336.63940662391843)) ∧ (\u001b[1m\u001b[36mmed(cntrd)\u001b[0m \u001b[1m<\u001b[0m\u001b[0m 1169.0875935533527) ∧ (\u001b[1m\u001b[36mmax(kurts)\u001b[0m \u001b[1m<\u001b[0m\u001b[0m 309.54313425171983) ∧ (\u001b[1m\u001b[33mbsm(mel3=504Hz)\u001b[0m \u001b[1m<\u001b[0m\u001b[0m 9.5) ∧ (¬(\u001b[1m\u001b[33mmin(mel8=1194Hz)\u001b[0m \u001b[1m<\u001b[0m\u001b[0m -5.6292906888019525)) ∧ (¬(\u001b[1m\u001b[36mmin(skwns)\u001b[0m \u001b[1m<\u001b[0m\u001b[0m 0.060454056192696226)) ∧ (¬(\u001b[1m\u001b[33mmed(mel1=357Hz)\u001b[0m \u001b[1m<\u001b[0m\u001b[0m -2.3892659624167787))  ↣  Healthy : (ninstances = 86, ncovered = 2, coverage = 0.02, confidence = 0.5, lift = 1.1, natoms = 7)\n",
      "\u001b[34m▣\u001b[0m (¬(\u001b[1m\u001b[36mmean(sprd)\u001b[0m \u001b[1m<\u001b[0m\u001b[0m 336.63940662391843)) ∧ (\u001b[1m\u001b[36mmed(cntrd)\u001b[0m \u001b[1m<\u001b[0m\u001b[0m 1169.0875935533527) ∧ (\u001b[1m\u001b[36mmax(kurts)\u001b[0m \u001b[1m<\u001b[0m\u001b[0m 309.54313425171983) ∧ (¬(\u001b[1m\u001b[33mbsm(mel3=504Hz)\u001b[0m \u001b[1m<\u001b[0m\u001b[0m 9.5)) ∧ (\u001b[1m\u001b[33mmean(mel14=3366Hz)\u001b[0m \u001b[1m<\u001b[0m\u001b[0m -4.572196069237991) ∧ (\u001b[1m\u001b[36mmean(rllff)\u001b[0m \u001b[1m<\u001b[0m\u001b[0m 1693.9655172413793) ∧ (\u001b[1m\u001b[33mmean(mel11=2005Hz)\u001b[0m \u001b[1m<\u001b[0m\u001b[0m -4.590914162522772) ∧ (\u001b[1m\u001b[33mmed(mel10=1687Hz)\u001b[0m \u001b[1m<\u001b[0m\u001b[0m -4.396318936018734) ∧ (\u001b[1m\u001b[36m3ac(slope)\u001b[0m \u001b[1m<\u001b[0m\u001b[0m 0.02304316788443772)  ↣  URTI : (ninstances = 86, ncovered = 1, coverage = 0.01, confidence = 1.0, lift = 1.83, natoms = 9)\n",
      "\u001b[34m▣\u001b[0m (¬(\u001b[1m\u001b[36mmean(sprd)\u001b[0m \u001b[1m<\u001b[0m\u001b[0m 336.63940662391843)) ∧ (\u001b[1m\u001b[36mmed(cntrd)\u001b[0m \u001b[1m<\u001b[0m\u001b[0m 1169.0875935533527) ∧ (\u001b[1m\u001b[36mmax(kurts)\u001b[0m \u001b[1m<\u001b[0m\u001b[0m 309.54313425171983) ∧ (¬(\u001b[1m\u001b[33mbsm(mel3=504Hz)\u001b[0m \u001b[1m<\u001b[0m\u001b[0m 9.5)) ∧ (\u001b[1m\u001b[33mmean(mel14=3366Hz)\u001b[0m \u001b[1m<\u001b[0m\u001b[0m -4.572196069237991) ∧ (\u001b[1m\u001b[36mmean(rllff)\u001b[0m \u001b[1m<\u001b[0m\u001b[0m 1693.9655172413793) ∧ (\u001b[1m\u001b[33mmean(mel11=2005Hz)\u001b[0m \u001b[1m<\u001b[0m\u001b[0m -4.590914162522772) ∧ (¬(\u001b[1m\u001b[33mmed(mel10=1687Hz)\u001b[0m \u001b[1m<\u001b[0m\u001b[0m -4.396318936018734))  ↣  URTI : (ninstances = 86, ncovered = 3, coverage = 0.03, confidence = 0.67, lift = 1.22, natoms = 8)\n",
      "\u001b[34m▣\u001b[0m (¬(\u001b[1m\u001b[36mmean(sprd)\u001b[0m \u001b[1m<\u001b[0m\u001b[0m 336.63940662391843)) ∧ (\u001b[1m\u001b[36mmed(cntrd)\u001b[0m \u001b[1m<\u001b[0m\u001b[0m 1169.0875935533527) ∧ (\u001b[1m\u001b[36mmax(kurts)\u001b[0m \u001b[1m<\u001b[0m\u001b[0m 309.54313425171983) ∧ (¬(\u001b[1m\u001b[33mbsm(mel3=504Hz)\u001b[0m \u001b[1m<\u001b[0m\u001b[0m 9.5)) ∧ (\u001b[1m\u001b[33mmean(mel14=3366Hz)\u001b[0m \u001b[1m<\u001b[0m\u001b[0m -4.572196069237991) ∧ (\u001b[1m\u001b[36mmean(rllff)\u001b[0m \u001b[1m<\u001b[0m\u001b[0m 1693.9655172413793) ∧ (¬(\u001b[1m\u001b[33mmean(mel11=2005Hz)\u001b[0m \u001b[1m<\u001b[0m\u001b[0m -4.590914162522772))  ↣  Healthy : (ninstances = 86, ncovered = 3, coverage = 0.03, confidence = 1.0, lift = 2.21, natoms = 7)\n",
      "\u001b[34m▣\u001b[0m (¬(\u001b[1m\u001b[36mmean(sprd)\u001b[0m \u001b[1m<\u001b[0m\u001b[0m 336.63940662391843)) ∧ (\u001b[1m\u001b[36mmed(cntrd)\u001b[0m \u001b[1m<\u001b[0m\u001b[0m 1169.0875935533527) ∧ (\u001b[1m\u001b[36mmax(kurts)\u001b[0m \u001b[1m<\u001b[0m\u001b[0m 309.54313425171983) ∧ (¬(\u001b[1m\u001b[33mbsm(mel3=504Hz)\u001b[0m \u001b[1m<\u001b[0m\u001b[0m 9.5)) ∧ (\u001b[1m\u001b[33mmean(mel14=3366Hz)\u001b[0m \u001b[1m<\u001b[0m\u001b[0m -4.572196069237991) ∧ (¬(\u001b[1m\u001b[36mmean(rllff)\u001b[0m \u001b[1m<\u001b[0m\u001b[0m 1693.9655172413793))  ↣  Healthy : (ninstances = 86, ncovered = 8, coverage = 0.09, confidence = 0.75, lift = 1.65, natoms = 6)\n",
      "\u001b[34m▣\u001b[0m (¬(\u001b[1m\u001b[36mmean(sprd)\u001b[0m \u001b[1m<\u001b[0m\u001b[0m 336.63940662391843)) ∧ (\u001b[1m\u001b[36mmed(cntrd)\u001b[0m \u001b[1m<\u001b[0m\u001b[0m 1169.0875935533527) ∧ (¬(\u001b[1m\u001b[36mmax(kurts)\u001b[0m \u001b[1m<\u001b[0m\u001b[0m 309.54313425171983))  ↣  Healthy : (ninstances = 86, ncovered = 3, coverage = 0.03, confidence = 0.67, lift = 1.47, natoms = 3)\n",
      "\u001b[34m▣\u001b[0m (¬(\u001b[1m\u001b[36mmean(sprd)\u001b[0m \u001b[1m<\u001b[0m\u001b[0m 336.63940662391843)) ∧ (¬(\u001b[1m\u001b[36mmed(cntrd)\u001b[0m \u001b[1m<\u001b[0m\u001b[0m 1169.0875935533527))  ↣  Healthy : (ninstances = 86, ncovered = 4, coverage = 0.05, confidence = 0.75, lift = 1.65, natoms = 2)\n"
     ]
    }
   ],
   "source": [
    "interesting_rules = listrules(sole_dt, min_lift = 1.0, min_ninstances = 0);\n",
    "printmodel.(interesting_rules; show_metrics = true, variable_names_map = variable_names);"
   ]
  },
  {
   "cell_type": "markdown",
   "metadata": {},
   "source": [
    "### Simplify rules while extracting and prettify result"
   ]
  },
  {
   "cell_type": "code",
   "execution_count": 8,
   "metadata": {},
   "outputs": [
    {
     "name": "stdout",
     "output_type": "stream",
     "text": [
      "\u001b[34m▣\u001b[0m (\u001b[1m\u001b[36mmean(sprd)\u001b[0m \u001b[1m<\u001b[0m\u001b[0m 336.64) ∧ (\u001b[1m\u001b[33mmin(mel9=1419Hz)\u001b[0m \u001b[1m≥\u001b[0m\u001b[0m -6.46) ∧ (\u001b[1m\u001b[33m3ac(mel3=504Hz)\u001b[0m \u001b[1m<\u001b[0m\u001b[0m 0.15) ∧ (\u001b[1m\u001b[33mqnt(mel10=1687Hz)\u001b[0m \u001b[1m<\u001b[0m\u001b[0m 2.15)  ↣  URTI : (ninstances = 86, ncovered = 22, coverage = 0.26, confidence = 0.73, lift = 1.33, natoms = 4)\n",
      "\u001b[34m▣\u001b[0m (\u001b[1m\u001b[36mmean(sprd)\u001b[0m \u001b[1m<\u001b[0m\u001b[0m 336.64) ∧ (\u001b[1m\u001b[33mmin(mel9=1419Hz)\u001b[0m \u001b[1m≥\u001b[0m\u001b[0m -6.46) ∧ (\u001b[1m\u001b[33m3ac(mel3=504Hz)\u001b[0m \u001b[1m≥\u001b[0m\u001b[0m 0.15) ∧ (\u001b[1m\u001b[33mstd(mel4=599Hz)\u001b[0m \u001b[1m<\u001b[0m\u001b[0m 0.76)  ↣  URTI : (ninstances = 86, ncovered = 1, coverage = 0.01, confidence = 1.0, lift = 1.83, natoms = 4)\n",
      "\u001b[34m▣\u001b[0m (\u001b[1m\u001b[36mmean(sprd)\u001b[0m \u001b[1m≥\u001b[0m\u001b[0m 336.64) ∧ (\u001b[1m\u001b[36mmed(cntrd)\u001b[0m \u001b[1m<\u001b[0m\u001b[0m 1169.09) ∧ (\u001b[1m\u001b[36mmax(kurts)\u001b[0m \u001b[1m<\u001b[0m\u001b[0m 309.54) ∧ (\u001b[1m\u001b[33mbsm(mel3=504Hz)\u001b[0m \u001b[1m<\u001b[0m\u001b[0m 9.5) ∧ (\u001b[1m\u001b[33mmin(mel8=1194Hz)\u001b[0m \u001b[1m<\u001b[0m\u001b[0m -5.63) ∧ (\u001b[1m\u001b[33mmax(mel6=845Hz)\u001b[0m \u001b[1m<\u001b[0m\u001b[0m -3.63)  ↣  Healthy : (ninstances = 86, ncovered = 5, coverage = 0.06, confidence = 1.0, lift = 2.21, natoms = 6)\n",
      "\u001b[34m▣\u001b[0m (\u001b[1m\u001b[36mmean(sprd)\u001b[0m \u001b[1m≥\u001b[0m\u001b[0m 336.64) ∧ (\u001b[1m\u001b[36mmed(cntrd)\u001b[0m \u001b[1m<\u001b[0m\u001b[0m 1169.09) ∧ (\u001b[1m\u001b[36mmax(kurts)\u001b[0m \u001b[1m<\u001b[0m\u001b[0m 309.54) ∧ (\u001b[1m\u001b[33mbsm(mel3=504Hz)\u001b[0m \u001b[1m<\u001b[0m\u001b[0m 9.5) ∧ (\u001b[1m\u001b[33mmin(mel8=1194Hz)\u001b[0m \u001b[1m<\u001b[0m\u001b[0m -5.63) ∧ (\u001b[1m\u001b[33mmax(mel6=845Hz)\u001b[0m \u001b[1m≥\u001b[0m\u001b[0m -3.63) ∧ (\u001b[1m\u001b[36m3ac(decrs)\u001b[0m \u001b[1m<\u001b[0m\u001b[0m 0.01)  ↣  Healthy : (ninstances = 86, ncovered = 1, coverage = 0.01, confidence = 1.0, lift = 2.21, natoms = 7)\n",
      "\u001b[34m▣\u001b[0m (\u001b[1m\u001b[36mmean(sprd)\u001b[0m \u001b[1m≥\u001b[0m\u001b[0m 336.64) ∧ (\u001b[1m\u001b[36mmed(cntrd)\u001b[0m \u001b[1m<\u001b[0m\u001b[0m 1169.09) ∧ (\u001b[1m\u001b[36mmax(kurts)\u001b[0m \u001b[1m<\u001b[0m\u001b[0m 309.54) ∧ (\u001b[1m\u001b[33mbsm(mel3=504Hz)\u001b[0m \u001b[1m<\u001b[0m\u001b[0m 9.5) ∧ (\u001b[1m\u001b[33mmin(mel8=1194Hz)\u001b[0m \u001b[1m<\u001b[0m\u001b[0m -5.63) ∧ (\u001b[1m\u001b[33mmax(mel6=845Hz)\u001b[0m \u001b[1m≥\u001b[0m\u001b[0m -3.63) ∧ (\u001b[1m\u001b[36m3ac(decrs)\u001b[0m \u001b[1m≥\u001b[0m\u001b[0m 0.01)  ↣  URTI : (ninstances = 86, ncovered = 3, coverage = 0.03, confidence = 1.0, lift = 1.83, natoms = 7)\n",
      "\u001b[34m▣\u001b[0m (\u001b[1m\u001b[36mmean(sprd)\u001b[0m \u001b[1m≥\u001b[0m\u001b[0m 336.64) ∧ (\u001b[1m\u001b[36mmed(cntrd)\u001b[0m \u001b[1m<\u001b[0m\u001b[0m 1169.09) ∧ (\u001b[1m\u001b[36mmax(kurts)\u001b[0m \u001b[1m<\u001b[0m\u001b[0m 309.54) ∧ (\u001b[1m\u001b[33mbsm(mel3=504Hz)\u001b[0m \u001b[1m<\u001b[0m\u001b[0m 9.5) ∧ (\u001b[1m\u001b[33mmin(mel8=1194Hz)\u001b[0m \u001b[1m≥\u001b[0m\u001b[0m -5.63) ∧ (\u001b[1m\u001b[36mmin(skwns)\u001b[0m \u001b[1m<\u001b[0m\u001b[0m 0.06)  ↣  URTI : (ninstances = 86, ncovered = 7, coverage = 0.08, confidence = 0.71, lift = 1.31, natoms = 6)\n",
      "\u001b[34m▣\u001b[0m (\u001b[1m\u001b[36mmean(sprd)\u001b[0m \u001b[1m≥\u001b[0m\u001b[0m 336.64) ∧ (\u001b[1m\u001b[36mmed(cntrd)\u001b[0m \u001b[1m<\u001b[0m\u001b[0m 1169.09) ∧ (\u001b[1m\u001b[36mmax(kurts)\u001b[0m \u001b[1m<\u001b[0m\u001b[0m 309.54) ∧ (\u001b[1m\u001b[33mbsm(mel3=504Hz)\u001b[0m \u001b[1m<\u001b[0m\u001b[0m 9.5) ∧ (\u001b[1m\u001b[33mmin(mel8=1194Hz)\u001b[0m \u001b[1m≥\u001b[0m\u001b[0m -5.63) ∧ (\u001b[1m\u001b[36mmin(skwns)\u001b[0m \u001b[1m≥\u001b[0m\u001b[0m 0.06) ∧ (\u001b[1m\u001b[33mmed(mel1=357Hz)\u001b[0m \u001b[1m<\u001b[0m\u001b[0m -2.39) ∧ (\u001b[1m\u001b[36mmax(cntrd)\u001b[0m \u001b[1m<\u001b[0m\u001b[0m 1068.67)  ↣  URTI : (ninstances = 86, ncovered = 1, coverage = 0.01, confidence = 1.0, lift = 1.83, natoms = 8)\n",
      "\u001b[34m▣\u001b[0m (\u001b[1m\u001b[36mmean(sprd)\u001b[0m \u001b[1m≥\u001b[0m\u001b[0m 336.64) ∧ (\u001b[1m\u001b[36mmed(cntrd)\u001b[0m \u001b[1m<\u001b[0m\u001b[0m 1169.09) ∧ (\u001b[1m\u001b[36mmax(kurts)\u001b[0m \u001b[1m<\u001b[0m\u001b[0m 309.54) ∧ (\u001b[1m\u001b[33mbsm(mel3=504Hz)\u001b[0m \u001b[1m<\u001b[0m\u001b[0m 9.5) ∧ (\u001b[1m\u001b[33mmin(mel8=1194Hz)\u001b[0m \u001b[1m≥\u001b[0m\u001b[0m -5.63) ∧ (\u001b[1m\u001b[36mmin(skwns)\u001b[0m \u001b[1m≥\u001b[0m\u001b[0m 0.06) ∧ (\u001b[1m\u001b[33mmed(mel1=357Hz)\u001b[0m \u001b[1m<\u001b[0m\u001b[0m -2.39) ∧ (\u001b[1m\u001b[36mmax(cntrd)\u001b[0m \u001b[1m≥\u001b[0m\u001b[0m 1068.67) ∧ (\u001b[1m\u001b[36mmin(rllff)\u001b[0m \u001b[1m<\u001b[0m\u001b[0m 476.56)  ↣  Healthy : (ninstances = 86, ncovered = 2, coverage = 0.02, confidence = 0.5, lift = 1.1, natoms = 9)\n",
      "\u001b[34m▣\u001b[0m (\u001b[1m\u001b[36mmean(sprd)\u001b[0m \u001b[1m≥\u001b[0m\u001b[0m 336.64) ∧ (\u001b[1m\u001b[36mmed(cntrd)\u001b[0m \u001b[1m<\u001b[0m\u001b[0m 1169.09) ∧ (\u001b[1m\u001b[36mmax(kurts)\u001b[0m \u001b[1m<\u001b[0m\u001b[0m 309.54) ∧ (\u001b[1m\u001b[33mbsm(mel3=504Hz)\u001b[0m \u001b[1m<\u001b[0m\u001b[0m 9.5) ∧ (\u001b[1m\u001b[33mmin(mel8=1194Hz)\u001b[0m \u001b[1m≥\u001b[0m\u001b[0m -5.63) ∧ (\u001b[1m\u001b[36mmin(skwns)\u001b[0m \u001b[1m≥\u001b[0m\u001b[0m 0.06) ∧ (\u001b[1m\u001b[33mmed(mel1=357Hz)\u001b[0m \u001b[1m<\u001b[0m\u001b[0m -2.39) ∧ (\u001b[1m\u001b[36mmax(cntrd)\u001b[0m \u001b[1m≥\u001b[0m\u001b[0m 1068.67) ∧ (\u001b[1m\u001b[36mmin(rllff)\u001b[0m \u001b[1m≥\u001b[0m\u001b[0m 476.56) ∧ (\u001b[1m\u001b[36mmed(crest)\u001b[0m \u001b[1m<\u001b[0m\u001b[0m 23.78) ∧ (\u001b[1m\u001b[36mmax(entrp)\u001b[0m \u001b[1m<\u001b[0m\u001b[0m 0.87)  ↣  URTI : (ninstances = 86, ncovered = 5, coverage = 0.06, confidence = 0.6, lift = 1.1, natoms = 11)\n",
      "\u001b[34m▣\u001b[0m (\u001b[1m\u001b[36mmean(sprd)\u001b[0m \u001b[1m≥\u001b[0m\u001b[0m 336.64) ∧ (\u001b[1m\u001b[36mmed(cntrd)\u001b[0m \u001b[1m<\u001b[0m\u001b[0m 1169.09) ∧ (\u001b[1m\u001b[36mmax(kurts)\u001b[0m \u001b[1m<\u001b[0m\u001b[0m 309.54) ∧ (\u001b[1m\u001b[33mbsm(mel3=504Hz)\u001b[0m \u001b[1m<\u001b[0m\u001b[0m 9.5) ∧ (\u001b[1m\u001b[33mmin(mel8=1194Hz)\u001b[0m \u001b[1m≥\u001b[0m\u001b[0m -5.63) ∧ (\u001b[1m\u001b[36mmin(skwns)\u001b[0m \u001b[1m≥\u001b[0m\u001b[0m 0.06) ∧ (\u001b[1m\u001b[33mmed(mel1=357Hz)\u001b[0m \u001b[1m≥\u001b[0m\u001b[0m -2.39)  ↣  Healthy : (ninstances = 86, ncovered = 2, coverage = 0.02, confidence = 0.5, lift = 1.1, natoms = 7)\n",
      "\u001b[34m▣\u001b[0m (\u001b[1m\u001b[36mmean(sprd)\u001b[0m \u001b[1m≥\u001b[0m\u001b[0m 336.64) ∧ (\u001b[1m\u001b[36mmed(cntrd)\u001b[0m \u001b[1m<\u001b[0m\u001b[0m 1169.09) ∧ (\u001b[1m\u001b[36mmax(kurts)\u001b[0m \u001b[1m<\u001b[0m\u001b[0m 309.54) ∧ (\u001b[1m\u001b[33mbsm(mel3=504Hz)\u001b[0m \u001b[1m≥\u001b[0m\u001b[0m 9.5) ∧ (\u001b[1m\u001b[33mmean(mel14=3366Hz)\u001b[0m \u001b[1m<\u001b[0m\u001b[0m -4.57) ∧ (\u001b[1m\u001b[36mmean(rllff)\u001b[0m \u001b[1m<\u001b[0m\u001b[0m 1693.97) ∧ (\u001b[1m\u001b[33mmean(mel11=2005Hz)\u001b[0m \u001b[1m<\u001b[0m\u001b[0m -4.59) ∧ (\u001b[1m\u001b[33mmed(mel10=1687Hz)\u001b[0m \u001b[1m<\u001b[0m\u001b[0m -4.4) ∧ (\u001b[1m\u001b[36m3ac(slope)\u001b[0m \u001b[1m<\u001b[0m\u001b[0m 0.02)  ↣  URTI : (ninstances = 86, ncovered = 1, coverage = 0.01, confidence = 1.0, lift = 1.83, natoms = 9)\n",
      "\u001b[34m▣\u001b[0m (\u001b[1m\u001b[36mmean(sprd)\u001b[0m \u001b[1m≥\u001b[0m\u001b[0m 336.64) ∧ (\u001b[1m\u001b[36mmed(cntrd)\u001b[0m \u001b[1m<\u001b[0m\u001b[0m 1169.09) ∧ (\u001b[1m\u001b[36mmax(kurts)\u001b[0m \u001b[1m<\u001b[0m\u001b[0m 309.54) ∧ (\u001b[1m\u001b[33mbsm(mel3=504Hz)\u001b[0m \u001b[1m≥\u001b[0m\u001b[0m 9.5) ∧ (\u001b[1m\u001b[33mmean(mel14=3366Hz)\u001b[0m \u001b[1m<\u001b[0m\u001b[0m -4.57) ∧ (\u001b[1m\u001b[36mmean(rllff)\u001b[0m \u001b[1m<\u001b[0m\u001b[0m 1693.97) ∧ (\u001b[1m\u001b[33mmean(mel11=2005Hz)\u001b[0m \u001b[1m<\u001b[0m\u001b[0m -4.59) ∧ (\u001b[1m\u001b[33mmed(mel10=1687Hz)\u001b[0m \u001b[1m≥\u001b[0m\u001b[0m -4.4)  ↣  URTI : (ninstances = 86, ncovered = 3, coverage = 0.03, confidence = 0.67, lift = 1.22, natoms = 8)\n",
      "\u001b[34m▣\u001b[0m (\u001b[1m\u001b[36mmean(sprd)\u001b[0m \u001b[1m≥\u001b[0m\u001b[0m 336.64) ∧ (\u001b[1m\u001b[36mmed(cntrd)\u001b[0m \u001b[1m<\u001b[0m\u001b[0m 1169.09) ∧ (\u001b[1m\u001b[36mmax(kurts)\u001b[0m \u001b[1m<\u001b[0m\u001b[0m 309.54) ∧ (\u001b[1m\u001b[33mbsm(mel3=504Hz)\u001b[0m \u001b[1m≥\u001b[0m\u001b[0m 9.5) ∧ (\u001b[1m\u001b[33mmean(mel14=3366Hz)\u001b[0m \u001b[1m<\u001b[0m\u001b[0m -4.57) ∧ (\u001b[1m\u001b[36mmean(rllff)\u001b[0m \u001b[1m<\u001b[0m\u001b[0m 1693.97) ∧ (\u001b[1m\u001b[33mmean(mel11=2005Hz)\u001b[0m \u001b[1m≥\u001b[0m\u001b[0m -4.59)  ↣  Healthy : (ninstances = 86, ncovered = 3, coverage = 0.03, confidence = 1.0, lift = 2.21, natoms = 7)\n",
      "\u001b[34m▣\u001b[0m (\u001b[1m\u001b[36mmean(sprd)\u001b[0m \u001b[1m≥\u001b[0m\u001b[0m 336.64) ∧ (\u001b[1m\u001b[36mmed(cntrd)\u001b[0m \u001b[1m<\u001b[0m\u001b[0m 1169.09) ∧ (\u001b[1m\u001b[36mmax(kurts)\u001b[0m \u001b[1m<\u001b[0m\u001b[0m 309.54) ∧ (\u001b[1m\u001b[33mbsm(mel3=504Hz)\u001b[0m \u001b[1m≥\u001b[0m\u001b[0m 9.5) ∧ (\u001b[1m\u001b[33mmean(mel14=3366Hz)\u001b[0m \u001b[1m<\u001b[0m\u001b[0m -4.57) ∧ (\u001b[1m\u001b[36mmean(rllff)\u001b[0m \u001b[1m≥\u001b[0m\u001b[0m 1693.97)  ↣  Healthy : (ninstances = 86, ncovered = 8, coverage = 0.09, confidence = 0.75, lift = 1.65, natoms = 6)\n",
      "\u001b[34m▣\u001b[0m (\u001b[1m\u001b[36mmean(sprd)\u001b[0m \u001b[1m≥\u001b[0m\u001b[0m 336.64) ∧ (\u001b[1m\u001b[36mmed(cntrd)\u001b[0m \u001b[1m<\u001b[0m\u001b[0m 1169.09) ∧ (\u001b[1m\u001b[36mmax(kurts)\u001b[0m \u001b[1m≥\u001b[0m\u001b[0m 309.54)  ↣  Healthy : (ninstances = 86, ncovered = 3, coverage = 0.03, confidence = 0.67, lift = 1.47, natoms = 3)\n",
      "\u001b[34m▣\u001b[0m (\u001b[1m\u001b[36mmean(sprd)\u001b[0m \u001b[1m≥\u001b[0m\u001b[0m 336.64) ∧ (\u001b[1m\u001b[36mmed(cntrd)\u001b[0m \u001b[1m≥\u001b[0m\u001b[0m 1169.09)  ↣  Healthy : (ninstances = 86, ncovered = 4, coverage = 0.05, confidence = 0.75, lift = 1.65, natoms = 2)\n"
     ]
    }
   ],
   "source": [
    "interesting_rules = listrules(sole_dt, min_lift = 1.0, min_ninstances = 0, normalize = true);\n",
    "printmodel.(interesting_rules; show_metrics = true, syntaxstring_kwargs = (; threshold_digits = 2), variable_names_map = variable_names);"
   ]
  },
  {
   "cell_type": "markdown",
   "metadata": {},
   "source": [
    "### Directly access rule metrics"
   ]
  },
  {
   "cell_type": "code",
   "execution_count": 9,
   "metadata": {},
   "outputs": [
    {
     "data": {
      "text/plain": [
       "16-element Vector{@NamedTuple{ninstances::Int64, ncovered::Int64, coverage::Float64, confidence::Float64, lift::Float64, natoms::Int64}}:\n",
       " (ninstances = 86, ncovered = 22, coverage = 0.2558139534883721, confidence = 0.7272727272727273, lift = 1.330754352030948, natoms = 4)\n",
       " (ninstances = 86, ncovered = 1, coverage = 0.011627906976744186, confidence = 1.0, lift = 1.8297872340425534, natoms = 4)\n",
       " (ninstances = 86, ncovered = 5, coverage = 0.05813953488372093, confidence = 1.0, lift = 2.2051282051282053, natoms = 6)\n",
       " (ninstances = 86, ncovered = 1, coverage = 0.011627906976744186, confidence = 1.0, lift = 2.2051282051282053, natoms = 7)\n",
       " (ninstances = 86, ncovered = 3, coverage = 0.03488372093023256, confidence = 1.0, lift = 1.8297872340425534, natoms = 7)\n",
       " (ninstances = 86, ncovered = 7, coverage = 0.08139534883720931, confidence = 0.7142857142857143, lift = 1.3069908814589666, natoms = 6)\n",
       " (ninstances = 86, ncovered = 1, coverage = 0.011627906976744186, confidence = 1.0, lift = 1.8297872340425534, natoms = 8)\n",
       " (ninstances = 86, ncovered = 2, coverage = 0.023255813953488372, confidence = 0.5, lift = 1.1025641025641026, natoms = 9)\n",
       " (ninstances = 86, ncovered = 5, coverage = 0.05813953488372093, confidence = 0.6, lift = 1.097872340425532, natoms = 11)\n",
       " (ninstances = 86, ncovered = 2, coverage = 0.023255813953488372, confidence = 0.5, lift = 1.1025641025641026, natoms = 7)\n",
       " (ninstances = 86, ncovered = 1, coverage = 0.011627906976744186, confidence = 1.0, lift = 1.8297872340425534, natoms = 9)\n",
       " (ninstances = 86, ncovered = 3, coverage = 0.03488372093023256, confidence = 0.6666666666666666, lift = 1.2198581560283688, natoms = 8)\n",
       " (ninstances = 86, ncovered = 3, coverage = 0.03488372093023256, confidence = 1.0, lift = 2.2051282051282053, natoms = 7)\n",
       " (ninstances = 86, ncovered = 8, coverage = 0.09302325581395349, confidence = 0.75, lift = 1.653846153846154, natoms = 6)\n",
       " (ninstances = 86, ncovered = 3, coverage = 0.03488372093023256, confidence = 0.6666666666666666, lift = 1.4700854700854702, natoms = 3)\n",
       " (ninstances = 86, ncovered = 4, coverage = 0.046511627906976744, confidence = 0.75, lift = 1.653846153846154, natoms = 2)"
      ]
     },
     "metadata": {},
     "output_type": "display_data"
    }
   ],
   "source": [
    "readmetrics.(listrules(sole_dt; min_lift=1.0, min_ninstances = 0))"
   ]
  },
  {
   "cell_type": "markdown",
   "metadata": {},
   "source": [
    "### Show rules with an additional metric (syntax height of the rule's antecedent)"
   ]
  },
  {
   "cell_type": "code",
   "execution_count": 10,
   "metadata": {},
   "outputs": [
    {
     "name": "stdout",
     "output_type": "stream",
     "text": [
      "\u001b[34m▣\u001b[0m (\u001b[1m\u001b[36mmean(sprd)\u001b[0m \u001b[1m<\u001b[0m\u001b[0m 336.63940662391843) ∧ (\u001b[1m\u001b[33mmin(mel9=1419Hz)\u001b[0m \u001b[1m≥\u001b[0m\u001b[0m -6.463391337513174) ∧ (\u001b[1m\u001b[33m3ac(mel3=504Hz)\u001b[0m \u001b[1m≥\u001b[0m\u001b[0m 0.14583333333333337) ∧ (\u001b[1m\u001b[33mstd(mel4=599Hz)\u001b[0m \u001b[1m<\u001b[0m\u001b[0m 0.7608194009407704)  ↣  URTI : (ninstances = 86, ncovered = 1, coverage = 0.011627906976744186, confidence = 1.0, lift = 1.8297872340425534, natoms = 4, height = 3)\n",
      "\u001b[34m▣\u001b[0m (\u001b[1m\u001b[36mmean(sprd)\u001b[0m \u001b[1m≥\u001b[0m\u001b[0m 336.63940662391843) ∧ (\u001b[1m\u001b[36mmed(cntrd)\u001b[0m \u001b[1m<\u001b[0m\u001b[0m 1169.0875935533527) ∧ (\u001b[1m\u001b[36mmax(kurts)\u001b[0m \u001b[1m<\u001b[0m\u001b[0m 309.54313425171983) ∧ (\u001b[1m\u001b[33mbsm(mel3=504Hz)\u001b[0m \u001b[1m<\u001b[0m\u001b[0m 9.5) ∧ (\u001b[1m\u001b[33mmin(mel8=1194Hz)\u001b[0m \u001b[1m≥\u001b[0m\u001b[0m -5.6292906888019525) ∧ (\u001b[1m\u001b[36mmin(skwns)\u001b[0m \u001b[1m≥\u001b[0m\u001b[0m 0.060454056192696226) ∧ (\u001b[1m\u001b[33mmed(mel1=357Hz)\u001b[0m \u001b[1m<\u001b[0m\u001b[0m -2.3892659624167787) ∧ (\u001b[1m\u001b[36mmax(cntrd)\u001b[0m \u001b[1m<\u001b[0m\u001b[0m 1068.6700214056882)  ↣  URTI : (ninstances = 86, ncovered = 1, coverage = 0.011627906976744186, confidence = 1.0, lift = 1.8297872340425534, natoms = 8, height = 7)\n",
      "\u001b[34m▣\u001b[0m (\u001b[1m\u001b[36mmean(sprd)\u001b[0m \u001b[1m≥\u001b[0m\u001b[0m 336.63940662391843) ∧ (\u001b[1m\u001b[36mmed(cntrd)\u001b[0m \u001b[1m<\u001b[0m\u001b[0m 1169.0875935533527) ∧ (\u001b[1m\u001b[36mmax(kurts)\u001b[0m \u001b[1m<\u001b[0m\u001b[0m 309.54313425171983) ∧ (\u001b[1m\u001b[33mbsm(mel3=504Hz)\u001b[0m \u001b[1m≥\u001b[0m\u001b[0m 9.5) ∧ (\u001b[1m\u001b[33mmean(mel14=3366Hz)\u001b[0m \u001b[1m<\u001b[0m\u001b[0m -4.572196069237991) ∧ (\u001b[1m\u001b[36mmean(rllff)\u001b[0m \u001b[1m<\u001b[0m\u001b[0m 1693.9655172413793) ∧ (\u001b[1m\u001b[33mmean(mel11=2005Hz)\u001b[0m \u001b[1m<\u001b[0m\u001b[0m -4.590914162522772) ∧ (\u001b[1m\u001b[33mmed(mel10=1687Hz)\u001b[0m \u001b[1m<\u001b[0m\u001b[0m -4.396318936018734) ∧ (\u001b[1m\u001b[36m3ac(slope)\u001b[0m \u001b[1m<\u001b[0m\u001b[0m 0.02304316788443772)  ↣  URTI : (ninstances = 86, ncovered = 1, coverage = 0.011627906976744186, confidence = 1.0, lift = 1.8297872340425534, natoms = 9, height = 8)\n",
      "\u001b[34m▣\u001b[0m (\u001b[1m\u001b[36mmean(sprd)\u001b[0m \u001b[1m≥\u001b[0m\u001b[0m 336.63940662391843) ∧ (\u001b[1m\u001b[36mmed(cntrd)\u001b[0m \u001b[1m<\u001b[0m\u001b[0m 1169.0875935533527) ∧ (\u001b[1m\u001b[36mmax(kurts)\u001b[0m \u001b[1m<\u001b[0m\u001b[0m 309.54313425171983) ∧ (\u001b[1m\u001b[33mbsm(mel3=504Hz)\u001b[0m \u001b[1m<\u001b[0m\u001b[0m 9.5) ∧ (\u001b[1m\u001b[33mmin(mel8=1194Hz)\u001b[0m \u001b[1m<\u001b[0m\u001b[0m -5.6292906888019525) ∧ (\u001b[1m\u001b[33mmax(mel6=845Hz)\u001b[0m \u001b[1m≥\u001b[0m\u001b[0m -3.626637871376908) ∧ (\u001b[1m\u001b[36m3ac(decrs)\u001b[0m \u001b[1m<\u001b[0m\u001b[0m 0.008503401360544217)  ↣  Healthy : (ninstances = 86, ncovered = 1, coverage = 0.011627906976744186, confidence = 1.0, lift = 2.2051282051282053, natoms = 7, height = 6)\n",
      "\u001b[34m▣\u001b[0m (\u001b[1m\u001b[36mmean(sprd)\u001b[0m \u001b[1m≥\u001b[0m\u001b[0m 336.63940662391843) ∧ (\u001b[1m\u001b[36mmed(cntrd)\u001b[0m \u001b[1m<\u001b[0m\u001b[0m 1169.0875935533527) ∧ (\u001b[1m\u001b[36mmax(kurts)\u001b[0m \u001b[1m<\u001b[0m\u001b[0m 309.54313425171983) ∧ (\u001b[1m\u001b[33mbsm(mel3=504Hz)\u001b[0m \u001b[1m<\u001b[0m\u001b[0m 9.5) ∧ (\u001b[1m\u001b[33mmin(mel8=1194Hz)\u001b[0m \u001b[1m≥\u001b[0m\u001b[0m -5.6292906888019525) ∧ (\u001b[1m\u001b[36mmin(skwns)\u001b[0m \u001b[1m≥\u001b[0m\u001b[0m 0.060454056192696226) ∧ (\u001b[1m\u001b[33mmed(mel1=357Hz)\u001b[0m \u001b[1m≥\u001b[0m\u001b[0m -2.3892659624167787)  ↣  Healthy : (ninstances = 86, ncovered = 2, coverage = 0.023255813953488372, confidence = 0.5, lift = 1.1025641025641026, natoms = 7, height = 6)\n",
      "\u001b[34m▣\u001b[0m (\u001b[1m\u001b[36mmean(sprd)\u001b[0m \u001b[1m≥\u001b[0m\u001b[0m 336.63940662391843) ∧ (\u001b[1m\u001b[36mmed(cntrd)\u001b[0m \u001b[1m<\u001b[0m\u001b[0m 1169.0875935533527) ∧ (\u001b[1m\u001b[36mmax(kurts)\u001b[0m \u001b[1m<\u001b[0m\u001b[0m 309.54313425171983) ∧ (\u001b[1m\u001b[33mbsm(mel3=504Hz)\u001b[0m \u001b[1m<\u001b[0m\u001b[0m 9.5) ∧ (\u001b[1m\u001b[33mmin(mel8=1194Hz)\u001b[0m \u001b[1m≥\u001b[0m\u001b[0m -5.6292906888019525) ∧ (\u001b[1m\u001b[36mmin(skwns)\u001b[0m \u001b[1m≥\u001b[0m\u001b[0m 0.060454056192696226) ∧ (\u001b[1m\u001b[33mmed(mel1=357Hz)\u001b[0m \u001b[1m<\u001b[0m\u001b[0m -2.3892659624167787) ∧ (\u001b[1m\u001b[36mmax(cntrd)\u001b[0m \u001b[1m≥\u001b[0m\u001b[0m 1068.6700214056882) ∧ (\u001b[1m\u001b[36mmin(rllff)\u001b[0m \u001b[1m<\u001b[0m\u001b[0m 476.5625)  ↣  Healthy : (ninstances = 86, ncovered = 2, coverage = 0.023255813953488372, confidence = 0.5, lift = 1.1025641025641026, natoms = 9, height = 8)\n",
      "\u001b[34m▣\u001b[0m (\u001b[1m\u001b[36mmean(sprd)\u001b[0m \u001b[1m≥\u001b[0m\u001b[0m 336.63940662391843) ∧ (\u001b[1m\u001b[36mmed(cntrd)\u001b[0m \u001b[1m<\u001b[0m\u001b[0m 1169.0875935533527) ∧ (\u001b[1m\u001b[36mmax(kurts)\u001b[0m \u001b[1m<\u001b[0m\u001b[0m 309.54313425171983) ∧ (\u001b[1m\u001b[33mbsm(mel3=504Hz)\u001b[0m \u001b[1m≥\u001b[0m\u001b[0m 9.5) ∧ (\u001b[1m\u001b[33mmean(mel14=3366Hz)\u001b[0m \u001b[1m<\u001b[0m\u001b[0m -4.572196069237991) ∧ (\u001b[1m\u001b[36mmean(rllff)\u001b[0m \u001b[1m<\u001b[0m\u001b[0m 1693.9655172413793) ∧ (\u001b[1m\u001b[33mmean(mel11=2005Hz)\u001b[0m \u001b[1m<\u001b[0m\u001b[0m -4.590914162522772) ∧ (\u001b[1m\u001b[33mmed(mel10=1687Hz)\u001b[0m \u001b[1m≥\u001b[0m\u001b[0m -4.396318936018734)  ↣  URTI : (ninstances = 86, ncovered = 3, coverage = 0.03488372093023256, confidence = 0.6666666666666666, lift = 1.2198581560283688, natoms = 8, height = 7)\n",
      "\u001b[34m▣\u001b[0m (\u001b[1m\u001b[36mmean(sprd)\u001b[0m \u001b[1m≥\u001b[0m\u001b[0m 336.63940662391843) ∧ (\u001b[1m\u001b[36mmed(cntrd)\u001b[0m \u001b[1m<\u001b[0m\u001b[0m 1169.0875935533527) ∧ (\u001b[1m\u001b[36mmax(kurts)\u001b[0m \u001b[1m≥\u001b[0m\u001b[0m 309.54313425171983)  ↣  Healthy : (ninstances = 86, ncovered = 3, coverage = 0.03488372093023256, confidence = 0.6666666666666666, lift = 1.4700854700854702, natoms = 3, height = 2)\n",
      "\u001b[34m▣\u001b[0m (\u001b[1m\u001b[36mmean(sprd)\u001b[0m \u001b[1m≥\u001b[0m\u001b[0m 336.63940662391843) ∧ (\u001b[1m\u001b[36mmed(cntrd)\u001b[0m \u001b[1m<\u001b[0m\u001b[0m 1169.0875935533527) ∧ (\u001b[1m\u001b[36mmax(kurts)\u001b[0m \u001b[1m<\u001b[0m\u001b[0m 309.54313425171983) ∧ (\u001b[1m\u001b[33mbsm(mel3=504Hz)\u001b[0m \u001b[1m<\u001b[0m\u001b[0m 9.5) ∧ (\u001b[1m\u001b[33mmin(mel8=1194Hz)\u001b[0m \u001b[1m<\u001b[0m\u001b[0m -5.6292906888019525) ∧ (\u001b[1m\u001b[33mmax(mel6=845Hz)\u001b[0m \u001b[1m≥\u001b[0m\u001b[0m -3.626637871376908) ∧ (\u001b[1m\u001b[36m3ac(decrs)\u001b[0m \u001b[1m≥\u001b[0m\u001b[0m 0.008503401360544217)  ↣  URTI : (ninstances = 86, ncovered = 3, coverage = 0.03488372093023256, confidence = 1.0, lift = 1.8297872340425534, natoms = 7, height = 6)\n",
      "\u001b[34m▣\u001b[0m (\u001b[1m\u001b[36mmean(sprd)\u001b[0m \u001b[1m≥\u001b[0m\u001b[0m 336.63940662391843) ∧ (\u001b[1m\u001b[36mmed(cntrd)\u001b[0m \u001b[1m<\u001b[0m\u001b[0m 1169.0875935533527) ∧ (\u001b[1m\u001b[36mmax(kurts)\u001b[0m \u001b[1m<\u001b[0m\u001b[0m 309.54313425171983) ∧ (\u001b[1m\u001b[33mbsm(mel3=504Hz)\u001b[0m \u001b[1m≥\u001b[0m\u001b[0m 9.5) ∧ (\u001b[1m\u001b[33mmean(mel14=3366Hz)\u001b[0m \u001b[1m<\u001b[0m\u001b[0m -4.572196069237991) ∧ (\u001b[1m\u001b[36mmean(rllff)\u001b[0m \u001b[1m<\u001b[0m\u001b[0m 1693.9655172413793) ∧ (\u001b[1m\u001b[33mmean(mel11=2005Hz)\u001b[0m \u001b[1m≥\u001b[0m\u001b[0m -4.590914162522772)  ↣  Healthy : (ninstances = 86, ncovered = 3, coverage = 0.03488372093023256, confidence = 1.0, lift = 2.2051282051282053, natoms = 7, height = 6)\n",
      "\u001b[34m▣\u001b[0m (\u001b[1m\u001b[36mmean(sprd)\u001b[0m \u001b[1m≥\u001b[0m\u001b[0m 336.63940662391843) ∧ (\u001b[1m\u001b[36mmed(cntrd)\u001b[0m \u001b[1m≥\u001b[0m\u001b[0m 1169.0875935533527)  ↣  Healthy : (ninstances = 86, ncovered = 4, coverage = 0.046511627906976744, confidence = 0.75, lift = 1.653846153846154, natoms = 2, height = 1)\n",
      "\u001b[34m▣\u001b[0m (\u001b[1m\u001b[36mmean(sprd)\u001b[0m \u001b[1m≥\u001b[0m\u001b[0m 336.63940662391843) ∧ (\u001b[1m\u001b[36mmed(cntrd)\u001b[0m \u001b[1m<\u001b[0m\u001b[0m 1169.0875935533527) ∧ (\u001b[1m\u001b[36mmax(kurts)\u001b[0m \u001b[1m<\u001b[0m\u001b[0m 309.54313425171983) ∧ (\u001b[1m\u001b[33mbsm(mel3=504Hz)\u001b[0m \u001b[1m<\u001b[0m\u001b[0m 9.5) ∧ (\u001b[1m\u001b[33mmin(mel8=1194Hz)\u001b[0m \u001b[1m≥\u001b[0m\u001b[0m -5.6292906888019525) ∧ (\u001b[1m\u001b[36mmin(skwns)\u001b[0m \u001b[1m≥\u001b[0m\u001b[0m 0.060454056192696226) ∧ (\u001b[1m\u001b[33mmed(mel1=357Hz)\u001b[0m \u001b[1m<\u001b[0m\u001b[0m -2.3892659624167787) ∧ (\u001b[1m\u001b[36mmax(cntrd)\u001b[0m \u001b[1m≥\u001b[0m\u001b[0m 1068.6700214056882) ∧ (\u001b[1m\u001b[36mmin(rllff)\u001b[0m \u001b[1m≥\u001b[0m\u001b[0m 476.5625) ∧ (\u001b[1m\u001b[36mmed(crest)\u001b[0m \u001b[1m<\u001b[0m\u001b[0m 23.781863210533647) ∧ (\u001b[1m\u001b[36mmax(entrp)\u001b[0m \u001b[1m<\u001b[0m\u001b[0m 0.867344207019275)  ↣  URTI : (ninstances = 86, ncovered = 5, coverage = 0.05813953488372093, confidence = 0.6, lift = 1.097872340425532, natoms = 11, height = 10)\n",
      "\u001b[34m▣\u001b[0m (\u001b[1m\u001b[36mmean(sprd)\u001b[0m \u001b[1m≥\u001b[0m\u001b[0m 336.63940662391843) ∧ (\u001b[1m\u001b[36mmed(cntrd)\u001b[0m \u001b[1m<\u001b[0m\u001b[0m 1169.0875935533527) ∧ (\u001b[1m\u001b[36mmax(kurts)\u001b[0m \u001b[1m<\u001b[0m\u001b[0m 309.54313425171983) ∧ (\u001b[1m\u001b[33mbsm(mel3=504Hz)\u001b[0m \u001b[1m<\u001b[0m\u001b[0m 9.5) ∧ (\u001b[1m\u001b[33mmin(mel8=1194Hz)\u001b[0m \u001b[1m<\u001b[0m\u001b[0m -5.6292906888019525) ∧ (\u001b[1m\u001b[33mmax(mel6=845Hz)\u001b[0m \u001b[1m<\u001b[0m\u001b[0m -3.626637871376908)  ↣  Healthy : (ninstances = 86, ncovered = 5, coverage = 0.05813953488372093, confidence = 1.0, lift = 2.2051282051282053, natoms = 6, height = 5)\n",
      "\u001b[34m▣\u001b[0m (\u001b[1m\u001b[36mmean(sprd)\u001b[0m \u001b[1m≥\u001b[0m\u001b[0m 336.63940662391843) ∧ (\u001b[1m\u001b[36mmed(cntrd)\u001b[0m \u001b[1m<\u001b[0m\u001b[0m 1169.0875935533527) ∧ (\u001b[1m\u001b[36mmax(kurts)\u001b[0m \u001b[1m<\u001b[0m\u001b[0m 309.54313425171983) ∧ (\u001b[1m\u001b[33mbsm(mel3=504Hz)\u001b[0m \u001b[1m<\u001b[0m\u001b[0m 9.5) ∧ (\u001b[1m\u001b[33mmin(mel8=1194Hz)\u001b[0m \u001b[1m≥\u001b[0m\u001b[0m -5.6292906888019525) ∧ (\u001b[1m\u001b[36mmin(skwns)\u001b[0m \u001b[1m<\u001b[0m\u001b[0m 0.060454056192696226)  ↣  URTI : (ninstances = 86, ncovered = 7, coverage = 0.08139534883720931, confidence = 0.7142857142857143, lift = 1.3069908814589666, natoms = 6, height = 5)\n",
      "\u001b[34m▣\u001b[0m (\u001b[1m\u001b[36mmean(sprd)\u001b[0m \u001b[1m≥\u001b[0m\u001b[0m 336.63940662391843) ∧ (\u001b[1m\u001b[36mmed(cntrd)\u001b[0m \u001b[1m<\u001b[0m\u001b[0m 1169.0875935533527) ∧ (\u001b[1m\u001b[36mmax(kurts)\u001b[0m \u001b[1m<\u001b[0m\u001b[0m 309.54313425171983) ∧ (\u001b[1m\u001b[33mbsm(mel3=504Hz)\u001b[0m \u001b[1m≥\u001b[0m\u001b[0m 9.5) ∧ (\u001b[1m\u001b[33mmean(mel14=3366Hz)\u001b[0m \u001b[1m<\u001b[0m\u001b[0m -4.572196069237991) ∧ (\u001b[1m\u001b[36mmean(rllff)\u001b[0m \u001b[1m≥\u001b[0m\u001b[0m 1693.9655172413793)  ↣  Healthy : (ninstances = 86, ncovered = 8, coverage = 0.09302325581395349, confidence = 0.75, lift = 1.653846153846154, natoms = 6, height = 5)\n",
      "\u001b[34m▣\u001b[0m (\u001b[1m\u001b[36mmean(sprd)\u001b[0m \u001b[1m<\u001b[0m\u001b[0m 336.63940662391843) ∧ (\u001b[1m\u001b[33mmin(mel9=1419Hz)\u001b[0m \u001b[1m≥\u001b[0m\u001b[0m -6.463391337513174) ∧ (\u001b[1m\u001b[33m3ac(mel3=504Hz)\u001b[0m \u001b[1m<\u001b[0m\u001b[0m 0.14583333333333337) ∧ (\u001b[1m\u001b[33mqnt(mel10=1687Hz)\u001b[0m \u001b[1m<\u001b[0m\u001b[0m 2.1470638625858367)  ↣  URTI : (ninstances = 86, ncovered = 22, coverage = 0.2558139534883721, confidence = 0.7272727272727273, lift = 1.330754352030948, natoms = 4, height = 3)\n"
     ]
    }
   ],
   "source": [
    "printmodel.(sort(interesting_rules, by = readmetrics); show_metrics = (; round_digits = nothing, additional_metrics = (; height = r->SoleLogics.height(antecedent(r)))), variable_names_map = variable_names);"
   ]
  },
  {
   "cell_type": "markdown",
   "metadata": {},
   "source": [
    "### Pretty table of rules and their metrics"
   ]
  },
  {
   "cell_type": "code",
   "execution_count": 11,
   "metadata": {},
   "outputs": [
    {
     "name": "stdout",
     "output_type": "stream",
     "text": [
      "┌─────────────────────────────────────────────────────────────────────────────────────────────────────────────────────────────────────────────────────────────────────────────────────────────────────────────────────────────────────────────────────────────────────────────────────────────────────────────────────────────────────────────────────────────────────────────────────────────────────┬────────────┬────────────┬──────────┬───────────┬────────────┬─────────┬────────┬────────┐\n",
      "│\u001b[33;1m                                                                                                                                                                                                                                                                                                                                                                                          Antecedent \u001b[0m│\u001b[33;1m Consequent \u001b[0m│\u001b[33;1m ninstances \u001b[0m│\u001b[33;1m ncovered \u001b[0m│\u001b[33;1m  coverage \u001b[0m│\u001b[33;1m confidence \u001b[0m│\u001b[33;1m    lift \u001b[0m│\u001b[33;1m natoms \u001b[0m│\u001b[33;1m height \u001b[0m│\n",
      "├─────────────────────────────────────────────────────────────────────────────────────────────────────────────────────────────────────────────────────────────────────────────────────────────────────────────────────────────────────────────────────────────────────────────────────────────────────────────────────────────────────────────────────────────────────────────────────────────────────┼────────────┼────────────┼──────────┼───────────┼────────────┼─────────┼────────┼────────┤\n",
      "│                                                                                                                                                                                                                                    (\u001b[1m\u001b[36mmean(sprd)\u001b[0m \u001b[1m<\u001b[0m\u001b[0m 336.63940662391843) ∧ (\u001b[1m\u001b[33mmin(mel9=1419Hz)\u001b[0m \u001b[1m≥\u001b[0m\u001b[0m -6.463391337513174) ∧ (\u001b[1m\u001b[33m3ac(mel3=504Hz)\u001b[0m \u001b[1m<\u001b[0m\u001b[0m 0.14583333333333337) ∧ (\u001b[1m\u001b[33mqnt(mel10=1687Hz)\u001b[0m \u001b[1m<\u001b[0m\u001b[0m 2.1470638625858367)\u001b[0m │       URTI │         86 │       22 │  0.255814 │   0.727273 │ 1.33075 │      4 │      3 │\n",
      "│                                                                                                                                                                                                                                      (\u001b[1m\u001b[36mmean(sprd)\u001b[0m \u001b[1m<\u001b[0m\u001b[0m 336.63940662391843) ∧ (\u001b[1m\u001b[33mmin(mel9=1419Hz)\u001b[0m \u001b[1m≥\u001b[0m\u001b[0m -6.463391337513174) ∧ (\u001b[1m\u001b[33m3ac(mel3=504Hz)\u001b[0m \u001b[1m≥\u001b[0m\u001b[0m 0.14583333333333337) ∧ (\u001b[1m\u001b[33mstd(mel4=599Hz)\u001b[0m \u001b[1m<\u001b[0m\u001b[0m 0.7608194009407704)\u001b[0m │       URTI │         86 │        1 │ 0.0116279 │        1.0 │ 1.82979 │      4 │      3 │\n",
      "│                                                                                                                                                                             (\u001b[1m\u001b[36mmean(sprd)\u001b[0m \u001b[1m≥\u001b[0m\u001b[0m 336.63940662391843) ∧ (\u001b[1m\u001b[36mmed(cntrd)\u001b[0m \u001b[1m<\u001b[0m\u001b[0m 1169.0875935533527) ∧ (\u001b[1m\u001b[36mmax(kurts)\u001b[0m \u001b[1m<\u001b[0m\u001b[0m 309.54313425171983) ∧ (\u001b[1m\u001b[33mbsm(mel3=504Hz)\u001b[0m \u001b[1m<\u001b[0m\u001b[0m 9.5) ∧ (\u001b[1m\u001b[33mmin(mel8=1194Hz)\u001b[0m \u001b[1m<\u001b[0m\u001b[0m -5.6292906888019525) ∧ (\u001b[1m\u001b[33mmax(mel6=845Hz)\u001b[0m \u001b[1m<\u001b[0m\u001b[0m -3.626637871376908)\u001b[0m │    Healthy │         86 │        5 │ 0.0581395 │        1.0 │ 2.20513 │      6 │      5 │\n",
      "│                                                                                                                                       (\u001b[1m\u001b[36mmean(sprd)\u001b[0m \u001b[1m≥\u001b[0m\u001b[0m 336.63940662391843) ∧ (\u001b[1m\u001b[36mmed(cntrd)\u001b[0m \u001b[1m<\u001b[0m\u001b[0m 1169.0875935533527) ∧ (\u001b[1m\u001b[36mmax(kurts)\u001b[0m \u001b[1m<\u001b[0m\u001b[0m 309.54313425171983) ∧ (\u001b[1m\u001b[33mbsm(mel3=504Hz)\u001b[0m \u001b[1m<\u001b[0m\u001b[0m 9.5) ∧ (\u001b[1m\u001b[33mmin(mel8=1194Hz)\u001b[0m \u001b[1m<\u001b[0m\u001b[0m -5.6292906888019525) ∧ (\u001b[1m\u001b[33mmax(mel6=845Hz)\u001b[0m \u001b[1m≥\u001b[0m\u001b[0m -3.626637871376908) ∧ (\u001b[1m\u001b[36m3ac(decrs)\u001b[0m \u001b[1m<\u001b[0m\u001b[0m 0.008503401360544217)\u001b[0m │    Healthy │         86 │        1 │ 0.0116279 │        1.0 │ 2.20513 │      7 │      6 │\n",
      "│                                                                                                                                       (\u001b[1m\u001b[36mmean(sprd)\u001b[0m \u001b[1m≥\u001b[0m\u001b[0m 336.63940662391843) ∧ (\u001b[1m\u001b[36mmed(cntrd)\u001b[0m \u001b[1m<\u001b[0m\u001b[0m 1169.0875935533527) ∧ (\u001b[1m\u001b[36mmax(kurts)\u001b[0m \u001b[1m<\u001b[0m\u001b[0m 309.54313425171983) ∧ (\u001b[1m\u001b[33mbsm(mel3=504Hz)\u001b[0m \u001b[1m<\u001b[0m\u001b[0m 9.5) ∧ (\u001b[1m\u001b[33mmin(mel8=1194Hz)\u001b[0m \u001b[1m<\u001b[0m\u001b[0m -5.6292906888019525) ∧ (\u001b[1m\u001b[33mmax(mel6=845Hz)\u001b[0m \u001b[1m≥\u001b[0m\u001b[0m -3.626637871376908) ∧ (\u001b[1m\u001b[36m3ac(decrs)\u001b[0m \u001b[1m≥\u001b[0m\u001b[0m 0.008503401360544217)\u001b[0m │       URTI │         86 │        3 │ 0.0348837 │        1.0 │ 1.82979 │      7 │      6 │\n",
      "│                                                                                                                                                                                (\u001b[1m\u001b[36mmean(sprd)\u001b[0m \u001b[1m≥\u001b[0m\u001b[0m 336.63940662391843) ∧ (\u001b[1m\u001b[36mmed(cntrd)\u001b[0m \u001b[1m<\u001b[0m\u001b[0m 1169.0875935533527) ∧ (\u001b[1m\u001b[36mmax(kurts)\u001b[0m \u001b[1m<\u001b[0m\u001b[0m 309.54313425171983) ∧ (\u001b[1m\u001b[33mbsm(mel3=504Hz)\u001b[0m \u001b[1m<\u001b[0m\u001b[0m 9.5) ∧ (\u001b[1m\u001b[33mmin(mel8=1194Hz)\u001b[0m \u001b[1m≥\u001b[0m\u001b[0m -5.6292906888019525) ∧ (\u001b[1m\u001b[36mmin(skwns)\u001b[0m \u001b[1m<\u001b[0m\u001b[0m 0.060454056192696226)\u001b[0m │       URTI │         86 │        7 │ 0.0813953 │   0.714286 │ 1.30699 │      6 │      5 │\n",
      "│                                                                                                  (\u001b[1m\u001b[36mmean(sprd)\u001b[0m \u001b[1m≥\u001b[0m\u001b[0m 336.63940662391843) ∧ (\u001b[1m\u001b[36mmed(cntrd)\u001b[0m \u001b[1m<\u001b[0m\u001b[0m 1169.0875935533527) ∧ (\u001b[1m\u001b[36mmax(kurts)\u001b[0m \u001b[1m<\u001b[0m\u001b[0m 309.54313425171983) ∧ (\u001b[1m\u001b[33mbsm(mel3=504Hz)\u001b[0m \u001b[1m<\u001b[0m\u001b[0m 9.5) ∧ (\u001b[1m\u001b[33mmin(mel8=1194Hz)\u001b[0m \u001b[1m≥\u001b[0m\u001b[0m -5.6292906888019525) ∧ (\u001b[1m\u001b[36mmin(skwns)\u001b[0m \u001b[1m≥\u001b[0m\u001b[0m 0.060454056192696226) ∧ (\u001b[1m\u001b[33mmed(mel1=357Hz)\u001b[0m \u001b[1m<\u001b[0m\u001b[0m -2.3892659624167787) ∧ (\u001b[1m\u001b[36mmax(cntrd)\u001b[0m \u001b[1m<\u001b[0m\u001b[0m 1068.6700214056882)\u001b[0m │       URTI │         86 │        1 │ 0.0116279 │        1.0 │ 1.82979 │      8 │      7 │\n",
      "│                                                                        (\u001b[1m\u001b[36mmean(sprd)\u001b[0m \u001b[1m≥\u001b[0m\u001b[0m 336.63940662391843) ∧ (\u001b[1m\u001b[36mmed(cntrd)\u001b[0m \u001b[1m<\u001b[0m\u001b[0m 1169.0875935533527) ∧ (\u001b[1m\u001b[36mmax(kurts)\u001b[0m \u001b[1m<\u001b[0m\u001b[0m 309.54313425171983) ∧ (\u001b[1m\u001b[33mbsm(mel3=504Hz)\u001b[0m \u001b[1m<\u001b[0m\u001b[0m 9.5) ∧ (\u001b[1m\u001b[33mmin(mel8=1194Hz)\u001b[0m \u001b[1m≥\u001b[0m\u001b[0m -5.6292906888019525) ∧ (\u001b[1m\u001b[36mmin(skwns)\u001b[0m \u001b[1m≥\u001b[0m\u001b[0m 0.060454056192696226) ∧ (\u001b[1m\u001b[33mmed(mel1=357Hz)\u001b[0m \u001b[1m<\u001b[0m\u001b[0m -2.3892659624167787) ∧ (\u001b[1m\u001b[36mmax(cntrd)\u001b[0m \u001b[1m≥\u001b[0m\u001b[0m 1068.6700214056882) ∧ (\u001b[1m\u001b[36mmin(rllff)\u001b[0m \u001b[1m<\u001b[0m\u001b[0m 476.5625)\u001b[0m │    Healthy │         86 │        2 │ 0.0232558 │        0.5 │ 1.10256 │      9 │      8 │\n",
      "│ (\u001b[1m\u001b[36mmean(sprd)\u001b[0m \u001b[1m≥\u001b[0m\u001b[0m 336.63940662391843) ∧ (\u001b[1m\u001b[36mmed(cntrd)\u001b[0m \u001b[1m<\u001b[0m\u001b[0m 1169.0875935533527) ∧ (\u001b[1m\u001b[36mmax(kurts)\u001b[0m \u001b[1m<\u001b[0m\u001b[0m 309.54313425171983) ∧ (\u001b[1m\u001b[33mbsm(mel3=504Hz)\u001b[0m \u001b[1m<\u001b[0m\u001b[0m 9.5) ∧ (\u001b[1m\u001b[33mmin(mel8=1194Hz)\u001b[0m \u001b[1m≥\u001b[0m\u001b[0m -5.6292906888019525) ∧ (\u001b[1m\u001b[36mmin(skwns)\u001b[0m \u001b[1m≥\u001b[0m\u001b[0m 0.060454056192696226) ∧ (\u001b[1m\u001b[33mmed(mel1=357Hz)\u001b[0m \u001b[1m<\u001b[0m\u001b[0m -2.3892659624167787) ∧ (\u001b[1m\u001b[36mmax(cntrd)\u001b[0m \u001b[1m≥\u001b[0m\u001b[0m 1068.6700214056882) ∧ (\u001b[1m\u001b[36mmin(rllff)\u001b[0m \u001b[1m≥\u001b[0m\u001b[0m 476.5625) ∧ (\u001b[1m\u001b[36mmed(crest)\u001b[0m \u001b[1m<\u001b[0m\u001b[0m 23.781863210533647) ∧ (\u001b[1m\u001b[36mmax(entrp)\u001b[0m \u001b[1m<\u001b[0m\u001b[0m 0.867344207019275)\u001b[0m │       URTI │         86 │        5 │ 0.0581395 │        0.6 │ 1.09787 │     11 │     10 │\n",
      "│                                                                                                                                      (\u001b[1m\u001b[36mmean(sprd)\u001b[0m \u001b[1m≥\u001b[0m\u001b[0m 336.63940662391843) ∧ (\u001b[1m\u001b[36mmed(cntrd)\u001b[0m \u001b[1m<\u001b[0m\u001b[0m 1169.0875935533527) ∧ (\u001b[1m\u001b[36mmax(kurts)\u001b[0m \u001b[1m<\u001b[0m\u001b[0m 309.54313425171983) ∧ (\u001b[1m\u001b[33mbsm(mel3=504Hz)\u001b[0m \u001b[1m<\u001b[0m\u001b[0m 9.5) ∧ (\u001b[1m\u001b[33mmin(mel8=1194Hz)\u001b[0m \u001b[1m≥\u001b[0m\u001b[0m -5.6292906888019525) ∧ (\u001b[1m\u001b[36mmin(skwns)\u001b[0m \u001b[1m≥\u001b[0m\u001b[0m 0.060454056192696226) ∧ (\u001b[1m\u001b[33mmed(mel1=357Hz)\u001b[0m \u001b[1m≥\u001b[0m\u001b[0m -2.3892659624167787)\u001b[0m │    Healthy │         86 │        2 │ 0.0232558 │        0.5 │ 1.10256 │      7 │      6 │\n",
      "│                                                    (\u001b[1m\u001b[36mmean(sprd)\u001b[0m \u001b[1m≥\u001b[0m\u001b[0m 336.63940662391843) ∧ (\u001b[1m\u001b[36mmed(cntrd)\u001b[0m \u001b[1m<\u001b[0m\u001b[0m 1169.0875935533527) ∧ (\u001b[1m\u001b[36mmax(kurts)\u001b[0m \u001b[1m<\u001b[0m\u001b[0m 309.54313425171983) ∧ (\u001b[1m\u001b[33mbsm(mel3=504Hz)\u001b[0m \u001b[1m≥\u001b[0m\u001b[0m 9.5) ∧ (\u001b[1m\u001b[33mmean(mel14=3366Hz)\u001b[0m \u001b[1m<\u001b[0m\u001b[0m -4.572196069237991) ∧ (\u001b[1m\u001b[36mmean(rllff)\u001b[0m \u001b[1m<\u001b[0m\u001b[0m 1693.9655172413793) ∧ (\u001b[1m\u001b[33mmean(mel11=2005Hz)\u001b[0m \u001b[1m<\u001b[0m\u001b[0m -4.590914162522772) ∧ (\u001b[1m\u001b[33mmed(mel10=1687Hz)\u001b[0m \u001b[1m<\u001b[0m\u001b[0m -4.396318936018734) ∧ (\u001b[1m\u001b[36m3ac(slope)\u001b[0m \u001b[1m<\u001b[0m\u001b[0m 0.02304316788443772)\u001b[0m │       URTI │         86 │        1 │ 0.0116279 │        1.0 │ 1.82979 │      9 │      8 │\n",
      "│                                                                                         (\u001b[1m\u001b[36mmean(sprd)\u001b[0m \u001b[1m≥\u001b[0m\u001b[0m 336.63940662391843) ∧ (\u001b[1m\u001b[36mmed(cntrd)\u001b[0m \u001b[1m<\u001b[0m\u001b[0m 1169.0875935533527) ∧ (\u001b[1m\u001b[36mmax(kurts)\u001b[0m \u001b[1m<\u001b[0m\u001b[0m 309.54313425171983) ∧ (\u001b[1m\u001b[33mbsm(mel3=504Hz)\u001b[0m \u001b[1m≥\u001b[0m\u001b[0m 9.5) ∧ (\u001b[1m\u001b[33mmean(mel14=3366Hz)\u001b[0m \u001b[1m<\u001b[0m\u001b[0m -4.572196069237991) ∧ (\u001b[1m\u001b[36mmean(rllff)\u001b[0m \u001b[1m<\u001b[0m\u001b[0m 1693.9655172413793) ∧ (\u001b[1m\u001b[33mmean(mel11=2005Hz)\u001b[0m \u001b[1m<\u001b[0m\u001b[0m -4.590914162522772) ∧ (\u001b[1m\u001b[33mmed(mel10=1687Hz)\u001b[0m \u001b[1m≥\u001b[0m\u001b[0m -4.396318936018734)\u001b[0m │       URTI │         86 │        3 │ 0.0348837 │   0.666667 │ 1.21986 │      8 │      7 │\n",
      "│                                                                                                                                    (\u001b[1m\u001b[36mmean(sprd)\u001b[0m \u001b[1m≥\u001b[0m\u001b[0m 336.63940662391843) ∧ (\u001b[1m\u001b[36mmed(cntrd)\u001b[0m \u001b[1m<\u001b[0m\u001b[0m 1169.0875935533527) ∧ (\u001b[1m\u001b[36mmax(kurts)\u001b[0m \u001b[1m<\u001b[0m\u001b[0m 309.54313425171983) ∧ (\u001b[1m\u001b[33mbsm(mel3=504Hz)\u001b[0m \u001b[1m≥\u001b[0m\u001b[0m 9.5) ∧ (\u001b[1m\u001b[33mmean(mel14=3366Hz)\u001b[0m \u001b[1m<\u001b[0m\u001b[0m -4.572196069237991) ∧ (\u001b[1m\u001b[36mmean(rllff)\u001b[0m \u001b[1m<\u001b[0m\u001b[0m 1693.9655172413793) ∧ (\u001b[1m\u001b[33mmean(mel11=2005Hz)\u001b[0m \u001b[1m≥\u001b[0m\u001b[0m -4.590914162522772)\u001b[0m │    Healthy │         86 │        3 │ 0.0348837 │        1.0 │ 2.20513 │      7 │      6 │\n",
      "│                                                                                                                                                                                (\u001b[1m\u001b[36mmean(sprd)\u001b[0m \u001b[1m≥\u001b[0m\u001b[0m 336.63940662391843) ∧ (\u001b[1m\u001b[36mmed(cntrd)\u001b[0m \u001b[1m<\u001b[0m\u001b[0m 1169.0875935533527) ∧ (\u001b[1m\u001b[36mmax(kurts)\u001b[0m \u001b[1m<\u001b[0m\u001b[0m 309.54313425171983) ∧ (\u001b[1m\u001b[33mbsm(mel3=504Hz)\u001b[0m \u001b[1m≥\u001b[0m\u001b[0m 9.5) ∧ (\u001b[1m\u001b[33mmean(mel14=3366Hz)\u001b[0m \u001b[1m<\u001b[0m\u001b[0m -4.572196069237991) ∧ (\u001b[1m\u001b[36mmean(rllff)\u001b[0m \u001b[1m≥\u001b[0m\u001b[0m 1693.9655172413793)\u001b[0m │    Healthy │         86 │        8 │ 0.0930233 │       0.75 │ 1.65385 │      6 │      5 │\n",
      "│                                                                                                                                                                                                                                                                                           (\u001b[1m\u001b[36mmean(sprd)\u001b[0m \u001b[1m≥\u001b[0m\u001b[0m 336.63940662391843) ∧ (\u001b[1m\u001b[36mmed(cntrd)\u001b[0m \u001b[1m<\u001b[0m\u001b[0m 1169.0875935533527) ∧ (\u001b[1m\u001b[36mmax(kurts)\u001b[0m \u001b[1m≥\u001b[0m\u001b[0m 309.54313425171983)\u001b[0m │    Healthy │         86 │        3 │ 0.0348837 │   0.666667 │ 1.47009 │      3 │      2 │\n",
      "│                                                                                                                                                                                                                                                                                                                               (\u001b[1m\u001b[36mmean(sprd)\u001b[0m \u001b[1m≥\u001b[0m\u001b[0m 336.63940662391843) ∧ (\u001b[1m\u001b[36mmed(cntrd)\u001b[0m \u001b[1m≥\u001b[0m\u001b[0m 1169.0875935533527)\u001b[0m │    Healthy │         86 │        4 │ 0.0465116 │       0.75 │ 1.65385 │      2 │      1 │\n",
      "└─────────────────────────────────────────────────────────────────────────────────────────────────────────────────────────────────────────────────────────────────────────────────────────────────────────────────────────────────────────────────────────────────────────────────────────────────────────────────────────────────────────────────────────────────────────────────────────────────────┴────────────┴────────────┴──────────┴───────────┴────────────┴─────────┴────────┴────────┘\n"
     ]
    }
   ],
   "source": [
    "metricstable(interesting_rules; variable_names_map = variable_names, metrics_kwargs = (; round_digits = nothing, additional_metrics = (; height = r->SoleLogics.height(antecedent(r)))))"
   ]
  },
  {
   "cell_type": "markdown",
   "metadata": {},
   "source": [
    "# Inspect features"
   ]
  },
  {
   "cell_type": "code",
   "execution_count": 12,
   "metadata": {},
   "outputs": [
    {
     "name": "stdout",
     "output_type": "stream",
     "text": [
      "\u001b[34m▣\u001b[0m (\u001b[1m\u001b[36mmean(sprd)\u001b[0m \u001b[1m<\u001b[0m\u001b[0m 336.64) ∧ (\u001b[1m\u001b[33mmin(mel9=1419Hz)\u001b[0m \u001b[1m≥\u001b[0m\u001b[0m -6.46) ∧ (\u001b[1m\u001b[33m3ac(mel3=504Hz)\u001b[0m \u001b[1m<\u001b[0m\u001b[0m 0.15) ∧ (\u001b[1m\u001b[33mqnt(mel10=1687Hz)\u001b[0m \u001b[1m<\u001b[0m\u001b[0m 2.15)  ↣  URTI : (ninstances = 86, ncovered = 22, coverage = 0.26, confidence = 0.73, lift = 1.33, natoms = 4)\n"
     ]
    }
   ],
   "source": [
    "interesting_rules = listrules(sole_dt,\n",
    "\tmin_lift = 1.0,\n",
    "\t# min_lift = 2.0,\n",
    "\tmin_ninstances = 0,\n",
    "\tmin_coverage = 0.10,\n",
    "\tnormalize = true,\n",
    ");\n",
    "map(r->(consequent(r), readmetrics(r)), interesting_rules)\n",
    "printmodel.(interesting_rules; show_metrics = true, syntaxstring_kwargs = (; threshold_digits = 2), variable_names_map=variable_names);"
   ]
  },
  {
   "cell_type": "code",
   "execution_count": 13,
   "metadata": {},
   "outputs": [
    {
     "data": {
      "text/plain": [
       "4-element Vector{Symbol}:\n",
       " Symbol(\"3ac(mel3=504Hz)\")\n",
       " Symbol(\"mean(sprd)\")\n",
       " Symbol(\"min(mel9=1419Hz)\")\n",
       " Symbol(\"qnt(mel10=1687Hz)\")"
      ]
     },
     "metadata": {},
     "output_type": "display_data"
    }
   ],
   "source": [
    "interesting_features = unique(SoleData.feature.(SoleLogics.value.(vcat(SoleLogics.atoms.(i.antecedent for i in interesting_rules)...))))\n",
    "interesting_variables = sort(SoleData.i_variable.(interesting_features))"
   ]
  }
 ],
 "metadata": {
  "kernelspec": {
   "display_name": "Julia 1.10.5",
   "language": "julia",
   "name": "julia-1.10"
  },
  "language_info": {
   "file_extension": ".jl",
   "mimetype": "application/julia",
   "name": "julia",
   "version": "1.10.5"
  }
 },
 "nbformat": 4,
 "nbformat_minor": 2
}
