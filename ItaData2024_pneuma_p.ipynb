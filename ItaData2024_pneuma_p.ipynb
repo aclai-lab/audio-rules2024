{
 "cells": [
  {
   "cell_type": "markdown",
   "metadata": {},
   "source": [
    "# ItaData2024\n",
    "propositional example"
   ]
  },
  {
   "cell_type": "code",
   "execution_count": null,
   "metadata": {},
   "outputs": [],
   "source": [
    "using Pkg\n",
    "Pkg.activate(\".\")\n",
    "using MLJ, ModalDecisionTrees\n",
    "using SoleDecisionTreeInterface, Sole, SoleData\n",
    "using CategoricalArrays\n",
    "using DataFrames, JLD2, CSV\n",
    "using Audio911\n",
    "using Random\n",
    "using StatsBase, Catch22\n",
    "using Test\n",
    "using Plots"
   ]
  },
  {
   "cell_type": "markdown",
   "metadata": {},
   "source": [
    "### Settings"
   ]
  },
  {
   "cell_type": "code",
   "execution_count": 2,
   "metadata": {},
   "outputs": [],
   "source": [
    "sr = 8000\n",
    "audioparams = (\n",
    "    sr = sr,\n",
    "    nfft = 256,\n",
    "    nbands = 14,\n",
    "    freq_range = (300, round(Int, sr / 2)),\n",
    "    db_scale = true,\n",
    ")\n",
    "\n",
    "experiment = :pneumonia\n",
    "# experiment = :bronchiectasis\n",
    "\n",
    "findhealthy = y -> findall(x -> x == \"Healthy\", y)\n",
    "if experiment == :pneumonia\n",
    "    ds_path = \"/datasets/respiratory_Healthy_Pneumonia\"\n",
    "    findsick = y -> findall(x -> x == \"Pneumonia\", y)\n",
    "elseif experiment == :bronchiectasis\n",
    "    ds_path = \"/datasets/respiratory_Healthy_Bronchiectasis\"\n",
    "    findsick = y -> findall(x -> x == \"Bronchiectasis\", y)\n",
    "else\n",
    "    error(\"Unknown type of experiment: $experiment.\")\n",
    "end\n",
    "\n",
    "d = jldopen(string((@__DIR__), ds_path, \".jld2\"))\n",
    "x, y = d[\"dataframe_validated\"]\n",
    "@assert x isa DataFrame\n",
    "close(d)"
   ]
  },
  {
   "cell_type": "markdown",
   "metadata": {},
   "source": [
    "### Audio features extraction function\n",
    "This function is called for every audio sample and extract 25 features:\n",
    "14 bands of the mel spectrogram,\n",
    "11 spectral features: centroid, crest, entropy, flatness, flux, kurtosis, rolloff, skewness, decrease, slope, spread"
   ]
  },
  {
   "cell_type": "code",
   "execution_count": 3,
   "metadata": {},
   "outputs": [
    {
     "data": {
      "text/plain": [
       "afe (generic function with 1 method)"
      ]
     },
     "metadata": {},
     "output_type": "display_data"
    }
   ],
   "source": [
    "function afe(x::AbstractVector{Float64}; sr::Int64, nfft::Int64, nbands::Int64, freq_range::Tuple{Int64, Int64}, db_scale::Bool, get_only_melfreq=false)\n",
    "    # -------------------------------- parameters -------------------------------- #\n",
    "    # audio module\n",
    "    sr = sr\n",
    "    norm = true\n",
    "    speech_detection = false\n",
    "    # stft module\n",
    "    nfft = nfft\n",
    "    win_type = (:hann, :periodic)\n",
    "    win_length = nfft\n",
    "    overlap_length = round(Int, nfft / 2)\n",
    "    stft_norm = :power                      # :power, :magnitude, :pow2mag\n",
    "    # mel filterbank module\n",
    "    nbands = nbands\n",
    "    scale = :mel_htk                        # :mel_htk, :mel_slaney, :erb, :bark\n",
    "    melfb_norm = :bandwidth                 # :bandwidth, :area, :none\n",
    "    freq_range = freq_range\n",
    "    # mel spectrogram module\n",
    "    db_scale = db_scale\n",
    "\n",
    "    # --------------------------------- functions -------------------------------- #\n",
    "    # audio module\n",
    "    audio = load_audio(\n",
    "        file=x,\n",
    "        sr=sr,\n",
    "        norm=norm,\n",
    "    );\n",
    "\n",
    "    stftspec = get_stft(\n",
    "        audio=audio,\n",
    "        nfft=nfft,\n",
    "        win_type=win_type,\n",
    "        win_length=win_length,\n",
    "        overlap_length=overlap_length,\n",
    "        norm=stft_norm\n",
    "    );\n",
    "\n",
    "    # mel filterbank module\n",
    "    melfb = get_melfb(\n",
    "        stft=stftspec,\n",
    "        nbands=nbands,\n",
    "        scale=scale,\n",
    "        norm=melfb_norm,\n",
    "        freq_range=freq_range\n",
    "    );\n",
    "\n",
    "    if get_only_melfreq\n",
    "        return melfb.data.freq\n",
    "    end\n",
    "\n",
    "    # mel spectrogram module\n",
    "    melspec =  get_melspec(\n",
    "        stft=stftspec,\n",
    "        fbank=melfb,\n",
    "        db_scale=db_scale\n",
    "    );\n",
    "\n",
    "    # spectral features module\n",
    "    spect = get_spectrals(\n",
    "        source=stftspec,\n",
    "        freq_range=freq_range\n",
    "    );\n",
    "\n",
    "    hcat(\n",
    "        melspec.spec',\n",
    "        spect.centroid,\n",
    "        spect.crest,\n",
    "        spect.entropy,\n",
    "        spect.flatness,\n",
    "        spect.flux,\n",
    "        spect.kurtosis,\n",
    "        spect.rolloff,\n",
    "        spect.skewness,\n",
    "        spect.decrease,\n",
    "        spect.slope,\n",
    "        spect.spread\n",
    "    );\n",
    "end"
   ]
  },
  {
   "cell_type": "markdown",
   "metadata": {},
   "source": [
    "### Prepare dataset for analysis"
   ]
  },
  {
   "cell_type": "code",
   "execution_count": 4,
   "metadata": {},
   "outputs": [
    {
     "name": "stdout",
     "output_type": "stream",
     "text": [
      "Training set size: (403, 225) - 403\n",
      "Test set size: (101, 225) - 101\n"
     ]
    }
   ],
   "source": [
    "color_code = Dict(:red => 31, :green => 32, :yellow => 33, :blue => 34, :magenta => 35, :cyan => 36)\n",
    "freq = round.(Int, afe(x[1, :audio]; audioparams..., get_only_melfreq=true))\n",
    "r_select = r\"\\e\\[\\d+m(.*?)\\e\\[0m\"\n",
    "\n",
    "catch9_f = [\"max\", \"min\", \"mean\", \"med\", \"std\", \"bsm\", \"bsd\", \"qnt\", \"3ac\"]\n",
    "variable_names = vcat([\n",
    "    vcat(\n",
    "        [\"\\e[$(color_code[:yellow])mmel$i=$(freq[i])Hz->$j\\e[0m\" for i in 1:audioparams.nbands]...,\n",
    "        \"\\e[$(color_code[:cyan])mcntrd->$j\\e[0m\", \"\\e[$(color_code[:cyan])mcrest->$j\\e[0m\",\n",
    "        \"\\e[$(color_code[:cyan])mentrp->$j\\e[0m\", \"\\e[$(color_code[:cyan])mflatn->$j\\e[0m\", \"\\e[$(color_code[:cyan])mflux->$j\\e[0m\",\n",
    "        \"\\e[$(color_code[:cyan])mkurts->$j\\e[0m\", \"\\e[$(color_code[:cyan])mrllff->$j\\e[0m\", \"\\e[$(color_code[:cyan])mskwns->$j\\e[0m\",\n",
    "        \"\\e[$(color_code[:cyan])mdecrs->$j\\e[0m\", \"\\e[$(color_code[:cyan])mslope->$j\\e[0m\", \"\\e[$(color_code[:cyan])msprd->$j\\e[0m\"\n",
    "    )\n",
    "    for j in catch9_f\n",
    "]...)\n",
    "\n",
    "catch9 = [\n",
    "    maximum,\n",
    "    minimum,\n",
    "    StatsBase.mean,\n",
    "    median,\n",
    "    std,\n",
    "    Catch22.SB_BinaryStats_mean_longstretch1,\n",
    "    Catch22.SB_BinaryStats_diff_longstretch0,\n",
    "    Catch22.SB_MotifThree_quantile_hh,\n",
    "    Catch22.SB_TransitionMatrix_3ac_sumdiagcov,\n",
    "]\n",
    "\n",
    "X = DataFrame([name => Float64[] for name in [match(r_select, v)[1] for v in variable_names]])\n",
    "\n",
    "audio_feats = [afe(row[:audio]; audioparams...) for row in eachrow(x)]\n",
    "push!(X, vcat([vcat([map(func, eachcol(row)) for func in catch9]...) for row in audio_feats])...)\n",
    "\n",
    "yc = CategoricalArray(y)\n",
    "\n",
    "train_ratio = 0.8\n",
    "\n",
    "train, test = partition(eachindex(yc), train_ratio, shuffle=true)\n",
    "X_train, y_train = X[train, :], yc[train]\n",
    "X_test, y_test = X[test, :], yc[test]\n",
    "\n",
    "println(\"Training set size: \", size(X_train), \" - \", length(y_train))\n",
    "println(\"Test set size: \", size(X_test), \" - \", length(y_test))"
   ]
  },
  {
   "cell_type": "markdown",
   "metadata": {},
   "source": [
    "### Train a model"
   ]
  },
  {
   "cell_type": "code",
   "execution_count": 5,
   "metadata": {},
   "outputs": [
    {
     "name": "stderr",
     "output_type": "stream",
     "text": [
      "┌ Info: For silent loading, specify `verbosity=0`. \n",
      "└ @ Main /home/paso/.julia/packages/MLJModels/8W54X/src/loading.jl:159\n"
     ]
    },
    {
     "name": "stdout",
     "output_type": "stream",
     "text": [
      "import MLJDecisionTreeInterface ✔\n"
     ]
    },
    {
     "name": "stderr",
     "output_type": "stream",
     "text": [
      "┌ Info: Training machine(DecisionTreeClassifier(max_depth = -1, …), …).\n",
      "└ @ MLJBase /home/paso/.julia/packages/MLJBase/7nGJF/src/machines.jl:499\n"
     ]
    },
    {
     "data": {
      "text/plain": [
       "cntrd->max < 1307.0\n",
       "├─ skwns->min < 1.268\n",
       "│  ├─ mel6=1157Hz->min < -5.16\n",
       "│  │  ├─ mel2=529Hz->min < -5.318\n",
       "│  │  │  ├─ mel7=1359Hz->qnt < 2.15\n",
       "│  │  │  │  ├─ mel4=811Hz->max < -3.749\n",
       "│  │  │  │  │  ⋮\n",
       "│  │  │  │  │  \n",
       "│  │  │  │  └─ mel4=811Hz->mean < -4.891\n",
       "│  │  │  │     ⋮\n",
       "│  │  │  │     \n",
       "│  │  │  └─ cntrd->std < 246.7\n",
       "│  │  │     ├─ mel8=1583Hz->min < -5.483\n",
       "│  │  │     │  ⋮\n",
       "│  │  │     │  \n",
       "│  │  │     └─ Healthy (2/2)\n",
       "│  │  └─ flatn->min < 0.008407\n",
       "│  │     ├─ Healthy (26/26)\n",
       "│  │     └─ mel13=3124Hz->mean < -5.418\n",
       "│  │        ├─ Pneumonia (5/5)\n",
       "│  │        └─ Healthy (6/6)\n",
       "│  └─ mel13=3124Hz->min < -8.135\n",
       "│     ├─ Healthy (4/4)\n",
       "│     └─ entrp->qnt < 2.183\n",
       "│        ├─ mel10=2106Hz->mean < -5.045\n",
       "│        │  ├─ Pneumonia (111/111)\n",
       "│        │  └─ Healthy (1/1)\n",
       "│        └─ slope->max < -6.039e-8\n",
       "│           ├─ Healthy (2/2)\n",
       "│           └─ Pneumonia (2/2)\n",
       "└─ mel8=1583Hz->std < 0.1833\n",
       "   ├─ Pneumonia (2/2)\n",
       "   └─ mel12=2749Hz->std < 0.3126\n",
       "      ├─ Healthy (98/98)\n",
       "      └─ mel6=1157Hz->std < 0.4998\n",
       "         ├─ crest->3ac < 0.00903\n",
       "         │  ├─ Healthy (1/1)\n",
       "         │  └─ Pneumonia (5/5)\n",
       "         └─ Healthy (18/18)\n"
      ]
     },
     "metadata": {},
     "output_type": "display_data"
    }
   ],
   "source": [
    "learned_dt_tree = begin\n",
    "    Tree = MLJ.@load DecisionTreeClassifier pkg=DecisionTree\n",
    "    model = Tree(max_depth=-1, )\n",
    "    mach = machine(model, X_train, y_train)\n",
    "    fit!(mach)\n",
    "    fitted_params(mach).tree\n",
    "end"
   ]
  },
  {
   "cell_type": "markdown",
   "metadata": {},
   "source": [
    "### Model inspection & rule study"
   ]
  },
  {
   "cell_type": "code",
   "execution_count": 6,
   "metadata": {},
   "outputs": [
    {
     "name": "stdout",
     "output_type": "stream",
     "text": [
      "\u001b[34m▣\u001b[0m \u001b[1m\u001b[36mcntrd->max\u001b[0m \u001b[1m<\u001b[0m\u001b[0m 1307.4545801505142\n",
      "├✔ \u001b[1m\u001b[36mskwns->min\u001b[0m \u001b[1m<\u001b[0m\u001b[0m 1.2677830790873983\n",
      "│├✔ \u001b[1m\u001b[33mmel6=1157Hz->min\u001b[0m \u001b[1m<\u001b[0m\u001b[0m -5.160466644906318\n",
      "││├✔ \u001b[1m\u001b[33mmel2=529Hz->min\u001b[0m \u001b[1m<\u001b[0m\u001b[0m -5.318134764797197\n",
      "│││├✔ \u001b[1m\u001b[33mmel7=1359Hz->qnt\u001b[0m \u001b[1m<\u001b[0m\u001b[0m 2.149699676804287\n",
      "││││├✔ \u001b[1m\u001b[33mmel4=811Hz->max\u001b[0m \u001b[1m<\u001b[0m\u001b[0m -3.749222280014931\n",
      "│││││├✔ Healthy : (ninstances = 8, ncovered = 8, confidence = 0.5, lift = 1.0)\n",
      "│││││└✘ \u001b[1m\u001b[33mmel4=811Hz->med\u001b[0m \u001b[1m<\u001b[0m\u001b[0m -5.211889812618957\n",
      "│││││ ├✔ Pneumonia : (ninstances = 0, ncovered = 0, confidence = NaN, lift = NaN)\n",
      "│││││ └✘ \u001b[1m\u001b[36mentrp->mean\u001b[0m \u001b[1m<\u001b[0m\u001b[0m 0.5575021763809584\n",
      "│││││  ├✔ \u001b[1m\u001b[33mmel12=2749Hz->std\u001b[0m \u001b[1m<\u001b[0m\u001b[0m 0.32395301625944595\n",
      "│││││  │├✔ Pneumonia : (ninstances = 0, ncovered = 0, confidence = NaN, lift = NaN)\n",
      "│││││  │└✘ Healthy : (ninstances = 2, ncovered = 2, confidence = 1.0, lift = 1.0)\n",
      "│││││  └✘ \u001b[1m\u001b[36mcntrd->mean\u001b[0m \u001b[1m<\u001b[0m\u001b[0m 821.3512846810506\n",
      "│││││   ├✔ Healthy : (ninstances = 2, ncovered = 2, confidence = 0.5, lift = 1.0)\n",
      "│││││   └✘ Pneumonia : (ninstances = 0, ncovered = 0, confidence = NaN, lift = NaN)\n",
      "││││└✘ \u001b[1m\u001b[33mmel4=811Hz->mean\u001b[0m \u001b[1m<\u001b[0m\u001b[0m -4.890645770377672\n",
      "││││ ├✔ Pneumonia : (ninstances = 5, ncovered = 5, confidence = 1.0, lift = 1.0)\n",
      "││││ └✘ Healthy : (ninstances = 1, ncovered = 1, confidence = 1.0, lift = 1.0)\n",
      "│││└✘ \u001b[1m\u001b[36mcntrd->std\u001b[0m \u001b[1m<\u001b[0m\u001b[0m 246.65576782888522\n",
      "│││ ├✔ \u001b[1m\u001b[33mmel8=1583Hz->min\u001b[0m \u001b[1m<\u001b[0m\u001b[0m -5.4827932200020735\n",
      "│││ │├✔ Pneumonia : (ninstances = 10, ncovered = 10, confidence = 0.9, lift = 1.0)\n",
      "│││ │└✘ \u001b[1m\u001b[36mcrest->mean\u001b[0m \u001b[1m<\u001b[0m\u001b[0m 20.322560584074772\n",
      "│││ │ ├✔ Pneumonia : (ninstances = 0, ncovered = 0, confidence = NaN, lift = NaN)\n",
      "│││ │ └✘ Healthy : (ninstances = 1, ncovered = 1, confidence = 0.0, lift = NaN)\n",
      "│││ └✘ Healthy : (ninstances = 0, ncovered = 0, confidence = NaN, lift = NaN)\n",
      "││└✘ \u001b[1m\u001b[36mflatn->min\u001b[0m \u001b[1m<\u001b[0m\u001b[0m 0.008407301030766876\n",
      "││ ├✔ Healthy : (ninstances = 9, ncovered = 9, confidence = 1.0, lift = 1.0)\n",
      "││ └✘ \u001b[1m\u001b[33mmel13=3124Hz->mean\u001b[0m \u001b[1m<\u001b[0m\u001b[0m -5.418313296366907\n",
      "││  ├✔ Pneumonia : (ninstances = 0, ncovered = 0, confidence = NaN, lift = NaN)\n",
      "││  └✘ Healthy : (ninstances = 1, ncovered = 1, confidence = 1.0, lift = 1.0)\n",
      "│└✘ \u001b[1m\u001b[33mmel13=3124Hz->min\u001b[0m \u001b[1m<\u001b[0m\u001b[0m -8.134815239307551\n",
      "│ ├✔ Healthy : (ninstances = 3, ncovered = 3, confidence = 1.0, lift = 1.0)\n",
      "│ └✘ \u001b[1m\u001b[36mentrp->qnt\u001b[0m \u001b[1m<\u001b[0m\u001b[0m 2.1832827078922596\n",
      "│  ├✔ \u001b[1m\u001b[33mmel10=2106Hz->mean\u001b[0m \u001b[1m<\u001b[0m\u001b[0m -5.044707915173815\n",
      "│  │├✔ Pneumonia : (ninstances = 24, ncovered = 24, confidence = 0.96, lift = 1.0)\n",
      "│  │└✘ Healthy : (ninstances = 1, ncovered = 1, confidence = 1.0, lift = 1.0)\n",
      "│  └✘ \u001b[1m\u001b[36mslope->max\u001b[0m \u001b[1m<\u001b[0m\u001b[0m -6.038736577447446e-8\n",
      "│   ├✔ Healthy : (ninstances = 2, ncovered = 2, confidence = 0.0, lift = NaN)\n",
      "│   └✘ Pneumonia : (ninstances = 0, ncovered = 0, confidence = NaN, lift = NaN)\n",
      "└✘ \u001b[1m\u001b[33mmel8=1583Hz->std\u001b[0m \u001b[1m<\u001b[0m\u001b[0m 0.1832774060128576\n",
      " ├✔ Pneumonia : (ninstances = 1, ncovered = 1, confidence = 1.0, lift = 1.0)\n",
      " └✘ \u001b[1m\u001b[33mmel12=2749Hz->std\u001b[0m \u001b[1m<\u001b[0m\u001b[0m 0.3126195131281829\n",
      "  ├✔ Healthy : (ninstances = 27, ncovered = 27, confidence = 0.85, lift = 1.0)\n",
      "  └✘ \u001b[1m\u001b[33mmel6=1157Hz->std\u001b[0m \u001b[1m<\u001b[0m\u001b[0m 0.49978752260422044\n",
      "   ├✔ \u001b[1m\u001b[36mcrest->3ac\u001b[0m \u001b[1m<\u001b[0m\u001b[0m 0.009029690847872666\n",
      "   │├✔ Healthy : (ninstances = 0, ncovered = 0, confidence = NaN, lift = NaN)\n",
      "   │└✘ Pneumonia : (ninstances = 1, ncovered = 1, confidence = 0.0, lift = NaN)\n",
      "   └✘ Healthy : (ninstances = 3, ncovered = 3, confidence = 1.0, lift = 1.0)\n"
     ]
    }
   ],
   "source": [
    "sole_dt = solemodel(learned_dt_tree)\n",
    "# Make test instances flow into the model, so that test metrics can, then, be computed.\n",
    "apply!(sole_dt, X_test, y_test);\n",
    "# Print Sole model\n",
    "printmodel(sole_dt; show_metrics = true, variable_names_map = variable_names);"
   ]
  },
  {
   "cell_type": "markdown",
   "metadata": {},
   "source": [
    "### Extract rules that are at least as good as a random baseline model"
   ]
  },
  {
   "cell_type": "code",
   "execution_count": 7,
   "metadata": {},
   "outputs": [
    {
     "name": "stdout",
     "output_type": "stream",
     "text": [
      "\u001b[34m▣\u001b[0m (\u001b[1m\u001b[36mcntrd->max\u001b[0m \u001b[1m<\u001b[0m\u001b[0m 1307.4545801505142) ∧ (\u001b[1m\u001b[36mskwns->min\u001b[0m \u001b[1m<\u001b[0m\u001b[0m 1.2677830790873983) ∧ (\u001b[1m\u001b[33mmel6=1157Hz->min\u001b[0m \u001b[1m<\u001b[0m\u001b[0m -5.160466644906318) ∧ (\u001b[1m\u001b[33mmel2=529Hz->min\u001b[0m \u001b[1m<\u001b[0m\u001b[0m -5.318134764797197) ∧ (\u001b[1m\u001b[33mmel7=1359Hz->qnt\u001b[0m \u001b[1m<\u001b[0m\u001b[0m 2.149699676804287) ∧ (¬(\u001b[1m\u001b[33mmel4=811Hz->max\u001b[0m \u001b[1m<\u001b[0m\u001b[0m -3.749222280014931)) ∧ (¬(\u001b[1m\u001b[33mmel4=811Hz->med\u001b[0m \u001b[1m<\u001b[0m\u001b[0m -5.211889812618957)) ∧ (\u001b[1m\u001b[36mentrp->mean\u001b[0m \u001b[1m<\u001b[0m\u001b[0m 0.5575021763809584) ∧ (¬(\u001b[1m\u001b[33mmel12=2749Hz->std\u001b[0m \u001b[1m<\u001b[0m\u001b[0m 0.32395301625944595))  ↣  Healthy : (ninstances = 101, ncovered = 2, coverage = 0.02, confidence = 1.0, lift = 1.98, natoms = 9)\n",
      "\u001b[34m▣\u001b[0m (\u001b[1m\u001b[36mcntrd->max\u001b[0m \u001b[1m<\u001b[0m\u001b[0m 1307.4545801505142) ∧ (\u001b[1m\u001b[36mskwns->min\u001b[0m \u001b[1m<\u001b[0m\u001b[0m 1.2677830790873983) ∧ (\u001b[1m\u001b[33mmel6=1157Hz->min\u001b[0m \u001b[1m<\u001b[0m\u001b[0m -5.160466644906318) ∧ (\u001b[1m\u001b[33mmel2=529Hz->min\u001b[0m \u001b[1m<\u001b[0m\u001b[0m -5.318134764797197) ∧ (¬(\u001b[1m\u001b[33mmel7=1359Hz->qnt\u001b[0m \u001b[1m<\u001b[0m\u001b[0m 2.149699676804287)) ∧ (\u001b[1m\u001b[33mmel4=811Hz->mean\u001b[0m \u001b[1m<\u001b[0m\u001b[0m -4.890645770377672)  ↣  Pneumonia : (ninstances = 101, ncovered = 5, coverage = 0.05, confidence = 1.0, lift = 2.02, natoms = 6)\n",
      "\u001b[34m▣\u001b[0m (\u001b[1m\u001b[36mcntrd->max\u001b[0m \u001b[1m<\u001b[0m\u001b[0m 1307.4545801505142) ∧ (\u001b[1m\u001b[36mskwns->min\u001b[0m \u001b[1m<\u001b[0m\u001b[0m 1.2677830790873983) ∧ (\u001b[1m\u001b[33mmel6=1157Hz->min\u001b[0m \u001b[1m<\u001b[0m\u001b[0m -5.160466644906318) ∧ (\u001b[1m\u001b[33mmel2=529Hz->min\u001b[0m \u001b[1m<\u001b[0m\u001b[0m -5.318134764797197) ∧ (¬(\u001b[1m\u001b[33mmel7=1359Hz->qnt\u001b[0m \u001b[1m<\u001b[0m\u001b[0m 2.149699676804287)) ∧ (¬(\u001b[1m\u001b[33mmel4=811Hz->mean\u001b[0m \u001b[1m<\u001b[0m\u001b[0m -4.890645770377672))  ↣  Healthy : (ninstances = 101, ncovered = 1, coverage = 0.01, confidence = 1.0, lift = 1.98, natoms = 6)\n",
      "\u001b[34m▣\u001b[0m (\u001b[1m\u001b[36mcntrd->max\u001b[0m \u001b[1m<\u001b[0m\u001b[0m 1307.4545801505142) ∧ (\u001b[1m\u001b[36mskwns->min\u001b[0m \u001b[1m<\u001b[0m\u001b[0m 1.2677830790873983) ∧ (\u001b[1m\u001b[33mmel6=1157Hz->min\u001b[0m \u001b[1m<\u001b[0m\u001b[0m -5.160466644906318) ∧ (¬(\u001b[1m\u001b[33mmel2=529Hz->min\u001b[0m \u001b[1m<\u001b[0m\u001b[0m -5.318134764797197)) ∧ (\u001b[1m\u001b[36mcntrd->std\u001b[0m \u001b[1m<\u001b[0m\u001b[0m 246.65576782888522) ∧ (\u001b[1m\u001b[33mmel8=1583Hz->min\u001b[0m \u001b[1m<\u001b[0m\u001b[0m -5.4827932200020735)  ↣  Pneumonia : (ninstances = 101, ncovered = 10, coverage = 0.1, confidence = 0.9, lift = 1.82, natoms = 6)\n",
      "\u001b[34m▣\u001b[0m (\u001b[1m\u001b[36mcntrd->max\u001b[0m \u001b[1m<\u001b[0m\u001b[0m 1307.4545801505142) ∧ (\u001b[1m\u001b[36mskwns->min\u001b[0m \u001b[1m<\u001b[0m\u001b[0m 1.2677830790873983) ∧ (¬(\u001b[1m\u001b[33mmel6=1157Hz->min\u001b[0m \u001b[1m<\u001b[0m\u001b[0m -5.160466644906318)) ∧ (\u001b[1m\u001b[36mflatn->min\u001b[0m \u001b[1m<\u001b[0m\u001b[0m 0.008407301030766876)  ↣  Healthy : (ninstances = 101, ncovered = 9, coverage = 0.09, confidence = 1.0, lift = 1.98, natoms = 4)\n",
      "\u001b[34m▣\u001b[0m (\u001b[1m\u001b[36mcntrd->max\u001b[0m \u001b[1m<\u001b[0m\u001b[0m 1307.4545801505142) ∧ (\u001b[1m\u001b[36mskwns->min\u001b[0m \u001b[1m<\u001b[0m\u001b[0m 1.2677830790873983) ∧ (¬(\u001b[1m\u001b[33mmel6=1157Hz->min\u001b[0m \u001b[1m<\u001b[0m\u001b[0m -5.160466644906318)) ∧ (¬(\u001b[1m\u001b[36mflatn->min\u001b[0m \u001b[1m<\u001b[0m\u001b[0m 0.008407301030766876)) ∧ (¬(\u001b[1m\u001b[33mmel13=3124Hz->mean\u001b[0m \u001b[1m<\u001b[0m\u001b[0m -5.418313296366907))  ↣  Healthy : (ninstances = 101, ncovered = 1, coverage = 0.01, confidence = 1.0, lift = 1.98, natoms = 5)\n",
      "\u001b[34m▣\u001b[0m (\u001b[1m\u001b[36mcntrd->max\u001b[0m \u001b[1m<\u001b[0m\u001b[0m 1307.4545801505142) ∧ (¬(\u001b[1m\u001b[36mskwns->min\u001b[0m \u001b[1m<\u001b[0m\u001b[0m 1.2677830790873983)) ∧ (\u001b[1m\u001b[33mmel13=3124Hz->min\u001b[0m \u001b[1m<\u001b[0m\u001b[0m -8.134815239307551)  ↣  Healthy : (ninstances = 101, ncovered = 3, coverage = 0.03, confidence = 1.0, lift = 1.98, natoms = 3)\n",
      "\u001b[34m▣\u001b[0m (\u001b[1m\u001b[36mcntrd->max\u001b[0m \u001b[1m<\u001b[0m\u001b[0m 1307.4545801505142) ∧ (¬(\u001b[1m\u001b[36mskwns->min\u001b[0m \u001b[1m<\u001b[0m\u001b[0m 1.2677830790873983)) ∧ (¬(\u001b[1m\u001b[33mmel13=3124Hz->min\u001b[0m \u001b[1m<\u001b[0m\u001b[0m -8.134815239307551)) ∧ (\u001b[1m\u001b[36mentrp->qnt\u001b[0m \u001b[1m<\u001b[0m\u001b[0m 2.1832827078922596) ∧ (\u001b[1m\u001b[33mmel10=2106Hz->mean\u001b[0m \u001b[1m<\u001b[0m\u001b[0m -5.044707915173815)  ↣  Pneumonia : (ninstances = 101, ncovered = 24, coverage = 0.24, confidence = 0.96, lift = 1.94, natoms = 5)\n",
      "\u001b[34m▣\u001b[0m (\u001b[1m\u001b[36mcntrd->max\u001b[0m \u001b[1m<\u001b[0m\u001b[0m 1307.4545801505142) ∧ (¬(\u001b[1m\u001b[36mskwns->min\u001b[0m \u001b[1m<\u001b[0m\u001b[0m 1.2677830790873983)) ∧ (¬(\u001b[1m\u001b[33mmel13=3124Hz->min\u001b[0m \u001b[1m<\u001b[0m\u001b[0m -8.134815239307551)) ∧ (\u001b[1m\u001b[36mentrp->qnt\u001b[0m \u001b[1m<\u001b[0m\u001b[0m 2.1832827078922596) ∧ (¬(\u001b[1m\u001b[33mmel10=2106Hz->mean\u001b[0m \u001b[1m<\u001b[0m\u001b[0m -5.044707915173815))  ↣  Healthy : (ninstances = 101, ncovered = 1, coverage = 0.01, confidence = 1.0, lift = 1.98, natoms = 5)\n",
      "\u001b[34m▣\u001b[0m (¬(\u001b[1m\u001b[36mcntrd->max\u001b[0m \u001b[1m<\u001b[0m\u001b[0m 1307.4545801505142)) ∧ (\u001b[1m\u001b[33mmel8=1583Hz->std\u001b[0m \u001b[1m<\u001b[0m\u001b[0m 0.1832774060128576)  ↣  Pneumonia : (ninstances = 101, ncovered = 1, coverage = 0.01, confidence = 1.0, lift = 2.02, natoms = 2)\n",
      "\u001b[34m▣\u001b[0m (¬(\u001b[1m\u001b[36mcntrd->max\u001b[0m \u001b[1m<\u001b[0m\u001b[0m 1307.4545801505142)) ∧ (¬(\u001b[1m\u001b[33mmel8=1583Hz->std\u001b[0m \u001b[1m<\u001b[0m\u001b[0m 0.1832774060128576)) ∧ (\u001b[1m\u001b[33mmel12=2749Hz->std\u001b[0m \u001b[1m<\u001b[0m\u001b[0m 0.3126195131281829)  ↣  Healthy : (ninstances = 101, ncovered = 27, coverage = 0.27, confidence = 0.85, lift = 1.69, natoms = 3)\n",
      "\u001b[34m▣\u001b[0m (¬(\u001b[1m\u001b[36mcntrd->max\u001b[0m \u001b[1m<\u001b[0m\u001b[0m 1307.4545801505142)) ∧ (¬(\u001b[1m\u001b[33mmel8=1583Hz->std\u001b[0m \u001b[1m<\u001b[0m\u001b[0m 0.1832774060128576)) ∧ (¬(\u001b[1m\u001b[33mmel12=2749Hz->std\u001b[0m \u001b[1m<\u001b[0m\u001b[0m 0.3126195131281829)) ∧ (¬(\u001b[1m\u001b[33mmel6=1157Hz->std\u001b[0m \u001b[1m<\u001b[0m\u001b[0m 0.49978752260422044))  ↣  Healthy : (ninstances = 101, ncovered = 3, coverage = 0.03, confidence = 1.0, lift = 1.98, natoms = 4)\n"
     ]
    }
   ],
   "source": [
    "interesting_rules = listrules(sole_dt, min_lift = 1.0, min_ninstances = 0);\n",
    "printmodel.(interesting_rules; show_metrics = true, variable_names_map = variable_names);"
   ]
  },
  {
   "cell_type": "markdown",
   "metadata": {},
   "source": [
    "### Simplify rules while extracting and prettify result"
   ]
  },
  {
   "cell_type": "code",
   "execution_count": 8,
   "metadata": {},
   "outputs": [
    {
     "name": "stdout",
     "output_type": "stream",
     "text": [
      "\u001b[34m▣\u001b[0m (\u001b[1m\u001b[36mcntrd->max\u001b[0m \u001b[1m<\u001b[0m\u001b[0m 1307.45) ∧ (\u001b[1m\u001b[36mskwns->min\u001b[0m \u001b[1m<\u001b[0m\u001b[0m 1.27) ∧ (\u001b[1m\u001b[33mmel6=1157Hz->min\u001b[0m \u001b[1m<\u001b[0m\u001b[0m -5.16) ∧ (\u001b[1m\u001b[33mmel2=529Hz->min\u001b[0m \u001b[1m<\u001b[0m\u001b[0m -5.32) ∧ (\u001b[1m\u001b[33mmel7=1359Hz->qnt\u001b[0m \u001b[1m<\u001b[0m\u001b[0m 2.15) ∧ (\u001b[1m\u001b[33mmel4=811Hz->max\u001b[0m \u001b[1m≥\u001b[0m\u001b[0m -3.75) ∧ (\u001b[1m\u001b[33mmel4=811Hz->med\u001b[0m \u001b[1m≥\u001b[0m\u001b[0m -5.21) ∧ (\u001b[1m\u001b[36mentrp->mean\u001b[0m \u001b[1m<\u001b[0m\u001b[0m 0.56) ∧ (\u001b[1m\u001b[33mmel12=2749Hz->std\u001b[0m \u001b[1m≥\u001b[0m\u001b[0m 0.32)  ↣  Healthy : (ninstances = 101, ncovered = 2, coverage = 0.02, confidence = 1.0, lift = 1.98, natoms = 9)\n",
      "\u001b[34m▣\u001b[0m (\u001b[1m\u001b[36mcntrd->max\u001b[0m \u001b[1m<\u001b[0m\u001b[0m 1307.45) ∧ (\u001b[1m\u001b[36mskwns->min\u001b[0m \u001b[1m<\u001b[0m\u001b[0m 1.27) ∧ (\u001b[1m\u001b[33mmel6=1157Hz->min\u001b[0m \u001b[1m<\u001b[0m\u001b[0m -5.16) ∧ (\u001b[1m\u001b[33mmel2=529Hz->min\u001b[0m \u001b[1m<\u001b[0m\u001b[0m -5.32) ∧ (\u001b[1m\u001b[33mmel7=1359Hz->qnt\u001b[0m \u001b[1m≥\u001b[0m\u001b[0m 2.15) ∧ (\u001b[1m\u001b[33mmel4=811Hz->mean\u001b[0m \u001b[1m<\u001b[0m\u001b[0m -4.89)  ↣  Pneumonia : (ninstances = 101, ncovered = 5, coverage = 0.05, confidence = 1.0, lift = 2.02, natoms = 6)\n",
      "\u001b[34m▣\u001b[0m (\u001b[1m\u001b[36mcntrd->max\u001b[0m \u001b[1m<\u001b[0m\u001b[0m 1307.45) ∧ (\u001b[1m\u001b[36mskwns->min\u001b[0m \u001b[1m<\u001b[0m\u001b[0m 1.27) ∧ (\u001b[1m\u001b[33mmel6=1157Hz->min\u001b[0m \u001b[1m<\u001b[0m\u001b[0m -5.16) ∧ (\u001b[1m\u001b[33mmel2=529Hz->min\u001b[0m \u001b[1m<\u001b[0m\u001b[0m -5.32) ∧ (\u001b[1m\u001b[33mmel7=1359Hz->qnt\u001b[0m \u001b[1m≥\u001b[0m\u001b[0m 2.15) ∧ (\u001b[1m\u001b[33mmel4=811Hz->mean\u001b[0m \u001b[1m≥\u001b[0m\u001b[0m -4.89)  ↣  Healthy : (ninstances = 101, ncovered = 1, coverage = 0.01, confidence = 1.0, lift = 1.98, natoms = 6)\n",
      "\u001b[34m▣\u001b[0m (\u001b[1m\u001b[36mcntrd->max\u001b[0m \u001b[1m<\u001b[0m\u001b[0m 1307.45) ∧ (\u001b[1m\u001b[36mskwns->min\u001b[0m \u001b[1m<\u001b[0m\u001b[0m 1.27) ∧ (\u001b[1m\u001b[33mmel6=1157Hz->min\u001b[0m \u001b[1m<\u001b[0m\u001b[0m -5.16) ∧ (\u001b[1m\u001b[33mmel2=529Hz->min\u001b[0m \u001b[1m≥\u001b[0m\u001b[0m -5.32) ∧ (\u001b[1m\u001b[36mcntrd->std\u001b[0m \u001b[1m<\u001b[0m\u001b[0m 246.66) ∧ (\u001b[1m\u001b[33mmel8=1583Hz->min\u001b[0m \u001b[1m<\u001b[0m\u001b[0m -5.48)  ↣  Pneumonia : (ninstances = 101, ncovered = 10, coverage = 0.1, confidence = 0.9, lift = 1.82, natoms = 6)\n",
      "\u001b[34m▣\u001b[0m (\u001b[1m\u001b[36mcntrd->max\u001b[0m \u001b[1m<\u001b[0m\u001b[0m 1307.45) ∧ (\u001b[1m\u001b[36mskwns->min\u001b[0m \u001b[1m<\u001b[0m\u001b[0m 1.27) ∧ (\u001b[1m\u001b[33mmel6=1157Hz->min\u001b[0m \u001b[1m≥\u001b[0m\u001b[0m -5.16) ∧ (\u001b[1m\u001b[36mflatn->min\u001b[0m \u001b[1m<\u001b[0m\u001b[0m 0.01)  ↣  Healthy : (ninstances = 101, ncovered = 9, coverage = 0.09, confidence = 1.0, lift = 1.98, natoms = 4)\n",
      "\u001b[34m▣\u001b[0m (\u001b[1m\u001b[36mcntrd->max\u001b[0m \u001b[1m<\u001b[0m\u001b[0m 1307.45) ∧ (\u001b[1m\u001b[36mskwns->min\u001b[0m \u001b[1m<\u001b[0m\u001b[0m 1.27) ∧ (\u001b[1m\u001b[33mmel6=1157Hz->min\u001b[0m \u001b[1m≥\u001b[0m\u001b[0m -5.16) ∧ (\u001b[1m\u001b[36mflatn->min\u001b[0m \u001b[1m≥\u001b[0m\u001b[0m 0.01) ∧ (\u001b[1m\u001b[33mmel13=3124Hz->mean\u001b[0m \u001b[1m≥\u001b[0m\u001b[0m -5.42)  ↣  Healthy : (ninstances = 101, ncovered = 1, coverage = 0.01, confidence = 1.0, lift = 1.98, natoms = 5)\n",
      "\u001b[34m▣\u001b[0m (\u001b[1m\u001b[36mcntrd->max\u001b[0m \u001b[1m<\u001b[0m\u001b[0m 1307.45) ∧ (\u001b[1m\u001b[36mskwns->min\u001b[0m \u001b[1m≥\u001b[0m\u001b[0m 1.27) ∧ (\u001b[1m\u001b[33mmel13=3124Hz->min\u001b[0m \u001b[1m<\u001b[0m\u001b[0m -8.13)  ↣  Healthy : (ninstances = 101, ncovered = 3, coverage = 0.03, confidence = 1.0, lift = 1.98, natoms = 3)\n",
      "\u001b[34m▣\u001b[0m (\u001b[1m\u001b[36mcntrd->max\u001b[0m \u001b[1m<\u001b[0m\u001b[0m 1307.45) ∧ (\u001b[1m\u001b[36mskwns->min\u001b[0m \u001b[1m≥\u001b[0m\u001b[0m 1.27) ∧ (\u001b[1m\u001b[33mmel13=3124Hz->min\u001b[0m \u001b[1m≥\u001b[0m\u001b[0m -8.13) ∧ (\u001b[1m\u001b[36mentrp->qnt\u001b[0m \u001b[1m<\u001b[0m\u001b[0m 2.18) ∧ (\u001b[1m\u001b[33mmel10=2106Hz->mean\u001b[0m \u001b[1m<\u001b[0m\u001b[0m -5.04)  ↣  Pneumonia : (ninstances = 101, ncovered = 24, coverage = 0.24, confidence = 0.96, lift = 1.94, natoms = 5)\n",
      "\u001b[34m▣\u001b[0m (\u001b[1m\u001b[36mcntrd->max\u001b[0m \u001b[1m<\u001b[0m\u001b[0m 1307.45) ∧ (\u001b[1m\u001b[36mskwns->min\u001b[0m \u001b[1m≥\u001b[0m\u001b[0m 1.27) ∧ (\u001b[1m\u001b[33mmel13=3124Hz->min\u001b[0m \u001b[1m≥\u001b[0m\u001b[0m -8.13) ∧ (\u001b[1m\u001b[36mentrp->qnt\u001b[0m \u001b[1m<\u001b[0m\u001b[0m 2.18) ∧ (\u001b[1m\u001b[33mmel10=2106Hz->mean\u001b[0m \u001b[1m≥\u001b[0m\u001b[0m -5.04)  ↣  Healthy : (ninstances = 101, ncovered = 1, coverage = 0.01, confidence = 1.0, lift = 1.98, natoms = 5)\n",
      "\u001b[34m▣\u001b[0m (\u001b[1m\u001b[36mcntrd->max\u001b[0m \u001b[1m≥\u001b[0m\u001b[0m 1307.45) ∧ (\u001b[1m\u001b[33mmel8=1583Hz->std\u001b[0m \u001b[1m<\u001b[0m\u001b[0m 0.18)  ↣  Pneumonia : (ninstances = 101, ncovered = 1, coverage = 0.01, confidence = 1.0, lift = 2.02, natoms = 2)\n",
      "\u001b[34m▣\u001b[0m (\u001b[1m\u001b[36mcntrd->max\u001b[0m \u001b[1m≥\u001b[0m\u001b[0m 1307.45) ∧ (\u001b[1m\u001b[33mmel8=1583Hz->std\u001b[0m \u001b[1m≥\u001b[0m\u001b[0m 0.18) ∧ (\u001b[1m\u001b[33mmel12=2749Hz->std\u001b[0m \u001b[1m<\u001b[0m\u001b[0m 0.31)  ↣  Healthy : (ninstances = 101, ncovered = 27, coverage = 0.27, confidence = 0.85, lift = 1.69, natoms = 3)\n",
      "\u001b[34m▣\u001b[0m (\u001b[1m\u001b[36mcntrd->max\u001b[0m \u001b[1m≥\u001b[0m\u001b[0m 1307.45) ∧ (\u001b[1m\u001b[33mmel8=1583Hz->std\u001b[0m \u001b[1m≥\u001b[0m\u001b[0m 0.18) ∧ (\u001b[1m\u001b[33mmel12=2749Hz->std\u001b[0m \u001b[1m≥\u001b[0m\u001b[0m 0.31) ∧ (\u001b[1m\u001b[33mmel6=1157Hz->std\u001b[0m \u001b[1m≥\u001b[0m\u001b[0m 0.5)  ↣  Healthy : (ninstances = 101, ncovered = 3, coverage = 0.03, confidence = 1.0, lift = 1.98, natoms = 4)\n"
     ]
    }
   ],
   "source": [
    "interesting_rules = listrules(sole_dt, min_lift = 1.0, min_ninstances = 0, normalize = true);\n",
    "printmodel.(interesting_rules; show_metrics = true, syntaxstring_kwargs = (; threshold_digits = 2), variable_names_map = variable_names);"
   ]
  },
  {
   "cell_type": "markdown",
   "metadata": {},
   "source": [
    "### Directly access rule metrics"
   ]
  },
  {
   "cell_type": "code",
   "execution_count": 9,
   "metadata": {},
   "outputs": [
    {
     "data": {
      "text/plain": [
       "12-element Vector{@NamedTuple{ninstances::Int64, ncovered::Int64, coverage::Float64, confidence::Float64, lift::Float64, natoms::Int64}}:\n",
       " (ninstances = 101, ncovered = 2, coverage = 0.019801980198019802, confidence = 1.0, lift = 1.9803921568627452, natoms = 9)\n",
       " (ninstances = 101, ncovered = 5, coverage = 0.04950495049504951, confidence = 1.0, lift = 2.02, natoms = 6)\n",
       " (ninstances = 101, ncovered = 1, coverage = 0.009900990099009901, confidence = 1.0, lift = 1.9803921568627452, natoms = 6)\n",
       " (ninstances = 101, ncovered = 10, coverage = 0.09900990099009901, confidence = 0.9, lift = 1.818, natoms = 6)\n",
       " (ninstances = 101, ncovered = 9, coverage = 0.0891089108910891, confidence = 1.0, lift = 1.9803921568627452, natoms = 4)\n",
       " (ninstances = 101, ncovered = 1, coverage = 0.009900990099009901, confidence = 1.0, lift = 1.9803921568627452, natoms = 5)\n",
       " (ninstances = 101, ncovered = 3, coverage = 0.0297029702970297, confidence = 1.0, lift = 1.9803921568627452, natoms = 3)\n",
       " (ninstances = 101, ncovered = 24, coverage = 0.2376237623762376, confidence = 0.9583333333333334, lift = 1.9358333333333335, natoms = 5)\n",
       " (ninstances = 101, ncovered = 1, coverage = 0.009900990099009901, confidence = 1.0, lift = 1.9803921568627452, natoms = 5)\n",
       " (ninstances = 101, ncovered = 1, coverage = 0.009900990099009901, confidence = 1.0, lift = 2.02, natoms = 2)\n",
       " (ninstances = 101, ncovered = 27, coverage = 0.26732673267326734, confidence = 0.8518518518518519, lift = 1.6870007262164124, natoms = 3)\n",
       " (ninstances = 101, ncovered = 3, coverage = 0.0297029702970297, confidence = 1.0, lift = 1.9803921568627452, natoms = 4)"
      ]
     },
     "metadata": {},
     "output_type": "display_data"
    }
   ],
   "source": [
    "readmetrics.(listrules(sole_dt; min_lift=1.0, min_ninstances = 0))"
   ]
  },
  {
   "cell_type": "markdown",
   "metadata": {},
   "source": [
    "### Show rules with an additional metric (syntax height of the rule's antecedent)"
   ]
  },
  {
   "cell_type": "code",
   "execution_count": 10,
   "metadata": {},
   "outputs": [
    {
     "name": "stdout",
     "output_type": "stream",
     "text": [
      "\u001b[34m▣\u001b[0m (\u001b[1m\u001b[36mcntrd->max\u001b[0m \u001b[1m<\u001b[0m\u001b[0m 1307.4545801505142) ∧ (\u001b[1m\u001b[36mskwns->min\u001b[0m \u001b[1m<\u001b[0m\u001b[0m 1.2677830790873983) ∧ (\u001b[1m\u001b[33mmel6=1157Hz->min\u001b[0m \u001b[1m≥\u001b[0m\u001b[0m -5.160466644906318) ∧ (\u001b[1m\u001b[36mflatn->min\u001b[0m \u001b[1m≥\u001b[0m\u001b[0m 0.008407301030766876) ∧ (\u001b[1m\u001b[33mmel13=3124Hz->mean\u001b[0m \u001b[1m≥\u001b[0m\u001b[0m -5.418313296366907)  ↣  Healthy : (ninstances = 101, ncovered = 1, coverage = 0.009900990099009901, confidence = 1.0, lift = 1.9803921568627452, natoms = 5, height = 4)\n",
      "\u001b[34m▣\u001b[0m (\u001b[1m\u001b[36mcntrd->max\u001b[0m \u001b[1m<\u001b[0m\u001b[0m 1307.4545801505142) ∧ (\u001b[1m\u001b[36mskwns->min\u001b[0m \u001b[1m≥\u001b[0m\u001b[0m 1.2677830790873983) ∧ (\u001b[1m\u001b[33mmel13=3124Hz->min\u001b[0m \u001b[1m≥\u001b[0m\u001b[0m -8.134815239307551) ∧ (\u001b[1m\u001b[36mentrp->qnt\u001b[0m \u001b[1m<\u001b[0m\u001b[0m 2.1832827078922596) ∧ (\u001b[1m\u001b[33mmel10=2106Hz->mean\u001b[0m \u001b[1m≥\u001b[0m\u001b[0m -5.044707915173815)  ↣  Healthy : (ninstances = 101, ncovered = 1, coverage = 0.009900990099009901, confidence = 1.0, lift = 1.9803921568627452, natoms = 5, height = 4)\n",
      "\u001b[34m▣\u001b[0m (\u001b[1m\u001b[36mcntrd->max\u001b[0m \u001b[1m<\u001b[0m\u001b[0m 1307.4545801505142) ∧ (\u001b[1m\u001b[36mskwns->min\u001b[0m \u001b[1m<\u001b[0m\u001b[0m 1.2677830790873983) ∧ (\u001b[1m\u001b[33mmel6=1157Hz->min\u001b[0m \u001b[1m<\u001b[0m\u001b[0m -5.160466644906318) ∧ (\u001b[1m\u001b[33mmel2=529Hz->min\u001b[0m \u001b[1m<\u001b[0m\u001b[0m -5.318134764797197) ∧ (\u001b[1m\u001b[33mmel7=1359Hz->qnt\u001b[0m \u001b[1m≥\u001b[0m\u001b[0m 2.149699676804287) ∧ (\u001b[1m\u001b[33mmel4=811Hz->mean\u001b[0m \u001b[1m≥\u001b[0m\u001b[0m -4.890645770377672)  ↣  Healthy : (ninstances = 101, ncovered = 1, coverage = 0.009900990099009901, confidence = 1.0, lift = 1.9803921568627452, natoms = 6, height = 5)\n",
      "\u001b[34m▣\u001b[0m (\u001b[1m\u001b[36mcntrd->max\u001b[0m \u001b[1m≥\u001b[0m\u001b[0m 1307.4545801505142) ∧ (\u001b[1m\u001b[33mmel8=1583Hz->std\u001b[0m \u001b[1m<\u001b[0m\u001b[0m 0.1832774060128576)  ↣  Pneumonia : (ninstances = 101, ncovered = 1, coverage = 0.009900990099009901, confidence = 1.0, lift = 2.02, natoms = 2, height = 1)\n",
      "\u001b[34m▣\u001b[0m (\u001b[1m\u001b[36mcntrd->max\u001b[0m \u001b[1m<\u001b[0m\u001b[0m 1307.4545801505142) ∧ (\u001b[1m\u001b[36mskwns->min\u001b[0m \u001b[1m<\u001b[0m\u001b[0m 1.2677830790873983) ∧ (\u001b[1m\u001b[33mmel6=1157Hz->min\u001b[0m \u001b[1m<\u001b[0m\u001b[0m -5.160466644906318) ∧ (\u001b[1m\u001b[33mmel2=529Hz->min\u001b[0m \u001b[1m<\u001b[0m\u001b[0m -5.318134764797197) ∧ (\u001b[1m\u001b[33mmel7=1359Hz->qnt\u001b[0m \u001b[1m<\u001b[0m\u001b[0m 2.149699676804287) ∧ (\u001b[1m\u001b[33mmel4=811Hz->max\u001b[0m \u001b[1m≥\u001b[0m\u001b[0m -3.749222280014931) ∧ (\u001b[1m\u001b[33mmel4=811Hz->med\u001b[0m \u001b[1m≥\u001b[0m\u001b[0m -5.211889812618957) ∧ (\u001b[1m\u001b[36mentrp->mean\u001b[0m \u001b[1m<\u001b[0m\u001b[0m 0.5575021763809584) ∧ (\u001b[1m\u001b[33mmel12=2749Hz->std\u001b[0m \u001b[1m≥\u001b[0m\u001b[0m 0.32395301625944595)  ↣  Healthy : (ninstances = 101, ncovered = 2, coverage = 0.019801980198019802, confidence = 1.0, lift = 1.9803921568627452, natoms = 9, height = 8)\n",
      "\u001b[34m▣\u001b[0m (\u001b[1m\u001b[36mcntrd->max\u001b[0m \u001b[1m<\u001b[0m\u001b[0m 1307.4545801505142) ∧ (\u001b[1m\u001b[36mskwns->min\u001b[0m \u001b[1m≥\u001b[0m\u001b[0m 1.2677830790873983) ∧ (\u001b[1m\u001b[33mmel13=3124Hz->min\u001b[0m \u001b[1m<\u001b[0m\u001b[0m -8.134815239307551)  ↣  Healthy : (ninstances = 101, ncovered = 3, coverage = 0.0297029702970297, confidence = 1.0, lift = 1.9803921568627452, natoms = 3, height = 2)\n",
      "\u001b[34m▣\u001b[0m (\u001b[1m\u001b[36mcntrd->max\u001b[0m \u001b[1m≥\u001b[0m\u001b[0m 1307.4545801505142) ∧ (\u001b[1m\u001b[33mmel8=1583Hz->std\u001b[0m \u001b[1m≥\u001b[0m\u001b[0m 0.1832774060128576) ∧ (\u001b[1m\u001b[33mmel12=2749Hz->std\u001b[0m \u001b[1m≥\u001b[0m\u001b[0m 0.3126195131281829) ∧ (\u001b[1m\u001b[33mmel6=1157Hz->std\u001b[0m \u001b[1m≥\u001b[0m\u001b[0m 0.49978752260422044)  ↣  Healthy : (ninstances = 101, ncovered = 3, coverage = 0.0297029702970297, confidence = 1.0, lift = 1.9803921568627452, natoms = 4, height = 3)\n",
      "\u001b[34m▣\u001b[0m (\u001b[1m\u001b[36mcntrd->max\u001b[0m \u001b[1m<\u001b[0m\u001b[0m 1307.4545801505142) ∧ (\u001b[1m\u001b[36mskwns->min\u001b[0m \u001b[1m<\u001b[0m\u001b[0m 1.2677830790873983) ∧ (\u001b[1m\u001b[33mmel6=1157Hz->min\u001b[0m \u001b[1m<\u001b[0m\u001b[0m -5.160466644906318) ∧ (\u001b[1m\u001b[33mmel2=529Hz->min\u001b[0m \u001b[1m<\u001b[0m\u001b[0m -5.318134764797197) ∧ (\u001b[1m\u001b[33mmel7=1359Hz->qnt\u001b[0m \u001b[1m≥\u001b[0m\u001b[0m 2.149699676804287) ∧ (\u001b[1m\u001b[33mmel4=811Hz->mean\u001b[0m \u001b[1m<\u001b[0m\u001b[0m -4.890645770377672)  ↣  Pneumonia : (ninstances = 101, ncovered = 5, coverage = 0.04950495049504951, confidence = 1.0, lift = 2.02, natoms = 6, height = 5)\n",
      "\u001b[34m▣\u001b[0m (\u001b[1m\u001b[36mcntrd->max\u001b[0m \u001b[1m<\u001b[0m\u001b[0m 1307.4545801505142) ∧ (\u001b[1m\u001b[36mskwns->min\u001b[0m \u001b[1m<\u001b[0m\u001b[0m 1.2677830790873983) ∧ (\u001b[1m\u001b[33mmel6=1157Hz->min\u001b[0m \u001b[1m≥\u001b[0m\u001b[0m -5.160466644906318) ∧ (\u001b[1m\u001b[36mflatn->min\u001b[0m \u001b[1m<\u001b[0m\u001b[0m 0.008407301030766876)  ↣  Healthy : (ninstances = 101, ncovered = 9, coverage = 0.0891089108910891, confidence = 1.0, lift = 1.9803921568627452, natoms = 4, height = 3)\n",
      "\u001b[34m▣\u001b[0m (\u001b[1m\u001b[36mcntrd->max\u001b[0m \u001b[1m<\u001b[0m\u001b[0m 1307.4545801505142) ∧ (\u001b[1m\u001b[36mskwns->min\u001b[0m \u001b[1m<\u001b[0m\u001b[0m 1.2677830790873983) ∧ (\u001b[1m\u001b[33mmel6=1157Hz->min\u001b[0m \u001b[1m<\u001b[0m\u001b[0m -5.160466644906318) ∧ (\u001b[1m\u001b[33mmel2=529Hz->min\u001b[0m \u001b[1m≥\u001b[0m\u001b[0m -5.318134764797197) ∧ (\u001b[1m\u001b[36mcntrd->std\u001b[0m \u001b[1m<\u001b[0m\u001b[0m 246.65576782888522) ∧ (\u001b[1m\u001b[33mmel8=1583Hz->min\u001b[0m \u001b[1m<\u001b[0m\u001b[0m -5.4827932200020735)  ↣  Pneumonia : (ninstances = 101, ncovered = 10, coverage = 0.09900990099009901, confidence = 0.9, lift = 1.818, natoms = 6, height = 5)\n",
      "\u001b[34m▣\u001b[0m (\u001b[1m\u001b[36mcntrd->max\u001b[0m \u001b[1m<\u001b[0m\u001b[0m 1307.4545801505142) ∧ (\u001b[1m\u001b[36mskwns->min\u001b[0m \u001b[1m≥\u001b[0m\u001b[0m 1.2677830790873983) ∧ (\u001b[1m\u001b[33mmel13=3124Hz->min\u001b[0m \u001b[1m≥\u001b[0m\u001b[0m -8.134815239307551) ∧ (\u001b[1m\u001b[36mentrp->qnt\u001b[0m \u001b[1m<\u001b[0m\u001b[0m 2.1832827078922596) ∧ (\u001b[1m\u001b[33mmel10=2106Hz->mean\u001b[0m \u001b[1m<\u001b[0m\u001b[0m -5.044707915173815)  ↣  Pneumonia : (ninstances = 101, ncovered = 24, coverage = 0.2376237623762376, confidence = 0.9583333333333334, lift = 1.9358333333333335, natoms = 5, height = 4)\n",
      "\u001b[34m▣\u001b[0m (\u001b[1m\u001b[36mcntrd->max\u001b[0m \u001b[1m≥\u001b[0m\u001b[0m 1307.4545801505142) ∧ (\u001b[1m\u001b[33mmel8=1583Hz->std\u001b[0m \u001b[1m≥\u001b[0m\u001b[0m 0.1832774060128576) ∧ (\u001b[1m\u001b[33mmel12=2749Hz->std\u001b[0m \u001b[1m<\u001b[0m\u001b[0m 0.3126195131281829)  ↣  Healthy : (ninstances = 101, ncovered = 27, coverage = 0.26732673267326734, confidence = 0.8518518518518519, lift = 1.6870007262164124, natoms = 3, height = 2)\n"
     ]
    }
   ],
   "source": [
    "printmodel.(sort(interesting_rules, by = readmetrics); show_metrics = (; round_digits = nothing, additional_metrics = (; height = r->SoleLogics.height(antecedent(r)))), variable_names_map = variable_names);"
   ]
  },
  {
   "cell_type": "markdown",
   "metadata": {},
   "source": [
    "### Pretty table of rules and their metrics"
   ]
  },
  {
   "cell_type": "code",
   "execution_count": 11,
   "metadata": {},
   "outputs": [
    {
     "name": "stdout",
     "output_type": "stream",
     "text": [
      "┌──────────────────────────────────────────────────────────────────────────────────────────────────────────────────────────────────────────────────────────────────────────────────────────────────────────────────────────────────────────────────────────────────────────────────────────────────────────────────────────────────────────────────────────────────────┬────────────┬────────────┬──────────┬────────────┬────────────┬─────────┬────────┬────────┐\n",
      "│\u001b[33;1m                                                                                                                                                                                                                                                                                                                                                           Antecedent \u001b[0m│\u001b[33;1m Consequent \u001b[0m│\u001b[33;1m ninstances \u001b[0m│\u001b[33;1m ncovered \u001b[0m│\u001b[33;1m   coverage \u001b[0m│\u001b[33;1m confidence \u001b[0m│\u001b[33;1m    lift \u001b[0m│\u001b[33;1m natoms \u001b[0m│\u001b[33;1m height \u001b[0m│\n",
      "├──────────────────────────────────────────────────────────────────────────────────────────────────────────────────────────────────────────────────────────────────────────────────────────────────────────────────────────────────────────────────────────────────────────────────────────────────────────────────────────────────────────────────────────────────────┼────────────┼────────────┼──────────┼────────────┼────────────┼─────────┼────────┼────────┤\n",
      "│ (\u001b[1m\u001b[36mcntrd->max\u001b[0m \u001b[1m<\u001b[0m\u001b[0m 1307.4545801505142) ∧ (\u001b[1m\u001b[36mskwns->min\u001b[0m \u001b[1m<\u001b[0m\u001b[0m 1.2677830790873983) ∧ (\u001b[1m\u001b[33mmel6=1157Hz->min\u001b[0m \u001b[1m<\u001b[0m\u001b[0m -5.160466644906318) ∧ (\u001b[1m\u001b[33mmel2=529Hz->min\u001b[0m \u001b[1m<\u001b[0m\u001b[0m -5.318134764797197) ∧ (\u001b[1m\u001b[33mmel7=1359Hz->qnt\u001b[0m \u001b[1m<\u001b[0m\u001b[0m 2.149699676804287) ∧ (\u001b[1m\u001b[33mmel4=811Hz->max\u001b[0m \u001b[1m≥\u001b[0m\u001b[0m -3.749222280014931) ∧ (\u001b[1m\u001b[33mmel4=811Hz->med\u001b[0m \u001b[1m≥\u001b[0m\u001b[0m -5.211889812618957) ∧ (\u001b[1m\u001b[36mentrp->mean\u001b[0m \u001b[1m<\u001b[0m\u001b[0m 0.5575021763809584) ∧ (\u001b[1m\u001b[33mmel12=2749Hz->std\u001b[0m \u001b[1m≥\u001b[0m\u001b[0m 0.32395301625944595)\u001b[0m │    Healthy │        101 │        2 │   0.019802 │        1.0 │ 1.98039 │      9 │      8 │\n",
      "│                                                                                                                          (\u001b[1m\u001b[36mcntrd->max\u001b[0m \u001b[1m<\u001b[0m\u001b[0m 1307.4545801505142) ∧ (\u001b[1m\u001b[36mskwns->min\u001b[0m \u001b[1m<\u001b[0m\u001b[0m 1.2677830790873983) ∧ (\u001b[1m\u001b[33mmel6=1157Hz->min\u001b[0m \u001b[1m<\u001b[0m\u001b[0m -5.160466644906318) ∧ (\u001b[1m\u001b[33mmel2=529Hz->min\u001b[0m \u001b[1m<\u001b[0m\u001b[0m -5.318134764797197) ∧ (\u001b[1m\u001b[33mmel7=1359Hz->qnt\u001b[0m \u001b[1m≥\u001b[0m\u001b[0m 2.149699676804287) ∧ (\u001b[1m\u001b[33mmel4=811Hz->mean\u001b[0m \u001b[1m<\u001b[0m\u001b[0m -4.890645770377672)\u001b[0m │  Pneumonia │        101 │        5 │   0.049505 │        1.0 │    2.02 │      6 │      5 │\n",
      "│                                                                                                                          (\u001b[1m\u001b[36mcntrd->max\u001b[0m \u001b[1m<\u001b[0m\u001b[0m 1307.4545801505142) ∧ (\u001b[1m\u001b[36mskwns->min\u001b[0m \u001b[1m<\u001b[0m\u001b[0m 1.2677830790873983) ∧ (\u001b[1m\u001b[33mmel6=1157Hz->min\u001b[0m \u001b[1m<\u001b[0m\u001b[0m -5.160466644906318) ∧ (\u001b[1m\u001b[33mmel2=529Hz->min\u001b[0m \u001b[1m<\u001b[0m\u001b[0m -5.318134764797197) ∧ (\u001b[1m\u001b[33mmel7=1359Hz->qnt\u001b[0m \u001b[1m≥\u001b[0m\u001b[0m 2.149699676804287) ∧ (\u001b[1m\u001b[33mmel4=811Hz->mean\u001b[0m \u001b[1m≥\u001b[0m\u001b[0m -4.890645770377672)\u001b[0m │    Healthy │        101 │        1 │ 0.00990099 │        1.0 │ 1.98039 │      6 │      5 │\n",
      "│                                                                                                                              (\u001b[1m\u001b[36mcntrd->max\u001b[0m \u001b[1m<\u001b[0m\u001b[0m 1307.4545801505142) ∧ (\u001b[1m\u001b[36mskwns->min\u001b[0m \u001b[1m<\u001b[0m\u001b[0m 1.2677830790873983) ∧ (\u001b[1m\u001b[33mmel6=1157Hz->min\u001b[0m \u001b[1m<\u001b[0m\u001b[0m -5.160466644906318) ∧ (\u001b[1m\u001b[33mmel2=529Hz->min\u001b[0m \u001b[1m≥\u001b[0m\u001b[0m -5.318134764797197) ∧ (\u001b[1m\u001b[36mcntrd->std\u001b[0m \u001b[1m<\u001b[0m\u001b[0m 246.65576782888522) ∧ (\u001b[1m\u001b[33mmel8=1583Hz->min\u001b[0m \u001b[1m<\u001b[0m\u001b[0m -5.4827932200020735)\u001b[0m │  Pneumonia │        101 │       10 │  0.0990099 │        0.9 │   1.818 │      6 │      5 │\n",
      "│                                                                                                                                                                                                                (\u001b[1m\u001b[36mcntrd->max\u001b[0m \u001b[1m<\u001b[0m\u001b[0m 1307.4545801505142) ∧ (\u001b[1m\u001b[36mskwns->min\u001b[0m \u001b[1m<\u001b[0m\u001b[0m 1.2677830790873983) ∧ (\u001b[1m\u001b[33mmel6=1157Hz->min\u001b[0m \u001b[1m≥\u001b[0m\u001b[0m -5.160466644906318) ∧ (\u001b[1m\u001b[36mflatn->min\u001b[0m \u001b[1m<\u001b[0m\u001b[0m 0.008407301030766876)\u001b[0m │    Healthy │        101 │        9 │  0.0891089 │        1.0 │ 1.98039 │      4 │      3 │\n",
      "│                                                                                                                                                                    (\u001b[1m\u001b[36mcntrd->max\u001b[0m \u001b[1m<\u001b[0m\u001b[0m 1307.4545801505142) ∧ (\u001b[1m\u001b[36mskwns->min\u001b[0m \u001b[1m<\u001b[0m\u001b[0m 1.2677830790873983) ∧ (\u001b[1m\u001b[33mmel6=1157Hz->min\u001b[0m \u001b[1m≥\u001b[0m\u001b[0m -5.160466644906318) ∧ (\u001b[1m\u001b[36mflatn->min\u001b[0m \u001b[1m≥\u001b[0m\u001b[0m 0.008407301030766876) ∧ (\u001b[1m\u001b[33mmel13=3124Hz->mean\u001b[0m \u001b[1m≥\u001b[0m\u001b[0m -5.418313296366907)\u001b[0m │    Healthy │        101 │        1 │ 0.00990099 │        1.0 │ 1.98039 │      5 │      4 │\n",
      "│                                                                                                                                                                                                                                                     (\u001b[1m\u001b[36mcntrd->max\u001b[0m \u001b[1m<\u001b[0m\u001b[0m 1307.4545801505142) ∧ (\u001b[1m\u001b[36mskwns->min\u001b[0m \u001b[1m≥\u001b[0m\u001b[0m 1.2677830790873983) ∧ (\u001b[1m\u001b[33mmel13=3124Hz->min\u001b[0m \u001b[1m<\u001b[0m\u001b[0m -8.134815239307551)\u001b[0m │    Healthy │        101 │        3 │   0.029703 │        1.0 │ 1.98039 │      3 │      2 │\n",
      "│                                                                                                                                                                     (\u001b[1m\u001b[36mcntrd->max\u001b[0m \u001b[1m<\u001b[0m\u001b[0m 1307.4545801505142) ∧ (\u001b[1m\u001b[36mskwns->min\u001b[0m \u001b[1m≥\u001b[0m\u001b[0m 1.2677830790873983) ∧ (\u001b[1m\u001b[33mmel13=3124Hz->min\u001b[0m \u001b[1m≥\u001b[0m\u001b[0m -8.134815239307551) ∧ (\u001b[1m\u001b[36mentrp->qnt\u001b[0m \u001b[1m<\u001b[0m\u001b[0m 2.1832827078922596) ∧ (\u001b[1m\u001b[33mmel10=2106Hz->mean\u001b[0m \u001b[1m<\u001b[0m\u001b[0m -5.044707915173815)\u001b[0m │  Pneumonia │        101 │       24 │   0.237624 │   0.958333 │ 1.93583 │      5 │      4 │\n",
      "│                                                                                                                                                                     (\u001b[1m\u001b[36mcntrd->max\u001b[0m \u001b[1m<\u001b[0m\u001b[0m 1307.4545801505142) ∧ (\u001b[1m\u001b[36mskwns->min\u001b[0m \u001b[1m≥\u001b[0m\u001b[0m 1.2677830790873983) ∧ (\u001b[1m\u001b[33mmel13=3124Hz->min\u001b[0m \u001b[1m≥\u001b[0m\u001b[0m -8.134815239307551) ∧ (\u001b[1m\u001b[36mentrp->qnt\u001b[0m \u001b[1m<\u001b[0m\u001b[0m 2.1832827078922596) ∧ (\u001b[1m\u001b[33mmel10=2106Hz->mean\u001b[0m \u001b[1m≥\u001b[0m\u001b[0m -5.044707915173815)\u001b[0m │    Healthy │        101 │        1 │ 0.00990099 │        1.0 │ 1.98039 │      5 │      4 │\n",
      "│                                                                                                                                                                                                                                                                                          (\u001b[1m\u001b[36mcntrd->max\u001b[0m \u001b[1m≥\u001b[0m\u001b[0m 1307.4545801505142) ∧ (\u001b[1m\u001b[33mmel8=1583Hz->std\u001b[0m \u001b[1m<\u001b[0m\u001b[0m 0.1832774060128576)\u001b[0m │  Pneumonia │        101 │        1 │ 0.00990099 │        1.0 │    2.02 │      2 │      1 │\n",
      "│                                                                                                                                                                                                                                               (\u001b[1m\u001b[36mcntrd->max\u001b[0m \u001b[1m≥\u001b[0m\u001b[0m 1307.4545801505142) ∧ (\u001b[1m\u001b[33mmel8=1583Hz->std\u001b[0m \u001b[1m≥\u001b[0m\u001b[0m 0.1832774060128576) ∧ (\u001b[1m\u001b[33mmel12=2749Hz->std\u001b[0m \u001b[1m<\u001b[0m\u001b[0m 0.3126195131281829)\u001b[0m │    Healthy │        101 │       27 │   0.267327 │   0.851852 │   1.687 │      3 │      2 │\n",
      "│                                                                                                                                                                                                    (\u001b[1m\u001b[36mcntrd->max\u001b[0m \u001b[1m≥\u001b[0m\u001b[0m 1307.4545801505142) ∧ (\u001b[1m\u001b[33mmel8=1583Hz->std\u001b[0m \u001b[1m≥\u001b[0m\u001b[0m 0.1832774060128576) ∧ (\u001b[1m\u001b[33mmel12=2749Hz->std\u001b[0m \u001b[1m≥\u001b[0m\u001b[0m 0.3126195131281829) ∧ (\u001b[1m\u001b[33mmel6=1157Hz->std\u001b[0m \u001b[1m≥\u001b[0m\u001b[0m 0.49978752260422044)\u001b[0m │    Healthy │        101 │        3 │   0.029703 │        1.0 │ 1.98039 │      4 │      3 │\n",
      "└──────────────────────────────────────────────────────────────────────────────────────────────────────────────────────────────────────────────────────────────────────────────────────────────────────────────────────────────────────────────────────────────────────────────────────────────────────────────────────────────────────────────────────────────────────┴────────────┴────────────┴──────────┴────────────┴────────────┴─────────┴────────┴────────┘\n"
     ]
    }
   ],
   "source": [
    "metricstable(interesting_rules; variable_names_map = variable_names, metrics_kwargs = (; round_digits = nothing, additional_metrics = (; height = r->SoleLogics.height(antecedent(r)))))"
   ]
  },
  {
   "cell_type": "markdown",
   "metadata": {},
   "source": [
    "# Inspect features"
   ]
  },
  {
   "cell_type": "code",
   "execution_count": 12,
   "metadata": {},
   "outputs": [
    {
     "name": "stdout",
     "output_type": "stream",
     "text": [
      "\u001b[34m▣\u001b[0m (\u001b[1m\u001b[36mcntrd->max\u001b[0m \u001b[1m<\u001b[0m\u001b[0m 1307.45) ∧ (\u001b[1m\u001b[36mskwns->min\u001b[0m \u001b[1m≥\u001b[0m\u001b[0m 1.27) ∧ (\u001b[1m\u001b[33mmel13=3124Hz->min\u001b[0m \u001b[1m≥\u001b[0m\u001b[0m -8.13) ∧ (\u001b[1m\u001b[36mentrp->qnt\u001b[0m \u001b[1m<\u001b[0m\u001b[0m 2.18) ∧ (\u001b[1m\u001b[33mmel10=2106Hz->mean\u001b[0m \u001b[1m<\u001b[0m\u001b[0m -5.04)  ↣  Pneumonia : (ninstances = 101, ncovered = 24, coverage = 0.24, confidence = 0.96, lift = 1.94, natoms = 5)\n",
      "\u001b[34m▣\u001b[0m (\u001b[1m\u001b[36mcntrd->max\u001b[0m \u001b[1m≥\u001b[0m\u001b[0m 1307.45) ∧ (\u001b[1m\u001b[33mmel8=1583Hz->std\u001b[0m \u001b[1m≥\u001b[0m\u001b[0m 0.18) ∧ (\u001b[1m\u001b[33mmel12=2749Hz->std\u001b[0m \u001b[1m<\u001b[0m\u001b[0m 0.31)  ↣  Healthy : (ninstances = 101, ncovered = 27, coverage = 0.27, confidence = 0.85, lift = 1.69, natoms = 3)\n"
     ]
    }
   ],
   "source": [
    "interesting_rules = listrules(sole_dt,\n",
    "\tmin_lift = 1.0,\n",
    "\t# min_lift = 2.0,\n",
    "\tmin_ninstances = 0,\n",
    "\tmin_coverage = 0.10,\n",
    "\tnormalize = true,\n",
    ");\n",
    "map(r->(consequent(r), readmetrics(r)), interesting_rules)\n",
    "printmodel.(interesting_rules; show_metrics = true, syntaxstring_kwargs = (; threshold_digits = 2), variable_names_map=variable_names);"
   ]
  },
  {
   "cell_type": "code",
   "execution_count": 13,
   "metadata": {},
   "outputs": [
    {
     "data": {
      "text/plain": [
       "7-element Vector{Symbol}:\n",
       " Symbol(\"cntrd->max\")\n",
       " Symbol(\"entrp->qnt\")\n",
       " Symbol(\"mel10=2106Hz->mean\")\n",
       " Symbol(\"mel12=2749Hz->std\")\n",
       " Symbol(\"mel13=3124Hz->min\")\n",
       " Symbol(\"mel8=1583Hz->std\")\n",
       " Symbol(\"skwns->min\")"
      ]
     },
     "metadata": {},
     "output_type": "display_data"
    }
   ],
   "source": [
    "interesting_features = unique(SoleData.feature.(SoleLogics.value.(vcat(SoleLogics.atoms.(i.antecedent for i in interesting_rules)...))))\n",
    "interesting_variables = sort(SoleData.i_variable.(interesting_features))"
   ]
  }
 ],
 "metadata": {
  "kernelspec": {
   "display_name": "Julia 1.10.3",
   "language": "julia",
   "name": "julia-1.10"
  },
  "language_info": {
   "file_extension": ".jl",
   "mimetype": "application/julia",
   "name": "julia",
   "version": "1.10.3"
  }
 },
 "nbformat": 4,
 "nbformat_minor": 2
}
