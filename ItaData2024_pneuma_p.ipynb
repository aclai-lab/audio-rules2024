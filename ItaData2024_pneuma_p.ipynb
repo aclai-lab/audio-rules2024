{
 "cells": [
  {
   "cell_type": "markdown",
   "metadata": {},
   "source": [
    "# ItaData2024\n",
    "propositional example"
   ]
  },
  {
   "cell_type": "code",
   "execution_count": 1,
   "metadata": {},
   "outputs": [
    {
     "name": "stderr",
     "output_type": "stream",
     "text": [
      "\u001b[32m\u001b[1m  Activating\u001b[22m\u001b[39m project at `~/Documents/Aclai/audio-rules2024`\n"
     ]
    }
   ],
   "source": [
    "using Pkg\n",
    "Pkg.activate(\".\")\n",
    "using MLJ, ModalDecisionTrees\n",
    "using SoleDecisionTreeInterface, Sole, SoleData\n",
    "using CategoricalArrays\n",
    "using DataFrames, JLD2, CSV\n",
    "using Audio911\n",
    "using Random\n",
    "using StatsBase, Catch22\n",
    "using Test\n",
    "using Plots"
   ]
  },
  {
   "cell_type": "markdown",
   "metadata": {},
   "source": [
    "### Open .jld2 file\n",
    "the file contains 504 samples of respiratory sound, labeled with 2 classes: healty and pneumonia"
   ]
  },
  {
   "cell_type": "code",
   "execution_count": 2,
   "metadata": {},
   "outputs": [],
   "source": [
    "ds_path = \"/datasets/respiratory_Healthy_Pneumonia\"\n",
    "# ds_path = \"/datasets/respiratory_Healthy_Bronchiectasis\"\n",
    "\n",
    "d = jldopen(string((@__DIR__), ds_path, \".jld2\"))\n",
    "x, y = d[\"dataframe_validated\"]\n",
    "@assert x isa DataFrame\n",
    "close(d)"
   ]
  },
  {
   "cell_type": "markdown",
   "metadata": {},
   "source": [
    "### Audio features extraction function\n",
    "This function is called for every audio sample and extract 51 features:\n",
    "26 bands of the mel spectrogram,\n",
    "13 coefficients of the mfcc\n",
    "12 spectral features: centroid, crest, entropy, f0, flatness, flux, kurtosis, rolloff, skewness, decrease, slope, spread"
   ]
  },
  {
   "cell_type": "code",
   "execution_count": 3,
   "metadata": {},
   "outputs": [
    {
     "data": {
      "text/plain": [
       "afe (generic function with 1 method)"
      ]
     },
     "metadata": {},
     "output_type": "display_data"
    }
   ],
   "source": [
    "sr = 8000\n",
    "audioparams = (\n",
    "    sr = sr,\n",
    "    nfft = 256,\n",
    "    nbands = 14,\n",
    "    freq_range = (300, round(Int, sr / 2)),\n",
    "    db_scale = true,\n",
    ")\n",
    "\n",
    "function afe(x::AbstractVector{Float64}; sr::Int64, nfft::Int64, nbands::Int64, freq_range::Tuple{Int64, Int64}, db_scale::Bool, get_only_melfreq=false)\n",
    "    # -------------------------------- parameters -------------------------------- #\n",
    "    # audio module\n",
    "    sr = sr\n",
    "    norm = true\n",
    "    speech_detection = false\n",
    "    # stft module\n",
    "    nfft = nfft\n",
    "    win_type = (:hann, :periodic)\n",
    "    win_length = nfft\n",
    "    overlap_length = round(Int, nfft / 2)\n",
    "    stft_norm = :power                      # :power, :magnitude, :pow2mag\n",
    "    # mel filterbank module\n",
    "    nbands = nbands\n",
    "    scale = :mel_htk                        # :mel_htk, :mel_slaney, :erb, :bark\n",
    "    melfb_norm = :bandwidth                 # :bandwidth, :area, :none\n",
    "    freq_range = freq_range\n",
    "    # mel spectrogram module\n",
    "    db_scale = db_scale\n",
    "\n",
    "    # --------------------------------- functions -------------------------------- #\n",
    "    # audio module\n",
    "    audio = load_audio(\n",
    "        file=x,\n",
    "        sr=sr,\n",
    "        norm=norm,\n",
    "    );\n",
    "\n",
    "    stftspec = get_stft(\n",
    "        audio=audio,\n",
    "        nfft=nfft,\n",
    "        win_type=win_type,\n",
    "        win_length=win_length,\n",
    "        overlap_length=overlap_length,\n",
    "        norm=stft_norm\n",
    "    );\n",
    "\n",
    "    # mel filterbank module\n",
    "    melfb = get_melfb(\n",
    "        stft=stftspec,\n",
    "        nbands=nbands,\n",
    "        scale=scale,\n",
    "        norm=melfb_norm,\n",
    "        freq_range=freq_range\n",
    "    );\n",
    "\n",
    "    if get_only_melfreq\n",
    "        return melfb.data.freq\n",
    "    end\n",
    "\n",
    "    # mel spectrogram module\n",
    "    melspec =  get_melspec(\n",
    "        stft=stftspec,\n",
    "        fbank=melfb,\n",
    "        db_scale=db_scale\n",
    "    );\n",
    "\n",
    "    # spectral features module\n",
    "    spect = get_spectrals(\n",
    "        source=stftspec,\n",
    "        freq_range=freq_range\n",
    "    );\n",
    "\n",
    "    hcat(\n",
    "        melspec.spec',\n",
    "        spect.centroid,\n",
    "        spect.crest,\n",
    "        spect.entropy,\n",
    "        spect.flatness,\n",
    "        spect.flux,\n",
    "        spect.kurtosis,\n",
    "        spect.rolloff,\n",
    "        spect.skewness,\n",
    "        spect.decrease,\n",
    "        spect.slope,\n",
    "        spect.spread\n",
    "    );\n",
    "end"
   ]
  },
  {
   "cell_type": "markdown",
   "metadata": {},
   "source": [
    "### Compute DataFrame of features"
   ]
  },
  {
   "cell_type": "code",
   "execution_count": 4,
   "metadata": {},
   "outputs": [],
   "source": [
    "color_code = Dict(:red => 31, :green => 32, :yellow => 33, :blue => 34, :magenta => 35, :cyan => 36)\n",
    "freq = round.(Int, afe(x[1, :audio]; audioparams..., get_only_melfreq=true))\n",
    "r_select = r\"\\e\\[\\d+m(.*?)\\e\\[0m\"\n",
    "\n",
    "catch9_f = [\"max\", \"min\", \"mean\", \"med\", \"std\", \"bsm\", \"bsd\", \"qnt\", \"3ac\"]\n",
    "variable_names = vcat([\n",
    "    vcat(\n",
    "        [\"\\e[$(color_code[:yellow])mmel$i=$(freq[i])Hz->$j\\e[0m\" for i in 1:audioparams.nbands]...,\n",
    "        \"\\e[$(color_code[:cyan])mcntrd->$j\\e[0m\", \"\\e[$(color_code[:cyan])mcrest->$j\\e[0m\",\n",
    "        \"\\e[$(color_code[:cyan])mentrp->$j\\e[0m\", \"\\e[$(color_code[:cyan])mflatn->$j\\e[0m\", \"\\e[$(color_code[:cyan])mflux->$j\\e[0m\",\n",
    "        \"\\e[$(color_code[:cyan])mkurts->$j\\e[0m\", \"\\e[$(color_code[:cyan])mrllff->$j\\e[0m\", \"\\e[$(color_code[:cyan])mskwns->$j\\e[0m\",\n",
    "        \"\\e[$(color_code[:cyan])mdecrs->$j\\e[0m\", \"\\e[$(color_code[:cyan])mslope->$j\\e[0m\", \"\\e[$(color_code[:cyan])msprd->$j\\e[0m\"\n",
    "    )\n",
    "    for j in catch9_f\n",
    "]...)\n",
    "\n",
    "# cell 5 - Data compression for propositional analysis\n",
    "catch9 = [\n",
    "    maximum,\n",
    "    minimum,\n",
    "    StatsBase.mean,\n",
    "    median,\n",
    "    std,\n",
    "    Catch22.SB_BinaryStats_mean_longstretch1,\n",
    "    Catch22.SB_BinaryStats_diff_longstretch0,\n",
    "    Catch22.SB_MotifThree_quantile_hh,\n",
    "    Catch22.SB_TransitionMatrix_3ac_sumdiagcov,\n",
    "]\n",
    "\n",
    "X = DataFrame([name => Float64[] for name in [match(r_select, v)[1] for v in variable_names]])\n",
    "\n",
    "audio_feats = [afe(row[:audio]; audioparams...) for row in eachrow(x)]\n",
    "push!(X, vcat([vcat([map(func, eachcol(row)) for func in catch9]...) for row in audio_feats])...)\n",
    "\n",
    "yc = CategoricalArray(y);"
   ]
  },
  {
   "cell_type": "markdown",
   "metadata": {},
   "source": [
    "### Compute train and test sets"
   ]
  },
  {
   "cell_type": "code",
   "execution_count": 5,
   "metadata": {},
   "outputs": [
    {
     "name": "stdout",
     "output_type": "stream",
     "text": [
      "Training set size: (403, 225) - 403\n",
      "Test set size: (101, 225) - 101\n"
     ]
    }
   ],
   "source": [
    "train_ratio = 0.8\n",
    "\n",
    "train, test = partition(eachindex(yc), train_ratio, shuffle=true)\n",
    "X_train, y_train = X[train, :], yc[train]\n",
    "X_test, y_test = X[test, :], yc[test]\n",
    "\n",
    "println(\"Training set size: \", size(X_train), \" - \", length(y_train))\n",
    "println(\"Test set size: \", size(X_test), \" - \", length(y_test))"
   ]
  },
  {
   "cell_type": "markdown",
   "metadata": {},
   "source": [
    "### Train a model"
   ]
  },
  {
   "cell_type": "code",
   "execution_count": 6,
   "metadata": {},
   "outputs": [
    {
     "name": "stderr",
     "output_type": "stream",
     "text": [
      "┌ Info: For silent loading, specify `verbosity=0`. \n",
      "└ @ Main /home/paso/.julia/packages/MLJModels/8W54X/src/loading.jl:159\n"
     ]
    },
    {
     "name": "stdout",
     "output_type": "stream",
     "text": [
      "import MLJDecisionTreeInterface ✔\n"
     ]
    },
    {
     "name": "stderr",
     "output_type": "stream",
     "text": [
      "┌ Info: Training machine(DecisionTreeClassifier(max_depth = -1, …), …).\n",
      "└ @ MLJBase /home/paso/.julia/packages/MLJBase/7nGJF/src/machines.jl:499\n"
     ]
    },
    {
     "data": {
      "text/plain": [
       "cntrd->std < 185.4\n",
       "├─ mel8=1583Hz->std < 0.3685\n",
       "│  ├─ kurts->min < 3.279\n",
       "│  │  ├─ mel8=1583Hz->std < 0.1972\n",
       "│  │  │  ├─ Pneumonia (9/9)\n",
       "│  │  │  └─ mel9=1831Hz->qnt < 1.986\n",
       "│  │  │     ├─ Pneumonia (2/2)\n",
       "│  │  │     └─ Healthy (9/9)\n",
       "│  │  └─ mel7=1359Hz->mean < -4.432\n",
       "│  │     ├─ entrp->bsm < 5.5\n",
       "│  │     │  ├─ mel5=975Hz->med < -5.615\n",
       "│  │     │  │  ⋮\n",
       "│  │     │  │  \n",
       "│  │     │  └─ Pneumonia (123/123)\n",
       "│  │     └─ Healthy (1/1)\n",
       "│  └─ mel14=3539Hz->max < -6.269\n",
       "│     ├─ mel3=663Hz->std < 1.182\n",
       "│     │  ├─ Healthy (29/29)\n",
       "│     │  └─ Pneumonia (2/2)\n",
       "│     └─ mel8=1583Hz->std < 0.6294\n",
       "│        ├─ mel2=529Hz->min < -3.655\n",
       "│        │  ├─ Pneumonia (32/32)\n",
       "│        │  └─ Healthy (1/1)\n",
       "│        └─ kurts->qnt < 2.13\n",
       "│           ├─ Healthy (13/13)\n",
       "│           └─ Pneumonia (5/5)\n",
       "└─ decrs->med < -1.063\n",
       "   ├─ Pneumonia (14/14)\n",
       "   └─ mel8=1583Hz->std < 0.1904\n",
       "      ├─ Pneumonia (5/5)\n",
       "      └─ sprd->max < 790.2\n",
       "         ├─ slope->mean < -1.027e-6\n",
       "         │  ├─ mel5=975Hz->mean < -4.548\n",
       "         │  │  ⋮\n",
       "         │  │  \n",
       "         │  └─ Pneumonia (4/4)\n",
       "         └─ Healthy (108/108)\n"
      ]
     },
     "metadata": {},
     "output_type": "display_data"
    }
   ],
   "source": [
    "learned_dt_tree = begin\n",
    "    Tree = MLJ.@load DecisionTreeClassifier pkg=DecisionTree\n",
    "    model = Tree(max_depth=-1, )\n",
    "    mach = machine(model, X_train, y_train)\n",
    "    fit!(mach)\n",
    "    fitted_params(mach).tree\n",
    "end"
   ]
  },
  {
   "cell_type": "markdown",
   "metadata": {},
   "source": [
    "### Model inspection & rule study"
   ]
  },
  {
   "cell_type": "code",
   "execution_count": 7,
   "metadata": {},
   "outputs": [
    {
     "name": "stdout",
     "output_type": "stream",
     "text": [
      "\u001b[34m▣\u001b[0m \u001b[1m\u001b[36mcntrd->std\u001b[0m \u001b[1m<\u001b[0m\u001b[0m 185.36450136158544\n",
      "├✔ \u001b[1m\u001b[33mmel8=1583Hz->std\u001b[0m \u001b[1m<\u001b[0m\u001b[0m 0.36849027868320827\n",
      "│├✔ \u001b[1m\u001b[36mkurts->min\u001b[0m \u001b[1m<\u001b[0m\u001b[0m 3.2789095834200026\n",
      "││├✔ \u001b[1m\u001b[33mmel8=1583Hz->std\u001b[0m \u001b[1m<\u001b[0m\u001b[0m 0.19723589763729776\n",
      "│││├✔ Pneumonia : (ninstances = 3, ncovered = 3, confidence = 1.0, lift = 1.0)\n",
      "│││└✘ \u001b[1m\u001b[33mmel9=1831Hz->qnt\u001b[0m \u001b[1m<\u001b[0m\u001b[0m 1.986086285479107\n",
      "│││ ├✔ Pneumonia : (ninstances = 0, ncovered = 0, confidence = NaN, lift = NaN)\n",
      "│││ └✘ Healthy : (ninstances = 3, ncovered = 3, confidence = 1.0, lift = 1.0)\n",
      "││└✘ \u001b[1m\u001b[33mmel7=1359Hz->mean\u001b[0m \u001b[1m<\u001b[0m\u001b[0m -4.432173583301696\n",
      "││ ├✔ \u001b[1m\u001b[36mentrp->bsm\u001b[0m \u001b[1m<\u001b[0m\u001b[0m 5.5\n",
      "││ │├✔ \u001b[1m\u001b[33mmel5=975Hz->med\u001b[0m \u001b[1m<\u001b[0m\u001b[0m -5.61451455943313\n",
      "││ ││├✔ Pneumonia : (ninstances = 0, ncovered = 0, confidence = NaN, lift = NaN)\n",
      "││ ││└✘ Healthy : (ninstances = 0, ncovered = 0, confidence = NaN, lift = NaN)\n",
      "││ │└✘ Pneumonia : (ninstances = 31, ncovered = 31, confidence = 0.94, lift = 1.0)\n",
      "││ └✘ Healthy : (ninstances = 0, ncovered = 0, confidence = NaN, lift = NaN)\n",
      "│└✘ \u001b[1m\u001b[33mmel14=3539Hz->max\u001b[0m \u001b[1m<\u001b[0m\u001b[0m -6.269434032853102\n",
      "│ ├✔ \u001b[1m\u001b[33mmel3=663Hz->std\u001b[0m \u001b[1m<\u001b[0m\u001b[0m 1.1824394187533702\n",
      "│ │├✔ Healthy : (ninstances = 3, ncovered = 3, confidence = 0.67, lift = 1.0)\n",
      "│ │└✘ Pneumonia : (ninstances = 0, ncovered = 0, confidence = NaN, lift = NaN)\n",
      "│ └✘ \u001b[1m\u001b[33mmel8=1583Hz->std\u001b[0m \u001b[1m<\u001b[0m\u001b[0m 0.6294040098220748\n",
      "│  ├✔ \u001b[1m\u001b[33mmel2=529Hz->min\u001b[0m \u001b[1m<\u001b[0m\u001b[0m -3.6549326768493366\n",
      "│  │├✔ Pneumonia : (ninstances = 6, ncovered = 6, confidence = 0.83, lift = 1.0)\n",
      "│  │└✘ Healthy : (ninstances = 2, ncovered = 2, confidence = 1.0, lift = 1.0)\n",
      "│  └✘ \u001b[1m\u001b[36mkurts->qnt\u001b[0m \u001b[1m<\u001b[0m\u001b[0m 2.13025203953131\n",
      "│   ├✔ Healthy : (ninstances = 3, ncovered = 3, confidence = 0.67, lift = 1.0)\n",
      "│   └✘ Pneumonia : (ninstances = 1, ncovered = 1, confidence = 1.0, lift = 1.0)\n",
      "└✘ \u001b[1m\u001b[36mdecrs->med\u001b[0m \u001b[1m<\u001b[0m\u001b[0m -1.0634279559400643\n",
      " ├✔ Pneumonia : (ninstances = 4, ncovered = 4, confidence = 0.5, lift = 1.0)\n",
      " └✘ \u001b[1m\u001b[33mmel8=1583Hz->std\u001b[0m \u001b[1m<\u001b[0m\u001b[0m 0.1903690018708441\n",
      "  ├✔ Pneumonia : (ninstances = 5, ncovered = 5, confidence = 0.8, lift = 1.0)\n",
      "  └✘ \u001b[1m\u001b[36msprd->max\u001b[0m \u001b[1m<\u001b[0m\u001b[0m 790.2373947340018\n",
      "   ├✔ \u001b[1m\u001b[36mslope->mean\u001b[0m \u001b[1m<\u001b[0m\u001b[0m -1.0265025776046623e-6\n",
      "   │├✔ \u001b[1m\u001b[33mmel5=975Hz->mean\u001b[0m \u001b[1m<\u001b[0m\u001b[0m -4.548205752283771\n",
      "   ││├✔ \u001b[1m\u001b[33mmel9=1831Hz->mean\u001b[0m \u001b[1m<\u001b[0m\u001b[0m -5.611057754685882\n",
      "   │││├✔ Healthy : (ninstances = 2, ncovered = 2, confidence = 0.5, lift = 1.0)\n",
      "   │││└✘ Pneumonia : (ninstances = 1, ncovered = 1, confidence = 0.0, lift = NaN)\n",
      "   ││└✘ Healthy : (ninstances = 3, ncovered = 3, confidence = 1.0, lift = 1.0)\n",
      "   │└✘ Pneumonia : (ninstances = 1, ncovered = 1, confidence = 1.0, lift = 1.0)\n",
      "   └✘ Healthy : (ninstances = 33, ncovered = 33, confidence = 0.91, lift = 1.0)\n"
     ]
    }
   ],
   "source": [
    "sole_dt = solemodel(learned_dt_tree)\n",
    "# Make test instances flow into the model, so that test metrics can, then, be computed.\n",
    "apply!(sole_dt, X_test, y_test);\n",
    "# Print Sole model\n",
    "printmodel(sole_dt; show_metrics = true, variable_names_map = variable_names);"
   ]
  },
  {
   "cell_type": "markdown",
   "metadata": {},
   "source": [
    "### Extract rules that are at least as good as a random baseline model"
   ]
  },
  {
   "cell_type": "code",
   "execution_count": 8,
   "metadata": {},
   "outputs": [
    {
     "name": "stdout",
     "output_type": "stream",
     "text": [
      "\u001b[34m▣\u001b[0m (\u001b[1m\u001b[36mcntrd->std\u001b[0m \u001b[1m<\u001b[0m\u001b[0m 185.36450136158544) ∧ (\u001b[1m\u001b[33mmel8=1583Hz->std\u001b[0m \u001b[1m<\u001b[0m\u001b[0m 0.36849027868320827) ∧ (\u001b[1m\u001b[36mkurts->min\u001b[0m \u001b[1m<\u001b[0m\u001b[0m 3.2789095834200026) ∧ (\u001b[1m\u001b[33mmel8=1583Hz->std\u001b[0m \u001b[1m<\u001b[0m\u001b[0m 0.19723589763729776)  ↣  Pneumonia : (ninstances = 101, ncovered = 3, coverage = 0.03, confidence = 1.0, lift = 1.98, natoms = 4)\n",
      "\u001b[34m▣\u001b[0m (\u001b[1m\u001b[36mcntrd->std\u001b[0m \u001b[1m<\u001b[0m\u001b[0m 185.36450136158544) ∧ (\u001b[1m\u001b[33mmel8=1583Hz->std\u001b[0m \u001b[1m<\u001b[0m\u001b[0m 0.36849027868320827) ∧ (\u001b[1m\u001b[36mkurts->min\u001b[0m \u001b[1m<\u001b[0m\u001b[0m 3.2789095834200026) ∧ (¬(\u001b[1m\u001b[33mmel8=1583Hz->std\u001b[0m \u001b[1m<\u001b[0m\u001b[0m 0.19723589763729776)) ∧ (¬(\u001b[1m\u001b[33mmel9=1831Hz->qnt\u001b[0m \u001b[1m<\u001b[0m\u001b[0m 1.986086285479107))  ↣  Healthy : (ninstances = 101, ncovered = 3, coverage = 0.03, confidence = 1.0, lift = 2.02, natoms = 5)\n",
      "\u001b[34m▣\u001b[0m (\u001b[1m\u001b[36mcntrd->std\u001b[0m \u001b[1m<\u001b[0m\u001b[0m 185.36450136158544) ∧ (\u001b[1m\u001b[33mmel8=1583Hz->std\u001b[0m \u001b[1m<\u001b[0m\u001b[0m 0.36849027868320827) ∧ (¬(\u001b[1m\u001b[36mkurts->min\u001b[0m \u001b[1m<\u001b[0m\u001b[0m 3.2789095834200026)) ∧ (\u001b[1m\u001b[33mmel7=1359Hz->mean\u001b[0m \u001b[1m<\u001b[0m\u001b[0m -4.432173583301696) ∧ (¬(\u001b[1m\u001b[36mentrp->bsm\u001b[0m \u001b[1m<\u001b[0m\u001b[0m 5.5))  ↣  Pneumonia : (ninstances = 101, ncovered = 31, coverage = 0.31, confidence = 0.94, lift = 1.85, natoms = 5)\n",
      "\u001b[34m▣\u001b[0m (\u001b[1m\u001b[36mcntrd->std\u001b[0m \u001b[1m<\u001b[0m\u001b[0m 185.36450136158544) ∧ (¬(\u001b[1m\u001b[33mmel8=1583Hz->std\u001b[0m \u001b[1m<\u001b[0m\u001b[0m 0.36849027868320827)) ∧ (\u001b[1m\u001b[33mmel14=3539Hz->max\u001b[0m \u001b[1m<\u001b[0m\u001b[0m -6.269434032853102) ∧ (\u001b[1m\u001b[33mmel3=663Hz->std\u001b[0m \u001b[1m<\u001b[0m\u001b[0m 1.1824394187533702)  ↣  Healthy : (ninstances = 101, ncovered = 3, coverage = 0.03, confidence = 0.67, lift = 1.35, natoms = 4)\n",
      "\u001b[34m▣\u001b[0m (\u001b[1m\u001b[36mcntrd->std\u001b[0m \u001b[1m<\u001b[0m\u001b[0m 185.36450136158544) ∧ (¬(\u001b[1m\u001b[33mmel8=1583Hz->std\u001b[0m \u001b[1m<\u001b[0m\u001b[0m 0.36849027868320827)) ∧ (¬(\u001b[1m\u001b[33mmel14=3539Hz->max\u001b[0m \u001b[1m<\u001b[0m\u001b[0m -6.269434032853102)) ∧ (\u001b[1m\u001b[33mmel8=1583Hz->std\u001b[0m \u001b[1m<\u001b[0m\u001b[0m 0.6294040098220748) ∧ (\u001b[1m\u001b[33mmel2=529Hz->min\u001b[0m \u001b[1m<\u001b[0m\u001b[0m -3.6549326768493366)  ↣  Pneumonia : (ninstances = 101, ncovered = 6, coverage = 0.06, confidence = 0.83, lift = 1.65, natoms = 5)\n",
      "\u001b[34m▣\u001b[0m (\u001b[1m\u001b[36mcntrd->std\u001b[0m \u001b[1m<\u001b[0m\u001b[0m 185.36450136158544) ∧ (¬(\u001b[1m\u001b[33mmel8=1583Hz->std\u001b[0m \u001b[1m<\u001b[0m\u001b[0m 0.36849027868320827)) ∧ (¬(\u001b[1m\u001b[33mmel14=3539Hz->max\u001b[0m \u001b[1m<\u001b[0m\u001b[0m -6.269434032853102)) ∧ (\u001b[1m\u001b[33mmel8=1583Hz->std\u001b[0m \u001b[1m<\u001b[0m\u001b[0m 0.6294040098220748) ∧ (¬(\u001b[1m\u001b[33mmel2=529Hz->min\u001b[0m \u001b[1m<\u001b[0m\u001b[0m -3.6549326768493366))  ↣  Healthy : (ninstances = 101, ncovered = 2, coverage = 0.02, confidence = 1.0, lift = 2.02, natoms = 5)\n",
      "\u001b[34m▣\u001b[0m (\u001b[1m\u001b[36mcntrd->std\u001b[0m \u001b[1m<\u001b[0m\u001b[0m 185.36450136158544) ∧ (¬(\u001b[1m\u001b[33mmel8=1583Hz->std\u001b[0m \u001b[1m<\u001b[0m\u001b[0m 0.36849027868320827)) ∧ (¬(\u001b[1m\u001b[33mmel14=3539Hz->max\u001b[0m \u001b[1m<\u001b[0m\u001b[0m -6.269434032853102)) ∧ (¬(\u001b[1m\u001b[33mmel8=1583Hz->std\u001b[0m \u001b[1m<\u001b[0m\u001b[0m 0.6294040098220748)) ∧ (\u001b[1m\u001b[36mkurts->qnt\u001b[0m \u001b[1m<\u001b[0m\u001b[0m 2.13025203953131)  ↣  Healthy : (ninstances = 101, ncovered = 3, coverage = 0.03, confidence = 0.67, lift = 1.35, natoms = 5)\n",
      "\u001b[34m▣\u001b[0m (\u001b[1m\u001b[36mcntrd->std\u001b[0m \u001b[1m<\u001b[0m\u001b[0m 185.36450136158544) ∧ (¬(\u001b[1m\u001b[33mmel8=1583Hz->std\u001b[0m \u001b[1m<\u001b[0m\u001b[0m 0.36849027868320827)) ∧ (¬(\u001b[1m\u001b[33mmel14=3539Hz->max\u001b[0m \u001b[1m<\u001b[0m\u001b[0m -6.269434032853102)) ∧ (¬(\u001b[1m\u001b[33mmel8=1583Hz->std\u001b[0m \u001b[1m<\u001b[0m\u001b[0m 0.6294040098220748)) ∧ (¬(\u001b[1m\u001b[36mkurts->qnt\u001b[0m \u001b[1m<\u001b[0m\u001b[0m 2.13025203953131))  ↣  Pneumonia : (ninstances = 101, ncovered = 1, coverage = 0.01, confidence = 1.0, lift = 1.98, natoms = 5)\n",
      "\u001b[34m▣\u001b[0m (¬(\u001b[1m\u001b[36mcntrd->std\u001b[0m \u001b[1m<\u001b[0m\u001b[0m 185.36450136158544)) ∧ (¬(\u001b[1m\u001b[36mdecrs->med\u001b[0m \u001b[1m<\u001b[0m\u001b[0m -1.0634279559400643)) ∧ (\u001b[1m\u001b[33mmel8=1583Hz->std\u001b[0m \u001b[1m<\u001b[0m\u001b[0m 0.1903690018708441)  ↣  Pneumonia : (ninstances = 101, ncovered = 5, coverage = 0.05, confidence = 0.8, lift = 1.58, natoms = 3)\n",
      "\u001b[34m▣\u001b[0m (¬(\u001b[1m\u001b[36mcntrd->std\u001b[0m \u001b[1m<\u001b[0m\u001b[0m 185.36450136158544)) ∧ (¬(\u001b[1m\u001b[36mdecrs->med\u001b[0m \u001b[1m<\u001b[0m\u001b[0m -1.0634279559400643)) ∧ (¬(\u001b[1m\u001b[33mmel8=1583Hz->std\u001b[0m \u001b[1m<\u001b[0m\u001b[0m 0.1903690018708441)) ∧ (\u001b[1m\u001b[36msprd->max\u001b[0m \u001b[1m<\u001b[0m\u001b[0m 790.2373947340018) ∧ (\u001b[1m\u001b[36mslope->mean\u001b[0m \u001b[1m<\u001b[0m\u001b[0m -1.0265025776046623e-6) ∧ (\u001b[1m\u001b[33mmel5=975Hz->mean\u001b[0m \u001b[1m<\u001b[0m\u001b[0m -4.548205752283771) ∧ (\u001b[1m\u001b[33mmel9=1831Hz->mean\u001b[0m \u001b[1m<\u001b[0m\u001b[0m -5.611057754685882)  ↣  Healthy : (ninstances = 101, ncovered = 2, coverage = 0.02, confidence = 0.5, lift = 1.01, natoms = 7)\n",
      "\u001b[34m▣\u001b[0m (¬(\u001b[1m\u001b[36mcntrd->std\u001b[0m \u001b[1m<\u001b[0m\u001b[0m 185.36450136158544)) ∧ (¬(\u001b[1m\u001b[36mdecrs->med\u001b[0m \u001b[1m<\u001b[0m\u001b[0m -1.0634279559400643)) ∧ (¬(\u001b[1m\u001b[33mmel8=1583Hz->std\u001b[0m \u001b[1m<\u001b[0m\u001b[0m 0.1903690018708441)) ∧ (\u001b[1m\u001b[36msprd->max\u001b[0m \u001b[1m<\u001b[0m\u001b[0m 790.2373947340018) ∧ (\u001b[1m\u001b[36mslope->mean\u001b[0m \u001b[1m<\u001b[0m\u001b[0m -1.0265025776046623e-6) ∧ (¬(\u001b[1m\u001b[33mmel5=975Hz->mean\u001b[0m \u001b[1m<\u001b[0m\u001b[0m -4.548205752283771))  ↣  Healthy : (ninstances = 101, ncovered = 3, coverage = 0.03, confidence = 1.0, lift = 2.02, natoms = 6)\n",
      "\u001b[34m▣\u001b[0m (¬(\u001b[1m\u001b[36mcntrd->std\u001b[0m \u001b[1m<\u001b[0m\u001b[0m 185.36450136158544)) ∧ (¬(\u001b[1m\u001b[36mdecrs->med\u001b[0m \u001b[1m<\u001b[0m\u001b[0m -1.0634279559400643)) ∧ (¬(\u001b[1m\u001b[33mmel8=1583Hz->std\u001b[0m \u001b[1m<\u001b[0m\u001b[0m 0.1903690018708441)) ∧ (\u001b[1m\u001b[36msprd->max\u001b[0m \u001b[1m<\u001b[0m\u001b[0m 790.2373947340018) ∧ (¬(\u001b[1m\u001b[36mslope->mean\u001b[0m \u001b[1m<\u001b[0m\u001b[0m -1.0265025776046623e-6))  ↣  Pneumonia : (ninstances = 101, ncovered = 1, coverage = 0.01, confidence = 1.0, lift = 1.98, natoms = 5)\n",
      "\u001b[34m▣\u001b[0m (¬(\u001b[1m\u001b[36mcntrd->std\u001b[0m \u001b[1m<\u001b[0m\u001b[0m 185.36450136158544)) ∧ (¬(\u001b[1m\u001b[36mdecrs->med\u001b[0m \u001b[1m<\u001b[0m\u001b[0m -1.0634279559400643)) ∧ (¬(\u001b[1m\u001b[33mmel8=1583Hz->std\u001b[0m \u001b[1m<\u001b[0m\u001b[0m 0.1903690018708441)) ∧ (¬(\u001b[1m\u001b[36msprd->max\u001b[0m \u001b[1m<\u001b[0m\u001b[0m 790.2373947340018))  ↣  Healthy : (ninstances = 101, ncovered = 33, coverage = 0.33, confidence = 0.91, lift = 1.84, natoms = 4)\n"
     ]
    }
   ],
   "source": [
    "interesting_rules = listrules(sole_dt, min_lift = 1.0, min_ninstances = 0);\n",
    "printmodel.(interesting_rules; show_metrics = true, variable_names_map = variable_names);"
   ]
  },
  {
   "cell_type": "markdown",
   "metadata": {},
   "source": [
    "### Simplify rules while extracting and prettify result"
   ]
  },
  {
   "cell_type": "code",
   "execution_count": 9,
   "metadata": {},
   "outputs": [
    {
     "name": "stdout",
     "output_type": "stream",
     "text": [
      "\u001b[34m▣\u001b[0m (\u001b[1m\u001b[36mcntrd->std\u001b[0m \u001b[1m<\u001b[0m\u001b[0m 185.36) ∧ (\u001b[1m\u001b[33mmel8=1583Hz->std\u001b[0m \u001b[1m<\u001b[0m\u001b[0m 0.2) ∧ (\u001b[1m\u001b[36mkurts->min\u001b[0m \u001b[1m<\u001b[0m\u001b[0m 3.28)  ↣  Pneumonia : (ninstances = 101, ncovered = 3, coverage = 0.03, confidence = 1.0, lift = 1.98, natoms = 3)\n",
      "\u001b[34m▣\u001b[0m (\u001b[1m\u001b[36mcntrd->std\u001b[0m \u001b[1m<\u001b[0m\u001b[0m 185.36) ∧ (\u001b[33mmel8=1583Hz->std\u001b[0m ∈ [0.2,0.37)) ∧ (\u001b[1m\u001b[36mkurts->min\u001b[0m \u001b[1m<\u001b[0m\u001b[0m 3.28) ∧ (\u001b[1m\u001b[33mmel9=1831Hz->qnt\u001b[0m \u001b[1m≥\u001b[0m\u001b[0m 1.99)  ↣  Healthy : (ninstances = 101, ncovered = 3, coverage = 0.03, confidence = 1.0, lift = 2.02, natoms = 4)\n",
      "\u001b[34m▣\u001b[0m (\u001b[1m\u001b[36mcntrd->std\u001b[0m \u001b[1m<\u001b[0m\u001b[0m 185.36) ∧ (\u001b[1m\u001b[33mmel8=1583Hz->std\u001b[0m \u001b[1m<\u001b[0m\u001b[0m 0.37) ∧ (\u001b[1m\u001b[36mkurts->min\u001b[0m \u001b[1m≥\u001b[0m\u001b[0m 3.28) ∧ (\u001b[1m\u001b[33mmel7=1359Hz->mean\u001b[0m \u001b[1m<\u001b[0m\u001b[0m -4.43) ∧ (\u001b[1m\u001b[36mentrp->bsm\u001b[0m \u001b[1m≥\u001b[0m\u001b[0m 5.5)  ↣  Pneumonia : (ninstances = 101, ncovered = 31, coverage = 0.31, confidence = 0.94, lift = 1.85, natoms = 5)\n",
      "\u001b[34m▣\u001b[0m (\u001b[1m\u001b[36mcntrd->std\u001b[0m \u001b[1m<\u001b[0m\u001b[0m 185.36) ∧ (\u001b[1m\u001b[33mmel8=1583Hz->std\u001b[0m \u001b[1m≥\u001b[0m\u001b[0m 0.37) ∧ (\u001b[1m\u001b[33mmel14=3539Hz->max\u001b[0m \u001b[1m<\u001b[0m\u001b[0m -6.27) ∧ (\u001b[1m\u001b[33mmel3=663Hz->std\u001b[0m \u001b[1m<\u001b[0m\u001b[0m 1.18)  ↣  Healthy : (ninstances = 101, ncovered = 3, coverage = 0.03, confidence = 0.67, lift = 1.35, natoms = 4)\n",
      "\u001b[34m▣\u001b[0m (\u001b[1m\u001b[36mcntrd->std\u001b[0m \u001b[1m<\u001b[0m\u001b[0m 185.36) ∧ (\u001b[33mmel8=1583Hz->std\u001b[0m ∈ [0.37,0.63)) ∧ (\u001b[1m\u001b[33mmel14=3539Hz->max\u001b[0m \u001b[1m≥\u001b[0m\u001b[0m -6.27) ∧ (\u001b[1m\u001b[33mmel2=529Hz->min\u001b[0m \u001b[1m<\u001b[0m\u001b[0m -3.65)  ↣  Pneumonia : (ninstances = 101, ncovered = 6, coverage = 0.06, confidence = 0.83, lift = 1.65, natoms = 4)\n",
      "\u001b[34m▣\u001b[0m (\u001b[1m\u001b[36mcntrd->std\u001b[0m \u001b[1m<\u001b[0m\u001b[0m 185.36) ∧ (\u001b[33mmel8=1583Hz->std\u001b[0m ∈ [0.37,0.63)) ∧ (\u001b[1m\u001b[33mmel14=3539Hz->max\u001b[0m \u001b[1m≥\u001b[0m\u001b[0m -6.27) ∧ (\u001b[1m\u001b[33mmel2=529Hz->min\u001b[0m \u001b[1m≥\u001b[0m\u001b[0m -3.65)  ↣  Healthy : (ninstances = 101, ncovered = 2, coverage = 0.02, confidence = 1.0, lift = 2.02, natoms = 4)\n",
      "\u001b[34m▣\u001b[0m (\u001b[1m\u001b[36mcntrd->std\u001b[0m \u001b[1m<\u001b[0m\u001b[0m 185.36) ∧ (\u001b[1m\u001b[33mmel8=1583Hz->std\u001b[0m \u001b[1m≥\u001b[0m\u001b[0m 0.63) ∧ (\u001b[1m\u001b[33mmel14=3539Hz->max\u001b[0m \u001b[1m≥\u001b[0m\u001b[0m -6.27) ∧ (\u001b[1m\u001b[36mkurts->qnt\u001b[0m \u001b[1m<\u001b[0m\u001b[0m 2.13)  ↣  Healthy : (ninstances = 101, ncovered = 3, coverage = 0.03, confidence = 0.67, lift = 1.35, natoms = 4)\n",
      "\u001b[34m▣\u001b[0m (\u001b[1m\u001b[36mcntrd->std\u001b[0m \u001b[1m<\u001b[0m\u001b[0m 185.36) ∧ (\u001b[1m\u001b[33mmel8=1583Hz->std\u001b[0m \u001b[1m≥\u001b[0m\u001b[0m 0.63) ∧ (\u001b[1m\u001b[33mmel14=3539Hz->max\u001b[0m \u001b[1m≥\u001b[0m\u001b[0m -6.27) ∧ (\u001b[1m\u001b[36mkurts->qnt\u001b[0m \u001b[1m≥\u001b[0m\u001b[0m 2.13)  ↣  Pneumonia : (ninstances = 101, ncovered = 1, coverage = 0.01, confidence = 1.0, lift = 1.98, natoms = 4)\n",
      "\u001b[34m▣\u001b[0m (\u001b[1m\u001b[36mcntrd->std\u001b[0m \u001b[1m≥\u001b[0m\u001b[0m 185.36) ∧ (\u001b[1m\u001b[36mdecrs->med\u001b[0m \u001b[1m≥\u001b[0m\u001b[0m -1.06) ∧ (\u001b[1m\u001b[33mmel8=1583Hz->std\u001b[0m \u001b[1m<\u001b[0m\u001b[0m 0.19)  ↣  Pneumonia : (ninstances = 101, ncovered = 5, coverage = 0.05, confidence = 0.8, lift = 1.58, natoms = 3)\n",
      "\u001b[34m▣\u001b[0m (\u001b[1m\u001b[36mcntrd->std\u001b[0m \u001b[1m≥\u001b[0m\u001b[0m 185.36) ∧ (\u001b[1m\u001b[36mdecrs->med\u001b[0m \u001b[1m≥\u001b[0m\u001b[0m -1.06) ∧ (\u001b[1m\u001b[33mmel8=1583Hz->std\u001b[0m \u001b[1m≥\u001b[0m\u001b[0m 0.19) ∧ (\u001b[1m\u001b[36msprd->max\u001b[0m \u001b[1m<\u001b[0m\u001b[0m 790.24) ∧ (\u001b[1m\u001b[36mslope->mean\u001b[0m \u001b[1m<\u001b[0m\u001b[0m -0.0) ∧ (\u001b[1m\u001b[33mmel5=975Hz->mean\u001b[0m \u001b[1m<\u001b[0m\u001b[0m -4.55) ∧ (\u001b[1m\u001b[33mmel9=1831Hz->mean\u001b[0m \u001b[1m<\u001b[0m\u001b[0m -5.61)  ↣  Healthy : (ninstances = 101, ncovered = 2, coverage = 0.02, confidence = 0.5, lift = 1.01, natoms = 7)\n",
      "\u001b[34m▣\u001b[0m (\u001b[1m\u001b[36mcntrd->std\u001b[0m \u001b[1m≥\u001b[0m\u001b[0m 185.36) ∧ (\u001b[1m\u001b[36mdecrs->med\u001b[0m \u001b[1m≥\u001b[0m\u001b[0m -1.06) ∧ (\u001b[1m\u001b[33mmel8=1583Hz->std\u001b[0m \u001b[1m≥\u001b[0m\u001b[0m 0.19) ∧ (\u001b[1m\u001b[36msprd->max\u001b[0m \u001b[1m<\u001b[0m\u001b[0m 790.24) ∧ (\u001b[1m\u001b[36mslope->mean\u001b[0m \u001b[1m<\u001b[0m\u001b[0m -0.0) ∧ (\u001b[1m\u001b[33mmel5=975Hz->mean\u001b[0m \u001b[1m≥\u001b[0m\u001b[0m -4.55)  ↣  Healthy : (ninstances = 101, ncovered = 3, coverage = 0.03, confidence = 1.0, lift = 2.02, natoms = 6)\n",
      "\u001b[34m▣\u001b[0m (\u001b[1m\u001b[36mcntrd->std\u001b[0m \u001b[1m≥\u001b[0m\u001b[0m 185.36) ∧ (\u001b[1m\u001b[36mdecrs->med\u001b[0m \u001b[1m≥\u001b[0m\u001b[0m -1.06) ∧ (\u001b[1m\u001b[33mmel8=1583Hz->std\u001b[0m \u001b[1m≥\u001b[0m\u001b[0m 0.19) ∧ (\u001b[1m\u001b[36msprd->max\u001b[0m \u001b[1m<\u001b[0m\u001b[0m 790.24) ∧ (\u001b[1m\u001b[36mslope->mean\u001b[0m \u001b[1m≥\u001b[0m\u001b[0m -0.0)  ↣  Pneumonia : (ninstances = 101, ncovered = 1, coverage = 0.01, confidence = 1.0, lift = 1.98, natoms = 5)\n",
      "\u001b[34m▣\u001b[0m (\u001b[1m\u001b[36mcntrd->std\u001b[0m \u001b[1m≥\u001b[0m\u001b[0m 185.36) ∧ (\u001b[1m\u001b[36mdecrs->med\u001b[0m \u001b[1m≥\u001b[0m\u001b[0m -1.06) ∧ (\u001b[1m\u001b[33mmel8=1583Hz->std\u001b[0m \u001b[1m≥\u001b[0m\u001b[0m 0.19) ∧ (\u001b[1m\u001b[36msprd->max\u001b[0m \u001b[1m≥\u001b[0m\u001b[0m 790.24)  ↣  Healthy : (ninstances = 101, ncovered = 33, coverage = 0.33, confidence = 0.91, lift = 1.84, natoms = 4)\n"
     ]
    }
   ],
   "source": [
    "interesting_rules = listrules(sole_dt, min_lift = 1.0, min_ninstances = 0, normalize = true);\n",
    "printmodel.(interesting_rules; show_metrics = true, syntaxstring_kwargs = (; threshold_digits = 2), variable_names_map = variable_names);"
   ]
  },
  {
   "cell_type": "markdown",
   "metadata": {},
   "source": [
    "### Directly access rule metrics"
   ]
  },
  {
   "cell_type": "code",
   "execution_count": 10,
   "metadata": {},
   "outputs": [
    {
     "data": {
      "text/plain": [
       "13-element Vector{@NamedTuple{ninstances::Int64, ncovered::Int64, coverage::Float64, confidence::Float64, lift::Float64, natoms::Int64}}:\n",
       " (ninstances = 101, ncovered = 3, coverage = 0.0297029702970297, confidence = 1.0, lift = 1.9803921568627452, natoms = 4)\n",
       " (ninstances = 101, ncovered = 3, coverage = 0.0297029702970297, confidence = 1.0, lift = 2.02, natoms = 5)\n",
       " (ninstances = 101, ncovered = 31, coverage = 0.3069306930693069, confidence = 0.9354838709677419, lift = 1.8526249209361163, natoms = 5)\n",
       " (ninstances = 101, ncovered = 3, coverage = 0.0297029702970297, confidence = 0.6666666666666666, lift = 1.3466666666666667, natoms = 4)\n",
       " (ninstances = 101, ncovered = 6, coverage = 0.0594059405940594, confidence = 0.8333333333333334, lift = 1.650326797385621, natoms = 5)\n",
       " (ninstances = 101, ncovered = 2, coverage = 0.019801980198019802, confidence = 1.0, lift = 2.02, natoms = 5)\n",
       " (ninstances = 101, ncovered = 3, coverage = 0.0297029702970297, confidence = 0.6666666666666666, lift = 1.3466666666666667, natoms = 5)\n",
       " (ninstances = 101, ncovered = 1, coverage = 0.009900990099009901, confidence = 1.0, lift = 1.9803921568627452, natoms = 5)\n",
       " (ninstances = 101, ncovered = 5, coverage = 0.04950495049504951, confidence = 0.8, lift = 1.5843137254901962, natoms = 3)\n",
       " (ninstances = 101, ncovered = 2, coverage = 0.019801980198019802, confidence = 0.5, lift = 1.01, natoms = 7)\n",
       " (ninstances = 101, ncovered = 3, coverage = 0.0297029702970297, confidence = 1.0, lift = 2.02, natoms = 6)\n",
       " (ninstances = 101, ncovered = 1, coverage = 0.009900990099009901, confidence = 1.0, lift = 1.9803921568627452, natoms = 5)\n",
       " (ninstances = 101, ncovered = 33, coverage = 0.32673267326732675, confidence = 0.9090909090909091, lift = 1.8363636363636364, natoms = 4)"
      ]
     },
     "metadata": {},
     "output_type": "display_data"
    }
   ],
   "source": [
    "readmetrics.(listrules(sole_dt; min_lift=1.0, min_ninstances = 0))"
   ]
  },
  {
   "cell_type": "markdown",
   "metadata": {},
   "source": [
    "### Show rules with an additional metric (syntax height of the rule's antecedent)"
   ]
  },
  {
   "cell_type": "code",
   "execution_count": 11,
   "metadata": {},
   "outputs": [
    {
     "name": "stdout",
     "output_type": "stream",
     "text": [
      "\u001b[34m▣\u001b[0m (\u001b[1m\u001b[36mcntrd->std\u001b[0m \u001b[1m<\u001b[0m\u001b[0m 185.36450136158544) ∧ (\u001b[1m\u001b[33mmel8=1583Hz->std\u001b[0m \u001b[1m≥\u001b[0m\u001b[0m 0.6294040098220748) ∧ (\u001b[1m\u001b[33mmel14=3539Hz->max\u001b[0m \u001b[1m≥\u001b[0m\u001b[0m -6.269434032853102) ∧ (\u001b[1m\u001b[36mkurts->qnt\u001b[0m \u001b[1m≥\u001b[0m\u001b[0m 2.13025203953131)  ↣  Pneumonia : (ninstances = 101, ncovered = 1, coverage = 0.009900990099009901, confidence = 1.0, lift = 1.9803921568627452, natoms = 4, height = 3)\n",
      "\u001b[34m▣\u001b[0m (\u001b[1m\u001b[36mcntrd->std\u001b[0m \u001b[1m≥\u001b[0m\u001b[0m 185.36450136158544) ∧ (\u001b[1m\u001b[36mdecrs->med\u001b[0m \u001b[1m≥\u001b[0m\u001b[0m -1.0634279559400643) ∧ (\u001b[1m\u001b[33mmel8=1583Hz->std\u001b[0m \u001b[1m≥\u001b[0m\u001b[0m 0.1903690018708441) ∧ (\u001b[1m\u001b[36msprd->max\u001b[0m \u001b[1m<\u001b[0m\u001b[0m 790.2373947340018) ∧ (\u001b[1m\u001b[36mslope->mean\u001b[0m \u001b[1m≥\u001b[0m\u001b[0m -1.0265025776046623e-6)  ↣  Pneumonia : (ninstances = 101, ncovered = 1, coverage = 0.009900990099009901, confidence = 1.0, lift = 1.9803921568627452, natoms = 5, height = 4)\n",
      "\u001b[34m▣\u001b[0m (\u001b[1m\u001b[36mcntrd->std\u001b[0m \u001b[1m≥\u001b[0m\u001b[0m 185.36450136158544) ∧ (\u001b[1m\u001b[36mdecrs->med\u001b[0m \u001b[1m≥\u001b[0m\u001b[0m -1.0634279559400643) ∧ (\u001b[1m\u001b[33mmel8=1583Hz->std\u001b[0m \u001b[1m≥\u001b[0m\u001b[0m 0.1903690018708441) ∧ (\u001b[1m\u001b[36msprd->max\u001b[0m \u001b[1m<\u001b[0m\u001b[0m 790.2373947340018) ∧ (\u001b[1m\u001b[36mslope->mean\u001b[0m \u001b[1m<\u001b[0m\u001b[0m -1.0265025776046623e-6) ∧ (\u001b[1m\u001b[33mmel5=975Hz->mean\u001b[0m \u001b[1m<\u001b[0m\u001b[0m -4.548205752283771) ∧ (\u001b[1m\u001b[33mmel9=1831Hz->mean\u001b[0m \u001b[1m<\u001b[0m\u001b[0m -5.611057754685882)  ↣  Healthy : (ninstances = 101, ncovered = 2, coverage = 0.019801980198019802, confidence = 0.5, lift = 1.01, natoms = 7, height = 6)\n",
      "\u001b[34m▣\u001b[0m (\u001b[1m\u001b[36mcntrd->std\u001b[0m \u001b[1m<\u001b[0m\u001b[0m 185.36450136158544) ∧ (\u001b[33mmel8=1583Hz->std\u001b[0m ∈ [0.36849027868320827,0.6294040098220748)) ∧ (\u001b[1m\u001b[33mmel14=3539Hz->max\u001b[0m \u001b[1m≥\u001b[0m\u001b[0m -6.269434032853102) ∧ (\u001b[1m\u001b[33mmel2=529Hz->min\u001b[0m \u001b[1m≥\u001b[0m\u001b[0m -3.6549326768493366)  ↣  Healthy : (ninstances = 101, ncovered = 2, coverage = 0.019801980198019802, confidence = 1.0, lift = 2.02, natoms = 4, height = 3)\n",
      "\u001b[34m▣\u001b[0m (\u001b[1m\u001b[36mcntrd->std\u001b[0m \u001b[1m<\u001b[0m\u001b[0m 185.36450136158544) ∧ (\u001b[1m\u001b[33mmel8=1583Hz->std\u001b[0m \u001b[1m≥\u001b[0m\u001b[0m 0.36849027868320827) ∧ (\u001b[1m\u001b[33mmel14=3539Hz->max\u001b[0m \u001b[1m<\u001b[0m\u001b[0m -6.269434032853102) ∧ (\u001b[1m\u001b[33mmel3=663Hz->std\u001b[0m \u001b[1m<\u001b[0m\u001b[0m 1.1824394187533702)  ↣  Healthy : (ninstances = 101, ncovered = 3, coverage = 0.0297029702970297, confidence = 0.6666666666666666, lift = 1.3466666666666667, natoms = 4, height = 3)\n",
      "\u001b[34m▣\u001b[0m (\u001b[1m\u001b[36mcntrd->std\u001b[0m \u001b[1m<\u001b[0m\u001b[0m 185.36450136158544) ∧ (\u001b[1m\u001b[33mmel8=1583Hz->std\u001b[0m \u001b[1m≥\u001b[0m\u001b[0m 0.6294040098220748) ∧ (\u001b[1m\u001b[33mmel14=3539Hz->max\u001b[0m \u001b[1m≥\u001b[0m\u001b[0m -6.269434032853102) ∧ (\u001b[1m\u001b[36mkurts->qnt\u001b[0m \u001b[1m<\u001b[0m\u001b[0m 2.13025203953131)  ↣  Healthy : (ninstances = 101, ncovered = 3, coverage = 0.0297029702970297, confidence = 0.6666666666666666, lift = 1.3466666666666667, natoms = 4, height = 3)\n",
      "\u001b[34m▣\u001b[0m (\u001b[1m\u001b[36mcntrd->std\u001b[0m \u001b[1m<\u001b[0m\u001b[0m 185.36450136158544) ∧ (\u001b[1m\u001b[33mmel8=1583Hz->std\u001b[0m \u001b[1m<\u001b[0m\u001b[0m 0.19723589763729776) ∧ (\u001b[1m\u001b[36mkurts->min\u001b[0m \u001b[1m<\u001b[0m\u001b[0m 3.2789095834200026)  ↣  Pneumonia : (ninstances = 101, ncovered = 3, coverage = 0.0297029702970297, confidence = 1.0, lift = 1.9803921568627452, natoms = 3, height = 2)\n",
      "\u001b[34m▣\u001b[0m (\u001b[1m\u001b[36mcntrd->std\u001b[0m \u001b[1m<\u001b[0m\u001b[0m 185.36450136158544) ∧ (\u001b[33mmel8=1583Hz->std\u001b[0m ∈ [0.19723589763729776,0.36849027868320827)) ∧ (\u001b[1m\u001b[36mkurts->min\u001b[0m \u001b[1m<\u001b[0m\u001b[0m 3.2789095834200026) ∧ (\u001b[1m\u001b[33mmel9=1831Hz->qnt\u001b[0m \u001b[1m≥\u001b[0m\u001b[0m 1.986086285479107)  ↣  Healthy : (ninstances = 101, ncovered = 3, coverage = 0.0297029702970297, confidence = 1.0, lift = 2.02, natoms = 4, height = 3)\n",
      "\u001b[34m▣\u001b[0m (\u001b[1m\u001b[36mcntrd->std\u001b[0m \u001b[1m≥\u001b[0m\u001b[0m 185.36450136158544) ∧ (\u001b[1m\u001b[36mdecrs->med\u001b[0m \u001b[1m≥\u001b[0m\u001b[0m -1.0634279559400643) ∧ (\u001b[1m\u001b[33mmel8=1583Hz->std\u001b[0m \u001b[1m≥\u001b[0m\u001b[0m 0.1903690018708441) ∧ (\u001b[1m\u001b[36msprd->max\u001b[0m \u001b[1m<\u001b[0m\u001b[0m 790.2373947340018) ∧ (\u001b[1m\u001b[36mslope->mean\u001b[0m \u001b[1m<\u001b[0m\u001b[0m -1.0265025776046623e-6) ∧ (\u001b[1m\u001b[33mmel5=975Hz->mean\u001b[0m \u001b[1m≥\u001b[0m\u001b[0m -4.548205752283771)  ↣  Healthy : (ninstances = 101, ncovered = 3, coverage = 0.0297029702970297, confidence = 1.0, lift = 2.02, natoms = 6, height = 5)\n",
      "\u001b[34m▣\u001b[0m (\u001b[1m\u001b[36mcntrd->std\u001b[0m \u001b[1m≥\u001b[0m\u001b[0m 185.36450136158544) ∧ (\u001b[1m\u001b[36mdecrs->med\u001b[0m \u001b[1m≥\u001b[0m\u001b[0m -1.0634279559400643) ∧ (\u001b[1m\u001b[33mmel8=1583Hz->std\u001b[0m \u001b[1m<\u001b[0m\u001b[0m 0.1903690018708441)  ↣  Pneumonia : (ninstances = 101, ncovered = 5, coverage = 0.04950495049504951, confidence = 0.8, lift = 1.5843137254901962, natoms = 3, height = 2)\n",
      "\u001b[34m▣\u001b[0m (\u001b[1m\u001b[36mcntrd->std\u001b[0m \u001b[1m<\u001b[0m\u001b[0m 185.36450136158544) ∧ (\u001b[33mmel8=1583Hz->std\u001b[0m ∈ [0.36849027868320827,0.6294040098220748)) ∧ (\u001b[1m\u001b[33mmel14=3539Hz->max\u001b[0m \u001b[1m≥\u001b[0m\u001b[0m -6.269434032853102) ∧ (\u001b[1m\u001b[33mmel2=529Hz->min\u001b[0m \u001b[1m<\u001b[0m\u001b[0m -3.6549326768493366)  ↣  Pneumonia : (ninstances = 101, ncovered = 6, coverage = 0.0594059405940594, confidence = 0.8333333333333334, lift = 1.650326797385621, natoms = 4, height = 3)\n",
      "\u001b[34m▣\u001b[0m (\u001b[1m\u001b[36mcntrd->std\u001b[0m \u001b[1m<\u001b[0m\u001b[0m 185.36450136158544) ∧ (\u001b[1m\u001b[33mmel8=1583Hz->std\u001b[0m \u001b[1m<\u001b[0m\u001b[0m 0.36849027868320827) ∧ (\u001b[1m\u001b[36mkurts->min\u001b[0m \u001b[1m≥\u001b[0m\u001b[0m 3.2789095834200026) ∧ (\u001b[1m\u001b[33mmel7=1359Hz->mean\u001b[0m \u001b[1m<\u001b[0m\u001b[0m -4.432173583301696) ∧ (\u001b[1m\u001b[36mentrp->bsm\u001b[0m \u001b[1m≥\u001b[0m\u001b[0m 5.5)  ↣  Pneumonia : (ninstances = 101, ncovered = 31, coverage = 0.3069306930693069, confidence = 0.9354838709677419, lift = 1.8526249209361163, natoms = 5, height = 4)\n",
      "\u001b[34m▣\u001b[0m (\u001b[1m\u001b[36mcntrd->std\u001b[0m \u001b[1m≥\u001b[0m\u001b[0m 185.36450136158544) ∧ (\u001b[1m\u001b[36mdecrs->med\u001b[0m \u001b[1m≥\u001b[0m\u001b[0m -1.0634279559400643) ∧ (\u001b[1m\u001b[33mmel8=1583Hz->std\u001b[0m \u001b[1m≥\u001b[0m\u001b[0m 0.1903690018708441) ∧ (\u001b[1m\u001b[36msprd->max\u001b[0m \u001b[1m≥\u001b[0m\u001b[0m 790.2373947340018)  ↣  Healthy : (ninstances = 101, ncovered = 33, coverage = 0.32673267326732675, confidence = 0.9090909090909091, lift = 1.8363636363636364, natoms = 4, height = 3)\n"
     ]
    }
   ],
   "source": [
    "printmodel.(sort(interesting_rules, by = readmetrics); show_metrics = (; round_digits = nothing, additional_metrics = (; height = r->SoleLogics.height(antecedent(r)))), variable_names_map = variable_names);"
   ]
  },
  {
   "cell_type": "markdown",
   "metadata": {},
   "source": [
    "### Pretty table of rules and their metrics"
   ]
  },
  {
   "cell_type": "code",
   "execution_count": 12,
   "metadata": {},
   "outputs": [
    {
     "name": "stdout",
     "output_type": "stream",
     "text": [
      "┌──────────────────────────────────────────────────────────────────────────────────────────────────────────────────────────────────────────────────────────────────────────────────────────────────────────────────────────────────────────────────────────────────────────────────┬────────────┬────────────┬──────────┬────────────┬────────────┬─────────┬────────┬────────┐\n",
      "│\u001b[33;1m                                                                                                                                                                                                                                                                       Antecedent \u001b[0m│\u001b[33;1m Consequent \u001b[0m│\u001b[33;1m ninstances \u001b[0m│\u001b[33;1m ncovered \u001b[0m│\u001b[33;1m   coverage \u001b[0m│\u001b[33;1m confidence \u001b[0m│\u001b[33;1m    lift \u001b[0m│\u001b[33;1m natoms \u001b[0m│\u001b[33;1m height \u001b[0m│\n",
      "├──────────────────────────────────────────────────────────────────────────────────────────────────────────────────────────────────────────────────────────────────────────────────────────────────────────────────────────────────────────────────────────────────────────────────┼────────────┼────────────┼──────────┼────────────┼────────────┼─────────┼────────┼────────┤\n",
      "│                                                                                                                                                                 (\u001b[1m\u001b[36mcntrd->std\u001b[0m \u001b[1m<\u001b[0m\u001b[0m 185.36450136158544) ∧ (\u001b[1m\u001b[33mmel8=1583Hz->std\u001b[0m \u001b[1m<\u001b[0m\u001b[0m 0.19723589763729776) ∧ (\u001b[1m\u001b[36mkurts->min\u001b[0m \u001b[1m<\u001b[0m\u001b[0m 3.2789095834200026)\u001b[0m │  Pneumonia │        101 │        3 │   0.029703 │        1.0 │ 1.98039 │      3 │      2 │\n",
      "│                                                                                                  (\u001b[1m\u001b[36mcntrd->std\u001b[0m \u001b[1m<\u001b[0m\u001b[0m 185.36450136158544) ∧ (\u001b[33mmel8=1583Hz->std\u001b[0m ∈ [0.19723589763729776,0.36849027868320827)) ∧ (\u001b[1m\u001b[36mkurts->min\u001b[0m \u001b[1m<\u001b[0m\u001b[0m 3.2789095834200026) ∧ (\u001b[1m\u001b[33mmel9=1831Hz->qnt\u001b[0m \u001b[1m≥\u001b[0m\u001b[0m 1.986086285479107)\u001b[0m │    Healthy │        101 │        3 │   0.029703 │        1.0 │    2.02 │      4 │      3 │\n",
      "│                                                                                                 (\u001b[1m\u001b[36mcntrd->std\u001b[0m \u001b[1m<\u001b[0m\u001b[0m 185.36450136158544) ∧ (\u001b[1m\u001b[33mmel8=1583Hz->std\u001b[0m \u001b[1m<\u001b[0m\u001b[0m 0.36849027868320827) ∧ (\u001b[1m\u001b[36mkurts->min\u001b[0m \u001b[1m≥\u001b[0m\u001b[0m 3.2789095834200026) ∧ (\u001b[1m\u001b[33mmel7=1359Hz->mean\u001b[0m \u001b[1m<\u001b[0m\u001b[0m -4.432173583301696) ∧ (\u001b[1m\u001b[36mentrp->bsm\u001b[0m \u001b[1m≥\u001b[0m\u001b[0m 5.5)\u001b[0m │  Pneumonia │        101 │       31 │   0.306931 │   0.935484 │ 1.85262 │      5 │      4 │\n",
      "│                                                                                                                 (\u001b[1m\u001b[36mcntrd->std\u001b[0m \u001b[1m<\u001b[0m\u001b[0m 185.36450136158544) ∧ (\u001b[1m\u001b[33mmel8=1583Hz->std\u001b[0m \u001b[1m≥\u001b[0m\u001b[0m 0.36849027868320827) ∧ (\u001b[1m\u001b[33mmel14=3539Hz->max\u001b[0m \u001b[1m<\u001b[0m\u001b[0m -6.269434032853102) ∧ (\u001b[1m\u001b[33mmel3=663Hz->std\u001b[0m \u001b[1m<\u001b[0m\u001b[0m 1.1824394187533702)\u001b[0m │    Healthy │        101 │        3 │   0.029703 │   0.666667 │ 1.34667 │      4 │      3 │\n",
      "│                                                                                           (\u001b[1m\u001b[36mcntrd->std\u001b[0m \u001b[1m<\u001b[0m\u001b[0m 185.36450136158544) ∧ (\u001b[33mmel8=1583Hz->std\u001b[0m ∈ [0.36849027868320827,0.6294040098220748)) ∧ (\u001b[1m\u001b[33mmel14=3539Hz->max\u001b[0m \u001b[1m≥\u001b[0m\u001b[0m -6.269434032853102) ∧ (\u001b[1m\u001b[33mmel2=529Hz->min\u001b[0m \u001b[1m<\u001b[0m\u001b[0m -3.6549326768493366)\u001b[0m │  Pneumonia │        101 │        6 │  0.0594059 │   0.833333 │ 1.65033 │      4 │      3 │\n",
      "│                                                                                           (\u001b[1m\u001b[36mcntrd->std\u001b[0m \u001b[1m<\u001b[0m\u001b[0m 185.36450136158544) ∧ (\u001b[33mmel8=1583Hz->std\u001b[0m ∈ [0.36849027868320827,0.6294040098220748)) ∧ (\u001b[1m\u001b[33mmel14=3539Hz->max\u001b[0m \u001b[1m≥\u001b[0m\u001b[0m -6.269434032853102) ∧ (\u001b[1m\u001b[33mmel2=529Hz->min\u001b[0m \u001b[1m≥\u001b[0m\u001b[0m -3.6549326768493366)\u001b[0m │    Healthy │        101 │        2 │   0.019802 │        1.0 │    2.02 │      4 │      3 │\n",
      "│                                                                                                                         (\u001b[1m\u001b[36mcntrd->std\u001b[0m \u001b[1m<\u001b[0m\u001b[0m 185.36450136158544) ∧ (\u001b[1m\u001b[33mmel8=1583Hz->std\u001b[0m \u001b[1m≥\u001b[0m\u001b[0m 0.6294040098220748) ∧ (\u001b[1m\u001b[33mmel14=3539Hz->max\u001b[0m \u001b[1m≥\u001b[0m\u001b[0m -6.269434032853102) ∧ (\u001b[1m\u001b[36mkurts->qnt\u001b[0m \u001b[1m<\u001b[0m\u001b[0m 2.13025203953131)\u001b[0m │    Healthy │        101 │        3 │   0.029703 │   0.666667 │ 1.34667 │      4 │      3 │\n",
      "│                                                                                                                         (\u001b[1m\u001b[36mcntrd->std\u001b[0m \u001b[1m<\u001b[0m\u001b[0m 185.36450136158544) ∧ (\u001b[1m\u001b[33mmel8=1583Hz->std\u001b[0m \u001b[1m≥\u001b[0m\u001b[0m 0.6294040098220748) ∧ (\u001b[1m\u001b[33mmel14=3539Hz->max\u001b[0m \u001b[1m≥\u001b[0m\u001b[0m -6.269434032853102) ∧ (\u001b[1m\u001b[36mkurts->qnt\u001b[0m \u001b[1m≥\u001b[0m\u001b[0m 2.13025203953131)\u001b[0m │  Pneumonia │        101 │        1 │ 0.00990099 │        1.0 │ 1.98039 │      4 │      3 │\n",
      "│                                                                                                                                                                 (\u001b[1m\u001b[36mcntrd->std\u001b[0m \u001b[1m≥\u001b[0m\u001b[0m 185.36450136158544) ∧ (\u001b[1m\u001b[36mdecrs->med\u001b[0m \u001b[1m≥\u001b[0m\u001b[0m -1.0634279559400643) ∧ (\u001b[1m\u001b[33mmel8=1583Hz->std\u001b[0m \u001b[1m<\u001b[0m\u001b[0m 0.1903690018708441)\u001b[0m │  Pneumonia │        101 │        5 │   0.049505 │        0.8 │ 1.58431 │      3 │      2 │\n",
      "│ (\u001b[1m\u001b[36mcntrd->std\u001b[0m \u001b[1m≥\u001b[0m\u001b[0m 185.36450136158544) ∧ (\u001b[1m\u001b[36mdecrs->med\u001b[0m \u001b[1m≥\u001b[0m\u001b[0m -1.0634279559400643) ∧ (\u001b[1m\u001b[33mmel8=1583Hz->std\u001b[0m \u001b[1m≥\u001b[0m\u001b[0m 0.1903690018708441) ∧ (\u001b[1m\u001b[36msprd->max\u001b[0m \u001b[1m<\u001b[0m\u001b[0m 790.2373947340018) ∧ (\u001b[1m\u001b[36mslope->mean\u001b[0m \u001b[1m<\u001b[0m\u001b[0m -1.0265025776046623e-6) ∧ (\u001b[1m\u001b[33mmel5=975Hz->mean\u001b[0m \u001b[1m<\u001b[0m\u001b[0m -4.548205752283771) ∧ (\u001b[1m\u001b[33mmel9=1831Hz->mean\u001b[0m \u001b[1m<\u001b[0m\u001b[0m -5.611057754685882)\u001b[0m │    Healthy │        101 │        2 │   0.019802 │        0.5 │    1.01 │      7 │      6 │\n",
      "│                                            (\u001b[1m\u001b[36mcntrd->std\u001b[0m \u001b[1m≥\u001b[0m\u001b[0m 185.36450136158544) ∧ (\u001b[1m\u001b[36mdecrs->med\u001b[0m \u001b[1m≥\u001b[0m\u001b[0m -1.0634279559400643) ∧ (\u001b[1m\u001b[33mmel8=1583Hz->std\u001b[0m \u001b[1m≥\u001b[0m\u001b[0m 0.1903690018708441) ∧ (\u001b[1m\u001b[36msprd->max\u001b[0m \u001b[1m<\u001b[0m\u001b[0m 790.2373947340018) ∧ (\u001b[1m\u001b[36mslope->mean\u001b[0m \u001b[1m<\u001b[0m\u001b[0m -1.0265025776046623e-6) ∧ (\u001b[1m\u001b[33mmel5=975Hz->mean\u001b[0m \u001b[1m≥\u001b[0m\u001b[0m -4.548205752283771)\u001b[0m │    Healthy │        101 │        3 │   0.029703 │        1.0 │    2.02 │      6 │      5 │\n",
      "│                                                                                      (\u001b[1m\u001b[36mcntrd->std\u001b[0m \u001b[1m≥\u001b[0m\u001b[0m 185.36450136158544) ∧ (\u001b[1m\u001b[36mdecrs->med\u001b[0m \u001b[1m≥\u001b[0m\u001b[0m -1.0634279559400643) ∧ (\u001b[1m\u001b[33mmel8=1583Hz->std\u001b[0m \u001b[1m≥\u001b[0m\u001b[0m 0.1903690018708441) ∧ (\u001b[1m\u001b[36msprd->max\u001b[0m \u001b[1m<\u001b[0m\u001b[0m 790.2373947340018) ∧ (\u001b[1m\u001b[36mslope->mean\u001b[0m \u001b[1m≥\u001b[0m\u001b[0m -1.0265025776046623e-6)\u001b[0m │  Pneumonia │        101 │        1 │ 0.00990099 │        1.0 │ 1.98039 │      5 │      4 │\n",
      "│                                                                                                                               (\u001b[1m\u001b[36mcntrd->std\u001b[0m \u001b[1m≥\u001b[0m\u001b[0m 185.36450136158544) ∧ (\u001b[1m\u001b[36mdecrs->med\u001b[0m \u001b[1m≥\u001b[0m\u001b[0m -1.0634279559400643) ∧ (\u001b[1m\u001b[33mmel8=1583Hz->std\u001b[0m \u001b[1m≥\u001b[0m\u001b[0m 0.1903690018708441) ∧ (\u001b[1m\u001b[36msprd->max\u001b[0m \u001b[1m≥\u001b[0m\u001b[0m 790.2373947340018)\u001b[0m │    Healthy │        101 │       33 │   0.326733 │   0.909091 │ 1.83636 │      4 │      3 │\n",
      "└──────────────────────────────────────────────────────────────────────────────────────────────────────────────────────────────────────────────────────────────────────────────────────────────────────────────────────────────────────────────────────────────────────────────────┴────────────┴────────────┴──────────┴────────────┴────────────┴─────────┴────────┴────────┘\n"
     ]
    }
   ],
   "source": [
    "metricstable(interesting_rules; variable_names_map = variable_names, metrics_kwargs = (; round_digits = nothing, additional_metrics = (; height = r->SoleLogics.height(antecedent(r)))))"
   ]
  }
 ],
 "metadata": {
  "kernelspec": {
   "display_name": "Julia 1.10.4",
   "language": "julia",
   "name": "julia-1.10"
  },
  "language_info": {
   "file_extension": ".jl",
   "mimetype": "application/julia",
   "name": "julia",
   "version": "1.10.4"
  }
 },
 "nbformat": 4,
 "nbformat_minor": 2
}
