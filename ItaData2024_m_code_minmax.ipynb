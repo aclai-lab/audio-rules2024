{
 "cells": [
  {
   "cell_type": "markdown",
   "metadata": {},
   "source": [
    "# ItaData2024\n",
    "modal example"
   ]
  },
  {
   "cell_type": "code",
   "execution_count": 1,
   "metadata": {},
   "outputs": [],
   "source": [
    "using MLJ, ModalDecisionTrees\n",
    "using SoleDecisionTreeInterface, Sole, SoleData\n",
    "using CategoricalArrays\n",
    "using DataFrames, JLD2, CSV\n",
    "using Audio911\n",
    "using Random"
   ]
  },
  {
   "cell_type": "markdown",
   "metadata": {},
   "source": [
    "### Open .jld2 file\n",
    "the file contains 504 samples of respiratory sound, labeled with 2 classes: healty and pneumonia"
   ]
  },
  {
   "cell_type": "code",
   "execution_count": 2,
   "metadata": {},
   "outputs": [],
   "source": [
    "ds_path = \"/datasets/respiratory_Healthy_Pneumonia\"\n",
    "\n",
    "d = jldopen(string((@__DIR__), ds_path, \".jld2\"))\n",
    "x, y = d[\"dataframe_validated\"]\n",
    "@assert x isa DataFrame\n",
    "close(d)"
   ]
  },
  {
   "cell_type": "markdown",
   "metadata": {},
   "source": [
    "### Audio features extraction function\n",
    "This function is called for every audio sample and extract 51 features:\n",
    "26 bands of the mel spectrogram,\n",
    "13 coefficients of the mfcc\n",
    "12 spectral features: centroid, crest, entropy, f0, flatness, flux, kurtosis, rolloff, skewness, decrease, slope, spread"
   ]
  },
  {
   "cell_type": "code",
   "execution_count": 3,
   "metadata": {},
   "outputs": [
    {
     "data": {
      "text/plain": [
       "afe (generic function with 1 method)"
      ]
     },
     "metadata": {},
     "output_type": "display_data"
    }
   ],
   "source": [
    "nan_replacer!(x::AbstractArray{Float64}) = replace!(x, NaN => 0.0)\n",
    "\n",
    "function afe(x::AbstractVector{Float64}; get_only_melfreq=false)\n",
    "    # -------------------------------- parameters -------------------------------- #\n",
    "    # audio module\n",
    "    sr = 8000\n",
    "    norm = true\n",
    "    speech_detection = false\n",
    "    # stft module\n",
    "    stft_length = 256\n",
    "    win_type = (:hann, :periodic)\n",
    "    win_length = 256\n",
    "    overlap_length = 128\n",
    "    stft_norm = :power                      # :power, :magnitude, :pow2mag\n",
    "    # mel filterbank module\n",
    "    nbands = 26\n",
    "    scale = :mel_htk                        # :mel_htk, :mel_slaney, :erb, :bark\n",
    "    melfb_norm = :bandwidth                 # :bandwidth, :area, :none\n",
    "    freq_range = (300, round(Int, sr / 2))\n",
    "    # mel spectrogram module\n",
    "    db_scale = false\n",
    "    # mfcc module\n",
    "    ncoeffs = 13\n",
    "    rectification = :log                    # :log, :cubic_root\n",
    "    dither = true\n",
    "    # f0 module\n",
    "    method = :nfc\n",
    "    f0_range = (50, 400)\n",
    "\n",
    "    # --------------------------------- functions -------------------------------- #\n",
    "    # audio module\n",
    "    audio = load_audio(\n",
    "        file=x,\n",
    "        sr=sr,\n",
    "        norm=norm,\n",
    "    );\n",
    "\n",
    "    stftspec = get_stft(\n",
    "        audio=audio,\n",
    "        stft_length=stft_length,\n",
    "        win_type=win_type,\n",
    "        win_length=win_length,\n",
    "        overlap_length=overlap_length,\n",
    "        norm=stft_norm\n",
    "    );\n",
    "\n",
    "    # mel filterbank module\n",
    "    melfb = get_melfb(\n",
    "        stft=stftspec,\n",
    "        nbands=nbands,\n",
    "        scale=scale,\n",
    "        norm=melfb_norm,\n",
    "        freq_range=freq_range\n",
    "    );\n",
    "\n",
    "    if get_only_melfreq\n",
    "        return melfb.freq\n",
    "    end\n",
    "\n",
    "    # mel spectrogram module\n",
    "    melspec =  get_melspec(\n",
    "        stft=stftspec,\n",
    "        fbank=melfb,\n",
    "        db_scale=db_scale\n",
    "    );\n",
    "\n",
    "    # mfcc module\n",
    "    mfcc = get_mfcc(\n",
    "        source=melspec,\n",
    "        ncoeffs=ncoeffs,\n",
    "        rectification=rectification,\n",
    "        dither=dither,\n",
    "    );\n",
    "\n",
    "    # f0 module\n",
    "    f0 = get_f0(\n",
    "        source=stftspec,\n",
    "        method=method,\n",
    "        freq_range=f0_range\n",
    "    );\n",
    "\n",
    "    # spectral features module\n",
    "    spect = get_spectrals(\n",
    "        source=stftspec,\n",
    "        freq_range=freq_range\n",
    "    );\n",
    "\n",
    "    x_features = hcat(\n",
    "        melspec.spec',\n",
    "        mfcc.mfcc',\n",
    "        f0.f0,\n",
    "        spect.centroid,\n",
    "        spect.crest,\n",
    "        spect.entropy,\n",
    "        spect.flatness,\n",
    "        spect.flux,\n",
    "        spect.kurtosis,\n",
    "        spect.rolloff,\n",
    "        spect.skewness,\n",
    "        spect.decrease,\n",
    "        spect.slope,\n",
    "        spect.spread\n",
    "    );\n",
    "\n",
    "    nan_replacer!(x_features)\n",
    "\n",
    "    return x_features\n",
    "end"
   ]
  },
  {
   "cell_type": "markdown",
   "metadata": {},
   "source": [
    "### Compute DataFrame of features"
   ]
  },
  {
   "cell_type": "code",
   "execution_count": 4,
   "metadata": {},
   "outputs": [],
   "source": [
    "color_code = Dict(:red => 31, :green => 32, :yellow => 33, :blue => 34, :magenta => 35, :cyan => 36)\n",
    "freq = round.(Int, afe(x[1, :audio]; get_only_melfreq=true))\n",
    "r_select = r\"\\e\\[\\d+m(.*?)\\e\\[0m\"\n",
    "variable_names = [\n",
    "    [\"\\e[$(color_code[:yellow])mmel$i=$(freq[i])Hz\\e[0m\" for i in 1:26]...,\n",
    "    [\"\\e[$(color_code[:red])mmfcc$i\\e[0m\" for i in 1:13]...,\n",
    "    \"\\e[$(color_code[:green])mf0\\e[0m\", \"\\e[$(color_code[:cyan])mcntrd\\e[0m\", \"\\e[$(color_code[:cyan])mcrest\\e[0m\",\n",
    "    \"\\e[$(color_code[:cyan])mentrp\\e[0m\", \"\\e[$(color_code[:cyan])mflatn\\e[0m\", \"\\e[$(color_code[:cyan])mflux\\e[0m\",\n",
    "    \"\\e[$(color_code[:cyan])mkurts\\e[0m\", \"\\e[$(color_code[:cyan])mrllff\\e[0m\", \"\\e[$(color_code[:cyan])mskwns\\e[0m\",\n",
    "    \"\\e[$(color_code[:cyan])mdecrs\\e[0m\", \"\\e[$(color_code[:cyan])mslope\\e[0m\", \"\\e[$(color_code[:cyan])msprd\\e[0m\"\n",
    "]\n",
    "\n",
    "X = DataFrame([name => Vector{Float64}[] for name in [match(r_select, v)[1] for v in variable_names]])\n",
    "\n",
    "features = [minimum, maximum]\n",
    "\n",
    "for i in 1:nrow(x)\n",
    "    push!(X, collect(eachcol(afe(x[i, :audio]))))\n",
    "end\n",
    "\n",
    "yc = CategoricalArray(y);"
   ]
  },
  {
   "cell_type": "markdown",
   "metadata": {},
   "source": [
    "### Data compression for modal analysis"
   ]
  },
  {
   "cell_type": "code",
   "execution_count": 5,
   "metadata": {},
   "outputs": [
    {
     "name": "stdout",
     "output_type": "stream",
     "text": [
      "Training set size: (403, 51) - 403\n",
      "Test set size: (101, 51) - 101\n"
     ]
    }
   ],
   "source": [
    "train_ratio = 0.8\n",
    "train, test = partition(eachindex(yc), train_ratio, shuffle=true)\n",
    "# train, test = partition(eachindex(yc), train_ratio, shuffle=false) ### Debug\n",
    "X_train, y_train = X[train, :], yc[train]\n",
    "X_test, y_test = X[test, :], yc[test]\n",
    "\n",
    "println(\"Training set size: \", size(X_train), \" - \", length(y_train))\n",
    "println(\"Test set size: \", size(X_test), \" - \", length(y_test))"
   ]
  },
  {
   "cell_type": "markdown",
   "metadata": {},
   "source": [
    "### Train a model"
   ]
  },
  {
   "cell_type": "code",
   "execution_count": 6,
   "metadata": {},
   "outputs": [
    {
     "name": "stderr",
     "output_type": "stream",
     "text": [
      "┌ Info: Precomputing logiset...\n",
      "└ @ ModalDecisionTrees.MLJInterface /home/paso/.julia/dev/ModalDecisionTrees.jl/src/interfaces/MLJ/wrapdataset.jl:135\n",
      "┌ Info: Training machine(ModalDecisionTree(max_depth = nothing, …), …).\n",
      "└ @ MLJBase /home/paso/.julia/packages/MLJBase/7nGJF/src/machines.jl:499\n"
     ]
    },
    {
     "name": "stdout",
     "output_type": "stream",
     "text": [
      "▣ ⟨G⟩(min[\u001b[31mmfcc3\u001b[0m] < -0.49560830522534305)\n",
      "├✔ ⟨G⟩((min[\u001b[31mmfcc3\u001b[0m] < -0.49560830522534305) ∧ ⟨A̅O̅⟩(min[\u001b[36mcntrd\u001b[0m] ≥ 1232.5140291243235))\n",
      "│├✔ ⟨G⟩((min[\u001b[31mmfcc3\u001b[0m] < -0.49560830522534305) ∧ ⟨A̅O̅⟩((min[\u001b[36mcntrd\u001b[0m] ≥ 1232.5140291243235) ∧ (min[\u001b[36mskwns\u001b[0m] ≥ 0.6444504128467891)))\n",
      "││├✔ Healthy\n",
      "││└✘ ⟨G⟩((min[\u001b[31mmfcc3\u001b[0m] < -0.49560830522534305) ∧ ⟨A̅O̅⟩((min[\u001b[36mcntrd\u001b[0m] ≥ 1232.5140291243235) ∧ ⟨G⟩(min[\u001b[31mmfcc7\u001b[0m] < -1.2128523450308333)))\n",
      "││ ├✔ Healthy\n",
      "││ └✘ Pneumonia\n",
      "│└✘ ⟨G⟩((min[\u001b[31mmfcc3\u001b[0m] < -0.49560830522534305) ∧ (min[\u001b[33mmel10=1074Hz\u001b[0m] < 2.3116095963813164e-7))\n",
      "│ ├✔ Healthy\n",
      "│ └✘ ⟨G⟩((min[\u001b[31mmfcc3\u001b[0m] < -0.49560830522534305) ∧ (min[\u001b[33mmel11=1179Hz\u001b[0m] < 7.3804430852378596e-6))\n",
      "│  ├✔ ⟨G⟩((min[\u001b[31mmfcc3\u001b[0m] < -0.49560830522534305) ∧ (min[\u001b[33mmel11=1179Hz\u001b[0m] < 7.3804430852378596e-6) ∧ ⟨D̅B̅E̅⟩(max[\u001b[31mmfcc9\u001b[0m] < 0.1420268767345329))\n",
      "│  │├✔ Pneumonia\n",
      "│  │└✘ ⟨G⟩((min[\u001b[31mmfcc3\u001b[0m] < -0.49560830522534305) ∧ (min[\u001b[33mmel11=1179Hz\u001b[0m] < 7.3804430852378596e-6) ∧ (min[\u001b[33mmel9=975Hz\u001b[0m] < 7.1760123676389365e-6))\n",
      "│  │ ├✔ ⟨G⟩((min[\u001b[31mmfcc3\u001b[0m] < -0.49560830522534305) ∧ (min[\u001b[33mmel11=1179Hz\u001b[0m] < 7.3804430852378596e-6) ∧ ⟨A̅O̅⟩(max[\u001b[33mmel13=1407Hz\u001b[0m] < 4.4307734348781264e-7))\n",
      "│  │ │├✔ Pneumonia\n",
      "│  │ │└✘ Healthy\n",
      "│  │ └✘ Pneumonia\n",
      "│  └✘ ⟨G⟩((min[\u001b[31mmfcc3\u001b[0m] < -0.49560830522534305) ∧ (min[\u001b[31mmfcc13\u001b[0m] ≥ 0.685017729691313))\n",
      "│   ├✔ Pneumonia\n",
      "│   └✘ Healthy\n",
      "└✘ ⟨G⟩(min[\u001b[31mmfcc2\u001b[0m] < 1.496891913461671)\n",
      " ├✔ ⟨G⟩((min[\u001b[31mmfcc2\u001b[0m] < 1.496891913461671) ∧ (min[\u001b[33mmel1=359Hz\u001b[0m] ≥ 2.2126004965942748e-5))\n",
      " │├✔ Healthy\n",
      " │└✘ Pneumonia\n",
      " └✘ ⟨G⟩(min[\u001b[33mmel25=3491Hz\u001b[0m] < 8.801223697933641e-7)\n",
      "  ├✔ Pneumonia\n",
      "  └✘ ⟨G⟩(min[\u001b[33mmel9=975Hz\u001b[0m] ≥ 0.00025700904892924563)\n",
      "   ├✔ Healthy\n",
      "   └✘ Pneumonia\n"
     ]
    }
   ],
   "source": [
    "learned_dt_tree = begin\n",
    "    model = ModalDecisionTree(; relations = :IA7, features = features)\n",
    "    mach = machine(model, X_train, y_train) |> fit!\n",
    "end\n",
    "\n",
    "report(learned_dt_tree).printmodel(variable_names_map=variable_names);"
   ]
  },
  {
   "cell_type": "markdown",
   "metadata": {},
   "source": [
    "### Model inspection & rule study"
   ]
  },
  {
   "cell_type": "code",
   "execution_count": 7,
   "metadata": {},
   "outputs": [
    {
     "name": "stderr",
     "output_type": "stream",
     "text": [
      "\u001b[32mApplying tree... 100%|███████████████████████████████████| Time: 0:00:07\u001b[39m\n"
     ]
    },
    {
     "name": "stdout",
     "output_type": "stream",
     "text": [
      "▣ ⟨G⟩(min[\u001b[31mmfcc3\u001b[0m] < -0.49560830522534305)\n",
      "├✔ ⟨G⟩((min[\u001b[31mmfcc3\u001b[0m] < -0.49560830522534305) ∧ ⟨A̅O̅⟩(min[\u001b[36mcntrd\u001b[0m] ≥ 1232.5140291243235))\n",
      "│├✔ ⟨G⟩((min[\u001b[31mmfcc3\u001b[0m] < -0.49560830522534305) ∧ ⟨A̅O̅⟩((min[\u001b[36mcntrd\u001b[0m] ≥ 1232.5140291243235) ∧ (min[\u001b[36mskwns\u001b[0m] ≥ 0.6444504128467891)))\n",
      "││├✔ ⟨G⟩((min[\u001b[31mmfcc3\u001b[0m] < -0.49560830522534305) ∧ ⟨A̅O̅⟩((min[\u001b[36mcntrd\u001b[0m] ≥ 1232.5140291243235) ∧ (min[\u001b[36mskwns\u001b[0m] ≥ 0.6444504128467891) ∧ ⟨G⟩(min[\u001b[31mmfcc3\u001b[0m] ≥ 0.377997290238297)))\n",
      "│││├✔ Healthy : (ninstances = 26, ncovered = 26, confidence = 0.88, lift = 1.0)\n",
      "│││└✘ Healthy : (ninstances = 0, ncovered = 0, confidence = NaN, lift = NaN)\n",
      "││└✘ ⟨G⟩((min[\u001b[31mmfcc3\u001b[0m] < -0.49560830522534305) ∧ ⟨A̅O̅⟩((min[\u001b[36mcntrd\u001b[0m] ≥ 1232.5140291243235) ∧ ⟨G⟩(min[\u001b[31mmfcc7\u001b[0m] < -1.2128523450308333)))\n",
      "││ ├✔ Healthy : (ninstances = 2, ncovered = 2, confidence = 0.0, lift = NaN)\n",
      "││ └✘ Pneumonia : (ninstances = 1, ncovered = 1, confidence = 0.0, lift = NaN)\n",
      "│└✘ ⟨G⟩((min[\u001b[31mmfcc3\u001b[0m] < -0.49560830522534305) ∧ (min[\u001b[33mmel10=1074Hz\u001b[0m] < 2.3116095963813164e-7))\n",
      "│ ├✔ Healthy : (ninstances = 8, ncovered = 8, confidence = 0.62, lift = 1.0)\n",
      "│ └✘ ⟨G⟩((min[\u001b[31mmfcc3\u001b[0m] < -0.49560830522534305) ∧ (min[\u001b[33mmel11=1179Hz\u001b[0m] < 7.3804430852378596e-6))\n",
      "│  ├✔ ⟨G⟩((min[\u001b[31mmfcc3\u001b[0m] < -0.49560830522534305) ∧ (min[\u001b[33mmel11=1179Hz\u001b[0m] < 7.3804430852378596e-6) ∧ ⟨D̅B̅E̅⟩(max[\u001b[31mmfcc9\u001b[0m] < 0.1420268767345329))\n",
      "│  │├✔ ⟨G⟩((min[\u001b[31mmfcc3\u001b[0m] < -0.49560830522534305) ∧ (min[\u001b[33mmel11=1179Hz\u001b[0m] < 7.3804430852378596e-6) ∧ ⟨D̅B̅E̅⟩((max[\u001b[31mmfcc9\u001b[0m] < 0.1420268767345329) ∧ (max[\u001b[33mmel1=359Hz\u001b[0m] ≥ 0.0075525705629675075)))\n",
      "│  ││├✔ Pneumonia : (ninstances = 1, ncovered = 1, confidence = 1.0, lift = 1.0)\n",
      "│  ││└✘ Pneumonia : (ninstances = 11, ncovered = 11, confidence = 0.73, lift = 1.0)\n",
      "│  │└✘ ⟨G⟩((min[\u001b[31mmfcc3\u001b[0m] < -0.49560830522534305) ∧ (min[\u001b[33mmel11=1179Hz\u001b[0m] < 7.3804430852378596e-6) ∧ (min[\u001b[33mmel9=975Hz\u001b[0m] < 7.1760123676389365e-6))\n",
      "│  │ ├✔ ⟨G⟩((min[\u001b[31mmfcc3\u001b[0m] < -0.49560830522534305) ∧ (min[\u001b[33mmel11=1179Hz\u001b[0m] < 7.3804430852378596e-6) ∧ ⟨A̅O̅⟩(max[\u001b[33mmel13=1407Hz\u001b[0m] < 4.4307734348781264e-7))\n",
      "│  │ │├✔ Pneumonia : (ninstances = 1, ncovered = 1, confidence = 0.0, lift = NaN)\n",
      "│  │ │└✘ Healthy : (ninstances = 4, ncovered = 4, confidence = 1.0, lift = 1.0)\n",
      "│  │ └✘ Pneumonia : (ninstances = 0, ncovered = 0, confidence = NaN, lift = NaN)\n",
      "│  └✘ ⟨G⟩((min[\u001b[31mmfcc3\u001b[0m] < -0.49560830522534305) ∧ (min[\u001b[31mmfcc13\u001b[0m] ≥ 0.685017729691313))\n",
      "│   ├✔ Pneumonia : (ninstances = 2, ncovered = 2, confidence = 0.0, lift = NaN)\n",
      "│   └✘ Healthy : (ninstances = 6, ncovered = 6, confidence = 0.83, lift = 1.0)\n",
      "└✘ ⟨G⟩(min[\u001b[31mmfcc2\u001b[0m] < 1.496891913461671)\n",
      " ├✔ ⟨G⟩((min[\u001b[31mmfcc2\u001b[0m] < 1.496891913461671) ∧ (min[\u001b[33mmel1=359Hz\u001b[0m] ≥ 2.2126004965942748e-5))\n",
      " │├✔ Healthy : (ninstances = 2, ncovered = 2, confidence = 1.0, lift = 1.0)\n",
      " │└✘ Pneumonia : (ninstances = 1, ncovered = 1, confidence = 0.0, lift = NaN)\n",
      " └✘ ⟨G⟩(min[\u001b[33mmel25=3491Hz\u001b[0m] < 8.801223697933641e-7)\n",
      "  ├✔ ⟨G⟩((min[\u001b[33mmel25=3491Hz\u001b[0m] < 8.801223697933641e-7) ∧ (max[\u001b[36mentrp\u001b[0m] ≥ 0.667843307101543))\n",
      "  │├✔ Pneumonia : (ninstances = 32, ncovered = 32, confidence = 1.0, lift = 1.0)\n",
      "  │└✘ ⟨G⟩((min[\u001b[33mmel25=3491Hz\u001b[0m] < 8.801223697933641e-7) ∧ (min[\u001b[33mmel3=488Hz\u001b[0m] < 9.210170581853491e-7))\n",
      "  │ ├✔ Pneumonia : (ninstances = 0, ncovered = 0, confidence = NaN, lift = NaN)\n",
      "  │ └✘ Pneumonia : (ninstances = 2, ncovered = 2, confidence = 1.0, lift = 1.0)\n",
      "  └✘ ⟨G⟩(min[\u001b[33mmel9=975Hz\u001b[0m] ≥ 0.00025700904892924563)\n",
      "   ├✔ Healthy : (ninstances = 0, ncovered = 0, confidence = NaN, lift = NaN)\n",
      "   └✘ Pneumonia : (ninstances = 2, ncovered = 2, confidence = 0.5, lift = 1.0)\n"
     ]
    }
   ],
   "source": [
    "_, mtree = report(mach).sprinkle(X_test, y_test)\n",
    "sole_dt = ModalDecisionTrees.translate(mtree)\n",
    "\n",
    "printmodel(sole_dt; show_metrics = true, variable_names_map=variable_names);"
   ]
  },
  {
   "cell_type": "markdown",
   "metadata": {},
   "source": [
    "### Extract rules that are at least as good as a random baseline model"
   ]
  },
  {
   "cell_type": "code",
   "execution_count": 8,
   "metadata": {},
   "outputs": [
    {
     "name": "stdout",
     "output_type": "stream",
     "text": [
      "▣ ⟨G⟩((min[\u001b[31mmfcc3\u001b[0m] < -0.49560830522534305) ∧ ⟨A̅O̅⟩((min[\u001b[36mcntrd\u001b[0m] ≥ 1232.5140291243235) ∧ (min[\u001b[36mskwns\u001b[0m] ≥ 0.6444504128467891) ∧ ⟨G⟩(min[\u001b[31mmfcc3\u001b[0m] ≥ 0.377997290238297)))  ↣  Healthy : (ninstances = 101, ncovered = 26, coverage = 0.26, confidence = 0.88, lift = 1.86, natoms = 4)\n",
      "▣ ⟨G⟩((min[\u001b[31mmfcc3\u001b[0m] < -0.49560830522534305) ∧ (min[\u001b[33mmel10=1074Hz\u001b[0m] < 2.3116095963813164e-7)) ∧ [G]((min[\u001b[31mmfcc3\u001b[0m] < -0.49560830522534305) → [A̅O̅](min[\u001b[36mcntrd\u001b[0m] < 1232.5140291243235))  ↣  Healthy : (ninstances = 101, ncovered = 8, coverage = 0.08, confidence = 0.62, lift = 1.32, natoms = 4)\n",
      "▣ ⟨G⟩((min[\u001b[31mmfcc3\u001b[0m] < -0.49560830522534305) ∧ (min[\u001b[33mmel11=1179Hz\u001b[0m] < 7.3804430852378596e-6) ∧ ⟨D̅B̅E̅⟩((max[\u001b[31mmfcc9\u001b[0m] < 0.1420268767345329) ∧ (max[\u001b[33mmel1=359Hz\u001b[0m] ≥ 0.0075525705629675075))) ∧ [G]((min[\u001b[31mmfcc3\u001b[0m] < -0.49560830522534305) → [A̅O̅](min[\u001b[36mcntrd\u001b[0m] < 1232.5140291243235)) ∧ [G]((min[\u001b[31mmfcc3\u001b[0m] < -0.49560830522534305) → (min[\u001b[33mmel10=1074Hz\u001b[0m] ≥ 2.3116095963813164e-7))  ↣  Pneumonia : (ninstances = 101, ncovered = 1, coverage = 0.01, confidence = 1.0, lift = 1.91, natoms = 8)\n",
      "▣ ⟨G⟩((min[\u001b[31mmfcc3\u001b[0m] < -0.49560830522534305) ∧ (min[\u001b[33mmel11=1179Hz\u001b[0m] < 7.3804430852378596e-6) ∧ ⟨D̅B̅E̅⟩(max[\u001b[31mmfcc9\u001b[0m] < 0.1420268767345329)) ∧ [G]((min[\u001b[31mmfcc3\u001b[0m] < -0.49560830522534305) → [A̅O̅](min[\u001b[36mcntrd\u001b[0m] < 1232.5140291243235)) ∧ [G]((min[\u001b[31mmfcc3\u001b[0m] < -0.49560830522534305) → (min[\u001b[33mmel10=1074Hz\u001b[0m] ≥ 2.3116095963813164e-7)) ∧ [G]((min[\u001b[31mmfcc3\u001b[0m] < -0.49560830522534305) → (min[\u001b[33mmel11=1179Hz\u001b[0m] < 7.3804430852378596e-6) → [D̅B̅E̅]((max[\u001b[31mmfcc9\u001b[0m] < 0.1420268767345329) → (max[\u001b[33mmel1=359Hz\u001b[0m] < 0.0075525705629675075)))  ↣  Pneumonia : (ninstances = 101, ncovered = 11, coverage = 0.11, confidence = 0.73, lift = 1.39, natoms = 11)\n",
      "▣ ⟨G⟩((min[\u001b[31mmfcc3\u001b[0m] < -0.49560830522534305) ∧ (min[\u001b[33mmel11=1179Hz\u001b[0m] < 7.3804430852378596e-6) ∧ (min[\u001b[33mmel9=975Hz\u001b[0m] < 7.1760123676389365e-6)) ∧ [G]((min[\u001b[31mmfcc3\u001b[0m] < -0.49560830522534305) → [A̅O̅](min[\u001b[36mcntrd\u001b[0m] < 1232.5140291243235)) ∧ [G]((min[\u001b[31mmfcc3\u001b[0m] < -0.49560830522534305) → (min[\u001b[33mmel10=1074Hz\u001b[0m] ≥ 2.3116095963813164e-7)) ∧ [G]((min[\u001b[31mmfcc3\u001b[0m] < -0.49560830522534305) → (min[\u001b[33mmel11=1179Hz\u001b[0m] < 7.3804430852378596e-6) → [D̅B̅E̅](max[\u001b[31mmfcc9\u001b[0m] ≥ 0.1420268767345329)) ∧ [G]((min[\u001b[31mmfcc3\u001b[0m] < -0.49560830522534305) → (min[\u001b[33mmel11=1179Hz\u001b[0m] < 7.3804430852378596e-6) → [A̅O̅](max[\u001b[33mmel13=1407Hz\u001b[0m] ≥ 4.4307734348781264e-7))  ↣  Healthy : (ninstances = 101, ncovered = 4, coverage = 0.04, confidence = 1.0, lift = 2.1, natoms = 13)\n",
      "▣ ⟨G⟩(min[\u001b[31mmfcc3\u001b[0m] < -0.49560830522534305) ∧ [G]((min[\u001b[31mmfcc3\u001b[0m] < -0.49560830522534305) → [A̅O̅](min[\u001b[36mcntrd\u001b[0m] < 1232.5140291243235)) ∧ [G]((min[\u001b[31mmfcc3\u001b[0m] < -0.49560830522534305) → (min[\u001b[33mmel10=1074Hz\u001b[0m] ≥ 2.3116095963813164e-7)) ∧ [G]((min[\u001b[31mmfcc3\u001b[0m] < -0.49560830522534305) → (min[\u001b[33mmel11=1179Hz\u001b[0m] ≥ 7.3804430852378596e-6)) ∧ [G]((min[\u001b[31mmfcc3\u001b[0m] < -0.49560830522534305) → (min[\u001b[31mmfcc13\u001b[0m] < 0.685017729691313))  ↣  Healthy : (ninstances = 101, ncovered = 6, coverage = 0.06, confidence = 0.83, lift = 1.75, natoms = 9)\n",
      "▣ ⟨G⟩((min[\u001b[31mmfcc2\u001b[0m] < 1.496891913461671) ∧ (min[\u001b[33mmel1=359Hz\u001b[0m] ≥ 2.2126004965942748e-5)) ∧ [G](min[\u001b[31mmfcc3\u001b[0m] ≥ -0.49560830522534305)  ↣  Healthy : (ninstances = 101, ncovered = 2, coverage = 0.02, confidence = 1.0, lift = 2.1, natoms = 3)\n",
      "▣ ⟨G⟩((min[\u001b[33mmel25=3491Hz\u001b[0m] < 8.801223697933641e-7) ∧ (max[\u001b[36mentrp\u001b[0m] ≥ 0.667843307101543)) ∧ [G](min[\u001b[31mmfcc3\u001b[0m] ≥ -0.49560830522534305) ∧ [G](min[\u001b[31mmfcc2\u001b[0m] ≥ 1.496891913461671)  ↣  Pneumonia : (ninstances = 101, ncovered = 32, coverage = 0.32, confidence = 1.0, lift = 1.91, natoms = 4)\n",
      "▣ ⟨G⟩(min[\u001b[33mmel25=3491Hz\u001b[0m] < 8.801223697933641e-7) ∧ [G](min[\u001b[31mmfcc3\u001b[0m] ≥ -0.49560830522534305) ∧ [G](min[\u001b[31mmfcc2\u001b[0m] ≥ 1.496891913461671) ∧ [G]((min[\u001b[33mmel25=3491Hz\u001b[0m] < 8.801223697933641e-7) → (max[\u001b[36mentrp\u001b[0m] < 0.667843307101543)) ∧ [G]((min[\u001b[33mmel25=3491Hz\u001b[0m] < 8.801223697933641e-7) → (min[\u001b[33mmel3=488Hz\u001b[0m] ≥ 9.210170581853491e-7))  ↣  Pneumonia : (ninstances = 101, ncovered = 2, coverage = 0.02, confidence = 1.0, lift = 1.91, natoms = 7)\n"
     ]
    }
   ],
   "source": [
    "interesting_rules = listrules(sole_dt, min_lift = 1.0, min_ninstances = 0);\n",
    "printmodel.(interesting_rules; show_metrics = true, variable_names_map=variable_names);"
   ]
  },
  {
   "cell_type": "markdown",
   "metadata": {},
   "source": [
    "### Simplify rules while extracting and prettify result"
   ]
  },
  {
   "cell_type": "code",
   "execution_count": 9,
   "metadata": {},
   "outputs": [
    {
     "name": "stdout",
     "output_type": "stream",
     "text": [
      "▣ ⟨G⟩((min[\u001b[31mmfcc3\u001b[0m] < -0.5) ∧ ⟨A̅O̅⟩((min[\u001b[36mcntrd\u001b[0m] ≥ 1232.51) ∧ (min[\u001b[36mskwns\u001b[0m] ≥ 0.64) ∧ ⟨G⟩(min[\u001b[31mmfcc3\u001b[0m] ≥ 0.38)))  ↣  Healthy : (ninstances = 101, ncovered = 26, coverage = 0.26, confidence = 0.88, lift = 1.86, natoms = 4)\n",
      "▣ ⟨G⟩((min[\u001b[31mmfcc3\u001b[0m] < -0.5) ∧ (min[\u001b[33mmel10=1074Hz\u001b[0m] < 0.0)) ∧ [G]((min[\u001b[31mmfcc3\u001b[0m] < -0.5) → [A̅O̅](min[\u001b[36mcntrd\u001b[0m] < 1232.51))  ↣  Healthy : (ninstances = 101, ncovered = 8, coverage = 0.08, confidence = 0.62, lift = 1.32, natoms = 4)\n",
      "▣ ⟨G⟩((min[\u001b[31mmfcc3\u001b[0m] < -0.5) ∧ (min[\u001b[33mmel11=1179Hz\u001b[0m] < 0.0) ∧ ⟨D̅B̅E̅⟩((max[\u001b[31mmfcc9\u001b[0m] < 0.14) ∧ (max[\u001b[33mmel1=359Hz\u001b[0m] ≥ 0.01))) ∧ [G]((min[\u001b[31mmfcc3\u001b[0m] < -0.5) → [A̅O̅](min[\u001b[36mcntrd\u001b[0m] < 1232.51)) ∧ [G]((min[\u001b[31mmfcc3\u001b[0m] < -0.5) → (min[\u001b[33mmel10=1074Hz\u001b[0m] ≥ 0.0))  ↣  Pneumonia : (ninstances = 101, ncovered = 1, coverage = 0.01, confidence = 1.0, lift = 1.91, natoms = 8)\n",
      "▣ ⟨G⟩((min[\u001b[31mmfcc3\u001b[0m] < -0.5) ∧ (min[\u001b[33mmel11=1179Hz\u001b[0m] < 0.0) ∧ ⟨D̅B̅E̅⟩(max[\u001b[31mmfcc9\u001b[0m] < 0.14)) ∧ [G]((min[\u001b[31mmfcc3\u001b[0m] < -0.5) → [A̅O̅](min[\u001b[36mcntrd\u001b[0m] < 1232.51)) ∧ [G]((min[\u001b[31mmfcc3\u001b[0m] < -0.5) → (min[\u001b[33mmel10=1074Hz\u001b[0m] ≥ 0.0)) ∧ [G]((min[\u001b[31mmfcc3\u001b[0m] < -0.5) → (min[\u001b[33mmel11=1179Hz\u001b[0m] < 0.0) → [D̅B̅E̅]((max[\u001b[31mmfcc9\u001b[0m] < 0.14) → (max[\u001b[33mmel1=359Hz\u001b[0m] < 0.01)))  ↣  Pneumonia : (ninstances = 101, ncovered = 11, coverage = 0.11, confidence = 0.73, lift = 1.39, natoms = 11)\n",
      "▣ ⟨G⟩((min[\u001b[31mmfcc3\u001b[0m] < -0.5) ∧ (min[\u001b[33mmel11=1179Hz\u001b[0m] < 0.0) ∧ (min[\u001b[33mmel9=975Hz\u001b[0m] < 0.0)) ∧ [G]((min[\u001b[31mmfcc3\u001b[0m] < -0.5) → [A̅O̅](min[\u001b[36mcntrd\u001b[0m] < 1232.51)) ∧ [G]((min[\u001b[31mmfcc3\u001b[0m] < -0.5) → (min[\u001b[33mmel10=1074Hz\u001b[0m] ≥ 0.0)) ∧ [G]((min[\u001b[31mmfcc3\u001b[0m] < -0.5) → (min[\u001b[33mmel11=1179Hz\u001b[0m] < 0.0) → [D̅B̅E̅](max[\u001b[31mmfcc9\u001b[0m] ≥ 0.14)) ∧ [G]((min[\u001b[31mmfcc3\u001b[0m] < -0.5) → (min[\u001b[33mmel11=1179Hz\u001b[0m] < 0.0) → [A̅O̅](max[\u001b[33mmel13=1407Hz\u001b[0m] ≥ 0.0))  ↣  Healthy : (ninstances = 101, ncovered = 4, coverage = 0.04, confidence = 1.0, lift = 2.1, natoms = 13)\n",
      "▣ ⟨G⟩(min[\u001b[31mmfcc3\u001b[0m] < -0.5) ∧ [G]((min[\u001b[31mmfcc3\u001b[0m] < -0.5) → [A̅O̅](min[\u001b[36mcntrd\u001b[0m] < 1232.51)) ∧ [G]((min[\u001b[31mmfcc3\u001b[0m] < -0.5) → (min[\u001b[33mmel10=1074Hz\u001b[0m] ≥ 0.0)) ∧ [G]((min[\u001b[31mmfcc3\u001b[0m] < -0.5) → (min[\u001b[33mmel11=1179Hz\u001b[0m] ≥ 0.0)) ∧ [G]((min[\u001b[31mmfcc3\u001b[0m] < -0.5) → (min[\u001b[31mmfcc13\u001b[0m] < 0.69))  ↣  Healthy : (ninstances = 101, ncovered = 6, coverage = 0.06, confidence = 0.83, lift = 1.75, natoms = 9)\n",
      "▣ ⟨G⟩((min[\u001b[31mmfcc2\u001b[0m] < 1.5) ∧ (min[\u001b[33mmel1=359Hz\u001b[0m] ≥ 0.0)) ∧ [G](min[\u001b[31mmfcc3\u001b[0m] ≥ -0.5)  ↣  Healthy : (ninstances = 101, ncovered = 2, coverage = 0.02, confidence = 1.0, lift = 2.1, natoms = 3)\n",
      "▣ ⟨G⟩((min[\u001b[33mmel25=3491Hz\u001b[0m] < 0.0) ∧ (max[\u001b[36mentrp\u001b[0m] ≥ 0.67)) ∧ [G](min[\u001b[31mmfcc3\u001b[0m] ≥ -0.5) ∧ [G](min[\u001b[31mmfcc2\u001b[0m] ≥ 1.5)  ↣  Pneumonia : (ninstances = 101, ncovered = 32, coverage = 0.32, confidence = 1.0, lift = 1.91, natoms = 4)\n",
      "▣ ⟨G⟩(min[\u001b[33mmel25=3491Hz\u001b[0m] < 0.0) ∧ [G](min[\u001b[31mmfcc3\u001b[0m] ≥ -0.5) ∧ [G](min[\u001b[31mmfcc2\u001b[0m] ≥ 1.5) ∧ [G]((min[\u001b[33mmel25=3491Hz\u001b[0m] < 0.0) → (max[\u001b[36mentrp\u001b[0m] < 0.67)) ∧ [G]((min[\u001b[33mmel25=3491Hz\u001b[0m] < 0.0) → (min[\u001b[33mmel3=488Hz\u001b[0m] ≥ 0.0))  ↣  Pneumonia : (ninstances = 101, ncovered = 2, coverage = 0.02, confidence = 1.0, lift = 1.91, natoms = 7)\n"
     ]
    }
   ],
   "source": [
    "interesting_rules = listrules(sole_dt, min_lift = 1.0, min_ninstances = 0, normalize = true);\n",
    "printmodel.(interesting_rules; show_metrics = true, syntaxstring_kwargs = (; threshold_digits = 2), variable_names_map=variable_names);"
   ]
  },
  {
   "cell_type": "markdown",
   "metadata": {},
   "source": [
    "### Directly access rule metrics"
   ]
  },
  {
   "cell_type": "code",
   "execution_count": 10,
   "metadata": {},
   "outputs": [
    {
     "data": {
      "text/plain": [
       "9-element Vector{@NamedTuple{ninstances::Int64, ncovered::Int64, coverage::Float64, confidence::Float64, lift::Float64, natoms::Int64}}:\n",
       " (ninstances = 101, ncovered = 26, coverage = 0.25742574257425743, confidence = 0.8846153846153846, lift = 1.861378205128205, natoms = 4)\n",
       " (ninstances = 101, ncovered = 8, coverage = 0.07920792079207921, confidence = 0.625, lift = 1.3151041666666667, natoms = 4)\n",
       " (ninstances = 101, ncovered = 1, coverage = 0.009900990099009901, confidence = 1.0, lift = 1.9056603773584906, natoms = 8)\n",
       " (ninstances = 101, ncovered = 11, coverage = 0.10891089108910891, confidence = 0.7272727272727273, lift = 1.385934819897084, natoms = 11)\n",
       " (ninstances = 101, ncovered = 4, coverage = 0.039603960396039604, confidence = 1.0, lift = 2.104166666666667, natoms = 13)\n",
       " (ninstances = 101, ncovered = 6, coverage = 0.0594059405940594, confidence = 0.8333333333333334, lift = 1.7534722222222223, natoms = 9)\n",
       " (ninstances = 101, ncovered = 2, coverage = 0.019801980198019802, confidence = 1.0, lift = 2.104166666666667, natoms = 3)\n",
       " (ninstances = 101, ncovered = 32, coverage = 0.31683168316831684, confidence = 1.0, lift = 1.9056603773584906, natoms = 4)\n",
       " (ninstances = 101, ncovered = 2, coverage = 0.019801980198019802, confidence = 1.0, lift = 1.9056603773584906, natoms = 7)"
      ]
     },
     "metadata": {},
     "output_type": "display_data"
    }
   ],
   "source": [
    "readmetrics.(listrules(sole_dt; min_lift=1.0, min_ninstances = 0))"
   ]
  },
  {
   "cell_type": "markdown",
   "metadata": {},
   "source": [
    "### Show rules with an additional metric (syntax height of the rule's antecedent)"
   ]
  },
  {
   "cell_type": "code",
   "execution_count": 11,
   "metadata": {},
   "outputs": [
    {
     "name": "stdout",
     "output_type": "stream",
     "text": [
      "▣ ⟨G⟩((min[\u001b[31mmfcc3\u001b[0m] < -0.49560830522534305) ∧ (min[\u001b[33mmel11=1179Hz\u001b[0m] < 7.3804430852378596e-6) ∧ ⟨D̅B̅E̅⟩((max[\u001b[31mmfcc9\u001b[0m] < 0.1420268767345329) ∧ (max[\u001b[33mmel1=359Hz\u001b[0m] ≥ 0.0075525705629675075))) ∧ [G]((min[\u001b[31mmfcc3\u001b[0m] < -0.49560830522534305) → [A̅O̅](min[\u001b[36mcntrd\u001b[0m] < 1232.5140291243235)) ∧ [G]((min[\u001b[31mmfcc3\u001b[0m] < -0.49560830522534305) → (min[\u001b[33mmel10=1074Hz\u001b[0m] ≥ 2.3116095963813164e-7))  ↣  Pneumonia : (ninstances = 101, ncovered = 1, coverage = 0.009900990099009901, confidence = 1.0, lift = 1.9056603773584906, natoms = 8, height = 7)\n",
      "▣ ⟨G⟩(min[\u001b[33mmel25=3491Hz\u001b[0m] < 8.801223697933641e-7) ∧ [G](min[\u001b[31mmfcc3\u001b[0m] ≥ -0.49560830522534305) ∧ [G](min[\u001b[31mmfcc2\u001b[0m] ≥ 1.496891913461671) ∧ [G]((min[\u001b[33mmel25=3491Hz\u001b[0m] < 8.801223697933641e-7) → (max[\u001b[36mentrp\u001b[0m] < 0.667843307101543)) ∧ [G]((min[\u001b[33mmel25=3491Hz\u001b[0m] < 8.801223697933641e-7) → (min[\u001b[33mmel3=488Hz\u001b[0m] ≥ 9.210170581853491e-7))  ↣  Pneumonia : (ninstances = 101, ncovered = 2, coverage = 0.019801980198019802, confidence = 1.0, lift = 1.9056603773584906, natoms = 7, height = 5)\n",
      "▣ ⟨G⟩((min[\u001b[31mmfcc2\u001b[0m] < 1.496891913461671) ∧ (min[\u001b[33mmel1=359Hz\u001b[0m] ≥ 2.2126004965942748e-5)) ∧ [G](min[\u001b[31mmfcc3\u001b[0m] ≥ -0.49560830522534305)  ↣  Healthy : (ninstances = 101, ncovered = 2, coverage = 0.019801980198019802, confidence = 1.0, lift = 2.104166666666667, natoms = 3, height = 3)\n",
      "▣ ⟨G⟩((min[\u001b[31mmfcc3\u001b[0m] < -0.49560830522534305) ∧ (min[\u001b[33mmel11=1179Hz\u001b[0m] < 7.3804430852378596e-6) ∧ (min[\u001b[33mmel9=975Hz\u001b[0m] < 7.1760123676389365e-6)) ∧ [G]((min[\u001b[31mmfcc3\u001b[0m] < -0.49560830522534305) → [A̅O̅](min[\u001b[36mcntrd\u001b[0m] < 1232.5140291243235)) ∧ [G]((min[\u001b[31mmfcc3\u001b[0m] < -0.49560830522534305) → (min[\u001b[33mmel10=1074Hz\u001b[0m] ≥ 2.3116095963813164e-7)) ∧ [G]((min[\u001b[31mmfcc3\u001b[0m] < -0.49560830522534305) → (min[\u001b[33mmel11=1179Hz\u001b[0m] < 7.3804430852378596e-6) → [D̅B̅E̅](max[\u001b[31mmfcc9\u001b[0m] ≥ 0.1420268767345329)) ∧ [G]((min[\u001b[31mmfcc3\u001b[0m] < -0.49560830522534305) → (min[\u001b[33mmel11=1179Hz\u001b[0m] < 7.3804430852378596e-6) → [A̅O̅](max[\u001b[33mmel13=1407Hz\u001b[0m] ≥ 4.4307734348781264e-7))  ↣  Healthy : (ninstances = 101, ncovered = 4, coverage = 0.039603960396039604, confidence = 1.0, lift = 2.104166666666667, natoms = 13, height = 7)\n",
      "▣ ⟨G⟩(min[\u001b[31mmfcc3\u001b[0m] < -0.49560830522534305) ∧ [G]((min[\u001b[31mmfcc3\u001b[0m] < -0.49560830522534305) → [A̅O̅](min[\u001b[36mcntrd\u001b[0m] < 1232.5140291243235)) ∧ [G]((min[\u001b[31mmfcc3\u001b[0m] < -0.49560830522534305) → (min[\u001b[33mmel10=1074Hz\u001b[0m] ≥ 2.3116095963813164e-7)) ∧ [G]((min[\u001b[31mmfcc3\u001b[0m] < -0.49560830522534305) → (min[\u001b[33mmel11=1179Hz\u001b[0m] ≥ 7.3804430852378596e-6)) ∧ [G]((min[\u001b[31mmfcc3\u001b[0m] < -0.49560830522534305) → (min[\u001b[31mmfcc13\u001b[0m] < 0.685017729691313))  ↣  Healthy : (ninstances = 101, ncovered = 6, coverage = 0.0594059405940594, confidence = 0.8333333333333334, lift = 1.7534722222222223, natoms = 9, height = 7)\n",
      "▣ ⟨G⟩((min[\u001b[31mmfcc3\u001b[0m] < -0.49560830522534305) ∧ (min[\u001b[33mmel10=1074Hz\u001b[0m] < 2.3116095963813164e-7)) ∧ [G]((min[\u001b[31mmfcc3\u001b[0m] < -0.49560830522534305) → [A̅O̅](min[\u001b[36mcntrd\u001b[0m] < 1232.5140291243235))  ↣  Healthy : (ninstances = 101, ncovered = 8, coverage = 0.07920792079207921, confidence = 0.625, lift = 1.3151041666666667, natoms = 4, height = 4)\n",
      "▣ ⟨G⟩((min[\u001b[31mmfcc3\u001b[0m] < -0.49560830522534305) ∧ (min[\u001b[33mmel11=1179Hz\u001b[0m] < 7.3804430852378596e-6) ∧ ⟨D̅B̅E̅⟩(max[\u001b[31mmfcc9\u001b[0m] < 0.1420268767345329)) ∧ [G]((min[\u001b[31mmfcc3\u001b[0m] < -0.49560830522534305) → [A̅O̅](min[\u001b[36mcntrd\u001b[0m] < 1232.5140291243235)) ∧ [G]((min[\u001b[31mmfcc3\u001b[0m] < -0.49560830522534305) → (min[\u001b[33mmel10=1074Hz\u001b[0m] ≥ 2.3116095963813164e-7)) ∧ [G]((min[\u001b[31mmfcc3\u001b[0m] < -0.49560830522534305) → (min[\u001b[33mmel11=1179Hz\u001b[0m] < 7.3804430852378596e-6) → [D̅B̅E̅]((max[\u001b[31mmfcc9\u001b[0m] < 0.1420268767345329) → (max[\u001b[33mmel1=359Hz\u001b[0m] < 0.0075525705629675075)))  ↣  Pneumonia : (ninstances = 101, ncovered = 11, coverage = 0.10891089108910891, confidence = 0.7272727272727273, lift = 1.385934819897084, natoms = 11, height = 7)\n",
      "▣ ⟨G⟩((min[\u001b[31mmfcc3\u001b[0m] < -0.49560830522534305) ∧ ⟨A̅O̅⟩((min[\u001b[36mcntrd\u001b[0m] ≥ 1232.5140291243235) ∧ (min[\u001b[36mskwns\u001b[0m] ≥ 0.6444504128467891) ∧ ⟨G⟩(min[\u001b[31mmfcc3\u001b[0m] ≥ 0.377997290238297)))  ↣  Healthy : (ninstances = 101, ncovered = 26, coverage = 0.25742574257425743, confidence = 0.8846153846153846, lift = 1.861378205128205, natoms = 4, height = 6)\n",
      "▣ ⟨G⟩((min[\u001b[33mmel25=3491Hz\u001b[0m] < 8.801223697933641e-7) ∧ (max[\u001b[36mentrp\u001b[0m] ≥ 0.667843307101543)) ∧ [G](min[\u001b[31mmfcc3\u001b[0m] ≥ -0.49560830522534305) ∧ [G](min[\u001b[31mmfcc2\u001b[0m] ≥ 1.496891913461671)  ↣  Pneumonia : (ninstances = 101, ncovered = 32, coverage = 0.31683168316831684, confidence = 1.0, lift = 1.9056603773584906, natoms = 4, height = 4)\n"
     ]
    }
   ],
   "source": [
    "printmodel.(sort(interesting_rules, by = readmetrics); show_metrics = (; round_digits = nothing, additional_metrics = (; height = r->SoleLogics.height(antecedent(r)))), variable_names_map=variable_names);"
   ]
  },
  {
   "cell_type": "markdown",
   "metadata": {},
   "source": [
    "### Pretty table of rules and their metrics"
   ]
  },
  {
   "cell_type": "code",
   "execution_count": 12,
   "metadata": {},
   "outputs": [
    {
     "name": "stdout",
     "output_type": "stream",
     "text": [
      "┌───────────────────────────────────────────────────────────────────────────────────────────────────────────────────────────────────────────────────────────────────────────────────────────────────────────────────────────────────────────────────────────────────────────────────────────────────────────────────────────────────────────────────────────────────────────────────────────────────────────────────────────────────────────────────────────────────────────────────────────────────────────────────────────────────────────────────────────────────┬────────────┬────────────┬──────────┬────────────┬────────────┬─────────┬────────┬────────┐\n",
      "│\u001b[33;1m                                                                                                                                                                                                                                                                                                                                                                                                                                                                                                                                                        Antecedent \u001b[0m│\u001b[33;1m Consequent \u001b[0m│\u001b[33;1m ninstances \u001b[0m│\u001b[33;1m ncovered \u001b[0m│\u001b[33;1m   coverage \u001b[0m│\u001b[33;1m confidence \u001b[0m│\u001b[33;1m    lift \u001b[0m│\u001b[33;1m natoms \u001b[0m│\u001b[33;1m height \u001b[0m│\n",
      "├───────────────────────────────────────────────────────────────────────────────────────────────────────────────────────────────────────────────────────────────────────────────────────────────────────────────────────────────────────────────────────────────────────────────────────────────────────────────────────────────────────────────────────────────────────────────────────────────────────────────────────────────────────────────────────────────────────────────────────────────────────────────────────────────────────────────────────────────────┼────────────┼────────────┼──────────┼────────────┼────────────┼─────────┼────────┼────────┤\n",
      "│                                                                                                                                                                                                                                                                                                                                                                                                              ⟨G⟩(min[mfcc3] < -0.49560830522534305 ∧ ⟨A̅O̅⟩(min[cntrd] ≥ 1232.5140291243235 ∧ min[skwns] ≥ 0.6444504128467891 ∧ ⟨G⟩min[mfcc3] ≥ 0.377997290238297)) │    Healthy │        101 │       26 │   0.257426 │   0.884615 │ 1.86138 │      4 │      6 │\n",
      "│                                                                                                                                                                                                                                                                                                                                                                                                 ⟨G⟩(min[mfcc3] < -0.49560830522534305 ∧ min[mel10=1074Hz] < 2.3116095963813164e-7) ∧ [G](min[mfcc3] < -0.49560830522534305 → [A̅O̅]min[cntrd] < 1232.5140291243235) │    Healthy │        101 │        8 │  0.0792079 │      0.625 │  1.3151 │      4 │      4 │\n",
      "│                                                                                                                                                                                                                         ⟨G⟩(min[mfcc3] < -0.49560830522534305 ∧ min[mel11=1179Hz] < 7.3804430852378596e-6 ∧ ⟨D̅B̅E̅⟩(max[mfcc9] < 0.1420268767345329 ∧ max[mel1=359Hz] ≥ 0.0075525705629675075)) ∧ [G](min[mfcc3] < -0.49560830522534305 → [A̅O̅]min[cntrd] < 1232.5140291243235) ∧ [G](min[mfcc3] < -0.49560830522534305 → min[mel10=1074Hz] ≥ 2.3116095963813164e-7) │  Pneumonia │        101 │        1 │ 0.00990099 │        1.0 │ 1.90566 │      8 │      7 │\n",
      "│                                                                                             ⟨G⟩(min[mfcc3] < -0.49560830522534305 ∧ min[mel11=1179Hz] < 7.3804430852378596e-6 ∧ ⟨D̅B̅E̅⟩max[mfcc9] < 0.1420268767345329) ∧ [G](min[mfcc3] < -0.49560830522534305 → [A̅O̅]min[cntrd] < 1232.5140291243235) ∧ [G](min[mfcc3] < -0.49560830522534305 → min[mel10=1074Hz] ≥ 2.3116095963813164e-7) ∧ [G](min[mfcc3] < -0.49560830522534305 → min[mel11=1179Hz] < 7.3804430852378596e-6 → [D̅B̅E̅](max[mfcc9] < 0.1420268767345329 → max[mel1=359Hz] < 0.0075525705629675075)) │  Pneumonia │        101 │       11 │   0.108911 │   0.727273 │ 1.38593 │     11 │      7 │\n",
      "│ ⟨G⟩(min[mfcc3] < -0.49560830522534305 ∧ min[mel11=1179Hz] < 7.3804430852378596e-6 ∧ min[mel9=975Hz] < 7.1760123676389365e-6) ∧ [G](min[mfcc3] < -0.49560830522534305 → [A̅O̅]min[cntrd] < 1232.5140291243235) ∧ [G](min[mfcc3] < -0.49560830522534305 → min[mel10=1074Hz] ≥ 2.3116095963813164e-7) ∧ [G](min[mfcc3] < -0.49560830522534305 → min[mel11=1179Hz] < 7.3804430852378596e-6 → [D̅B̅E̅]max[mfcc9] ≥ 0.1420268767345329) ∧ [G](min[mfcc3] < -0.49560830522534305 → min[mel11=1179Hz] < 7.3804430852378596e-6 → [A̅O̅]max[mel13=1407Hz] ≥ 4.4307734348781264e-7) │    Healthy │        101 │        4 │   0.039604 │        1.0 │ 2.10417 │     13 │      7 │\n",
      "│                                                                                                                                                                                          ⟨G⟩min[mfcc3] < -0.49560830522534305 ∧ [G](min[mfcc3] < -0.49560830522534305 → [A̅O̅]min[cntrd] < 1232.5140291243235) ∧ [G](min[mfcc3] < -0.49560830522534305 → min[mel10=1074Hz] ≥ 2.3116095963813164e-7) ∧ [G](min[mfcc3] < -0.49560830522534305 → min[mel11=1179Hz] ≥ 7.3804430852378596e-6) ∧ [G](min[mfcc3] < -0.49560830522534305 → min[mfcc13] < 0.685017729691313) │    Healthy │        101 │        6 │  0.0594059 │   0.833333 │ 1.75347 │      9 │      7 │\n",
      "│                                                                                                                                                                                                                                                                                                                                                                                                                                              ⟨G⟩(min[mfcc2] < 1.496891913461671 ∧ min[mel1=359Hz] ≥ 2.2126004965942748e-5) ∧ [G]min[mfcc3] ≥ -0.49560830522534305 │    Healthy │        101 │        2 │   0.019802 │        1.0 │ 2.10417 │      3 │      3 │\n",
      "│                                                                                                                                                                                                                                                                                                                                                                                                         ⟨G⟩(min[mel25=3491Hz] < 8.801223697933641e-7 ∧ max[entrp] ≥ 0.667843307101543) ∧ [G]min[mfcc3] ≥ -0.49560830522534305 ∧ [G]min[mfcc2] ≥ 1.496891913461671 │  Pneumonia │        101 │       32 │   0.316832 │        1.0 │ 1.90566 │      4 │      4 │\n",
      "│                                                                                                                                                                                                                                                                  ⟨G⟩min[mel25=3491Hz] < 8.801223697933641e-7 ∧ [G]min[mfcc3] ≥ -0.49560830522534305 ∧ [G]min[mfcc2] ≥ 1.496891913461671 ∧ [G](min[mel25=3491Hz] < 8.801223697933641e-7 → max[entrp] < 0.667843307101543) ∧ [G](min[mel25=3491Hz] < 8.801223697933641e-7 → min[mel3=488Hz] ≥ 9.210170581853491e-7) │  Pneumonia │        101 │        2 │   0.019802 │        1.0 │ 1.90566 │      7 │      5 │\n",
      "└───────────────────────────────────────────────────────────────────────────────────────────────────────────────────────────────────────────────────────────────────────────────────────────────────────────────────────────────────────────────────────────────────────────────────────────────────────────────────────────────────────────────────────────────────────────────────────────────────────────────────────────────────────────────────────────────────────────────────────────────────────────────────────────────────────────────────────────────────┴────────────┴────────────┴──────────┴────────────┴────────────┴─────────┴────────┴────────┘\n"
     ]
    }
   ],
   "source": [
    "metricstable(interesting_rules; variable_names_map=col_names, metrics_kwargs = (; round_digits = nothing, additional_metrics = (; height = r->SoleLogics.height(antecedent(r)))))"
   ]
  }
 ],
 "metadata": {
  "kernelspec": {
   "display_name": "Julia 1.10.4",
   "language": "julia",
   "name": "julia-1.10"
  },
  "language_info": {
   "file_extension": ".jl",
   "mimetype": "application/julia",
   "name": "julia",
   "version": "1.10.4"
  }
 },
 "nbformat": 4,
 "nbformat_minor": 2
}
