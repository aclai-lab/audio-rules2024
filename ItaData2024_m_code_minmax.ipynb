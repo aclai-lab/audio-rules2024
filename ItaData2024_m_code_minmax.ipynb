{
 "cells": [
  {
   "cell_type": "markdown",
   "metadata": {},
   "source": [
    "# ItaData2024\n",
    "modal example"
   ]
  },
  {
   "cell_type": "code",
   "execution_count": 1,
   "metadata": {},
   "outputs": [],
   "source": [
    "using MLJ, ModalDecisionTrees\n",
    "using SoleDecisionTreeInterface, Sole, SoleData\n",
    "using CategoricalArrays\n",
    "using DataFrames, JLD2, CSV\n",
    "using Audio911\n",
    "using Random"
   ]
  },
  {
   "cell_type": "markdown",
   "metadata": {},
   "source": [
    "### Open .jld2 file\n",
    "the file contains 504 samples of respiratory sound, labeled with 2 classes: healty and pneumonia"
   ]
  },
  {
   "cell_type": "code",
   "execution_count": 2,
   "metadata": {},
   "outputs": [],
   "source": [
    "ds_path = \"/datasets/respiratory_Healthy_Pneumonia\"\n",
    "\n",
    "d = jldopen(string((@__DIR__), ds_path, \".jld2\"))\n",
    "x, y = d[\"dataframe_validated\"]\n",
    "@assert x isa DataFrame\n",
    "close(d)"
   ]
  },
  {
   "cell_type": "markdown",
   "metadata": {},
   "source": [
    "### Audio features extraction function\n",
    "This function is called for every audio sample and extract 51 features:\n",
    "26 bands of the mel spectrogram,\n",
    "13 coefficients of the mfcc\n",
    "12 spectral features: centroid, crest, entropy, f0, flatness, flux, kurtosis, rolloff, skewness, decrease, slope, spread"
   ]
  },
  {
   "cell_type": "code",
   "execution_count": null,
   "metadata": {},
   "outputs": [],
   "source": [
    "nan_replacer!(x::AbstractArray{Float64}) = replace!(x, NaN => 0.0)\n",
    "\n",
    "function afe(x::AbstractVector{Float64}; get_only_melfreq=false)\n",
    "    # -------------------------------- parameters -------------------------------- #\n",
    "    # audio module\n",
    "    sr = 8000\n",
    "    norm = true\n",
    "    speech_detection = false\n",
    "    # stft module\n",
    "    stft_length = 256\n",
    "    win_type = (:hann, :periodic)\n",
    "    win_length = 256\n",
    "    overlap_length = 128\n",
    "    stft_norm = :power                      # :power, :magnitude, :pow2mag\n",
    "    # mel filterbank module\n",
    "    nbands = 26\n",
    "    scale = :mel_htk                        # :mel_htk, :mel_slaney, :erb, :bark\n",
    "    melfb_norm = :bandwidth                 # :bandwidth, :area, :none\n",
    "    freq_range = (300, round(Int, sr / 2))\n",
    "    # mel spectrogram module\n",
    "    db_scale = false\n",
    "    # mfcc module\n",
    "    ncoeffs = 13\n",
    "    rectification = :log                    # :log, :cubic_root\n",
    "    dither = true\n",
    "    # f0 module\n",
    "    method = :nfc\n",
    "    f0_range = (50, 400)\n",
    "\n",
    "    # --------------------------------- functions -------------------------------- #\n",
    "    # audio module\n",
    "    audio = load_audio(\n",
    "        file=x,\n",
    "        sr=sr,\n",
    "        norm=norm,\n",
    "    );\n",
    "\n",
    "    stftspec = get_stft(\n",
    "        audio=audio,\n",
    "        stft_length=stft_length,\n",
    "        win_type=win_type,\n",
    "        win_length=win_length,\n",
    "        overlap_length=overlap_length,\n",
    "        norm=stft_norm\n",
    "    );\n",
    "\n",
    "    # mel filterbank module\n",
    "    melfb = get_melfb(\n",
    "        stft=stftspec,\n",
    "        nbands=nbands,\n",
    "        scale=scale,\n",
    "        norm=melfb_norm,\n",
    "        freq_range=freq_range\n",
    "    );\n",
    "\n",
    "    if get_only_melfreq\n",
    "        return melfb.freq\n",
    "    end\n",
    "\n",
    "    # mel spectrogram module\n",
    "    melspec =  get_melspec(\n",
    "        stft=stftspec,\n",
    "        fbank=melfb,\n",
    "        db_scale=db_scale\n",
    "    );\n",
    "\n",
    "    # mfcc module\n",
    "    mfcc = get_mfcc(\n",
    "        source=melspec,\n",
    "        ncoeffs=ncoeffs,\n",
    "        rectification=rectification,\n",
    "        dither=dither,\n",
    "    );\n",
    "\n",
    "    # f0 module\n",
    "    f0 = get_f0(\n",
    "        source=stftspec,\n",
    "        method=method,\n",
    "        freq_range=f0_range\n",
    "    );\n",
    "\n",
    "    # spectral features module\n",
    "    spect = get_spectrals(\n",
    "        source=stftspec,\n",
    "        freq_range=freq_range\n",
    "    );\n",
    "\n",
    "    x_features = hcat(\n",
    "        melspec.spec',\n",
    "        mfcc.mfcc',\n",
    "        f0.f0,\n",
    "        spect.centroid,\n",
    "        spect.crest,\n",
    "        spect.entropy,\n",
    "        spect.flatness,\n",
    "        spect.flux,\n",
    "        spect.kurtosis,\n",
    "        spect.rolloff,\n",
    "        spect.skewness,\n",
    "        spect.decrease,\n",
    "        spect.slope,\n",
    "        spect.spread\n",
    "    );\n",
    "\n",
    "    nan_replacer!(x_features)\n",
    "\n",
    "    return x_features\n",
    "end"
   ]
  },
  {
   "cell_type": "markdown",
   "metadata": {},
   "source": [
    "### Compute DataFrame of features"
   ]
  },
  {
   "cell_type": "code",
   "execution_count": 4,
   "metadata": {},
   "outputs": [],
   "source": [
    "color_code = Dict(:red => 31, :green => 32, :yellow => 33, :blue => 34, :magenta => 35, :cyan => 36)\n",
    "freq = round.(Int, afe(x[1, :audio]; get_only_melfreq=true))\n",
    "r_select = r\"\\e\\[\\d+m(.*?)\\e\\[0m\"\n",
    "variable_names = [\n",
    "    [\"\\e[$(color_code[:yellow])mmel$i=$(freq[i])Hz\\e[0m\" for i in 1:26]...,\n",
    "    [\"\\e[$(color_code[:red])mmfcc$i\\e[0m\" for i in 1:13]...,\n",
    "    \"\\e[$(color_code[:green])mf0\\e[0m\", \"\\e[$(color_code[:cyan])mcntrd\\e[0m\", \"\\e[$(color_code[:cyan])mcrest\\e[0m\",\n",
    "    \"\\e[$(color_code[:cyan])mentrp\\e[0m\", \"\\e[$(color_code[:cyan])mflatn\\e[0m\", \"\\e[$(color_code[:cyan])mflux\\e[0m\",\n",
    "    \"\\e[$(color_code[:cyan])mkurts\\e[0m\", \"\\e[$(color_code[:cyan])mrllff\\e[0m\", \"\\e[$(color_code[:cyan])mskwns\\e[0m\",\n",
    "    \"\\e[$(color_code[:cyan])mdecrs\\e[0m\", \"\\e[$(color_code[:cyan])mslope\\e[0m\", \"\\e[$(color_code[:cyan])msprd\\e[0m\"\n",
    "]\n",
    "\n",
    "X = DataFrame([name => Vector{Float64}[] for name in [match(r_select, v)[1] for v in variable_names]])\n",
    "\n",
    "features = [minimum, maximum]\n",
    "\n",
    "for i in 1:nrow(x)\n",
    "    push!(X, collect(eachcol(afe(x[i, :audio]))))\n",
    "end\n",
    "\n",
    "yc = CategoricalArray(y);"
   ]
  },
  {
   "cell_type": "markdown",
   "metadata": {},
   "source": [
    "### Data compression for modal analysis"
   ]
  },
  {
   "cell_type": "code",
   "execution_count": 5,
   "metadata": {},
   "outputs": [
    {
     "name": "stdout",
     "output_type": "stream",
     "text": [
      "Training set size: (403, 51) - 403\n",
      "Test set size: (101, 51) - 101\n"
     ]
    }
   ],
   "source": [
    "train_ratio = 0.8\n",
    "train, test = partition(eachindex(yc), train_ratio, shuffle=true)\n",
    "# train, test = partition(eachindex(yc), train_ratio, shuffle=false) ### Debug\n",
    "X_train, y_train = X[train, :], yc[train]\n",
    "X_test, y_test = X[test, :], yc[test]\n",
    "\n",
    "println(\"Training set size: \", size(X_train), \" - \", length(y_train))\n",
    "println(\"Test set size: \", size(X_test), \" - \", length(y_test))"
   ]
  },
  {
   "cell_type": "markdown",
   "metadata": {},
   "source": [
    "### Train a model"
   ]
  },
  {
   "cell_type": "code",
   "execution_count": 6,
   "metadata": {},
   "outputs": [
    {
     "name": "stderr",
     "output_type": "stream",
     "text": [
      "┌ Info: Precomputing logiset...\n",
      "└ @ ModalDecisionTrees.MLJInterface /home/paso/.julia/dev/ModalDecisionTrees.jl/src/interfaces/MLJ/wrapdataset.jl:135\n",
      "┌ Info: Training machine(ModalDecisionTree(max_depth = nothing, …), …).\n",
      "└ @ MLJBase /home/paso/.julia/packages/MLJBase/7nGJF/src/machines.jl:499\n"
     ]
    },
    {
     "name": "stdout",
     "output_type": "stream",
     "text": [
      "\u001b[34m▣\u001b[0m ⟨G⟩(\u001b[1mmin[\u001b[31mmfcc3\u001b[0m] \u001b[1m<\u001b[0m\u001b[0m -0.42238800051820113)\n",
      "├✔ ⟨G⟩((\u001b[1mmin[\u001b[31mmfcc3\u001b[0m] \u001b[1m<\u001b[0m\u001b[0m -0.42238800051820113) ∧ ⟨A̅O̅⟩(\u001b[1mmin[\u001b[36mcntrd\u001b[0m] \u001b[1m≥\u001b[0m\u001b[0m 1241.5325730780178))\n",
      "│├✔ ⟨G⟩((\u001b[1mmin[\u001b[31mmfcc3\u001b[0m] \u001b[1m<\u001b[0m\u001b[0m -0.42238800051820113) ∧ ⟨A̅O̅⟩((\u001b[1mmin[\u001b[36mcntrd\u001b[0m] \u001b[1m≥\u001b[0m\u001b[0m 1241.5325730780178) ∧ ⟨L⟩(\u001b[1mmin[\u001b[36msprd\u001b[0m] \u001b[1m≥\u001b[0m\u001b[0m 693.3580008260416)))\n",
      "││├✔ Healthy\n",
      "││└✘ ⟨G⟩((\u001b[1mmin[\u001b[31mmfcc3\u001b[0m] \u001b[1m<\u001b[0m\u001b[0m -0.42238800051820113) ∧ ⟨A̅O̅⟩((\u001b[1mmin[\u001b[36mcntrd\u001b[0m] \u001b[1m≥\u001b[0m\u001b[0m 1241.5325730780178) ∧ ⟨AO⟩(\u001b[1mmin[\u001b[33mmel3=488Hz\u001b[0m] \u001b[1m≥\u001b[0m\u001b[0m 2.773555451829634e-5)))\n",
      "││ ├✔ Pneumonia\n",
      "││ └✘ Healthy\n",
      "│└✘ ⟨G⟩((\u001b[1mmin[\u001b[31mmfcc3\u001b[0m] \u001b[1m<\u001b[0m\u001b[0m -0.42238800051820113) ∧ ⟨A̅O̅⟩(\u001b[1mmin[\u001b[31mmfcc9\u001b[0m] \u001b[1m≥\u001b[0m\u001b[0m 0.7471857551919938))\n",
      "│ ├✔ ⟨G⟩((\u001b[1mmin[\u001b[31mmfcc3\u001b[0m] \u001b[1m<\u001b[0m\u001b[0m -0.42238800051820113) ∧ ⟨A̅O̅⟩((\u001b[1mmin[\u001b[31mmfcc9\u001b[0m] \u001b[1m≥\u001b[0m\u001b[0m 0.7471857551919938) ∧ ⟨G⟩(\u001b[1mmin[\u001b[31mmfcc11\u001b[0m] \u001b[1m<\u001b[0m\u001b[0m -0.6418413457274044)))\n",
      "│ │├✔ Healthy\n",
      "│ │└✘ ⟨G⟩((\u001b[1mmin[\u001b[31mmfcc3\u001b[0m] \u001b[1m<\u001b[0m\u001b[0m -0.42238800051820113) ∧ ⟨A̅O̅⟩((\u001b[1mmin[\u001b[31mmfcc9\u001b[0m] \u001b[1m≥\u001b[0m\u001b[0m 0.7471857551919938) ∧ (\u001b[1mmin[\u001b[33mmel4=558Hz\u001b[0m] \u001b[1m≥\u001b[0m\u001b[0m 7.914865476662152e-5)))\n",
      "│ │ ├✔ ⟨G⟩((\u001b[1mmin[\u001b[31mmfcc3\u001b[0m] \u001b[1m<\u001b[0m\u001b[0m -0.42238800051820113) ∧ ⟨A̅O̅⟩((\u001b[1mmin[\u001b[31mmfcc9\u001b[0m] \u001b[1m≥\u001b[0m\u001b[0m 0.7471857551919938) ∧ (\u001b[1mmin[\u001b[33mmel4=558Hz\u001b[0m] \u001b[1m≥\u001b[0m\u001b[0m 7.914865476662152e-5) ∧ (\u001b[1mmin[\u001b[33mmel3=488Hz\u001b[0m] \u001b[1m≥\u001b[0m\u001b[0m 0.005262215103371913)))\n",
      "│ │ │├✔ Healthy\n",
      "│ │ │└✘ Pneumonia\n",
      "│ │ └✘ Healthy\n",
      "│ └✘ ⟨G⟩((\u001b[1mmin[\u001b[31mmfcc3\u001b[0m] \u001b[1m<\u001b[0m\u001b[0m -0.42238800051820113) ∧ ⟨A̅O̅⟩(\u001b[1mmax[\u001b[33mmel12=1289Hz\u001b[0m] \u001b[1m<\u001b[0m\u001b[0m 6.984123307163207e-6))\n",
      "│  ├✔ ⟨G⟩((\u001b[1mmin[\u001b[31mmfcc3\u001b[0m] \u001b[1m<\u001b[0m\u001b[0m -0.42238800051820113) ∧ ⟨A̅O̅⟩((\u001b[1mmax[\u001b[33mmel12=1289Hz\u001b[0m] \u001b[1m<\u001b[0m\u001b[0m 6.984123307163207e-6) ∧ ⟨G⟩(\u001b[1mmin[\u001b[31mmfcc2\u001b[0m] \u001b[1m<\u001b[0m\u001b[0m 1.4512340956276355)))\n",
      "│  │├✔ Healthy\n",
      "│  │└✘ ⟨G⟩((\u001b[1mmin[\u001b[31mmfcc3\u001b[0m] \u001b[1m<\u001b[0m\u001b[0m -0.42238800051820113) ∧ ⟨A̅O̅⟩((\u001b[1mmax[\u001b[33mmel12=1289Hz\u001b[0m] \u001b[1m<\u001b[0m\u001b[0m 6.984123307163207e-6) ∧ ⟨AO⟩(\u001b[1mmin[\u001b[33mmel26=3738Hz\u001b[0m] \u001b[1m≥\u001b[0m\u001b[0m 1.4355061207299876e-7)))\n",
      "│  │ ├✔ Pneumonia\n",
      "│  │ └✘ ⟨G⟩((\u001b[1mmin[\u001b[31mmfcc3\u001b[0m] \u001b[1m<\u001b[0m\u001b[0m -0.42238800051820113) ∧ ⟨A̅O̅⟩((\u001b[1mmax[\u001b[33mmel12=1289Hz\u001b[0m] \u001b[1m<\u001b[0m\u001b[0m 6.984123307163207e-6) ∧ (\u001b[1mmin[\u001b[31mmfcc6\u001b[0m] \u001b[1m<\u001b[0m\u001b[0m -0.19035486201149135)))\n",
      "│  │  ├✔ Healthy\n",
      "│  │  └✘ Pneumonia\n",
      "│  └✘ Healthy\n",
      "└✘ ⟨G⟩(\u001b[1mmin[\u001b[31mmfcc2\u001b[0m] \u001b[1m<\u001b[0m\u001b[0m 1.4408221727109625)\n",
      " ├✔ Healthy\n",
      " └✘ ⟨G⟩(\u001b[1mmin[\u001b[33mmel10=1074Hz\u001b[0m] \u001b[1m<\u001b[0m\u001b[0m 4.818977776485951e-6)\n",
      "  ├✔ ⟨G⟩((\u001b[1mmin[\u001b[33mmel10=1074Hz\u001b[0m] \u001b[1m<\u001b[0m\u001b[0m 4.818977776485951e-6) ∧ (\u001b[1mmax[\u001b[36mentrp\u001b[0m] \u001b[1m≥\u001b[0m\u001b[0m 0.667843307101543))\n",
      "  │├✔ Pneumonia\n",
      "  │└✘ ⟨G⟩((\u001b[1mmin[\u001b[33mmel10=1074Hz\u001b[0m] \u001b[1m<\u001b[0m\u001b[0m 4.818977776485951e-6) ∧ (\u001b[1mmin[\u001b[33mmel2=421Hz\u001b[0m] \u001b[1m≥\u001b[0m\u001b[0m 0.0007678914702210188))\n",
      "  │ ├✔ Pneumonia\n",
      "  │ └✘ Healthy\n",
      "  └✘ Healthy\n"
     ]
    }
   ],
   "source": [
    "learned_dt_tree = begin\n",
    "    model = ModalDecisionTree(; relations = :IA7, features = features)\n",
    "    mach = machine(model, X_train, y_train) |> fit!\n",
    "end\n",
    "\n",
    "report(learned_dt_tree).printmodel(variable_names_map=variable_names);"
   ]
  },
  {
   "cell_type": "markdown",
   "metadata": {},
   "source": [
    "### Model inspection & rule study"
   ]
  },
  {
   "cell_type": "code",
   "execution_count": 7,
   "metadata": {},
   "outputs": [
    {
     "name": "stderr",
     "output_type": "stream",
     "text": [
      "\u001b[32mApplying tree... 100%|███████████████████████████████████| Time: 0:00:06\u001b[39m\n"
     ]
    },
    {
     "name": "stdout",
     "output_type": "stream",
     "text": [
      "\u001b[34m▣\u001b[0m ⟨G⟩(\u001b[1mmin[\u001b[31mmfcc3\u001b[0m] \u001b[1m<\u001b[0m\u001b[0m -0.42238800051820113)\n",
      "├✔ ⟨G⟩((\u001b[1mmin[\u001b[31mmfcc3\u001b[0m] \u001b[1m<\u001b[0m\u001b[0m -0.42238800051820113) ∧ ⟨A̅O̅⟩(\u001b[1mmin[\u001b[36mcntrd\u001b[0m] \u001b[1m≥\u001b[0m\u001b[0m 1241.5325730780178))\n",
      "│├✔ ⟨G⟩((\u001b[1mmin[\u001b[31mmfcc3\u001b[0m] \u001b[1m<\u001b[0m\u001b[0m -0.42238800051820113) ∧ ⟨A̅O̅⟩((\u001b[1mmin[\u001b[36mcntrd\u001b[0m] \u001b[1m≥\u001b[0m\u001b[0m 1241.5325730780178) ∧ ⟨L⟩(\u001b[1mmin[\u001b[36msprd\u001b[0m] \u001b[1m≥\u001b[0m\u001b[0m 693.3580008260416)))\n",
      "││├✔ ⟨G⟩((\u001b[1mmin[\u001b[31mmfcc3\u001b[0m] \u001b[1m<\u001b[0m\u001b[0m -0.42238800051820113) ∧ ⟨A̅O̅⟩((\u001b[1mmin[\u001b[36mcntrd\u001b[0m] \u001b[1m≥\u001b[0m\u001b[0m 1241.5325730780178) ∧ ⟨L⟩((\u001b[1mmin[\u001b[36msprd\u001b[0m] \u001b[1m≥\u001b[0m\u001b[0m 693.3580008260416) ∧ (\u001b[1mmin[\u001b[31mmfcc2\u001b[0m] \u001b[1m≥\u001b[0m\u001b[0m 2.132583349861581))))\n",
      "│││├✔ Healthy : (ninstances = 27, ncovered = 27, confidence = 0.89, lift = 1.0)\n",
      "│││└✘ Healthy : (ninstances = 1, ncovered = 1, confidence = 1.0, lift = 1.0)\n",
      "││└✘ ⟨G⟩((\u001b[1mmin[\u001b[31mmfcc3\u001b[0m] \u001b[1m<\u001b[0m\u001b[0m -0.42238800051820113) ∧ ⟨A̅O̅⟩((\u001b[1mmin[\u001b[36mcntrd\u001b[0m] \u001b[1m≥\u001b[0m\u001b[0m 1241.5325730780178) ∧ ⟨AO⟩(\u001b[1mmin[\u001b[33mmel3=488Hz\u001b[0m] \u001b[1m≥\u001b[0m\u001b[0m 2.773555451829634e-5)))\n",
      "││ ├✔ Pneumonia : (ninstances = 1, ncovered = 1, confidence = 1.0, lift = 1.0)\n",
      "││ └✘ Healthy : (ninstances = 3, ncovered = 3, confidence = 0.67, lift = 1.0)\n",
      "│└✘ ⟨G⟩((\u001b[1mmin[\u001b[31mmfcc3\u001b[0m] \u001b[1m<\u001b[0m\u001b[0m -0.42238800051820113) ∧ ⟨A̅O̅⟩(\u001b[1mmin[\u001b[31mmfcc9\u001b[0m] \u001b[1m≥\u001b[0m\u001b[0m 0.7471857551919938))\n",
      "│ ├✔ ⟨G⟩((\u001b[1mmin[\u001b[31mmfcc3\u001b[0m] \u001b[1m<\u001b[0m\u001b[0m -0.42238800051820113) ∧ ⟨A̅O̅⟩((\u001b[1mmin[\u001b[31mmfcc9\u001b[0m] \u001b[1m≥\u001b[0m\u001b[0m 0.7471857551919938) ∧ ⟨G⟩(\u001b[1mmin[\u001b[31mmfcc11\u001b[0m] \u001b[1m<\u001b[0m\u001b[0m -0.6418413457274044)))\n",
      "│ │├✔ ⟨G⟩((\u001b[1mmin[\u001b[31mmfcc3\u001b[0m] \u001b[1m<\u001b[0m\u001b[0m -0.42238800051820113) ∧ ⟨A̅O̅⟩((\u001b[1mmin[\u001b[31mmfcc9\u001b[0m] \u001b[1m≥\u001b[0m\u001b[0m 0.7471857551919938) ∧ ⟨G⟩((\u001b[1mmin[\u001b[31mmfcc11\u001b[0m] \u001b[1m<\u001b[0m\u001b[0m -0.6418413457274044) ∧ (\u001b[1mmax[\u001b[33mmel1=359Hz\u001b[0m] \u001b[1m<\u001b[0m\u001b[0m 7.7562893907518e-6))))\n",
      "│ ││├✔ Healthy : (ninstances = 0, ncovered = 0, confidence = NaN, lift = NaN)\n",
      "│ ││└✘ Healthy : (ninstances = 6, ncovered = 6, confidence = 0.33, lift = 1.0)\n",
      "│ │└✘ ⟨G⟩((\u001b[1mmin[\u001b[31mmfcc3\u001b[0m] \u001b[1m<\u001b[0m\u001b[0m -0.42238800051820113) ∧ ⟨A̅O̅⟩((\u001b[1mmin[\u001b[31mmfcc9\u001b[0m] \u001b[1m≥\u001b[0m\u001b[0m 0.7471857551919938) ∧ (\u001b[1mmin[\u001b[33mmel4=558Hz\u001b[0m] \u001b[1m≥\u001b[0m\u001b[0m 7.914865476662152e-5)))\n",
      "│ │ ├✔ ⟨G⟩((\u001b[1mmin[\u001b[31mmfcc3\u001b[0m] \u001b[1m<\u001b[0m\u001b[0m -0.42238800051820113) ∧ ⟨A̅O̅⟩((\u001b[1mmin[\u001b[31mmfcc9\u001b[0m] \u001b[1m≥\u001b[0m\u001b[0m 0.7471857551919938) ∧ (\u001b[1mmin[\u001b[33mmel4=558Hz\u001b[0m] \u001b[1m≥\u001b[0m\u001b[0m 7.914865476662152e-5) ∧ (\u001b[1mmin[\u001b[33mmel3=488Hz\u001b[0m] \u001b[1m≥\u001b[0m\u001b[0m 0.005262215103371913)))\n",
      "│ │ │├✔ Healthy : (ninstances = 2, ncovered = 2, confidence = 1.0, lift = 1.0)\n",
      "│ │ │└✘ Pneumonia : (ninstances = 2, ncovered = 2, confidence = 0.0, lift = NaN)\n",
      "│ │ └✘ ⟨G⟩((\u001b[1mmin[\u001b[31mmfcc3\u001b[0m] \u001b[1m<\u001b[0m\u001b[0m -0.42238800051820113) ∧ ⟨A̅O̅⟩((\u001b[1mmin[\u001b[31mmfcc9\u001b[0m] \u001b[1m≥\u001b[0m\u001b[0m 0.7471857551919938) ∧ (\u001b[1mmin[\u001b[33mmel7=794Hz\u001b[0m] \u001b[1m<\u001b[0m\u001b[0m 5.142339326548244e-7)))\n",
      "│ │  ├✔ Healthy : (ninstances = 3, ncovered = 3, confidence = 0.67, lift = 1.0)\n",
      "│ │  └✘ Healthy : (ninstances = 3, ncovered = 3, confidence = 0.67, lift = 1.0)\n",
      "│ └✘ ⟨G⟩((\u001b[1mmin[\u001b[31mmfcc3\u001b[0m] \u001b[1m<\u001b[0m\u001b[0m -0.42238800051820113) ∧ ⟨A̅O̅⟩(\u001b[1mmax[\u001b[33mmel12=1289Hz\u001b[0m] \u001b[1m<\u001b[0m\u001b[0m 6.984123307163207e-6))\n",
      "│  ├✔ ⟨G⟩((\u001b[1mmin[\u001b[31mmfcc3\u001b[0m] \u001b[1m<\u001b[0m\u001b[0m -0.42238800051820113) ∧ ⟨A̅O̅⟩((\u001b[1mmax[\u001b[33mmel12=1289Hz\u001b[0m] \u001b[1m<\u001b[0m\u001b[0m 6.984123307163207e-6) ∧ ⟨G⟩(\u001b[1mmin[\u001b[31mmfcc2\u001b[0m] \u001b[1m<\u001b[0m\u001b[0m 1.4512340956276355)))\n",
      "│  │├✔ Healthy : (ninstances = 2, ncovered = 2, confidence = 1.0, lift = 1.0)\n",
      "│  │└✘ ⟨G⟩((\u001b[1mmin[\u001b[31mmfcc3\u001b[0m] \u001b[1m<\u001b[0m\u001b[0m -0.42238800051820113) ∧ ⟨A̅O̅⟩((\u001b[1mmax[\u001b[33mmel12=1289Hz\u001b[0m] \u001b[1m<\u001b[0m\u001b[0m 6.984123307163207e-6) ∧ ⟨AO⟩(\u001b[1mmin[\u001b[33mmel26=3738Hz\u001b[0m] \u001b[1m≥\u001b[0m\u001b[0m 1.4355061207299876e-7)))\n",
      "│  │ ├✔ Pneumonia : (ninstances = 8, ncovered = 8, confidence = 0.62, lift = 1.0)\n",
      "│  │ └✘ ⟨G⟩((\u001b[1mmin[\u001b[31mmfcc3\u001b[0m] \u001b[1m<\u001b[0m\u001b[0m -0.42238800051820113) ∧ ⟨A̅O̅⟩((\u001b[1mmax[\u001b[33mmel12=1289Hz\u001b[0m] \u001b[1m<\u001b[0m\u001b[0m 6.984123307163207e-6) ∧ (\u001b[1mmin[\u001b[31mmfcc6\u001b[0m] \u001b[1m<\u001b[0m\u001b[0m -0.19035486201149135)))\n",
      "│  │  ├✔ Healthy : (ninstances = 0, ncovered = 0, confidence = NaN, lift = NaN)\n",
      "│  │  └✘ Pneumonia : (ninstances = 0, ncovered = 0, confidence = NaN, lift = NaN)\n",
      "│  └✘ ⟨G⟩((\u001b[1mmin[\u001b[31mmfcc3\u001b[0m] \u001b[1m<\u001b[0m\u001b[0m -0.42238800051820113) ∧ (\u001b[1mmin[\u001b[33mmel1=359Hz\u001b[0m] \u001b[1m≥\u001b[0m\u001b[0m 0.010596277594378947))\n",
      "│   ├✔ Healthy : (ninstances = 0, ncovered = 0, confidence = NaN, lift = NaN)\n",
      "│   └✘ Healthy : (ninstances = 1, ncovered = 1, confidence = 1.0, lift = 1.0)\n",
      "└✘ ⟨G⟩(\u001b[1mmin[\u001b[31mmfcc2\u001b[0m] \u001b[1m<\u001b[0m\u001b[0m 1.4408221727109625)\n",
      " ├✔ ⟨G⟩((\u001b[1mmin[\u001b[31mmfcc2\u001b[0m] \u001b[1m<\u001b[0m\u001b[0m 1.4408221727109625) ∧ (\u001b[1mmin[\u001b[33mmel1=359Hz\u001b[0m] \u001b[1m≥\u001b[0m\u001b[0m 2.2117528019512427e-5))\n",
      " │├✔ Healthy : (ninstances = 1, ncovered = 1, confidence = 1.0, lift = 1.0)\n",
      " │└✘ Healthy : (ninstances = 0, ncovered = 0, confidence = NaN, lift = NaN)\n",
      " └✘ ⟨G⟩(\u001b[1mmin[\u001b[33mmel10=1074Hz\u001b[0m] \u001b[1m<\u001b[0m\u001b[0m 4.818977776485951e-6)\n",
      "  ├✔ ⟨G⟩((\u001b[1mmin[\u001b[33mmel10=1074Hz\u001b[0m] \u001b[1m<\u001b[0m\u001b[0m 4.818977776485951e-6) ∧ (\u001b[1mmax[\u001b[36mentrp\u001b[0m] \u001b[1m≥\u001b[0m\u001b[0m 0.667843307101543))\n",
      "  │├✔ Pneumonia : (ninstances = 36, ncovered = 36, confidence = 0.97, lift = 1.0)\n",
      "  │└✘ ⟨G⟩((\u001b[1mmin[\u001b[33mmel10=1074Hz\u001b[0m] \u001b[1m<\u001b[0m\u001b[0m 4.818977776485951e-6) ∧ (\u001b[1mmin[\u001b[33mmel2=421Hz\u001b[0m] \u001b[1m≥\u001b[0m\u001b[0m 0.0007678914702210188))\n",
      "  │ ├✔ Pneumonia : (ninstances = 3, ncovered = 3, confidence = 1.0, lift = 1.0)\n",
      "  │ └✘ Healthy : (ninstances = 0, ncovered = 0, confidence = NaN, lift = NaN)\n",
      "  └✘ Healthy : (ninstances = 2, ncovered = 2, confidence = 0.0, lift = NaN)\n"
     ]
    }
   ],
   "source": [
    "_, mtree = report(mach).sprinkle(X_test, y_test)\n",
    "sole_dt = ModalDecisionTrees.translate(mtree)\n",
    "\n",
    "printmodel(sole_dt; show_metrics = true, variable_names_map=variable_names);"
   ]
  },
  {
   "cell_type": "markdown",
   "metadata": {},
   "source": [
    "### Extract rules that are at least as good as a random baseline model"
   ]
  },
  {
   "cell_type": "code",
   "execution_count": 8,
   "metadata": {},
   "outputs": [
    {
     "name": "stdout",
     "output_type": "stream",
     "text": [
      "\u001b[34m▣\u001b[0m ⟨G⟩((\u001b[1mmin[\u001b[31mmfcc3\u001b[0m] \u001b[1m<\u001b[0m\u001b[0m -0.42238800051820113) ∧ ⟨A̅O̅⟩((\u001b[1mmin[\u001b[36mcntrd\u001b[0m] \u001b[1m≥\u001b[0m\u001b[0m 1241.5325730780178) ∧ ⟨L⟩((\u001b[1mmin[\u001b[36msprd\u001b[0m] \u001b[1m≥\u001b[0m\u001b[0m 693.3580008260416) ∧ (\u001b[1mmin[\u001b[31mmfcc2\u001b[0m] \u001b[1m≥\u001b[0m\u001b[0m 2.132583349861581))))  ↣  Healthy : (ninstances = 101, ncovered = 27, coverage = 0.27, confidence = 0.89, lift = 2.0, natoms = 4)\n",
      "\u001b[34m▣\u001b[0m ⟨G⟩((\u001b[1mmin[\u001b[31mmfcc3\u001b[0m] \u001b[1m<\u001b[0m\u001b[0m -0.42238800051820113) ∧ ⟨A̅O̅⟩((\u001b[1mmin[\u001b[36mcntrd\u001b[0m] \u001b[1m≥\u001b[0m\u001b[0m 1241.5325730780178) ∧ ⟨L⟩(\u001b[1mmin[\u001b[36msprd\u001b[0m] \u001b[1m≥\u001b[0m\u001b[0m 693.3580008260416))) ∧ [G]((\u001b[1mmin[\u001b[31mmfcc3\u001b[0m] \u001b[1m<\u001b[0m\u001b[0m -0.42238800051820113) → [A̅O̅]((\u001b[1mmin[\u001b[36mcntrd\u001b[0m] \u001b[1m≥\u001b[0m\u001b[0m 1241.5325730780178) → [L]((\u001b[1mmin[\u001b[36msprd\u001b[0m] \u001b[1m≥\u001b[0m\u001b[0m 693.3580008260416) → (\u001b[1mmin[\u001b[31mmfcc2\u001b[0m] \u001b[1m<\u001b[0m\u001b[0m 2.132583349861581))))  ↣  Healthy : (ninstances = 101, ncovered = 1, coverage = 0.01, confidence = 1.0, lift = 2.24, natoms = 7)\n",
      "\u001b[34m▣\u001b[0m ⟨G⟩((\u001b[1mmin[\u001b[31mmfcc3\u001b[0m] \u001b[1m<\u001b[0m\u001b[0m -0.42238800051820113) ∧ ⟨A̅O̅⟩((\u001b[1mmin[\u001b[36mcntrd\u001b[0m] \u001b[1m≥\u001b[0m\u001b[0m 1241.5325730780178) ∧ ⟨AO⟩(\u001b[1mmin[\u001b[33mmel3=488Hz\u001b[0m] \u001b[1m≥\u001b[0m\u001b[0m 2.773555451829634e-5))) ∧ [G]((\u001b[1mmin[\u001b[31mmfcc3\u001b[0m] \u001b[1m<\u001b[0m\u001b[0m -0.42238800051820113) → [A̅O̅]((\u001b[1mmin[\u001b[36mcntrd\u001b[0m] \u001b[1m≥\u001b[0m\u001b[0m 1241.5325730780178) → [L](\u001b[1mmin[\u001b[36msprd\u001b[0m] \u001b[1m<\u001b[0m\u001b[0m 693.3580008260416)))  ↣  Pneumonia : (ninstances = 101, ncovered = 1, coverage = 0.01, confidence = 1.0, lift = 1.8, natoms = 6)\n",
      "\u001b[34m▣\u001b[0m ⟨G⟩((\u001b[1mmin[\u001b[31mmfcc3\u001b[0m] \u001b[1m<\u001b[0m\u001b[0m -0.42238800051820113) ∧ ⟨A̅O̅⟩(\u001b[1mmin[\u001b[36mcntrd\u001b[0m] \u001b[1m≥\u001b[0m\u001b[0m 1241.5325730780178)) ∧ [G]((\u001b[1mmin[\u001b[31mmfcc3\u001b[0m] \u001b[1m<\u001b[0m\u001b[0m -0.42238800051820113) → [A̅O̅]((\u001b[1mmin[\u001b[36mcntrd\u001b[0m] \u001b[1m≥\u001b[0m\u001b[0m 1241.5325730780178) → [L](\u001b[1mmin[\u001b[36msprd\u001b[0m] \u001b[1m<\u001b[0m\u001b[0m 693.3580008260416))) ∧ [G]((\u001b[1mmin[\u001b[31mmfcc3\u001b[0m] \u001b[1m<\u001b[0m\u001b[0m -0.42238800051820113) → [A̅O̅]((\u001b[1mmin[\u001b[36mcntrd\u001b[0m] \u001b[1m≥\u001b[0m\u001b[0m 1241.5325730780178) → [AO](\u001b[1mmin[\u001b[33mmel3=488Hz\u001b[0m] \u001b[1m<\u001b[0m\u001b[0m 2.773555451829634e-5)))  ↣  Healthy : (ninstances = 101, ncovered = 3, coverage = 0.03, confidence = 0.67, lift = 1.5, natoms = 8)\n",
      "\u001b[34m▣\u001b[0m ⟨G⟩((\u001b[1mmin[\u001b[31mmfcc3\u001b[0m] \u001b[1m<\u001b[0m\u001b[0m -0.42238800051820113) ∧ ⟨A̅O̅⟩((\u001b[1mmin[\u001b[31mmfcc9\u001b[0m] \u001b[1m≥\u001b[0m\u001b[0m 0.7471857551919938) ∧ (\u001b[1mmin[\u001b[33mmel4=558Hz\u001b[0m] \u001b[1m≥\u001b[0m\u001b[0m 7.914865476662152e-5) ∧ (\u001b[1mmin[\u001b[33mmel3=488Hz\u001b[0m] \u001b[1m≥\u001b[0m\u001b[0m 0.005262215103371913))) ∧ [G]((\u001b[1mmin[\u001b[31mmfcc3\u001b[0m] \u001b[1m<\u001b[0m\u001b[0m -0.42238800051820113) → [A̅O̅](\u001b[1mmin[\u001b[36mcntrd\u001b[0m] \u001b[1m<\u001b[0m\u001b[0m 1241.5325730780178)) ∧ [G]((\u001b[1mmin[\u001b[31mmfcc3\u001b[0m] \u001b[1m<\u001b[0m\u001b[0m -0.42238800051820113) → [A̅O̅]((\u001b[1mmin[\u001b[31mmfcc9\u001b[0m] \u001b[1m≥\u001b[0m\u001b[0m 0.7471857551919938) → [G](\u001b[1mmin[\u001b[31mmfcc11\u001b[0m] \u001b[1m≥\u001b[0m\u001b[0m -0.6418413457274044)))  ↣  Healthy : (ninstances = 101, ncovered = 2, coverage = 0.02, confidence = 1.0, lift = 2.24, natoms = 9)\n",
      "\u001b[34m▣\u001b[0m ⟨G⟩((\u001b[1mmin[\u001b[31mmfcc3\u001b[0m] \u001b[1m<\u001b[0m\u001b[0m -0.42238800051820113) ∧ ⟨A̅O̅⟩((\u001b[1mmin[\u001b[31mmfcc9\u001b[0m] \u001b[1m≥\u001b[0m\u001b[0m 0.7471857551919938) ∧ (\u001b[1mmin[\u001b[33mmel7=794Hz\u001b[0m] \u001b[1m<\u001b[0m\u001b[0m 5.142339326548244e-7))) ∧ [G]((\u001b[1mmin[\u001b[31mmfcc3\u001b[0m] \u001b[1m<\u001b[0m\u001b[0m -0.42238800051820113) → [A̅O̅](\u001b[1mmin[\u001b[36mcntrd\u001b[0m] \u001b[1m<\u001b[0m\u001b[0m 1241.5325730780178)) ∧ [G]((\u001b[1mmin[\u001b[31mmfcc3\u001b[0m] \u001b[1m<\u001b[0m\u001b[0m -0.42238800051820113) → [A̅O̅]((\u001b[1mmin[\u001b[31mmfcc9\u001b[0m] \u001b[1m≥\u001b[0m\u001b[0m 0.7471857551919938) → [G](\u001b[1mmin[\u001b[31mmfcc11\u001b[0m] \u001b[1m≥\u001b[0m\u001b[0m -0.6418413457274044))) ∧ [G]((\u001b[1mmin[\u001b[31mmfcc3\u001b[0m] \u001b[1m<\u001b[0m\u001b[0m -0.42238800051820113) → [A̅O̅]((\u001b[1mmin[\u001b[31mmfcc9\u001b[0m] \u001b[1m≥\u001b[0m\u001b[0m 0.7471857551919938) → (\u001b[1mmin[\u001b[33mmel4=558Hz\u001b[0m] \u001b[1m<\u001b[0m\u001b[0m 7.914865476662152e-5)))  ↣  Healthy : (ninstances = 101, ncovered = 3, coverage = 0.03, confidence = 0.67, lift = 1.5, natoms = 11)\n",
      "\u001b[34m▣\u001b[0m ⟨G⟩((\u001b[1mmin[\u001b[31mmfcc3\u001b[0m] \u001b[1m<\u001b[0m\u001b[0m -0.42238800051820113) ∧ ⟨A̅O̅⟩(\u001b[1mmin[\u001b[31mmfcc9\u001b[0m] \u001b[1m≥\u001b[0m\u001b[0m 0.7471857551919938)) ∧ [G]((\u001b[1mmin[\u001b[31mmfcc3\u001b[0m] \u001b[1m<\u001b[0m\u001b[0m -0.42238800051820113) → [A̅O̅](\u001b[1mmin[\u001b[36mcntrd\u001b[0m] \u001b[1m<\u001b[0m\u001b[0m 1241.5325730780178)) ∧ [G]((\u001b[1mmin[\u001b[31mmfcc3\u001b[0m] \u001b[1m<\u001b[0m\u001b[0m -0.42238800051820113) → [A̅O̅]((\u001b[1mmin[\u001b[31mmfcc9\u001b[0m] \u001b[1m≥\u001b[0m\u001b[0m 0.7471857551919938) → [G](\u001b[1mmin[\u001b[31mmfcc11\u001b[0m] \u001b[1m≥\u001b[0m\u001b[0m -0.6418413457274044))) ∧ [G]((\u001b[1mmin[\u001b[31mmfcc3\u001b[0m] \u001b[1m<\u001b[0m\u001b[0m -0.42238800051820113) → [A̅O̅]((\u001b[1mmin[\u001b[31mmfcc9\u001b[0m] \u001b[1m≥\u001b[0m\u001b[0m 0.7471857551919938) → (\u001b[1mmin[\u001b[33mmel4=558Hz\u001b[0m] \u001b[1m<\u001b[0m\u001b[0m 7.914865476662152e-5))) ∧ [G]((\u001b[1mmin[\u001b[31mmfcc3\u001b[0m] \u001b[1m<\u001b[0m\u001b[0m -0.42238800051820113) → [A̅O̅]((\u001b[1mmin[\u001b[31mmfcc9\u001b[0m] \u001b[1m≥\u001b[0m\u001b[0m 0.7471857551919938) → (\u001b[1mmin[\u001b[33mmel7=794Hz\u001b[0m] \u001b[1m≥\u001b[0m\u001b[0m 5.142339326548244e-7)))  ↣  Healthy : (ninstances = 101, ncovered = 3, coverage = 0.03, confidence = 0.67, lift = 1.5, natoms = 13)\n",
      "\u001b[34m▣\u001b[0m ⟨G⟩((\u001b[1mmin[\u001b[31mmfcc3\u001b[0m] \u001b[1m<\u001b[0m\u001b[0m -0.42238800051820113) ∧ ⟨A̅O̅⟩((\u001b[1mmax[\u001b[33mmel12=1289Hz\u001b[0m] \u001b[1m<\u001b[0m\u001b[0m 6.984123307163207e-6) ∧ ⟨G⟩(\u001b[1mmin[\u001b[31mmfcc2\u001b[0m] \u001b[1m<\u001b[0m\u001b[0m 1.4512340956276355))) ∧ [G]((\u001b[1mmin[\u001b[31mmfcc3\u001b[0m] \u001b[1m<\u001b[0m\u001b[0m -0.42238800051820113) → [A̅O̅](\u001b[1mmin[\u001b[36mcntrd\u001b[0m] \u001b[1m<\u001b[0m\u001b[0m 1241.5325730780178)) ∧ [G]((\u001b[1mmin[\u001b[31mmfcc3\u001b[0m] \u001b[1m<\u001b[0m\u001b[0m -0.42238800051820113) → [A̅O̅](\u001b[1mmin[\u001b[31mmfcc9\u001b[0m] \u001b[1m<\u001b[0m\u001b[0m 0.7471857551919938))  ↣  Healthy : (ninstances = 101, ncovered = 2, coverage = 0.02, confidence = 1.0, lift = 2.24, natoms = 7)\n",
      "\u001b[34m▣\u001b[0m ⟨G⟩((\u001b[1mmin[\u001b[31mmfcc3\u001b[0m] \u001b[1m<\u001b[0m\u001b[0m -0.42238800051820113) ∧ ⟨A̅O̅⟩((\u001b[1mmax[\u001b[33mmel12=1289Hz\u001b[0m] \u001b[1m<\u001b[0m\u001b[0m 6.984123307163207e-6) ∧ ⟨AO⟩(\u001b[1mmin[\u001b[33mmel26=3738Hz\u001b[0m] \u001b[1m≥\u001b[0m\u001b[0m 1.4355061207299876e-7))) ∧ [G]((\u001b[1mmin[\u001b[31mmfcc3\u001b[0m] \u001b[1m<\u001b[0m\u001b[0m -0.42238800051820113) → [A̅O̅](\u001b[1mmin[\u001b[36mcntrd\u001b[0m] \u001b[1m<\u001b[0m\u001b[0m 1241.5325730780178)) ∧ [G]((\u001b[1mmin[\u001b[31mmfcc3\u001b[0m] \u001b[1m<\u001b[0m\u001b[0m -0.42238800051820113) → [A̅O̅](\u001b[1mmin[\u001b[31mmfcc9\u001b[0m] \u001b[1m<\u001b[0m\u001b[0m 0.7471857551919938)) ∧ [G]((\u001b[1mmin[\u001b[31mmfcc3\u001b[0m] \u001b[1m<\u001b[0m\u001b[0m -0.42238800051820113) → [A̅O̅]((\u001b[1mmax[\u001b[33mmel12=1289Hz\u001b[0m] \u001b[1m<\u001b[0m\u001b[0m 6.984123307163207e-6) → [G](\u001b[1mmin[\u001b[31mmfcc2\u001b[0m] \u001b[1m≥\u001b[0m\u001b[0m 1.4512340956276355)))  ↣  Pneumonia : (ninstances = 101, ncovered = 8, coverage = 0.08, confidence = 0.62, lift = 1.13, natoms = 10)\n",
      "\u001b[34m▣\u001b[0m ⟨G⟩(\u001b[1mmin[\u001b[31mmfcc3\u001b[0m] \u001b[1m<\u001b[0m\u001b[0m -0.42238800051820113) ∧ [G]((\u001b[1mmin[\u001b[31mmfcc3\u001b[0m] \u001b[1m<\u001b[0m\u001b[0m -0.42238800051820113) → [A̅O̅](\u001b[1mmin[\u001b[36mcntrd\u001b[0m] \u001b[1m<\u001b[0m\u001b[0m 1241.5325730780178)) ∧ [G]((\u001b[1mmin[\u001b[31mmfcc3\u001b[0m] \u001b[1m<\u001b[0m\u001b[0m -0.42238800051820113) → [A̅O̅](\u001b[1mmin[\u001b[31mmfcc9\u001b[0m] \u001b[1m<\u001b[0m\u001b[0m 0.7471857551919938)) ∧ [G]((\u001b[1mmin[\u001b[31mmfcc3\u001b[0m] \u001b[1m<\u001b[0m\u001b[0m -0.42238800051820113) → [A̅O̅](\u001b[1mmax[\u001b[33mmel12=1289Hz\u001b[0m] \u001b[1m≥\u001b[0m\u001b[0m 6.984123307163207e-6)) ∧ [G]((\u001b[1mmin[\u001b[31mmfcc3\u001b[0m] \u001b[1m<\u001b[0m\u001b[0m -0.42238800051820113) → (\u001b[1mmin[\u001b[33mmel1=359Hz\u001b[0m] \u001b[1m<\u001b[0m\u001b[0m 0.010596277594378947))  ↣  Healthy : (ninstances = 101, ncovered = 1, coverage = 0.01, confidence = 1.0, lift = 2.24, natoms = 9)\n",
      "\u001b[34m▣\u001b[0m ⟨G⟩((\u001b[1mmin[\u001b[31mmfcc2\u001b[0m] \u001b[1m<\u001b[0m\u001b[0m 1.4408221727109625) ∧ (\u001b[1mmin[\u001b[33mmel1=359Hz\u001b[0m] \u001b[1m≥\u001b[0m\u001b[0m 2.2117528019512427e-5)) ∧ [G](\u001b[1mmin[\u001b[31mmfcc3\u001b[0m] \u001b[1m≥\u001b[0m\u001b[0m -0.42238800051820113)  ↣  Healthy : (ninstances = 101, ncovered = 1, coverage = 0.01, confidence = 1.0, lift = 2.24, natoms = 3)\n",
      "\u001b[34m▣\u001b[0m ⟨G⟩((\u001b[1mmin[\u001b[33mmel10=1074Hz\u001b[0m] \u001b[1m<\u001b[0m\u001b[0m 4.818977776485951e-6) ∧ (\u001b[1mmax[\u001b[36mentrp\u001b[0m] \u001b[1m≥\u001b[0m\u001b[0m 0.667843307101543)) ∧ [G](\u001b[1mmin[\u001b[31mmfcc3\u001b[0m] \u001b[1m≥\u001b[0m\u001b[0m -0.42238800051820113) ∧ [G](\u001b[1mmin[\u001b[31mmfcc2\u001b[0m] \u001b[1m≥\u001b[0m\u001b[0m 1.4408221727109625)  ↣  Pneumonia : (ninstances = 101, ncovered = 36, coverage = 0.36, confidence = 0.97, lift = 1.75, natoms = 4)\n",
      "\u001b[34m▣\u001b[0m ⟨G⟩((\u001b[1mmin[\u001b[33mmel10=1074Hz\u001b[0m] \u001b[1m<\u001b[0m\u001b[0m 4.818977776485951e-6) ∧ (\u001b[1mmin[\u001b[33mmel2=421Hz\u001b[0m] \u001b[1m≥\u001b[0m\u001b[0m 0.0007678914702210188)) ∧ [G](\u001b[1mmin[\u001b[31mmfcc3\u001b[0m] \u001b[1m≥\u001b[0m\u001b[0m -0.42238800051820113) ∧ [G](\u001b[1mmin[\u001b[31mmfcc2\u001b[0m] \u001b[1m≥\u001b[0m\u001b[0m 1.4408221727109625) ∧ [G]((\u001b[1mmin[\u001b[33mmel10=1074Hz\u001b[0m] \u001b[1m<\u001b[0m\u001b[0m 4.818977776485951e-6) → (\u001b[1mmax[\u001b[36mentrp\u001b[0m] \u001b[1m<\u001b[0m\u001b[0m 0.667843307101543))  ↣  Pneumonia : (ninstances = 101, ncovered = 3, coverage = 0.03, confidence = 1.0, lift = 1.8, natoms = 6)\n"
     ]
    }
   ],
   "source": [
    "interesting_rules = listrules(sole_dt, min_lift = 1.0, min_ninstances = 0);\n",
    "printmodel.(interesting_rules; show_metrics = true, variable_names_map=variable_names);"
   ]
  },
  {
   "cell_type": "markdown",
   "metadata": {},
   "source": [
    "### Simplify rules while extracting and prettify result"
   ]
  },
  {
   "cell_type": "code",
   "execution_count": 9,
   "metadata": {},
   "outputs": [
    {
     "name": "stdout",
     "output_type": "stream",
     "text": [
      "\u001b[34m▣\u001b[0m ⟨G⟩((\u001b[1mmin[\u001b[31mmfcc3\u001b[0m] \u001b[1m<\u001b[0m\u001b[0m -0.42) ∧ ⟨A̅O̅⟩((\u001b[1mmin[\u001b[36mcntrd\u001b[0m] \u001b[1m≥\u001b[0m\u001b[0m 1241.53) ∧ ⟨L⟩((\u001b[1mmin[\u001b[36msprd\u001b[0m] \u001b[1m≥\u001b[0m\u001b[0m 693.36) ∧ (\u001b[1mmin[\u001b[31mmfcc2\u001b[0m] \u001b[1m≥\u001b[0m\u001b[0m 2.13))))  ↣  Healthy : (ninstances = 101, ncovered = 27, coverage = 0.27, confidence = 0.89, lift = 2.0, natoms = 4)\n",
      "\u001b[34m▣\u001b[0m ⟨G⟩((\u001b[1mmin[\u001b[31mmfcc3\u001b[0m] \u001b[1m<\u001b[0m\u001b[0m -0.42) ∧ ⟨A̅O̅⟩((\u001b[1mmin[\u001b[36mcntrd\u001b[0m] \u001b[1m≥\u001b[0m\u001b[0m 1241.53) ∧ ⟨L⟩(\u001b[1mmin[\u001b[36msprd\u001b[0m] \u001b[1m≥\u001b[0m\u001b[0m 693.36))) ∧ [G]((\u001b[1mmin[\u001b[31mmfcc3\u001b[0m] \u001b[1m<\u001b[0m\u001b[0m -0.42) → [A̅O̅]((\u001b[1mmin[\u001b[36mcntrd\u001b[0m] \u001b[1m≥\u001b[0m\u001b[0m 1241.53) → [L]((\u001b[1mmin[\u001b[36msprd\u001b[0m] \u001b[1m≥\u001b[0m\u001b[0m 693.36) → (\u001b[1mmin[\u001b[31mmfcc2\u001b[0m] \u001b[1m<\u001b[0m\u001b[0m 2.13))))  ↣  Healthy : (ninstances = 101, ncovered = 1, coverage = 0.01, confidence = 1.0, lift = 2.24, natoms = 7)\n",
      "\u001b[34m▣\u001b[0m ⟨G⟩((\u001b[1mmin[\u001b[31mmfcc3\u001b[0m] \u001b[1m<\u001b[0m\u001b[0m -0.42) ∧ ⟨A̅O̅⟩((\u001b[1mmin[\u001b[36mcntrd\u001b[0m] \u001b[1m≥\u001b[0m\u001b[0m 1241.53) ∧ ⟨AO⟩(\u001b[1mmin[\u001b[33mmel3=488Hz\u001b[0m] \u001b[1m≥\u001b[0m\u001b[0m 0.0))) ∧ [G]((\u001b[1mmin[\u001b[31mmfcc3\u001b[0m] \u001b[1m<\u001b[0m\u001b[0m -0.42) → [A̅O̅]((\u001b[1mmin[\u001b[36mcntrd\u001b[0m] \u001b[1m≥\u001b[0m\u001b[0m 1241.53) → [L](\u001b[1mmin[\u001b[36msprd\u001b[0m] \u001b[1m<\u001b[0m\u001b[0m 693.36)))  ↣  Pneumonia : (ninstances = 101, ncovered = 1, coverage = 0.01, confidence = 1.0, lift = 1.8, natoms = 6)\n",
      "\u001b[34m▣\u001b[0m ⟨G⟩((\u001b[1mmin[\u001b[31mmfcc3\u001b[0m] \u001b[1m<\u001b[0m\u001b[0m -0.42) ∧ ⟨A̅O̅⟩(\u001b[1mmin[\u001b[36mcntrd\u001b[0m] \u001b[1m≥\u001b[0m\u001b[0m 1241.53)) ∧ [G]((\u001b[1mmin[\u001b[31mmfcc3\u001b[0m] \u001b[1m<\u001b[0m\u001b[0m -0.42) → [A̅O̅]((\u001b[1mmin[\u001b[36mcntrd\u001b[0m] \u001b[1m≥\u001b[0m\u001b[0m 1241.53) → [L](\u001b[1mmin[\u001b[36msprd\u001b[0m] \u001b[1m<\u001b[0m\u001b[0m 693.36))) ∧ [G]((\u001b[1mmin[\u001b[31mmfcc3\u001b[0m] \u001b[1m<\u001b[0m\u001b[0m -0.42) → [A̅O̅]((\u001b[1mmin[\u001b[36mcntrd\u001b[0m] \u001b[1m≥\u001b[0m\u001b[0m 1241.53) → [AO](\u001b[1mmin[\u001b[33mmel3=488Hz\u001b[0m] \u001b[1m<\u001b[0m\u001b[0m 0.0)))  ↣  Healthy : (ninstances = 101, ncovered = 3, coverage = 0.03, confidence = 0.67, lift = 1.5, natoms = 8)\n",
      "\u001b[34m▣\u001b[0m ⟨G⟩((\u001b[1mmin[\u001b[31mmfcc3\u001b[0m] \u001b[1m<\u001b[0m\u001b[0m -0.42) ∧ ⟨A̅O̅⟩((\u001b[1mmin[\u001b[31mmfcc9\u001b[0m] \u001b[1m≥\u001b[0m\u001b[0m 0.75) ∧ (\u001b[1mmin[\u001b[33mmel4=558Hz\u001b[0m] \u001b[1m≥\u001b[0m\u001b[0m 0.0) ∧ (\u001b[1mmin[\u001b[33mmel3=488Hz\u001b[0m] \u001b[1m≥\u001b[0m\u001b[0m 0.01))) ∧ [G]((\u001b[1mmin[\u001b[31mmfcc3\u001b[0m] \u001b[1m<\u001b[0m\u001b[0m -0.42) → [A̅O̅](\u001b[1mmin[\u001b[36mcntrd\u001b[0m] \u001b[1m<\u001b[0m\u001b[0m 1241.53)) ∧ [G]((\u001b[1mmin[\u001b[31mmfcc3\u001b[0m] \u001b[1m<\u001b[0m\u001b[0m -0.42) → [A̅O̅]((\u001b[1mmin[\u001b[31mmfcc9\u001b[0m] \u001b[1m≥\u001b[0m\u001b[0m 0.75) → [G](\u001b[1mmin[\u001b[31mmfcc11\u001b[0m] \u001b[1m≥\u001b[0m\u001b[0m -0.64)))  ↣  Healthy : (ninstances = 101, ncovered = 2, coverage = 0.02, confidence = 1.0, lift = 2.24, natoms = 9)\n",
      "\u001b[34m▣\u001b[0m ⟨G⟩((\u001b[1mmin[\u001b[31mmfcc3\u001b[0m] \u001b[1m<\u001b[0m\u001b[0m -0.42) ∧ ⟨A̅O̅⟩((\u001b[1mmin[\u001b[31mmfcc9\u001b[0m] \u001b[1m≥\u001b[0m\u001b[0m 0.75) ∧ (\u001b[1mmin[\u001b[33mmel7=794Hz\u001b[0m] \u001b[1m<\u001b[0m\u001b[0m 0.0))) ∧ [G]((\u001b[1mmin[\u001b[31mmfcc3\u001b[0m] \u001b[1m<\u001b[0m\u001b[0m -0.42) → [A̅O̅](\u001b[1mmin[\u001b[36mcntrd\u001b[0m] \u001b[1m<\u001b[0m\u001b[0m 1241.53)) ∧ [G]((\u001b[1mmin[\u001b[31mmfcc3\u001b[0m] \u001b[1m<\u001b[0m\u001b[0m -0.42) → [A̅O̅]((\u001b[1mmin[\u001b[31mmfcc9\u001b[0m] \u001b[1m≥\u001b[0m\u001b[0m 0.75) → [G](\u001b[1mmin[\u001b[31mmfcc11\u001b[0m] \u001b[1m≥\u001b[0m\u001b[0m -0.64))) ∧ [G]((\u001b[1mmin[\u001b[31mmfcc3\u001b[0m] \u001b[1m<\u001b[0m\u001b[0m -0.42) → [A̅O̅]((\u001b[1mmin[\u001b[31mmfcc9\u001b[0m] \u001b[1m≥\u001b[0m\u001b[0m 0.75) → (\u001b[1mmin[\u001b[33mmel4=558Hz\u001b[0m] \u001b[1m<\u001b[0m\u001b[0m 0.0)))  ↣  Healthy : (ninstances = 101, ncovered = 3, coverage = 0.03, confidence = 0.67, lift = 1.5, natoms = 11)\n",
      "\u001b[34m▣\u001b[0m ⟨G⟩((\u001b[1mmin[\u001b[31mmfcc3\u001b[0m] \u001b[1m<\u001b[0m\u001b[0m -0.42) ∧ ⟨A̅O̅⟩(\u001b[1mmin[\u001b[31mmfcc9\u001b[0m] \u001b[1m≥\u001b[0m\u001b[0m 0.75)) ∧ [G]((\u001b[1mmin[\u001b[31mmfcc3\u001b[0m] \u001b[1m<\u001b[0m\u001b[0m -0.42) → [A̅O̅](\u001b[1mmin[\u001b[36mcntrd\u001b[0m] \u001b[1m<\u001b[0m\u001b[0m 1241.53)) ∧ [G]((\u001b[1mmin[\u001b[31mmfcc3\u001b[0m] \u001b[1m<\u001b[0m\u001b[0m -0.42) → [A̅O̅]((\u001b[1mmin[\u001b[31mmfcc9\u001b[0m] \u001b[1m≥\u001b[0m\u001b[0m 0.75) → [G](\u001b[1mmin[\u001b[31mmfcc11\u001b[0m] \u001b[1m≥\u001b[0m\u001b[0m -0.64))) ∧ [G]((\u001b[1mmin[\u001b[31mmfcc3\u001b[0m] \u001b[1m<\u001b[0m\u001b[0m -0.42) → [A̅O̅]((\u001b[1mmin[\u001b[31mmfcc9\u001b[0m] \u001b[1m≥\u001b[0m\u001b[0m 0.75) → (\u001b[1mmin[\u001b[33mmel4=558Hz\u001b[0m] \u001b[1m<\u001b[0m\u001b[0m 0.0))) ∧ [G]((\u001b[1mmin[\u001b[31mmfcc3\u001b[0m] \u001b[1m<\u001b[0m\u001b[0m -0.42) → [A̅O̅]((\u001b[1mmin[\u001b[31mmfcc9\u001b[0m] \u001b[1m≥\u001b[0m\u001b[0m 0.75) → (\u001b[1mmin[\u001b[33mmel7=794Hz\u001b[0m] \u001b[1m≥\u001b[0m\u001b[0m 0.0)))  ↣  Healthy : (ninstances = 101, ncovered = 3, coverage = 0.03, confidence = 0.67, lift = 1.5, natoms = 13)\n",
      "\u001b[34m▣\u001b[0m ⟨G⟩((\u001b[1mmin[\u001b[31mmfcc3\u001b[0m] \u001b[1m<\u001b[0m\u001b[0m -0.42) ∧ ⟨A̅O̅⟩((\u001b[1mmax[\u001b[33mmel12=1289Hz\u001b[0m] \u001b[1m<\u001b[0m\u001b[0m 0.0) ∧ ⟨G⟩(\u001b[1mmin[\u001b[31mmfcc2\u001b[0m] \u001b[1m<\u001b[0m\u001b[0m 1.45))) ∧ [G]((\u001b[1mmin[\u001b[31mmfcc3\u001b[0m] \u001b[1m<\u001b[0m\u001b[0m -0.42) → [A̅O̅](\u001b[1mmin[\u001b[36mcntrd\u001b[0m] \u001b[1m<\u001b[0m\u001b[0m 1241.53)) ∧ [G]((\u001b[1mmin[\u001b[31mmfcc3\u001b[0m] \u001b[1m<\u001b[0m\u001b[0m -0.42) → [A̅O̅](\u001b[1mmin[\u001b[31mmfcc9\u001b[0m] \u001b[1m<\u001b[0m\u001b[0m 0.75))  ↣  Healthy : (ninstances = 101, ncovered = 2, coverage = 0.02, confidence = 1.0, lift = 2.24, natoms = 7)\n",
      "\u001b[34m▣\u001b[0m ⟨G⟩((\u001b[1mmin[\u001b[31mmfcc3\u001b[0m] \u001b[1m<\u001b[0m\u001b[0m -0.42) ∧ ⟨A̅O̅⟩((\u001b[1mmax[\u001b[33mmel12=1289Hz\u001b[0m] \u001b[1m<\u001b[0m\u001b[0m 0.0) ∧ ⟨AO⟩(\u001b[1mmin[\u001b[33mmel26=3738Hz\u001b[0m] \u001b[1m≥\u001b[0m\u001b[0m 0.0))) ∧ [G]((\u001b[1mmin[\u001b[31mmfcc3\u001b[0m] \u001b[1m<\u001b[0m\u001b[0m -0.42) → [A̅O̅](\u001b[1mmin[\u001b[36mcntrd\u001b[0m] \u001b[1m<\u001b[0m\u001b[0m 1241.53)) ∧ [G]((\u001b[1mmin[\u001b[31mmfcc3\u001b[0m] \u001b[1m<\u001b[0m\u001b[0m -0.42) → [A̅O̅](\u001b[1mmin[\u001b[31mmfcc9\u001b[0m] \u001b[1m<\u001b[0m\u001b[0m 0.75)) ∧ [G]((\u001b[1mmin[\u001b[31mmfcc3\u001b[0m] \u001b[1m<\u001b[0m\u001b[0m -0.42) → [A̅O̅]((\u001b[1mmax[\u001b[33mmel12=1289Hz\u001b[0m] \u001b[1m<\u001b[0m\u001b[0m 0.0) → [G](\u001b[1mmin[\u001b[31mmfcc2\u001b[0m] \u001b[1m≥\u001b[0m\u001b[0m 1.45)))  ↣  Pneumonia : (ninstances = 101, ncovered = 8, coverage = 0.08, confidence = 0.62, lift = 1.13, natoms = 10)\n",
      "\u001b[34m▣\u001b[0m ⟨G⟩(\u001b[1mmin[\u001b[31mmfcc3\u001b[0m] \u001b[1m<\u001b[0m\u001b[0m -0.42) ∧ [G]((\u001b[1mmin[\u001b[31mmfcc3\u001b[0m] \u001b[1m<\u001b[0m\u001b[0m -0.42) → [A̅O̅](\u001b[1mmin[\u001b[36mcntrd\u001b[0m] \u001b[1m<\u001b[0m\u001b[0m 1241.53)) ∧ [G]((\u001b[1mmin[\u001b[31mmfcc3\u001b[0m] \u001b[1m<\u001b[0m\u001b[0m -0.42) → [A̅O̅](\u001b[1mmin[\u001b[31mmfcc9\u001b[0m] \u001b[1m<\u001b[0m\u001b[0m 0.75)) ∧ [G]((\u001b[1mmin[\u001b[31mmfcc3\u001b[0m] \u001b[1m<\u001b[0m\u001b[0m -0.42) → [A̅O̅](\u001b[1mmax[\u001b[33mmel12=1289Hz\u001b[0m] \u001b[1m≥\u001b[0m\u001b[0m 0.0)) ∧ [G]((\u001b[1mmin[\u001b[31mmfcc3\u001b[0m] \u001b[1m<\u001b[0m\u001b[0m -0.42) → (\u001b[1mmin[\u001b[33mmel1=359Hz\u001b[0m] \u001b[1m<\u001b[0m\u001b[0m 0.01))  ↣  Healthy : (ninstances = 101, ncovered = 1, coverage = 0.01, confidence = 1.0, lift = 2.24, natoms = 9)\n",
      "\u001b[34m▣\u001b[0m ⟨G⟩((\u001b[1mmin[\u001b[31mmfcc2\u001b[0m] \u001b[1m<\u001b[0m\u001b[0m 1.44) ∧ (\u001b[1mmin[\u001b[33mmel1=359Hz\u001b[0m] \u001b[1m≥\u001b[0m\u001b[0m 0.0)) ∧ [G](\u001b[1mmin[\u001b[31mmfcc3\u001b[0m] \u001b[1m≥\u001b[0m\u001b[0m -0.42)  ↣  Healthy : (ninstances = 101, ncovered = 1, coverage = 0.01, confidence = 1.0, lift = 2.24, natoms = 3)\n",
      "\u001b[34m▣\u001b[0m ⟨G⟩((\u001b[1mmin[\u001b[33mmel10=1074Hz\u001b[0m] \u001b[1m<\u001b[0m\u001b[0m 0.0) ∧ (\u001b[1mmax[\u001b[36mentrp\u001b[0m] \u001b[1m≥\u001b[0m\u001b[0m 0.67)) ∧ [G](\u001b[1mmin[\u001b[31mmfcc3\u001b[0m] \u001b[1m≥\u001b[0m\u001b[0m -0.42) ∧ [G](\u001b[1mmin[\u001b[31mmfcc2\u001b[0m] \u001b[1m≥\u001b[0m\u001b[0m 1.44)  ↣  Pneumonia : (ninstances = 101, ncovered = 36, coverage = 0.36, confidence = 0.97, lift = 1.75, natoms = 4)\n",
      "\u001b[34m▣\u001b[0m ⟨G⟩((\u001b[1mmin[\u001b[33mmel10=1074Hz\u001b[0m] \u001b[1m<\u001b[0m\u001b[0m 0.0) ∧ (\u001b[1mmin[\u001b[33mmel2=421Hz\u001b[0m] \u001b[1m≥\u001b[0m\u001b[0m 0.0)) ∧ [G](\u001b[1mmin[\u001b[31mmfcc3\u001b[0m] \u001b[1m≥\u001b[0m\u001b[0m -0.42) ∧ [G](\u001b[1mmin[\u001b[31mmfcc2\u001b[0m] \u001b[1m≥\u001b[0m\u001b[0m 1.44) ∧ [G]((\u001b[1mmin[\u001b[33mmel10=1074Hz\u001b[0m] \u001b[1m<\u001b[0m\u001b[0m 0.0) → (\u001b[1mmax[\u001b[36mentrp\u001b[0m] \u001b[1m<\u001b[0m\u001b[0m 0.67))  ↣  Pneumonia : (ninstances = 101, ncovered = 3, coverage = 0.03, confidence = 1.0, lift = 1.8, natoms = 6)\n"
     ]
    }
   ],
   "source": [
    "interesting_rules = listrules(sole_dt, min_lift = 1.0, min_ninstances = 0, normalize = true);\n",
    "printmodel.(interesting_rules; show_metrics = true, syntaxstring_kwargs = (; threshold_digits = 2), variable_names_map=variable_names);"
   ]
  },
  {
   "cell_type": "markdown",
   "metadata": {},
   "source": [
    "### Directly access rule metrics"
   ]
  },
  {
   "cell_type": "code",
   "execution_count": 10,
   "metadata": {},
   "outputs": [
    {
     "data": {
      "text/plain": [
       "13-element Vector{@NamedTuple{ninstances::Int64, ncovered::Int64, coverage::Float64, confidence::Float64, lift::Float64, natoms::Int64}}:\n",
       " (ninstances = 101, ncovered = 27, coverage = 0.26732673267326734, confidence = 0.8888888888888888, lift = 1.9950617283950616, natoms = 4)\n",
       " (ninstances = 101, ncovered = 1, coverage = 0.009900990099009901, confidence = 1.0, lift = 2.2444444444444445, natoms = 7)\n",
       " (ninstances = 101, ncovered = 1, coverage = 0.009900990099009901, confidence = 1.0, lift = 1.8035714285714284, natoms = 6)\n",
       " (ninstances = 101, ncovered = 3, coverage = 0.0297029702970297, confidence = 0.6666666666666666, lift = 1.4962962962962962, natoms = 8)\n",
       " (ninstances = 101, ncovered = 2, coverage = 0.019801980198019802, confidence = 1.0, lift = 2.2444444444444445, natoms = 9)\n",
       " (ninstances = 101, ncovered = 3, coverage = 0.0297029702970297, confidence = 0.6666666666666666, lift = 1.4962962962962962, natoms = 11)\n",
       " (ninstances = 101, ncovered = 3, coverage = 0.0297029702970297, confidence = 0.6666666666666666, lift = 1.4962962962962962, natoms = 13)\n",
       " (ninstances = 101, ncovered = 2, coverage = 0.019801980198019802, confidence = 1.0, lift = 2.2444444444444445, natoms = 7)\n",
       " (ninstances = 101, ncovered = 8, coverage = 0.07920792079207921, confidence = 0.625, lift = 1.1272321428571428, natoms = 10)\n",
       " (ninstances = 101, ncovered = 1, coverage = 0.009900990099009901, confidence = 1.0, lift = 2.2444444444444445, natoms = 9)\n",
       " (ninstances = 101, ncovered = 1, coverage = 0.009900990099009901, confidence = 1.0, lift = 2.2444444444444445, natoms = 3)\n",
       " (ninstances = 101, ncovered = 36, coverage = 0.3564356435643564, confidence = 0.9722222222222222, lift = 1.753472222222222, natoms = 4)\n",
       " (ninstances = 101, ncovered = 3, coverage = 0.0297029702970297, confidence = 1.0, lift = 1.8035714285714284, natoms = 6)"
      ]
     },
     "metadata": {},
     "output_type": "display_data"
    }
   ],
   "source": [
    "readmetrics.(listrules(sole_dt; min_lift=1.0, min_ninstances = 0))"
   ]
  },
  {
   "cell_type": "markdown",
   "metadata": {},
   "source": [
    "### Show rules with an additional metric (syntax height of the rule's antecedent)"
   ]
  },
  {
   "cell_type": "code",
   "execution_count": 11,
   "metadata": {},
   "outputs": [
    {
     "name": "stdout",
     "output_type": "stream",
     "text": [
      "\u001b[34m▣\u001b[0m ⟨G⟩((\u001b[1mmin[\u001b[31mmfcc3\u001b[0m] \u001b[1m<\u001b[0m\u001b[0m -0.42238800051820113) ∧ ⟨A̅O̅⟩((\u001b[1mmin[\u001b[36mcntrd\u001b[0m] \u001b[1m≥\u001b[0m\u001b[0m 1241.5325730780178) ∧ ⟨AO⟩(\u001b[1mmin[\u001b[33mmel3=488Hz\u001b[0m] \u001b[1m≥\u001b[0m\u001b[0m 2.773555451829634e-5))) ∧ [G]((\u001b[1mmin[\u001b[31mmfcc3\u001b[0m] \u001b[1m<\u001b[0m\u001b[0m -0.42238800051820113) → [A̅O̅]((\u001b[1mmin[\u001b[36mcntrd\u001b[0m] \u001b[1m≥\u001b[0m\u001b[0m 1241.5325730780178) → [L](\u001b[1mmin[\u001b[36msprd\u001b[0m] \u001b[1m<\u001b[0m\u001b[0m 693.3580008260416)))  ↣  Pneumonia : (ninstances = 101, ncovered = 1, coverage = 0.009900990099009901, confidence = 1.0, lift = 1.8035714285714284, natoms = 6, height = 6)\n",
      "\u001b[34m▣\u001b[0m ⟨G⟩((\u001b[1mmin[\u001b[31mmfcc2\u001b[0m] \u001b[1m<\u001b[0m\u001b[0m 1.4408221727109625) ∧ (\u001b[1mmin[\u001b[33mmel1=359Hz\u001b[0m] \u001b[1m≥\u001b[0m\u001b[0m 2.2117528019512427e-5)) ∧ [G](\u001b[1mmin[\u001b[31mmfcc3\u001b[0m] \u001b[1m≥\u001b[0m\u001b[0m -0.42238800051820113)  ↣  Healthy : (ninstances = 101, ncovered = 1, coverage = 0.009900990099009901, confidence = 1.0, lift = 2.2444444444444445, natoms = 3, height = 3)\n",
      "\u001b[34m▣\u001b[0m ⟨G⟩((\u001b[1mmin[\u001b[31mmfcc3\u001b[0m] \u001b[1m<\u001b[0m\u001b[0m -0.42238800051820113) ∧ ⟨A̅O̅⟩((\u001b[1mmin[\u001b[36mcntrd\u001b[0m] \u001b[1m≥\u001b[0m\u001b[0m 1241.5325730780178) ∧ ⟨L⟩(\u001b[1mmin[\u001b[36msprd\u001b[0m] \u001b[1m≥\u001b[0m\u001b[0m 693.3580008260416))) ∧ [G]((\u001b[1mmin[\u001b[31mmfcc3\u001b[0m] \u001b[1m<\u001b[0m\u001b[0m -0.42238800051820113) → [A̅O̅]((\u001b[1mmin[\u001b[36mcntrd\u001b[0m] \u001b[1m≥\u001b[0m\u001b[0m 1241.5325730780178) → [L]((\u001b[1mmin[\u001b[36msprd\u001b[0m] \u001b[1m≥\u001b[0m\u001b[0m 693.3580008260416) → (\u001b[1mmin[\u001b[31mmfcc2\u001b[0m] \u001b[1m<\u001b[0m\u001b[0m 2.132583349861581))))  ↣  Healthy : (ninstances = 101, ncovered = 1, coverage = 0.009900990099009901, confidence = 1.0, lift = 2.2444444444444445, natoms = 7, height = 7)\n",
      "\u001b[34m▣\u001b[0m ⟨G⟩(\u001b[1mmin[\u001b[31mmfcc3\u001b[0m] \u001b[1m<\u001b[0m\u001b[0m -0.42238800051820113) ∧ [G]((\u001b[1mmin[\u001b[31mmfcc3\u001b[0m] \u001b[1m<\u001b[0m\u001b[0m -0.42238800051820113) → [A̅O̅](\u001b[1mmin[\u001b[36mcntrd\u001b[0m] \u001b[1m<\u001b[0m\u001b[0m 1241.5325730780178)) ∧ [G]((\u001b[1mmin[\u001b[31mmfcc3\u001b[0m] \u001b[1m<\u001b[0m\u001b[0m -0.42238800051820113) → [A̅O̅](\u001b[1mmin[\u001b[31mmfcc9\u001b[0m] \u001b[1m<\u001b[0m\u001b[0m 0.7471857551919938)) ∧ [G]((\u001b[1mmin[\u001b[31mmfcc3\u001b[0m] \u001b[1m<\u001b[0m\u001b[0m -0.42238800051820113) → [A̅O̅](\u001b[1mmax[\u001b[33mmel12=1289Hz\u001b[0m] \u001b[1m≥\u001b[0m\u001b[0m 6.984123307163207e-6)) ∧ [G]((\u001b[1mmin[\u001b[31mmfcc3\u001b[0m] \u001b[1m<\u001b[0m\u001b[0m -0.42238800051820113) → (\u001b[1mmin[\u001b[33mmel1=359Hz\u001b[0m] \u001b[1m<\u001b[0m\u001b[0m 0.010596277594378947))  ↣  Healthy : (ninstances = 101, ncovered = 1, coverage = 0.009900990099009901, confidence = 1.0, lift = 2.2444444444444445, natoms = 9, height = 7)\n",
      "\u001b[34m▣\u001b[0m ⟨G⟩((\u001b[1mmin[\u001b[31mmfcc3\u001b[0m] \u001b[1m<\u001b[0m\u001b[0m -0.42238800051820113) ∧ ⟨A̅O̅⟩((\u001b[1mmax[\u001b[33mmel12=1289Hz\u001b[0m] \u001b[1m<\u001b[0m\u001b[0m 6.984123307163207e-6) ∧ ⟨G⟩(\u001b[1mmin[\u001b[31mmfcc2\u001b[0m] \u001b[1m<\u001b[0m\u001b[0m 1.4512340956276355))) ∧ [G]((\u001b[1mmin[\u001b[31mmfcc3\u001b[0m] \u001b[1m<\u001b[0m\u001b[0m -0.42238800051820113) → [A̅O̅](\u001b[1mmin[\u001b[36mcntrd\u001b[0m] \u001b[1m<\u001b[0m\u001b[0m 1241.5325730780178)) ∧ [G]((\u001b[1mmin[\u001b[31mmfcc3\u001b[0m] \u001b[1m<\u001b[0m\u001b[0m -0.42238800051820113) → [A̅O̅](\u001b[1mmin[\u001b[31mmfcc9\u001b[0m] \u001b[1m<\u001b[0m\u001b[0m 0.7471857551919938))  ↣  Healthy : (ninstances = 101, ncovered = 2, coverage = 0.019801980198019802, confidence = 1.0, lift = 2.2444444444444445, natoms = 7, height = 7)\n",
      "\u001b[34m▣\u001b[0m ⟨G⟩((\u001b[1mmin[\u001b[31mmfcc3\u001b[0m] \u001b[1m<\u001b[0m\u001b[0m -0.42238800051820113) ∧ ⟨A̅O̅⟩((\u001b[1mmin[\u001b[31mmfcc9\u001b[0m] \u001b[1m≥\u001b[0m\u001b[0m 0.7471857551919938) ∧ (\u001b[1mmin[\u001b[33mmel4=558Hz\u001b[0m] \u001b[1m≥\u001b[0m\u001b[0m 7.914865476662152e-5) ∧ (\u001b[1mmin[\u001b[33mmel3=488Hz\u001b[0m] \u001b[1m≥\u001b[0m\u001b[0m 0.005262215103371913))) ∧ [G]((\u001b[1mmin[\u001b[31mmfcc3\u001b[0m] \u001b[1m<\u001b[0m\u001b[0m -0.42238800051820113) → [A̅O̅](\u001b[1mmin[\u001b[36mcntrd\u001b[0m] \u001b[1m<\u001b[0m\u001b[0m 1241.5325730780178)) ∧ [G]((\u001b[1mmin[\u001b[31mmfcc3\u001b[0m] \u001b[1m<\u001b[0m\u001b[0m -0.42238800051820113) → [A̅O̅]((\u001b[1mmin[\u001b[31mmfcc9\u001b[0m] \u001b[1m≥\u001b[0m\u001b[0m 0.7471857551919938) → [G](\u001b[1mmin[\u001b[31mmfcc11\u001b[0m] \u001b[1m≥\u001b[0m\u001b[0m -0.6418413457274044)))  ↣  Healthy : (ninstances = 101, ncovered = 2, coverage = 0.019801980198019802, confidence = 1.0, lift = 2.2444444444444445, natoms = 9, height = 7)\n",
      "\u001b[34m▣\u001b[0m ⟨G⟩((\u001b[1mmin[\u001b[31mmfcc3\u001b[0m] \u001b[1m<\u001b[0m\u001b[0m -0.42238800051820113) ∧ ⟨A̅O̅⟩(\u001b[1mmin[\u001b[36mcntrd\u001b[0m] \u001b[1m≥\u001b[0m\u001b[0m 1241.5325730780178)) ∧ [G]((\u001b[1mmin[\u001b[31mmfcc3\u001b[0m] \u001b[1m<\u001b[0m\u001b[0m -0.42238800051820113) → [A̅O̅]((\u001b[1mmin[\u001b[36mcntrd\u001b[0m] \u001b[1m≥\u001b[0m\u001b[0m 1241.5325730780178) → [L](\u001b[1mmin[\u001b[36msprd\u001b[0m] \u001b[1m<\u001b[0m\u001b[0m 693.3580008260416))) ∧ [G]((\u001b[1mmin[\u001b[31mmfcc3\u001b[0m] \u001b[1m<\u001b[0m\u001b[0m -0.42238800051820113) → [A̅O̅]((\u001b[1mmin[\u001b[36mcntrd\u001b[0m] \u001b[1m≥\u001b[0m\u001b[0m 1241.5325730780178) → [AO](\u001b[1mmin[\u001b[33mmel3=488Hz\u001b[0m] \u001b[1m<\u001b[0m\u001b[0m 2.773555451829634e-5)))  ↣  Healthy : (ninstances = 101, ncovered = 3, coverage = 0.0297029702970297, confidence = 0.6666666666666666, lift = 1.4962962962962962, natoms = 8, height = 7)\n",
      "\u001b[34m▣\u001b[0m ⟨G⟩((\u001b[1mmin[\u001b[31mmfcc3\u001b[0m] \u001b[1m<\u001b[0m\u001b[0m -0.42238800051820113) ∧ ⟨A̅O̅⟩((\u001b[1mmin[\u001b[31mmfcc9\u001b[0m] \u001b[1m≥\u001b[0m\u001b[0m 0.7471857551919938) ∧ (\u001b[1mmin[\u001b[33mmel7=794Hz\u001b[0m] \u001b[1m<\u001b[0m\u001b[0m 5.142339326548244e-7))) ∧ [G]((\u001b[1mmin[\u001b[31mmfcc3\u001b[0m] \u001b[1m<\u001b[0m\u001b[0m -0.42238800051820113) → [A̅O̅](\u001b[1mmin[\u001b[36mcntrd\u001b[0m] \u001b[1m<\u001b[0m\u001b[0m 1241.5325730780178)) ∧ [G]((\u001b[1mmin[\u001b[31mmfcc3\u001b[0m] \u001b[1m<\u001b[0m\u001b[0m -0.42238800051820113) → [A̅O̅]((\u001b[1mmin[\u001b[31mmfcc9\u001b[0m] \u001b[1m≥\u001b[0m\u001b[0m 0.7471857551919938) → [G](\u001b[1mmin[\u001b[31mmfcc11\u001b[0m] \u001b[1m≥\u001b[0m\u001b[0m -0.6418413457274044))) ∧ [G]((\u001b[1mmin[\u001b[31mmfcc3\u001b[0m] \u001b[1m<\u001b[0m\u001b[0m -0.42238800051820113) → [A̅O̅]((\u001b[1mmin[\u001b[31mmfcc9\u001b[0m] \u001b[1m≥\u001b[0m\u001b[0m 0.7471857551919938) → (\u001b[1mmin[\u001b[33mmel4=558Hz\u001b[0m] \u001b[1m<\u001b[0m\u001b[0m 7.914865476662152e-5)))  ↣  Healthy : (ninstances = 101, ncovered = 3, coverage = 0.0297029702970297, confidence = 0.6666666666666666, lift = 1.4962962962962962, natoms = 11, height = 7)\n",
      "\u001b[34m▣\u001b[0m ⟨G⟩((\u001b[1mmin[\u001b[31mmfcc3\u001b[0m] \u001b[1m<\u001b[0m\u001b[0m -0.42238800051820113) ∧ ⟨A̅O̅⟩(\u001b[1mmin[\u001b[31mmfcc9\u001b[0m] \u001b[1m≥\u001b[0m\u001b[0m 0.7471857551919938)) ∧ [G]((\u001b[1mmin[\u001b[31mmfcc3\u001b[0m] \u001b[1m<\u001b[0m\u001b[0m -0.42238800051820113) → [A̅O̅](\u001b[1mmin[\u001b[36mcntrd\u001b[0m] \u001b[1m<\u001b[0m\u001b[0m 1241.5325730780178)) ∧ [G]((\u001b[1mmin[\u001b[31mmfcc3\u001b[0m] \u001b[1m<\u001b[0m\u001b[0m -0.42238800051820113) → [A̅O̅]((\u001b[1mmin[\u001b[31mmfcc9\u001b[0m] \u001b[1m≥\u001b[0m\u001b[0m 0.7471857551919938) → [G](\u001b[1mmin[\u001b[31mmfcc11\u001b[0m] \u001b[1m≥\u001b[0m\u001b[0m -0.6418413457274044))) ∧ [G]((\u001b[1mmin[\u001b[31mmfcc3\u001b[0m] \u001b[1m<\u001b[0m\u001b[0m -0.42238800051820113) → [A̅O̅]((\u001b[1mmin[\u001b[31mmfcc9\u001b[0m] \u001b[1m≥\u001b[0m\u001b[0m 0.7471857551919938) → (\u001b[1mmin[\u001b[33mmel4=558Hz\u001b[0m] \u001b[1m<\u001b[0m\u001b[0m 7.914865476662152e-5))) ∧ [G]((\u001b[1mmin[\u001b[31mmfcc3\u001b[0m] \u001b[1m<\u001b[0m\u001b[0m -0.42238800051820113) → [A̅O̅]((\u001b[1mmin[\u001b[31mmfcc9\u001b[0m] \u001b[1m≥\u001b[0m\u001b[0m 0.7471857551919938) → (\u001b[1mmin[\u001b[33mmel7=794Hz\u001b[0m] \u001b[1m≥\u001b[0m\u001b[0m 5.142339326548244e-7)))  ↣  Healthy : (ninstances = 101, ncovered = 3, coverage = 0.0297029702970297, confidence = 0.6666666666666666, lift = 1.4962962962962962, natoms = 13, height = 8)\n",
      "\u001b[34m▣\u001b[0m ⟨G⟩((\u001b[1mmin[\u001b[33mmel10=1074Hz\u001b[0m] \u001b[1m<\u001b[0m\u001b[0m 4.818977776485951e-6) ∧ (\u001b[1mmin[\u001b[33mmel2=421Hz\u001b[0m] \u001b[1m≥\u001b[0m\u001b[0m 0.0007678914702210188)) ∧ [G](\u001b[1mmin[\u001b[31mmfcc3\u001b[0m] \u001b[1m≥\u001b[0m\u001b[0m -0.42238800051820113) ∧ [G](\u001b[1mmin[\u001b[31mmfcc2\u001b[0m] \u001b[1m≥\u001b[0m\u001b[0m 1.4408221727109625) ∧ [G]((\u001b[1mmin[\u001b[33mmel10=1074Hz\u001b[0m] \u001b[1m<\u001b[0m\u001b[0m 4.818977776485951e-6) → (\u001b[1mmax[\u001b[36mentrp\u001b[0m] \u001b[1m<\u001b[0m\u001b[0m 0.667843307101543))  ↣  Pneumonia : (ninstances = 101, ncovered = 3, coverage = 0.0297029702970297, confidence = 1.0, lift = 1.8035714285714284, natoms = 6, height = 5)\n",
      "\u001b[34m▣\u001b[0m ⟨G⟩((\u001b[1mmin[\u001b[31mmfcc3\u001b[0m] \u001b[1m<\u001b[0m\u001b[0m -0.42238800051820113) ∧ ⟨A̅O̅⟩((\u001b[1mmax[\u001b[33mmel12=1289Hz\u001b[0m] \u001b[1m<\u001b[0m\u001b[0m 6.984123307163207e-6) ∧ ⟨AO⟩(\u001b[1mmin[\u001b[33mmel26=3738Hz\u001b[0m] \u001b[1m≥\u001b[0m\u001b[0m 1.4355061207299876e-7))) ∧ [G]((\u001b[1mmin[\u001b[31mmfcc3\u001b[0m] \u001b[1m<\u001b[0m\u001b[0m -0.42238800051820113) → [A̅O̅](\u001b[1mmin[\u001b[36mcntrd\u001b[0m] \u001b[1m<\u001b[0m\u001b[0m 1241.5325730780178)) ∧ [G]((\u001b[1mmin[\u001b[31mmfcc3\u001b[0m] \u001b[1m<\u001b[0m\u001b[0m -0.42238800051820113) → [A̅O̅](\u001b[1mmin[\u001b[31mmfcc9\u001b[0m] \u001b[1m<\u001b[0m\u001b[0m 0.7471857551919938)) ∧ [G]((\u001b[1mmin[\u001b[31mmfcc3\u001b[0m] \u001b[1m<\u001b[0m\u001b[0m -0.42238800051820113) → [A̅O̅]((\u001b[1mmax[\u001b[33mmel12=1289Hz\u001b[0m] \u001b[1m<\u001b[0m\u001b[0m 6.984123307163207e-6) → [G](\u001b[1mmin[\u001b[31mmfcc2\u001b[0m] \u001b[1m≥\u001b[0m\u001b[0m 1.4512340956276355)))  ↣  Pneumonia : (ninstances = 101, ncovered = 8, coverage = 0.07920792079207921, confidence = 0.625, lift = 1.1272321428571428, natoms = 10, height = 8)\n",
      "\u001b[34m▣\u001b[0m ⟨G⟩((\u001b[1mmin[\u001b[31mmfcc3\u001b[0m] \u001b[1m<\u001b[0m\u001b[0m -0.42238800051820113) ∧ ⟨A̅O̅⟩((\u001b[1mmin[\u001b[36mcntrd\u001b[0m] \u001b[1m≥\u001b[0m\u001b[0m 1241.5325730780178) ∧ ⟨L⟩((\u001b[1mmin[\u001b[36msprd\u001b[0m] \u001b[1m≥\u001b[0m\u001b[0m 693.3580008260416) ∧ (\u001b[1mmin[\u001b[31mmfcc2\u001b[0m] \u001b[1m≥\u001b[0m\u001b[0m 2.132583349861581))))  ↣  Healthy : (ninstances = 101, ncovered = 27, coverage = 0.26732673267326734, confidence = 0.8888888888888888, lift = 1.9950617283950616, natoms = 4, height = 6)\n",
      "\u001b[34m▣\u001b[0m ⟨G⟩((\u001b[1mmin[\u001b[33mmel10=1074Hz\u001b[0m] \u001b[1m<\u001b[0m\u001b[0m 4.818977776485951e-6) ∧ (\u001b[1mmax[\u001b[36mentrp\u001b[0m] \u001b[1m≥\u001b[0m\u001b[0m 0.667843307101543)) ∧ [G](\u001b[1mmin[\u001b[31mmfcc3\u001b[0m] \u001b[1m≥\u001b[0m\u001b[0m -0.42238800051820113) ∧ [G](\u001b[1mmin[\u001b[31mmfcc2\u001b[0m] \u001b[1m≥\u001b[0m\u001b[0m 1.4408221727109625)  ↣  Pneumonia : (ninstances = 101, ncovered = 36, coverage = 0.3564356435643564, confidence = 0.9722222222222222, lift = 1.753472222222222, natoms = 4, height = 4)\n"
     ]
    }
   ],
   "source": [
    "printmodel.(sort(interesting_rules, by = readmetrics); show_metrics = (; round_digits = nothing, additional_metrics = (; height = r->SoleLogics.height(antecedent(r)))), variable_names_map=variable_names);"
   ]
  },
  {
   "cell_type": "markdown",
   "metadata": {},
   "source": [
    "### Pretty table of rules and their metrics"
   ]
  },
  {
   "cell_type": "code",
   "execution_count": 13,
   "metadata": {},
   "outputs": [
    {
     "name": "stdout",
     "output_type": "stream",
     "text": [
      "┌─────────────────────────────────────────────────────────────────────────────────────────────────────────────────────────────────────────────────────────────────────────────────────────────────────────────────────────────────────────────────────────────────────────────────────────────────────────────────────────────────────────────────────────────────────────────────────────────────────────────────────────────────────────────────────────────────────────────────────────────────────────────────────────────────────────┬────────────┬────────────┬──────────┬────────────┬────────────┬─────────┬────────┬────────┐\n",
      "│\u001b[33;1m                                                                                                                                                                                                                                                                                                                                                                                                                                                                                                                              Antecedent \u001b[0m│\u001b[33;1m Consequent \u001b[0m│\u001b[33;1m ninstances \u001b[0m│\u001b[33;1m ncovered \u001b[0m│\u001b[33;1m   coverage \u001b[0m│\u001b[33;1m confidence \u001b[0m│\u001b[33;1m    lift \u001b[0m│\u001b[33;1m natoms \u001b[0m│\u001b[33;1m height \u001b[0m│\n",
      "├─────────────────────────────────────────────────────────────────────────────────────────────────────────────────────────────────────────────────────────────────────────────────────────────────────────────────────────────────────────────────────────────────────────────────────────────────────────────────────────────────────────────────────────────────────────────────────────────────────────────────────────────────────────────────────────────────────────────────────────────────────────────────────────────────────────┼────────────┼────────────┼──────────┼────────────┼────────────┼─────────┼────────┼────────┤\n",
      "│                                                                                                                                                                                                                                                                                                                                                                                    ⟨G⟩(\u001b[1mmin[\u001b[31mmfcc3\u001b[0m] \u001b[1m<\u001b[0m\u001b[0m -0.42238800051820113 ∧ ⟨A̅O̅⟩(\u001b[1mmin[\u001b[36mcntrd\u001b[0m] \u001b[1m≥\u001b[0m\u001b[0m 1241.5325730780178 ∧ ⟨L⟩(\u001b[1mmin[\u001b[36msprd\u001b[0m] \u001b[1m≥\u001b[0m\u001b[0m 693.3580008260416 ∧ \u001b[1mmin[\u001b[31mmfcc2\u001b[0m] \u001b[1m≥\u001b[0m\u001b[0m 2.132583349861581)))\u001b[0m │    Healthy │        101 │       27 │   0.267327 │   0.888889 │ 1.99506 │      4 │      6 │\n",
      "│                                                                                                                                                                                                                                                                ⟨G⟩(\u001b[1mmin[\u001b[31mmfcc3\u001b[0m] \u001b[1m<\u001b[0m\u001b[0m -0.42238800051820113 ∧ ⟨A̅O̅⟩(\u001b[1mmin[\u001b[36mcntrd\u001b[0m] \u001b[1m≥\u001b[0m\u001b[0m 1241.5325730780178 ∧ ⟨L⟩\u001b[1mmin[\u001b[36msprd\u001b[0m] \u001b[1m≥\u001b[0m\u001b[0m 693.3580008260416)) ∧ [G](\u001b[1mmin[\u001b[31mmfcc3\u001b[0m] \u001b[1m<\u001b[0m\u001b[0m -0.42238800051820113 → [A̅O̅](\u001b[1mmin[\u001b[36mcntrd\u001b[0m] \u001b[1m≥\u001b[0m\u001b[0m 1241.5325730780178 → [L](\u001b[1mmin[\u001b[36msprd\u001b[0m] \u001b[1m≥\u001b[0m\u001b[0m 693.3580008260416 → \u001b[1mmin[\u001b[31mmfcc2\u001b[0m] \u001b[1m<\u001b[0m\u001b[0m 2.132583349861581)))\u001b[0m │    Healthy │        101 │        1 │ 0.00990099 │        1.0 │ 2.24444 │      7 │      7 │\n",
      "│                                                                                                                                                                                                                                                                                         ⟨G⟩(\u001b[1mmin[\u001b[31mmfcc3\u001b[0m] \u001b[1m<\u001b[0m\u001b[0m -0.42238800051820113 ∧ ⟨A̅O̅⟩(\u001b[1mmin[\u001b[36mcntrd\u001b[0m] \u001b[1m≥\u001b[0m\u001b[0m 1241.5325730780178 ∧ ⟨AO⟩\u001b[1mmin[\u001b[33mmel3=488Hz\u001b[0m] \u001b[1m≥\u001b[0m\u001b[0m 2.773555451829634e-5)) ∧ [G](\u001b[1mmin[\u001b[31mmfcc3\u001b[0m] \u001b[1m<\u001b[0m\u001b[0m -0.42238800051820113 → [A̅O̅](\u001b[1mmin[\u001b[36mcntrd\u001b[0m] \u001b[1m≥\u001b[0m\u001b[0m 1241.5325730780178 → [L]\u001b[1mmin[\u001b[36msprd\u001b[0m] \u001b[1m<\u001b[0m\u001b[0m 693.3580008260416))\u001b[0m │  Pneumonia │        101 │        1 │ 0.00990099 │        1.0 │ 1.80357 │      6 │      6 │\n",
      "│                                                                                                                                                                                                          ⟨G⟩(\u001b[1mmin[\u001b[31mmfcc3\u001b[0m] \u001b[1m<\u001b[0m\u001b[0m -0.42238800051820113 ∧ ⟨A̅O̅⟩\u001b[1mmin[\u001b[36mcntrd\u001b[0m] \u001b[1m≥\u001b[0m\u001b[0m 1241.5325730780178) ∧ [G](\u001b[1mmin[\u001b[31mmfcc3\u001b[0m] \u001b[1m<\u001b[0m\u001b[0m -0.42238800051820113 → [A̅O̅](\u001b[1mmin[\u001b[36mcntrd\u001b[0m] \u001b[1m≥\u001b[0m\u001b[0m 1241.5325730780178 → [L]\u001b[1mmin[\u001b[36msprd\u001b[0m] \u001b[1m<\u001b[0m\u001b[0m 693.3580008260416)) ∧ [G](\u001b[1mmin[\u001b[31mmfcc3\u001b[0m] \u001b[1m<\u001b[0m\u001b[0m -0.42238800051820113 → [A̅O̅](\u001b[1mmin[\u001b[36mcntrd\u001b[0m] \u001b[1m≥\u001b[0m\u001b[0m 1241.5325730780178 → [AO]\u001b[1mmin[\u001b[33mmel3=488Hz\u001b[0m] \u001b[1m<\u001b[0m\u001b[0m 2.773555451829634e-5))\u001b[0m │    Healthy │        101 │        3 │   0.029703 │   0.666667 │  1.4963 │      8 │      7 │\n",
      "│                                                                                                                                                                 ⟨G⟩(\u001b[1mmin[\u001b[31mmfcc3\u001b[0m] \u001b[1m<\u001b[0m\u001b[0m -0.42238800051820113 ∧ ⟨A̅O̅⟩(\u001b[1mmin[\u001b[31mmfcc9\u001b[0m] \u001b[1m≥\u001b[0m\u001b[0m 0.7471857551919938 ∧ \u001b[1mmin[\u001b[33mmel4=558Hz\u001b[0m] \u001b[1m≥\u001b[0m\u001b[0m 7.914865476662152e-5 ∧ \u001b[1mmin[\u001b[33mmel3=488Hz\u001b[0m] \u001b[1m≥\u001b[0m\u001b[0m 0.005262215103371913)) ∧ [G](\u001b[1mmin[\u001b[31mmfcc3\u001b[0m] \u001b[1m<\u001b[0m\u001b[0m -0.42238800051820113 → [A̅O̅]\u001b[1mmin[\u001b[36mcntrd\u001b[0m] \u001b[1m<\u001b[0m\u001b[0m 1241.5325730780178) ∧ [G](\u001b[1mmin[\u001b[31mmfcc3\u001b[0m] \u001b[1m<\u001b[0m\u001b[0m -0.42238800051820113 → [A̅O̅](\u001b[1mmin[\u001b[31mmfcc9\u001b[0m] \u001b[1m≥\u001b[0m\u001b[0m 0.7471857551919938 → [G]\u001b[1mmin[\u001b[31mmfcc11\u001b[0m] \u001b[1m≥\u001b[0m\u001b[0m -0.6418413457274044))\u001b[0m │    Healthy │        101 │        2 │   0.019802 │        1.0 │ 2.24444 │      9 │      7 │\n",
      "│                                                                                ⟨G⟩(\u001b[1mmin[\u001b[31mmfcc3\u001b[0m] \u001b[1m<\u001b[0m\u001b[0m -0.42238800051820113 ∧ ⟨A̅O̅⟩(\u001b[1mmin[\u001b[31mmfcc9\u001b[0m] \u001b[1m≥\u001b[0m\u001b[0m 0.7471857551919938 ∧ \u001b[1mmin[\u001b[33mmel7=794Hz\u001b[0m] \u001b[1m<\u001b[0m\u001b[0m 5.142339326548244e-7)) ∧ [G](\u001b[1mmin[\u001b[31mmfcc3\u001b[0m] \u001b[1m<\u001b[0m\u001b[0m -0.42238800051820113 → [A̅O̅]\u001b[1mmin[\u001b[36mcntrd\u001b[0m] \u001b[1m<\u001b[0m\u001b[0m 1241.5325730780178) ∧ [G](\u001b[1mmin[\u001b[31mmfcc3\u001b[0m] \u001b[1m<\u001b[0m\u001b[0m -0.42238800051820113 → [A̅O̅](\u001b[1mmin[\u001b[31mmfcc9\u001b[0m] \u001b[1m≥\u001b[0m\u001b[0m 0.7471857551919938 → [G]\u001b[1mmin[\u001b[31mmfcc11\u001b[0m] \u001b[1m≥\u001b[0m\u001b[0m -0.6418413457274044)) ∧ [G](\u001b[1mmin[\u001b[31mmfcc3\u001b[0m] \u001b[1m<\u001b[0m\u001b[0m -0.42238800051820113 → [A̅O̅](\u001b[1mmin[\u001b[31mmfcc9\u001b[0m] \u001b[1m≥\u001b[0m\u001b[0m 0.7471857551919938 → \u001b[1mmin[\u001b[33mmel4=558Hz\u001b[0m] \u001b[1m<\u001b[0m\u001b[0m 7.914865476662152e-5))\u001b[0m │    Healthy │        101 │        3 │   0.029703 │   0.666667 │  1.4963 │     11 │      7 │\n",
      "│ ⟨G⟩(\u001b[1mmin[\u001b[31mmfcc3\u001b[0m] \u001b[1m<\u001b[0m\u001b[0m -0.42238800051820113 ∧ ⟨A̅O̅⟩\u001b[1mmin[\u001b[31mmfcc9\u001b[0m] \u001b[1m≥\u001b[0m\u001b[0m 0.7471857551919938) ∧ [G](\u001b[1mmin[\u001b[31mmfcc3\u001b[0m] \u001b[1m<\u001b[0m\u001b[0m -0.42238800051820113 → [A̅O̅]\u001b[1mmin[\u001b[36mcntrd\u001b[0m] \u001b[1m<\u001b[0m\u001b[0m 1241.5325730780178) ∧ [G](\u001b[1mmin[\u001b[31mmfcc3\u001b[0m] \u001b[1m<\u001b[0m\u001b[0m -0.42238800051820113 → [A̅O̅](\u001b[1mmin[\u001b[31mmfcc9\u001b[0m] \u001b[1m≥\u001b[0m\u001b[0m 0.7471857551919938 → [G]\u001b[1mmin[\u001b[31mmfcc11\u001b[0m] \u001b[1m≥\u001b[0m\u001b[0m -0.6418413457274044)) ∧ [G](\u001b[1mmin[\u001b[31mmfcc3\u001b[0m] \u001b[1m<\u001b[0m\u001b[0m -0.42238800051820113 → [A̅O̅](\u001b[1mmin[\u001b[31mmfcc9\u001b[0m] \u001b[1m≥\u001b[0m\u001b[0m 0.7471857551919938 → \u001b[1mmin[\u001b[33mmel4=558Hz\u001b[0m] \u001b[1m<\u001b[0m\u001b[0m 7.914865476662152e-5)) ∧ [G](\u001b[1mmin[\u001b[31mmfcc3\u001b[0m] \u001b[1m<\u001b[0m\u001b[0m -0.42238800051820113 → [A̅O̅](\u001b[1mmin[\u001b[31mmfcc9\u001b[0m] \u001b[1m≥\u001b[0m\u001b[0m 0.7471857551919938 → \u001b[1mmin[\u001b[33mmel7=794Hz\u001b[0m] \u001b[1m≥\u001b[0m\u001b[0m 5.142339326548244e-7))\u001b[0m │    Healthy │        101 │        3 │   0.029703 │   0.666667 │  1.4963 │     13 │      8 │\n",
      "│                                                                                                                                                                                                                                              ⟨G⟩(\u001b[1mmin[\u001b[31mmfcc3\u001b[0m] \u001b[1m<\u001b[0m\u001b[0m -0.42238800051820113 ∧ ⟨A̅O̅⟩(\u001b[1mmax[\u001b[33mmel12=1289Hz\u001b[0m] \u001b[1m<\u001b[0m\u001b[0m 6.984123307163207e-6 ∧ ⟨G⟩\u001b[1mmin[\u001b[31mmfcc2\u001b[0m] \u001b[1m<\u001b[0m\u001b[0m 1.4512340956276355)) ∧ [G](\u001b[1mmin[\u001b[31mmfcc3\u001b[0m] \u001b[1m<\u001b[0m\u001b[0m -0.42238800051820113 → [A̅O̅]\u001b[1mmin[\u001b[36mcntrd\u001b[0m] \u001b[1m<\u001b[0m\u001b[0m 1241.5325730780178) ∧ [G](\u001b[1mmin[\u001b[31mmfcc3\u001b[0m] \u001b[1m<\u001b[0m\u001b[0m -0.42238800051820113 → [A̅O̅]\u001b[1mmin[\u001b[31mmfcc9\u001b[0m] \u001b[1m<\u001b[0m\u001b[0m 0.7471857551919938)\u001b[0m │    Healthy │        101 │        2 │   0.019802 │        1.0 │ 2.24444 │      7 │      7 │\n",
      "│                                                                                                    ⟨G⟩(\u001b[1mmin[\u001b[31mmfcc3\u001b[0m] \u001b[1m<\u001b[0m\u001b[0m -0.42238800051820113 ∧ ⟨A̅O̅⟩(\u001b[1mmax[\u001b[33mmel12=1289Hz\u001b[0m] \u001b[1m<\u001b[0m\u001b[0m 6.984123307163207e-6 ∧ ⟨AO⟩\u001b[1mmin[\u001b[33mmel26=3738Hz\u001b[0m] \u001b[1m≥\u001b[0m\u001b[0m 1.4355061207299876e-7)) ∧ [G](\u001b[1mmin[\u001b[31mmfcc3\u001b[0m] \u001b[1m<\u001b[0m\u001b[0m -0.42238800051820113 → [A̅O̅]\u001b[1mmin[\u001b[36mcntrd\u001b[0m] \u001b[1m<\u001b[0m\u001b[0m 1241.5325730780178) ∧ [G](\u001b[1mmin[\u001b[31mmfcc3\u001b[0m] \u001b[1m<\u001b[0m\u001b[0m -0.42238800051820113 → [A̅O̅]\u001b[1mmin[\u001b[31mmfcc9\u001b[0m] \u001b[1m<\u001b[0m\u001b[0m 0.7471857551919938) ∧ [G](\u001b[1mmin[\u001b[31mmfcc3\u001b[0m] \u001b[1m<\u001b[0m\u001b[0m -0.42238800051820113 → [A̅O̅](\u001b[1mmax[\u001b[33mmel12=1289Hz\u001b[0m] \u001b[1m<\u001b[0m\u001b[0m 6.984123307163207e-6 → [G]\u001b[1mmin[\u001b[31mmfcc2\u001b[0m] \u001b[1m≥\u001b[0m\u001b[0m 1.4512340956276355))\u001b[0m │  Pneumonia │        101 │        8 │  0.0792079 │      0.625 │ 1.12723 │     10 │      8 │\n",
      "│                                                                                                                                                            ⟨G⟩\u001b[1mmin[\u001b[31mmfcc3\u001b[0m] \u001b[1m<\u001b[0m\u001b[0m -0.42238800051820113 ∧ [G](\u001b[1mmin[\u001b[31mmfcc3\u001b[0m] \u001b[1m<\u001b[0m\u001b[0m -0.42238800051820113 → [A̅O̅]\u001b[1mmin[\u001b[36mcntrd\u001b[0m] \u001b[1m<\u001b[0m\u001b[0m 1241.5325730780178) ∧ [G](\u001b[1mmin[\u001b[31mmfcc3\u001b[0m] \u001b[1m<\u001b[0m\u001b[0m -0.42238800051820113 → [A̅O̅]\u001b[1mmin[\u001b[31mmfcc9\u001b[0m] \u001b[1m<\u001b[0m\u001b[0m 0.7471857551919938) ∧ [G](\u001b[1mmin[\u001b[31mmfcc3\u001b[0m] \u001b[1m<\u001b[0m\u001b[0m -0.42238800051820113 → [A̅O̅]\u001b[1mmax[\u001b[33mmel12=1289Hz\u001b[0m] \u001b[1m≥\u001b[0m\u001b[0m 6.984123307163207e-6) ∧ [G](\u001b[1mmin[\u001b[31mmfcc3\u001b[0m] \u001b[1m<\u001b[0m\u001b[0m -0.42238800051820113 → \u001b[1mmin[\u001b[33mmel1=359Hz\u001b[0m] \u001b[1m<\u001b[0m\u001b[0m 0.010596277594378947)\u001b[0m │    Healthy │        101 │        1 │ 0.00990099 │        1.0 │ 2.24444 │      9 │      7 │\n",
      "│                                                                                                                                                                                                                                                                                                                                                                                                                   ⟨G⟩(\u001b[1mmin[\u001b[31mmfcc2\u001b[0m] \u001b[1m<\u001b[0m\u001b[0m 1.4408221727109625 ∧ \u001b[1mmin[\u001b[33mmel1=359Hz\u001b[0m] \u001b[1m≥\u001b[0m\u001b[0m 2.2117528019512427e-5) ∧ [G]\u001b[1mmin[\u001b[31mmfcc3\u001b[0m] \u001b[1m≥\u001b[0m\u001b[0m -0.42238800051820113\u001b[0m │    Healthy │        101 │        1 │ 0.00990099 │        1.0 │ 2.24444 │      3 │      3 │\n",
      "│                                                                                                                                                                                                                                                                                                                                                                              ⟨G⟩(\u001b[1mmin[\u001b[33mmel10=1074Hz\u001b[0m] \u001b[1m<\u001b[0m\u001b[0m 4.818977776485951e-6 ∧ \u001b[1mmax[\u001b[36mentrp\u001b[0m] \u001b[1m≥\u001b[0m\u001b[0m 0.667843307101543) ∧ [G]\u001b[1mmin[\u001b[31mmfcc3\u001b[0m] \u001b[1m≥\u001b[0m\u001b[0m -0.42238800051820113 ∧ [G]\u001b[1mmin[\u001b[31mmfcc2\u001b[0m] \u001b[1m≥\u001b[0m\u001b[0m 1.4408221727109625\u001b[0m │  Pneumonia │        101 │       36 │   0.356436 │   0.972222 │ 1.75347 │      4 │      4 │\n",
      "│                                                                                                                                                                                                                                                                                    ⟨G⟩(\u001b[1mmin[\u001b[33mmel10=1074Hz\u001b[0m] \u001b[1m<\u001b[0m\u001b[0m 4.818977776485951e-6 ∧ \u001b[1mmin[\u001b[33mmel2=421Hz\u001b[0m] \u001b[1m≥\u001b[0m\u001b[0m 0.0007678914702210188) ∧ [G]\u001b[1mmin[\u001b[31mmfcc3\u001b[0m] \u001b[1m≥\u001b[0m\u001b[0m -0.42238800051820113 ∧ [G]\u001b[1mmin[\u001b[31mmfcc2\u001b[0m] \u001b[1m≥\u001b[0m\u001b[0m 1.4408221727109625 ∧ [G](\u001b[1mmin[\u001b[33mmel10=1074Hz\u001b[0m] \u001b[1m<\u001b[0m\u001b[0m 4.818977776485951e-6 → \u001b[1mmax[\u001b[36mentrp\u001b[0m] \u001b[1m<\u001b[0m\u001b[0m 0.667843307101543)\u001b[0m │  Pneumonia │        101 │        3 │   0.029703 │        1.0 │ 1.80357 │      6 │      5 │\n",
      "└─────────────────────────────────────────────────────────────────────────────────────────────────────────────────────────────────────────────────────────────────────────────────────────────────────────────────────────────────────────────────────────────────────────────────────────────────────────────────────────────────────────────────────────────────────────────────────────────────────────────────────────────────────────────────────────────────────────────────────────────────────────────────────────────────────────┴────────────┴────────────┴──────────┴────────────┴────────────┴─────────┴────────┴────────┘\n"
     ]
    }
   ],
   "source": [
    "metricstable(interesting_rules; variable_names_map=variable_names, metrics_kwargs = (; round_digits = nothing, additional_metrics = (; height = r->SoleLogics.height(antecedent(r)))))"
   ]
  }
 ],
 "metadata": {
  "kernelspec": {
   "display_name": "Julia 1.10.3",
   "language": "julia",
   "name": "julia-1.10"
  },
  "language_info": {
   "file_extension": ".jl",
   "mimetype": "application/julia",
   "name": "julia",
   "version": "1.10.3"
  }
 },
 "nbformat": 4,
 "nbformat_minor": 2
}
