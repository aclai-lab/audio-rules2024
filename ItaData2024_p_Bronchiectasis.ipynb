{
 "cells": [
  {
   "cell_type": "markdown",
   "metadata": {},
   "source": [
    "# ItaData2024\n",
    "\n",
    "## Bronchiectasis\n",
    "\n",
    "propositional analysis"
   ]
  },
  {
   "cell_type": "code",
   "execution_count": 27,
   "metadata": {},
   "outputs": [
    {
     "name": "stderr",
     "output_type": "stream",
     "text": [
      "\u001b[32m\u001b[1m  Activating\u001b[22m\u001b[39m project at `~/Documents/Aclai/audio-rules2024`\n"
     ]
    }
   ],
   "source": [
    "using Pkg\n",
    "Pkg.activate(\".\")\n",
    "using MLJ, ModalDecisionTrees\n",
    "using SoleDecisionTreeInterface, Sole, SoleData\n",
    "using CategoricalArrays\n",
    "using DataFrames, JLD2, CSV\n",
    "using Audio911\n",
    "using Random\n",
    "using StatsBase, Catch22\n",
    "using Test\n",
    "using Plots"
   ]
  },
  {
   "cell_type": "markdown",
   "metadata": {},
   "source": [
    "### Settings"
   ]
  },
  {
   "cell_type": "code",
   "execution_count": 28,
   "metadata": {},
   "outputs": [],
   "source": [
    "# experiment = :Pneumonia\n",
    "experiment = :Bronchiectasis\n",
    "# experiment = :COPD\n",
    "# experiment = :URTI\n",
    "# experiment = :Bronchiolitis\n",
    "\n",
    "features = :catch9\n",
    "# features = :minmax\n",
    "# features = :custom\n",
    "\n",
    "loadset = false\n",
    "# loadset = true\n",
    "\n",
    "scale = :semitones\n",
    "# scale = :mel_htk\n",
    "\n",
    "usemfcc = false\n",
    "# usemfcc = true\n",
    "usef0 = false\n",
    "# usef0 = true\n",
    "\n",
    "sr = 8000\n",
    "audioparams = (\n",
    "    usemfcc = usemfcc,\n",
    "    usef0 = usef0,\n",
    "    sr = sr,\n",
    "    nfft = 512,\n",
    "    scale = scale, # :mel_htk, :mel_slaney, :erb, :bark, :semitones, :tuned_semitones\n",
    "    nbands = scale == :semitones ? 14 : 26,\n",
    "    ncoeffs = scale == :semitones ? 7 : 13,\n",
    "    freq_range = (300, round(Int, sr / 2)),\n",
    "    db_scale = usemfcc ? false : true,\n",
    ")\n",
    "\n",
    "memguard = false;\n",
    "# memguard = true;\n",
    "n_elems = 15;\n",
    "\n",
    "avail_exp = [:Pneumonia, :Bronchiectasis, :COPD, :URTI, :Bronchiolitis]\n",
    "\n",
    "@assert experiment in avail_exp \"Unknown type of experiment: $experiment.\"\n",
    "\n",
    "findhealthy = y -> findall(x -> x == \"Healthy\", y)\n",
    "ds_path = \"/datasets/respiratory_Healthy_\" * String(experiment)\n",
    "findsick = y -> findall(x -> x == String(experiment), y)\n",
    "filename = \"/datasets/itadata2024_\" * String(experiment) * \"_files\"\n",
    "memguard && begin filename *= string(\"_memguard\") end\n",
    "\n",
    "destpath = \"results/propositional\"\n",
    "jld2file = destpath * \"/itadata2024_\" * String(experiment) * \"_\" * String(scale) * \".jld2\"\n",
    "\n",
    "color_code = Dict(:red => 31, :green => 32, :yellow => 33, :blue => 34, :magenta => 35, :cyan => 36);\n",
    "r_select = r\"\\e\\[\\d+m(.*?)\\e\\[0m\";"
   ]
  },
  {
   "cell_type": "markdown",
   "metadata": {},
   "source": [
    "### Audio features extraction function\n",
    "This function is called for every audio sample and extract 25 features:\n",
    "14 bands of the mel spectrogram,\n",
    "11 spectral features: centroid, crest, entropy, flatness, flux, kurtosis, rolloff, skewness, decrease, slope, spread"
   ]
  },
  {
   "cell_type": "code",
   "execution_count": 29,
   "metadata": {},
   "outputs": [
    {
     "data": {
      "text/plain": [
       "afe (generic function with 2 methods)"
      ]
     },
     "metadata": {},
     "output_type": "display_data"
    }
   ],
   "source": [
    "function afe(x::AbstractVector{Float64}, audioparams::NamedTuple; get_only_melfreq=false)\n",
    "    # -------------------------------- parameters -------------------------------- #\n",
    "    # audio module\n",
    "    sr = audioparams.sr\n",
    "    norm = true\n",
    "    speech_detection = false\n",
    "    # stft module\n",
    "    nfft = audioparams.nfft\n",
    "    win_type = (:hann, :periodic)\n",
    "    win_length = audioparams.nfft\n",
    "    overlap_length = round(Int, audioparams.nfft / 2)\n",
    "    stft_norm = :power                      # :power, :magnitude, :pow2mag\n",
    "    # mel filterbank module\n",
    "    nbands = audioparams.nbands\n",
    "    scale = audioparams.scale               # :mel_htk, :mel_slaney, :erb, :bark, :semitones, :tuned_semitones\n",
    "    melfb_norm = :bandwidth                 # :bandwidth, :area, :none\n",
    "    freq_range = audioparams.freq_range\n",
    "    # mel spectrogram module\n",
    "    db_scale = audioparams.db_scale\n",
    "\n",
    "    # --------------------------------- functions -------------------------------- #\n",
    "    # audio module\n",
    "    audio = load_audio(\n",
    "        file=x,\n",
    "        sr=sr,\n",
    "        norm=norm,\n",
    "    );\n",
    "\n",
    "    stftspec = get_stft(\n",
    "        audio=audio,\n",
    "        nfft=nfft,\n",
    "        win_type=win_type,\n",
    "        win_length=win_length,\n",
    "        overlap_length=overlap_length,\n",
    "        norm=stft_norm\n",
    "    );\n",
    "\n",
    "    # mel filterbank module\n",
    "    melfb = get_melfb(\n",
    "        stft=stftspec,\n",
    "        nbands=nbands,\n",
    "        scale=scale,\n",
    "        norm=melfb_norm,\n",
    "        freq_range=freq_range\n",
    "    );\n",
    "\n",
    "    if get_only_melfreq\n",
    "        return melfb.data.freq\n",
    "    end\n",
    "\n",
    "    # mel spectrogram module\n",
    "    melspec =  get_melspec(\n",
    "        stft=stftspec,\n",
    "        fbank=melfb,\n",
    "        db_scale=db_scale\n",
    "    );\n",
    "\n",
    "    if audioparams.usemfcc\n",
    "        # mfcc module\n",
    "        ncoeffs = audioparams.ncoeffs\n",
    "        rectification = :log                    # :log, :cubic_root\n",
    "        dither = true\n",
    "\n",
    "        mfcc = get_mfcc(\n",
    "            source=melspec,\n",
    "            ncoeffs=ncoeffs,\n",
    "            rectification=rectification,\n",
    "            dither=dither,\n",
    "        );\n",
    "    end\n",
    "\n",
    "    if audioparams.usef0\n",
    "        # f0 module\n",
    "        method = :nfc\n",
    "        f0_range = (50, 400)\n",
    "\n",
    "        f0 = get_f0(\n",
    "            source=stftspec,\n",
    "            method=method,\n",
    "            freq_range=f0_range\n",
    "        );\n",
    "    end\n",
    "\n",
    "    # spectral features module\n",
    "    spect = get_spectrals(\n",
    "        source=stftspec,\n",
    "        freq_range=freq_range\n",
    "    );\n",
    "\n",
    "    hcat(\n",
    "        filter(!isnothing, [\n",
    "            melspec.spec',\n",
    "            audioparams.usemfcc ? mfcc.mfcc' : nothing,\n",
    "            audioparams.usef0 ? f0.f0 : nothing,\n",
    "            spect.centroid,\n",
    "            spect.crest,\n",
    "            spect.entropy,\n",
    "            spect.flatness,\n",
    "            spect.flux,\n",
    "            spect.kurtosis,\n",
    "            spect.rolloff,\n",
    "            spect.skewness,\n",
    "            spect.decrease,\n",
    "            spect.slope,\n",
    "            spect.spread\n",
    "        ])...\n",
    "    )    \n",
    "end"
   ]
  },
  {
   "cell_type": "markdown",
   "metadata": {},
   "source": [
    "### Prepare dataset for analysis"
   ]
  },
  {
   "cell_type": "code",
   "execution_count": 30,
   "metadata": {},
   "outputs": [
    {
     "name": "stderr",
     "output_type": "stream",
     "text": [
      "┌ Info: Build dataset...\n",
      "└ @ Main /home/paso/Documents/Aclai/audio-rules2024/jl_notebook_cell_df34fa98e69747e1a8f8a730347b8e2f_X10sZmlsZQ==.jl:42\n"
     ]
    },
    {
     "name": "stdout",
     "output_type": "stream",
     "text": [
      "Training set size: (144, 225) - 144\n",
      "Test set size: (36, 225) - 36\n"
     ]
    }
   ],
   "source": [
    "d = jldopen(string((@__DIR__), ds_path, \".jld2\"))\n",
    "x, y = d[\"dataframe_validated\"]\n",
    "@assert x isa DataFrame\n",
    "close(d)\n",
    "\n",
    "memguard && begin\n",
    "    cat2 = round(Int, length(y)/2)\n",
    "    indices = [1:n_elems; cat2:cat2+n_elems-1]\n",
    "    x = x[indices, :]\n",
    "    y = y[indices]\n",
    "end\n",
    "\n",
    "freq = round.(Int, afe(x[1, :audio], audioparams; get_only_melfreq=true))\n",
    "\n",
    "catch9_f = [\"max\", \"min\", \"mean\", \"med\", \"std\", \"bsm\", \"bsd\", \"qnt\", \"3ac\"]\n",
    "variable_names = vcat([\n",
    "    vcat(\n",
    "        [\"\\e[$(color_code[:yellow])m$j(mel$i=$(freq[i])Hz)\\e[0m\" for i in 1:audioparams.nbands],\n",
    "        audioparams.usemfcc ? [\"\\e[$(color_code[:red])m$j(mfcc$i)\\e[0m\" for i in 1:audioparams.ncoeffs] : String[],\n",
    "        audioparams.usef0 ? [\"\\e[$(color_code[:green])m$j(f0)\\e[0m\"] : String[],\n",
    "        \"\\e[$(color_code[:cyan])m$j(cntrd)\\e[0m\", \"\\e[$(color_code[:cyan])m$j(crest)\\e[0m\",\n",
    "        \"\\e[$(color_code[:cyan])m$j(entrp)\\e[0m\", \"\\e[$(color_code[:cyan])m$j(flatn)\\e[0m\", \"\\e[$(color_code[:cyan])m$j(flux)\\e[0m\",\n",
    "        \"\\e[$(color_code[:cyan])m$j(kurts)\\e[0m\", \"\\e[$(color_code[:cyan])m$j(rllff)\\e[0m\", \"\\e[$(color_code[:cyan])m$j(skwns)\\e[0m\",\n",
    "        \"\\e[$(color_code[:cyan])m$j(decrs)\\e[0m\", \"\\e[$(color_code[:cyan])m$j(slope)\\e[0m\", \"\\e[$(color_code[:cyan])m$j(sprd)\\e[0m\"\n",
    "    )\n",
    "    for j in catch9_f\n",
    "]...)\n",
    "    \n",
    "catch9 = [\n",
    "    maximum,\n",
    "    minimum,\n",
    "    StatsBase.mean,\n",
    "    median,\n",
    "    std,\n",
    "    Catch22.SB_BinaryStats_mean_longstretch1,\n",
    "    Catch22.SB_BinaryStats_diff_longstretch0,\n",
    "    Catch22.SB_MotifThree_quantile_hh,\n",
    "    Catch22.SB_TransitionMatrix_3ac_sumdiagcov,\n",
    "]\n",
    "\n",
    "if !loadset\n",
    "    @info(\"Build dataset...\")\n",
    "\n",
    "    X = DataFrame([name => Float64[] for name in [match(r_select, v)[1] for v in variable_names]])\n",
    "    audiofeats = [afe(row[:audio], audioparams) for row in eachrow(x)]\n",
    "    push!(X, vcat([vcat([map(func, eachcol(row)) for func in catch9]...) for row in audiofeats])...)\n",
    "\n",
    "    yc = CategoricalArray(y);\n",
    "\n",
    "    train_ratio = 0.8\n",
    "\n",
    "    train, test = partition(eachindex(yc), train_ratio, shuffle=true)\n",
    "    X_train, y_train = X[train, :], yc[train]\n",
    "    X_test, y_test = X[test, :], yc[test]\n",
    "\n",
    "    println(\"Training set size: \", size(X_train), \" - \", length(y_train))\n",
    "    println(\"Test set size: \", size(X_test), \" - \", length(y_test))\n",
    "end"
   ]
  },
  {
   "cell_type": "markdown",
   "metadata": {},
   "source": [
    "### Train a model"
   ]
  },
  {
   "cell_type": "code",
   "execution_count": 31,
   "metadata": {},
   "outputs": [
    {
     "name": "stderr",
     "output_type": "stream",
     "text": [
      "┌ Info: For silent loading, specify `verbosity=0`. \n",
      "└ @ Main /home/paso/.julia/packages/MLJModels/8W54X/src/loading.jl:159\n"
     ]
    },
    {
     "name": "stdout",
     "output_type": "stream",
     "text": [
      "import MLJDecisionTreeInterface ✔\n"
     ]
    },
    {
     "name": "stderr",
     "output_type": "stream",
     "text": [
      "┌ Info: Training machine(DecisionTreeClassifier(max_depth = -1, …), …).\n",
      "└ @ MLJBase /home/paso/.julia/packages/MLJBase/7nGJF/src/machines.jl:499\n"
     ]
    },
    {
     "data": {
      "text/plain": [
       "max(mel1=357Hz) < -0.5966\n",
       "├─ std(cntrd) < 221.1\n",
       "│  ├─ std(mel14=3366Hz) < 0.09904\n",
       "│  │  ├─ 3ac(sprd) < 0.009804\n",
       "│  │  │  ├─ Healthy (3/3)\n",
       "│  │  │  └─ qnt(mel12=2383Hz) < 1.98\n",
       "│  │  │     ├─ Healthy (2/2)\n",
       "│  │  │     └─ Bronchiectasis (26/26)\n",
       "│  │  └─ std(crest) < 18.29\n",
       "│  │     ├─ Healthy (26/26)\n",
       "│  │     └─ std(mel3=504Hz) < 0.5923\n",
       "│  │        ├─ Healthy (5/5)\n",
       "│  │        └─ Bronchiectasis (7/7)\n",
       "│  └─ Healthy (36/36)\n",
       "└─ std(mel10=1687Hz) < 1.204\n",
       "   ├─ Bronchiectasis (38/38)\n",
       "   └─ Healthy (1/1)\n"
      ]
     },
     "metadata": {},
     "output_type": "display_data"
    }
   ],
   "source": [
    "if !loadset\n",
    "    learned_dt_tree = begin\n",
    "        Tree = MLJ.@load DecisionTreeClassifier pkg=DecisionTree\n",
    "        model = Tree(max_depth=-1, )\n",
    "        mach = machine(model, X_train, y_train)\n",
    "        fit!(mach)\n",
    "        fitted_params(mach).tree\n",
    "    end\n",
    "end"
   ]
  },
  {
   "cell_type": "markdown",
   "metadata": {},
   "source": [
    "### Model inspection & rule study"
   ]
  },
  {
   "cell_type": "code",
   "execution_count": 32,
   "metadata": {},
   "outputs": [
    {
     "name": "stdout",
     "output_type": "stream",
     "text": [
      "\u001b[34m▣\u001b[0m \u001b[1m\u001b[33mmax(mel1=357Hz)\u001b[0m \u001b[1m<\u001b[0m\u001b[0m -0.5965822724278267\n",
      "├✔ \u001b[1m\u001b[36mstd(cntrd)\u001b[0m \u001b[1m<\u001b[0m\u001b[0m 221.1070627076109\n",
      "│├✔ \u001b[1m\u001b[33mstd(mel14=3366Hz)\u001b[0m \u001b[1m<\u001b[0m\u001b[0m 0.09904481838519033\n",
      "││├✔ \u001b[1m\u001b[36m3ac(sprd)\u001b[0m \u001b[1m<\u001b[0m\u001b[0m 0.009803921568627453\n",
      "│││├✔ Healthy : (ninstances = 0, ncovered = 0, confidence = NaN, lift = NaN)\n",
      "│││└✘ \u001b[1m\u001b[33mqnt(mel12=2383Hz)\u001b[0m \u001b[1m<\u001b[0m\u001b[0m 1.9802444949662474\n",
      "│││ ├✔ Healthy : (ninstances = 0, ncovered = 0, confidence = NaN, lift = NaN)\n",
      "│││ └✘ Bronchiectasis : (ninstances = 7, ncovered = 7, confidence = 1.0, lift = 1.0)\n",
      "││└✘ \u001b[1m\u001b[36mstd(crest)\u001b[0m \u001b[1m<\u001b[0m\u001b[0m 18.28743172631505\n",
      "││ ├✔ Healthy : (ninstances = 9, ncovered = 9, confidence = 1.0, lift = 1.0)\n",
      "││ └✘ \u001b[1m\u001b[33mstd(mel3=504Hz)\u001b[0m \u001b[1m<\u001b[0m\u001b[0m 0.5922968289513689\n",
      "││  ├✔ Healthy : (ninstances = 0, ncovered = 0, confidence = NaN, lift = NaN)\n",
      "││  └✘ Bronchiectasis : (ninstances = 4, ncovered = 4, confidence = 0.5, lift = 1.0)\n",
      "│└✘ Healthy : (ninstances = 5, ncovered = 5, confidence = 1.0, lift = 1.0)\n",
      "└✘ \u001b[1m\u001b[33mstd(mel10=1687Hz)\u001b[0m \u001b[1m<\u001b[0m\u001b[0m 1.2044842026782003\n",
      " ├✔ Bronchiectasis : (ninstances = 11, ncovered = 11, confidence = 0.91, lift = 1.0)\n",
      " └✘ Healthy : (ninstances = 0, ncovered = 0, confidence = NaN, lift = NaN)\n"
     ]
    }
   ],
   "source": [
    "if !loadset\n",
    "    sole_dt = solemodel(learned_dt_tree)\n",
    "    # Make test instances flow into the model, so that test metrics can, then, be computed.\n",
    "    apply!(sole_dt, X_test, y_test);\n",
    "    # Save solemodel to disk\n",
    "    jldsave(jld2file, true; sole_dt)\n",
    "else\n",
    "    @info(\"Load dataset...\")\n",
    "    d = jldopen(jld2file)\n",
    "    sole_dt = d[\"sole_dt\"]\n",
    "    close(d)\n",
    "end\n",
    "# Print Sole model\n",
    "printmodel(sole_dt; show_metrics = true, variable_names_map = variable_names);"
   ]
  },
  {
   "cell_type": "markdown",
   "metadata": {},
   "source": [
    "### Extract rules that are at least as good as a random baseline model"
   ]
  },
  {
   "cell_type": "code",
   "execution_count": 33,
   "metadata": {},
   "outputs": [
    {
     "name": "stdout",
     "output_type": "stream",
     "text": [
      "\u001b[34m▣\u001b[0m (\u001b[1m\u001b[33mmax(mel1=357Hz)\u001b[0m \u001b[1m<\u001b[0m\u001b[0m -0.5965822724278267) ∧ (\u001b[1m\u001b[36mstd(cntrd)\u001b[0m \u001b[1m<\u001b[0m\u001b[0m 221.1070627076109) ∧ (\u001b[1m\u001b[33mstd(mel14=3366Hz)\u001b[0m \u001b[1m<\u001b[0m\u001b[0m 0.09904481838519033) ∧ (¬(\u001b[1m\u001b[36m3ac(sprd)\u001b[0m \u001b[1m<\u001b[0m\u001b[0m 0.009803921568627453)) ∧ (¬(\u001b[1m\u001b[33mqnt(mel12=2383Hz)\u001b[0m \u001b[1m<\u001b[0m\u001b[0m 1.9802444949662474))  ↣  Bronchiectasis : (ninstances = 36, ncovered = 7, coverage = 0.19, confidence = 1.0, lift = 1.89, natoms = 5)\n",
      "\u001b[34m▣\u001b[0m (\u001b[1m\u001b[33mmax(mel1=357Hz)\u001b[0m \u001b[1m<\u001b[0m\u001b[0m -0.5965822724278267) ∧ (\u001b[1m\u001b[36mstd(cntrd)\u001b[0m \u001b[1m<\u001b[0m\u001b[0m 221.1070627076109) ∧ (¬(\u001b[1m\u001b[33mstd(mel14=3366Hz)\u001b[0m \u001b[1m<\u001b[0m\u001b[0m 0.09904481838519033)) ∧ (\u001b[1m\u001b[36mstd(crest)\u001b[0m \u001b[1m<\u001b[0m\u001b[0m 18.28743172631505)  ↣  Healthy : (ninstances = 36, ncovered = 9, coverage = 0.25, confidence = 1.0, lift = 2.12, natoms = 4)\n",
      "\u001b[34m▣\u001b[0m (\u001b[1m\u001b[33mmax(mel1=357Hz)\u001b[0m \u001b[1m<\u001b[0m\u001b[0m -0.5965822724278267) ∧ (¬(\u001b[1m\u001b[36mstd(cntrd)\u001b[0m \u001b[1m<\u001b[0m\u001b[0m 221.1070627076109))  ↣  Healthy : (ninstances = 36, ncovered = 5, coverage = 0.14, confidence = 1.0, lift = 2.12, natoms = 2)\n",
      "\u001b[34m▣\u001b[0m (¬(\u001b[1m\u001b[33mmax(mel1=357Hz)\u001b[0m \u001b[1m<\u001b[0m\u001b[0m -0.5965822724278267)) ∧ (\u001b[1m\u001b[33mstd(mel10=1687Hz)\u001b[0m \u001b[1m<\u001b[0m\u001b[0m 1.2044842026782003)  ↣  Bronchiectasis : (ninstances = 36, ncovered = 11, coverage = 0.31, confidence = 0.91, lift = 1.72, natoms = 2)\n"
     ]
    }
   ],
   "source": [
    "interesting_rules = listrules(sole_dt, min_lift = 1.0, min_ninstances = 0);\n",
    "printmodel.(interesting_rules; show_metrics = true, variable_names_map = variable_names);"
   ]
  },
  {
   "cell_type": "markdown",
   "metadata": {},
   "source": [
    "### Simplify rules while extracting and prettify result"
   ]
  },
  {
   "cell_type": "code",
   "execution_count": 34,
   "metadata": {},
   "outputs": [
    {
     "name": "stdout",
     "output_type": "stream",
     "text": [
      "\u001b[34m▣\u001b[0m (\u001b[1m\u001b[33mmax(mel1=357Hz)\u001b[0m \u001b[1m<\u001b[0m\u001b[0m -0.6) ∧ (\u001b[1m\u001b[36mstd(cntrd)\u001b[0m \u001b[1m<\u001b[0m\u001b[0m 221.11) ∧ (\u001b[1m\u001b[33mstd(mel14=3366Hz)\u001b[0m \u001b[1m<\u001b[0m\u001b[0m 0.1) ∧ (\u001b[1m\u001b[36m3ac(sprd)\u001b[0m \u001b[1m≥\u001b[0m\u001b[0m 0.01) ∧ (\u001b[1m\u001b[33mqnt(mel12=2383Hz)\u001b[0m \u001b[1m≥\u001b[0m\u001b[0m 1.98)  ↣  Bronchiectasis : (ninstances = 36, ncovered = 7, coverage = 0.19, confidence = 1.0, lift = 1.89, natoms = 5)\n",
      "\u001b[34m▣\u001b[0m (\u001b[1m\u001b[33mmax(mel1=357Hz)\u001b[0m \u001b[1m<\u001b[0m\u001b[0m -0.6) ∧ (\u001b[1m\u001b[36mstd(cntrd)\u001b[0m \u001b[1m<\u001b[0m\u001b[0m 221.11) ∧ (\u001b[1m\u001b[33mstd(mel14=3366Hz)\u001b[0m \u001b[1m≥\u001b[0m\u001b[0m 0.1) ∧ (\u001b[1m\u001b[36mstd(crest)\u001b[0m \u001b[1m<\u001b[0m\u001b[0m 18.29)  ↣  Healthy : (ninstances = 36, ncovered = 9, coverage = 0.25, confidence = 1.0, lift = 2.12, natoms = 4)\n",
      "\u001b[34m▣\u001b[0m (\u001b[1m\u001b[33mmax(mel1=357Hz)\u001b[0m \u001b[1m<\u001b[0m\u001b[0m -0.6) ∧ (\u001b[1m\u001b[36mstd(cntrd)\u001b[0m \u001b[1m≥\u001b[0m\u001b[0m 221.11)  ↣  Healthy : (ninstances = 36, ncovered = 5, coverage = 0.14, confidence = 1.0, lift = 2.12, natoms = 2)\n",
      "\u001b[34m▣\u001b[0m (\u001b[1m\u001b[33mmax(mel1=357Hz)\u001b[0m \u001b[1m≥\u001b[0m\u001b[0m -0.6) ∧ (\u001b[1m\u001b[33mstd(mel10=1687Hz)\u001b[0m \u001b[1m<\u001b[0m\u001b[0m 1.2)  ↣  Bronchiectasis : (ninstances = 36, ncovered = 11, coverage = 0.31, confidence = 0.91, lift = 1.72, natoms = 2)\n"
     ]
    }
   ],
   "source": [
    "interesting_rules = listrules(sole_dt, min_lift = 1.0, min_ninstances = 0, normalize = true);\n",
    "printmodel.(interesting_rules; show_metrics = true, syntaxstring_kwargs = (; threshold_digits = 2), variable_names_map = variable_names);"
   ]
  },
  {
   "cell_type": "markdown",
   "metadata": {},
   "source": [
    "### Directly access rule metrics"
   ]
  },
  {
   "cell_type": "code",
   "execution_count": 35,
   "metadata": {},
   "outputs": [
    {
     "data": {
      "text/plain": [
       "4-element Vector{@NamedTuple{ninstances::Int64, ncovered::Int64, coverage::Float64, confidence::Float64, lift::Float64, natoms::Int64}}:\n",
       " (ninstances = 36, ncovered = 7, coverage = 0.19444444444444445, confidence = 1.0, lift = 1.894736842105263, natoms = 5)\n",
       " (ninstances = 36, ncovered = 9, coverage = 0.25, confidence = 1.0, lift = 2.1176470588235294, natoms = 4)\n",
       " (ninstances = 36, ncovered = 5, coverage = 0.1388888888888889, confidence = 1.0, lift = 2.1176470588235294, natoms = 2)\n",
       " (ninstances = 36, ncovered = 11, coverage = 0.3055555555555556, confidence = 0.9090909090909091, lift = 1.7224880382775118, natoms = 2)"
      ]
     },
     "metadata": {},
     "output_type": "display_data"
    }
   ],
   "source": [
    "readmetrics.(listrules(sole_dt; min_lift=1.0, min_ninstances = 0))"
   ]
  },
  {
   "cell_type": "markdown",
   "metadata": {},
   "source": [
    "### Show rules with an additional metric (syntax height of the rule's antecedent)"
   ]
  },
  {
   "cell_type": "code",
   "execution_count": 36,
   "metadata": {},
   "outputs": [
    {
     "name": "stdout",
     "output_type": "stream",
     "text": [
      "\u001b[34m▣\u001b[0m (\u001b[1m\u001b[33mmax(mel1=357Hz)\u001b[0m \u001b[1m<\u001b[0m\u001b[0m -0.5965822724278267) ∧ (\u001b[1m\u001b[36mstd(cntrd)\u001b[0m \u001b[1m≥\u001b[0m\u001b[0m 221.1070627076109)  ↣  Healthy : (ninstances = 36, ncovered = 5, coverage = 0.1388888888888889, confidence = 1.0, lift = 2.1176470588235294, natoms = 2, height = 1)\n",
      "\u001b[34m▣\u001b[0m (\u001b[1m\u001b[33mmax(mel1=357Hz)\u001b[0m \u001b[1m<\u001b[0m\u001b[0m -0.5965822724278267) ∧ (\u001b[1m\u001b[36mstd(cntrd)\u001b[0m \u001b[1m<\u001b[0m\u001b[0m 221.1070627076109) ∧ (\u001b[1m\u001b[33mstd(mel14=3366Hz)\u001b[0m \u001b[1m<\u001b[0m\u001b[0m 0.09904481838519033) ∧ (\u001b[1m\u001b[36m3ac(sprd)\u001b[0m \u001b[1m≥\u001b[0m\u001b[0m 0.009803921568627453) ∧ (\u001b[1m\u001b[33mqnt(mel12=2383Hz)\u001b[0m \u001b[1m≥\u001b[0m\u001b[0m 1.9802444949662474)  ↣  Bronchiectasis : (ninstances = 36, ncovered = 7, coverage = 0.19444444444444445, confidence = 1.0, lift = 1.894736842105263, natoms = 5, height = 4)\n",
      "\u001b[34m▣\u001b[0m (\u001b[1m\u001b[33mmax(mel1=357Hz)\u001b[0m \u001b[1m<\u001b[0m\u001b[0m -0.5965822724278267) ∧ (\u001b[1m\u001b[36mstd(cntrd)\u001b[0m \u001b[1m<\u001b[0m\u001b[0m 221.1070627076109) ∧ (\u001b[1m\u001b[33mstd(mel14=3366Hz)\u001b[0m \u001b[1m≥\u001b[0m\u001b[0m 0.09904481838519033) ∧ (\u001b[1m\u001b[36mstd(crest)\u001b[0m \u001b[1m<\u001b[0m\u001b[0m 18.28743172631505)  ↣  Healthy : (ninstances = 36, ncovered = 9, coverage = 0.25, confidence = 1.0, lift = 2.1176470588235294, natoms = 4, height = 3)\n",
      "\u001b[34m▣\u001b[0m (\u001b[1m\u001b[33mmax(mel1=357Hz)\u001b[0m \u001b[1m≥\u001b[0m\u001b[0m -0.5965822724278267) ∧ (\u001b[1m\u001b[33mstd(mel10=1687Hz)\u001b[0m \u001b[1m<\u001b[0m\u001b[0m 1.2044842026782003)  ↣  Bronchiectasis : (ninstances = 36, ncovered = 11, coverage = 0.3055555555555556, confidence = 0.9090909090909091, lift = 1.7224880382775118, natoms = 2, height = 1)\n"
     ]
    }
   ],
   "source": [
    "printmodel.(sort(interesting_rules, by = readmetrics); show_metrics = (; round_digits = nothing, additional_metrics = (; height = r->SoleLogics.height(antecedent(r)))), variable_names_map = variable_names);"
   ]
  },
  {
   "cell_type": "markdown",
   "metadata": {},
   "source": [
    "### Pretty table of rules and their metrics"
   ]
  },
  {
   "cell_type": "code",
   "execution_count": 37,
   "metadata": {},
   "outputs": [
    {
     "name": "stdout",
     "output_type": "stream",
     "text": [
      "┌────────────────────────────────────────────────────────────────────────────────────────────────────────────────────────────────────────────────────────────────────────────────────────────────────────┬────────────────┬────────────┬──────────┬──────────┬────────────┬─────────┬────────┬────────┐\n",
      "│\u001b[33;1m                                                                                                                                                                                             Antecedent \u001b[0m│\u001b[33;1m     Consequent \u001b[0m│\u001b[33;1m ninstances \u001b[0m│\u001b[33;1m ncovered \u001b[0m│\u001b[33;1m coverage \u001b[0m│\u001b[33;1m confidence \u001b[0m│\u001b[33;1m    lift \u001b[0m│\u001b[33;1m natoms \u001b[0m│\u001b[33;1m height \u001b[0m│\n",
      "├────────────────────────────────────────────────────────────────────────────────────────────────────────────────────────────────────────────────────────────────────────────────────────────────────────┼────────────────┼────────────┼──────────┼──────────┼────────────┼─────────┼────────┼────────┤\n",
      "│ (\u001b[1m\u001b[33mmax(mel1=357Hz)\u001b[0m \u001b[1m<\u001b[0m\u001b[0m -0.5965822724278267) ∧ (\u001b[1m\u001b[36mstd(cntrd)\u001b[0m \u001b[1m<\u001b[0m\u001b[0m 221.1070627076109) ∧ (\u001b[1m\u001b[33mstd(mel14=3366Hz)\u001b[0m \u001b[1m<\u001b[0m\u001b[0m 0.09904481838519033) ∧ (\u001b[1m\u001b[36m3ac(sprd)\u001b[0m \u001b[1m≥\u001b[0m\u001b[0m 0.009803921568627453) ∧ (\u001b[1m\u001b[33mqnt(mel12=2383Hz)\u001b[0m \u001b[1m≥\u001b[0m\u001b[0m 1.9802444949662474)\u001b[0m │ Bronchiectasis │         36 │        7 │ 0.194444 │        1.0 │ 1.89474 │      5 │      4 │\n",
      "│                                              (\u001b[1m\u001b[33mmax(mel1=357Hz)\u001b[0m \u001b[1m<\u001b[0m\u001b[0m -0.5965822724278267) ∧ (\u001b[1m\u001b[36mstd(cntrd)\u001b[0m \u001b[1m<\u001b[0m\u001b[0m 221.1070627076109) ∧ (\u001b[1m\u001b[33mstd(mel14=3366Hz)\u001b[0m \u001b[1m≥\u001b[0m\u001b[0m 0.09904481838519033) ∧ (\u001b[1m\u001b[36mstd(crest)\u001b[0m \u001b[1m<\u001b[0m\u001b[0m 18.28743172631505)\u001b[0m │        Healthy │         36 │        9 │     0.25 │        1.0 │ 2.11765 │      4 │      3 │\n",
      "│                                                                                                                             (\u001b[1m\u001b[33mmax(mel1=357Hz)\u001b[0m \u001b[1m<\u001b[0m\u001b[0m -0.5965822724278267) ∧ (\u001b[1m\u001b[36mstd(cntrd)\u001b[0m \u001b[1m≥\u001b[0m\u001b[0m 221.1070627076109)\u001b[0m │        Healthy │         36 │        5 │ 0.138889 │        1.0 │ 2.11765 │      2 │      1 │\n",
      "│                                                                                                                     (\u001b[1m\u001b[33mmax(mel1=357Hz)\u001b[0m \u001b[1m≥\u001b[0m\u001b[0m -0.5965822724278267) ∧ (\u001b[1m\u001b[33mstd(mel10=1687Hz)\u001b[0m \u001b[1m<\u001b[0m\u001b[0m 1.2044842026782003)\u001b[0m │ Bronchiectasis │         36 │       11 │ 0.305556 │   0.909091 │ 1.72249 │      2 │      1 │\n",
      "└────────────────────────────────────────────────────────────────────────────────────────────────────────────────────────────────────────────────────────────────────────────────────────────────────────┴────────────────┴────────────┴──────────┴──────────┴────────────┴─────────┴────────┴────────┘\n"
     ]
    }
   ],
   "source": [
    "metricstable(interesting_rules; variable_names_map = variable_names, metrics_kwargs = (; round_digits = nothing, additional_metrics = (; height = r->SoleLogics.height(antecedent(r)))))"
   ]
  },
  {
   "cell_type": "markdown",
   "metadata": {},
   "source": [
    "# Inspect features"
   ]
  },
  {
   "cell_type": "code",
   "execution_count": 38,
   "metadata": {},
   "outputs": [
    {
     "name": "stdout",
     "output_type": "stream",
     "text": [
      "\u001b[34m▣\u001b[0m (\u001b[1m\u001b[33mmax(mel1=357Hz)\u001b[0m \u001b[1m<\u001b[0m\u001b[0m -0.6) ∧ (\u001b[1m\u001b[36mstd(cntrd)\u001b[0m \u001b[1m<\u001b[0m\u001b[0m 221.11) ∧ (\u001b[1m\u001b[33mstd(mel14=3366Hz)\u001b[0m \u001b[1m<\u001b[0m\u001b[0m 0.1) ∧ (\u001b[1m\u001b[36m3ac(sprd)\u001b[0m \u001b[1m≥\u001b[0m\u001b[0m 0.01) ∧ (\u001b[1m\u001b[33mqnt(mel12=2383Hz)\u001b[0m \u001b[1m≥\u001b[0m\u001b[0m 1.98)  ↣  Bronchiectasis : (ninstances = 36, ncovered = 7, coverage = 0.19, confidence = 1.0, lift = 1.89, natoms = 5)\n",
      "\u001b[34m▣\u001b[0m (\u001b[1m\u001b[33mmax(mel1=357Hz)\u001b[0m \u001b[1m<\u001b[0m\u001b[0m -0.6) ∧ (\u001b[1m\u001b[36mstd(cntrd)\u001b[0m \u001b[1m<\u001b[0m\u001b[0m 221.11) ∧ (\u001b[1m\u001b[33mstd(mel14=3366Hz)\u001b[0m \u001b[1m≥\u001b[0m\u001b[0m 0.1) ∧ (\u001b[1m\u001b[36mstd(crest)\u001b[0m \u001b[1m<\u001b[0m\u001b[0m 18.29)  ↣  Healthy : (ninstances = 36, ncovered = 9, coverage = 0.25, confidence = 1.0, lift = 2.12, natoms = 4)\n",
      "\u001b[34m▣\u001b[0m (\u001b[1m\u001b[33mmax(mel1=357Hz)\u001b[0m \u001b[1m<\u001b[0m\u001b[0m -0.6) ∧ (\u001b[1m\u001b[36mstd(cntrd)\u001b[0m \u001b[1m≥\u001b[0m\u001b[0m 221.11)  ↣  Healthy : (ninstances = 36, ncovered = 5, coverage = 0.14, confidence = 1.0, lift = 2.12, natoms = 2)\n",
      "\u001b[34m▣\u001b[0m (\u001b[1m\u001b[33mmax(mel1=357Hz)\u001b[0m \u001b[1m≥\u001b[0m\u001b[0m -0.6) ∧ (\u001b[1m\u001b[33mstd(mel10=1687Hz)\u001b[0m \u001b[1m<\u001b[0m\u001b[0m 1.2)  ↣  Bronchiectasis : (ninstances = 36, ncovered = 11, coverage = 0.31, confidence = 0.91, lift = 1.72, natoms = 2)\n"
     ]
    }
   ],
   "source": [
    "interesting_rules = listrules(sole_dt,\n",
    "\tmin_lift = 1.0,\n",
    "\t# min_lift = 2.0,\n",
    "\tmin_ninstances = 0,\n",
    "\tmin_coverage = 0.10,\n",
    "\tnormalize = true,\n",
    ");\n",
    "map(r->(consequent(r), readmetrics(r)), interesting_rules)\n",
    "printmodel.(interesting_rules; show_metrics = true, syntaxstring_kwargs = (; threshold_digits = 2), variable_names_map=variable_names);"
   ]
  },
  {
   "cell_type": "code",
   "execution_count": 39,
   "metadata": {},
   "outputs": [
    {
     "data": {
      "text/plain": [
       "7-element Vector{Symbol}:\n",
       " Symbol(\"3ac(sprd)\")\n",
       " Symbol(\"max(mel1=357Hz)\")\n",
       " Symbol(\"qnt(mel12=2383Hz)\")\n",
       " Symbol(\"std(cntrd)\")\n",
       " Symbol(\"std(crest)\")\n",
       " Symbol(\"std(mel10=1687Hz)\")\n",
       " Symbol(\"std(mel14=3366Hz)\")"
      ]
     },
     "metadata": {},
     "output_type": "display_data"
    }
   ],
   "source": [
    "interesting_features = unique(SoleData.feature.(SoleLogics.value.(vcat(SoleLogics.atoms.(i.antecedent for i in interesting_rules)...))))\n",
    "interesting_variables = sort(SoleData.i_variable.(interesting_features))"
   ]
  }
 ],
 "metadata": {
  "kernelspec": {
   "display_name": "Julia 1.10.5",
   "language": "julia",
   "name": "julia-1.10"
  },
  "language_info": {
   "file_extension": ".jl",
   "mimetype": "application/julia",
   "name": "julia",
   "version": "1.10.5"
  }
 },
 "nbformat": 4,
 "nbformat_minor": 2
}
