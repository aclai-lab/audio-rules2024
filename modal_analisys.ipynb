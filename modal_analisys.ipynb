{
 "cells": [
  {
   "cell_type": "markdown",
   "metadata": {},
   "source": [
    "# ItaData2024\n",
    "modal example"
   ]
  },
  {
   "cell_type": "code",
   "execution_count": null,
   "metadata": {},
   "outputs": [],
   "source": [
    "using Pkg\n",
    "Pkg.activate(\".\")\n",
    "using MLJ, ModalDecisionTrees\n",
    "using SoleDecisionTreeInterface, Sole, SoleData\n",
    "using CategoricalArrays\n",
    "using DataFrames, JLD2, CSV\n",
    "using Audio911\n",
    "using Random\n",
    "using StatsBase, Catch22\n",
    "using Test\n",
    "using Plots"
   ]
  },
  {
   "cell_type": "markdown",
   "metadata": {},
   "source": [
    "### Settings"
   ]
  },
  {
   "cell_type": "code",
   "execution_count": null,
   "metadata": {},
   "outputs": [],
   "source": [
    "experiment = :Pneumonia\n",
    "# experiment = :Bronchiectasis\n",
    "# experiment = :COPD\n",
    "# experiment = :URTI\n",
    "# experiment = :Bronchiolitis\n",
    "\n",
    "features = :catch9\n",
    "# features = :minmax\n",
    "# features = :custom\n",
    "\n",
    "loadset = false\n",
    "# loadset = true\n",
    "\n",
    "scale = :semitones\n",
    "# scale = :mel_htk\n",
    "\n",
    "usemfcc = false\n",
    "# usemfcc = true\n",
    "usef0 = false\n",
    "# usef0 = true\n",
    "\n",
    "sr = 8000\n",
    "audioparams = (\n",
    "    usemfcc = usemfcc,\n",
    "    usef0 = usef0,\n",
    "    sr = sr,\n",
    "    nfft = 1024,\n",
    "    scale = scale, # :mel_htk, :mel_slaney, :erb, :bark, :semitones, :tuned_semitones\n",
    "    nbands = scale == :semitones ? 14 : 26,\n",
    "    ncoeffs = scale == :semitones ? 7 : 13,\n",
    "    freq_range = (300, round(Int, sr / 2)),\n",
    "    db_scale = usemfcc ? false : true,\n",
    ")\n",
    "\n",
    "memguard = false\n",
    "# memguard = true\n",
    "n_elems = 20\n",
    "\n",
    "avail_exp = [:Pneumonia, :Bronchiectasis, :COPD, :URTI, :Bronchiolitis]\n",
    "\n",
    "@assert experiment in avail_exp \"Unknown type of experiment: $experiment.\"\n",
    "\n",
    "findhealthy = y -> findall(x -> x == \"Healthy\", y)\n",
    "ds_path = \"/datasets/respiratory_Healthy_\" * String(experiment)\n",
    "findsick = y -> findall(x -> x == String(experiment), y)\n",
    "filename = \"/datasets/itadata2024_\" * String(experiment) * \"_files\"\n",
    "memguard && begin filename *= string(\"_memguard\") end\n",
    "\n",
    "destpath = \"results/modal\"\n",
    "jld2file = destpath * \"/itadata2024_\" * String(experiment) * \"_\" * String(scale) * \".jld2\"\n",
    "dsfile = destpath * \"/ds_test_\" * String(experiment) * \"_\" * String(scale) * \".jld2\"\n",
    "\n",
    "color_code = Dict(:red => 31, :green => 32, :yellow => 33, :blue => 34, :magenta => 35, :cyan => 36);\n",
    "r_select = r\"\\e\\[\\d+m(.*?)\\e\\[0m\";"
   ]
  },
  {
   "cell_type": "markdown",
   "metadata": {},
   "source": [
    "### Audio processing and handling of NaN values"
   ]
  },
  {
   "cell_type": "code",
   "execution_count": null,
   "metadata": {},
   "outputs": [],
   "source": [
    "function afe(x::AbstractVector{Float64}, audioparams::NamedTuple; get_only_melfreq=false)\n",
    "    # -------------------------------- parameters -------------------------------- #\n",
    "    # audio module\n",
    "    sr = audioparams.sr\n",
    "    norm = true\n",
    "    speech_detection = false\n",
    "    # stft module\n",
    "    nfft = audioparams.nfft\n",
    "    win_type = (:hann, :periodic)\n",
    "    win_length = audioparams.nfft\n",
    "    overlap_length = round(Int, audioparams.nfft / 2)\n",
    "    stft_norm = :power                      # :power, :magnitude, :pow2mag\n",
    "    # mel filterbank module\n",
    "    nbands = audioparams.nbands\n",
    "    scale = audioparams.scale               # :mel_htk, :mel_slaney, :erb, :bark, :semitones, :tuned_semitones\n",
    "    melfb_norm = :bandwidth                 # :bandwidth, :area, :none\n",
    "    freq_range = audioparams.freq_range\n",
    "    # mel spectrogram module\n",
    "    db_scale = audioparams.db_scale\n",
    "\n",
    "    # --------------------------------- functions -------------------------------- #\n",
    "    # audio module\n",
    "    audio = load_audio(\n",
    "        file=x,\n",
    "        sr=sr,\n",
    "        norm=norm,\n",
    "    );\n",
    "\n",
    "    stftspec = get_stft(\n",
    "        audio=audio,\n",
    "        nfft=nfft,\n",
    "        win_type=win_type,\n",
    "        win_length=win_length,\n",
    "        overlap_length=overlap_length,\n",
    "        norm=stft_norm\n",
    "    );\n",
    "\n",
    "    # mel filterbank module\n",
    "    melfb = get_melfb(\n",
    "        stft=stftspec,\n",
    "        nbands=nbands,\n",
    "        scale=scale,\n",
    "        norm=melfb_norm,\n",
    "        freq_range=freq_range\n",
    "    );\n",
    "\n",
    "    if get_only_melfreq\n",
    "        return melfb.data.freq\n",
    "    end\n",
    "\n",
    "    # mel spectrogram module\n",
    "    melspec =  get_melspec(\n",
    "        stft=stftspec,\n",
    "        fbank=melfb,\n",
    "        db_scale=db_scale\n",
    "    );\n",
    "\n",
    "    if audioparams.usemfcc\n",
    "        # mfcc module\n",
    "        ncoeffs = audioparams.ncoeffs\n",
    "        rectification = :log                    # :log, :cubic_root\n",
    "        dither = true\n",
    "\n",
    "        mfcc = get_mfcc(\n",
    "            source=melspec,\n",
    "            ncoeffs=ncoeffs,\n",
    "            rectification=rectification,\n",
    "            dither=dither,\n",
    "        );\n",
    "    end\n",
    "\n",
    "    if audioparams.usef0\n",
    "        # f0 module\n",
    "        method = :nfc\n",
    "        f0_range = (50, 400)\n",
    "\n",
    "        f0 = get_f0(\n",
    "            source=stftspec,\n",
    "            method=method,\n",
    "            freq_range=f0_range\n",
    "        );\n",
    "    end\n",
    "\n",
    "    # spectral features module\n",
    "    spect = get_spectrals(\n",
    "        source=stftspec,\n",
    "        freq_range=freq_range\n",
    "    );\n",
    "\n",
    "    hcat(\n",
    "        filter(!isnothing, [\n",
    "            melspec.spec',\n",
    "            audioparams.usemfcc ? mfcc.mfcc' : nothing,\n",
    "            audioparams.usef0 ? f0.f0 : nothing,\n",
    "            spect.centroid,\n",
    "            spect.crest,\n",
    "            spect.entropy,\n",
    "            spect.flatness,\n",
    "            spect.flux,\n",
    "            spect.kurtosis,\n",
    "            spect.rolloff,\n",
    "            spect.skewness,\n",
    "            spect.decrease,\n",
    "            spect.slope,\n",
    "            spect.spread\n",
    "        ])...\n",
    "    )    \n",
    "end\n",
    "\n",
    "function mean_longstretch1(x) Catch22.SB_BinaryStats_mean_longstretch1((x)) end\n",
    "function diff_longstretch0(x) Catch22.SB_BinaryStats_diff_longstretch0((x)) end\n",
    "function quantile_hh(x) Catch22.SB_MotifThree_quantile_hh((x)) end\n",
    "function sumdiagcov(x) Catch22.SB_TransitionMatrix_3ac_sumdiagcov((x)) end\n",
    "\n",
    "function histogramMode_5(x) Catch22.DN_HistogramMode_5((x)) end\n",
    "function f1ecac(x) Catch22.CO_f1ecac((x)) end\n",
    "function histogram_even_2_5(x) Catch22.CO_HistogramAMI_even_2_5((x)) end\n",
    "\n",
    "function get_patched_feature(f::Base.Callable, polarity::Symbol)\n",
    "    if f in [minimum, maximum, StatsBase.mean, median]\n",
    "        f\n",
    "    else\n",
    "        @eval $(Symbol(string(f)*string(polarity)))\n",
    "    end\n",
    "end"
   ]
  },
  {
   "cell_type": "markdown",
   "metadata": {},
   "source": [
    "### Prepare dataset for training"
   ]
  },
  {
   "cell_type": "code",
   "execution_count": null,
   "metadata": {},
   "outputs": [],
   "source": [
    "d = jldopen(string((@__DIR__), ds_path, \".jld2\"))\n",
    "x, y = d[\"dataframe_validated\"]\n",
    "@assert x isa DataFrame\n",
    "close(d)\n",
    "\n",
    "memguard && begin\n",
    "    cat2 = round(Int, length(y)/2)\n",
    "    indices = [1:n_elems; cat2:cat2+n_elems-1]\n",
    "    x = x[indices, :]\n",
    "    y = y[indices]\n",
    "end\n",
    "\n",
    "freq = round.(Int, afe(x[1, :audio], audioparams; get_only_melfreq=true))\n",
    "\n",
    "variable_names = vcat(\n",
    "    [\"\\e[$(color_code[:yellow])mmel$i=$(freq[i])Hz\\e[0m\" for i in 1:audioparams.nbands],\n",
    "    audioparams.usemfcc ? [\"\\e[$(color_code[:red])mmfcc$i\\e[0m\" for i in 1:audioparams.ncoeffs] : String[],\n",
    "    audioparams.usef0 ? [\"\\e[$(color_code[:green])mf0\\e[0m\"] : String[],\n",
    "    \"\\e[$(color_code[:cyan])mcntrd\\e[0m\", \"\\e[$(color_code[:cyan])mcrest\\e[0m\",\n",
    "    \"\\e[$(color_code[:cyan])mentrp\\e[0m\", \"\\e[$(color_code[:cyan])mflatn\\e[0m\", \"\\e[$(color_code[:cyan])mflux\\e[0m\",\n",
    "    \"\\e[$(color_code[:cyan])mkurts\\e[0m\", \"\\e[$(color_code[:cyan])mrllff\\e[0m\", \"\\e[$(color_code[:cyan])mskwns\\e[0m\",\n",
    "    \"\\e[$(color_code[:cyan])mdecrs\\e[0m\", \"\\e[$(color_code[:cyan])mslope\\e[0m\", \"\\e[$(color_code[:cyan])msprd\\e[0m\"\n",
    ")\n",
    "\n",
    "nan_guard = [:std, :mean_longstretch1, :diff_longstretch0, :quantile_hh, :sumdiagcov, :histogramMode_5, :f1ecac, :histogram_even_2_5]\n",
    "\n",
    "for f_name in nan_guard\n",
    "    @eval (function $(Symbol(string(f_name)*\"+\"))(channel)\n",
    "        val = $(f_name)(channel)\n",
    "\n",
    "        if isnan(val)\n",
    "            SoleData.aggregator_bottom(SoleData.existential_aggregator(≥), eltype(channel))\n",
    "        else\n",
    "            eltype(channel)(val)\n",
    "        end\n",
    "    end)\n",
    "    @eval (function $(Symbol(string(f_name)*\"-\"))(channel)\n",
    "        val = $(f_name)(channel)\n",
    "\n",
    "        if isnan(val)\n",
    "            SoleData.aggregator_bottom(SoleData.existential_aggregator(≤), eltype(channel))\n",
    "        else\n",
    "            eltype(channel)(val)\n",
    "        end\n",
    "    end)\n",
    "end\n",
    "\n",
    "if features == :catch9\n",
    "    metaconditions = [\n",
    "        (≥, get_patched_feature(maximum, :+)),            (≤, get_patched_feature(maximum, :-)),\n",
    "        (≥, get_patched_feature(minimum, :+)),            (≤, get_patched_feature(minimum, :-)),\n",
    "        (≥, get_patched_feature(StatsBase.mean, :+)),     (≤, get_patched_feature(StatsBase.mean, :-)),\n",
    "        (≥, get_patched_feature(median, :+)),             (≤, get_patched_feature(median, :-)),\n",
    "        (≥, get_patched_feature(std, :+)),                (≤, get_patched_feature(std, :-)),\n",
    "        (≥, get_patched_feature(mean_longstretch1, :+)),  (≤, get_patched_feature(mean_longstretch1, :-)),\n",
    "        (≥, get_patched_feature(diff_longstretch0, :+)),  (≤, get_patched_feature(diff_longstretch0, :-)),\n",
    "        (≥, get_patched_feature(quantile_hh, :+)),        (≤, get_patched_feature(quantile_hh, :-)),\n",
    "        (≥, get_patched_feature(sumdiagcov, :+)),         (≤, get_patched_feature(sumdiagcov, :-)),\n",
    "    ]\n",
    "elseif features == :minmax\n",
    "    metaconditions = [\n",
    "        (≥, get_patched_feature(maximum, :+)),            (≤, get_patched_feature(maximum, :-)),\n",
    "        (≥, get_patched_feature(minimum, :+)),            (≤, get_patched_feature(minimum, :-)),\n",
    "    ]\n",
    "elseif features == :custom\n",
    "    metaconditions = [\n",
    "        (≥, get_patched_feature(maximum, :+)),            (≤, get_patched_feature(maximum, :-)),\n",
    "        # (≥, get_patched_feature(minimum, :+)),            (≤, get_patched_feature(minimum, :-)),\n",
    "        # (≥, get_patched_feature(StatsBase.mean, :+)),     (≤, get_patched_feature(StatsBase.mean, :-)),\n",
    "        # (≥, get_patched_feature(median, :+)),             (≤, get_patched_feature(median, :-)),\n",
    "        (≥, get_patched_feature(std, :+)),                (≤, get_patched_feature(std, :-)),\n",
    "        # (≥, get_patched_feature(mean_longstretch1, :+)),  (≤, get_patched_feature(mean_longstretch1, :-)),\n",
    "        # (≥, get_patched_feature(diff_longstretch0, :+)),  (≤, get_patched_feature(diff_longstretch0, :-)),\n",
    "        # (≥, get_patched_feature(quantile_hh, :+)),        (≤, get_patched_feature(quantile_hh, :-)),\n",
    "        # (≥, get_patched_feature(sumdiagcov, :+)),         (≤, get_patched_feature(sumdiagcov, :-)),\n",
    "        (≥, get_patched_feature(histogramMode_5, :+)),    (≤, get_patched_feature(histogramMode_5, :-)),\n",
    "        (≥, get_patched_feature(f1ecac, :+)),             (≤, get_patched_feature(f1ecac, :-)),\n",
    "        (≥, get_patched_feature(histogram_even_2_5, :+)), (≤, get_patched_feature(histogram_even_2_5, :-)),\n",
    "    ]\n",
    "else\n",
    "    error(\"Unknown set of features: $features.\")\n",
    "end\n",
    "\n",
    "if !loadset\n",
    "    @info(\"Build dataset...\")\n",
    "\n",
    "    X = DataFrame([name => Vector{Float64}[] for name in [match(r_select, v)[1] for v in variable_names]])\n",
    "\n",
    "    for i in 1:nrow(x)\n",
    "        push!(X, collect(eachcol(afe(x[i, :audio], audioparams))))\n",
    "    end\n",
    "\n",
    "    yc = CategoricalArray(y);\n",
    "\n",
    "    train_ratio = 0.8\n",
    "    train, test = partition(eachindex(yc), train_ratio, shuffle=true)\n",
    "    X_train, y_train = X[train, :], yc[train]\n",
    "    X_test, y_test = X[test, :], yc[test]\n",
    "    save(dsfile, Dict(\"X_test\" => X_test, \"y_test\" => y_test))\n",
    "\n",
    "    println(\"Training set size: \", size(X_train), \" - \", length(y_train))\n",
    "    println(\"Test set size: \", size(X_test), \" - \", length(y_test))\n",
    "end"
   ]
  },
  {
   "cell_type": "markdown",
   "metadata": {},
   "source": [
    "### Train a model"
   ]
  },
  {
   "cell_type": "code",
   "execution_count": null,
   "metadata": {},
   "outputs": [],
   "source": [
    "if !loadset\n",
    "    learned_dt_tree = begin\n",
    "        model = ModalDecisionTree(; relations = :IA7, features = metaconditions)                                                                                                                                                                                                                                                                                                                                                                                                                                                                                                                                                                                                                                                       \n",
    "        mach = machine(model, X_train, y_train) |> fit!\n",
    "    end\n",
    "\n",
    "    report(learned_dt_tree).printmodel(variable_names_map=variable_names);\n",
    "end"
   ]
  },
  {
   "cell_type": "markdown",
   "metadata": {},
   "source": [
    "### Model inspection & rule study"
   ]
  },
  {
   "cell_type": "code",
   "execution_count": null,
   "metadata": {},
   "outputs": [],
   "source": [
    "if !loadset\n",
    "    _, mtree = report(mach).sprinkle(X_test, y_test)\n",
    "    sole_dt = ModalDecisionTrees.translate(mtree)\n",
    "    # Save solemodel to disk\n",
    "    save(jld2file, Dict(\"metaconditions\" => metaconditions, \"sole_dt\" => sole_dt))\n",
    "else\n",
    "    @info(\"Load dataset...\")\n",
    "    d = jldopen(dsfile)\n",
    "    X_test = d[\"X_test\"]\n",
    "    y_test = d[\"y_test\"]\n",
    "    close(d)\n",
    "    d = jldopen(jld2file)\n",
    "    sole_dt = d[\"sole_dt\"]\n",
    "    close(d)\n",
    "end\n",
    "\n",
    "printmodel(sole_dt; show_metrics = true, variable_names_map=variable_names);"
   ]
  },
  {
   "cell_type": "markdown",
   "metadata": {},
   "source": [
    "### Extract rules that are at least as good as a random baseline model"
   ]
  },
  {
   "cell_type": "code",
   "execution_count": null,
   "metadata": {},
   "outputs": [],
   "source": [
    "interesting_rules = listrules(sole_dt, min_lift = 1.0, min_ninstances = 0);\n",
    "printmodel.(interesting_rules; show_metrics = true, variable_names_map=variable_names);"
   ]
  },
  {
   "cell_type": "markdown",
   "metadata": {},
   "source": [
    "### Simplify rules while extracting and prettify result"
   ]
  },
  {
   "cell_type": "code",
   "execution_count": null,
   "metadata": {},
   "outputs": [],
   "source": [
    "interesting_rules = listrules(sole_dt, min_lift = 1.0, min_ninstances = 0, normalize = true);\n",
    "printmodel.(interesting_rules; show_metrics = true, syntaxstring_kwargs = (; threshold_digits = 2), variable_names_map=variable_names);"
   ]
  },
  {
   "cell_type": "markdown",
   "metadata": {},
   "source": [
    "### Directly access rule metrics"
   ]
  },
  {
   "cell_type": "code",
   "execution_count": null,
   "metadata": {},
   "outputs": [],
   "source": [
    "readmetrics.(interesting_rules)"
   ]
  },
  {
   "cell_type": "markdown",
   "metadata": {},
   "source": [
    "### Show rules with an additional metric (syntax height of the rule's antecedent)"
   ]
  },
  {
   "cell_type": "code",
   "execution_count": null,
   "metadata": {},
   "outputs": [],
   "source": [
    "printmodel.(sort(interesting_rules, by = readmetrics); show_metrics = (; round_digits = nothing, additional_metrics = (; height = r->SoleLogics.height(antecedent(r)))), variable_names_map=variable_names);"
   ]
  },
  {
   "cell_type": "markdown",
   "metadata": {},
   "source": [
    "### Pretty table of rules and their metrics"
   ]
  },
  {
   "cell_type": "code",
   "execution_count": null,
   "metadata": {},
   "outputs": [],
   "source": [
    "metricstable(interesting_rules; variable_names_map=variable_names, metrics_kwargs = (; round_digits = nothing, additional_metrics = (; height = r->SoleLogics.height(antecedent(r)))))"
   ]
  },
  {
   "cell_type": "markdown",
   "metadata": {},
   "source": [
    "### Inspect rules"
   ]
  },
  {
   "cell_type": "code",
   "execution_count": null,
   "metadata": {},
   "outputs": [],
   "source": [
    "interesting_rules = listrules(sole_dt,\n",
    "\tmin_lift = 1.0,\n",
    "\t# min_lift = 2.0,\n",
    "\tmin_ninstances = 0,\n",
    "\tmin_coverage = 0.10,\n",
    "\tnormalize = true,\n",
    ");\n",
    "map(r->(consequent(r), readmetrics(r)), interesting_rules)\n",
    "printmodel.(interesting_rules; show_metrics = true, syntaxstring_kwargs = (; threshold_digits = 2), variable_names_map=variable_names)"
   ]
  },
  {
   "cell_type": "markdown",
   "metadata": {},
   "source": [
    "### Precomputing logiset"
   ]
  },
  {
   "cell_type": "code",
   "execution_count": null,
   "metadata": {},
   "outputs": [],
   "source": [
    "interesting_features = unique(SoleData.feature.(SoleLogics.value.(vcat(SoleLogics.atoms.(i.antecedent for i in interesting_rules)...))))\n",
    "interesting_variables = sort(SoleData.i_variable.(interesting_features))\n",
    "\n",
    "healthy_indxs = findhealthy(y_test)\n",
    "sick_indx = findsick(y_test)\n",
    "\n",
    "X_test_logiset = scalarlogiset(X_test, interesting_features)\n",
    "@test X_test_logiset.base isa UniformFullDimensionalLogiset"
   ]
  },
  {
   "cell_type": "markdown",
   "metadata": {},
   "source": [
    "### Apply predictions"
   ]
  },
  {
   "cell_type": "code",
   "execution_count": null,
   "metadata": {},
   "outputs": [],
   "source": [
    "y_test_preds = [apply(interesting_rule, X_test_logiset) for interesting_rule in interesting_rules]\n",
    "\n",
    "uncovered_instance_indxs = [findall(isnothing, y_test_pred) for  y_test_pred in y_test_preds]\n",
    "covered_instance_indxs = [findall(!isnothing, y_test_pred) for  y_test_pred in y_test_preds]\n",
    "\n",
    "uncovered_global_indxs = sort(intersect(uncovered_instance_indxs...))\n",
    "covered_global_indxs = sort(union(covered_instance_indxs...))\n",
    "\n",
    "correctly_classified_instance_indxs = [findall(y_test_pred .== y_test) for  y_test_pred in y_test_preds]\n",
    "\n",
    "correctly_classified_global_indxs = sort(union(correctly_classified_instance_indxs...))\n",
    "\n",
    "vlength = x -> isempty(x) ? 0 : length(x)\n",
    "println(\"Uncovered instances: \", vlength(uncovered_global_indxs), \".\")\n",
    "println(\"Covered instances: \", vlength(covered_global_indxs), \".\")\n",
    "println(\"Correctly classified: \", vlength(correctly_classified_global_indxs), \", on a total of \", length(y_test), \" test samples analyzed.\")"
   ]
  }
 ],
 "metadata": {
  "kernelspec": {
   "display_name": "Julia 1.10.3",
   "language": "julia",
   "name": "julia-1.10"
  },
  "language_info": {
   "file_extension": ".jl",
   "mimetype": "application/julia",
   "name": "julia",
   "version": "1.10.3"
  }
 },
 "nbformat": 4,
 "nbformat_minor": 2
}
