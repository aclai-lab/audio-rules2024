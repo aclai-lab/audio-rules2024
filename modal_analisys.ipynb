{
 "cells": [
  {
   "cell_type": "markdown",
   "metadata": {},
   "source": [
    "# ItaData2024\n",
    "modal example"
   ]
  },
  {
   "cell_type": "code",
   "execution_count": 16,
   "metadata": {},
   "outputs": [
    {
     "name": "stderr",
     "output_type": "stream",
     "text": [
      "\u001b[32m\u001b[1m  Activating\u001b[22m\u001b[39m project at `~/audio-rules2024`\n"
     ]
    }
   ],
   "source": [
    "using Pkg\n",
    "Pkg.activate(\".\")\n",
    "using MLJ, ModalDecisionTrees\n",
    "using SoleDecisionTreeInterface, Sole, SoleData\n",
    "using CategoricalArrays\n",
    "using DataFrames, JLD2, CSV\n",
    "using Audio911\n",
    "using Random\n",
    "using StatsBase, Catch22\n",
    "using Test\n",
    "using Plots"
   ]
  },
  {
   "cell_type": "markdown",
   "metadata": {},
   "source": [
    "### Settings"
   ]
  },
  {
   "cell_type": "code",
   "execution_count": 17,
   "metadata": {},
   "outputs": [],
   "source": [
    "sr = 8000\n",
    "audioparams = (\n",
    "    sr = sr,\n",
    "    nfft = 512,\n",
    "    nbands = 14,\n",
    "    freq_range = (300, round(Int, sr / 2)),\n",
    "    db_scale = true,\n",
    ")\n",
    "\n",
    "experiment = :pneumonia\n",
    "# experiment = :bronchiectasis\n",
    "\n",
    "# features = :minmax\n",
    "features = :catch9\n",
    "\n",
    "load_set = false;\n",
    "# load_set = true;\n",
    "\n",
    "# memguard = false;\n",
    "memguard = true;\n",
    "n_elems = 100;\n",
    "\n",
    "findhealthy = y -> findall(x -> x == \"Healthy\", y)\n",
    "if experiment == :pneumonia\n",
    "    ds_path = \"/datasets/respiratory_Healthy_Pneumonia\"\n",
    "    findsick = y -> findall(x -> x == \"Pneumonia\", y)\n",
    "    memguard ? filename = \"datasets/itadata2024_pneumonia_files_memguard\" : filename = \"datasets/itadata2024_pneumonia_files\"\n",
    "elseif experiment == :bronchiectasis\n",
    "    ds_path = \"/datasets/respiratory_Healthy_Bronchiectasis\"\n",
    "    findsick = y -> findall(x -> x == \"Bronchiectasis\", y)\n",
    "    memguard ? filename = \"datasets/itadata2024_bronchiectasis_files_memguard\" : filename = \"datasets/itadata2024_bronchiectasis_files\"\n",
    "else\n",
    "    error(\"Unknown type of experiment: $experiment.\")\n",
    "end\n",
    "\n",
    "color_code = Dict(:red => 31, :green => 32, :yellow => 33, :blue => 34, :magenta => 35, :cyan => 36);\n",
    "r_select = r\"\\e\\[\\d+m(.*?)\\e\\[0m\";"
   ]
  },
  {
   "cell_type": "markdown",
   "metadata": {},
   "source": [
    "### Audio processing and handling of NaN values"
   ]
  },
  {
   "cell_type": "code",
   "execution_count": 18,
   "metadata": {},
   "outputs": [
    {
     "data": {
      "text/plain": [
       "sumdiagcov (generic function with 1 method)"
      ]
     },
     "metadata": {},
     "output_type": "display_data"
    }
   ],
   "source": [
    "function afe(x::AbstractVector{Float64}; sr::Int64, nfft::Int64, nbands::Int64, freq_range::Tuple{Int64, Int64}, db_scale::Bool, get_only_melfreq=false)\n",
    "    # -------------------------------- parameters -------------------------------- #\n",
    "    # audio module\n",
    "    sr = sr\n",
    "    norm = true\n",
    "    speech_detection = false\n",
    "    # stft module\n",
    "    nfft = nfft\n",
    "    win_type = (:hann, :periodic)\n",
    "    win_length = nfft\n",
    "    overlap_length = round(Int, nfft / 2)\n",
    "    stft_norm = :power                      # :power, :magnitude, :pow2mag\n",
    "    # mel filterbank module\n",
    "    nbands = nbands\n",
    "    scale = :mel_htk                        # :mel_htk, :mel_slaney, :erb, :bark\n",
    "    melfb_norm = :bandwidth                 # :bandwidth, :area, :none\n",
    "    freq_range = freq_range\n",
    "    # mel spectrogram module\n",
    "    db_scale = db_scale\n",
    "\n",
    "    # --------------------------------- functions -------------------------------- #\n",
    "    # audio module\n",
    "    audio = load_audio(\n",
    "        file=x,\n",
    "        sr=sr,\n",
    "        norm=norm,\n",
    "    );\n",
    "\n",
    "    stftspec = get_stft(\n",
    "        audio=audio,\n",
    "        nfft=nfft,\n",
    "        win_type=win_type,\n",
    "        win_length=win_length,\n",
    "        overlap_length=overlap_length,\n",
    "        norm=stft_norm\n",
    "    );\n",
    "\n",
    "    # mel filterbank module\n",
    "    melfb = get_melfb(\n",
    "        stft=stftspec,\n",
    "        nbands=nbands,\n",
    "        scale=scale,\n",
    "        norm=melfb_norm,\n",
    "        freq_range=freq_range\n",
    "    );\n",
    "\n",
    "    if get_only_melfreq\n",
    "        return melfb.data.freq\n",
    "    end\n",
    "\n",
    "    # mel spectrogram module\n",
    "    melspec =  get_melspec(\n",
    "        stft=stftspec,\n",
    "        fbank=melfb,\n",
    "        db_scale=db_scale\n",
    "    );\n",
    "\n",
    "    # spectral features module\n",
    "    spect = get_spectrals(\n",
    "        source=stftspec,\n",
    "        freq_range=freq_range\n",
    "    );\n",
    "\n",
    "    hcat(\n",
    "        melspec.spec',\n",
    "        spect.centroid,\n",
    "        spect.crest,\n",
    "        spect.entropy,\n",
    "        spect.flatness,\n",
    "        spect.flux,\n",
    "        spect.kurtosis,\n",
    "        spect.rolloff,\n",
    "        spect.skewness,\n",
    "        spect.decrease,\n",
    "        spect.slope,\n",
    "        spect.spread\n",
    "    );\n",
    "end\n",
    "\n",
    "function get_patched_feature(f::Base.Callable, polarity::Symbol)\n",
    "    if f in [minimum, maximum, StatsBase.mean, median]\n",
    "        f\n",
    "    else\n",
    "        @eval $(Symbol(string(f)*string(polarity)))\n",
    "    end\n",
    "end\n",
    "\n",
    "function mean_longstretch1(x) Catch22.SB_BinaryStats_mean_longstretch1((x)) end\n",
    "function diff_longstretch0(x) Catch22.SB_BinaryStats_diff_longstretch0((x)) end\n",
    "function quantile_hh(x) Catch22.SB_MotifThree_quantile_hh((x)) end\n",
    "function sumdiagcov(x) Catch22.SB_TransitionMatrix_3ac_sumdiagcov((x)) end"
   ]
  },
  {
   "cell_type": "markdown",
   "metadata": {},
   "source": [
    "### Initial data processing for preloaded datasets"
   ]
  },
  {
   "cell_type": "code",
   "execution_count": 19,
   "metadata": {},
   "outputs": [
    {
     "data": {
      "text/plain": [
       "without_shuffle (generic function with 2 methods)"
      ]
     },
     "metadata": {},
     "output_type": "display_data"
    }
   ],
   "source": [
    "function without_shuffle(filename::String, nbands::Int64)\n",
    "    d = jldopen(string((@__DIR__), \"/\", filename, \".jld2\"))\n",
    "    X_train = d[\"X_train\"]\n",
    "    y_train = d[\"y_train\"]\n",
    "    X_test = d[\"X_test\"]\n",
    "    y_test = d[\"y_test\"]\n",
    "    close(d)\n",
    "\n",
    "    variable_names = [\n",
    "        [\"\\e[$(color_code[:yellow])m$(names(X_train)[i])\\e[0m\" for i in 1:nbands]...,\n",
    "        [\"\\e[$(color_code[:cyan])m$(names(X_train)[i])\\e[0m\" for i in nbands+1:size(X_train, 2)]...,\n",
    "    ]\n",
    "\n",
    "    return X_train, y_train, X_test, y_test, variable_names\n",
    "end"
   ]
  },
  {
   "cell_type": "markdown",
   "metadata": {},
   "source": [
    "### Process a new dataset by shuffling test and train samples"
   ]
  },
  {
   "cell_type": "code",
   "execution_count": 20,
   "metadata": {},
   "outputs": [
    {
     "data": {
      "text/plain": [
       "with_shuffle (generic function with 1 method)"
      ]
     },
     "metadata": {},
     "output_type": "display_data"
    }
   ],
   "source": [
    "function with_shuffle(audioparams::NamedTuple, memguard::Bool, n_elems::Int64)\n",
    "    d = jldopen(string((@__DIR__), ds_path, \".jld2\"))\n",
    "    x, y = d[\"dataframe_validated\"]\n",
    "    @assert x isa DataFrame\n",
    "    close(d)\n",
    "\n",
    "    memguard && begin\n",
    "        cat2 = round(Int, length(y)/2)\n",
    "        indices = [1:n_elems; cat2:cat2+n_elems-1]\n",
    "        x = x[indices, :]\n",
    "        y = y[indices]\n",
    "    end\n",
    "\n",
    "    freq = round.(Int, afe(x[1, :audio]; audioparams..., get_only_melfreq=true))\n",
    "\n",
    "    variable_names = [\n",
    "        [\"\\e[$(color_code[:yellow])mmel$i=$(freq[i])Hz\\e[0m\" for i in 1:audioparams.nbands]...,\n",
    "        # [\"\\e[$(color_code[:red])mmfcc$i\\e[0m\" for i in 1:ncoeffs]...,\n",
    "        # \"\\e[$(color_code[:green])mf0\\e[0m\", \n",
    "        \"\\e[$(color_code[:cyan])mcntrd\\e[0m\", \"\\e[$(color_code[:cyan])mcrest\\e[0m\",\n",
    "        \"\\e[$(color_code[:cyan])mentrp\\e[0m\", \"\\e[$(color_code[:cyan])mflatn\\e[0m\", \"\\e[$(color_code[:cyan])mflux\\e[0m\",\n",
    "        \"\\e[$(color_code[:cyan])mkurts\\e[0m\", \"\\e[$(color_code[:cyan])mrllff\\e[0m\", \"\\e[$(color_code[:cyan])mskwns\\e[0m\",\n",
    "        \"\\e[$(color_code[:cyan])mdecrs\\e[0m\", \"\\e[$(color_code[:cyan])mslope\\e[0m\", \"\\e[$(color_code[:cyan])msprd\\e[0m\"\n",
    "    ]\n",
    "\n",
    "    X = DataFrame([name => Vector{Float64}[] for name in [match(r_select, v)[1] for v in variable_names]])\n",
    "\n",
    "    for i in 1:nrow(x)\n",
    "        push!(X, collect(eachcol(afe(x[i, :audio]; audioparams...))))\n",
    "    end\n",
    "\n",
    "    yc = CategoricalArray(y);\n",
    "\n",
    "    train_ratio = 0.8\n",
    "    train, test = partition(eachindex(yc), train_ratio, shuffle=true)\n",
    "    X_train, y_train = X[train, :], yc[train]\n",
    "    X_test, y_test = X[test, :], yc[test]\n",
    "\n",
    "    return X_train, y_train, X_test, y_test, variable_names\n",
    "end"
   ]
  },
  {
   "cell_type": "markdown",
   "metadata": {},
   "source": [
    "### Prepare dataset for training"
   ]
  },
  {
   "cell_type": "code",
   "execution_count": 21,
   "metadata": {},
   "outputs": [
    {
     "name": "stdout",
     "output_type": "stream",
     "text": [
      "Training set size: (160, 25) - 160\n",
      "Test set size: (40, 25) - 40\n"
     ]
    },
    {
     "data": {
      "text/plain": [
       "18-element Vector{Tuple{Function, Function}}:\n",
       " (>=, maximum)\n",
       " (<=, maximum)\n",
       " (>=, minimum)\n",
       " (<=, minimum)\n",
       " (>=, Statistics.mean)\n",
       " (<=, Statistics.mean)\n",
       " (>=, Statistics.median)\n",
       " (<=, Statistics.median)\n",
       " (>=, var\"std+\")\n",
       " (<=, var\"std-\")\n",
       " (>=, var\"mean_longstretch1+\")\n",
       " (<=, var\"mean_longstretch1-\")\n",
       " (>=, var\"diff_longstretch0+\")\n",
       " (<=, var\"diff_longstretch0-\")\n",
       " (>=, var\"quantile_hh+\")\n",
       " (<=, var\"quantile_hh-\")\n",
       " (>=, var\"sumdiagcov+\")\n",
       " (<=, var\"sumdiagcov-\")"
      ]
     },
     "metadata": {},
     "output_type": "display_data"
    }
   ],
   "source": [
    "X_train, y_train, X_test, y_test, variable_names = load_set ? without_shuffle(filename, audioparams.nbands) : with_shuffle(audioparams, memguard, n_elems)\n",
    "\n",
    "println(\"Training set size: \", size(X_train), \" - \", length(y_train))\n",
    "println(\"Test set size: \", size(X_test), \" - \", length(y_test))\n",
    "\n",
    "nan_guard = [:std, :mean_longstretch1, :diff_longstretch0, :quantile_hh, :sumdiagcov]\n",
    "\n",
    "for f_name in nan_guard\n",
    "    @eval (function $(Symbol(string(f_name)*\"+\"))(channel)\n",
    "        val = $(f_name)(channel)\n",
    "\n",
    "        if isnan(val)\n",
    "            SoleData.aggregator_bottom(SoleData.existential_aggregator(≥), eltype(channel))\n",
    "        else\n",
    "            eltype(channel)(val)\n",
    "        end\n",
    "    end)\n",
    "    @eval (function $(Symbol(string(f_name)*\"-\"))(channel)\n",
    "        val = $(f_name)(channel)\n",
    "\n",
    "        if isnan(val)\n",
    "            SoleData.aggregator_bottom(SoleData.existential_aggregator(≤), eltype(channel))\n",
    "        else\n",
    "            eltype(channel)(val)\n",
    "        end\n",
    "    end)\n",
    "end\n",
    "\n",
    "if features == :catch9\n",
    "    metaconditions = [\n",
    "        (≥, get_patched_feature(maximum, :+)),            (≤, get_patched_feature(maximum, :-)),\n",
    "        (≥, get_patched_feature(minimum, :+)),            (≤, get_patched_feature(minimum, :-)),\n",
    "        (≥, get_patched_feature(StatsBase.mean, :+)),     (≤, get_patched_feature(StatsBase.mean, :-)),\n",
    "        (≥, get_patched_feature(median, :+)),             (≤, get_patched_feature(median, :-)),\n",
    "        (≥, get_patched_feature(std, :+)),                (≤, get_patched_feature(std, :-)),\n",
    "        (≥, get_patched_feature(mean_longstretch1, :+)),  (≤, get_patched_feature(mean_longstretch1, :-)),\n",
    "        (≥, get_patched_feature(diff_longstretch0, :+)),  (≤, get_patched_feature(diff_longstretch0, :-)),\n",
    "        (≥, get_patched_feature(quantile_hh, :+)),        (≤, get_patched_feature(quantile_hh, :-)),\n",
    "        (≥, get_patched_feature(sumdiagcov, :+)),         (≤, get_patched_feature(sumdiagcov, :-)),\n",
    "    ]\n",
    "elseif features == :minmax\n",
    "    metaconditions = [\n",
    "        (≥, get_patched_feature(maximum, :+)),            (≤, get_patched_feature(maximum, :-)),\n",
    "        (≥, get_patched_feature(minimum, :+)),            (≤, get_patched_feature(minimum, :-)),\n",
    "    ]\n",
    "else\n",
    "    error(\"Unknown set of features: $features.\")\n",
    "end"
   ]
  },
  {
   "cell_type": "markdown",
   "metadata": {},
   "source": [
    "### Train a model"
   ]
  },
  {
   "cell_type": "code",
   "execution_count": 22,
   "metadata": {},
   "outputs": [
    {
     "name": "stderr",
     "output_type": "stream",
     "text": [
      "┌ Info: Precomputing logiset...\n",
      "└ @ ModalDecisionTrees.MLJInterface /home/paso/.julia/dev/ModalDecisionTrees.jl/src/interfaces/MLJ/wrapdataset.jl:135\n",
      "┌ Info: Training machine(ModalDecisionTree(max_depth = nothing, …), …).\n",
      "└ @ MLJBase /home/paso/.julia/packages/MLJBase/7nGJF/src/machines.jl:499\n"
     ]
    }
   ],
   "source": [
    "learned_dt_tree = begin\n",
    "    model = ModalDecisionTree(; relations = :IA7, features = metaconditions)                                                                                                                                                                                                                                                                                                                                                                                                                                                                                                                                                                                                                                                      \n",
    "    mach = machine(model, X_train, y_train) |> fit!\n",
    "end\n",
    "\n",
    "report(learned_dt_tree).printmodel(variable_names_map=variable_names);"
   ]
  },
  {
   "cell_type": "markdown",
   "metadata": {},
   "source": [
    "### Model inspection & rule study"
   ]
  },
  {
   "cell_type": "code",
   "execution_count": null,
   "metadata": {},
   "outputs": [],
   "source": [
    "_, mtree = report(mach).sprinkle(X_test, y_test)\n",
    "sole_dt = ModalDecisionTrees.translate(mtree)\n",
    "\n",
    "printmodel(sole_dt; show_metrics = true, variable_names_map=variable_names);"
   ]
  },
  {
   "cell_type": "markdown",
   "metadata": {},
   "source": [
    "### Extract rules that are at least as good as a random baseline model"
   ]
  },
  {
   "cell_type": "code",
   "execution_count": null,
   "metadata": {},
   "outputs": [],
   "source": [
    "interesting_rules = listrules(sole_dt, min_lift = 1.0, min_ninstances = 0);\n",
    "printmodel.(interesting_rules; show_metrics = true, variable_names_map=variable_names);"
   ]
  },
  {
   "cell_type": "markdown",
   "metadata": {},
   "source": [
    "### Simplify rules while extracting and prettify result"
   ]
  },
  {
   "cell_type": "code",
   "execution_count": null,
   "metadata": {},
   "outputs": [],
   "source": [
    "interesting_rules = listrules(sole_dt, min_lift = 1.0, min_ninstances = 0, normalize = true);\n",
    "printmodel.(interesting_rules; show_metrics = true, syntaxstring_kwargs = (; threshold_digits = 2), variable_names_map=variable_names);"
   ]
  },
  {
   "cell_type": "markdown",
   "metadata": {},
   "source": [
    "### Directly access rule metrics"
   ]
  },
  {
   "cell_type": "code",
   "execution_count": null,
   "metadata": {},
   "outputs": [],
   "source": [
    "readmetrics.(interesting_rules)"
   ]
  },
  {
   "cell_type": "markdown",
   "metadata": {},
   "source": [
    "### Show rules with an additional metric (syntax height of the rule's antecedent)"
   ]
  },
  {
   "cell_type": "code",
   "execution_count": null,
   "metadata": {},
   "outputs": [],
   "source": [
    "printmodel.(sort(interesting_rules, by = readmetrics); show_metrics = (; round_digits = nothing, additional_metrics = (; height = r->SoleLogics.height(antecedent(r)))), variable_names_map=variable_names);"
   ]
  },
  {
   "cell_type": "markdown",
   "metadata": {},
   "source": [
    "### Pretty table of rules and their metrics"
   ]
  },
  {
   "cell_type": "code",
   "execution_count": null,
   "metadata": {},
   "outputs": [],
   "source": [
    "metricstable(interesting_rules; variable_names_map=variable_names, metrics_kwargs = (; round_digits = nothing, additional_metrics = (; height = r->SoleLogics.height(antecedent(r)))))"
   ]
  },
  {
   "cell_type": "markdown",
   "metadata": {},
   "source": [
    "# Inspect features"
   ]
  },
  {
   "cell_type": "code",
   "execution_count": null,
   "metadata": {},
   "outputs": [],
   "source": [
    "# interesting_rules = listrules(sole_dt,\n",
    "# \tmin_lift = 1.0,\n",
    "# \t# min_lift = 2.0,\n",
    "# \tmin_ninstances = 0,\n",
    "# \tmin_coverage = 0.10,\n",
    "# \tnormalize = true,\n",
    "# );\n",
    "# map(r->(consequent(r), readmetrics(r)), interesting_rules)\n",
    "# printmodel.(interesting_rules; show_metrics = true, syntaxstring_kwargs = (; threshold_digits = 2), variable_names_map=variable_names);"
   ]
  },
  {
   "cell_type": "code",
   "execution_count": null,
   "metadata": {},
   "outputs": [],
   "source": [
    "# interesting_rule = interesting_rules[1]\n",
    "# interesting_features = unique(SoleData.feature.(SoleLogics.value.(SoleLogics.atoms(interesting_rule.antecedent))))\n",
    "# interesting_variables = SoleData.i_variable.(interesting_features)\n",
    "\n",
    "# X_test_logiset = scalarlogiset(X_test, interesting_features) # @btime 1.560 ms (52815 allocations: 2.01 MiB)\n",
    "\n",
    "# X_test_logiset = scalarlogiset(X_test, interesting_features; # @btime 1.841 ms (52929 allocations: 2.97 MiB)\n",
    "# \tuse_onestep_memoization = true,\n",
    "# \t# conditions = [minimum, maximum], # crashing\n",
    "# \t# relations = SoleLogics.IARelations,\n",
    "# \t# relations = SoleLogics.IA3Relations,\n",
    "# \trelations = SoleLogics.IA7Relations,\n",
    "# )\n",
    "\n",
    "# @test X_test_logiset.base isa UniformFullDimensionalLogiset\n",
    "\n",
    "# y_test_preds = apply(interesting_rule, X_test_logiset)\n",
    "# X_test, y_test\n",
    "\n",
    "# uncovered_instance_indxs = findall(isnothing, y_test_preds)\n",
    "# covered_instance_indxs = findall(!isnothing, y_test_preds)\n",
    "# correctly_classified_instance_indxs = findall(y_test_preds .== y_test)\n",
    "# length(uncovered_instance_indxs), length(covered_instance_indxs), length(correctly_classified_instance_indxs)\n",
    "\n",
    "# This is better:\n",
    "# interesting_part_of_X_test = X_test[:,interesting_variables[1]]\n",
    "\n",
    "# plot!.(interesting_part_of_X_test[uncovered_instance_indxs[1:4],:])\n",
    "# plot!.(interesting_part_of_X_test[covered_instance_indxs[1:3],:])\n",
    "# plot!.(interesting_part_of_X_test[correctly_classified_instance_indxs[1:3],:])\n",
    "# plot!()"
   ]
  },
  {
   "cell_type": "code",
   "execution_count": null,
   "metadata": {},
   "outputs": [],
   "source": [
    "# healthy_indxs = findall(x -> x == \"Healthy\", y_test)\n",
    "# pneumonia_indxs = findall(x -> x == \"Pneumonia\", y_test)\n",
    "\n",
    "# interesting_features = unique(SoleData.feature.(SoleLogics.value.(vcat(SoleLogics.atoms.(i.antecedent for i in interesting_rules)...))))\n",
    "# interesting_variables = sort(SoleData.i_variable.(interesting_features))"
   ]
  },
  {
   "cell_type": "code",
   "execution_count": null,
   "metadata": {},
   "outputs": [],
   "source": [
    "# plots = []\n",
    "# for j in interesting_variables\n",
    "#     name = match(r_select, variable_names[j])[1]\n",
    "#     p = plot(X_test[pneumonia_indxs, j],\n",
    "#         linewidth=3,\n",
    "#         title=\"Feature $name\",\n",
    "#         # xlabel=\"Samples\",\n",
    "#         legend=false,\n",
    "#     )\n",
    "#     push!(plots, p)\n",
    "# end\n",
    "\n",
    "# n = length(interesting_variables)\n",
    "# nrows = Int(ceil(sqrt(n)))\n",
    "# ncols = Int(ceil(n / nrows))\n",
    "\n",
    "# final_plot = plot(plots..., layout=(nrows, ncols), size=(800, 600))\n",
    "# display(final_plot)"
   ]
  },
  {
   "cell_type": "code",
   "execution_count": null,
   "metadata": {},
   "outputs": [],
   "source": [
    "# plots = []\n",
    "# for j in interesting_variables\n",
    "#     name = match(r_select, variable_names[j])[1]\n",
    "#     p = plot(X_test[healthy_indxs, j],\n",
    "#         linewidth=3,\n",
    "#         title=\"Feature $name\",\n",
    "#         # xlabel=\"Samples\",\n",
    "#         legend=false,\n",
    "#     )\n",
    "#     push!(plots, p)\n",
    "# end\n",
    "\n",
    "# n = length(interesting_variables)\n",
    "# nrows = Int(ceil(sqrt(n)))\n",
    "# ncols = Int(ceil(n / nrows))\n",
    "\n",
    "# final_plot = plot(plots..., layout=(nrows, ncols), size=(800, 600))\n",
    "# display(final_plot)"
   ]
  },
  {
   "cell_type": "code",
   "execution_count": null,
   "metadata": {},
   "outputs": [],
   "source": [
    "# plots = []\n",
    "\n",
    "# for j in interesting_variables\n",
    "#     name = match(r_select, variable_names[j])[1]\n",
    "    \n",
    "#     p = plot(\n",
    "#         X_test[healthy_indxs, j],\n",
    "#         linewidth=3,\n",
    "#         label=\"Healthy\",\n",
    "#         linecolor=:blue,\n",
    "#         title=\"Feature $name\",\n",
    "#         legend=:false\n",
    "#     )\n",
    "    \n",
    "#     plot!(\n",
    "#         p,\n",
    "#         X_test[pneumonia_indxs, j],\n",
    "#         linewidth=3,\n",
    "#         label=\"Pneumonia\",\n",
    "#         linecolor=:red\n",
    "#     )\n",
    "    \n",
    "#     push!(plots, p)\n",
    "# end\n",
    "\n",
    "# n = length(interesting_variables)\n",
    "# nrows = Int(ceil(sqrt(n)))\n",
    "# ncols = Int(ceil(n / nrows))\n",
    "\n",
    "# final_plot = plot(plots..., layout=(nrows, ncols), size=(1200, 900))\n",
    "# display(final_plot)"
   ]
  }
 ],
 "metadata": {
  "kernelspec": {
   "display_name": "Julia 1.10.3",
   "language": "julia",
   "name": "julia-1.10"
  },
  "language_info": {
   "file_extension": ".jl",
   "mimetype": "application/julia",
   "name": "julia",
   "version": "1.10.3"
  }
 },
 "nbformat": 4,
 "nbformat_minor": 2
}
