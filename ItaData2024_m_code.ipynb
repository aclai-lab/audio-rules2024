{
 "cells": [
  {
   "cell_type": "code",
   "execution_count": null,
   "metadata": {},
   "outputs": [],
   "source": [
    "using MLJ, ModalDecisionTrees\n",
    "using SoleDecisionTreeInterface, Sole\n",
    "using CategoricalArrays\n",
    "using DataFrames, JLD2, CSV\n",
    "using Audio911\n",
    "using Random;"
   ]
  },
  {
   "cell_type": "markdown",
   "metadata": {},
   "source": [
    "### Open .jld2 file"
   ]
  },
  {
   "cell_type": "code",
   "execution_count": 4,
   "metadata": {},
   "outputs": [],
   "source": [
    "ds_path = \"/datasets/respiratory_Healthy_Pneumonia\"\n",
    "\n",
    "d = jldopen(string((@__DIR__), ds_path, \".jld2\"))\n",
    "x, y = d[\"dataframe_validated\"]\n",
    "@assert x isa DataFrame\n",
    "close(d)\n",
    "\n",
    "# out of memory guard\n",
    "# x = vcat(x[1:10, :], x[400:410, :])\n",
    "# y = vcat(y[1:10], y[400:410]);"
   ]
  },
  {
   "cell_type": "markdown",
   "metadata": {},
   "source": [
    "### Audio features extraction function"
   ]
  },
  {
   "cell_type": "code",
   "execution_count": 5,
   "metadata": {},
   "outputs": [
    {
     "data": {
      "text/plain": [
       "afe (generic function with 1 method)"
      ]
     },
     "metadata": {},
     "output_type": "display_data"
    }
   ],
   "source": [
    "nan_replacer!(x::AbstractArray{Float64}) = replace!(x, NaN => 0.0)\n",
    "\n",
    "function afe(x::AbstractVector{Float64})\n",
    "    # -------------------------------- parameters -------------------------------- #\n",
    "    # audio module\n",
    "    sr = 8000\n",
    "    norm = true\n",
    "    speech_detection = false\n",
    "    # stft module\n",
    "    stft_length = 256\n",
    "    win_type = (:hann, :periodic)\n",
    "    win_length = 256\n",
    "    overlap_length = 128\n",
    "    stft_norm = :power                      # :power, :magnitude, :pow2mag\n",
    "    # mel filterbank module\n",
    "    nbands = 26\n",
    "    scale = :mel_htk                        # :mel_htk, :mel_slaney, :erb, :bark\n",
    "    melfb_norm = :bandwidth                 # :bandwidth, :area, :none\n",
    "    freq_range = (300, round(Int, sr / 2))\n",
    "    # mel spectrogram module\n",
    "    db_scale = false\n",
    "    # mfcc module\n",
    "    ncoeffs = 13\n",
    "    rectification = :log                    # :log, :cubic_root\n",
    "    dither = true\n",
    "    # f0 module\n",
    "    method = :nfc\n",
    "    f0_range = (50, 400)\n",
    "\n",
    "    # --------------------------------- functions -------------------------------- #\n",
    "    # audio module\n",
    "    audio = load_audio(\n",
    "        file=x, \n",
    "        sr=sr, \n",
    "        norm=norm,\n",
    "    );\n",
    "\n",
    "    stftspec = get_stft(\n",
    "        audio=audio, \n",
    "        stft_length=stft_length,\n",
    "        win_type=win_type,\n",
    "        win_length=win_length,\n",
    "        overlap_length=overlap_length,\n",
    "        norm=stft_norm\n",
    "    );\n",
    "\n",
    "    # mel filterbank module\n",
    "    melfb = get_melfb(\n",
    "        stft=stftspec,\n",
    "        nbands=nbands,\n",
    "        scale=scale,\n",
    "        norm=melfb_norm,\n",
    "        freq_range=freq_range\n",
    "    );\n",
    "\n",
    "    # mel spectrogram module\n",
    "    melspec =  get_melspec(\n",
    "        stft=stftspec, \n",
    "        fbank=melfb,\n",
    "        db_scale=db_scale\n",
    "    );\n",
    "\n",
    "    # mfcc module\n",
    "    mfcc = get_mfcc(\n",
    "        source=melspec,\n",
    "        ncoeffs=ncoeffs,\n",
    "        rectification=rectification,\n",
    "        dither=dither,\n",
    "    );\n",
    "\n",
    "    # f0 module\n",
    "    f0 = get_f0(\n",
    "        source=stftspec,\n",
    "        method=method,\n",
    "        freq_range=f0_range\n",
    "    );\n",
    "\n",
    "    # spectral features module\n",
    "    spect = get_spectrals(\n",
    "        source=stftspec,\n",
    "        freq_range=freq_range\n",
    "    );\n",
    "\n",
    "    x_features = hcat(\n",
    "        melspec.spec',\n",
    "        mfcc.mfcc',\n",
    "        f0.f0,\n",
    "        spect.centroid,\n",
    "        spect.crest,\n",
    "        spect.entropy,\n",
    "        spect.flatness,\n",
    "        spect.flux,\n",
    "        spect.kurtosis,\n",
    "        spect.rolloff,\n",
    "        spect.skewness,\n",
    "        spect.decrease,\n",
    "        spect.slope,\n",
    "        spect.spread\n",
    "    );\n",
    "\n",
    "    nan_replacer!(x_features)\n",
    "\n",
    "    return x_features\n",
    "end"
   ]
  },
  {
   "cell_type": "markdown",
   "metadata": {},
   "source": [
    "### Compute audio features dataframes and labels"
   ]
  },
  {
   "cell_type": "code",
   "execution_count": 7,
   "metadata": {},
   "outputs": [],
   "source": [
    "colnames = [\n",
    "    [\"mel$i\" for i in 1:26]...,\n",
    "    [\"mfcc$i\" for i in 1:13]...,\n",
    "    \"f0\", \"cntrd\", \"crest\", \"entrp\", \"flatn\", \"flux\", \"kurts\", \"rllff\", \"skwns\", \"decrs\", \"slope\", \"sprd\"\n",
    "]\n",
    "\n",
    "X = DataFrame([name => Vector{Float64}[] for name in colnames])\n",
    "\n",
    "for i in 1:nrow(x)\n",
    "    push!(X, collect(eachcol(afe(x[i, :audio]))))\n",
    "end\n",
    "\n",
    "yc = CategoricalArray(y);"
   ]
  },
  {
   "cell_type": "markdown",
   "metadata": {},
   "source": [
    "### Split dataset"
   ]
  },
  {
   "cell_type": "code",
   "execution_count": 8,
   "metadata": {},
   "outputs": [
    {
     "name": "stdout",
     "output_type": "stream",
     "text": [
      "Training set size: (403, 51) - 403\n",
      "Test set size: (101, 51) - 101\n"
     ]
    }
   ],
   "source": [
    "train_ratio = 0.8\n",
    "train, test = partition(eachindex(yc), train_ratio, shuffle=true)\n",
    "X_train, y_train = X[train, :], yc[train]\n",
    "X_test, y_test = X[test, :], yc[test]\n",
    "\n",
    "println(\"Training set size: \", size(X_train), \" - \", length(y_train))\n",
    "println(\"Test set size: \", size(X_test), \" - \", length(y_test))"
   ]
  },
  {
   "cell_type": "markdown",
   "metadata": {},
   "source": [
    "### Train a model"
   ]
  },
  {
   "cell_type": "code",
   "execution_count": 9,
   "metadata": {},
   "outputs": [
    {
     "name": "stderr",
     "output_type": "stream",
     "text": [
      "┌ Info: Precomputing logiset...\n",
      "└ @ ModalDecisionTrees.MLJInterface /home/paso/.julia/packages/ModalDecisionTrees/aAlvI/src/interfaces/MLJ/wrapdataset.jl:135\n",
      "┌ Info: Training machine(ModalDecisionTree(max_depth = nothing, …), …).\n",
      "└ @ MLJBase /home/paso/.julia/packages/MLJBase/7nGJF/src/machines.jl:499\n"
     ]
    },
    {
     "name": "stdout",
     "output_type": "stream",
     "text": [
      "▣ (⟨G⟩min[mfcc3] < -0.40330013029458534)\n",
      "├✔ (⟨G⟩(min[mfcc3] < -0.40330013029458534 ∧ ⟨L̅⟩min[entrp] ≥ 0.8346062223276545))\n",
      "│├✔ Healthy\n",
      "│└✘ (⟨G⟩(min[mfcc3] < -0.40330013029458534 ∧ ⟨A̅O̅⟩min[mfcc9] ≥ 0.77828494040009))\n",
      "│ ├✔ (⟨G⟩(min[mfcc3] < -0.40330013029458534 ∧ ⟨A̅O̅⟩(min[mfcc9] ≥ 0.77828494040009 ∧ ⟨AO⟩min[mfcc9] ≥ 0.5608704397457179)))\n",
      "│ │├✔ Healthy\n",
      "│ │└✘ (⟨G⟩(min[mfcc3] < -0.40330013029458534 ∧ ⟨A̅O̅⟩(min[mfcc9] ≥ 0.77828494040009 ∧ ⟨L̅⟩min[mfcc7] ≥ 0.2085923879517647)))\n",
      "│ │ ├✔ (⟨G⟩(min[mfcc3] < -0.40330013029458534 ∧ ⟨A̅O̅⟩(min[mfcc9] ≥ 0.77828494040009 ∧ ⟨L̅⟩(min[mfcc7] ≥ 0.2085923879517647 ∧ ⟨A̅O̅⟩max[mel1] < 0.00015175318693076242))))\n",
      "│ │ │├✔ (⟨G⟩(min[mfcc3] < -0.40330013029458534 ∧ ⟨A̅O̅⟩(min[mfcc9] ≥ 0.77828494040009 ∧ ⟨L̅⟩(min[mfcc7] ≥ 0.2085923879517647 ∧ ⟨A̅O̅⟩(max[mel1] < 0.00015175318693076242 ∧ ⟨G⟩min[mfcc12] < -0.6021351572411308)))))\n",
      "│ │ ││├✔ Pneumonia\n",
      "│ │ ││└✘ Healthy\n",
      "│ │ │└✘ Pneumonia\n",
      "│ │ └✘ Healthy\n",
      "│ └✘ (⟨G⟩(min[mfcc3] < -0.40330013029458534 ∧ ⟨AO⟩max[flatn] < 0.0007716922813449111))\n",
      "│  ├✔ Healthy\n",
      "│  └✘ (⟨G⟩(min[mfcc3] < -0.40330013029458534 ∧ max[sprd] ≥ 984.3177707165095))\n",
      "│   ├✔ Healthy\n",
      "│   └✘ (⟨G⟩(min[mfcc3] < -0.40330013029458534 ∧ ⟨A̅O̅⟩min[mfcc7] ≥ 0.655349451831683))\n",
      "│    ├✔ Pneumonia\n",
      "│    └✘ (⟨G⟩(min[mfcc3] < -0.40330013029458534 ∧ max[mfcc10] ≥ 0.7194472601820477))\n",
      "│     ├✔ Pneumonia\n",
      "│     └✘ Healthy\n",
      "└✘ (⟨G⟩min[sprd] ≥ 962.6955850986802)\n",
      " ├✔ (⟨G⟩(min[sprd] ≥ 962.6955850986802 ∧ min[mel1] ≥ 1.93077096407628e-5))\n",
      " │├✔ Healthy\n",
      " │└✘ Pneumonia\n",
      " └✘ Pneumonia\n"
     ]
    }
   ],
   "source": [
    "learned_dt_tree = begin\n",
    "    model = ModalDecisionTree(; relations = :IA7, features = [minimum, maximum])   \n",
    "    mach = machine(model, X_train, y_train) |> fit!\n",
    "end\n",
    "\n",
    "report(learned_dt_tree).printmodel();"
   ]
  },
  {
   "cell_type": "markdown",
   "metadata": {},
   "source": [
    "### Model inspection & rule study"
   ]
  },
  {
   "cell_type": "code",
   "execution_count": 10,
   "metadata": {},
   "outputs": [
    {
     "name": "stderr",
     "output_type": "stream",
     "text": [
      "\u001b[32mApplying tree... 100%|███████████████████████████████████| Time: 0:00:06\u001b[39m\n"
     ]
    },
    {
     "name": "stdout",
     "output_type": "stream",
     "text": [
      "▣ {1}(⟨G⟩(min[V29] < -0.40330013029458534))\n",
      "├✔ {1}(⟨G⟩((min[V29] < -0.40330013029458534) ∧ ⟨L̅⟩(min[V43] ≥ 0.8346062223276545)))\n",
      "│├✔ {1}(⟨G⟩((min[V29] < -0.40330013029458534) ∧ ⟨L̅⟩((min[V43] ≥ 0.8346062223276545) ∧ (min[V35] ≥ -0.1401434513258752))))\n",
      "││├✔ Healthy : (ninstances = 25, ncovered = 25, confidence = 0.92, lift = 1.0)\n",
      "││└✘ Healthy : (ninstances = 3, ncovered = 3, confidence = 0.67, lift = 1.0)\n",
      "│└✘ {1}(⟨G⟩((min[V29] < -0.40330013029458534) ∧ ⟨A̅O̅⟩(min[V35] ≥ 0.77828494040009)))\n",
      "│ ├✔ {1}(⟨G⟩((min[V29] < -0.40330013029458534) ∧ ⟨A̅O̅⟩((min[V35] ≥ 0.77828494040009) ∧ ⟨AO⟩(min[V35] ≥ 0.5608704397457179))))\n",
      "│ │├✔ Healthy : (ninstances = 7, ncovered = 7, confidence = 0.86, lift = 1.0)\n",
      "│ │└✘ {1}(⟨G⟩((min[V29] < -0.40330013029458534) ∧ ⟨A̅O̅⟩((min[V35] ≥ 0.77828494040009) ∧ ⟨L̅⟩(min[V33] ≥ 0.2085923879517647))))\n",
      "│ │ ├✔ {1}(⟨G⟩((min[V29] < -0.40330013029458534) ∧ ⟨A̅O̅⟩((min[V35] ≥ 0.77828494040009) ∧ ⟨L̅⟩((min[V33] ≥ 0.2085923879517647) ∧ ⟨A̅O̅⟩(max[V1] < 0.00015175318693076242)))))\n",
      "│ │ │├✔ {1}(⟨G⟩((min[V29] < -0.40330013029458534) ∧ ⟨A̅O̅⟩((min[V35] ≥ 0.77828494040009) ∧ ⟨L̅⟩((min[V33] ≥ 0.2085923879517647) ∧ ⟨A̅O̅⟩((max[V1] < 0.00015175318693076242) ∧ ⟨G⟩(min[V38] < -0.6021351572411308))))))\n",
      "│ │ ││├✔ Pneumonia : (ninstances = 1, ncovered = 1, confidence = 0.0, lift = NaN)\n",
      "│ │ ││└✘ {1}(⟨G⟩((min[V29] < -0.40330013029458534) ∧ ⟨A̅O̅⟩((min[V35] ≥ 0.77828494040009) ∧ ⟨L̅⟩((min[V33] ≥ 0.2085923879517647) ∧ ⟨A̅O̅⟩((max[V1] < 0.00015175318693076242) ∧ (min[V1] < 2.9582505131234644e-6))))))\n",
      "│ │ ││ ├✔ Healthy : (ninstances = 1, ncovered = 1, confidence = 1.0, lift = 1.0)\n",
      "│ │ ││ └✘ Healthy : (ninstances = 4, ncovered = 4, confidence = 0.75, lift = 1.0)\n",
      "│ │ │└✘ Pneumonia : (ninstances = 1, ncovered = 1, confidence = 1.0, lift = 1.0)\n",
      "│ │ └✘ Healthy : (ninstances = 2, ncovered = 2, confidence = 1.0, lift = 1.0)\n",
      "│ └✘ {1}(⟨G⟩((min[V29] < -0.40330013029458534) ∧ ⟨AO⟩(max[V44] < 0.0007716922813449111)))\n",
      "│  ├✔ Healthy : (ninstances = 4, ncovered = 4, confidence = 0.5, lift = 1.0)\n",
      "│  └✘ {1}(⟨G⟩((min[V29] < -0.40330013029458534) ∧ (max[V51] ≥ 984.3177707165095)))\n",
      "│   ├✔ Healthy : (ninstances = 0, ncovered = 0, confidence = NaN, lift = NaN)\n",
      "│   └✘ {1}(⟨G⟩((min[V29] < -0.40330013029458534) ∧ ⟨A̅O̅⟩(min[V33] ≥ 0.655349451831683)))\n",
      "│    ├✔ {1}(⟨G⟩((min[V29] < -0.40330013029458534) ∧ ⟨A̅O̅⟩((min[V33] ≥ 0.655349451831683) ∧ (min[V4] ≥ 1.1917316340230608e-6))))\n",
      "│    │├✔ Pneumonia : (ninstances = 11, ncovered = 11, confidence = 0.36, lift = 1.0)\n",
      "│    │└✘ Pneumonia : (ninstances = 0, ncovered = 0, confidence = NaN, lift = NaN)\n",
      "│    └✘ {1}(⟨G⟩((min[V29] < -0.40330013029458534) ∧ (max[V36] ≥ 0.7194472601820477)))\n",
      "│     ├✔ Pneumonia : (ninstances = 2, ncovered = 2, confidence = 1.0, lift = 1.0)\n",
      "│     └✘ Healthy : (ninstances = 4, ncovered = 4, confidence = 0.5, lift = 1.0)\n",
      "└✘ {1}(⟨G⟩(min[V51] ≥ 962.6955850986802))\n",
      " ├✔ {1}(⟨G⟩((min[V51] ≥ 962.6955850986802) ∧ (min[V1] ≥ 1.93077096407628e-5)))\n",
      " │├✔ Healthy : (ninstances = 2, ncovered = 2, confidence = 0.5, lift = 1.0)\n",
      " │└✘ Pneumonia : (ninstances = 2, ncovered = 2, confidence = 1.0, lift = 1.0)\n",
      " └✘ {1}(⟨G⟩(min[V25] < 8.801223697933641e-7))\n",
      "  ├✔ {1}(⟨G⟩((min[V25] < 8.801223697933641e-7) ∧ (min[V5] < 5.728708371198657e-8)))\n",
      "  │├✔ Pneumonia : (ninstances = 0, ncovered = 0, confidence = NaN, lift = NaN)\n",
      "  │└✘ Pneumonia : (ninstances = 28, ncovered = 28, confidence = 0.93, lift = 1.0)\n",
      "  └✘ Pneumonia : (ninstances = 4, ncovered = 4, confidence = 1.0, lift = 1.0)\n"
     ]
    }
   ],
   "source": [
    "_, mtree = report(mach).sprinkle(X_test, y_test)\n",
    "sole_dt = ModalDecisionTrees.translate(mtree)\n",
    "\n",
    "printmodel(sole_dt; show_metrics = true);"
   ]
  },
  {
   "cell_type": "markdown",
   "metadata": {},
   "source": [
    "### Extract rules that are at least as good as a random baseline model"
   ]
  },
  {
   "cell_type": "code",
   "execution_count": 11,
   "metadata": {},
   "outputs": [
    {
     "name": "stdout",
     "output_type": "stream",
     "text": [
      "▣ {1}(⟨G⟩((min[V29] < -0.40330013029458534) ∧ ⟨L̅⟩((min[V43] ≥ 0.8346062223276545) ∧ (min[V35] ≥ -0.1401434513258752))))  ↣  Healthy : (ninstances = 101, ncovered = 25, coverage = 0.25, confidence = 0.92, lift = 1.79, natoms = 3)\n",
      "▣ {1}⟨G⟩((min[V29] < -0.40330013029458534) ∧ ⟨L̅⟩(min[V43] ≥ 0.8346062223276545)) ∧ [G]((min[V29] < -0.40330013029458534) → [L̅]((min[V43] ≥ 0.8346062223276545) → (min[V35] < -0.1401434513258752)))  ↣  Healthy : (ninstances = 101, ncovered = 3, coverage = 0.03, confidence = 0.67, lift = 1.29, natoms = 5)\n",
      "▣ {1}⟨G⟩((min[V29] < -0.40330013029458534) ∧ ⟨A̅O̅⟩((min[V35] ≥ 0.77828494040009) ∧ ⟨AO⟩(min[V35] ≥ 0.5608704397457179))) ∧ [G]((min[V29] < -0.40330013029458534) → [L̅](min[V43] < 0.8346062223276545))  ↣  Healthy : (ninstances = 101, ncovered = 7, coverage = 0.07, confidence = 0.86, lift = 1.66, natoms = 5)\n",
      "▣ {1}⟨G⟩((min[V29] < -0.40330013029458534) ∧ ⟨A̅O̅⟩((min[V35] ≥ 0.77828494040009) ∧ ⟨L̅⟩((min[V33] ≥ 0.2085923879517647) ∧ ⟨A̅O̅⟩((max[V1] < 0.00015175318693076242) ∧ (min[V1] < 2.9582505131234644e-6))))) ∧ [G]((min[V29] < -0.40330013029458534) → [L̅](min[V43] < 0.8346062223276545)) ∧ [G]((min[V29] < -0.40330013029458534) → [A̅O̅]((min[V35] ≥ 0.77828494040009) → [AO](min[V35] < 0.5608704397457179))) ∧ [G]((min[V29] < -0.40330013029458534) → [A̅O̅]((min[V35] ≥ 0.77828494040009) → [L̅]((min[V33] ≥ 0.2085923879517647) → [A̅O̅]((max[V1] < 0.00015175318693076242) → [G](min[V38] ≥ -0.6021351572411308)))))  ↣  Healthy : (ninstances = 101, ncovered = 1, coverage = 0.01, confidence = 1.0, lift = 1.94, natoms = 15)\n",
      "▣ {1}⟨G⟩((min[V29] < -0.40330013029458534) ∧ ⟨A̅O̅⟩((min[V35] ≥ 0.77828494040009) ∧ ⟨L̅⟩((min[V33] ≥ 0.2085923879517647) ∧ ⟨A̅O̅⟩(max[V1] < 0.00015175318693076242)))) ∧ [G]((min[V29] < -0.40330013029458534) → [L̅](min[V43] < 0.8346062223276545)) ∧ [G]((min[V29] < -0.40330013029458534) → [A̅O̅]((min[V35] ≥ 0.77828494040009) → [AO](min[V35] < 0.5608704397457179))) ∧ [G]((min[V29] < -0.40330013029458534) → [A̅O̅]((min[V35] ≥ 0.77828494040009) → [L̅]((min[V33] ≥ 0.2085923879517647) → [A̅O̅]((max[V1] < 0.00015175318693076242) → [G](min[V38] ≥ -0.6021351572411308))))) ∧ [G]((min[V29] < -0.40330013029458534) → [A̅O̅]((min[V35] ≥ 0.77828494040009) → [L̅]((min[V33] ≥ 0.2085923879517647) → [A̅O̅]((max[V1] < 0.00015175318693076242) → (min[V1] ≥ 2.9582505131234644e-6)))))  ↣  Healthy : (ninstances = 101, ncovered = 4, coverage = 0.04, confidence = 0.75, lift = 1.46, natoms = 19)\n",
      "▣ {1}⟨G⟩((min[V29] < -0.40330013029458534) ∧ ⟨A̅O̅⟩((min[V35] ≥ 0.77828494040009) ∧ ⟨L̅⟩(min[V33] ≥ 0.2085923879517647))) ∧ [G]((min[V29] < -0.40330013029458534) → [L̅](min[V43] < 0.8346062223276545)) ∧ [G]((min[V29] < -0.40330013029458534) → [A̅O̅]((min[V35] ≥ 0.77828494040009) → [AO](min[V35] < 0.5608704397457179))) ∧ [G]((min[V29] < -0.40330013029458534) → [A̅O̅]((min[V35] ≥ 0.77828494040009) → [L̅]((min[V33] ≥ 0.2085923879517647) → [A̅O̅](max[V1] ≥ 0.00015175318693076242))))  ↣  Pneumonia : (ninstances = 101, ncovered = 1, coverage = 0.01, confidence = 1.0, lift = 2.06, natoms = 12)\n",
      "▣ {1}⟨G⟩((min[V29] < -0.40330013029458534) ∧ ⟨A̅O̅⟩(min[V35] ≥ 0.77828494040009)) ∧ [G]((min[V29] < -0.40330013029458534) → [L̅](min[V43] < 0.8346062223276545)) ∧ [G]((min[V29] < -0.40330013029458534) → [A̅O̅]((min[V35] ≥ 0.77828494040009) → [AO](min[V35] < 0.5608704397457179))) ∧ [G]((min[V29] < -0.40330013029458534) → [A̅O̅]((min[V35] ≥ 0.77828494040009) → [L̅](min[V33] < 0.2085923879517647)))  ↣  Healthy : (ninstances = 101, ncovered = 2, coverage = 0.02, confidence = 1.0, lift = 1.94, natoms = 10)\n",
      "▣ {1}⟨G⟩((min[V29] < -0.40330013029458534) ∧ (max[V36] ≥ 0.7194472601820477)) ∧ [G]((min[V29] < -0.40330013029458534) → [L̅](min[V43] < 0.8346062223276545)) ∧ [G]((min[V29] < -0.40330013029458534) → [A̅O̅](min[V35] < 0.77828494040009)) ∧ [G]((min[V29] < -0.40330013029458534) → [AO](max[V44] ≥ 0.0007716922813449111)) ∧ [G]((min[V29] < -0.40330013029458534) → (max[V51] < 984.3177707165095)) ∧ [G]((min[V29] < -0.40330013029458534) → [A̅O̅](min[V33] < 0.655349451831683))  ↣  Pneumonia : (ninstances = 101, ncovered = 2, coverage = 0.02, confidence = 1.0, lift = 2.06, natoms = 12)\n",
      "▣ {1}⟨G⟩(min[V51] ≥ 962.6955850986802) ∧ [G](min[V29] ≥ -0.40330013029458534) ∧ [G]((min[V51] ≥ 962.6955850986802) → (min[V1] < 1.93077096407628e-5))  ↣  Pneumonia : (ninstances = 101, ncovered = 2, coverage = 0.02, confidence = 1.0, lift = 2.06, natoms = 4)\n",
      "▣ {1}⟨G⟩(min[V25] < 8.801223697933641e-7) ∧ [G](min[V29] ≥ -0.40330013029458534) ∧ [G](min[V51] < 962.6955850986802) ∧ [G]((min[V25] < 8.801223697933641e-7) → (min[V5] ≥ 5.728708371198657e-8))  ↣  Pneumonia : (ninstances = 101, ncovered = 28, coverage = 0.28, confidence = 0.93, lift = 1.91, natoms = 5)\n",
      "▣ {1}[G](min[V29] ≥ -0.40330013029458534) ∧ [G](min[V51] < 962.6955850986802) ∧ [G](min[V25] ≥ 8.801223697933641e-7)  ↣  Pneumonia : (ninstances = 101, ncovered = 4, coverage = 0.04, confidence = 1.0, lift = 2.06, natoms = 3)\n"
     ]
    }
   ],
   "source": [
    "interesting_rules = listrules(sole_dt, min_lift = 1.0, min_ninstances = 0);\n",
    "printmodel.(interesting_rules; show_metrics = true);"
   ]
  },
  {
   "cell_type": "markdown",
   "metadata": {},
   "source": [
    "### Simplify rules while extracting and prettify result"
   ]
  },
  {
   "cell_type": "code",
   "execution_count": 12,
   "metadata": {},
   "outputs": [
    {
     "name": "stdout",
     "output_type": "stream",
     "text": [
      "▣ {1}(⟨G⟩(min[V29] < -0.4 ∧ ⟨L̅⟩(min[V43] ≥ 0.83 ∧ min[V35] ≥ -0.14)))  ↣  Healthy : (ninstances = 101, ncovered = 25, coverage = 0.25, confidence = 0.92, lift = 1.79, natoms = 3)\n",
      "▣ {1}⟨G⟩(min[V29] < -0.4 ∧ ⟨L̅⟩min[V43] ≥ 0.83) ∧ [G](min[V29] < -0.4 → [L̅](min[V43] ≥ 0.83 → min[V35] < -0.14))  ↣  Healthy : (ninstances = 101, ncovered = 3, coverage = 0.03, confidence = 0.67, lift = 1.29, natoms = 5)\n",
      "▣ {1}⟨G⟩(min[V29] < -0.4 ∧ ⟨A̅O̅⟩(min[V35] ≥ 0.78 ∧ ⟨AO⟩min[V35] ≥ 0.56)) ∧ [G](min[V29] < -0.4 → [L̅]min[V43] < 0.83)  ↣  Healthy : (ninstances = 101, ncovered = 7, coverage = 0.07, confidence = 0.86, lift = 1.66, natoms = 5)\n",
      "▣ {1}⟨G⟩(min[V29] < -0.4 ∧ ⟨A̅O̅⟩(min[V35] ≥ 0.78 ∧ ⟨L̅⟩(min[V33] ≥ 0.21 ∧ ⟨A̅O̅⟩(max[V1] < 0.0 ∧ min[V1] < 0.0)))) ∧ [G](min[V29] < -0.4 → [L̅]min[V43] < 0.83) ∧ [G](min[V29] < -0.4 → [A̅O̅](min[V35] ≥ 0.78 → [AO]min[V35] < 0.56)) ∧ [G](min[V29] < -0.4 → [A̅O̅](min[V35] ≥ 0.78 → [L̅](min[V33] ≥ 0.21 → [A̅O̅](max[V1] < 0.0 → [G]min[V38] ≥ -0.6))))  ↣  Healthy : (ninstances = 101, ncovered = 1, coverage = 0.01, confidence = 1.0, lift = 1.94, natoms = 15)\n",
      "▣ {1}⟨G⟩(min[V29] < -0.4 ∧ ⟨A̅O̅⟩(min[V35] ≥ 0.78 ∧ ⟨L̅⟩(min[V33] ≥ 0.21 ∧ ⟨A̅O̅⟩max[V1] < 0.0))) ∧ [G](min[V29] < -0.4 → [L̅]min[V43] < 0.83) ∧ [G](min[V29] < -0.4 → [A̅O̅](min[V35] ≥ 0.78 → [AO]min[V35] < 0.56)) ∧ [G](min[V29] < -0.4 → [A̅O̅](min[V35] ≥ 0.78 → [L̅](min[V33] ≥ 0.21 → [A̅O̅](max[V1] < 0.0 → [G]min[V38] ≥ -0.6)))) ∧ [G](min[V29] < -0.4 → [A̅O̅](min[V35] ≥ 0.78 → [L̅](min[V33] ≥ 0.21 → [A̅O̅](max[V1] < 0.0 → min[V1] ≥ 0.0))))  ↣  Healthy : (ninstances = 101, ncovered = 4, coverage = 0.04, confidence = 0.75, lift = 1.46, natoms = 19)\n",
      "▣ {1}⟨G⟩(min[V29] < -0.4 ∧ ⟨A̅O̅⟩(min[V35] ≥ 0.78 ∧ ⟨L̅⟩min[V33] ≥ 0.21)) ∧ [G](min[V29] < -0.4 → [L̅]min[V43] < 0.83) ∧ [G](min[V29] < -0.4 → [A̅O̅](min[V35] ≥ 0.78 → [AO]min[V35] < 0.56)) ∧ [G](min[V29] < -0.4 → [A̅O̅](min[V35] ≥ 0.78 → [L̅](min[V33] ≥ 0.21 → [A̅O̅]max[V1] ≥ 0.0)))  ↣  Pneumonia : (ninstances = 101, ncovered = 1, coverage = 0.01, confidence = 1.0, lift = 2.06, natoms = 12)\n",
      "▣ {1}⟨G⟩(min[V29] < -0.4 ∧ ⟨A̅O̅⟩min[V35] ≥ 0.78) ∧ [G](min[V29] < -0.4 → [L̅]min[V43] < 0.83) ∧ [G](min[V29] < -0.4 → [A̅O̅](min[V35] ≥ 0.78 → [AO]min[V35] < 0.56)) ∧ [G](min[V29] < -0.4 → [A̅O̅](min[V35] ≥ 0.78 → [L̅]min[V33] < 0.21))  ↣  Healthy : (ninstances = 101, ncovered = 2, coverage = 0.02, confidence = 1.0, lift = 1.94, natoms = 10)\n",
      "▣ {1}⟨G⟩(min[V29] < -0.4 ∧ max[V36] ≥ 0.72) ∧ [G](min[V29] < -0.4 → [L̅]min[V43] < 0.83) ∧ [G](min[V29] < -0.4 → [A̅O̅]min[V35] < 0.78) ∧ [G](min[V29] < -0.4 → [AO]max[V44] ≥ 0.0) ∧ [G](min[V29] < -0.4 → max[V51] < 984.32) ∧ [G](min[V29] < -0.4 → [A̅O̅]min[V33] < 0.66)  ↣  Pneumonia : (ninstances = 101, ncovered = 2, coverage = 0.02, confidence = 1.0, lift = 2.06, natoms = 12)\n",
      "▣ {1}⟨G⟩min[V51] ≥ 962.7 ∧ [G]min[V29] ≥ -0.4 ∧ [G](min[V51] ≥ 962.7 → min[V1] < 0.0)  ↣  Pneumonia : (ninstances = 101, ncovered = 2, coverage = 0.02, confidence = 1.0, lift = 2.06, natoms = 4)\n",
      "▣ {1}⟨G⟩min[V25] < 0.0 ∧ [G]min[V29] ≥ -0.4 ∧ [G]min[V51] < 962.7 ∧ [G](min[V25] < 0.0 → min[V5] ≥ 0.0)  ↣  Pneumonia : (ninstances = 101, ncovered = 28, coverage = 0.28, confidence = 0.93, lift = 1.91, natoms = 5)\n",
      "▣ {1}[G]min[V29] ≥ -0.4 ∧ [G]min[V51] < 962.7 ∧ [G]min[V25] ≥ 0.0  ↣  Pneumonia : (ninstances = 101, ncovered = 4, coverage = 0.04, confidence = 1.0, lift = 2.06, natoms = 3)\n"
     ]
    }
   ],
   "source": [
    "interesting_rules = listrules(sole_dt, min_lift = 1.0, min_ninstances = 0, normalize = true);\n",
    "printmodel.(interesting_rules; show_metrics = true, syntaxstring_kwargs = (; threshold_digits = 2));"
   ]
  },
  {
   "cell_type": "markdown",
   "metadata": {},
   "source": [
    "### Directly access rule metrics"
   ]
  },
  {
   "cell_type": "code",
   "execution_count": 13,
   "metadata": {},
   "outputs": [
    {
     "data": {
      "text/plain": [
       "11-element Vector{@NamedTuple{ninstances::Int64, ncovered::Int64, coverage::Float64, confidence::Float64, lift::Float64, natoms::Int64}}:\n",
       " (ninstances = 101, ncovered = 25, coverage = 0.24752475247524752, confidence = 0.92, lift = 1.786923076923077, natoms = 3)\n",
       " (ninstances = 101, ncovered = 3, coverage = 0.0297029702970297, confidence = 0.6666666666666666, lift = 1.2948717948717947, natoms = 5)\n",
       " (ninstances = 101, ncovered = 7, coverage = 0.06930693069306931, confidence = 0.8571428571428571, lift = 1.6648351648351647, natoms = 5)\n",
       " (ninstances = 101, ncovered = 1, coverage = 0.009900990099009901, confidence = 1.0, lift = 1.9423076923076923, natoms = 15)\n",
       " (ninstances = 101, ncovered = 4, coverage = 0.039603960396039604, confidence = 0.75, lift = 1.4567307692307692, natoms = 19)\n",
       " (ninstances = 101, ncovered = 1, coverage = 0.009900990099009901, confidence = 1.0, lift = 2.061224489795918, natoms = 12)\n",
       " (ninstances = 101, ncovered = 2, coverage = 0.019801980198019802, confidence = 1.0, lift = 1.9423076923076923, natoms = 10)\n",
       " (ninstances = 101, ncovered = 2, coverage = 0.019801980198019802, confidence = 1.0, lift = 2.061224489795918, natoms = 12)\n",
       " (ninstances = 101, ncovered = 2, coverage = 0.019801980198019802, confidence = 1.0, lift = 2.061224489795918, natoms = 4)\n",
       " (ninstances = 101, ncovered = 28, coverage = 0.27722772277227725, confidence = 0.9285714285714286, lift = 1.9139941690962101, natoms = 5)\n",
       " (ninstances = 101, ncovered = 4, coverage = 0.039603960396039604, confidence = 1.0, lift = 2.061224489795918, natoms = 3)"
      ]
     },
     "metadata": {},
     "output_type": "display_data"
    }
   ],
   "source": [
    "readmetrics.(listrules(sole_dt; min_lift=1.0, min_ninstances = 0))"
   ]
  }
 ],
 "metadata": {
  "kernelspec": {
   "display_name": "Julia 1.10.3",
   "language": "julia",
   "name": "julia-1.10"
  },
  "language_info": {
   "file_extension": ".jl",
   "mimetype": "application/julia",
   "name": "julia",
   "version": "1.10.3"
  }
 },
 "nbformat": 4,
 "nbformat_minor": 2
}
