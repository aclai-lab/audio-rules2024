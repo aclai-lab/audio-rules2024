{
 "cells": [
  {
   "cell_type": "markdown",
   "metadata": {},
   "source": [
    "# ItaData2024\n",
    "\n",
    "## COPD\n",
    "\n",
    "propositional analysis"
   ]
  },
  {
   "cell_type": "code",
   "execution_count": 1,
   "metadata": {},
   "outputs": [
    {
     "name": "stderr",
     "output_type": "stream",
     "text": [
      "\u001b[32m\u001b[1m  Activating\u001b[22m\u001b[39m project at `~/Documents/Aclai/audio-rules2024`\n"
     ]
    }
   ],
   "source": [
    "using Pkg\n",
    "Pkg.activate(\".\")\n",
    "using MLJ, ModalDecisionTrees\n",
    "using SoleDecisionTreeInterface, Sole, SoleData\n",
    "using CategoricalArrays\n",
    "using DataFrames, JLD2, CSV\n",
    "using Audio911\n",
    "using Random\n",
    "using StatsBase, Catch22\n",
    "using Test\n",
    "using Plots"
   ]
  },
  {
   "cell_type": "markdown",
   "metadata": {},
   "source": [
    "### Settings"
   ]
  },
  {
   "cell_type": "code",
   "execution_count": 2,
   "metadata": {},
   "outputs": [],
   "source": [
    "# experiment = :Pneumonia\n",
    "# experiment = :Bronchiectasis\n",
    "experiment = :COPD\n",
    "# experiment = :URTI\n",
    "# experiment = :Bronchiolitis\n",
    "\n",
    "features = :catch9\n",
    "# features = :minmax\n",
    "# features = :custom\n",
    "\n",
    "loadset = false\n",
    "# loadset = true\n",
    "\n",
    "scale = :semitones\n",
    "# scale = :mel_htk\n",
    "\n",
    "usemfcc = false\n",
    "# usemfcc = true\n",
    "usef0 = false\n",
    "# usef0 = true\n",
    "\n",
    "sr = 8000\n",
    "audioparams = (\n",
    "    usemfcc = usemfcc,\n",
    "    usef0 = usef0,\n",
    "    sr = sr,\n",
    "    nfft = 512,\n",
    "    scale = scale, # :mel_htk, :mel_slaney, :erb, :bark, :semitones, :tuned_semitones\n",
    "    nbands = scale == :semitones ? 14 : 26,\n",
    "    ncoeffs = scale == :semitones ? 7 : 13,\n",
    "    freq_range = (300, round(Int, sr / 2)),\n",
    "    db_scale = usemfcc ? false : true,\n",
    ")\n",
    "\n",
    "memguard = false;\n",
    "# memguard = true;\n",
    "n_elems = 15;\n",
    "\n",
    "avail_exp = [:Pneumonia, :Bronchiectasis, :COPD, :URTI, :Bronchiolitis]\n",
    "\n",
    "@assert experiment in avail_exp \"Unknown type of experiment: $experiment.\"\n",
    "\n",
    "findhealthy = y -> findall(x -> x == \"Healthy\", y)\n",
    "ds_path = \"/datasets/respiratory_Healthy_\" * String(experiment)\n",
    "findsick = y -> findall(x -> x == String(experiment), y)\n",
    "filename = \"/datasets/itadata2024_\" * String(experiment) * \"_files\"\n",
    "memguard && begin filename *= string(\"_memguard\") end\n",
    "\n",
    "destpath = \"results/propositional\"\n",
    "jld2file = destpath * \"/itadata2024_\" * String(experiment) * \"_\" * String(scale) * \".jld2\"\n",
    "dsfile = destpath * \"/ds_test_\" * String(experiment) * \"_\" * String(scale) * \".jld2\"\n",
    "\n",
    "color_code = Dict(:red => 31, :green => 32, :yellow => 33, :blue => 34, :magenta => 35, :cyan => 36);\n",
    "r_select = r\"\\e\\[\\d+m(.*?)\\e\\[0m\";"
   ]
  },
  {
   "cell_type": "markdown",
   "metadata": {},
   "source": [
    "### Audio features extraction function\n",
    "This function is called for every audio sample and extract 25 features:\n",
    "14 bands of the mel spectrogram,\n",
    "11 spectral features: centroid, crest, entropy, flatness, flux, kurtosis, rolloff, skewness, decrease, slope, spread"
   ]
  },
  {
   "cell_type": "code",
   "execution_count": 3,
   "metadata": {},
   "outputs": [
    {
     "data": {
      "text/plain": [
       "afe (generic function with 1 method)"
      ]
     },
     "metadata": {},
     "output_type": "display_data"
    }
   ],
   "source": [
    "function afe(x::AbstractVector{Float64}, audioparams::NamedTuple; get_only_melfreq=false)\n",
    "    # -------------------------------- parameters -------------------------------- #\n",
    "    # audio module\n",
    "    sr = audioparams.sr\n",
    "    norm = true\n",
    "    speech_detection = false\n",
    "    # stft module\n",
    "    nfft = audioparams.nfft\n",
    "    win_type = (:hann, :periodic)\n",
    "    win_length = audioparams.nfft\n",
    "    overlap_length = round(Int, audioparams.nfft / 2)\n",
    "    stft_norm = :power                      # :power, :magnitude, :pow2mag\n",
    "    # mel filterbank module\n",
    "    nbands = audioparams.nbands\n",
    "    scale = audioparams.scale               # :mel_htk, :mel_slaney, :erb, :bark, :semitones, :tuned_semitones\n",
    "    melfb_norm = :bandwidth                 # :bandwidth, :area, :none\n",
    "    freq_range = audioparams.freq_range\n",
    "    # mel spectrogram module\n",
    "    db_scale = audioparams.db_scale\n",
    "\n",
    "    # --------------------------------- functions -------------------------------- #\n",
    "    # audio module\n",
    "    audio = load_audio(\n",
    "        file=x,\n",
    "        sr=sr,\n",
    "        norm=norm,\n",
    "    );\n",
    "\n",
    "    stftspec = get_stft(\n",
    "        audio=audio,\n",
    "        nfft=nfft,\n",
    "        win_type=win_type,\n",
    "        win_length=win_length,\n",
    "        overlap_length=overlap_length,\n",
    "        norm=stft_norm\n",
    "    );\n",
    "\n",
    "    # mel filterbank module\n",
    "    melfb = get_melfb(\n",
    "        stft=stftspec,\n",
    "        nbands=nbands,\n",
    "        scale=scale,\n",
    "        norm=melfb_norm,\n",
    "        freq_range=freq_range\n",
    "    );\n",
    "\n",
    "    if get_only_melfreq\n",
    "        return melfb.data.freq\n",
    "    end\n",
    "\n",
    "    # mel spectrogram module\n",
    "    melspec =  get_melspec(\n",
    "        stft=stftspec,\n",
    "        fbank=melfb,\n",
    "        db_scale=db_scale\n",
    "    );\n",
    "\n",
    "    if audioparams.usemfcc\n",
    "        # mfcc module\n",
    "        ncoeffs = audioparams.ncoeffs\n",
    "        rectification = :log                    # :log, :cubic_root\n",
    "        dither = true\n",
    "\n",
    "        mfcc = get_mfcc(\n",
    "            source=melspec,\n",
    "            ncoeffs=ncoeffs,\n",
    "            rectification=rectification,\n",
    "            dither=dither,\n",
    "        );\n",
    "    end\n",
    "\n",
    "    if audioparams.usef0\n",
    "        # f0 module\n",
    "        method = :nfc\n",
    "        f0_range = (50, 400)\n",
    "\n",
    "        f0 = get_f0(\n",
    "            source=stftspec,\n",
    "            method=method,\n",
    "            freq_range=f0_range\n",
    "        );\n",
    "    end\n",
    "\n",
    "    # spectral features module\n",
    "    spect = get_spectrals(\n",
    "        source=stftspec,\n",
    "        freq_range=freq_range\n",
    "    );\n",
    "\n",
    "    hcat(\n",
    "        filter(!isnothing, [\n",
    "            melspec.spec',\n",
    "            audioparams.usemfcc ? mfcc.mfcc' : nothing,\n",
    "            audioparams.usef0 ? f0.f0 : nothing,\n",
    "            spect.centroid,\n",
    "            spect.crest,\n",
    "            spect.entropy,\n",
    "            spect.flatness,\n",
    "            spect.flux,\n",
    "            spect.kurtosis,\n",
    "            spect.rolloff,\n",
    "            spect.skewness,\n",
    "            spect.decrease,\n",
    "            spect.slope,\n",
    "            spect.spread\n",
    "        ])...\n",
    "    )    \n",
    "end"
   ]
  },
  {
   "cell_type": "markdown",
   "metadata": {},
   "source": [
    "### Prepare dataset for analysis"
   ]
  },
  {
   "cell_type": "code",
   "execution_count": 4,
   "metadata": {},
   "outputs": [
    {
     "name": "stderr",
     "output_type": "stream",
     "text": [
      "┌ Info: Build dataset...\n",
      "└ @ Main /home/paso/Documents/Aclai/audio-rules2024/jl_notebook_cell_df34fa98e69747e1a8f8a730347b8e2f_X10sZmlsZQ==.jl:42\n"
     ]
    },
    {
     "name": "stdout",
     "output_type": "stream",
     "text": [
      "Training set size: (440, 225) - 440\n",
      "Test set size: (110, 225) - 110\n"
     ]
    }
   ],
   "source": [
    "d = jldopen(string((@__DIR__), ds_path, \".jld2\"))\n",
    "x, y = d[\"dataframe_validated\"]\n",
    "@assert x isa DataFrame\n",
    "close(d)\n",
    "\n",
    "memguard && begin\n",
    "    cat2 = round(Int, length(y)/2)\n",
    "    indices = [1:n_elems; cat2:cat2+n_elems-1]\n",
    "    x = x[indices, :]\n",
    "    y = y[indices]\n",
    "end\n",
    "\n",
    "freq = round.(Int, afe(x[1, :audio], audioparams; get_only_melfreq=true))\n",
    "\n",
    "catch9_f = [\"max\", \"min\", \"mean\", \"med\", \"std\", \"bsm\", \"bsd\", \"qnt\", \"3ac\"]\n",
    "variable_names = vcat([\n",
    "    vcat(\n",
    "        [\"\\e[$(color_code[:yellow])m$j(mel$i=$(freq[i])Hz)\\e[0m\" for i in 1:audioparams.nbands],\n",
    "        audioparams.usemfcc ? [\"\\e[$(color_code[:red])m$j(mfcc$i)\\e[0m\" for i in 1:audioparams.ncoeffs] : String[],\n",
    "        audioparams.usef0 ? [\"\\e[$(color_code[:green])m$j(f0)\\e[0m\"] : String[],\n",
    "        \"\\e[$(color_code[:cyan])m$j(cntrd)\\e[0m\", \"\\e[$(color_code[:cyan])m$j(crest)\\e[0m\",\n",
    "        \"\\e[$(color_code[:cyan])m$j(entrp)\\e[0m\", \"\\e[$(color_code[:cyan])m$j(flatn)\\e[0m\", \"\\e[$(color_code[:cyan])m$j(flux)\\e[0m\",\n",
    "        \"\\e[$(color_code[:cyan])m$j(kurts)\\e[0m\", \"\\e[$(color_code[:cyan])m$j(rllff)\\e[0m\", \"\\e[$(color_code[:cyan])m$j(skwns)\\e[0m\",\n",
    "        \"\\e[$(color_code[:cyan])m$j(decrs)\\e[0m\", \"\\e[$(color_code[:cyan])m$j(slope)\\e[0m\", \"\\e[$(color_code[:cyan])m$j(sprd)\\e[0m\"\n",
    "    )\n",
    "    for j in catch9_f\n",
    "]...)\n",
    "    \n",
    "catch9 = [\n",
    "    maximum,\n",
    "    minimum,\n",
    "    StatsBase.mean,\n",
    "    median,\n",
    "    std,\n",
    "    Catch22.SB_BinaryStats_mean_longstretch1,\n",
    "    Catch22.SB_BinaryStats_diff_longstretch0,\n",
    "    Catch22.SB_MotifThree_quantile_hh,\n",
    "    Catch22.SB_TransitionMatrix_3ac_sumdiagcov,\n",
    "]\n",
    "\n",
    "if !loadset\n",
    "    @info(\"Build dataset...\")\n",
    "\n",
    "    X = DataFrame([name => Float64[] for name in [match(r_select, v)[1] for v in variable_names]])\n",
    "    audiofeats = [afe(row[:audio], audioparams) for row in eachrow(x)]\n",
    "    push!(X, vcat([vcat([map(func, eachcol(row)) for func in catch9]...) for row in audiofeats])...)\n",
    "\n",
    "    yc = CategoricalArray(y);\n",
    "\n",
    "    train_ratio = 0.8\n",
    "\n",
    "    train, test = partition(eachindex(yc), train_ratio, shuffle=true)\n",
    "    X_train, y_train = X[train, :], yc[train]\n",
    "    X_test, y_test = X[test, :], yc[test]\n",
    "    save(dsfile, Dict(\"X_test\" => X_test, \"y_test\" => y_test))\n",
    "\n",
    "    println(\"Training set size: \", size(X_train), \" - \", length(y_train))\n",
    "    println(\"Test set size: \", size(X_test), \" - \", length(y_test))\n",
    "end"
   ]
  },
  {
   "cell_type": "markdown",
   "metadata": {},
   "source": [
    "### Train a model"
   ]
  },
  {
   "cell_type": "code",
   "execution_count": 5,
   "metadata": {},
   "outputs": [
    {
     "name": "stderr",
     "output_type": "stream",
     "text": [
      "┌ Info: For silent loading, specify `verbosity=0`. \n",
      "└ @ Main /home/paso/.julia/packages/MLJModels/8W54X/src/loading.jl:159\n"
     ]
    },
    {
     "name": "stdout",
     "output_type": "stream",
     "text": [
      "import MLJDecisionTreeInterface ✔\n"
     ]
    },
    {
     "name": "stderr",
     "output_type": "stream",
     "text": [
      "┌ Info: Training machine(DecisionTreeClassifier(max_depth = -1, …), …).\n",
      "└ @ MLJBase /home/paso/.julia/packages/MLJBase/7nGJF/src/machines.jl:499\n"
     ]
    },
    {
     "data": {
      "text/plain": [
       "min(mel5=711Hz) < -3.84\n",
       "├─ max(cntrd) < 1065.0\n",
       "│  ├─ mean(flatn) < 0.005786\n",
       "│  │  ├─ COPD (39/39)\n",
       "│  │  └─ min(mel14=3366Hz) < -5.871\n",
       "│  │     ├─ 3ac(decrs) < 0.02957\n",
       "│  │     │  ├─ max(rllff) < 2734.0\n",
       "│  │     │  │  ⋮\n",
       "│  │     │  │  \n",
       "│  │     │  └─ max(mel9=1419Hz) < -4.537\n",
       "│  │     │     ⋮\n",
       "│  │     │     \n",
       "│  │     └─ min(mel8=1194Hz) < -4.029\n",
       "│  │        ├─ COPD (33/33)\n",
       "│  │        └─ Healthy (2/2)\n",
       "│  └─ min(mel13=2832Hz) < -8.151\n",
       "│     ├─ COPD (5/5)\n",
       "│     └─ min(mel1=357Hz) < -3.709\n",
       "│        ├─ std(mel10=1687Hz) < 0.1122\n",
       "│        │  ├─ mean(mel8=1194Hz) < -5.057\n",
       "│        │  │  ⋮\n",
       "│        │  │  \n",
       "│        │  └─ min(entrp) < 0.6284\n",
       "│        │     ⋮\n",
       "│        │     \n",
       "│        └─ min(mel8=1194Hz) < -4.268\n",
       "│           ├─ min(crest) < 11.98\n",
       "│           │  ⋮\n",
       "│           │  \n",
       "│           └─ Healthy (16/16)\n",
       "└─ mean(mel12=2383Hz) < -4.165\n",
       "   ├─ max(mel9=1419Hz) < -2.058\n",
       "   │  ├─ std(mel1=357Hz) < 0.6095\n",
       "   │  │  ├─ COPD (38/38)\n",
       "   │  │  └─ min(entrp) < 0.4223\n",
       "   │  │     ├─ COPD (1/1)\n",
       "   │  │     └─ Healthy (2/2)\n",
       "   │  └─ qnt(decrs) < 2.174\n",
       "   │     ├─ Healthy (6/6)\n",
       "   │     └─ COPD (1/1)\n",
       "   └─ COPD (82/82)\n"
      ]
     },
     "metadata": {},
     "output_type": "display_data"
    }
   ],
   "source": [
    "if !loadset\n",
    "    learned_dt_tree = begin\n",
    "        Tree = MLJ.@load DecisionTreeClassifier pkg=DecisionTree\n",
    "        model = Tree(max_depth=-1, )\n",
    "        mach = machine(model, X_train, y_train)\n",
    "        fit!(mach)\n",
    "        fitted_params(mach).tree\n",
    "    end\n",
    "end"
   ]
  },
  {
   "cell_type": "markdown",
   "metadata": {},
   "source": [
    "### Model inspection & rule study"
   ]
  },
  {
   "cell_type": "code",
   "execution_count": 6,
   "metadata": {},
   "outputs": [
    {
     "name": "stdout",
     "output_type": "stream",
     "text": [
      "\u001b[34m▣\u001b[0m \u001b[1m\u001b[33mmin(mel5=711Hz)\u001b[0m \u001b[1m<\u001b[0m\u001b[0m -3.8398306837298675\n",
      "├✔ \u001b[1m\u001b[36mmax(cntrd)\u001b[0m \u001b[1m<\u001b[0m\u001b[0m 1064.6875266452453\n",
      "│├✔ \u001b[1m\u001b[36mmean(flatn)\u001b[0m \u001b[1m<\u001b[0m\u001b[0m 0.005785640626093488\n",
      "││├✔ COPD : (ninstances = 6, ncovered = 6, confidence = 1.0, lift = 1.0)\n",
      "││└✘ \u001b[1m\u001b[33mmin(mel14=3366Hz)\u001b[0m \u001b[1m<\u001b[0m\u001b[0m -5.871457993702041\n",
      "││ ├✔ \u001b[1m\u001b[36m3ac(decrs)\u001b[0m \u001b[1m<\u001b[0m\u001b[0m 0.029569046870084936\n",
      "││ │├✔ \u001b[1m\u001b[36mmax(rllff)\u001b[0m \u001b[1m<\u001b[0m\u001b[0m 2734.375\n",
      "││ ││├✔ Healthy : (ninstances = 5, ncovered = 5, confidence = 0.6, lift = 1.0)\n",
      "││ ││└✘ \u001b[1m\u001b[33mstd(mel7=1005Hz)\u001b[0m \u001b[1m<\u001b[0m\u001b[0m 0.5570114664467685\n",
      "││ ││ ├✔ Healthy : (ninstances = 1, ncovered = 1, confidence = 1.0, lift = 1.0)\n",
      "││ ││ └✘ COPD : (ninstances = 0, ncovered = 0, confidence = NaN, lift = NaN)\n",
      "││ │└✘ \u001b[1m\u001b[33mmax(mel9=1419Hz)\u001b[0m \u001b[1m<\u001b[0m\u001b[0m -4.537417154234595\n",
      "││ │ ├✔ Healthy : (ninstances = 2, ncovered = 2, confidence = 0.5, lift = 1.0)\n",
      "││ │ └✘ COPD : (ninstances = 1, ncovered = 1, confidence = 1.0, lift = 1.0)\n",
      "││ └✘ \u001b[1m\u001b[33mmin(mel8=1194Hz)\u001b[0m \u001b[1m<\u001b[0m\u001b[0m -4.0288742621675295\n",
      "││  ├✔ COPD : (ninstances = 14, ncovered = 14, confidence = 0.93, lift = 1.0)\n",
      "││  └✘ Healthy : (ninstances = 1, ncovered = 1, confidence = 1.0, lift = 1.0)\n",
      "│└✘ \u001b[1m\u001b[33mmin(mel13=2832Hz)\u001b[0m \u001b[1m<\u001b[0m\u001b[0m -8.151272401821737\n",
      "│ ├✔ COPD : (ninstances = 1, ncovered = 1, confidence = 1.0, lift = 1.0)\n",
      "│ └✘ \u001b[1m\u001b[33mmin(mel1=357Hz)\u001b[0m \u001b[1m<\u001b[0m\u001b[0m -3.7087625772680517\n",
      "│  ├✔ \u001b[1m\u001b[33mstd(mel10=1687Hz)\u001b[0m \u001b[1m<\u001b[0m\u001b[0m 0.11216417602580012\n",
      "│  │├✔ \u001b[1m\u001b[33mmean(mel8=1194Hz)\u001b[0m \u001b[1m<\u001b[0m\u001b[0m -5.0565802010732\n",
      "│  ││├✔ Healthy : (ninstances = 0, ncovered = 0, confidence = NaN, lift = NaN)\n",
      "│  ││└✘ COPD : (ninstances = 1, ncovered = 1, confidence = 1.0, lift = 1.0)\n",
      "│  │└✘ \u001b[1m\u001b[36mmin(entrp)\u001b[0m \u001b[1m<\u001b[0m\u001b[0m 0.628378355023854\n",
      "│  │ ├✔ Healthy : (ninstances = 45, ncovered = 45, confidence = 0.93, lift = 1.0)\n",
      "│  │ └✘ \u001b[1m\u001b[33mqnt(mel4=599Hz)\u001b[0m \u001b[1m<\u001b[0m\u001b[0m 2.032755037076765\n",
      "│  │  ├✔ COPD : (ninstances = 0, ncovered = 0, confidence = NaN, lift = NaN)\n",
      "│  │  └✘ Healthy : (ninstances = 1, ncovered = 1, confidence = 1.0, lift = 1.0)\n",
      "│  └✘ \u001b[1m\u001b[33mmin(mel8=1194Hz)\u001b[0m \u001b[1m<\u001b[0m\u001b[0m -4.267731513036928\n",
      "│   ├✔ \u001b[1m\u001b[36mmin(crest)\u001b[0m \u001b[1m<\u001b[0m\u001b[0m 11.979127736667444\n",
      "│   │├✔ \u001b[1m\u001b[33mbsm(mel12=2383Hz)\u001b[0m \u001b[1m<\u001b[0m\u001b[0m 4.5\n",
      "│   ││├✔ COPD : (ninstances = 1, ncovered = 1, confidence = 0.0, lift = NaN)\n",
      "│   ││└✘ Healthy : (ninstances = 1, ncovered = 1, confidence = 1.0, lift = 1.0)\n",
      "│   │└✘ COPD : (ninstances = 1, ncovered = 1, confidence = 0.0, lift = NaN)\n",
      "│   └✘ Healthy : (ninstances = 3, ncovered = 3, confidence = 1.0, lift = 1.0)\n",
      "└✘ \u001b[1m\u001b[33mmean(mel12=2383Hz)\u001b[0m \u001b[1m<\u001b[0m\u001b[0m -4.165102195480727\n",
      " ├✔ \u001b[1m\u001b[33mmax(mel9=1419Hz)\u001b[0m \u001b[1m<\u001b[0m\u001b[0m -2.058199471632956\n",
      " │├✔ \u001b[1m\u001b[33mstd(mel1=357Hz)\u001b[0m \u001b[1m<\u001b[0m\u001b[0m 0.609499448210024\n",
      " ││├✔ COPD : (ninstances = 5, ncovered = 5, confidence = 1.0, lift = 1.0)\n",
      " ││└✘ \u001b[1m\u001b[36mmin(entrp)\u001b[0m \u001b[1m<\u001b[0m\u001b[0m 0.42232835389692724\n",
      " ││ ├✔ COPD : (ninstances = 1, ncovered = 1, confidence = 1.0, lift = 1.0)\n",
      " ││ └✘ Healthy : (ninstances = 0, ncovered = 0, confidence = NaN, lift = NaN)\n",
      " │└✘ \u001b[1m\u001b[36mqnt(decrs)\u001b[0m \u001b[1m<\u001b[0m\u001b[0m 2.1744195318589097\n",
      " │ ├✔ Healthy : (ninstances = 1, ncovered = 1, confidence = 0.0, lift = NaN)\n",
      " │ └✘ COPD : (ninstances = 0, ncovered = 0, confidence = NaN, lift = NaN)\n",
      " └✘ COPD : (ninstances = 19, ncovered = 19, confidence = 1.0, lift = 1.0)\n"
     ]
    }
   ],
   "source": [
    "if !loadset\n",
    "    sole_dt = solemodel(learned_dt_tree)\n",
    "    # Make test instances flow into the model, so that test metrics can, then, be computed.\n",
    "    apply!(sole_dt, X_test, y_test);\n",
    "    # Save solemodel to disk\n",
    "    save(jld2file, Dict(\"sole_dt\" => sole_dt))\n",
    "else\n",
    "    @info(\"Load dataset...\")\n",
    "    d = jldopen(dsfile)\n",
    "    X_test = d[\"X_test\"]\n",
    "    y_test = d[\"y_test\"]\n",
    "    close(d)\n",
    "    d = jldopen(jld2file)\n",
    "    sole_dt = d[\"sole_dt\"]\n",
    "    close(d)\n",
    "end\n",
    "# Print Sole model\n",
    "printmodel(sole_dt; show_metrics = true, variable_names_map = variable_names);"
   ]
  },
  {
   "cell_type": "markdown",
   "metadata": {},
   "source": [
    "### Extract rules that are at least as good as a random baseline model"
   ]
  },
  {
   "cell_type": "code",
   "execution_count": 7,
   "metadata": {},
   "outputs": [
    {
     "name": "stdout",
     "output_type": "stream",
     "text": [
      "\u001b[34m▣\u001b[0m (\u001b[1m\u001b[33mmin(mel5=711Hz)\u001b[0m \u001b[1m<\u001b[0m\u001b[0m -3.8398306837298675) ∧ (\u001b[1m\u001b[36mmax(cntrd)\u001b[0m \u001b[1m<\u001b[0m\u001b[0m 1064.6875266452453) ∧ (\u001b[1m\u001b[36mmean(flatn)\u001b[0m \u001b[1m<\u001b[0m\u001b[0m 0.005785640626093488)  ↣  COPD : (ninstances = 110, ncovered = 6, coverage = 0.05, confidence = 1.0, lift = 2.04, natoms = 3)\n",
      "\u001b[34m▣\u001b[0m (\u001b[1m\u001b[33mmin(mel5=711Hz)\u001b[0m \u001b[1m<\u001b[0m\u001b[0m -3.8398306837298675) ∧ (\u001b[1m\u001b[36mmax(cntrd)\u001b[0m \u001b[1m<\u001b[0m\u001b[0m 1064.6875266452453) ∧ (¬(\u001b[1m\u001b[36mmean(flatn)\u001b[0m \u001b[1m<\u001b[0m\u001b[0m 0.005785640626093488)) ∧ (\u001b[1m\u001b[33mmin(mel14=3366Hz)\u001b[0m \u001b[1m<\u001b[0m\u001b[0m -5.871457993702041) ∧ (\u001b[1m\u001b[36m3ac(decrs)\u001b[0m \u001b[1m<\u001b[0m\u001b[0m 0.029569046870084936) ∧ (\u001b[1m\u001b[36mmax(rllff)\u001b[0m \u001b[1m<\u001b[0m\u001b[0m 2734.375)  ↣  Healthy : (ninstances = 110, ncovered = 5, coverage = 0.05, confidence = 0.6, lift = 1.18, natoms = 6)\n",
      "\u001b[34m▣\u001b[0m (\u001b[1m\u001b[33mmin(mel5=711Hz)\u001b[0m \u001b[1m<\u001b[0m\u001b[0m -3.8398306837298675) ∧ (\u001b[1m\u001b[36mmax(cntrd)\u001b[0m \u001b[1m<\u001b[0m\u001b[0m 1064.6875266452453) ∧ (¬(\u001b[1m\u001b[36mmean(flatn)\u001b[0m \u001b[1m<\u001b[0m\u001b[0m 0.005785640626093488)) ∧ (\u001b[1m\u001b[33mmin(mel14=3366Hz)\u001b[0m \u001b[1m<\u001b[0m\u001b[0m -5.871457993702041) ∧ (\u001b[1m\u001b[36m3ac(decrs)\u001b[0m \u001b[1m<\u001b[0m\u001b[0m 0.029569046870084936) ∧ (¬(\u001b[1m\u001b[36mmax(rllff)\u001b[0m \u001b[1m<\u001b[0m\u001b[0m 2734.375)) ∧ (\u001b[1m\u001b[33mstd(mel7=1005Hz)\u001b[0m \u001b[1m<\u001b[0m\u001b[0m 0.5570114664467685)  ↣  Healthy : (ninstances = 110, ncovered = 1, coverage = 0.01, confidence = 1.0, lift = 1.96, natoms = 7)\n",
      "\u001b[34m▣\u001b[0m (\u001b[1m\u001b[33mmin(mel5=711Hz)\u001b[0m \u001b[1m<\u001b[0m\u001b[0m -3.8398306837298675) ∧ (\u001b[1m\u001b[36mmax(cntrd)\u001b[0m \u001b[1m<\u001b[0m\u001b[0m 1064.6875266452453) ∧ (¬(\u001b[1m\u001b[36mmean(flatn)\u001b[0m \u001b[1m<\u001b[0m\u001b[0m 0.005785640626093488)) ∧ (\u001b[1m\u001b[33mmin(mel14=3366Hz)\u001b[0m \u001b[1m<\u001b[0m\u001b[0m -5.871457993702041) ∧ (¬(\u001b[1m\u001b[36m3ac(decrs)\u001b[0m \u001b[1m<\u001b[0m\u001b[0m 0.029569046870084936)) ∧ (¬(\u001b[1m\u001b[33mmax(mel9=1419Hz)\u001b[0m \u001b[1m<\u001b[0m\u001b[0m -4.537417154234595))  ↣  COPD : (ninstances = 110, ncovered = 1, coverage = 0.01, confidence = 1.0, lift = 2.04, natoms = 6)\n",
      "\u001b[34m▣\u001b[0m (\u001b[1m\u001b[33mmin(mel5=711Hz)\u001b[0m \u001b[1m<\u001b[0m\u001b[0m -3.8398306837298675) ∧ (\u001b[1m\u001b[36mmax(cntrd)\u001b[0m \u001b[1m<\u001b[0m\u001b[0m 1064.6875266452453) ∧ (¬(\u001b[1m\u001b[36mmean(flatn)\u001b[0m \u001b[1m<\u001b[0m\u001b[0m 0.005785640626093488)) ∧ (¬(\u001b[1m\u001b[33mmin(mel14=3366Hz)\u001b[0m \u001b[1m<\u001b[0m\u001b[0m -5.871457993702041)) ∧ (\u001b[1m\u001b[33mmin(mel8=1194Hz)\u001b[0m \u001b[1m<\u001b[0m\u001b[0m -4.0288742621675295)  ↣  COPD : (ninstances = 110, ncovered = 14, coverage = 0.13, confidence = 0.93, lift = 1.89, natoms = 5)\n",
      "\u001b[34m▣\u001b[0m (\u001b[1m\u001b[33mmin(mel5=711Hz)\u001b[0m \u001b[1m<\u001b[0m\u001b[0m -3.8398306837298675) ∧ (\u001b[1m\u001b[36mmax(cntrd)\u001b[0m \u001b[1m<\u001b[0m\u001b[0m 1064.6875266452453) ∧ (¬(\u001b[1m\u001b[36mmean(flatn)\u001b[0m \u001b[1m<\u001b[0m\u001b[0m 0.005785640626093488)) ∧ (¬(\u001b[1m\u001b[33mmin(mel14=3366Hz)\u001b[0m \u001b[1m<\u001b[0m\u001b[0m -5.871457993702041)) ∧ (¬(\u001b[1m\u001b[33mmin(mel8=1194Hz)\u001b[0m \u001b[1m<\u001b[0m\u001b[0m -4.0288742621675295))  ↣  Healthy : (ninstances = 110, ncovered = 1, coverage = 0.01, confidence = 1.0, lift = 1.96, natoms = 5)\n",
      "\u001b[34m▣\u001b[0m (\u001b[1m\u001b[33mmin(mel5=711Hz)\u001b[0m \u001b[1m<\u001b[0m\u001b[0m -3.8398306837298675) ∧ (¬(\u001b[1m\u001b[36mmax(cntrd)\u001b[0m \u001b[1m<\u001b[0m\u001b[0m 1064.6875266452453)) ∧ (\u001b[1m\u001b[33mmin(mel13=2832Hz)\u001b[0m \u001b[1m<\u001b[0m\u001b[0m -8.151272401821737)  ↣  COPD : (ninstances = 110, ncovered = 1, coverage = 0.01, confidence = 1.0, lift = 2.04, natoms = 3)\n",
      "\u001b[34m▣\u001b[0m (\u001b[1m\u001b[33mmin(mel5=711Hz)\u001b[0m \u001b[1m<\u001b[0m\u001b[0m -3.8398306837298675) ∧ (¬(\u001b[1m\u001b[36mmax(cntrd)\u001b[0m \u001b[1m<\u001b[0m\u001b[0m 1064.6875266452453)) ∧ (¬(\u001b[1m\u001b[33mmin(mel13=2832Hz)\u001b[0m \u001b[1m<\u001b[0m\u001b[0m -8.151272401821737)) ∧ (\u001b[1m\u001b[33mmin(mel1=357Hz)\u001b[0m \u001b[1m<\u001b[0m\u001b[0m -3.7087625772680517) ∧ (\u001b[1m\u001b[33mstd(mel10=1687Hz)\u001b[0m \u001b[1m<\u001b[0m\u001b[0m 0.11216417602580012) ∧ (¬(\u001b[1m\u001b[33mmean(mel8=1194Hz)\u001b[0m \u001b[1m<\u001b[0m\u001b[0m -5.0565802010732))  ↣  COPD : (ninstances = 110, ncovered = 1, coverage = 0.01, confidence = 1.0, lift = 2.04, natoms = 6)\n",
      "\u001b[34m▣\u001b[0m (\u001b[1m\u001b[33mmin(mel5=711Hz)\u001b[0m \u001b[1m<\u001b[0m\u001b[0m -3.8398306837298675) ∧ (¬(\u001b[1m\u001b[36mmax(cntrd)\u001b[0m \u001b[1m<\u001b[0m\u001b[0m 1064.6875266452453)) ∧ (¬(\u001b[1m\u001b[33mmin(mel13=2832Hz)\u001b[0m \u001b[1m<\u001b[0m\u001b[0m -8.151272401821737)) ∧ (\u001b[1m\u001b[33mmin(mel1=357Hz)\u001b[0m \u001b[1m<\u001b[0m\u001b[0m -3.7087625772680517) ∧ (¬(\u001b[1m\u001b[33mstd(mel10=1687Hz)\u001b[0m \u001b[1m<\u001b[0m\u001b[0m 0.11216417602580012)) ∧ (\u001b[1m\u001b[36mmin(entrp)\u001b[0m \u001b[1m<\u001b[0m\u001b[0m 0.628378355023854)  ↣  Healthy : (ninstances = 110, ncovered = 45, coverage = 0.41, confidence = 0.93, lift = 1.83, natoms = 6)\n",
      "\u001b[34m▣\u001b[0m (\u001b[1m\u001b[33mmin(mel5=711Hz)\u001b[0m \u001b[1m<\u001b[0m\u001b[0m -3.8398306837298675) ∧ (¬(\u001b[1m\u001b[36mmax(cntrd)\u001b[0m \u001b[1m<\u001b[0m\u001b[0m 1064.6875266452453)) ∧ (¬(\u001b[1m\u001b[33mmin(mel13=2832Hz)\u001b[0m \u001b[1m<\u001b[0m\u001b[0m -8.151272401821737)) ∧ (\u001b[1m\u001b[33mmin(mel1=357Hz)\u001b[0m \u001b[1m<\u001b[0m\u001b[0m -3.7087625772680517) ∧ (¬(\u001b[1m\u001b[33mstd(mel10=1687Hz)\u001b[0m \u001b[1m<\u001b[0m\u001b[0m 0.11216417602580012)) ∧ (¬(\u001b[1m\u001b[36mmin(entrp)\u001b[0m \u001b[1m<\u001b[0m\u001b[0m 0.628378355023854)) ∧ (¬(\u001b[1m\u001b[33mqnt(mel4=599Hz)\u001b[0m \u001b[1m<\u001b[0m\u001b[0m 2.032755037076765))  ↣  Healthy : (ninstances = 110, ncovered = 1, coverage = 0.01, confidence = 1.0, lift = 1.96, natoms = 7)\n",
      "\u001b[34m▣\u001b[0m (\u001b[1m\u001b[33mmin(mel5=711Hz)\u001b[0m \u001b[1m<\u001b[0m\u001b[0m -3.8398306837298675) ∧ (¬(\u001b[1m\u001b[36mmax(cntrd)\u001b[0m \u001b[1m<\u001b[0m\u001b[0m 1064.6875266452453)) ∧ (¬(\u001b[1m\u001b[33mmin(mel13=2832Hz)\u001b[0m \u001b[1m<\u001b[0m\u001b[0m -8.151272401821737)) ∧ (¬(\u001b[1m\u001b[33mmin(mel1=357Hz)\u001b[0m \u001b[1m<\u001b[0m\u001b[0m -3.7087625772680517)) ∧ (\u001b[1m\u001b[33mmin(mel8=1194Hz)\u001b[0m \u001b[1m<\u001b[0m\u001b[0m -4.267731513036928) ∧ (\u001b[1m\u001b[36mmin(crest)\u001b[0m \u001b[1m<\u001b[0m\u001b[0m 11.979127736667444) ∧ (¬(\u001b[1m\u001b[33mbsm(mel12=2383Hz)\u001b[0m \u001b[1m<\u001b[0m\u001b[0m 4.5))  ↣  Healthy : (ninstances = 110, ncovered = 1, coverage = 0.01, confidence = 1.0, lift = 1.96, natoms = 7)\n",
      "\u001b[34m▣\u001b[0m (\u001b[1m\u001b[33mmin(mel5=711Hz)\u001b[0m \u001b[1m<\u001b[0m\u001b[0m -3.8398306837298675) ∧ (¬(\u001b[1m\u001b[36mmax(cntrd)\u001b[0m \u001b[1m<\u001b[0m\u001b[0m 1064.6875266452453)) ∧ (¬(\u001b[1m\u001b[33mmin(mel13=2832Hz)\u001b[0m \u001b[1m<\u001b[0m\u001b[0m -8.151272401821737)) ∧ (¬(\u001b[1m\u001b[33mmin(mel1=357Hz)\u001b[0m \u001b[1m<\u001b[0m\u001b[0m -3.7087625772680517)) ∧ (¬(\u001b[1m\u001b[33mmin(mel8=1194Hz)\u001b[0m \u001b[1m<\u001b[0m\u001b[0m -4.267731513036928))  ↣  Healthy : (ninstances = 110, ncovered = 3, coverage = 0.03, confidence = 1.0, lift = 1.96, natoms = 5)\n",
      "\u001b[34m▣\u001b[0m (¬(\u001b[1m\u001b[33mmin(mel5=711Hz)\u001b[0m \u001b[1m<\u001b[0m\u001b[0m -3.8398306837298675)) ∧ (\u001b[1m\u001b[33mmean(mel12=2383Hz)\u001b[0m \u001b[1m<\u001b[0m\u001b[0m -4.165102195480727) ∧ (\u001b[1m\u001b[33mmax(mel9=1419Hz)\u001b[0m \u001b[1m<\u001b[0m\u001b[0m -2.058199471632956) ∧ (\u001b[1m\u001b[33mstd(mel1=357Hz)\u001b[0m \u001b[1m<\u001b[0m\u001b[0m 0.609499448210024)  ↣  COPD : (ninstances = 110, ncovered = 5, coverage = 0.05, confidence = 1.0, lift = 2.04, natoms = 4)\n",
      "\u001b[34m▣\u001b[0m (¬(\u001b[1m\u001b[33mmin(mel5=711Hz)\u001b[0m \u001b[1m<\u001b[0m\u001b[0m -3.8398306837298675)) ∧ (\u001b[1m\u001b[33mmean(mel12=2383Hz)\u001b[0m \u001b[1m<\u001b[0m\u001b[0m -4.165102195480727) ∧ (\u001b[1m\u001b[33mmax(mel9=1419Hz)\u001b[0m \u001b[1m<\u001b[0m\u001b[0m -2.058199471632956) ∧ (¬(\u001b[1m\u001b[33mstd(mel1=357Hz)\u001b[0m \u001b[1m<\u001b[0m\u001b[0m 0.609499448210024)) ∧ (\u001b[1m\u001b[36mmin(entrp)\u001b[0m \u001b[1m<\u001b[0m\u001b[0m 0.42232835389692724)  ↣  COPD : (ninstances = 110, ncovered = 1, coverage = 0.01, confidence = 1.0, lift = 2.04, natoms = 5)\n",
      "\u001b[34m▣\u001b[0m (¬(\u001b[1m\u001b[33mmin(mel5=711Hz)\u001b[0m \u001b[1m<\u001b[0m\u001b[0m -3.8398306837298675)) ∧ (¬(\u001b[1m\u001b[33mmean(mel12=2383Hz)\u001b[0m \u001b[1m<\u001b[0m\u001b[0m -4.165102195480727))  ↣  COPD : (ninstances = 110, ncovered = 19, coverage = 0.17, confidence = 1.0, lift = 2.04, natoms = 2)\n"
     ]
    }
   ],
   "source": [
    "interesting_rules = listrules(sole_dt, min_lift = 1.0, min_ninstances = 0);\n",
    "printmodel.(interesting_rules; show_metrics = true, variable_names_map = variable_names);"
   ]
  },
  {
   "cell_type": "markdown",
   "metadata": {},
   "source": [
    "### Simplify rules while extracting and prettify result"
   ]
  },
  {
   "cell_type": "code",
   "execution_count": 8,
   "metadata": {},
   "outputs": [
    {
     "name": "stdout",
     "output_type": "stream",
     "text": [
      "\u001b[34m▣\u001b[0m (\u001b[1m\u001b[33mmin(mel5=711Hz)\u001b[0m \u001b[1m<\u001b[0m\u001b[0m -3.84) ∧ (\u001b[1m\u001b[36mmax(cntrd)\u001b[0m \u001b[1m<\u001b[0m\u001b[0m 1064.69) ∧ (\u001b[1m\u001b[36mmean(flatn)\u001b[0m \u001b[1m<\u001b[0m\u001b[0m 0.01)  ↣  COPD : (ninstances = 110, ncovered = 6, coverage = 0.05, confidence = 1.0, lift = 2.04, natoms = 3)\n",
      "\u001b[34m▣\u001b[0m (\u001b[1m\u001b[33mmin(mel5=711Hz)\u001b[0m \u001b[1m<\u001b[0m\u001b[0m -3.84) ∧ (\u001b[1m\u001b[36mmax(cntrd)\u001b[0m \u001b[1m<\u001b[0m\u001b[0m 1064.69) ∧ (\u001b[1m\u001b[36mmean(flatn)\u001b[0m \u001b[1m≥\u001b[0m\u001b[0m 0.01) ∧ (\u001b[1m\u001b[33mmin(mel14=3366Hz)\u001b[0m \u001b[1m<\u001b[0m\u001b[0m -5.87) ∧ (\u001b[1m\u001b[36m3ac(decrs)\u001b[0m \u001b[1m<\u001b[0m\u001b[0m 0.03) ∧ (\u001b[1m\u001b[36mmax(rllff)\u001b[0m \u001b[1m<\u001b[0m\u001b[0m 2734.38)  ↣  Healthy : (ninstances = 110, ncovered = 5, coverage = 0.05, confidence = 0.6, lift = 1.18, natoms = 6)\n",
      "\u001b[34m▣\u001b[0m (\u001b[1m\u001b[33mmin(mel5=711Hz)\u001b[0m \u001b[1m<\u001b[0m\u001b[0m -3.84) ∧ (\u001b[1m\u001b[36mmax(cntrd)\u001b[0m \u001b[1m<\u001b[0m\u001b[0m 1064.69) ∧ (\u001b[1m\u001b[36mmean(flatn)\u001b[0m \u001b[1m≥\u001b[0m\u001b[0m 0.01) ∧ (\u001b[1m\u001b[33mmin(mel14=3366Hz)\u001b[0m \u001b[1m<\u001b[0m\u001b[0m -5.87) ∧ (\u001b[1m\u001b[36m3ac(decrs)\u001b[0m \u001b[1m<\u001b[0m\u001b[0m 0.03) ∧ (\u001b[1m\u001b[36mmax(rllff)\u001b[0m \u001b[1m≥\u001b[0m\u001b[0m 2734.38) ∧ (\u001b[1m\u001b[33mstd(mel7=1005Hz)\u001b[0m \u001b[1m<\u001b[0m\u001b[0m 0.56)  ↣  Healthy : (ninstances = 110, ncovered = 1, coverage = 0.01, confidence = 1.0, lift = 1.96, natoms = 7)\n",
      "\u001b[34m▣\u001b[0m (\u001b[1m\u001b[33mmin(mel5=711Hz)\u001b[0m \u001b[1m<\u001b[0m\u001b[0m -3.84) ∧ (\u001b[1m\u001b[36mmax(cntrd)\u001b[0m \u001b[1m<\u001b[0m\u001b[0m 1064.69) ∧ (\u001b[1m\u001b[36mmean(flatn)\u001b[0m \u001b[1m≥\u001b[0m\u001b[0m 0.01) ∧ (\u001b[1m\u001b[33mmin(mel14=3366Hz)\u001b[0m \u001b[1m<\u001b[0m\u001b[0m -5.87) ∧ (\u001b[1m\u001b[36m3ac(decrs)\u001b[0m \u001b[1m≥\u001b[0m\u001b[0m 0.03) ∧ (\u001b[1m\u001b[33mmax(mel9=1419Hz)\u001b[0m \u001b[1m≥\u001b[0m\u001b[0m -4.54)  ↣  COPD : (ninstances = 110, ncovered = 1, coverage = 0.01, confidence = 1.0, lift = 2.04, natoms = 6)\n",
      "\u001b[34m▣\u001b[0m (\u001b[1m\u001b[33mmin(mel5=711Hz)\u001b[0m \u001b[1m<\u001b[0m\u001b[0m -3.84) ∧ (\u001b[1m\u001b[36mmax(cntrd)\u001b[0m \u001b[1m<\u001b[0m\u001b[0m 1064.69) ∧ (\u001b[1m\u001b[36mmean(flatn)\u001b[0m \u001b[1m≥\u001b[0m\u001b[0m 0.01) ∧ (\u001b[1m\u001b[33mmin(mel14=3366Hz)\u001b[0m \u001b[1m≥\u001b[0m\u001b[0m -5.87) ∧ (\u001b[1m\u001b[33mmin(mel8=1194Hz)\u001b[0m \u001b[1m<\u001b[0m\u001b[0m -4.03)  ↣  COPD : (ninstances = 110, ncovered = 14, coverage = 0.13, confidence = 0.93, lift = 1.89, natoms = 5)\n",
      "\u001b[34m▣\u001b[0m (\u001b[1m\u001b[33mmin(mel5=711Hz)\u001b[0m \u001b[1m<\u001b[0m\u001b[0m -3.84) ∧ (\u001b[1m\u001b[36mmax(cntrd)\u001b[0m \u001b[1m<\u001b[0m\u001b[0m 1064.69) ∧ (\u001b[1m\u001b[36mmean(flatn)\u001b[0m \u001b[1m≥\u001b[0m\u001b[0m 0.01) ∧ (\u001b[1m\u001b[33mmin(mel14=3366Hz)\u001b[0m \u001b[1m≥\u001b[0m\u001b[0m -5.87) ∧ (\u001b[1m\u001b[33mmin(mel8=1194Hz)\u001b[0m \u001b[1m≥\u001b[0m\u001b[0m -4.03)  ↣  Healthy : (ninstances = 110, ncovered = 1, coverage = 0.01, confidence = 1.0, lift = 1.96, natoms = 5)\n",
      "\u001b[34m▣\u001b[0m (\u001b[1m\u001b[33mmin(mel5=711Hz)\u001b[0m \u001b[1m<\u001b[0m\u001b[0m -3.84) ∧ (\u001b[1m\u001b[36mmax(cntrd)\u001b[0m \u001b[1m≥\u001b[0m\u001b[0m 1064.69) ∧ (\u001b[1m\u001b[33mmin(mel13=2832Hz)\u001b[0m \u001b[1m<\u001b[0m\u001b[0m -8.15)  ↣  COPD : (ninstances = 110, ncovered = 1, coverage = 0.01, confidence = 1.0, lift = 2.04, natoms = 3)\n",
      "\u001b[34m▣\u001b[0m (\u001b[1m\u001b[33mmin(mel5=711Hz)\u001b[0m \u001b[1m<\u001b[0m\u001b[0m -3.84) ∧ (\u001b[1m\u001b[36mmax(cntrd)\u001b[0m \u001b[1m≥\u001b[0m\u001b[0m 1064.69) ∧ (\u001b[1m\u001b[33mmin(mel13=2832Hz)\u001b[0m \u001b[1m≥\u001b[0m\u001b[0m -8.15) ∧ (\u001b[1m\u001b[33mmin(mel1=357Hz)\u001b[0m \u001b[1m<\u001b[0m\u001b[0m -3.71) ∧ (\u001b[1m\u001b[33mstd(mel10=1687Hz)\u001b[0m \u001b[1m<\u001b[0m\u001b[0m 0.11) ∧ (\u001b[1m\u001b[33mmean(mel8=1194Hz)\u001b[0m \u001b[1m≥\u001b[0m\u001b[0m -5.06)  ↣  COPD : (ninstances = 110, ncovered = 1, coverage = 0.01, confidence = 1.0, lift = 2.04, natoms = 6)\n",
      "\u001b[34m▣\u001b[0m (\u001b[1m\u001b[33mmin(mel5=711Hz)\u001b[0m \u001b[1m<\u001b[0m\u001b[0m -3.84) ∧ (\u001b[1m\u001b[36mmax(cntrd)\u001b[0m \u001b[1m≥\u001b[0m\u001b[0m 1064.69) ∧ (\u001b[1m\u001b[33mmin(mel13=2832Hz)\u001b[0m \u001b[1m≥\u001b[0m\u001b[0m -8.15) ∧ (\u001b[1m\u001b[33mmin(mel1=357Hz)\u001b[0m \u001b[1m<\u001b[0m\u001b[0m -3.71) ∧ (\u001b[1m\u001b[33mstd(mel10=1687Hz)\u001b[0m \u001b[1m≥\u001b[0m\u001b[0m 0.11) ∧ (\u001b[1m\u001b[36mmin(entrp)\u001b[0m \u001b[1m<\u001b[0m\u001b[0m 0.63)  ↣  Healthy : (ninstances = 110, ncovered = 45, coverage = 0.41, confidence = 0.93, lift = 1.83, natoms = 6)\n",
      "\u001b[34m▣\u001b[0m (\u001b[1m\u001b[33mmin(mel5=711Hz)\u001b[0m \u001b[1m<\u001b[0m\u001b[0m -3.84) ∧ (\u001b[1m\u001b[36mmax(cntrd)\u001b[0m \u001b[1m≥\u001b[0m\u001b[0m 1064.69) ∧ (\u001b[1m\u001b[33mmin(mel13=2832Hz)\u001b[0m \u001b[1m≥\u001b[0m\u001b[0m -8.15) ∧ (\u001b[1m\u001b[33mmin(mel1=357Hz)\u001b[0m \u001b[1m<\u001b[0m\u001b[0m -3.71) ∧ (\u001b[1m\u001b[33mstd(mel10=1687Hz)\u001b[0m \u001b[1m≥\u001b[0m\u001b[0m 0.11) ∧ (\u001b[1m\u001b[36mmin(entrp)\u001b[0m \u001b[1m≥\u001b[0m\u001b[0m 0.63) ∧ (\u001b[1m\u001b[33mqnt(mel4=599Hz)\u001b[0m \u001b[1m≥\u001b[0m\u001b[0m 2.03)  ↣  Healthy : (ninstances = 110, ncovered = 1, coverage = 0.01, confidence = 1.0, lift = 1.96, natoms = 7)\n",
      "\u001b[34m▣\u001b[0m (\u001b[1m\u001b[33mmin(mel5=711Hz)\u001b[0m \u001b[1m<\u001b[0m\u001b[0m -3.84) ∧ (\u001b[1m\u001b[36mmax(cntrd)\u001b[0m \u001b[1m≥\u001b[0m\u001b[0m 1064.69) ∧ (\u001b[1m\u001b[33mmin(mel13=2832Hz)\u001b[0m \u001b[1m≥\u001b[0m\u001b[0m -8.15) ∧ (\u001b[1m\u001b[33mmin(mel1=357Hz)\u001b[0m \u001b[1m≥\u001b[0m\u001b[0m -3.71) ∧ (\u001b[1m\u001b[33mmin(mel8=1194Hz)\u001b[0m \u001b[1m<\u001b[0m\u001b[0m -4.27) ∧ (\u001b[1m\u001b[36mmin(crest)\u001b[0m \u001b[1m<\u001b[0m\u001b[0m 11.98) ∧ (\u001b[1m\u001b[33mbsm(mel12=2383Hz)\u001b[0m \u001b[1m≥\u001b[0m\u001b[0m 4.5)  ↣  Healthy : (ninstances = 110, ncovered = 1, coverage = 0.01, confidence = 1.0, lift = 1.96, natoms = 7)\n",
      "\u001b[34m▣\u001b[0m (\u001b[1m\u001b[33mmin(mel5=711Hz)\u001b[0m \u001b[1m<\u001b[0m\u001b[0m -3.84) ∧ (\u001b[1m\u001b[36mmax(cntrd)\u001b[0m \u001b[1m≥\u001b[0m\u001b[0m 1064.69) ∧ (\u001b[1m\u001b[33mmin(mel13=2832Hz)\u001b[0m \u001b[1m≥\u001b[0m\u001b[0m -8.15) ∧ (\u001b[1m\u001b[33mmin(mel1=357Hz)\u001b[0m \u001b[1m≥\u001b[0m\u001b[0m -3.71) ∧ (\u001b[1m\u001b[33mmin(mel8=1194Hz)\u001b[0m \u001b[1m≥\u001b[0m\u001b[0m -4.27)  ↣  Healthy : (ninstances = 110, ncovered = 3, coverage = 0.03, confidence = 1.0, lift = 1.96, natoms = 5)\n",
      "\u001b[34m▣\u001b[0m (\u001b[1m\u001b[33mmin(mel5=711Hz)\u001b[0m \u001b[1m≥\u001b[0m\u001b[0m -3.84) ∧ (\u001b[1m\u001b[33mmean(mel12=2383Hz)\u001b[0m \u001b[1m<\u001b[0m\u001b[0m -4.17) ∧ (\u001b[1m\u001b[33mmax(mel9=1419Hz)\u001b[0m \u001b[1m<\u001b[0m\u001b[0m -2.06) ∧ (\u001b[1m\u001b[33mstd(mel1=357Hz)\u001b[0m \u001b[1m<\u001b[0m\u001b[0m 0.61)  ↣  COPD : (ninstances = 110, ncovered = 5, coverage = 0.05, confidence = 1.0, lift = 2.04, natoms = 4)\n",
      "\u001b[34m▣\u001b[0m (\u001b[1m\u001b[33mmin(mel5=711Hz)\u001b[0m \u001b[1m≥\u001b[0m\u001b[0m -3.84) ∧ (\u001b[1m\u001b[33mmean(mel12=2383Hz)\u001b[0m \u001b[1m<\u001b[0m\u001b[0m -4.17) ∧ (\u001b[1m\u001b[33mmax(mel9=1419Hz)\u001b[0m \u001b[1m<\u001b[0m\u001b[0m -2.06) ∧ (\u001b[1m\u001b[33mstd(mel1=357Hz)\u001b[0m \u001b[1m≥\u001b[0m\u001b[0m 0.61) ∧ (\u001b[1m\u001b[36mmin(entrp)\u001b[0m \u001b[1m<\u001b[0m\u001b[0m 0.42)  ↣  COPD : (ninstances = 110, ncovered = 1, coverage = 0.01, confidence = 1.0, lift = 2.04, natoms = 5)\n",
      "\u001b[34m▣\u001b[0m (\u001b[1m\u001b[33mmin(mel5=711Hz)\u001b[0m \u001b[1m≥\u001b[0m\u001b[0m -3.84) ∧ (\u001b[1m\u001b[33mmean(mel12=2383Hz)\u001b[0m \u001b[1m≥\u001b[0m\u001b[0m -4.17)  ↣  COPD : (ninstances = 110, ncovered = 19, coverage = 0.17, confidence = 1.0, lift = 2.04, natoms = 2)\n"
     ]
    }
   ],
   "source": [
    "interesting_rules = listrules(sole_dt, min_lift = 1.0, min_ninstances = 0, normalize = true);\n",
    "printmodel.(interesting_rules; show_metrics = true, syntaxstring_kwargs = (; threshold_digits = 2), variable_names_map = variable_names);"
   ]
  },
  {
   "cell_type": "markdown",
   "metadata": {},
   "source": [
    "### Directly access rule metrics"
   ]
  },
  {
   "cell_type": "code",
   "execution_count": 9,
   "metadata": {},
   "outputs": [
    {
     "data": {
      "text/plain": [
       "15-element Vector{@NamedTuple{ninstances::Int64, ncovered::Int64, coverage::Float64, confidence::Float64, lift::Float64, natoms::Int64}}:\n",
       " (ninstances = 110, ncovered = 6, coverage = 0.05454545454545454, confidence = 1.0, lift = 2.037037037037037, natoms = 3)\n",
       " (ninstances = 110, ncovered = 5, coverage = 0.045454545454545456, confidence = 0.6, lift = 1.1785714285714286, natoms = 6)\n",
       " (ninstances = 110, ncovered = 1, coverage = 0.00909090909090909, confidence = 1.0, lift = 1.9642857142857144, natoms = 7)\n",
       " (ninstances = 110, ncovered = 1, coverage = 0.00909090909090909, confidence = 1.0, lift = 2.037037037037037, natoms = 6)\n",
       " (ninstances = 110, ncovered = 14, coverage = 0.12727272727272726, confidence = 0.9285714285714286, lift = 1.8915343915343916, natoms = 5)\n",
       " (ninstances = 110, ncovered = 1, coverage = 0.00909090909090909, confidence = 1.0, lift = 1.9642857142857144, natoms = 5)\n",
       " (ninstances = 110, ncovered = 1, coverage = 0.00909090909090909, confidence = 1.0, lift = 2.037037037037037, natoms = 3)\n",
       " (ninstances = 110, ncovered = 1, coverage = 0.00909090909090909, confidence = 1.0, lift = 2.037037037037037, natoms = 6)\n",
       " (ninstances = 110, ncovered = 45, coverage = 0.4090909090909091, confidence = 0.9333333333333333, lift = 1.8333333333333335, natoms = 6)\n",
       " (ninstances = 110, ncovered = 1, coverage = 0.00909090909090909, confidence = 1.0, lift = 1.9642857142857144, natoms = 7)\n",
       " (ninstances = 110, ncovered = 1, coverage = 0.00909090909090909, confidence = 1.0, lift = 1.9642857142857144, natoms = 7)\n",
       " (ninstances = 110, ncovered = 3, coverage = 0.02727272727272727, confidence = 1.0, lift = 1.9642857142857144, natoms = 5)\n",
       " (ninstances = 110, ncovered = 5, coverage = 0.045454545454545456, confidence = 1.0, lift = 2.037037037037037, natoms = 4)\n",
       " (ninstances = 110, ncovered = 1, coverage = 0.00909090909090909, confidence = 1.0, lift = 2.037037037037037, natoms = 5)\n",
       " (ninstances = 110, ncovered = 19, coverage = 0.17272727272727273, confidence = 1.0, lift = 2.037037037037037, natoms = 2)"
      ]
     },
     "metadata": {},
     "output_type": "display_data"
    }
   ],
   "source": [
    "readmetrics.(listrules(sole_dt; min_lift=1.0, min_ninstances = 0))"
   ]
  },
  {
   "cell_type": "markdown",
   "metadata": {},
   "source": [
    "### Show rules with an additional metric (syntax height of the rule's antecedent)"
   ]
  },
  {
   "cell_type": "code",
   "execution_count": 10,
   "metadata": {},
   "outputs": [
    {
     "name": "stdout",
     "output_type": "stream",
     "text": [
      "\u001b[34m▣\u001b[0m (\u001b[1m\u001b[33mmin(mel5=711Hz)\u001b[0m \u001b[1m<\u001b[0m\u001b[0m -3.8398306837298675) ∧ (\u001b[1m\u001b[36mmax(cntrd)\u001b[0m \u001b[1m<\u001b[0m\u001b[0m 1064.6875266452453) ∧ (\u001b[1m\u001b[36mmean(flatn)\u001b[0m \u001b[1m≥\u001b[0m\u001b[0m 0.005785640626093488) ∧ (\u001b[1m\u001b[33mmin(mel14=3366Hz)\u001b[0m \u001b[1m≥\u001b[0m\u001b[0m -5.871457993702041) ∧ (\u001b[1m\u001b[33mmin(mel8=1194Hz)\u001b[0m \u001b[1m≥\u001b[0m\u001b[0m -4.0288742621675295)  ↣  Healthy : (ninstances = 110, ncovered = 1, coverage = 0.00909090909090909, confidence = 1.0, lift = 1.9642857142857144, natoms = 5, height = 4)\n",
      "\u001b[34m▣\u001b[0m (\u001b[1m\u001b[33mmin(mel5=711Hz)\u001b[0m \u001b[1m<\u001b[0m\u001b[0m -3.8398306837298675) ∧ (\u001b[1m\u001b[36mmax(cntrd)\u001b[0m \u001b[1m<\u001b[0m\u001b[0m 1064.6875266452453) ∧ (\u001b[1m\u001b[36mmean(flatn)\u001b[0m \u001b[1m≥\u001b[0m\u001b[0m 0.005785640626093488) ∧ (\u001b[1m\u001b[33mmin(mel14=3366Hz)\u001b[0m \u001b[1m<\u001b[0m\u001b[0m -5.871457993702041) ∧ (\u001b[1m\u001b[36m3ac(decrs)\u001b[0m \u001b[1m<\u001b[0m\u001b[0m 0.029569046870084936) ∧ (\u001b[1m\u001b[36mmax(rllff)\u001b[0m \u001b[1m≥\u001b[0m\u001b[0m 2734.375) ∧ (\u001b[1m\u001b[33mstd(mel7=1005Hz)\u001b[0m \u001b[1m<\u001b[0m\u001b[0m 0.5570114664467685)  ↣  Healthy : (ninstances = 110, ncovered = 1, coverage = 0.00909090909090909, confidence = 1.0, lift = 1.9642857142857144, natoms = 7, height = 6)\n",
      "\u001b[34m▣\u001b[0m (\u001b[1m\u001b[33mmin(mel5=711Hz)\u001b[0m \u001b[1m<\u001b[0m\u001b[0m -3.8398306837298675) ∧ (\u001b[1m\u001b[36mmax(cntrd)\u001b[0m \u001b[1m≥\u001b[0m\u001b[0m 1064.6875266452453) ∧ (\u001b[1m\u001b[33mmin(mel13=2832Hz)\u001b[0m \u001b[1m≥\u001b[0m\u001b[0m -8.151272401821737) ∧ (\u001b[1m\u001b[33mmin(mel1=357Hz)\u001b[0m \u001b[1m<\u001b[0m\u001b[0m -3.7087625772680517) ∧ (\u001b[1m\u001b[33mstd(mel10=1687Hz)\u001b[0m \u001b[1m≥\u001b[0m\u001b[0m 0.11216417602580012) ∧ (\u001b[1m\u001b[36mmin(entrp)\u001b[0m \u001b[1m≥\u001b[0m\u001b[0m 0.628378355023854) ∧ (\u001b[1m\u001b[33mqnt(mel4=599Hz)\u001b[0m \u001b[1m≥\u001b[0m\u001b[0m 2.032755037076765)  ↣  Healthy : (ninstances = 110, ncovered = 1, coverage = 0.00909090909090909, confidence = 1.0, lift = 1.9642857142857144, natoms = 7, height = 6)\n",
      "\u001b[34m▣\u001b[0m (\u001b[1m\u001b[33mmin(mel5=711Hz)\u001b[0m \u001b[1m<\u001b[0m\u001b[0m -3.8398306837298675) ∧ (\u001b[1m\u001b[36mmax(cntrd)\u001b[0m \u001b[1m≥\u001b[0m\u001b[0m 1064.6875266452453) ∧ (\u001b[1m\u001b[33mmin(mel13=2832Hz)\u001b[0m \u001b[1m≥\u001b[0m\u001b[0m -8.151272401821737) ∧ (\u001b[1m\u001b[33mmin(mel1=357Hz)\u001b[0m \u001b[1m≥\u001b[0m\u001b[0m -3.7087625772680517) ∧ (\u001b[1m\u001b[33mmin(mel8=1194Hz)\u001b[0m \u001b[1m<\u001b[0m\u001b[0m -4.267731513036928) ∧ (\u001b[1m\u001b[36mmin(crest)\u001b[0m \u001b[1m<\u001b[0m\u001b[0m 11.979127736667444) ∧ (\u001b[1m\u001b[33mbsm(mel12=2383Hz)\u001b[0m \u001b[1m≥\u001b[0m\u001b[0m 4.5)  ↣  Healthy : (ninstances = 110, ncovered = 1, coverage = 0.00909090909090909, confidence = 1.0, lift = 1.9642857142857144, natoms = 7, height = 6)\n",
      "\u001b[34m▣\u001b[0m (\u001b[1m\u001b[33mmin(mel5=711Hz)\u001b[0m \u001b[1m<\u001b[0m\u001b[0m -3.8398306837298675) ∧ (\u001b[1m\u001b[36mmax(cntrd)\u001b[0m \u001b[1m≥\u001b[0m\u001b[0m 1064.6875266452453) ∧ (\u001b[1m\u001b[33mmin(mel13=2832Hz)\u001b[0m \u001b[1m<\u001b[0m\u001b[0m -8.151272401821737)  ↣  COPD : (ninstances = 110, ncovered = 1, coverage = 0.00909090909090909, confidence = 1.0, lift = 2.037037037037037, natoms = 3, height = 2)\n",
      "\u001b[34m▣\u001b[0m (\u001b[1m\u001b[33mmin(mel5=711Hz)\u001b[0m \u001b[1m≥\u001b[0m\u001b[0m -3.8398306837298675) ∧ (\u001b[1m\u001b[33mmean(mel12=2383Hz)\u001b[0m \u001b[1m<\u001b[0m\u001b[0m -4.165102195480727) ∧ (\u001b[1m\u001b[33mmax(mel9=1419Hz)\u001b[0m \u001b[1m<\u001b[0m\u001b[0m -2.058199471632956) ∧ (\u001b[1m\u001b[33mstd(mel1=357Hz)\u001b[0m \u001b[1m≥\u001b[0m\u001b[0m 0.609499448210024) ∧ (\u001b[1m\u001b[36mmin(entrp)\u001b[0m \u001b[1m<\u001b[0m\u001b[0m 0.42232835389692724)  ↣  COPD : (ninstances = 110, ncovered = 1, coverage = 0.00909090909090909, confidence = 1.0, lift = 2.037037037037037, natoms = 5, height = 4)\n",
      "\u001b[34m▣\u001b[0m (\u001b[1m\u001b[33mmin(mel5=711Hz)\u001b[0m \u001b[1m<\u001b[0m\u001b[0m -3.8398306837298675) ∧ (\u001b[1m\u001b[36mmax(cntrd)\u001b[0m \u001b[1m<\u001b[0m\u001b[0m 1064.6875266452453) ∧ (\u001b[1m\u001b[36mmean(flatn)\u001b[0m \u001b[1m≥\u001b[0m\u001b[0m 0.005785640626093488) ∧ (\u001b[1m\u001b[33mmin(mel14=3366Hz)\u001b[0m \u001b[1m<\u001b[0m\u001b[0m -5.871457993702041) ∧ (\u001b[1m\u001b[36m3ac(decrs)\u001b[0m \u001b[1m≥\u001b[0m\u001b[0m 0.029569046870084936) ∧ (\u001b[1m\u001b[33mmax(mel9=1419Hz)\u001b[0m \u001b[1m≥\u001b[0m\u001b[0m -4.537417154234595)  ↣  COPD : (ninstances = 110, ncovered = 1, coverage = 0.00909090909090909, confidence = 1.0, lift = 2.037037037037037, natoms = 6, height = 5)\n",
      "\u001b[34m▣\u001b[0m (\u001b[1m\u001b[33mmin(mel5=711Hz)\u001b[0m \u001b[1m<\u001b[0m\u001b[0m -3.8398306837298675) ∧ (\u001b[1m\u001b[36mmax(cntrd)\u001b[0m \u001b[1m≥\u001b[0m\u001b[0m 1064.6875266452453) ∧ (\u001b[1m\u001b[33mmin(mel13=2832Hz)\u001b[0m \u001b[1m≥\u001b[0m\u001b[0m -8.151272401821737) ∧ (\u001b[1m\u001b[33mmin(mel1=357Hz)\u001b[0m \u001b[1m<\u001b[0m\u001b[0m -3.7087625772680517) ∧ (\u001b[1m\u001b[33mstd(mel10=1687Hz)\u001b[0m \u001b[1m<\u001b[0m\u001b[0m 0.11216417602580012) ∧ (\u001b[1m\u001b[33mmean(mel8=1194Hz)\u001b[0m \u001b[1m≥\u001b[0m\u001b[0m -5.0565802010732)  ↣  COPD : (ninstances = 110, ncovered = 1, coverage = 0.00909090909090909, confidence = 1.0, lift = 2.037037037037037, natoms = 6, height = 5)\n",
      "\u001b[34m▣\u001b[0m (\u001b[1m\u001b[33mmin(mel5=711Hz)\u001b[0m \u001b[1m<\u001b[0m\u001b[0m -3.8398306837298675) ∧ (\u001b[1m\u001b[36mmax(cntrd)\u001b[0m \u001b[1m≥\u001b[0m\u001b[0m 1064.6875266452453) ∧ (\u001b[1m\u001b[33mmin(mel13=2832Hz)\u001b[0m \u001b[1m≥\u001b[0m\u001b[0m -8.151272401821737) ∧ (\u001b[1m\u001b[33mmin(mel1=357Hz)\u001b[0m \u001b[1m≥\u001b[0m\u001b[0m -3.7087625772680517) ∧ (\u001b[1m\u001b[33mmin(mel8=1194Hz)\u001b[0m \u001b[1m≥\u001b[0m\u001b[0m -4.267731513036928)  ↣  Healthy : (ninstances = 110, ncovered = 3, coverage = 0.02727272727272727, confidence = 1.0, lift = 1.9642857142857144, natoms = 5, height = 4)\n",
      "\u001b[34m▣\u001b[0m (\u001b[1m\u001b[33mmin(mel5=711Hz)\u001b[0m \u001b[1m<\u001b[0m\u001b[0m -3.8398306837298675) ∧ (\u001b[1m\u001b[36mmax(cntrd)\u001b[0m \u001b[1m<\u001b[0m\u001b[0m 1064.6875266452453) ∧ (\u001b[1m\u001b[36mmean(flatn)\u001b[0m \u001b[1m≥\u001b[0m\u001b[0m 0.005785640626093488) ∧ (\u001b[1m\u001b[33mmin(mel14=3366Hz)\u001b[0m \u001b[1m<\u001b[0m\u001b[0m -5.871457993702041) ∧ (\u001b[1m\u001b[36m3ac(decrs)\u001b[0m \u001b[1m<\u001b[0m\u001b[0m 0.029569046870084936) ∧ (\u001b[1m\u001b[36mmax(rllff)\u001b[0m \u001b[1m<\u001b[0m\u001b[0m 2734.375)  ↣  Healthy : (ninstances = 110, ncovered = 5, coverage = 0.045454545454545456, confidence = 0.6, lift = 1.1785714285714286, natoms = 6, height = 5)\n",
      "\u001b[34m▣\u001b[0m (\u001b[1m\u001b[33mmin(mel5=711Hz)\u001b[0m \u001b[1m≥\u001b[0m\u001b[0m -3.8398306837298675) ∧ (\u001b[1m\u001b[33mmean(mel12=2383Hz)\u001b[0m \u001b[1m<\u001b[0m\u001b[0m -4.165102195480727) ∧ (\u001b[1m\u001b[33mmax(mel9=1419Hz)\u001b[0m \u001b[1m<\u001b[0m\u001b[0m -2.058199471632956) ∧ (\u001b[1m\u001b[33mstd(mel1=357Hz)\u001b[0m \u001b[1m<\u001b[0m\u001b[0m 0.609499448210024)  ↣  COPD : (ninstances = 110, ncovered = 5, coverage = 0.045454545454545456, confidence = 1.0, lift = 2.037037037037037, natoms = 4, height = 3)\n",
      "\u001b[34m▣\u001b[0m (\u001b[1m\u001b[33mmin(mel5=711Hz)\u001b[0m \u001b[1m<\u001b[0m\u001b[0m -3.8398306837298675) ∧ (\u001b[1m\u001b[36mmax(cntrd)\u001b[0m \u001b[1m<\u001b[0m\u001b[0m 1064.6875266452453) ∧ (\u001b[1m\u001b[36mmean(flatn)\u001b[0m \u001b[1m<\u001b[0m\u001b[0m 0.005785640626093488)  ↣  COPD : (ninstances = 110, ncovered = 6, coverage = 0.05454545454545454, confidence = 1.0, lift = 2.037037037037037, natoms = 3, height = 2)\n",
      "\u001b[34m▣\u001b[0m (\u001b[1m\u001b[33mmin(mel5=711Hz)\u001b[0m \u001b[1m<\u001b[0m\u001b[0m -3.8398306837298675) ∧ (\u001b[1m\u001b[36mmax(cntrd)\u001b[0m \u001b[1m<\u001b[0m\u001b[0m 1064.6875266452453) ∧ (\u001b[1m\u001b[36mmean(flatn)\u001b[0m \u001b[1m≥\u001b[0m\u001b[0m 0.005785640626093488) ∧ (\u001b[1m\u001b[33mmin(mel14=3366Hz)\u001b[0m \u001b[1m≥\u001b[0m\u001b[0m -5.871457993702041) ∧ (\u001b[1m\u001b[33mmin(mel8=1194Hz)\u001b[0m \u001b[1m<\u001b[0m\u001b[0m -4.0288742621675295)  ↣  COPD : (ninstances = 110, ncovered = 14, coverage = 0.12727272727272726, confidence = 0.9285714285714286, lift = 1.8915343915343916, natoms = 5, height = 4)\n",
      "\u001b[34m▣\u001b[0m (\u001b[1m\u001b[33mmin(mel5=711Hz)\u001b[0m \u001b[1m≥\u001b[0m\u001b[0m -3.8398306837298675) ∧ (\u001b[1m\u001b[33mmean(mel12=2383Hz)\u001b[0m \u001b[1m≥\u001b[0m\u001b[0m -4.165102195480727)  ↣  COPD : (ninstances = 110, ncovered = 19, coverage = 0.17272727272727273, confidence = 1.0, lift = 2.037037037037037, natoms = 2, height = 1)\n",
      "\u001b[34m▣\u001b[0m (\u001b[1m\u001b[33mmin(mel5=711Hz)\u001b[0m \u001b[1m<\u001b[0m\u001b[0m -3.8398306837298675) ∧ (\u001b[1m\u001b[36mmax(cntrd)\u001b[0m \u001b[1m≥\u001b[0m\u001b[0m 1064.6875266452453) ∧ (\u001b[1m\u001b[33mmin(mel13=2832Hz)\u001b[0m \u001b[1m≥\u001b[0m\u001b[0m -8.151272401821737) ∧ (\u001b[1m\u001b[33mmin(mel1=357Hz)\u001b[0m \u001b[1m<\u001b[0m\u001b[0m -3.7087625772680517) ∧ (\u001b[1m\u001b[33mstd(mel10=1687Hz)\u001b[0m \u001b[1m≥\u001b[0m\u001b[0m 0.11216417602580012) ∧ (\u001b[1m\u001b[36mmin(entrp)\u001b[0m \u001b[1m<\u001b[0m\u001b[0m 0.628378355023854)  ↣  Healthy : (ninstances = 110, ncovered = 45, coverage = 0.4090909090909091, confidence = 0.9333333333333333, lift = 1.8333333333333335, natoms = 6, height = 5)\n"
     ]
    }
   ],
   "source": [
    "printmodel.(sort(interesting_rules, by = readmetrics); show_metrics = (; round_digits = nothing, additional_metrics = (; height = r->SoleLogics.height(antecedent(r)))), variable_names_map = variable_names);"
   ]
  },
  {
   "cell_type": "markdown",
   "metadata": {},
   "source": [
    "### Pretty table of rules and their metrics"
   ]
  },
  {
   "cell_type": "code",
   "execution_count": 11,
   "metadata": {},
   "outputs": [
    {
     "name": "stdout",
     "output_type": "stream",
     "text": [
      "┌─────────────────────────────────────────────────────────────────────────────────────────────────────────────────────────────────────────────────────────────────────────────────────────────────────────────────────────────────────────────────────────────────────────────────────────┬────────────┬────────────┬──────────┬────────────┬────────────┬─────────┬────────┬────────┐\n",
      "│\u001b[33;1m                                                                                                                                                                                                                                                                              Antecedent \u001b[0m│\u001b[33;1m Consequent \u001b[0m│\u001b[33;1m ninstances \u001b[0m│\u001b[33;1m ncovered \u001b[0m│\u001b[33;1m   coverage \u001b[0m│\u001b[33;1m confidence \u001b[0m│\u001b[33;1m    lift \u001b[0m│\u001b[33;1m natoms \u001b[0m│\u001b[33;1m height \u001b[0m│\n",
      "├─────────────────────────────────────────────────────────────────────────────────────────────────────────────────────────────────────────────────────────────────────────────────────────────────────────────────────────────────────────────────────────────────────────────────────────┼────────────┼────────────┼──────────┼────────────┼────────────┼─────────┼────────┼────────┤\n",
      "│                                                                                                                                                                      (\u001b[1m\u001b[33mmin(mel5=711Hz)\u001b[0m \u001b[1m<\u001b[0m\u001b[0m -3.8398306837298675) ∧ (\u001b[1m\u001b[36mmax(cntrd)\u001b[0m \u001b[1m<\u001b[0m\u001b[0m 1064.6875266452453) ∧ (\u001b[1m\u001b[36mmean(flatn)\u001b[0m \u001b[1m<\u001b[0m\u001b[0m 0.005785640626093488)\u001b[0m │       COPD │        110 │        6 │  0.0545455 │        1.0 │ 2.03704 │      3 │      2 │\n",
      "│                                                           (\u001b[1m\u001b[33mmin(mel5=711Hz)\u001b[0m \u001b[1m<\u001b[0m\u001b[0m -3.8398306837298675) ∧ (\u001b[1m\u001b[36mmax(cntrd)\u001b[0m \u001b[1m<\u001b[0m\u001b[0m 1064.6875266452453) ∧ (\u001b[1m\u001b[36mmean(flatn)\u001b[0m \u001b[1m≥\u001b[0m\u001b[0m 0.005785640626093488) ∧ (\u001b[1m\u001b[33mmin(mel14=3366Hz)\u001b[0m \u001b[1m<\u001b[0m\u001b[0m -5.871457993702041) ∧ (\u001b[1m\u001b[36m3ac(decrs)\u001b[0m \u001b[1m<\u001b[0m\u001b[0m 0.029569046870084936) ∧ (\u001b[1m\u001b[36mmax(rllff)\u001b[0m \u001b[1m<\u001b[0m\u001b[0m 2734.375)\u001b[0m │    Healthy │        110 │        5 │  0.0454545 │        0.6 │ 1.17857 │      6 │      5 │\n",
      "│                 (\u001b[1m\u001b[33mmin(mel5=711Hz)\u001b[0m \u001b[1m<\u001b[0m\u001b[0m -3.8398306837298675) ∧ (\u001b[1m\u001b[36mmax(cntrd)\u001b[0m \u001b[1m<\u001b[0m\u001b[0m 1064.6875266452453) ∧ (\u001b[1m\u001b[36mmean(flatn)\u001b[0m \u001b[1m≥\u001b[0m\u001b[0m 0.005785640626093488) ∧ (\u001b[1m\u001b[33mmin(mel14=3366Hz)\u001b[0m \u001b[1m<\u001b[0m\u001b[0m -5.871457993702041) ∧ (\u001b[1m\u001b[36m3ac(decrs)\u001b[0m \u001b[1m<\u001b[0m\u001b[0m 0.029569046870084936) ∧ (\u001b[1m\u001b[36mmax(rllff)\u001b[0m \u001b[1m≥\u001b[0m\u001b[0m 2734.375) ∧ (\u001b[1m\u001b[33mstd(mel7=1005Hz)\u001b[0m \u001b[1m<\u001b[0m\u001b[0m 0.5570114664467685)\u001b[0m │    Healthy │        110 │        1 │ 0.00909091 │        1.0 │ 1.96429 │      7 │      6 │\n",
      "│                                           (\u001b[1m\u001b[33mmin(mel5=711Hz)\u001b[0m \u001b[1m<\u001b[0m\u001b[0m -3.8398306837298675) ∧ (\u001b[1m\u001b[36mmax(cntrd)\u001b[0m \u001b[1m<\u001b[0m\u001b[0m 1064.6875266452453) ∧ (\u001b[1m\u001b[36mmean(flatn)\u001b[0m \u001b[1m≥\u001b[0m\u001b[0m 0.005785640626093488) ∧ (\u001b[1m\u001b[33mmin(mel14=3366Hz)\u001b[0m \u001b[1m<\u001b[0m\u001b[0m -5.871457993702041) ∧ (\u001b[1m\u001b[36m3ac(decrs)\u001b[0m \u001b[1m≥\u001b[0m\u001b[0m 0.029569046870084936) ∧ (\u001b[1m\u001b[33mmax(mel9=1419Hz)\u001b[0m \u001b[1m≥\u001b[0m\u001b[0m -4.537417154234595)\u001b[0m │       COPD │        110 │        1 │ 0.00909091 │        1.0 │ 2.03704 │      6 │      5 │\n",
      "│                                                                                (\u001b[1m\u001b[33mmin(mel5=711Hz)\u001b[0m \u001b[1m<\u001b[0m\u001b[0m -3.8398306837298675) ∧ (\u001b[1m\u001b[36mmax(cntrd)\u001b[0m \u001b[1m<\u001b[0m\u001b[0m 1064.6875266452453) ∧ (\u001b[1m\u001b[36mmean(flatn)\u001b[0m \u001b[1m≥\u001b[0m\u001b[0m 0.005785640626093488) ∧ (\u001b[1m\u001b[33mmin(mel14=3366Hz)\u001b[0m \u001b[1m≥\u001b[0m\u001b[0m -5.871457993702041) ∧ (\u001b[1m\u001b[33mmin(mel8=1194Hz)\u001b[0m \u001b[1m<\u001b[0m\u001b[0m -4.0288742621675295)\u001b[0m │       COPD │        110 │       14 │   0.127273 │   0.928571 │ 1.89153 │      5 │      4 │\n",
      "│                                                                                (\u001b[1m\u001b[33mmin(mel5=711Hz)\u001b[0m \u001b[1m<\u001b[0m\u001b[0m -3.8398306837298675) ∧ (\u001b[1m\u001b[36mmax(cntrd)\u001b[0m \u001b[1m<\u001b[0m\u001b[0m 1064.6875266452453) ∧ (\u001b[1m\u001b[36mmean(flatn)\u001b[0m \u001b[1m≥\u001b[0m\u001b[0m 0.005785640626093488) ∧ (\u001b[1m\u001b[33mmin(mel14=3366Hz)\u001b[0m \u001b[1m≥\u001b[0m\u001b[0m -5.871457993702041) ∧ (\u001b[1m\u001b[33mmin(mel8=1194Hz)\u001b[0m \u001b[1m≥\u001b[0m\u001b[0m -4.0288742621675295)\u001b[0m │    Healthy │        110 │        1 │ 0.00909091 │        1.0 │ 1.96429 │      5 │      4 │\n",
      "│                                                                                                                                                                  (\u001b[1m\u001b[33mmin(mel5=711Hz)\u001b[0m \u001b[1m<\u001b[0m\u001b[0m -3.8398306837298675) ∧ (\u001b[1m\u001b[36mmax(cntrd)\u001b[0m \u001b[1m≥\u001b[0m\u001b[0m 1064.6875266452453) ∧ (\u001b[1m\u001b[33mmin(mel13=2832Hz)\u001b[0m \u001b[1m<\u001b[0m\u001b[0m -8.151272401821737)\u001b[0m │       COPD │        110 │        1 │ 0.00909091 │        1.0 │ 2.03704 │      3 │      2 │\n",
      "│                                   (\u001b[1m\u001b[33mmin(mel5=711Hz)\u001b[0m \u001b[1m<\u001b[0m\u001b[0m -3.8398306837298675) ∧ (\u001b[1m\u001b[36mmax(cntrd)\u001b[0m \u001b[1m≥\u001b[0m\u001b[0m 1064.6875266452453) ∧ (\u001b[1m\u001b[33mmin(mel13=2832Hz)\u001b[0m \u001b[1m≥\u001b[0m\u001b[0m -8.151272401821737) ∧ (\u001b[1m\u001b[33mmin(mel1=357Hz)\u001b[0m \u001b[1m<\u001b[0m\u001b[0m -3.7087625772680517) ∧ (\u001b[1m\u001b[33mstd(mel10=1687Hz)\u001b[0m \u001b[1m<\u001b[0m\u001b[0m 0.11216417602580012) ∧ (\u001b[1m\u001b[33mmean(mel8=1194Hz)\u001b[0m \u001b[1m≥\u001b[0m\u001b[0m -5.0565802010732)\u001b[0m │       COPD │        110 │        1 │ 0.00909091 │        1.0 │ 2.03704 │      6 │      5 │\n",
      "│                                         (\u001b[1m\u001b[33mmin(mel5=711Hz)\u001b[0m \u001b[1m<\u001b[0m\u001b[0m -3.8398306837298675) ∧ (\u001b[1m\u001b[36mmax(cntrd)\u001b[0m \u001b[1m≥\u001b[0m\u001b[0m 1064.6875266452453) ∧ (\u001b[1m\u001b[33mmin(mel13=2832Hz)\u001b[0m \u001b[1m≥\u001b[0m\u001b[0m -8.151272401821737) ∧ (\u001b[1m\u001b[33mmin(mel1=357Hz)\u001b[0m \u001b[1m<\u001b[0m\u001b[0m -3.7087625772680517) ∧ (\u001b[1m\u001b[33mstd(mel10=1687Hz)\u001b[0m \u001b[1m≥\u001b[0m\u001b[0m 0.11216417602580012) ∧ (\u001b[1m\u001b[36mmin(entrp)\u001b[0m \u001b[1m<\u001b[0m\u001b[0m 0.628378355023854)\u001b[0m │    Healthy │        110 │       45 │   0.409091 │   0.933333 │ 1.83333 │      6 │      5 │\n",
      "│ (\u001b[1m\u001b[33mmin(mel5=711Hz)\u001b[0m \u001b[1m<\u001b[0m\u001b[0m -3.8398306837298675) ∧ (\u001b[1m\u001b[36mmax(cntrd)\u001b[0m \u001b[1m≥\u001b[0m\u001b[0m 1064.6875266452453) ∧ (\u001b[1m\u001b[33mmin(mel13=2832Hz)\u001b[0m \u001b[1m≥\u001b[0m\u001b[0m -8.151272401821737) ∧ (\u001b[1m\u001b[33mmin(mel1=357Hz)\u001b[0m \u001b[1m<\u001b[0m\u001b[0m -3.7087625772680517) ∧ (\u001b[1m\u001b[33mstd(mel10=1687Hz)\u001b[0m \u001b[1m≥\u001b[0m\u001b[0m 0.11216417602580012) ∧ (\u001b[1m\u001b[36mmin(entrp)\u001b[0m \u001b[1m≥\u001b[0m\u001b[0m 0.628378355023854) ∧ (\u001b[1m\u001b[33mqnt(mel4=599Hz)\u001b[0m \u001b[1m≥\u001b[0m\u001b[0m 2.032755037076765)\u001b[0m │    Healthy │        110 │        1 │ 0.00909091 │        1.0 │ 1.96429 │      7 │      6 │\n",
      "│              (\u001b[1m\u001b[33mmin(mel5=711Hz)\u001b[0m \u001b[1m<\u001b[0m\u001b[0m -3.8398306837298675) ∧ (\u001b[1m\u001b[36mmax(cntrd)\u001b[0m \u001b[1m≥\u001b[0m\u001b[0m 1064.6875266452453) ∧ (\u001b[1m\u001b[33mmin(mel13=2832Hz)\u001b[0m \u001b[1m≥\u001b[0m\u001b[0m -8.151272401821737) ∧ (\u001b[1m\u001b[33mmin(mel1=357Hz)\u001b[0m \u001b[1m≥\u001b[0m\u001b[0m -3.7087625772680517) ∧ (\u001b[1m\u001b[33mmin(mel8=1194Hz)\u001b[0m \u001b[1m<\u001b[0m\u001b[0m -4.267731513036928) ∧ (\u001b[1m\u001b[36mmin(crest)\u001b[0m \u001b[1m<\u001b[0m\u001b[0m 11.979127736667444) ∧ (\u001b[1m\u001b[33mbsm(mel12=2383Hz)\u001b[0m \u001b[1m≥\u001b[0m\u001b[0m 4.5)\u001b[0m │    Healthy │        110 │        1 │ 0.00909091 │        1.0 │ 1.96429 │      7 │      6 │\n",
      "│                                                                              (\u001b[1m\u001b[33mmin(mel5=711Hz)\u001b[0m \u001b[1m<\u001b[0m\u001b[0m -3.8398306837298675) ∧ (\u001b[1m\u001b[36mmax(cntrd)\u001b[0m \u001b[1m≥\u001b[0m\u001b[0m 1064.6875266452453) ∧ (\u001b[1m\u001b[33mmin(mel13=2832Hz)\u001b[0m \u001b[1m≥\u001b[0m\u001b[0m -8.151272401821737) ∧ (\u001b[1m\u001b[33mmin(mel1=357Hz)\u001b[0m \u001b[1m≥\u001b[0m\u001b[0m -3.7087625772680517) ∧ (\u001b[1m\u001b[33mmin(mel8=1194Hz)\u001b[0m \u001b[1m≥\u001b[0m\u001b[0m -4.267731513036928)\u001b[0m │    Healthy │        110 │        3 │  0.0272727 │        1.0 │ 1.96429 │      5 │      4 │\n",
      "│                                                                                                                   (\u001b[1m\u001b[33mmin(mel5=711Hz)\u001b[0m \u001b[1m≥\u001b[0m\u001b[0m -3.8398306837298675) ∧ (\u001b[1m\u001b[33mmean(mel12=2383Hz)\u001b[0m \u001b[1m<\u001b[0m\u001b[0m -4.165102195480727) ∧ (\u001b[1m\u001b[33mmax(mel9=1419Hz)\u001b[0m \u001b[1m<\u001b[0m\u001b[0m -2.058199471632956) ∧ (\u001b[1m\u001b[33mstd(mel1=357Hz)\u001b[0m \u001b[1m<\u001b[0m\u001b[0m 0.609499448210024)\u001b[0m │       COPD │        110 │        5 │  0.0454545 │        1.0 │ 2.03704 │      4 │      3 │\n",
      "│                                                                              (\u001b[1m\u001b[33mmin(mel5=711Hz)\u001b[0m \u001b[1m≥\u001b[0m\u001b[0m -3.8398306837298675) ∧ (\u001b[1m\u001b[33mmean(mel12=2383Hz)\u001b[0m \u001b[1m<\u001b[0m\u001b[0m -4.165102195480727) ∧ (\u001b[1m\u001b[33mmax(mel9=1419Hz)\u001b[0m \u001b[1m<\u001b[0m\u001b[0m -2.058199471632956) ∧ (\u001b[1m\u001b[33mstd(mel1=357Hz)\u001b[0m \u001b[1m≥\u001b[0m\u001b[0m 0.609499448210024) ∧ (\u001b[1m\u001b[36mmin(entrp)\u001b[0m \u001b[1m<\u001b[0m\u001b[0m 0.42232835389692724)\u001b[0m │       COPD │        110 │        1 │ 0.00909091 │        1.0 │ 2.03704 │      5 │      4 │\n",
      "│                                                                                                                                                                                                     (\u001b[1m\u001b[33mmin(mel5=711Hz)\u001b[0m \u001b[1m≥\u001b[0m\u001b[0m -3.8398306837298675) ∧ (\u001b[1m\u001b[33mmean(mel12=2383Hz)\u001b[0m \u001b[1m≥\u001b[0m\u001b[0m -4.165102195480727)\u001b[0m │       COPD │        110 │       19 │   0.172727 │        1.0 │ 2.03704 │      2 │      1 │\n",
      "└─────────────────────────────────────────────────────────────────────────────────────────────────────────────────────────────────────────────────────────────────────────────────────────────────────────────────────────────────────────────────────────────────────────────────────────┴────────────┴────────────┴──────────┴────────────┴────────────┴─────────┴────────┴────────┘\n"
     ]
    }
   ],
   "source": [
    "metricstable(interesting_rules; variable_names_map = variable_names, metrics_kwargs = (; round_digits = nothing, additional_metrics = (; height = r->SoleLogics.height(antecedent(r)))))"
   ]
  },
  {
   "cell_type": "markdown",
   "metadata": {},
   "source": [
    "# Inspect features"
   ]
  },
  {
   "cell_type": "code",
   "execution_count": 12,
   "metadata": {},
   "outputs": [
    {
     "name": "stdout",
     "output_type": "stream",
     "text": [
      "\u001b[34m▣\u001b[0m (\u001b[1m\u001b[33mmin(mel5=711Hz)\u001b[0m \u001b[1m<\u001b[0m\u001b[0m -3.84) ∧ (\u001b[1m\u001b[36mmax(cntrd)\u001b[0m \u001b[1m<\u001b[0m\u001b[0m 1064.69) ∧ (\u001b[1m\u001b[36mmean(flatn)\u001b[0m \u001b[1m≥\u001b[0m\u001b[0m 0.01) ∧ (\u001b[1m\u001b[33mmin(mel14=3366Hz)\u001b[0m \u001b[1m≥\u001b[0m\u001b[0m -5.87) ∧ (\u001b[1m\u001b[33mmin(mel8=1194Hz)\u001b[0m \u001b[1m<\u001b[0m\u001b[0m -4.03)  ↣  COPD : (ninstances = 110, ncovered = 14, coverage = 0.13, confidence = 0.93, lift = 1.89, natoms = 5)\n",
      "\u001b[34m▣\u001b[0m (\u001b[1m\u001b[33mmin(mel5=711Hz)\u001b[0m \u001b[1m<\u001b[0m\u001b[0m -3.84) ∧ (\u001b[1m\u001b[36mmax(cntrd)\u001b[0m \u001b[1m≥\u001b[0m\u001b[0m 1064.69) ∧ (\u001b[1m\u001b[33mmin(mel13=2832Hz)\u001b[0m \u001b[1m≥\u001b[0m\u001b[0m -8.15) ∧ (\u001b[1m\u001b[33mmin(mel1=357Hz)\u001b[0m \u001b[1m<\u001b[0m\u001b[0m -3.71) ∧ (\u001b[1m\u001b[33mstd(mel10=1687Hz)\u001b[0m \u001b[1m≥\u001b[0m\u001b[0m 0.11) ∧ (\u001b[1m\u001b[36mmin(entrp)\u001b[0m \u001b[1m<\u001b[0m\u001b[0m 0.63)  ↣  Healthy : (ninstances = 110, ncovered = 45, coverage = 0.41, confidence = 0.93, lift = 1.83, natoms = 6)\n",
      "\u001b[34m▣\u001b[0m (\u001b[1m\u001b[33mmin(mel5=711Hz)\u001b[0m \u001b[1m≥\u001b[0m\u001b[0m -3.84) ∧ (\u001b[1m\u001b[33mmean(mel12=2383Hz)\u001b[0m \u001b[1m≥\u001b[0m\u001b[0m -4.17)  ↣  COPD : (ninstances = 110, ncovered = 19, coverage = 0.17, confidence = 1.0, lift = 2.04, natoms = 2)\n"
     ]
    }
   ],
   "source": [
    "interesting_rules = listrules(sole_dt,\n",
    "\tmin_lift = 1.0,\n",
    "\t# min_lift = 2.0,\n",
    "\tmin_ninstances = 0,\n",
    "\tmin_coverage = 0.10,\n",
    "\tnormalize = true,\n",
    ");\n",
    "map(r->(consequent(r), readmetrics(r)), interesting_rules)\n",
    "printmodel.(interesting_rules; show_metrics = true, syntaxstring_kwargs = (; threshold_digits = 2), variable_names_map=variable_names);"
   ]
  },
  {
   "cell_type": "code",
   "execution_count": 13,
   "metadata": {},
   "outputs": [
    {
     "data": {
      "text/plain": [
       "10-element Vector{Symbol}:\n",
       " Symbol(\"max(cntrd)\")\n",
       " Symbol(\"mean(flatn)\")\n",
       " Symbol(\"mean(mel12=2383Hz)\")\n",
       " Symbol(\"min(entrp)\")\n",
       " Symbol(\"min(mel13=2832Hz)\")\n",
       " Symbol(\"min(mel14=3366Hz)\")\n",
       " Symbol(\"min(mel1=357Hz)\")\n",
       " Symbol(\"min(mel5=711Hz)\")\n",
       " Symbol(\"min(mel8=1194Hz)\")\n",
       " Symbol(\"std(mel10=1687Hz)\")"
      ]
     },
     "metadata": {},
     "output_type": "display_data"
    }
   ],
   "source": [
    "interesting_features = unique(SoleData.feature.(SoleLogics.value.(vcat(SoleLogics.atoms.(i.antecedent for i in interesting_rules)...))))\n",
    "interesting_variables = sort(SoleData.i_variable.(interesting_features))"
   ]
  }
 ],
 "metadata": {
  "kernelspec": {
   "display_name": "Julia 1.10.5",
   "language": "julia",
   "name": "julia-1.10"
  },
  "language_info": {
   "file_extension": ".jl",
   "mimetype": "application/julia",
   "name": "julia",
   "version": "1.10.5"
  }
 },
 "nbformat": 4,
 "nbformat_minor": 2
}
