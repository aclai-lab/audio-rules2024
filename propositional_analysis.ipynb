{
 "cells": [
  {
   "cell_type": "markdown",
   "metadata": {},
   "source": [
    "# ItaData2024\n",
    "\n",
    "## Pneumonia\n",
    "\n",
    "propositional analysis"
   ]
  },
  {
   "cell_type": "code",
   "execution_count": 1,
   "metadata": {},
   "outputs": [
    {
     "name": "stderr",
     "output_type": "stream",
     "text": [
      "\u001b[32m\u001b[1m  Activating\u001b[22m\u001b[39m project at `~/Documents/Aclai/audio-rules2024`\n"
     ]
    }
   ],
   "source": [
    "using Pkg\n",
    "Pkg.activate(\".\")\n",
    "using MLJ, ModalDecisionTrees\n",
    "using SoleDecisionTreeInterface, Sole, SoleData\n",
    "using CategoricalArrays\n",
    "using DataFrames, JLD2, CSV\n",
    "using Audio911\n",
    "using Random\n",
    "using StatsBase, Catch22\n",
    "using Test\n",
    "using Plots"
   ]
  },
  {
   "cell_type": "markdown",
   "metadata": {},
   "source": [
    "### Settings"
   ]
  },
  {
   "cell_type": "code",
   "execution_count": 2,
   "metadata": {},
   "outputs": [],
   "source": [
    "experiment = :Pneumonia\n",
    "# experiment = :Bronchiectasis\n",
    "# experiment = :COPD\n",
    "# experiment = :URTI\n",
    "# experiment = :Bronchiolitis\n",
    "\n",
    "features = :catch9\n",
    "# features = :minmax\n",
    "# features = :custom\n",
    "\n",
    "# loadset = false\n",
    "loadset = true\n",
    "\n",
    "scale = :semitones\n",
    "# scale = :mel_htk\n",
    "\n",
    "sr = 8000\n",
    "\n",
    "featset = ()\n",
    "# featset = (:mfcc,)\n",
    "# featset = (:f0,)\n",
    "# featset = (:mfcc, :f0)\n",
    "\n",
    "audioparams = (\n",
    "    sr = sr,\n",
    "    nfft = 512,\n",
    "    mel_scale = scale, # :mel_htk, :mel_slaney, :erb, :bark, :semitones, :tuned_semitones\n",
    "    mel_nbands = scale == :semitones ? 14 : 26,\n",
    "    mfcc_ncoeffs = scale == :semitones ? 7 : 13,\n",
    "    mel_freqrange = (300, round(Int, sr / 2)),\n",
    "    mel_dbscale = :mfcc in featset ? false : true,\n",
    "    audio_norm = true,\n",
    ")\n",
    "\n",
    "memguard = false;\n",
    "# memguard = true;\n",
    "n_elems = 15;\n",
    "\n",
    "avail_exp = [:Pneumonia, :Bronchiectasis, :COPD, :URTI, :Bronchiolitis]\n",
    "\n",
    "@assert experiment in avail_exp \"Unknown type of experiment: $experiment.\"\n",
    "\n",
    "findhealthy = y -> findall(x -> x == \"Healthy\", y)\n",
    "ds_path = \"/datasets/respiratory_Healthy_\" * String(experiment)\n",
    "findsick = y -> findall(x -> x == String(experiment), y)\n",
    "filename = \"/datasets/itadata2024_\" * String(experiment) * \"_files\"\n",
    "memguard && begin filename *= string(\"_memguard\") end\n",
    "\n",
    "destpath = \"results/propositional\"\n",
    "jld2file = destpath * \"/itadata2024_\" * String(experiment) * \"_\" * String(scale) * \".jld2\"\n",
    "dsfile = destpath * \"/ds_test_\" * String(experiment) * \"_\" * String(scale) * \".jld2\"\n",
    "\n",
    "color_code = Dict(:red => 31, :green => 32, :yellow => 33, :blue => 34, :magenta => 35, :cyan => 36);\n",
    "r_select = r\"\\e\\[\\d+m(.*?)\\e\\[0m\";"
   ]
  },
  {
   "cell_type": "markdown",
   "metadata": {},
   "source": [
    "### Prepare dataset for analysis"
   ]
  },
  {
   "cell_type": "code",
   "execution_count": 3,
   "metadata": {},
   "outputs": [],
   "source": [
    "d = jldopen(string((@__DIR__), ds_path, \".jld2\"))\n",
    "x, y = d[\"dataframe_validated\"]\n",
    "@assert x isa DataFrame\n",
    "close(d)\n",
    "\n",
    "memguard && begin\n",
    "    cat2 = round(Int, length(y)/2)\n",
    "    indices = [1:n_elems; cat2:cat2+n_elems-1]\n",
    "    x = x[indices, :]\n",
    "    y = y[indices]\n",
    "end\n",
    "\n",
    "freq = round.(Int, afe(x[1, :audio]; featset=(:get_only_freqs), audioparams...))\n",
    "\n",
    "catch9_f = [\"max\", \"min\", \"mean\", \"med\", \"std\", \"bsm\", \"bsd\", \"qnt\", \"3ac\"]\n",
    "variable_names = vcat([\n",
    "    vcat(\n",
    "        [\"\\e[$(color_code[:yellow])m$j(mel$i=$(freq[i])Hz)\\e[0m\" for i in 1:audioparams.mel_nbands],\n",
    "        :mfcc in featset ? [\"\\e[$(color_code[:red])m$j(mfcc$i)\\e[0m\" for i in 1:audioparams.mfcc_ncoeffs] : String[],\n",
    "        :f0 in featset ? [\"\\e[$(color_code[:green])m$j(f0)\\e[0m\"] : String[],\n",
    "        \"\\e[$(color_code[:cyan])m$j(cntrd)\\e[0m\", \"\\e[$(color_code[:cyan])m$j(crest)\\e[0m\",\n",
    "        \"\\e[$(color_code[:cyan])m$j(entrp)\\e[0m\", \"\\e[$(color_code[:cyan])m$j(flatn)\\e[0m\", \"\\e[$(color_code[:cyan])m$j(flux)\\e[0m\",\n",
    "        \"\\e[$(color_code[:cyan])m$j(kurts)\\e[0m\", \"\\e[$(color_code[:cyan])m$j(rllff)\\e[0m\", \"\\e[$(color_code[:cyan])m$j(skwns)\\e[0m\",\n",
    "        \"\\e[$(color_code[:cyan])m$j(decrs)\\e[0m\", \"\\e[$(color_code[:cyan])m$j(slope)\\e[0m\", \"\\e[$(color_code[:cyan])m$j(sprd)\\e[0m\"\n",
    "    )\n",
    "    for j in catch9_f\n",
    "]...)\n",
    "    \n",
    "catch9 = [\n",
    "    maximum,\n",
    "    minimum,\n",
    "    StatsBase.mean,\n",
    "    median,\n",
    "    std,\n",
    "    Catch22.SB_BinaryStats_mean_longstretch1,\n",
    "    Catch22.SB_BinaryStats_diff_longstretch0,\n",
    "    Catch22.SB_MotifThree_quantile_hh,\n",
    "    Catch22.SB_TransitionMatrix_3ac_sumdiagcov,\n",
    "]\n",
    "\n",
    "if !loadset\n",
    "    @info(\"Build dataset...\")\n",
    "\n",
    "    X = DataFrame([name => Float64[] for name in [match(r_select, v)[1] for v in variable_names]])\n",
    "    audiofeats = [afe(row[:audio]; featset=featset, audioparams...) for row in eachrow(x)]\n",
    "    push!(X, vcat([vcat([map(func, eachcol(row)) for func in catch9]...) for row in audiofeats])...)\n",
    "\n",
    "    yc = CategoricalArray(y);\n",
    "\n",
    "    train_ratio = 0.8\n",
    "\n",
    "    train, test = partition(eachindex(yc), train_ratio, shuffle=true)\n",
    "    X_train, y_train = X[train, :], yc[train]\n",
    "    X_test, y_test = X[test, :], yc[test]\n",
    "    save(dsfile, Dict(\"X_test\" => X_test, \"y_test\" => y_test))\n",
    "\n",
    "    println(\"Training set size: \", size(X_train), \" - \", length(y_train))\n",
    "    println(\"Test set size: \", size(X_test), \" - \", length(y_test))\n",
    "end"
   ]
  },
  {
   "cell_type": "markdown",
   "metadata": {},
   "source": [
    "### Train a model"
   ]
  },
  {
   "cell_type": "code",
   "execution_count": 4,
   "metadata": {},
   "outputs": [],
   "source": [
    "if !loadset\n",
    "    learned_dt_tree = begin\n",
    "        Tree = MLJ.@load DecisionTreeClassifier pkg=DecisionTree\n",
    "        model = Tree(max_depth=-1, )\n",
    "        mach = machine(model, X_train, y_train)\n",
    "        fit!(mach)\n",
    "        fitted_params(mach).tree\n",
    "    end\n",
    "end"
   ]
  },
  {
   "cell_type": "markdown",
   "metadata": {},
   "source": [
    "### Model inspection & rule study"
   ]
  },
  {
   "cell_type": "code",
   "execution_count": 5,
   "metadata": {},
   "outputs": [
    {
     "name": "stderr",
     "output_type": "stream",
     "text": [
      "┌ Info: Load dataset...\n",
      "└ @ Main /home/paso/Documents/Aclai/audio-rules2024/jl_notebook_cell_df34fa98e69747e1a8f8a730347b8e2f_X14sZmlsZQ==.jl:8\n"
     ]
    },
    {
     "name": "stdout",
     "output_type": "stream",
     "text": [
      "\u001b[34m▣\u001b[0m \u001b[1m\u001b[36mmax(cntrd)\u001b[0m \u001b[1m<\u001b[0m\u001b[0m 1175.142326739371\n",
      "├✔ \u001b[1m\u001b[33mmin(mel8=1194Hz)\u001b[0m \u001b[1m<\u001b[0m\u001b[0m -4.254264886244089\n",
      "│├✔ \u001b[1m\u001b[33mstd(mel13=2832Hz)\u001b[0m \u001b[1m<\u001b[0m\u001b[0m 0.12871913235095664\n",
      "││├✔ \u001b[1m\u001b[33mstd(mel9=1419Hz)\u001b[0m \u001b[1m<\u001b[0m\u001b[0m 0.27929614257337987\n",
      "│││├✔ Pneumonia : (ninstances = 28, ncovered = 28, confidence = 0.96, lift = 1.0)\n",
      "│││└✘ \u001b[1m\u001b[36mmed(cntrd)\u001b[0m \u001b[1m<\u001b[0m\u001b[0m 692.5990090205792\n",
      "│││ ├✔ \u001b[1m\u001b[33mmed(mel8=1194Hz)\u001b[0m \u001b[1m<\u001b[0m\u001b[0m -5.408287525000148\n",
      "│││ │├✔ Healthy : (ninstances = 0, ncovered = 0, confidence = NaN, lift = NaN)\n",
      "│││ │└✘ Pneumonia : (ninstances = 6, ncovered = 6, confidence = 1.0, lift = 1.0)\n",
      "│││ └✘ Healthy : (ninstances = 1, ncovered = 1, confidence = 1.0, lift = 1.0)\n",
      "││└✘ \u001b[1m\u001b[33mmin(mel11=2005Hz)\u001b[0m \u001b[1m<\u001b[0m\u001b[0m -7.039873889080836\n",
      "││ ├✔ Healthy : (ninstances = 5, ncovered = 5, confidence = 0.8, lift = 1.0)\n",
      "││ └✘ \u001b[1m\u001b[36mmin(kurts)\u001b[0m \u001b[1m<\u001b[0m\u001b[0m 5.440264768459491\n",
      "││  ├✔ \u001b[1m\u001b[36mmed(flatn)\u001b[0m \u001b[1m<\u001b[0m\u001b[0m 0.013978272288206726\n",
      "││  │├✔ Healthy : (ninstances = 2, ncovered = 2, confidence = 1.0, lift = 1.0)\n",
      "││  │└✘ \u001b[1m\u001b[33mstd(mel6=845Hz)\u001b[0m \u001b[1m<\u001b[0m\u001b[0m 0.5040328419321546\n",
      "││  │ ├✔ \u001b[1m\u001b[33mmean(mel11=2005Hz)\u001b[0m \u001b[1m<\u001b[0m\u001b[0m -5.921476625324498\n",
      "││  │ │├✔ Pneumonia : (ninstances = 0, ncovered = 0, confidence = NaN, lift = NaN)\n",
      "││  │ │└✘ Healthy : (ninstances = 2, ncovered = 2, confidence = 1.0, lift = 1.0)\n",
      "││  │ └✘ \u001b[1m\u001b[33m3ac(mel11=2005Hz)\u001b[0m \u001b[1m<\u001b[0m\u001b[0m 0.018373842592592594\n",
      "││  │  ├✔ Healthy : (ninstances = 2, ncovered = 2, confidence = 0.0, lift = NaN)\n",
      "││  │  └✘ \u001b[1m\u001b[33mstd(mel14=3366Hz)\u001b[0m \u001b[1m<\u001b[0m\u001b[0m 0.6986187045964978\n",
      "││  │   ├✔ Pneumonia : (ninstances = 2, ncovered = 2, confidence = 1.0, lift = 1.0)\n",
      "││  │   └✘ Healthy : (ninstances = 0, ncovered = 0, confidence = NaN, lift = NaN)\n",
      "││  └✘ \u001b[1m\u001b[36mqnt(entrp)\u001b[0m \u001b[1m<\u001b[0m\u001b[0m 2.159550305748949\n",
      "││   ├✔ Pneumonia : (ninstances = 6, ncovered = 6, confidence = 0.83, lift = 1.0)\n",
      "││   └✘ \u001b[1m\u001b[33mmax(mel2=424Hz)\u001b[0m \u001b[1m<\u001b[0m\u001b[0m -2.1570699708126657\n",
      "││    ├✔ Healthy : (ninstances = 0, ncovered = 0, confidence = NaN, lift = NaN)\n",
      "││    └✘ Pneumonia : (ninstances = 0, ncovered = 0, confidence = NaN, lift = NaN)\n",
      "│└✘ \u001b[1m\u001b[36mmin(sprd)\u001b[0m \u001b[1m<\u001b[0m\u001b[0m 318.63517531591276\n",
      "│ ├✔ Healthy : (ninstances = 4, ncovered = 4, confidence = 0.75, lift = 1.0)\n",
      "│ └✘ Pneumonia : (ninstances = 1, ncovered = 1, confidence = 1.0, lift = 1.0)\n",
      "└✘ \u001b[1m\u001b[36mstd(flatn)\u001b[0m \u001b[1m<\u001b[0m\u001b[0m 0.05702248013266628\n",
      " ├✔ \u001b[1m\u001b[36mmed(decrs)\u001b[0m \u001b[1m<\u001b[0m\u001b[0m -0.23021399168102558\n",
      " │├✔ \u001b[1m\u001b[36mbsd(flux)\u001b[0m \u001b[1m<\u001b[0m\u001b[0m 6.5\n",
      " ││├✔ Pneumonia : (ninstances = 7, ncovered = 7, confidence = 0.43, lift = 1.0)\n",
      " ││└✘ Healthy : (ninstances = 2, ncovered = 2, confidence = 0.5, lift = 1.0)\n",
      " │└✘ \u001b[1m\u001b[36mstd(cntrd)\u001b[0m \u001b[1m<\u001b[0m\u001b[0m 152.23591219501\n",
      " │ ├✔ \u001b[1m\u001b[36mbsm(entrp)\u001b[0m \u001b[1m<\u001b[0m\u001b[0m 6.0\n",
      " │ │├✔ Pneumonia : (ninstances = 0, ncovered = 0, confidence = NaN, lift = NaN)\n",
      " │ │└✘ Healthy : (ninstances = 1, ncovered = 1, confidence = 1.0, lift = 1.0)\n",
      " │ └✘ Healthy : (ninstances = 7, ncovered = 7, confidence = 0.86, lift = 1.0)\n",
      " └✘ Healthy : (ninstances = 25, ncovered = 25, confidence = 0.96, lift = 1.0)\n"
     ]
    }
   ],
   "source": [
    "if !loadset\n",
    "    sole_dt = solemodel(learned_dt_tree)\n",
    "    # Make test instances flow into the model, so that test metrics can, then, be computed.\n",
    "    apply!(sole_dt, X_test, y_test);\n",
    "    # Save solemodel to disk\n",
    "    save(jld2file, Dict(\"sole_dt\" => sole_dt))\n",
    "else\n",
    "    @info(\"Load dataset...\")\n",
    "    d = jldopen(dsfile)\n",
    "    X_test = d[\"X_test\"]\n",
    "    y_test = d[\"y_test\"]\n",
    "    close(d)\n",
    "    d = jldopen(jld2file)\n",
    "    sole_dt = d[\"sole_dt\"]\n",
    "    close(d)\n",
    "end\n",
    "# Print Sole model\n",
    "printmodel(sole_dt; show_metrics = true, variable_names_map = variable_names);"
   ]
  },
  {
   "cell_type": "markdown",
   "metadata": {},
   "source": [
    "### Extract rules that are at least as good as a random baseline model"
   ]
  },
  {
   "cell_type": "code",
   "execution_count": 6,
   "metadata": {},
   "outputs": [
    {
     "name": "stdout",
     "output_type": "stream",
     "text": [
      "\u001b[34m▣\u001b[0m (\u001b[1m\u001b[36mmax(cntrd)\u001b[0m \u001b[1m<\u001b[0m\u001b[0m 1175.142326739371) ∧ (\u001b[1m\u001b[33mmin(mel8=1194Hz)\u001b[0m \u001b[1m<\u001b[0m\u001b[0m -4.254264886244089) ∧ (\u001b[1m\u001b[33mstd(mel13=2832Hz)\u001b[0m \u001b[1m<\u001b[0m\u001b[0m 0.12871913235095664) ∧ (\u001b[1m\u001b[33mstd(mel9=1419Hz)\u001b[0m \u001b[1m<\u001b[0m\u001b[0m 0.27929614257337987)  ↣  Pneumonia : (ninstances = 101, ncovered = 28, coverage = 0.28, confidence = 0.96, lift = 1.91, natoms = 4)\n",
      "\u001b[34m▣\u001b[0m (\u001b[1m\u001b[36mmax(cntrd)\u001b[0m \u001b[1m<\u001b[0m\u001b[0m 1175.142326739371) ∧ (\u001b[1m\u001b[33mmin(mel8=1194Hz)\u001b[0m \u001b[1m<\u001b[0m\u001b[0m -4.254264886244089) ∧ (\u001b[1m\u001b[33mstd(mel13=2832Hz)\u001b[0m \u001b[1m<\u001b[0m\u001b[0m 0.12871913235095664) ∧ (¬(\u001b[1m\u001b[33mstd(mel9=1419Hz)\u001b[0m \u001b[1m<\u001b[0m\u001b[0m 0.27929614257337987)) ∧ (\u001b[1m\u001b[36mmed(cntrd)\u001b[0m \u001b[1m<\u001b[0m\u001b[0m 692.5990090205792) ∧ (¬(\u001b[1m\u001b[33mmed(mel8=1194Hz)\u001b[0m \u001b[1m<\u001b[0m\u001b[0m -5.408287525000148))  ↣  Pneumonia : (ninstances = 101, ncovered = 6, coverage = 0.06, confidence = 1.0, lift = 1.98, natoms = 6)\n",
      "\u001b[34m▣\u001b[0m (\u001b[1m\u001b[36mmax(cntrd)\u001b[0m \u001b[1m<\u001b[0m\u001b[0m 1175.142326739371) ∧ (\u001b[1m\u001b[33mmin(mel8=1194Hz)\u001b[0m \u001b[1m<\u001b[0m\u001b[0m -4.254264886244089) ∧ (\u001b[1m\u001b[33mstd(mel13=2832Hz)\u001b[0m \u001b[1m<\u001b[0m\u001b[0m 0.12871913235095664) ∧ (¬(\u001b[1m\u001b[33mstd(mel9=1419Hz)\u001b[0m \u001b[1m<\u001b[0m\u001b[0m 0.27929614257337987)) ∧ (¬(\u001b[1m\u001b[36mmed(cntrd)\u001b[0m \u001b[1m<\u001b[0m\u001b[0m 692.5990090205792))  ↣  Healthy : (ninstances = 101, ncovered = 1, coverage = 0.01, confidence = 1.0, lift = 2.02, natoms = 5)\n",
      "\u001b[34m▣\u001b[0m (\u001b[1m\u001b[36mmax(cntrd)\u001b[0m \u001b[1m<\u001b[0m\u001b[0m 1175.142326739371) ∧ (\u001b[1m\u001b[33mmin(mel8=1194Hz)\u001b[0m \u001b[1m<\u001b[0m\u001b[0m -4.254264886244089) ∧ (¬(\u001b[1m\u001b[33mstd(mel13=2832Hz)\u001b[0m \u001b[1m<\u001b[0m\u001b[0m 0.12871913235095664)) ∧ (\u001b[1m\u001b[33mmin(mel11=2005Hz)\u001b[0m \u001b[1m<\u001b[0m\u001b[0m -7.039873889080836)  ↣  Healthy : (ninstances = 101, ncovered = 5, coverage = 0.05, confidence = 0.8, lift = 1.62, natoms = 4)\n",
      "\u001b[34m▣\u001b[0m (\u001b[1m\u001b[36mmax(cntrd)\u001b[0m \u001b[1m<\u001b[0m\u001b[0m 1175.142326739371) ∧ (\u001b[1m\u001b[33mmin(mel8=1194Hz)\u001b[0m \u001b[1m<\u001b[0m\u001b[0m -4.254264886244089) ∧ (¬(\u001b[1m\u001b[33mstd(mel13=2832Hz)\u001b[0m \u001b[1m<\u001b[0m\u001b[0m 0.12871913235095664)) ∧ (¬(\u001b[1m\u001b[33mmin(mel11=2005Hz)\u001b[0m \u001b[1m<\u001b[0m\u001b[0m -7.039873889080836)) ∧ (\u001b[1m\u001b[36mmin(kurts)\u001b[0m \u001b[1m<\u001b[0m\u001b[0m 5.440264768459491) ∧ (\u001b[1m\u001b[36mmed(flatn)\u001b[0m \u001b[1m<\u001b[0m\u001b[0m 0.013978272288206726)  ↣  Healthy : (ninstances = 101, ncovered = 2, coverage = 0.02, confidence = 1.0, lift = 2.02, natoms = 6)\n",
      "\u001b[34m▣\u001b[0m (\u001b[1m\u001b[36mmax(cntrd)\u001b[0m \u001b[1m<\u001b[0m\u001b[0m 1175.142326739371) ∧ (\u001b[1m\u001b[33mmin(mel8=1194Hz)\u001b[0m \u001b[1m<\u001b[0m\u001b[0m -4.254264886244089) ∧ (¬(\u001b[1m\u001b[33mstd(mel13=2832Hz)\u001b[0m \u001b[1m<\u001b[0m\u001b[0m 0.12871913235095664)) ∧ (¬(\u001b[1m\u001b[33mmin(mel11=2005Hz)\u001b[0m \u001b[1m<\u001b[0m\u001b[0m -7.039873889080836)) ∧ (\u001b[1m\u001b[36mmin(kurts)\u001b[0m \u001b[1m<\u001b[0m\u001b[0m 5.440264768459491) ∧ (¬(\u001b[1m\u001b[36mmed(flatn)\u001b[0m \u001b[1m<\u001b[0m\u001b[0m 0.013978272288206726)) ∧ (\u001b[1m\u001b[33mstd(mel6=845Hz)\u001b[0m \u001b[1m<\u001b[0m\u001b[0m 0.5040328419321546) ∧ (¬(\u001b[1m\u001b[33mmean(mel11=2005Hz)\u001b[0m \u001b[1m<\u001b[0m\u001b[0m -5.921476625324498))  ↣  Healthy : (ninstances = 101, ncovered = 2, coverage = 0.02, confidence = 1.0, lift = 2.02, natoms = 8)\n",
      "\u001b[34m▣\u001b[0m (\u001b[1m\u001b[36mmax(cntrd)\u001b[0m \u001b[1m<\u001b[0m\u001b[0m 1175.142326739371) ∧ (\u001b[1m\u001b[33mmin(mel8=1194Hz)\u001b[0m \u001b[1m<\u001b[0m\u001b[0m -4.254264886244089) ∧ (¬(\u001b[1m\u001b[33mstd(mel13=2832Hz)\u001b[0m \u001b[1m<\u001b[0m\u001b[0m 0.12871913235095664)) ∧ (¬(\u001b[1m\u001b[33mmin(mel11=2005Hz)\u001b[0m \u001b[1m<\u001b[0m\u001b[0m -7.039873889080836)) ∧ (\u001b[1m\u001b[36mmin(kurts)\u001b[0m \u001b[1m<\u001b[0m\u001b[0m 5.440264768459491) ∧ (¬(\u001b[1m\u001b[36mmed(flatn)\u001b[0m \u001b[1m<\u001b[0m\u001b[0m 0.013978272288206726)) ∧ (¬(\u001b[1m\u001b[33mstd(mel6=845Hz)\u001b[0m \u001b[1m<\u001b[0m\u001b[0m 0.5040328419321546)) ∧ (¬(\u001b[1m\u001b[33m3ac(mel11=2005Hz)\u001b[0m \u001b[1m<\u001b[0m\u001b[0m 0.018373842592592594)) ∧ (\u001b[1m\u001b[33mstd(mel14=3366Hz)\u001b[0m \u001b[1m<\u001b[0m\u001b[0m 0.6986187045964978)  ↣  Pneumonia : (ninstances = 101, ncovered = 2, coverage = 0.02, confidence = 1.0, lift = 1.98, natoms = 9)\n",
      "\u001b[34m▣\u001b[0m (\u001b[1m\u001b[36mmax(cntrd)\u001b[0m \u001b[1m<\u001b[0m\u001b[0m 1175.142326739371) ∧ (\u001b[1m\u001b[33mmin(mel8=1194Hz)\u001b[0m \u001b[1m<\u001b[0m\u001b[0m -4.254264886244089) ∧ (¬(\u001b[1m\u001b[33mstd(mel13=2832Hz)\u001b[0m \u001b[1m<\u001b[0m\u001b[0m 0.12871913235095664)) ∧ (¬(\u001b[1m\u001b[33mmin(mel11=2005Hz)\u001b[0m \u001b[1m<\u001b[0m\u001b[0m -7.039873889080836)) ∧ (¬(\u001b[1m\u001b[36mmin(kurts)\u001b[0m \u001b[1m<\u001b[0m\u001b[0m 5.440264768459491)) ∧ (\u001b[1m\u001b[36mqnt(entrp)\u001b[0m \u001b[1m<\u001b[0m\u001b[0m 2.159550305748949)  ↣  Pneumonia : (ninstances = 101, ncovered = 6, coverage = 0.06, confidence = 0.83, lift = 1.65, natoms = 6)\n",
      "\u001b[34m▣\u001b[0m (\u001b[1m\u001b[36mmax(cntrd)\u001b[0m \u001b[1m<\u001b[0m\u001b[0m 1175.142326739371) ∧ (¬(\u001b[1m\u001b[33mmin(mel8=1194Hz)\u001b[0m \u001b[1m<\u001b[0m\u001b[0m -4.254264886244089)) ∧ (\u001b[1m\u001b[36mmin(sprd)\u001b[0m \u001b[1m<\u001b[0m\u001b[0m 318.63517531591276)  ↣  Healthy : (ninstances = 101, ncovered = 4, coverage = 0.04, confidence = 0.75, lift = 1.52, natoms = 3)\n",
      "\u001b[34m▣\u001b[0m (\u001b[1m\u001b[36mmax(cntrd)\u001b[0m \u001b[1m<\u001b[0m\u001b[0m 1175.142326739371) ∧ (¬(\u001b[1m\u001b[33mmin(mel8=1194Hz)\u001b[0m \u001b[1m<\u001b[0m\u001b[0m -4.254264886244089)) ∧ (¬(\u001b[1m\u001b[36mmin(sprd)\u001b[0m \u001b[1m<\u001b[0m\u001b[0m 318.63517531591276))  ↣  Pneumonia : (ninstances = 101, ncovered = 1, coverage = 0.01, confidence = 1.0, lift = 1.98, natoms = 3)\n",
      "\u001b[34m▣\u001b[0m (¬(\u001b[1m\u001b[36mmax(cntrd)\u001b[0m \u001b[1m<\u001b[0m\u001b[0m 1175.142326739371)) ∧ (\u001b[1m\u001b[36mstd(flatn)\u001b[0m \u001b[1m<\u001b[0m\u001b[0m 0.05702248013266628) ∧ (\u001b[1m\u001b[36mmed(decrs)\u001b[0m \u001b[1m<\u001b[0m\u001b[0m -0.23021399168102558) ∧ (¬(\u001b[1m\u001b[36mbsd(flux)\u001b[0m \u001b[1m<\u001b[0m\u001b[0m 6.5))  ↣  Healthy : (ninstances = 101, ncovered = 2, coverage = 0.02, confidence = 0.5, lift = 1.01, natoms = 4)\n",
      "\u001b[34m▣\u001b[0m (¬(\u001b[1m\u001b[36mmax(cntrd)\u001b[0m \u001b[1m<\u001b[0m\u001b[0m 1175.142326739371)) ∧ (\u001b[1m\u001b[36mstd(flatn)\u001b[0m \u001b[1m<\u001b[0m\u001b[0m 0.05702248013266628) ∧ (¬(\u001b[1m\u001b[36mmed(decrs)\u001b[0m \u001b[1m<\u001b[0m\u001b[0m -0.23021399168102558)) ∧ (\u001b[1m\u001b[36mstd(cntrd)\u001b[0m \u001b[1m<\u001b[0m\u001b[0m 152.23591219501) ∧ (¬(\u001b[1m\u001b[36mbsm(entrp)\u001b[0m \u001b[1m<\u001b[0m\u001b[0m 6.0))  ↣  Healthy : (ninstances = 101, ncovered = 1, coverage = 0.01, confidence = 1.0, lift = 2.02, natoms = 5)\n",
      "\u001b[34m▣\u001b[0m (¬(\u001b[1m\u001b[36mmax(cntrd)\u001b[0m \u001b[1m<\u001b[0m\u001b[0m 1175.142326739371)) ∧ (\u001b[1m\u001b[36mstd(flatn)\u001b[0m \u001b[1m<\u001b[0m\u001b[0m 0.05702248013266628) ∧ (¬(\u001b[1m\u001b[36mmed(decrs)\u001b[0m \u001b[1m<\u001b[0m\u001b[0m -0.23021399168102558)) ∧ (¬(\u001b[1m\u001b[36mstd(cntrd)\u001b[0m \u001b[1m<\u001b[0m\u001b[0m 152.23591219501))  ↣  Healthy : (ninstances = 101, ncovered = 7, coverage = 0.07, confidence = 0.86, lift = 1.73, natoms = 4)\n",
      "\u001b[34m▣\u001b[0m (¬(\u001b[1m\u001b[36mmax(cntrd)\u001b[0m \u001b[1m<\u001b[0m\u001b[0m 1175.142326739371)) ∧ (¬(\u001b[1m\u001b[36mstd(flatn)\u001b[0m \u001b[1m<\u001b[0m\u001b[0m 0.05702248013266628))  ↣  Healthy : (ninstances = 101, ncovered = 25, coverage = 0.25, confidence = 0.96, lift = 1.94, natoms = 2)\n"
     ]
    }
   ],
   "source": [
    "interesting_rules = listrules(sole_dt, min_lift = 1.0, min_ninstances = 0);\n",
    "printmodel.(interesting_rules; show_metrics = true, variable_names_map = variable_names);"
   ]
  },
  {
   "cell_type": "markdown",
   "metadata": {},
   "source": [
    "### Simplify rules while extracting and prettify result"
   ]
  },
  {
   "cell_type": "code",
   "execution_count": 7,
   "metadata": {},
   "outputs": [
    {
     "name": "stdout",
     "output_type": "stream",
     "text": [
      "\u001b[34m▣\u001b[0m (\u001b[1m\u001b[36mmax(cntrd)\u001b[0m \u001b[1m<\u001b[0m\u001b[0m 1175.14) ∧ (\u001b[1m\u001b[33mmin(mel8=1194Hz)\u001b[0m \u001b[1m<\u001b[0m\u001b[0m -4.25) ∧ (\u001b[1m\u001b[33mstd(mel13=2832Hz)\u001b[0m \u001b[1m<\u001b[0m\u001b[0m 0.13) ∧ (\u001b[1m\u001b[33mstd(mel9=1419Hz)\u001b[0m \u001b[1m<\u001b[0m\u001b[0m 0.28)  ↣  Pneumonia : (ninstances = 101, ncovered = 28, coverage = 0.28, confidence = 0.96, lift = 1.91, natoms = 4)\n",
      "\u001b[34m▣\u001b[0m (\u001b[1m\u001b[36mmax(cntrd)\u001b[0m \u001b[1m<\u001b[0m\u001b[0m 1175.14) ∧ (\u001b[1m\u001b[33mmin(mel8=1194Hz)\u001b[0m \u001b[1m<\u001b[0m\u001b[0m -4.25) ∧ (\u001b[1m\u001b[33mstd(mel13=2832Hz)\u001b[0m \u001b[1m<\u001b[0m\u001b[0m 0.13) ∧ (\u001b[1m\u001b[33mstd(mel9=1419Hz)\u001b[0m \u001b[1m≥\u001b[0m\u001b[0m 0.28) ∧ (\u001b[1m\u001b[36mmed(cntrd)\u001b[0m \u001b[1m<\u001b[0m\u001b[0m 692.6) ∧ (\u001b[1m\u001b[33mmed(mel8=1194Hz)\u001b[0m \u001b[1m≥\u001b[0m\u001b[0m -5.41)  ↣  Pneumonia : (ninstances = 101, ncovered = 6, coverage = 0.06, confidence = 1.0, lift = 1.98, natoms = 6)\n",
      "\u001b[34m▣\u001b[0m (\u001b[1m\u001b[36mmax(cntrd)\u001b[0m \u001b[1m<\u001b[0m\u001b[0m 1175.14) ∧ (\u001b[1m\u001b[33mmin(mel8=1194Hz)\u001b[0m \u001b[1m<\u001b[0m\u001b[0m -4.25) ∧ (\u001b[1m\u001b[33mstd(mel13=2832Hz)\u001b[0m \u001b[1m<\u001b[0m\u001b[0m 0.13) ∧ (\u001b[1m\u001b[33mstd(mel9=1419Hz)\u001b[0m \u001b[1m≥\u001b[0m\u001b[0m 0.28) ∧ (\u001b[1m\u001b[36mmed(cntrd)\u001b[0m \u001b[1m≥\u001b[0m\u001b[0m 692.6)  ↣  Healthy : (ninstances = 101, ncovered = 1, coverage = 0.01, confidence = 1.0, lift = 2.02, natoms = 5)\n",
      "\u001b[34m▣\u001b[0m (\u001b[1m\u001b[36mmax(cntrd)\u001b[0m \u001b[1m<\u001b[0m\u001b[0m 1175.14) ∧ (\u001b[1m\u001b[33mmin(mel8=1194Hz)\u001b[0m \u001b[1m<\u001b[0m\u001b[0m -4.25) ∧ (\u001b[1m\u001b[33mstd(mel13=2832Hz)\u001b[0m \u001b[1m≥\u001b[0m\u001b[0m 0.13) ∧ (\u001b[1m\u001b[33mmin(mel11=2005Hz)\u001b[0m \u001b[1m<\u001b[0m\u001b[0m -7.04)  ↣  Healthy : (ninstances = 101, ncovered = 5, coverage = 0.05, confidence = 0.8, lift = 1.62, natoms = 4)\n",
      "\u001b[34m▣\u001b[0m (\u001b[1m\u001b[36mmax(cntrd)\u001b[0m \u001b[1m<\u001b[0m\u001b[0m 1175.14) ∧ (\u001b[1m\u001b[33mmin(mel8=1194Hz)\u001b[0m \u001b[1m<\u001b[0m\u001b[0m -4.25) ∧ (\u001b[1m\u001b[33mstd(mel13=2832Hz)\u001b[0m \u001b[1m≥\u001b[0m\u001b[0m 0.13) ∧ (\u001b[1m\u001b[33mmin(mel11=2005Hz)\u001b[0m \u001b[1m≥\u001b[0m\u001b[0m -7.04) ∧ (\u001b[1m\u001b[36mmin(kurts)\u001b[0m \u001b[1m<\u001b[0m\u001b[0m 5.44) ∧ (\u001b[1m\u001b[36mmed(flatn)\u001b[0m \u001b[1m<\u001b[0m\u001b[0m 0.01)  ↣  Healthy : (ninstances = 101, ncovered = 2, coverage = 0.02, confidence = 1.0, lift = 2.02, natoms = 6)\n",
      "\u001b[34m▣\u001b[0m (\u001b[1m\u001b[36mmax(cntrd)\u001b[0m \u001b[1m<\u001b[0m\u001b[0m 1175.14) ∧ (\u001b[1m\u001b[33mmin(mel8=1194Hz)\u001b[0m \u001b[1m<\u001b[0m\u001b[0m -4.25) ∧ (\u001b[1m\u001b[33mstd(mel13=2832Hz)\u001b[0m \u001b[1m≥\u001b[0m\u001b[0m 0.13) ∧ (\u001b[1m\u001b[33mmin(mel11=2005Hz)\u001b[0m \u001b[1m≥\u001b[0m\u001b[0m -7.04) ∧ (\u001b[1m\u001b[36mmin(kurts)\u001b[0m \u001b[1m<\u001b[0m\u001b[0m 5.44) ∧ (\u001b[1m\u001b[36mmed(flatn)\u001b[0m \u001b[1m≥\u001b[0m\u001b[0m 0.01) ∧ (\u001b[1m\u001b[33mstd(mel6=845Hz)\u001b[0m \u001b[1m<\u001b[0m\u001b[0m 0.5) ∧ (\u001b[1m\u001b[33mmean(mel11=2005Hz)\u001b[0m \u001b[1m≥\u001b[0m\u001b[0m -5.92)  ↣  Healthy : (ninstances = 101, ncovered = 2, coverage = 0.02, confidence = 1.0, lift = 2.02, natoms = 8)\n",
      "\u001b[34m▣\u001b[0m (\u001b[1m\u001b[36mmax(cntrd)\u001b[0m \u001b[1m<\u001b[0m\u001b[0m 1175.14) ∧ (\u001b[1m\u001b[33mmin(mel8=1194Hz)\u001b[0m \u001b[1m<\u001b[0m\u001b[0m -4.25) ∧ (\u001b[1m\u001b[33mstd(mel13=2832Hz)\u001b[0m \u001b[1m≥\u001b[0m\u001b[0m 0.13) ∧ (\u001b[1m\u001b[33mmin(mel11=2005Hz)\u001b[0m \u001b[1m≥\u001b[0m\u001b[0m -7.04) ∧ (\u001b[1m\u001b[36mmin(kurts)\u001b[0m \u001b[1m<\u001b[0m\u001b[0m 5.44) ∧ (\u001b[1m\u001b[36mmed(flatn)\u001b[0m \u001b[1m≥\u001b[0m\u001b[0m 0.01) ∧ (\u001b[1m\u001b[33mstd(mel6=845Hz)\u001b[0m \u001b[1m≥\u001b[0m\u001b[0m 0.5) ∧ (\u001b[1m\u001b[33m3ac(mel11=2005Hz)\u001b[0m \u001b[1m≥\u001b[0m\u001b[0m 0.02) ∧ (\u001b[1m\u001b[33mstd(mel14=3366Hz)\u001b[0m \u001b[1m<\u001b[0m\u001b[0m 0.7)  ↣  Pneumonia : (ninstances = 101, ncovered = 2, coverage = 0.02, confidence = 1.0, lift = 1.98, natoms = 9)\n",
      "\u001b[34m▣\u001b[0m (\u001b[1m\u001b[36mmax(cntrd)\u001b[0m \u001b[1m<\u001b[0m\u001b[0m 1175.14) ∧ (\u001b[1m\u001b[33mmin(mel8=1194Hz)\u001b[0m \u001b[1m<\u001b[0m\u001b[0m -4.25) ∧ (\u001b[1m\u001b[33mstd(mel13=2832Hz)\u001b[0m \u001b[1m≥\u001b[0m\u001b[0m 0.13) ∧ (\u001b[1m\u001b[33mmin(mel11=2005Hz)\u001b[0m \u001b[1m≥\u001b[0m\u001b[0m -7.04) ∧ (\u001b[1m\u001b[36mmin(kurts)\u001b[0m \u001b[1m≥\u001b[0m\u001b[0m 5.44) ∧ (\u001b[1m\u001b[36mqnt(entrp)\u001b[0m \u001b[1m<\u001b[0m\u001b[0m 2.16)  ↣  Pneumonia : (ninstances = 101, ncovered = 6, coverage = 0.06, confidence = 0.83, lift = 1.65, natoms = 6)\n",
      "\u001b[34m▣\u001b[0m (\u001b[1m\u001b[36mmax(cntrd)\u001b[0m \u001b[1m<\u001b[0m\u001b[0m 1175.14) ∧ (\u001b[1m\u001b[33mmin(mel8=1194Hz)\u001b[0m \u001b[1m≥\u001b[0m\u001b[0m -4.25) ∧ (\u001b[1m\u001b[36mmin(sprd)\u001b[0m \u001b[1m<\u001b[0m\u001b[0m 318.64)  ↣  Healthy : (ninstances = 101, ncovered = 4, coverage = 0.04, confidence = 0.75, lift = 1.52, natoms = 3)\n",
      "\u001b[34m▣\u001b[0m (\u001b[1m\u001b[36mmax(cntrd)\u001b[0m \u001b[1m<\u001b[0m\u001b[0m 1175.14) ∧ (\u001b[1m\u001b[33mmin(mel8=1194Hz)\u001b[0m \u001b[1m≥\u001b[0m\u001b[0m -4.25) ∧ (\u001b[1m\u001b[36mmin(sprd)\u001b[0m \u001b[1m≥\u001b[0m\u001b[0m 318.64)  ↣  Pneumonia : (ninstances = 101, ncovered = 1, coverage = 0.01, confidence = 1.0, lift = 1.98, natoms = 3)\n",
      "\u001b[34m▣\u001b[0m (\u001b[1m\u001b[36mmax(cntrd)\u001b[0m \u001b[1m≥\u001b[0m\u001b[0m 1175.14) ∧ (\u001b[1m\u001b[36mstd(flatn)\u001b[0m \u001b[1m<\u001b[0m\u001b[0m 0.06) ∧ (\u001b[1m\u001b[36mmed(decrs)\u001b[0m \u001b[1m<\u001b[0m\u001b[0m -0.23) ∧ (\u001b[1m\u001b[36mbsd(flux)\u001b[0m \u001b[1m≥\u001b[0m\u001b[0m 6.5)  ↣  Healthy : (ninstances = 101, ncovered = 2, coverage = 0.02, confidence = 0.5, lift = 1.01, natoms = 4)\n",
      "\u001b[34m▣\u001b[0m (\u001b[1m\u001b[36mmax(cntrd)\u001b[0m \u001b[1m≥\u001b[0m\u001b[0m 1175.14) ∧ (\u001b[1m\u001b[36mstd(flatn)\u001b[0m \u001b[1m<\u001b[0m\u001b[0m 0.06) ∧ (\u001b[1m\u001b[36mmed(decrs)\u001b[0m \u001b[1m≥\u001b[0m\u001b[0m -0.23) ∧ (\u001b[1m\u001b[36mstd(cntrd)\u001b[0m \u001b[1m<\u001b[0m\u001b[0m 152.24) ∧ (\u001b[1m\u001b[36mbsm(entrp)\u001b[0m \u001b[1m≥\u001b[0m\u001b[0m 6.0)  ↣  Healthy : (ninstances = 101, ncovered = 1, coverage = 0.01, confidence = 1.0, lift = 2.02, natoms = 5)\n",
      "\u001b[34m▣\u001b[0m (\u001b[1m\u001b[36mmax(cntrd)\u001b[0m \u001b[1m≥\u001b[0m\u001b[0m 1175.14) ∧ (\u001b[1m\u001b[36mstd(flatn)\u001b[0m \u001b[1m<\u001b[0m\u001b[0m 0.06) ∧ (\u001b[1m\u001b[36mmed(decrs)\u001b[0m \u001b[1m≥\u001b[0m\u001b[0m -0.23) ∧ (\u001b[1m\u001b[36mstd(cntrd)\u001b[0m \u001b[1m≥\u001b[0m\u001b[0m 152.24)  ↣  Healthy : (ninstances = 101, ncovered = 7, coverage = 0.07, confidence = 0.86, lift = 1.73, natoms = 4)\n",
      "\u001b[34m▣\u001b[0m (\u001b[1m\u001b[36mmax(cntrd)\u001b[0m \u001b[1m≥\u001b[0m\u001b[0m 1175.14) ∧ (\u001b[1m\u001b[36mstd(flatn)\u001b[0m \u001b[1m≥\u001b[0m\u001b[0m 0.06)  ↣  Healthy : (ninstances = 101, ncovered = 25, coverage = 0.25, confidence = 0.96, lift = 1.94, natoms = 2)\n"
     ]
    }
   ],
   "source": [
    "interesting_rules = listrules(sole_dt, min_lift = 1.0, min_ninstances = 0, normalize = true);\n",
    "printmodel.(interesting_rules; show_metrics = true, syntaxstring_kwargs = (; threshold_digits = 2), variable_names_map = variable_names);"
   ]
  },
  {
   "cell_type": "markdown",
   "metadata": {},
   "source": [
    "### Directly access rule metrics"
   ]
  },
  {
   "cell_type": "code",
   "execution_count": 8,
   "metadata": {},
   "outputs": [
    {
     "data": {
      "text/plain": [
       "14-element Vector{@NamedTuple{ninstances::Int64, ncovered::Int64, coverage::Float64, confidence::Float64, lift::Float64, natoms::Int64}}:\n",
       " (ninstances = 101, ncovered = 28, coverage = 0.27722772277227725, confidence = 0.9642857142857143, lift = 1.9096638655462186, natoms = 4)\n",
       " (ninstances = 101, ncovered = 6, coverage = 0.0594059405940594, confidence = 1.0, lift = 1.9803921568627452, natoms = 6)\n",
       " (ninstances = 101, ncovered = 1, coverage = 0.009900990099009901, confidence = 1.0, lift = 2.02, natoms = 5)\n",
       " (ninstances = 101, ncovered = 5, coverage = 0.04950495049504951, confidence = 0.8, lift = 1.616, natoms = 4)\n",
       " (ninstances = 101, ncovered = 2, coverage = 0.019801980198019802, confidence = 1.0, lift = 2.02, natoms = 6)\n",
       " (ninstances = 101, ncovered = 2, coverage = 0.019801980198019802, confidence = 1.0, lift = 2.02, natoms = 8)\n",
       " (ninstances = 101, ncovered = 2, coverage = 0.019801980198019802, confidence = 1.0, lift = 1.9803921568627452, natoms = 9)\n",
       " (ninstances = 101, ncovered = 6, coverage = 0.0594059405940594, confidence = 0.8333333333333334, lift = 1.650326797385621, natoms = 6)\n",
       " (ninstances = 101, ncovered = 4, coverage = 0.039603960396039604, confidence = 0.75, lift = 1.5150000000000001, natoms = 3)\n",
       " (ninstances = 101, ncovered = 1, coverage = 0.009900990099009901, confidence = 1.0, lift = 1.9803921568627452, natoms = 3)\n",
       " (ninstances = 101, ncovered = 2, coverage = 0.019801980198019802, confidence = 0.5, lift = 1.01, natoms = 4)\n",
       " (ninstances = 101, ncovered = 1, coverage = 0.009900990099009901, confidence = 1.0, lift = 2.02, natoms = 5)\n",
       " (ninstances = 101, ncovered = 7, coverage = 0.06930693069306931, confidence = 0.8571428571428571, lift = 1.7314285714285713, natoms = 4)\n",
       " (ninstances = 101, ncovered = 25, coverage = 0.24752475247524752, confidence = 0.96, lift = 1.9392, natoms = 2)"
      ]
     },
     "metadata": {},
     "output_type": "display_data"
    }
   ],
   "source": [
    "readmetrics.(listrules(sole_dt; min_lift=1.0, min_ninstances = 0))"
   ]
  },
  {
   "cell_type": "markdown",
   "metadata": {},
   "source": [
    "### Show rules with an additional metric (syntax height of the rule's antecedent)"
   ]
  },
  {
   "cell_type": "code",
   "execution_count": 9,
   "metadata": {},
   "outputs": [
    {
     "name": "stdout",
     "output_type": "stream",
     "text": [
      "\u001b[34m▣\u001b[0m (\u001b[1m\u001b[36mmax(cntrd)\u001b[0m \u001b[1m<\u001b[0m\u001b[0m 1175.142326739371) ∧ (\u001b[1m\u001b[33mmin(mel8=1194Hz)\u001b[0m \u001b[1m≥\u001b[0m\u001b[0m -4.254264886244089) ∧ (\u001b[1m\u001b[36mmin(sprd)\u001b[0m \u001b[1m≥\u001b[0m\u001b[0m 318.63517531591276)  ↣  Pneumonia : (ninstances = 101, ncovered = 1, coverage = 0.009900990099009901, confidence = 1.0, lift = 1.9803921568627452, natoms = 3, height = 2)\n",
      "\u001b[34m▣\u001b[0m (\u001b[1m\u001b[36mmax(cntrd)\u001b[0m \u001b[1m<\u001b[0m\u001b[0m 1175.142326739371) ∧ (\u001b[1m\u001b[33mmin(mel8=1194Hz)\u001b[0m \u001b[1m<\u001b[0m\u001b[0m -4.254264886244089) ∧ (\u001b[1m\u001b[33mstd(mel13=2832Hz)\u001b[0m \u001b[1m<\u001b[0m\u001b[0m 0.12871913235095664) ∧ (\u001b[1m\u001b[33mstd(mel9=1419Hz)\u001b[0m \u001b[1m≥\u001b[0m\u001b[0m 0.27929614257337987) ∧ (\u001b[1m\u001b[36mmed(cntrd)\u001b[0m \u001b[1m≥\u001b[0m\u001b[0m 692.5990090205792)  ↣  Healthy : (ninstances = 101, ncovered = 1, coverage = 0.009900990099009901, confidence = 1.0, lift = 2.02, natoms = 5, height = 4)\n",
      "\u001b[34m▣\u001b[0m (\u001b[1m\u001b[36mmax(cntrd)\u001b[0m \u001b[1m≥\u001b[0m\u001b[0m 1175.142326739371) ∧ (\u001b[1m\u001b[36mstd(flatn)\u001b[0m \u001b[1m<\u001b[0m\u001b[0m 0.05702248013266628) ∧ (\u001b[1m\u001b[36mmed(decrs)\u001b[0m \u001b[1m≥\u001b[0m\u001b[0m -0.23021399168102558) ∧ (\u001b[1m\u001b[36mstd(cntrd)\u001b[0m \u001b[1m<\u001b[0m\u001b[0m 152.23591219501) ∧ (\u001b[1m\u001b[36mbsm(entrp)\u001b[0m \u001b[1m≥\u001b[0m\u001b[0m 6.0)  ↣  Healthy : (ninstances = 101, ncovered = 1, coverage = 0.009900990099009901, confidence = 1.0, lift = 2.02, natoms = 5, height = 4)\n",
      "\u001b[34m▣\u001b[0m (\u001b[1m\u001b[36mmax(cntrd)\u001b[0m \u001b[1m≥\u001b[0m\u001b[0m 1175.142326739371) ∧ (\u001b[1m\u001b[36mstd(flatn)\u001b[0m \u001b[1m<\u001b[0m\u001b[0m 0.05702248013266628) ∧ (\u001b[1m\u001b[36mmed(decrs)\u001b[0m \u001b[1m<\u001b[0m\u001b[0m -0.23021399168102558) ∧ (\u001b[1m\u001b[36mbsd(flux)\u001b[0m \u001b[1m≥\u001b[0m\u001b[0m 6.5)  ↣  Healthy : (ninstances = 101, ncovered = 2, coverage = 0.019801980198019802, confidence = 0.5, lift = 1.01, natoms = 4, height = 3)\n",
      "\u001b[34m▣\u001b[0m (\u001b[1m\u001b[36mmax(cntrd)\u001b[0m \u001b[1m<\u001b[0m\u001b[0m 1175.142326739371) ∧ (\u001b[1m\u001b[33mmin(mel8=1194Hz)\u001b[0m \u001b[1m<\u001b[0m\u001b[0m -4.254264886244089) ∧ (\u001b[1m\u001b[33mstd(mel13=2832Hz)\u001b[0m \u001b[1m≥\u001b[0m\u001b[0m 0.12871913235095664) ∧ (\u001b[1m\u001b[33mmin(mel11=2005Hz)\u001b[0m \u001b[1m≥\u001b[0m\u001b[0m -7.039873889080836) ∧ (\u001b[1m\u001b[36mmin(kurts)\u001b[0m \u001b[1m<\u001b[0m\u001b[0m 5.440264768459491) ∧ (\u001b[1m\u001b[36mmed(flatn)\u001b[0m \u001b[1m≥\u001b[0m\u001b[0m 0.013978272288206726) ∧ (\u001b[1m\u001b[33mstd(mel6=845Hz)\u001b[0m \u001b[1m≥\u001b[0m\u001b[0m 0.5040328419321546) ∧ (\u001b[1m\u001b[33m3ac(mel11=2005Hz)\u001b[0m \u001b[1m≥\u001b[0m\u001b[0m 0.018373842592592594) ∧ (\u001b[1m\u001b[33mstd(mel14=3366Hz)\u001b[0m \u001b[1m<\u001b[0m\u001b[0m 0.6986187045964978)  ↣  Pneumonia : (ninstances = 101, ncovered = 2, coverage = 0.019801980198019802, confidence = 1.0, lift = 1.9803921568627452, natoms = 9, height = 8)\n",
      "\u001b[34m▣\u001b[0m (\u001b[1m\u001b[36mmax(cntrd)\u001b[0m \u001b[1m<\u001b[0m\u001b[0m 1175.142326739371) ∧ (\u001b[1m\u001b[33mmin(mel8=1194Hz)\u001b[0m \u001b[1m<\u001b[0m\u001b[0m -4.254264886244089) ∧ (\u001b[1m\u001b[33mstd(mel13=2832Hz)\u001b[0m \u001b[1m≥\u001b[0m\u001b[0m 0.12871913235095664) ∧ (\u001b[1m\u001b[33mmin(mel11=2005Hz)\u001b[0m \u001b[1m≥\u001b[0m\u001b[0m -7.039873889080836) ∧ (\u001b[1m\u001b[36mmin(kurts)\u001b[0m \u001b[1m<\u001b[0m\u001b[0m 5.440264768459491) ∧ (\u001b[1m\u001b[36mmed(flatn)\u001b[0m \u001b[1m<\u001b[0m\u001b[0m 0.013978272288206726)  ↣  Healthy : (ninstances = 101, ncovered = 2, coverage = 0.019801980198019802, confidence = 1.0, lift = 2.02, natoms = 6, height = 5)\n",
      "\u001b[34m▣\u001b[0m (\u001b[1m\u001b[36mmax(cntrd)\u001b[0m \u001b[1m<\u001b[0m\u001b[0m 1175.142326739371) ∧ (\u001b[1m\u001b[33mmin(mel8=1194Hz)\u001b[0m \u001b[1m<\u001b[0m\u001b[0m -4.254264886244089) ∧ (\u001b[1m\u001b[33mstd(mel13=2832Hz)\u001b[0m \u001b[1m≥\u001b[0m\u001b[0m 0.12871913235095664) ∧ (\u001b[1m\u001b[33mmin(mel11=2005Hz)\u001b[0m \u001b[1m≥\u001b[0m\u001b[0m -7.039873889080836) ∧ (\u001b[1m\u001b[36mmin(kurts)\u001b[0m \u001b[1m<\u001b[0m\u001b[0m 5.440264768459491) ∧ (\u001b[1m\u001b[36mmed(flatn)\u001b[0m \u001b[1m≥\u001b[0m\u001b[0m 0.013978272288206726) ∧ (\u001b[1m\u001b[33mstd(mel6=845Hz)\u001b[0m \u001b[1m<\u001b[0m\u001b[0m 0.5040328419321546) ∧ (\u001b[1m\u001b[33mmean(mel11=2005Hz)\u001b[0m \u001b[1m≥\u001b[0m\u001b[0m -5.921476625324498)  ↣  Healthy : (ninstances = 101, ncovered = 2, coverage = 0.019801980198019802, confidence = 1.0, lift = 2.02, natoms = 8, height = 7)\n",
      "\u001b[34m▣\u001b[0m (\u001b[1m\u001b[36mmax(cntrd)\u001b[0m \u001b[1m<\u001b[0m\u001b[0m 1175.142326739371) ∧ (\u001b[1m\u001b[33mmin(mel8=1194Hz)\u001b[0m \u001b[1m≥\u001b[0m\u001b[0m -4.254264886244089) ∧ (\u001b[1m\u001b[36mmin(sprd)\u001b[0m \u001b[1m<\u001b[0m\u001b[0m 318.63517531591276)  ↣  Healthy : (ninstances = 101, ncovered = 4, coverage = 0.039603960396039604, confidence = 0.75, lift = 1.5150000000000001, natoms = 3, height = 2)\n",
      "\u001b[34m▣\u001b[0m (\u001b[1m\u001b[36mmax(cntrd)\u001b[0m \u001b[1m<\u001b[0m\u001b[0m 1175.142326739371) ∧ (\u001b[1m\u001b[33mmin(mel8=1194Hz)\u001b[0m \u001b[1m<\u001b[0m\u001b[0m -4.254264886244089) ∧ (\u001b[1m\u001b[33mstd(mel13=2832Hz)\u001b[0m \u001b[1m≥\u001b[0m\u001b[0m 0.12871913235095664) ∧ (\u001b[1m\u001b[33mmin(mel11=2005Hz)\u001b[0m \u001b[1m<\u001b[0m\u001b[0m -7.039873889080836)  ↣  Healthy : (ninstances = 101, ncovered = 5, coverage = 0.04950495049504951, confidence = 0.8, lift = 1.616, natoms = 4, height = 3)\n",
      "\u001b[34m▣\u001b[0m (\u001b[1m\u001b[36mmax(cntrd)\u001b[0m \u001b[1m<\u001b[0m\u001b[0m 1175.142326739371) ∧ (\u001b[1m\u001b[33mmin(mel8=1194Hz)\u001b[0m \u001b[1m<\u001b[0m\u001b[0m -4.254264886244089) ∧ (\u001b[1m\u001b[33mstd(mel13=2832Hz)\u001b[0m \u001b[1m≥\u001b[0m\u001b[0m 0.12871913235095664) ∧ (\u001b[1m\u001b[33mmin(mel11=2005Hz)\u001b[0m \u001b[1m≥\u001b[0m\u001b[0m -7.039873889080836) ∧ (\u001b[1m\u001b[36mmin(kurts)\u001b[0m \u001b[1m≥\u001b[0m\u001b[0m 5.440264768459491) ∧ (\u001b[1m\u001b[36mqnt(entrp)\u001b[0m \u001b[1m<\u001b[0m\u001b[0m 2.159550305748949)  ↣  Pneumonia : (ninstances = 101, ncovered = 6, coverage = 0.0594059405940594, confidence = 0.8333333333333334, lift = 1.650326797385621, natoms = 6, height = 5)\n",
      "\u001b[34m▣\u001b[0m (\u001b[1m\u001b[36mmax(cntrd)\u001b[0m \u001b[1m<\u001b[0m\u001b[0m 1175.142326739371) ∧ (\u001b[1m\u001b[33mmin(mel8=1194Hz)\u001b[0m \u001b[1m<\u001b[0m\u001b[0m -4.254264886244089) ∧ (\u001b[1m\u001b[33mstd(mel13=2832Hz)\u001b[0m \u001b[1m<\u001b[0m\u001b[0m 0.12871913235095664) ∧ (\u001b[1m\u001b[33mstd(mel9=1419Hz)\u001b[0m \u001b[1m≥\u001b[0m\u001b[0m 0.27929614257337987) ∧ (\u001b[1m\u001b[36mmed(cntrd)\u001b[0m \u001b[1m<\u001b[0m\u001b[0m 692.5990090205792) ∧ (\u001b[1m\u001b[33mmed(mel8=1194Hz)\u001b[0m \u001b[1m≥\u001b[0m\u001b[0m -5.408287525000148)  ↣  Pneumonia : (ninstances = 101, ncovered = 6, coverage = 0.0594059405940594, confidence = 1.0, lift = 1.9803921568627452, natoms = 6, height = 5)\n",
      "\u001b[34m▣\u001b[0m (\u001b[1m\u001b[36mmax(cntrd)\u001b[0m \u001b[1m≥\u001b[0m\u001b[0m 1175.142326739371) ∧ (\u001b[1m\u001b[36mstd(flatn)\u001b[0m \u001b[1m<\u001b[0m\u001b[0m 0.05702248013266628) ∧ (\u001b[1m\u001b[36mmed(decrs)\u001b[0m \u001b[1m≥\u001b[0m\u001b[0m -0.23021399168102558) ∧ (\u001b[1m\u001b[36mstd(cntrd)\u001b[0m \u001b[1m≥\u001b[0m\u001b[0m 152.23591219501)  ↣  Healthy : (ninstances = 101, ncovered = 7, coverage = 0.06930693069306931, confidence = 0.8571428571428571, lift = 1.7314285714285713, natoms = 4, height = 3)\n",
      "\u001b[34m▣\u001b[0m (\u001b[1m\u001b[36mmax(cntrd)\u001b[0m \u001b[1m≥\u001b[0m\u001b[0m 1175.142326739371) ∧ (\u001b[1m\u001b[36mstd(flatn)\u001b[0m \u001b[1m≥\u001b[0m\u001b[0m 0.05702248013266628)  ↣  Healthy : (ninstances = 101, ncovered = 25, coverage = 0.24752475247524752, confidence = 0.96, lift = 1.9392, natoms = 2, height = 1)\n",
      "\u001b[34m▣\u001b[0m (\u001b[1m\u001b[36mmax(cntrd)\u001b[0m \u001b[1m<\u001b[0m\u001b[0m 1175.142326739371) ∧ (\u001b[1m\u001b[33mmin(mel8=1194Hz)\u001b[0m \u001b[1m<\u001b[0m\u001b[0m -4.254264886244089) ∧ (\u001b[1m\u001b[33mstd(mel13=2832Hz)\u001b[0m \u001b[1m<\u001b[0m\u001b[0m 0.12871913235095664) ∧ (\u001b[1m\u001b[33mstd(mel9=1419Hz)\u001b[0m \u001b[1m<\u001b[0m\u001b[0m 0.27929614257337987)  ↣  Pneumonia : (ninstances = 101, ncovered = 28, coverage = 0.27722772277227725, confidence = 0.9642857142857143, lift = 1.9096638655462186, natoms = 4, height = 3)\n"
     ]
    }
   ],
   "source": [
    "printmodel.(sort(interesting_rules, by = readmetrics); show_metrics = (; round_digits = nothing, additional_metrics = (; height = r->SoleLogics.height(antecedent(r)))), variable_names_map = variable_names);"
   ]
  },
  {
   "cell_type": "markdown",
   "metadata": {},
   "source": [
    "### Pretty table of rules and their metrics"
   ]
  },
  {
   "cell_type": "code",
   "execution_count": 10,
   "metadata": {},
   "outputs": [
    {
     "name": "stdout",
     "output_type": "stream",
     "text": [
      "┌─────────────────────────────────────────────────────────────────────────────────────────────────────────────────────────────────────────────────────────────────────────────────────────────────────────────────────────────────────────────────────────────────────────────────────────────────────────────────────────────────────────────────────────────────────────────┬────────────┬────────────┬──────────┬────────────┬────────────┬─────────┬────────┬────────┐\n",
      "│\u001b[33;1m                                                                                                                                                                                                                                                                                                                                                                  Antecedent \u001b[0m│\u001b[33;1m Consequent \u001b[0m│\u001b[33;1m ninstances \u001b[0m│\u001b[33;1m ncovered \u001b[0m│\u001b[33;1m   coverage \u001b[0m│\u001b[33;1m confidence \u001b[0m│\u001b[33;1m    lift \u001b[0m│\u001b[33;1m natoms \u001b[0m│\u001b[33;1m height \u001b[0m│\n",
      "├─────────────────────────────────────────────────────────────────────────────────────────────────────────────────────────────────────────────────────────────────────────────────────────────────────────────────────────────────────────────────────────────────────────────────────────────────────────────────────────────────────────────────────────────────────────────┼────────────┼────────────┼──────────┼────────────┼────────────┼─────────┼────────┼────────┤\n",
      "│                                                                                                                                                                                                           (\u001b[1m\u001b[36mmax(cntrd)\u001b[0m \u001b[1m<\u001b[0m\u001b[0m 1175.142326739371) ∧ (\u001b[1m\u001b[33mmin(mel8=1194Hz)\u001b[0m \u001b[1m<\u001b[0m\u001b[0m -4.254264886244089) ∧ (\u001b[1m\u001b[33mstd(mel13=2832Hz)\u001b[0m \u001b[1m<\u001b[0m\u001b[0m 0.12871913235095664) ∧ (\u001b[1m\u001b[33mstd(mel9=1419Hz)\u001b[0m \u001b[1m<\u001b[0m\u001b[0m 0.27929614257337987)\u001b[0m │  Pneumonia │        101 │       28 │   0.277228 │   0.964286 │ 1.90966 │      4 │      3 │\n",
      "│                                                                                                                              (\u001b[1m\u001b[36mmax(cntrd)\u001b[0m \u001b[1m<\u001b[0m\u001b[0m 1175.142326739371) ∧ (\u001b[1m\u001b[33mmin(mel8=1194Hz)\u001b[0m \u001b[1m<\u001b[0m\u001b[0m -4.254264886244089) ∧ (\u001b[1m\u001b[33mstd(mel13=2832Hz)\u001b[0m \u001b[1m<\u001b[0m\u001b[0m 0.12871913235095664) ∧ (\u001b[1m\u001b[33mstd(mel9=1419Hz)\u001b[0m \u001b[1m≥\u001b[0m\u001b[0m 0.27929614257337987) ∧ (\u001b[1m\u001b[36mmed(cntrd)\u001b[0m \u001b[1m<\u001b[0m\u001b[0m 692.5990090205792) ∧ (\u001b[1m\u001b[33mmed(mel8=1194Hz)\u001b[0m \u001b[1m≥\u001b[0m\u001b[0m -5.408287525000148)\u001b[0m │  Pneumonia │        101 │        6 │  0.0594059 │        1.0 │ 1.98039 │      6 │      5 │\n",
      "│                                                                                                                                                                        (\u001b[1m\u001b[36mmax(cntrd)\u001b[0m \u001b[1m<\u001b[0m\u001b[0m 1175.142326739371) ∧ (\u001b[1m\u001b[33mmin(mel8=1194Hz)\u001b[0m \u001b[1m<\u001b[0m\u001b[0m -4.254264886244089) ∧ (\u001b[1m\u001b[33mstd(mel13=2832Hz)\u001b[0m \u001b[1m<\u001b[0m\u001b[0m 0.12871913235095664) ∧ (\u001b[1m\u001b[33mstd(mel9=1419Hz)\u001b[0m \u001b[1m≥\u001b[0m\u001b[0m 0.27929614257337987) ∧ (\u001b[1m\u001b[36mmed(cntrd)\u001b[0m \u001b[1m≥\u001b[0m\u001b[0m 692.5990090205792)\u001b[0m │    Healthy │        101 │        1 │ 0.00990099 │        1.0 │    2.02 │      5 │      4 │\n",
      "│                                                                                                                                                                                                           (\u001b[1m\u001b[36mmax(cntrd)\u001b[0m \u001b[1m<\u001b[0m\u001b[0m 1175.142326739371) ∧ (\u001b[1m\u001b[33mmin(mel8=1194Hz)\u001b[0m \u001b[1m<\u001b[0m\u001b[0m -4.254264886244089) ∧ (\u001b[1m\u001b[33mstd(mel13=2832Hz)\u001b[0m \u001b[1m≥\u001b[0m\u001b[0m 0.12871913235095664) ∧ (\u001b[1m\u001b[33mmin(mel11=2005Hz)\u001b[0m \u001b[1m<\u001b[0m\u001b[0m -7.039873889080836)\u001b[0m │    Healthy │        101 │        5 │   0.049505 │        0.8 │   1.616 │      4 │      3 │\n",
      "│                                                                                                                                  (\u001b[1m\u001b[36mmax(cntrd)\u001b[0m \u001b[1m<\u001b[0m\u001b[0m 1175.142326739371) ∧ (\u001b[1m\u001b[33mmin(mel8=1194Hz)\u001b[0m \u001b[1m<\u001b[0m\u001b[0m -4.254264886244089) ∧ (\u001b[1m\u001b[33mstd(mel13=2832Hz)\u001b[0m \u001b[1m≥\u001b[0m\u001b[0m 0.12871913235095664) ∧ (\u001b[1m\u001b[33mmin(mel11=2005Hz)\u001b[0m \u001b[1m≥\u001b[0m\u001b[0m -7.039873889080836) ∧ (\u001b[1m\u001b[36mmin(kurts)\u001b[0m \u001b[1m<\u001b[0m\u001b[0m 5.440264768459491) ∧ (\u001b[1m\u001b[36mmed(flatn)\u001b[0m \u001b[1m<\u001b[0m\u001b[0m 0.013978272288206726)\u001b[0m │    Healthy │        101 │        2 │   0.019802 │        1.0 │    2.02 │      6 │      5 │\n",
      "│                                             (\u001b[1m\u001b[36mmax(cntrd)\u001b[0m \u001b[1m<\u001b[0m\u001b[0m 1175.142326739371) ∧ (\u001b[1m\u001b[33mmin(mel8=1194Hz)\u001b[0m \u001b[1m<\u001b[0m\u001b[0m -4.254264886244089) ∧ (\u001b[1m\u001b[33mstd(mel13=2832Hz)\u001b[0m \u001b[1m≥\u001b[0m\u001b[0m 0.12871913235095664) ∧ (\u001b[1m\u001b[33mmin(mel11=2005Hz)\u001b[0m \u001b[1m≥\u001b[0m\u001b[0m -7.039873889080836) ∧ (\u001b[1m\u001b[36mmin(kurts)\u001b[0m \u001b[1m<\u001b[0m\u001b[0m 5.440264768459491) ∧ (\u001b[1m\u001b[36mmed(flatn)\u001b[0m \u001b[1m≥\u001b[0m\u001b[0m 0.013978272288206726) ∧ (\u001b[1m\u001b[33mstd(mel6=845Hz)\u001b[0m \u001b[1m<\u001b[0m\u001b[0m 0.5040328419321546) ∧ (\u001b[1m\u001b[33mmean(mel11=2005Hz)\u001b[0m \u001b[1m≥\u001b[0m\u001b[0m -5.921476625324498)\u001b[0m │    Healthy │        101 │        2 │   0.019802 │        1.0 │    2.02 │      8 │      7 │\n",
      "│ (\u001b[1m\u001b[36mmax(cntrd)\u001b[0m \u001b[1m<\u001b[0m\u001b[0m 1175.142326739371) ∧ (\u001b[1m\u001b[33mmin(mel8=1194Hz)\u001b[0m \u001b[1m<\u001b[0m\u001b[0m -4.254264886244089) ∧ (\u001b[1m\u001b[33mstd(mel13=2832Hz)\u001b[0m \u001b[1m≥\u001b[0m\u001b[0m 0.12871913235095664) ∧ (\u001b[1m\u001b[33mmin(mel11=2005Hz)\u001b[0m \u001b[1m≥\u001b[0m\u001b[0m -7.039873889080836) ∧ (\u001b[1m\u001b[36mmin(kurts)\u001b[0m \u001b[1m<\u001b[0m\u001b[0m 5.440264768459491) ∧ (\u001b[1m\u001b[36mmed(flatn)\u001b[0m \u001b[1m≥\u001b[0m\u001b[0m 0.013978272288206726) ∧ (\u001b[1m\u001b[33mstd(mel6=845Hz)\u001b[0m \u001b[1m≥\u001b[0m\u001b[0m 0.5040328419321546) ∧ (\u001b[1m\u001b[33m3ac(mel11=2005Hz)\u001b[0m \u001b[1m≥\u001b[0m\u001b[0m 0.018373842592592594) ∧ (\u001b[1m\u001b[33mstd(mel14=3366Hz)\u001b[0m \u001b[1m<\u001b[0m\u001b[0m 0.6986187045964978)\u001b[0m │  Pneumonia │        101 │        2 │   0.019802 │        1.0 │ 1.98039 │      9 │      8 │\n",
      "│                                                                                                                                     (\u001b[1m\u001b[36mmax(cntrd)\u001b[0m \u001b[1m<\u001b[0m\u001b[0m 1175.142326739371) ∧ (\u001b[1m\u001b[33mmin(mel8=1194Hz)\u001b[0m \u001b[1m<\u001b[0m\u001b[0m -4.254264886244089) ∧ (\u001b[1m\u001b[33mstd(mel13=2832Hz)\u001b[0m \u001b[1m≥\u001b[0m\u001b[0m 0.12871913235095664) ∧ (\u001b[1m\u001b[33mmin(mel11=2005Hz)\u001b[0m \u001b[1m≥\u001b[0m\u001b[0m -7.039873889080836) ∧ (\u001b[1m\u001b[36mmin(kurts)\u001b[0m \u001b[1m≥\u001b[0m\u001b[0m 5.440264768459491) ∧ (\u001b[1m\u001b[36mqnt(entrp)\u001b[0m \u001b[1m<\u001b[0m\u001b[0m 2.159550305748949)\u001b[0m │  Pneumonia │        101 │        6 │  0.0594059 │   0.833333 │ 1.65033 │      6 │      5 │\n",
      "│                                                                                                                                                                                                                                                               (\u001b[1m\u001b[36mmax(cntrd)\u001b[0m \u001b[1m<\u001b[0m\u001b[0m 1175.142326739371) ∧ (\u001b[1m\u001b[33mmin(mel8=1194Hz)\u001b[0m \u001b[1m≥\u001b[0m\u001b[0m -4.254264886244089) ∧ (\u001b[1m\u001b[36mmin(sprd)\u001b[0m \u001b[1m<\u001b[0m\u001b[0m 318.63517531591276)\u001b[0m │    Healthy │        101 │        4 │   0.039604 │       0.75 │   1.515 │      3 │      2 │\n",
      "│                                                                                                                                                                                                                                                               (\u001b[1m\u001b[36mmax(cntrd)\u001b[0m \u001b[1m<\u001b[0m\u001b[0m 1175.142326739371) ∧ (\u001b[1m\u001b[33mmin(mel8=1194Hz)\u001b[0m \u001b[1m≥\u001b[0m\u001b[0m -4.254264886244089) ∧ (\u001b[1m\u001b[36mmin(sprd)\u001b[0m \u001b[1m≥\u001b[0m\u001b[0m 318.63517531591276)\u001b[0m │  Pneumonia │        101 │        1 │ 0.00990099 │        1.0 │ 1.98039 │      3 │      2 │\n",
      "│                                                                                                                                                                                                                                             (\u001b[1m\u001b[36mmax(cntrd)\u001b[0m \u001b[1m≥\u001b[0m\u001b[0m 1175.142326739371) ∧ (\u001b[1m\u001b[36mstd(flatn)\u001b[0m \u001b[1m<\u001b[0m\u001b[0m 0.05702248013266628) ∧ (\u001b[1m\u001b[36mmed(decrs)\u001b[0m \u001b[1m<\u001b[0m\u001b[0m -0.23021399168102558) ∧ (\u001b[1m\u001b[36mbsd(flux)\u001b[0m \u001b[1m≥\u001b[0m\u001b[0m 6.5)\u001b[0m │    Healthy │        101 │        2 │   0.019802 │        0.5 │    1.01 │      4 │      3 │\n",
      "│                                                                                                                                                                                                           (\u001b[1m\u001b[36mmax(cntrd)\u001b[0m \u001b[1m≥\u001b[0m\u001b[0m 1175.142326739371) ∧ (\u001b[1m\u001b[36mstd(flatn)\u001b[0m \u001b[1m<\u001b[0m\u001b[0m 0.05702248013266628) ∧ (\u001b[1m\u001b[36mmed(decrs)\u001b[0m \u001b[1m≥\u001b[0m\u001b[0m -0.23021399168102558) ∧ (\u001b[1m\u001b[36mstd(cntrd)\u001b[0m \u001b[1m<\u001b[0m\u001b[0m 152.23591219501) ∧ (\u001b[1m\u001b[36mbsm(entrp)\u001b[0m \u001b[1m≥\u001b[0m\u001b[0m 6.0)\u001b[0m │    Healthy │        101 │        1 │ 0.00990099 │        1.0 │    2.02 │      5 │      4 │\n",
      "│                                                                                                                                                                                                                                (\u001b[1m\u001b[36mmax(cntrd)\u001b[0m \u001b[1m≥\u001b[0m\u001b[0m 1175.142326739371) ∧ (\u001b[1m\u001b[36mstd(flatn)\u001b[0m \u001b[1m<\u001b[0m\u001b[0m 0.05702248013266628) ∧ (\u001b[1m\u001b[36mmed(decrs)\u001b[0m \u001b[1m≥\u001b[0m\u001b[0m -0.23021399168102558) ∧ (\u001b[1m\u001b[36mstd(cntrd)\u001b[0m \u001b[1m≥\u001b[0m\u001b[0m 152.23591219501)\u001b[0m │    Healthy │        101 │        7 │  0.0693069 │   0.857143 │ 1.73143 │      4 │      3 │\n",
      "│                                                                                                                                                                                                                                                                                                       (\u001b[1m\u001b[36mmax(cntrd)\u001b[0m \u001b[1m≥\u001b[0m\u001b[0m 1175.142326739371) ∧ (\u001b[1m\u001b[36mstd(flatn)\u001b[0m \u001b[1m≥\u001b[0m\u001b[0m 0.05702248013266628)\u001b[0m │    Healthy │        101 │       25 │   0.247525 │       0.96 │  1.9392 │      2 │      1 │\n",
      "└─────────────────────────────────────────────────────────────────────────────────────────────────────────────────────────────────────────────────────────────────────────────────────────────────────────────────────────────────────────────────────────────────────────────────────────────────────────────────────────────────────────────────────────────────────────────┴────────────┴────────────┴──────────┴────────────┴────────────┴─────────┴────────┴────────┘\n"
     ]
    }
   ],
   "source": [
    "metricstable(interesting_rules; variable_names_map = variable_names, metrics_kwargs = (; round_digits = nothing, additional_metrics = (; height = r->SoleLogics.height(antecedent(r)))))"
   ]
  },
  {
   "cell_type": "markdown",
   "metadata": {},
   "source": [
    "# Inspect features"
   ]
  },
  {
   "cell_type": "code",
   "execution_count": 11,
   "metadata": {},
   "outputs": [
    {
     "name": "stdout",
     "output_type": "stream",
     "text": [
      "\u001b[34m▣\u001b[0m (\u001b[1m\u001b[36mmax(cntrd)\u001b[0m \u001b[1m<\u001b[0m\u001b[0m 1175.14) ∧ (\u001b[1m\u001b[33mmin(mel8=1194Hz)\u001b[0m \u001b[1m<\u001b[0m\u001b[0m -4.25) ∧ (\u001b[1m\u001b[33mstd(mel13=2832Hz)\u001b[0m \u001b[1m<\u001b[0m\u001b[0m 0.13) ∧ (\u001b[1m\u001b[33mstd(mel9=1419Hz)\u001b[0m \u001b[1m<\u001b[0m\u001b[0m 0.28)  ↣  Pneumonia : (ninstances = 101, ncovered = 28, coverage = 0.28, confidence = 0.96, lift = 1.91, natoms = 4)\n",
      "\u001b[34m▣\u001b[0m (\u001b[1m\u001b[36mmax(cntrd)\u001b[0m \u001b[1m≥\u001b[0m\u001b[0m 1175.14) ∧ (\u001b[1m\u001b[36mstd(flatn)\u001b[0m \u001b[1m≥\u001b[0m\u001b[0m 0.06)  ↣  Healthy : (ninstances = 101, ncovered = 25, coverage = 0.25, confidence = 0.96, lift = 1.94, natoms = 2)\n"
     ]
    }
   ],
   "source": [
    "interesting_rules = listrules(sole_dt,\n",
    "\tmin_lift = 1.0,\n",
    "\t# min_lift = 2.0,\n",
    "\tmin_ninstances = 0,\n",
    "\tmin_coverage = 0.10,\n",
    "\tnormalize = true,\n",
    ");\n",
    "map(r->(consequent(r), readmetrics(r)), interesting_rules)\n",
    "printmodel.(interesting_rules; show_metrics = true, syntaxstring_kwargs = (; threshold_digits = 2), variable_names_map=variable_names);"
   ]
  },
  {
   "cell_type": "code",
   "execution_count": 12,
   "metadata": {},
   "outputs": [
    {
     "data": {
      "text/plain": [
       "5-element Vector{Symbol}:\n",
       " Symbol(\"max(cntrd)\")\n",
       " Symbol(\"min(mel8=1194Hz)\")\n",
       " Symbol(\"std(flatn)\")\n",
       " Symbol(\"std(mel13=2832Hz)\")\n",
       " Symbol(\"std(mel9=1419Hz)\")"
      ]
     },
     "metadata": {},
     "output_type": "display_data"
    }
   ],
   "source": [
    "interesting_features = unique(SoleData.feature.(SoleLogics.value.(vcat(SoleLogics.atoms.(i.antecedent for i in interesting_rules)...))))\n",
    "interesting_variables = sort(SoleData.i_variable.(interesting_features))"
   ]
  }
 ],
 "metadata": {
  "kernelspec": {
   "display_name": "Julia 1.10.5",
   "language": "julia",
   "name": "julia-1.10"
  },
  "language_info": {
   "file_extension": ".jl",
   "mimetype": "application/julia",
   "name": "julia",
   "version": "1.10.5"
  }
 },
 "nbformat": 4,
 "nbformat_minor": 2
}
