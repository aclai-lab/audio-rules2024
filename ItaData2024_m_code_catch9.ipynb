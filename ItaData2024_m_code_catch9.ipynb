{
 "cells": [
  {
   "cell_type": "markdown",
   "metadata": {},
   "source": [
    "# ItaData2024\n",
    "modal example"
   ]
  },
  {
   "cell_type": "code",
   "execution_count": 1,
   "metadata": {},
   "outputs": [
    {
     "name": "stderr",
     "output_type": "stream",
     "text": [
      "\u001b[32m\u001b[1m  Activating\u001b[22m\u001b[39m project at `~/audio-rules2024`\n"
     ]
    }
   ],
   "source": [
    "using Pkg\n",
    "Pkg.activate(\".\")\n",
    "# Pkg.resolve()\n",
    "# Pkg.instantiate()\n",
    "# Pkg.dev(\"SoleModels\")\n",
    "# Pkg.dev(\"Audio911\")\n",
    "# Pkg.dev(\"SoleData\")\n",
    "using MLJ, ModalDecisionTrees\n",
    "using SoleDecisionTreeInterface, Sole, SoleData\n",
    "using CategoricalArrays\n",
    "using DataFrames, JLD2, CSV\n",
    "using Audio911\n",
    "using Random\n",
    "using StatsBase, Catch22"
   ]
  },
  {
   "cell_type": "markdown",
   "metadata": {},
   "source": [
    "### Open .jld2 file\n",
    "the file contains 504 samples of respiratory sound, labeled with 2 classes: healty and pneumonia"
   ]
  },
  {
   "cell_type": "code",
   "execution_count": 2,
   "metadata": {},
   "outputs": [],
   "source": [
    "ds_path = \"/datasets/respiratory_Healthy_Pneumonia\"\n",
    "\n",
    "d = jldopen(string((@__DIR__), ds_path, \".jld2\"))\n",
    "x, y = d[\"dataframe_validated\"]\n",
    "@assert x isa DataFrame\n",
    "close(d)"
   ]
  },
  {
   "cell_type": "markdown",
   "metadata": {},
   "source": [
    "### Audio features extraction function\n",
    "This function is called for every audio sample and extract 51 features:\n",
    "26 bands of the mel spectrogram,\n",
    "13 coefficients of the mfcc\n",
    "12 spectral features: centroid, crest, entropy, f0, flatness, flux, kurtosis, rolloff, skewness, decrease, slope, spread"
   ]
  },
  {
   "cell_type": "code",
   "execution_count": 3,
   "metadata": {},
   "outputs": [
    {
     "data": {
      "text/plain": [
       "afe (generic function with 1 method)"
      ]
     },
     "metadata": {},
     "output_type": "display_data"
    }
   ],
   "source": [
    "nan_replacer!(x::AbstractArray{Float64}) = replace!(x, NaN => 0.0)\n",
    "\n",
    "function afe(x::AbstractVector{Float64}; get_only_melfreq=false)\n",
    "    # -------------------------------- parameters -------------------------------- #\n",
    "    # audio module\n",
    "    sr = 8000\n",
    "    norm = true\n",
    "    speech_detection = false\n",
    "    # stft module\n",
    "    stft_length = 1024\n",
    "    win_type = (:hann, :periodic)\n",
    "    win_length = 1024\n",
    "    overlap_length = 512\n",
    "    stft_norm = :power                      # :power, :magnitude, :pow2mag\n",
    "    # mel filterbank module\n",
    "    nbands = 26\n",
    "    scale = :mel_htk                        # :mel_htk, :mel_slaney, :erb, :bark\n",
    "    melfb_norm = :bandwidth                 # :bandwidth, :area, :none\n",
    "    freq_range = (300, round(Int, sr / 2))\n",
    "    # mel spectrogram module\n",
    "    db_scale = false\n",
    "    # mfcc module\n",
    "    ncoeffs = 13\n",
    "    rectification = :log                    # :log, :cubic_root\n",
    "    dither = true\n",
    "    # f0 module\n",
    "    method = :nfc\n",
    "    f0_range = (50, 400)\n",
    "\n",
    "    # --------------------------------- functions -------------------------------- #\n",
    "    # audio module\n",
    "    audio = load_audio(\n",
    "        file=x,\n",
    "        sr=sr,\n",
    "        norm=norm,\n",
    "    );\n",
    "\n",
    "    stftspec = get_stft(\n",
    "        audio=audio,\n",
    "        stft_length=stft_length,\n",
    "        win_type=win_type,\n",
    "        win_length=win_length,\n",
    "        overlap_length=overlap_length,\n",
    "        norm=stft_norm\n",
    "    );\n",
    "\n",
    "    # mel filterbank module\n",
    "    melfb = get_melfb(\n",
    "        stft=stftspec,\n",
    "        nbands=nbands,\n",
    "        scale=scale,\n",
    "        norm=melfb_norm,\n",
    "        freq_range=freq_range\n",
    "    );\n",
    "\n",
    "    if get_only_melfreq\n",
    "        return melfb.freq\n",
    "    end\n",
    "\n",
    "    # mel spectrogram module\n",
    "    melspec =  get_melspec(\n",
    "        stft=stftspec,\n",
    "        fbank=melfb,\n",
    "        db_scale=db_scale\n",
    "    );\n",
    "\n",
    "    # mfcc module\n",
    "    mfcc = get_mfcc(\n",
    "        source=melspec,\n",
    "        ncoeffs=ncoeffs,\n",
    "        rectification=rectification,\n",
    "        dither=dither,\n",
    "    );\n",
    "\n",
    "    # f0 module\n",
    "    f0 = get_f0(\n",
    "        source=stftspec,\n",
    "        method=method,\n",
    "        freq_range=f0_range\n",
    "    );\n",
    "\n",
    "    # spectral features module\n",
    "    spect = get_spectrals(\n",
    "        source=stftspec,\n",
    "        freq_range=freq_range\n",
    "    );\n",
    "\n",
    "    x_features = hcat(\n",
    "        melspec.spec',\n",
    "        mfcc.mfcc',\n",
    "        f0.f0,\n",
    "        spect.centroid,\n",
    "        spect.crest,\n",
    "        spect.entropy,\n",
    "        spect.flatness,\n",
    "        spect.flux,\n",
    "        spect.kurtosis,\n",
    "        spect.rolloff,\n",
    "        spect.skewness,\n",
    "        spect.decrease,\n",
    "        spect.slope,\n",
    "        spect.spread\n",
    "    );\n",
    "\n",
    "    nan_replacer!(x_features)\n",
    "\n",
    "    return x_features\n",
    "end"
   ]
  },
  {
   "cell_type": "markdown",
   "metadata": {},
   "source": [
    "### Compute DataFrame of features"
   ]
  },
  {
   "cell_type": "code",
   "execution_count": 4,
   "metadata": {},
   "outputs": [],
   "source": [
    "color_code = Dict(:red => 31, :green => 32, :yellow => 33, :blue => 34, :magenta => 35, :cyan => 36)\n",
    "freq = round.(Int, afe(x[1, :audio]; get_only_melfreq=true))\n",
    "r_select = r\"\\e\\[\\d+m(.*?)\\e\\[0m\"\n",
    "variable_names = [\n",
    "    [\"\\e[$(color_code[:yellow])mmel$i=$(freq[i])Hz\\e[0m\" for i in 1:26]...,\n",
    "    [\"\\e[$(color_code[:red])mmfcc$i\\e[0m\" for i in 1:13]...,\n",
    "    \"\\e[$(color_code[:green])mf0\\e[0m\", \"\\e[$(color_code[:cyan])mcntrd\\e[0m\", \"\\e[$(color_code[:cyan])mcrest\\e[0m\",\n",
    "    \"\\e[$(color_code[:cyan])mentrp\\e[0m\", \"\\e[$(color_code[:cyan])mflatn\\e[0m\", \"\\e[$(color_code[:cyan])mflux\\e[0m\",\n",
    "    \"\\e[$(color_code[:cyan])mkurts\\e[0m\", \"\\e[$(color_code[:cyan])mrllff\\e[0m\", \"\\e[$(color_code[:cyan])mskwns\\e[0m\",\n",
    "    \"\\e[$(color_code[:cyan])mdecrs\\e[0m\", \"\\e[$(color_code[:cyan])mslope\\e[0m\", \"\\e[$(color_code[:cyan])msprd\\e[0m\"\n",
    "]\n",
    "\n",
    "X = DataFrame([name => Vector{Float64}[] for name in [match(r_select, v)[1] for v in variable_names]])\n",
    "\n",
    "function mean_longstretch1(x) Catch22.SB_BinaryStats_mean_longstretch1((x)) end\n",
    "function diff_longstretch0(x) Catch22.SB_BinaryStats_diff_longstretch0((x)) end\n",
    "function quantile_hh(x) Catch22.SB_MotifThree_quantile_hh((x)) end\n",
    "function sumdiagcov(x) Catch22.SB_TransitionMatrix_3ac_sumdiagcov((x)) end\n",
    "\n",
    "nan_guard = [:std, :mean_longstretch1, :diff_longstretch0, :quantile_hh, :sumdiagcov]\n",
    "\n",
    "for f_name in nan_guard\n",
    "    @eval (function $(Symbol(string(f_name)*\"+\"))(channel)\n",
    "        val = $(f_name)(channel)\n",
    "\n",
    "        if isnan(val)\n",
    "            SoleData.aggregator_bottom(SoleData.existential_aggregator(≥), eltype(channel))\n",
    "        else\n",
    "            eltype(channel)(val)\n",
    "        end\n",
    "    end)\n",
    "    @eval (function $(Symbol(string(f_name)*\"-\"))(channel)\n",
    "        val = $(f_name)(channel)\n",
    "\n",
    "        if isnan(val)\n",
    "            SoleData.aggregator_bottom(SoleData.existential_aggregator(≤), eltype(channel))\n",
    "        else\n",
    "            eltype(channel)(val)\n",
    "        end\n",
    "    end)\n",
    "end\n",
    "\n",
    "function get_patched_feature(f::Base.Callable, polarity::Symbol)\n",
    "    if f in [minimum, maximum, StatsBase.mean, median]\n",
    "        f\n",
    "    else\n",
    "        @eval $(Symbol(string(f)*string(polarity)))\n",
    "    end\n",
    "end\n",
    "\n",
    "features = [\n",
    "    (≥, get_patched_feature(maximum, :+)),            (≤, get_patched_feature(maximum, :-)),\n",
    "    (≥, get_patched_feature(minimum, :+)),            (≤, get_patched_feature(minimum, :-)),\n",
    "    (≥, get_patched_feature(StatsBase.mean, :+)),     (≤, get_patched_feature(StatsBase.mean, :-)),\n",
    "    (≥, get_patched_feature(median, :+)),             (≤, get_patched_feature(median, :-)),\n",
    "\t(≥, get_patched_feature(std, :+)),                (≤, get_patched_feature(std, :-)),\n",
    "\t(≥, get_patched_feature(mean_longstretch1, :+)),  (≤, get_patched_feature(mean_longstretch1, :-)),\n",
    "\t(≥, get_patched_feature(diff_longstretch0, :+)),  (≤, get_patched_feature(diff_longstretch0, :-)),\n",
    "\t(≥, get_patched_feature(quantile_hh, :+)),        (≤, get_patched_feature(quantile_hh, :-)),\n",
    "\t(≥, get_patched_feature(sumdiagcov, :+)),         (≤, get_patched_feature(sumdiagcov, :-)),\n",
    "]\n",
    "\n",
    "for i in 1:nrow(x)\n",
    "    push!(X, collect(eachcol(afe(x[i, :audio]))))\n",
    "end\n",
    "\n",
    "yc = CategoricalArray(y);"
   ]
  },
  {
   "cell_type": "markdown",
   "metadata": {},
   "source": [
    "### Data compression for modal analysis"
   ]
  },
  {
   "cell_type": "code",
   "execution_count": 5,
   "metadata": {},
   "outputs": [
    {
     "name": "stdout",
     "output_type": "stream",
     "text": [
      "Training set size: (403, 51) - 403\n",
      "Test set size: (101, 51) - 101\n"
     ]
    }
   ],
   "source": [
    "train_ratio = 0.8\n",
    "train, test = partition(eachindex(yc), train_ratio, shuffle=true)\n",
    "# train, test = partition(eachindex(yc), train_ratio, shuffle=false) ### Debug\n",
    "X_train, y_train = X[train, :], yc[train]\n",
    "X_test, y_test = X[test, :], yc[test]\n",
    "\n",
    "println(\"Training set size: \", size(X_train), \" - \", length(y_train))\n",
    "println(\"Test set size: \", size(X_test), \" - \", length(y_test))"
   ]
  },
  {
   "cell_type": "markdown",
   "metadata": {},
   "source": [
    "### Train a model"
   ]
  },
  {
   "cell_type": "code",
   "execution_count": 6,
   "metadata": {},
   "outputs": [
    {
     "name": "stderr",
     "output_type": "stream",
     "text": [
      "┌ Info: Precomputing logiset...\n",
      "└ @ ModalDecisionTrees.MLJInterface /home/paso/.julia/dev/ModalDecisionTrees.jl/src/interfaces/MLJ/wrapdataset.jl:135\n",
      "┌ Info: Training machine(ModalDecisionTree(max_depth = nothing, …), …).\n",
      "└ @ MLJBase /home/paso/.julia/packages/MLJBase/7nGJF/src/machines.jl:499\n"
     ]
    },
    {
     "name": "stdout",
     "output_type": "stream",
     "text": [
      "\u001b[34m▣\u001b[0m ⟨G⟩(\u001b[1mmax[\u001b[31mmfcc3\u001b[0m] \u001b[1m≤\u001b[0m\u001b[0m 0.08932931340872206)\n",
      "├✔ ⟨G⟩((\u001b[1mmax[\u001b[31mmfcc3\u001b[0m] \u001b[1m≤\u001b[0m\u001b[0m 0.08932931340872206) ∧ ⟨AO⟩(\u001b[1mmin[\u001b[31mmfcc2\u001b[0m] \u001b[1m≤\u001b[0m\u001b[0m 2.3026736620518395))\n",
      "│├✔ Healthy\n",
      "│└✘ ⟨G⟩((\u001b[1mmax[\u001b[31mmfcc3\u001b[0m] \u001b[1m≤\u001b[0m\u001b[0m 0.08932931340872206) ∧ ⟨G⟩(\u001b[1mmax[\u001b[31mmfcc9\u001b[0m] \u001b[1m≥\u001b[0m\u001b[0m 0.6113784530484502))\n",
      "│ ├✔ Healthy\n",
      "│ └✘ ⟨G⟩((\u001b[1mmax[\u001b[31mmfcc3\u001b[0m] \u001b[1m≤\u001b[0m\u001b[0m 0.08932931340872206) ∧ ⟨D̅B̅E̅⟩(\u001b[1mmean[\u001b[31mmfcc7\u001b[0m] \u001b[1m≤\u001b[0m\u001b[0m -0.8141953400588126))\n",
      "│  ├✔ Healthy\n",
      "│  └✘ ⟨G⟩((\u001b[1mmax[\u001b[31mmfcc3\u001b[0m] \u001b[1m≤\u001b[0m\u001b[0m 0.08932931340872206) ∧ ⟨D̅B̅E̅⟩(\u001b[1mmean[\u001b[31mmfcc13\u001b[0m] \u001b[1m≤\u001b[0m\u001b[0m -0.22491697821633488))\n",
      "│   ├✔ Healthy\n",
      "│   └✘ ⟨G⟩((\u001b[1mmax[\u001b[31mmfcc3\u001b[0m] \u001b[1m≤\u001b[0m\u001b[0m 0.08932931340872206) ∧ ⟨A̅O̅⟩(\u001b[1mmin[\u001b[31mmfcc2\u001b[0m] \u001b[1m≥\u001b[0m\u001b[0m 5.737841125784729))\n",
      "│    ├✔ Pneumonia\n",
      "│    └✘ ⟨G⟩((\u001b[1mmax[\u001b[31mmfcc3\u001b[0m] \u001b[1m≤\u001b[0m\u001b[0m 0.08932931340872206) ∧ ⟨AO⟩(\u001b[1mmin[\u001b[31mmfcc3\u001b[0m] \u001b[1m≤\u001b[0m\u001b[0m 0.04225118548264824))\n",
      "│     ├✔ ⟨G⟩((\u001b[1mmax[\u001b[31mmfcc3\u001b[0m] \u001b[1m≤\u001b[0m\u001b[0m 0.08932931340872206) ∧ ⟨AO⟩((\u001b[1mmin[\u001b[31mmfcc3\u001b[0m] \u001b[1m≤\u001b[0m\u001b[0m 0.04225118548264824) ∧ ⟨A̅O̅⟩(\u001b[1mmax[\u001b[36mdecrs\u001b[0m] \u001b[1m≤\u001b[0m\u001b[0m -0.8159022665280041)))\n",
      "│     │├✔ Pneumonia\n",
      "│     │└✘ Healthy\n",
      "│     └✘ Pneumonia\n",
      "└✘ ⟨G⟩(\u001b[1mquantile_hh+[\u001b[36mkurts\u001b[0m] \u001b[1m≥\u001b[0m\u001b[0m 2.1458417525947544)\n",
      " ├✔ ⟨G⟩((\u001b[1mquantile_hh+[\u001b[36mkurts\u001b[0m] \u001b[1m≥\u001b[0m\u001b[0m 2.1458417525947544) ∧ ⟨D̅B̅E̅⟩(\u001b[1msumdiagcov-[\u001b[36mcrest\u001b[0m] \u001b[1m≤\u001b[0m\u001b[0m 0.005509641873278238))\n",
      " │├✔ ⟨G⟩((\u001b[1mquantile_hh+[\u001b[36mkurts\u001b[0m] \u001b[1m≥\u001b[0m\u001b[0m 2.1458417525947544) ∧ ⟨D̅B̅E̅⟩((\u001b[1msumdiagcov-[\u001b[36mcrest\u001b[0m] \u001b[1m≤\u001b[0m\u001b[0m 0.005509641873278238) ∧ (\u001b[1mquantile_hh-[\u001b[31mmfcc8\u001b[0m] \u001b[1m≤\u001b[0m\u001b[0m 1.7721393884375287)))\n",
      " ││├✔ Pneumonia\n",
      " ││└✘ Healthy\n",
      " │└✘ Pneumonia\n",
      " └✘ Pneumonia\n"
     ]
    }
   ],
   "source": [
    "learned_dt_tree = begin\n",
    "    model = ModalDecisionTree(; relations = :IA7, features = features)                                                                                                                                                                                                                                                                                                                                                                                                                                                                                                                                                                                                                                                      \n",
    "    mach = machine(model, X_train, y_train) |> fit!\n",
    "end\n",
    "\n",
    "report(learned_dt_tree).printmodel(variable_names_map=variable_names);"
   ]
  },
  {
   "cell_type": "markdown",
   "metadata": {},
   "source": [
    "### Model inspection & rule study"
   ]
  },
  {
   "cell_type": "code",
   "execution_count": 7,
   "metadata": {},
   "outputs": [
    {
     "name": "stderr",
     "output_type": "stream",
     "text": [
      "\u001b[32mApplying tree... 100%|███████████████████████████████████| Time: 0:00:02\u001b[39m\n"
     ]
    },
    {
     "name": "stdout",
     "output_type": "stream",
     "text": [
      "\u001b[34m▣\u001b[0m ⟨G⟩(\u001b[1mmax[\u001b[31mmfcc3\u001b[0m] \u001b[1m≤\u001b[0m\u001b[0m 0.08932931340872206)\n",
      "├✔ ⟨G⟩((\u001b[1mmax[\u001b[31mmfcc3\u001b[0m] \u001b[1m≤\u001b[0m\u001b[0m 0.08932931340872206) ∧ ⟨AO⟩(\u001b[1mmin[\u001b[31mmfcc2\u001b[0m] \u001b[1m≤\u001b[0m\u001b[0m 2.3026736620518395))\n",
      "│├✔ Healthy : (ninstances = 25, ncovered = 25, confidence = 0.96, lift = 1.0)\n",
      "│└✘ ⟨G⟩((\u001b[1mmax[\u001b[31mmfcc3\u001b[0m] \u001b[1m≤\u001b[0m\u001b[0m 0.08932931340872206) ∧ ⟨G⟩(\u001b[1mmax[\u001b[31mmfcc9\u001b[0m] \u001b[1m≥\u001b[0m\u001b[0m 0.6113784530484502))\n",
      "│ ├✔ Healthy : (ninstances = 5, ncovered = 5, confidence = 1.0, lift = 1.0)\n",
      "│ └✘ ⟨G⟩((\u001b[1mmax[\u001b[31mmfcc3\u001b[0m] \u001b[1m≤\u001b[0m\u001b[0m 0.08932931340872206) ∧ ⟨D̅B̅E̅⟩(\u001b[1mmean[\u001b[31mmfcc7\u001b[0m] \u001b[1m≤\u001b[0m\u001b[0m -0.8141953400588126))\n",
      "│  ├✔ Healthy : (ninstances = 3, ncovered = 3, confidence = 1.0, lift = 1.0)\n",
      "│  └✘ ⟨G⟩((\u001b[1mmax[\u001b[31mmfcc3\u001b[0m] \u001b[1m≤\u001b[0m\u001b[0m 0.08932931340872206) ∧ ⟨D̅B̅E̅⟩(\u001b[1mmean[\u001b[31mmfcc13\u001b[0m] \u001b[1m≤\u001b[0m\u001b[0m -0.22491697821633488))\n",
      "│   ├✔ ⟨G⟩((\u001b[1mmax[\u001b[31mmfcc3\u001b[0m] \u001b[1m≤\u001b[0m\u001b[0m 0.08932931340872206) ∧ ⟨D̅B̅E̅⟩((\u001b[1mmean[\u001b[31mmfcc13\u001b[0m] \u001b[1m≤\u001b[0m\u001b[0m -0.22491697821633488) ∧ (\u001b[1mmin[\u001b[33mmel12=1289Hz\u001b[0m] \u001b[1m≥\u001b[0m\u001b[0m 0.00021809529872277814)))\n",
      "│   │├✔ Healthy : (ninstances = 4, ncovered = 4, confidence = 0.75, lift = 1.0)\n",
      "│   │└✘ Healthy : (ninstances = 1, ncovered = 1, confidence = 0.0, lift = NaN)\n",
      "│   └✘ ⟨G⟩((\u001b[1mmax[\u001b[31mmfcc3\u001b[0m] \u001b[1m≤\u001b[0m\u001b[0m 0.08932931340872206) ∧ ⟨A̅O̅⟩(\u001b[1mmin[\u001b[31mmfcc2\u001b[0m] \u001b[1m≥\u001b[0m\u001b[0m 5.737841125784729))\n",
      "│    ├✔ Pneumonia : (ninstances = 4, ncovered = 4, confidence = 1.0, lift = 1.0)\n",
      "│    └✘ ⟨G⟩((\u001b[1mmax[\u001b[31mmfcc3\u001b[0m] \u001b[1m≤\u001b[0m\u001b[0m 0.08932931340872206) ∧ ⟨AO⟩(\u001b[1mmin[\u001b[31mmfcc3\u001b[0m] \u001b[1m≤\u001b[0m\u001b[0m 0.04225118548264824))\n",
      "│     ├✔ ⟨G⟩((\u001b[1mmax[\u001b[31mmfcc3\u001b[0m] \u001b[1m≤\u001b[0m\u001b[0m 0.08932931340872206) ∧ ⟨AO⟩((\u001b[1mmin[\u001b[31mmfcc3\u001b[0m] \u001b[1m≤\u001b[0m\u001b[0m 0.04225118548264824) ∧ ⟨A̅O̅⟩(\u001b[1mmax[\u001b[36mdecrs\u001b[0m] \u001b[1m≤\u001b[0m\u001b[0m -0.8159022665280041)))\n",
      "│     │├✔ Pneumonia : (ninstances = 2, ncovered = 2, confidence = 1.0, lift = 1.0)\n",
      "│     │└✘ ⟨G⟩((\u001b[1mmax[\u001b[31mmfcc3\u001b[0m] \u001b[1m≤\u001b[0m\u001b[0m 0.08932931340872206) ∧ ⟨AO⟩((\u001b[1mmin[\u001b[31mmfcc3\u001b[0m] \u001b[1m≤\u001b[0m\u001b[0m 0.04225118548264824) ∧ (\u001b[1mmax[\u001b[33mmel1=359Hz\u001b[0m] \u001b[1m≤\u001b[0m\u001b[0m 0.00252905104637584)))\n",
      "│     │ ├✔ Healthy : (ninstances = 1, ncovered = 1, confidence = 1.0, lift = 1.0)\n",
      "│     │ └✘ Healthy : (ninstances = 1, ncovered = 1, confidence = 0.0, lift = NaN)\n",
      "│     └✘ Pneumonia : (ninstances = 7, ncovered = 7, confidence = 0.86, lift = 1.0)\n",
      "└✘ ⟨G⟩(\u001b[1mquantile_hh+[\u001b[36mkurts\u001b[0m] \u001b[1m≥\u001b[0m\u001b[0m 2.1458417525947544)\n",
      " ├✔ ⟨G⟩((\u001b[1mquantile_hh+[\u001b[36mkurts\u001b[0m] \u001b[1m≥\u001b[0m\u001b[0m 2.1458417525947544) ∧ ⟨D̅B̅E̅⟩(\u001b[1msumdiagcov-[\u001b[36mcrest\u001b[0m] \u001b[1m≤\u001b[0m\u001b[0m 0.005509641873278238))\n",
      " │├✔ ⟨G⟩((\u001b[1mquantile_hh+[\u001b[36mkurts\u001b[0m] \u001b[1m≥\u001b[0m\u001b[0m 2.1458417525947544) ∧ ⟨D̅B̅E̅⟩((\u001b[1msumdiagcov-[\u001b[36mcrest\u001b[0m] \u001b[1m≤\u001b[0m\u001b[0m 0.005509641873278238) ∧ (\u001b[1mquantile_hh-[\u001b[31mmfcc8\u001b[0m] \u001b[1m≤\u001b[0m\u001b[0m 1.7721393884375287)))\n",
      " ││├✔ Pneumonia : (ninstances = 0, ncovered = 0, confidence = NaN, lift = NaN)\n",
      " ││└✘ Healthy : (ninstances = 2, ncovered = 2, confidence = 0.0, lift = NaN)\n",
      " │└✘ Pneumonia : (ninstances = 11, ncovered = 11, confidence = 0.73, lift = 1.0)\n",
      " └✘ Pneumonia : (ninstances = 35, ncovered = 35, confidence = 0.94, lift = 1.0)\n"
     ]
    }
   ],
   "source": [
    "_, mtree = report(mach).sprinkle(X_test, y_test)\n",
    "sole_dt = ModalDecisionTrees.translate(mtree)\n",
    "\n",
    "printmodel(sole_dt; show_metrics = true, variable_names_map=variable_names);"
   ]
  },
  {
   "cell_type": "markdown",
   "metadata": {},
   "source": [
    "### Extract rules that are at least as good as a random baseline model"
   ]
  },
  {
   "cell_type": "code",
   "execution_count": 8,
   "metadata": {},
   "outputs": [
    {
     "name": "stdout",
     "output_type": "stream",
     "text": [
      "\u001b[34m▣\u001b[0m ⟨G⟩((\u001b[1mmax[\u001b[31mmfcc3\u001b[0m] \u001b[1m≤\u001b[0m\u001b[0m 0.08932931340872206) ∧ ⟨AO⟩(\u001b[1mmin[\u001b[31mmfcc2\u001b[0m] \u001b[1m≤\u001b[0m\u001b[0m 2.3026736620518395))  ↣  Healthy : (ninstances = 101, ncovered = 25, coverage = 0.25, confidence = 0.96, lift = 2.31, natoms = 2)\n",
      "\u001b[34m▣\u001b[0m ⟨G⟩((\u001b[1mmax[\u001b[31mmfcc3\u001b[0m] \u001b[1m≤\u001b[0m\u001b[0m 0.08932931340872206) ∧ ⟨G⟩(\u001b[1mmax[\u001b[31mmfcc9\u001b[0m] \u001b[1m≥\u001b[0m\u001b[0m 0.6113784530484502)) ∧ [G]((\u001b[1mmax[\u001b[31mmfcc3\u001b[0m] \u001b[1m≤\u001b[0m\u001b[0m 0.08932931340872206) → [AO](\u001b[1mmin[\u001b[31mmfcc2\u001b[0m] \u001b[1m>\u001b[0m\u001b[0m 2.3026736620518395))  ↣  Healthy : (ninstances = 101, ncovered = 5, coverage = 0.05, confidence = 1.0, lift = 2.4, natoms = 4)\n",
      "\u001b[34m▣\u001b[0m ⟨G⟩((\u001b[1mmax[\u001b[31mmfcc3\u001b[0m] \u001b[1m≤\u001b[0m\u001b[0m 0.08932931340872206) ∧ ⟨D̅B̅E̅⟩(\u001b[1mmean[\u001b[31mmfcc7\u001b[0m] \u001b[1m≤\u001b[0m\u001b[0m -0.8141953400588126)) ∧ [G]((\u001b[1mmax[\u001b[31mmfcc3\u001b[0m] \u001b[1m≤\u001b[0m\u001b[0m 0.08932931340872206) → [AO](\u001b[1mmin[\u001b[31mmfcc2\u001b[0m] \u001b[1m>\u001b[0m\u001b[0m 2.3026736620518395)) ∧ [G]((\u001b[1mmax[\u001b[31mmfcc3\u001b[0m] \u001b[1m≤\u001b[0m\u001b[0m 0.08932931340872206) → [G](\u001b[1mmax[\u001b[31mmfcc9\u001b[0m] \u001b[1m<\u001b[0m\u001b[0m 0.6113784530484502))  ↣  Healthy : (ninstances = 101, ncovered = 3, coverage = 0.03, confidence = 1.0, lift = 2.4, natoms = 6)\n",
      "\u001b[34m▣\u001b[0m ⟨G⟩((\u001b[1mmax[\u001b[31mmfcc3\u001b[0m] \u001b[1m≤\u001b[0m\u001b[0m 0.08932931340872206) ∧ ⟨D̅B̅E̅⟩((\u001b[1mmean[\u001b[31mmfcc13\u001b[0m] \u001b[1m≤\u001b[0m\u001b[0m -0.22491697821633488) ∧ (\u001b[1mmin[\u001b[33mmel12=1289Hz\u001b[0m] \u001b[1m≥\u001b[0m\u001b[0m 0.00021809529872277814))) ∧ [G]((\u001b[1mmax[\u001b[31mmfcc3\u001b[0m] \u001b[1m≤\u001b[0m\u001b[0m 0.08932931340872206) → [AO](\u001b[1mmin[\u001b[31mmfcc2\u001b[0m] \u001b[1m>\u001b[0m\u001b[0m 2.3026736620518395)) ∧ [G]((\u001b[1mmax[\u001b[31mmfcc3\u001b[0m] \u001b[1m≤\u001b[0m\u001b[0m 0.08932931340872206) → [G](\u001b[1mmax[\u001b[31mmfcc9\u001b[0m] \u001b[1m<\u001b[0m\u001b[0m 0.6113784530484502)) ∧ [G]((\u001b[1mmax[\u001b[31mmfcc3\u001b[0m] \u001b[1m≤\u001b[0m\u001b[0m 0.08932931340872206) → [D̅B̅E̅](\u001b[1mmean[\u001b[31mmfcc7\u001b[0m] \u001b[1m>\u001b[0m\u001b[0m -0.8141953400588126))  ↣  Healthy : (ninstances = 101, ncovered = 4, coverage = 0.04, confidence = 0.75, lift = 1.8, natoms = 9)\n",
      "\u001b[34m▣\u001b[0m ⟨G⟩((\u001b[1mmax[\u001b[31mmfcc3\u001b[0m] \u001b[1m≤\u001b[0m\u001b[0m 0.08932931340872206) ∧ ⟨A̅O̅⟩(\u001b[1mmin[\u001b[31mmfcc2\u001b[0m] \u001b[1m≥\u001b[0m\u001b[0m 5.737841125784729)) ∧ [G]((\u001b[1mmax[\u001b[31mmfcc3\u001b[0m] \u001b[1m≤\u001b[0m\u001b[0m 0.08932931340872206) → [AO](\u001b[1mmin[\u001b[31mmfcc2\u001b[0m] \u001b[1m>\u001b[0m\u001b[0m 2.3026736620518395)) ∧ [G]((\u001b[1mmax[\u001b[31mmfcc3\u001b[0m] \u001b[1m≤\u001b[0m\u001b[0m 0.08932931340872206) → [G](\u001b[1mmax[\u001b[31mmfcc9\u001b[0m] \u001b[1m<\u001b[0m\u001b[0m 0.6113784530484502)) ∧ [G]((\u001b[1mmax[\u001b[31mmfcc3\u001b[0m] \u001b[1m≤\u001b[0m\u001b[0m 0.08932931340872206) → [D̅B̅E̅](\u001b[1mmean[\u001b[31mmfcc7\u001b[0m] \u001b[1m>\u001b[0m\u001b[0m -0.8141953400588126)) ∧ [G]((\u001b[1mmax[\u001b[31mmfcc3\u001b[0m] \u001b[1m≤\u001b[0m\u001b[0m 0.08932931340872206) → [D̅B̅E̅](\u001b[1mmean[\u001b[31mmfcc13\u001b[0m] \u001b[1m>\u001b[0m\u001b[0m -0.22491697821633488))  ↣  Pneumonia : (ninstances = 101, ncovered = 4, coverage = 0.04, confidence = 1.0, lift = 1.71, natoms = 10)\n",
      "\u001b[34m▣\u001b[0m ⟨G⟩((\u001b[1mmax[\u001b[31mmfcc3\u001b[0m] \u001b[1m≤\u001b[0m\u001b[0m 0.08932931340872206) ∧ ⟨AO⟩((\u001b[1mmin[\u001b[31mmfcc3\u001b[0m] \u001b[1m≤\u001b[0m\u001b[0m 0.04225118548264824) ∧ ⟨A̅O̅⟩(\u001b[1mmax[\u001b[36mdecrs\u001b[0m] \u001b[1m≤\u001b[0m\u001b[0m -0.8159022665280041))) ∧ [G]((\u001b[1mmax[\u001b[31mmfcc3\u001b[0m] \u001b[1m≤\u001b[0m\u001b[0m 0.08932931340872206) → [AO](\u001b[1mmin[\u001b[31mmfcc2\u001b[0m] \u001b[1m>\u001b[0m\u001b[0m 2.3026736620518395)) ∧ [G]((\u001b[1mmax[\u001b[31mmfcc3\u001b[0m] \u001b[1m≤\u001b[0m\u001b[0m 0.08932931340872206) → [G](\u001b[1mmax[\u001b[31mmfcc9\u001b[0m] \u001b[1m<\u001b[0m\u001b[0m 0.6113784530484502)) ∧ [G]((\u001b[1mmax[\u001b[31mmfcc3\u001b[0m] \u001b[1m≤\u001b[0m\u001b[0m 0.08932931340872206) → [D̅B̅E̅](\u001b[1mmean[\u001b[31mmfcc7\u001b[0m] \u001b[1m>\u001b[0m\u001b[0m -0.8141953400588126)) ∧ [G]((\u001b[1mmax[\u001b[31mmfcc3\u001b[0m] \u001b[1m≤\u001b[0m\u001b[0m 0.08932931340872206) → [D̅B̅E̅](\u001b[1mmean[\u001b[31mmfcc13\u001b[0m] \u001b[1m>\u001b[0m\u001b[0m -0.22491697821633488)) ∧ [G]((\u001b[1mmax[\u001b[31mmfcc3\u001b[0m] \u001b[1m≤\u001b[0m\u001b[0m 0.08932931340872206) → [A̅O̅](\u001b[1mmin[\u001b[31mmfcc2\u001b[0m] \u001b[1m<\u001b[0m\u001b[0m 5.737841125784729))  ↣  Pneumonia : (ninstances = 101, ncovered = 2, coverage = 0.02, confidence = 1.0, lift = 1.71, natoms = 13)\n",
      "\u001b[34m▣\u001b[0m ⟨G⟩((\u001b[1mmax[\u001b[31mmfcc3\u001b[0m] \u001b[1m≤\u001b[0m\u001b[0m 0.08932931340872206) ∧ ⟨AO⟩((\u001b[1mmin[\u001b[31mmfcc3\u001b[0m] \u001b[1m≤\u001b[0m\u001b[0m 0.04225118548264824) ∧ (\u001b[1mmax[\u001b[33mmel1=359Hz\u001b[0m] \u001b[1m≤\u001b[0m\u001b[0m 0.00252905104637584))) ∧ [G]((\u001b[1mmax[\u001b[31mmfcc3\u001b[0m] \u001b[1m≤\u001b[0m\u001b[0m 0.08932931340872206) → [AO](\u001b[1mmin[\u001b[31mmfcc2\u001b[0m] \u001b[1m>\u001b[0m\u001b[0m 2.3026736620518395)) ∧ [G]((\u001b[1mmax[\u001b[31mmfcc3\u001b[0m] \u001b[1m≤\u001b[0m\u001b[0m 0.08932931340872206) → [G](\u001b[1mmax[\u001b[31mmfcc9\u001b[0m] \u001b[1m<\u001b[0m\u001b[0m 0.6113784530484502)) ∧ [G]((\u001b[1mmax[\u001b[31mmfcc3\u001b[0m] \u001b[1m≤\u001b[0m\u001b[0m 0.08932931340872206) → [D̅B̅E̅](\u001b[1mmean[\u001b[31mmfcc7\u001b[0m] \u001b[1m>\u001b[0m\u001b[0m -0.8141953400588126)) ∧ [G]((\u001b[1mmax[\u001b[31mmfcc3\u001b[0m] \u001b[1m≤\u001b[0m\u001b[0m 0.08932931340872206) → [D̅B̅E̅](\u001b[1mmean[\u001b[31mmfcc13\u001b[0m] \u001b[1m>\u001b[0m\u001b[0m -0.22491697821633488)) ∧ [G]((\u001b[1mmax[\u001b[31mmfcc3\u001b[0m] \u001b[1m≤\u001b[0m\u001b[0m 0.08932931340872206) → [A̅O̅](\u001b[1mmin[\u001b[31mmfcc2\u001b[0m] \u001b[1m<\u001b[0m\u001b[0m 5.737841125784729)) ∧ [G]((\u001b[1mmax[\u001b[31mmfcc3\u001b[0m] \u001b[1m≤\u001b[0m\u001b[0m 0.08932931340872206) → [AO]((\u001b[1mmin[\u001b[31mmfcc3\u001b[0m] \u001b[1m≤\u001b[0m\u001b[0m 0.04225118548264824) → [A̅O̅](\u001b[1mmax[\u001b[36mdecrs\u001b[0m] \u001b[1m>\u001b[0m\u001b[0m -0.8159022665280041)))  ↣  Healthy : (ninstances = 101, ncovered = 1, coverage = 0.01, confidence = 1.0, lift = 2.4, natoms = 16)\n",
      "\u001b[34m▣\u001b[0m ⟨G⟩(\u001b[1mmax[\u001b[31mmfcc3\u001b[0m] \u001b[1m≤\u001b[0m\u001b[0m 0.08932931340872206) ∧ [G]((\u001b[1mmax[\u001b[31mmfcc3\u001b[0m] \u001b[1m≤\u001b[0m\u001b[0m 0.08932931340872206) → [AO](\u001b[1mmin[\u001b[31mmfcc2\u001b[0m] \u001b[1m>\u001b[0m\u001b[0m 2.3026736620518395)) ∧ [G]((\u001b[1mmax[\u001b[31mmfcc3\u001b[0m] \u001b[1m≤\u001b[0m\u001b[0m 0.08932931340872206) → [G](\u001b[1mmax[\u001b[31mmfcc9\u001b[0m] \u001b[1m<\u001b[0m\u001b[0m 0.6113784530484502)) ∧ [G]((\u001b[1mmax[\u001b[31mmfcc3\u001b[0m] \u001b[1m≤\u001b[0m\u001b[0m 0.08932931340872206) → [D̅B̅E̅](\u001b[1mmean[\u001b[31mmfcc7\u001b[0m] \u001b[1m>\u001b[0m\u001b[0m -0.8141953400588126)) ∧ [G]((\u001b[1mmax[\u001b[31mmfcc3\u001b[0m] \u001b[1m≤\u001b[0m\u001b[0m 0.08932931340872206) → [D̅B̅E̅](\u001b[1mmean[\u001b[31mmfcc13\u001b[0m] \u001b[1m>\u001b[0m\u001b[0m -0.22491697821633488)) ∧ [G]((\u001b[1mmax[\u001b[31mmfcc3\u001b[0m] \u001b[1m≤\u001b[0m\u001b[0m 0.08932931340872206) → [A̅O̅](\u001b[1mmin[\u001b[31mmfcc2\u001b[0m] \u001b[1m<\u001b[0m\u001b[0m 5.737841125784729)) ∧ [G]((\u001b[1mmax[\u001b[31mmfcc3\u001b[0m] \u001b[1m≤\u001b[0m\u001b[0m 0.08932931340872206) → [AO](\u001b[1mmin[\u001b[31mmfcc3\u001b[0m] \u001b[1m>\u001b[0m\u001b[0m 0.04225118548264824))  ↣  Pneumonia : (ninstances = 101, ncovered = 7, coverage = 0.07, confidence = 0.86, lift = 1.47, natoms = 13)\n",
      "\u001b[34m▣\u001b[0m ⟨G⟩(\u001b[1mquantile_hh+[\u001b[36mkurts\u001b[0m] \u001b[1m≥\u001b[0m\u001b[0m 2.1458417525947544) ∧ [G](\u001b[1mmax[\u001b[31mmfcc3\u001b[0m] \u001b[1m>\u001b[0m\u001b[0m 0.08932931340872206) ∧ [G]((\u001b[1mquantile_hh+[\u001b[36mkurts\u001b[0m] \u001b[1m≥\u001b[0m\u001b[0m 2.1458417525947544) → [D̅B̅E̅](\u001b[1msumdiagcov-[\u001b[36mcrest\u001b[0m] \u001b[1m>\u001b[0m\u001b[0m 0.005509641873278238))  ↣  Pneumonia : (ninstances = 101, ncovered = 11, coverage = 0.11, confidence = 0.73, lift = 1.24, natoms = 4)\n",
      "\u001b[34m▣\u001b[0m [G](\u001b[1mmax[\u001b[31mmfcc3\u001b[0m] \u001b[1m>\u001b[0m\u001b[0m 0.08932931340872206) ∧ [G](\u001b[1mquantile_hh+[\u001b[36mkurts\u001b[0m] \u001b[1m<\u001b[0m\u001b[0m 2.1458417525947544)  ↣  Pneumonia : (ninstances = 101, ncovered = 35, coverage = 0.35, confidence = 0.94, lift = 1.61, natoms = 2)\n"
     ]
    }
   ],
   "source": [
    "interesting_rules = listrules(sole_dt, min_lift = 1.0, min_ninstances = 0);\n",
    "printmodel.(interesting_rules; show_metrics = true, variable_names_map=variable_names);"
   ]
  },
  {
   "cell_type": "markdown",
   "metadata": {},
   "source": [
    "### Simplify rules while extracting and prettify result"
   ]
  },
  {
   "cell_type": "code",
   "execution_count": 9,
   "metadata": {},
   "outputs": [
    {
     "name": "stdout",
     "output_type": "stream",
     "text": [
      "\u001b[34m▣\u001b[0m ⟨G⟩((\u001b[1mmax[\u001b[31mmfcc3\u001b[0m] \u001b[1m≤\u001b[0m\u001b[0m 0.09) ∧ ⟨AO⟩(\u001b[1mmin[\u001b[31mmfcc2\u001b[0m] \u001b[1m≤\u001b[0m\u001b[0m 2.3))  ↣  Healthy : (ninstances = 101, ncovered = 25, coverage = 0.25, confidence = 0.96, lift = 2.31, natoms = 2)\n",
      "\u001b[34m▣\u001b[0m ⟨G⟩((\u001b[1mmax[\u001b[31mmfcc3\u001b[0m] \u001b[1m≤\u001b[0m\u001b[0m 0.09) ∧ ⟨G⟩(\u001b[1mmax[\u001b[31mmfcc9\u001b[0m] \u001b[1m≥\u001b[0m\u001b[0m 0.61)) ∧ [G]((\u001b[1mmax[\u001b[31mmfcc3\u001b[0m] \u001b[1m≤\u001b[0m\u001b[0m 0.09) → [AO](\u001b[1mmin[\u001b[31mmfcc2\u001b[0m] \u001b[1m>\u001b[0m\u001b[0m 2.3))  ↣  Healthy : (ninstances = 101, ncovered = 5, coverage = 0.05, confidence = 1.0, lift = 2.4, natoms = 4)\n",
      "\u001b[34m▣\u001b[0m ⟨G⟩((\u001b[1mmax[\u001b[31mmfcc3\u001b[0m] \u001b[1m≤\u001b[0m\u001b[0m 0.09) ∧ ⟨D̅B̅E̅⟩(\u001b[1mmean[\u001b[31mmfcc7\u001b[0m] \u001b[1m≤\u001b[0m\u001b[0m -0.81)) ∧ [G]((\u001b[1mmax[\u001b[31mmfcc3\u001b[0m] \u001b[1m≤\u001b[0m\u001b[0m 0.09) → [AO](\u001b[1mmin[\u001b[31mmfcc2\u001b[0m] \u001b[1m>\u001b[0m\u001b[0m 2.3)) ∧ [G]((\u001b[1mmax[\u001b[31mmfcc3\u001b[0m] \u001b[1m≤\u001b[0m\u001b[0m 0.09) → [G](\u001b[1mmax[\u001b[31mmfcc9\u001b[0m] \u001b[1m<\u001b[0m\u001b[0m 0.61))  ↣  Healthy : (ninstances = 101, ncovered = 3, coverage = 0.03, confidence = 1.0, lift = 2.4, natoms = 6)\n",
      "\u001b[34m▣\u001b[0m ⟨G⟩((\u001b[1mmax[\u001b[31mmfcc3\u001b[0m] \u001b[1m≤\u001b[0m\u001b[0m 0.09) ∧ ⟨D̅B̅E̅⟩((\u001b[1mmean[\u001b[31mmfcc13\u001b[0m] \u001b[1m≤\u001b[0m\u001b[0m -0.22) ∧ (\u001b[1mmin[\u001b[33mmel12=1289Hz\u001b[0m] \u001b[1m≥\u001b[0m\u001b[0m 0.0))) ∧ [G]((\u001b[1mmax[\u001b[31mmfcc3\u001b[0m] \u001b[1m≤\u001b[0m\u001b[0m 0.09) → [AO](\u001b[1mmin[\u001b[31mmfcc2\u001b[0m] \u001b[1m>\u001b[0m\u001b[0m 2.3)) ∧ [G]((\u001b[1mmax[\u001b[31mmfcc3\u001b[0m] \u001b[1m≤\u001b[0m\u001b[0m 0.09) → [G](\u001b[1mmax[\u001b[31mmfcc9\u001b[0m] \u001b[1m<\u001b[0m\u001b[0m 0.61)) ∧ [G]((\u001b[1mmax[\u001b[31mmfcc3\u001b[0m] \u001b[1m≤\u001b[0m\u001b[0m 0.09) → [D̅B̅E̅](\u001b[1mmean[\u001b[31mmfcc7\u001b[0m] \u001b[1m>\u001b[0m\u001b[0m -0.81))  ↣  Healthy : (ninstances = 101, ncovered = 4, coverage = 0.04, confidence = 0.75, lift = 1.8, natoms = 9)\n",
      "\u001b[34m▣\u001b[0m ⟨G⟩((\u001b[1mmax[\u001b[31mmfcc3\u001b[0m] \u001b[1m≤\u001b[0m\u001b[0m 0.09) ∧ ⟨A̅O̅⟩(\u001b[1mmin[\u001b[31mmfcc2\u001b[0m] \u001b[1m≥\u001b[0m\u001b[0m 5.74)) ∧ [G]((\u001b[1mmax[\u001b[31mmfcc3\u001b[0m] \u001b[1m≤\u001b[0m\u001b[0m 0.09) → [AO](\u001b[1mmin[\u001b[31mmfcc2\u001b[0m] \u001b[1m>\u001b[0m\u001b[0m 2.3)) ∧ [G]((\u001b[1mmax[\u001b[31mmfcc3\u001b[0m] \u001b[1m≤\u001b[0m\u001b[0m 0.09) → [G](\u001b[1mmax[\u001b[31mmfcc9\u001b[0m] \u001b[1m<\u001b[0m\u001b[0m 0.61)) ∧ [G]((\u001b[1mmax[\u001b[31mmfcc3\u001b[0m] \u001b[1m≤\u001b[0m\u001b[0m 0.09) → [D̅B̅E̅](\u001b[1mmean[\u001b[31mmfcc7\u001b[0m] \u001b[1m>\u001b[0m\u001b[0m -0.81)) ∧ [G]((\u001b[1mmax[\u001b[31mmfcc3\u001b[0m] \u001b[1m≤\u001b[0m\u001b[0m 0.09) → [D̅B̅E̅](\u001b[1mmean[\u001b[31mmfcc13\u001b[0m] \u001b[1m>\u001b[0m\u001b[0m -0.22))  ↣  Pneumonia : (ninstances = 101, ncovered = 4, coverage = 0.04, confidence = 1.0, lift = 1.71, natoms = 10)\n",
      "\u001b[34m▣\u001b[0m ⟨G⟩((\u001b[1mmax[\u001b[31mmfcc3\u001b[0m] \u001b[1m≤\u001b[0m\u001b[0m 0.09) ∧ ⟨AO⟩((\u001b[1mmin[\u001b[31mmfcc3\u001b[0m] \u001b[1m≤\u001b[0m\u001b[0m 0.04) ∧ ⟨A̅O̅⟩(\u001b[1mmax[\u001b[36mdecrs\u001b[0m] \u001b[1m≤\u001b[0m\u001b[0m -0.82))) ∧ [G]((\u001b[1mmax[\u001b[31mmfcc3\u001b[0m] \u001b[1m≤\u001b[0m\u001b[0m 0.09) → [AO](\u001b[1mmin[\u001b[31mmfcc2\u001b[0m] \u001b[1m>\u001b[0m\u001b[0m 2.3)) ∧ [G]((\u001b[1mmax[\u001b[31mmfcc3\u001b[0m] \u001b[1m≤\u001b[0m\u001b[0m 0.09) → [G](\u001b[1mmax[\u001b[31mmfcc9\u001b[0m] \u001b[1m<\u001b[0m\u001b[0m 0.61)) ∧ [G]((\u001b[1mmax[\u001b[31mmfcc3\u001b[0m] \u001b[1m≤\u001b[0m\u001b[0m 0.09) → [D̅B̅E̅](\u001b[1mmean[\u001b[31mmfcc7\u001b[0m] \u001b[1m>\u001b[0m\u001b[0m -0.81)) ∧ [G]((\u001b[1mmax[\u001b[31mmfcc3\u001b[0m] \u001b[1m≤\u001b[0m\u001b[0m 0.09) → [D̅B̅E̅](\u001b[1mmean[\u001b[31mmfcc13\u001b[0m] \u001b[1m>\u001b[0m\u001b[0m -0.22)) ∧ [G]((\u001b[1mmax[\u001b[31mmfcc3\u001b[0m] \u001b[1m≤\u001b[0m\u001b[0m 0.09) → [A̅O̅](\u001b[1mmin[\u001b[31mmfcc2\u001b[0m] \u001b[1m<\u001b[0m\u001b[0m 5.74))  ↣  Pneumonia : (ninstances = 101, ncovered = 2, coverage = 0.02, confidence = 1.0, lift = 1.71, natoms = 13)\n",
      "\u001b[34m▣\u001b[0m ⟨G⟩((\u001b[1mmax[\u001b[31mmfcc3\u001b[0m] \u001b[1m≤\u001b[0m\u001b[0m 0.09) ∧ ⟨AO⟩((\u001b[1mmin[\u001b[31mmfcc3\u001b[0m] \u001b[1m≤\u001b[0m\u001b[0m 0.04) ∧ (\u001b[1mmax[\u001b[33mmel1=359Hz\u001b[0m] \u001b[1m≤\u001b[0m\u001b[0m 0.0))) ∧ [G]((\u001b[1mmax[\u001b[31mmfcc3\u001b[0m] \u001b[1m≤\u001b[0m\u001b[0m 0.09) → [AO](\u001b[1mmin[\u001b[31mmfcc2\u001b[0m] \u001b[1m>\u001b[0m\u001b[0m 2.3)) ∧ [G]((\u001b[1mmax[\u001b[31mmfcc3\u001b[0m] \u001b[1m≤\u001b[0m\u001b[0m 0.09) → [G](\u001b[1mmax[\u001b[31mmfcc9\u001b[0m] \u001b[1m<\u001b[0m\u001b[0m 0.61)) ∧ [G]((\u001b[1mmax[\u001b[31mmfcc3\u001b[0m] \u001b[1m≤\u001b[0m\u001b[0m 0.09) → [D̅B̅E̅](\u001b[1mmean[\u001b[31mmfcc7\u001b[0m] \u001b[1m>\u001b[0m\u001b[0m -0.81)) ∧ [G]((\u001b[1mmax[\u001b[31mmfcc3\u001b[0m] \u001b[1m≤\u001b[0m\u001b[0m 0.09) → [D̅B̅E̅](\u001b[1mmean[\u001b[31mmfcc13\u001b[0m] \u001b[1m>\u001b[0m\u001b[0m -0.22)) ∧ [G]((\u001b[1mmax[\u001b[31mmfcc3\u001b[0m] \u001b[1m≤\u001b[0m\u001b[0m 0.09) → [A̅O̅](\u001b[1mmin[\u001b[31mmfcc2\u001b[0m] \u001b[1m<\u001b[0m\u001b[0m 5.74)) ∧ [G]((\u001b[1mmax[\u001b[31mmfcc3\u001b[0m] \u001b[1m≤\u001b[0m\u001b[0m 0.09) → [AO]((\u001b[1mmin[\u001b[31mmfcc3\u001b[0m] \u001b[1m≤\u001b[0m\u001b[0m 0.04) → [A̅O̅](\u001b[1mmax[\u001b[36mdecrs\u001b[0m] \u001b[1m>\u001b[0m\u001b[0m -0.82)))  ↣  Healthy : (ninstances = 101, ncovered = 1, coverage = 0.01, confidence = 1.0, lift = 2.4, natoms = 16)\n",
      "\u001b[34m▣\u001b[0m ⟨G⟩(\u001b[1mmax[\u001b[31mmfcc3\u001b[0m] \u001b[1m≤\u001b[0m\u001b[0m 0.09) ∧ [G]((\u001b[1mmax[\u001b[31mmfcc3\u001b[0m] \u001b[1m≤\u001b[0m\u001b[0m 0.09) → [AO](\u001b[1mmin[\u001b[31mmfcc2\u001b[0m] \u001b[1m>\u001b[0m\u001b[0m 2.3)) ∧ [G]((\u001b[1mmax[\u001b[31mmfcc3\u001b[0m] \u001b[1m≤\u001b[0m\u001b[0m 0.09) → [G](\u001b[1mmax[\u001b[31mmfcc9\u001b[0m] \u001b[1m<\u001b[0m\u001b[0m 0.61)) ∧ [G]((\u001b[1mmax[\u001b[31mmfcc3\u001b[0m] \u001b[1m≤\u001b[0m\u001b[0m 0.09) → [D̅B̅E̅](\u001b[1mmean[\u001b[31mmfcc7\u001b[0m] \u001b[1m>\u001b[0m\u001b[0m -0.81)) ∧ [G]((\u001b[1mmax[\u001b[31mmfcc3\u001b[0m] \u001b[1m≤\u001b[0m\u001b[0m 0.09) → [D̅B̅E̅](\u001b[1mmean[\u001b[31mmfcc13\u001b[0m] \u001b[1m>\u001b[0m\u001b[0m -0.22)) ∧ [G]((\u001b[1mmax[\u001b[31mmfcc3\u001b[0m] \u001b[1m≤\u001b[0m\u001b[0m 0.09) → [A̅O̅](\u001b[1mmin[\u001b[31mmfcc2\u001b[0m] \u001b[1m<\u001b[0m\u001b[0m 5.74)) ∧ [G]((\u001b[1mmax[\u001b[31mmfcc3\u001b[0m] \u001b[1m≤\u001b[0m\u001b[0m 0.09) → [AO](\u001b[1mmin[\u001b[31mmfcc3\u001b[0m] \u001b[1m>\u001b[0m\u001b[0m 0.04))  ↣  Pneumonia : (ninstances = 101, ncovered = 7, coverage = 0.07, confidence = 0.86, lift = 1.47, natoms = 13)\n",
      "\u001b[34m▣\u001b[0m ⟨G⟩(\u001b[1mquantile_hh+[\u001b[36mkurts\u001b[0m] \u001b[1m≥\u001b[0m\u001b[0m 2.15) ∧ [G](\u001b[1mmax[\u001b[31mmfcc3\u001b[0m] \u001b[1m>\u001b[0m\u001b[0m 0.09) ∧ [G]((\u001b[1mquantile_hh+[\u001b[36mkurts\u001b[0m] \u001b[1m≥\u001b[0m\u001b[0m 2.15) → [D̅B̅E̅](\u001b[1msumdiagcov-[\u001b[36mcrest\u001b[0m] \u001b[1m>\u001b[0m\u001b[0m 0.01))  ↣  Pneumonia : (ninstances = 101, ncovered = 11, coverage = 0.11, confidence = 0.73, lift = 1.24, natoms = 4)\n",
      "\u001b[34m▣\u001b[0m [G](\u001b[1mmax[\u001b[31mmfcc3\u001b[0m] \u001b[1m>\u001b[0m\u001b[0m 0.09) ∧ [G](\u001b[1mquantile_hh+[\u001b[36mkurts\u001b[0m] \u001b[1m<\u001b[0m\u001b[0m 2.15)  ↣  Pneumonia : (ninstances = 101, ncovered = 35, coverage = 0.35, confidence = 0.94, lift = 1.61, natoms = 2)\n"
     ]
    }
   ],
   "source": [
    "interesting_rules = listrules(sole_dt, min_lift = 1.0, min_ninstances = 0, normalize = true);\n",
    "printmodel.(interesting_rules; show_metrics = true, syntaxstring_kwargs = (; threshold_digits = 2), variable_names_map=variable_names);"
   ]
  },
  {
   "cell_type": "markdown",
   "metadata": {},
   "source": [
    "### Directly access rule metrics"
   ]
  },
  {
   "cell_type": "code",
   "execution_count": 10,
   "metadata": {},
   "outputs": [
    {
     "data": {
      "text/plain": [
       "10-element Vector{@NamedTuple{ninstances::Int64, ncovered::Int64, coverage::Float64, confidence::Float64, lift::Float64, natoms::Int64}}:\n",
       " (ninstances = 101, ncovered = 25, coverage = 0.24752475247524752, confidence = 0.96, lift = 2.3085714285714287, natoms = 2)\n",
       " (ninstances = 101, ncovered = 5, coverage = 0.04950495049504951, confidence = 1.0, lift = 2.4047619047619047, natoms = 4)\n",
       " (ninstances = 101, ncovered = 3, coverage = 0.0297029702970297, confidence = 1.0, lift = 2.4047619047619047, natoms = 6)\n",
       " (ninstances = 101, ncovered = 4, coverage = 0.039603960396039604, confidence = 0.75, lift = 1.8035714285714286, natoms = 9)\n",
       " (ninstances = 101, ncovered = 4, coverage = 0.039603960396039604, confidence = 1.0, lift = 1.7118644067796611, natoms = 10)\n",
       " (ninstances = 101, ncovered = 2, coverage = 0.019801980198019802, confidence = 1.0, lift = 1.7118644067796611, natoms = 13)\n",
       " (ninstances = 101, ncovered = 1, coverage = 0.009900990099009901, confidence = 1.0, lift = 2.4047619047619047, natoms = 16)\n",
       " (ninstances = 101, ncovered = 7, coverage = 0.06930693069306931, confidence = 0.8571428571428571, lift = 1.4673123486682809, natoms = 13)\n",
       " (ninstances = 101, ncovered = 11, coverage = 0.10891089108910891, confidence = 0.7272727272727273, lift = 1.2449922958397537, natoms = 4)\n",
       " (ninstances = 101, ncovered = 35, coverage = 0.3465346534653465, confidence = 0.9428571428571428, lift = 1.614043583535109, natoms = 2)"
      ]
     },
     "metadata": {},
     "output_type": "display_data"
    }
   ],
   "source": [
    "readmetrics.(listrules(sole_dt; min_lift=1.0, min_ninstances = 0))"
   ]
  },
  {
   "cell_type": "markdown",
   "metadata": {},
   "source": [
    "### Show rules with an additional metric (syntax height of the rule's antecedent)"
   ]
  },
  {
   "cell_type": "code",
   "execution_count": 11,
   "metadata": {},
   "outputs": [
    {
     "name": "stdout",
     "output_type": "stream",
     "text": [
      "\u001b[34m▣\u001b[0m ⟨G⟩((\u001b[1mmax[\u001b[31mmfcc3\u001b[0m] \u001b[1m≤\u001b[0m\u001b[0m 0.08932931340872206) ∧ ⟨AO⟩((\u001b[1mmin[\u001b[31mmfcc3\u001b[0m] \u001b[1m≤\u001b[0m\u001b[0m 0.04225118548264824) ∧ (\u001b[1mmax[\u001b[33mmel1=359Hz\u001b[0m] \u001b[1m≤\u001b[0m\u001b[0m 0.00252905104637584))) ∧ [G]((\u001b[1mmax[\u001b[31mmfcc3\u001b[0m] \u001b[1m≤\u001b[0m\u001b[0m 0.08932931340872206) → [AO](\u001b[1mmin[\u001b[31mmfcc2\u001b[0m] \u001b[1m>\u001b[0m\u001b[0m 2.3026736620518395)) ∧ [G]((\u001b[1mmax[\u001b[31mmfcc3\u001b[0m] \u001b[1m≤\u001b[0m\u001b[0m 0.08932931340872206) → [G](\u001b[1mmax[\u001b[31mmfcc9\u001b[0m] \u001b[1m<\u001b[0m\u001b[0m 0.6113784530484502)) ∧ [G]((\u001b[1mmax[\u001b[31mmfcc3\u001b[0m] \u001b[1m≤\u001b[0m\u001b[0m 0.08932931340872206) → [D̅B̅E̅](\u001b[1mmean[\u001b[31mmfcc7\u001b[0m] \u001b[1m>\u001b[0m\u001b[0m -0.8141953400588126)) ∧ [G]((\u001b[1mmax[\u001b[31mmfcc3\u001b[0m] \u001b[1m≤\u001b[0m\u001b[0m 0.08932931340872206) → [D̅B̅E̅](\u001b[1mmean[\u001b[31mmfcc13\u001b[0m] \u001b[1m>\u001b[0m\u001b[0m -0.22491697821633488)) ∧ [G]((\u001b[1mmax[\u001b[31mmfcc3\u001b[0m] \u001b[1m≤\u001b[0m\u001b[0m 0.08932931340872206) → [A̅O̅](\u001b[1mmin[\u001b[31mmfcc2\u001b[0m] \u001b[1m<\u001b[0m\u001b[0m 5.737841125784729)) ∧ [G]((\u001b[1mmax[\u001b[31mmfcc3\u001b[0m] \u001b[1m≤\u001b[0m\u001b[0m 0.08932931340872206) → [AO]((\u001b[1mmin[\u001b[31mmfcc3\u001b[0m] \u001b[1m≤\u001b[0m\u001b[0m 0.04225118548264824) → [A̅O̅](\u001b[1mmax[\u001b[36mdecrs\u001b[0m] \u001b[1m>\u001b[0m\u001b[0m -0.8159022665280041)))  ↣  Healthy : (ninstances = 101, ncovered = 1, coverage = 0.009900990099009901, confidence = 1.0, lift = 2.4047619047619047, natoms = 16, height = 10)\n",
      "\u001b[34m▣\u001b[0m ⟨G⟩((\u001b[1mmax[\u001b[31mmfcc3\u001b[0m] \u001b[1m≤\u001b[0m\u001b[0m 0.08932931340872206) ∧ ⟨AO⟩((\u001b[1mmin[\u001b[31mmfcc3\u001b[0m] \u001b[1m≤\u001b[0m\u001b[0m 0.04225118548264824) ∧ ⟨A̅O̅⟩(\u001b[1mmax[\u001b[36mdecrs\u001b[0m] \u001b[1m≤\u001b[0m\u001b[0m -0.8159022665280041))) ∧ [G]((\u001b[1mmax[\u001b[31mmfcc3\u001b[0m] \u001b[1m≤\u001b[0m\u001b[0m 0.08932931340872206) → [AO](\u001b[1mmin[\u001b[31mmfcc2\u001b[0m] \u001b[1m>\u001b[0m\u001b[0m 2.3026736620518395)) ∧ [G]((\u001b[1mmax[\u001b[31mmfcc3\u001b[0m] \u001b[1m≤\u001b[0m\u001b[0m 0.08932931340872206) → [G](\u001b[1mmax[\u001b[31mmfcc9\u001b[0m] \u001b[1m<\u001b[0m\u001b[0m 0.6113784530484502)) ∧ [G]((\u001b[1mmax[\u001b[31mmfcc3\u001b[0m] \u001b[1m≤\u001b[0m\u001b[0m 0.08932931340872206) → [D̅B̅E̅](\u001b[1mmean[\u001b[31mmfcc7\u001b[0m] \u001b[1m>\u001b[0m\u001b[0m -0.8141953400588126)) ∧ [G]((\u001b[1mmax[\u001b[31mmfcc3\u001b[0m] \u001b[1m≤\u001b[0m\u001b[0m 0.08932931340872206) → [D̅B̅E̅](\u001b[1mmean[\u001b[31mmfcc13\u001b[0m] \u001b[1m>\u001b[0m\u001b[0m -0.22491697821633488)) ∧ [G]((\u001b[1mmax[\u001b[31mmfcc3\u001b[0m] \u001b[1m≤\u001b[0m\u001b[0m 0.08932931340872206) → [A̅O̅](\u001b[1mmin[\u001b[31mmfcc2\u001b[0m] \u001b[1m<\u001b[0m\u001b[0m 5.737841125784729))  ↣  Pneumonia : (ninstances = 101, ncovered = 2, coverage = 0.019801980198019802, confidence = 1.0, lift = 1.7118644067796611, natoms = 13, height = 10)\n",
      "\u001b[34m▣\u001b[0m ⟨G⟩((\u001b[1mmax[\u001b[31mmfcc3\u001b[0m] \u001b[1m≤\u001b[0m\u001b[0m 0.08932931340872206) ∧ ⟨D̅B̅E̅⟩(\u001b[1mmean[\u001b[31mmfcc7\u001b[0m] \u001b[1m≤\u001b[0m\u001b[0m -0.8141953400588126)) ∧ [G]((\u001b[1mmax[\u001b[31mmfcc3\u001b[0m] \u001b[1m≤\u001b[0m\u001b[0m 0.08932931340872206) → [AO](\u001b[1mmin[\u001b[31mmfcc2\u001b[0m] \u001b[1m>\u001b[0m\u001b[0m 2.3026736620518395)) ∧ [G]((\u001b[1mmax[\u001b[31mmfcc3\u001b[0m] \u001b[1m≤\u001b[0m\u001b[0m 0.08932931340872206) → [G](\u001b[1mmax[\u001b[31mmfcc9\u001b[0m] \u001b[1m<\u001b[0m\u001b[0m 0.6113784530484502))  ↣  Healthy : (ninstances = 101, ncovered = 3, coverage = 0.0297029702970297, confidence = 1.0, lift = 2.4047619047619047, natoms = 6, height = 5)\n",
      "\u001b[34m▣\u001b[0m ⟨G⟩((\u001b[1mmax[\u001b[31mmfcc3\u001b[0m] \u001b[1m≤\u001b[0m\u001b[0m 0.08932931340872206) ∧ ⟨D̅B̅E̅⟩((\u001b[1mmean[\u001b[31mmfcc13\u001b[0m] \u001b[1m≤\u001b[0m\u001b[0m -0.22491697821633488) ∧ (\u001b[1mmin[\u001b[33mmel12=1289Hz\u001b[0m] \u001b[1m≥\u001b[0m\u001b[0m 0.00021809529872277814))) ∧ [G]((\u001b[1mmax[\u001b[31mmfcc3\u001b[0m] \u001b[1m≤\u001b[0m\u001b[0m 0.08932931340872206) → [AO](\u001b[1mmin[\u001b[31mmfcc2\u001b[0m] \u001b[1m>\u001b[0m\u001b[0m 2.3026736620518395)) ∧ [G]((\u001b[1mmax[\u001b[31mmfcc3\u001b[0m] \u001b[1m≤\u001b[0m\u001b[0m 0.08932931340872206) → [G](\u001b[1mmax[\u001b[31mmfcc9\u001b[0m] \u001b[1m<\u001b[0m\u001b[0m 0.6113784530484502)) ∧ [G]((\u001b[1mmax[\u001b[31mmfcc3\u001b[0m] \u001b[1m≤\u001b[0m\u001b[0m 0.08932931340872206) → [D̅B̅E̅](\u001b[1mmean[\u001b[31mmfcc7\u001b[0m] \u001b[1m>\u001b[0m\u001b[0m -0.8141953400588126))  ↣  Healthy : (ninstances = 101, ncovered = 4, coverage = 0.039603960396039604, confidence = 0.75, lift = 1.8035714285714286, natoms = 9, height = 7)\n",
      "\u001b[34m▣\u001b[0m ⟨G⟩((\u001b[1mmax[\u001b[31mmfcc3\u001b[0m] \u001b[1m≤\u001b[0m\u001b[0m 0.08932931340872206) ∧ ⟨A̅O̅⟩(\u001b[1mmin[\u001b[31mmfcc2\u001b[0m] \u001b[1m≥\u001b[0m\u001b[0m 5.737841125784729)) ∧ [G]((\u001b[1mmax[\u001b[31mmfcc3\u001b[0m] \u001b[1m≤\u001b[0m\u001b[0m 0.08932931340872206) → [AO](\u001b[1mmin[\u001b[31mmfcc2\u001b[0m] \u001b[1m>\u001b[0m\u001b[0m 2.3026736620518395)) ∧ [G]((\u001b[1mmax[\u001b[31mmfcc3\u001b[0m] \u001b[1m≤\u001b[0m\u001b[0m 0.08932931340872206) → [G](\u001b[1mmax[\u001b[31mmfcc9\u001b[0m] \u001b[1m<\u001b[0m\u001b[0m 0.6113784530484502)) ∧ [G]((\u001b[1mmax[\u001b[31mmfcc3\u001b[0m] \u001b[1m≤\u001b[0m\u001b[0m 0.08932931340872206) → [D̅B̅E̅](\u001b[1mmean[\u001b[31mmfcc7\u001b[0m] \u001b[1m>\u001b[0m\u001b[0m -0.8141953400588126)) ∧ [G]((\u001b[1mmax[\u001b[31mmfcc3\u001b[0m] \u001b[1m≤\u001b[0m\u001b[0m 0.08932931340872206) → [D̅B̅E̅](\u001b[1mmean[\u001b[31mmfcc13\u001b[0m] \u001b[1m>\u001b[0m\u001b[0m -0.22491697821633488))  ↣  Pneumonia : (ninstances = 101, ncovered = 4, coverage = 0.039603960396039604, confidence = 1.0, lift = 1.7118644067796611, natoms = 10, height = 7)\n",
      "\u001b[34m▣\u001b[0m ⟨G⟩((\u001b[1mmax[\u001b[31mmfcc3\u001b[0m] \u001b[1m≤\u001b[0m\u001b[0m 0.08932931340872206) ∧ ⟨G⟩(\u001b[1mmax[\u001b[31mmfcc9\u001b[0m] \u001b[1m≥\u001b[0m\u001b[0m 0.6113784530484502)) ∧ [G]((\u001b[1mmax[\u001b[31mmfcc3\u001b[0m] \u001b[1m≤\u001b[0m\u001b[0m 0.08932931340872206) → [AO](\u001b[1mmin[\u001b[31mmfcc2\u001b[0m] \u001b[1m>\u001b[0m\u001b[0m 2.3026736620518395))  ↣  Healthy : (ninstances = 101, ncovered = 5, coverage = 0.04950495049504951, confidence = 1.0, lift = 2.4047619047619047, natoms = 4, height = 4)\n",
      "\u001b[34m▣\u001b[0m ⟨G⟩(\u001b[1mmax[\u001b[31mmfcc3\u001b[0m] \u001b[1m≤\u001b[0m\u001b[0m 0.08932931340872206) ∧ [G]((\u001b[1mmax[\u001b[31mmfcc3\u001b[0m] \u001b[1m≤\u001b[0m\u001b[0m 0.08932931340872206) → [AO](\u001b[1mmin[\u001b[31mmfcc2\u001b[0m] \u001b[1m>\u001b[0m\u001b[0m 2.3026736620518395)) ∧ [G]((\u001b[1mmax[\u001b[31mmfcc3\u001b[0m] \u001b[1m≤\u001b[0m\u001b[0m 0.08932931340872206) → [G](\u001b[1mmax[\u001b[31mmfcc9\u001b[0m] \u001b[1m<\u001b[0m\u001b[0m 0.6113784530484502)) ∧ [G]((\u001b[1mmax[\u001b[31mmfcc3\u001b[0m] \u001b[1m≤\u001b[0m\u001b[0m 0.08932931340872206) → [D̅B̅E̅](\u001b[1mmean[\u001b[31mmfcc7\u001b[0m] \u001b[1m>\u001b[0m\u001b[0m -0.8141953400588126)) ∧ [G]((\u001b[1mmax[\u001b[31mmfcc3\u001b[0m] \u001b[1m≤\u001b[0m\u001b[0m 0.08932931340872206) → [D̅B̅E̅](\u001b[1mmean[\u001b[31mmfcc13\u001b[0m] \u001b[1m>\u001b[0m\u001b[0m -0.22491697821633488)) ∧ [G]((\u001b[1mmax[\u001b[31mmfcc3\u001b[0m] \u001b[1m≤\u001b[0m\u001b[0m 0.08932931340872206) → [A̅O̅](\u001b[1mmin[\u001b[31mmfcc2\u001b[0m] \u001b[1m<\u001b[0m\u001b[0m 5.737841125784729)) ∧ [G]((\u001b[1mmax[\u001b[31mmfcc3\u001b[0m] \u001b[1m≤\u001b[0m\u001b[0m 0.08932931340872206) → [AO](\u001b[1mmin[\u001b[31mmfcc3\u001b[0m] \u001b[1m>\u001b[0m\u001b[0m 0.04225118548264824))  ↣  Pneumonia : (ninstances = 101, ncovered = 7, coverage = 0.06930693069306931, confidence = 0.8571428571428571, lift = 1.4673123486682809, natoms = 13, height = 9)\n",
      "\u001b[34m▣\u001b[0m ⟨G⟩(\u001b[1mquantile_hh+[\u001b[36mkurts\u001b[0m] \u001b[1m≥\u001b[0m\u001b[0m 2.1458417525947544) ∧ [G](\u001b[1mmax[\u001b[31mmfcc3\u001b[0m] \u001b[1m>\u001b[0m\u001b[0m 0.08932931340872206) ∧ [G]((\u001b[1mquantile_hh+[\u001b[36mkurts\u001b[0m] \u001b[1m≥\u001b[0m\u001b[0m 2.1458417525947544) → [D̅B̅E̅](\u001b[1msumdiagcov-[\u001b[36mcrest\u001b[0m] \u001b[1m>\u001b[0m\u001b[0m 0.005509641873278238))  ↣  Pneumonia : (ninstances = 101, ncovered = 11, coverage = 0.10891089108910891, confidence = 0.7272727272727273, lift = 1.2449922958397537, natoms = 4, height = 4)\n",
      "\u001b[34m▣\u001b[0m ⟨G⟩((\u001b[1mmax[\u001b[31mmfcc3\u001b[0m] \u001b[1m≤\u001b[0m\u001b[0m 0.08932931340872206) ∧ ⟨AO⟩(\u001b[1mmin[\u001b[31mmfcc2\u001b[0m] \u001b[1m≤\u001b[0m\u001b[0m 2.3026736620518395))  ↣  Healthy : (ninstances = 101, ncovered = 25, coverage = 0.24752475247524752, confidence = 0.96, lift = 2.3085714285714287, natoms = 2, height = 3)\n",
      "\u001b[34m▣\u001b[0m [G](\u001b[1mmax[\u001b[31mmfcc3\u001b[0m] \u001b[1m>\u001b[0m\u001b[0m 0.08932931340872206) ∧ [G](\u001b[1mquantile_hh+[\u001b[36mkurts\u001b[0m] \u001b[1m<\u001b[0m\u001b[0m 2.1458417525947544)  ↣  Pneumonia : (ninstances = 101, ncovered = 35, coverage = 0.3465346534653465, confidence = 0.9428571428571428, lift = 1.614043583535109, natoms = 2, height = 2)\n"
     ]
    }
   ],
   "source": [
    "printmodel.(sort(interesting_rules, by = readmetrics); show_metrics = (; round_digits = nothing, additional_metrics = (; height = r->SoleLogics.height(antecedent(r)))), variable_names_map=variable_names);"
   ]
  },
  {
   "cell_type": "markdown",
   "metadata": {},
   "source": [
    "### Pretty table of rules and their metrics"
   ]
  },
  {
   "cell_type": "code",
   "execution_count": 12,
   "metadata": {},
   "outputs": [
    {
     "name": "stdout",
     "output_type": "stream",
     "text": [
      "┌────────────────────────────────────────────────────────────────────────────────────────────────────────────────────────────────────────────────────────────────────────────────────────────────────────────────────────────────────────────────────────────────────────────────────────────────────────────────────────────────────────────────────────────────────────────────────────────────────────────────────────────────────────────────────────────────────────────────────────────────────────────────────────────────────────────────────────────────────────────────────────────────────────────────────────────────────────────────────────────┬────────────┬────────────┬──────────┬────────────┬────────────┬─────────┬────────┬────────┐\n",
      "│\u001b[33;1m                                                                                                                                                                                                                                                                                                                                                                                                                                                                                                                                                                                                                                                 Antecedent \u001b[0m│\u001b[33;1m Consequent \u001b[0m│\u001b[33;1m ninstances \u001b[0m│\u001b[33;1m ncovered \u001b[0m│\u001b[33;1m   coverage \u001b[0m│\u001b[33;1m confidence \u001b[0m│\u001b[33;1m    lift \u001b[0m│\u001b[33;1m natoms \u001b[0m│\u001b[33;1m height \u001b[0m│\n",
      "├────────────────────────────────────────────────────────────────────────────────────────────────────────────────────────────────────────────────────────────────────────────────────────────────────────────────────────────────────────────────────────────────────────────────────────────────────────────────────────────────────────────────────────────────────────────────────────────────────────────────────────────────────────────────────────────────────────────────────────────────────────────────────────────────────────────────────────────────────────────────────────────────────────────────────────────────────────────────────────────┼────────────┼────────────┼──────────┼────────────┼────────────┼─────────┼────────┼────────┤\n",
      "│                                                                                                                                                                                                                                                                                                                                                                                                                                                                                                                                                                                ⟨G⟩(\u001b[1mmax[\u001b[31mmfcc3\u001b[0m] \u001b[1m≤\u001b[0m\u001b[0m 0.08932931340872206 ∧ ⟨AO⟩\u001b[1mmin[\u001b[31mmfcc2\u001b[0m] \u001b[1m≤\u001b[0m\u001b[0m 2.3026736620518395)\u001b[0m │    Healthy │        101 │       25 │   0.247525 │       0.96 │ 2.30857 │      2 │      3 │\n",
      "│                                                                                                                                                                                                                                                                                                                                                                                                                                                                                                   ⟨G⟩(\u001b[1mmax[\u001b[31mmfcc3\u001b[0m] \u001b[1m≤\u001b[0m\u001b[0m 0.08932931340872206 ∧ ⟨G⟩\u001b[1mmax[\u001b[31mmfcc9\u001b[0m] \u001b[1m≥\u001b[0m\u001b[0m 0.6113784530484502) ∧ [G](\u001b[1mmax[\u001b[31mmfcc3\u001b[0m] \u001b[1m≤\u001b[0m\u001b[0m 0.08932931340872206 → [AO]\u001b[1mmin[\u001b[31mmfcc2\u001b[0m] \u001b[1m>\u001b[0m\u001b[0m 2.3026736620518395)\u001b[0m │    Healthy │        101 │        5 │   0.049505 │        1.0 │ 2.40476 │      4 │      4 │\n",
      "│                                                                                                                                                                                                                                                                                                                                                                                                                  ⟨G⟩(\u001b[1mmax[\u001b[31mmfcc3\u001b[0m] \u001b[1m≤\u001b[0m\u001b[0m 0.08932931340872206 ∧ ⟨D̅B̅E̅⟩\u001b[1mmean[\u001b[31mmfcc7\u001b[0m] \u001b[1m≤\u001b[0m\u001b[0m -0.8141953400588126) ∧ [G](\u001b[1mmax[\u001b[31mmfcc3\u001b[0m] \u001b[1m≤\u001b[0m\u001b[0m 0.08932931340872206 → [AO]\u001b[1mmin[\u001b[31mmfcc2\u001b[0m] \u001b[1m>\u001b[0m\u001b[0m 2.3026736620518395) ∧ [G](\u001b[1mmax[\u001b[31mmfcc3\u001b[0m] \u001b[1m≤\u001b[0m\u001b[0m 0.08932931340872206 → [G]\u001b[1mmax[\u001b[31mmfcc9\u001b[0m] \u001b[1m<\u001b[0m\u001b[0m 0.6113784530484502)\u001b[0m │    Healthy │        101 │        3 │   0.029703 │        1.0 │ 2.40476 │      6 │      5 │\n",
      "│                                                                                                                                                                                                                                                                                ⟨G⟩(\u001b[1mmax[\u001b[31mmfcc3\u001b[0m] \u001b[1m≤\u001b[0m\u001b[0m 0.08932931340872206 ∧ ⟨D̅B̅E̅⟩(\u001b[1mmean[\u001b[31mmfcc13\u001b[0m] \u001b[1m≤\u001b[0m\u001b[0m -0.22491697821633488 ∧ \u001b[1mmin[\u001b[33mmel12=1289Hz\u001b[0m] \u001b[1m≥\u001b[0m\u001b[0m 0.00021809529872277814)) ∧ [G](\u001b[1mmax[\u001b[31mmfcc3\u001b[0m] \u001b[1m≤\u001b[0m\u001b[0m 0.08932931340872206 → [AO]\u001b[1mmin[\u001b[31mmfcc2\u001b[0m] \u001b[1m>\u001b[0m\u001b[0m 2.3026736620518395) ∧ [G](\u001b[1mmax[\u001b[31mmfcc3\u001b[0m] \u001b[1m≤\u001b[0m\u001b[0m 0.08932931340872206 → [G]\u001b[1mmax[\u001b[31mmfcc9\u001b[0m] \u001b[1m<\u001b[0m\u001b[0m 0.6113784530484502) ∧ [G](\u001b[1mmax[\u001b[31mmfcc3\u001b[0m] \u001b[1m≤\u001b[0m\u001b[0m 0.08932931340872206 → [D̅B̅E̅]\u001b[1mmean[\u001b[31mmfcc7\u001b[0m] \u001b[1m>\u001b[0m\u001b[0m -0.8141953400588126)\u001b[0m │    Healthy │        101 │        4 │   0.039604 │       0.75 │ 1.80357 │      9 │      7 │\n",
      "│                                                                                                                                                                                                                                                  ⟨G⟩(\u001b[1mmax[\u001b[31mmfcc3\u001b[0m] \u001b[1m≤\u001b[0m\u001b[0m 0.08932931340872206 ∧ ⟨A̅O̅⟩\u001b[1mmin[\u001b[31mmfcc2\u001b[0m] \u001b[1m≥\u001b[0m\u001b[0m 5.737841125784729) ∧ [G](\u001b[1mmax[\u001b[31mmfcc3\u001b[0m] \u001b[1m≤\u001b[0m\u001b[0m 0.08932931340872206 → [AO]\u001b[1mmin[\u001b[31mmfcc2\u001b[0m] \u001b[1m>\u001b[0m\u001b[0m 2.3026736620518395) ∧ [G](\u001b[1mmax[\u001b[31mmfcc3\u001b[0m] \u001b[1m≤\u001b[0m\u001b[0m 0.08932931340872206 → [G]\u001b[1mmax[\u001b[31mmfcc9\u001b[0m] \u001b[1m<\u001b[0m\u001b[0m 0.6113784530484502) ∧ [G](\u001b[1mmax[\u001b[31mmfcc3\u001b[0m] \u001b[1m≤\u001b[0m\u001b[0m 0.08932931340872206 → [D̅B̅E̅]\u001b[1mmean[\u001b[31mmfcc7\u001b[0m] \u001b[1m>\u001b[0m\u001b[0m -0.8141953400588126) ∧ [G](\u001b[1mmax[\u001b[31mmfcc3\u001b[0m] \u001b[1m≤\u001b[0m\u001b[0m 0.08932931340872206 → [D̅B̅E̅]\u001b[1mmean[\u001b[31mmfcc13\u001b[0m] \u001b[1m>\u001b[0m\u001b[0m -0.22491697821633488)\u001b[0m │  Pneumonia │        101 │        4 │   0.039604 │        1.0 │ 1.71186 │     10 │      7 │\n",
      "│                                                                                                                          ⟨G⟩(\u001b[1mmax[\u001b[31mmfcc3\u001b[0m] \u001b[1m≤\u001b[0m\u001b[0m 0.08932931340872206 ∧ ⟨AO⟩(\u001b[1mmin[\u001b[31mmfcc3\u001b[0m] \u001b[1m≤\u001b[0m\u001b[0m 0.04225118548264824 ∧ ⟨A̅O̅⟩\u001b[1mmax[\u001b[36mdecrs\u001b[0m] \u001b[1m≤\u001b[0m\u001b[0m -0.8159022665280041)) ∧ [G](\u001b[1mmax[\u001b[31mmfcc3\u001b[0m] \u001b[1m≤\u001b[0m\u001b[0m 0.08932931340872206 → [AO]\u001b[1mmin[\u001b[31mmfcc2\u001b[0m] \u001b[1m>\u001b[0m\u001b[0m 2.3026736620518395) ∧ [G](\u001b[1mmax[\u001b[31mmfcc3\u001b[0m] \u001b[1m≤\u001b[0m\u001b[0m 0.08932931340872206 → [G]\u001b[1mmax[\u001b[31mmfcc9\u001b[0m] \u001b[1m<\u001b[0m\u001b[0m 0.6113784530484502) ∧ [G](\u001b[1mmax[\u001b[31mmfcc3\u001b[0m] \u001b[1m≤\u001b[0m\u001b[0m 0.08932931340872206 → [D̅B̅E̅]\u001b[1mmean[\u001b[31mmfcc7\u001b[0m] \u001b[1m>\u001b[0m\u001b[0m -0.8141953400588126) ∧ [G](\u001b[1mmax[\u001b[31mmfcc3\u001b[0m] \u001b[1m≤\u001b[0m\u001b[0m 0.08932931340872206 → [D̅B̅E̅]\u001b[1mmean[\u001b[31mmfcc13\u001b[0m] \u001b[1m>\u001b[0m\u001b[0m -0.22491697821633488) ∧ [G](\u001b[1mmax[\u001b[31mmfcc3\u001b[0m] \u001b[1m≤\u001b[0m\u001b[0m 0.08932931340872206 → [A̅O̅]\u001b[1mmin[\u001b[31mmfcc2\u001b[0m] \u001b[1m<\u001b[0m\u001b[0m 5.737841125784729)\u001b[0m │  Pneumonia │        101 │        2 │   0.019802 │        1.0 │ 1.71186 │     13 │     10 │\n",
      "│ ⟨G⟩(\u001b[1mmax[\u001b[31mmfcc3\u001b[0m] \u001b[1m≤\u001b[0m\u001b[0m 0.08932931340872206 ∧ ⟨AO⟩(\u001b[1mmin[\u001b[31mmfcc3\u001b[0m] \u001b[1m≤\u001b[0m\u001b[0m 0.04225118548264824 ∧ \u001b[1mmax[\u001b[33mmel1=359Hz\u001b[0m] \u001b[1m≤\u001b[0m\u001b[0m 0.00252905104637584)) ∧ [G](\u001b[1mmax[\u001b[31mmfcc3\u001b[0m] \u001b[1m≤\u001b[0m\u001b[0m 0.08932931340872206 → [AO]\u001b[1mmin[\u001b[31mmfcc2\u001b[0m] \u001b[1m>\u001b[0m\u001b[0m 2.3026736620518395) ∧ [G](\u001b[1mmax[\u001b[31mmfcc3\u001b[0m] \u001b[1m≤\u001b[0m\u001b[0m 0.08932931340872206 → [G]\u001b[1mmax[\u001b[31mmfcc9\u001b[0m] \u001b[1m<\u001b[0m\u001b[0m 0.6113784530484502) ∧ [G](\u001b[1mmax[\u001b[31mmfcc3\u001b[0m] \u001b[1m≤\u001b[0m\u001b[0m 0.08932931340872206 → [D̅B̅E̅]\u001b[1mmean[\u001b[31mmfcc7\u001b[0m] \u001b[1m>\u001b[0m\u001b[0m -0.8141953400588126) ∧ [G](\u001b[1mmax[\u001b[31mmfcc3\u001b[0m] \u001b[1m≤\u001b[0m\u001b[0m 0.08932931340872206 → [D̅B̅E̅]\u001b[1mmean[\u001b[31mmfcc13\u001b[0m] \u001b[1m>\u001b[0m\u001b[0m -0.22491697821633488) ∧ [G](\u001b[1mmax[\u001b[31mmfcc3\u001b[0m] \u001b[1m≤\u001b[0m\u001b[0m 0.08932931340872206 → [A̅O̅]\u001b[1mmin[\u001b[31mmfcc2\u001b[0m] \u001b[1m<\u001b[0m\u001b[0m 5.737841125784729) ∧ [G](\u001b[1mmax[\u001b[31mmfcc3\u001b[0m] \u001b[1m≤\u001b[0m\u001b[0m 0.08932931340872206 → [AO](\u001b[1mmin[\u001b[31mmfcc3\u001b[0m] \u001b[1m≤\u001b[0m\u001b[0m 0.04225118548264824 → [A̅O̅]\u001b[1mmax[\u001b[36mdecrs\u001b[0m] \u001b[1m>\u001b[0m\u001b[0m -0.8159022665280041))\u001b[0m │    Healthy │        101 │        1 │ 0.00990099 │        1.0 │ 2.40476 │     16 │     10 │\n",
      "│                                                                                                                             ⟨G⟩\u001b[1mmax[\u001b[31mmfcc3\u001b[0m] \u001b[1m≤\u001b[0m\u001b[0m 0.08932931340872206 ∧ [G](\u001b[1mmax[\u001b[31mmfcc3\u001b[0m] \u001b[1m≤\u001b[0m\u001b[0m 0.08932931340872206 → [AO]\u001b[1mmin[\u001b[31mmfcc2\u001b[0m] \u001b[1m>\u001b[0m\u001b[0m 2.3026736620518395) ∧ [G](\u001b[1mmax[\u001b[31mmfcc3\u001b[0m] \u001b[1m≤\u001b[0m\u001b[0m 0.08932931340872206 → [G]\u001b[1mmax[\u001b[31mmfcc9\u001b[0m] \u001b[1m<\u001b[0m\u001b[0m 0.6113784530484502) ∧ [G](\u001b[1mmax[\u001b[31mmfcc3\u001b[0m] \u001b[1m≤\u001b[0m\u001b[0m 0.08932931340872206 → [D̅B̅E̅]\u001b[1mmean[\u001b[31mmfcc7\u001b[0m] \u001b[1m>\u001b[0m\u001b[0m -0.8141953400588126) ∧ [G](\u001b[1mmax[\u001b[31mmfcc3\u001b[0m] \u001b[1m≤\u001b[0m\u001b[0m 0.08932931340872206 → [D̅B̅E̅]\u001b[1mmean[\u001b[31mmfcc13\u001b[0m] \u001b[1m>\u001b[0m\u001b[0m -0.22491697821633488) ∧ [G](\u001b[1mmax[\u001b[31mmfcc3\u001b[0m] \u001b[1m≤\u001b[0m\u001b[0m 0.08932931340872206 → [A̅O̅]\u001b[1mmin[\u001b[31mmfcc2\u001b[0m] \u001b[1m<\u001b[0m\u001b[0m 5.737841125784729) ∧ [G](\u001b[1mmax[\u001b[31mmfcc3\u001b[0m] \u001b[1m≤\u001b[0m\u001b[0m 0.08932931340872206 → [AO]\u001b[1mmin[\u001b[31mmfcc3\u001b[0m] \u001b[1m>\u001b[0m\u001b[0m 0.04225118548264824)\u001b[0m │  Pneumonia │        101 │        7 │  0.0693069 │   0.857143 │ 1.46731 │     13 │      9 │\n",
      "│                                                                                                                                                                                                                                                                                                                                                                                                                                                                         ⟨G⟩\u001b[1mquantile_hh+[\u001b[36mkurts\u001b[0m] \u001b[1m≥\u001b[0m\u001b[0m 2.1458417525947544 ∧ [G]\u001b[1mmax[\u001b[31mmfcc3\u001b[0m] \u001b[1m>\u001b[0m\u001b[0m 0.08932931340872206 ∧ [G](\u001b[1mquantile_hh+[\u001b[36mkurts\u001b[0m] \u001b[1m≥\u001b[0m\u001b[0m 2.1458417525947544 → [D̅B̅E̅]\u001b[1msumdiagcov-[\u001b[36mcrest\u001b[0m] \u001b[1m>\u001b[0m\u001b[0m 0.005509641873278238)\u001b[0m │  Pneumonia │        101 │       11 │   0.108911 │   0.727273 │ 1.24499 │      4 │      4 │\n",
      "│                                                                                                                                                                                                                                                                                                                                                                                                                                                                                                                                                                          [G]\u001b[1mmax[\u001b[31mmfcc3\u001b[0m] \u001b[1m>\u001b[0m\u001b[0m 0.08932931340872206 ∧ [G]\u001b[1mquantile_hh+[\u001b[36mkurts\u001b[0m] \u001b[1m<\u001b[0m\u001b[0m 2.1458417525947544\u001b[0m │  Pneumonia │        101 │       35 │   0.346535 │   0.942857 │ 1.61404 │      2 │      2 │\n",
      "└────────────────────────────────────────────────────────────────────────────────────────────────────────────────────────────────────────────────────────────────────────────────────────────────────────────────────────────────────────────────────────────────────────────────────────────────────────────────────────────────────────────────────────────────────────────────────────────────────────────────────────────────────────────────────────────────────────────────────────────────────────────────────────────────────────────────────────────────────────────────────────────────────────────────────────────────────────────────────────────┴────────────┴────────────┴──────────┴────────────┴────────────┴─────────┴────────┴────────┘\n"
     ]
    }
   ],
   "source": [
    "metricstable(interesting_rules; variable_names_map=variable_names, metrics_kwargs = (; round_digits = nothing, additional_metrics = (; height = r->SoleLogics.height(antecedent(r)))))"
   ]
  }
 ],
 "metadata": {
  "kernelspec": {
   "display_name": "Julia 1.10.3",
   "language": "julia",
   "name": "julia-1.10"
  },
  "language_info": {
   "file_extension": ".jl",
   "mimetype": "application/julia",
   "name": "julia",
   "version": "1.10.3"
  }
 },
 "nbformat": 4,
 "nbformat_minor": 2
}
