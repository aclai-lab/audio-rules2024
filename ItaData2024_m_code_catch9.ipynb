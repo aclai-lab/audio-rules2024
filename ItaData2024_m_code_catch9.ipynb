{
 "cells": [
  {
   "cell_type": "markdown",
   "metadata": {},
   "source": [
    "# ItaData2024\n",
    "modal example"
   ]
  },
  {
   "cell_type": "code",
   "execution_count": 1,
   "metadata": {},
   "outputs": [
    {
     "name": "stderr",
     "output_type": "stream",
     "text": [
      "┌ Warning: Your operating system has run out of inotify capacity.\n",
      "│ Check the current value with `cat /proc/sys/fs/inotify/max_user_watches`.\n",
      "│ Set it to a higher level with, e.g., `echo 65536 | sudo tee -a /proc/sys/fs/inotify/max_user_watches`.\n",
      "│ This requires having administrative privileges on your machine (or talk to your sysadmin).\n",
      "│ See https://github.com/timholy/Revise.jl/issues/26 for more information.\n",
      "└ @ Revise /home/paso/.julia/packages/Revise/uvGMC/src/packagedef.jl:37\n",
      "┌ Warning: Your operating system has run out of inotify capacity.\n",
      "│ Check the current value with `cat /proc/sys/fs/inotify/max_user_watches`.\n",
      "│ Set it to a higher level with, e.g., `echo 65536 | sudo tee -a /proc/sys/fs/inotify/max_user_watches`.\n",
      "│ This requires having administrative privileges on your machine (or talk to your sysadmin).\n",
      "│ See https://github.com/timholy/Revise.jl/issues/26 for more information.\n",
      "└ @ Revise /home/paso/.julia/packages/Revise/uvGMC/src/packagedef.jl:37\n",
      "┌ Warning: Your operating system has run out of inotify capacity.\n",
      "│ Check the current value with `cat /proc/sys/fs/inotify/max_user_watches`.\n",
      "│ Set it to a higher level with, e.g., `echo 65536 | sudo tee -a /proc/sys/fs/inotify/max_user_watches`.\n",
      "│ This requires having administrative privileges on your machine (or talk to your sysadmin).\n",
      "│ See https://github.com/timholy/Revise.jl/issues/26 for more information.\n",
      "└ @ Revise /home/paso/.julia/packages/Revise/uvGMC/src/packagedef.jl:37\n",
      "┌ Warning: Your operating system has run out of inotify capacity.\n",
      "│ Check the current value with `cat /proc/sys/fs/inotify/max_user_watches`.\n",
      "│ Set it to a higher level with, e.g., `echo 65536 | sudo tee -a /proc/sys/fs/inotify/max_user_watches`.\n",
      "│ This requires having administrative privileges on your machine (or talk to your sysadmin).\n",
      "│ See https://github.com/timholy/Revise.jl/issues/26 for more information.\n",
      "└ @ Revise /home/paso/.julia/packages/Revise/uvGMC/src/packagedef.jl:37\n",
      "┌ Warning: Your operating system has run out of inotify capacity.\n",
      "│ Check the current value with `cat /proc/sys/fs/inotify/max_user_watches`.\n",
      "│ Set it to a higher level with, e.g., `echo 65536 | sudo tee -a /proc/sys/fs/inotify/max_user_watches`.\n",
      "│ This requires having administrative privileges on your machine (or talk to your sysadmin).\n",
      "│ See https://github.com/timholy/Revise.jl/issues/26 for more information.\n",
      "└ @ Revise /home/paso/.julia/packages/Revise/uvGMC/src/packagedef.jl:37\n",
      "┌ Warning: Your operating system has run out of inotify capacity.\n",
      "│ Check the current value with `cat /proc/sys/fs/inotify/max_user_watches`.\n",
      "│ Set it to a higher level with, e.g., `echo 65536 | sudo tee -a /proc/sys/fs/inotify/max_user_watches`.\n",
      "│ This requires having administrative privileges on your machine (or talk to your sysadmin).\n",
      "│ See https://github.com/timholy/Revise.jl/issues/26 for more information.\n",
      "└ @ Revise /home/paso/.julia/packages/Revise/uvGMC/src/packagedef.jl:37\n",
      "┌ Warning: Your operating system has run out of inotify capacity.\n",
      "│ Check the current value with `cat /proc/sys/fs/inotify/max_user_watches`.\n",
      "│ Set it to a higher level with, e.g., `echo 65536 | sudo tee -a /proc/sys/fs/inotify/max_user_watches`.\n",
      "│ This requires having administrative privileges on your machine (or talk to your sysadmin).\n",
      "│ See https://github.com/timholy/Revise.jl/issues/26 for more information.\n",
      "└ @ Revise /home/paso/.julia/packages/Revise/uvGMC/src/packagedef.jl:37\n",
      "┌ Warning: Your operating system has run out of inotify capacity.\n",
      "│ Check the current value with `cat /proc/sys/fs/inotify/max_user_watches`.\n",
      "│ Set it to a higher level with, e.g., `echo 65536 | sudo tee -a /proc/sys/fs/inotify/max_user_watches`.\n",
      "│ This requires having administrative privileges on your machine (or talk to your sysadmin).\n",
      "│ See https://github.com/timholy/Revise.jl/issues/26 for more information.\n",
      "└ @ Revise /home/paso/.julia/packages/Revise/uvGMC/src/packagedef.jl:37\n",
      "┌ Warning: Your operating system has run out of inotify capacity.\n",
      "│ Check the current value with `cat /proc/sys/fs/inotify/max_user_watches`.\n",
      "│ Set it to a higher level with, e.g., `echo 65536 | sudo tee -a /proc/sys/fs/inotify/max_user_watches`.\n",
      "│ This requires having administrative privileges on your machine (or talk to your sysadmin).\n",
      "│ See https://github.com/timholy/Revise.jl/issues/26 for more information.\n",
      "└ @ Revise /home/paso/.julia/packages/Revise/uvGMC/src/packagedef.jl:37\n",
      "┌ Warning: Your operating system has run out of inotify capacity.\n",
      "│ Check the current value with `cat /proc/sys/fs/inotify/max_user_watches`.\n",
      "│ Set it to a higher level with, e.g., `echo 65536 | sudo tee -a /proc/sys/fs/inotify/max_user_watches`.\n",
      "│ This requires having administrative privileges on your machine (or talk to your sysadmin).\n",
      "│ See https://github.com/timholy/Revise.jl/issues/26 for more information.\n",
      "└ @ Revise /home/paso/.julia/packages/Revise/uvGMC/src/packagedef.jl:37\n",
      "┌ Warning: Your operating system has run out of inotify capacity.\n",
      "│ Check the current value with `cat /proc/sys/fs/inotify/max_user_watches`.\n",
      "│ Set it to a higher level with, e.g., `echo 65536 | sudo tee -a /proc/sys/fs/inotify/max_user_watches`.\n",
      "│ This requires having administrative privileges on your machine (or talk to your sysadmin).\n",
      "│ See https://github.com/timholy/Revise.jl/issues/26 for more information.\n",
      "└ @ Revise /home/paso/.julia/packages/Revise/uvGMC/src/packagedef.jl:37\n",
      "┌ Warning: Your operating system has run out of inotify capacity.\n",
      "│ Check the current value with `cat /proc/sys/fs/inotify/max_user_watches`.\n",
      "│ Set it to a higher level with, e.g., `echo 65536 | sudo tee -a /proc/sys/fs/inotify/max_user_watches`.\n",
      "│ This requires having administrative privileges on your machine (or talk to your sysadmin).\n",
      "│ See https://github.com/timholy/Revise.jl/issues/26 for more information.\n",
      "└ @ Revise /home/paso/.julia/packages/Revise/uvGMC/src/packagedef.jl:37\n",
      "┌ Warning: Your operating system has run out of inotify capacity.\n",
      "│ Check the current value with `cat /proc/sys/fs/inotify/max_user_watches`.\n",
      "│ Set it to a higher level with, e.g., `echo 65536 | sudo tee -a /proc/sys/fs/inotify/max_user_watches`.\n",
      "│ This requires having administrative privileges on your machine (or talk to your sysadmin).\n",
      "│ See https://github.com/timholy/Revise.jl/issues/26 for more information.\n",
      "└ @ Revise /home/paso/.julia/packages/Revise/uvGMC/src/packagedef.jl:37\n",
      "┌ Warning: Your operating system has run out of inotify capacity.\n",
      "│ Check the current value with `cat /proc/sys/fs/inotify/max_user_watches`.\n",
      "│ Set it to a higher level with, e.g., `echo 65536 | sudo tee -a /proc/sys/fs/inotify/max_user_watches`.\n",
      "│ This requires having administrative privileges on your machine (or talk to your sysadmin).\n",
      "│ See https://github.com/timholy/Revise.jl/issues/26 for more information.\n",
      "└ @ Revise /home/paso/.julia/packages/Revise/uvGMC/src/packagedef.jl:37\n",
      "┌ Warning: Your operating system has run out of inotify capacity.\n",
      "│ Check the current value with `cat /proc/sys/fs/inotify/max_user_watches`.\n",
      "│ Set it to a higher level with, e.g., `echo 65536 | sudo tee -a /proc/sys/fs/inotify/max_user_watches`.\n",
      "│ This requires having administrative privileges on your machine (or talk to your sysadmin).\n",
      "│ See https://github.com/timholy/Revise.jl/issues/26 for more information.\n",
      "└ @ Revise /home/paso/.julia/packages/Revise/uvGMC/src/packagedef.jl:37\n",
      "┌ Warning: Your operating system has run out of inotify capacity.\n",
      "│ Check the current value with `cat /proc/sys/fs/inotify/max_user_watches`.\n",
      "│ Set it to a higher level with, e.g., `echo 65536 | sudo tee -a /proc/sys/fs/inotify/max_user_watches`.\n",
      "│ This requires having administrative privileges on your machine (or talk to your sysadmin).\n",
      "│ See https://github.com/timholy/Revise.jl/issues/26 for more information.\n",
      "└ @ Revise /home/paso/.julia/packages/Revise/uvGMC/src/packagedef.jl:37\n"
     ]
    }
   ],
   "source": [
    "using MLJ, ModalDecisionTrees\n",
    "using SoleDecisionTreeInterface, Sole, SoleData\n",
    "using CategoricalArrays\n",
    "using DataFrames, JLD2, CSV\n",
    "using Audio911\n",
    "using Random\n",
    "using StatsBase, Catch22"
   ]
  },
  {
   "cell_type": "markdown",
   "metadata": {},
   "source": [
    "### Open .jld2 file\n",
    "the file contains 504 samples of respiratory sound, labeled with 2 classes: healty and pneumonia"
   ]
  },
  {
   "cell_type": "code",
   "execution_count": 2,
   "metadata": {},
   "outputs": [],
   "source": [
    "ds_path = \"/datasets/respiratory_Healthy_Pneumonia\"\n",
    "\n",
    "d = jldopen(string((@__DIR__), ds_path, \".jld2\"))\n",
    "x, y = d[\"dataframe_validated\"]\n",
    "@assert x isa DataFrame\n",
    "close(d)"
   ]
  },
  {
   "cell_type": "markdown",
   "metadata": {},
   "source": [
    "### Audio features extraction function\n",
    "This function is called for every audio sample and extract 51 features:\n",
    "26 bands of the mel spectrogram,\n",
    "13 coefficients of the mfcc\n",
    "12 spectral features: centroid, crest, entropy, f0, flatness, flux, kurtosis, rolloff, skewness, decrease, slope, spread"
   ]
  },
  {
   "cell_type": "code",
   "execution_count": 3,
   "metadata": {},
   "outputs": [
    {
     "data": {
      "text/plain": [
       "afe (generic function with 1 method)"
      ]
     },
     "metadata": {},
     "output_type": "display_data"
    }
   ],
   "source": [
    "nan_replacer!(x::AbstractArray{Float64}) = replace!(x, NaN => 0.0)\n",
    "\n",
    "function afe(x::AbstractVector{Float64}; get_only_melfreq=false)\n",
    "    # -------------------------------- parameters -------------------------------- #\n",
    "    # audio module\n",
    "    sr = 8000\n",
    "    norm = true\n",
    "    speech_detection = false\n",
    "    # stft module\n",
    "    # stft_length = 256\n",
    "    # win_type = (:hann, :periodic)\n",
    "    # win_length = 256\n",
    "    # overlap_length = 128\n",
    "    stft_length = 1024\n",
    "    win_type = (:hann, :periodic)\n",
    "    win_length = 1024\n",
    "    overlap_length = 512\n",
    "    stft_norm = :power                      # :power, :magnitude, :pow2mag\n",
    "    # mel filterbank module\n",
    "    nbands = 26\n",
    "    scale = :mel_htk                        # :mel_htk, :mel_slaney, :erb, :bark\n",
    "    melfb_norm = :bandwidth                 # :bandwidth, :area, :none\n",
    "    freq_range = (300, round(Int, sr / 2))\n",
    "    # mel spectrogram module\n",
    "    db_scale = false\n",
    "    # mfcc module\n",
    "    ncoeffs = 13\n",
    "    rectification = :log                    # :log, :cubic_root\n",
    "    dither = true\n",
    "    # f0 module\n",
    "    method = :nfc\n",
    "    f0_range = (50, 400)\n",
    "\n",
    "    # --------------------------------- functions -------------------------------- #\n",
    "    # audio module\n",
    "    audio = load_audio(\n",
    "        file=x,\n",
    "        sr=sr,\n",
    "        norm=norm,\n",
    "    );\n",
    "\n",
    "    stftspec = get_stft(\n",
    "        audio=audio,\n",
    "        stft_length=stft_length,\n",
    "        win_type=win_type,\n",
    "        win_length=win_length,\n",
    "        overlap_length=overlap_length,\n",
    "        norm=stft_norm\n",
    "    );\n",
    "\n",
    "    # mel filterbank module\n",
    "    melfb = get_melfb(\n",
    "        stft=stftspec,\n",
    "        nbands=nbands,\n",
    "        scale=scale,\n",
    "        norm=melfb_norm,\n",
    "        freq_range=freq_range\n",
    "    );\n",
    "\n",
    "    if get_only_melfreq\n",
    "        return melfb.freq\n",
    "    end\n",
    "\n",
    "    # mel spectrogram module\n",
    "    melspec =  get_melspec(\n",
    "        stft=stftspec,\n",
    "        fbank=melfb,\n",
    "        db_scale=db_scale\n",
    "    );\n",
    "\n",
    "    # mfcc module\n",
    "    mfcc = get_mfcc(\n",
    "        source=melspec,\n",
    "        ncoeffs=ncoeffs,\n",
    "        rectification=rectification,\n",
    "        dither=dither,\n",
    "    );\n",
    "\n",
    "    # f0 module\n",
    "    f0 = get_f0(\n",
    "        source=stftspec,\n",
    "        method=method,\n",
    "        freq_range=f0_range\n",
    "    );\n",
    "\n",
    "    # spectral features module\n",
    "    spect = get_spectrals(\n",
    "        source=stftspec,\n",
    "        freq_range=freq_range\n",
    "    );\n",
    "\n",
    "    x_features = hcat(\n",
    "        melspec.spec',\n",
    "        mfcc.mfcc',\n",
    "        f0.f0,\n",
    "        spect.centroid,\n",
    "        spect.crest,\n",
    "        spect.entropy,\n",
    "        spect.flatness,\n",
    "        spect.flux,\n",
    "        spect.kurtosis,\n",
    "        spect.rolloff,\n",
    "        spect.skewness,\n",
    "        spect.decrease,\n",
    "        spect.slope,\n",
    "        spect.spread\n",
    "    );\n",
    "\n",
    "    nan_replacer!(x_features)\n",
    "\n",
    "    return x_features\n",
    "end"
   ]
  },
  {
   "cell_type": "markdown",
   "metadata": {},
   "source": [
    "### Compute DataFrame of features"
   ]
  },
  {
   "cell_type": "code",
   "execution_count": 4,
   "metadata": {},
   "outputs": [],
   "source": [
    "color_code = Dict(:red => 31, :green => 32, :yellow => 33, :blue => 34, :magenta => 35, :cyan => 36)\n",
    "freq = round.(Int, afe(x[1, :audio]; get_only_melfreq=true))\n",
    "r_select = r\"\\e\\[\\d+m(.*?)\\e\\[0m\"\n",
    "variable_names = [\n",
    "    [\"\\e[$(color_code[:yellow])mmel$i=$(freq[i])Hz\\e[0m\" for i in 1:26]...,\n",
    "    [\"\\e[$(color_code[:red])mmfcc$i\\e[0m\" for i in 1:13]...,\n",
    "    \"\\e[$(color_code[:green])mf0\\e[0m\", \"\\e[$(color_code[:cyan])mcntrd\\e[0m\", \"\\e[$(color_code[:cyan])mcrest\\e[0m\",\n",
    "    \"\\e[$(color_code[:cyan])mentrp\\e[0m\", \"\\e[$(color_code[:cyan])mflatn\\e[0m\", \"\\e[$(color_code[:cyan])mflux\\e[0m\",\n",
    "    \"\\e[$(color_code[:cyan])mkurts\\e[0m\", \"\\e[$(color_code[:cyan])mrllff\\e[0m\", \"\\e[$(color_code[:cyan])mskwns\\e[0m\",\n",
    "    \"\\e[$(color_code[:cyan])mdecrs\\e[0m\", \"\\e[$(color_code[:cyan])mslope\\e[0m\", \"\\e[$(color_code[:cyan])msprd\\e[0m\"\n",
    "]\n",
    "\n",
    "X = DataFrame([name => Vector{Float64}[] for name in [match(r_select, v)[1] for v in variable_names]])\n",
    "\n",
    "features = [\n",
    "    maximum,\n",
    "    minimum,\n",
    "    StatsBase.mean,\n",
    "    median,\n",
    "    # std,\n",
    "    # Catch22.SB_BinaryStats_mean_longstretch1,\n",
    "    # Catch22.SB_BinaryStats_diff_longstretch0,\n",
    "    # Catch22.SB_MotifThree_quantile_hh,\n",
    "    # Catch22.SB_TransitionMatrix_3ac_sumdiagcov,\n",
    "]\n",
    "\n",
    "for i in 1:nrow(x)\n",
    "    push!(X, collect(eachcol(afe(x[i, :audio]))))\n",
    "end\n",
    "\n",
    "yc = CategoricalArray(y);"
   ]
  },
  {
   "cell_type": "markdown",
   "metadata": {},
   "source": [
    "### Data compression for modal analysis"
   ]
  },
  {
   "cell_type": "code",
   "execution_count": 5,
   "metadata": {},
   "outputs": [
    {
     "name": "stdout",
     "output_type": "stream",
     "text": [
      "Training set size: (403, 51) - 403\n",
      "Test set size: (101, 51) - 101\n"
     ]
    }
   ],
   "source": [
    "train_ratio = 0.8\n",
    "train, test = partition(eachindex(yc), train_ratio, shuffle=true)\n",
    "# train, test = partition(eachindex(yc), train_ratio, shuffle=false) ### Debug\n",
    "X_train, y_train = X[train, :], yc[train]\n",
    "X_test, y_test = X[test, :], yc[test]\n",
    "\n",
    "println(\"Training set size: \", size(X_train), \" - \", length(y_train))\n",
    "println(\"Test set size: \", size(X_test), \" - \", length(y_test))"
   ]
  },
  {
   "cell_type": "markdown",
   "metadata": {},
   "source": [
    "### Train a model"
   ]
  },
  {
   "cell_type": "code",
   "execution_count": 6,
   "metadata": {},
   "outputs": [
    {
     "name": "stderr",
     "output_type": "stream",
     "text": [
      "┌ Info: Precomputing logiset...\n",
      "└ @ ModalDecisionTrees.MLJInterface /home/paso/.julia/dev/ModalDecisionTrees.jl/src/interfaces/MLJ/wrapdataset.jl:135\n",
      "┌ Info: Training machine(ModalDecisionTree(max_depth = nothing, …), …).\n",
      "└ @ MLJBase /home/paso/.julia/packages/MLJBase/7nGJF/src/machines.jl:499\n"
     ]
    },
    {
     "name": "stdout",
     "output_type": "stream",
     "text": [
      "\u001b[34m▣\u001b[0m ⟨G⟩(\u001b[1mmax[\u001b[31mmfcc3\u001b[0m] \u001b[1m<\u001b[0m\u001b[0m 0.09812318146381033)\n",
      "├✔ ⟨G⟩((\u001b[1mmax[\u001b[31mmfcc3\u001b[0m] \u001b[1m<\u001b[0m\u001b[0m 0.09812318146381033) ∧ ⟨L⟩(\u001b[1mmax[\u001b[31mmfcc2\u001b[0m] \u001b[1m<\u001b[0m\u001b[0m 2.307492451039466))\n",
      "│├✔ Healthy\n",
      "│└✘ ⟨G⟩((\u001b[1mmax[\u001b[31mmfcc3\u001b[0m] \u001b[1m<\u001b[0m\u001b[0m 0.09812318146381033) ∧ ⟨G⟩(\u001b[1mmax[\u001b[31mmfcc9\u001b[0m] \u001b[1m≥\u001b[0m\u001b[0m 0.5976720024804375))\n",
      "│ ├✔ Healthy\n",
      "│ └✘ ⟨G⟩((\u001b[1mmax[\u001b[31mmfcc3\u001b[0m] \u001b[1m<\u001b[0m\u001b[0m 0.09812318146381033) ∧ ⟨D̅B̅E̅⟩(\u001b[1mmax[\u001b[31mmfcc7\u001b[0m] \u001b[1m<\u001b[0m\u001b[0m -0.6642952487692787))\n",
      "│  ├✔ Healthy\n",
      "│  └✘ ⟨G⟩((\u001b[1mmax[\u001b[31mmfcc3\u001b[0m] \u001b[1m<\u001b[0m\u001b[0m 0.09812318146381033) ∧ ⟨G⟩(\u001b[1mmax[\u001b[31mmfcc13\u001b[0m] \u001b[1m≥\u001b[0m\u001b[0m 0.14903729485756076))\n",
      "│   ├✔ ⟨G⟩((\u001b[1mmax[\u001b[31mmfcc3\u001b[0m] \u001b[1m<\u001b[0m\u001b[0m 0.09812318146381033) ∧ ⟨G⟩((\u001b[1mmax[\u001b[31mmfcc13\u001b[0m] \u001b[1m≥\u001b[0m\u001b[0m 0.14903729485756076) ∧ ⟨AO⟩(\u001b[1mmax[\u001b[31mmfcc2\u001b[0m] \u001b[1m<\u001b[0m\u001b[0m 2.307492451039466)))\n",
      "│   │├✔ Healthy\n",
      "│   │└✘ ⟨G⟩((\u001b[1mmax[\u001b[31mmfcc3\u001b[0m] \u001b[1m<\u001b[0m\u001b[0m 0.09812318146381033) ∧ ⟨G⟩((\u001b[1mmax[\u001b[31mmfcc13\u001b[0m] \u001b[1m≥\u001b[0m\u001b[0m 0.14903729485756076) ∧ (\u001b[1mmedian[\u001b[31mmfcc9\u001b[0m] \u001b[1m<\u001b[0m\u001b[0m -0.5866367660703533)))\n",
      "│   │ ├✔ Healthy\n",
      "│   │ └✘ ⟨G⟩((\u001b[1mmax[\u001b[31mmfcc3\u001b[0m] \u001b[1m<\u001b[0m\u001b[0m 0.09812318146381033) ∧ ⟨G⟩((\u001b[1mmax[\u001b[31mmfcc13\u001b[0m] \u001b[1m≥\u001b[0m\u001b[0m 0.14903729485756076) ∧ ⟨AO⟩(\u001b[1mmin[\u001b[36mskwns\u001b[0m] \u001b[1m≥\u001b[0m\u001b[0m 3.78403413752257)))\n",
      "│   │  ├✔ ⟨G⟩((\u001b[1mmax[\u001b[31mmfcc3\u001b[0m] \u001b[1m<\u001b[0m\u001b[0m 0.09812318146381033) ∧ ⟨G⟩((\u001b[1mmax[\u001b[31mmfcc13\u001b[0m] \u001b[1m≥\u001b[0m\u001b[0m 0.14903729485756076) ∧ ⟨AO⟩((\u001b[1mmin[\u001b[36mskwns\u001b[0m] \u001b[1m≥\u001b[0m\u001b[0m 3.78403413752257) ∧ ⟨A̅O̅⟩(\u001b[1mmedian[\u001b[31mmfcc7\u001b[0m] \u001b[1m<\u001b[0m\u001b[0m -0.34682634776230287))))\n",
      "│   │  │├✔ ⟨G⟩((\u001b[1mmax[\u001b[31mmfcc3\u001b[0m] \u001b[1m<\u001b[0m\u001b[0m 0.09812318146381033) ∧ ⟨G⟩((\u001b[1mmax[\u001b[31mmfcc13\u001b[0m] \u001b[1m≥\u001b[0m\u001b[0m 0.14903729485756076) ∧ ⟨AO⟩((\u001b[1mmin[\u001b[36mskwns\u001b[0m] \u001b[1m≥\u001b[0m\u001b[0m 3.78403413752257) ∧ ⟨A̅O̅⟩((\u001b[1mmedian[\u001b[31mmfcc7\u001b[0m] \u001b[1m<\u001b[0m\u001b[0m -0.34682634776230287) ∧ ⟨G⟩(\u001b[1mmax[\u001b[31mmfcc2\u001b[0m] \u001b[1m<\u001b[0m\u001b[0m 3.1722386188642067)))))\n",
      "│   │  ││├✔ Healthy\n",
      "│   │  ││└✘ Pneumonia\n",
      "│   │  │└✘ ⟨G⟩((\u001b[1mmax[\u001b[31mmfcc3\u001b[0m] \u001b[1m<\u001b[0m\u001b[0m 0.09812318146381033) ∧ ⟨G⟩((\u001b[1mmax[\u001b[31mmfcc13\u001b[0m] \u001b[1m≥\u001b[0m\u001b[0m 0.14903729485756076) ∧ ⟨AO⟩((\u001b[1mmin[\u001b[36mskwns\u001b[0m] \u001b[1m≥\u001b[0m\u001b[0m 3.78403413752257) ∧ (\u001b[1mmax[\u001b[33mmel10=1074Hz\u001b[0m] \u001b[1m≥\u001b[0m\u001b[0m 0.0013639471508415334))))\n",
      "│   │  │ ├✔ Healthy\n",
      "│   │  │ └✘ Pneumonia\n",
      "│   │  └✘ Pneumonia\n",
      "│   └✘ Healthy\n",
      "└✘ ⟨G⟩(\u001b[1mmax[\u001b[31mmfcc2\u001b[0m] \u001b[1m<\u001b[0m\u001b[0m 2.159377788529294)\n",
      " ├✔ Healthy\n",
      " └✘ ⟨G⟩(\u001b[1mmax[\u001b[36mskwns\u001b[0m] \u001b[1m<\u001b[0m\u001b[0m 2.857074374510503)\n",
      "  ├✔ Pneumonia\n",
      "  └✘ ⟨G⟩(\u001b[1mmax[\u001b[31mmfcc9\u001b[0m] \u001b[1m≥\u001b[0m\u001b[0m 0.5395751163311291)\n",
      "   ├✔ Healthy\n",
      "   └✘ Pneumonia\n"
     ]
    }
   ],
   "source": [
    "learned_dt_tree = begin\n",
    "    # model = ModalDecisionTree(; relations = :IA7, features = features)\n",
    "    model = ModalDecisionTree(; relations = :IA7, features = features)\n",
    "    mach = machine(model, X_train, y_train) |> fit!\n",
    "end\n",
    "\n",
    "report(learned_dt_tree).printmodel(variable_names_map=variable_names);"
   ]
  },
  {
   "cell_type": "markdown",
   "metadata": {},
   "source": [
    "### Model inspection & rule study"
   ]
  },
  {
   "cell_type": "code",
   "execution_count": 7,
   "metadata": {},
   "outputs": [
    {
     "name": "stderr",
     "output_type": "stream",
     "text": [
      "\u001b[32mApplying tree... 100%|███████████████████████████████████| Time: 0:00:02\u001b[39m\n"
     ]
    },
    {
     "name": "stdout",
     "output_type": "stream",
     "text": [
      "\u001b[34m▣\u001b[0m ⟨G⟩(\u001b[1mmax[\u001b[31mmfcc3\u001b[0m] \u001b[1m<\u001b[0m\u001b[0m 0.09812318146381033)\n",
      "├✔ ⟨G⟩((\u001b[1mmax[\u001b[31mmfcc3\u001b[0m] \u001b[1m<\u001b[0m\u001b[0m 0.09812318146381033) ∧ ⟨L⟩(\u001b[1mmax[\u001b[31mmfcc2\u001b[0m] \u001b[1m<\u001b[0m\u001b[0m 2.307492451039466))\n",
      "│├✔ Healthy : (ninstances = 30, ncovered = 30, confidence = 0.97, lift = 1.0)\n",
      "│└✘ ⟨G⟩((\u001b[1mmax[\u001b[31mmfcc3\u001b[0m] \u001b[1m<\u001b[0m\u001b[0m 0.09812318146381033) ∧ ⟨G⟩(\u001b[1mmax[\u001b[31mmfcc9\u001b[0m] \u001b[1m≥\u001b[0m\u001b[0m 0.5976720024804375))\n",
      "│ ├✔ Healthy : (ninstances = 6, ncovered = 6, confidence = 0.67, lift = 1.0)\n",
      "│ └✘ ⟨G⟩((\u001b[1mmax[\u001b[31mmfcc3\u001b[0m] \u001b[1m<\u001b[0m\u001b[0m 0.09812318146381033) ∧ ⟨D̅B̅E̅⟩(\u001b[1mmax[\u001b[31mmfcc7\u001b[0m] \u001b[1m<\u001b[0m\u001b[0m -0.6642952487692787))\n",
      "│  ├✔ Healthy : (ninstances = 7, ncovered = 7, confidence = 1.0, lift = 1.0)\n",
      "│  └✘ ⟨G⟩((\u001b[1mmax[\u001b[31mmfcc3\u001b[0m] \u001b[1m<\u001b[0m\u001b[0m 0.09812318146381033) ∧ ⟨G⟩(\u001b[1mmax[\u001b[31mmfcc13\u001b[0m] \u001b[1m≥\u001b[0m\u001b[0m 0.14903729485756076))\n",
      "│   ├✔ ⟨G⟩((\u001b[1mmax[\u001b[31mmfcc3\u001b[0m] \u001b[1m<\u001b[0m\u001b[0m 0.09812318146381033) ∧ ⟨G⟩((\u001b[1mmax[\u001b[31mmfcc13\u001b[0m] \u001b[1m≥\u001b[0m\u001b[0m 0.14903729485756076) ∧ ⟨AO⟩(\u001b[1mmax[\u001b[31mmfcc2\u001b[0m] \u001b[1m<\u001b[0m\u001b[0m 2.307492451039466)))\n",
      "│   │├✔ Healthy : (ninstances = 1, ncovered = 1, confidence = 1.0, lift = 1.0)\n",
      "│   │└✘ ⟨G⟩((\u001b[1mmax[\u001b[31mmfcc3\u001b[0m] \u001b[1m<\u001b[0m\u001b[0m 0.09812318146381033) ∧ ⟨G⟩((\u001b[1mmax[\u001b[31mmfcc13\u001b[0m] \u001b[1m≥\u001b[0m\u001b[0m 0.14903729485756076) ∧ (\u001b[1mmedian[\u001b[31mmfcc9\u001b[0m] \u001b[1m<\u001b[0m\u001b[0m -0.5866367660703533)))\n",
      "│   │ ├✔ Healthy : (ninstances = 1, ncovered = 1, confidence = 1.0, lift = 1.0)\n",
      "│   │ └✘ ⟨G⟩((\u001b[1mmax[\u001b[31mmfcc3\u001b[0m] \u001b[1m<\u001b[0m\u001b[0m 0.09812318146381033) ∧ ⟨G⟩((\u001b[1mmax[\u001b[31mmfcc13\u001b[0m] \u001b[1m≥\u001b[0m\u001b[0m 0.14903729485756076) ∧ ⟨AO⟩(\u001b[1mmin[\u001b[36mskwns\u001b[0m] \u001b[1m≥\u001b[0m\u001b[0m 3.78403413752257)))\n",
      "│   │  ├✔ ⟨G⟩((\u001b[1mmax[\u001b[31mmfcc3\u001b[0m] \u001b[1m<\u001b[0m\u001b[0m 0.09812318146381033) ∧ ⟨G⟩((\u001b[1mmax[\u001b[31mmfcc13\u001b[0m] \u001b[1m≥\u001b[0m\u001b[0m 0.14903729485756076) ∧ ⟨AO⟩((\u001b[1mmin[\u001b[36mskwns\u001b[0m] \u001b[1m≥\u001b[0m\u001b[0m 3.78403413752257) ∧ ⟨A̅O̅⟩(\u001b[1mmedian[\u001b[31mmfcc7\u001b[0m] \u001b[1m<\u001b[0m\u001b[0m -0.34682634776230287))))\n",
      "│   │  │├✔ ⟨G⟩((\u001b[1mmax[\u001b[31mmfcc3\u001b[0m] \u001b[1m<\u001b[0m\u001b[0m 0.09812318146381033) ∧ ⟨G⟩((\u001b[1mmax[\u001b[31mmfcc13\u001b[0m] \u001b[1m≥\u001b[0m\u001b[0m 0.14903729485756076) ∧ ⟨AO⟩((\u001b[1mmin[\u001b[36mskwns\u001b[0m] \u001b[1m≥\u001b[0m\u001b[0m 3.78403413752257) ∧ ⟨A̅O̅⟩((\u001b[1mmedian[\u001b[31mmfcc7\u001b[0m] \u001b[1m<\u001b[0m\u001b[0m -0.34682634776230287) ∧ ⟨G⟩(\u001b[1mmax[\u001b[31mmfcc2\u001b[0m] \u001b[1m<\u001b[0m\u001b[0m 3.1722386188642067)))))\n",
      "│   │  ││├✔ Healthy : (ninstances = 1, ncovered = 1, confidence = 1.0, lift = 1.0)\n",
      "│   │  ││└✘ Pneumonia : (ninstances = 0, ncovered = 0, confidence = NaN, lift = NaN)\n",
      "│   │  │└✘ ⟨G⟩((\u001b[1mmax[\u001b[31mmfcc3\u001b[0m] \u001b[1m<\u001b[0m\u001b[0m 0.09812318146381033) ∧ ⟨G⟩((\u001b[1mmax[\u001b[31mmfcc13\u001b[0m] \u001b[1m≥\u001b[0m\u001b[0m 0.14903729485756076) ∧ ⟨AO⟩((\u001b[1mmin[\u001b[36mskwns\u001b[0m] \u001b[1m≥\u001b[0m\u001b[0m 3.78403413752257) ∧ (\u001b[1mmax[\u001b[33mmel10=1074Hz\u001b[0m] \u001b[1m≥\u001b[0m\u001b[0m 0.0013639471508415334))))\n",
      "│   │  │ ├✔ Healthy : (ninstances = 1, ncovered = 1, confidence = 1.0, lift = 1.0)\n",
      "│   │  │ └✘ Pneumonia : (ninstances = 3, ncovered = 3, confidence = 1.0, lift = 1.0)\n",
      "│   │  └✘ Pneumonia : (ninstances = 9, ncovered = 9, confidence = 0.78, lift = 1.0)\n",
      "│   └✘ ⟨G⟩((\u001b[1mmax[\u001b[31mmfcc3\u001b[0m] \u001b[1m<\u001b[0m\u001b[0m 0.09812318146381033) ∧ (\u001b[1mmax[\u001b[33mmel1=359Hz\u001b[0m] \u001b[1m≥\u001b[0m\u001b[0m 0.01175897015554957))\n",
      "│    ├✔ Healthy : (ninstances = 4, ncovered = 4, confidence = 1.0, lift = 1.0)\n",
      "│    └✘ Healthy : (ninstances = 2, ncovered = 2, confidence = 1.0, lift = 1.0)\n",
      "└✘ ⟨G⟩(\u001b[1mmax[\u001b[31mmfcc2\u001b[0m] \u001b[1m<\u001b[0m\u001b[0m 2.159377788529294)\n",
      " ├✔ Healthy : (ninstances = 1, ncovered = 1, confidence = 0.0, lift = NaN)\n",
      " └✘ ⟨G⟩(\u001b[1mmax[\u001b[36mskwns\u001b[0m] \u001b[1m<\u001b[0m\u001b[0m 2.857074374510503)\n",
      "  ├✔ Pneumonia : (ninstances = 29, ncovered = 29, confidence = 1.0, lift = 1.0)\n",
      "  └✘ ⟨G⟩(\u001b[1mmax[\u001b[31mmfcc9\u001b[0m] \u001b[1m≥\u001b[0m\u001b[0m 0.5395751163311291)\n",
      "   ├✔ Healthy : (ninstances = 0, ncovered = 0, confidence = NaN, lift = NaN)\n",
      "   └✘ ⟨G⟩(\u001b[1mmax[\u001b[31mmfcc12\u001b[0m] \u001b[1m<\u001b[0m\u001b[0m -0.08803286016585204)\n",
      "    ├✔ Pneumonia : (ninstances = 6, ncovered = 6, confidence = 1.0, lift = 1.0)\n",
      "    └✘ Pneumonia : (ninstances = 0, ncovered = 0, confidence = NaN, lift = NaN)\n"
     ]
    }
   ],
   "source": [
    "_, mtree = report(mach).sprinkle(X_test, y_test)\n",
    "sole_dt = ModalDecisionTrees.translate(mtree)\n",
    "\n",
    "printmodel(sole_dt; show_metrics = true, variable_names_map=variable_names);"
   ]
  },
  {
   "cell_type": "markdown",
   "metadata": {},
   "source": [
    "### Extract rules that are at least as good as a random baseline model"
   ]
  },
  {
   "cell_type": "code",
   "execution_count": 8,
   "metadata": {},
   "outputs": [
    {
     "name": "stdout",
     "output_type": "stream",
     "text": [
      "\u001b[34m▣\u001b[0m ⟨G⟩((\u001b[1mmax[\u001b[31mmfcc3\u001b[0m] \u001b[1m<\u001b[0m\u001b[0m 0.09812318146381033) ∧ ⟨L⟩(\u001b[1mmax[\u001b[31mmfcc2\u001b[0m] \u001b[1m<\u001b[0m\u001b[0m 2.307492451039466))  ↣  Healthy : (ninstances = 101, ncovered = 30, coverage = 0.3, confidence = 0.97, lift = 1.88, natoms = 2)\n",
      "\u001b[34m▣\u001b[0m ⟨G⟩((\u001b[1mmax[\u001b[31mmfcc3\u001b[0m] \u001b[1m<\u001b[0m\u001b[0m 0.09812318146381033) ∧ ⟨G⟩(\u001b[1mmax[\u001b[31mmfcc9\u001b[0m] \u001b[1m≥\u001b[0m\u001b[0m 0.5976720024804375)) ∧ [G]((\u001b[1mmax[\u001b[31mmfcc3\u001b[0m] \u001b[1m<\u001b[0m\u001b[0m 0.09812318146381033) → [L](\u001b[1mmax[\u001b[31mmfcc2\u001b[0m] \u001b[1m≥\u001b[0m\u001b[0m 2.307492451039466))  ↣  Healthy : (ninstances = 101, ncovered = 6, coverage = 0.06, confidence = 0.67, lift = 1.29, natoms = 4)\n",
      "\u001b[34m▣\u001b[0m ⟨G⟩((\u001b[1mmax[\u001b[31mmfcc3\u001b[0m] \u001b[1m<\u001b[0m\u001b[0m 0.09812318146381033) ∧ ⟨D̅B̅E̅⟩(\u001b[1mmax[\u001b[31mmfcc7\u001b[0m] \u001b[1m<\u001b[0m\u001b[0m -0.6642952487692787)) ∧ [G]((\u001b[1mmax[\u001b[31mmfcc3\u001b[0m] \u001b[1m<\u001b[0m\u001b[0m 0.09812318146381033) → [L](\u001b[1mmax[\u001b[31mmfcc2\u001b[0m] \u001b[1m≥\u001b[0m\u001b[0m 2.307492451039466)) ∧ [G]((\u001b[1mmax[\u001b[31mmfcc3\u001b[0m] \u001b[1m<\u001b[0m\u001b[0m 0.09812318146381033) → [G](\u001b[1mmax[\u001b[31mmfcc9\u001b[0m] \u001b[1m<\u001b[0m\u001b[0m 0.5976720024804375))  ↣  Healthy : (ninstances = 101, ncovered = 7, coverage = 0.07, confidence = 1.0, lift = 1.94, natoms = 6)\n",
      "\u001b[34m▣\u001b[0m ⟨G⟩((\u001b[1mmax[\u001b[31mmfcc3\u001b[0m] \u001b[1m<\u001b[0m\u001b[0m 0.09812318146381033) ∧ ⟨G⟩((\u001b[1mmax[\u001b[31mmfcc13\u001b[0m] \u001b[1m≥\u001b[0m\u001b[0m 0.14903729485756076) ∧ ⟨AO⟩(\u001b[1mmax[\u001b[31mmfcc2\u001b[0m] \u001b[1m<\u001b[0m\u001b[0m 2.307492451039466))) ∧ [G]((\u001b[1mmax[\u001b[31mmfcc3\u001b[0m] \u001b[1m<\u001b[0m\u001b[0m 0.09812318146381033) → [L](\u001b[1mmax[\u001b[31mmfcc2\u001b[0m] \u001b[1m≥\u001b[0m\u001b[0m 2.307492451039466)) ∧ [G]((\u001b[1mmax[\u001b[31mmfcc3\u001b[0m] \u001b[1m<\u001b[0m\u001b[0m 0.09812318146381033) → [G](\u001b[1mmax[\u001b[31mmfcc9\u001b[0m] \u001b[1m<\u001b[0m\u001b[0m 0.5976720024804375)) ∧ [G]((\u001b[1mmax[\u001b[31mmfcc3\u001b[0m] \u001b[1m<\u001b[0m\u001b[0m 0.09812318146381033) → [D̅B̅E̅](\u001b[1mmax[\u001b[31mmfcc7\u001b[0m] \u001b[1m≥\u001b[0m\u001b[0m -0.6642952487692787))  ↣  Healthy : (ninstances = 101, ncovered = 1, coverage = 0.01, confidence = 1.0, lift = 1.94, natoms = 9)\n",
      "\u001b[34m▣\u001b[0m ⟨G⟩((\u001b[1mmax[\u001b[31mmfcc3\u001b[0m] \u001b[1m<\u001b[0m\u001b[0m 0.09812318146381033) ∧ ⟨G⟩((\u001b[1mmax[\u001b[31mmfcc13\u001b[0m] \u001b[1m≥\u001b[0m\u001b[0m 0.14903729485756076) ∧ (\u001b[1mmedian[\u001b[31mmfcc9\u001b[0m] \u001b[1m<\u001b[0m\u001b[0m -0.5866367660703533))) ∧ [G]((\u001b[1mmax[\u001b[31mmfcc3\u001b[0m] \u001b[1m<\u001b[0m\u001b[0m 0.09812318146381033) → [L](\u001b[1mmax[\u001b[31mmfcc2\u001b[0m] \u001b[1m≥\u001b[0m\u001b[0m 2.307492451039466)) ∧ [G]((\u001b[1mmax[\u001b[31mmfcc3\u001b[0m] \u001b[1m<\u001b[0m\u001b[0m 0.09812318146381033) → [G](\u001b[1mmax[\u001b[31mmfcc9\u001b[0m] \u001b[1m<\u001b[0m\u001b[0m 0.5976720024804375)) ∧ [G]((\u001b[1mmax[\u001b[31mmfcc3\u001b[0m] \u001b[1m<\u001b[0m\u001b[0m 0.09812318146381033) → [D̅B̅E̅](\u001b[1mmax[\u001b[31mmfcc7\u001b[0m] \u001b[1m≥\u001b[0m\u001b[0m -0.6642952487692787)) ∧ [G]((\u001b[1mmax[\u001b[31mmfcc3\u001b[0m] \u001b[1m<\u001b[0m\u001b[0m 0.09812318146381033) → [G]((\u001b[1mmax[\u001b[31mmfcc13\u001b[0m] \u001b[1m≥\u001b[0m\u001b[0m 0.14903729485756076) → [AO](\u001b[1mmax[\u001b[31mmfcc2\u001b[0m] \u001b[1m≥\u001b[0m\u001b[0m 2.307492451039466)))  ↣  Healthy : (ninstances = 101, ncovered = 1, coverage = 0.01, confidence = 1.0, lift = 1.94, natoms = 12)\n",
      "\u001b[34m▣\u001b[0m ⟨G⟩((\u001b[1mmax[\u001b[31mmfcc3\u001b[0m] \u001b[1m<\u001b[0m\u001b[0m 0.09812318146381033) ∧ ⟨G⟩((\u001b[1mmax[\u001b[31mmfcc13\u001b[0m] \u001b[1m≥\u001b[0m\u001b[0m 0.14903729485756076) ∧ ⟨AO⟩((\u001b[1mmin[\u001b[36mskwns\u001b[0m] \u001b[1m≥\u001b[0m\u001b[0m 3.78403413752257) ∧ ⟨A̅O̅⟩((\u001b[1mmedian[\u001b[31mmfcc7\u001b[0m] \u001b[1m<\u001b[0m\u001b[0m -0.34682634776230287) ∧ ⟨G⟩(\u001b[1mmax[\u001b[31mmfcc2\u001b[0m] \u001b[1m<\u001b[0m\u001b[0m 3.1722386188642067))))) ∧ [G]((\u001b[1mmax[\u001b[31mmfcc3\u001b[0m] \u001b[1m<\u001b[0m\u001b[0m 0.09812318146381033) → [L](\u001b[1mmax[\u001b[31mmfcc2\u001b[0m] \u001b[1m≥\u001b[0m\u001b[0m 2.307492451039466)) ∧ [G]((\u001b[1mmax[\u001b[31mmfcc3\u001b[0m] \u001b[1m<\u001b[0m\u001b[0m 0.09812318146381033) → [G](\u001b[1mmax[\u001b[31mmfcc9\u001b[0m] \u001b[1m<\u001b[0m\u001b[0m 0.5976720024804375)) ∧ [G]((\u001b[1mmax[\u001b[31mmfcc3\u001b[0m] \u001b[1m<\u001b[0m\u001b[0m 0.09812318146381033) → [D̅B̅E̅](\u001b[1mmax[\u001b[31mmfcc7\u001b[0m] \u001b[1m≥\u001b[0m\u001b[0m -0.6642952487692787)) ∧ [G]((\u001b[1mmax[\u001b[31mmfcc3\u001b[0m] \u001b[1m<\u001b[0m\u001b[0m 0.09812318146381033) → [G]((\u001b[1mmax[\u001b[31mmfcc13\u001b[0m] \u001b[1m≥\u001b[0m\u001b[0m 0.14903729485756076) → [AO](\u001b[1mmax[\u001b[31mmfcc2\u001b[0m] \u001b[1m≥\u001b[0m\u001b[0m 2.307492451039466))) ∧ [G]((\u001b[1mmax[\u001b[31mmfcc3\u001b[0m] \u001b[1m<\u001b[0m\u001b[0m 0.09812318146381033) → [G]((\u001b[1mmax[\u001b[31mmfcc13\u001b[0m] \u001b[1m≥\u001b[0m\u001b[0m 0.14903729485756076) → (\u001b[1mmedian[\u001b[31mmfcc9\u001b[0m] \u001b[1m≥\u001b[0m\u001b[0m -0.5866367660703533)))  ↣  Healthy : (ninstances = 101, ncovered = 1, coverage = 0.01, confidence = 1.0, lift = 1.94, natoms = 17)\n",
      "\u001b[34m▣\u001b[0m ⟨G⟩((\u001b[1mmax[\u001b[31mmfcc3\u001b[0m] \u001b[1m<\u001b[0m\u001b[0m 0.09812318146381033) ∧ ⟨G⟩((\u001b[1mmax[\u001b[31mmfcc13\u001b[0m] \u001b[1m≥\u001b[0m\u001b[0m 0.14903729485756076) ∧ ⟨AO⟩((\u001b[1mmin[\u001b[36mskwns\u001b[0m] \u001b[1m≥\u001b[0m\u001b[0m 3.78403413752257) ∧ (\u001b[1mmax[\u001b[33mmel10=1074Hz\u001b[0m] \u001b[1m≥\u001b[0m\u001b[0m 0.0013639471508415334)))) ∧ [G]((\u001b[1mmax[\u001b[31mmfcc3\u001b[0m] \u001b[1m<\u001b[0m\u001b[0m 0.09812318146381033) → [L](\u001b[1mmax[\u001b[31mmfcc2\u001b[0m] \u001b[1m≥\u001b[0m\u001b[0m 2.307492451039466)) ∧ [G]((\u001b[1mmax[\u001b[31mmfcc3\u001b[0m] \u001b[1m<\u001b[0m\u001b[0m 0.09812318146381033) → [G](\u001b[1mmax[\u001b[31mmfcc9\u001b[0m] \u001b[1m<\u001b[0m\u001b[0m 0.5976720024804375)) ∧ [G]((\u001b[1mmax[\u001b[31mmfcc3\u001b[0m] \u001b[1m<\u001b[0m\u001b[0m 0.09812318146381033) → [D̅B̅E̅](\u001b[1mmax[\u001b[31mmfcc7\u001b[0m] \u001b[1m≥\u001b[0m\u001b[0m -0.6642952487692787)) ∧ [G]((\u001b[1mmax[\u001b[31mmfcc3\u001b[0m] \u001b[1m<\u001b[0m\u001b[0m 0.09812318146381033) → [G]((\u001b[1mmax[\u001b[31mmfcc13\u001b[0m] \u001b[1m≥\u001b[0m\u001b[0m 0.14903729485756076) → [AO](\u001b[1mmax[\u001b[31mmfcc2\u001b[0m] \u001b[1m≥\u001b[0m\u001b[0m 2.307492451039466))) ∧ [G]((\u001b[1mmax[\u001b[31mmfcc3\u001b[0m] \u001b[1m<\u001b[0m\u001b[0m 0.09812318146381033) → [G]((\u001b[1mmax[\u001b[31mmfcc13\u001b[0m] \u001b[1m≥\u001b[0m\u001b[0m 0.14903729485756076) → (\u001b[1mmedian[\u001b[31mmfcc9\u001b[0m] \u001b[1m≥\u001b[0m\u001b[0m -0.5866367660703533))) ∧ [G]((\u001b[1mmax[\u001b[31mmfcc3\u001b[0m] \u001b[1m<\u001b[0m\u001b[0m 0.09812318146381033) → [G]((\u001b[1mmax[\u001b[31mmfcc13\u001b[0m] \u001b[1m≥\u001b[0m\u001b[0m 0.14903729485756076) → [AO]((\u001b[1mmin[\u001b[36mskwns\u001b[0m] \u001b[1m≥\u001b[0m\u001b[0m 3.78403413752257) → [A̅O̅](\u001b[1mmedian[\u001b[31mmfcc7\u001b[0m] \u001b[1m≥\u001b[0m\u001b[0m -0.34682634776230287))))  ↣  Healthy : (ninstances = 101, ncovered = 1, coverage = 0.01, confidence = 1.0, lift = 1.94, natoms = 20)\n",
      "\u001b[34m▣\u001b[0m ⟨G⟩((\u001b[1mmax[\u001b[31mmfcc3\u001b[0m] \u001b[1m<\u001b[0m\u001b[0m 0.09812318146381033) ∧ ⟨G⟩((\u001b[1mmax[\u001b[31mmfcc13\u001b[0m] \u001b[1m≥\u001b[0m\u001b[0m 0.14903729485756076) ∧ ⟨AO⟩(\u001b[1mmin[\u001b[36mskwns\u001b[0m] \u001b[1m≥\u001b[0m\u001b[0m 3.78403413752257))) ∧ [G]((\u001b[1mmax[\u001b[31mmfcc3\u001b[0m] \u001b[1m<\u001b[0m\u001b[0m 0.09812318146381033) → [L](\u001b[1mmax[\u001b[31mmfcc2\u001b[0m] \u001b[1m≥\u001b[0m\u001b[0m 2.307492451039466)) ∧ [G]((\u001b[1mmax[\u001b[31mmfcc3\u001b[0m] \u001b[1m<\u001b[0m\u001b[0m 0.09812318146381033) → [G](\u001b[1mmax[\u001b[31mmfcc9\u001b[0m] \u001b[1m<\u001b[0m\u001b[0m 0.5976720024804375)) ∧ [G]((\u001b[1mmax[\u001b[31mmfcc3\u001b[0m] \u001b[1m<\u001b[0m\u001b[0m 0.09812318146381033) → [D̅B̅E̅](\u001b[1mmax[\u001b[31mmfcc7\u001b[0m] \u001b[1m≥\u001b[0m\u001b[0m -0.6642952487692787)) ∧ [G]((\u001b[1mmax[\u001b[31mmfcc3\u001b[0m] \u001b[1m<\u001b[0m\u001b[0m 0.09812318146381033) → [G]((\u001b[1mmax[\u001b[31mmfcc13\u001b[0m] \u001b[1m≥\u001b[0m\u001b[0m 0.14903729485756076) → [AO](\u001b[1mmax[\u001b[31mmfcc2\u001b[0m] \u001b[1m≥\u001b[0m\u001b[0m 2.307492451039466))) ∧ [G]((\u001b[1mmax[\u001b[31mmfcc3\u001b[0m] \u001b[1m<\u001b[0m\u001b[0m 0.09812318146381033) → [G]((\u001b[1mmax[\u001b[31mmfcc13\u001b[0m] \u001b[1m≥\u001b[0m\u001b[0m 0.14903729485756076) → (\u001b[1mmedian[\u001b[31mmfcc9\u001b[0m] \u001b[1m≥\u001b[0m\u001b[0m -0.5866367660703533))) ∧ [G]((\u001b[1mmax[\u001b[31mmfcc3\u001b[0m] \u001b[1m<\u001b[0m\u001b[0m 0.09812318146381033) → [G]((\u001b[1mmax[\u001b[31mmfcc13\u001b[0m] \u001b[1m≥\u001b[0m\u001b[0m 0.14903729485756076) → [AO]((\u001b[1mmin[\u001b[36mskwns\u001b[0m] \u001b[1m≥\u001b[0m\u001b[0m 3.78403413752257) → [A̅O̅](\u001b[1mmedian[\u001b[31mmfcc7\u001b[0m] \u001b[1m≥\u001b[0m\u001b[0m -0.34682634776230287)))) ∧ [G]((\u001b[1mmax[\u001b[31mmfcc3\u001b[0m] \u001b[1m<\u001b[0m\u001b[0m 0.09812318146381033) → [G]((\u001b[1mmax[\u001b[31mmfcc13\u001b[0m] \u001b[1m≥\u001b[0m\u001b[0m 0.14903729485756076) → [AO]((\u001b[1mmin[\u001b[36mskwns\u001b[0m] \u001b[1m≥\u001b[0m\u001b[0m 3.78403413752257) → (\u001b[1mmax[\u001b[33mmel10=1074Hz\u001b[0m] \u001b[1m<\u001b[0m\u001b[0m 0.0013639471508415334))))  ↣  Pneumonia : (ninstances = 101, ncovered = 3, coverage = 0.03, confidence = 1.0, lift = 2.06, natoms = 23)\n",
      "\u001b[34m▣\u001b[0m ⟨G⟩((\u001b[1mmax[\u001b[31mmfcc3\u001b[0m] \u001b[1m<\u001b[0m\u001b[0m 0.09812318146381033) ∧ ⟨G⟩(\u001b[1mmax[\u001b[31mmfcc13\u001b[0m] \u001b[1m≥\u001b[0m\u001b[0m 0.14903729485756076)) ∧ [G]((\u001b[1mmax[\u001b[31mmfcc3\u001b[0m] \u001b[1m<\u001b[0m\u001b[0m 0.09812318146381033) → [L](\u001b[1mmax[\u001b[31mmfcc2\u001b[0m] \u001b[1m≥\u001b[0m\u001b[0m 2.307492451039466)) ∧ [G]((\u001b[1mmax[\u001b[31mmfcc3\u001b[0m] \u001b[1m<\u001b[0m\u001b[0m 0.09812318146381033) → [G](\u001b[1mmax[\u001b[31mmfcc9\u001b[0m] \u001b[1m<\u001b[0m\u001b[0m 0.5976720024804375)) ∧ [G]((\u001b[1mmax[\u001b[31mmfcc3\u001b[0m] \u001b[1m<\u001b[0m\u001b[0m 0.09812318146381033) → [D̅B̅E̅](\u001b[1mmax[\u001b[31mmfcc7\u001b[0m] \u001b[1m≥\u001b[0m\u001b[0m -0.6642952487692787)) ∧ [G]((\u001b[1mmax[\u001b[31mmfcc3\u001b[0m] \u001b[1m<\u001b[0m\u001b[0m 0.09812318146381033) → [G]((\u001b[1mmax[\u001b[31mmfcc13\u001b[0m] \u001b[1m≥\u001b[0m\u001b[0m 0.14903729485756076) → [AO](\u001b[1mmax[\u001b[31mmfcc2\u001b[0m] \u001b[1m≥\u001b[0m\u001b[0m 2.307492451039466))) ∧ [G]((\u001b[1mmax[\u001b[31mmfcc3\u001b[0m] \u001b[1m<\u001b[0m\u001b[0m 0.09812318146381033) → [G]((\u001b[1mmax[\u001b[31mmfcc13\u001b[0m] \u001b[1m≥\u001b[0m\u001b[0m 0.14903729485756076) → (\u001b[1mmedian[\u001b[31mmfcc9\u001b[0m] \u001b[1m≥\u001b[0m\u001b[0m -0.5866367660703533))) ∧ [G]((\u001b[1mmax[\u001b[31mmfcc3\u001b[0m] \u001b[1m<\u001b[0m\u001b[0m 0.09812318146381033) → [G]((\u001b[1mmax[\u001b[31mmfcc13\u001b[0m] \u001b[1m≥\u001b[0m\u001b[0m 0.14903729485756076) → [AO](\u001b[1mmin[\u001b[36mskwns\u001b[0m] \u001b[1m<\u001b[0m\u001b[0m 3.78403413752257)))  ↣  Pneumonia : (ninstances = 101, ncovered = 9, coverage = 0.09, confidence = 0.78, lift = 1.6, natoms = 17)\n",
      "\u001b[34m▣\u001b[0m ⟨G⟩((\u001b[1mmax[\u001b[31mmfcc3\u001b[0m] \u001b[1m<\u001b[0m\u001b[0m 0.09812318146381033) ∧ (\u001b[1mmax[\u001b[33mmel1=359Hz\u001b[0m] \u001b[1m≥\u001b[0m\u001b[0m 0.01175897015554957)) ∧ [G]((\u001b[1mmax[\u001b[31mmfcc3\u001b[0m] \u001b[1m<\u001b[0m\u001b[0m 0.09812318146381033) → [L](\u001b[1mmax[\u001b[31mmfcc2\u001b[0m] \u001b[1m≥\u001b[0m\u001b[0m 2.307492451039466)) ∧ [G]((\u001b[1mmax[\u001b[31mmfcc3\u001b[0m] \u001b[1m<\u001b[0m\u001b[0m 0.09812318146381033) → [G](\u001b[1mmax[\u001b[31mmfcc9\u001b[0m] \u001b[1m<\u001b[0m\u001b[0m 0.5976720024804375)) ∧ [G]((\u001b[1mmax[\u001b[31mmfcc3\u001b[0m] \u001b[1m<\u001b[0m\u001b[0m 0.09812318146381033) → [D̅B̅E̅](\u001b[1mmax[\u001b[31mmfcc7\u001b[0m] \u001b[1m≥\u001b[0m\u001b[0m -0.6642952487692787)) ∧ [G]((\u001b[1mmax[\u001b[31mmfcc3\u001b[0m] \u001b[1m<\u001b[0m\u001b[0m 0.09812318146381033) → [G](\u001b[1mmax[\u001b[31mmfcc13\u001b[0m] \u001b[1m<\u001b[0m\u001b[0m 0.14903729485756076))  ↣  Healthy : (ninstances = 101, ncovered = 4, coverage = 0.04, confidence = 1.0, lift = 1.94, natoms = 10)\n",
      "\u001b[34m▣\u001b[0m ⟨G⟩(\u001b[1mmax[\u001b[31mmfcc3\u001b[0m] \u001b[1m<\u001b[0m\u001b[0m 0.09812318146381033) ∧ [G]((\u001b[1mmax[\u001b[31mmfcc3\u001b[0m] \u001b[1m<\u001b[0m\u001b[0m 0.09812318146381033) → [L](\u001b[1mmax[\u001b[31mmfcc2\u001b[0m] \u001b[1m≥\u001b[0m\u001b[0m 2.307492451039466)) ∧ [G]((\u001b[1mmax[\u001b[31mmfcc3\u001b[0m] \u001b[1m<\u001b[0m\u001b[0m 0.09812318146381033) → [G](\u001b[1mmax[\u001b[31mmfcc9\u001b[0m] \u001b[1m<\u001b[0m\u001b[0m 0.5976720024804375)) ∧ [G]((\u001b[1mmax[\u001b[31mmfcc3\u001b[0m] \u001b[1m<\u001b[0m\u001b[0m 0.09812318146381033) → [D̅B̅E̅](\u001b[1mmax[\u001b[31mmfcc7\u001b[0m] \u001b[1m≥\u001b[0m\u001b[0m -0.6642952487692787)) ∧ [G]((\u001b[1mmax[\u001b[31mmfcc3\u001b[0m] \u001b[1m<\u001b[0m\u001b[0m 0.09812318146381033) → [G](\u001b[1mmax[\u001b[31mmfcc13\u001b[0m] \u001b[1m<\u001b[0m\u001b[0m 0.14903729485756076)) ∧ [G]((\u001b[1mmax[\u001b[31mmfcc3\u001b[0m] \u001b[1m<\u001b[0m\u001b[0m 0.09812318146381033) → (\u001b[1mmax[\u001b[33mmel1=359Hz\u001b[0m] \u001b[1m<\u001b[0m\u001b[0m 0.01175897015554957))  ↣  Healthy : (ninstances = 101, ncovered = 2, coverage = 0.02, confidence = 1.0, lift = 1.94, natoms = 11)\n",
      "\u001b[34m▣\u001b[0m ⟨G⟩(\u001b[1mmax[\u001b[36mskwns\u001b[0m] \u001b[1m<\u001b[0m\u001b[0m 2.857074374510503) ∧ [G](\u001b[1mmax[\u001b[31mmfcc3\u001b[0m] \u001b[1m≥\u001b[0m\u001b[0m 0.09812318146381033) ∧ [G](\u001b[1mmax[\u001b[31mmfcc2\u001b[0m] \u001b[1m≥\u001b[0m\u001b[0m 2.159377788529294)  ↣  Pneumonia : (ninstances = 101, ncovered = 29, coverage = 0.29, confidence = 1.0, lift = 2.06, natoms = 3)\n",
      "\u001b[34m▣\u001b[0m ⟨G⟩(\u001b[1mmax[\u001b[31mmfcc12\u001b[0m] \u001b[1m<\u001b[0m\u001b[0m -0.08803286016585204) ∧ [G](\u001b[1mmax[\u001b[31mmfcc3\u001b[0m] \u001b[1m≥\u001b[0m\u001b[0m 0.09812318146381033) ∧ [G](\u001b[1mmax[\u001b[31mmfcc2\u001b[0m] \u001b[1m≥\u001b[0m\u001b[0m 2.159377788529294) ∧ [G](\u001b[1mmax[\u001b[36mskwns\u001b[0m] \u001b[1m≥\u001b[0m\u001b[0m 2.857074374510503) ∧ [G](\u001b[1mmax[\u001b[31mmfcc9\u001b[0m] \u001b[1m<\u001b[0m\u001b[0m 0.5395751163311291)  ↣  Pneumonia : (ninstances = 101, ncovered = 6, coverage = 0.06, confidence = 1.0, lift = 2.06, natoms = 5)\n"
     ]
    }
   ],
   "source": [
    "interesting_rules = listrules(sole_dt, min_lift = 1.0, min_ninstances = 0);\n",
    "printmodel.(interesting_rules; show_metrics = true, variable_names_map=variable_names);"
   ]
  },
  {
   "cell_type": "markdown",
   "metadata": {},
   "source": [
    "### Simplify rules while extracting and prettify result"
   ]
  },
  {
   "cell_type": "code",
   "execution_count": 9,
   "metadata": {},
   "outputs": [
    {
     "name": "stdout",
     "output_type": "stream",
     "text": [
      "\u001b[34m▣\u001b[0m ⟨G⟩((\u001b[1mmax[\u001b[31mmfcc3\u001b[0m] \u001b[1m<\u001b[0m\u001b[0m 0.1) ∧ ⟨L⟩(\u001b[1mmax[\u001b[31mmfcc2\u001b[0m] \u001b[1m<\u001b[0m\u001b[0m 2.31))  ↣  Healthy : (ninstances = 101, ncovered = 30, coverage = 0.3, confidence = 0.97, lift = 1.88, natoms = 2)\n",
      "\u001b[34m▣\u001b[0m ⟨G⟩((\u001b[1mmax[\u001b[31mmfcc3\u001b[0m] \u001b[1m<\u001b[0m\u001b[0m 0.1) ∧ ⟨G⟩(\u001b[1mmax[\u001b[31mmfcc9\u001b[0m] \u001b[1m≥\u001b[0m\u001b[0m 0.6)) ∧ [G]((\u001b[1mmax[\u001b[31mmfcc3\u001b[0m] \u001b[1m<\u001b[0m\u001b[0m 0.1) → [L](\u001b[1mmax[\u001b[31mmfcc2\u001b[0m] \u001b[1m≥\u001b[0m\u001b[0m 2.31))  ↣  Healthy : (ninstances = 101, ncovered = 6, coverage = 0.06, confidence = 0.67, lift = 1.29, natoms = 4)\n",
      "\u001b[34m▣\u001b[0m ⟨G⟩((\u001b[1mmax[\u001b[31mmfcc3\u001b[0m] \u001b[1m<\u001b[0m\u001b[0m 0.1) ∧ ⟨D̅B̅E̅⟩(\u001b[1mmax[\u001b[31mmfcc7\u001b[0m] \u001b[1m<\u001b[0m\u001b[0m -0.66)) ∧ [G]((\u001b[1mmax[\u001b[31mmfcc3\u001b[0m] \u001b[1m<\u001b[0m\u001b[0m 0.1) → [L](\u001b[1mmax[\u001b[31mmfcc2\u001b[0m] \u001b[1m≥\u001b[0m\u001b[0m 2.31)) ∧ [G]((\u001b[1mmax[\u001b[31mmfcc3\u001b[0m] \u001b[1m<\u001b[0m\u001b[0m 0.1) → [G](\u001b[1mmax[\u001b[31mmfcc9\u001b[0m] \u001b[1m<\u001b[0m\u001b[0m 0.6))  ↣  Healthy : (ninstances = 101, ncovered = 7, coverage = 0.07, confidence = 1.0, lift = 1.94, natoms = 6)\n",
      "\u001b[34m▣\u001b[0m ⟨G⟩((\u001b[1mmax[\u001b[31mmfcc3\u001b[0m] \u001b[1m<\u001b[0m\u001b[0m 0.1) ∧ ⟨G⟩((\u001b[1mmax[\u001b[31mmfcc13\u001b[0m] \u001b[1m≥\u001b[0m\u001b[0m 0.15) ∧ ⟨AO⟩(\u001b[1mmax[\u001b[31mmfcc2\u001b[0m] \u001b[1m<\u001b[0m\u001b[0m 2.31))) ∧ [G]((\u001b[1mmax[\u001b[31mmfcc3\u001b[0m] \u001b[1m<\u001b[0m\u001b[0m 0.1) → [L](\u001b[1mmax[\u001b[31mmfcc2\u001b[0m] \u001b[1m≥\u001b[0m\u001b[0m 2.31)) ∧ [G]((\u001b[1mmax[\u001b[31mmfcc3\u001b[0m] \u001b[1m<\u001b[0m\u001b[0m 0.1) → [G](\u001b[1mmax[\u001b[31mmfcc9\u001b[0m] \u001b[1m<\u001b[0m\u001b[0m 0.6)) ∧ [G]((\u001b[1mmax[\u001b[31mmfcc3\u001b[0m] \u001b[1m<\u001b[0m\u001b[0m 0.1) → [D̅B̅E̅](\u001b[1mmax[\u001b[31mmfcc7\u001b[0m] \u001b[1m≥\u001b[0m\u001b[0m -0.66))  ↣  Healthy : (ninstances = 101, ncovered = 1, coverage = 0.01, confidence = 1.0, lift = 1.94, natoms = 9)\n",
      "\u001b[34m▣\u001b[0m ⟨G⟩((\u001b[1mmax[\u001b[31mmfcc3\u001b[0m] \u001b[1m<\u001b[0m\u001b[0m 0.1) ∧ ⟨G⟩((\u001b[1mmax[\u001b[31mmfcc13\u001b[0m] \u001b[1m≥\u001b[0m\u001b[0m 0.15) ∧ (\u001b[1mmedian[\u001b[31mmfcc9\u001b[0m] \u001b[1m<\u001b[0m\u001b[0m -0.59))) ∧ [G]((\u001b[1mmax[\u001b[31mmfcc3\u001b[0m] \u001b[1m<\u001b[0m\u001b[0m 0.1) → [L](\u001b[1mmax[\u001b[31mmfcc2\u001b[0m] \u001b[1m≥\u001b[0m\u001b[0m 2.31)) ∧ [G]((\u001b[1mmax[\u001b[31mmfcc3\u001b[0m] \u001b[1m<\u001b[0m\u001b[0m 0.1) → [G](\u001b[1mmax[\u001b[31mmfcc9\u001b[0m] \u001b[1m<\u001b[0m\u001b[0m 0.6)) ∧ [G]((\u001b[1mmax[\u001b[31mmfcc3\u001b[0m] \u001b[1m<\u001b[0m\u001b[0m 0.1) → [D̅B̅E̅](\u001b[1mmax[\u001b[31mmfcc7\u001b[0m] \u001b[1m≥\u001b[0m\u001b[0m -0.66)) ∧ [G]((\u001b[1mmax[\u001b[31mmfcc3\u001b[0m] \u001b[1m<\u001b[0m\u001b[0m 0.1) → [G]((\u001b[1mmax[\u001b[31mmfcc13\u001b[0m] \u001b[1m≥\u001b[0m\u001b[0m 0.15) → [AO](\u001b[1mmax[\u001b[31mmfcc2\u001b[0m] \u001b[1m≥\u001b[0m\u001b[0m 2.31)))  ↣  Healthy : (ninstances = 101, ncovered = 1, coverage = 0.01, confidence = 1.0, lift = 1.94, natoms = 12)\n",
      "\u001b[34m▣\u001b[0m ⟨G⟩((\u001b[1mmax[\u001b[31mmfcc3\u001b[0m] \u001b[1m<\u001b[0m\u001b[0m 0.1) ∧ ⟨G⟩((\u001b[1mmax[\u001b[31mmfcc13\u001b[0m] \u001b[1m≥\u001b[0m\u001b[0m 0.15) ∧ ⟨AO⟩((\u001b[1mmin[\u001b[36mskwns\u001b[0m] \u001b[1m≥\u001b[0m\u001b[0m 3.78) ∧ ⟨A̅O̅⟩((\u001b[1mmedian[\u001b[31mmfcc7\u001b[0m] \u001b[1m<\u001b[0m\u001b[0m -0.35) ∧ ⟨G⟩(\u001b[1mmax[\u001b[31mmfcc2\u001b[0m] \u001b[1m<\u001b[0m\u001b[0m 3.17))))) ∧ [G]((\u001b[1mmax[\u001b[31mmfcc3\u001b[0m] \u001b[1m<\u001b[0m\u001b[0m 0.1) → [L](\u001b[1mmax[\u001b[31mmfcc2\u001b[0m] \u001b[1m≥\u001b[0m\u001b[0m 2.31)) ∧ [G]((\u001b[1mmax[\u001b[31mmfcc3\u001b[0m] \u001b[1m<\u001b[0m\u001b[0m 0.1) → [G](\u001b[1mmax[\u001b[31mmfcc9\u001b[0m] \u001b[1m<\u001b[0m\u001b[0m 0.6)) ∧ [G]((\u001b[1mmax[\u001b[31mmfcc3\u001b[0m] \u001b[1m<\u001b[0m\u001b[0m 0.1) → [D̅B̅E̅](\u001b[1mmax[\u001b[31mmfcc7\u001b[0m] \u001b[1m≥\u001b[0m\u001b[0m -0.66)) ∧ [G]((\u001b[1mmax[\u001b[31mmfcc3\u001b[0m] \u001b[1m<\u001b[0m\u001b[0m 0.1) → [G]((\u001b[1mmax[\u001b[31mmfcc13\u001b[0m] \u001b[1m≥\u001b[0m\u001b[0m 0.15) → [AO](\u001b[1mmax[\u001b[31mmfcc2\u001b[0m] \u001b[1m≥\u001b[0m\u001b[0m 2.31))) ∧ [G]((\u001b[1mmax[\u001b[31mmfcc3\u001b[0m] \u001b[1m<\u001b[0m\u001b[0m 0.1) → [G]((\u001b[1mmax[\u001b[31mmfcc13\u001b[0m] \u001b[1m≥\u001b[0m\u001b[0m 0.15) → (\u001b[1mmedian[\u001b[31mmfcc9\u001b[0m] \u001b[1m≥\u001b[0m\u001b[0m -0.59)))  ↣  Healthy : (ninstances = 101, ncovered = 1, coverage = 0.01, confidence = 1.0, lift = 1.94, natoms = 17)\n",
      "\u001b[34m▣\u001b[0m ⟨G⟩((\u001b[1mmax[\u001b[31mmfcc3\u001b[0m] \u001b[1m<\u001b[0m\u001b[0m 0.1) ∧ ⟨G⟩((\u001b[1mmax[\u001b[31mmfcc13\u001b[0m] \u001b[1m≥\u001b[0m\u001b[0m 0.15) ∧ ⟨AO⟩((\u001b[1mmin[\u001b[36mskwns\u001b[0m] \u001b[1m≥\u001b[0m\u001b[0m 3.78) ∧ (\u001b[1mmax[\u001b[33mmel10=1074Hz\u001b[0m] \u001b[1m≥\u001b[0m\u001b[0m 0.0)))) ∧ [G]((\u001b[1mmax[\u001b[31mmfcc3\u001b[0m] \u001b[1m<\u001b[0m\u001b[0m 0.1) → [L](\u001b[1mmax[\u001b[31mmfcc2\u001b[0m] \u001b[1m≥\u001b[0m\u001b[0m 2.31)) ∧ [G]((\u001b[1mmax[\u001b[31mmfcc3\u001b[0m] \u001b[1m<\u001b[0m\u001b[0m 0.1) → [G](\u001b[1mmax[\u001b[31mmfcc9\u001b[0m] \u001b[1m<\u001b[0m\u001b[0m 0.6)) ∧ [G]((\u001b[1mmax[\u001b[31mmfcc3\u001b[0m] \u001b[1m<\u001b[0m\u001b[0m 0.1) → [D̅B̅E̅](\u001b[1mmax[\u001b[31mmfcc7\u001b[0m] \u001b[1m≥\u001b[0m\u001b[0m -0.66)) ∧ [G]((\u001b[1mmax[\u001b[31mmfcc3\u001b[0m] \u001b[1m<\u001b[0m\u001b[0m 0.1) → [G]((\u001b[1mmax[\u001b[31mmfcc13\u001b[0m] \u001b[1m≥\u001b[0m\u001b[0m 0.15) → [AO](\u001b[1mmax[\u001b[31mmfcc2\u001b[0m] \u001b[1m≥\u001b[0m\u001b[0m 2.31))) ∧ [G]((\u001b[1mmax[\u001b[31mmfcc3\u001b[0m] \u001b[1m<\u001b[0m\u001b[0m 0.1) → [G]((\u001b[1mmax[\u001b[31mmfcc13\u001b[0m] \u001b[1m≥\u001b[0m\u001b[0m 0.15) → (\u001b[1mmedian[\u001b[31mmfcc9\u001b[0m] \u001b[1m≥\u001b[0m\u001b[0m -0.59))) ∧ [G]((\u001b[1mmax[\u001b[31mmfcc3\u001b[0m] \u001b[1m<\u001b[0m\u001b[0m 0.1) → [G]((\u001b[1mmax[\u001b[31mmfcc13\u001b[0m] \u001b[1m≥\u001b[0m\u001b[0m 0.15) → [AO]((\u001b[1mmin[\u001b[36mskwns\u001b[0m] \u001b[1m≥\u001b[0m\u001b[0m 3.78) → [A̅O̅](\u001b[1mmedian[\u001b[31mmfcc7\u001b[0m] \u001b[1m≥\u001b[0m\u001b[0m -0.35))))  ↣  Healthy : (ninstances = 101, ncovered = 1, coverage = 0.01, confidence = 1.0, lift = 1.94, natoms = 20)\n",
      "\u001b[34m▣\u001b[0m ⟨G⟩((\u001b[1mmax[\u001b[31mmfcc3\u001b[0m] \u001b[1m<\u001b[0m\u001b[0m 0.1) ∧ ⟨G⟩((\u001b[1mmax[\u001b[31mmfcc13\u001b[0m] \u001b[1m≥\u001b[0m\u001b[0m 0.15) ∧ ⟨AO⟩(\u001b[1mmin[\u001b[36mskwns\u001b[0m] \u001b[1m≥\u001b[0m\u001b[0m 3.78))) ∧ [G]((\u001b[1mmax[\u001b[31mmfcc3\u001b[0m] \u001b[1m<\u001b[0m\u001b[0m 0.1) → [L](\u001b[1mmax[\u001b[31mmfcc2\u001b[0m] \u001b[1m≥\u001b[0m\u001b[0m 2.31)) ∧ [G]((\u001b[1mmax[\u001b[31mmfcc3\u001b[0m] \u001b[1m<\u001b[0m\u001b[0m 0.1) → [G](\u001b[1mmax[\u001b[31mmfcc9\u001b[0m] \u001b[1m<\u001b[0m\u001b[0m 0.6)) ∧ [G]((\u001b[1mmax[\u001b[31mmfcc3\u001b[0m] \u001b[1m<\u001b[0m\u001b[0m 0.1) → [D̅B̅E̅](\u001b[1mmax[\u001b[31mmfcc7\u001b[0m] \u001b[1m≥\u001b[0m\u001b[0m -0.66)) ∧ [G]((\u001b[1mmax[\u001b[31mmfcc3\u001b[0m] \u001b[1m<\u001b[0m\u001b[0m 0.1) → [G]((\u001b[1mmax[\u001b[31mmfcc13\u001b[0m] \u001b[1m≥\u001b[0m\u001b[0m 0.15) → [AO](\u001b[1mmax[\u001b[31mmfcc2\u001b[0m] \u001b[1m≥\u001b[0m\u001b[0m 2.31))) ∧ [G]((\u001b[1mmax[\u001b[31mmfcc3\u001b[0m] \u001b[1m<\u001b[0m\u001b[0m 0.1) → [G]((\u001b[1mmax[\u001b[31mmfcc13\u001b[0m] \u001b[1m≥\u001b[0m\u001b[0m 0.15) → (\u001b[1mmedian[\u001b[31mmfcc9\u001b[0m] \u001b[1m≥\u001b[0m\u001b[0m -0.59))) ∧ [G]((\u001b[1mmax[\u001b[31mmfcc3\u001b[0m] \u001b[1m<\u001b[0m\u001b[0m 0.1) → [G]((\u001b[1mmax[\u001b[31mmfcc13\u001b[0m] \u001b[1m≥\u001b[0m\u001b[0m 0.15) → [AO]((\u001b[1mmin[\u001b[36mskwns\u001b[0m] \u001b[1m≥\u001b[0m\u001b[0m 3.78) → [A̅O̅](\u001b[1mmedian[\u001b[31mmfcc7\u001b[0m] \u001b[1m≥\u001b[0m\u001b[0m -0.35)))) ∧ [G]((\u001b[1mmax[\u001b[31mmfcc3\u001b[0m] \u001b[1m<\u001b[0m\u001b[0m 0.1) → [G]((\u001b[1mmax[\u001b[31mmfcc13\u001b[0m] \u001b[1m≥\u001b[0m\u001b[0m 0.15) → [AO]((\u001b[1mmin[\u001b[36mskwns\u001b[0m] \u001b[1m≥\u001b[0m\u001b[0m 3.78) → (\u001b[1mmax[\u001b[33mmel10=1074Hz\u001b[0m] \u001b[1m<\u001b[0m\u001b[0m 0.0))))  ↣  Pneumonia : (ninstances = 101, ncovered = 3, coverage = 0.03, confidence = 1.0, lift = 2.06, natoms = 23)\n",
      "\u001b[34m▣\u001b[0m ⟨G⟩((\u001b[1mmax[\u001b[31mmfcc3\u001b[0m] \u001b[1m<\u001b[0m\u001b[0m 0.1) ∧ ⟨G⟩(\u001b[1mmax[\u001b[31mmfcc13\u001b[0m] \u001b[1m≥\u001b[0m\u001b[0m 0.15)) ∧ [G]((\u001b[1mmax[\u001b[31mmfcc3\u001b[0m] \u001b[1m<\u001b[0m\u001b[0m 0.1) → [L](\u001b[1mmax[\u001b[31mmfcc2\u001b[0m] \u001b[1m≥\u001b[0m\u001b[0m 2.31)) ∧ [G]((\u001b[1mmax[\u001b[31mmfcc3\u001b[0m] \u001b[1m<\u001b[0m\u001b[0m 0.1) → [G](\u001b[1mmax[\u001b[31mmfcc9\u001b[0m] \u001b[1m<\u001b[0m\u001b[0m 0.6)) ∧ [G]((\u001b[1mmax[\u001b[31mmfcc3\u001b[0m] \u001b[1m<\u001b[0m\u001b[0m 0.1) → [D̅B̅E̅](\u001b[1mmax[\u001b[31mmfcc7\u001b[0m] \u001b[1m≥\u001b[0m\u001b[0m -0.66)) ∧ [G]((\u001b[1mmax[\u001b[31mmfcc3\u001b[0m] \u001b[1m<\u001b[0m\u001b[0m 0.1) → [G]((\u001b[1mmax[\u001b[31mmfcc13\u001b[0m] \u001b[1m≥\u001b[0m\u001b[0m 0.15) → [AO](\u001b[1mmax[\u001b[31mmfcc2\u001b[0m] \u001b[1m≥\u001b[0m\u001b[0m 2.31))) ∧ [G]((\u001b[1mmax[\u001b[31mmfcc3\u001b[0m] \u001b[1m<\u001b[0m\u001b[0m 0.1) → [G]((\u001b[1mmax[\u001b[31mmfcc13\u001b[0m] \u001b[1m≥\u001b[0m\u001b[0m 0.15) → (\u001b[1mmedian[\u001b[31mmfcc9\u001b[0m] \u001b[1m≥\u001b[0m\u001b[0m -0.59))) ∧ [G]((\u001b[1mmax[\u001b[31mmfcc3\u001b[0m] \u001b[1m<\u001b[0m\u001b[0m 0.1) → [G]((\u001b[1mmax[\u001b[31mmfcc13\u001b[0m] \u001b[1m≥\u001b[0m\u001b[0m 0.15) → [AO](\u001b[1mmin[\u001b[36mskwns\u001b[0m] \u001b[1m<\u001b[0m\u001b[0m 3.78)))  ↣  Pneumonia : (ninstances = 101, ncovered = 9, coverage = 0.09, confidence = 0.78, lift = 1.6, natoms = 17)\n",
      "\u001b[34m▣\u001b[0m ⟨G⟩((\u001b[1mmax[\u001b[31mmfcc3\u001b[0m] \u001b[1m<\u001b[0m\u001b[0m 0.1) ∧ (\u001b[1mmax[\u001b[33mmel1=359Hz\u001b[0m] \u001b[1m≥\u001b[0m\u001b[0m 0.01)) ∧ [G]((\u001b[1mmax[\u001b[31mmfcc3\u001b[0m] \u001b[1m<\u001b[0m\u001b[0m 0.1) → [L](\u001b[1mmax[\u001b[31mmfcc2\u001b[0m] \u001b[1m≥\u001b[0m\u001b[0m 2.31)) ∧ [G]((\u001b[1mmax[\u001b[31mmfcc3\u001b[0m] \u001b[1m<\u001b[0m\u001b[0m 0.1) → [G](\u001b[1mmax[\u001b[31mmfcc9\u001b[0m] \u001b[1m<\u001b[0m\u001b[0m 0.6)) ∧ [G]((\u001b[1mmax[\u001b[31mmfcc3\u001b[0m] \u001b[1m<\u001b[0m\u001b[0m 0.1) → [D̅B̅E̅](\u001b[1mmax[\u001b[31mmfcc7\u001b[0m] \u001b[1m≥\u001b[0m\u001b[0m -0.66)) ∧ [G]((\u001b[1mmax[\u001b[31mmfcc3\u001b[0m] \u001b[1m<\u001b[0m\u001b[0m 0.1) → [G](\u001b[1mmax[\u001b[31mmfcc13\u001b[0m] \u001b[1m<\u001b[0m\u001b[0m 0.15))  ↣  Healthy : (ninstances = 101, ncovered = 4, coverage = 0.04, confidence = 1.0, lift = 1.94, natoms = 10)\n",
      "\u001b[34m▣\u001b[0m ⟨G⟩(\u001b[1mmax[\u001b[31mmfcc3\u001b[0m] \u001b[1m<\u001b[0m\u001b[0m 0.1) ∧ [G]((\u001b[1mmax[\u001b[31mmfcc3\u001b[0m] \u001b[1m<\u001b[0m\u001b[0m 0.1) → [L](\u001b[1mmax[\u001b[31mmfcc2\u001b[0m] \u001b[1m≥\u001b[0m\u001b[0m 2.31)) ∧ [G]((\u001b[1mmax[\u001b[31mmfcc3\u001b[0m] \u001b[1m<\u001b[0m\u001b[0m 0.1) → [G](\u001b[1mmax[\u001b[31mmfcc9\u001b[0m] \u001b[1m<\u001b[0m\u001b[0m 0.6)) ∧ [G]((\u001b[1mmax[\u001b[31mmfcc3\u001b[0m] \u001b[1m<\u001b[0m\u001b[0m 0.1) → [D̅B̅E̅](\u001b[1mmax[\u001b[31mmfcc7\u001b[0m] \u001b[1m≥\u001b[0m\u001b[0m -0.66)) ∧ [G]((\u001b[1mmax[\u001b[31mmfcc3\u001b[0m] \u001b[1m<\u001b[0m\u001b[0m 0.1) → [G](\u001b[1mmax[\u001b[31mmfcc13\u001b[0m] \u001b[1m<\u001b[0m\u001b[0m 0.15)) ∧ [G]((\u001b[1mmax[\u001b[31mmfcc3\u001b[0m] \u001b[1m<\u001b[0m\u001b[0m 0.1) → (\u001b[1mmax[\u001b[33mmel1=359Hz\u001b[0m] \u001b[1m<\u001b[0m\u001b[0m 0.01))  ↣  Healthy : (ninstances = 101, ncovered = 2, coverage = 0.02, confidence = 1.0, lift = 1.94, natoms = 11)\n",
      "\u001b[34m▣\u001b[0m ⟨G⟩(\u001b[1mmax[\u001b[36mskwns\u001b[0m] \u001b[1m<\u001b[0m\u001b[0m 2.86) ∧ [G](\u001b[1mmax[\u001b[31mmfcc3\u001b[0m] \u001b[1m≥\u001b[0m\u001b[0m 0.1) ∧ [G](\u001b[1mmax[\u001b[31mmfcc2\u001b[0m] \u001b[1m≥\u001b[0m\u001b[0m 2.16)  ↣  Pneumonia : (ninstances = 101, ncovered = 29, coverage = 0.29, confidence = 1.0, lift = 2.06, natoms = 3)\n",
      "\u001b[34m▣\u001b[0m ⟨G⟩(\u001b[1mmax[\u001b[31mmfcc12\u001b[0m] \u001b[1m<\u001b[0m\u001b[0m -0.09) ∧ [G](\u001b[1mmax[\u001b[31mmfcc3\u001b[0m] \u001b[1m≥\u001b[0m\u001b[0m 0.1) ∧ [G](\u001b[1mmax[\u001b[31mmfcc2\u001b[0m] \u001b[1m≥\u001b[0m\u001b[0m 2.16) ∧ [G](\u001b[1mmax[\u001b[36mskwns\u001b[0m] \u001b[1m≥\u001b[0m\u001b[0m 2.86) ∧ [G](\u001b[1mmax[\u001b[31mmfcc9\u001b[0m] \u001b[1m<\u001b[0m\u001b[0m 0.54)  ↣  Pneumonia : (ninstances = 101, ncovered = 6, coverage = 0.06, confidence = 1.0, lift = 2.06, natoms = 5)\n"
     ]
    }
   ],
   "source": [
    "interesting_rules = listrules(sole_dt, min_lift = 1.0, min_ninstances = 0, normalize = true);\n",
    "printmodel.(interesting_rules; show_metrics = true, syntaxstring_kwargs = (; threshold_digits = 2), variable_names_map=variable_names);"
   ]
  },
  {
   "cell_type": "markdown",
   "metadata": {},
   "source": [
    "### Directly access rule metrics"
   ]
  },
  {
   "cell_type": "code",
   "execution_count": 10,
   "metadata": {},
   "outputs": [
    {
     "data": {
      "text/plain": [
       "13-element Vector{@NamedTuple{ninstances::Int64, ncovered::Int64, coverage::Float64, confidence::Float64, lift::Float64, natoms::Int64}}:\n",
       " (ninstances = 101, ncovered = 30, coverage = 0.297029702970297, confidence = 0.9666666666666667, lift = 1.8775641025641026, natoms = 2)\n",
       " (ninstances = 101, ncovered = 6, coverage = 0.0594059405940594, confidence = 0.6666666666666666, lift = 1.2948717948717947, natoms = 4)\n",
       " (ninstances = 101, ncovered = 7, coverage = 0.06930693069306931, confidence = 1.0, lift = 1.9423076923076923, natoms = 6)\n",
       " (ninstances = 101, ncovered = 1, coverage = 0.009900990099009901, confidence = 1.0, lift = 1.9423076923076923, natoms = 9)\n",
       " (ninstances = 101, ncovered = 1, coverage = 0.009900990099009901, confidence = 1.0, lift = 1.9423076923076923, natoms = 12)\n",
       " (ninstances = 101, ncovered = 1, coverage = 0.009900990099009901, confidence = 1.0, lift = 1.9423076923076923, natoms = 17)\n",
       " (ninstances = 101, ncovered = 1, coverage = 0.009900990099009901, confidence = 1.0, lift = 1.9423076923076923, natoms = 20)\n",
       " (ninstances = 101, ncovered = 3, coverage = 0.0297029702970297, confidence = 1.0, lift = 2.061224489795918, natoms = 23)\n",
       " (ninstances = 101, ncovered = 9, coverage = 0.0891089108910891, confidence = 0.7777777777777778, lift = 1.6031746031746033, natoms = 17)\n",
       " (ninstances = 101, ncovered = 4, coverage = 0.039603960396039604, confidence = 1.0, lift = 1.9423076923076923, natoms = 10)\n",
       " (ninstances = 101, ncovered = 2, coverage = 0.019801980198019802, confidence = 1.0, lift = 1.9423076923076923, natoms = 11)\n",
       " (ninstances = 101, ncovered = 29, coverage = 0.2871287128712871, confidence = 1.0, lift = 2.061224489795918, natoms = 3)\n",
       " (ninstances = 101, ncovered = 6, coverage = 0.0594059405940594, confidence = 1.0, lift = 2.061224489795918, natoms = 5)"
      ]
     },
     "metadata": {},
     "output_type": "display_data"
    }
   ],
   "source": [
    "readmetrics.(listrules(sole_dt; min_lift=1.0, min_ninstances = 0))"
   ]
  },
  {
   "cell_type": "markdown",
   "metadata": {},
   "source": [
    "### Show rules with an additional metric (syntax height of the rule's antecedent)"
   ]
  },
  {
   "cell_type": "code",
   "execution_count": 11,
   "metadata": {},
   "outputs": [
    {
     "name": "stdout",
     "output_type": "stream",
     "text": [
      "\u001b[34m▣\u001b[0m ⟨G⟩((\u001b[1mmax[\u001b[31mmfcc3\u001b[0m] \u001b[1m<\u001b[0m\u001b[0m 0.09812318146381033) ∧ ⟨G⟩((\u001b[1mmax[\u001b[31mmfcc13\u001b[0m] \u001b[1m≥\u001b[0m\u001b[0m 0.14903729485756076) ∧ ⟨AO⟩(\u001b[1mmax[\u001b[31mmfcc2\u001b[0m] \u001b[1m<\u001b[0m\u001b[0m 2.307492451039466))) ∧ [G]((\u001b[1mmax[\u001b[31mmfcc3\u001b[0m] \u001b[1m<\u001b[0m\u001b[0m 0.09812318146381033) → [L](\u001b[1mmax[\u001b[31mmfcc2\u001b[0m] \u001b[1m≥\u001b[0m\u001b[0m 2.307492451039466)) ∧ [G]((\u001b[1mmax[\u001b[31mmfcc3\u001b[0m] \u001b[1m<\u001b[0m\u001b[0m 0.09812318146381033) → [G](\u001b[1mmax[\u001b[31mmfcc9\u001b[0m] \u001b[1m<\u001b[0m\u001b[0m 0.5976720024804375)) ∧ [G]((\u001b[1mmax[\u001b[31mmfcc3\u001b[0m] \u001b[1m<\u001b[0m\u001b[0m 0.09812318146381033) → [D̅B̅E̅](\u001b[1mmax[\u001b[31mmfcc7\u001b[0m] \u001b[1m≥\u001b[0m\u001b[0m -0.6642952487692787))  ↣  Healthy : (ninstances = 101, ncovered = 1, coverage = 0.009900990099009901, confidence = 1.0, lift = 1.9423076923076923, natoms = 9, height = 8)\n",
      "\u001b[34m▣\u001b[0m ⟨G⟩((\u001b[1mmax[\u001b[31mmfcc3\u001b[0m] \u001b[1m<\u001b[0m\u001b[0m 0.09812318146381033) ∧ ⟨G⟩((\u001b[1mmax[\u001b[31mmfcc13\u001b[0m] \u001b[1m≥\u001b[0m\u001b[0m 0.14903729485756076) ∧ (\u001b[1mmedian[\u001b[31mmfcc9\u001b[0m] \u001b[1m<\u001b[0m\u001b[0m -0.5866367660703533))) ∧ [G]((\u001b[1mmax[\u001b[31mmfcc3\u001b[0m] \u001b[1m<\u001b[0m\u001b[0m 0.09812318146381033) → [L](\u001b[1mmax[\u001b[31mmfcc2\u001b[0m] \u001b[1m≥\u001b[0m\u001b[0m 2.307492451039466)) ∧ [G]((\u001b[1mmax[\u001b[31mmfcc3\u001b[0m] \u001b[1m<\u001b[0m\u001b[0m 0.09812318146381033) → [G](\u001b[1mmax[\u001b[31mmfcc9\u001b[0m] \u001b[1m<\u001b[0m\u001b[0m 0.5976720024804375)) ∧ [G]((\u001b[1mmax[\u001b[31mmfcc3\u001b[0m] \u001b[1m<\u001b[0m\u001b[0m 0.09812318146381033) → [D̅B̅E̅](\u001b[1mmax[\u001b[31mmfcc7\u001b[0m] \u001b[1m≥\u001b[0m\u001b[0m -0.6642952487692787)) ∧ [G]((\u001b[1mmax[\u001b[31mmfcc3\u001b[0m] \u001b[1m<\u001b[0m\u001b[0m 0.09812318146381033) → [G]((\u001b[1mmax[\u001b[31mmfcc13\u001b[0m] \u001b[1m≥\u001b[0m\u001b[0m 0.14903729485756076) → [AO](\u001b[1mmax[\u001b[31mmfcc2\u001b[0m] \u001b[1m≥\u001b[0m\u001b[0m 2.307492451039466)))  ↣  Healthy : (ninstances = 101, ncovered = 1, coverage = 0.009900990099009901, confidence = 1.0, lift = 1.9423076923076923, natoms = 12, height = 8)\n",
      "\u001b[34m▣\u001b[0m ⟨G⟩((\u001b[1mmax[\u001b[31mmfcc3\u001b[0m] \u001b[1m<\u001b[0m\u001b[0m 0.09812318146381033) ∧ ⟨G⟩((\u001b[1mmax[\u001b[31mmfcc13\u001b[0m] \u001b[1m≥\u001b[0m\u001b[0m 0.14903729485756076) ∧ ⟨AO⟩((\u001b[1mmin[\u001b[36mskwns\u001b[0m] \u001b[1m≥\u001b[0m\u001b[0m 3.78403413752257) ∧ ⟨A̅O̅⟩((\u001b[1mmedian[\u001b[31mmfcc7\u001b[0m] \u001b[1m<\u001b[0m\u001b[0m -0.34682634776230287) ∧ ⟨G⟩(\u001b[1mmax[\u001b[31mmfcc2\u001b[0m] \u001b[1m<\u001b[0m\u001b[0m 3.1722386188642067))))) ∧ [G]((\u001b[1mmax[\u001b[31mmfcc3\u001b[0m] \u001b[1m<\u001b[0m\u001b[0m 0.09812318146381033) → [L](\u001b[1mmax[\u001b[31mmfcc2\u001b[0m] \u001b[1m≥\u001b[0m\u001b[0m 2.307492451039466)) ∧ [G]((\u001b[1mmax[\u001b[31mmfcc3\u001b[0m] \u001b[1m<\u001b[0m\u001b[0m 0.09812318146381033) → [G](\u001b[1mmax[\u001b[31mmfcc9\u001b[0m] \u001b[1m<\u001b[0m\u001b[0m 0.5976720024804375)) ∧ [G]((\u001b[1mmax[\u001b[31mmfcc3\u001b[0m] \u001b[1m<\u001b[0m\u001b[0m 0.09812318146381033) → [D̅B̅E̅](\u001b[1mmax[\u001b[31mmfcc7\u001b[0m] \u001b[1m≥\u001b[0m\u001b[0m -0.6642952487692787)) ∧ [G]((\u001b[1mmax[\u001b[31mmfcc3\u001b[0m] \u001b[1m<\u001b[0m\u001b[0m 0.09812318146381033) → [G]((\u001b[1mmax[\u001b[31mmfcc13\u001b[0m] \u001b[1m≥\u001b[0m\u001b[0m 0.14903729485756076) → [AO](\u001b[1mmax[\u001b[31mmfcc2\u001b[0m] \u001b[1m≥\u001b[0m\u001b[0m 2.307492451039466))) ∧ [G]((\u001b[1mmax[\u001b[31mmfcc3\u001b[0m] \u001b[1m<\u001b[0m\u001b[0m 0.09812318146381033) → [G]((\u001b[1mmax[\u001b[31mmfcc13\u001b[0m] \u001b[1m≥\u001b[0m\u001b[0m 0.14903729485756076) → (\u001b[1mmedian[\u001b[31mmfcc9\u001b[0m] \u001b[1m≥\u001b[0m\u001b[0m -0.5866367660703533)))  ↣  Healthy : (ninstances = 101, ncovered = 1, coverage = 0.009900990099009901, confidence = 1.0, lift = 1.9423076923076923, natoms = 17, height = 14)\n",
      "\u001b[34m▣\u001b[0m ⟨G⟩((\u001b[1mmax[\u001b[31mmfcc3\u001b[0m] \u001b[1m<\u001b[0m\u001b[0m 0.09812318146381033) ∧ ⟨G⟩((\u001b[1mmax[\u001b[31mmfcc13\u001b[0m] \u001b[1m≥\u001b[0m\u001b[0m 0.14903729485756076) ∧ ⟨AO⟩((\u001b[1mmin[\u001b[36mskwns\u001b[0m] \u001b[1m≥\u001b[0m\u001b[0m 3.78403413752257) ∧ (\u001b[1mmax[\u001b[33mmel10=1074Hz\u001b[0m] \u001b[1m≥\u001b[0m\u001b[0m 0.0013639471508415334)))) ∧ [G]((\u001b[1mmax[\u001b[31mmfcc3\u001b[0m] \u001b[1m<\u001b[0m\u001b[0m 0.09812318146381033) → [L](\u001b[1mmax[\u001b[31mmfcc2\u001b[0m] \u001b[1m≥\u001b[0m\u001b[0m 2.307492451039466)) ∧ [G]((\u001b[1mmax[\u001b[31mmfcc3\u001b[0m] \u001b[1m<\u001b[0m\u001b[0m 0.09812318146381033) → [G](\u001b[1mmax[\u001b[31mmfcc9\u001b[0m] \u001b[1m<\u001b[0m\u001b[0m 0.5976720024804375)) ∧ [G]((\u001b[1mmax[\u001b[31mmfcc3\u001b[0m] \u001b[1m<\u001b[0m\u001b[0m 0.09812318146381033) → [D̅B̅E̅](\u001b[1mmax[\u001b[31mmfcc7\u001b[0m] \u001b[1m≥\u001b[0m\u001b[0m -0.6642952487692787)) ∧ [G]((\u001b[1mmax[\u001b[31mmfcc3\u001b[0m] \u001b[1m<\u001b[0m\u001b[0m 0.09812318146381033) → [G]((\u001b[1mmax[\u001b[31mmfcc13\u001b[0m] \u001b[1m≥\u001b[0m\u001b[0m 0.14903729485756076) → [AO](\u001b[1mmax[\u001b[31mmfcc2\u001b[0m] \u001b[1m≥\u001b[0m\u001b[0m 2.307492451039466))) ∧ [G]((\u001b[1mmax[\u001b[31mmfcc3\u001b[0m] \u001b[1m<\u001b[0m\u001b[0m 0.09812318146381033) → [G]((\u001b[1mmax[\u001b[31mmfcc13\u001b[0m] \u001b[1m≥\u001b[0m\u001b[0m 0.14903729485756076) → (\u001b[1mmedian[\u001b[31mmfcc9\u001b[0m] \u001b[1m≥\u001b[0m\u001b[0m -0.5866367660703533))) ∧ [G]((\u001b[1mmax[\u001b[31mmfcc3\u001b[0m] \u001b[1m<\u001b[0m\u001b[0m 0.09812318146381033) → [G]((\u001b[1mmax[\u001b[31mmfcc13\u001b[0m] \u001b[1m≥\u001b[0m\u001b[0m 0.14903729485756076) → [AO]((\u001b[1mmin[\u001b[36mskwns\u001b[0m] \u001b[1m≥\u001b[0m\u001b[0m 3.78403413752257) → [A̅O̅](\u001b[1mmedian[\u001b[31mmfcc7\u001b[0m] \u001b[1m≥\u001b[0m\u001b[0m -0.34682634776230287))))  ↣  Healthy : (ninstances = 101, ncovered = 1, coverage = 0.009900990099009901, confidence = 1.0, lift = 1.9423076923076923, natoms = 20, height = 12)\n",
      "\u001b[34m▣\u001b[0m ⟨G⟩(\u001b[1mmax[\u001b[31mmfcc3\u001b[0m] \u001b[1m<\u001b[0m\u001b[0m 0.09812318146381033) ∧ [G]((\u001b[1mmax[\u001b[31mmfcc3\u001b[0m] \u001b[1m<\u001b[0m\u001b[0m 0.09812318146381033) → [L](\u001b[1mmax[\u001b[31mmfcc2\u001b[0m] \u001b[1m≥\u001b[0m\u001b[0m 2.307492451039466)) ∧ [G]((\u001b[1mmax[\u001b[31mmfcc3\u001b[0m] \u001b[1m<\u001b[0m\u001b[0m 0.09812318146381033) → [G](\u001b[1mmax[\u001b[31mmfcc9\u001b[0m] \u001b[1m<\u001b[0m\u001b[0m 0.5976720024804375)) ∧ [G]((\u001b[1mmax[\u001b[31mmfcc3\u001b[0m] \u001b[1m<\u001b[0m\u001b[0m 0.09812318146381033) → [D̅B̅E̅](\u001b[1mmax[\u001b[31mmfcc7\u001b[0m] \u001b[1m≥\u001b[0m\u001b[0m -0.6642952487692787)) ∧ [G]((\u001b[1mmax[\u001b[31mmfcc3\u001b[0m] \u001b[1m<\u001b[0m\u001b[0m 0.09812318146381033) → [G](\u001b[1mmax[\u001b[31mmfcc13\u001b[0m] \u001b[1m<\u001b[0m\u001b[0m 0.14903729485756076)) ∧ [G]((\u001b[1mmax[\u001b[31mmfcc3\u001b[0m] \u001b[1m<\u001b[0m\u001b[0m 0.09812318146381033) → (\u001b[1mmax[\u001b[33mmel1=359Hz\u001b[0m] \u001b[1m<\u001b[0m\u001b[0m 0.01175897015554957))  ↣  Healthy : (ninstances = 101, ncovered = 2, coverage = 0.019801980198019802, confidence = 1.0, lift = 1.9423076923076923, natoms = 11, height = 8)\n",
      "\u001b[34m▣\u001b[0m ⟨G⟩((\u001b[1mmax[\u001b[31mmfcc3\u001b[0m] \u001b[1m<\u001b[0m\u001b[0m 0.09812318146381033) ∧ ⟨G⟩((\u001b[1mmax[\u001b[31mmfcc13\u001b[0m] \u001b[1m≥\u001b[0m\u001b[0m 0.14903729485756076) ∧ ⟨AO⟩(\u001b[1mmin[\u001b[36mskwns\u001b[0m] \u001b[1m≥\u001b[0m\u001b[0m 3.78403413752257))) ∧ [G]((\u001b[1mmax[\u001b[31mmfcc3\u001b[0m] \u001b[1m<\u001b[0m\u001b[0m 0.09812318146381033) → [L](\u001b[1mmax[\u001b[31mmfcc2\u001b[0m] \u001b[1m≥\u001b[0m\u001b[0m 2.307492451039466)) ∧ [G]((\u001b[1mmax[\u001b[31mmfcc3\u001b[0m] \u001b[1m<\u001b[0m\u001b[0m 0.09812318146381033) → [G](\u001b[1mmax[\u001b[31mmfcc9\u001b[0m] \u001b[1m<\u001b[0m\u001b[0m 0.5976720024804375)) ∧ [G]((\u001b[1mmax[\u001b[31mmfcc3\u001b[0m] \u001b[1m<\u001b[0m\u001b[0m 0.09812318146381033) → [D̅B̅E̅](\u001b[1mmax[\u001b[31mmfcc7\u001b[0m] \u001b[1m≥\u001b[0m\u001b[0m -0.6642952487692787)) ∧ [G]((\u001b[1mmax[\u001b[31mmfcc3\u001b[0m] \u001b[1m<\u001b[0m\u001b[0m 0.09812318146381033) → [G]((\u001b[1mmax[\u001b[31mmfcc13\u001b[0m] \u001b[1m≥\u001b[0m\u001b[0m 0.14903729485756076) → [AO](\u001b[1mmax[\u001b[31mmfcc2\u001b[0m] \u001b[1m≥\u001b[0m\u001b[0m 2.307492451039466))) ∧ [G]((\u001b[1mmax[\u001b[31mmfcc3\u001b[0m] \u001b[1m<\u001b[0m\u001b[0m 0.09812318146381033) → [G]((\u001b[1mmax[\u001b[31mmfcc13\u001b[0m] \u001b[1m≥\u001b[0m\u001b[0m 0.14903729485756076) → (\u001b[1mmedian[\u001b[31mmfcc9\u001b[0m] \u001b[1m≥\u001b[0m\u001b[0m -0.5866367660703533))) ∧ [G]((\u001b[1mmax[\u001b[31mmfcc3\u001b[0m] \u001b[1m<\u001b[0m\u001b[0m 0.09812318146381033) → [G]((\u001b[1mmax[\u001b[31mmfcc13\u001b[0m] \u001b[1m≥\u001b[0m\u001b[0m 0.14903729485756076) → [AO]((\u001b[1mmin[\u001b[36mskwns\u001b[0m] \u001b[1m≥\u001b[0m\u001b[0m 3.78403413752257) → [A̅O̅](\u001b[1mmedian[\u001b[31mmfcc7\u001b[0m] \u001b[1m≥\u001b[0m\u001b[0m -0.34682634776230287)))) ∧ [G]((\u001b[1mmax[\u001b[31mmfcc3\u001b[0m] \u001b[1m<\u001b[0m\u001b[0m 0.09812318146381033) → [G]((\u001b[1mmax[\u001b[31mmfcc13\u001b[0m] \u001b[1m≥\u001b[0m\u001b[0m 0.14903729485756076) → [AO]((\u001b[1mmin[\u001b[36mskwns\u001b[0m] \u001b[1m≥\u001b[0m\u001b[0m 3.78403413752257) → (\u001b[1mmax[\u001b[33mmel10=1074Hz\u001b[0m] \u001b[1m<\u001b[0m\u001b[0m 0.0013639471508415334))))  ↣  Pneumonia : (ninstances = 101, ncovered = 3, coverage = 0.0297029702970297, confidence = 1.0, lift = 2.061224489795918, natoms = 23, height = 12)\n",
      "\u001b[34m▣\u001b[0m ⟨G⟩((\u001b[1mmax[\u001b[31mmfcc3\u001b[0m] \u001b[1m<\u001b[0m\u001b[0m 0.09812318146381033) ∧ (\u001b[1mmax[\u001b[33mmel1=359Hz\u001b[0m] \u001b[1m≥\u001b[0m\u001b[0m 0.01175897015554957)) ∧ [G]((\u001b[1mmax[\u001b[31mmfcc3\u001b[0m] \u001b[1m<\u001b[0m\u001b[0m 0.09812318146381033) → [L](\u001b[1mmax[\u001b[31mmfcc2\u001b[0m] \u001b[1m≥\u001b[0m\u001b[0m 2.307492451039466)) ∧ [G]((\u001b[1mmax[\u001b[31mmfcc3\u001b[0m] \u001b[1m<\u001b[0m\u001b[0m 0.09812318146381033) → [G](\u001b[1mmax[\u001b[31mmfcc9\u001b[0m] \u001b[1m<\u001b[0m\u001b[0m 0.5976720024804375)) ∧ [G]((\u001b[1mmax[\u001b[31mmfcc3\u001b[0m] \u001b[1m<\u001b[0m\u001b[0m 0.09812318146381033) → [D̅B̅E̅](\u001b[1mmax[\u001b[31mmfcc7\u001b[0m] \u001b[1m≥\u001b[0m\u001b[0m -0.6642952487692787)) ∧ [G]((\u001b[1mmax[\u001b[31mmfcc3\u001b[0m] \u001b[1m<\u001b[0m\u001b[0m 0.09812318146381033) → [G](\u001b[1mmax[\u001b[31mmfcc13\u001b[0m] \u001b[1m<\u001b[0m\u001b[0m 0.14903729485756076))  ↣  Healthy : (ninstances = 101, ncovered = 4, coverage = 0.039603960396039604, confidence = 1.0, lift = 1.9423076923076923, natoms = 10, height = 7)\n",
      "\u001b[34m▣\u001b[0m ⟨G⟩((\u001b[1mmax[\u001b[31mmfcc3\u001b[0m] \u001b[1m<\u001b[0m\u001b[0m 0.09812318146381033) ∧ ⟨G⟩(\u001b[1mmax[\u001b[31mmfcc9\u001b[0m] \u001b[1m≥\u001b[0m\u001b[0m 0.5976720024804375)) ∧ [G]((\u001b[1mmax[\u001b[31mmfcc3\u001b[0m] \u001b[1m<\u001b[0m\u001b[0m 0.09812318146381033) → [L](\u001b[1mmax[\u001b[31mmfcc2\u001b[0m] \u001b[1m≥\u001b[0m\u001b[0m 2.307492451039466))  ↣  Healthy : (ninstances = 101, ncovered = 6, coverage = 0.0594059405940594, confidence = 0.6666666666666666, lift = 1.2948717948717947, natoms = 4, height = 4)\n",
      "\u001b[34m▣\u001b[0m ⟨G⟩(\u001b[1mmax[\u001b[31mmfcc12\u001b[0m] \u001b[1m<\u001b[0m\u001b[0m -0.08803286016585204) ∧ [G](\u001b[1mmax[\u001b[31mmfcc3\u001b[0m] \u001b[1m≥\u001b[0m\u001b[0m 0.09812318146381033) ∧ [G](\u001b[1mmax[\u001b[31mmfcc2\u001b[0m] \u001b[1m≥\u001b[0m\u001b[0m 2.159377788529294) ∧ [G](\u001b[1mmax[\u001b[36mskwns\u001b[0m] \u001b[1m≥\u001b[0m\u001b[0m 2.857074374510503) ∧ [G](\u001b[1mmax[\u001b[31mmfcc9\u001b[0m] \u001b[1m<\u001b[0m\u001b[0m 0.5395751163311291)  ↣  Pneumonia : (ninstances = 101, ncovered = 6, coverage = 0.0594059405940594, confidence = 1.0, lift = 2.061224489795918, natoms = 5, height = 5)\n",
      "\u001b[34m▣\u001b[0m ⟨G⟩((\u001b[1mmax[\u001b[31mmfcc3\u001b[0m] \u001b[1m<\u001b[0m\u001b[0m 0.09812318146381033) ∧ ⟨D̅B̅E̅⟩(\u001b[1mmax[\u001b[31mmfcc7\u001b[0m] \u001b[1m<\u001b[0m\u001b[0m -0.6642952487692787)) ∧ [G]((\u001b[1mmax[\u001b[31mmfcc3\u001b[0m] \u001b[1m<\u001b[0m\u001b[0m 0.09812318146381033) → [L](\u001b[1mmax[\u001b[31mmfcc2\u001b[0m] \u001b[1m≥\u001b[0m\u001b[0m 2.307492451039466)) ∧ [G]((\u001b[1mmax[\u001b[31mmfcc3\u001b[0m] \u001b[1m<\u001b[0m\u001b[0m 0.09812318146381033) → [G](\u001b[1mmax[\u001b[31mmfcc9\u001b[0m] \u001b[1m<\u001b[0m\u001b[0m 0.5976720024804375))  ↣  Healthy : (ninstances = 101, ncovered = 7, coverage = 0.06930693069306931, confidence = 1.0, lift = 1.9423076923076923, natoms = 6, height = 5)\n",
      "\u001b[34m▣\u001b[0m ⟨G⟩((\u001b[1mmax[\u001b[31mmfcc3\u001b[0m] \u001b[1m<\u001b[0m\u001b[0m 0.09812318146381033) ∧ ⟨G⟩(\u001b[1mmax[\u001b[31mmfcc13\u001b[0m] \u001b[1m≥\u001b[0m\u001b[0m 0.14903729485756076)) ∧ [G]((\u001b[1mmax[\u001b[31mmfcc3\u001b[0m] \u001b[1m<\u001b[0m\u001b[0m 0.09812318146381033) → [L](\u001b[1mmax[\u001b[31mmfcc2\u001b[0m] \u001b[1m≥\u001b[0m\u001b[0m 2.307492451039466)) ∧ [G]((\u001b[1mmax[\u001b[31mmfcc3\u001b[0m] \u001b[1m<\u001b[0m\u001b[0m 0.09812318146381033) → [G](\u001b[1mmax[\u001b[31mmfcc9\u001b[0m] \u001b[1m<\u001b[0m\u001b[0m 0.5976720024804375)) ∧ [G]((\u001b[1mmax[\u001b[31mmfcc3\u001b[0m] \u001b[1m<\u001b[0m\u001b[0m 0.09812318146381033) → [D̅B̅E̅](\u001b[1mmax[\u001b[31mmfcc7\u001b[0m] \u001b[1m≥\u001b[0m\u001b[0m -0.6642952487692787)) ∧ [G]((\u001b[1mmax[\u001b[31mmfcc3\u001b[0m] \u001b[1m<\u001b[0m\u001b[0m 0.09812318146381033) → [G]((\u001b[1mmax[\u001b[31mmfcc13\u001b[0m] \u001b[1m≥\u001b[0m\u001b[0m 0.14903729485756076) → [AO](\u001b[1mmax[\u001b[31mmfcc2\u001b[0m] \u001b[1m≥\u001b[0m\u001b[0m 2.307492451039466))) ∧ [G]((\u001b[1mmax[\u001b[31mmfcc3\u001b[0m] \u001b[1m<\u001b[0m\u001b[0m 0.09812318146381033) → [G]((\u001b[1mmax[\u001b[31mmfcc13\u001b[0m] \u001b[1m≥\u001b[0m\u001b[0m 0.14903729485756076) → (\u001b[1mmedian[\u001b[31mmfcc9\u001b[0m] \u001b[1m≥\u001b[0m\u001b[0m -0.5866367660703533))) ∧ [G]((\u001b[1mmax[\u001b[31mmfcc3\u001b[0m] \u001b[1m<\u001b[0m\u001b[0m 0.09812318146381033) → [G]((\u001b[1mmax[\u001b[31mmfcc13\u001b[0m] \u001b[1m≥\u001b[0m\u001b[0m 0.14903729485756076) → [AO](\u001b[1mmin[\u001b[36mskwns\u001b[0m] \u001b[1m<\u001b[0m\u001b[0m 3.78403413752257)))  ↣  Pneumonia : (ninstances = 101, ncovered = 9, coverage = 0.0891089108910891, confidence = 0.7777777777777778, lift = 1.6031746031746033, natoms = 17, height = 9)\n",
      "\u001b[34m▣\u001b[0m ⟨G⟩(\u001b[1mmax[\u001b[36mskwns\u001b[0m] \u001b[1m<\u001b[0m\u001b[0m 2.857074374510503) ∧ [G](\u001b[1mmax[\u001b[31mmfcc3\u001b[0m] \u001b[1m≥\u001b[0m\u001b[0m 0.09812318146381033) ∧ [G](\u001b[1mmax[\u001b[31mmfcc2\u001b[0m] \u001b[1m≥\u001b[0m\u001b[0m 2.159377788529294)  ↣  Pneumonia : (ninstances = 101, ncovered = 29, coverage = 0.2871287128712871, confidence = 1.0, lift = 2.061224489795918, natoms = 3, height = 3)\n",
      "\u001b[34m▣\u001b[0m ⟨G⟩((\u001b[1mmax[\u001b[31mmfcc3\u001b[0m] \u001b[1m<\u001b[0m\u001b[0m 0.09812318146381033) ∧ ⟨L⟩(\u001b[1mmax[\u001b[31mmfcc2\u001b[0m] \u001b[1m<\u001b[0m\u001b[0m 2.307492451039466))  ↣  Healthy : (ninstances = 101, ncovered = 30, coverage = 0.297029702970297, confidence = 0.9666666666666667, lift = 1.8775641025641026, natoms = 2, height = 3)\n"
     ]
    }
   ],
   "source": [
    "printmodel.(sort(interesting_rules, by = readmetrics); show_metrics = (; round_digits = nothing, additional_metrics = (; height = r->SoleLogics.height(antecedent(r)))), variable_names_map=variable_names);"
   ]
  },
  {
   "cell_type": "markdown",
   "metadata": {},
   "source": [
    "### Pretty table of rules and their metrics"
   ]
  },
  {
   "cell_type": "code",
   "execution_count": 12,
   "metadata": {},
   "outputs": [
    {
     "name": "stdout",
     "output_type": "stream",
     "text": [
      "┌───────────────────────────────────────────────────────────────────────────────────────────────────────────────────────────────────────────────────────────────────────────────────────────────────────────────────────────────────────────────────────────────────────────────────────────────────────────────────────────────────────────────────────────────────────────────────────────────────────────────────────────────────────────────────────────────────────────────────────────────────────────────────────────────────────────────────────────────────────────────────────────────────────────────────────────────────────────────────────────────────────────────────────────────────────────────────────────────────────────────────────────────────────────────────────────────────────────────────────────────────────────────────────────────────────────────────────────────────────────────────────────────────────────────┬────────────┬────────────┬──────────┬────────────┬────────────┬─────────┬────────┬────────┐\n",
      "│\u001b[33;1m                                                                                                                                                                                                                                                                                                                                                                                                                                                                                                                                                                                                                                                                                                                                                                                                                                                                                                                                    Antecedent \u001b[0m│\u001b[33;1m Consequent \u001b[0m│\u001b[33;1m ninstances \u001b[0m│\u001b[33;1m ncovered \u001b[0m│\u001b[33;1m   coverage \u001b[0m│\u001b[33;1m confidence \u001b[0m│\u001b[33;1m    lift \u001b[0m│\u001b[33;1m natoms \u001b[0m│\u001b[33;1m height \u001b[0m│\n",
      "├───────────────────────────────────────────────────────────────────────────────────────────────────────────────────────────────────────────────────────────────────────────────────────────────────────────────────────────────────────────────────────────────────────────────────────────────────────────────────────────────────────────────────────────────────────────────────────────────────────────────────────────────────────────────────────────────────────────────────────────────────────────────────────────────────────────────────────────────────────────────────────────────────────────────────────────────────────────────────────────────────────────────────────────────────────────────────────────────────────────────────────────────────────────────────────────────────────────────────────────────────────────────────────────────────────────────────────────────────────────────────────────────────────────────┼────────────┼────────────┼──────────┼────────────┼────────────┼─────────┼────────┼────────┤\n",
      "│                                                                                                                                                                                                                                                                                                                                                                                                                                                                                                                                                                                                                                                                                                                                                                                                                                                                     ⟨G⟩(\u001b[1mmax[\u001b[31mmfcc3\u001b[0m] \u001b[1m<\u001b[0m\u001b[0m 0.09812318146381033 ∧ ⟨L⟩\u001b[1mmax[\u001b[31mmfcc2\u001b[0m] \u001b[1m<\u001b[0m\u001b[0m 2.307492451039466)\u001b[0m │    Healthy │        101 │       30 │    0.29703 │   0.966667 │ 1.87756 │      2 │      3 │\n",
      "│                                                                                                                                                                                                                                                                                                                                                                                                                                                                                                                                                                                                                                                                                                                                                                                        ⟨G⟩(\u001b[1mmax[\u001b[31mmfcc3\u001b[0m] \u001b[1m<\u001b[0m\u001b[0m 0.09812318146381033 ∧ ⟨G⟩\u001b[1mmax[\u001b[31mmfcc9\u001b[0m] \u001b[1m≥\u001b[0m\u001b[0m 0.5976720024804375) ∧ [G](\u001b[1mmax[\u001b[31mmfcc3\u001b[0m] \u001b[1m<\u001b[0m\u001b[0m 0.09812318146381033 → [L]\u001b[1mmax[\u001b[31mmfcc2\u001b[0m] \u001b[1m≥\u001b[0m\u001b[0m 2.307492451039466)\u001b[0m │    Healthy │        101 │        6 │  0.0594059 │   0.666667 │ 1.29487 │      4 │      4 │\n",
      "│                                                                                                                                                                                                                                                                                                                                                                                                                                                                                                                                                                                                                                                                                                        ⟨G⟩(\u001b[1mmax[\u001b[31mmfcc3\u001b[0m] \u001b[1m<\u001b[0m\u001b[0m 0.09812318146381033 ∧ ⟨D̅B̅E̅⟩\u001b[1mmax[\u001b[31mmfcc7\u001b[0m] \u001b[1m<\u001b[0m\u001b[0m -0.6642952487692787) ∧ [G](\u001b[1mmax[\u001b[31mmfcc3\u001b[0m] \u001b[1m<\u001b[0m\u001b[0m 0.09812318146381033 → [L]\u001b[1mmax[\u001b[31mmfcc2\u001b[0m] \u001b[1m≥\u001b[0m\u001b[0m 2.307492451039466) ∧ [G](\u001b[1mmax[\u001b[31mmfcc3\u001b[0m] \u001b[1m<\u001b[0m\u001b[0m 0.09812318146381033 → [G]\u001b[1mmax[\u001b[31mmfcc9\u001b[0m] \u001b[1m<\u001b[0m\u001b[0m 0.5976720024804375)\u001b[0m │    Healthy │        101 │        7 │  0.0693069 │        1.0 │ 1.94231 │      6 │      5 │\n",
      "│                                                                                                                                                                                                                                                                                                                                                                                                                                                                                                                                                                                  ⟨G⟩(\u001b[1mmax[\u001b[31mmfcc3\u001b[0m] \u001b[1m<\u001b[0m\u001b[0m 0.09812318146381033 ∧ ⟨G⟩(\u001b[1mmax[\u001b[31mmfcc13\u001b[0m] \u001b[1m≥\u001b[0m\u001b[0m 0.14903729485756076 ∧ ⟨AO⟩\u001b[1mmax[\u001b[31mmfcc2\u001b[0m] \u001b[1m<\u001b[0m\u001b[0m 2.307492451039466)) ∧ [G](\u001b[1mmax[\u001b[31mmfcc3\u001b[0m] \u001b[1m<\u001b[0m\u001b[0m 0.09812318146381033 → [L]\u001b[1mmax[\u001b[31mmfcc2\u001b[0m] \u001b[1m≥\u001b[0m\u001b[0m 2.307492451039466) ∧ [G](\u001b[1mmax[\u001b[31mmfcc3\u001b[0m] \u001b[1m<\u001b[0m\u001b[0m 0.09812318146381033 → [G]\u001b[1mmax[\u001b[31mmfcc9\u001b[0m] \u001b[1m<\u001b[0m\u001b[0m 0.5976720024804375) ∧ [G](\u001b[1mmax[\u001b[31mmfcc3\u001b[0m] \u001b[1m<\u001b[0m\u001b[0m 0.09812318146381033 → [D̅B̅E̅]\u001b[1mmax[\u001b[31mmfcc7\u001b[0m] \u001b[1m≥\u001b[0m\u001b[0m -0.6642952487692787)\u001b[0m │    Healthy │        101 │        1 │ 0.00990099 │        1.0 │ 1.94231 │      9 │      8 │\n",
      "│                                                                                                                                                                                                                                                                                                                                                                                                                                                           ⟨G⟩(\u001b[1mmax[\u001b[31mmfcc3\u001b[0m] \u001b[1m<\u001b[0m\u001b[0m 0.09812318146381033 ∧ ⟨G⟩(\u001b[1mmax[\u001b[31mmfcc13\u001b[0m] \u001b[1m≥\u001b[0m\u001b[0m 0.14903729485756076 ∧ \u001b[1mmedian[\u001b[31mmfcc9\u001b[0m] \u001b[1m<\u001b[0m\u001b[0m -0.5866367660703533)) ∧ [G](\u001b[1mmax[\u001b[31mmfcc3\u001b[0m] \u001b[1m<\u001b[0m\u001b[0m 0.09812318146381033 → [L]\u001b[1mmax[\u001b[31mmfcc2\u001b[0m] \u001b[1m≥\u001b[0m\u001b[0m 2.307492451039466) ∧ [G](\u001b[1mmax[\u001b[31mmfcc3\u001b[0m] \u001b[1m<\u001b[0m\u001b[0m 0.09812318146381033 → [G]\u001b[1mmax[\u001b[31mmfcc9\u001b[0m] \u001b[1m<\u001b[0m\u001b[0m 0.5976720024804375) ∧ [G](\u001b[1mmax[\u001b[31mmfcc3\u001b[0m] \u001b[1m<\u001b[0m\u001b[0m 0.09812318146381033 → [D̅B̅E̅]\u001b[1mmax[\u001b[31mmfcc7\u001b[0m] \u001b[1m≥\u001b[0m\u001b[0m -0.6642952487692787) ∧ [G](\u001b[1mmax[\u001b[31mmfcc3\u001b[0m] \u001b[1m<\u001b[0m\u001b[0m 0.09812318146381033 → [G](\u001b[1mmax[\u001b[31mmfcc13\u001b[0m] \u001b[1m≥\u001b[0m\u001b[0m 0.14903729485756076 → [AO]\u001b[1mmax[\u001b[31mmfcc2\u001b[0m] \u001b[1m≥\u001b[0m\u001b[0m 2.307492451039466))\u001b[0m │    Healthy │        101 │        1 │ 0.00990099 │        1.0 │ 1.94231 │     12 │      8 │\n",
      "│                                                                                                                                                                                                                                                  ⟨G⟩(\u001b[1mmax[\u001b[31mmfcc3\u001b[0m] \u001b[1m<\u001b[0m\u001b[0m 0.09812318146381033 ∧ ⟨G⟩(\u001b[1mmax[\u001b[31mmfcc13\u001b[0m] \u001b[1m≥\u001b[0m\u001b[0m 0.14903729485756076 ∧ ⟨AO⟩(\u001b[1mmin[\u001b[36mskwns\u001b[0m] \u001b[1m≥\u001b[0m\u001b[0m 3.78403413752257 ∧ ⟨A̅O̅⟩(\u001b[1mmedian[\u001b[31mmfcc7\u001b[0m] \u001b[1m<\u001b[0m\u001b[0m -0.34682634776230287 ∧ ⟨G⟩\u001b[1mmax[\u001b[31mmfcc2\u001b[0m] \u001b[1m<\u001b[0m\u001b[0m 3.1722386188642067)))) ∧ [G](\u001b[1mmax[\u001b[31mmfcc3\u001b[0m] \u001b[1m<\u001b[0m\u001b[0m 0.09812318146381033 → [L]\u001b[1mmax[\u001b[31mmfcc2\u001b[0m] \u001b[1m≥\u001b[0m\u001b[0m 2.307492451039466) ∧ [G](\u001b[1mmax[\u001b[31mmfcc3\u001b[0m] \u001b[1m<\u001b[0m\u001b[0m 0.09812318146381033 → [G]\u001b[1mmax[\u001b[31mmfcc9\u001b[0m] \u001b[1m<\u001b[0m\u001b[0m 0.5976720024804375) ∧ [G](\u001b[1mmax[\u001b[31mmfcc3\u001b[0m] \u001b[1m<\u001b[0m\u001b[0m 0.09812318146381033 → [D̅B̅E̅]\u001b[1mmax[\u001b[31mmfcc7\u001b[0m] \u001b[1m≥\u001b[0m\u001b[0m -0.6642952487692787) ∧ [G](\u001b[1mmax[\u001b[31mmfcc3\u001b[0m] \u001b[1m<\u001b[0m\u001b[0m 0.09812318146381033 → [G](\u001b[1mmax[\u001b[31mmfcc13\u001b[0m] \u001b[1m≥\u001b[0m\u001b[0m 0.14903729485756076 → [AO]\u001b[1mmax[\u001b[31mmfcc2\u001b[0m] \u001b[1m≥\u001b[0m\u001b[0m 2.307492451039466)) ∧ [G](\u001b[1mmax[\u001b[31mmfcc3\u001b[0m] \u001b[1m<\u001b[0m\u001b[0m 0.09812318146381033 → [G](\u001b[1mmax[\u001b[31mmfcc13\u001b[0m] \u001b[1m≥\u001b[0m\u001b[0m 0.14903729485756076 → \u001b[1mmedian[\u001b[31mmfcc9\u001b[0m] \u001b[1m≥\u001b[0m\u001b[0m -0.5866367660703533))\u001b[0m │    Healthy │        101 │        1 │ 0.00990099 │        1.0 │ 1.94231 │     17 │     14 │\n",
      "│                                                                                                                      ⟨G⟩(\u001b[1mmax[\u001b[31mmfcc3\u001b[0m] \u001b[1m<\u001b[0m\u001b[0m 0.09812318146381033 ∧ ⟨G⟩(\u001b[1mmax[\u001b[31mmfcc13\u001b[0m] \u001b[1m≥\u001b[0m\u001b[0m 0.14903729485756076 ∧ ⟨AO⟩(\u001b[1mmin[\u001b[36mskwns\u001b[0m] \u001b[1m≥\u001b[0m\u001b[0m 3.78403413752257 ∧ \u001b[1mmax[\u001b[33mmel10=1074Hz\u001b[0m] \u001b[1m≥\u001b[0m\u001b[0m 0.0013639471508415334))) ∧ [G](\u001b[1mmax[\u001b[31mmfcc3\u001b[0m] \u001b[1m<\u001b[0m\u001b[0m 0.09812318146381033 → [L]\u001b[1mmax[\u001b[31mmfcc2\u001b[0m] \u001b[1m≥\u001b[0m\u001b[0m 2.307492451039466) ∧ [G](\u001b[1mmax[\u001b[31mmfcc3\u001b[0m] \u001b[1m<\u001b[0m\u001b[0m 0.09812318146381033 → [G]\u001b[1mmax[\u001b[31mmfcc9\u001b[0m] \u001b[1m<\u001b[0m\u001b[0m 0.5976720024804375) ∧ [G](\u001b[1mmax[\u001b[31mmfcc3\u001b[0m] \u001b[1m<\u001b[0m\u001b[0m 0.09812318146381033 → [D̅B̅E̅]\u001b[1mmax[\u001b[31mmfcc7\u001b[0m] \u001b[1m≥\u001b[0m\u001b[0m -0.6642952487692787) ∧ [G](\u001b[1mmax[\u001b[31mmfcc3\u001b[0m] \u001b[1m<\u001b[0m\u001b[0m 0.09812318146381033 → [G](\u001b[1mmax[\u001b[31mmfcc13\u001b[0m] \u001b[1m≥\u001b[0m\u001b[0m 0.14903729485756076 → [AO]\u001b[1mmax[\u001b[31mmfcc2\u001b[0m] \u001b[1m≥\u001b[0m\u001b[0m 2.307492451039466)) ∧ [G](\u001b[1mmax[\u001b[31mmfcc3\u001b[0m] \u001b[1m<\u001b[0m\u001b[0m 0.09812318146381033 → [G](\u001b[1mmax[\u001b[31mmfcc13\u001b[0m] \u001b[1m≥\u001b[0m\u001b[0m 0.14903729485756076 → \u001b[1mmedian[\u001b[31mmfcc9\u001b[0m] \u001b[1m≥\u001b[0m\u001b[0m -0.5866367660703533)) ∧ [G](\u001b[1mmax[\u001b[31mmfcc3\u001b[0m] \u001b[1m<\u001b[0m\u001b[0m 0.09812318146381033 → [G](\u001b[1mmax[\u001b[31mmfcc13\u001b[0m] \u001b[1m≥\u001b[0m\u001b[0m 0.14903729485756076 → [AO](\u001b[1mmin[\u001b[36mskwns\u001b[0m] \u001b[1m≥\u001b[0m\u001b[0m 3.78403413752257 → [A̅O̅]\u001b[1mmedian[\u001b[31mmfcc7\u001b[0m] \u001b[1m≥\u001b[0m\u001b[0m -0.34682634776230287)))\u001b[0m │    Healthy │        101 │        1 │ 0.00990099 │        1.0 │ 1.94231 │     20 │     12 │\n",
      "│ ⟨G⟩(\u001b[1mmax[\u001b[31mmfcc3\u001b[0m] \u001b[1m<\u001b[0m\u001b[0m 0.09812318146381033 ∧ ⟨G⟩(\u001b[1mmax[\u001b[31mmfcc13\u001b[0m] \u001b[1m≥\u001b[0m\u001b[0m 0.14903729485756076 ∧ ⟨AO⟩\u001b[1mmin[\u001b[36mskwns\u001b[0m] \u001b[1m≥\u001b[0m\u001b[0m 3.78403413752257)) ∧ [G](\u001b[1mmax[\u001b[31mmfcc3\u001b[0m] \u001b[1m<\u001b[0m\u001b[0m 0.09812318146381033 → [L]\u001b[1mmax[\u001b[31mmfcc2\u001b[0m] \u001b[1m≥\u001b[0m\u001b[0m 2.307492451039466) ∧ [G](\u001b[1mmax[\u001b[31mmfcc3\u001b[0m] \u001b[1m<\u001b[0m\u001b[0m 0.09812318146381033 → [G]\u001b[1mmax[\u001b[31mmfcc9\u001b[0m] \u001b[1m<\u001b[0m\u001b[0m 0.5976720024804375) ∧ [G](\u001b[1mmax[\u001b[31mmfcc3\u001b[0m] \u001b[1m<\u001b[0m\u001b[0m 0.09812318146381033 → [D̅B̅E̅]\u001b[1mmax[\u001b[31mmfcc7\u001b[0m] \u001b[1m≥\u001b[0m\u001b[0m -0.6642952487692787) ∧ [G](\u001b[1mmax[\u001b[31mmfcc3\u001b[0m] \u001b[1m<\u001b[0m\u001b[0m 0.09812318146381033 → [G](\u001b[1mmax[\u001b[31mmfcc13\u001b[0m] \u001b[1m≥\u001b[0m\u001b[0m 0.14903729485756076 → [AO]\u001b[1mmax[\u001b[31mmfcc2\u001b[0m] \u001b[1m≥\u001b[0m\u001b[0m 2.307492451039466)) ∧ [G](\u001b[1mmax[\u001b[31mmfcc3\u001b[0m] \u001b[1m<\u001b[0m\u001b[0m 0.09812318146381033 → [G](\u001b[1mmax[\u001b[31mmfcc13\u001b[0m] \u001b[1m≥\u001b[0m\u001b[0m 0.14903729485756076 → \u001b[1mmedian[\u001b[31mmfcc9\u001b[0m] \u001b[1m≥\u001b[0m\u001b[0m -0.5866367660703533)) ∧ [G](\u001b[1mmax[\u001b[31mmfcc3\u001b[0m] \u001b[1m<\u001b[0m\u001b[0m 0.09812318146381033 → [G](\u001b[1mmax[\u001b[31mmfcc13\u001b[0m] \u001b[1m≥\u001b[0m\u001b[0m 0.14903729485756076 → [AO](\u001b[1mmin[\u001b[36mskwns\u001b[0m] \u001b[1m≥\u001b[0m\u001b[0m 3.78403413752257 → [A̅O̅]\u001b[1mmedian[\u001b[31mmfcc7\u001b[0m] \u001b[1m≥\u001b[0m\u001b[0m -0.34682634776230287))) ∧ [G](\u001b[1mmax[\u001b[31mmfcc3\u001b[0m] \u001b[1m<\u001b[0m\u001b[0m 0.09812318146381033 → [G](\u001b[1mmax[\u001b[31mmfcc13\u001b[0m] \u001b[1m≥\u001b[0m\u001b[0m 0.14903729485756076 → [AO](\u001b[1mmin[\u001b[36mskwns\u001b[0m] \u001b[1m≥\u001b[0m\u001b[0m 3.78403413752257 → \u001b[1mmax[\u001b[33mmel10=1074Hz\u001b[0m] \u001b[1m<\u001b[0m\u001b[0m 0.0013639471508415334)))\u001b[0m │  Pneumonia │        101 │        3 │   0.029703 │        1.0 │ 2.06122 │     23 │     12 │\n",
      "│                                                                                                                                                                                                                                                       ⟨G⟩(\u001b[1mmax[\u001b[31mmfcc3\u001b[0m] \u001b[1m<\u001b[0m\u001b[0m 0.09812318146381033 ∧ ⟨G⟩\u001b[1mmax[\u001b[31mmfcc13\u001b[0m] \u001b[1m≥\u001b[0m\u001b[0m 0.14903729485756076) ∧ [G](\u001b[1mmax[\u001b[31mmfcc3\u001b[0m] \u001b[1m<\u001b[0m\u001b[0m 0.09812318146381033 → [L]\u001b[1mmax[\u001b[31mmfcc2\u001b[0m] \u001b[1m≥\u001b[0m\u001b[0m 2.307492451039466) ∧ [G](\u001b[1mmax[\u001b[31mmfcc3\u001b[0m] \u001b[1m<\u001b[0m\u001b[0m 0.09812318146381033 → [G]\u001b[1mmax[\u001b[31mmfcc9\u001b[0m] \u001b[1m<\u001b[0m\u001b[0m 0.5976720024804375) ∧ [G](\u001b[1mmax[\u001b[31mmfcc3\u001b[0m] \u001b[1m<\u001b[0m\u001b[0m 0.09812318146381033 → [D̅B̅E̅]\u001b[1mmax[\u001b[31mmfcc7\u001b[0m] \u001b[1m≥\u001b[0m\u001b[0m -0.6642952487692787) ∧ [G](\u001b[1mmax[\u001b[31mmfcc3\u001b[0m] \u001b[1m<\u001b[0m\u001b[0m 0.09812318146381033 → [G](\u001b[1mmax[\u001b[31mmfcc13\u001b[0m] \u001b[1m≥\u001b[0m\u001b[0m 0.14903729485756076 → [AO]\u001b[1mmax[\u001b[31mmfcc2\u001b[0m] \u001b[1m≥\u001b[0m\u001b[0m 2.307492451039466)) ∧ [G](\u001b[1mmax[\u001b[31mmfcc3\u001b[0m] \u001b[1m<\u001b[0m\u001b[0m 0.09812318146381033 → [G](\u001b[1mmax[\u001b[31mmfcc13\u001b[0m] \u001b[1m≥\u001b[0m\u001b[0m 0.14903729485756076 → \u001b[1mmedian[\u001b[31mmfcc9\u001b[0m] \u001b[1m≥\u001b[0m\u001b[0m -0.5866367660703533)) ∧ [G](\u001b[1mmax[\u001b[31mmfcc3\u001b[0m] \u001b[1m<\u001b[0m\u001b[0m 0.09812318146381033 → [G](\u001b[1mmax[\u001b[31mmfcc13\u001b[0m] \u001b[1m≥\u001b[0m\u001b[0m 0.14903729485756076 → [AO]\u001b[1mmin[\u001b[36mskwns\u001b[0m] \u001b[1m<\u001b[0m\u001b[0m 3.78403413752257))\u001b[0m │  Pneumonia │        101 │        9 │  0.0891089 │   0.777778 │ 1.60317 │     17 │      9 │\n",
      "│                                                                                                                                                                                                                                                                                                                                                                                                                                                                                                                                         ⟨G⟩(\u001b[1mmax[\u001b[31mmfcc3\u001b[0m] \u001b[1m<\u001b[0m\u001b[0m 0.09812318146381033 ∧ \u001b[1mmax[\u001b[33mmel1=359Hz\u001b[0m] \u001b[1m≥\u001b[0m\u001b[0m 0.01175897015554957) ∧ [G](\u001b[1mmax[\u001b[31mmfcc3\u001b[0m] \u001b[1m<\u001b[0m\u001b[0m 0.09812318146381033 → [L]\u001b[1mmax[\u001b[31mmfcc2\u001b[0m] \u001b[1m≥\u001b[0m\u001b[0m 2.307492451039466) ∧ [G](\u001b[1mmax[\u001b[31mmfcc3\u001b[0m] \u001b[1m<\u001b[0m\u001b[0m 0.09812318146381033 → [G]\u001b[1mmax[\u001b[31mmfcc9\u001b[0m] \u001b[1m<\u001b[0m\u001b[0m 0.5976720024804375) ∧ [G](\u001b[1mmax[\u001b[31mmfcc3\u001b[0m] \u001b[1m<\u001b[0m\u001b[0m 0.09812318146381033 → [D̅B̅E̅]\u001b[1mmax[\u001b[31mmfcc7\u001b[0m] \u001b[1m≥\u001b[0m\u001b[0m -0.6642952487692787) ∧ [G](\u001b[1mmax[\u001b[31mmfcc3\u001b[0m] \u001b[1m<\u001b[0m\u001b[0m 0.09812318146381033 → [G]\u001b[1mmax[\u001b[31mmfcc13\u001b[0m] \u001b[1m<\u001b[0m\u001b[0m 0.14903729485756076)\u001b[0m │    Healthy │        101 │        4 │   0.039604 │        1.0 │ 1.94231 │     10 │      7 │\n",
      "│                                                                                                                                                                                                                                                                                                                                                                                                                                                                                                   ⟨G⟩\u001b[1mmax[\u001b[31mmfcc3\u001b[0m] \u001b[1m<\u001b[0m\u001b[0m 0.09812318146381033 ∧ [G](\u001b[1mmax[\u001b[31mmfcc3\u001b[0m] \u001b[1m<\u001b[0m\u001b[0m 0.09812318146381033 → [L]\u001b[1mmax[\u001b[31mmfcc2\u001b[0m] \u001b[1m≥\u001b[0m\u001b[0m 2.307492451039466) ∧ [G](\u001b[1mmax[\u001b[31mmfcc3\u001b[0m] \u001b[1m<\u001b[0m\u001b[0m 0.09812318146381033 → [G]\u001b[1mmax[\u001b[31mmfcc9\u001b[0m] \u001b[1m<\u001b[0m\u001b[0m 0.5976720024804375) ∧ [G](\u001b[1mmax[\u001b[31mmfcc3\u001b[0m] \u001b[1m<\u001b[0m\u001b[0m 0.09812318146381033 → [D̅B̅E̅]\u001b[1mmax[\u001b[31mmfcc7\u001b[0m] \u001b[1m≥\u001b[0m\u001b[0m -0.6642952487692787) ∧ [G](\u001b[1mmax[\u001b[31mmfcc3\u001b[0m] \u001b[1m<\u001b[0m\u001b[0m 0.09812318146381033 → [G]\u001b[1mmax[\u001b[31mmfcc13\u001b[0m] \u001b[1m<\u001b[0m\u001b[0m 0.14903729485756076) ∧ [G](\u001b[1mmax[\u001b[31mmfcc3\u001b[0m] \u001b[1m<\u001b[0m\u001b[0m 0.09812318146381033 → \u001b[1mmax[\u001b[33mmel1=359Hz\u001b[0m] \u001b[1m<\u001b[0m\u001b[0m 0.01175897015554957)\u001b[0m │    Healthy │        101 │        2 │   0.019802 │        1.0 │ 1.94231 │     11 │      8 │\n",
      "│                                                                                                                                                                                                                                                                                                                                                                                                                                                                                                                                                                                                                                                                                                                                                                                                                                   ⟨G⟩\u001b[1mmax[\u001b[36mskwns\u001b[0m] \u001b[1m<\u001b[0m\u001b[0m 2.857074374510503 ∧ [G]\u001b[1mmax[\u001b[31mmfcc3\u001b[0m] \u001b[1m≥\u001b[0m\u001b[0m 0.09812318146381033 ∧ [G]\u001b[1mmax[\u001b[31mmfcc2\u001b[0m] \u001b[1m≥\u001b[0m\u001b[0m 2.159377788529294\u001b[0m │  Pneumonia │        101 │       29 │   0.287129 │        1.0 │ 2.06122 │      3 │      3 │\n",
      "│                                                                                                                                                                                                                                                                                                                                                                                                                                                                                                                                                                                                                                                                                                                                                      ⟨G⟩\u001b[1mmax[\u001b[31mmfcc12\u001b[0m] \u001b[1m<\u001b[0m\u001b[0m -0.08803286016585204 ∧ [G]\u001b[1mmax[\u001b[31mmfcc3\u001b[0m] \u001b[1m≥\u001b[0m\u001b[0m 0.09812318146381033 ∧ [G]\u001b[1mmax[\u001b[31mmfcc2\u001b[0m] \u001b[1m≥\u001b[0m\u001b[0m 2.159377788529294 ∧ [G]\u001b[1mmax[\u001b[36mskwns\u001b[0m] \u001b[1m≥\u001b[0m\u001b[0m 2.857074374510503 ∧ [G]\u001b[1mmax[\u001b[31mmfcc9\u001b[0m] \u001b[1m<\u001b[0m\u001b[0m 0.5395751163311291\u001b[0m │  Pneumonia │        101 │        6 │  0.0594059 │        1.0 │ 2.06122 │      5 │      5 │\n",
      "└───────────────────────────────────────────────────────────────────────────────────────────────────────────────────────────────────────────────────────────────────────────────────────────────────────────────────────────────────────────────────────────────────────────────────────────────────────────────────────────────────────────────────────────────────────────────────────────────────────────────────────────────────────────────────────────────────────────────────────────────────────────────────────────────────────────────────────────────────────────────────────────────────────────────────────────────────────────────────────────────────────────────────────────────────────────────────────────────────────────────────────────────────────────────────────────────────────────────────────────────────────────────────────────────────────────────────────────────────────────────────────────────────────────────┴────────────┴────────────┴──────────┴────────────┴────────────┴─────────┴────────┴────────┘\n"
     ]
    }
   ],
   "source": [
    "metricstable(interesting_rules; variable_names_map=variable_names, metrics_kwargs = (; round_digits = nothing, additional_metrics = (; height = r->SoleLogics.height(antecedent(r)))))"
   ]
  }
 ],
 "metadata": {
  "kernelspec": {
   "display_name": "Julia 1.10.3",
   "language": "julia",
   "name": "julia-1.10"
  },
  "language_info": {
   "file_extension": ".jl",
   "mimetype": "application/julia",
   "name": "julia",
   "version": "1.10.3"
  }
 },
 "nbformat": 4,
 "nbformat_minor": 2
}
