{
 "cells": [
  {
   "cell_type": "markdown",
   "metadata": {},
   "source": [
    "# ItaData2024\n",
    "modal example"
   ]
  },
  {
   "cell_type": "code",
   "execution_count": 5,
   "metadata": {},
   "outputs": [
    {
     "name": "stderr",
     "output_type": "stream",
     "text": [
      "\u001b[32m\u001b[1m  Activating\u001b[22m\u001b[39m project at `~/Desktop/audio-rules2024`\n",
      "\u001b[32m\u001b[1m  No Changes\u001b[22m\u001b[39m to `~/Desktop/audio-rules2024/Project.toml`\n",
      "\u001b[32m\u001b[1m  No Changes\u001b[22m\u001b[39m to `~/Desktop/audio-rules2024/Manifest.toml`\n",
      "\u001b[32m\u001b[1mPrecompiling\u001b[22m\u001b[39m project...\n",
      "\u001b[32m  ✓ \u001b[39m\u001b[90mPackageExtensionCompat\u001b[39m\n",
      "\u001b[32m  ✓ \u001b[39m\u001b[90mTupleTools\u001b[39m\n",
      "\u001b[32m  ✓ \u001b[39m\u001b[90mOffsetArrays → OffsetArraysAdaptExt\u001b[39m\n",
      "\u001b[32m  ✓ \u001b[39m\u001b[90mStridedViews\u001b[39m\n",
      "\u001b[32m  ✓ \u001b[39m\u001b[90mGR_jll\u001b[39m\n",
      "\u001b[32m  ✓ \u001b[39m\u001b[90mStrideArraysCore\u001b[39m\n",
      "\u001b[32m  ✓ \u001b[39m\u001b[90mNNlib → NNlibFFTWExt\u001b[39m\n",
      "\u001b[32m  ✓ \u001b[39mStrided\n",
      "\u001b[32m  ✓ \u001b[39m\u001b[90mLatexify → DataFramesExt\u001b[39m\n",
      "\u001b[32m  ✓ \u001b[39mPolyester\n",
      "\u001b[32m  ✓ \u001b[39m\u001b[90mGR\u001b[39m\n",
      "\u001b[32m  ✓ \u001b[39mSoleModels\n",
      "\u001b[32m  ✓ \u001b[39mSole\n",
      "\u001b[32m  ✓ \u001b[39mSoleDecisionTreeInterface\n",
      "\u001b[32m  ✓ \u001b[39mModalDecisionTrees\n",
      "\u001b[32m  ✓ \u001b[39mPlots\n",
      "\u001b[32m  ✓ \u001b[39m\u001b[90mPlots → FileIOExt\u001b[39m\n",
      "\u001b[32m  ✓ \u001b[39m\u001b[90mPlots → UnitfulExt\u001b[39m\n",
      "  18 dependencies successfully precompiled in 150 seconds. 371 already precompiled.\n"
     ]
    },
    {
     "ename": "LoadError",
     "evalue": "InitError: PyError ($(Expr(:escape, :(ccall(#= /home/gio/.julia/packages/PyCall/1gn3u/src/pyeval.jl:38 =# @pysym(:PyEval_EvalCode), PyPtr, (PyPtr, PyPtr, PyPtr), o, globals, locals))))) <class 'ModuleNotFoundError'>\nModuleNotFoundError(\"No module named 'librosa'\")\n  File \"/home/gio/.julia/packages/PyCall/1gn3u/src/pyeval.jl\", line 1, in <module>\n    const Py_single_input = 256  # from Python.h\n\nduring initialization of module Audio911",
     "output_type": "error",
     "traceback": [
      "InitError: PyError ($(Expr(:escape, :(ccall(#= /home/gio/.julia/packages/PyCall/1gn3u/src/pyeval.jl:38 =# @pysym(:PyEval_EvalCode), PyPtr, (PyPtr, PyPtr, PyPtr), o, globals, locals))))) <class 'ModuleNotFoundError'>\nModuleNotFoundError(\"No module named 'librosa'\")\n  File \"/home/gio/.julia/packages/PyCall/1gn3u/src/pyeval.jl\", line 1, in <module>\n    const Py_single_input = 256  # from Python.h\n\nduring initialization of module Audio911",
      "",
      "Stacktrace:",
      "  [1] pyerr_check",
      "    @ ~/.julia/packages/PyCall/1gn3u/src/exception.jl:75 [inlined]",
      "  [2] pyerr_check",
      "    @ ~/.julia/packages/PyCall/1gn3u/src/exception.jl:79 [inlined]",
      "  [3] _handle_error(msg::String)",
      "    @ PyCall ~/.julia/packages/PyCall/1gn3u/src/exception.jl:96",
      "  [4] macro expansion",
      "    @ ~/.julia/packages/PyCall/1gn3u/src/exception.jl:110 [inlined]",
      "  [5] #117",
      "    @ ~/.julia/packages/PyCall/1gn3u/src/pyeval.jl:38 [inlined]",
      "  [6] disable_sigint",
      "    @ ./c.jl:473 [inlined]",
      "  [7] pyeval_(s::String, globals::PyCall.PyDict{String, PyCall.PyObject, true}, locals::PyCall.PyDict{String, PyCall.PyObject, true}, input_type::Int64, fname::String)",
      "    @ PyCall ~/.julia/packages/PyCall/1gn3u/src/pyeval.jl:37",
      "  [8] macro expansion",
      "    @ ~/.julia/packages/PyCall/1gn3u/src/pyeval.jl:230 [inlined]",
      "  [9] __init__()",
      "    @ Audio911 ~/.julia/dev/Audio911/src/Audio911.jl:13",
      " [10] register_restored_modules(sv::Core.SimpleVector, pkg::Base.PkgId, path::String)",
      "    @ Base ./loading.jl:1115",
      " [11] _include_from_serialized(pkg::Base.PkgId, path::String, ocachepath::String, depmods::Vector{Any})",
      "    @ Base ./loading.jl:1061",
      " [12] _require_search_from_serialized(pkg::Base.PkgId, sourcepath::String, build_id::UInt128)",
      "    @ Base ./loading.jl:1506",
      " [13] _require(pkg::Base.PkgId, env::String)",
      "    @ Base ./loading.jl:1783",
      " [14] _require_prelocked(uuidkey::Base.PkgId, env::String)",
      "    @ Base ./loading.jl:1660",
      " [15] macro expansion",
      "    @ ./loading.jl:1648 [inlined]",
      " [16] macro expansion",
      "    @ ./lock.jl:267 [inlined]",
      " [17] require(into::Module, mod::Symbol)",
      "    @ Base ./loading.jl:1611"
     ]
    }
   ],
   "source": [
    "using Pkg\n",
    "Pkg.activate(\".\")\n",
    "Pkg.resolve()\n",
    "Pkg.instantiate()\n",
    "Pkg.dev(\"SoleModels\")\n",
    "Pkg.dev(\"Audio911\")\n",
    "Pkg.dev(\"SoleData\")\n",
    "using MLJ, ModalDecisionTrees\n",
    "using SoleDecisionTreeInterface, Sole, SoleData\n",
    "using CategoricalArrays\n",
    "using DataFrames, JLD2, CSV\n",
    "using Audio911\n",
    "using Random\n",
    "using StatsBase, Catch22"
   ]
  },
  {
   "cell_type": "markdown",
   "metadata": {},
   "source": [
    "### Open .jld2 file\n",
    "the file contains 504 samples of respiratory sound, labeled with 2 classes: healty and pneumonia"
   ]
  },
  {
   "cell_type": "code",
   "execution_count": null,
   "metadata": {},
   "outputs": [],
   "source": [
    "ds_path = \"/datasets/respiratory_Healthy_Pneumonia\"\n",
    "\n",
    "d = jldopen(string((@__DIR__), ds_path, \".jld2\"))\n",
    "x, y = d[\"dataframe_validated\"]\n",
    "@assert x isa DataFrame\n",
    "close(d)"
   ]
  },
  {
   "cell_type": "markdown",
   "metadata": {},
   "source": [
    "### Audio features extraction function\n",
    "This function is called for every audio sample and extract 51 features:\n",
    "26 bands of the mel spectrogram,\n",
    "13 coefficients of the mfcc\n",
    "12 spectral features: centroid, crest, entropy, f0, flatness, flux, kurtosis, rolloff, skewness, decrease, slope, spread"
   ]
  },
  {
   "cell_type": "code",
   "execution_count": null,
   "metadata": {},
   "outputs": [
    {
     "data": {
      "text/plain": [
       "afe (generic function with 1 method)"
      ]
     },
     "metadata": {},
     "output_type": "display_data"
    }
   ],
   "source": [
    "nan_replacer!(x::AbstractArray{Float64}) = replace!(x, NaN => 0.0)\n",
    "\n",
    "function afe(x::AbstractVector{Float64}; get_only_melfreq=false)\n",
    "    # -------------------------------- parameters -------------------------------- #\n",
    "    # audio module\n",
    "    sr = 8000\n",
    "    norm = true\n",
    "    speech_detection = false\n",
    "    # stft module\n",
    "    # stft_length = 256\n",
    "    # win_type = (:hann, :periodic)\n",
    "    # win_length = 256\n",
    "    # overlap_length = 128\n",
    "    stft_length = 1024\n",
    "    win_type = (:hann, :periodic)\n",
    "    win_length = 1024\n",
    "    overlap_length = 512\n",
    "    stft_norm = :power                      # :power, :magnitude, :pow2mag\n",
    "    # mel filterbank module\n",
    "    nbands = 26\n",
    "    scale = :mel_htk                        # :mel_htk, :mel_slaney, :erb, :bark\n",
    "    melfb_norm = :bandwidth                 # :bandwidth, :area, :none\n",
    "    freq_range = (300, round(Int, sr / 2))\n",
    "    # mel spectrogram module\n",
    "    db_scale = false\n",
    "    # mfcc module\n",
    "    ncoeffs = 13\n",
    "    rectification = :log                    # :log, :cubic_root\n",
    "    dither = true\n",
    "    # f0 module\n",
    "    method = :nfc\n",
    "    f0_range = (50, 400)\n",
    "\n",
    "    # --------------------------------- functions -------------------------------- #\n",
    "    # audio module\n",
    "    audio = load_audio(\n",
    "        file=x,\n",
    "        sr=sr,\n",
    "        norm=norm,\n",
    "    );\n",
    "\n",
    "    stftspec = get_stft(\n",
    "        audio=audio,\n",
    "        stft_length=stft_length,\n",
    "        win_type=win_type,\n",
    "        win_length=win_length,\n",
    "        overlap_length=overlap_length,\n",
    "        norm=stft_norm\n",
    "    );\n",
    "\n",
    "    # mel filterbank module\n",
    "    melfb = get_melfb(\n",
    "        stft=stftspec,\n",
    "        nbands=nbands,\n",
    "        scale=scale,\n",
    "        norm=melfb_norm,\n",
    "        freq_range=freq_range\n",
    "    );\n",
    "\n",
    "    if get_only_melfreq\n",
    "        return melfb.freq\n",
    "    end\n",
    "\n",
    "    # mel spectrogram module\n",
    "    melspec =  get_melspec(\n",
    "        stft=stftspec,\n",
    "        fbank=melfb,\n",
    "        db_scale=db_scale\n",
    "    );\n",
    "\n",
    "    # mfcc module\n",
    "    mfcc = get_mfcc(\n",
    "        source=melspec,\n",
    "        ncoeffs=ncoeffs,\n",
    "        rectification=rectification,\n",
    "        dither=dither,\n",
    "    );\n",
    "\n",
    "    # f0 module\n",
    "    f0 = get_f0(\n",
    "        source=stftspec,\n",
    "        method=method,\n",
    "        freq_range=f0_range\n",
    "    );\n",
    "\n",
    "    # spectral features module\n",
    "    spect = get_spectrals(\n",
    "        source=stftspec,\n",
    "        freq_range=freq_range\n",
    "    );\n",
    "\n",
    "    x_features = hcat(\n",
    "        melspec.spec',\n",
    "        mfcc.mfcc',\n",
    "        f0.f0,\n",
    "        spect.centroid,\n",
    "        spect.crest,\n",
    "        spect.entropy,\n",
    "        spect.flatness,\n",
    "        spect.flux,\n",
    "        spect.kurtosis,\n",
    "        spect.rolloff,\n",
    "        spect.skewness,\n",
    "        spect.decrease,\n",
    "        spect.slope,\n",
    "        spect.spread\n",
    "    );\n",
    "\n",
    "    nan_replacer!(x_features)\n",
    "\n",
    "    return x_features\n",
    "end"
   ]
  },
  {
   "cell_type": "markdown",
   "metadata": {},
   "source": [
    "### Compute DataFrame of features"
   ]
  },
  {
   "cell_type": "code",
   "execution_count": 16,
   "metadata": {},
   "outputs": [],
   "source": [
    "color_code = Dict(:red => 31, :green => 32, :yellow => 33, :blue => 34, :magenta => 35, :cyan => 36)\n",
    "freq = round.(Int, afe(x[1, :audio]; get_only_melfreq=true))\n",
    "r_select = r\"\\e\\[\\d+m(.*?)\\e\\[0m\"\n",
    "variable_names = [\n",
    "    [\"\\e[$(color_code[:yellow])mmel$i=$(freq[i])Hz\\e[0m\" for i in 1:26]...,\n",
    "    [\"\\e[$(color_code[:red])mmfcc$i\\e[0m\" for i in 1:13]...,\n",
    "    \"\\e[$(color_code[:green])mf0\\e[0m\", \"\\e[$(color_code[:cyan])mcntrd\\e[0m\", \"\\e[$(color_code[:cyan])mcrest\\e[0m\",\n",
    "    \"\\e[$(color_code[:cyan])mentrp\\e[0m\", \"\\e[$(color_code[:cyan])mflatn\\e[0m\", \"\\e[$(color_code[:cyan])mflux\\e[0m\",\n",
    "    \"\\e[$(color_code[:cyan])mkurts\\e[0m\", \"\\e[$(color_code[:cyan])mrllff\\e[0m\", \"\\e[$(color_code[:cyan])mskwns\\e[0m\",\n",
    "    \"\\e[$(color_code[:cyan])mdecrs\\e[0m\", \"\\e[$(color_code[:cyan])mslope\\e[0m\", \"\\e[$(color_code[:cyan])msprd\\e[0m\"\n",
    "]\n",
    "\n",
    "X = DataFrame([name => Vector{Float64}[] for name in [match(r_select, v)[1] for v in variable_names]])\n",
    "\n",
    "\n",
    "for f_name in [getnames(catch22)..., :std]\n",
    "    @eval (function $(Symbol(string(f_name)*\"+\"))(channel)\n",
    "        val = $(catch22[f_name])(channel)\n",
    "\n",
    "        if isnan(val)\n",
    "            SoleData.aggregator_bottom(SoleData.existential_aggregator(≥), eltype(channel))\n",
    "        else\n",
    "            eltype(channel)(val)\n",
    "        end\n",
    "    end)\n",
    "    @eval (function $(Symbol(string(f_name)*\"-\"))(channel)\n",
    "        val = $(catch22[f_name])(channel)\n",
    "\n",
    "        if isnan(val)\n",
    "            SoleData.aggregator_bottom(SoleData.existential_aggregator(≤), eltype(channel))\n",
    "        else\n",
    "            eltype(channel)(val)\n",
    "        end\n",
    "    end)\n",
    "end\n",
    "\n",
    "function get_patched_feature(f::Callable, polarity::Symbol)\n",
    "    if f in [minimum, maximum, StatsBase.mean, median]\n",
    "        f\n",
    "    else\n",
    "        @eval $(Symbol(string(f)*string(polarity)))\n",
    "    end\n",
    "end\n",
    "\n",
    "function mean_longstretch1(x) Catch22.SB_BinaryStats_mean_longstretch1((x)) end\n",
    "function diff_longstretch0(x) Catch22.SB_BinaryStats_diff_longstretch0((x)) end\n",
    "function quantile_hh(x) Catch22.SB_MotifThree_quantile_hh((x)) end\n",
    "function sumdiagcov(x) Catch22.SB_TransitionMatrix_3ac_sumdiagcov((x)) end\n",
    "features = [\n",
    "    maximum,\n",
    "    minimum,\n",
    "    StatsBase.mean,\n",
    "    median,\n",
    "\t(≥, get_patched_feature(std, :+)),                (≤, get_patched_feature(std, :-)),\n",
    "\t(≥, get_patched_feature(mean_longstretch1, :+)),  (≤, get_patched_feature(mean_longstretch1, :-)),\n",
    "\t(≥, get_patched_feature(diff_longstretch0, :+)),  (≤, get_patched_feature(diff_longstretch0, :-)),\n",
    "\t(≥, get_patched_feature(quantile_hh, :+)),        (≤, get_patched_feature(quantile_hh, :-)),\n",
    "\t(≥, get_patched_feature(sumdiagcov, :+)),         (≤, get_patched_feature(sumdiagcov, :-)),\n",
    "]\n",
    "\n",
    "for i in 1:nrow(x)\n",
    "    push!(X, collect(eachcol(afe(x[i, :audio]))))\n",
    "end\n",
    "\n",
    "yc = CategoricalArray(y);"
   ]
  },
  {
   "cell_type": "markdown",
   "metadata": {},
   "source": [
    "### Data compression for modal analysis"
   ]
  },
  {
   "cell_type": "code",
   "execution_count": 17,
   "metadata": {},
   "outputs": [
    {
     "name": "stdout",
     "output_type": "stream",
     "text": [
      "Training set size: (403, 51) - 403\n",
      "Test set size: (101, 51) - 101\n"
     ]
    }
   ],
   "source": [
    "train_ratio = 0.8\n",
    "train, test = partition(eachindex(yc), train_ratio, shuffle=true)\n",
    "# train, test = partition(eachindex(yc), train_ratio, shuffle=false) ### Debug\n",
    "X_train, y_train = X[train, :], yc[train]\n",
    "X_test, y_test = X[test, :], yc[test]\n",
    "\n",
    "println(\"Training set size: \", size(X_train), \" - \", length(y_train))\n",
    "println(\"Test set size: \", size(X_test), \" - \", length(y_test))"
   ]
  },
  {
   "cell_type": "markdown",
   "metadata": {},
   "source": [
    "### Train a model"
   ]
  },
  {
   "cell_type": "code",
   "execution_count": 18,
   "metadata": {},
   "outputs": [
    {
     "name": "stderr",
     "output_type": "stream",
     "text": [
      "┌ Info: Precomputing logiset...\n",
      "└ @ ModalDecisionTrees.MLJInterface /home/paso/.julia/dev/ModalDecisionTrees.jl/src/interfaces/MLJ/wrapdataset.jl:135\n",
      "┌ Info: Training machine(ModalDecisionTree(max_depth = nothing, …), …).\n",
      "└ @ MLJBase /home/paso/.julia/packages/MLJBase/7nGJF/src/machines.jl:499\n"
     ]
    },
    {
     "name": "stdout",
     "output_type": "stream",
     "text": [
      "\u001b[34m▣\u001b[0m ⟨G⟩(\u001b[1mmax[\u001b[31mmfcc3\u001b[0m] \u001b[1m<\u001b[0m\u001b[0m 0.02108224501437627)\n",
      "├✔ ⟨G⟩((\u001b[1mmax[\u001b[31mmfcc3\u001b[0m] \u001b[1m<\u001b[0m\u001b[0m 0.02108224501437627) ∧ (\u001b[1mmax[\u001b[36msprd\u001b[0m] \u001b[1m≥\u001b[0m\u001b[0m 711.2412109356288))\n",
      "│├✔ Healthy\n",
      "│└✘ ⟨G⟩((\u001b[1mmax[\u001b[31mmfcc3\u001b[0m] \u001b[1m<\u001b[0m\u001b[0m 0.02108224501437627) ∧ ⟨D̅B̅E̅⟩(\u001b[1mmax[\u001b[31mmfcc7\u001b[0m] \u001b[1m<\u001b[0m\u001b[0m -0.5152085686365828))\n",
      "│ ├✔ Healthy\n",
      "│ └✘ ⟨G⟩((\u001b[1mmax[\u001b[31mmfcc3\u001b[0m] \u001b[1m<\u001b[0m\u001b[0m 0.02108224501437627) ∧ ⟨G⟩(\u001b[1mmax[\u001b[31mmfcc9\u001b[0m] \u001b[1m≥\u001b[0m\u001b[0m 0.6113784530484502))\n",
      "│  ├✔ Healthy\n",
      "│  └✘ ⟨G⟩((\u001b[1mmax[\u001b[31mmfcc3\u001b[0m] \u001b[1m<\u001b[0m\u001b[0m 0.02108224501437627) ∧ ⟨G⟩(\u001b[1mmax[\u001b[31mmfcc13\u001b[0m] \u001b[1m≥\u001b[0m\u001b[0m 0.15322413941387783))\n",
      "│   ├✔ ⟨G⟩((\u001b[1mmax[\u001b[31mmfcc3\u001b[0m] \u001b[1m<\u001b[0m\u001b[0m 0.02108224501437627) ∧ ⟨G⟩((\u001b[1mmax[\u001b[31mmfcc13\u001b[0m] \u001b[1m≥\u001b[0m\u001b[0m 0.15322413941387783) ∧ ⟨A̅O̅⟩(\u001b[1mmax[\u001b[36mskwns\u001b[0m] \u001b[1m<\u001b[0m\u001b[0m 1.502371047997501)))\n",
      "│   │├✔ Pneumonia\n",
      "│   │└✘ ⟨G⟩((\u001b[1mmax[\u001b[31mmfcc3\u001b[0m] \u001b[1m<\u001b[0m\u001b[0m 0.02108224501437627) ∧ ⟨G⟩((\u001b[1mmax[\u001b[31mmfcc13\u001b[0m] \u001b[1m≥\u001b[0m\u001b[0m 0.15322413941387783) ∧ (\u001b[1mmin[\u001b[31mmfcc7\u001b[0m] \u001b[1m<\u001b[0m\u001b[0m -0.28787600284298753)))\n",
      "│   │ ├✔ ⟨G⟩((\u001b[1mmax[\u001b[31mmfcc3\u001b[0m] \u001b[1m<\u001b[0m\u001b[0m 0.02108224501437627) ∧ ⟨G⟩((\u001b[1mmax[\u001b[31mmfcc13\u001b[0m] \u001b[1m≥\u001b[0m\u001b[0m 0.15322413941387783) ∧ (\u001b[1mmin[\u001b[31mmfcc7\u001b[0m] \u001b[1m<\u001b[0m\u001b[0m -0.28787600284298753) ∧ (\u001b[1mmax[\u001b[33mmel1=359Hz\u001b[0m] \u001b[1m≥\u001b[0m\u001b[0m 0.21398365746721937)))\n",
      "│   │ │├✔ Pneumonia\n",
      "│   │ │└✘ Healthy\n",
      "│   │ └✘ Pneumonia\n",
      "│   └✘ Healthy\n",
      "└✘ ⟨G⟩(\u001b[1mmax[\u001b[31mmfcc2\u001b[0m] \u001b[1m<\u001b[0m\u001b[0m 2.0456837533901515)\n",
      " ├✔ Healthy\n",
      " └✘ ⟨G⟩(\u001b[1mmax[\u001b[36mentrp\u001b[0m] \u001b[1m≥\u001b[0m\u001b[0m 0.6343648752658164)\n",
      "  ├✔ Pneumonia\n",
      "  └✘ ⟨G⟩(\u001b[1mmax[\u001b[33mmel2=421Hz\u001b[0m] \u001b[1m≥\u001b[0m\u001b[0m 0.10474932720736443)\n",
      "   ├✔ Pneumonia\n",
      "   └✘ Healthy\n"
     ]
    }
   ],
   "source": [
    "learned_dt_tree = begin\n",
    "    model = ModalDecisionTree(; relations = :IA7, features = features)                                                                                                                                                                                                                                                                                                                                                                                                                                                                                                                                                                                                                                                      \n",
    "    mach = machine(model, X_train, y_train) |> fit!\n",
    "end\n",
    "\n",
    "report(learned_dt_tree).printmodel(variable_names_map=variable_names);"
   ]
  },
  {
   "cell_type": "markdown",
   "metadata": {},
   "source": [
    "### Model inspection & rule study"
   ]
  },
  {
   "cell_type": "code",
   "execution_count": 19,
   "metadata": {},
   "outputs": [
    {
     "name": "stdout",
     "output_type": "stream",
     "text": [
      "\u001b[34m▣\u001b[0m ⟨G⟩(\u001b[1mmax[\u001b[31mmfcc3\u001b[0m] \u001b[1m<\u001b[0m\u001b[0m 0.02108224501437627)\n",
      "├✔ ⟨G⟩((\u001b[1mmax[\u001b[31mmfcc3\u001b[0m] \u001b[1m<\u001b[0m\u001b[0m 0.02108224501437627) ∧ (\u001b[1mmax[\u001b[36msprd\u001b[0m] \u001b[1m≥\u001b[0m\u001b[0m 711.2412109356288))\n",
      "│├✔ Healthy : (ninstances = 26, ncovered = 26, confidence = 0.96, lift = 1.0)\n",
      "│└✘ ⟨G⟩((\u001b[1mmax[\u001b[31mmfcc3\u001b[0m] \u001b[1m<\u001b[0m\u001b[0m 0.02108224501437627) ∧ ⟨D̅B̅E̅⟩(\u001b[1mmax[\u001b[31mmfcc7\u001b[0m] \u001b[1m<\u001b[0m\u001b[0m -0.5152085686365828))\n",
      "│ ├✔ ⟨G⟩((\u001b[1mmax[\u001b[31mmfcc3\u001b[0m] \u001b[1m<\u001b[0m\u001b[0m 0.02108224501437627) ∧ ⟨D̅B̅E̅⟩((\u001b[1mmax[\u001b[31mmfcc7\u001b[0m] \u001b[1m<\u001b[0m\u001b[0m -0.5152085686365828) ∧ (\u001b[1m#47[\u001b[33mmel23=3037Hz\u001b[0m] \u001b[1m<\u001b[0m\u001b[0m 2.4304048485858085e-8)))\n",
      "│ │├✔ Healthy : (ninstances = 0, ncovered = 0, confidence = NaN, lift = NaN)\n",
      "│ │└✘ Healthy : (ninstances = 6, ncovered = 6, confidence = 0.83, lift = 1.0)\n",
      "│ └✘ ⟨G⟩((\u001b[1mmax[\u001b[31mmfcc3\u001b[0m] \u001b[1m<\u001b[0m\u001b[0m 0.02108224501437627) ∧ ⟨G⟩(\u001b[1mmax[\u001b[31mmfcc9\u001b[0m] \u001b[1m≥\u001b[0m\u001b[0m 0.6113784530484502))\n",
      "│  ├✔ Healthy : (ninstances = 4, ncovered = 4, confidence = 1.0, lift = 1.0)\n",
      "│  └✘ ⟨G⟩((\u001b[1mmax[\u001b[31mmfcc3\u001b[0m] \u001b[1m<\u001b[0m\u001b[0m 0.02108224501437627) ∧ ⟨G⟩(\u001b[1mmax[\u001b[31mmfcc13\u001b[0m] \u001b[1m≥\u001b[0m\u001b[0m 0.15322413941387783))\n",
      "│   ├✔ ⟨G⟩((\u001b[1mmax[\u001b[31mmfcc3\u001b[0m] \u001b[1m<\u001b[0m\u001b[0m 0.02108224501437627) ∧ ⟨G⟩((\u001b[1mmax[\u001b[31mmfcc13\u001b[0m] \u001b[1m≥\u001b[0m\u001b[0m 0.15322413941387783) ∧ ⟨A̅O̅⟩(\u001b[1mmax[\u001b[36mskwns\u001b[0m] \u001b[1m<\u001b[0m\u001b[0m 1.502371047997501)))\n",
      "│   │├✔ Pneumonia : (ninstances = 10, ncovered = 10, confidence = 0.6, lift = 1.0)\n",
      "│   │└✘ ⟨G⟩((\u001b[1mmax[\u001b[31mmfcc3\u001b[0m] \u001b[1m<\u001b[0m\u001b[0m 0.02108224501437627) ∧ ⟨G⟩((\u001b[1mmax[\u001b[31mmfcc13\u001b[0m] \u001b[1m≥\u001b[0m\u001b[0m 0.15322413941387783) ∧ (\u001b[1mmin[\u001b[31mmfcc7\u001b[0m] \u001b[1m<\u001b[0m\u001b[0m -0.28787600284298753)))\n",
      "│   │ ├✔ ⟨G⟩((\u001b[1mmax[\u001b[31mmfcc3\u001b[0m] \u001b[1m<\u001b[0m\u001b[0m 0.02108224501437627) ∧ ⟨G⟩((\u001b[1mmax[\u001b[31mmfcc13\u001b[0m] \u001b[1m≥\u001b[0m\u001b[0m 0.15322413941387783) ∧ (\u001b[1mmin[\u001b[31mmfcc7\u001b[0m] \u001b[1m<\u001b[0m\u001b[0m -0.28787600284298753) ∧ (\u001b[1mmax[\u001b[33mmel1=359Hz\u001b[0m] \u001b[1m≥\u001b[0m\u001b[0m 0.21398365746721937)))\n",
      "│   │ │├✔ Pneumonia : (ninstances = 2, ncovered = 2, confidence = 1.0, lift = 1.0)\n",
      "│   │ │└✘ Healthy : (ninstances = 1, ncovered = 1, confidence = 1.0, lift = 1.0)\n",
      "│   │ └✘ ⟨G⟩((\u001b[1mmax[\u001b[31mmfcc3\u001b[0m] \u001b[1m<\u001b[0m\u001b[0m 0.02108224501437627) ∧ ⟨G⟩((\u001b[1mmax[\u001b[31mmfcc13\u001b[0m] \u001b[1m≥\u001b[0m\u001b[0m 0.15322413941387783) ∧ (\u001b[1mmax[\u001b[33mmel1=359Hz\u001b[0m] \u001b[1m≥\u001b[0m\u001b[0m 0.21218849154864677)))\n",
      "│   │  ├✔ Pneumonia : (ninstances = 2, ncovered = 2, confidence = 0.5, lift = 1.0)\n",
      "│   │  └✘ Pneumonia : (ninstances = 3, ncovered = 3, confidence = 1.0, lift = 1.0)\n",
      "│   └✘ ⟨G⟩((\u001b[1mmax[\u001b[31mmfcc3\u001b[0m] \u001b[1m<\u001b[0m\u001b[0m 0.02108224501437627) ∧ (\u001b[1mmax[\u001b[33mmel1=359Hz\u001b[0m] \u001b[1m≥\u001b[0m\u001b[0m 0.01780509809617218))\n",
      "│    ├✔ Healthy : (ninstances = 2, ncovered = 2, confidence = 1.0, lift = 1.0)\n",
      "│    └✘ Healthy : (ninstances = 2, ncovered = 2, confidence = 0.5, lift = 1.0)\n",
      "└✘ ⟨G⟩(\u001b[1mmax[\u001b[31mmfcc2\u001b[0m] \u001b[1m<\u001b[0m\u001b[0m 2.0456837533901515)\n",
      " ├✔ Healthy : (ninstances = 3, ncovered = 3, confidence = 1.0, lift = 1.0)\n",
      " └✘ ⟨G⟩(\u001b[1mmax[\u001b[36mentrp\u001b[0m] \u001b[1m≥\u001b[0m\u001b[0m 0.6343648752658164)\n",
      "  ├✔ ⟨G⟩((\u001b[1mmax[\u001b[36mentrp\u001b[0m] \u001b[1m≥\u001b[0m\u001b[0m 0.6343648752658164) ∧ (\u001b[1m#49[\u001b[33mmel24=3257Hz\u001b[0m] \u001b[1m≥\u001b[0m\u001b[0m 8.0))\n",
      "  │├✔ Pneumonia : (ninstances = 0, ncovered = 0, confidence = NaN, lift = NaN)\n",
      "  │└✘ Pneumonia : (ninstances = 35, ncovered = 35, confidence = 0.94, lift = 1.0)\n",
      "  └✘ ⟨G⟩(\u001b[1mmax[\u001b[33mmel2=421Hz\u001b[0m] \u001b[1m≥\u001b[0m\u001b[0m 0.10474932720736443)\n",
      "   ├✔ Pneumonia : (ninstances = 1, ncovered = 1, confidence = 1.0, lift = 1.0)\n",
      "   └✘ Healthy : (ninstances = 4, ncovered = 4, confidence = 0.0, lift = NaN)\n"
     ]
    }
   ],
   "source": [
    "_, mtree = report(mach).sprinkle(X_test, y_test)\n",
    "sole_dt = ModalDecisionTrees.translate(mtree)\n",
    "\n",
    "printmodel(sole_dt; show_metrics = true, variable_names_map=variable_names);"
   ]
  },
  {
   "cell_type": "markdown",
   "metadata": {},
   "source": [
    "### Extract rules that are at least as good as a random baseline model"
   ]
  },
  {
   "cell_type": "code",
   "execution_count": 20,
   "metadata": {},
   "outputs": [
    {
     "name": "stdout",
     "output_type": "stream",
     "text": [
      "\u001b[34m▣\u001b[0m ⟨G⟩((\u001b[1mmax[\u001b[31mmfcc3\u001b[0m] \u001b[1m<\u001b[0m\u001b[0m 0.02108224501437627) ∧ (\u001b[1mmax[\u001b[36msprd\u001b[0m] \u001b[1m≥\u001b[0m\u001b[0m 711.2412109356288))  ↣  Healthy : (ninstances = 101, ncovered = 26, coverage = 0.26, confidence = 0.96, lift = 2.02, natoms = 2)\n",
      "\u001b[34m▣\u001b[0m ⟨G⟩((\u001b[1mmax[\u001b[31mmfcc3\u001b[0m] \u001b[1m<\u001b[0m\u001b[0m 0.02108224501437627) ∧ ⟨D̅B̅E̅⟩(\u001b[1mmax[\u001b[31mmfcc7\u001b[0m] \u001b[1m<\u001b[0m\u001b[0m -0.5152085686365828)) ∧ [G]((\u001b[1mmax[\u001b[31mmfcc3\u001b[0m] \u001b[1m<\u001b[0m\u001b[0m 0.02108224501437627) → (\u001b[1mmax[\u001b[36msprd\u001b[0m] \u001b[1m<\u001b[0m\u001b[0m 711.2412109356288)) ∧ [G]((\u001b[1mmax[\u001b[31mmfcc3\u001b[0m] \u001b[1m<\u001b[0m\u001b[0m 0.02108224501437627) → [D̅B̅E̅]((\u001b[1mmax[\u001b[31mmfcc7\u001b[0m] \u001b[1m<\u001b[0m\u001b[0m -0.5152085686365828) → (\u001b[1m#47[\u001b[33mmel23=3037Hz\u001b[0m] \u001b[1m≥\u001b[0m\u001b[0m 2.4304048485858085e-8)))  ↣  Healthy : (ninstances = 101, ncovered = 6, coverage = 0.06, confidence = 0.83, lift = 1.75, natoms = 7)\n",
      "\u001b[34m▣\u001b[0m ⟨G⟩((\u001b[1mmax[\u001b[31mmfcc3\u001b[0m] \u001b[1m<\u001b[0m\u001b[0m 0.02108224501437627) ∧ ⟨G⟩(\u001b[1mmax[\u001b[31mmfcc9\u001b[0m] \u001b[1m≥\u001b[0m\u001b[0m 0.6113784530484502)) ∧ [G]((\u001b[1mmax[\u001b[31mmfcc3\u001b[0m] \u001b[1m<\u001b[0m\u001b[0m 0.02108224501437627) → (\u001b[1mmax[\u001b[36msprd\u001b[0m] \u001b[1m<\u001b[0m\u001b[0m 711.2412109356288)) ∧ [G]((\u001b[1mmax[\u001b[31mmfcc3\u001b[0m] \u001b[1m<\u001b[0m\u001b[0m 0.02108224501437627) → [D̅B̅E̅](\u001b[1mmax[\u001b[31mmfcc7\u001b[0m] \u001b[1m≥\u001b[0m\u001b[0m -0.5152085686365828))  ↣  Healthy : (ninstances = 101, ncovered = 4, coverage = 0.04, confidence = 1.0, lift = 2.1, natoms = 6)\n",
      "\u001b[34m▣\u001b[0m ⟨G⟩((\u001b[1mmax[\u001b[31mmfcc3\u001b[0m] \u001b[1m<\u001b[0m\u001b[0m 0.02108224501437627) ∧ ⟨G⟩((\u001b[1mmax[\u001b[31mmfcc13\u001b[0m] \u001b[1m≥\u001b[0m\u001b[0m 0.15322413941387783) ∧ ⟨A̅O̅⟩(\u001b[1mmax[\u001b[36mskwns\u001b[0m] \u001b[1m<\u001b[0m\u001b[0m 1.502371047997501))) ∧ [G]((\u001b[1mmax[\u001b[31mmfcc3\u001b[0m] \u001b[1m<\u001b[0m\u001b[0m 0.02108224501437627) → (\u001b[1mmax[\u001b[36msprd\u001b[0m] \u001b[1m<\u001b[0m\u001b[0m 711.2412109356288)) ∧ [G]((\u001b[1mmax[\u001b[31mmfcc3\u001b[0m] \u001b[1m<\u001b[0m\u001b[0m 0.02108224501437627) → [D̅B̅E̅](\u001b[1mmax[\u001b[31mmfcc7\u001b[0m] \u001b[1m≥\u001b[0m\u001b[0m -0.5152085686365828)) ∧ [G]((\u001b[1mmax[\u001b[31mmfcc3\u001b[0m] \u001b[1m<\u001b[0m\u001b[0m 0.02108224501437627) → [G](\u001b[1mmax[\u001b[31mmfcc9\u001b[0m] \u001b[1m<\u001b[0m\u001b[0m 0.6113784530484502))  ↣  Pneumonia : (ninstances = 101, ncovered = 10, coverage = 0.1, confidence = 0.6, lift = 1.14, natoms = 9)\n",
      "\u001b[34m▣\u001b[0m ⟨G⟩((\u001b[1mmax[\u001b[31mmfcc3\u001b[0m] \u001b[1m<\u001b[0m\u001b[0m 0.02108224501437627) ∧ ⟨G⟩((\u001b[1mmax[\u001b[31mmfcc13\u001b[0m] \u001b[1m≥\u001b[0m\u001b[0m 0.15322413941387783) ∧ (\u001b[1mmin[\u001b[31mmfcc7\u001b[0m] \u001b[1m<\u001b[0m\u001b[0m -0.28787600284298753) ∧ (\u001b[1mmax[\u001b[33mmel1=359Hz\u001b[0m] \u001b[1m≥\u001b[0m\u001b[0m 0.21398365746721937))) ∧ [G]((\u001b[1mmax[\u001b[31mmfcc3\u001b[0m] \u001b[1m<\u001b[0m\u001b[0m 0.02108224501437627) → (\u001b[1mmax[\u001b[36msprd\u001b[0m] \u001b[1m<\u001b[0m\u001b[0m 711.2412109356288)) ∧ [G]((\u001b[1mmax[\u001b[31mmfcc3\u001b[0m] \u001b[1m<\u001b[0m\u001b[0m 0.02108224501437627) → [D̅B̅E̅](\u001b[1mmax[\u001b[31mmfcc7\u001b[0m] \u001b[1m≥\u001b[0m\u001b[0m -0.5152085686365828)) ∧ [G]((\u001b[1mmax[\u001b[31mmfcc3\u001b[0m] \u001b[1m<\u001b[0m\u001b[0m 0.02108224501437627) → [G](\u001b[1mmax[\u001b[31mmfcc9\u001b[0m] \u001b[1m<\u001b[0m\u001b[0m 0.6113784530484502)) ∧ [G]((\u001b[1mmax[\u001b[31mmfcc3\u001b[0m] \u001b[1m<\u001b[0m\u001b[0m 0.02108224501437627) → [G]((\u001b[1mmax[\u001b[31mmfcc13\u001b[0m] \u001b[1m≥\u001b[0m\u001b[0m 0.15322413941387783) → [A̅O̅](\u001b[1mmax[\u001b[36mskwns\u001b[0m] \u001b[1m≥\u001b[0m\u001b[0m 1.502371047997501)))  ↣  Pneumonia : (ninstances = 101, ncovered = 2, coverage = 0.02, confidence = 1.0, lift = 1.91, natoms = 13)\n",
      "\u001b[34m▣\u001b[0m ⟨G⟩((\u001b[1mmax[\u001b[31mmfcc3\u001b[0m] \u001b[1m<\u001b[0m\u001b[0m 0.02108224501437627) ∧ ⟨G⟩((\u001b[1mmax[\u001b[31mmfcc13\u001b[0m] \u001b[1m≥\u001b[0m\u001b[0m 0.15322413941387783) ∧ (\u001b[1mmin[\u001b[31mmfcc7\u001b[0m] \u001b[1m<\u001b[0m\u001b[0m -0.28787600284298753))) ∧ [G]((\u001b[1mmax[\u001b[31mmfcc3\u001b[0m] \u001b[1m<\u001b[0m\u001b[0m 0.02108224501437627) → (\u001b[1mmax[\u001b[36msprd\u001b[0m] \u001b[1m<\u001b[0m\u001b[0m 711.2412109356288)) ∧ [G]((\u001b[1mmax[\u001b[31mmfcc3\u001b[0m] \u001b[1m<\u001b[0m\u001b[0m 0.02108224501437627) → [D̅B̅E̅](\u001b[1mmax[\u001b[31mmfcc7\u001b[0m] \u001b[1m≥\u001b[0m\u001b[0m -0.5152085686365828)) ∧ [G]((\u001b[1mmax[\u001b[31mmfcc3\u001b[0m] \u001b[1m<\u001b[0m\u001b[0m 0.02108224501437627) → [G](\u001b[1mmax[\u001b[31mmfcc9\u001b[0m] \u001b[1m<\u001b[0m\u001b[0m 0.6113784530484502)) ∧ [G]((\u001b[1mmax[\u001b[31mmfcc3\u001b[0m] \u001b[1m<\u001b[0m\u001b[0m 0.02108224501437627) → [G]((\u001b[1mmax[\u001b[31mmfcc13\u001b[0m] \u001b[1m≥\u001b[0m\u001b[0m 0.15322413941387783) → [A̅O̅](\u001b[1mmax[\u001b[36mskwns\u001b[0m] \u001b[1m≥\u001b[0m\u001b[0m 1.502371047997501))) ∧ [G]((\u001b[1mmax[\u001b[31mmfcc3\u001b[0m] \u001b[1m<\u001b[0m\u001b[0m 0.02108224501437627) → [G]((\u001b[1mmax[\u001b[31mmfcc13\u001b[0m] \u001b[1m≥\u001b[0m\u001b[0m 0.15322413941387783) → (\u001b[1mmin[\u001b[31mmfcc7\u001b[0m] \u001b[1m<\u001b[0m\u001b[0m -0.28787600284298753) → (\u001b[1mmax[\u001b[33mmel1=359Hz\u001b[0m] \u001b[1m<\u001b[0m\u001b[0m 0.21398365746721937)))  ↣  Healthy : (ninstances = 101, ncovered = 1, coverage = 0.01, confidence = 1.0, lift = 2.1, natoms = 16)\n",
      "\u001b[34m▣\u001b[0m ⟨G⟩((\u001b[1mmax[\u001b[31mmfcc3\u001b[0m] \u001b[1m<\u001b[0m\u001b[0m 0.02108224501437627) ∧ ⟨G⟩(\u001b[1mmax[\u001b[31mmfcc13\u001b[0m] \u001b[1m≥\u001b[0m\u001b[0m 0.15322413941387783)) ∧ [G]((\u001b[1mmax[\u001b[31mmfcc3\u001b[0m] \u001b[1m<\u001b[0m\u001b[0m 0.02108224501437627) → (\u001b[1mmax[\u001b[36msprd\u001b[0m] \u001b[1m<\u001b[0m\u001b[0m 711.2412109356288)) ∧ [G]((\u001b[1mmax[\u001b[31mmfcc3\u001b[0m] \u001b[1m<\u001b[0m\u001b[0m 0.02108224501437627) → [D̅B̅E̅](\u001b[1mmax[\u001b[31mmfcc7\u001b[0m] \u001b[1m≥\u001b[0m\u001b[0m -0.5152085686365828)) ∧ [G]((\u001b[1mmax[\u001b[31mmfcc3\u001b[0m] \u001b[1m<\u001b[0m\u001b[0m 0.02108224501437627) → [G](\u001b[1mmax[\u001b[31mmfcc9\u001b[0m] \u001b[1m<\u001b[0m\u001b[0m 0.6113784530484502)) ∧ [G]((\u001b[1mmax[\u001b[31mmfcc3\u001b[0m] \u001b[1m<\u001b[0m\u001b[0m 0.02108224501437627) → [G]((\u001b[1mmax[\u001b[31mmfcc13\u001b[0m] \u001b[1m≥\u001b[0m\u001b[0m 0.15322413941387783) → [A̅O̅](\u001b[1mmax[\u001b[36mskwns\u001b[0m] \u001b[1m≥\u001b[0m\u001b[0m 1.502371047997501))) ∧ [G]((\u001b[1mmax[\u001b[31mmfcc3\u001b[0m] \u001b[1m<\u001b[0m\u001b[0m 0.02108224501437627) → [G]((\u001b[1mmax[\u001b[31mmfcc13\u001b[0m] \u001b[1m≥\u001b[0m\u001b[0m 0.15322413941387783) → (\u001b[1mmin[\u001b[31mmfcc7\u001b[0m] \u001b[1m≥\u001b[0m\u001b[0m -0.28787600284298753))) ∧ [G]((\u001b[1mmax[\u001b[31mmfcc3\u001b[0m] \u001b[1m<\u001b[0m\u001b[0m 0.02108224501437627) → [G]((\u001b[1mmax[\u001b[31mmfcc13\u001b[0m] \u001b[1m≥\u001b[0m\u001b[0m 0.15322413941387783) → (\u001b[1mmax[\u001b[33mmel1=359Hz\u001b[0m] \u001b[1m<\u001b[0m\u001b[0m 0.21218849154864677)))  ↣  Pneumonia : (ninstances = 101, ncovered = 3, coverage = 0.03, confidence = 1.0, lift = 1.91, natoms = 17)\n",
      "\u001b[34m▣\u001b[0m ⟨G⟩((\u001b[1mmax[\u001b[31mmfcc3\u001b[0m] \u001b[1m<\u001b[0m\u001b[0m 0.02108224501437627) ∧ (\u001b[1mmax[\u001b[33mmel1=359Hz\u001b[0m] \u001b[1m≥\u001b[0m\u001b[0m 0.01780509809617218)) ∧ [G]((\u001b[1mmax[\u001b[31mmfcc3\u001b[0m] \u001b[1m<\u001b[0m\u001b[0m 0.02108224501437627) → (\u001b[1mmax[\u001b[36msprd\u001b[0m] \u001b[1m<\u001b[0m\u001b[0m 711.2412109356288)) ∧ [G]((\u001b[1mmax[\u001b[31mmfcc3\u001b[0m] \u001b[1m<\u001b[0m\u001b[0m 0.02108224501437627) → [D̅B̅E̅](\u001b[1mmax[\u001b[31mmfcc7\u001b[0m] \u001b[1m≥\u001b[0m\u001b[0m -0.5152085686365828)) ∧ [G]((\u001b[1mmax[\u001b[31mmfcc3\u001b[0m] \u001b[1m<\u001b[0m\u001b[0m 0.02108224501437627) → [G](\u001b[1mmax[\u001b[31mmfcc9\u001b[0m] \u001b[1m<\u001b[0m\u001b[0m 0.6113784530484502)) ∧ [G]((\u001b[1mmax[\u001b[31mmfcc3\u001b[0m] \u001b[1m<\u001b[0m\u001b[0m 0.02108224501437627) → [G](\u001b[1mmax[\u001b[31mmfcc13\u001b[0m] \u001b[1m<\u001b[0m\u001b[0m 0.15322413941387783))  ↣  Healthy : (ninstances = 101, ncovered = 2, coverage = 0.02, confidence = 1.0, lift = 2.1, natoms = 10)\n",
      "\u001b[34m▣\u001b[0m ⟨G⟩(\u001b[1mmax[\u001b[31mmfcc3\u001b[0m] \u001b[1m<\u001b[0m\u001b[0m 0.02108224501437627) ∧ [G]((\u001b[1mmax[\u001b[31mmfcc3\u001b[0m] \u001b[1m<\u001b[0m\u001b[0m 0.02108224501437627) → (\u001b[1mmax[\u001b[36msprd\u001b[0m] \u001b[1m<\u001b[0m\u001b[0m 711.2412109356288)) ∧ [G]((\u001b[1mmax[\u001b[31mmfcc3\u001b[0m] \u001b[1m<\u001b[0m\u001b[0m 0.02108224501437627) → [D̅B̅E̅](\u001b[1mmax[\u001b[31mmfcc7\u001b[0m] \u001b[1m≥\u001b[0m\u001b[0m -0.5152085686365828)) ∧ [G]((\u001b[1mmax[\u001b[31mmfcc3\u001b[0m] \u001b[1m<\u001b[0m\u001b[0m 0.02108224501437627) → [G](\u001b[1mmax[\u001b[31mmfcc9\u001b[0m] \u001b[1m<\u001b[0m\u001b[0m 0.6113784530484502)) ∧ [G]((\u001b[1mmax[\u001b[31mmfcc3\u001b[0m] \u001b[1m<\u001b[0m\u001b[0m 0.02108224501437627) → [G](\u001b[1mmax[\u001b[31mmfcc13\u001b[0m] \u001b[1m<\u001b[0m\u001b[0m 0.15322413941387783)) ∧ [G]((\u001b[1mmax[\u001b[31mmfcc3\u001b[0m] \u001b[1m<\u001b[0m\u001b[0m 0.02108224501437627) → (\u001b[1mmax[\u001b[33mmel1=359Hz\u001b[0m] \u001b[1m<\u001b[0m\u001b[0m 0.01780509809617218))  ↣  Healthy : (ninstances = 101, ncovered = 2, coverage = 0.02, confidence = 0.5, lift = 1.05, natoms = 11)\n",
      "\u001b[34m▣\u001b[0m ⟨G⟩(\u001b[1mmax[\u001b[31mmfcc2\u001b[0m] \u001b[1m<\u001b[0m\u001b[0m 2.0456837533901515) ∧ [G](\u001b[1mmax[\u001b[31mmfcc3\u001b[0m] \u001b[1m≥\u001b[0m\u001b[0m 0.02108224501437627)  ↣  Healthy : (ninstances = 101, ncovered = 3, coverage = 0.03, confidence = 1.0, lift = 2.1, natoms = 2)\n",
      "\u001b[34m▣\u001b[0m ⟨G⟩(\u001b[1mmax[\u001b[36mentrp\u001b[0m] \u001b[1m≥\u001b[0m\u001b[0m 0.6343648752658164) ∧ [G](\u001b[1mmax[\u001b[31mmfcc3\u001b[0m] \u001b[1m≥\u001b[0m\u001b[0m 0.02108224501437627) ∧ [G](\u001b[1mmax[\u001b[31mmfcc2\u001b[0m] \u001b[1m≥\u001b[0m\u001b[0m 2.0456837533901515) ∧ [G]((\u001b[1mmax[\u001b[36mentrp\u001b[0m] \u001b[1m≥\u001b[0m\u001b[0m 0.6343648752658164) → (\u001b[1m#49[\u001b[33mmel24=3257Hz\u001b[0m] \u001b[1m<\u001b[0m\u001b[0m 8.0))  ↣  Pneumonia : (ninstances = 101, ncovered = 35, coverage = 0.35, confidence = 0.94, lift = 1.8, natoms = 5)\n",
      "\u001b[34m▣\u001b[0m ⟨G⟩(\u001b[1mmax[\u001b[33mmel2=421Hz\u001b[0m] \u001b[1m≥\u001b[0m\u001b[0m 0.10474932720736443) ∧ [G](\u001b[1mmax[\u001b[31mmfcc3\u001b[0m] \u001b[1m≥\u001b[0m\u001b[0m 0.02108224501437627) ∧ [G](\u001b[1mmax[\u001b[31mmfcc2\u001b[0m] \u001b[1m≥\u001b[0m\u001b[0m 2.0456837533901515) ∧ [G](\u001b[1mmax[\u001b[36mentrp\u001b[0m] \u001b[1m<\u001b[0m\u001b[0m 0.6343648752658164)  ↣  Pneumonia : (ninstances = 101, ncovered = 1, coverage = 0.01, confidence = 1.0, lift = 1.91, natoms = 4)\n"
     ]
    }
   ],
   "source": [
    "interesting_rules = listrules(sole_dt, min_lift = 1.0, min_ninstances = 0);\n",
    "printmodel.(interesting_rules; show_metrics = true, variable_names_map=variable_names);"
   ]
  },
  {
   "cell_type": "markdown",
   "metadata": {},
   "source": [
    "### Simplify rules while extracting and prettify result"
   ]
  },
  {
   "cell_type": "code",
   "execution_count": 21,
   "metadata": {},
   "outputs": [
    {
     "name": "stdout",
     "output_type": "stream",
     "text": [
      "\u001b[34m▣\u001b[0m ⟨G⟩((\u001b[1mmax[\u001b[31mmfcc3\u001b[0m] \u001b[1m<\u001b[0m\u001b[0m 0.02) ∧ (\u001b[1mmax[\u001b[36msprd\u001b[0m] \u001b[1m≥\u001b[0m\u001b[0m 711.24))  ↣  Healthy : (ninstances = 101, ncovered = 26, coverage = 0.26, confidence = 0.96, lift = 2.02, natoms = 2)\n",
      "\u001b[34m▣\u001b[0m ⟨G⟩((\u001b[1mmax[\u001b[31mmfcc3\u001b[0m] \u001b[1m<\u001b[0m\u001b[0m 0.02) ∧ ⟨D̅B̅E̅⟩(\u001b[1mmax[\u001b[31mmfcc7\u001b[0m] \u001b[1m<\u001b[0m\u001b[0m -0.52)) ∧ [G]((\u001b[1mmax[\u001b[31mmfcc3\u001b[0m] \u001b[1m<\u001b[0m\u001b[0m 0.02) → (\u001b[1mmax[\u001b[36msprd\u001b[0m] \u001b[1m<\u001b[0m\u001b[0m 711.24)) ∧ [G]((\u001b[1mmax[\u001b[31mmfcc3\u001b[0m] \u001b[1m<\u001b[0m\u001b[0m 0.02) → [D̅B̅E̅]((\u001b[1mmax[\u001b[31mmfcc7\u001b[0m] \u001b[1m<\u001b[0m\u001b[0m -0.52) → (\u001b[1m#47[\u001b[33mmel23=3037Hz\u001b[0m] \u001b[1m≥\u001b[0m\u001b[0m 0.0)))  ↣  Healthy : (ninstances = 101, ncovered = 6, coverage = 0.06, confidence = 0.83, lift = 1.75, natoms = 7)\n",
      "\u001b[34m▣\u001b[0m ⟨G⟩((\u001b[1mmax[\u001b[31mmfcc3\u001b[0m] \u001b[1m<\u001b[0m\u001b[0m 0.02) ∧ ⟨G⟩(\u001b[1mmax[\u001b[31mmfcc9\u001b[0m] \u001b[1m≥\u001b[0m\u001b[0m 0.61)) ∧ [G]((\u001b[1mmax[\u001b[31mmfcc3\u001b[0m] \u001b[1m<\u001b[0m\u001b[0m 0.02) → (\u001b[1mmax[\u001b[36msprd\u001b[0m] \u001b[1m<\u001b[0m\u001b[0m 711.24)) ∧ [G]((\u001b[1mmax[\u001b[31mmfcc3\u001b[0m] \u001b[1m<\u001b[0m\u001b[0m 0.02) → [D̅B̅E̅](\u001b[1mmax[\u001b[31mmfcc7\u001b[0m] \u001b[1m≥\u001b[0m\u001b[0m -0.52))  ↣  Healthy : (ninstances = 101, ncovered = 4, coverage = 0.04, confidence = 1.0, lift = 2.1, natoms = 6)\n",
      "\u001b[34m▣\u001b[0m ⟨G⟩((\u001b[1mmax[\u001b[31mmfcc3\u001b[0m] \u001b[1m<\u001b[0m\u001b[0m 0.02) ∧ ⟨G⟩((\u001b[1mmax[\u001b[31mmfcc13\u001b[0m] \u001b[1m≥\u001b[0m\u001b[0m 0.15) ∧ ⟨A̅O̅⟩(\u001b[1mmax[\u001b[36mskwns\u001b[0m] \u001b[1m<\u001b[0m\u001b[0m 1.5))) ∧ [G]((\u001b[1mmax[\u001b[31mmfcc3\u001b[0m] \u001b[1m<\u001b[0m\u001b[0m 0.02) → (\u001b[1mmax[\u001b[36msprd\u001b[0m] \u001b[1m<\u001b[0m\u001b[0m 711.24)) ∧ [G]((\u001b[1mmax[\u001b[31mmfcc3\u001b[0m] \u001b[1m<\u001b[0m\u001b[0m 0.02) → [D̅B̅E̅](\u001b[1mmax[\u001b[31mmfcc7\u001b[0m] \u001b[1m≥\u001b[0m\u001b[0m -0.52)) ∧ [G]((\u001b[1mmax[\u001b[31mmfcc3\u001b[0m] \u001b[1m<\u001b[0m\u001b[0m 0.02) → [G](\u001b[1mmax[\u001b[31mmfcc9\u001b[0m] \u001b[1m<\u001b[0m\u001b[0m 0.61))  ↣  Pneumonia : (ninstances = 101, ncovered = 10, coverage = 0.1, confidence = 0.6, lift = 1.14, natoms = 9)\n",
      "\u001b[34m▣\u001b[0m ⟨G⟩((\u001b[1mmax[\u001b[31mmfcc3\u001b[0m] \u001b[1m<\u001b[0m\u001b[0m 0.02) ∧ ⟨G⟩((\u001b[1mmax[\u001b[31mmfcc13\u001b[0m] \u001b[1m≥\u001b[0m\u001b[0m 0.15) ∧ (\u001b[1mmin[\u001b[31mmfcc7\u001b[0m] \u001b[1m<\u001b[0m\u001b[0m -0.29) ∧ (\u001b[1mmax[\u001b[33mmel1=359Hz\u001b[0m] \u001b[1m≥\u001b[0m\u001b[0m 0.21))) ∧ [G]((\u001b[1mmax[\u001b[31mmfcc3\u001b[0m] \u001b[1m<\u001b[0m\u001b[0m 0.02) → (\u001b[1mmax[\u001b[36msprd\u001b[0m] \u001b[1m<\u001b[0m\u001b[0m 711.24)) ∧ [G]((\u001b[1mmax[\u001b[31mmfcc3\u001b[0m] \u001b[1m<\u001b[0m\u001b[0m 0.02) → [D̅B̅E̅](\u001b[1mmax[\u001b[31mmfcc7\u001b[0m] \u001b[1m≥\u001b[0m\u001b[0m -0.52)) ∧ [G]((\u001b[1mmax[\u001b[31mmfcc3\u001b[0m] \u001b[1m<\u001b[0m\u001b[0m 0.02) → [G](\u001b[1mmax[\u001b[31mmfcc9\u001b[0m] \u001b[1m<\u001b[0m\u001b[0m 0.61)) ∧ [G]((\u001b[1mmax[\u001b[31mmfcc3\u001b[0m] \u001b[1m<\u001b[0m\u001b[0m 0.02) → [G]((\u001b[1mmax[\u001b[31mmfcc13\u001b[0m] \u001b[1m≥\u001b[0m\u001b[0m 0.15) → [A̅O̅](\u001b[1mmax[\u001b[36mskwns\u001b[0m] \u001b[1m≥\u001b[0m\u001b[0m 1.5)))  ↣  Pneumonia : (ninstances = 101, ncovered = 2, coverage = 0.02, confidence = 1.0, lift = 1.91, natoms = 13)\n",
      "\u001b[34m▣\u001b[0m ⟨G⟩((\u001b[1mmax[\u001b[31mmfcc3\u001b[0m] \u001b[1m<\u001b[0m\u001b[0m 0.02) ∧ ⟨G⟩((\u001b[1mmax[\u001b[31mmfcc13\u001b[0m] \u001b[1m≥\u001b[0m\u001b[0m 0.15) ∧ (\u001b[1mmin[\u001b[31mmfcc7\u001b[0m] \u001b[1m<\u001b[0m\u001b[0m -0.29))) ∧ [G]((\u001b[1mmax[\u001b[31mmfcc3\u001b[0m] \u001b[1m<\u001b[0m\u001b[0m 0.02) → (\u001b[1mmax[\u001b[36msprd\u001b[0m] \u001b[1m<\u001b[0m\u001b[0m 711.24)) ∧ [G]((\u001b[1mmax[\u001b[31mmfcc3\u001b[0m] \u001b[1m<\u001b[0m\u001b[0m 0.02) → [D̅B̅E̅](\u001b[1mmax[\u001b[31mmfcc7\u001b[0m] \u001b[1m≥\u001b[0m\u001b[0m -0.52)) ∧ [G]((\u001b[1mmax[\u001b[31mmfcc3\u001b[0m] \u001b[1m<\u001b[0m\u001b[0m 0.02) → [G](\u001b[1mmax[\u001b[31mmfcc9\u001b[0m] \u001b[1m<\u001b[0m\u001b[0m 0.61)) ∧ [G]((\u001b[1mmax[\u001b[31mmfcc3\u001b[0m] \u001b[1m<\u001b[0m\u001b[0m 0.02) → [G]((\u001b[1mmax[\u001b[31mmfcc13\u001b[0m] \u001b[1m≥\u001b[0m\u001b[0m 0.15) → [A̅O̅](\u001b[1mmax[\u001b[36mskwns\u001b[0m] \u001b[1m≥\u001b[0m\u001b[0m 1.5))) ∧ [G]((\u001b[1mmax[\u001b[31mmfcc3\u001b[0m] \u001b[1m<\u001b[0m\u001b[0m 0.02) → [G]((\u001b[1mmax[\u001b[31mmfcc13\u001b[0m] \u001b[1m≥\u001b[0m\u001b[0m 0.15) → (\u001b[1mmin[\u001b[31mmfcc7\u001b[0m] \u001b[1m<\u001b[0m\u001b[0m -0.29) → (\u001b[1mmax[\u001b[33mmel1=359Hz\u001b[0m] \u001b[1m<\u001b[0m\u001b[0m 0.21)))  ↣  Healthy : (ninstances = 101, ncovered = 1, coverage = 0.01, confidence = 1.0, lift = 2.1, natoms = 16)\n",
      "\u001b[34m▣\u001b[0m ⟨G⟩((\u001b[1mmax[\u001b[31mmfcc3\u001b[0m] \u001b[1m<\u001b[0m\u001b[0m 0.02) ∧ ⟨G⟩(\u001b[1mmax[\u001b[31mmfcc13\u001b[0m] \u001b[1m≥\u001b[0m\u001b[0m 0.15)) ∧ [G]((\u001b[1mmax[\u001b[31mmfcc3\u001b[0m] \u001b[1m<\u001b[0m\u001b[0m 0.02) → (\u001b[1mmax[\u001b[36msprd\u001b[0m] \u001b[1m<\u001b[0m\u001b[0m 711.24)) ∧ [G]((\u001b[1mmax[\u001b[31mmfcc3\u001b[0m] \u001b[1m<\u001b[0m\u001b[0m 0.02) → [D̅B̅E̅](\u001b[1mmax[\u001b[31mmfcc7\u001b[0m] \u001b[1m≥\u001b[0m\u001b[0m -0.52)) ∧ [G]((\u001b[1mmax[\u001b[31mmfcc3\u001b[0m] \u001b[1m<\u001b[0m\u001b[0m 0.02) → [G](\u001b[1mmax[\u001b[31mmfcc9\u001b[0m] \u001b[1m<\u001b[0m\u001b[0m 0.61)) ∧ [G]((\u001b[1mmax[\u001b[31mmfcc3\u001b[0m] \u001b[1m<\u001b[0m\u001b[0m 0.02) → [G]((\u001b[1mmax[\u001b[31mmfcc13\u001b[0m] \u001b[1m≥\u001b[0m\u001b[0m 0.15) → [A̅O̅](\u001b[1mmax[\u001b[36mskwns\u001b[0m] \u001b[1m≥\u001b[0m\u001b[0m 1.5))) ∧ [G]((\u001b[1mmax[\u001b[31mmfcc3\u001b[0m] \u001b[1m<\u001b[0m\u001b[0m 0.02) → [G]((\u001b[1mmax[\u001b[31mmfcc13\u001b[0m] \u001b[1m≥\u001b[0m\u001b[0m 0.15) → (\u001b[1mmin[\u001b[31mmfcc7\u001b[0m] \u001b[1m≥\u001b[0m\u001b[0m -0.29))) ∧ [G]((\u001b[1mmax[\u001b[31mmfcc3\u001b[0m] \u001b[1m<\u001b[0m\u001b[0m 0.02) → [G]((\u001b[1mmax[\u001b[31mmfcc13\u001b[0m] \u001b[1m≥\u001b[0m\u001b[0m 0.15) → (\u001b[1mmax[\u001b[33mmel1=359Hz\u001b[0m] \u001b[1m<\u001b[0m\u001b[0m 0.21)))  ↣  Pneumonia : (ninstances = 101, ncovered = 3, coverage = 0.03, confidence = 1.0, lift = 1.91, natoms = 17)\n",
      "\u001b[34m▣\u001b[0m ⟨G⟩((\u001b[1mmax[\u001b[31mmfcc3\u001b[0m] \u001b[1m<\u001b[0m\u001b[0m 0.02) ∧ (\u001b[1mmax[\u001b[33mmel1=359Hz\u001b[0m] \u001b[1m≥\u001b[0m\u001b[0m 0.02)) ∧ [G]((\u001b[1mmax[\u001b[31mmfcc3\u001b[0m] \u001b[1m<\u001b[0m\u001b[0m 0.02) → (\u001b[1mmax[\u001b[36msprd\u001b[0m] \u001b[1m<\u001b[0m\u001b[0m 711.24)) ∧ [G]((\u001b[1mmax[\u001b[31mmfcc3\u001b[0m] \u001b[1m<\u001b[0m\u001b[0m 0.02) → [D̅B̅E̅](\u001b[1mmax[\u001b[31mmfcc7\u001b[0m] \u001b[1m≥\u001b[0m\u001b[0m -0.52)) ∧ [G]((\u001b[1mmax[\u001b[31mmfcc3\u001b[0m] \u001b[1m<\u001b[0m\u001b[0m 0.02) → [G](\u001b[1mmax[\u001b[31mmfcc9\u001b[0m] \u001b[1m<\u001b[0m\u001b[0m 0.61)) ∧ [G]((\u001b[1mmax[\u001b[31mmfcc3\u001b[0m] \u001b[1m<\u001b[0m\u001b[0m 0.02) → [G](\u001b[1mmax[\u001b[31mmfcc13\u001b[0m] \u001b[1m<\u001b[0m\u001b[0m 0.15))  ↣  Healthy : (ninstances = 101, ncovered = 2, coverage = 0.02, confidence = 1.0, lift = 2.1, natoms = 10)\n",
      "\u001b[34m▣\u001b[0m ⟨G⟩(\u001b[1mmax[\u001b[31mmfcc3\u001b[0m] \u001b[1m<\u001b[0m\u001b[0m 0.02) ∧ [G]((\u001b[1mmax[\u001b[31mmfcc3\u001b[0m] \u001b[1m<\u001b[0m\u001b[0m 0.02) → (\u001b[1mmax[\u001b[36msprd\u001b[0m] \u001b[1m<\u001b[0m\u001b[0m 711.24)) ∧ [G]((\u001b[1mmax[\u001b[31mmfcc3\u001b[0m] \u001b[1m<\u001b[0m\u001b[0m 0.02) → [D̅B̅E̅](\u001b[1mmax[\u001b[31mmfcc7\u001b[0m] \u001b[1m≥\u001b[0m\u001b[0m -0.52)) ∧ [G]((\u001b[1mmax[\u001b[31mmfcc3\u001b[0m] \u001b[1m<\u001b[0m\u001b[0m 0.02) → [G](\u001b[1mmax[\u001b[31mmfcc9\u001b[0m] \u001b[1m<\u001b[0m\u001b[0m 0.61)) ∧ [G]((\u001b[1mmax[\u001b[31mmfcc3\u001b[0m] \u001b[1m<\u001b[0m\u001b[0m 0.02) → [G](\u001b[1mmax[\u001b[31mmfcc13\u001b[0m] \u001b[1m<\u001b[0m\u001b[0m 0.15)) ∧ [G]((\u001b[1mmax[\u001b[31mmfcc3\u001b[0m] \u001b[1m<\u001b[0m\u001b[0m 0.02) → (\u001b[1mmax[\u001b[33mmel1=359Hz\u001b[0m] \u001b[1m<\u001b[0m\u001b[0m 0.02))  ↣  Healthy : (ninstances = 101, ncovered = 2, coverage = 0.02, confidence = 0.5, lift = 1.05, natoms = 11)\n",
      "\u001b[34m▣\u001b[0m ⟨G⟩(\u001b[1mmax[\u001b[31mmfcc2\u001b[0m] \u001b[1m<\u001b[0m\u001b[0m 2.05) ∧ [G](\u001b[1mmax[\u001b[31mmfcc3\u001b[0m] \u001b[1m≥\u001b[0m\u001b[0m 0.02)  ↣  Healthy : (ninstances = 101, ncovered = 3, coverage = 0.03, confidence = 1.0, lift = 2.1, natoms = 2)\n",
      "\u001b[34m▣\u001b[0m ⟨G⟩(\u001b[1mmax[\u001b[36mentrp\u001b[0m] \u001b[1m≥\u001b[0m\u001b[0m 0.63) ∧ [G](\u001b[1mmax[\u001b[31mmfcc3\u001b[0m] \u001b[1m≥\u001b[0m\u001b[0m 0.02) ∧ [G](\u001b[1mmax[\u001b[31mmfcc2\u001b[0m] \u001b[1m≥\u001b[0m\u001b[0m 2.05) ∧ [G]((\u001b[1mmax[\u001b[36mentrp\u001b[0m] \u001b[1m≥\u001b[0m\u001b[0m 0.63) → (\u001b[1m#49[\u001b[33mmel24=3257Hz\u001b[0m] \u001b[1m<\u001b[0m\u001b[0m 8.0))  ↣  Pneumonia : (ninstances = 101, ncovered = 35, coverage = 0.35, confidence = 0.94, lift = 1.8, natoms = 5)\n",
      "\u001b[34m▣\u001b[0m ⟨G⟩(\u001b[1mmax[\u001b[33mmel2=421Hz\u001b[0m] \u001b[1m≥\u001b[0m\u001b[0m 0.1) ∧ [G](\u001b[1mmax[\u001b[31mmfcc3\u001b[0m] \u001b[1m≥\u001b[0m\u001b[0m 0.02) ∧ [G](\u001b[1mmax[\u001b[31mmfcc2\u001b[0m] \u001b[1m≥\u001b[0m\u001b[0m 2.05) ∧ [G](\u001b[1mmax[\u001b[36mentrp\u001b[0m] \u001b[1m<\u001b[0m\u001b[0m 0.63)  ↣  Pneumonia : (ninstances = 101, ncovered = 1, coverage = 0.01, confidence = 1.0, lift = 1.91, natoms = 4)\n"
     ]
    }
   ],
   "source": [
    "interesting_rules = listrules(sole_dt, min_lift = 1.0, min_ninstances = 0, normalize = true);\n",
    "printmodel.(interesting_rules; show_metrics = true, syntaxstring_kwargs = (; threshold_digits = 2), variable_names_map=variable_names);"
   ]
  },
  {
   "cell_type": "markdown",
   "metadata": {},
   "source": [
    "### Directly access rule metrics"
   ]
  },
  {
   "cell_type": "code",
   "execution_count": 22,
   "metadata": {},
   "outputs": [
    {
     "data": {
      "text/plain": [
       "12-element Vector{@NamedTuple{ninstances::Int64, ncovered::Int64, coverage::Float64, confidence::Float64, lift::Float64, natoms::Int64}}:\n",
       " (ninstances = 101, ncovered = 26, coverage = 0.25742574257425743, confidence = 0.9615384615384616, lift = 2.0232371794871797, natoms = 2)\n",
       " (ninstances = 101, ncovered = 6, coverage = 0.0594059405940594, confidence = 0.8333333333333334, lift = 1.7534722222222223, natoms = 7)\n",
       " (ninstances = 101, ncovered = 4, coverage = 0.039603960396039604, confidence = 1.0, lift = 2.104166666666667, natoms = 6)\n",
       " (ninstances = 101, ncovered = 10, coverage = 0.09900990099009901, confidence = 0.6, lift = 1.1433962264150943, natoms = 9)\n",
       " (ninstances = 101, ncovered = 2, coverage = 0.019801980198019802, confidence = 1.0, lift = 1.9056603773584906, natoms = 13)\n",
       " (ninstances = 101, ncovered = 1, coverage = 0.009900990099009901, confidence = 1.0, lift = 2.104166666666667, natoms = 16)\n",
       " (ninstances = 101, ncovered = 3, coverage = 0.0297029702970297, confidence = 1.0, lift = 1.9056603773584906, natoms = 17)\n",
       " (ninstances = 101, ncovered = 2, coverage = 0.019801980198019802, confidence = 1.0, lift = 2.104166666666667, natoms = 10)\n",
       " (ninstances = 101, ncovered = 2, coverage = 0.019801980198019802, confidence = 0.5, lift = 1.0520833333333335, natoms = 11)\n",
       " (ninstances = 101, ncovered = 3, coverage = 0.0297029702970297, confidence = 1.0, lift = 2.104166666666667, natoms = 2)\n",
       " (ninstances = 101, ncovered = 35, coverage = 0.3465346534653465, confidence = 0.9428571428571428, lift = 1.796765498652291, natoms = 5)\n",
       " (ninstances = 101, ncovered = 1, coverage = 0.009900990099009901, confidence = 1.0, lift = 1.9056603773584906, natoms = 4)"
      ]
     },
     "metadata": {},
     "output_type": "display_data"
    }
   ],
   "source": [
    "readmetrics.(listrules(sole_dt; min_lift=1.0, min_ninstances = 0))"
   ]
  },
  {
   "cell_type": "markdown",
   "metadata": {},
   "source": [
    "### Show rules with an additional metric (syntax height of the rule's antecedent)"
   ]
  },
  {
   "cell_type": "code",
   "execution_count": 23,
   "metadata": {},
   "outputs": [
    {
     "name": "stdout",
     "output_type": "stream",
     "text": [
      "\u001b[34m▣\u001b[0m ⟨G⟩(\u001b[1mmax[\u001b[33mmel2=421Hz\u001b[0m] \u001b[1m≥\u001b[0m\u001b[0m 0.10474932720736443) ∧ [G](\u001b[1mmax[\u001b[31mmfcc3\u001b[0m] \u001b[1m≥\u001b[0m\u001b[0m 0.02108224501437627) ∧ [G](\u001b[1mmax[\u001b[31mmfcc2\u001b[0m] \u001b[1m≥\u001b[0m\u001b[0m 2.0456837533901515) ∧ [G](\u001b[1mmax[\u001b[36mentrp\u001b[0m] \u001b[1m<\u001b[0m\u001b[0m 0.6343648752658164)  ↣  Pneumonia : (ninstances = 101, ncovered = 1, coverage = 0.009900990099009901, confidence = 1.0, lift = 1.9056603773584906, natoms = 4, height = 4)\n",
      "\u001b[34m▣\u001b[0m ⟨G⟩((\u001b[1mmax[\u001b[31mmfcc3\u001b[0m] \u001b[1m<\u001b[0m\u001b[0m 0.02108224501437627) ∧ ⟨G⟩((\u001b[1mmax[\u001b[31mmfcc13\u001b[0m] \u001b[1m≥\u001b[0m\u001b[0m 0.15322413941387783) ∧ (\u001b[1mmin[\u001b[31mmfcc7\u001b[0m] \u001b[1m<\u001b[0m\u001b[0m -0.28787600284298753))) ∧ [G]((\u001b[1mmax[\u001b[31mmfcc3\u001b[0m] \u001b[1m<\u001b[0m\u001b[0m 0.02108224501437627) → (\u001b[1mmax[\u001b[36msprd\u001b[0m] \u001b[1m<\u001b[0m\u001b[0m 711.2412109356288)) ∧ [G]((\u001b[1mmax[\u001b[31mmfcc3\u001b[0m] \u001b[1m<\u001b[0m\u001b[0m 0.02108224501437627) → [D̅B̅E̅](\u001b[1mmax[\u001b[31mmfcc7\u001b[0m] \u001b[1m≥\u001b[0m\u001b[0m -0.5152085686365828)) ∧ [G]((\u001b[1mmax[\u001b[31mmfcc3\u001b[0m] \u001b[1m<\u001b[0m\u001b[0m 0.02108224501437627) → [G](\u001b[1mmax[\u001b[31mmfcc9\u001b[0m] \u001b[1m<\u001b[0m\u001b[0m 0.6113784530484502)) ∧ [G]((\u001b[1mmax[\u001b[31mmfcc3\u001b[0m] \u001b[1m<\u001b[0m\u001b[0m 0.02108224501437627) → [G]((\u001b[1mmax[\u001b[31mmfcc13\u001b[0m] \u001b[1m≥\u001b[0m\u001b[0m 0.15322413941387783) → [A̅O̅](\u001b[1mmax[\u001b[36mskwns\u001b[0m] \u001b[1m≥\u001b[0m\u001b[0m 1.502371047997501))) ∧ [G]((\u001b[1mmax[\u001b[31mmfcc3\u001b[0m] \u001b[1m<\u001b[0m\u001b[0m 0.02108224501437627) → [G]((\u001b[1mmax[\u001b[31mmfcc13\u001b[0m] \u001b[1m≥\u001b[0m\u001b[0m 0.15322413941387783) → (\u001b[1mmin[\u001b[31mmfcc7\u001b[0m] \u001b[1m<\u001b[0m\u001b[0m -0.28787600284298753) → (\u001b[1mmax[\u001b[33mmel1=359Hz\u001b[0m] \u001b[1m<\u001b[0m\u001b[0m 0.21398365746721937)))  ↣  Healthy : (ninstances = 101, ncovered = 1, coverage = 0.009900990099009901, confidence = 1.0, lift = 2.104166666666667, natoms = 16, height = 9)\n",
      "\u001b[34m▣\u001b[0m ⟨G⟩(\u001b[1mmax[\u001b[31mmfcc3\u001b[0m] \u001b[1m<\u001b[0m\u001b[0m 0.02108224501437627) ∧ [G]((\u001b[1mmax[\u001b[31mmfcc3\u001b[0m] \u001b[1m<\u001b[0m\u001b[0m 0.02108224501437627) → (\u001b[1mmax[\u001b[36msprd\u001b[0m] \u001b[1m<\u001b[0m\u001b[0m 711.2412109356288)) ∧ [G]((\u001b[1mmax[\u001b[31mmfcc3\u001b[0m] \u001b[1m<\u001b[0m\u001b[0m 0.02108224501437627) → [D̅B̅E̅](\u001b[1mmax[\u001b[31mmfcc7\u001b[0m] \u001b[1m≥\u001b[0m\u001b[0m -0.5152085686365828)) ∧ [G]((\u001b[1mmax[\u001b[31mmfcc3\u001b[0m] \u001b[1m<\u001b[0m\u001b[0m 0.02108224501437627) → [G](\u001b[1mmax[\u001b[31mmfcc9\u001b[0m] \u001b[1m<\u001b[0m\u001b[0m 0.6113784530484502)) ∧ [G]((\u001b[1mmax[\u001b[31mmfcc3\u001b[0m] \u001b[1m<\u001b[0m\u001b[0m 0.02108224501437627) → [G](\u001b[1mmax[\u001b[31mmfcc13\u001b[0m] \u001b[1m<\u001b[0m\u001b[0m 0.15322413941387783)) ∧ [G]((\u001b[1mmax[\u001b[31mmfcc3\u001b[0m] \u001b[1m<\u001b[0m\u001b[0m 0.02108224501437627) → (\u001b[1mmax[\u001b[33mmel1=359Hz\u001b[0m] \u001b[1m<\u001b[0m\u001b[0m 0.01780509809617218))  ↣  Healthy : (ninstances = 101, ncovered = 2, coverage = 0.019801980198019802, confidence = 0.5, lift = 1.0520833333333335, natoms = 11, height = 7)\n",
      "\u001b[34m▣\u001b[0m ⟨G⟩((\u001b[1mmax[\u001b[31mmfcc3\u001b[0m] \u001b[1m<\u001b[0m\u001b[0m 0.02108224501437627) ∧ ⟨G⟩((\u001b[1mmax[\u001b[31mmfcc13\u001b[0m] \u001b[1m≥\u001b[0m\u001b[0m 0.15322413941387783) ∧ (\u001b[1mmin[\u001b[31mmfcc7\u001b[0m] \u001b[1m<\u001b[0m\u001b[0m -0.28787600284298753) ∧ (\u001b[1mmax[\u001b[33mmel1=359Hz\u001b[0m] \u001b[1m≥\u001b[0m\u001b[0m 0.21398365746721937))) ∧ [G]((\u001b[1mmax[\u001b[31mmfcc3\u001b[0m] \u001b[1m<\u001b[0m\u001b[0m 0.02108224501437627) → (\u001b[1mmax[\u001b[36msprd\u001b[0m] \u001b[1m<\u001b[0m\u001b[0m 711.2412109356288)) ∧ [G]((\u001b[1mmax[\u001b[31mmfcc3\u001b[0m] \u001b[1m<\u001b[0m\u001b[0m 0.02108224501437627) → [D̅B̅E̅](\u001b[1mmax[\u001b[31mmfcc7\u001b[0m] \u001b[1m≥\u001b[0m\u001b[0m -0.5152085686365828)) ∧ [G]((\u001b[1mmax[\u001b[31mmfcc3\u001b[0m] \u001b[1m<\u001b[0m\u001b[0m 0.02108224501437627) → [G](\u001b[1mmax[\u001b[31mmfcc9\u001b[0m] \u001b[1m<\u001b[0m\u001b[0m 0.6113784530484502)) ∧ [G]((\u001b[1mmax[\u001b[31mmfcc3\u001b[0m] \u001b[1m<\u001b[0m\u001b[0m 0.02108224501437627) → [G]((\u001b[1mmax[\u001b[31mmfcc13\u001b[0m] \u001b[1m≥\u001b[0m\u001b[0m 0.15322413941387783) → [A̅O̅](\u001b[1mmax[\u001b[36mskwns\u001b[0m] \u001b[1m≥\u001b[0m\u001b[0m 1.502371047997501)))  ↣  Pneumonia : (ninstances = 101, ncovered = 2, coverage = 0.019801980198019802, confidence = 1.0, lift = 1.9056603773584906, natoms = 13, height = 9)\n",
      "\u001b[34m▣\u001b[0m ⟨G⟩((\u001b[1mmax[\u001b[31mmfcc3\u001b[0m] \u001b[1m<\u001b[0m\u001b[0m 0.02108224501437627) ∧ (\u001b[1mmax[\u001b[33mmel1=359Hz\u001b[0m] \u001b[1m≥\u001b[0m\u001b[0m 0.01780509809617218)) ∧ [G]((\u001b[1mmax[\u001b[31mmfcc3\u001b[0m] \u001b[1m<\u001b[0m\u001b[0m 0.02108224501437627) → (\u001b[1mmax[\u001b[36msprd\u001b[0m] \u001b[1m<\u001b[0m\u001b[0m 711.2412109356288)) ∧ [G]((\u001b[1mmax[\u001b[31mmfcc3\u001b[0m] \u001b[1m<\u001b[0m\u001b[0m 0.02108224501437627) → [D̅B̅E̅](\u001b[1mmax[\u001b[31mmfcc7\u001b[0m] \u001b[1m≥\u001b[0m\u001b[0m -0.5152085686365828)) ∧ [G]((\u001b[1mmax[\u001b[31mmfcc3\u001b[0m] \u001b[1m<\u001b[0m\u001b[0m 0.02108224501437627) → [G](\u001b[1mmax[\u001b[31mmfcc9\u001b[0m] \u001b[1m<\u001b[0m\u001b[0m 0.6113784530484502)) ∧ [G]((\u001b[1mmax[\u001b[31mmfcc3\u001b[0m] \u001b[1m<\u001b[0m\u001b[0m 0.02108224501437627) → [G](\u001b[1mmax[\u001b[31mmfcc13\u001b[0m] \u001b[1m<\u001b[0m\u001b[0m 0.15322413941387783))  ↣  Healthy : (ninstances = 101, ncovered = 2, coverage = 0.019801980198019802, confidence = 1.0, lift = 2.104166666666667, natoms = 10, height = 6)\n",
      "\u001b[34m▣\u001b[0m ⟨G⟩((\u001b[1mmax[\u001b[31mmfcc3\u001b[0m] \u001b[1m<\u001b[0m\u001b[0m 0.02108224501437627) ∧ ⟨G⟩(\u001b[1mmax[\u001b[31mmfcc13\u001b[0m] \u001b[1m≥\u001b[0m\u001b[0m 0.15322413941387783)) ∧ [G]((\u001b[1mmax[\u001b[31mmfcc3\u001b[0m] \u001b[1m<\u001b[0m\u001b[0m 0.02108224501437627) → (\u001b[1mmax[\u001b[36msprd\u001b[0m] \u001b[1m<\u001b[0m\u001b[0m 711.2412109356288)) ∧ [G]((\u001b[1mmax[\u001b[31mmfcc3\u001b[0m] \u001b[1m<\u001b[0m\u001b[0m 0.02108224501437627) → [D̅B̅E̅](\u001b[1mmax[\u001b[31mmfcc7\u001b[0m] \u001b[1m≥\u001b[0m\u001b[0m -0.5152085686365828)) ∧ [G]((\u001b[1mmax[\u001b[31mmfcc3\u001b[0m] \u001b[1m<\u001b[0m\u001b[0m 0.02108224501437627) → [G](\u001b[1mmax[\u001b[31mmfcc9\u001b[0m] \u001b[1m<\u001b[0m\u001b[0m 0.6113784530484502)) ∧ [G]((\u001b[1mmax[\u001b[31mmfcc3\u001b[0m] \u001b[1m<\u001b[0m\u001b[0m 0.02108224501437627) → [G]((\u001b[1mmax[\u001b[31mmfcc13\u001b[0m] \u001b[1m≥\u001b[0m\u001b[0m 0.15322413941387783) → [A̅O̅](\u001b[1mmax[\u001b[36mskwns\u001b[0m] \u001b[1m≥\u001b[0m\u001b[0m 1.502371047997501))) ∧ [G]((\u001b[1mmax[\u001b[31mmfcc3\u001b[0m] \u001b[1m<\u001b[0m\u001b[0m 0.02108224501437627) → [G]((\u001b[1mmax[\u001b[31mmfcc13\u001b[0m] \u001b[1m≥\u001b[0m\u001b[0m 0.15322413941387783) → (\u001b[1mmin[\u001b[31mmfcc7\u001b[0m] \u001b[1m≥\u001b[0m\u001b[0m -0.28787600284298753))) ∧ [G]((\u001b[1mmax[\u001b[31mmfcc3\u001b[0m] \u001b[1m<\u001b[0m\u001b[0m 0.02108224501437627) → [G]((\u001b[1mmax[\u001b[31mmfcc13\u001b[0m] \u001b[1m≥\u001b[0m\u001b[0m 0.15322413941387783) → (\u001b[1mmax[\u001b[33mmel1=359Hz\u001b[0m] \u001b[1m<\u001b[0m\u001b[0m 0.21218849154864677)))  ↣  Pneumonia : (ninstances = 101, ncovered = 3, coverage = 0.0297029702970297, confidence = 1.0, lift = 1.9056603773584906, natoms = 17, height = 9)\n",
      "\u001b[34m▣\u001b[0m ⟨G⟩(\u001b[1mmax[\u001b[31mmfcc2\u001b[0m] \u001b[1m<\u001b[0m\u001b[0m 2.0456837533901515) ∧ [G](\u001b[1mmax[\u001b[31mmfcc3\u001b[0m] \u001b[1m≥\u001b[0m\u001b[0m 0.02108224501437627)  ↣  Healthy : (ninstances = 101, ncovered = 3, coverage = 0.0297029702970297, confidence = 1.0, lift = 2.104166666666667, natoms = 2, height = 2)\n",
      "\u001b[34m▣\u001b[0m ⟨G⟩((\u001b[1mmax[\u001b[31mmfcc3\u001b[0m] \u001b[1m<\u001b[0m\u001b[0m 0.02108224501437627) ∧ ⟨G⟩(\u001b[1mmax[\u001b[31mmfcc9\u001b[0m] \u001b[1m≥\u001b[0m\u001b[0m 0.6113784530484502)) ∧ [G]((\u001b[1mmax[\u001b[31mmfcc3\u001b[0m] \u001b[1m<\u001b[0m\u001b[0m 0.02108224501437627) → (\u001b[1mmax[\u001b[36msprd\u001b[0m] \u001b[1m<\u001b[0m\u001b[0m 711.2412109356288)) ∧ [G]((\u001b[1mmax[\u001b[31mmfcc3\u001b[0m] \u001b[1m<\u001b[0m\u001b[0m 0.02108224501437627) → [D̅B̅E̅](\u001b[1mmax[\u001b[31mmfcc7\u001b[0m] \u001b[1m≥\u001b[0m\u001b[0m -0.5152085686365828))  ↣  Healthy : (ninstances = 101, ncovered = 4, coverage = 0.039603960396039604, confidence = 1.0, lift = 2.104166666666667, natoms = 6, height = 5)\n",
      "\u001b[34m▣\u001b[0m ⟨G⟩((\u001b[1mmax[\u001b[31mmfcc3\u001b[0m] \u001b[1m<\u001b[0m\u001b[0m 0.02108224501437627) ∧ ⟨D̅B̅E̅⟩(\u001b[1mmax[\u001b[31mmfcc7\u001b[0m] \u001b[1m<\u001b[0m\u001b[0m -0.5152085686365828)) ∧ [G]((\u001b[1mmax[\u001b[31mmfcc3\u001b[0m] \u001b[1m<\u001b[0m\u001b[0m 0.02108224501437627) → (\u001b[1mmax[\u001b[36msprd\u001b[0m] \u001b[1m<\u001b[0m\u001b[0m 711.2412109356288)) ∧ [G]((\u001b[1mmax[\u001b[31mmfcc3\u001b[0m] \u001b[1m<\u001b[0m\u001b[0m 0.02108224501437627) → [D̅B̅E̅]((\u001b[1mmax[\u001b[31mmfcc7\u001b[0m] \u001b[1m<\u001b[0m\u001b[0m -0.5152085686365828) → (\u001b[1m#47[\u001b[33mmel23=3037Hz\u001b[0m] \u001b[1m≥\u001b[0m\u001b[0m 2.4304048485858085e-8)))  ↣  Healthy : (ninstances = 101, ncovered = 6, coverage = 0.0594059405940594, confidence = 0.8333333333333334, lift = 1.7534722222222223, natoms = 7, height = 5)\n",
      "\u001b[34m▣\u001b[0m ⟨G⟩((\u001b[1mmax[\u001b[31mmfcc3\u001b[0m] \u001b[1m<\u001b[0m\u001b[0m 0.02108224501437627) ∧ ⟨G⟩((\u001b[1mmax[\u001b[31mmfcc13\u001b[0m] \u001b[1m≥\u001b[0m\u001b[0m 0.15322413941387783) ∧ ⟨A̅O̅⟩(\u001b[1mmax[\u001b[36mskwns\u001b[0m] \u001b[1m<\u001b[0m\u001b[0m 1.502371047997501))) ∧ [G]((\u001b[1mmax[\u001b[31mmfcc3\u001b[0m] \u001b[1m<\u001b[0m\u001b[0m 0.02108224501437627) → (\u001b[1mmax[\u001b[36msprd\u001b[0m] \u001b[1m<\u001b[0m\u001b[0m 711.2412109356288)) ∧ [G]((\u001b[1mmax[\u001b[31mmfcc3\u001b[0m] \u001b[1m<\u001b[0m\u001b[0m 0.02108224501437627) → [D̅B̅E̅](\u001b[1mmax[\u001b[31mmfcc7\u001b[0m] \u001b[1m≥\u001b[0m\u001b[0m -0.5152085686365828)) ∧ [G]((\u001b[1mmax[\u001b[31mmfcc3\u001b[0m] \u001b[1m<\u001b[0m\u001b[0m 0.02108224501437627) → [G](\u001b[1mmax[\u001b[31mmfcc9\u001b[0m] \u001b[1m<\u001b[0m\u001b[0m 0.6113784530484502))  ↣  Pneumonia : (ninstances = 101, ncovered = 10, coverage = 0.09900990099009901, confidence = 0.6, lift = 1.1433962264150943, natoms = 9, height = 8)\n",
      "\u001b[34m▣\u001b[0m ⟨G⟩((\u001b[1mmax[\u001b[31mmfcc3\u001b[0m] \u001b[1m<\u001b[0m\u001b[0m 0.02108224501437627) ∧ (\u001b[1mmax[\u001b[36msprd\u001b[0m] \u001b[1m≥\u001b[0m\u001b[0m 711.2412109356288))  ↣  Healthy : (ninstances = 101, ncovered = 26, coverage = 0.25742574257425743, confidence = 0.9615384615384616, lift = 2.0232371794871797, natoms = 2, height = 2)\n",
      "\u001b[34m▣\u001b[0m ⟨G⟩(\u001b[1mmax[\u001b[36mentrp\u001b[0m] \u001b[1m≥\u001b[0m\u001b[0m 0.6343648752658164) ∧ [G](\u001b[1mmax[\u001b[31mmfcc3\u001b[0m] \u001b[1m≥\u001b[0m\u001b[0m 0.02108224501437627) ∧ [G](\u001b[1mmax[\u001b[31mmfcc2\u001b[0m] \u001b[1m≥\u001b[0m\u001b[0m 2.0456837533901515) ∧ [G]((\u001b[1mmax[\u001b[36mentrp\u001b[0m] \u001b[1m≥\u001b[0m\u001b[0m 0.6343648752658164) → (\u001b[1m#49[\u001b[33mmel24=3257Hz\u001b[0m] \u001b[1m<\u001b[0m\u001b[0m 8.0))  ↣  Pneumonia : (ninstances = 101, ncovered = 35, coverage = 0.3465346534653465, confidence = 0.9428571428571428, lift = 1.796765498652291, natoms = 5, height = 4)\n"
     ]
    }
   ],
   "source": [
    "printmodel.(sort(interesting_rules, by = readmetrics); show_metrics = (; round_digits = nothing, additional_metrics = (; height = r->SoleLogics.height(antecedent(r)))), variable_names_map=variable_names);"
   ]
  },
  {
   "cell_type": "markdown",
   "metadata": {},
   "source": [
    "### Pretty table of rules and their metrics"
   ]
  },
  {
   "cell_type": "code",
   "execution_count": 24,
   "metadata": {},
   "outputs": [
    {
     "name": "stdout",
     "output_type": "stream",
     "text": [
      "┌───────────────────────────────────────────────────────────────────────────────────────────────────────────────────────────────────────────────────────────────────────────────────────────────────────────────────────────────────────────────────────────────────────────────────────────────────────────────────────────────────────────────────────────────────────────────────────────────────────────────────────────────────────────────────────────────────────────────────────────────────────────────────────────────────────────────────────────────────────────────────────────────────────────────────────────────────────────────────────────────────────────────────────┬────────────┬────────────┬──────────┬────────────┬────────────┬─────────┬────────┬────────┐\n",
      "│\u001b[33;1m                                                                                                                                                                                                                                                                                                                                                                                                                                                                                                                                                                                                                                                                            Antecedent \u001b[0m│\u001b[33;1m Consequent \u001b[0m│\u001b[33;1m ninstances \u001b[0m│\u001b[33;1m ncovered \u001b[0m│\u001b[33;1m   coverage \u001b[0m│\u001b[33;1m confidence \u001b[0m│\u001b[33;1m    lift \u001b[0m│\u001b[33;1m natoms \u001b[0m│\u001b[33;1m height \u001b[0m│\n",
      "├───────────────────────────────────────────────────────────────────────────────────────────────────────────────────────────────────────────────────────────────────────────────────────────────────────────────────────────────────────────────────────────────────────────────────────────────────────────────────────────────────────────────────────────────────────────────────────────────────────────────────────────────────────────────────────────────────────────────────────────────────────────────────────────────────────────────────────────────────────────────────────────────────────────────────────────────────────────────────────────────────────────────────────┼────────────┼────────────┼──────────┼────────────┼────────────┼─────────┼────────┼────────┤\n",
      "│                                                                                                                                                                                                                                                                                                                                                                                                                                                                                                                                                                                                                 ⟨G⟩(\u001b[1mmax[\u001b[31mmfcc3\u001b[0m] \u001b[1m<\u001b[0m\u001b[0m 0.02108224501437627 ∧ \u001b[1mmax[\u001b[36msprd\u001b[0m] \u001b[1m≥\u001b[0m\u001b[0m 711.2412109356288)\u001b[0m │    Healthy │        101 │       26 │   0.257426 │   0.961538 │ 2.02324 │      2 │      2 │\n",
      "│                                                                                                                                                                                                                                                                                                                                                                                                   ⟨G⟩(\u001b[1mmax[\u001b[31mmfcc3\u001b[0m] \u001b[1m<\u001b[0m\u001b[0m 0.02108224501437627 ∧ ⟨D̅B̅E̅⟩\u001b[1mmax[\u001b[31mmfcc7\u001b[0m] \u001b[1m<\u001b[0m\u001b[0m -0.5152085686365828) ∧ [G](\u001b[1mmax[\u001b[31mmfcc3\u001b[0m] \u001b[1m<\u001b[0m\u001b[0m 0.02108224501437627 → \u001b[1mmax[\u001b[36msprd\u001b[0m] \u001b[1m<\u001b[0m\u001b[0m 711.2412109356288) ∧ [G](\u001b[1mmax[\u001b[31mmfcc3\u001b[0m] \u001b[1m<\u001b[0m\u001b[0m 0.02108224501437627 → [D̅B̅E̅](\u001b[1mmax[\u001b[31mmfcc7\u001b[0m] \u001b[1m<\u001b[0m\u001b[0m -0.5152085686365828 → \u001b[1m#47[\u001b[33mmel23=3037Hz\u001b[0m] \u001b[1m≥\u001b[0m\u001b[0m 2.4304048485858085e-8))\u001b[0m │    Healthy │        101 │        6 │  0.0594059 │   0.833333 │ 1.75347 │      7 │      5 │\n",
      "│                                                                                                                                                                                                                                                                                                                                                                                                                                                    ⟨G⟩(\u001b[1mmax[\u001b[31mmfcc3\u001b[0m] \u001b[1m<\u001b[0m\u001b[0m 0.02108224501437627 ∧ ⟨G⟩\u001b[1mmax[\u001b[31mmfcc9\u001b[0m] \u001b[1m≥\u001b[0m\u001b[0m 0.6113784530484502) ∧ [G](\u001b[1mmax[\u001b[31mmfcc3\u001b[0m] \u001b[1m<\u001b[0m\u001b[0m 0.02108224501437627 → \u001b[1mmax[\u001b[36msprd\u001b[0m] \u001b[1m<\u001b[0m\u001b[0m 711.2412109356288) ∧ [G](\u001b[1mmax[\u001b[31mmfcc3\u001b[0m] \u001b[1m<\u001b[0m\u001b[0m 0.02108224501437627 → [D̅B̅E̅]\u001b[1mmax[\u001b[31mmfcc7\u001b[0m] \u001b[1m≥\u001b[0m\u001b[0m -0.5152085686365828)\u001b[0m │    Healthy │        101 │        4 │   0.039604 │        1.0 │ 2.10417 │      6 │      5 │\n",
      "│                                                                                                                                                                                                                                                                                                                              ⟨G⟩(\u001b[1mmax[\u001b[31mmfcc3\u001b[0m] \u001b[1m<\u001b[0m\u001b[0m 0.02108224501437627 ∧ ⟨G⟩(\u001b[1mmax[\u001b[31mmfcc13\u001b[0m] \u001b[1m≥\u001b[0m\u001b[0m 0.15322413941387783 ∧ ⟨A̅O̅⟩\u001b[1mmax[\u001b[36mskwns\u001b[0m] \u001b[1m<\u001b[0m\u001b[0m 1.502371047997501)) ∧ [G](\u001b[1mmax[\u001b[31mmfcc3\u001b[0m] \u001b[1m<\u001b[0m\u001b[0m 0.02108224501437627 → \u001b[1mmax[\u001b[36msprd\u001b[0m] \u001b[1m<\u001b[0m\u001b[0m 711.2412109356288) ∧ [G](\u001b[1mmax[\u001b[31mmfcc3\u001b[0m] \u001b[1m<\u001b[0m\u001b[0m 0.02108224501437627 → [D̅B̅E̅]\u001b[1mmax[\u001b[31mmfcc7\u001b[0m] \u001b[1m≥\u001b[0m\u001b[0m -0.5152085686365828) ∧ [G](\u001b[1mmax[\u001b[31mmfcc3\u001b[0m] \u001b[1m<\u001b[0m\u001b[0m 0.02108224501437627 → [G]\u001b[1mmax[\u001b[31mmfcc9\u001b[0m] \u001b[1m<\u001b[0m\u001b[0m 0.6113784530484502)\u001b[0m │  Pneumonia │        101 │       10 │  0.0990099 │        0.6 │  1.1434 │      9 │      8 │\n",
      "│                                                                                                                                                                 ⟨G⟩(\u001b[1mmax[\u001b[31mmfcc3\u001b[0m] \u001b[1m<\u001b[0m\u001b[0m 0.02108224501437627 ∧ ⟨G⟩(\u001b[1mmax[\u001b[31mmfcc13\u001b[0m] \u001b[1m≥\u001b[0m\u001b[0m 0.15322413941387783 ∧ \u001b[1mmin[\u001b[31mmfcc7\u001b[0m] \u001b[1m<\u001b[0m\u001b[0m -0.28787600284298753 ∧ \u001b[1mmax[\u001b[33mmel1=359Hz\u001b[0m] \u001b[1m≥\u001b[0m\u001b[0m 0.21398365746721937)) ∧ [G](\u001b[1mmax[\u001b[31mmfcc3\u001b[0m] \u001b[1m<\u001b[0m\u001b[0m 0.02108224501437627 → \u001b[1mmax[\u001b[36msprd\u001b[0m] \u001b[1m<\u001b[0m\u001b[0m 711.2412109356288) ∧ [G](\u001b[1mmax[\u001b[31mmfcc3\u001b[0m] \u001b[1m<\u001b[0m\u001b[0m 0.02108224501437627 → [D̅B̅E̅]\u001b[1mmax[\u001b[31mmfcc7\u001b[0m] \u001b[1m≥\u001b[0m\u001b[0m -0.5152085686365828) ∧ [G](\u001b[1mmax[\u001b[31mmfcc3\u001b[0m] \u001b[1m<\u001b[0m\u001b[0m 0.02108224501437627 → [G]\u001b[1mmax[\u001b[31mmfcc9\u001b[0m] \u001b[1m<\u001b[0m\u001b[0m 0.6113784530484502) ∧ [G](\u001b[1mmax[\u001b[31mmfcc3\u001b[0m] \u001b[1m<\u001b[0m\u001b[0m 0.02108224501437627 → [G](\u001b[1mmax[\u001b[31mmfcc13\u001b[0m] \u001b[1m≥\u001b[0m\u001b[0m 0.15322413941387783 → [A̅O̅]\u001b[1mmax[\u001b[36mskwns\u001b[0m] \u001b[1m≥\u001b[0m\u001b[0m 1.502371047997501))\u001b[0m │  Pneumonia │        101 │        2 │   0.019802 │        1.0 │ 1.90566 │     13 │      9 │\n",
      "│                                            ⟨G⟩(\u001b[1mmax[\u001b[31mmfcc3\u001b[0m] \u001b[1m<\u001b[0m\u001b[0m 0.02108224501437627 ∧ ⟨G⟩(\u001b[1mmax[\u001b[31mmfcc13\u001b[0m] \u001b[1m≥\u001b[0m\u001b[0m 0.15322413941387783 ∧ \u001b[1mmin[\u001b[31mmfcc7\u001b[0m] \u001b[1m<\u001b[0m\u001b[0m -0.28787600284298753)) ∧ [G](\u001b[1mmax[\u001b[31mmfcc3\u001b[0m] \u001b[1m<\u001b[0m\u001b[0m 0.02108224501437627 → \u001b[1mmax[\u001b[36msprd\u001b[0m] \u001b[1m<\u001b[0m\u001b[0m 711.2412109356288) ∧ [G](\u001b[1mmax[\u001b[31mmfcc3\u001b[0m] \u001b[1m<\u001b[0m\u001b[0m 0.02108224501437627 → [D̅B̅E̅]\u001b[1mmax[\u001b[31mmfcc7\u001b[0m] \u001b[1m≥\u001b[0m\u001b[0m -0.5152085686365828) ∧ [G](\u001b[1mmax[\u001b[31mmfcc3\u001b[0m] \u001b[1m<\u001b[0m\u001b[0m 0.02108224501437627 → [G]\u001b[1mmax[\u001b[31mmfcc9\u001b[0m] \u001b[1m<\u001b[0m\u001b[0m 0.6113784530484502) ∧ [G](\u001b[1mmax[\u001b[31mmfcc3\u001b[0m] \u001b[1m<\u001b[0m\u001b[0m 0.02108224501437627 → [G](\u001b[1mmax[\u001b[31mmfcc13\u001b[0m] \u001b[1m≥\u001b[0m\u001b[0m 0.15322413941387783 → [A̅O̅]\u001b[1mmax[\u001b[36mskwns\u001b[0m] \u001b[1m≥\u001b[0m\u001b[0m 1.502371047997501)) ∧ [G](\u001b[1mmax[\u001b[31mmfcc3\u001b[0m] \u001b[1m<\u001b[0m\u001b[0m 0.02108224501437627 → [G](\u001b[1mmax[\u001b[31mmfcc13\u001b[0m] \u001b[1m≥\u001b[0m\u001b[0m 0.15322413941387783 → \u001b[1mmin[\u001b[31mmfcc7\u001b[0m] \u001b[1m<\u001b[0m\u001b[0m -0.28787600284298753 → \u001b[1mmax[\u001b[33mmel1=359Hz\u001b[0m] \u001b[1m<\u001b[0m\u001b[0m 0.21398365746721937))\u001b[0m │    Healthy │        101 │        1 │ 0.00990099 │        1.0 │ 2.10417 │     16 │      9 │\n",
      "│ ⟨G⟩(\u001b[1mmax[\u001b[31mmfcc3\u001b[0m] \u001b[1m<\u001b[0m\u001b[0m 0.02108224501437627 ∧ ⟨G⟩\u001b[1mmax[\u001b[31mmfcc13\u001b[0m] \u001b[1m≥\u001b[0m\u001b[0m 0.15322413941387783) ∧ [G](\u001b[1mmax[\u001b[31mmfcc3\u001b[0m] \u001b[1m<\u001b[0m\u001b[0m 0.02108224501437627 → \u001b[1mmax[\u001b[36msprd\u001b[0m] \u001b[1m<\u001b[0m\u001b[0m 711.2412109356288) ∧ [G](\u001b[1mmax[\u001b[31mmfcc3\u001b[0m] \u001b[1m<\u001b[0m\u001b[0m 0.02108224501437627 → [D̅B̅E̅]\u001b[1mmax[\u001b[31mmfcc7\u001b[0m] \u001b[1m≥\u001b[0m\u001b[0m -0.5152085686365828) ∧ [G](\u001b[1mmax[\u001b[31mmfcc3\u001b[0m] \u001b[1m<\u001b[0m\u001b[0m 0.02108224501437627 → [G]\u001b[1mmax[\u001b[31mmfcc9\u001b[0m] \u001b[1m<\u001b[0m\u001b[0m 0.6113784530484502) ∧ [G](\u001b[1mmax[\u001b[31mmfcc3\u001b[0m] \u001b[1m<\u001b[0m\u001b[0m 0.02108224501437627 → [G](\u001b[1mmax[\u001b[31mmfcc13\u001b[0m] \u001b[1m≥\u001b[0m\u001b[0m 0.15322413941387783 → [A̅O̅]\u001b[1mmax[\u001b[36mskwns\u001b[0m] \u001b[1m≥\u001b[0m\u001b[0m 1.502371047997501)) ∧ [G](\u001b[1mmax[\u001b[31mmfcc3\u001b[0m] \u001b[1m<\u001b[0m\u001b[0m 0.02108224501437627 → [G](\u001b[1mmax[\u001b[31mmfcc13\u001b[0m] \u001b[1m≥\u001b[0m\u001b[0m 0.15322413941387783 → \u001b[1mmin[\u001b[31mmfcc7\u001b[0m] \u001b[1m≥\u001b[0m\u001b[0m -0.28787600284298753)) ∧ [G](\u001b[1mmax[\u001b[31mmfcc3\u001b[0m] \u001b[1m<\u001b[0m\u001b[0m 0.02108224501437627 → [G](\u001b[1mmax[\u001b[31mmfcc13\u001b[0m] \u001b[1m≥\u001b[0m\u001b[0m 0.15322413941387783 → \u001b[1mmax[\u001b[33mmel1=359Hz\u001b[0m] \u001b[1m<\u001b[0m\u001b[0m 0.21218849154864677))\u001b[0m │  Pneumonia │        101 │        3 │   0.029703 │        1.0 │ 1.90566 │     17 │      9 │\n",
      "│                                                                                                                                                                                                                                                                                     ⟨G⟩(\u001b[1mmax[\u001b[31mmfcc3\u001b[0m] \u001b[1m<\u001b[0m\u001b[0m 0.02108224501437627 ∧ \u001b[1mmax[\u001b[33mmel1=359Hz\u001b[0m] \u001b[1m≥\u001b[0m\u001b[0m 0.01780509809617218) ∧ [G](\u001b[1mmax[\u001b[31mmfcc3\u001b[0m] \u001b[1m<\u001b[0m\u001b[0m 0.02108224501437627 → \u001b[1mmax[\u001b[36msprd\u001b[0m] \u001b[1m<\u001b[0m\u001b[0m 711.2412109356288) ∧ [G](\u001b[1mmax[\u001b[31mmfcc3\u001b[0m] \u001b[1m<\u001b[0m\u001b[0m 0.02108224501437627 → [D̅B̅E̅]\u001b[1mmax[\u001b[31mmfcc7\u001b[0m] \u001b[1m≥\u001b[0m\u001b[0m -0.5152085686365828) ∧ [G](\u001b[1mmax[\u001b[31mmfcc3\u001b[0m] \u001b[1m<\u001b[0m\u001b[0m 0.02108224501437627 → [G]\u001b[1mmax[\u001b[31mmfcc9\u001b[0m] \u001b[1m<\u001b[0m\u001b[0m 0.6113784530484502) ∧ [G](\u001b[1mmax[\u001b[31mmfcc3\u001b[0m] \u001b[1m<\u001b[0m\u001b[0m 0.02108224501437627 → [G]\u001b[1mmax[\u001b[31mmfcc13\u001b[0m] \u001b[1m<\u001b[0m\u001b[0m 0.15322413941387783)\u001b[0m │    Healthy │        101 │        2 │   0.019802 │        1.0 │ 2.10417 │     10 │      6 │\n",
      "│                                                                                                                                                                                                                                               ⟨G⟩\u001b[1mmax[\u001b[31mmfcc3\u001b[0m] \u001b[1m<\u001b[0m\u001b[0m 0.02108224501437627 ∧ [G](\u001b[1mmax[\u001b[31mmfcc3\u001b[0m] \u001b[1m<\u001b[0m\u001b[0m 0.02108224501437627 → \u001b[1mmax[\u001b[36msprd\u001b[0m] \u001b[1m<\u001b[0m\u001b[0m 711.2412109356288) ∧ [G](\u001b[1mmax[\u001b[31mmfcc3\u001b[0m] \u001b[1m<\u001b[0m\u001b[0m 0.02108224501437627 → [D̅B̅E̅]\u001b[1mmax[\u001b[31mmfcc7\u001b[0m] \u001b[1m≥\u001b[0m\u001b[0m -0.5152085686365828) ∧ [G](\u001b[1mmax[\u001b[31mmfcc3\u001b[0m] \u001b[1m<\u001b[0m\u001b[0m 0.02108224501437627 → [G]\u001b[1mmax[\u001b[31mmfcc9\u001b[0m] \u001b[1m<\u001b[0m\u001b[0m 0.6113784530484502) ∧ [G](\u001b[1mmax[\u001b[31mmfcc3\u001b[0m] \u001b[1m<\u001b[0m\u001b[0m 0.02108224501437627 → [G]\u001b[1mmax[\u001b[31mmfcc13\u001b[0m] \u001b[1m<\u001b[0m\u001b[0m 0.15322413941387783) ∧ [G](\u001b[1mmax[\u001b[31mmfcc3\u001b[0m] \u001b[1m<\u001b[0m\u001b[0m 0.02108224501437627 → \u001b[1mmax[\u001b[33mmel1=359Hz\u001b[0m] \u001b[1m<\u001b[0m\u001b[0m 0.01780509809617218)\u001b[0m │    Healthy │        101 │        2 │   0.019802 │        0.5 │ 1.05208 │     11 │      7 │\n",
      "│                                                                                                                                                                                                                                                                                                                                                                                                                                                                                                                                                                                                              ⟨G⟩\u001b[1mmax[\u001b[31mmfcc2\u001b[0m] \u001b[1m<\u001b[0m\u001b[0m 2.0456837533901515 ∧ [G]\u001b[1mmax[\u001b[31mmfcc3\u001b[0m] \u001b[1m≥\u001b[0m\u001b[0m 0.02108224501437627\u001b[0m │    Healthy │        101 │        3 │   0.029703 │        1.0 │ 2.10417 │      2 │      2 │\n",
      "│                                                                                                                                                                                                                                                                                                                                                                                                                                                                                                        ⟨G⟩\u001b[1mmax[\u001b[36mentrp\u001b[0m] \u001b[1m≥\u001b[0m\u001b[0m 0.6343648752658164 ∧ [G]\u001b[1mmax[\u001b[31mmfcc3\u001b[0m] \u001b[1m≥\u001b[0m\u001b[0m 0.02108224501437627 ∧ [G]\u001b[1mmax[\u001b[31mmfcc2\u001b[0m] \u001b[1m≥\u001b[0m\u001b[0m 2.0456837533901515 ∧ [G](\u001b[1mmax[\u001b[36mentrp\u001b[0m] \u001b[1m≥\u001b[0m\u001b[0m 0.6343648752658164 → \u001b[1m#49[\u001b[33mmel24=3257Hz\u001b[0m] \u001b[1m<\u001b[0m\u001b[0m 8.0)\u001b[0m │  Pneumonia │        101 │       35 │   0.346535 │   0.942857 │ 1.79677 │      5 │      4 │\n",
      "│                                                                                                                                                                                                                                                                                                                                                                                                                                                                                                                              ⟨G⟩\u001b[1mmax[\u001b[33mmel2=421Hz\u001b[0m] \u001b[1m≥\u001b[0m\u001b[0m 0.10474932720736443 ∧ [G]\u001b[1mmax[\u001b[31mmfcc3\u001b[0m] \u001b[1m≥\u001b[0m\u001b[0m 0.02108224501437627 ∧ [G]\u001b[1mmax[\u001b[31mmfcc2\u001b[0m] \u001b[1m≥\u001b[0m\u001b[0m 2.0456837533901515 ∧ [G]\u001b[1mmax[\u001b[36mentrp\u001b[0m] \u001b[1m<\u001b[0m\u001b[0m 0.6343648752658164\u001b[0m │  Pneumonia │        101 │        1 │ 0.00990099 │        1.0 │ 1.90566 │      4 │      4 │\n",
      "└───────────────────────────────────────────────────────────────────────────────────────────────────────────────────────────────────────────────────────────────────────────────────────────────────────────────────────────────────────────────────────────────────────────────────────────────────────────────────────────────────────────────────────────────────────────────────────────────────────────────────────────────────────────────────────────────────────────────────────────────────────────────────────────────────────────────────────────────────────────────────────────────────────────────────────────────────────────────────────────────────────────────────────┴────────────┴────────────┴──────────┴────────────┴────────────┴─────────┴────────┴────────┘\n"
     ]
    }
   ],
   "source": [
    "metricstable(interesting_rules; variable_names_map=variable_names, metrics_kwargs = (; round_digits = nothing, additional_metrics = (; height = r->SoleLogics.height(antecedent(r)))))"
   ]
  }
 ],
 "metadata": {
  "kernelspec": {
   "display_name": "Julia 1.9.4",
   "language": "julia",
   "name": "julia-1.9"
  },
  "language_info": {
   "file_extension": ".jl",
   "mimetype": "application/julia",
   "name": "julia",
   "version": "1.9.4"
  }
 },
 "nbformat": 4,
 "nbformat_minor": 2
}
